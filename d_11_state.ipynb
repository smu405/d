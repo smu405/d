{
 "cells": [
  {
   "cell_type": "markdown",
   "metadata": {
    "slideshow": {
     "slide_type": "slide"
    }
   },
   "source": [
    "# State 패턴\n",
    "\n",
    "## S.1 소개\n",
    "\n",
    "* State 패턴은 Behavioral Design Pattern이다.\n",
    "* 상태를 저장하고, 변경될 때마다 갱신해서 상태에 맞는 함수가 호출되도록 한다. \"...allows an object to alter its behavior when its inernal state changes...\"\n",
    "* 동작이 필요한 기계는 Finite State Machine으로 설명할 수 있다.\n",
    "\n",
    "구분 | 설명\n",
    "-----|-----\n",
    "state | 시점에 따라 특정 상태에 있어야 한다. 처음에 가지게 되는 초기 state 또는 상황에 따라 여러 state 가운데 한 state를 가질 수 있다.\n",
    "transition | 외부 입력에 따라 가능한 state로 전환할 수 있다."
   ]
  },
  {
   "cell_type": "markdown",
   "metadata": {
    "slideshow": {
     "slide_type": "subslide"
    }
   },
   "source": [
    "* 예를 들어\n",
    "    * 게임캐릭터 - 걷는 경우, 뛰는 경우...\n",
    "    * 가전제품 - on, off, sleep...\n",
    "    * 지하철 개찰구 - 열림, 잠금...\n",
    "\n",
    "* strategy pattern과 비교\n",
    "\n",
    "구분 | 설명\n",
    "-----|-----\n",
    "state | state에 따라 context를 변경하여, 해당하는 기능을 수행할 수 있다.\n",
    "strategy | context가 고정되어 변경할 수 없다."
   ]
  },
  {
   "cell_type": "markdown",
   "metadata": {
    "slideshow": {
     "slide_type": "slide"
    }
   },
   "source": [
    "* 디자인패턴 요소\n",
    "\n",
    "요소 | 설명\n",
    "---|---\n",
    "name | state\n",
    "problem | state가 다수 있고, if문으로 state 통제.\n",
    "solution | state를 한 곳에서 관리\n",
    "consequence | 변경 최소화"
   ]
  },
  {
   "cell_type": "markdown",
   "metadata": {
    "slideshow": {
     "slide_type": "slide"
    }
   },
   "source": [
    "* 프로그래밍 과제\n",
    "    * case extension\n",
    "        * 동전을 잘 못 넣은 경우, 고장상태 구현\n",
    "    * new case\n",
    "        * 동영상 player\n",
    "            * 화면이 꺼져 있으면 재생중지\n",
    "            * 재생이 끝나면 화면 sleep\n",
    "            * 재생할 때는 화면sleep하지 않고"
   ]
  },
  {
   "cell_type": "markdown",
   "metadata": {
    "slideshow": {
     "slide_type": "slide"
    }
   },
   "source": [
    "## S.2 문제\n",
    "\n",
    "* 복잡한 상태의 변화가 있고, if문으로 그 변화를 관리하는 경우. 수정이 어렵다.\n",
    "* 함수마다 상태를 관리하게 된다. 그 결과, 함수 (4개) x 상태 (4개) 정도의 if문이 최소한 필요하다."
   ]
  },
  {
   "cell_type": "code",
   "execution_count": 1,
   "metadata": {
    "collapsed": true,
    "slideshow": {
     "slide_type": "slide"
    }
   },
   "outputs": [],
   "source": [
    "import iplantuml"
   ]
  },
  {
   "cell_type": "code",
   "execution_count": 2,
   "metadata": {
    "collapsed": false,
    "slideshow": {
     "slide_type": "subslide"
    }
   },
   "outputs": [
    {
     "data": {
      "image/svg+xml": [
       "<svg height=\"544px\" style=\"width:551px;height:544px;\" version=\"1.1\" viewBox=\"0 0 551 544\" width=\"551px\" xmlns=\"http://www.w3.org/2000/svg\" xmlns:xlink=\"http://www.w3.org/1999/xlink\"><defs><filter height=\"300%\" id=\"f1\" width=\"300%\" x=\"-1\" y=\"-1\"><feGaussianBlur result=\"blurOut\" stdDeviation=\"2.0\"/><feColorMatrix in=\"blurOut\" result=\"blurOut2\" type=\"matrix\" values=\"0 0 0 0 0 0 0 0 0 0 0 0 0 0 0 0 0 0 .4 0\"/><feOffset dx=\"4.0\" dy=\"4.0\" in=\"blurOut2\" result=\"blurOut3\"/><feBlend in=\"SourceGraphic\" in2=\"blurOut3\" mode=\"normal\"/></filter></defs><g><ellipse cx=\"322.826\" cy=\"18\" fill=\"#000000\" filter=\"url(#f1)\" rx=\"10\" ry=\"10\" style=\"stroke: none; stroke-width: 1.0;\"/><rect fill=\"#FEFECE\" filter=\"url(#f1)\" height=\"50\" rx=\"12.5\" ry=\"12.5\" style=\"stroke: #A80036; stroke-width: 1.5;\" width=\"50\" x=\"297.826\" y=\"89\"/><line style=\"stroke: #A80036; stroke-width: 1.5;\" x1=\"297.826\" x2=\"347.826\" y1=\"115.2969\" y2=\"115.2969\"/><text fill=\"#000000\" font-family=\"sans-serif\" font-size=\"14\" lengthAdjust=\"spacingAndGlyphs\" textLength=\"30\" x=\"307.826\" y=\"106.9951\">Sold</text><rect fill=\"#FEFECE\" filter=\"url(#f1)\" height=\"50\" rx=\"12.5\" ry=\"12.5\" style=\"stroke: #A80036; stroke-width: 1.5;\" width=\"91\" x=\"134.326\" y=\"343\"/><line style=\"stroke: #A80036; stroke-width: 1.5;\" x1=\"134.326\" x2=\"225.326\" y1=\"369.2969\" y2=\"369.2969\"/><text fill=\"#000000\" font-family=\"sans-serif\" font-size=\"14\" lengthAdjust=\"spacingAndGlyphs\" textLength=\"71\" x=\"144.326\" y=\"360.9951\">NoQuarter</text><rect fill=\"#FEFECE\" filter=\"url(#f1)\" height=\"50\" rx=\"12.5\" ry=\"12.5\" style=\"stroke: #A80036; stroke-width: 1.5;\" width=\"98\" x=\"142.826\" y=\"485\"/><line style=\"stroke: #A80036; stroke-width: 1.5;\" x1=\"142.826\" x2=\"240.826\" y1=\"511.2969\" y2=\"511.2969\"/><text fill=\"#000000\" font-family=\"sans-serif\" font-size=\"14\" lengthAdjust=\"spacingAndGlyphs\" textLength=\"78\" x=\"152.826\" y=\"502.9951\">HasQuarter</text><rect fill=\"#FEFECE\" filter=\"url(#f1)\" height=\"50\" rx=\"12.5\" ry=\"12.5\" style=\"stroke: #A80036; stroke-width: 1.5;\" width=\"75\" x=\"285.326\" y=\"216\"/><line style=\"stroke: #A80036; stroke-width: 1.5;\" x1=\"285.326\" x2=\"360.326\" y1=\"242.2969\" y2=\"242.2969\"/><text fill=\"#000000\" font-family=\"sans-serif\" font-size=\"14\" lengthAdjust=\"spacingAndGlyphs\" textLength=\"55\" x=\"295.326\" y=\"233.9951\">SoldOut</text><path d=\"M322.826,28.013 C322.826,40.698 322.826,64.409 322.826,83.57 \" fill=\"none\" style=\"stroke: #A80036; stroke-width: 1.0;\"/><polygon fill=\"#A80036\" points=\"322.826,88.84,326.826,79.84,322.826,83.84,318.826,79.84,322.826,88.84\" style=\"stroke: #A80036; stroke-width: 1.0;\"/><path d=\"M134.161,375.037 C73.9,384.947 -20.7347,408.399 13.8258,455 C41.9589,492.934 96.039,505.1497 137.239,508.6516 \" fill=\"none\" style=\"stroke: #A80036; stroke-width: 1.0;\"/><polygon fill=\"#A80036\" points=\"142.452,509.0545,133.7874,504.3721,137.4669,508.6688,133.1703,512.3483,142.452,509.0545\" style=\"stroke: #A80036; stroke-width: 1.0;\"/><text fill=\"#000000\" font-family=\"sans-serif\" font-size=\"13\" lengthAdjust=\"spacingAndGlyphs\" textLength=\"95\" x=\"33.8258\" y=\"436.0669\">insertQuarter()</text><text fill=\"#000000\" font-family=\"sans-serif\" font-size=\"13\" lengthAdjust=\"spacingAndGlyphs\" textLength=\"129\" x=\"18.8258\" y=\"451.1997\">You inserted a coin..</text><path d=\"M189.75,484.7787 C187.693,460.7835 184.541,424.006 182.343,398.362 \" fill=\"none\" style=\"stroke: #A80036; stroke-width: 1.0;\"/><polygon fill=\"#A80036\" points=\"181.889,393.067,178.6725,402.3758,182.3162,398.0487,186.6433,401.6924,181.889,393.067\" style=\"stroke: #A80036; stroke-width: 1.0;\"/><text fill=\"#000000\" font-family=\"sans-serif\" font-size=\"13\" lengthAdjust=\"spacingAndGlyphs\" textLength=\"90\" x=\"262.326\" y=\"436.0669\">ejectQuarter()</text><text fill=\"#000000\" font-family=\"sans-serif\" font-size=\"13\" lengthAdjust=\"spacingAndGlyphs\" textLength=\"237\" x=\"188.826\" y=\"451.1997\">ejects a coin and goes to 'no quarter'</text><path d=\"M285.103,256.592 C264.952,265.723 240.691,278.997 222.826,296 C210.353,307.872 200.155,324.13 192.826,338.093 \" fill=\"none\" style=\"stroke: #A80036; stroke-width: 1.0;\"/><polygon fill=\"#A80036\" points=\"190.452,342.73,198.1143,336.5422,192.7308,338.2795,190.9935,332.896,190.452,342.73\" style=\"stroke: #A80036; stroke-width: 1.0;\"/><text fill=\"#000000\" font-family=\"sans-serif\" font-size=\"13\" lengthAdjust=\"spacingAndGlyphs\" textLength=\"186\" x=\"223.826\" y=\"309.0669\">add some in case no candies</text><path d=\"M240.881,505.047 C304.012,498.8244 408.381,484.306 431.826,455 C511.407,355.524 479.685,277.436 412.826,169 C399.368,147.174 373.512,133.027 352.954,124.711 \" fill=\"none\" style=\"stroke: #A80036; stroke-width: 1.0;\"/><polygon fill=\"#A80036\" points=\"348.121,122.822,355.0477,129.8235,352.778,124.6419,357.9596,122.3723,348.121,122.822\" style=\"stroke: #A80036; stroke-width: 1.0;\"/><text fill=\"#000000\" font-family=\"sans-serif\" font-size=\"13\" lengthAdjust=\"spacingAndGlyphs\" textLength=\"73\" x=\"477.826\" y=\"309.0669\">turnCrank()</text><path d=\"M297.635,125.215 C265.178,139.893 210.054,170.315 185.826,216 C165.524,254.282 168.921,306.02 173.888,337.917 \" fill=\"none\" style=\"stroke: #A80036; stroke-width: 1.0;\"/><polygon fill=\"#A80036\" points=\"174.695,342.861,177.1923,333.334,173.8892,337.9264,169.2969,334.6233,174.695,342.861\" style=\"stroke: #A80036; stroke-width: 1.0;\"/><text fill=\"#000000\" font-family=\"sans-serif\" font-size=\"13\" lengthAdjust=\"spacingAndGlyphs\" textLength=\"80\" x=\"186.826\" y=\"245.5669\">releaseBall()</text><path d=\"M322.826,139.101 C322.826,159.593 322.826,189.076 322.826,210.884 \" fill=\"none\" style=\"stroke: #A80036; stroke-width: 1.0;\"/><polygon fill=\"#A80036\" points=\"322.826,215.973,326.826,206.973,322.826,210.973,318.826,206.973,322.826,215.973\" style=\"stroke: #A80036; stroke-width: 1.0;\"/><text fill=\"#000000\" font-family=\"sans-serif\" font-size=\"13\" lengthAdjust=\"spacingAndGlyphs\" textLength=\"80\" x=\"323.826\" y=\"182.0669\">releaseBall()</text></g></svg>"
      ],
      "text/plain": [
       "<IPython.core.display.SVG object>"
      ]
     },
     "execution_count": 2,
     "metadata": {},
     "output_type": "execute_result"
    }
   ],
   "source": [
    "%%plantuml\n",
    "@startuml\n",
    "[*] --> Sold\n",
    "NoQuarter --> HasQuarter:insertQuarter()\\n You inserted a coin..\n",
    "SoldOut --> NoQuarter: add some in case no candies\n",
    "HasQuarter --> Sold:turnCrank()\n",
    "HasQuarter --> NoQuarter:ejectQuarter()\\nejects a coin and goes to 'no quarter'\n",
    "Sold --> NoQuarter:releaseBall()\n",
    "Sold --> SoldOut:releaseBall()\n",
    "@enduml"
   ]
  },
  {
   "cell_type": "code",
   "execution_count": 3,
   "metadata": {
    "collapsed": false,
    "slideshow": {
     "slide_type": "slide"
    }
   },
   "outputs": [
    {
     "data": {
      "image/svg+xml": [
       "<svg height=\"570px\" style=\"width:420px;height:570px;\" version=\"1.1\" viewBox=\"0 0 420 570\" width=\"420px\" xmlns=\"http://www.w3.org/2000/svg\" xmlns:xlink=\"http://www.w3.org/1999/xlink\"><defs><filter height=\"300%\" id=\"f1\" width=\"300%\" x=\"-1\" y=\"-1\"><feGaussianBlur result=\"blurOut\" stdDeviation=\"2.0\"/><feColorMatrix in=\"blurOut\" result=\"blurOut2\" type=\"matrix\" values=\"0 0 0 0 0 0 0 0 0 0 0 0 0 0 0 0 0 0 .4 0\"/><feOffset dx=\"4.0\" dy=\"4.0\" in=\"blurOut2\" result=\"blurOut3\"/><feBlend in=\"SourceGraphic\" in2=\"blurOut3\" mode=\"normal\"/></filter></defs><g><rect fill=\"#FFFFFF\" filter=\"url(#f1)\" height=\"230.0781\" style=\"stroke: #000000; stroke-width: 2.0;\" width=\"333\" x=\"78.5\" y=\"113.5625\"/><rect fill=\"#FFFFFF\" height=\"56.9375\" style=\"stroke: none; stroke-width: 1.0;\" width=\"333\" x=\"78.5\" y=\"172.8281\"/><rect fill=\"#FFFFFF\" height=\"56.9375\" style=\"stroke: none; stroke-width: 1.0;\" width=\"333\" x=\"78.5\" y=\"229.7656\"/><rect fill=\"#FFFFFF\" height=\"56.9375\" style=\"stroke: none; stroke-width: 1.0;\" width=\"333\" x=\"78.5\" y=\"286.7031\"/><line style=\"stroke: #A80036; stroke-width: 1.0;\" x1=\"35\" x2=\"35\" y1=\"38.2969\" y2=\"379.7734\"/><line style=\"stroke: #A80036; stroke-width: 1.0; stroke-dasharray: 1.0,4.0;\" x1=\"35\" x2=\"35\" y1=\"379.7734\" y2=\"407.7734\"/><line style=\"stroke: #A80036; stroke-width: 1.0;\" x1=\"35\" x2=\"35\" y1=\"407.7734\" y2=\"436.9063\"/><line style=\"stroke: #A80036; stroke-width: 1.0; stroke-dasharray: 1.0,4.0;\" x1=\"35\" x2=\"35\" y1=\"436.9063\" y2=\"464.9063\"/><line style=\"stroke: #A80036; stroke-width: 1.0;\" x1=\"35\" x2=\"35\" y1=\"464.9063\" y2=\"494.0391\"/><line style=\"stroke: #A80036; stroke-width: 1.0; stroke-dasharray: 1.0,4.0;\" x1=\"35\" x2=\"35\" y1=\"494.0391\" y2=\"522.0391\"/><line style=\"stroke: #A80036; stroke-width: 1.0;\" x1=\"35\" x2=\"35\" y1=\"522.0391\" y2=\"532.0391\"/><line style=\"stroke: #A80036; stroke-width: 1.0;\" x1=\"154.5\" x2=\"154.5\" y1=\"38.2969\" y2=\"379.7734\"/><line style=\"stroke: #A80036; stroke-width: 1.0; stroke-dasharray: 1.0,4.0;\" x1=\"154.5\" x2=\"154.5\" y1=\"379.7734\" y2=\"407.7734\"/><line style=\"stroke: #A80036; stroke-width: 1.0;\" x1=\"154.5\" x2=\"154.5\" y1=\"407.7734\" y2=\"436.9063\"/><line style=\"stroke: #A80036; stroke-width: 1.0; stroke-dasharray: 1.0,4.0;\" x1=\"154.5\" x2=\"154.5\" y1=\"436.9063\" y2=\"464.9063\"/><line style=\"stroke: #A80036; stroke-width: 1.0;\" x1=\"154.5\" x2=\"154.5\" y1=\"464.9063\" y2=\"494.0391\"/><line style=\"stroke: #A80036; stroke-width: 1.0; stroke-dasharray: 1.0,4.0;\" x1=\"154.5\" x2=\"154.5\" y1=\"494.0391\" y2=\"522.0391\"/><line style=\"stroke: #A80036; stroke-width: 1.0;\" x1=\"154.5\" x2=\"154.5\" y1=\"522.0391\" y2=\"532.0391\"/><rect fill=\"#FEFECE\" filter=\"url(#f1)\" height=\"30.2969\" style=\"stroke: #A80036; stroke-width: 1.5;\" width=\"51\" x=\"8\" y=\"3\"/><text fill=\"#000000\" font-family=\"sans-serif\" font-size=\"14\" lengthAdjust=\"spacingAndGlyphs\" textLength=\"37\" x=\"15\" y=\"22.9951\">client</text><rect fill=\"#FEFECE\" filter=\"url(#f1)\" height=\"30.2969\" style=\"stroke: #A80036; stroke-width: 1.5;\" width=\"51\" x=\"8\" y=\"531.0391\"/><text fill=\"#000000\" font-family=\"sans-serif\" font-size=\"14\" lengthAdjust=\"spacingAndGlyphs\" textLength=\"37\" x=\"15\" y=\"551.0342\">client</text><rect fill=\"#FEFECE\" filter=\"url(#f1)\" height=\"30.2969\" style=\"stroke: #A80036; stroke-width: 1.5;\" width=\"128\" x=\"88.5\" y=\"3\"/><text fill=\"#000000\" font-family=\"sans-serif\" font-size=\"14\" lengthAdjust=\"spacingAndGlyphs\" textLength=\"114\" x=\"95.5\" y=\"22.9951\">GumballMachine</text><rect fill=\"#FEFECE\" filter=\"url(#f1)\" height=\"30.2969\" style=\"stroke: #A80036; stroke-width: 1.5;\" width=\"128\" x=\"88.5\" y=\"531.0391\"/><text fill=\"#000000\" font-family=\"sans-serif\" font-size=\"14\" lengthAdjust=\"spacingAndGlyphs\" textLength=\"114\" x=\"95.5\" y=\"551.0342\">GumballMachine</text><polygon fill=\"#A80036\" points=\"142.5,65.2969,152.5,69.2969,142.5,73.2969,146.5,69.2969\" style=\"stroke: #A80036; stroke-width: 1.0;\"/><line style=\"stroke: #A80036; stroke-width: 1.0;\" x1=\"35.5\" x2=\"148.5\" y1=\"69.2969\" y2=\"69.2969\"/><text fill=\"#000000\" font-family=\"sans-serif\" font-size=\"13\" lengthAdjust=\"spacingAndGlyphs\" textLength=\"43\" x=\"42.5\" y=\"64.3638\">new(5)</text><polygon fill=\"#A80036\" points=\"142.5,94.4297,152.5,98.4297,142.5,102.4297,146.5,98.4297\" style=\"stroke: #A80036; stroke-width: 1.0;\"/><line style=\"stroke: #A80036; stroke-width: 1.0;\" x1=\"35.5\" x2=\"148.5\" y1=\"98.4297\" y2=\"98.4297\"/><text fill=\"#000000\" font-family=\"sans-serif\" font-size=\"13\" lengthAdjust=\"spacingAndGlyphs\" textLength=\"95\" x=\"42.5\" y=\"93.4966\">insertQuarter()</text><rect fill=\"none\" height=\"230.0781\" style=\"stroke: #000000; stroke-width: 2.0;\" width=\"333\" x=\"78.5\" y=\"113.5625\"/><polygon fill=\"#EEEEEE\" points=\"78.5,113.5625,142.5,113.5625,142.5,120.5625,132.5,130.5625,78.5,130.5625,78.5,113.5625\" style=\"stroke: #000000; stroke-width: 2.0;\"/><text fill=\"#000000\" font-family=\"sans-serif\" font-size=\"13\" font-weight=\"bold\" lengthAdjust=\"spacingAndGlyphs\" textLength=\"19\" x=\"93.5\" y=\"126.6294\">alt</text><text fill=\"#000000\" font-family=\"sans-serif\" font-size=\"11\" font-weight=\"bold\" lengthAdjust=\"spacingAndGlyphs\" textLength=\"100\" x=\"157.5\" y=\"125.7729\">[HAS_QUARTER]</text><line style=\"stroke: #A80036; stroke-width: 1.0;\" x1=\"154.5\" x2=\"196.5\" y1=\"151.8281\" y2=\"151.8281\"/><line style=\"stroke: #A80036; stroke-width: 1.0;\" x1=\"196.5\" x2=\"196.5\" y1=\"151.8281\" y2=\"164.8281\"/><line style=\"stroke: #A80036; stroke-width: 1.0;\" x1=\"155.5\" x2=\"196.5\" y1=\"164.8281\" y2=\"164.8281\"/><polygon fill=\"#A80036\" points=\"165.5,160.8281,155.5,164.8281,165.5,168.8281,161.5,164.8281\" style=\"stroke: #A80036; stroke-width: 1.0;\"/><text fill=\"#000000\" font-family=\"sans-serif\" font-size=\"13\" lengthAdjust=\"spacingAndGlyphs\" textLength=\"216\" x=\"161.5\" y=\"146.7622\">you cannot insert another quarter</text><line style=\"stroke: #000000; stroke-width: 1.0; stroke-dasharray: 2.0,2.0;\" x1=\"78.5\" x2=\"411.5\" y1=\"173.8281\" y2=\"173.8281\"/><text fill=\"#000000\" font-family=\"sans-serif\" font-size=\"11\" font-weight=\"bold\" lengthAdjust=\"spacingAndGlyphs\" textLength=\"94\" x=\"83.5\" y=\"184.0386\">[NO_QUARTER]</text><line style=\"stroke: #A80036; stroke-width: 1.0;\" x1=\"154.5\" x2=\"196.5\" y1=\"208.7656\" y2=\"208.7656\"/><line style=\"stroke: #A80036; stroke-width: 1.0;\" x1=\"196.5\" x2=\"196.5\" y1=\"208.7656\" y2=\"221.7656\"/><line style=\"stroke: #A80036; stroke-width: 1.0;\" x1=\"155.5\" x2=\"196.5\" y1=\"221.7656\" y2=\"221.7656\"/><polygon fill=\"#A80036\" points=\"165.5,217.7656,155.5,221.7656,165.5,225.7656,161.5,221.7656\" style=\"stroke: #A80036; stroke-width: 1.0;\"/><text fill=\"#000000\" font-family=\"sans-serif\" font-size=\"13\" lengthAdjust=\"spacingAndGlyphs\" textLength=\"142\" x=\"161.5\" y=\"203.6997\">you inserted a quarter</text><line style=\"stroke: #000000; stroke-width: 1.0; stroke-dasharray: 2.0,2.0;\" x1=\"78.5\" x2=\"411.5\" y1=\"230.7656\" y2=\"230.7656\"/><text fill=\"#000000\" font-family=\"sans-serif\" font-size=\"11\" font-weight=\"bold\" lengthAdjust=\"spacingAndGlyphs\" textLength=\"77\" x=\"83.5\" y=\"240.9761\">[SOLD_OUT]</text><line style=\"stroke: #A80036; stroke-width: 1.0;\" x1=\"154.5\" x2=\"196.5\" y1=\"265.7031\" y2=\"265.7031\"/><line style=\"stroke: #A80036; stroke-width: 1.0;\" x1=\"196.5\" x2=\"196.5\" y1=\"265.7031\" y2=\"278.7031\"/><line style=\"stroke: #A80036; stroke-width: 1.0;\" x1=\"155.5\" x2=\"196.5\" y1=\"278.7031\" y2=\"278.7031\"/><polygon fill=\"#A80036\" points=\"165.5,274.7031,155.5,278.7031,165.5,282.7031,161.5,278.7031\" style=\"stroke: #A80036; stroke-width: 1.0;\"/><text fill=\"#000000\" font-family=\"sans-serif\" font-size=\"13\" lengthAdjust=\"spacingAndGlyphs\" textLength=\"238\" x=\"161.5\" y=\"260.6372\">you cannot insert a quarter. sold out!</text><line style=\"stroke: #000000; stroke-width: 1.0; stroke-dasharray: 2.0,2.0;\" x1=\"78.5\" x2=\"411.5\" y1=\"287.7031\" y2=\"287.7031\"/><text fill=\"#000000\" font-family=\"sans-serif\" font-size=\"11\" font-weight=\"bold\" lengthAdjust=\"spacingAndGlyphs\" textLength=\"44\" x=\"83.5\" y=\"297.9136\">[SOLD]</text><line style=\"stroke: #A80036; stroke-width: 1.0;\" x1=\"154.5\" x2=\"196.5\" y1=\"322.6406\" y2=\"322.6406\"/><line style=\"stroke: #A80036; stroke-width: 1.0;\" x1=\"196.5\" x2=\"196.5\" y1=\"322.6406\" y2=\"335.6406\"/><line style=\"stroke: #A80036; stroke-width: 1.0;\" x1=\"155.5\" x2=\"196.5\" y1=\"335.6406\" y2=\"335.6406\"/><polygon fill=\"#A80036\" points=\"165.5,331.6406,155.5,335.6406,165.5,339.6406,161.5,335.6406\" style=\"stroke: #A80036; stroke-width: 1.0;\"/><text fill=\"#000000\" font-family=\"sans-serif\" font-size=\"13\" lengthAdjust=\"spacingAndGlyphs\" textLength=\"171\" x=\"161.5\" y=\"317.5747\">wait! a gumball was given..</text><polygon fill=\"#A80036\" points=\"142.5,367.6406,152.5,371.6406,142.5,375.6406,146.5,371.6406\" style=\"stroke: #A80036; stroke-width: 1.0;\"/><line style=\"stroke: #A80036; stroke-width: 1.0;\" x1=\"35.5\" x2=\"148.5\" y1=\"371.6406\" y2=\"371.6406\"/><text fill=\"#000000\" font-family=\"sans-serif\" font-size=\"13\" lengthAdjust=\"spacingAndGlyphs\" textLength=\"90\" x=\"42.5\" y=\"366.7075\">ejectQuarter()</text><polygon fill=\"#A80036\" points=\"142.5,424.7734,152.5,428.7734,142.5,432.7734,146.5,428.7734\" style=\"stroke: #A80036; stroke-width: 1.0;\"/><line style=\"stroke: #A80036; stroke-width: 1.0;\" x1=\"35.5\" x2=\"148.5\" y1=\"428.7734\" y2=\"428.7734\"/><text fill=\"#000000\" font-family=\"sans-serif\" font-size=\"13\" lengthAdjust=\"spacingAndGlyphs\" textLength=\"73\" x=\"42.5\" y=\"423.8403\">turnCrank()</text><polygon fill=\"#A80036\" points=\"142.5,481.9063,152.5,485.9063,142.5,489.9063,146.5,485.9063\" style=\"stroke: #A80036; stroke-width: 1.0;\"/><line style=\"stroke: #A80036; stroke-width: 1.0;\" x1=\"35.5\" x2=\"148.5\" y1=\"485.9063\" y2=\"485.9063\"/><text fill=\"#000000\" font-family=\"sans-serif\" font-size=\"13\" lengthAdjust=\"spacingAndGlyphs\" textLength=\"67\" x=\"42.5\" y=\"480.9731\">dispense()</text></g></svg>"
      ],
      "text/plain": [
       "<IPython.core.display.SVG object>"
      ]
     },
     "execution_count": 3,
     "metadata": {},
     "output_type": "execute_result"
    }
   ],
   "source": [
    "%%plantuml\n",
    "@startuml\n",
    "client -> GumballMachine:new(5)\n",
    "client -> GumballMachine:insertQuarter()\n",
    "alt HAS_QUARTER\n",
    "GumballMachine -> GumballMachine:you cannot insert another quarter\n",
    "else NO_QUARTER\n",
    "GumballMachine -> GumballMachine:you inserted a quarter\n",
    "else SOLD_OUT\n",
    "GumballMachine -> GumballMachine:you cannot insert a quarter. sold out!\n",
    "else SOLD\n",
    "GumballMachine -> GumballMachine:wait! a gumball was given..\n",
    "end\n",
    "client -> GumballMachine:ejectQuarter()\n",
    "...\n",
    "client -> GumballMachine:turnCrank()\n",
    "...\n",
    "client -> GumballMachine:dispense()\n",
    "...\n",
    "@enduml"
   ]
  },
  {
   "cell_type": "code",
   "execution_count": null,
   "metadata": {
    "collapsed": true,
    "slideshow": {
     "slide_type": "slide"
    }
   },
   "outputs": [],
   "source": [
    "# %load ./src/headfirst/state/gumball/GumballMachine.java\n",
    "package headfirst.state.gumball;\n",
    "\n",
    "public class GumballMachine {\n",
    "    final static int SOLD_OUT = 0;\n",
    "    final static int NO_QUARTER = 1;\n",
    "    final static int HAS_QUARTER = 2;\n",
    "    final static int SOLD = 3;\n",
    "\n",
    "    int state = SOLD_OUT;\n",
    "    int count = 0;\n",
    "\n",
    "    public GumballMachine(int count) {\n",
    "        this.count = count;\n",
    "    \tif (count > 0) {\n",
    "            state = NO_QUARTER;\n",
    "    \t}\n",
    "    }\n",
    "    public void insertQuarter() {\n",
    "    \tif (state == HAS_QUARTER) {\n",
    "            System.out.println(\"You can't insert another quarter\");\n",
    "    \t} else if (state == NO_QUARTER) {\n",
    "            state = HAS_QUARTER;\n",
    "            System.out.println(\"You inserted a quarter\");\n",
    "    \t} else if (state == SOLD_OUT) {\n",
    "            System.out.println(\"You can't insert a quarter, the machine is sold out\");\n",
    "    \t} else if (state == SOLD) {\n",
    "            System.out.println(\"Please wait, we're already giving you a gumball\");\n",
    "    \t}\n",
    "    }\n",
    "    public void ejectQuarter() {\n",
    "    \tif (state == HAS_QUARTER) {\n",
    "            System.out.println(\"Quarter returned\");\n",
    "            state = NO_QUARTER;\n",
    "    \t} else if (state == NO_QUARTER) {\n",
    "            System.out.println(\"You haven't inserted a quarter\");\n",
    "    \t} else if (state == SOLD) {\n",
    "            System.out.println(\"Sorry, you already turned the crank\");\n",
    "    \t} else if (state == SOLD_OUT) {\n",
    "            System.out.println(\"You can't eject, you haven't inserted a quarter yet\");\n",
    "    \t}\n",
    "    }\n",
    "    public void turnCrank() {\n",
    "    \tif (state == SOLD) {\n",
    "            System.out.println(\"Turning twice doesn't get you another gumball!\");\n",
    "    \t} else if (state == NO_QUARTER) {\n",
    "            System.out.println(\"You turned but there's no quarter\");\n",
    "    \t} else if (state == SOLD_OUT) {\n",
    "            System.out.println(\"You turned, but there are no gumballs\");\n",
    "    \t} else if (state == HAS_QUARTER) {\n",
    "            System.out.println(\"You turned...\");\n",
    "            state = SOLD;\n",
    "            dispense();\n",
    "    \t}\n",
    "    }\n",
    "    public void dispense() {\n",
    "    \tif (state == SOLD) {\n",
    "            System.out.println(\"A gumball comes rolling out the slot\");\n",
    "            count = count - 1;\n",
    "            if (count == 0) {\n",
    "                System.out.println(\"Oops, out of gumballs!\");\n",
    "                state = SOLD_OUT;\n",
    "            } else {\n",
    "                state = NO_QUARTER;\n",
    "            }\n",
    "    \t} else if (state == NO_QUARTER) {\n",
    "            System.out.println(\"You need to pay first\");\n",
    "    \t} else if (state == SOLD_OUT) {\n",
    "            System.out.println(\"No gumball dispensed\");\n",
    "    \t} else if (state == HAS_QUARTER) {\n",
    "            System.out.println(\"No gumball dispensed\");\n",
    "    \t}\n",
    "    }\n",
    "    public void refill(int numGumBalls) {\n",
    "    \tthis.count = numGumBalls;\n",
    "    \tstate = NO_QUARTER;\n",
    "    }\n",
    "    public String toString() {\n",
    "    \tStringBuffer result = new StringBuffer();\n",
    "    \tresult.append(\"\\nMighty Gumball, Inc.\");\n",
    "    \tresult.append(\"\\nJava-enabled Standing Gumball Model #2004\\n\");\n",
    "    \tresult.append(\"Inventory: \" + count + \" gumball\");\n",
    "    \tif (count != 1) {\n",
    "            result.append(\"s\");\n",
    "    \t}\n",
    "    \tresult.append(\"\\nMachine is \");\n",
    "    \tif (state == SOLD_OUT) {\n",
    "            result.append(\"sold out\");\n",
    "    \t} else if (state == NO_QUARTER) {\n",
    "            result.append(\"waiting for quarter\");\n",
    "    \t} else if (state == HAS_QUARTER) {\n",
    "            result.append(\"waiting for turn of crank\");\n",
    "    \t} else if (state == SOLD) {\n",
    "            result.append(\"delivering a gumball\");\n",
    "    \t}\n",
    "    \tresult.append(\"\\n\");\n",
    "    \treturn result.toString();\n",
    "    }\n",
    "}\n"
   ]
  },
  {
   "cell_type": "code",
   "execution_count": null,
   "metadata": {
    "collapsed": true,
    "slideshow": {
     "slide_type": "slide"
    }
   },
   "outputs": [],
   "source": [
    "# %load ./src/headfirst/state/gumball/GumballMachineTestDrive.java\n",
    "package headfirst.state.gumball;\n",
    "\n",
    "public class GumballMachineTestDrive {\n",
    "    public static void main(String[] args) {\n",
    "    \tGumballMachine gumballMachine = new GumballMachine(5);\n",
    "\n",
    "    \tSystem.out.println(gumballMachine);\n",
    "\n",
    "    \tgumballMachine.insertQuarter();\n",
    "    \tgumballMachine.turnCrank();\n",
    "\n",
    "    \tSystem.out.println(gumballMachine);\n",
    "\n",
    "    \tgumballMachine.insertQuarter();\n",
    "    \tgumballMachine.ejectQuarter();\n",
    "    \tgumballMachine.turnCrank();\n",
    "\n",
    "    \tSystem.out.println(gumballMachine);\n",
    "\n",
    "    \tgumballMachine.insertQuarter();\n",
    "    \tgumballMachine.turnCrank();\n",
    "    \tgumballMachine.insertQuarter();\n",
    "    \tgumballMachine.turnCrank();\n",
    "    \tgumballMachine.ejectQuarter();\n",
    "\n",
    "    \tSystem.out.println(gumballMachine);\n",
    "\n",
    "    \tgumballMachine.insertQuarter();\n",
    "    \tgumballMachine.insertQuarter();\n",
    "    \tgumballMachine.turnCrank();\n",
    "    \tgumballMachine.insertQuarter();\n",
    "    \tgumballMachine.turnCrank();\n",
    "    \tgumballMachine.insertQuarter();\n",
    "    \tgumballMachine.turnCrank();\n",
    "\n",
    "    \tSystem.out.println(gumballMachine);\n",
    "    }\n",
    "}"
   ]
  },
  {
   "cell_type": "code",
   "execution_count": 13,
   "metadata": {
    "collapsed": false,
    "slideshow": {
     "slide_type": "slide"
    }
   },
   "outputs": [
    {
     "name": "stdout",
     "output_type": "stream",
     "text": [
      "\r\n",
      "Mighty Gumball, Inc.\r\n",
      "Java-enabled Standing Gumball Model #2004\r\n",
      "Inventory: 5 gumballs\r\n",
      "Machine is waiting for quarter\r\n",
      "\r\n",
      "You inserted a quarter\r\n",
      "You turned...\r\n",
      "A gumball comes rolling out the slot\r\n",
      "\r\n",
      "Mighty Gumball, Inc.\r\n",
      "Java-enabled Standing Gumball Model #2004\r\n",
      "Inventory: 4 gumballs\r\n",
      "Machine is waiting for quarter\r\n",
      "\r\n",
      "You inserted a quarter\r\n",
      "Quarter returned\r\n",
      "You turned but there's no quarter\r\n",
      "\r\n",
      "Mighty Gumball, Inc.\r\n",
      "Java-enabled Standing Gumball Model #2004\r\n",
      "Inventory: 4 gumballs\r\n",
      "Machine is waiting for quarter\r\n",
      "\r\n",
      "You inserted a quarter\r\n",
      "You turned...\r\n",
      "A gumball comes rolling out the slot\r\n",
      "You inserted a quarter\r\n",
      "You turned...\r\n",
      "A gumball comes rolling out the slot\r\n",
      "You haven't inserted a quarter\r\n",
      "\r\n",
      "Mighty Gumball, Inc.\r\n",
      "Java-enabled Standing Gumball Model #2004\r\n",
      "Inventory: 2 gumballs\r\n",
      "Machine is waiting for quarter\r\n",
      "\r\n",
      "You inserted a quarter\r\n",
      "You can't insert another quarter\r\n",
      "You turned...\r\n",
      "A gumball comes rolling out the slot\r\n",
      "You inserted a quarter\r\n",
      "You turned...\r\n",
      "A gumball comes rolling out the slot\r\n",
      "Oops, out of gumballs!\r\n",
      "You can't insert a quarter, the machine is sold out\r\n",
      "You turned, but there are no gumballs\r\n",
      "\r\n",
      "Mighty Gumball, Inc.\r\n",
      "Java-enabled Standing Gumball Model #2004\r\n",
      "Inventory: 0 gumballs\r\n",
      "Machine is sold out\r\n",
      "\r\n"
     ]
    }
   ],
   "source": [
    "!javac -d classes/ -sourcepath src/ src/headfirst/state/gumball/*.java\n",
    "!java -cp classes/ headfirst.state.gumball.GumballMachineTestDrive"
   ]
  },
  {
   "cell_type": "markdown",
   "metadata": {
    "slideshow": {
     "slide_type": "slide"
    }
   },
   "source": [
    "## S.3 설계\n",
    "\n",
    "* 변경요구가 있을 때마다 수정이 쉽도록 state를 인터페이스로 구현\n",
    "* gumball machine의 모든 상태를 state로 구현\n",
    "* if문이 없어지고, polymorphic method call"
   ]
  },
  {
   "cell_type": "code",
   "execution_count": 32,
   "metadata": {
    "collapsed": false,
    "slideshow": {
     "slide_type": "slide"
    }
   },
   "outputs": [
    {
     "data": {
      "image/svg+xml": [
       "<svg height=\"212px\" style=\"width:292px;height:212px;\" version=\"1.1\" viewBox=\"0 0 292 212\" width=\"292px\" xmlns=\"http://www.w3.org/2000/svg\" xmlns:xlink=\"http://www.w3.org/1999/xlink\"><defs><filter height=\"300%\" id=\"f1\" width=\"300%\" x=\"-1\" y=\"-1\"><feGaussianBlur result=\"blurOut\" stdDeviation=\"2.0\"/><feColorMatrix in=\"blurOut\" result=\"blurOut2\" type=\"matrix\" values=\"0 0 0 0 0 0 0 0 0 0 0 0 0 0 0 0 0 0 .4 0\"/><feOffset dx=\"4.0\" dy=\"4.0\" in=\"blurOut2\" result=\"blurOut3\"/><feBlend in=\"SourceGraphic\" in2=\"blurOut3\" mode=\"normal\"/></filter></defs><g><rect fill=\"#FEFECE\" filter=\"url(#f1)\" height=\"60.9551\" style=\"stroke: #A80036; stroke-width: 1.5;\" width=\"83\" x=\"169.5\" y=\"21\"/><ellipse cx=\"194.85\" cy=\"37\" fill=\"#B4A7E5\" rx=\"11\" ry=\"11\" style=\"stroke: #A80036; stroke-width: 1.0;\"/><path d=\"M190.7777,32.7651 L190.7777,30.6069 L198.1571,30.6069 L198.1571,32.7651 L195.6918,32.7651 L195.6918,40.8418 L198.1571,40.8418 L198.1571,43 L190.7777,43 L190.7777,40.8418 L193.2431,40.8418 L193.2431,32.7651 Z \"/><text fill=\"#000000\" font-family=\"sans-serif\" font-size=\"12\" font-style=\"italic\" lengthAdjust=\"spacingAndGlyphs\" textLength=\"28\" x=\"211.15\" y=\"41.5352\">State</text><line style=\"stroke: #A80036; stroke-width: 1.5;\" x1=\"170.5\" x2=\"251.5\" y1=\"53\" y2=\"53\"/><line style=\"stroke: #A80036; stroke-width: 1.5;\" x1=\"170.5\" x2=\"251.5\" y1=\"61\" y2=\"61\"/><ellipse cx=\"180.5\" cy=\"72.9775\" fill=\"#84BE84\" rx=\"3\" ry=\"3\" style=\"stroke: #038048; stroke-width: 1.0;\"/><text fill=\"#000000\" font-family=\"sans-serif\" font-size=\"11\" lengthAdjust=\"spacingAndGlyphs\" textLength=\"57\" x=\"189.5\" y=\"75.6348\">doAction()</text><rect fill=\"#FEFECE\" filter=\"url(#f1)\" height=\"86.8652\" style=\"stroke: #A80036; stroke-width: 1.5;\" width=\"128\" x=\"6\" y=\"8\"/><ellipse cx=\"44.4\" cy=\"24\" fill=\"#ADD1B2\" rx=\"11\" ry=\"11\" style=\"stroke: #A80036; stroke-width: 1.0;\"/><path d=\"M47.3731,29.6431 Q46.7921,29.9419 46.1529,30.0913 Q45.5138,30.2407 44.8082,30.2407 Q42.3014,30.2407 40.9815,28.5889 Q39.6617,26.937 39.6617,23.8159 Q39.6617,20.6865 40.9815,19.0347 Q42.3014,17.3828 44.8082,17.3828 Q45.5138,17.3828 46.1612,17.5322 Q46.8087,17.6816 47.3731,17.9805 L47.3731,20.7031 Q46.7423,20.1221 46.1488,19.8523 Q45.5553,19.5825 44.9244,19.5825 Q43.5797,19.5825 42.8949,20.6492 Q42.2101,21.7158 42.2101,23.8159 Q42.2101,25.9077 42.8949,26.9744 Q43.5797,28.041 44.9244,28.041 Q45.5553,28.041 46.1488,27.7712 Q46.7423,27.5015 47.3731,26.9204 Z \"/><text fill=\"#000000\" font-family=\"sans-serif\" font-size=\"12\" lengthAdjust=\"spacingAndGlyphs\" textLength=\"44\" x=\"63.6\" y=\"28.5352\">Context</text><line style=\"stroke: #A80036; stroke-width: 1.5;\" x1=\"7\" x2=\"133\" y1=\"40\" y2=\"40\"/><rect fill=\"none\" height=\"6\" style=\"stroke: #C82930; stroke-width: 1.0;\" width=\"6\" x=\"14\" y=\"48.9775\"/><text fill=\"#000000\" font-family=\"sans-serif\" font-size=\"11\" lengthAdjust=\"spacingAndGlyphs\" textLength=\"55\" x=\"26\" y=\"54.6348\">state:State</text><line style=\"stroke: #A80036; stroke-width: 1.5;\" x1=\"7\" x2=\"133\" y1=\"60.9551\" y2=\"60.9551\"/><ellipse cx=\"17\" cy=\"72.9326\" fill=\"#84BE84\" rx=\"3\" ry=\"3\" style=\"stroke: #038048; stroke-width: 1.0;\"/><text fill=\"#000000\" font-family=\"sans-serif\" font-size=\"11\" lengthAdjust=\"spacingAndGlyphs\" textLength=\"102\" x=\"26\" y=\"75.5898\">setState(State):void</text><ellipse cx=\"17\" cy=\"85.8877\" fill=\"#84BE84\" rx=\"3\" ry=\"3\" style=\"stroke: #038048; stroke-width: 1.0;\"/><text fill=\"#000000\" font-family=\"sans-serif\" font-size=\"11\" lengthAdjust=\"spacingAndGlyphs\" textLength=\"80\" x=\"26\" y=\"88.5449\">getState():State</text><rect fill=\"#FEFECE\" filter=\"url(#f1)\" height=\"48\" style=\"stroke: #A80036; stroke-width: 1.5;\" width=\"119\" x=\"10.5\" y=\"155\"/><ellipse cx=\"25.5\" cy=\"171\" fill=\"#ADD1B2\" rx=\"11\" ry=\"11\" style=\"stroke: #A80036; stroke-width: 1.0;\"/><path d=\"M28.4731,176.6431 Q27.8921,176.9419 27.2529,177.0913 Q26.6138,177.2407 25.9082,177.2407 Q23.4014,177.2407 22.0815,175.5889 Q20.7617,173.937 20.7617,170.8159 Q20.7617,167.6865 22.0815,166.0347 Q23.4014,164.3828 25.9082,164.3828 Q26.6138,164.3828 27.2612,164.5322 Q27.9087,164.6816 28.4731,164.9805 L28.4731,167.7031 Q27.8423,167.1221 27.2488,166.8523 Q26.6553,166.5825 26.0244,166.5825 Q24.6797,166.5825 23.9949,167.6492 Q23.3101,168.7158 23.3101,170.8159 Q23.3101,172.9077 23.9949,173.9744 Q24.6797,175.041 26.0244,175.041 Q26.6553,175.041 27.2488,174.7712 Q27.8423,174.5015 28.4731,173.9204 Z \"/><text fill=\"#000000\" font-family=\"sans-serif\" font-size=\"12\" lengthAdjust=\"spacingAndGlyphs\" textLength=\"87\" x=\"39.5\" y=\"175.5352\">ConcreteStateA</text><line style=\"stroke: #A80036; stroke-width: 1.5;\" x1=\"11.5\" x2=\"128.5\" y1=\"187\" y2=\"187\"/><line style=\"stroke: #A80036; stroke-width: 1.5;\" x1=\"11.5\" x2=\"128.5\" y1=\"195\" y2=\"195\"/><rect fill=\"#FEFECE\" filter=\"url(#f1)\" height=\"48\" style=\"stroke: #A80036; stroke-width: 1.5;\" width=\"118\" x=\"165\" y=\"155\"/><ellipse cx=\"180\" cy=\"171\" fill=\"#ADD1B2\" rx=\"11\" ry=\"11\" style=\"stroke: #A80036; stroke-width: 1.0;\"/><path d=\"M182.9731,176.6431 Q182.3921,176.9419 181.7529,177.0913 Q181.1138,177.2407 180.4082,177.2407 Q177.9014,177.2407 176.5815,175.5889 Q175.2617,173.937 175.2617,170.8159 Q175.2617,167.6865 176.5815,166.0347 Q177.9014,164.3828 180.4082,164.3828 Q181.1138,164.3828 181.7612,164.5322 Q182.4087,164.6816 182.9731,164.9805 L182.9731,167.7031 Q182.3423,167.1221 181.7488,166.8523 Q181.1553,166.5825 180.5244,166.5825 Q179.1797,166.5825 178.4949,167.6492 Q177.8101,168.7158 177.8101,170.8159 Q177.8101,172.9077 178.4949,173.9744 Q179.1797,175.041 180.5244,175.041 Q181.1553,175.041 181.7488,174.7712 Q182.3423,174.5015 182.9731,173.9204 Z \"/><text fill=\"#000000\" font-family=\"sans-serif\" font-size=\"12\" lengthAdjust=\"spacingAndGlyphs\" textLength=\"86\" x=\"194\" y=\"175.5352\">ConcreteStateB</text><line style=\"stroke: #A80036; stroke-width: 1.5;\" x1=\"166\" x2=\"282\" y1=\"187\" y2=\"187\"/><line style=\"stroke: #A80036; stroke-width: 1.5;\" x1=\"166\" x2=\"282\" y1=\"195\" y2=\"195\"/><path d=\"M162.461,95.703 C140.206,115.5121 114.707,138.2078 96.1313,154.7412 \" fill=\"none\" style=\"stroke: #A80036; stroke-width: 1.0; stroke-dasharray: 7.0,7.0;\"/><polygon fill=\"none\" points=\"157.992,90.31,177.585,82.242,167.3,100.768,157.992,90.31\" style=\"stroke: #A80036; stroke-width: 1.0;\"/><path d=\"M216.169,102.401 C218.042,120.4795 220.068,140.0449 221.591,154.7412 \" fill=\"none\" style=\"stroke: #A80036; stroke-width: 1.0; stroke-dasharray: 7.0,7.0;\"/><polygon fill=\"none\" points=\"209.179,102.857,214.081,82.242,223.104,101.414,209.179,102.857\" style=\"stroke: #A80036; stroke-width: 1.0;\"/><path d=\"M134.166,51.5 C144.134,51.5 154.101,51.5 164.069,51.5 \" fill=\"none\" style=\"stroke: #A80036; stroke-width: 1.0;\"/><polygon fill=\"#A80036\" points=\"169.282,51.5,160.282,47.5,164.282,51.5,160.282,55.5,169.282,51.5\" style=\"stroke: #A80036; stroke-width: 1.0;\"/><path d=\"M70,154.7115 C70,139.5084 70,119.104 70,100.525 \" fill=\"none\" style=\"stroke: #A80036; stroke-width: 1.0; stroke-dasharray: 7.0,7.0;\"/><polygon fill=\"#A80036\" points=\"70,95.339,66,104.339,70,100.339,74,104.339,70,95.339\" style=\"stroke: #A80036; stroke-width: 1.0;\"/></g></svg>"
      ],
      "text/plain": [
       "<IPython.core.display.SVG object>"
      ]
     },
     "execution_count": 32,
     "metadata": {},
     "output_type": "execute_result"
    }
   ],
   "source": [
    "%%plantuml\n",
    "@startuml\n",
    "interface State {\n",
    "    +doAction()\n",
    "}\n",
    "class Context {\n",
    "    -state:State\n",
    "    +setState(State):void\n",
    "    +getState():State\n",
    "}\n",
    "State <|.. ConcreteStateA\n",
    "State <|.. ConcreteStateB\n",
    "Context -right-> State\n",
    "ConcreteStateA ..> Context\n",
    "@enduml"
   ]
  },
  {
   "cell_type": "markdown",
   "metadata": {
    "slideshow": {
     "slide_type": "slide"
    }
   },
   "source": [
    "## S.4 Case Implementation\n",
    "\n",
    "\n",
    "* Gumball\n",
    "* Gumball Winner\n"
   ]
  },
  {
   "cell_type": "markdown",
   "metadata": {
    "slideshow": {
     "slide_type": "slide"
    }
   },
   "source": [
    "### S.4.1 Gumball\n",
    "\n",
    "* gumballstate package\n"
   ]
  },
  {
   "cell_type": "code",
   "execution_count": 38,
   "metadata": {
    "collapsed": false
   },
   "outputs": [
    {
     "data": {
      "image/svg+xml": [
       "<svg height=\"277px\" style=\"width:461px;height:277px;\" version=\"1.1\" viewBox=\"0 0 461 277\" width=\"461px\" xmlns=\"http://www.w3.org/2000/svg\" xmlns:xlink=\"http://www.w3.org/1999/xlink\"><defs><filter height=\"300%\" id=\"f1\" width=\"300%\" x=\"-1\" y=\"-1\"><feGaussianBlur result=\"blurOut\" stdDeviation=\"2.0\"/><feColorMatrix in=\"blurOut\" result=\"blurOut2\" type=\"matrix\" values=\"0 0 0 0 0 0 0 0 0 0 0 0 0 0 0 0 0 0 .4 0\"/><feOffset dx=\"4.0\" dy=\"4.0\" in=\"blurOut2\" result=\"blurOut3\"/><feBlend in=\"SourceGraphic\" in2=\"blurOut3\" mode=\"normal\"/></filter></defs><g><rect fill=\"#FEFECE\" filter=\"url(#f1)\" height=\"151.6406\" style=\"stroke: #A80036; stroke-width: 1.5;\" width=\"136\" x=\"6\" y=\"8\"/><ellipse cx=\"25.05\" cy=\"24\" fill=\"#ADD1B2\" rx=\"11\" ry=\"11\" style=\"stroke: #A80036; stroke-width: 1.0;\"/><path d=\"M28.0231,29.6431 Q27.4421,29.9419 26.8029,30.0913 Q26.1638,30.2407 25.4582,30.2407 Q22.9514,30.2407 21.6315,28.5889 Q20.3117,26.937 20.3117,23.8159 Q20.3117,20.6865 21.6315,19.0347 Q22.9514,17.3828 25.4582,17.3828 Q26.1638,17.3828 26.8112,17.5322 Q27.4587,17.6816 28.0231,17.9805 L28.0231,20.7031 Q27.3923,20.1221 26.7988,19.8523 Q26.2053,19.5825 25.5744,19.5825 Q24.2297,19.5825 23.5449,20.6492 Q22.8601,21.7158 22.8601,23.8159 Q22.8601,25.9077 23.5449,26.9744 Q24.2297,28.041 25.5744,28.041 Q26.2053,28.041 26.7988,27.7712 Q27.3923,27.5015 28.0231,26.9204 Z \"/><text fill=\"#000000\" font-family=\"sans-serif\" font-size=\"12\" lengthAdjust=\"spacingAndGlyphs\" textLength=\"95\" x=\"39.95\" y=\"28.5352\">GumballMachine</text><line style=\"stroke: #A80036; stroke-width: 1.5;\" x1=\"7\" x2=\"141\" y1=\"40\" y2=\"40\"/><text fill=\"#000000\" font-family=\"sans-serif\" font-size=\"11\" lengthAdjust=\"spacingAndGlyphs\" textLength=\"55\" x=\"26\" y=\"54.6348\">state:State</text><rect fill=\"none\" height=\"6\" style=\"stroke: #C82930; stroke-width: 1.0;\" width=\"6\" x=\"14\" y=\"61.9326\"/><text fill=\"#000000\" font-family=\"sans-serif\" font-size=\"11\" lengthAdjust=\"spacingAndGlyphs\" textLength=\"48\" x=\"26\" y=\"67.5898\">count:int</text><line style=\"stroke: #A80036; stroke-width: 1.5;\" x1=\"7\" x2=\"141\" y1=\"73.9102\" y2=\"73.9102\"/><ellipse cx=\"17\" cy=\"85.8877\" fill=\"#84BE84\" rx=\"3\" ry=\"3\" style=\"stroke: #038048; stroke-width: 1.0;\"/><text fill=\"#000000\" font-family=\"sans-serif\" font-size=\"11\" lengthAdjust=\"spacingAndGlyphs\" textLength=\"110\" x=\"26\" y=\"88.5449\">GumballMachine(int)</text><ellipse cx=\"17\" cy=\"98.8428\" fill=\"#84BE84\" rx=\"3\" ry=\"3\" style=\"stroke: #038048; stroke-width: 1.0;\"/><text fill=\"#000000\" font-family=\"sans-serif\" font-size=\"11\" lengthAdjust=\"spacingAndGlyphs\" textLength=\"107\" x=\"26\" y=\"101.5\">insertQuarter():void</text><ellipse cx=\"17\" cy=\"111.7979\" fill=\"#84BE84\" rx=\"3\" ry=\"3\" style=\"stroke: #038048; stroke-width: 1.0;\"/><text fill=\"#000000\" font-family=\"sans-serif\" font-size=\"11\" lengthAdjust=\"spacingAndGlyphs\" textLength=\"101\" x=\"26\" y=\"114.4551\">ejectQuarter():void</text><ellipse cx=\"17\" cy=\"124.7529\" fill=\"#84BE84\" rx=\"3\" ry=\"3\" style=\"stroke: #038048; stroke-width: 1.0;\"/><text fill=\"#000000\" font-family=\"sans-serif\" font-size=\"11\" lengthAdjust=\"spacingAndGlyphs\" textLength=\"89\" x=\"26\" y=\"127.4102\">turnCrank():void</text><ellipse cx=\"17\" cy=\"137.708\" fill=\"#84BE84\" rx=\"3\" ry=\"3\" style=\"stroke: #038048; stroke-width: 1.0;\"/><text fill=\"#000000\" font-family=\"sans-serif\" font-size=\"11\" lengthAdjust=\"spacingAndGlyphs\" textLength=\"102\" x=\"26\" y=\"140.3652\">setState(State):void</text><ellipse cx=\"17\" cy=\"150.6631\" fill=\"#84BE84\" rx=\"3\" ry=\"3\" style=\"stroke: #038048; stroke-width: 1.0;\"/><text fill=\"#000000\" font-family=\"sans-serif\" font-size=\"11\" lengthAdjust=\"spacingAndGlyphs\" textLength=\"103\" x=\"26\" y=\"153.3203\">getState(State):void</text><rect fill=\"#FEFECE\" filter=\"url(#f1)\" height=\"99.8203\" style=\"stroke: #A80036; stroke-width: 1.5;\" width=\"133\" x=\"177.5\" y=\"34\"/><ellipse cx=\"225.75\" cy=\"50\" fill=\"#B4A7E5\" rx=\"11\" ry=\"11\" style=\"stroke: #A80036; stroke-width: 1.0;\"/><path d=\"M221.6777,45.7651 L221.6777,43.6069 L229.0571,43.6069 L229.0571,45.7651 L226.5918,45.7651 L226.5918,53.8418 L229.0571,53.8418 L229.0571,56 L221.6777,56 L221.6777,53.8418 L224.1431,53.8418 L224.1431,45.7651 Z \"/><text fill=\"#000000\" font-family=\"sans-serif\" font-size=\"12\" font-style=\"italic\" lengthAdjust=\"spacingAndGlyphs\" textLength=\"28\" x=\"246.25\" y=\"54.5352\">State</text><line style=\"stroke: #A80036; stroke-width: 1.5;\" x1=\"178.5\" x2=\"309.5\" y1=\"66\" y2=\"66\"/><line style=\"stroke: #A80036; stroke-width: 1.5;\" x1=\"178.5\" x2=\"309.5\" y1=\"74\" y2=\"74\"/><ellipse cx=\"188.5\" cy=\"85.9775\" fill=\"#84BE84\" rx=\"3\" ry=\"3\" style=\"stroke: #038048; stroke-width: 1.0;\"/><text fill=\"#000000\" font-family=\"sans-serif\" font-size=\"11\" lengthAdjust=\"spacingAndGlyphs\" textLength=\"107\" x=\"197.5\" y=\"88.6348\">insertQuarter():void</text><ellipse cx=\"188.5\" cy=\"98.9326\" fill=\"#84BE84\" rx=\"3\" ry=\"3\" style=\"stroke: #038048; stroke-width: 1.0;\"/><text fill=\"#000000\" font-family=\"sans-serif\" font-size=\"11\" lengthAdjust=\"spacingAndGlyphs\" textLength=\"101\" x=\"197.5\" y=\"101.5898\">ejectQuarter():void</text><ellipse cx=\"188.5\" cy=\"111.8877\" fill=\"#84BE84\" rx=\"3\" ry=\"3\" style=\"stroke: #038048; stroke-width: 1.0;\"/><text fill=\"#000000\" font-family=\"sans-serif\" font-size=\"11\" lengthAdjust=\"spacingAndGlyphs\" textLength=\"89\" x=\"197.5\" y=\"114.5449\">turnCrank():void</text><ellipse cx=\"188.5\" cy=\"124.8428\" fill=\"#84BE84\" rx=\"3\" ry=\"3\" style=\"stroke: #038048; stroke-width: 1.0;\"/><text fill=\"#000000\" font-family=\"sans-serif\" font-size=\"11\" lengthAdjust=\"spacingAndGlyphs\" textLength=\"82\" x=\"197.5\" y=\"127.5\">dispense():void</text><rect fill=\"#FEFECE\" filter=\"url(#f1)\" height=\"48\" style=\"stroke: #A80036; stroke-width: 1.5;\" width=\"98\" x=\"25\" y=\"220\"/><ellipse cx=\"40\" cy=\"236\" fill=\"#ADD1B2\" rx=\"11\" ry=\"11\" style=\"stroke: #A80036; stroke-width: 1.0;\"/><path d=\"M42.9731,241.6431 Q42.3921,241.9419 41.7529,242.0913 Q41.1138,242.2407 40.4082,242.2407 Q37.9014,242.2407 36.5815,240.5889 Q35.2617,238.937 35.2617,235.8159 Q35.2617,232.6865 36.5815,231.0347 Q37.9014,229.3828 40.4082,229.3828 Q41.1138,229.3828 41.7612,229.5322 Q42.4087,229.6816 42.9731,229.9805 L42.9731,232.7031 Q42.3423,232.1221 41.7488,231.8523 Q41.1553,231.5825 40.5244,231.5825 Q39.1797,231.5825 38.4949,232.6492 Q37.8101,233.7158 37.8101,235.8159 Q37.8101,237.9077 38.4949,238.9744 Q39.1797,240.041 40.5244,240.041 Q41.1553,240.041 41.7488,239.7712 Q42.3423,239.5015 42.9731,238.9204 Z \"/><text fill=\"#000000\" font-family=\"sans-serif\" font-size=\"12\" lengthAdjust=\"spacingAndGlyphs\" textLength=\"66\" x=\"54\" y=\"240.5352\">HasQuarter</text><line style=\"stroke: #A80036; stroke-width: 1.5;\" x1=\"26\" x2=\"122\" y1=\"252\" y2=\"252\"/><line style=\"stroke: #A80036; stroke-width: 1.5;\" x1=\"26\" x2=\"122\" y1=\"260\" y2=\"260\"/><rect fill=\"#FEFECE\" filter=\"url(#f1)\" height=\"48\" style=\"stroke: #A80036; stroke-width: 1.5;\" width=\"92\" x=\"158\" y=\"220\"/><ellipse cx=\"173\" cy=\"236\" fill=\"#ADD1B2\" rx=\"11\" ry=\"11\" style=\"stroke: #A80036; stroke-width: 1.0;\"/><path d=\"M175.9731,241.6431 Q175.3921,241.9419 174.7529,242.0913 Q174.1138,242.2407 173.4082,242.2407 Q170.9014,242.2407 169.5815,240.5889 Q168.2617,238.937 168.2617,235.8159 Q168.2617,232.6865 169.5815,231.0347 Q170.9014,229.3828 173.4082,229.3828 Q174.1138,229.3828 174.7612,229.5322 Q175.4087,229.6816 175.9731,229.9805 L175.9731,232.7031 Q175.3423,232.1221 174.7488,231.8523 Q174.1553,231.5825 173.5244,231.5825 Q172.1797,231.5825 171.4949,232.6492 Q170.8101,233.7158 170.8101,235.8159 Q170.8101,237.9077 171.4949,238.9744 Q172.1797,240.041 173.5244,240.041 Q174.1553,240.041 174.7488,239.7712 Q175.3423,239.5015 175.9731,238.9204 Z \"/><text fill=\"#000000\" font-family=\"sans-serif\" font-size=\"12\" lengthAdjust=\"spacingAndGlyphs\" textLength=\"60\" x=\"187\" y=\"240.5352\">NoQuarter</text><line style=\"stroke: #A80036; stroke-width: 1.5;\" x1=\"159\" x2=\"249\" y1=\"252\" y2=\"252\"/><line style=\"stroke: #A80036; stroke-width: 1.5;\" x1=\"159\" x2=\"249\" y1=\"260\" y2=\"260\"/><rect fill=\"#FEFECE\" filter=\"url(#f1)\" height=\"48\" style=\"stroke: #A80036; stroke-width: 1.5;\" width=\"76\" x=\"285\" y=\"220\"/><ellipse cx=\"300\" cy=\"236\" fill=\"#ADD1B2\" rx=\"11\" ry=\"11\" style=\"stroke: #A80036; stroke-width: 1.0;\"/><path d=\"M302.9731,241.6431 Q302.3921,241.9419 301.7529,242.0913 Q301.1138,242.2407 300.4082,242.2407 Q297.9014,242.2407 296.5815,240.5889 Q295.2617,238.937 295.2617,235.8159 Q295.2617,232.6865 296.5815,231.0347 Q297.9014,229.3828 300.4082,229.3828 Q301.1138,229.3828 301.7612,229.5322 Q302.4087,229.6816 302.9731,229.9805 L302.9731,232.7031 Q302.3423,232.1221 301.7488,231.8523 Q301.1553,231.5825 300.5244,231.5825 Q299.1797,231.5825 298.4949,232.6492 Q297.8101,233.7158 297.8101,235.8159 Q297.8101,237.9077 298.4949,238.9744 Q299.1797,240.041 300.5244,240.041 Q301.1553,240.041 301.7488,239.7712 Q302.3423,239.5015 302.9731,238.9204 Z \"/><text fill=\"#000000\" font-family=\"sans-serif\" font-size=\"12\" lengthAdjust=\"spacingAndGlyphs\" textLength=\"44\" x=\"314\" y=\"240.5352\">SoldOut</text><line style=\"stroke: #A80036; stroke-width: 1.5;\" x1=\"286\" x2=\"360\" y1=\"252\" y2=\"252\"/><line style=\"stroke: #A80036; stroke-width: 1.5;\" x1=\"286\" x2=\"360\" y1=\"260\" y2=\"260\"/><rect fill=\"#FEFECE\" filter=\"url(#f1)\" height=\"48\" style=\"stroke: #A80036; stroke-width: 1.5;\" width=\"56\" x=\"396\" y=\"220\"/><ellipse cx=\"411\" cy=\"236\" fill=\"#ADD1B2\" rx=\"11\" ry=\"11\" style=\"stroke: #A80036; stroke-width: 1.0;\"/><path d=\"M413.9731,241.6431 Q413.3921,241.9419 412.7529,242.0913 Q412.1138,242.2407 411.4082,242.2407 Q408.9014,242.2407 407.5815,240.5889 Q406.2617,238.937 406.2617,235.8159 Q406.2617,232.6865 407.5815,231.0347 Q408.9014,229.3828 411.4082,229.3828 Q412.1138,229.3828 412.7612,229.5322 Q413.4087,229.6816 413.9731,229.9805 L413.9731,232.7031 Q413.3423,232.1221 412.7488,231.8523 Q412.1553,231.5825 411.5244,231.5825 Q410.1797,231.5825 409.4949,232.6492 Q408.8101,233.7158 408.8101,235.8159 Q408.8101,237.9077 409.4949,238.9744 Q410.1797,240.041 411.5244,240.041 Q412.1553,240.041 412.7488,239.7712 Q413.3423,239.5015 413.9731,238.9204 Z \"/><text fill=\"#000000\" font-family=\"sans-serif\" font-size=\"12\" lengthAdjust=\"spacingAndGlyphs\" textLength=\"24\" x=\"425\" y=\"240.5352\">Sold</text><line style=\"stroke: #A80036; stroke-width: 1.5;\" x1=\"397\" x2=\"451\" y1=\"252\" y2=\"252\"/><line style=\"stroke: #A80036; stroke-width: 1.5;\" x1=\"397\" x2=\"451\" y1=\"260\" y2=\"260\"/><path d=\"M176.297,147.924 C148.978,173.3142 119.17,201.0183 98.8161,219.9356 \" fill=\"none\" style=\"stroke: #A80036; stroke-width: 1.0; stroke-dasharray: 7.0,7.0;\"/><polygon fill=\"none\" points=\"171.728,142.614,191.143,134.126,181.259,152.869,171.728,142.614\" style=\"stroke: #A80036; stroke-width: 1.0;\"/><path d=\"M226.633,153.599 C220.615,177.3703 214.274,202.4196 209.839,219.9356 \" fill=\"none\" style=\"stroke: #A80036; stroke-width: 1.0; stroke-dasharray: 7.0,7.0;\"/><polygon fill=\"none\" points=\"219.869,151.796,231.563,134.126,233.44,155.232,219.869,151.796\" style=\"stroke: #A80036; stroke-width: 1.0;\"/><path d=\"M277.587,152.175 C289.683,176.3653 302.535,202.0693 311.468,219.9356 \" fill=\"none\" style=\"stroke: #A80036; stroke-width: 1.0; stroke-dasharray: 7.0,7.0;\"/><polygon fill=\"none\" points=\"271.246,155.145,268.563,134.126,283.768,148.884,271.246,155.145\" style=\"stroke: #A80036; stroke-width: 1.0;\"/><path d=\"M315.283,147.571 C344.319,173.0575 376.073,200.9307 397.724,219.9356 \" fill=\"none\" style=\"stroke: #A80036; stroke-width: 1.0; stroke-dasharray: 7.0,7.0;\"/><polygon fill=\"none\" points=\"310.379,152.581,299.966,134.126,319.615,142.059,310.379,152.581\" style=\"stroke: #A80036; stroke-width: 1.0;\"/><path d=\"M142.066,84 C152.013,84 161.959,84 171.905,84 \" fill=\"none\" style=\"stroke: #A80036; stroke-width: 1.0;\"/><polygon fill=\"#A80036\" points=\"177.106,84,168.106,80,172.106,84,168.106,88,177.106,84\" style=\"stroke: #A80036; stroke-width: 1.0;\"/><path d=\"M74,219.7715 C74,205.146 74,185.3156 74,165.369 \" fill=\"none\" style=\"stroke: #A80036; stroke-width: 1.0;\"/><polygon fill=\"#A80036\" points=\"74,160.298,70,169.298,74,165.298,78,169.298,74,160.298\" style=\"stroke: #A80036; stroke-width: 1.0;\"/></g></svg>"
      ],
      "text/plain": [
       "<IPython.core.display.SVG object>"
      ]
     },
     "execution_count": 38,
     "metadata": {},
     "output_type": "execute_result"
    }
   ],
   "source": [
    "%%plantuml\n",
    "@startuml\n",
    "class GumballMachine {\n",
    "    state:State\n",
    "    -count:int\n",
    "    +GumballMachine(int)\n",
    "    +insertQuarter():void\n",
    "    +ejectQuarter():void\n",
    "    +turnCrank():void\n",
    "    +setState(State):void\n",
    "    +getState(State):void\n",
    "}\n",
    "interface State {\n",
    "    +insertQuarter():void\n",
    "    +ejectQuarter():void\n",
    "    +turnCrank():void\n",
    "    +dispense():void\n",
    "}\n",
    "State <|.. HasQuarter\n",
    "State <|.. NoQuarter\n",
    "State <|.. SoldOut\n",
    "State <|.. Sold\n",
    "GumballMachine -right-> State\n",
    "HasQuarter --> GumballMachine\n",
    "@enduml"
   ]
  },
  {
   "cell_type": "code",
   "execution_count": 34,
   "metadata": {
    "collapsed": false,
    "slideshow": {
     "slide_type": "slide"
    }
   },
   "outputs": [
    {
     "data": {
      "image/svg+xml": [
       "<svg height=\"360px\" style=\"width:704px;height:360px;\" version=\"1.1\" viewBox=\"0 0 704 360\" width=\"704px\" xmlns=\"http://www.w3.org/2000/svg\" xmlns:xlink=\"http://www.w3.org/1999/xlink\"><defs><filter height=\"300%\" id=\"f1\" width=\"300%\" x=\"-1\" y=\"-1\"><feGaussianBlur result=\"blurOut\" stdDeviation=\"2.0\"/><feColorMatrix in=\"blurOut\" result=\"blurOut2\" type=\"matrix\" values=\"0 0 0 0 0 0 0 0 0 0 0 0 0 0 0 0 0 0 .4 0\"/><feOffset dx=\"4.0\" dy=\"4.0\" in=\"blurOut2\" result=\"blurOut3\"/><feBlend in=\"SourceGraphic\" in2=\"blurOut3\" mode=\"normal\"/></filter></defs><g><line style=\"stroke: #A80036; stroke-width: 1.0; stroke-dasharray: 5.0,5.0;\" x1=\"35\" x2=\"35\" y1=\"38.4883\" y2=\"322.2832\"/><line style=\"stroke: #A80036; stroke-width: 1.0; stroke-dasharray: 5.0,5.0;\" x1=\"150.5\" x2=\"150.5\" y1=\"38.4883\" y2=\"322.2832\"/><line style=\"stroke: #A80036; stroke-width: 1.0; stroke-dasharray: 5.0,5.0;\" x1=\"279.5\" x2=\"279.5\" y1=\"38.4883\" y2=\"322.2832\"/><line style=\"stroke: #A80036; stroke-width: 1.0; stroke-dasharray: 5.0,5.0;\" x1=\"405.5\" x2=\"405.5\" y1=\"38.4883\" y2=\"322.2832\"/><line style=\"stroke: #A80036; stroke-width: 1.0; stroke-dasharray: 5.0,5.0;\" x1=\"542.5\" x2=\"542.5\" y1=\"38.4883\" y2=\"322.2832\"/><line style=\"stroke: #A80036; stroke-width: 1.0; stroke-dasharray: 5.0,5.0;\" x1=\"658.5\" x2=\"658.5\" y1=\"38.4883\" y2=\"322.2832\"/><rect fill=\"#FEFECE\" filter=\"url(#f1)\" height=\"30.4883\" style=\"stroke: #A80036; stroke-width: 1.5;\" width=\"51\" x=\"8\" y=\"3\"/><text fill=\"#000000\" font-family=\"sans-serif\" font-size=\"14\" lengthAdjust=\"spacingAndGlyphs\" textLength=\"37\" x=\"15\" y=\"23.5352\">client</text><rect fill=\"#FEFECE\" filter=\"url(#f1)\" height=\"30.4883\" style=\"stroke: #A80036; stroke-width: 1.5;\" width=\"51\" x=\"8\" y=\"321.2832\"/><text fill=\"#000000\" font-family=\"sans-serif\" font-size=\"14\" lengthAdjust=\"spacingAndGlyphs\" textLength=\"37\" x=\"15\" y=\"341.8184\">client</text><rect fill=\"#FEFECE\" filter=\"url(#f1)\" height=\"30.4883\" style=\"stroke: #A80036; stroke-width: 1.5;\" width=\"128\" x=\"84.5\" y=\"3\"/><text fill=\"#000000\" font-family=\"sans-serif\" font-size=\"14\" lengthAdjust=\"spacingAndGlyphs\" textLength=\"114\" x=\"91.5\" y=\"23.5352\">GumballMachine</text><rect fill=\"#FEFECE\" filter=\"url(#f1)\" height=\"30.4883\" style=\"stroke: #A80036; stroke-width: 1.5;\" width=\"128\" x=\"84.5\" y=\"321.2832\"/><text fill=\"#000000\" font-family=\"sans-serif\" font-size=\"14\" lengthAdjust=\"spacingAndGlyphs\" textLength=\"114\" x=\"91.5\" y=\"341.8184\">GumballMachine</text><rect fill=\"#FEFECE\" filter=\"url(#f1)\" height=\"30.4883\" style=\"stroke: #A80036; stroke-width: 1.5;\" width=\"103\" x=\"226.5\" y=\"3\"/><text fill=\"#000000\" font-family=\"sans-serif\" font-size=\"14\" lengthAdjust=\"spacingAndGlyphs\" textLength=\"89\" x=\"233.5\" y=\"23.5352\">SoldOutState</text><rect fill=\"#FEFECE\" filter=\"url(#f1)\" height=\"30.4883\" style=\"stroke: #A80036; stroke-width: 1.5;\" width=\"103\" x=\"226.5\" y=\"321.2832\"/><text fill=\"#000000\" font-family=\"sans-serif\" font-size=\"14\" lengthAdjust=\"spacingAndGlyphs\" textLength=\"89\" x=\"233.5\" y=\"341.8184\">SoldOutState</text><rect fill=\"#FEFECE\" filter=\"url(#f1)\" height=\"30.4883\" style=\"stroke: #A80036; stroke-width: 1.5;\" width=\"120\" x=\"343.5\" y=\"3\"/><text fill=\"#000000\" font-family=\"sans-serif\" font-size=\"14\" lengthAdjust=\"spacingAndGlyphs\" textLength=\"106\" x=\"350.5\" y=\"23.5352\">NoQuarterState</text><rect fill=\"#FEFECE\" filter=\"url(#f1)\" height=\"30.4883\" style=\"stroke: #A80036; stroke-width: 1.5;\" width=\"120\" x=\"343.5\" y=\"321.2832\"/><text fill=\"#000000\" font-family=\"sans-serif\" font-size=\"14\" lengthAdjust=\"spacingAndGlyphs\" textLength=\"106\" x=\"350.5\" y=\"341.8184\">NoQuarterState</text><rect fill=\"#FEFECE\" filter=\"url(#f1)\" height=\"30.4883\" style=\"stroke: #A80036; stroke-width: 1.5;\" width=\"126\" x=\"477.5\" y=\"3\"/><text fill=\"#000000\" font-family=\"sans-serif\" font-size=\"14\" lengthAdjust=\"spacingAndGlyphs\" textLength=\"112\" x=\"484.5\" y=\"23.5352\">HasQuarterState</text><rect fill=\"#FEFECE\" filter=\"url(#f1)\" height=\"30.4883\" style=\"stroke: #A80036; stroke-width: 1.5;\" width=\"126\" x=\"477.5\" y=\"321.2832\"/><text fill=\"#000000\" font-family=\"sans-serif\" font-size=\"14\" lengthAdjust=\"spacingAndGlyphs\" textLength=\"112\" x=\"484.5\" y=\"341.8184\">HasQuarterState</text><rect fill=\"#FEFECE\" filter=\"url(#f1)\" height=\"30.4883\" style=\"stroke: #A80036; stroke-width: 1.5;\" width=\"78\" x=\"617.5\" y=\"3\"/><text fill=\"#000000\" font-family=\"sans-serif\" font-size=\"14\" lengthAdjust=\"spacingAndGlyphs\" textLength=\"64\" x=\"624.5\" y=\"23.5352\">SoldState</text><rect fill=\"#FEFECE\" filter=\"url(#f1)\" height=\"30.4883\" style=\"stroke: #A80036; stroke-width: 1.5;\" width=\"78\" x=\"617.5\" y=\"321.2832\"/><text fill=\"#000000\" font-family=\"sans-serif\" font-size=\"14\" lengthAdjust=\"spacingAndGlyphs\" textLength=\"64\" x=\"624.5\" y=\"341.8184\">SoldState</text><polygon fill=\"#A80036\" points=\"138.5,65.4883,148.5,69.4883,138.5,73.4883,142.5,69.4883\" style=\"stroke: #A80036; stroke-width: 1.0;\"/><line style=\"stroke: #A80036; stroke-width: 1.0;\" x1=\"35.5\" x2=\"144.5\" y1=\"69.4883\" y2=\"69.4883\"/><text fill=\"#000000\" font-family=\"sans-serif\" font-size=\"13\" lengthAdjust=\"spacingAndGlyphs\" textLength=\"63\" x=\"42.5\" y=\"65.0566\">m=new(5)</text><polygon fill=\"#A80036\" points=\"268,94.7988,278,98.7988,268,102.7988,272,98.7988\" style=\"stroke: #A80036; stroke-width: 1.0;\"/><line style=\"stroke: #A80036; stroke-width: 1.0;\" x1=\"150.5\" x2=\"274\" y1=\"98.7988\" y2=\"98.7988\"/><text fill=\"#000000\" font-family=\"sans-serif\" font-size=\"13\" lengthAdjust=\"spacingAndGlyphs\" textLength=\"45\" x=\"157.5\" y=\"94.3672\">new(m)</text><polygon fill=\"#A80036\" points=\"393.5,124.1094,403.5,128.1094,393.5,132.1094,397.5,128.1094\" style=\"stroke: #A80036; stroke-width: 1.0;\"/><line style=\"stroke: #A80036; stroke-width: 1.0;\" x1=\"150.5\" x2=\"399.5\" y1=\"128.1094\" y2=\"128.1094\"/><text fill=\"#000000\" font-family=\"sans-serif\" font-size=\"13\" lengthAdjust=\"spacingAndGlyphs\" textLength=\"45\" x=\"157.5\" y=\"123.6777\">new(m)</text><polygon fill=\"#A80036\" points=\"530.5,153.4199,540.5,157.4199,530.5,161.4199,534.5,157.4199\" style=\"stroke: #A80036; stroke-width: 1.0;\"/><line style=\"stroke: #A80036; stroke-width: 1.0;\" x1=\"150.5\" x2=\"536.5\" y1=\"157.4199\" y2=\"157.4199\"/><text fill=\"#000000\" font-family=\"sans-serif\" font-size=\"13\" lengthAdjust=\"spacingAndGlyphs\" textLength=\"45\" x=\"157.5\" y=\"152.9883\">new(m)</text><polygon fill=\"#A80036\" points=\"646.5,182.7305,656.5,186.7305,646.5,190.7305,650.5,186.7305\" style=\"stroke: #A80036; stroke-width: 1.0;\"/><line style=\"stroke: #A80036; stroke-width: 1.0;\" x1=\"150.5\" x2=\"652.5\" y1=\"186.7305\" y2=\"186.7305\"/><text fill=\"#000000\" font-family=\"sans-serif\" font-size=\"13\" lengthAdjust=\"spacingAndGlyphs\" textLength=\"45\" x=\"157.5\" y=\"182.2988\">new(m)</text><polygon fill=\"#A80036\" points=\"138.5,212.041,148.5,216.041,138.5,220.041,142.5,216.041\" style=\"stroke: #A80036; stroke-width: 1.0;\"/><line style=\"stroke: #A80036; stroke-width: 1.0;\" x1=\"35.5\" x2=\"144.5\" y1=\"216.041\" y2=\"216.041\"/><text fill=\"#000000\" font-family=\"sans-serif\" font-size=\"13\" lengthAdjust=\"spacingAndGlyphs\" textLength=\"91\" x=\"42.5\" y=\"211.6094\">insertQuarter()</text><polygon fill=\"#A80036\" points=\"138.5,241.3516,148.5,245.3516,138.5,249.3516,142.5,245.3516\" style=\"stroke: #A80036; stroke-width: 1.0;\"/><line style=\"stroke: #A80036; stroke-width: 1.0;\" x1=\"35.5\" x2=\"144.5\" y1=\"245.3516\" y2=\"245.3516\"/><text fill=\"#000000\" font-family=\"sans-serif\" font-size=\"13\" lengthAdjust=\"spacingAndGlyphs\" textLength=\"85\" x=\"42.5\" y=\"240.9199\">ejectQuarter()</text><polygon fill=\"#A80036\" points=\"138.5,270.6621,148.5,274.6621,138.5,278.6621,142.5,274.6621\" style=\"stroke: #A80036; stroke-width: 1.0;\"/><line style=\"stroke: #A80036; stroke-width: 1.0;\" x1=\"35.5\" x2=\"144.5\" y1=\"274.6621\" y2=\"274.6621\"/><text fill=\"#000000\" font-family=\"sans-serif\" font-size=\"13\" lengthAdjust=\"spacingAndGlyphs\" textLength=\"71\" x=\"42.5\" y=\"270.2305\">turnCrank()</text><polygon fill=\"#A80036\" points=\"138.5,299.9727,148.5,303.9727,138.5,307.9727,142.5,303.9727\" style=\"stroke: #A80036; stroke-width: 1.0;\"/><line style=\"stroke: #A80036; stroke-width: 1.0;\" x1=\"35.5\" x2=\"144.5\" y1=\"303.9727\" y2=\"303.9727\"/><text fill=\"#000000\" font-family=\"sans-serif\" font-size=\"13\" lengthAdjust=\"spacingAndGlyphs\" textLength=\"64\" x=\"42.5\" y=\"299.541\">dispense()</text></g></svg>"
      ],
      "text/plain": [
       "<IPython.core.display.SVG object>"
      ]
     },
     "execution_count": 34,
     "metadata": {},
     "output_type": "execute_result"
    }
   ],
   "source": [
    "%%plantuml\n",
    "@startuml\n",
    "client -> GumballMachine:m=new(5)\n",
    "GumballMachine -> SoldOutState:new(m)\n",
    "GumballMachine -> NoQuarterState:new(m)\n",
    "GumballMachine -> HasQuarterState:new(m)\n",
    "GumballMachine -> SoldState:new(m)\n",
    "client -> GumballMachine:insertQuarter()\n",
    "\n",
    "client -> GumballMachine:ejectQuarter()\n",
    "client -> GumballMachine:turnCrank()\n",
    "client -> GumballMachine:dispense()\n",
    "@enduml"
   ]
  },
  {
   "cell_type": "code",
   "execution_count": null,
   "metadata": {
    "collapsed": true,
    "slideshow": {
     "slide_type": "slide"
    }
   },
   "outputs": [],
   "source": [
    "# %load ./src/headfirst/state/gumballstate/State.java\n",
    "package headfirst.state.gumballstate;\n",
    "\n",
    "public interface State {\n",
    "\tpublic void insertQuarter();\n",
    "\tpublic void ejectQuarter();\n",
    "\tpublic void turnCrank();\n",
    "\tpublic void dispense();\n",
    "}\n"
   ]
  },
  {
   "cell_type": "code",
   "execution_count": null,
   "metadata": {
    "collapsed": true,
    "slideshow": {
     "slide_type": "slide"
    }
   },
   "outputs": [],
   "source": [
    "# %load ./src/headfirst/state/gumballstate/HasQuarterState.java\n",
    "package headfirst.state.gumballstate;\n",
    "\n",
    "import java.util.Random;\n",
    "\n",
    "public class HasQuarterState implements State {\n",
    "    GumballMachine gumballMachine;\n",
    " \n",
    "    public HasQuarterState(GumballMachine gumballMachine) {\n",
    "        this.gumballMachine = gumballMachine;\n",
    "    }\n",
    "  \n",
    "    public void insertQuarter() {\n",
    "        System.out.println(\"You can't insert another quarter\");\n",
    "    }\n",
    " \n",
    "    public void ejectQuarter() {\n",
    "        System.out.println(\"Quarter returned\");\n",
    "        gumballMachine.setState(gumballMachine.getNoQuarterState());\n",
    "    }\n",
    " \n",
    "    public void turnCrank() {\n",
    "        System.out.println(\"You turned...\");\n",
    "        gumballMachine.setState(gumballMachine.getSoldState());\n",
    "    }\n",
    "\n",
    "    public void dispense() {\n",
    "        System.out.println(\"No gumball dispensed\");\n",
    "    }\n",
    " \n",
    "    public String toString() {\n",
    "        return \"waiting for turn of crank\";\n",
    "    }\n",
    "}\n"
   ]
  },
  {
   "cell_type": "code",
   "execution_count": null,
   "metadata": {
    "collapsed": false,
    "slideshow": {
     "slide_type": "slide"
    }
   },
   "outputs": [],
   "source": [
    "# %load ./src/headfirst/state/gumballstate/NoQuarterState.java\n",
    "package headfirst.state.gumballstate;\n",
    "\n",
    "public class NoQuarterState implements State {\n",
    "    GumballMachine gumballMachine;\n",
    " \n",
    "    public NoQuarterState(GumballMachine gumballMachine) {\n",
    "        this.gumballMachine = gumballMachine;\n",
    "    }\n",
    " \n",
    "\tpublic void insertQuarter() {\n",
    "\t\tSystem.out.println(\"You inserted a quarter\");\n",
    "\t\tgumballMachine.setState(gumballMachine.getHasQuarterState());\n",
    "\t}\n",
    " \n",
    "\tpublic void ejectQuarter() {\n",
    "\t\tSystem.out.println(\"You haven't inserted a quarter\");\n",
    "\t}\n",
    " \n",
    "\tpublic void turnCrank() {\n",
    "\t\tSystem.out.println(\"You turned, but there's no quarter\");\n",
    "\t }\n",
    " \n",
    "\tpublic void dispense() {\n",
    "\t\tSystem.out.println(\"You need to pay first\");\n",
    "\t} \n",
    " \n",
    "\tpublic String toString() {\n",
    "\t\treturn \"waiting for quarter\";\n",
    "\t}\n",
    "}\n"
   ]
  },
  {
   "cell_type": "code",
   "execution_count": null,
   "metadata": {
    "collapsed": true,
    "slideshow": {
     "slide_type": "slide"
    }
   },
   "outputs": [],
   "source": [
    "# %load ./src/headfirst/state/gumballstate/SoldOutState.java\n",
    "package headfirst.state.gumballstate;\n",
    "\n",
    "public class SoldOutState implements State {\n",
    "    GumballMachine gumballMachine;\n",
    " \n",
    "    public SoldOutState(GumballMachine gumballMachine) {\n",
    "        this.gumballMachine = gumballMachine;\n",
    "    }\n",
    " \n",
    "\tpublic void insertQuarter() {\n",
    "\t\tSystem.out.println(\"You can't insert a quarter, the machine is sold out\");\n",
    "\t}\n",
    " \n",
    "\tpublic void ejectQuarter() {\n",
    "\t\tSystem.out.println(\"You can't eject, you haven't inserted a quarter yet\");\n",
    "\t}\n",
    " \n",
    "\tpublic void turnCrank() {\n",
    "\t\tSystem.out.println(\"You turned, but there are no gumballs\");\n",
    "\t}\n",
    " \n",
    "\tpublic void dispense() {\n",
    "\t\tSystem.out.println(\"No gumball dispensed\");\n",
    "\t}\n",
    " \n",
    "\tpublic String toString() {\n",
    "\t\treturn \"sold out\";\n",
    "\t}\n",
    "}\n"
   ]
  },
  {
   "cell_type": "code",
   "execution_count": null,
   "metadata": {
    "collapsed": true,
    "slideshow": {
     "slide_type": "slide"
    }
   },
   "outputs": [],
   "source": [
    "# %load ./src/headfirst/state/gumballstate/SoldState.java\n",
    "package headfirst.state.gumballstate;\n",
    "\n",
    "public class SoldState implements State {\n",
    " \n",
    "    GumballMachine gumballMachine;\n",
    " \n",
    "    public SoldState(GumballMachine gumballMachine) {\n",
    "        this.gumballMachine = gumballMachine;\n",
    "    }\n",
    "       \n",
    "\tpublic void insertQuarter() {\n",
    "\t\tSystem.out.println(\"Please wait, we're already giving you a gumball\");\n",
    "\t}\n",
    " \n",
    "\tpublic void ejectQuarter() {\n",
    "\t\tSystem.out.println(\"Sorry, you already turned the crank\");\n",
    "\t}\n",
    " \n",
    "\tpublic void turnCrank() {\n",
    "\t\tSystem.out.println(\"Turning twice doesn't get you another gumball!\");\n",
    "\t}\n",
    " \n",
    "\tpublic void dispense() {\n",
    "\t\tgumballMachine.releaseBall();\n",
    "\t\tif (gumballMachine.getCount() > 0) {\n",
    "\t\t\tgumballMachine.setState(gumballMachine.getNoQuarterState());\n",
    "\t\t} else {\n",
    "\t\t\tSystem.out.println(\"Oops, out of gumballs!\");\n",
    "\t\t\tgumballMachine.setState(gumballMachine.getSoldOutState());\n",
    "\t\t}\n",
    "\t}\n",
    " \n",
    "\tpublic String toString() {\n",
    "\t\treturn \"dispensing a gumball\";\n",
    "\t}\n",
    "}\n"
   ]
  },
  {
   "cell_type": "code",
   "execution_count": null,
   "metadata": {
    "collapsed": true,
    "slideshow": {
     "slide_type": "slide"
    }
   },
   "outputs": [],
   "source": [
    "# %load ./src/headfirst/state/gumballstate/GumballMachine.java\n",
    "package headfirst.state.gumballstate;\n",
    "\n",
    "public class GumballMachine {\n",
    "    State soldOutState;\n",
    "    State noQuarterState;\n",
    "    State hasQuarterState;\n",
    "    State soldState;\n",
    " \n",
    "    State state = soldOutState;\n",
    "    int count = 0;\n",
    " \n",
    "    public GumballMachine(int numberGumballs) {\n",
    "        soldOutState = new SoldOutState(this);\n",
    "        noQuarterState = new NoQuarterState(this);\n",
    "        hasQuarterState = new HasQuarterState(this);\n",
    "        soldState = new SoldState(this);\n",
    "\n",
    "        this.count = numberGumballs;\n",
    "        if (numberGumballs > 0) {\n",
    "            state = noQuarterState;\n",
    "        } \n",
    "    }\n",
    " \n",
    "    public void insertQuarter() {\n",
    "        state.insertQuarter();\n",
    "    }\n",
    "\n",
    "    public void ejectQuarter() {\n",
    "        state.ejectQuarter();\n",
    "    }\n",
    " \n",
    "    public void turnCrank() {\n",
    "        state.turnCrank();\n",
    "        state.dispense();\n",
    "    }\n",
    "\n",
    "    void setState(State state) {\n",
    "        this.state = state;\n",
    "    }\n",
    "\n",
    "    void releaseBall() {\n",
    "        System.out.println(\"A gumball comes rolling out the slot...\");\n",
    "        if (count != 0) {\n",
    "            count = count - 1;\n",
    "        }\n",
    "    }\n",
    " \n",
    "    int getCount() {\n",
    "        return count;\n",
    "    }\n",
    " \n",
    "    void refill(int count) {\n",
    "        this.count = count;\n",
    "        state = noQuarterState;\n",
    "    }\n",
    "\n",
    "    public State getState() {\n",
    "        return state;\n",
    "    }\n",
    "\n",
    "    public State getSoldOutState() {\n",
    "        return soldOutState;\n",
    "    }\n",
    "\n",
    "    public State getNoQuarterState() {\n",
    "        return noQuarterState;\n",
    "    }\n",
    "\n",
    "    public State getHasQuarterState() {\n",
    "        return hasQuarterState;\n",
    "    }\n",
    "\n",
    "    public State getSoldState() {\n",
    "        return soldState;\n",
    "    }\n",
    " \n",
    "    public String toString() {\n",
    "        StringBuffer result = new StringBuffer();\n",
    "        result.append(\"\\nMighty Gumball, Inc.\");\n",
    "        result.append(\"\\nJava-enabled Standing Gumball Model #2004\");\n",
    "        result.append(\"\\nInventory: \" + count + \" gumball\");\n",
    "        if (count != 1) {\n",
    "            result.append(\"s\");\n",
    "        }\n",
    "        result.append(\"\\n\");\n",
    "        result.append(\"Machine is \" + state + \"\\n\");\n",
    "        return result.toString();\n",
    "    }\n",
    "}\n"
   ]
  },
  {
   "cell_type": "code",
   "execution_count": null,
   "metadata": {
    "collapsed": true,
    "slideshow": {
     "slide_type": "slide"
    }
   },
   "outputs": [],
   "source": [
    "# %load ./src/headfirst/state/gumballstate/GumballMachineTestDrive.java\n",
    "package headfirst.state.gumballstate;\n",
    "\n",
    "public class GumballMachineTestDrive {\n",
    "    public static void main(String[] args) {\n",
    "        GumballMachine gumballMachine = new GumballMachine(5);\n",
    "\n",
    "        System.out.println(gumballMachine);\n",
    "\n",
    "        gumballMachine.insertQuarter();\n",
    "        gumballMachine.turnCrank();\n",
    "\n",
    "        System.out.println(gumballMachine);\n",
    "\n",
    "        gumballMachine.insertQuarter();\n",
    "        gumballMachine.turnCrank();\n",
    "        gumballMachine.insertQuarter();\n",
    "        gumballMachine.turnCrank();\n",
    "\n",
    "        System.out.println(gumballMachine);\n",
    "    }\n",
    "}\n"
   ]
  },
  {
   "cell_type": "code",
   "execution_count": 18,
   "metadata": {
    "collapsed": false,
    "slideshow": {
     "slide_type": "slide"
    }
   },
   "outputs": [
    {
     "name": "stdout",
     "output_type": "stream",
     "text": [
      "\r\n",
      "Mighty Gumball, Inc.\r\n",
      "Java-enabled Standing Gumball Model #2004\r\n",
      "Inventory: 5 gumballs\r\n",
      "Machine is waiting for quarter\r\n",
      "\r\n",
      "You inserted a quarter\r\n",
      "You turned...\r\n",
      "A gumball comes rolling out the slot...\r\n",
      "\r\n",
      "Mighty Gumball, Inc.\r\n",
      "Java-enabled Standing Gumball Model #2004\r\n",
      "Inventory: 4 gumballs\r\n",
      "Machine is waiting for quarter\r\n",
      "\r\n",
      "You inserted a quarter\r\n",
      "You turned...\r\n",
      "A gumball comes rolling out the slot...\r\n",
      "You inserted a quarter\r\n",
      "You turned...\r\n",
      "A gumball comes rolling out the slot...\r\n",
      "\r\n",
      "Mighty Gumball, Inc.\r\n",
      "Java-enabled Standing Gumball Model #2004\r\n",
      "Inventory: 2 gumballs\r\n",
      "Machine is waiting for quarter\r\n",
      "\r\n"
     ]
    }
   ],
   "source": [
    "!javac -d classes/ -sourcepath src/ src/headfirst/state/gumballstate/*.java\n",
    "!java -cp classes/ headfirst.state.gumballstate.GumballMachineTestDrive"
   ]
  },
  {
   "cell_type": "markdown",
   "metadata": {
    "slideshow": {
     "slide_type": "slide"
    }
   },
   "source": [
    "### S.4.2 winner\n",
    "\n",
    "* gumballstatewinner패키지\n",
    "* winner일 경우, 사탕을 2개 얻음."
   ]
  },
  {
   "cell_type": "code",
   "execution_count": 36,
   "metadata": {
    "collapsed": false,
    "slideshow": {
     "slide_type": "slide"
    }
   },
   "outputs": [
    {
     "data": {
      "image/svg+xml": [
       "<svg height=\"390px\" style=\"width:814px;height:390px;\" version=\"1.1\" viewBox=\"0 0 814 390\" width=\"814px\" xmlns=\"http://www.w3.org/2000/svg\" xmlns:xlink=\"http://www.w3.org/1999/xlink\"><defs><filter height=\"300%\" id=\"f1\" width=\"300%\" x=\"-1\" y=\"-1\"><feGaussianBlur result=\"blurOut\" stdDeviation=\"2.0\"/><feColorMatrix in=\"blurOut\" result=\"blurOut2\" type=\"matrix\" values=\"0 0 0 0 0 0 0 0 0 0 0 0 0 0 0 0 0 0 .4 0\"/><feOffset dx=\"4.0\" dy=\"4.0\" in=\"blurOut2\" result=\"blurOut3\"/><feBlend in=\"SourceGraphic\" in2=\"blurOut3\" mode=\"normal\"/></filter></defs><g><line style=\"stroke: #A80036; stroke-width: 1.0; stroke-dasharray: 5.0,5.0;\" x1=\"35\" x2=\"35\" y1=\"38.4883\" y2=\"351.5938\"/><line style=\"stroke: #A80036; stroke-width: 1.0; stroke-dasharray: 5.0,5.0;\" x1=\"150.5\" x2=\"150.5\" y1=\"38.4883\" y2=\"351.5938\"/><line style=\"stroke: #A80036; stroke-width: 1.0; stroke-dasharray: 5.0,5.0;\" x1=\"279.5\" x2=\"279.5\" y1=\"38.4883\" y2=\"351.5938\"/><line style=\"stroke: #A80036; stroke-width: 1.0; stroke-dasharray: 5.0,5.0;\" x1=\"405.5\" x2=\"405.5\" y1=\"38.4883\" y2=\"351.5938\"/><line style=\"stroke: #A80036; stroke-width: 1.0; stroke-dasharray: 5.0,5.0;\" x1=\"542.5\" x2=\"542.5\" y1=\"38.4883\" y2=\"351.5938\"/><line style=\"stroke: #A80036; stroke-width: 1.0; stroke-dasharray: 5.0,5.0;\" x1=\"658.5\" x2=\"658.5\" y1=\"38.4883\" y2=\"351.5938\"/><line style=\"stroke: #A80036; stroke-width: 1.0; stroke-dasharray: 5.0,5.0;\" x1=\"759.5\" x2=\"759.5\" y1=\"38.4883\" y2=\"351.5938\"/><rect fill=\"#FEFECE\" filter=\"url(#f1)\" height=\"30.4883\" style=\"stroke: #A80036; stroke-width: 1.5;\" width=\"51\" x=\"8\" y=\"3\"/><text fill=\"#000000\" font-family=\"sans-serif\" font-size=\"14\" lengthAdjust=\"spacingAndGlyphs\" textLength=\"37\" x=\"15\" y=\"23.5352\">client</text><rect fill=\"#FEFECE\" filter=\"url(#f1)\" height=\"30.4883\" style=\"stroke: #A80036; stroke-width: 1.5;\" width=\"51\" x=\"8\" y=\"350.5938\"/><text fill=\"#000000\" font-family=\"sans-serif\" font-size=\"14\" lengthAdjust=\"spacingAndGlyphs\" textLength=\"37\" x=\"15\" y=\"371.1289\">client</text><rect fill=\"#FEFECE\" filter=\"url(#f1)\" height=\"30.4883\" style=\"stroke: #A80036; stroke-width: 1.5;\" width=\"128\" x=\"84.5\" y=\"3\"/><text fill=\"#000000\" font-family=\"sans-serif\" font-size=\"14\" lengthAdjust=\"spacingAndGlyphs\" textLength=\"114\" x=\"91.5\" y=\"23.5352\">GumballMachine</text><rect fill=\"#FEFECE\" filter=\"url(#f1)\" height=\"30.4883\" style=\"stroke: #A80036; stroke-width: 1.5;\" width=\"128\" x=\"84.5\" y=\"350.5938\"/><text fill=\"#000000\" font-family=\"sans-serif\" font-size=\"14\" lengthAdjust=\"spacingAndGlyphs\" textLength=\"114\" x=\"91.5\" y=\"371.1289\">GumballMachine</text><rect fill=\"#FEFECE\" filter=\"url(#f1)\" height=\"30.4883\" style=\"stroke: #A80036; stroke-width: 1.5;\" width=\"103\" x=\"226.5\" y=\"3\"/><text fill=\"#000000\" font-family=\"sans-serif\" font-size=\"14\" lengthAdjust=\"spacingAndGlyphs\" textLength=\"89\" x=\"233.5\" y=\"23.5352\">SoldOutState</text><rect fill=\"#FEFECE\" filter=\"url(#f1)\" height=\"30.4883\" style=\"stroke: #A80036; stroke-width: 1.5;\" width=\"103\" x=\"226.5\" y=\"350.5938\"/><text fill=\"#000000\" font-family=\"sans-serif\" font-size=\"14\" lengthAdjust=\"spacingAndGlyphs\" textLength=\"89\" x=\"233.5\" y=\"371.1289\">SoldOutState</text><rect fill=\"#FEFECE\" filter=\"url(#f1)\" height=\"30.4883\" style=\"stroke: #A80036; stroke-width: 1.5;\" width=\"120\" x=\"343.5\" y=\"3\"/><text fill=\"#000000\" font-family=\"sans-serif\" font-size=\"14\" lengthAdjust=\"spacingAndGlyphs\" textLength=\"106\" x=\"350.5\" y=\"23.5352\">NoQuarterState</text><rect fill=\"#FEFECE\" filter=\"url(#f1)\" height=\"30.4883\" style=\"stroke: #A80036; stroke-width: 1.5;\" width=\"120\" x=\"343.5\" y=\"350.5938\"/><text fill=\"#000000\" font-family=\"sans-serif\" font-size=\"14\" lengthAdjust=\"spacingAndGlyphs\" textLength=\"106\" x=\"350.5\" y=\"371.1289\">NoQuarterState</text><rect fill=\"#FEFECE\" filter=\"url(#f1)\" height=\"30.4883\" style=\"stroke: #A80036; stroke-width: 1.5;\" width=\"126\" x=\"477.5\" y=\"3\"/><text fill=\"#000000\" font-family=\"sans-serif\" font-size=\"14\" lengthAdjust=\"spacingAndGlyphs\" textLength=\"112\" x=\"484.5\" y=\"23.5352\">HasQuarterState</text><rect fill=\"#FEFECE\" filter=\"url(#f1)\" height=\"30.4883\" style=\"stroke: #A80036; stroke-width: 1.5;\" width=\"126\" x=\"477.5\" y=\"350.5938\"/><text fill=\"#000000\" font-family=\"sans-serif\" font-size=\"14\" lengthAdjust=\"spacingAndGlyphs\" textLength=\"112\" x=\"484.5\" y=\"371.1289\">HasQuarterState</text><rect fill=\"#FEFECE\" filter=\"url(#f1)\" height=\"30.4883\" style=\"stroke: #A80036; stroke-width: 1.5;\" width=\"78\" x=\"617.5\" y=\"3\"/><text fill=\"#000000\" font-family=\"sans-serif\" font-size=\"14\" lengthAdjust=\"spacingAndGlyphs\" textLength=\"64\" x=\"624.5\" y=\"23.5352\">SoldState</text><rect fill=\"#FEFECE\" filter=\"url(#f1)\" height=\"30.4883\" style=\"stroke: #A80036; stroke-width: 1.5;\" width=\"78\" x=\"617.5\" y=\"350.5938\"/><text fill=\"#000000\" font-family=\"sans-serif\" font-size=\"14\" lengthAdjust=\"spacingAndGlyphs\" textLength=\"64\" x=\"624.5\" y=\"371.1289\">SoldState</text><rect fill=\"#FEFECE\" filter=\"url(#f1)\" height=\"30.4883\" style=\"stroke: #A80036; stroke-width: 1.5;\" width=\"96\" x=\"709.5\" y=\"3\"/><text fill=\"#000000\" font-family=\"sans-serif\" font-size=\"14\" lengthAdjust=\"spacingAndGlyphs\" textLength=\"82\" x=\"716.5\" y=\"23.5352\">WinnerState</text><rect fill=\"#FEFECE\" filter=\"url(#f1)\" height=\"30.4883\" style=\"stroke: #A80036; stroke-width: 1.5;\" width=\"96\" x=\"709.5\" y=\"350.5938\"/><text fill=\"#000000\" font-family=\"sans-serif\" font-size=\"14\" lengthAdjust=\"spacingAndGlyphs\" textLength=\"82\" x=\"716.5\" y=\"371.1289\">WinnerState</text><polygon fill=\"#A80036\" points=\"138.5,65.4883,148.5,69.4883,138.5,73.4883,142.5,69.4883\" style=\"stroke: #A80036; stroke-width: 1.0;\"/><line style=\"stroke: #A80036; stroke-width: 1.0;\" x1=\"35.5\" x2=\"144.5\" y1=\"69.4883\" y2=\"69.4883\"/><text fill=\"#000000\" font-family=\"sans-serif\" font-size=\"13\" lengthAdjust=\"spacingAndGlyphs\" textLength=\"63\" x=\"42.5\" y=\"65.0566\">m=new(5)</text><polygon fill=\"#A80036\" points=\"268,94.7988,278,98.7988,268,102.7988,272,98.7988\" style=\"stroke: #A80036; stroke-width: 1.0;\"/><line style=\"stroke: #A80036; stroke-width: 1.0;\" x1=\"150.5\" x2=\"274\" y1=\"98.7988\" y2=\"98.7988\"/><text fill=\"#000000\" font-family=\"sans-serif\" font-size=\"13\" lengthAdjust=\"spacingAndGlyphs\" textLength=\"45\" x=\"157.5\" y=\"94.3672\">new(m)</text><polygon fill=\"#A80036\" points=\"393.5,124.1094,403.5,128.1094,393.5,132.1094,397.5,128.1094\" style=\"stroke: #A80036; stroke-width: 1.0;\"/><line style=\"stroke: #A80036; stroke-width: 1.0;\" x1=\"150.5\" x2=\"399.5\" y1=\"128.1094\" y2=\"128.1094\"/><text fill=\"#000000\" font-family=\"sans-serif\" font-size=\"13\" lengthAdjust=\"spacingAndGlyphs\" textLength=\"45\" x=\"157.5\" y=\"123.6777\">new(m)</text><polygon fill=\"#A80036\" points=\"530.5,153.4199,540.5,157.4199,530.5,161.4199,534.5,157.4199\" style=\"stroke: #A80036; stroke-width: 1.0;\"/><line style=\"stroke: #A80036; stroke-width: 1.0;\" x1=\"150.5\" x2=\"536.5\" y1=\"157.4199\" y2=\"157.4199\"/><text fill=\"#000000\" font-family=\"sans-serif\" font-size=\"13\" lengthAdjust=\"spacingAndGlyphs\" textLength=\"45\" x=\"157.5\" y=\"152.9883\">new(m)</text><polygon fill=\"#A80036\" points=\"646.5,182.7305,656.5,186.7305,646.5,190.7305,650.5,186.7305\" style=\"stroke: #A80036; stroke-width: 1.0;\"/><line style=\"stroke: #A80036; stroke-width: 1.0;\" x1=\"150.5\" x2=\"652.5\" y1=\"186.7305\" y2=\"186.7305\"/><text fill=\"#000000\" font-family=\"sans-serif\" font-size=\"13\" lengthAdjust=\"spacingAndGlyphs\" textLength=\"45\" x=\"157.5\" y=\"182.2988\">new(m)</text><polygon fill=\"#A80036\" points=\"747.5,212.041,757.5,216.041,747.5,220.041,751.5,216.041\" style=\"stroke: #A80036; stroke-width: 1.0;\"/><line style=\"stroke: #A80036; stroke-width: 1.0;\" x1=\"150.5\" x2=\"753.5\" y1=\"216.041\" y2=\"216.041\"/><text fill=\"#000000\" font-family=\"sans-serif\" font-size=\"13\" lengthAdjust=\"spacingAndGlyphs\" textLength=\"45\" x=\"157.5\" y=\"211.6094\">new(m)</text><polygon fill=\"#A80036\" points=\"138.5,241.3516,148.5,245.3516,138.5,249.3516,142.5,245.3516\" style=\"stroke: #A80036; stroke-width: 1.0;\"/><line style=\"stroke: #A80036; stroke-width: 1.0;\" x1=\"35.5\" x2=\"144.5\" y1=\"245.3516\" y2=\"245.3516\"/><text fill=\"#000000\" font-family=\"sans-serif\" font-size=\"13\" lengthAdjust=\"spacingAndGlyphs\" textLength=\"91\" x=\"42.5\" y=\"240.9199\">insertQuarter()</text><polygon fill=\"#A80036\" points=\"138.5,270.6621,148.5,274.6621,138.5,278.6621,142.5,274.6621\" style=\"stroke: #A80036; stroke-width: 1.0;\"/><line style=\"stroke: #A80036; stroke-width: 1.0;\" x1=\"35.5\" x2=\"144.5\" y1=\"274.6621\" y2=\"274.6621\"/><text fill=\"#000000\" font-family=\"sans-serif\" font-size=\"13\" lengthAdjust=\"spacingAndGlyphs\" textLength=\"85\" x=\"42.5\" y=\"270.2305\">ejectQuarter()</text><polygon fill=\"#A80036\" points=\"138.5,299.9727,148.5,303.9727,138.5,307.9727,142.5,303.9727\" style=\"stroke: #A80036; stroke-width: 1.0;\"/><line style=\"stroke: #A80036; stroke-width: 1.0;\" x1=\"35.5\" x2=\"144.5\" y1=\"303.9727\" y2=\"303.9727\"/><text fill=\"#000000\" font-family=\"sans-serif\" font-size=\"13\" lengthAdjust=\"spacingAndGlyphs\" textLength=\"71\" x=\"42.5\" y=\"299.541\">turnCrank()</text><polygon fill=\"#A80036\" points=\"138.5,329.2832,148.5,333.2832,138.5,337.2832,142.5,333.2832\" style=\"stroke: #A80036; stroke-width: 1.0;\"/><line style=\"stroke: #A80036; stroke-width: 1.0;\" x1=\"35.5\" x2=\"144.5\" y1=\"333.2832\" y2=\"333.2832\"/><text fill=\"#000000\" font-family=\"sans-serif\" font-size=\"13\" lengthAdjust=\"spacingAndGlyphs\" textLength=\"64\" x=\"42.5\" y=\"328.8516\">dispense()</text></g></svg>"
      ],
      "text/plain": [
       "<IPython.core.display.SVG object>"
      ]
     },
     "execution_count": 36,
     "metadata": {},
     "output_type": "execute_result"
    }
   ],
   "source": [
    "%%plantuml\n",
    "@startuml\n",
    "client -> GumballMachine:m=new(5)\n",
    "GumballMachine -> SoldOutState:new(m)\n",
    "GumballMachine -> NoQuarterState:new(m)\n",
    "GumballMachine -> HasQuarterState:new(m)\n",
    "GumballMachine -> SoldState:new(m)\n",
    "GumballMachine -> WinnerState:new(m)\n",
    "client -> GumballMachine:insertQuarter()\n",
    "client -> GumballMachine:ejectQuarter()\n",
    "client -> GumballMachine:turnCrank()\n",
    "client -> GumballMachine:dispense()\n",
    "@enduml"
   ]
  },
  {
   "cell_type": "code",
   "execution_count": null,
   "metadata": {
    "collapsed": true,
    "slideshow": {
     "slide_type": "slide"
    }
   },
   "outputs": [],
   "source": [
    "# %load ./src/headfirst/state/gumballstatewinner/State.java\n",
    "package headfirst.state.gumballstatewinner;\n",
    "\n",
    "public interface State {\n",
    "\tpublic void insertQuarter();\n",
    "\tpublic void ejectQuarter();\n",
    "\tpublic void turnCrank();\n",
    "\tpublic void dispense();\n",
    "}\n"
   ]
  },
  {
   "cell_type": "code",
   "execution_count": null,
   "metadata": {
    "collapsed": true,
    "slideshow": {
     "slide_type": "slide"
    }
   },
   "outputs": [],
   "source": [
    "# %load ./src/headfirst/state/gumballstatewinner/HasQuarterState.java\n",
    "package headfirst.state.gumballstatewinner;\n",
    "\n",
    "import java.util.Random;\n",
    "\n",
    "public class HasQuarterState implements State {\n",
    "\tRandom randomWinner = new Random(System.currentTimeMillis());\n",
    "\tGumballMachine gumballMachine;\n",
    " \n",
    "\tpublic HasQuarterState(GumballMachine gumballMachine) {\n",
    "\t\tthis.gumballMachine = gumballMachine;\n",
    "\t}\n",
    "  \n",
    "\tpublic void insertQuarter() {\n",
    "\t\tSystem.out.println(\"You can't insert another quarter\");\n",
    "\t}\n",
    " \n",
    "\tpublic void ejectQuarter() {\n",
    "\t\tSystem.out.println(\"Quarter returned\");\n",
    "\t\tgumballMachine.setState(gumballMachine.getNoQuarterState());\n",
    "\t}\n",
    " \n",
    "\tpublic void turnCrank() {\n",
    "\t\tSystem.out.println(\"You turned...\");\n",
    "\t\tint winner = randomWinner.nextInt(10);\n",
    "\t\tif ((winner == 0) && (gumballMachine.getCount() > 1)) {\n",
    "\t\t\tgumballMachine.setState(gumballMachine.getWinnerState());\n",
    "\t\t} else {\n",
    "\t\t\tgumballMachine.setState(gumballMachine.getSoldState());\n",
    "\t\t}\n",
    "\t}\n",
    "\n",
    "    public void dispense() {\n",
    "        System.out.println(\"No gumball dispensed\");\n",
    "    }\n",
    " \n",
    "\tpublic String toString() {\n",
    "\t\treturn \"waiting for turn of crank\";\n",
    "\t}\n",
    "}\n"
   ]
  },
  {
   "cell_type": "code",
   "execution_count": null,
   "metadata": {
    "collapsed": true,
    "slideshow": {
     "slide_type": "slide"
    }
   },
   "outputs": [],
   "source": [
    "# %load ./src/headfirst/state/gumballstatewinner/NoQuarterState.java\n",
    "package headfirst.state.gumballstatewinner;\n",
    "\n",
    "public class NoQuarterState implements State {\n",
    "    GumballMachine gumballMachine;\n",
    " \n",
    "    public NoQuarterState(GumballMachine gumballMachine) {\n",
    "        this.gumballMachine = gumballMachine;\n",
    "    }\n",
    " \n",
    "\tpublic void insertQuarter() {\n",
    "\t\tSystem.out.println(\"You inserted a quarter\");\n",
    "\t\tgumballMachine.setState(gumballMachine.getHasQuarterState());\n",
    "\t}\n",
    " \n",
    "\tpublic void ejectQuarter() {\n",
    "\t\tSystem.out.println(\"You haven't inserted a quarter\");\n",
    "\t}\n",
    " \n",
    "\tpublic void turnCrank() {\n",
    "\t\tSystem.out.println(\"You turned, but there's no quarter\");\n",
    "\t }\n",
    " \n",
    "\tpublic void dispense() {\n",
    "\t\tSystem.out.println(\"You need to pay first\");\n",
    "\t} \n",
    " \n",
    "\tpublic String toString() {\n",
    "\t\treturn \"waiting for quarter\";\n",
    "\t}\n",
    "}\n"
   ]
  },
  {
   "cell_type": "code",
   "execution_count": null,
   "metadata": {
    "collapsed": true,
    "slideshow": {
     "slide_type": "slide"
    }
   },
   "outputs": [],
   "source": [
    "# %load ./src/headfirst/state/gumballstatewinner/SoldOutState.java\n",
    "package headfirst.state.gumballstatewinner;\n",
    "\n",
    "public class SoldOutState implements State {\n",
    "    GumballMachine gumballMachine;\n",
    " \n",
    "    public SoldOutState(GumballMachine gumballMachine) {\n",
    "        this.gumballMachine = gumballMachine;\n",
    "    }\n",
    " \n",
    "\tpublic void insertQuarter() {\n",
    "\t\tSystem.out.println(\"You can't insert a quarter, the machine is sold out\");\n",
    "\t}\n",
    " \n",
    "\tpublic void ejectQuarter() {\n",
    "\t\tSystem.out.println(\"You can't eject, you haven't inserted a quarter yet\");\n",
    "\t}\n",
    " \n",
    "\tpublic void turnCrank() {\n",
    "\t\tSystem.out.println(\"You turned, but there are no gumballs\");\n",
    "\t}\n",
    " \n",
    "\tpublic void dispense() {\n",
    "\t\tSystem.out.println(\"No gumball dispensed\");\n",
    "\t}\n",
    " \n",
    "\tpublic String toString() {\n",
    "\t\treturn \"sold out\";\n",
    "\t}\n",
    "}\n"
   ]
  },
  {
   "cell_type": "code",
   "execution_count": null,
   "metadata": {
    "collapsed": true,
    "slideshow": {
     "slide_type": "slide"
    }
   },
   "outputs": [],
   "source": [
    "# %load ./src/headfirst/state/gumballstatewinner/SoldState.java\n",
    "package headfirst.state.gumballstatewinner;\n",
    "\n",
    "public class SoldState implements State {\n",
    "    GumballMachine gumballMachine;\n",
    " \n",
    "    public SoldState(GumballMachine gumballMachine) {\n",
    "        this.gumballMachine = gumballMachine;\n",
    "    }\n",
    "       \n",
    "\tpublic void insertQuarter() {\n",
    "\t\tSystem.out.println(\"Please wait, we're already giving you a gumball\");\n",
    "\t}\n",
    " \n",
    "\tpublic void ejectQuarter() {\n",
    "\t\tSystem.out.println(\"Sorry, you already turned the crank\");\n",
    "\t}\n",
    " \n",
    "\tpublic void turnCrank() {\n",
    "\t\tSystem.out.println(\"Turning twice doesn't get you another gumball!\");\n",
    "\t}\n",
    " \n",
    "\tpublic void dispense() {\n",
    "\t\tgumballMachine.releaseBall();\n",
    "\t\tif (gumballMachine.getCount() > 0) {\n",
    "\t\t\tgumballMachine.setState(gumballMachine.getNoQuarterState());\n",
    "\t\t} else {\n",
    "\t\t\tSystem.out.println(\"Oops, out of gumballs!\");\n",
    "\t\t\tgumballMachine.setState(gumballMachine.getSoldOutState());\n",
    "\t\t}\n",
    "\t}\n",
    " \n",
    "\tpublic String toString() {\n",
    "\t\treturn \"dispensing a gumball\";\n",
    "\t}\n",
    "}\n"
   ]
  },
  {
   "cell_type": "code",
   "execution_count": null,
   "metadata": {
    "collapsed": true,
    "slideshow": {
     "slide_type": "slide"
    }
   },
   "outputs": [],
   "source": [
    "# %load ./src/headfirst/state/gumballstatewinner/WinnerState.java\n",
    "package headfirst.state.gumballstatewinner;\n",
    "\n",
    "public class WinnerState implements State {\n",
    "    GumballMachine gumballMachine;\n",
    " \n",
    "    public WinnerState(GumballMachine gumballMachine) {\n",
    "        this.gumballMachine = gumballMachine;\n",
    "    }\n",
    " \n",
    "\tpublic void insertQuarter() {\n",
    "\t\tSystem.out.println(\"Please wait, we're already giving you a Gumball\");\n",
    "\t}\n",
    " \n",
    "\tpublic void ejectQuarter() {\n",
    "\t\tSystem.out.println(\"Please wait, we're already giving you a Gumball\");\n",
    "\t}\n",
    " \n",
    "\tpublic void turnCrank() {\n",
    "\t\tSystem.out.println(\"Turning again doesn't get you another gumball!\");\n",
    "\t}\n",
    " \n",
    "\tpublic void dispense() {\n",
    "\t\tSystem.out.println(\"YOU'RE A WINNER! You get two gumballs for your quarter\");\n",
    "\t\tgumballMachine.releaseBall();\n",
    "\t\tif (gumballMachine.getCount() == 0) {\n",
    "\t\t\tgumballMachine.setState(gumballMachine.getSoldOutState());\n",
    "\t\t} else {\n",
    "\t\t\tgumballMachine.releaseBall();\n",
    "\t\t\tif (gumballMachine.getCount() > 0) {\n",
    "\t\t\t\tgumballMachine.setState(gumballMachine.getNoQuarterState());\n",
    "\t\t\t} else {\n",
    "            \tSystem.out.println(\"Oops, out of gumballs!\");\n",
    "\t\t\t\tgumballMachine.setState(gumballMachine.getSoldOutState());\n",
    "\t\t\t}\n",
    "\t\t}\n",
    "\t}\n",
    " \n",
    "\tpublic String toString() {\n",
    "\t\treturn \"despensing two gumballs for your quarter, because YOU'RE A WINNER!\";\n",
    "\t}\n",
    "}\n"
   ]
  },
  {
   "cell_type": "code",
   "execution_count": null,
   "metadata": {
    "collapsed": true
   },
   "outputs": [],
   "source": [
    "# %load ./src/headfirst/state/gumballstatewinner/GumballMachine.java\n",
    "package headfirst.state.gumballstatewinner;\n",
    "\n",
    "public class GumballMachine {\n",
    " \n",
    "\tState soldOutState;\n",
    "\tState noQuarterState;\n",
    "\tState hasQuarterState;\n",
    "\tState soldState;\n",
    "\tState winnerState;\n",
    " \n",
    "\tState state = soldOutState;\n",
    "\tint count = 0;\n",
    " \n",
    "\tpublic GumballMachine(int numberGumballs) {\n",
    "\t\tsoldOutState = new SoldOutState(this);\n",
    "\t\tnoQuarterState = new NoQuarterState(this);\n",
    "\t\thasQuarterState = new HasQuarterState(this);\n",
    "\t\tsoldState = new SoldState(this);\n",
    "\t\twinnerState = new WinnerState(this);\n",
    "\n",
    "\t\tthis.count = numberGumballs;\n",
    " \t\tif (numberGumballs > 0) {\n",
    "\t\t\tstate = noQuarterState;\n",
    "\t\t} \n",
    "\t}\n",
    " \n",
    "\tpublic void insertQuarter() {\n",
    "\t\tstate.insertQuarter();\n",
    "\t}\n",
    " \n",
    "\tpublic void ejectQuarter() {\n",
    "\t\tstate.ejectQuarter();\n",
    "\t}\n",
    " \n",
    "\tpublic void turnCrank() {\n",
    "\t\tstate.turnCrank();\n",
    "\t\tstate.dispense();\n",
    "\t}\n",
    "\n",
    "\tvoid setState(State state) {\n",
    "\t\tthis.state = state;\n",
    "\t}\n",
    " \n",
    "\tvoid releaseBall() {\n",
    "\t\tSystem.out.println(\"A gumball comes rolling out the slot...\");\n",
    "\t\tif (count != 0) {\n",
    "\t\t\tcount = count - 1;\n",
    "\t\t}\n",
    "\t}\n",
    " \n",
    "\tint getCount() {\n",
    "\t\treturn count;\n",
    "\t}\n",
    " \n",
    "\tvoid refill(int count) {\n",
    "\t\tthis.count = count;\n",
    "\t\tstate = noQuarterState;\n",
    "\t}\n",
    "\n",
    "    public State getState() {\n",
    "        return state;\n",
    "    }\n",
    "\n",
    "    public State getSoldOutState() {\n",
    "        return soldOutState;\n",
    "    }\n",
    "\n",
    "    public State getNoQuarterState() {\n",
    "        return noQuarterState;\n",
    "    }\n",
    "\n",
    "    public State getHasQuarterState() {\n",
    "        return hasQuarterState;\n",
    "    }\n",
    "\n",
    "    public State getSoldState() {\n",
    "        return soldState;\n",
    "    }\n",
    "\n",
    "    public State getWinnerState() {\n",
    "        return winnerState;\n",
    "    }\n",
    " \n",
    "\tpublic String toString() {\n",
    "\t\tStringBuffer result = new StringBuffer();\n",
    "\t\tresult.append(\"\\nMighty Gumball, Inc.\");\n",
    "\t\tresult.append(\"\\nJava-enabled Standing Gumball Model #2004\");\n",
    "\t\tresult.append(\"\\nInventory: \" + count + \" gumball\");\n",
    "\t\tif (count != 1) {\n",
    "\t\t\tresult.append(\"s\");\n",
    "\t\t}\n",
    "\t\tresult.append(\"\\n\");\n",
    "\t\tresult.append(\"Machine is \" + state + \"\\n\");\n",
    "\t\treturn result.toString();\n",
    "\t}\n",
    "}\n"
   ]
  },
  {
   "cell_type": "code",
   "execution_count": null,
   "metadata": {
    "collapsed": true,
    "slideshow": {
     "slide_type": "slide"
    }
   },
   "outputs": [],
   "source": [
    "# %load ./src/headfirst/state/gumballstatewinner/GumballMachineTestDrive.java\n",
    "package headfirst.state.gumballstatewinner;\n",
    "\n",
    "public class GumballMachineTestDrive {\n",
    "\n",
    "\tpublic static void main(String[] args) {\n",
    "\t\tGumballMachine gumballMachine = \n",
    "\t\t\tnew GumballMachine(10);\n",
    "\n",
    "\t\tSystem.out.println(gumballMachine);\n",
    "\n",
    "\t\tgumballMachine.insertQuarter();\n",
    "\t\tgumballMachine.turnCrank();\n",
    "\t\tgumballMachine.insertQuarter();\n",
    "\t\tgumballMachine.turnCrank();\n",
    "\n",
    "\t\tSystem.out.println(gumballMachine);\n",
    "\n",
    "\t\tgumballMachine.insertQuarter();\n",
    "\t\tgumballMachine.turnCrank();\n",
    "\t\tgumballMachine.insertQuarter();\n",
    "\t\tgumballMachine.turnCrank();\n",
    "\n",
    "\t\tSystem.out.println(gumballMachine);\n",
    "\n",
    "\t\tgumballMachine.insertQuarter();\n",
    "\t\tgumballMachine.turnCrank();\n",
    "\t\tgumballMachine.insertQuarter();\n",
    "\t\tgumballMachine.turnCrank();\n",
    "\n",
    "\t\tSystem.out.println(gumballMachine);\n",
    "\n",
    "\t\tgumballMachine.insertQuarter();\n",
    "\t\tgumballMachine.turnCrank();\n",
    "\t\tgumballMachine.insertQuarter();\n",
    "\t\tgumballMachine.turnCrank();\n",
    "\n",
    "\t\tSystem.out.println(gumballMachine);\n",
    "\n",
    "\t\tgumballMachine.insertQuarter();\n",
    "\t\tgumballMachine.turnCrank();\n",
    "\t\tgumballMachine.insertQuarter();\n",
    "\t\tgumballMachine.turnCrank();\n",
    "\n",
    "\t\tSystem.out.println(gumballMachine);\n",
    "\t}\n",
    "}\n"
   ]
  }
 ],
 "metadata": {
  "celltoolbar": "Slideshow",
  "kernelspec": {
   "display_name": "Python 2",
   "language": "python",
   "name": "python2"
  },
  "language_info": {
   "codemirror_mode": {
    "name": "ipython",
    "version": 2
   },
   "file_extension": ".py",
   "mimetype": "text/x-python",
   "name": "python",
   "nbconvert_exporter": "python",
   "pygments_lexer": "ipython2",
   "version": "2.7.12"
  }
 },
 "nbformat": 4,
 "nbformat_minor": 0
}
