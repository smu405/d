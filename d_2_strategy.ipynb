{
 "cells": [
  {
   "cell_type": "markdown",
   "metadata": {
    "slideshow": {
     "slide_type": "slide"
    }
   },
   "source": [
    "# Strategy 패턴\n",
    "\n",
    "\n",
    "## S.1 소개\n",
    "\n",
    "* Strategy 패턴은 Behavioral Design Pattern\n",
    "* Policy Pattern이라고 한다. 여러 정책이 존재하고, 상황에 따라 적합한 정책을 적용한다.\n",
    "* 알고리즘이 서로 다르고, 실행시점에 맞는 알고리즘을 선택하여 적용\n",
    "    * 조리법이 서로 다른 경우,\n",
    "    * 파일의 압축 방법이 서로 다른 경우,\n",
    "    * 영화를 보는 방식이 서로 다른 경우, 초대권, 멤버쉽 할인 등\n",
    "    * 자바의 정렬\n",
    "        * Comparator 인터페이스를 이용하는 경우, 서로 다른 정렬 알고리즘을 구현하고, 실행 시점에 결정함.\n"
   ]
  },
  {
   "cell_type": "markdown",
   "metadata": {
    "slideshow": {
     "slide_type": "subslide"
    }
   },
   "source": [
    "* 디자인패턴 요소\n",
    "\n",
    "요소 | 설명\n",
    "---|---\n",
    "name | Strategy\n",
    "problem | 알고리즘의 서로 다른 버전이 존재해서, 중복으로 존재하거나 if문으로 처리해야 함.\n",
    "solution | 중복을 공통화, 실행시점에 맞는 알고리즘을 호출.\n",
    "consequence | OCP (Open Closed Principle). 수정할 경우 Strategy를 추가하고 나머지는 변경하지 않아도 된다."
   ]
  },
  {
   "cell_type": "markdown",
   "metadata": {
    "collapsed": true,
    "slideshow": {
     "slide_type": "subslide"
    }
   },
   "source": [
    "* 프로그래밍 예제\n",
    "    * 'Duck' (HFDP Ch1)\n",
    "    * 정렬 Sort\n",
    "    * 과제\n",
    "        * case extension\n",
    "            * 'Turtle'를 무게에 따라 정렬\n",
    "            * 생년월일에 따라 정렬\n",
    "        * 제출일자\n",
    "            * 실습 시간에 제출, 늦으면 매 하루 50% 감점.\n",
    "            * 과제는 필수로서, 과제의 20% 이상 미제출하지 않는다!"
   ]
  },
  {
   "cell_type": "markdown",
   "metadata": {
    "collapsed": true,
    "slideshow": {
     "slide_type": "slide"
    }
   },
   "source": [
    "## S.2 문제\n",
    "\n",
    "* 경우에 따라 서로 다른 여러 알고리즘이 존재\n",
    "* 알고리즘이 실행시점에 결정이 되고\n",
    "* 조건문을 사용해서 서로 다른 알고리즘을 결정\n"
   ]
  },
  {
   "cell_type": "markdown",
   "metadata": {
    "slideshow": {
     "slide_type": "slide"
    }
   },
   "source": [
    "## S.3 설계\n",
    "\n",
    "클래스 | 설명\n",
    "-----|-----\n",
    "Context | 적용할 Strategy를 결정. 속성으로 사용할 Strategy를 가진다.\n",
    "Strategy | 컴파일시점에 사용하는 Strategy로서 구현은 하위 Strategy$_n$에 위임한다.\n",
    "Strategy$_n$ | 실행시점에 적용하는 Strategy를 가진다.\n",
    "\n",
    "* 서로 다른 알고리즘을 실행시점에 적용하기 위해:\n",
    "    * 상속을 사용하여, 다른 알고리즘을 하위 클래스에게 위임한다.\n",
    "        * 서로 다른 부분을 분리하여 하위 클래스에서 구현한다.\n",
    "        * 상위 Strategy는 인터페이스 또는 클래스로 구현할 수 있다.\n",
    "        * execute()함수의 명칭은 다른 이름을 사용할 수 있다.\n",
    "    * 적용할 알고리즘은 Context에서 strategy에서 결정된다.\n",
    "        * strategy 속성은 private으로 정의한다. executeStrategy()에서만 사용한다.\n",
    "\n",
    "* 영화의 예:\n",
    "    * Context는 Ticket Box의 판매직원, 관람객이 내는 카드 또는 멤버쉽에 따라 맞는 할인율을 적용한다.\n",
    "    * Strategy는 어떤 카드 (Strategy$_n$)가 사용될지 모르지만, 할인을 적용해야 한다고 알고 있다.\n",
    "    * Strategy$_n$은 영화관람객이 가져온 카드의 할인정책을 말한다."
   ]
  },
  {
   "cell_type": "code",
   "execution_count": 1,
   "metadata": {
    "collapsed": false,
    "slideshow": {
     "slide_type": "subslide"
    }
   },
   "outputs": [],
   "source": [
    "import iplantuml"
   ]
  },
  {
   "cell_type": "code",
   "execution_count": 2,
   "metadata": {
    "collapsed": false,
    "scrolled": true,
    "slideshow": {
     "slide_type": "subslide"
    }
   },
   "outputs": [
    {
     "data": {
      "image/svg+xml": [
       "<svg height=\"199px\" style=\"width:329px;height:199px;\" version=\"1.1\" viewBox=\"0 0 329 199\" width=\"329px\" xmlns=\"http://www.w3.org/2000/svg\" xmlns:xlink=\"http://www.w3.org/1999/xlink\"><defs><filter height=\"300%\" id=\"f1\" width=\"300%\" x=\"-1\" y=\"-1\"><feGaussianBlur result=\"blurOut\" stdDeviation=\"2.0\"/><feColorMatrix in=\"blurOut\" result=\"blurOut2\" type=\"matrix\" values=\"0 0 0 0 0 0 0 0 0 0 0 0 0 0 0 0 0 0 .4 0\"/><feOffset dx=\"4.0\" dy=\"4.0\" in=\"blurOut2\" result=\"blurOut3\"/><feBlend in=\"SourceGraphic\" in2=\"blurOut3\" mode=\"normal\"/></filter></defs><g><rect fill=\"#FEFECE\" filter=\"url(#f1)\" height=\"73.6094\" style=\"stroke: #A80036; stroke-width: 1.5;\" width=\"126\" x=\"6\" y=\"8\"/><ellipse cx=\"41.7\" cy=\"24\" fill=\"#ADD1B2\" rx=\"11\" ry=\"11\" style=\"stroke: #A80036; stroke-width: 1.0;\"/><path d=\"M44.6688,29.6406 Q44.0906,29.9375 43.45,30.0859 Q42.8094,30.2344 42.1063,30.2344 Q39.6063,30.2344 38.2859,28.5859 Q36.9656,26.9375 36.9656,23.8125 Q36.9656,20.6875 38.2859,19.0313 Q39.6063,17.375 42.1063,17.375 Q42.8094,17.375 43.4578,17.5313 Q44.1063,17.6875 44.6688,17.9844 L44.6688,20.7031 Q44.0438,20.125 43.45,19.8516 Q42.8563,19.5781 42.2313,19.5781 Q40.8875,19.5781 40.2,20.6484 Q39.5125,21.7188 39.5125,23.8125 Q39.5125,25.9063 40.2,26.9766 Q40.8875,28.0469 42.2313,28.0469 Q42.8563,28.0469 43.45,27.7734 Q44.0438,27.5 44.6688,26.9219 L44.6688,29.6406 Z \"/><text fill=\"#000000\" font-family=\"sans-serif\" font-size=\"12\" lengthAdjust=\"spacingAndGlyphs\" textLength=\"48\" x=\"60.3\" y=\"28.1543\">Context</text><line style=\"stroke: #A80036; stroke-width: 1.5;\" x1=\"7\" x2=\"131\" y1=\"40\" y2=\"40\"/><rect fill=\"none\" height=\"6\" style=\"stroke: #C82930; stroke-width: 1.0;\" width=\"6\" x=\"14\" y=\"48.9023\"/><text fill=\"#000000\" font-family=\"sans-serif\" font-size=\"11\" lengthAdjust=\"spacingAndGlyphs\" textLength=\"99\" x=\"26\" y=\"54.2104\">strategy:Strategy</text><line style=\"stroke: #A80036; stroke-width: 1.5;\" x1=\"7\" x2=\"131\" y1=\"60.8047\" y2=\"60.8047\"/><ellipse cx=\"17\" cy=\"72.707\" fill=\"#84BE84\" rx=\"3\" ry=\"3\" style=\"stroke: #038048; stroke-width: 1.0;\"/><text fill=\"#000000\" font-family=\"sans-serif\" font-size=\"11\" lengthAdjust=\"spacingAndGlyphs\" textLength=\"100\" x=\"26\" y=\"75.0151\">executeStrategy()</text><rect fill=\"#FEFECE\" filter=\"url(#f1)\" height=\"60.8047\" style=\"stroke: #A80036; stroke-width: 1.5;\" width=\"86\" x=\"167\" y=\"14.5\"/><ellipse cx=\"182\" cy=\"30.5\" fill=\"#B4A7E5\" rx=\"11\" ry=\"11\" style=\"stroke: #A80036; stroke-width: 1.0;\"/><path d=\"M177.9219,26.2656 L177.9219,24.1094 L185.3125,24.1094 L185.3125,26.2656 L182.8438,26.2656 L182.8438,34.3438 L185.3125,34.3438 L185.3125,36.5 L177.9219,36.5 L177.9219,34.3438 L180.3906,34.3438 L180.3906,26.2656 L177.9219,26.2656 Z \"/><text fill=\"#000000\" font-family=\"sans-serif\" font-size=\"12\" font-style=\"italic\" lengthAdjust=\"spacingAndGlyphs\" textLength=\"54\" x=\"196\" y=\"34.6543\">Strategy</text><line style=\"stroke: #A80036; stroke-width: 1.5;\" x1=\"168\" x2=\"252\" y1=\"46.5\" y2=\"46.5\"/><line style=\"stroke: #A80036; stroke-width: 1.5;\" x1=\"168\" x2=\"252\" y1=\"54.5\" y2=\"54.5\"/><ellipse cx=\"178\" cy=\"66.4023\" fill=\"#84BE84\" rx=\"3\" ry=\"3\" style=\"stroke: #038048; stroke-width: 1.0;\"/><text fill=\"#000000\" font-family=\"sans-serif\" font-size=\"11\" lengthAdjust=\"spacingAndGlyphs\" textLength=\"52\" x=\"187\" y=\"68.7104\">execute()</text><rect fill=\"#FEFECE\" filter=\"url(#f1)\" height=\"48\" style=\"stroke: #A80036; stroke-width: 1.5;\" width=\"93\" x=\"99.5\" y=\"142\"/><ellipse cx=\"114.5\" cy=\"158\" fill=\"#ADD1B2\" rx=\"11\" ry=\"11\" style=\"stroke: #A80036; stroke-width: 1.0;\"/><path d=\"M117.4688,163.6406 Q116.8906,163.9375 116.25,164.0859 Q115.6094,164.2344 114.9063,164.2344 Q112.4063,164.2344 111.0859,162.5859 Q109.7656,160.9375 109.7656,157.8125 Q109.7656,154.6875 111.0859,153.0313 Q112.4063,151.375 114.9063,151.375 Q115.6094,151.375 116.2578,151.5313 Q116.9063,151.6875 117.4688,151.9844 L117.4688,154.7031 Q116.8438,154.125 116.25,153.8516 Q115.6563,153.5781 115.0313,153.5781 Q113.6875,153.5781 113,154.6484 Q112.3125,155.7188 112.3125,157.8125 Q112.3125,159.9063 113,160.9766 Q113.6875,162.0469 115.0313,162.0469 Q115.6563,162.0469 116.25,161.7734 Q116.8438,161.5 117.4688,160.9219 L117.4688,163.6406 Z \"/><text fill=\"#000000\" font-family=\"sans-serif\" font-size=\"12\" lengthAdjust=\"spacingAndGlyphs\" textLength=\"61\" x=\"128.5\" y=\"162.1543\">Strategy1</text><line style=\"stroke: #A80036; stroke-width: 1.5;\" x1=\"100.5\" x2=\"191.5\" y1=\"174\" y2=\"174\"/><line style=\"stroke: #A80036; stroke-width: 1.5;\" x1=\"100.5\" x2=\"191.5\" y1=\"182\" y2=\"182\"/><rect fill=\"#FEFECE\" filter=\"url(#f1)\" height=\"48\" style=\"stroke: #A80036; stroke-width: 1.5;\" width=\"93\" x=\"227.5\" y=\"142\"/><ellipse cx=\"242.5\" cy=\"158\" fill=\"#ADD1B2\" rx=\"11\" ry=\"11\" style=\"stroke: #A80036; stroke-width: 1.0;\"/><path d=\"M245.4688,163.6406 Q244.8906,163.9375 244.25,164.0859 Q243.6094,164.2344 242.9063,164.2344 Q240.4063,164.2344 239.0859,162.5859 Q237.7656,160.9375 237.7656,157.8125 Q237.7656,154.6875 239.0859,153.0313 Q240.4063,151.375 242.9063,151.375 Q243.6094,151.375 244.2578,151.5313 Q244.9063,151.6875 245.4688,151.9844 L245.4688,154.7031 Q244.8438,154.125 244.25,153.8516 Q243.6563,153.5781 243.0313,153.5781 Q241.6875,153.5781 241,154.6484 Q240.3125,155.7188 240.3125,157.8125 Q240.3125,159.9063 241,160.9766 Q241.6875,162.0469 243.0313,162.0469 Q243.6563,162.0469 244.25,161.7734 Q244.8438,161.5 245.4688,160.9219 L245.4688,163.6406 Z \"/><text fill=\"#000000\" font-family=\"sans-serif\" font-size=\"12\" lengthAdjust=\"spacingAndGlyphs\" textLength=\"61\" x=\"256.5\" y=\"162.1543\">Strategy2</text><line style=\"stroke: #A80036; stroke-width: 1.5;\" x1=\"228.5\" x2=\"319.5\" y1=\"174\" y2=\"174\"/><line style=\"stroke: #A80036; stroke-width: 1.5;\" x1=\"228.5\" x2=\"319.5\" y1=\"182\" y2=\"182\"/><path d=\"M132.064,45 C141.916,45 151.767,45 161.619,45 \" fill=\"none\" style=\"stroke: #A80036; stroke-width: 1.0;\"/><polygon fill=\"#A80036\" points=\"166.77,45,157.77,41,161.77,45,157.77,49,166.77,45\" style=\"stroke: #A80036; stroke-width: 1.0;\"/><path d=\"M184.499,93.4156 C175.502,110.1449 165.789,128.2048 158.37,141.9994 \" fill=\"none\" style=\"stroke: #A80036; stroke-width: 1.0; stroke-dasharray: 7.0,7.0;\"/><polygon fill=\"none\" points=\"178.377,90.0203,194.015,75.722,190.707,96.6516,178.377,90.0203\" style=\"stroke: #A80036; stroke-width: 1.0;\"/><path d=\"M235.501,93.4156 C244.498,110.1449 254.211,128.2048 261.63,141.9994 \" fill=\"none\" style=\"stroke: #A80036; stroke-width: 1.0; stroke-dasharray: 7.0,7.0;\"/><polygon fill=\"none\" points=\"229.293,96.6516,225.985,75.722,241.623,90.0203,229.293,96.6516\" style=\"stroke: #A80036; stroke-width: 1.0;\"/></g></svg>"
      ],
      "text/plain": [
       "<IPython.core.display.SVG object>"
      ]
     },
     "execution_count": 2,
     "metadata": {},
     "output_type": "execute_result"
    }
   ],
   "source": [
    "%%plantuml\n",
    "\n",
    "@startuml\n",
    "class Context {\n",
    "    -strategy:Strategy\n",
    "    +executeStrategy()\n",
    "}\n",
    "interface Strategy {\n",
    "    +execute()\n",
    "}\n",
    "Context -right-> Strategy\n",
    "Strategy <|.. Strategy_1\n",
    "Strategy <|.. Strategy_n\n",
    "@enduml"
   ]
  },
  {
   "cell_type": "markdown",
   "metadata": {
    "slideshow": {
     "slide_type": "slide"
    }
   },
   "source": [
    "## S.4 사례\n",
    "\n",
    "사례 | 설명\n",
    "------|------\n",
    "사례 1 | 식사\n",
    "사례 2 | Duck fly()\n",
    "사례 3 | 정렬 - compareTo(), Interface Comparator를 구현하는 경우"
   ]
  },
  {
   "cell_type": "markdown",
   "metadata": {
    "slideshow": {
     "slide_type": "slide"
    }
   },
   "source": [
    "### S.4.1 식사\n",
    "\n",
    "구분 | 절차\n",
    "----|----\n",
    "혼밥 | - 혼자 먹고 싶은 메뉴 정하고<br>- 핸드폰을 보면서 혼밥<br>- 혼자 계산\n",
    "같이 식사 | - 식사할 사람과 약속을 정하고<br>- 메뉴를 같이 정하고<br>- 대화<br>- 계산 나누고"
   ]
  },
  {
   "cell_type": "markdown",
   "metadata": {
    "slideshow": {
     "slide_type": "subslide"
    }
   },
   "source": [
    "* 패턴을 적용하기 전:\n",
    "    * if문을 사용하거나,\n",
    "    * 클래스로 식사하는 방법을 나누어 구현한다."
   ]
  },
  {
   "cell_type": "code",
   "execution_count": 3,
   "metadata": {
    "collapsed": false,
    "slideshow": {
     "slide_type": "subslide"
    }
   },
   "outputs": [
    {
     "data": {
      "image/svg+xml": [
       "<svg height=\"77px\" style=\"width:270px;height:77px;\" version=\"1.1\" viewBox=\"0 0 270 77\" width=\"270px\" xmlns=\"http://www.w3.org/2000/svg\" xmlns:xlink=\"http://www.w3.org/1999/xlink\"><defs><filter height=\"300%\" id=\"f1\" width=\"300%\" x=\"-1\" y=\"-1\"><feGaussianBlur result=\"blurOut\" stdDeviation=\"2.0\"/><feColorMatrix in=\"blurOut\" result=\"blurOut2\" type=\"matrix\" values=\"0 0 0 0 0 0 0 0 0 0 0 0 0 0 0 0 0 0 .4 0\"/><feOffset dx=\"4.0\" dy=\"4.0\" in=\"blurOut2\" result=\"blurOut3\"/><feBlend in=\"SourceGraphic\" in2=\"blurOut3\" mode=\"normal\"/></filter></defs><g><rect fill=\"#FEFECE\" filter=\"url(#f1)\" height=\"60.8047\" style=\"stroke: #A80036; stroke-width: 1.5;\" width=\"110\" x=\"6\" y=\"8\"/><ellipse cx=\"21\" cy=\"24\" fill=\"#ADD1B2\" rx=\"11\" ry=\"11\" style=\"stroke: #A80036; stroke-width: 1.0;\"/><path d=\"M23.9688,29.6406 Q23.3906,29.9375 22.75,30.0859 Q22.1094,30.2344 21.4063,30.2344 Q18.9063,30.2344 17.5859,28.5859 Q16.2656,26.9375 16.2656,23.8125 Q16.2656,20.6875 17.5859,19.0313 Q18.9063,17.375 21.4063,17.375 Q22.1094,17.375 22.7578,17.5313 Q23.4063,17.6875 23.9688,17.9844 L23.9688,20.7031 Q23.3438,20.125 22.75,19.8516 Q22.1563,19.5781 21.5313,19.5781 Q20.1875,19.5781 19.5,20.6484 Q18.8125,21.7188 18.8125,23.8125 Q18.8125,25.9063 19.5,26.9766 Q20.1875,28.0469 21.5313,28.0469 Q22.1563,28.0469 22.75,27.7734 Q23.3438,27.5 23.9688,26.9219 L23.9688,29.6406 Z \"/><text fill=\"#000000\" font-family=\"sans-serif\" font-size=\"12\" lengthAdjust=\"spacingAndGlyphs\" textLength=\"78\" x=\"35\" y=\"28.1543\">EatOutAlone</text><line style=\"stroke: #A80036; stroke-width: 1.5;\" x1=\"7\" x2=\"115\" y1=\"40\" y2=\"40\"/><line style=\"stroke: #A80036; stroke-width: 1.5;\" x1=\"7\" x2=\"115\" y1=\"48\" y2=\"48\"/><ellipse cx=\"17\" cy=\"59.9023\" fill=\"#84BE84\" rx=\"3\" ry=\"3\" style=\"stroke: #038048; stroke-width: 1.0;\"/><text fill=\"#000000\" font-family=\"sans-serif\" font-size=\"11\" lengthAdjust=\"spacingAndGlyphs\" textLength=\"26\" x=\"26\" y=\"62.2104\">eat()</text><rect fill=\"#FEFECE\" filter=\"url(#f1)\" height=\"60.8047\" style=\"stroke: #A80036; stroke-width: 1.5;\" width=\"110\" x=\"151\" y=\"8\"/><ellipse cx=\"166\" cy=\"24\" fill=\"#ADD1B2\" rx=\"11\" ry=\"11\" style=\"stroke: #A80036; stroke-width: 1.0;\"/><path d=\"M168.9688,29.6406 Q168.3906,29.9375 167.75,30.0859 Q167.1094,30.2344 166.4063,30.2344 Q163.9063,30.2344 162.5859,28.5859 Q161.2656,26.9375 161.2656,23.8125 Q161.2656,20.6875 162.5859,19.0313 Q163.9063,17.375 166.4063,17.375 Q167.1094,17.375 167.7578,17.5313 Q168.4063,17.6875 168.9688,17.9844 L168.9688,20.7031 Q168.3438,20.125 167.75,19.8516 Q167.1563,19.5781 166.5313,19.5781 Q165.1875,19.5781 164.5,20.6484 Q163.8125,21.7188 163.8125,23.8125 Q163.8125,25.9063 164.5,26.9766 Q165.1875,28.0469 166.5313,28.0469 Q167.1563,28.0469 167.75,27.7734 Q168.3438,27.5 168.9688,26.9219 L168.9688,29.6406 Z \"/><text fill=\"#000000\" font-family=\"sans-serif\" font-size=\"12\" lengthAdjust=\"spacingAndGlyphs\" textLength=\"78\" x=\"180\" y=\"28.1543\">EatTogether</text><line style=\"stroke: #A80036; stroke-width: 1.5;\" x1=\"152\" x2=\"260\" y1=\"40\" y2=\"40\"/><line style=\"stroke: #A80036; stroke-width: 1.5;\" x1=\"152\" x2=\"260\" y1=\"48\" y2=\"48\"/><ellipse cx=\"162\" cy=\"59.9023\" fill=\"#84BE84\" rx=\"3\" ry=\"3\" style=\"stroke: #038048; stroke-width: 1.0;\"/><text fill=\"#000000\" font-family=\"sans-serif\" font-size=\"11\" lengthAdjust=\"spacingAndGlyphs\" textLength=\"26\" x=\"171\" y=\"62.2104\">eat()</text></g></svg>"
      ],
      "text/plain": [
       "<IPython.core.display.SVG object>"
      ]
     },
     "execution_count": 3,
     "metadata": {},
     "output_type": "execute_result"
    }
   ],
   "source": [
    "%%plantuml\n",
    "\n",
    "@startuml\n",
    "class EatOutAlone {\n",
    "    +eat()\n",
    "}\n",
    "class EatTogether {\n",
    "    +eat()\n",
    "}\n",
    "@enduml"
   ]
  },
  {
   "cell_type": "markdown",
   "metadata": {
    "slideshow": {
     "slide_type": "subslide"
    }
   },
   "source": [
    "* '상속'을 사용하여, 식사하는 방법 eat()을 구현한다.\n",
    "    * 다른 알고리즘을 구현할 수 있었지만, 새로운 문제가 있다.\n",
    "    * 하위 클래스가 eat()을 정할 수 있지만, context switch를 할 수 없다. \n",
    "        * 'Me'가 항상 'eatOutAlone' 하지 않을 수 있다.\n",
    "        * 'You'가 항상 'eatTogether'하지 않는 않을 수 있다."
   ]
  },
  {
   "cell_type": "code",
   "execution_count": 7,
   "metadata": {
    "collapsed": false,
    "scrolled": true,
    "slideshow": {
     "slide_type": "-"
    }
   },
   "outputs": [
    {
     "data": {
      "image/svg+xml": [
       "<svg height=\"198px\" style=\"width:256px;height:198px;\" version=\"1.1\" viewBox=\"0 0 256 198\" width=\"256px\" xmlns=\"http://www.w3.org/2000/svg\" xmlns:xlink=\"http://www.w3.org/1999/xlink\"><defs><filter height=\"300%\" id=\"f1\" width=\"300%\" x=\"-1\" y=\"-1\"><feGaussianBlur result=\"blurOut\" stdDeviation=\"2.0\"/><feColorMatrix in=\"blurOut\" result=\"blurOut2\" type=\"matrix\" values=\"0 0 0 0 0 0 0 0 0 0 0 0 0 0 0 0 0 0 .4 0\"/><feOffset dx=\"4.0\" dy=\"4.0\" in=\"blurOut2\" result=\"blurOut3\"/><feBlend in=\"SourceGraphic\" in2=\"blurOut3\" mode=\"normal\"/></filter></defs><g><rect fill=\"#FEFECE\" filter=\"url(#f1)\" height=\"60.8047\" style=\"stroke: #A80036; stroke-width: 1.5;\" width=\"57\" x=\"98\" y=\"8\"/><ellipse cx=\"113\" cy=\"24\" fill=\"#B4A7E5\" rx=\"11\" ry=\"11\" style=\"stroke: #A80036; stroke-width: 1.0;\"/><path d=\"M108.9219,19.7656 L108.9219,17.6094 L116.3125,17.6094 L116.3125,19.7656 L113.8438,19.7656 L113.8438,27.8438 L116.3125,27.8438 L116.3125,30 L108.9219,30 L108.9219,27.8438 L111.3906,27.8438 L111.3906,19.7656 L108.9219,19.7656 Z \"/><text fill=\"#000000\" font-family=\"sans-serif\" font-size=\"12\" font-style=\"italic\" lengthAdjust=\"spacingAndGlyphs\" textLength=\"25\" x=\"127\" y=\"28.1543\">IEat</text><line style=\"stroke: #A80036; stroke-width: 1.5;\" x1=\"99\" x2=\"154\" y1=\"40\" y2=\"40\"/><line style=\"stroke: #A80036; stroke-width: 1.5;\" x1=\"99\" x2=\"154\" y1=\"48\" y2=\"48\"/><ellipse cx=\"109\" cy=\"59.9023\" fill=\"#84BE84\" rx=\"3\" ry=\"3\" style=\"stroke: #038048; stroke-width: 1.0;\"/><text fill=\"#000000\" font-family=\"sans-serif\" font-size=\"11\" lengthAdjust=\"spacingAndGlyphs\" textLength=\"26\" x=\"118\" y=\"62.2104\">eat()</text><rect fill=\"#FEFECE\" filter=\"url(#f1)\" height=\"60.8047\" style=\"stroke: #A80036; stroke-width: 1.5;\" width=\"103\" x=\"6\" y=\"129\"/><ellipse cx=\"44.85\" cy=\"145\" fill=\"#ADD1B2\" rx=\"11\" ry=\"11\" style=\"stroke: #A80036; stroke-width: 1.0;\"/><path d=\"M47.8188,150.6406 Q47.2406,150.9375 46.6,151.0859 Q45.9594,151.2344 45.2563,151.2344 Q42.7563,151.2344 41.4359,149.5859 Q40.1156,147.9375 40.1156,144.8125 Q40.1156,141.6875 41.4359,140.0313 Q42.7563,138.375 45.2563,138.375 Q45.9594,138.375 46.6078,138.5313 Q47.2563,138.6875 47.8188,138.9844 L47.8188,141.7031 Q47.1938,141.125 46.6,140.8516 Q46.0063,140.5781 45.3813,140.5781 Q44.0375,140.5781 43.35,141.6484 Q42.6625,142.7188 42.6625,144.8125 Q42.6625,146.9063 43.35,147.9766 Q44.0375,149.0469 45.3813,149.0469 Q46.0063,149.0469 46.6,148.7734 Q47.1938,148.5 47.8188,147.9219 L47.8188,150.6406 Z \"/><text fill=\"#000000\" font-family=\"sans-serif\" font-size=\"12\" lengthAdjust=\"spacingAndGlyphs\" textLength=\"18\" x=\"64.15\" y=\"149.1543\">Me</text><line style=\"stroke: #A80036; stroke-width: 1.5;\" x1=\"7\" x2=\"108\" y1=\"161\" y2=\"161\"/><line style=\"stroke: #A80036; stroke-width: 1.5;\" x1=\"7\" x2=\"108\" y1=\"169\" y2=\"169\"/><ellipse cx=\"17\" cy=\"180.9023\" fill=\"#84BE84\" rx=\"3\" ry=\"3\" style=\"stroke: #038048; stroke-width: 1.0;\"/><text fill=\"#000000\" font-family=\"sans-serif\" font-size=\"11\" lengthAdjust=\"spacingAndGlyphs\" textLength=\"77\" x=\"26\" y=\"183.2104\">eatOutAlone()</text><rect fill=\"#FEFECE\" filter=\"url(#f1)\" height=\"60.8047\" style=\"stroke: #A80036; stroke-width: 1.5;\" width=\"103\" x=\"144\" y=\"129\"/><ellipse cx=\"180.6\" cy=\"145\" fill=\"#ADD1B2\" rx=\"11\" ry=\"11\" style=\"stroke: #A80036; stroke-width: 1.0;\"/><path d=\"M183.5688,150.6406 Q182.9906,150.9375 182.35,151.0859 Q181.7094,151.2344 181.0063,151.2344 Q178.5063,151.2344 177.1859,149.5859 Q175.8656,147.9375 175.8656,144.8125 Q175.8656,141.6875 177.1859,140.0313 Q178.5063,138.375 181.0063,138.375 Q181.7094,138.375 182.3578,138.5313 Q183.0063,138.6875 183.5688,138.9844 L183.5688,141.7031 Q182.9438,141.125 182.35,140.8516 Q181.7563,140.5781 181.1313,140.5781 Q179.7875,140.5781 179.1,141.6484 Q178.4125,142.7188 178.4125,144.8125 Q178.4125,146.9063 179.1,147.9766 Q179.7875,149.0469 181.1313,149.0469 Q181.7563,149.0469 182.35,148.7734 Q182.9438,148.5 183.5688,147.9219 L183.5688,150.6406 Z \"/><text fill=\"#000000\" font-family=\"sans-serif\" font-size=\"12\" lengthAdjust=\"spacingAndGlyphs\" textLength=\"23\" x=\"199.4\" y=\"149.1543\">You</text><line style=\"stroke: #A80036; stroke-width: 1.5;\" x1=\"145\" x2=\"246\" y1=\"161\" y2=\"161\"/><line style=\"stroke: #A80036; stroke-width: 1.5;\" x1=\"145\" x2=\"246\" y1=\"169\" y2=\"169\"/><ellipse cx=\"155\" cy=\"180.9023\" fill=\"#84BE84\" rx=\"3\" ry=\"3\" style=\"stroke: #038048; stroke-width: 1.0;\"/><text fill=\"#000000\" font-family=\"sans-serif\" font-size=\"11\" lengthAdjust=\"spacingAndGlyphs\" textLength=\"77\" x=\"164\" y=\"183.2104\">eatTogether()</text><path d=\"M98.9912,86.943 C90.8107,101.0511 82.0827,116.1037 74.7531,128.7447 \" fill=\"none\" style=\"stroke: #A80036; stroke-width: 1.0; stroke-dasharray: 7.0,7.0;\"/><polygon fill=\"none\" points=\"93.1785,83.012,109.266,69.222,105.2898,90.0349,93.1785,83.012\" style=\"stroke: #A80036; stroke-width: 1.0;\"/><path d=\"M154.009,86.943 C162.189,101.0511 170.917,116.1037 178.247,128.7447 \" fill=\"none\" style=\"stroke: #A80036; stroke-width: 1.0; stroke-dasharray: 7.0,7.0;\"/><polygon fill=\"none\" points=\"147.71,90.0349,143.734,69.222,159.822,83.012,147.71,90.0349\" style=\"stroke: #A80036; stroke-width: 1.0;\"/></g></svg>"
      ],
      "text/plain": [
       "<IPython.core.display.SVG object>"
      ]
     },
     "execution_count": 7,
     "metadata": {},
     "output_type": "execute_result"
    }
   ],
   "source": [
    "%%plantuml\n",
    "\n",
    "@startuml\n",
    "interface IEat {\n",
    "    +eat()\n",
    "}\n",
    "class Me {\n",
    "    +eat()\n",
    "}\n",
    "class You {\n",
    "    +eat()\n",
    "}\n",
    "IEat <|.. Me\n",
    "IEat <|.. You\n",
    "@enduml"
   ]
  },
  {
   "cell_type": "markdown",
   "metadata": {
    "slideshow": {
     "slide_type": "subslide"
    }
   },
   "source": [
    "* 식사하는 방법을 인터페이스로 분리하여 구현하고,\n",
    "* 실행시점에 'Me'가 식사하는 방법을 결정한다."
   ]
  },
  {
   "cell_type": "code",
   "execution_count": 10,
   "metadata": {
    "collapsed": false,
    "slideshow": {
     "slide_type": "-"
    }
   },
   "outputs": [
    {
     "data": {
      "image/svg+xml": [
       "<svg height=\"198px\" style=\"width:274px;height:198px;\" version=\"1.1\" viewBox=\"0 0 274 198\" width=\"274px\" xmlns=\"http://www.w3.org/2000/svg\" xmlns:xlink=\"http://www.w3.org/1999/xlink\"><defs><filter height=\"300%\" id=\"f1\" width=\"300%\" x=\"-1\" y=\"-1\"><feGaussianBlur result=\"blurOut\" stdDeviation=\"2.0\"/><feColorMatrix in=\"blurOut\" result=\"blurOut2\" type=\"matrix\" values=\"0 0 0 0 0 0 0 0 0 0 0 0 0 0 0 0 0 0 .4 0\"/><feOffset dx=\"4.0\" dy=\"4.0\" in=\"blurOut2\" result=\"blurOut3\"/><feBlend in=\"SourceGraphic\" in2=\"blurOut3\" mode=\"normal\"/></filter></defs><g><rect fill=\"#FEFECE\" filter=\"url(#f1)\" height=\"60.8047\" style=\"stroke: #A80036; stroke-width: 1.5;\" width=\"57\" x=\"110\" y=\"8\"/><ellipse cx=\"125\" cy=\"24\" fill=\"#B4A7E5\" rx=\"11\" ry=\"11\" style=\"stroke: #A80036; stroke-width: 1.0;\"/><path d=\"M120.9219,19.7656 L120.9219,17.6094 L128.3125,17.6094 L128.3125,19.7656 L125.8438,19.7656 L125.8438,27.8438 L128.3125,27.8438 L128.3125,30 L120.9219,30 L120.9219,27.8438 L123.3906,27.8438 L123.3906,19.7656 L120.9219,19.7656 Z \"/><text fill=\"#000000\" font-family=\"sans-serif\" font-size=\"12\" font-style=\"italic\" lengthAdjust=\"spacingAndGlyphs\" textLength=\"25\" x=\"139\" y=\"28.1543\">IEat</text><line style=\"stroke: #A80036; stroke-width: 1.5;\" x1=\"111\" x2=\"166\" y1=\"40\" y2=\"40\"/><line style=\"stroke: #A80036; stroke-width: 1.5;\" x1=\"111\" x2=\"166\" y1=\"48\" y2=\"48\"/><ellipse cx=\"121\" cy=\"59.9023\" fill=\"#84BE84\" rx=\"3\" ry=\"3\" style=\"stroke: #038048; stroke-width: 1.0;\"/><text fill=\"#000000\" font-family=\"sans-serif\" font-size=\"11\" lengthAdjust=\"spacingAndGlyphs\" textLength=\"26\" x=\"130\" y=\"62.2104\">eat()</text><rect fill=\"#FEFECE\" filter=\"url(#f1)\" height=\"60.8047\" style=\"stroke: #A80036; stroke-width: 1.5;\" width=\"110\" x=\"10.5\" y=\"129\"/><ellipse cx=\"25.5\" cy=\"145\" fill=\"#ADD1B2\" rx=\"11\" ry=\"11\" style=\"stroke: #A80036; stroke-width: 1.0;\"/><path d=\"M28.4688,150.6406 Q27.8906,150.9375 27.25,151.0859 Q26.6094,151.2344 25.9063,151.2344 Q23.4063,151.2344 22.0859,149.5859 Q20.7656,147.9375 20.7656,144.8125 Q20.7656,141.6875 22.0859,140.0313 Q23.4063,138.375 25.9063,138.375 Q26.6094,138.375 27.2578,138.5313 Q27.9063,138.6875 28.4688,138.9844 L28.4688,141.7031 Q27.8438,141.125 27.25,140.8516 Q26.6563,140.5781 26.0313,140.5781 Q24.6875,140.5781 24,141.6484 Q23.3125,142.7188 23.3125,144.8125 Q23.3125,146.9063 24,147.9766 Q24.6875,149.0469 26.0313,149.0469 Q26.6563,149.0469 27.25,148.7734 Q27.8438,148.5 28.4688,147.9219 L28.4688,150.6406 Z \"/><text fill=\"#000000\" font-family=\"sans-serif\" font-size=\"12\" lengthAdjust=\"spacingAndGlyphs\" textLength=\"78\" x=\"39.5\" y=\"149.1543\">EatOutAlone</text><line style=\"stroke: #A80036; stroke-width: 1.5;\" x1=\"11.5\" x2=\"119.5\" y1=\"161\" y2=\"161\"/><line style=\"stroke: #A80036; stroke-width: 1.5;\" x1=\"11.5\" x2=\"119.5\" y1=\"169\" y2=\"169\"/><ellipse cx=\"21.5\" cy=\"180.9023\" fill=\"#84BE84\" rx=\"3\" ry=\"3\" style=\"stroke: #038048; stroke-width: 1.0;\"/><text fill=\"#000000\" font-family=\"sans-serif\" font-size=\"11\" lengthAdjust=\"spacingAndGlyphs\" textLength=\"26\" x=\"30.5\" y=\"183.2104\">eat()</text><rect fill=\"#FEFECE\" filter=\"url(#f1)\" height=\"60.8047\" style=\"stroke: #A80036; stroke-width: 1.5;\" width=\"110\" x=\"155.5\" y=\"129\"/><ellipse cx=\"170.5\" cy=\"145\" fill=\"#ADD1B2\" rx=\"11\" ry=\"11\" style=\"stroke: #A80036; stroke-width: 1.0;\"/><path d=\"M173.4688,150.6406 Q172.8906,150.9375 172.25,151.0859 Q171.6094,151.2344 170.9063,151.2344 Q168.4063,151.2344 167.0859,149.5859 Q165.7656,147.9375 165.7656,144.8125 Q165.7656,141.6875 167.0859,140.0313 Q168.4063,138.375 170.9063,138.375 Q171.6094,138.375 172.2578,138.5313 Q172.9063,138.6875 173.4688,138.9844 L173.4688,141.7031 Q172.8438,141.125 172.25,140.8516 Q171.6563,140.5781 171.0313,140.5781 Q169.6875,140.5781 169,141.6484 Q168.3125,142.7188 168.3125,144.8125 Q168.3125,146.9063 169,147.9766 Q169.6875,149.0469 171.0313,149.0469 Q171.6563,149.0469 172.25,148.7734 Q172.8438,148.5 173.4688,147.9219 L173.4688,150.6406 Z \"/><text fill=\"#000000\" font-family=\"sans-serif\" font-size=\"12\" lengthAdjust=\"spacingAndGlyphs\" textLength=\"78\" x=\"184.5\" y=\"149.1543\">EatTogether</text><line style=\"stroke: #A80036; stroke-width: 1.5;\" x1=\"156.5\" x2=\"264.5\" y1=\"161\" y2=\"161\"/><line style=\"stroke: #A80036; stroke-width: 1.5;\" x1=\"156.5\" x2=\"264.5\" y1=\"169\" y2=\"169\"/><ellipse cx=\"166.5\" cy=\"180.9023\" fill=\"#84BE84\" rx=\"3\" ry=\"3\" style=\"stroke: #038048; stroke-width: 1.0;\"/><text fill=\"#000000\" font-family=\"sans-serif\" font-size=\"11\" lengthAdjust=\"spacingAndGlyphs\" textLength=\"26\" x=\"175.5\" y=\"183.2104\">eat()</text><rect fill=\"#FEFECE\" filter=\"url(#f1)\" height=\"60.8047\" style=\"stroke: #A80036; stroke-width: 1.5;\" width=\"69\" x=\"6\" y=\"8\"/><ellipse cx=\"29.55\" cy=\"24\" fill=\"#ADD1B2\" rx=\"11\" ry=\"11\" style=\"stroke: #A80036; stroke-width: 1.0;\"/><path d=\"M32.5188,29.6406 Q31.9406,29.9375 31.3,30.0859 Q30.6594,30.2344 29.9563,30.2344 Q27.4563,30.2344 26.1359,28.5859 Q24.8156,26.9375 24.8156,23.8125 Q24.8156,20.6875 26.1359,19.0313 Q27.4563,17.375 29.9563,17.375 Q30.6594,17.375 31.3078,17.5313 Q31.9563,17.6875 32.5188,17.9844 L32.5188,20.7031 Q31.8938,20.125 31.3,19.8516 Q30.7063,19.5781 30.0813,19.5781 Q28.7375,19.5781 28.05,20.6484 Q27.3625,21.7188 27.3625,23.8125 Q27.3625,25.9063 28.05,26.9766 Q28.7375,28.0469 30.0813,28.0469 Q30.7063,28.0469 31.3,27.7734 Q31.8938,27.5 32.5188,26.9219 L32.5188,29.6406 Z \"/><text fill=\"#000000\" font-family=\"sans-serif\" font-size=\"12\" lengthAdjust=\"spacingAndGlyphs\" textLength=\"18\" x=\"45.45\" y=\"28.1543\">Me</text><line style=\"stroke: #A80036; stroke-width: 1.5;\" x1=\"7\" x2=\"74\" y1=\"40\" y2=\"40\"/><rect fill=\"none\" height=\"6\" style=\"stroke: #C82930; stroke-width: 1.0;\" width=\"6\" x=\"14\" y=\"48.9023\"/><text fill=\"#000000\" font-family=\"sans-serif\" font-size=\"11\" lengthAdjust=\"spacingAndGlyphs\" textLength=\"43\" x=\"26\" y=\"54.2104\">eat:IEat</text><line style=\"stroke: #A80036; stroke-width: 1.5;\" x1=\"7\" x2=\"74\" y1=\"60.8047\" y2=\"60.8047\"/><path d=\"M109.688,86.467 C100.9494,100.7126 91.595,115.9617 83.7532,128.7447 \" fill=\"none\" style=\"stroke: #A80036; stroke-width: 1.0; stroke-dasharray: 7.0,7.0;\"/><polygon fill=\"none\" points=\"103.8425,82.609,120.267,69.222,115.776,89.93,103.8425,82.609\" style=\"stroke: #A80036; stroke-width: 1.0;\"/><path d=\"M166.917,86.467 C175.536,100.7126 184.763,115.9617 192.497,128.7447 \" fill=\"none\" style=\"stroke: #A80036; stroke-width: 1.0; stroke-dasharray: 7.0,7.0;\"/><polygon fill=\"none\" points=\"160.847,89.957,156.483,69.222,172.825,82.71,160.847,89.957\" style=\"stroke: #A80036; stroke-width: 1.0;\"/><path d=\"M75.3359,38.5 C85.1411,38.5 94.9462,38.5 104.7513,38.5 \" fill=\"none\" style=\"stroke: #A80036; stroke-width: 1.0;\"/><polygon fill=\"#A80036\" points=\"109.879,38.5,100.879,34.5,104.879,38.5,100.879,42.5,109.879,38.5\" style=\"stroke: #A80036; stroke-width: 1.0;\"/></g></svg>"
      ],
      "text/plain": [
       "<IPython.core.display.SVG object>"
      ]
     },
     "execution_count": 10,
     "metadata": {},
     "output_type": "execute_result"
    }
   ],
   "source": [
    "%%plantuml\n",
    "\n",
    "@startuml\n",
    "interface IEat {\n",
    "    +eat()\n",
    "}\n",
    "class EatOutAlone {\n",
    "    +eat()\n",
    "}\n",
    "class EatTogether {\n",
    "    +eat()\n",
    "}\n",
    "IEat <|.. EatOutAlone\n",
    "IEat <|.. EatTogether\n",
    "class Me {\n",
    "    -eat:IEat\n",
    "}\n",
    "Me -right-> IEat\n",
    "@enduml"
   ]
  },
  {
   "cell_type": "markdown",
   "metadata": {
    "slideshow": {
     "slide_type": "slide"
    }
   },
   "source": [
    "### S.4.2 Duck\n",
    "\n",
    "* Duck의 Flyable, Quackable을 실행시점에 결정"
   ]
  },
  {
   "cell_type": "markdown",
   "metadata": {
    "slideshow": {
     "slide_type": "subslide"
    }
   },
   "source": [
    "* 상속을 사용하지만, 잘 못 사용하게 되면 문제를 해결하지 못한다.\n",
    "    * context switch를 할 수 없다.\n",
    "    * LSP원칙에 따라, RubberDuck도 quack해야 함. 행동을 다른 Duck과 동일하게 해야 함. "
   ]
  },
  {
   "cell_type": "code",
   "execution_count": 2,
   "metadata": {
    "collapsed": false,
    "slideshow": {
     "slide_type": "subslide"
    }
   },
   "outputs": [
    {
     "data": {
      "image/svg+xml": [
       "<svg height=\"211px\" style=\"width:720px;height:211px;\" version=\"1.1\" viewBox=\"0 0 720 211\" width=\"720px\" xmlns=\"http://www.w3.org/2000/svg\" xmlns:xlink=\"http://www.w3.org/1999/xlink\"><defs><filter height=\"300%\" id=\"f1\" width=\"300%\" x=\"-1\" y=\"-1\"><feGaussianBlur result=\"blurOut\" stdDeviation=\"2.0\"/><feColorMatrix in=\"blurOut\" result=\"blurOut2\" type=\"matrix\" values=\"0 0 0 0 0 0 0 0 0 0 0 0 0 0 0 0 0 0 .4 0\"/><feOffset dx=\"4.0\" dy=\"4.0\" in=\"blurOut2\" result=\"blurOut3\"/><feBlend in=\"SourceGraphic\" in2=\"blurOut3\" mode=\"normal\"/></filter></defs><g><rect fill=\"#FEFECE\" filter=\"url(#f1)\" height=\"86.4141\" style=\"stroke: #A80036; stroke-width: 1.5;\" width=\"74\" x=\"458\" y=\"8\"/><ellipse cx=\"477.95\" cy=\"24\" fill=\"#ADD1B2\" rx=\"11\" ry=\"11\" style=\"stroke: #A80036; stroke-width: 1.0;\"/><path d=\"M480.9188,29.6406 Q480.3406,29.9375 479.7,30.0859 Q479.0594,30.2344 478.3563,30.2344 Q475.8563,30.2344 474.5359,28.5859 Q473.2156,26.9375 473.2156,23.8125 Q473.2156,20.6875 474.5359,19.0313 Q475.8563,17.375 478.3563,17.375 Q479.0594,17.375 479.7078,17.5313 Q480.3563,17.6875 480.9188,17.9844 L480.9188,20.7031 Q480.2938,20.125 479.7,19.8516 Q479.1063,19.5781 478.4813,19.5781 Q477.1375,19.5781 476.45,20.6484 Q475.7625,21.7188 475.7625,23.8125 Q475.7625,25.9063 476.45,26.9766 Q477.1375,28.0469 478.4813,28.0469 Q479.1063,28.0469 479.7,27.7734 Q480.2938,27.5 480.9188,26.9219 L480.9188,29.6406 Z \"/><text fill=\"#000000\" font-family=\"sans-serif\" font-size=\"12\" lengthAdjust=\"spacingAndGlyphs\" textLength=\"31\" x=\"493.05\" y=\"28.1543\">Duck</text><line style=\"stroke: #A80036; stroke-width: 1.5;\" x1=\"459\" x2=\"531\" y1=\"40\" y2=\"40\"/><rect fill=\"none\" height=\"6\" style=\"stroke: #C82930; stroke-width: 1.0;\" width=\"6\" x=\"466\" y=\"48.9023\"/><text fill=\"#000000\" font-family=\"sans-serif\" font-size=\"11\" lengthAdjust=\"spacingAndGlyphs\" textLength=\"32\" x=\"478\" y=\"54.2104\">origin</text><line style=\"stroke: #A80036; stroke-width: 1.5;\" x1=\"459\" x2=\"531\" y1=\"60.8047\" y2=\"60.8047\"/><ellipse cx=\"469\" cy=\"72.707\" fill=\"#84BE84\" rx=\"3\" ry=\"3\" style=\"stroke: #038048; stroke-width: 1.0;\"/><text fill=\"#000000\" font-family=\"sans-serif\" font-size=\"11\" lengthAdjust=\"spacingAndGlyphs\" textLength=\"38\" x=\"478\" y=\"75.0151\">swim()</text><ellipse cx=\"469\" cy=\"85.5117\" fill=\"#84BE84\" rx=\"3\" ry=\"3\" style=\"stroke: #038048; stroke-width: 1.0;\"/><text fill=\"#000000\" font-family=\"sans-serif\" font-size=\"11\" lengthAdjust=\"spacingAndGlyphs\" textLength=\"48\" x=\"478\" y=\"87.8198\">display()</text><rect fill=\"#FEFECE\" filter=\"url(#f1)\" height=\"48\" style=\"stroke: #A80036; stroke-width: 1.5;\" width=\"108\" x=\"161\" y=\"154\"/><ellipse cx=\"176\" cy=\"170\" fill=\"#ADD1B2\" rx=\"11\" ry=\"11\" style=\"stroke: #A80036; stroke-width: 1.0;\"/><path d=\"M178.9688,175.6406 Q178.3906,175.9375 177.75,176.0859 Q177.1094,176.2344 176.4063,176.2344 Q173.9063,176.2344 172.5859,174.5859 Q171.2656,172.9375 171.2656,169.8125 Q171.2656,166.6875 172.5859,165.0313 Q173.9063,163.375 176.4063,163.375 Q177.1094,163.375 177.7578,163.5313 Q178.4063,163.6875 178.9688,163.9844 L178.9688,166.7031 Q178.3438,166.125 177.75,165.8516 Q177.1563,165.5781 176.5313,165.5781 Q175.1875,165.5781 174.5,166.6484 Q173.8125,167.7188 173.8125,169.8125 Q173.8125,171.9063 174.5,172.9766 Q175.1875,174.0469 176.5313,174.0469 Q177.1563,174.0469 177.75,173.7734 Q178.3438,173.5 178.9688,172.9219 L178.9688,175.6406 Z \"/><text fill=\"#000000\" font-family=\"sans-serif\" font-size=\"12\" lengthAdjust=\"spacingAndGlyphs\" textLength=\"76\" x=\"190\" y=\"174.1543\">MallardDuck</text><line style=\"stroke: #A80036; stroke-width: 1.5;\" x1=\"162\" x2=\"268\" y1=\"186\" y2=\"186\"/><line style=\"stroke: #A80036; stroke-width: 1.5;\" x1=\"162\" x2=\"268\" y1=\"194\" y2=\"194\"/><rect fill=\"#FEFECE\" filter=\"url(#f1)\" height=\"48\" style=\"stroke: #A80036; stroke-width: 1.5;\" width=\"128\" x=\"447\" y=\"154\"/><ellipse cx=\"462\" cy=\"170\" fill=\"#ADD1B2\" rx=\"11\" ry=\"11\" style=\"stroke: #A80036; stroke-width: 1.0;\"/><path d=\"M464.9688,175.6406 Q464.3906,175.9375 463.75,176.0859 Q463.1094,176.2344 462.4063,176.2344 Q459.9063,176.2344 458.5859,174.5859 Q457.2656,172.9375 457.2656,169.8125 Q457.2656,166.6875 458.5859,165.0313 Q459.9063,163.375 462.4063,163.375 Q463.1094,163.375 463.7578,163.5313 Q464.4063,163.6875 464.9688,163.9844 L464.9688,166.7031 Q464.3438,166.125 463.75,165.8516 Q463.1563,165.5781 462.5313,165.5781 Q461.1875,165.5781 460.5,166.6484 Q459.8125,167.7188 459.8125,169.8125 Q459.8125,171.9063 460.5,172.9766 Q461.1875,174.0469 462.5313,174.0469 Q463.1563,174.0469 463.75,173.7734 Q464.3438,173.5 464.9688,172.9219 L464.9688,175.6406 Z \"/><text fill=\"#000000\" font-family=\"sans-serif\" font-size=\"12\" lengthAdjust=\"spacingAndGlyphs\" textLength=\"96\" x=\"476\" y=\"174.1543\">ReadHeadDuck</text><line style=\"stroke: #A80036; stroke-width: 1.5;\" x1=\"448\" x2=\"574\" y1=\"186\" y2=\"186\"/><line style=\"stroke: #A80036; stroke-width: 1.5;\" x1=\"448\" x2=\"574\" y1=\"194\" y2=\"194\"/><rect fill=\"#FEFECE\" filter=\"url(#f1)\" height=\"48\" style=\"stroke: #A80036; stroke-width: 1.5;\" width=\"108\" x=\"304\" y=\"154\"/><ellipse cx=\"319\" cy=\"170\" fill=\"#ADD1B2\" rx=\"11\" ry=\"11\" style=\"stroke: #A80036; stroke-width: 1.0;\"/><path d=\"M321.9688,175.6406 Q321.3906,175.9375 320.75,176.0859 Q320.1094,176.2344 319.4063,176.2344 Q316.9063,176.2344 315.5859,174.5859 Q314.2656,172.9375 314.2656,169.8125 Q314.2656,166.6875 315.5859,165.0313 Q316.9063,163.375 319.4063,163.375 Q320.1094,163.375 320.7578,163.5313 Q321.4063,163.6875 321.9688,163.9844 L321.9688,166.7031 Q321.3438,166.125 320.75,165.8516 Q320.1563,165.5781 319.5313,165.5781 Q318.1875,165.5781 317.5,166.6484 Q316.8125,167.7188 316.8125,169.8125 Q316.8125,171.9063 317.5,172.9766 Q318.1875,174.0469 319.5313,174.0469 Q320.1563,174.0469 320.75,173.7734 Q321.3438,173.5 321.9688,172.9219 L321.9688,175.6406 Z \"/><text fill=\"#000000\" font-family=\"sans-serif\" font-size=\"12\" lengthAdjust=\"spacingAndGlyphs\" textLength=\"76\" x=\"333\" y=\"174.1543\">RubberDuck</text><line style=\"stroke: #A80036; stroke-width: 1.5;\" x1=\"305\" x2=\"411\" y1=\"186\" y2=\"186\"/><line style=\"stroke: #A80036; stroke-width: 1.5;\" x1=\"305\" x2=\"411\" y1=\"194\" y2=\"194\"/><rect fill=\"#FEFECE\" filter=\"url(#f1)\" height=\"48\" style=\"stroke: #A80036; stroke-width: 1.5;\" width=\"101\" x=\"610.5\" y=\"154\"/><ellipse cx=\"625.5\" cy=\"170\" fill=\"#ADD1B2\" rx=\"11\" ry=\"11\" style=\"stroke: #A80036; stroke-width: 1.0;\"/><path d=\"M628.4688,175.6406 Q627.8906,175.9375 627.25,176.0859 Q626.6094,176.2344 625.9063,176.2344 Q623.4063,176.2344 622.0859,174.5859 Q620.7656,172.9375 620.7656,169.8125 Q620.7656,166.6875 622.0859,165.0313 Q623.4063,163.375 625.9063,163.375 Q626.6094,163.375 627.2578,163.5313 Q627.9063,163.6875 628.4688,163.9844 L628.4688,166.7031 Q627.8438,166.125 627.25,165.8516 Q626.6563,165.5781 626.0313,165.5781 Q624.6875,165.5781 624,166.6484 Q623.3125,167.7188 623.3125,169.8125 Q623.3125,171.9063 624,172.9766 Q624.6875,174.0469 626.0313,174.0469 Q626.6563,174.0469 627.25,173.7734 Q627.8438,173.5 628.4688,172.9219 L628.4688,175.6406 Z \"/><text fill=\"#000000\" font-family=\"sans-serif\" font-size=\"12\" lengthAdjust=\"spacingAndGlyphs\" textLength=\"69\" x=\"639.5\" y=\"174.1543\">DecoyDuck</text><line style=\"stroke: #A80036; stroke-width: 1.5;\" x1=\"611.5\" x2=\"710.5\" y1=\"186\" y2=\"186\"/><line style=\"stroke: #A80036; stroke-width: 1.5;\" x1=\"611.5\" x2=\"710.5\" y1=\"194\" y2=\"194\"/><rect fill=\"#FEFECE\" filter=\"url(#f1)\" height=\"60.8047\" style=\"stroke: #A80036; stroke-width: 1.5;\" width=\"76\" x=\"102\" y=\"20.5\"/><ellipse cx=\"117\" cy=\"36.5\" fill=\"#B4A7E5\" rx=\"11\" ry=\"11\" style=\"stroke: #A80036; stroke-width: 1.0;\"/><path d=\"M112.9219,32.2656 L112.9219,30.1094 L120.3125,30.1094 L120.3125,32.2656 L117.8438,32.2656 L117.8438,40.3438 L120.3125,40.3438 L120.3125,42.5 L112.9219,42.5 L112.9219,40.3438 L115.3906,40.3438 L115.3906,32.2656 L112.9219,32.2656 Z \"/><text fill=\"#000000\" font-family=\"sans-serif\" font-size=\"12\" font-style=\"italic\" lengthAdjust=\"spacingAndGlyphs\" textLength=\"44\" x=\"131\" y=\"40.6543\">Flyable</text><line style=\"stroke: #A80036; stroke-width: 1.5;\" x1=\"103\" x2=\"177\" y1=\"52.5\" y2=\"52.5\"/><line style=\"stroke: #A80036; stroke-width: 1.5;\" x1=\"103\" x2=\"177\" y1=\"60.5\" y2=\"60.5\"/><ellipse cx=\"113\" cy=\"72.4023\" fill=\"#84BE84\" rx=\"3\" ry=\"3\" style=\"stroke: #038048; stroke-width: 1.0;\"/><text fill=\"#000000\" font-family=\"sans-serif\" font-size=\"11\" lengthAdjust=\"spacingAndGlyphs\" textLength=\"21\" x=\"122\" y=\"74.7104\">fly()</text><rect fill=\"#FEFECE\" filter=\"url(#f1)\" height=\"60.8047\" style=\"stroke: #A80036; stroke-width: 1.5;\" width=\"97\" x=\"309.5\" y=\"20.5\"/><ellipse cx=\"324.5\" cy=\"36.5\" fill=\"#B4A7E5\" rx=\"11\" ry=\"11\" style=\"stroke: #A80036; stroke-width: 1.0;\"/><path d=\"M320.4219,32.2656 L320.4219,30.1094 L327.8125,30.1094 L327.8125,32.2656 L325.3438,32.2656 L325.3438,40.3438 L327.8125,40.3438 L327.8125,42.5 L320.4219,42.5 L320.4219,40.3438 L322.8906,40.3438 L322.8906,32.2656 L320.4219,32.2656 Z \"/><text fill=\"#000000\" font-family=\"sans-serif\" font-size=\"12\" font-style=\"italic\" lengthAdjust=\"spacingAndGlyphs\" textLength=\"65\" x=\"338.5\" y=\"40.6543\">Quackable</text><line style=\"stroke: #A80036; stroke-width: 1.5;\" x1=\"310.5\" x2=\"405.5\" y1=\"52.5\" y2=\"52.5\"/><line style=\"stroke: #A80036; stroke-width: 1.5;\" x1=\"310.5\" x2=\"405.5\" y1=\"60.5\" y2=\"60.5\"/><ellipse cx=\"320.5\" cy=\"72.4023\" fill=\"#84BE84\" rx=\"3\" ry=\"3\" style=\"stroke: #038048; stroke-width: 1.0;\"/><text fill=\"#000000\" font-family=\"sans-serif\" font-size=\"11\" lengthAdjust=\"spacingAndGlyphs\" textLength=\"41\" x=\"329.5\" y=\"74.7104\">quack()</text><rect fill=\"#FEFECE\" filter=\"url(#f1)\" height=\"48\" style=\"stroke: #A80036; stroke-width: 1.5;\" width=\"120\" x=\"6\" y=\"154\"/><ellipse cx=\"21\" cy=\"170\" fill=\"#ADD1B2\" rx=\"11\" ry=\"11\" style=\"stroke: #A80036; stroke-width: 1.0;\"/><path d=\"M23.9688,175.6406 Q23.3906,175.9375 22.75,176.0859 Q22.1094,176.2344 21.4063,176.2344 Q18.9063,176.2344 17.5859,174.5859 Q16.2656,172.9375 16.2656,169.8125 Q16.2656,166.6875 17.5859,165.0313 Q18.9063,163.375 21.4063,163.375 Q22.1094,163.375 22.7578,163.5313 Q23.4063,163.6875 23.9688,163.9844 L23.9688,166.7031 Q23.3438,166.125 22.75,165.8516 Q22.1563,165.5781 21.5313,165.5781 Q20.1875,165.5781 19.5,166.6484 Q18.8125,167.7188 18.8125,169.8125 Q18.8125,171.9063 19.5,172.9766 Q20.1875,174.0469 21.5313,174.0469 Q22.1563,174.0469 22.75,173.7734 Q23.3438,173.5 23.9688,172.9219 L23.9688,175.6406 Z \"/><text fill=\"#000000\" font-family=\"sans-serif\" font-size=\"12\" lengthAdjust=\"spacingAndGlyphs\" textLength=\"88\" x=\"35\" y=\"174.1543\">RedHeadDuck</text><line style=\"stroke: #A80036; stroke-width: 1.5;\" x1=\"7\" x2=\"125\" y1=\"186\" y2=\"186\"/><line style=\"stroke: #A80036; stroke-width: 1.5;\" x1=\"7\" x2=\"125\" y1=\"194\" y2=\"194\"/><path d=\"M440.216,85.541 C434.797,88.515 429.331,91.385 424,94 C372.827,119.1061 312.044,142.5718 269.258,158.1023 \" fill=\"none\" style=\"stroke: #A80036; stroke-width: 1.0;\"/><polygon fill=\"none\" points=\"436.815,79.422,457.652,75.57,443.765,91.575,436.815,79.422\" style=\"stroke: #A80036; stroke-width: 1.0;\"/><path d=\"M502.999,114.495 C504.791,128.489 506.582,142.4833 508.014,153.6717 \" fill=\"none\" style=\"stroke: #A80036; stroke-width: 1.0;\"/><polygon fill=\"none\" points=\"496.013,115.0462,500.417,94.319,509.9,113.2687,496.013,115.0462\" style=\"stroke: #A80036; stroke-width: 1.0;\"/><path d=\"M442.877,99.557 C422.506,118.144 400.082,138.6037 383.401,153.8236 \" fill=\"none\" style=\"stroke: #A80036; stroke-width: 1.0;\"/><polygon fill=\"none\" points=\"438.433,94.136,457.926,85.827,447.87,104.4781,438.433,94.136\" style=\"stroke: #A80036; stroke-width: 1.0;\"/><path d=\"M548.357,92.178 C575.422,112.5588 607.329,136.5851 630.262,153.8539 \" fill=\"none\" style=\"stroke: #A80036; stroke-width: 1.0;\"/><polygon fill=\"none\" points=\"544.02,97.675,532.254,80.052,552.441,86.491,544.02,97.675\" style=\"stroke: #A80036; stroke-width: 1.0;\"/><path d=\"M168.068,98.78 C179.346,117.5762 191.84,138.4005 201.1,153.8339 \" fill=\"none\" style=\"stroke: #A80036; stroke-width: 1.0; stroke-dasharray: 7.0,7.0;\"/><polygon fill=\"none\" points=\"162.061,102.3746,157.774,81.623,174.066,95.172,162.061,102.3746\" style=\"stroke: #A80036; stroke-width: 1.0;\"/><path d=\"M112.134,99.071 C101.0519,117.7907 88.8038,138.4801 79.7143,153.8339 \" fill=\"none\" style=\"stroke: #A80036; stroke-width: 1.0; stroke-dasharray: 7.0,7.0;\"/><polygon fill=\"none\" points=\"106.251,95.268,122.463,81.623,118.298,102.3996,106.251,95.268\" style=\"stroke: #A80036; stroke-width: 1.0;\"/><path d=\"M308.772,95.031 C286.201,114.7611 260.341,137.3663 241.502,153.8339 \" fill=\"none\" style=\"stroke: #A80036; stroke-width: 1.0; stroke-dasharray: 7.0,7.0;\"/><polygon fill=\"none\" points=\"304.446,89.516,324.111,81.623,313.66,100.056,304.446,89.516\" style=\"stroke: #A80036; stroke-width: 1.0;\"/><path d=\"M409.971,94.46 C434.284,114.3237 462.294,137.2072 482.645,153.8339 \" fill=\"none\" style=\"stroke: #A80036; stroke-width: 1.0; stroke-dasharray: 7.0,7.0;\"/><polygon fill=\"none\" points=\"405.318,99.698,394.259,81.623,414.176,88.856,405.318,99.698\" style=\"stroke: #A80036; stroke-width: 1.0;\"/><path d=\"M358,101.702 C358,119.7087 358,139.1961 358,153.8339 \" fill=\"none\" style=\"stroke: #A80036; stroke-width: 1.0; stroke-dasharray: 7.0,7.0;\"/><polygon fill=\"none\" points=\"351,101.623,358,81.623,365,101.623,351,101.623\" style=\"stroke: #A80036; stroke-width: 1.0;\"/></g></svg>"
      ],
      "text/plain": [
       "<IPython.core.display.SVG object>"
      ]
     },
     "execution_count": 2,
     "metadata": {},
     "output_type": "execute_result"
    }
   ],
   "source": [
    "%%plantuml\n",
    "\n",
    "@startuml\n",
    "class Duck {\n",
    "  -origin\n",
    "  +swim()\n",
    "  +display()\n",
    "}\n",
    "Duck <|-- MallardDuck\n",
    "Duck <|-- ReadHeadDuck\n",
    "Duck <|-- RubberDuck\n",
    "Duck <|-- DecoyDuck\n",
    "\n",
    "Interface Flyable {\n",
    "    +fly()\n",
    "}\n",
    "Interface Quackable {\n",
    "    +quack()\n",
    "}\n",
    "Flyable <|.. MallardDuck\n",
    "Flyable <|.. RedHeadDuck\n",
    "Quackable <|.. MallardDuck\n",
    "Quackable <|.. ReadHeadDuck\n",
    "Quackable <|.. RubberDuck\n",
    "@enduml"
   ]
  },
  {
   "cell_type": "markdown",
   "metadata": {
    "slideshow": {
     "slide_type": "subslide"
    }
   },
   "source": [
    "* Strategy 패턴을 적용하여 문제를 해결한다.\n",
    "    * 인터페이스를 분리, 구현\n",
    "    * Duck은 인터페이스 QuackBeahvior, FlyBeahvior를 사용한다고 결정한다.\n",
    "    * 이러한 인터페이스는 supertype를 사용하는 것이다.\n",
    "    * 따라서 실제는 실행시점에 결정된다.\n"
   ]
  },
  {
   "cell_type": "code",
   "execution_count": 3,
   "metadata": {
    "collapsed": false,
    "slideshow": {
     "slide_type": "subslide"
    }
   },
   "outputs": [
    {
     "data": {
      "image/svg+xml": [
       "<svg height=\"321px\" style=\"width:730px;height:321px;\" version=\"1.1\" viewBox=\"0 0 730 321\" width=\"730px\" xmlns=\"http://www.w3.org/2000/svg\" xmlns:xlink=\"http://www.w3.org/1999/xlink\"><defs><filter height=\"300%\" id=\"f1\" width=\"300%\" x=\"-1\" y=\"-1\"><feGaussianBlur result=\"blurOut\" stdDeviation=\"2.0\"/><feColorMatrix in=\"blurOut\" result=\"blurOut2\" type=\"matrix\" values=\"0 0 0 0 0 0 0 0 0 0 0 0 0 0 0 0 0 0 .4 0\"/><feOffset dx=\"4.0\" dy=\"4.0\" in=\"blurOut2\" result=\"blurOut3\"/><feBlend in=\"SourceGraphic\" in2=\"blurOut3\" mode=\"normal\"/></filter></defs><g><rect fill=\"#FEFECE\" filter=\"url(#f1)\" height=\"150.4375\" style=\"stroke: #A80036; stroke-width: 1.5;\" width=\"198\" x=\"60\" y=\"54\"/><ellipse cx=\"139.25\" cy=\"70\" fill=\"#ADD1B2\" rx=\"11\" ry=\"11\" style=\"stroke: #A80036; stroke-width: 1.0;\"/><path d=\"M142.2188,75.6406 Q141.6406,75.9375 141,76.0859 Q140.3594,76.2344 139.6563,76.2344 Q137.1563,76.2344 135.8359,74.5859 Q134.5156,72.9375 134.5156,69.8125 Q134.5156,66.6875 135.8359,65.0313 Q137.1563,63.375 139.6563,63.375 Q140.3594,63.375 141.0078,63.5313 Q141.6563,63.6875 142.2188,63.9844 L142.2188,66.7031 Q141.5938,66.125 141,65.8516 Q140.4063,65.5781 139.7813,65.5781 Q138.4375,65.5781 137.75,66.6484 Q137.0625,67.7188 137.0625,69.8125 Q137.0625,71.9063 137.75,72.9766 Q138.4375,74.0469 139.7813,74.0469 Q140.4063,74.0469 141,73.7734 Q141.5938,73.5 142.2188,72.9219 L142.2188,75.6406 Z \"/><text fill=\"#000000\" font-family=\"sans-serif\" font-size=\"12\" lengthAdjust=\"spacingAndGlyphs\" textLength=\"31\" x=\"159.75\" y=\"74.1543\">Duck</text><line style=\"stroke: #A80036; stroke-width: 1.5;\" x1=\"61\" x2=\"257\" y1=\"86\" y2=\"86\"/><rect fill=\"none\" height=\"6\" style=\"stroke: #C82930; stroke-width: 1.0;\" width=\"6\" x=\"68\" y=\"94.9023\"/><text fill=\"#000000\" font-family=\"sans-serif\" font-size=\"11\" lengthAdjust=\"spacingAndGlyphs\" textLength=\"132\" x=\"80\" y=\"100.2104\">flyBehavior:FlyBehavior</text><rect fill=\"none\" height=\"6\" style=\"stroke: #C82930; stroke-width: 1.0;\" width=\"6\" x=\"68\" y=\"107.707\"/><text fill=\"#000000\" font-family=\"sans-serif\" font-size=\"11\" lengthAdjust=\"spacingAndGlyphs\" textLength=\"172\" x=\"80\" y=\"113.0151\">quackBehavior:QuackBehavior</text><line style=\"stroke: #A80036; stroke-width: 1.5;\" x1=\"61\" x2=\"257\" y1=\"119.6094\" y2=\"119.6094\"/><ellipse cx=\"71\" cy=\"131.5117\" fill=\"#84BE84\" rx=\"3\" ry=\"3\" style=\"stroke: #038048; stroke-width: 1.0;\"/><text fill=\"#000000\" font-family=\"sans-serif\" font-size=\"11\" lengthAdjust=\"spacingAndGlyphs\" textLength=\"38\" x=\"80\" y=\"133.8198\">swim()</text><ellipse cx=\"71\" cy=\"144.3164\" fill=\"#84BE84\" rx=\"3\" ry=\"3\" style=\"stroke: #038048; stroke-width: 1.0;\"/><text fill=\"#000000\" font-family=\"sans-serif\" font-size=\"11\" lengthAdjust=\"spacingAndGlyphs\" textLength=\"48\" x=\"80\" y=\"146.6245\">display()</text><ellipse cx=\"71\" cy=\"157.1211\" fill=\"#84BE84\" rx=\"3\" ry=\"3\" style=\"stroke: #038048; stroke-width: 1.0;\"/><text fill=\"#000000\" font-family=\"sans-serif\" font-size=\"11\" lengthAdjust=\"spacingAndGlyphs\" textLength=\"89\" x=\"80\" y=\"159.4292\">performQuack()</text><ellipse cx=\"71\" cy=\"169.9258\" fill=\"#84BE84\" rx=\"3\" ry=\"3\" style=\"stroke: #038048; stroke-width: 1.0;\"/><text fill=\"#000000\" font-family=\"sans-serif\" font-size=\"11\" lengthAdjust=\"spacingAndGlyphs\" textLength=\"69\" x=\"80\" y=\"172.2339\">performFly()</text><ellipse cx=\"71\" cy=\"182.7305\" fill=\"#84BE84\" rx=\"3\" ry=\"3\" style=\"stroke: #038048; stroke-width: 1.0;\"/><text fill=\"#000000\" font-family=\"sans-serif\" font-size=\"11\" lengthAdjust=\"spacingAndGlyphs\" textLength=\"91\" x=\"80\" y=\"185.0386\">setFlyBehavior()</text><ellipse cx=\"71\" cy=\"195.5352\" fill=\"#84BE84\" rx=\"3\" ry=\"3\" style=\"stroke: #038048; stroke-width: 1.0;\"/><text fill=\"#000000\" font-family=\"sans-serif\" font-size=\"11\" lengthAdjust=\"spacingAndGlyphs\" textLength=\"111\" x=\"80\" y=\"197.8433\">setQuackBehavior()</text><rect fill=\"#FEFECE\" filter=\"url(#f1)\" height=\"48\" style=\"stroke: #A80036; stroke-width: 1.5;\" width=\"108\" x=\"141\" y=\"264\"/><ellipse cx=\"156\" cy=\"280\" fill=\"#ADD1B2\" rx=\"11\" ry=\"11\" style=\"stroke: #A80036; stroke-width: 1.0;\"/><path d=\"M158.9688,285.6406 Q158.3906,285.9375 157.75,286.0859 Q157.1094,286.2344 156.4063,286.2344 Q153.9063,286.2344 152.5859,284.5859 Q151.2656,282.9375 151.2656,279.8125 Q151.2656,276.6875 152.5859,275.0313 Q153.9063,273.375 156.4063,273.375 Q157.1094,273.375 157.7578,273.5313 Q158.4063,273.6875 158.9688,273.9844 L158.9688,276.7031 Q158.3438,276.125 157.75,275.8516 Q157.1563,275.5781 156.5313,275.5781 Q155.1875,275.5781 154.5,276.6484 Q153.8125,277.7188 153.8125,279.8125 Q153.8125,281.9063 154.5,282.9766 Q155.1875,284.0469 156.5313,284.0469 Q157.1563,284.0469 157.75,283.7734 Q158.3438,283.5 158.9688,282.9219 L158.9688,285.6406 Z \"/><text fill=\"#000000\" font-family=\"sans-serif\" font-size=\"12\" lengthAdjust=\"spacingAndGlyphs\" textLength=\"76\" x=\"170\" y=\"284.1543\">MallardDuck</text><line style=\"stroke: #A80036; stroke-width: 1.5;\" x1=\"142\" x2=\"248\" y1=\"296\" y2=\"296\"/><line style=\"stroke: #A80036; stroke-width: 1.5;\" x1=\"142\" x2=\"248\" y1=\"304\" y2=\"304\"/><rect fill=\"#FEFECE\" filter=\"url(#f1)\" height=\"48\" style=\"stroke: #A80036; stroke-width: 1.5;\" width=\"100\" x=\"6\" y=\"264\"/><ellipse cx=\"21\" cy=\"280\" fill=\"#ADD1B2\" rx=\"11\" ry=\"11\" style=\"stroke: #A80036; stroke-width: 1.0;\"/><path d=\"M23.9688,285.6406 Q23.3906,285.9375 22.75,286.0859 Q22.1094,286.2344 21.4063,286.2344 Q18.9063,286.2344 17.5859,284.5859 Q16.2656,282.9375 16.2656,279.8125 Q16.2656,276.6875 17.5859,275.0313 Q18.9063,273.375 21.4063,273.375 Q22.1094,273.375 22.7578,273.5313 Q23.4063,273.6875 23.9688,273.9844 L23.9688,276.7031 Q23.3438,276.125 22.75,275.8516 Q22.1563,275.5781 21.5313,275.5781 Q20.1875,275.5781 19.5,276.6484 Q18.8125,277.7188 18.8125,279.8125 Q18.8125,281.9063 19.5,282.9766 Q20.1875,284.0469 21.5313,284.0469 Q22.1563,284.0469 22.75,283.7734 Q23.3438,283.5 23.9688,282.9219 L23.9688,285.6406 Z \"/><text fill=\"#000000\" font-family=\"sans-serif\" font-size=\"12\" lengthAdjust=\"spacingAndGlyphs\" textLength=\"68\" x=\"35\" y=\"284.1543\">ModelDuck</text><line style=\"stroke: #A80036; stroke-width: 1.5;\" x1=\"7\" x2=\"105\" y1=\"296\" y2=\"296\"/><line style=\"stroke: #A80036; stroke-width: 1.5;\" x1=\"7\" x2=\"105\" y1=\"304\" y2=\"304\"/><rect fill=\"#FEFECE\" filter=\"url(#f1)\" height=\"60.8047\" style=\"stroke: #A80036; stroke-width: 1.5;\" width=\"103\" x=\"452.5\" y=\"98.5\"/><ellipse cx=\"467.5\" cy=\"114.5\" fill=\"#B4A7E5\" rx=\"11\" ry=\"11\" style=\"stroke: #A80036; stroke-width: 1.0;\"/><path d=\"M463.4219,110.2656 L463.4219,108.1094 L470.8125,108.1094 L470.8125,110.2656 L468.3438,110.2656 L468.3438,118.3438 L470.8125,118.3438 L470.8125,120.5 L463.4219,120.5 L463.4219,118.3438 L465.8906,118.3438 L465.8906,110.2656 L463.4219,110.2656 Z \"/><text fill=\"#000000\" font-family=\"sans-serif\" font-size=\"12\" font-style=\"italic\" lengthAdjust=\"spacingAndGlyphs\" textLength=\"71\" x=\"481.5\" y=\"118.6543\">FlyBehavior</text><line style=\"stroke: #A80036; stroke-width: 1.5;\" x1=\"453.5\" x2=\"554.5\" y1=\"130.5\" y2=\"130.5\"/><line style=\"stroke: #A80036; stroke-width: 1.5;\" x1=\"453.5\" x2=\"554.5\" y1=\"138.5\" y2=\"138.5\"/><ellipse cx=\"463.5\" cy=\"150.4023\" fill=\"#84BE84\" rx=\"3\" ry=\"3\" style=\"stroke: #038048; stroke-width: 1.0;\"/><text fill=\"#000000\" font-family=\"sans-serif\" font-size=\"11\" lengthAdjust=\"spacingAndGlyphs\" textLength=\"21\" x=\"472.5\" y=\"152.7104\">fly()</text><rect fill=\"#FEFECE\" filter=\"url(#f1)\" height=\"48\" style=\"stroke: #A80036; stroke-width: 1.5;\" width=\"112\" x=\"609\" y=\"264\"/><ellipse cx=\"624\" cy=\"280\" fill=\"#ADD1B2\" rx=\"11\" ry=\"11\" style=\"stroke: #A80036; stroke-width: 1.0;\"/><path d=\"M626.9688,285.6406 Q626.3906,285.9375 625.75,286.0859 Q625.1094,286.2344 624.4063,286.2344 Q621.9063,286.2344 620.5859,284.5859 Q619.2656,282.9375 619.2656,279.8125 Q619.2656,276.6875 620.5859,275.0313 Q621.9063,273.375 624.4063,273.375 Q625.1094,273.375 625.7578,273.5313 Q626.4063,273.6875 626.9688,273.9844 L626.9688,276.7031 Q626.3438,276.125 625.75,275.8516 Q625.1563,275.5781 624.5313,275.5781 Q623.1875,275.5781 622.5,276.6484 Q621.8125,277.7188 621.8125,279.8125 Q621.8125,281.9063 622.5,282.9766 Q623.1875,284.0469 624.5313,284.0469 Q625.1563,284.0469 625.75,283.7734 Q626.3438,283.5 626.9688,282.9219 L626.9688,285.6406 Z \"/><text fill=\"#000000\" font-family=\"sans-serif\" font-size=\"12\" lengthAdjust=\"spacingAndGlyphs\" textLength=\"80\" x=\"638\" y=\"284.1543\">FlyWithWings</text><line style=\"stroke: #A80036; stroke-width: 1.5;\" x1=\"610\" x2=\"720\" y1=\"296\" y2=\"296\"/><line style=\"stroke: #A80036; stroke-width: 1.5;\" x1=\"610\" x2=\"720\" y1=\"304\" y2=\"304\"/><rect fill=\"#FEFECE\" filter=\"url(#f1)\" height=\"48\" style=\"stroke: #A80036; stroke-width: 1.5;\" width=\"145\" x=\"428.5\" y=\"264\"/><ellipse cx=\"443.5\" cy=\"280\" fill=\"#ADD1B2\" rx=\"11\" ry=\"11\" style=\"stroke: #A80036; stroke-width: 1.0;\"/><path d=\"M446.4688,285.6406 Q445.8906,285.9375 445.25,286.0859 Q444.6094,286.2344 443.9063,286.2344 Q441.4063,286.2344 440.0859,284.5859 Q438.7656,282.9375 438.7656,279.8125 Q438.7656,276.6875 440.0859,275.0313 Q441.4063,273.375 443.9063,273.375 Q444.6094,273.375 445.2578,273.5313 Q445.9063,273.6875 446.4688,273.9844 L446.4688,276.7031 Q445.8438,276.125 445.25,275.8516 Q444.6563,275.5781 444.0313,275.5781 Q442.6875,275.5781 442,276.6484 Q441.3125,277.7188 441.3125,279.8125 Q441.3125,281.9063 442,282.9766 Q442.6875,284.0469 444.0313,284.0469 Q444.6563,284.0469 445.25,283.7734 Q445.8438,283.5 446.4688,282.9219 L446.4688,285.6406 Z \"/><text fill=\"#000000\" font-family=\"sans-serif\" font-size=\"12\" lengthAdjust=\"spacingAndGlyphs\" textLength=\"113\" x=\"457.5\" y=\"284.1543\">FlyRocketPowered</text><line style=\"stroke: #A80036; stroke-width: 1.5;\" x1=\"429.5\" x2=\"572.5\" y1=\"296\" y2=\"296\"/><line style=\"stroke: #A80036; stroke-width: 1.5;\" x1=\"429.5\" x2=\"572.5\" y1=\"304\" y2=\"304\"/><rect fill=\"#FEFECE\" filter=\"url(#f1)\" height=\"60.8047\" style=\"stroke: #A80036; stroke-width: 1.5;\" width=\"124\" x=\"293\" y=\"98.5\"/><ellipse cx=\"308\" cy=\"114.5\" fill=\"#B4A7E5\" rx=\"11\" ry=\"11\" style=\"stroke: #A80036; stroke-width: 1.0;\"/><path d=\"M303.9219,110.2656 L303.9219,108.1094 L311.3125,108.1094 L311.3125,110.2656 L308.8438,110.2656 L308.8438,118.3438 L311.3125,118.3438 L311.3125,120.5 L303.9219,120.5 L303.9219,118.3438 L306.3906,118.3438 L306.3906,110.2656 L303.9219,110.2656 Z \"/><text fill=\"#000000\" font-family=\"sans-serif\" font-size=\"12\" font-style=\"italic\" lengthAdjust=\"spacingAndGlyphs\" textLength=\"92\" x=\"322\" y=\"118.6543\">QuackBehavior</text><line style=\"stroke: #A80036; stroke-width: 1.5;\" x1=\"294\" x2=\"416\" y1=\"130.5\" y2=\"130.5\"/><line style=\"stroke: #A80036; stroke-width: 1.5;\" x1=\"294\" x2=\"416\" y1=\"138.5\" y2=\"138.5\"/><ellipse cx=\"304\" cy=\"150.4023\" fill=\"#84BE84\" rx=\"3\" ry=\"3\" style=\"stroke: #038048; stroke-width: 1.0;\"/><text fill=\"#000000\" font-family=\"sans-serif\" font-size=\"11\" lengthAdjust=\"spacingAndGlyphs\" textLength=\"41\" x=\"313\" y=\"152.7104\">quack()</text><rect fill=\"#FEFECE\" filter=\"url(#f1)\" height=\"48\" style=\"stroke: #A80036; stroke-width: 1.5;\" width=\"71\" x=\"319.5\" y=\"264\"/><ellipse cx=\"334.5\" cy=\"280\" fill=\"#ADD1B2\" rx=\"11\" ry=\"11\" style=\"stroke: #A80036; stroke-width: 1.0;\"/><path d=\"M337.4688,285.6406 Q336.8906,285.9375 336.25,286.0859 Q335.6094,286.2344 334.9063,286.2344 Q332.4063,286.2344 331.0859,284.5859 Q329.7656,282.9375 329.7656,279.8125 Q329.7656,276.6875 331.0859,275.0313 Q332.4063,273.375 334.9063,273.375 Q335.6094,273.375 336.2578,273.5313 Q336.9063,273.6875 337.4688,273.9844 L337.4688,276.7031 Q336.8438,276.125 336.25,275.8516 Q335.6563,275.5781 335.0313,275.5781 Q333.6875,275.5781 333,276.6484 Q332.3125,277.7188 332.3125,279.8125 Q332.3125,281.9063 333,282.9766 Q333.6875,284.0469 335.0313,284.0469 Q335.6563,284.0469 336.25,283.7734 Q336.8438,283.5 337.4688,282.9219 L337.4688,285.6406 Z \"/><text fill=\"#000000\" font-family=\"sans-serif\" font-size=\"12\" lengthAdjust=\"spacingAndGlyphs\" textLength=\"39\" x=\"348.5\" y=\"284.1543\">Quack</text><line style=\"stroke: #A80036; stroke-width: 1.5;\" x1=\"320.5\" x2=\"389.5\" y1=\"296\" y2=\"296\"/><line style=\"stroke: #A80036; stroke-width: 1.5;\" x1=\"320.5\" x2=\"389.5\" y1=\"304\" y2=\"304\"/><path d=\"M180.554,223.999 C183.935,238.7439 187.142,252.7291 189.671,263.7602 \" fill=\"none\" style=\"stroke: #A80036; stroke-width: 1.0;\"/><polygon fill=\"none\" points=\"173.698,225.4207,176.051,204.362,187.344,222.2916,173.698,225.4207\" style=\"stroke: #A80036; stroke-width: 1.0;\"/><path d=\"M98.9667,221.507 C88.6955,237.1632 78.89,252.1094 71.2465,263.7602 \" fill=\"none\" style=\"stroke: #A80036; stroke-width: 1.0;\"/><polygon fill=\"none\" points=\"93.391,217.2448,110.215,204.362,105.0967,224.9244,93.391,217.2448\" style=\"stroke: #A80036; stroke-width: 1.0;\"/><path d=\"M548.639,173.53 C578.58,202.727 616.84,240.0367 641.141,263.7338 \" fill=\"none\" style=\"stroke: #A80036; stroke-width: 1.0; stroke-dasharray: 7.0,7.0;\"/><polygon fill=\"none\" points=\"543.715,178.505,534.283,159.53,553.489,168.482,543.715,178.505\" style=\"stroke: #A80036; stroke-width: 1.0;\"/><path d=\"M503.052,179.636 C502.514,207.774 501.866,241.6598 501.445,263.7338 \" fill=\"none\" style=\"stroke: #A80036; stroke-width: 1.0; stroke-dasharray: 7.0,7.0;\"/><polygon fill=\"none\" points=\"496.055,179.393,503.436,159.53,510.052,179.661,496.055,179.393\" style=\"stroke: #A80036; stroke-width: 1.0;\"/><path d=\"M355,179.636 C355,207.774 355,241.6598 355,263.7338 \" fill=\"none\" style=\"stroke: #A80036; stroke-width: 1.0; stroke-dasharray: 7.0,7.0;\"/><polygon fill=\"none\" points=\"348,179.531,355,159.53,362,179.53,348,179.531\" style=\"stroke: #A80036; stroke-width: 1.0;\"/><path d=\"M237.124,53.951 C254.175,41.662 272.995,30.752 292.5,24 C344.579,5.973 366.592,0.624 416.5,24 C447.148,38.355 470.805,69.305 485.749,93.904 \" fill=\"none\" style=\"stroke: #A80036; stroke-width: 1.0;\"/><polygon fill=\"#A80036\" points=\"488.437,98.418,487.2681,88.6387,485.8784,94.1222,480.3949,92.7325,488.437,98.418\" style=\"stroke: #A80036; stroke-width: 1.0;\"/><path d=\"M258.148,129 C268.028,129 277.908,129 287.788,129 \" fill=\"none\" style=\"stroke: #A80036; stroke-width: 1.0;\"/><polygon fill=\"#A80036\" points=\"292.954,129,283.954,125,287.954,129,283.954,133,292.954,129\" style=\"stroke: #A80036; stroke-width: 1.0;\"/></g></svg>"
      ],
      "text/plain": [
       "<IPython.core.display.SVG object>"
      ]
     },
     "execution_count": 3,
     "metadata": {},
     "output_type": "execute_result"
    }
   ],
   "source": [
    "%%plantuml\n",
    "@startuml\n",
    "Duck <|-- MallardDuck\n",
    "Duck <|-- ModelDuck\n",
    "FlyBehavior <|.. FlyWithWings\n",
    "FlyBehavior <|.. FlyRocketPowered\n",
    "QuackBehavior <|.. Quack\n",
    "Duck -> FlyBehavior\n",
    "Duck -> QuackBehavior\n",
    "class Duck {\n",
    "    -flyBehavior:FlyBehavior\n",
    "    -quackBehavior:QuackBehavior\n",
    "    +swim()\n",
    "    +display()\n",
    "    +performQuack()\n",
    "    +performFly()\n",
    "    +setFlyBehavior()\n",
    "    +setQuackBehavior()\n",
    "}\n",
    "Interface QuackBehavior {\n",
    "    +quack()\n",
    "}\n",
    "Interface FlyBehavior {\n",
    "    +fly()\n",
    "}\n",
    "@enduml"
   ]
  },
  {
   "cell_type": "code",
   "execution_count": 5,
   "metadata": {
    "collapsed": false,
    "scrolled": true,
    "slideshow": {
     "slide_type": "subslide"
    }
   },
   "outputs": [
    {
     "data": {
      "image/svg+xml": [
       "<svg height=\"438px\" style=\"width:960px;height:438px;\" version=\"1.1\" viewBox=\"0 0 960 438\" width=\"960px\" xmlns=\"http://www.w3.org/2000/svg\" xmlns:xlink=\"http://www.w3.org/1999/xlink\"><defs><filter height=\"300%\" id=\"f1\" width=\"300%\" x=\"-1\" y=\"-1\"><feGaussianBlur result=\"blurOut\" stdDeviation=\"2.0\"/><feColorMatrix in=\"blurOut\" result=\"blurOut2\" type=\"matrix\" values=\"0 0 0 0 0 0 0 0 0 0 0 0 0 0 0 0 0 0 .4 0\"/><feOffset dx=\"4.0\" dy=\"4.0\" in=\"blurOut2\" result=\"blurOut3\"/><feBlend in=\"SourceGraphic\" in2=\"blurOut3\" mode=\"normal\"/></filter></defs><g><line style=\"stroke: #A80036; stroke-width: 1.0; stroke-dasharray: 5.0,5.0;\" x1=\"85\" x2=\"85\" y1=\"38.2969\" y2=\"399.8906\"/><line style=\"stroke: #A80036; stroke-width: 1.0; stroke-dasharray: 5.0,5.0;\" x1=\"262\" x2=\"262\" y1=\"38.2969\" y2=\"399.8906\"/><line style=\"stroke: #A80036; stroke-width: 1.0; stroke-dasharray: 5.0,5.0;\" x1=\"434\" x2=\"434\" y1=\"38.2969\" y2=\"399.8906\"/><line style=\"stroke: #A80036; stroke-width: 1.0; stroke-dasharray: 5.0,5.0;\" x1=\"525\" x2=\"525\" y1=\"38.2969\" y2=\"399.8906\"/><line style=\"stroke: #A80036; stroke-width: 1.0; stroke-dasharray: 5.0,5.0;\" x1=\"637\" x2=\"637\" y1=\"38.2969\" y2=\"399.8906\"/><line style=\"stroke: #A80036; stroke-width: 1.0; stroke-dasharray: 5.0,5.0;\" x1=\"768\" x2=\"768\" y1=\"38.2969\" y2=\"399.8906\"/><rect fill=\"#FEFECE\" filter=\"url(#f1)\" height=\"30.2969\" style=\"stroke: #A80036; stroke-width: 1.5;\" width=\"150\" x=\"8\" y=\"3\"/><text fill=\"#000000\" font-family=\"sans-serif\" font-size=\"14\" lengthAdjust=\"spacingAndGlyphs\" textLength=\"136\" x=\"15\" y=\"22.9951\">MiniDuckSimulator1</text><rect fill=\"#FEFECE\" filter=\"url(#f1)\" height=\"30.2969\" style=\"stroke: #A80036; stroke-width: 1.5;\" width=\"150\" x=\"8\" y=\"398.8906\"/><text fill=\"#000000\" font-family=\"sans-serif\" font-size=\"14\" lengthAdjust=\"spacingAndGlyphs\" textLength=\"136\" x=\"15\" y=\"418.8857\">MiniDuckSimulator1</text><rect fill=\"#FEFECE\" filter=\"url(#f1)\" height=\"30.2969\" style=\"stroke: #A80036; stroke-width: 1.5;\" width=\"98\" x=\"211\" y=\"3\"/><text fill=\"#000000\" font-family=\"sans-serif\" font-size=\"14\" lengthAdjust=\"spacingAndGlyphs\" textLength=\"84\" x=\"218\" y=\"22.9951\">MallardDuck</text><rect fill=\"#FEFECE\" filter=\"url(#f1)\" height=\"30.2969\" style=\"stroke: #A80036; stroke-width: 1.5;\" width=\"98\" x=\"211\" y=\"398.8906\"/><text fill=\"#000000\" font-family=\"sans-serif\" font-size=\"14\" lengthAdjust=\"spacingAndGlyphs\" textLength=\"84\" x=\"218\" y=\"418.8857\">MallardDuck</text><rect fill=\"#FEFECE\" filter=\"url(#f1)\" height=\"30.2969\" style=\"stroke: #A80036; stroke-width: 1.5;\" width=\"50\" x=\"407\" y=\"3\"/><text fill=\"#000000\" font-family=\"sans-serif\" font-size=\"14\" lengthAdjust=\"spacingAndGlyphs\" textLength=\"36\" x=\"414\" y=\"22.9951\">Quak</text><rect fill=\"#FEFECE\" filter=\"url(#f1)\" height=\"30.2969\" style=\"stroke: #A80036; stroke-width: 1.5;\" width=\"50\" x=\"407\" y=\"398.8906\"/><text fill=\"#000000\" font-family=\"sans-serif\" font-size=\"14\" lengthAdjust=\"spacingAndGlyphs\" textLength=\"36\" x=\"414\" y=\"418.8857\">Quak</text><rect fill=\"#FEFECE\" filter=\"url(#f1)\" height=\"30.2969\" style=\"stroke: #A80036; stroke-width: 1.5;\" width=\"104\" x=\"471\" y=\"3\"/><text fill=\"#000000\" font-family=\"sans-serif\" font-size=\"14\" lengthAdjust=\"spacingAndGlyphs\" textLength=\"90\" x=\"478\" y=\"22.9951\">FlyWithWings</text><rect fill=\"#FEFECE\" filter=\"url(#f1)\" height=\"30.2969\" style=\"stroke: #A80036; stroke-width: 1.5;\" width=\"104\" x=\"471\" y=\"398.8906\"/><text fill=\"#000000\" font-family=\"sans-serif\" font-size=\"14\" lengthAdjust=\"spacingAndGlyphs\" textLength=\"90\" x=\"478\" y=\"418.8857\">FlyWithWings</text><rect fill=\"#FEFECE\" filter=\"url(#f1)\" height=\"30.2969\" style=\"stroke: #A80036; stroke-width: 1.5;\" width=\"92\" x=\"589\" y=\"3\"/><text fill=\"#000000\" font-family=\"sans-serif\" font-size=\"14\" lengthAdjust=\"spacingAndGlyphs\" textLength=\"78\" x=\"596\" y=\"22.9951\">ModelDuck</text><rect fill=\"#FEFECE\" filter=\"url(#f1)\" height=\"30.2969\" style=\"stroke: #A80036; stroke-width: 1.5;\" width=\"92\" x=\"589\" y=\"398.8906\"/><text fill=\"#000000\" font-family=\"sans-serif\" font-size=\"14\" lengthAdjust=\"spacingAndGlyphs\" textLength=\"78\" x=\"596\" y=\"418.8857\">ModelDuck</text><rect fill=\"#FEFECE\" filter=\"url(#f1)\" height=\"30.2969\" style=\"stroke: #A80036; stroke-width: 1.5;\" width=\"142\" x=\"695\" y=\"3\"/><text fill=\"#000000\" font-family=\"sans-serif\" font-size=\"14\" lengthAdjust=\"spacingAndGlyphs\" textLength=\"128\" x=\"702\" y=\"22.9951\">FlyRocketPowered</text><rect fill=\"#FEFECE\" filter=\"url(#f1)\" height=\"30.2969\" style=\"stroke: #A80036; stroke-width: 1.5;\" width=\"142\" x=\"695\" y=\"398.8906\"/><text fill=\"#000000\" font-family=\"sans-serif\" font-size=\"14\" lengthAdjust=\"spacingAndGlyphs\" textLength=\"128\" x=\"702\" y=\"418.8857\">FlyRocketPowered</text><polygon fill=\"#A80036\" points=\"250,65.2969,260,69.2969,250,73.2969,254,69.2969\" style=\"stroke: #A80036; stroke-width: 1.0;\"/><line style=\"stroke: #A80036; stroke-width: 1.0;\" x1=\"85\" x2=\"256\" y1=\"69.2969\" y2=\"69.2969\"/><text fill=\"#000000\" font-family=\"sans-serif\" font-size=\"13\" lengthAdjust=\"spacingAndGlyphs\" textLength=\"94\" x=\"92\" y=\"64.3638\">mallard=new()</text><polygon fill=\"#A80036\" points=\"422,94.4297,432,98.4297,422,102.4297,426,98.4297\" style=\"stroke: #A80036; stroke-width: 1.0;\"/><line style=\"stroke: #A80036; stroke-width: 1.0;\" x1=\"262\" x2=\"428\" y1=\"98.4297\" y2=\"98.4297\"/><text fill=\"#000000\" font-family=\"sans-serif\" font-size=\"13\" lengthAdjust=\"spacingAndGlyphs\" textLength=\"148\" x=\"269\" y=\"93.4966\">quackBehavior=new( );</text><polygon fill=\"#A80036\" points=\"513,123.5625,523,127.5625,513,131.5625,517,127.5625\" style=\"stroke: #A80036; stroke-width: 1.0;\"/><line style=\"stroke: #A80036; stroke-width: 1.0;\" x1=\"262\" x2=\"519\" y1=\"127.5625\" y2=\"127.5625\"/><text fill=\"#000000\" font-family=\"sans-serif\" font-size=\"13\" lengthAdjust=\"spacingAndGlyphs\" textLength=\"120\" x=\"269\" y=\"122.6294\">flyBehavior=new();</text><polygon fill=\"#A80036\" points=\"250,152.6953,260,156.6953,250,160.6953,254,156.6953\" style=\"stroke: #A80036; stroke-width: 1.0;\"/><line style=\"stroke: #A80036; stroke-width: 1.0;\" x1=\"85\" x2=\"256\" y1=\"156.6953\" y2=\"156.6953\"/><text fill=\"#000000\" font-family=\"sans-serif\" font-size=\"13\" lengthAdjust=\"spacingAndGlyphs\" textLength=\"153\" x=\"92\" y=\"151.7622\">mallard.performQuack()</text><polygon fill=\"#A80036\" points=\"250,194.3945,260,198.3945,250,202.3945,254,198.3945\" style=\"stroke: #A80036; stroke-width: 1.0;\"/><line style=\"stroke: #A80036; stroke-width: 1.0;\" x1=\"85\" x2=\"256\" y1=\"198.3945\" y2=\"198.3945\"/><text fill=\"#000000\" font-family=\"sans-serif\" font-size=\"13\" lengthAdjust=\"spacingAndGlyphs\" textLength=\"130\" x=\"92\" y=\"193.4614\">mallard.performFly()</text><polygon fill=\"#FBFB77\" filter=\"url(#f1)\" points=\"267,169.8281,267,209.8281,539,209.8281,539,179.8281,529,169.8281,267,169.8281\" style=\"stroke: #A80036; stroke-width: 1.0;\"/><line style=\"stroke: #A80036; stroke-width: 1.0;\" x1=\"529\" x2=\"529\" y1=\"169.8281\" y2=\"179.8281\"/><line style=\"stroke: #A80036; stroke-width: 1.0;\" x1=\"539\" x2=\"529\" y1=\"179.8281\" y2=\"179.8281\"/><text fill=\"#000000\" font-family=\"sans-serif\" font-size=\"13\" lengthAdjust=\"spacingAndGlyphs\" textLength=\"251\" x=\"273\" y=\"186.895\">use quack() of Interface QuackBehavior</text><text fill=\"#000000\" font-family=\"sans-serif\" font-size=\"13\" lengthAdjust=\"spacingAndGlyphs\" textLength=\"204\" x=\"273\" y=\"202.0278\">use fly() of Interface FlyBehavior</text><polygon fill=\"#A80036\" points=\"625,236.0938,635,240.0938,625,244.0938,629,240.0938\" style=\"stroke: #A80036; stroke-width: 1.0;\"/><line style=\"stroke: #A80036; stroke-width: 1.0;\" x1=\"85\" x2=\"631\" y1=\"240.0938\" y2=\"240.0938\"/><text fill=\"#000000\" font-family=\"sans-serif\" font-size=\"13\" lengthAdjust=\"spacingAndGlyphs\" textLength=\"79\" x=\"92\" y=\"235.1606\">model:new()</text><polygon fill=\"#A80036\" points=\"625,265.2266,635,269.2266,625,273.2266,629,269.2266\" style=\"stroke: #A80036; stroke-width: 1.0;\"/><line style=\"stroke: #A80036; stroke-width: 1.0;\" x1=\"85\" x2=\"631\" y1=\"269.2266\" y2=\"269.2266\"/><text fill=\"#000000\" font-family=\"sans-serif\" font-size=\"13\" lengthAdjust=\"spacingAndGlyphs\" textLength=\"126\" x=\"92\" y=\"264.2935\">model.performFly();</text><polygon fill=\"#A80036\" points=\"756,294.3594,766,298.3594,756,302.3594,760,298.3594\" style=\"stroke: #A80036; stroke-width: 1.0;\"/><line style=\"stroke: #A80036; stroke-width: 1.0;\" x1=\"85\" x2=\"762\" y1=\"298.3594\" y2=\"298.3594\"/><text fill=\"#000000\" font-family=\"sans-serif\" font-size=\"13\" lengthAdjust=\"spacingAndGlyphs\" textLength=\"63\" x=\"92\" y=\"293.4263\">frp=new()</text><polygon fill=\"#A80036\" points=\"625,323.4922,635,327.4922,625,331.4922,629,327.4922\" style=\"stroke: #A80036; stroke-width: 1.0;\"/><line style=\"stroke: #A80036; stroke-width: 1.0;\" x1=\"85\" x2=\"631\" y1=\"327.4922\" y2=\"327.4922\"/><text fill=\"#000000\" font-family=\"sans-serif\" font-size=\"13\" lengthAdjust=\"spacingAndGlyphs\" textLength=\"168\" x=\"92\" y=\"322.5591\">model.setFlyBehavior(frp);</text><polygon fill=\"#A80036\" points=\"625,365.1914,635,369.1914,625,373.1914,629,369.1914\" style=\"stroke: #A80036; stroke-width: 1.0;\"/><line style=\"stroke: #A80036; stroke-width: 1.0;\" x1=\"85\" x2=\"631\" y1=\"369.1914\" y2=\"369.1914\"/><text fill=\"#000000\" font-family=\"sans-serif\" font-size=\"13\" lengthAdjust=\"spacingAndGlyphs\" textLength=\"126\" x=\"92\" y=\"364.2583\">model.performFly();</text><polygon fill=\"#FBFB77\" filter=\"url(#f1)\" points=\"642,340.625,642,380.625,951,380.625,951,350.625,941,340.625,642,340.625\" style=\"stroke: #A80036; stroke-width: 1.0;\"/><line style=\"stroke: #A80036; stroke-width: 1.0;\" x1=\"941\" x2=\"941\" y1=\"340.625\" y2=\"350.625\"/><line style=\"stroke: #A80036; stroke-width: 1.0;\" x1=\"951\" x2=\"941\" y1=\"350.625\" y2=\"350.625\"/><text fill=\"#000000\" font-family=\"sans-serif\" font-size=\"13\" lengthAdjust=\"spacingAndGlyphs\" textLength=\"251\" x=\"648\" y=\"357.6919\">use quack() of Interface QuackBehavior</text><text fill=\"#000000\" font-family=\"sans-serif\" font-size=\"13\" lengthAdjust=\"spacingAndGlyphs\" textLength=\"288\" x=\"648\" y=\"372.8247\">setFlyBehavior() with Class FlyRocketPowered</text></g></svg>"
      ],
      "text/plain": [
       "<IPython.core.display.SVG object>"
      ]
     },
     "execution_count": 5,
     "metadata": {},
     "output_type": "execute_result"
    }
   ],
   "source": [
    "%%plantuml\n",
    "@startuml\n",
    "MiniDuckSimulator1 -> MallardDuck:mallard=new()\n",
    "MallardDuck -> Quak:quackBehavior=new( )\n",
    "MallardDuck -> FlyWithWings:flyBehavior=new()\n",
    "MiniDuckSimulator1 -> MallardDuck:mallard.performQuack()\n",
    "MiniDuckSimulator1 -> MallardDuck:mallard.performFly()\n",
    "note right\n",
    "    use quack() of Interface QuackBehavior\n",
    "    use fly() of Interface FlyBehavior\n",
    "end note\n",
    "\n",
    "MiniDuckSimulator1 -> ModelDuck:model:new()\n",
    "ModelDuck -> FlyNoWay:flyBehavior=new FlyNoWay;\n",
    "ModelDuck -> Quack:quackBehavior=new()\n",
    "MiniDuckSimulator1 -> ModelDuck:model.performFly()\n",
    "MiniDuckSimulator1 -> FlyRocketPowered:frp=new()\n",
    "MiniDuckSimulator1 -> ModelDuck:model.setFlyBehavior(frp)\n",
    "MiniDuckSimulator1 -> ModelDuck:model.performFly();\n",
    "note right\n",
    "    use quack() of Interface QuackBehavior\n",
    "    setFlyBehavior() with Class FlyRocketPowered\n",
    "end note\n",
    "\n",
    "@enduml"
   ]
  },
  {
   "cell_type": "markdown",
   "metadata": {},
   "source": [
    "* ModelDuck의 생성자에서 생성한 FlyBehavior를 사용하고 있다.\n",
    "```\n",
    "flyBehavior = new FlyNoWay();\n",
    "```\n",
    "\n",
    "* 또한 set함수를 통해 FlyBehavior를 수정하고 있다.\n",
    "```\n",
    "model.setFlyBehavior(new FlyRocketPowered());\n",
    "```"
   ]
  },
  {
   "cell_type": "code",
   "execution_count": null,
   "metadata": {
    "collapsed": true,
    "slideshow": {
     "slide_type": "subslide"
    }
   },
   "outputs": [],
   "source": [
    "# %load /Users/media/Code/git/sd/src/headfirst/strategy/MiniDuckSimulator1.java\n",
    "package headfirst.strategy;\n",
    "\n",
    "public class MiniDuckSimulator1 {\n",
    " \n",
    "\tpublic static void main(String[] args) {\n",
    " \n",
    "\t\tDuck mallard = new MallardDuck();\n",
    "\t\tmallard.performQuack();\n",
    "\t\tmallard.performFly();\n",
    "   \n",
    "\t\tDuck model = new ModelDuck();\n",
    "\t\tmodel.performFly();\n",
    "\t\tmodel.setFlyBehavior(new FlyRocketPowered());\n",
    "\t\tmodel.performFly();\n",
    "\t}\n",
    "}"
   ]
  },
  {
   "cell_type": "code",
   "execution_count": null,
   "metadata": {
    "collapsed": true,
    "slideshow": {
     "slide_type": "subslide"
    }
   },
   "outputs": [],
   "source": [
    "# %load /Users/media/Code/git/sd/src/headfirst/strategy/Duck.java\n",
    "package headfirst.strategy;\n",
    "\n",
    "public abstract class Duck {\n",
    "\tFlyBehavior flyBehavior;\n",
    "\tQuackBehavior quackBehavior;\n",
    " \n",
    "\tpublic Duck() {\n",
    "\t}\n",
    " \n",
    "\tpublic void setFlyBehavior (FlyBehavior fb) {\n",
    "\t\tflyBehavior = fb;\n",
    "\t}\n",
    " \n",
    "\tpublic void setQuackBehavior(QuackBehavior qb) {\n",
    "\t\tquackBehavior = qb;\n",
    "\t}\n",
    " \n",
    "\tabstract void display();\n",
    " \n",
    "\tpublic void performFly() {\n",
    "\t\tflyBehavior.fly();\n",
    "\t}\n",
    " \n",
    "\tpublic void performQuack() {\n",
    "\t\tquackBehavior.quack();\n",
    "\t}\n",
    " \n",
    "\tpublic void swim() {\n",
    "\t\tSystem.out.println(\"All ducks float, even decoys!\");\n",
    "\t}\n",
    "}\n"
   ]
  },
  {
   "cell_type": "code",
   "execution_count": null,
   "metadata": {
    "collapsed": false,
    "slideshow": {
     "slide_type": "subslide"
    }
   },
   "outputs": [],
   "source": [
    "# %load /Users/media/Code/git/sd/src/headfirst/strategy/MallardDuck.java\n",
    "package headfirst.strategy;\n",
    "\n",
    "public class MallardDuck extends Duck {\n",
    " \n",
    "\tpublic MallardDuck() {\n",
    " \n",
    "\t\tquackBehavior = new Quack();\n",
    "        flyBehavior = new FlyWithWings();\n",
    "\t}\n",
    " \n",
    "\tpublic void display() {\n",
    "\t\tSystem.out.println(\"I'm a real Mallard duck\");\n",
    "\t}\n",
    "}\n"
   ]
  },
  {
   "cell_type": "code",
   "execution_count": null,
   "metadata": {
    "collapsed": true,
    "slideshow": {
     "slide_type": "subslide"
    }
   },
   "outputs": [],
   "source": [
    "# %load /Users/media/Code/git/sd/src/headfirst/strategy/ModelDuck.java\n",
    "package headfirst.strategy;\n",
    "\n",
    "public class ModelDuck extends Duck {\n",
    "\tpublic ModelDuck() {\n",
    "\t\tflyBehavior = new FlyNoWay();\n",
    "\t\tquackBehavior = new Quack();\n",
    "\t}\n",
    "\n",
    "\tpublic void display() {\n",
    "\t\tSystem.out.println(\"I'm a model duck\");\n",
    "\t}\n",
    "}\n"
   ]
  },
  {
   "cell_type": "code",
   "execution_count": null,
   "metadata": {
    "collapsed": true,
    "slideshow": {
     "slide_type": "subslide"
    }
   },
   "outputs": [],
   "source": [
    "# %load /Users/media/Code/git/sd/src/headfirst/strategy/QuackBehavior.java\n",
    "package headfirst.strategy;\n",
    "\n",
    "public interface QuackBehavior {\n",
    "\tpublic void quack();\n",
    "}\n"
   ]
  },
  {
   "cell_type": "code",
   "execution_count": null,
   "metadata": {
    "collapsed": true,
    "slideshow": {
     "slide_type": "slide"
    }
   },
   "outputs": [],
   "source": [
    "# %load /Users/media/Code/git/sd/src/headfirst/strategy/Quack.java\n",
    "package headfirst.strategy;\n",
    "\n",
    "public class Quack implements QuackBehavior {\n",
    "\tpublic void quack() {\n",
    "\t\tSystem.out.println(\"Quack\");\n",
    "\t}\n",
    "}\n"
   ]
  },
  {
   "cell_type": "code",
   "execution_count": null,
   "metadata": {
    "collapsed": true,
    "slideshow": {
     "slide_type": "subslide"
    }
   },
   "outputs": [],
   "source": [
    "# %load /Users/media/Code/git/sd/src/headfirst/strategy/FlyBehavior.java\n",
    "package headfirst.strategy;\n",
    "\n",
    "public interface FlyBehavior {\n",
    "\tpublic void fly();\n",
    "}\n"
   ]
  },
  {
   "cell_type": "code",
   "execution_count": null,
   "metadata": {
    "collapsed": true,
    "slideshow": {
     "slide_type": "subslide"
    }
   },
   "outputs": [],
   "source": [
    "# %load /Users/media/Code/git/sd/src/headfirst/strategy/FlyWithWings.java\n",
    "package headfirst.strategy;\n",
    "\n",
    "public class FlyWithWings implements FlyBehavior {\n",
    "\tpublic void fly() {\n",
    "\t\tSystem.out.println(\"I'm flying!!\");\n",
    "\t}\n",
    "}\n"
   ]
  },
  {
   "cell_type": "code",
   "execution_count": null,
   "metadata": {
    "collapsed": true,
    "slideshow": {
     "slide_type": "subslide"
    }
   },
   "outputs": [],
   "source": [
    "# %load /Users/media/Code/git/sd/src/headfirst/strategy/FlyRocketPowered.java\n",
    "package headfirst.strategy;\n",
    "\n",
    "public class FlyRocketPowered implements FlyBehavior {\n",
    "\tpublic void fly() {\n",
    "\t\tSystem.out.println(\"I'm flying with a rocket\");\n",
    "\t}\n",
    "}\n"
   ]
  },
  {
   "cell_type": "markdown",
   "metadata": {
    "slideshow": {
     "slide_type": "subslide"
    }
   },
   "source": [
    "* 컴파일 및 실행은 프로젝트 디렉토리에서 한다.\n",
    "\n",
    "명령어 | 설명\n",
    "-----|-----\n",
    "d | 빌드 디렉토리, 패키지 및 .class가 저장된다.\n",
    "sourcepath | 패키지가 저장된 디렉토리. src/\n",
    "cp 또는 classpath | classpath 디렉토리. .jar는 하나씩 써준다."
   ]
  },
  {
   "cell_type": "code",
   "execution_count": 1,
   "metadata": {
    "collapsed": false,
    "slideshow": {
     "slide_type": "subslide"
    }
   },
   "outputs": [
    {
     "data": {
      "text/plain": [
       "u'/home/jsl/Code/git/bb/sd'"
      ]
     },
     "execution_count": 1,
     "metadata": {},
     "output_type": "execute_result"
    }
   ],
   "source": [
    "%pwd"
   ]
  },
  {
   "cell_type": "code",
   "execution_count": null,
   "metadata": {
    "collapsed": true,
    "slideshow": {
     "slide_type": "subslide"
    }
   },
   "outputs": [],
   "source": [
    "# change to the root directory\n",
    "!javac -d classes/ -sourcepath src/ src/headfirst/strategy/*.java\n",
    "!java -cp classes/ headfirst.strategy.MiniDuckSimulator1"
   ]
  },
  {
   "cell_type": "markdown",
   "metadata": {
    "slideshow": {
     "slide_type": "slide"
    }
   },
   "source": [
    "### S.4.3 정렬\n",
    "\n",
    "* 정렬 기능이 많은 경우에 수정없이 사용될 수 있도록 설계해 본다.\n",
    "* 정렬의 여러 경우, 우선 수와 문자를 분석한다.\n",
    "    * 무엇이 문제가 되는지 분석한다?\n",
    "    * 수와 문자를 정렬하면서 비교부분을 제외하고 중복이 많다.\n",
    "    * 고정부분과 변동부분을 나누어 볼 수 있는가?\n",
    "    * 고정되는 부분을 어떻게 구현하면 중복을 제거할 수 있고, 재사용하게 되는가?\n",
    "    * 추가할 기능이 발생하는 경우, 고정부분에 그대로 두고 변동부분을 어떻게 추가하게 되는가?\n",
    "\n",
    "구분 | 설명\n",
    "-----|-----\n",
    "고정부분 | 정렬알고리즘이 중복된다. 이 중복을 공통으로 재사용할 수 있게 한다.\n",
    "변동부분 | '비교'가 서로 다른 변동부분이다. 기능을 추가하기 쉽도록 구현하는 방법을 설계한다."
   ]
  },
  {
   "cell_type": "markdown",
   "metadata": {
    "slideshow": {
     "slide_type": "subslide"
    }
   },
   "source": [
    "* v0은 자연발생적으로 그 때 그 때 구현한 결과이다.\n",
    "* v1은 Template 패턴을 적용\n",
    "* v2는 Strategy 패턴을 적용\n",
    "\n",
    "버전 | 설명\n",
    "-----|-----\n",
    "v0 | 정렬 알고리즘이 중복. 정수, 문자에 따라 비교 방식만 다르고 나머지 중복 \n",
    "v1 | Comparable. Template 패턴 적용.\n",
    "v2 | Comparator. Strategy 패턴 적용."
   ]
  },
  {
   "cell_type": "markdown",
   "metadata": {
    "slideshow": {
     "slide_type": "subslide"
    }
   },
   "source": [
    "#### S.4.2.1 v0\n",
    "\n",
    "* 숫자와 문자열을 정렬하는 경우, 알고리즘이 중복된다.\n",
    "* 중복정도는 비교하는 부분을 제외하고는 거의 같다.\n"
   ]
  },
  {
   "cell_type": "code",
   "execution_count": 3,
   "metadata": {
    "collapsed": false,
    "slideshow": {
     "slide_type": "subslide"
    }
   },
   "outputs": [
    {
     "data": {
      "image/svg+xml": [
       "<svg height=\"90px\" style=\"width:147px;height:90px;\" version=\"1.1\" viewBox=\"0 0 147 90\" width=\"147px\" xmlns=\"http://www.w3.org/2000/svg\" xmlns:xlink=\"http://www.w3.org/1999/xlink\"><defs><filter height=\"300%\" id=\"f1\" width=\"300%\" x=\"-1\" y=\"-1\"><feGaussianBlur result=\"blurOut\" stdDeviation=\"2.0\"/><feColorMatrix in=\"blurOut\" result=\"blurOut2\" type=\"matrix\" values=\"0 0 0 0 0 0 0 0 0 0 0 0 0 0 0 0 0 0 .4 0\"/><feOffset dx=\"4.0\" dy=\"4.0\" in=\"blurOut2\" result=\"blurOut3\"/><feBlend in=\"SourceGraphic\" in2=\"blurOut3\" mode=\"normal\"/></filter></defs><g><rect fill=\"#FEFECE\" filter=\"url(#f1)\" height=\"73.6094\" style=\"stroke: #A80036; stroke-width: 1.5;\" width=\"132\" x=\"6\" y=\"8\"/><ellipse cx=\"48.45\" cy=\"24\" fill=\"#ADD1B2\" rx=\"11\" ry=\"11\" style=\"stroke: #A80036; stroke-width: 1.0;\"/><path d=\"M51.4188,29.6406 Q50.8406,29.9375 50.2,30.0859 Q49.5594,30.2344 48.8563,30.2344 Q46.3563,30.2344 45.0359,28.5859 Q43.7156,26.9375 43.7156,23.8125 Q43.7156,20.6875 45.0359,19.0313 Q46.3563,17.375 48.8563,17.375 Q49.5594,17.375 50.2078,17.5313 Q50.8563,17.6875 51.4188,17.9844 L51.4188,20.7031 Q50.7938,20.125 50.2,19.8516 Q49.6063,19.5781 48.9813,19.5781 Q47.6375,19.5781 46.95,20.6484 Q46.2625,21.7188 46.2625,23.8125 Q46.2625,25.9063 46.95,26.9766 Q47.6375,28.0469 48.9813,28.0469 Q49.6063,28.0469 50.2,27.7734 Q50.7938,27.5 51.4188,26.9219 L51.4188,29.6406 Z \"/><text fill=\"#000000\" font-family=\"sans-serif\" font-size=\"12\" lengthAdjust=\"spacingAndGlyphs\" textLength=\"39\" x=\"68.55\" y=\"28.1543\">Sorter</text><line style=\"stroke: #A80036; stroke-width: 1.5;\" x1=\"7\" x2=\"137\" y1=\"40\" y2=\"40\"/><line style=\"stroke: #A80036; stroke-width: 1.5;\" x1=\"7\" x2=\"137\" y1=\"48\" y2=\"48\"/><ellipse cx=\"17\" cy=\"59.9023\" fill=\"#84BE84\" rx=\"3\" ry=\"3\" style=\"stroke: #038048; stroke-width: 1.0;\"/><text fill=\"#000000\" font-family=\"sans-serif\" font-size=\"11\" lengthAdjust=\"spacingAndGlyphs\" textLength=\"106\" x=\"26\" y=\"62.2104\">sort(Integer[]):void</text><ellipse cx=\"17\" cy=\"72.707\" fill=\"#84BE84\" rx=\"3\" ry=\"3\" style=\"stroke: #038048; stroke-width: 1.0;\"/><text fill=\"#000000\" font-family=\"sans-serif\" font-size=\"11\" lengthAdjust=\"spacingAndGlyphs\" textLength=\"100\" x=\"26\" y=\"75.0151\">sort(String[]):void</text></g></svg>"
      ],
      "text/plain": [
       "<IPython.core.display.SVG object>"
      ]
     },
     "execution_count": 3,
     "metadata": {},
     "output_type": "execute_result"
    }
   ],
   "source": [
    "%%plantuml\n",
    "@startuml\n",
    "class Sorter {\n",
    "    +sort(Integer[]):void\n",
    "    +sort(String[]):void\n",
    "}\n",
    "@enduml"
   ]
  },
  {
   "cell_type": "markdown",
   "metadata": {
    "collapsed": true,
    "slideshow": {
     "slide_type": "subslide"
    }
   },
   "source": [
    "* String객체는 compareTo()를 사용하여 비교할 수 있다."
   ]
  },
  {
   "cell_type": "code",
   "execution_count": 17,
   "metadata": {
    "collapsed": false,
    "slideshow": {
     "slide_type": "subslide"
    }
   },
   "outputs": [
    {
     "name": "stdout",
     "output_type": "stream",
     "text": [
      " String[] data={\"John\", \"Adam\", \"Skrien\", \"Smith\", \"Jones\"};\r\n",
      "|  Modified variable data of type String[] with initial value [Ljava.lang.String;@25bbe1b6\r\n",
      "|    Update overwrote variable data\r\n",
      "\r\n",
      " \r\n",
      "\r\n",
      " for(int i=data.length-1;i>=0;i--) {\r\n",
      "     int indexOfMax=0;\r\n",
      "     for(int j=1;j<=i;j++) {\r\n",
      "         if(data[j].compareTo(data[indexOfMax])>0)\r\n",
      "             indexOfMax=j;\r\n",
      "     }\r\n",
      "     String temp=data[i];\r\n",
      "     data[i]=data[indexOfMax];\r\n",
      "     data[indexOfMax]=temp;\r\n",
      " }\r\n",
      "\r\n",
      " \r\n",
      "\r\n",
      " for(int i=0; i<data.length; i++)\r\n",
      "     System.out.println(\"data[\"+i+\"]=\"+data[i]);\r\n",
      "data[0]=Adam\r\n",
      "data[1]=John\r\n",
      "data[2]=Jones\r\n",
      "data[3]=Skrien\r\n",
      "data[4]=Smith\r\n",
      "\r\n"
     ]
    }
   ],
   "source": [
    "String[] data={\"John\", \"Adam\", \"Skrien\", \"Smith\", \"Jones\"};\n",
    "\n",
    "for(int i=data.length-1;i>=0;i--) {\n",
    "    int indexOfMax=0;\n",
    "    for(int j=1;j<=i;j++) {\n",
    "        if(data[j].compareTo(data[indexOfMax])>0)\n",
    "            indexOfMax=j;\n",
    "    }\n",
    "    String temp=data[i];\n",
    "    data[i]=data[indexOfMax];\n",
    "    data[indexOfMax]=temp;\n",
    "}\n",
    "\n",
    "for(int i=0; i<data.length; i++)\n",
    "    System.out.println(\"data[\"+i+\"]=\"+data[i]);"
   ]
  },
  {
   "cell_type": "markdown",
   "metadata": {
    "collapsed": true,
    "slideshow": {
     "slide_type": "subslide"
    }
   },
   "source": [
    "* Integer객체는 부등호로 비교할 수 있다. 객체이므로 compareTo()를 사용할 수 있다.\n",
    "    ```\n",
    "    Integer i1 = new Integer(\"20\");\n",
    "    Integer i2 = new Integer(\"10\");\n",
    "    int res =  i1.compareTo(i2);\n",
    "    ```\n",
    "\n",
    "* String을 비교하는 경우에는 compareTo()를 사용한다."
   ]
  },
  {
   "cell_type": "code",
   "execution_count": 20,
   "metadata": {
    "collapsed": false,
    "slideshow": {
     "slide_type": "subslide"
    }
   },
   "outputs": [
    {
     "name": "stdout",
     "output_type": "stream",
     "text": [
      " Integer[] data={new Integer(3), new Integer(1), new Integer(4), new Integer(2 \r",
      ")};\r\n",
      "|  Modified variable data of type Integer[] with initial value [Ljava.lang.Integer;@192b07fd\r\n",
      "|    Update overwrote variable data\r\n",
      "\r\n",
      " for(int i=data.length-1;i>=0;i--) {\r\n",
      "     int indexOfMax=0;\r\n",
      "     for(int j=1;j<=i;j++) {\r\n",
      "         if(data[j] > data[indexOfMax])\r\n",
      "             indexOfMax=j;\r\n",
      "         }\r\n",
      "     Integer temp=data[i];\r\n",
      "     data[i]=data[indexOfMax];\r\n",
      "     data[indexOfMax]=temp;\r\n",
      " }\r\n",
      "\r\n",
      " \r\n",
      "\r\n",
      " for(int i=0; i<data.length; i++)\r\n",
      "     System.out.println(\"data[\"+i+\"]=\"+data[i]);\r\n",
      "data[0]=1\r\n",
      "data[1]=2\r\n",
      "data[2]=3\r\n",
      "data[3]=4\r\n",
      "\r\n"
     ]
    }
   ],
   "source": [
    "Integer[] data={new Integer(3), new Integer(1), new Integer(4), new Integer(2)};\n",
    "for(int i=data.length-1;i>=0;i--) {\n",
    "    int indexOfMax=0;\n",
    "    for(int j=1;j<=i;j++) {\n",
    "        if(data[j] > data[indexOfMax])\n",
    "            indexOfMax=j;\n",
    "        }\n",
    "    Integer temp=data[i];\n",
    "    data[i]=data[indexOfMax];\n",
    "    data[indexOfMax]=temp;\n",
    "}\n",
    "\n",
    "for(int i=0; i<data.length; i++)\n",
    "    System.out.println(\"data[\"+i+\"]=\"+data[i]);"
   ]
  },
  {
   "cell_type": "markdown",
   "metadata": {
    "slideshow": {
     "slide_type": "slide"
    }
   },
   "source": [
    "#### S.4.2.2 v1\n",
    "\n",
    "* template패턴\n",
    "* v0에서의 중복\n",
    "    * 정수, 문자, 객체마다 비교하는 알고리즘이 다름\n",
    "        * 정수는 단순히 빼주면 됨\n",
    "        * 문자는 String.compareTo()를 사용\n",
    "        * 객체는 비교하려는 대상에 따라 다름\n",
    "* 문제해결\n",
    "    * Comparable interface 구현\n",
    "        * compareTo() 만들고, sort()에서 호출해서 해결 (template pattern)\n",
    "    * 라이브러리 sort이용\n",
    "        * Arrays.sort() (Array를 구현한 경우)\n",
    "        * Collections.sort() (Collection interface를 구현한 경우)\n",
    "        * compareTo()를 호출 (template pattern)\n"
   ]
  },
  {
   "cell_type": "markdown",
   "metadata": {
    "collapsed": true,
    "slideshow": {
     "slide_type": "subslide"
    }
   },
   "source": [
    "* 숫자, 문자의 compareTo()를 이용한 정렬"
   ]
  },
  {
   "cell_type": "code",
   "execution_count": 10,
   "metadata": {
    "collapsed": false,
    "slideshow": {
     "slide_type": "subslide"
    }
   },
   "outputs": [
    {
     "name": "stdout",
     "output_type": "stream",
     "text": [
      " Integer[] num=new Integer[] {5,3,4,2,1};\r\n",
      "|  Modified variable num of type Integer[] with initial value [Ljava.lang.Integer;@6fd02e5\r\n",
      "|    Update overwrote variable num\r\n",
      "\r\n",
      " Arrays.sort(num);\r\n",
      "\r\n",
      " for(int i=0;i<num.length;i++)\r\n",
      "     System.out.println(num[i]);\r\n",
      "1\r\n",
      "2\r\n",
      "3\r\n",
      "4\r\n",
      "5\r\n",
      "\r\n"
     ]
    }
   ],
   "source": [
    "import java.util.Arrays;\n",
    "Integer[] num=new Integer[] {5,3,4,2,1};\n",
    "Arrays.sort(num);\n",
    "for(int i=0;i<num.length;i++)\n",
    "    System.out.println(num[i]);"
   ]
  },
  {
   "cell_type": "code",
   "execution_count": 16,
   "metadata": {
    "collapsed": false,
    "slideshow": {
     "slide_type": "subslide"
    }
   },
   "outputs": [
    {
     "name": "stdout",
     "output_type": "stream",
     "text": [
      " String[] s={\"John\", \"Adam\", \"Skrien\", \"Smith\", \"Jones\"};\r\n",
      "|  Added variable s of type String[] with initial value [Ljava.lang.String;@5bcab519\r\n",
      "\r\n",
      " Arrays.sort(s)\r\n",
      "\r\n",
      " for(int i=0;i<s.length;i++)\r\n",
      "     System.out.println(s[i]);\r\n",
      "Adam\r\n",
      "John\r\n",
      "Jones\r\n",
      "Skrien\r\n",
      "Smith\r\n",
      "\r\n"
     ]
    }
   ],
   "source": [
    "String[] s={\"John\", \"Adam\", \"Skrien\", \"Smith\", \"Jones\"};\n",
    "Arrays.sort(s);\n",
    "for(int i=0;i<s.length;i++)\n",
    "    System.out.println(s[i]);"
   ]
  },
  {
   "cell_type": "code",
   "execution_count": 15,
   "metadata": {
    "collapsed": false,
    "slideshow": {
     "slide_type": "subslide"
    }
   },
   "outputs": [
    {
     "name": "stdout",
     "output_type": "stream",
     "text": [
      " List<Integer> num=new ArrayList<Integer>();\r\n",
      "|  Modified variable num of type List<Integer> with initial value []\r\n",
      "|    Update overwrote variable num\r\n",
      "\r\n",
      " num.add(7)\r\n",
      "|  Expression value is: true\r\n",
      "|    assigned to temporary variable $16 of type boolean\r\n",
      "\r\n",
      " num.add(6)\r\n",
      "|  Expression value is: true\r\n",
      "|    assigned to temporary variable $17 of type boolean\r\n",
      "\r\n",
      " num.add(9)\r\n",
      "|  Expression value is: true\r\n",
      "|    assigned to temporary variable $18 of type boolean\r\n",
      "\r\n",
      " num.add(8)\r\n",
      "|  Expression value is: true\r\n",
      "|    assigned to temporary variable $19 of type boolean\r\n",
      "\r\n",
      " num.add(5)\r\n",
      "|  Expression value is: true\r\n",
      "|    assigned to temporary variable $20 of type boolean\r\n",
      "\r\n",
      " Collections.sort(num)\r\n",
      "\r\n",
      " for(int i=0;i<num.size();i++)\r\n",
      "     System.out.println(num.get(i));\r\n",
      "5\r\n",
      "6\r\n",
      "7\r\n",
      "8\r\n",
      "9\r\n",
      "\r\n"
     ]
    }
   ],
   "source": [
    "import java.util.Collections;\n",
    "import java.util.List;\n",
    "import java.util.ArrayList;\n",
    "List<Integer> num=new ArrayList<Integer>();\n",
    "num.add(7);\n",
    "num.add(6);\n",
    "num.add(9);\n",
    "num.add(8);\n",
    "num.add(5);\n",
    "Collections.sort(num);\n",
    "for(int i=0;i<num.size();i++)\n",
    "    System.out.println(num.get(i));"
   ]
  },
  {
   "cell_type": "code",
   "execution_count": 4,
   "metadata": {
    "collapsed": false,
    "slideshow": {
     "slide_type": "subslide"
    }
   },
   "outputs": [
    {
     "data": {
      "image/svg+xml": [
       "<svg height=\"211px\" style=\"width:284px;height:211px;\" version=\"1.1\" viewBox=\"0 0 284 211\" width=\"284px\" xmlns=\"http://www.w3.org/2000/svg\" xmlns:xlink=\"http://www.w3.org/1999/xlink\"><defs><filter height=\"300%\" id=\"f1\" width=\"300%\" x=\"-1\" y=\"-1\"><feGaussianBlur result=\"blurOut\" stdDeviation=\"2.0\"/><feColorMatrix in=\"blurOut\" result=\"blurOut2\" type=\"matrix\" values=\"0 0 0 0 0 0 0 0 0 0 0 0 0 0 0 0 0 0 .4 0\"/><feOffset dx=\"4.0\" dy=\"4.0\" in=\"blurOut2\" result=\"blurOut3\"/><feBlend in=\"SourceGraphic\" in2=\"blurOut3\" mode=\"normal\"/></filter></defs><g><rect fill=\"#FEFECE\" filter=\"url(#f1)\" height=\"60.8047\" style=\"stroke: #A80036; stroke-width: 1.5;\" width=\"163\" x=\"112\" y=\"8\"/><ellipse cx=\"152.2\" cy=\"24\" fill=\"#B4A7E5\" rx=\"11\" ry=\"11\" style=\"stroke: #A80036; stroke-width: 1.0;\"/><path d=\"M148.1219,19.7656 L148.1219,17.6094 L155.5125,17.6094 L155.5125,19.7656 L153.0438,19.7656 L153.0438,27.8438 L155.5125,27.8438 L155.5125,30 L148.1219,30 L148.1219,27.8438 L150.5906,27.8438 L150.5906,19.7656 L148.1219,19.7656 Z \"/><text fill=\"#000000\" font-family=\"sans-serif\" font-size=\"12\" font-style=\"italic\" lengthAdjust=\"spacingAndGlyphs\" textLength=\"75\" x=\"171.8\" y=\"28.1543\">Comparable</text><line style=\"stroke: #A80036; stroke-width: 1.5;\" x1=\"113\" x2=\"274\" y1=\"40\" y2=\"40\"/><line style=\"stroke: #A80036; stroke-width: 1.5;\" x1=\"113\" x2=\"274\" y1=\"48\" y2=\"48\"/><ellipse cx=\"123\" cy=\"59.9023\" fill=\"#84BE84\" rx=\"3\" ry=\"3\" style=\"stroke: #038048; stroke-width: 1.0;\"/><text fill=\"#000000\" font-family=\"sans-serif\" font-size=\"11\" lengthAdjust=\"spacingAndGlyphs\" textLength=\"137\" x=\"132\" y=\"62.2104\">compareTo(Object o):int</text><rect fill=\"#FEFECE\" filter=\"url(#f1)\" height=\"73.6094\" style=\"stroke: #A80036; stroke-width: 1.5;\" width=\"163\" x=\"112\" y=\"129\"/><ellipse cx=\"167.75\" cy=\"145\" fill=\"#ADD1B2\" rx=\"11\" ry=\"11\" style=\"stroke: #A80036; stroke-width: 1.0;\"/><path d=\"M170.7188,150.6406 Q170.1406,150.9375 169.5,151.0859 Q168.8594,151.2344 168.1563,151.2344 Q165.6563,151.2344 164.3359,149.5859 Q163.0156,147.9375 163.0156,144.8125 Q163.0156,141.6875 164.3359,140.0313 Q165.6563,138.375 168.1563,138.375 Q168.8594,138.375 169.5078,138.5313 Q170.1563,138.6875 170.7188,138.9844 L170.7188,141.7031 Q170.0938,141.125 169.5,140.8516 Q168.9063,140.5781 168.2813,140.5781 Q166.9375,140.5781 166.25,141.6484 Q165.5625,142.7188 165.5625,144.8125 Q165.5625,146.9063 166.25,147.9766 Q166.9375,149.0469 168.2813,149.0469 Q168.9063,149.0469 169.5,148.7734 Q170.0938,148.5 170.7188,147.9219 L170.7188,150.6406 Z \"/><text fill=\"#000000\" font-family=\"sans-serif\" font-size=\"12\" lengthAdjust=\"spacingAndGlyphs\" textLength=\"43\" x=\"188.25\" y=\"149.1543\">Weight</text><line style=\"stroke: #A80036; stroke-width: 1.5;\" x1=\"113\" x2=\"274\" y1=\"161\" y2=\"161\"/><rect fill=\"none\" height=\"6\" style=\"stroke: #C82930; stroke-width: 1.0;\" width=\"6\" x=\"120\" y=\"169.9023\"/><text fill=\"#000000\" font-family=\"sans-serif\" font-size=\"11\" lengthAdjust=\"spacingAndGlyphs\" textLength=\"37\" x=\"132\" y=\"175.2104\">kilo:int</text><line style=\"stroke: #A80036; stroke-width: 1.5;\" x1=\"113\" x2=\"274\" y1=\"181.8047\" y2=\"181.8047\"/><ellipse cx=\"123\" cy=\"193.707\" fill=\"#84BE84\" rx=\"3\" ry=\"3\" style=\"stroke: #038048; stroke-width: 1.0;\"/><text fill=\"#000000\" font-family=\"sans-serif\" font-size=\"11\" lengthAdjust=\"spacingAndGlyphs\" textLength=\"137\" x=\"132\" y=\"196.0151\">compareTo(Object o):int</text><rect fill=\"#FEFECE\" filter=\"url(#f1)\" height=\"48\" style=\"stroke: #A80036; stroke-width: 1.5;\" width=\"71\" x=\"6\" y=\"142\"/><ellipse cx=\"21\" cy=\"158\" fill=\"#ADD1B2\" rx=\"11\" ry=\"11\" style=\"stroke: #A80036; stroke-width: 1.0;\"/><path d=\"M23.9688,163.6406 Q23.3906,163.9375 22.75,164.0859 Q22.1094,164.2344 21.4063,164.2344 Q18.9063,164.2344 17.5859,162.5859 Q16.2656,160.9375 16.2656,157.8125 Q16.2656,154.6875 17.5859,153.0313 Q18.9063,151.375 21.4063,151.375 Q22.1094,151.375 22.7578,151.5313 Q23.4063,151.6875 23.9688,151.9844 L23.9688,154.7031 Q23.3438,154.125 22.75,153.8516 Q22.1563,153.5781 21.5313,153.5781 Q20.1875,153.5781 19.5,154.6484 Q18.8125,155.7188 18.8125,157.8125 Q18.8125,159.9063 19.5,160.9766 Q20.1875,162.0469 21.5313,162.0469 Q22.1563,162.0469 22.75,161.7734 Q23.3438,161.5 23.9688,160.9219 L23.9688,163.6406 Z \"/><text fill=\"#000000\" font-family=\"sans-serif\" font-size=\"12\" lengthAdjust=\"spacingAndGlyphs\" textLength=\"39\" x=\"35\" y=\"162.1543\">Sorter</text><line style=\"stroke: #A80036; stroke-width: 1.5;\" x1=\"7\" x2=\"76\" y1=\"174\" y2=\"174\"/><line style=\"stroke: #A80036; stroke-width: 1.5;\" x1=\"7\" x2=\"76\" y1=\"182\" y2=\"182\"/><rect fill=\"#FEFECE\" filter=\"url(#f1)\" height=\"48\" style=\"stroke: #A80036; stroke-width: 1.5;\" width=\"71\" x=\"6\" y=\"14.5\"/><ellipse cx=\"21\" cy=\"30.5\" fill=\"#ADD1B2\" rx=\"11\" ry=\"11\" style=\"stroke: #A80036; stroke-width: 1.0;\"/><path d=\"M23.9688,36.1406 Q23.3906,36.4375 22.75,36.5859 Q22.1094,36.7344 21.4063,36.7344 Q18.9063,36.7344 17.5859,35.0859 Q16.2656,33.4375 16.2656,30.3125 Q16.2656,27.1875 17.5859,25.5313 Q18.9063,23.875 21.4063,23.875 Q22.1094,23.875 22.7578,24.0313 Q23.4063,24.1875 23.9688,24.4844 L23.9688,27.2031 Q23.3438,26.625 22.75,26.3516 Q22.1563,26.0781 21.5313,26.0781 Q20.1875,26.0781 19.5,27.1484 Q18.8125,28.2188 18.8125,30.3125 Q18.8125,32.4063 19.5,33.4766 Q20.1875,34.5469 21.5313,34.5469 Q22.1563,34.5469 22.75,34.2734 Q23.3438,34 23.9688,33.4219 L23.9688,36.1406 Z \"/><text fill=\"#000000\" font-family=\"sans-serif\" font-size=\"12\" lengthAdjust=\"spacingAndGlyphs\" textLength=\"39\" x=\"35\" y=\"34.6543\">Arrays</text><line style=\"stroke: #A80036; stroke-width: 1.5;\" x1=\"7\" x2=\"76\" y1=\"46.5\" y2=\"46.5\"/><line style=\"stroke: #A80036; stroke-width: 1.5;\" x1=\"7\" x2=\"76\" y1=\"54.5\" y2=\"54.5\"/><path d=\"M193.5,89.505 C193.5,102.621 193.5,116.5128 193.5,128.7555 \" fill=\"none\" style=\"stroke: #A80036; stroke-width: 1.0;\"/><polygon fill=\"none\" points=\"186.5,89.242,193.5,69.242,200.5,89.242,186.5,89.242\" style=\"stroke: #A80036; stroke-width: 1.0;\"/><path d=\"M77.125,166 C86.9318,166 96.7387,166 106.545,166 \" fill=\"none\" style=\"stroke: #A80036; stroke-width: 1.0; stroke-dasharray: 7.0,7.0;\"/><polygon fill=\"#A80036\" points=\"111.674,166,102.674,162,106.674,166,102.674,170,111.674,166\" style=\"stroke: #A80036; stroke-width: 1.0;\"/><path d=\"M41.5,67.711 C41.5,90.017 41.5,120.7816 41.5,141.7023 \" fill=\"none\" style=\"stroke: #A80036; stroke-width: 1.0; stroke-dasharray: 7.0,7.0;\"/><polygon fill=\"#A80036\" points=\"41.5,62.519,37.5,71.519,41.5,67.519,45.5,71.519,41.5,62.519\" style=\"stroke: #A80036; stroke-width: 1.0;\"/></g></svg>"
      ],
      "text/plain": [
       "<IPython.core.display.SVG object>"
      ]
     },
     "execution_count": 4,
     "metadata": {},
     "output_type": "execute_result"
    }
   ],
   "source": [
    "%%plantuml\n",
    "\n",
    "@startuml\n",
    "interface Comparable {\n",
    "    +compareTo(Object o):int\n",
    "}\n",
    "class Weight {\n",
    "    -kilo:int\n",
    "    +compareTo(Object o):int\n",
    "}\n",
    "Comparable <|-- Weight\n",
    "Sorter .right.> Weight\n",
    "Sorter .up.> Arrays\n",
    "@enduml"
   ]
  },
  {
   "cell_type": "code",
   "execution_count": null,
   "metadata": {
    "collapsed": true,
    "slideshow": {
     "slide_type": "subslide"
    }
   },
   "outputs": [],
   "source": [
    "# %load src/com/sd/sort/v1/Weight.java\n",
    "/*\n",
    " * @author jsl\n",
    " * @since 20170313 20160302\n",
    " */\n",
    "\n",
    "package com.sd.sort.v1;\n",
    "//import java.util.Arrays;\n",
    "\n",
    "public class Weight implements Comparable {\n",
    "    private int kilo;\n",
    "    public Weight(int k) {\n",
    "        kilo=k;\n",
    "    }\n",
    "    public int compareTo(Object o) {\n",
    "        Weight w=(Weight)o;\n",
    "        return this.kilo-w.kilo;\n",
    "    }\n",
    "    public String toString() {\n",
    "        String msg=kilo+\"\";\n",
    "        return msg;\n",
    "    }\n",
    "}\n",
    "\n"
   ]
  },
  {
   "cell_type": "code",
   "execution_count": null,
   "metadata": {
    "collapsed": true,
    "slideshow": {
     "slide_type": "subslide"
    }
   },
   "outputs": [],
   "source": [
    "# %load src/com/sd/sort/v1/WeightSorterMainV1.java\n",
    "/*\n",
    " * @author jsl\n",
    " * @since 20160302\n",
    " */\n",
    "\n",
    "package com.sd.sort.v1;\n",
    "import java.util.Arrays;\n",
    "\n",
    "public class WeightSorterMainV1 {\n",
    "    public static void main(String[] args){\n",
    "        Weight[] weights=new Weight[3];\n",
    "        weights[0]=new Weight(50);\n",
    "        weights[1]=new Weight(40);\n",
    "        weights[2]=new Weight(70);\n",
    "        Arrays.sort(weights);\n",
    "        for(Weight w:weights)\n",
    "            System.out.println(w.toString());\n",
    "    }\n",
    "}\n",
    "\n"
   ]
  },
  {
   "cell_type": "markdown",
   "metadata": {
    "slideshow": {
     "slide_type": "subslide"
    }
   },
   "source": [
    "* WeightTurtle\n",
    "* jshell로 실행"
   ]
  },
  {
   "cell_type": "code",
   "execution_count": 23,
   "metadata": {
    "collapsed": false,
    "slideshow": {
     "slide_type": "subslide"
    }
   },
   "outputs": [
    {
     "name": "stdout",
     "output_type": "stream",
     "text": [
      " /classpath classes:lib/aplu5.jar\r\n",
      "|  Path 'classes:lib/aplu5.jar' added to classpath\r\n",
      "\r\n"
     ]
    }
   ],
   "source": [
    "/classpath classes:lib/aplu5.jar"
   ]
  },
  {
   "cell_type": "code",
   "execution_count": 24,
   "metadata": {
    "collapsed": false,
    "slideshow": {
     "slide_type": "subslide"
    }
   },
   "outputs": [
    {
     "name": "stdout",
     "output_type": "stream",
     "text": [
      " import com.sd.sort.v1.WeightTurtleComparable;\r\n",
      "\r\n",
      " List<WeightTurtleComparable> l=new ArrayList<WeightTurtleComparable>();\r\n",
      "|  Modified variable l of type List<WeightTurtleComparable> with initial value []\r\n",
      "|    Update overwrote variable l\r\n",
      "\r\n",
      " WeightTurtleComparable wt10=new WeightTurtleComparable(10);\r\n",
      "|  Modified variable wt10 of type WeightTurtleComparable with initial value Turtle(Position=(0,0), Heading=0)\r\n",
      "|    Update overwrote variable wt10\r\n",
      "\r\n",
      " WeightTurtleComparable wt15=new WeightTurtleComparable(15);\r\n",
      "|  Modified variable wt15 of type WeightTurtleComparable with initial value Turtle(Position=(0,0), Heading=0)\r\n",
      "|    Update overwrote variable wt15\r\n",
      "\r\n",
      " l.add(wt10);\r\n",
      "|  Expression value is: true\r\n",
      "|    assigned to temporary variable $41 of type boolean\r\n",
      "\r\n",
      " l.add(wt15);\r\n",
      "|  Expression value is: true\r\n",
      "|    assigned to temporary variable $42 of type boolean\r\n",
      "\r\n",
      " java.util.Collections.sort(l);\r\n",
      "\r\n"
     ]
    }
   ],
   "source": [
    "import com.sd.sort.v1.WeightTurtleComparable;\n",
    "List<WeightTurtleComparable> l=new ArrayList<WeightTurtleComparable>();\n",
    "WeightTurtleComparable wt10=new WeightTurtleComparable(10);\n",
    "WeightTurtleComparable wt15=new WeightTurtleComparable(15);\n",
    "l.add(wt10);\n",
    "l.add(wt15);\n",
    "java.util.Collections.sort(l);"
   ]
  },
  {
   "cell_type": "markdown",
   "metadata": {
    "slideshow": {
     "slide_type": "slide"
    }
   },
   "source": [
    "#### S.4.2.3 v2\n",
    "\n",
    "* v2 comparator comparable\n",
    "    * v0 문제를 다른 방식으로 해결\n",
    "    * v1는 implements comparable -> template pattern -> compareTo()\n",
    "    * v2는 implements comparator -> strategy pattern -> compare()\n",
    "        * comparator 인터페이스를 구현하고, sorter를 구현\n",
    "        * 문제를 strategy pattern으로 해결\n",
    "        * 다형적으로 argument에 실시간으로 맞는 comparator를 넣어줌.\n",
    "\n",
    "```\n",
    "> import com.sd.turtle.*;\n",
    "> WeightTurtle wt10 = new WeightTurtle(10);\n",
    "> WeightTurtle wt20 = new WeightTurtle(20);\n",
    "> TurtleComparator tc=new TurtleComparator()\n",
    "> int res=tc.compare(wt10,wt20)\n",
    "> res\n",
    "-10\n",
    "```"
   ]
  },
  {
   "cell_type": "code",
   "execution_count": 31,
   "metadata": {
    "collapsed": false,
    "slideshow": {
     "slide_type": "subslide"
    }
   },
   "outputs": [
    {
     "data": {
      "image/svg+xml": [
       "<svg height=\"307px\" style=\"width:421px;height:307px;\" version=\"1.1\" viewBox=\"0 0 421 307\" width=\"421px\" xmlns=\"http://www.w3.org/2000/svg\" xmlns:xlink=\"http://www.w3.org/1999/xlink\"><defs><filter height=\"300%\" id=\"f1\" width=\"300%\" x=\"-1\" y=\"-1\"><feGaussianBlur result=\"blurOut\" stdDeviation=\"2.0\"/><feColorMatrix in=\"blurOut\" result=\"blurOut2\" type=\"matrix\" values=\"0 0 0 0 0 0 0 0 0 0 0 0 0 0 0 0 0 0 .4 0\"/><feOffset dx=\"4.0\" dy=\"4.0\" in=\"blurOut2\" result=\"blurOut3\"/><feBlend in=\"SourceGraphic\" in2=\"blurOut3\" mode=\"normal\"/></filter></defs><g><rect fill=\"#FEFECE\" filter=\"url(#f1)\" height=\"60.9551\" style=\"stroke: #A80036; stroke-width: 1.5;\" width=\"208\" x=\"204\" y=\"8\"/><ellipse cx=\"269.25\" cy=\"24\" fill=\"#B4A7E5\" rx=\"11\" ry=\"11\" style=\"stroke: #A80036; stroke-width: 1.0;\"/><path d=\"M265.1777,19.7651 L265.1777,17.6069 L272.5571,17.6069 L272.5571,19.7651 L270.0918,19.7651 L270.0918,27.8418 L272.5571,27.8418 L272.5571,30 L265.1777,30 L265.1777,27.8418 L267.6431,27.8418 L267.6431,19.7651 Z \"/><text fill=\"#000000\" font-family=\"sans-serif\" font-size=\"12\" font-style=\"italic\" lengthAdjust=\"spacingAndGlyphs\" textLength=\"69\" x=\"289.75\" y=\"28.5352\">Comparator</text><line style=\"stroke: #A80036; stroke-width: 1.5;\" x1=\"205\" x2=\"411\" y1=\"40\" y2=\"40\"/><line style=\"stroke: #A80036; stroke-width: 1.5;\" x1=\"205\" x2=\"411\" y1=\"48\" y2=\"48\"/><ellipse cx=\"215\" cy=\"59.9775\" fill=\"#84BE84\" rx=\"3\" ry=\"3\" style=\"stroke: #038048; stroke-width: 1.0;\"/><text fill=\"#000000\" font-family=\"sans-serif\" font-size=\"11\" lengthAdjust=\"spacingAndGlyphs\" textLength=\"182\" x=\"224\" y=\"62.6348\">compare(Object o1, Object o2):int</text><rect fill=\"#FEFECE\" filter=\"url(#f1)\" height=\"60.9551\" style=\"stroke: #A80036; stroke-width: 1.5;\" width=\"196\" x=\"6\" y=\"129\"/><ellipse cx=\"82.75\" cy=\"145\" fill=\"#ADD1B2\" rx=\"11\" ry=\"11\" style=\"stroke: #A80036; stroke-width: 1.0;\"/><path d=\"M85.7231,150.6431 Q85.1421,150.9419 84.5029,151.0913 Q83.8638,151.2407 83.1582,151.2407 Q80.6514,151.2407 79.3315,149.5889 Q78.0117,147.937 78.0117,144.8159 Q78.0117,141.6865 79.3315,140.0347 Q80.6514,138.3828 83.1582,138.3828 Q83.8638,138.3828 84.5112,138.5322 Q85.1587,138.6816 85.7231,138.9805 L85.7231,141.7031 Q85.0923,141.1221 84.4988,140.8523 Q83.9053,140.5825 83.2744,140.5825 Q81.9297,140.5825 81.2449,141.6492 Q80.5601,142.7158 80.5601,144.8159 Q80.5601,146.9077 81.2449,147.9744 Q81.9297,149.041 83.2744,149.041 Q83.9053,149.041 84.4988,148.7712 Q85.0923,148.5015 85.7231,147.9204 Z \"/><text fill=\"#000000\" font-family=\"sans-serif\" font-size=\"12\" lengthAdjust=\"spacingAndGlyphs\" textLength=\"34\" x=\"103.25\" y=\"149.5352\">Sorter</text><line style=\"stroke: #A80036; stroke-width: 1.5;\" x1=\"7\" x2=\"201\" y1=\"161\" y2=\"161\"/><line style=\"stroke: #A80036; stroke-width: 1.5;\" x1=\"7\" x2=\"201\" y1=\"169\" y2=\"169\"/><ellipse cx=\"17\" cy=\"180.9775\" fill=\"#84BE84\" rx=\"3\" ry=\"3\" style=\"stroke: #038048; stroke-width: 1.0;\"/><text fill=\"#000000\" font-family=\"sans-serif\" font-size=\"11\" lengthAdjust=\"spacingAndGlyphs\" textLength=\"170\" x=\"26\" y=\"183.6348\">sort(Object[], Comparator):void</text><rect fill=\"#FEFECE\" filter=\"url(#f1)\" height=\"48\" style=\"stroke: #A80036; stroke-width: 1.5;\" width=\"141\" x=\"237.5\" y=\"135.5\"/><ellipse cx=\"252.5\" cy=\"151.5\" fill=\"#ADD1B2\" rx=\"11\" ry=\"11\" style=\"stroke: #A80036; stroke-width: 1.0;\"/><path d=\"M255.4731,157.1431 Q254.8921,157.4419 254.2529,157.5913 Q253.6138,157.7407 252.9082,157.7407 Q250.4014,157.7407 249.0815,156.0889 Q247.7617,154.437 247.7617,151.3159 Q247.7617,148.1865 249.0815,146.5347 Q250.4014,144.8828 252.9082,144.8828 Q253.6138,144.8828 254.2612,145.0322 Q254.9087,145.1816 255.4731,145.4805 L255.4731,148.2031 Q254.8423,147.6221 254.2488,147.3523 Q253.6553,147.0825 253.0244,147.0825 Q251.6797,147.0825 250.9949,148.1492 Q250.3101,149.2158 250.3101,151.3159 Q250.3101,153.4077 250.9949,154.4744 Q251.6797,155.541 253.0244,155.541 Q253.6553,155.541 254.2488,155.2712 Q254.8423,155.0015 255.4731,154.4204 Z \"/><text fill=\"#000000\" font-family=\"sans-serif\" font-size=\"12\" lengthAdjust=\"spacingAndGlyphs\" textLength=\"109\" x=\"266.5\" y=\"156.0352\">IntegerComparater</text><line style=\"stroke: #A80036; stroke-width: 1.5;\" x1=\"238.5\" x2=\"377.5\" y1=\"167.5\" y2=\"167.5\"/><line style=\"stroke: #A80036; stroke-width: 1.5;\" x1=\"238.5\" x2=\"377.5\" y1=\"175.5\" y2=\"175.5\"/><rect fill=\"#FEFECE\" filter=\"url(#f1)\" height=\"48\" style=\"stroke: #A80036; stroke-width: 1.5;\" width=\"93\" x=\"221.5\" y=\"250\"/><ellipse cx=\"236.5\" cy=\"266\" fill=\"#ADD1B2\" rx=\"11\" ry=\"11\" style=\"stroke: #A80036; stroke-width: 1.0;\"/><path d=\"M239.4731,271.6431 Q238.8921,271.9419 238.2529,272.0913 Q237.6138,272.2407 236.9082,272.2407 Q234.4014,272.2407 233.0815,270.5889 Q231.7617,268.937 231.7617,265.8159 Q231.7617,262.6865 233.0815,261.0347 Q234.4014,259.3828 236.9082,259.3828 Q237.6138,259.3828 238.2612,259.5322 Q238.9087,259.6816 239.4731,259.9805 L239.4731,262.7031 Q238.8423,262.1221 238.2488,261.8523 Q237.6553,261.5825 237.0244,261.5825 Q235.6797,261.5825 234.9949,262.6492 Q234.3101,263.7158 234.3101,265.8159 Q234.3101,267.9077 234.9949,268.9744 Q235.6797,270.041 237.0244,270.041 Q237.6553,270.041 238.2488,269.7712 Q238.8423,269.5015 239.4731,268.9204 Z \"/><text fill=\"#000000\" font-family=\"sans-serif\" font-size=\"12\" lengthAdjust=\"spacingAndGlyphs\" textLength=\"61\" x=\"250.5\" y=\"270.5352\">SorterMain</text><line style=\"stroke: #A80036; stroke-width: 1.5;\" x1=\"222.5\" x2=\"313.5\" y1=\"282\" y2=\"282\"/><line style=\"stroke: #A80036; stroke-width: 1.5;\" x1=\"222.5\" x2=\"313.5\" y1=\"290\" y2=\"290\"/><path d=\"M308,89.34 C308,105.373 308,122.369 308,135.499 \" fill=\"none\" style=\"stroke: #A80036; stroke-width: 1.0; stroke-dasharray: 7.0,7.0;\"/><polygon fill=\"none\" points=\"301,89.222,308,69.222,315,89.222,301,89.222\" style=\"stroke: #A80036; stroke-width: 1.0;\"/><path d=\"M252.858,71.666 C222.312,89.485 184.603,111.482 154.782,128.877 \" fill=\"none\" style=\"stroke: #A80036; stroke-width: 1.0; stroke-dasharray: 7.0,7.0;\"/><polygon fill=\"#A80036\" points=\"257.311,69.069,247.5215,70.1487,252.9921,71.5884,251.5525,77.059,257.311,69.069\" style=\"stroke: #A80036; stroke-width: 1.0;\"/><path d=\"M352.931,72.491 C369.786,87.61 387.022,107.063 396,129 C406.269,154.091 408.944,166.179 396,190 C378.802,221.649 343.752,243.0958 314.671,256.248 \" fill=\"none\" style=\"stroke: #A80036; stroke-width: 1.0; stroke-dasharray: 7.0,7.0;\"/><polygon fill=\"#A80036\" points=\"349.117,69.135,353.2321,78.0829,352.871,72.4376,358.5163,72.0765,349.117,69.135\" style=\"stroke: #A80036; stroke-width: 1.0;\"/><path d=\"M151.294,192.942 C177.825,211.1424 210.301,233.42 234.252,249.8498 \" fill=\"none\" style=\"stroke: #A80036; stroke-width: 1.0; stroke-dasharray: 7.0,7.0;\"/><polygon fill=\"#A80036\" points=\"147.089,190.058,152.2488,198.4471,151.2124,192.886,156.7735,191.8496,147.089,190.058\" style=\"stroke: #A80036; stroke-width: 1.0;\"/></g></svg>"
      ],
      "text/plain": [
       "<IPython.core.display.SVG object>"
      ]
     },
     "execution_count": 31,
     "metadata": {},
     "output_type": "execute_result"
    }
   ],
   "source": [
    "%%plantuml\n",
    "@startuml\n",
    "interface Comparator {\n",
    "    +compare(Object o1, Object o2):int\n",
    "}\n",
    "\n",
    "class Sorter {\n",
    "    +sort(Object[], Comparator):void\n",
    "}\n",
    "Comparator <|.. IntegerComparater\n",
    "Comparator <.. Sorter\n",
    "SorterMain .up.> Comparator\n",
    "SorterMain .up.> Sorter\n",
    "@enduml"
   ]
  },
  {
   "cell_type": "code",
   "execution_count": null,
   "metadata": {
    "collapsed": true,
    "slideshow": {
     "slide_type": "subslide"
    }
   },
   "outputs": [],
   "source": [
    "# %load /Users/media/Code/git/sd/src/com/sd/sort/v2/SorterMainV2.java\n",
    "/*\n",
    " * @author js\n",
    " * @since 20160312\n",
    " * to show v2 strategy pattern using interface Comparator\n",
    " * run\n",
    " * javac -d classes/ -cp lib/aplu5.jar -sourcepath src/ src/com/sd/sort/v2/SorterMainV2.java \n",
    " * java -cp classes/:lib/aplu5.jar com.sd.sort.v2.SorterMainV2\n",
    " * cases\n",
    " * 1) Integer\n",
    " * 2) String\n",
    " * 3) Turtle\n",
    " *      TurtleComparator did not implement java.util.Comparator\n",
    " *      see separately saved TurtleComparator.java\n",
    "\n",
    "> com.sd.sort.v2.Sorter s = new com.sd.sort.v2.Sorter()\n",
    "> com.sd.sort.v2.Comparator stringComp = new com.sd.sort.v2.StringComparator()\n",
    "> String[] B={\"John\", \"Adam\", \"Skrien\", \"Smith\", \"Jones\"};\n",
    "> s.sort(B,stringComp)\n",
    "> B\n",
    "{ Adam, John, Jones, Skrien, Smith }\n",
    "> Integer[] C = {new Integer(3), new Integer(1), new Integer(4), new Integer(2)};\n",
    "> com.sd.sort.v2.Comparator integerComp=new com.sd.sort.v2.IntegerComparator();\n",
    "> s.sort(C,integerComp)\n",
    "> C\n",
    "{ 1, 2, 3, 4 }\n",
    "> java com.sd.sort.v2.SorterMainV2\n",
    "B[0]=Adam\n",
    "B[1]=John\n",
    "B[2]=Jones\n",
    "B[3]=Skrien\n",
    "B[4]=Smith\n",
    "C[0]=1\n",
    "C[1]=2\n",
    "C[2]=3\n",
    "C[3]=4\n",
    "  *\n",
    "  */\n",
    "\n",
    "package com.sd.sort.v2;\n",
    "import java.util.Date;\n",
    "import com.sd.turtle.WeightTurtle;\n",
    "\n",
    "public class SorterMainV2 {\n",
    "    public static void main(String[] args) {\n",
    "        String[] B={\"John\", \"Adam\", \"Skrien\", \"Smith\", \"Jones\"};\n",
    "        Comparator stringComp=new StringComparator();\n",
    "        Sorter.sort(B, stringComp);\n",
    "\n",
    "        Integer[] C = {new Integer(3), new Integer(1), new Integer(4), new Integer(2)};\n",
    "        Comparator integerComp=new IntegerComparator();\n",
    "        Sorter.sort(C, integerComp);\n",
    "\n",
    "        for(int i=0; i<B.length; i++)\n",
    "            System.out.println(\"B[\"+i+\"]=\"+B[i]);\n",
    "        for(int i=0; i<C.length; i++)\n",
    "            System.out.println(\"C[\"+i+\"]=\"+C[i]);\n",
    "\n",
    "        WeightTurtle wt30 = new WeightTurtle(30);\n",
    "        WeightTurtle wt10 = new WeightTurtle(10);\n",
    "        WeightTurtle wt20 = new WeightTurtle(20);\n",
    "        WeightTurtle[] wts={wt30, wt10, wt20};\n",
    "        Comparator turtleComp=new TurtleComparator();\n",
    "        Sorter.sort(wts, turtleComp);\n",
    "\n",
    "        for(int i=0; i<wts.length; i++)\n",
    "            System.out.println(\"WeightTurtleArray[\"+i+\"]=\"+wts[i].getWeight());\n",
    "    }\n",
    "}\n",
    "\n",
    "class Sorter {\n",
    "  public Sorter() {}\n",
    "    public static void sort(Object[] data, Comparator comp) {\n",
    "        for(int i=data.length-1; i>=1; i--) {\n",
    "            int indexOfMax=0;\n",
    "            for(int j=1; j<=i; j++) {\n",
    "                if(comp.compare(data[j], data[indexOfMax]) > 0)\n",
    "                    indexOfMax=j;\n",
    "                }\n",
    "                Object temp=data[i];\n",
    "                data[i]=data[indexOfMax];\n",
    "                data[indexOfMax]=temp;\n",
    "        }\n",
    "    }\n",
    "}\n",
    "\n",
    "// declare my own, also possible to use java.util.Comparator\n",
    "interface Comparator {\n",
    "    public int compare(Object o1, Object o2);\n",
    "    public boolean equals(Object o);\n",
    "}\n",
    "\n",
    "class IntegerComparator implements Comparator {\n",
    "    public IntegerComparator() {}\n",
    "    public int compare(Object o1, Object o2) {\n",
    "        return (Integer)o1 - (Integer)o2;\n",
    "    }\n",
    "}\n",
    "\n",
    "class StringComparator implements Comparator {\n",
    "    public StringComparator() {}\n",
    "    public int compare(Object o1, Object o2) {\n",
    "        String s1=(String)o1;\n",
    "        String s2=(String)o2;\n",
    "        return s1.compareTo(s2);\n",
    "        //return Integer.parseInt((String) o1) -\n",
    "        //   Integer.parseInt((String) o2);\n",
    "    }\n",
    "}\n",
    "\n",
    "class TurtleComparator implements Comparator {\n",
    "    public int compare(Object t1, Object t2) {\n",
    "        return ((WeightTurtle)t1).getWeight()-((WeightTurtle)t2).getWeight();\n",
    "    }\n",
    "}\n"
   ]
  },
  {
   "cell_type": "code",
   "execution_count": 37,
   "metadata": {
    "collapsed": false,
    "slideshow": {
     "slide_type": "subslide"
    }
   },
   "outputs": [
    {
     "name": "stdout",
     "output_type": "stream",
     "text": [
      "B[0]=Adam\n",
      "B[1]=John\n",
      "B[2]=Jones\n",
      "B[3]=Skrien\n",
      "B[4]=Smith\n",
      "C[0]=1\n",
      "C[1]=2\n",
      "C[2]=3\n",
      "C[3]=4\n",
      "WeightTurtleArray[0]=10\n",
      "WeightTurtleArray[1]=20\n",
      "WeightTurtleArray[2]=30\n"
     ]
    }
   ],
   "source": [
    "!javac -d classes/ -cp lib/aplu5.jar -sourcepath src/ src/com/sd/sort/v2/SorterMainV2.java \n",
    "!java -cp classes/:lib/aplu5.jar com.sd.sort.v2.SorterMainV2\n"
   ]
  },
  {
   "cell_type": "markdown",
   "metadata": {
    "slideshow": {
     "slide_type": "slide"
    }
   },
   "source": [
    "## 문제 S-1: java.util.Comparator를 이용해 구현\n",
    "\n",
    "### 1-1 클래스다이어그램을 그리기\n",
    "\n",
    "* plantuml script를 model에 저장\n",
    "* DateComparator, ReverseComparator를 포함\n",
    "\n",
    "### 1-2  SOLID원칙이 어떻게 적용되었는지 설명\n",
    "\n",
    "* 어떤 원칙이 적용되었는지 설명\n",
    "* doc/에 저장\n",
    "\n",
    "### 1-3  구현\n",
    "\n",
    "* 거북이를 정렬하는 TurtleComparator를 구현\n",
    "* 일자를 정렬하는 DataComparator를 구현\n",
    "* 문자를 역정렬하는 ReverseComparator를 구현\n",
    "\n",
    "### 1-4 DrJava 인터랙션을 이용해서 결과를 보기\n",
    "\n",
    "* 거북이를 정렬"
   ]
  }
 ],
 "metadata": {
  "celltoolbar": "Slideshow",
  "kernelspec": {
   "display_name": "Python 2",
   "language": "python",
   "name": "python2"
  },
  "language_info": {
   "codemirror_mode": {
    "name": "ipython",
    "version": 2
   },
   "file_extension": ".py",
   "mimetype": "text/x-python",
   "name": "python",
   "nbconvert_exporter": "python",
   "pygments_lexer": "ipython2",
   "version": "2.7.12"
  }
 },
 "nbformat": 4,
 "nbformat_minor": 0
}
