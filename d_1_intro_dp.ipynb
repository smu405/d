{
 "cells": [
  {
   "cell_type": "markdown",
   "metadata": {
    "slideshow": {
     "slide_type": "slide"
    }
   },
   "source": [
    "# 디자인패턴\n",
    "\n",
    "## DP.1 소개\n",
    "\n",
    "* Design Patterns란 소프트웨어 개발을 하면서, 반복하여 발생하는 문제에 대해 해결책\n",
    "\"A proven solution to a common problem in a specified context\"\n",
    "* DP는 소스코드로 직접 변환할 수 있는 것은 아니다.\n",
    "* DP는 template으로 구성한다.\n",
    "* DP 요소:\n",
    "\n",
    "주요 항목 | 설명\n",
    "-----|-----\n",
    "명칭 | 디자인패턴의 명칭\n",
    "문제 | 문제와 그런 문제가 발생하는 상황 어떤 문제에 대해 사용하는지 설명\n",
    "해결책 | 문제에 대한 구조설계와 구현. 클래스 및 그 관계, 소스코드로 (완성본이 아닐 수 있슴) 설명\n",
    "효과 | 디자인패턴의 적용 결과, 사용하면서 얻어질 수 있는 장단점을 설명"
   ]
  },
  {
   "cell_type": "markdown",
   "metadata": {
    "slideshow": {
     "slide_type": "slide"
    }
   },
   "source": [
    "## DP.2 이력\n",
    "\n",
    "* 1977년 Christopher Alexander 반복해서 발생하는 문제에 대해 패턴을 적용하여, 같은 작업을 다시 작업해야 하는 노력을 줄이는 것이 필요\n",
    "* 1994년 디자인패턴 출간, 4명의 저자를 줄여서 GoF (Gang of Four)\n",
    "    * VGamma, E., Helm, R., Johnson, R., & Vlissides, J. (1994). Design patterns: elements of reusable object-oriented software. Pearson Education."
   ]
  },
  {
   "cell_type": "markdown",
   "metadata": {
    "slideshow": {
     "slide_type": "slide"
    }
   },
   "source": [
    "## DP.3 종류\n",
    "\n",
    "* 패턴은 여러 종류가 있다.\n",
    "\n",
    "구분 | 설명\n",
    "-----|-----\n",
    "설계 디자인패턴 | GoF\n",
    "엔터프라이즈 패턴 | Hohpe, G &  Woolf, B., 2003, 65가지 패턴\n",
    "분석 패턴 | Fowler, M., 1996\n",
    "앤티 패턴 | Koenig, 1995\n",
    "구현 패턴 | Beck, K. 2007\n",
    "특정 영역에 쓰이는 패턴 | 예: 웹 디자인"
   ]
  },
  {
   "cell_type": "markdown",
   "metadata": {
    "slideshow": {
     "slide_type": "slide"
    }
   },
   "source": [
    "## DP.4 GoF 디자인패턴\n",
    "\n",
    "종류 | 디자인패턴\n",
    "---|---\n",
    "creational | 객체를 생성하여 문제를 푸는 패턴. factory, builder,singleton, prototype\n",
    "stuctural | 객체 구조 패턴. adapter, composite, proxy, flyweight, bridge, decorator\n",
    "behavioral | 객체끼리 서로 상호작용하는 패턴. template method, mediator, chain of responsibility, observer, strategy, command, state"
   ]
  },
  {
   "cell_type": "markdown",
   "metadata": {
    "slideshow": {
     "slide_type": "slide"
    }
   },
   "source": [
    "## DP.5 자바에서 쓰이고 있는 디자인패턴\n",
    "* http://stackoverflow.com/questions/1673841/examples-of-gof-design-patterns-in-javas-core-libraries\n",
    "\n",
    "종류 | 디자인패턴\n",
    "---|---\n",
    "Mediator | \n",
    "Memento | java.util.Date\n",
    "Strategy | java.util.Comparator\n",
    "Template | java.io.InputStream, java.io.OutputStream, java.io.Reader, java.io.Writer\n",
    "visitor | java.nio.file.FileVisitor"
   ]
  }
 ],
 "metadata": {
  "celltoolbar": "Slideshow",
  "kernelspec": {
   "display_name": "Python 2",
   "language": "python",
   "name": "python2"
  },
  "language_info": {
   "codemirror_mode": {
    "name": "ipython",
    "version": 2
   },
   "file_extension": ".py",
   "mimetype": "text/x-python",
   "name": "python",
   "nbconvert_exporter": "python",
   "pygments_lexer": "ipython2",
   "version": "2.7.12"
  }
 },
 "nbformat": 4,
 "nbformat_minor": 0
}
