{
 "cells": [
  {
   "cell_type": "markdown",
   "metadata": {
    "slideshow": {
     "slide_type": "slide"
    }
   },
   "source": [
    "# 1 Good Software\n",
    "\n",
    "## 1.1 학습내용\n",
    "\n",
    "### 1.1.1 강의 목표\n",
    "\n",
    "* 객체지향 특징을 활용하여 좋은 소프트웨어를 만드는 방법을 배운다.\n",
    "* 강의를 듣고 나면:\n",
    "    * 디자인패턴을 적용하여 좋은 소프트웨어를 설계하고 구현할 수 있다.\n",
    "    * 디자인패턴 5개 정도, 클래스 10개 이상.\n",
    "    * 클래스 1개에 50 ~ 100줄 정도, 수 백줄 프로그래밍을 만들 수 있다.\n",
    "* 강의는 어떻게 진행하나\n",
    "    * design first approach. 바로 코딩을 하기 보다는 문제를 생각하고, 해결하는 설계. 생각하는 코딩.\n",
    "    * 예제로 배운다 Learn by example\n",
    "        * 예제는 쉽지만, 너무 쉽지 않고 재미있게\n",
    "    * 그림으로 배운다 UML\n",
    "    * 디자인패턴 모든 것을 가르치지는 않는다. 강의를 마치고 나면, 자기학습을 해 나갈 수 있다.\n",
    "\n",
    "### 1.1.2 목표\n",
    "\n",
    "* 좋은 소프트웨어와 나쁜 소프트웨어를 분별할 수 있다.\n",
    "* 자신의 프로그램을 왜 이렇게 했는지 설명할 수 있다.\n",
    "\n",
    "### 1.1.3 문제\n",
    "\n",
    "* 문제 1-1: 상속을 사용하여 거북이 upcasting, downcasting\n",
    "* 문제 1-2: 좋은 소프트웨어 원칙에 비추어 위 문제의 프로그램이 적합한지 설명"
   ]
  },
  {
   "cell_type": "markdown",
   "metadata": {
    "slideshow": {
     "slide_type": "slide"
    }
   },
   "source": [
    "## 1.2 SW 왜 문제인가?\n",
    "\n",
    "### 1.2.1 SW Crisis\n",
    "\n",
    "* 소프트웨어 위기는 1968년 독일에서 열린 NATO 소프트웨어공학 학회에서 처음 사용됨.\n",
    "* 하드웨어 비용에 비해 소프트웨어 비용이 상대적으로 높아짐.\n",
    "* 위기의 원인\n",
    "    * HW에 있지 않고 SW에 있다.\n",
    "    * SW개발 속도가 HW개발을 따라가지 못함.\n",
    "        * 계획된 SW납기를 맞추지 못한다.\n",
    "        * 계획된 SW인력보다 많이 필요해서 밤샘을 해야 한다.\n",
    "        * SW품질을 맞추지 못한다."
   ]
  },
  {
   "cell_type": "markdown",
   "metadata": {
    "slideshow": {
     "slide_type": "subslide"
    }
   },
   "source": [
    "### 1.2.2 SW 품질\n",
    "\n",
    "#### 1.2.2.1 건축에 비유\n",
    "\n",
    "- 집을 건축한다고 하자. 어떻게 그 품질을 판단하는가?\n",
    "- 방을 계획보다 1개 적게 만들었다? 설계에 어긋나는 중대한 결함이다.\n",
    "- 설계를 준수하여 만들었다고 해도:\n",
    "    * 이사 일자를 맞추지 못한다?\n",
    "    * 계획한 예산보다 비용이 많이 소요되었다?\n",
    "- 설계를 준수하여 잘 만들었어도, 납기 및 비용도 중요하다.\n",
    "\n",
    "#### 1.2.2.2 SW로 돌아와서\n",
    "\n",
    "- ISO/IEC 9126\n",
    "- SW품질의 문제는 -> 정해진 시간에, 정해진 노력으로, 정해진 요구사항을 해결하지 못함.\n",
    "    * 정해진 시간에? 아무리 잘 만들어도 시간이 초과되지 말아야 함.\n",
    "    * 정해진 노력으로? 인건비는 비용. 또한 시간. 인건비는 증가하기 힘들다.\n",
    "        * 노력은 Man-Month로 측정. 시간과 동일하면서 비용이기도 함.\n",
    "        * 정해진 노력으로 하지 못하면 밤을 새워야 한다.\n",
    "    * 정해진 요구사항?\n",
    "        * 사용자가 원하는 기능을 말한다. 개발자가 원하는 기능이 아니다!\n",
    "- 건축은 눈으로 보이지만, SW는 보이지 않는 제품이라 '좋은지?' 판단하기 더욱 어려운 문제이다."
   ]
  },
  {
   "cell_type": "markdown",
   "metadata": {
    "slideshow": {
     "slide_type": "subslide"
    }
   },
   "source": [
    "### 1.2.3 SW 심각성\n",
    "\n",
    "- SW가 대형화하면서 더욱 위기가 심각\n",
    "    * 대기업 프로그램을 10,000,000 LOC라고 하면 700권\n",
    "        * 1 페이지에 50문장이 담길 수 있다면, 20만 페이지에 달한다.\n",
    "        * 책 한 권이 300페이지라면, 약 700권\n",
    "        * 프로그램 700권! 방의 벽면을 채우고도 남을 분량!\n",
    "    * 개발비용은 1 LOC에 3만원이라고 하면 3천억원\n",
    "        * 단순 한 줄 프로그래밍이 아니라 + 요구분석 + 설계 + 테스트 + 문서화 + 인수 모두 포함\n",
    "- SW대형화로 인한 문제\n",
    "    * SW 대형화로 인한 협업의 문제\n",
    "        * 설계의 중요성.\n",
    "        * 대형 SW를 분할, 나누어 개발하고, 통합.\n",
    "    * SW 대형화로 인한 요구사항의 문제\n",
    "        * 요구사항과 개발의 비유 - 요구사항을 배에 실어서 강을 안전하게 (개발해서) 건너기\n",
    "        * 요구사항이 늘어나면 배가 가라 앉고, 배에 탄 승객도 불편하다.\n",
    "        * 배에 타려는 사용자는 늘어나게 마련이고, 승선인원은 정해져 있다.\n",
    "- SW 오류의 심각성\n",
    "    * SW는 눈에 보이지 않아서 그 오류의 심각성을 중하게 생각하지 않는 경향이 있다.\n",
    "    * 그러나, SW오류로 인해 의료/국방분야에서는 생명의 손실이 발생할 수 있고,\n",
    "    * 금융/재무분야에서는 금전적인 경제손실이 발생할 수 있다 (mission critical)"
   ]
  },
  {
   "cell_type": "markdown",
   "metadata": {
    "slideshow": {
     "slide_type": "slide"
    }
   },
   "source": [
    "## 1.3  Good SW\n",
    "\n",
    "### 1.3.1 Good SW란 무엇인가?\n",
    "\n",
    "- 좋은 차란 무엇인가?\n",
    "    * 가격? 색상? 엔진?\n",
    "    * 좋은 차는 눈에 보이는 것을 판단하므로 비교적 쉽다.\n",
    "- 좋은 사람은? 좋은 SW? 눈에 보이지 않는 특성.\n",
    "- 좋은 SW는 **사람중심**\n",
    "    - 좋은 SW란? 기능성, 효율성뿐만 아니라 유지보수성, 재사용성, 가독성 등이 중요하다.\n",
    "    - 좋은 SW는 그 기능을 다하는 것도 중요하지만 (여기서도 사용자가 원하는 기능이 중요),\n",
    "    - 그에 못지 않게 고치기 쉽고, 추상성을 높여 재사용을 하기 쉽게 하고, 읽기 좋게 해야 한다\n",
    "    - SW는 기계가 컴파일하고 실행하지만, 고치는 몫은 사람이다.\n",
    "    - 읽기 쉽게 만들지 않으면 인건비 및 유지보수 비용이 늘어나게 된다.\n",
    "- 재사용에 초점\n",
    "    * SW위기의 핵심은 HW가 아니라 SW!\n",
    "    * 신규개발과 유지보수\n",
    "        * SW도 수명이 있다. 보통 10년을 넘기 힘들다. 강아지보다 짧은 수명을 가진다.\n",
    "        * 수명을 짧게 하는 이유는 (사람이) 고치기 힘든 소스코드. HW를 힘들게 하는 소스코드 때문이 아니다!\n",
    "            * 중복\n",
    "            * 전역변수의 사용\n",
    "            * 죽은 소스코드.\n",
    "    * 좋은 SW는 만들어 놓으면\n",
    "        * 중복이 없고, 수정하기 쉽고\n",
    "        * 이해하기 쉬어서, 수정하기 쉽고\n",
    "        * 다른 사람이 가져다 쓰기 편리하고"
   ]
  },
  {
   "cell_type": "markdown",
   "metadata": {
    "slideshow": {
     "slide_type": "subslide"
    }
   },
   "source": [
    "### 1.3.2 Good SW의 설계\n",
    "\n",
    "* Simon 모델\n",
    "    * Newell, A., and Simon, H. Human problem solving, Prentice-Hall, Inc., 1972.\n",
    "    * Plan do see cycle (계획을 하지 않는 agile방식도 있다.)\n",
    "        * 기준을 정하고, 설계를 하고, 평가기준에 따라 해결되었는지?\n",
    "* 보통 SW는 기능, 효율성에 초점을 맞추어 개발.\n",
    "* 좋은 SW는 문제가 무엇이지? 어떻게 해결하지? 무엇이 좋아지는가? 3단계 질문 필요\n",
    "* 문제를 알고, 문제를 해결하는 대안을 고려하고, 평가\n",
    "    1. 문제 - Smell? 좋은 SW관점에서 바라볼 때 문제가 될 수 있는지 따져보고\n",
    "    2. 대안 - 문제를 해결할 수 있는 방법은 무엇인지\n",
    "    3. 평가 - 문제가 얼마나 해결되는지\n",
    "    4. 선택 - 평가에 따라 문제를 해결하는 방법을 선택"
   ]
  },
  {
   "cell_type": "markdown",
   "metadata": {
    "slideshow": {
     "slide_type": "subslide"
    }
   },
   "source": [
    "### 1.3.3 좋은 생각에서 출발\n",
    "\n",
    "* 좋은 SW가 시장에서 비싼 가격으로 팔리지 않을 수 있다. 눈에 보이지 않는 제품의 특성.\n",
    "* 악화가 양화를 구축한다.\n",
    "    * 좋은 SW는 시장에서 평가를 받지 못하고, 나쁜 SW가 유통되는 현상.\n",
    "* 프로의식을 가지고 좋은 SW를 만든다.\n",
    "    * 자신이 만든 SW를 오픈소스로 공개해도, 좋다는 평가를 받도록 하자."
   ]
  },
  {
   "cell_type": "markdown",
   "metadata": {
    "slideshow": {
     "slide_type": "slide"
    }
   },
   "source": [
    "## 1.4 객체지향\n",
    "\n",
    "### 1.4.1 왜 객체지향?\n",
    "* SW Crisis를 해결하는 방안으로 패러다임이 변화\n",
    "* SW비용을 줄이려는 방법은 개발자가 빠르게, 보다 잘 할 수 있게 -> 객체지향으로의 패러다임 변화\n",
    "* 객체지향 특징을 이해해야 한다.\n",
    "    * 비객체지향과 비교해서 무엇이 다른지? 즉 어떤 점이 프로그래밍을 향상하는지 이해.\n",
    "    * 공통부분을 재사용하는 방법으로서,상속을 잘 이해할 필요가 있다.\n",
    "        * 언제 사용하는지?\n",
    "        * 언제 사용해서는 안되는지?\n",
    "    "
   ]
  },
  {
   "cell_type": "markdown",
   "metadata": {
    "slideshow": {
     "slide_type": "subslide"
    }
   },
   "source": [
    "### 1.4.2 상속\n",
    "* specialization/generalization (Animal - Dog, Cat)\n",
    "* 상속의 경우\n",
    "    * 클래스 상속 (보통 클래스, 추상클래스)\n",
    "    * 인터페이스 상속\n",
    "* Interface와 Abstract Class차이?\n",
    "    * interface는 marker 역할. 구현할 클래스의 시그니처만 정해 놓는다.\n",
    "    * abstract class는 구현하지 않는 함수를 가지게 된다.\n",
    "\n",
    "* overriding vs overloading\n",
    "    * 상속을 사용하면 superclass의 함수를 overriding하게 된다.\n",
    "    * 이 때 overloading과의 차이를 식별해야 한다."
   ]
  },
  {
   "cell_type": "markdown",
   "metadata": {
    "slideshow": {
     "slide_type": "subslide"
    }
   },
   "source": [
    "### 1.4.3 다형성\n",
    "\n",
    "* 동적함수호출 DMI(Dynamic Method Invocation)\n",
    "* 객체지향 프로그래밍은 상속을 적용하여 비객체지향에서 구현하기 어려운 다형성을 활용하는 것이 중요하다.\n",
    "* 다형성이란 '컴파일 시점'에 '선언'된 클래스와 다른 객체를 '실행 시점'에 사용하는 것으로 흥미로운 객체지향 프로그램을 만들 수 있게 된다.\n",
    "    * 일반적으로 함수호출은 '컴파일 시점'에 결정.\n",
    "    * 그러나 다형성을 사용하면, 그 다형적 함수의 호출은 '실행 시점'으로 결정이 늦춰짐.\n",
    "    * 이러한 특징을 late binding 또는 dynamic binding이라고 함.\n"
   ]
  },
  {
   "cell_type": "markdown",
   "metadata": {
    "slideshow": {
     "slide_type": "slide"
    }
   },
   "source": [
    "## 문제 1-1:  상속을 사용하여 '거북이' upcasting and downcasting\n",
    "\n",
    "* 상속을 사용하면 casting을 하게 된다.\n",
    "* 거북이 사례의 이해\n",
    "    * 부모 Turtle -> 자식 WeightTurtle\n",
    "    * WeightTurtle은 무게를 가진다."
   ]
  },
  {
   "cell_type": "markdown",
   "metadata": {
    "slideshow": {
     "slide_type": "subslide"
    }
   },
   "source": [
    "### UML\n",
    "\n",
    "* plantuml을 설치하여 사용한다.\n",
    "* 설치를 하지 않았으면, 온라인 도구를 사용한다.\n",
    "    * http://www.planttext.com\n",
    "    * http://plantuml.com"
   ]
  },
  {
   "cell_type": "code",
   "execution_count": 1,
   "metadata": {
    "collapsed": true,
    "slideshow": {
     "slide_type": "subslide"
    }
   },
   "outputs": [],
   "source": [
    "import iplantuml"
   ]
  },
  {
   "cell_type": "code",
   "execution_count": null,
   "metadata": {
    "collapsed": true
   },
   "outputs": [],
   "source": [
    "Turtle\tmoveTo(double x, double y)\n",
    "Moves the turtle to the given position.\n",
    "Turtle\tmoveTo(java.awt.geom.Point2D.Double pt)\n",
    "Moves the turtle to the given position."
   ]
  },
  {
   "cell_type": "code",
   "execution_count": 2,
   "metadata": {
    "collapsed": false,
    "slideshow": {
     "slide_type": "subslide"
    }
   },
   "outputs": [
    {
     "data": {
      "image/svg+xml": [
       "<svg height=\"275px\" style=\"width:126px;height:275px;\" version=\"1.1\" viewBox=\"0 0 126 275\" width=\"126px\" xmlns=\"http://www.w3.org/2000/svg\" xmlns:xlink=\"http://www.w3.org/1999/xlink\"><defs><filter height=\"300%\" id=\"f1\" width=\"300%\" x=\"-1\" y=\"-1\"><feGaussianBlur result=\"blurOut\" stdDeviation=\"2.0\"/><feColorMatrix in=\"blurOut\" result=\"blurOut2\" type=\"matrix\" values=\"0 0 0 0 0 0 0 0 0 0 0 0 0 0 0 0 0 0 .4 0\"/><feOffset dx=\"4.0\" dy=\"4.0\" in=\"blurOut2\" result=\"blurOut3\"/><feBlend in=\"SourceGraphic\" in2=\"blurOut3\" mode=\"normal\"/></filter></defs><g><rect fill=\"#FEFECE\" filter=\"url(#f1)\" height=\"124.8281\" style=\"stroke: #A80036; stroke-width: 1.5;\" width=\"86\" x=\"18.5\" y=\"8\"/><ellipse cx=\"41.6\" cy=\"24\" fill=\"#ADD1B2\" rx=\"11\" ry=\"11\" style=\"stroke: #A80036; stroke-width: 1.0;\"/><path d=\"M44.5688,29.6406 Q43.9906,29.9375 43.35,30.0859 Q42.7094,30.2344 42.0063,30.2344 Q39.5063,30.2344 38.1859,28.5859 Q36.8656,26.9375 36.8656,23.8125 Q36.8656,20.6875 38.1859,19.0313 Q39.5063,17.375 42.0063,17.375 Q42.7094,17.375 43.3578,17.5313 Q44.0063,17.6875 44.5688,17.9844 L44.5688,20.7031 Q43.9438,20.125 43.35,19.8516 Q42.7563,19.5781 42.1313,19.5781 Q40.7875,19.5781 40.1,20.6484 Q39.4125,21.7188 39.4125,23.8125 Q39.4125,25.9063 40.1,26.9766 Q40.7875,28.0469 42.1313,28.0469 Q42.7563,28.0469 43.35,27.7734 Q43.9438,27.5 44.5688,26.9219 L44.5688,29.6406 Z \"/><text fill=\"#000000\" font-family=\"sans-serif\" font-size=\"12\" lengthAdjust=\"spacingAndGlyphs\" textLength=\"36\" x=\"57.4\" y=\"28.1543\">Turtle</text><line style=\"stroke: #A80036; stroke-width: 1.5;\" x1=\"19.5\" x2=\"103.5\" y1=\"40\" y2=\"40\"/><line style=\"stroke: #A80036; stroke-width: 1.5;\" x1=\"19.5\" x2=\"103.5\" y1=\"48\" y2=\"48\"/><ellipse cx=\"29.5\" cy=\"59.9023\" fill=\"#84BE84\" rx=\"3\" ry=\"3\" style=\"stroke: #038048; stroke-width: 1.0;\"/><text fill=\"#000000\" font-family=\"sans-serif\" font-size=\"11\" lengthAdjust=\"spacingAndGlyphs\" textLength=\"21\" x=\"38.5\" y=\"62.2104\">bk()</text><ellipse cx=\"29.5\" cy=\"72.707\" fill=\"#84BE84\" rx=\"3\" ry=\"3\" style=\"stroke: #038048; stroke-width: 1.0;\"/><text fill=\"#000000\" font-family=\"sans-serif\" font-size=\"11\" lengthAdjust=\"spacingAndGlyphs\" textLength=\"19\" x=\"38.5\" y=\"75.0151\">fd()</text><ellipse cx=\"29.5\" cy=\"85.5117\" fill=\"#84BE84\" rx=\"3\" ry=\"3\" style=\"stroke: #038048; stroke-width: 1.0;\"/><text fill=\"#000000\" font-family=\"sans-serif\" font-size=\"11\" lengthAdjust=\"spacingAndGlyphs\" textLength=\"26\" x=\"38.5\" y=\"87.8198\">left()</text><ellipse cx=\"29.5\" cy=\"98.3164\" fill=\"#84BE84\" rx=\"3\" ry=\"3\" style=\"stroke: #038048; stroke-width: 1.0;\"/><text fill=\"#000000\" font-family=\"sans-serif\" font-size=\"11\" lengthAdjust=\"spacingAndGlyphs\" textLength=\"34\" x=\"38.5\" y=\"100.6245\">right()</text><ellipse cx=\"29.5\" cy=\"111.1211\" fill=\"#84BE84\" rx=\"3\" ry=\"3\" style=\"stroke: #038048; stroke-width: 1.0;\"/><text fill=\"#000000\" font-family=\"sans-serif\" font-size=\"11\" lengthAdjust=\"spacingAndGlyphs\" textLength=\"44\" x=\"38.5\" y=\"113.4292\">penUp()</text><ellipse cx=\"29.5\" cy=\"123.9258\" fill=\"#84BE84\" rx=\"3\" ry=\"3\" style=\"stroke: #038048; stroke-width: 1.0;\"/><text fill=\"#000000\" font-family=\"sans-serif\" font-size=\"11\" lengthAdjust=\"spacingAndGlyphs\" textLength=\"60\" x=\"38.5\" y=\"126.2339\">penDown()</text><rect fill=\"#FEFECE\" filter=\"url(#f1)\" height=\"73.6094\" style=\"stroke: #A80036; stroke-width: 1.5;\" width=\"111\" x=\"6\" y=\"193\"/><ellipse cx=\"21\" cy=\"209\" fill=\"#ADD1B2\" rx=\"11\" ry=\"11\" style=\"stroke: #A80036; stroke-width: 1.0;\"/><path d=\"M23.9688,214.6406 Q23.3906,214.9375 22.75,215.0859 Q22.1094,215.2344 21.4063,215.2344 Q18.9063,215.2344 17.5859,213.5859 Q16.2656,211.9375 16.2656,208.8125 Q16.2656,205.6875 17.5859,204.0313 Q18.9063,202.375 21.4063,202.375 Q22.1094,202.375 22.7578,202.5313 Q23.4063,202.6875 23.9688,202.9844 L23.9688,205.7031 Q23.3438,205.125 22.75,204.8516 Q22.1563,204.5781 21.5313,204.5781 Q20.1875,204.5781 19.5,205.6484 Q18.8125,206.7188 18.8125,208.8125 Q18.8125,210.9063 19.5,211.9766 Q20.1875,213.0469 21.5313,213.0469 Q22.1563,213.0469 22.75,212.7734 Q23.3438,212.5 23.9688,211.9219 L23.9688,214.6406 Z \"/><text fill=\"#000000\" font-family=\"sans-serif\" font-size=\"12\" lengthAdjust=\"spacingAndGlyphs\" textLength=\"79\" x=\"35\" y=\"213.1543\">WeightTurtle</text><line style=\"stroke: #A80036; stroke-width: 1.5;\" x1=\"7\" x2=\"116\" y1=\"225\" y2=\"225\"/><polygon fill=\"none\" points=\"17,231.9023,21,235.9023,17,239.9023,13,235.9023\" style=\"stroke: #B38D22; stroke-width: 1.0;\"/><text fill=\"#000000\" font-family=\"sans-serif\" font-size=\"11\" lengthAdjust=\"spacingAndGlyphs\" textLength=\"55\" x=\"26\" y=\"239.2104\">weight:int</text><line style=\"stroke: #A80036; stroke-width: 1.5;\" x1=\"7\" x2=\"116\" y1=\"245.8047\" y2=\"245.8047\"/><ellipse cx=\"17\" cy=\"257.707\" fill=\"#84BE84\" rx=\"3\" ry=\"3\" style=\"stroke: #038048; stroke-width: 1.0;\"/><text fill=\"#000000\" font-family=\"sans-serif\" font-size=\"11\" lengthAdjust=\"spacingAndGlyphs\" textLength=\"81\" x=\"26\" y=\"260.0151\">getWeight():int</text><path d=\"M61.5,153.451 C61.5,167.2793 61.5,180.9756 61.5,192.8308 \" fill=\"none\" style=\"stroke: #A80036; stroke-width: 1.0;\"/><polygon fill=\"none\" points=\"54.5001,153.296,61.5,133.296,68.5001,153.296,54.5001,153.296\" style=\"stroke: #A80036; stroke-width: 1.0;\"/></g></svg>"
      ],
      "text/plain": [
       "<IPython.core.display.SVG object>"
      ]
     },
     "execution_count": 2,
     "metadata": {},
     "output_type": "execute_result"
    }
   ],
   "source": [
    "%%plantuml\n",
    "\n",
    "@startuml\n",
    "Turtle <|-- WeightTurtle\n",
    "class Turtle {\n",
    "    +bk(distance:double):Turtle\n",
    "    +fd(distance:double):Turtle\n",
    "    +left(degrees:double):Turtle\n",
    "    +right(degrees:double):Turtle\n",
    "    +penUp():Turtle\n",
    "    +penDown():Turtle\n",
    "    +moveTo(x:double,y:double):Turtle\n",
    "    +moveTo(pt:java.awt.geom.Point2D.Double):Turtle\n",
    "}\n",
    "class WeightTurtle {\n",
    "  #weight:int\n",
    "  +getWeight():int\n",
    "}\n",
    "@enduml"
   ]
  },
  {
   "cell_type": "markdown",
   "metadata": {
    "slideshow": {
     "slide_type": "subslide"
    }
   },
   "source": [
    "### 구현  get started\n",
    "\n",
    "* Turtle은 \"Turtle Graphics with Java\" 검색해서 library 설치\n"
   ]
  },
  {
   "cell_type": "code",
   "execution_count": null,
   "metadata": {
    "collapsed": true,
    "slideshow": {
     "slide_type": "subslide"
    }
   },
   "outputs": [],
   "source": [
    "# %load /Users/media/Code/git/sd/src/com/sd/turtle/WeightTurtle.java\n",
    "/*\n",
    " * @author jsl\n",
    " * @since 20160312\n",
    " */\n",
    "package com.sd.turtle;\n",
    "\n",
    "import java.awt.Color;\n",
    "import ch.aplu.turtle.*;\n",
    "\n",
    "public class WeightTurtle extends Turtle {\n",
    "    protected int weight;\n",
    "    public WeightTurtle(int w) {\n",
    "        weight=w;\n",
    "        setColor(Color.red);\n",
    "        setPenColor(Color.red);\n",
    "    }\n",
    "    public int getWeight() {\n",
    "        return weight;\n",
    "    }\n",
    "}\n"
   ]
  },
  {
   "cell_type": "code",
   "execution_count": null,
   "metadata": {
    "collapsed": true,
    "slideshow": {
     "slide_type": "subslide"
    }
   },
   "outputs": [],
   "source": [
    "# %load /Users/media/Code/git/sd/src/com/sd/turtle/WeightTurtleMain.java\n",
    "package com.sd.turtle;\n",
    "\n",
    "import java.awt.Color;\n",
    "import ch.aplu.turtle.*;\n",
    "\n",
    "public class WeightTurtleMain {\n",
    "    public static void main(String[] args) {\n",
    "        WeightTurtle wt=new WeightTurtle(10);\n",
    "        System.out.println(\"Hello weight turtle\");\n",
    "        wt.addStatusBar(30);\n",
    "        String msg=\"Hello I weigh \"+wt.getWeight()+\" kg.\";\n",
    "        wt.setStatusText(msg);\n",
    "    }\n",
    "}"
   ]
  },
  {
   "cell_type": "code",
   "execution_count": 16,
   "metadata": {
    "collapsed": false,
    "slideshow": {
     "slide_type": "subslide"
    }
   },
   "outputs": [
    {
     "data": {
      "text/plain": [
       "u'/Users/media/Code/git/sd'"
      ]
     },
     "execution_count": 16,
     "metadata": {},
     "output_type": "execute_result"
    }
   ],
   "source": [
    "%pwd"
   ]
  },
  {
   "cell_type": "code",
   "execution_count": 17,
   "metadata": {
    "collapsed": false,
    "slideshow": {
     "slide_type": "subslide"
    }
   },
   "outputs": [
    {
     "name": "stdout",
     "output_type": "stream",
     "text": [
      "Hello weight turtle\r\n"
     ]
    }
   ],
   "source": [
    "!javac -d classes/ -cp lib/aplu5.jar -sourcepath src/ src/com/sd/turtle/WeightTurtleMain.java \n",
    "!java -cp ./classes/:./lib/aplu5.jar com.sd.turtle.WeightTurtleMain"
   ]
  },
  {
   "cell_type": "markdown",
   "metadata": {
    "slideshow": {
     "slide_type": "slide"
    }
   },
   "source": [
    "### casting\n",
    "* 예제 아래 auto변수(객체)는 부모객체이다. 자식 객체 Sedan, Sports Car 참조가 가능하다.\n",
    "* 따라서 '실행 시점'에 사용될 다형적 함수를 결정해서 호출함 (overriding 함수)\n",
    "\n",
    "    ```\n",
    "    Automobile auto = new Sedan(Color.black);\n",
    "    ```\n",
    "\n",
    "* downcasting\n",
    "    * superclass에서 -> subclass로 변환\n",
    "    * 수동으로 casting해주어야 한다.\n",
    "    \n",
    "* upcasting\n",
    "    * subclass에서 -> superclass로 변환\n",
    "    * upcasting은 자동으로 되므로, 별도의 casting은 불필요하다.\n",
    "    * upcasting은 superclass의 함수, 속성만 쓸 수 있다\n",
    "        * subclass 고유의 함수, 속성은 잃어 버리게 된다\n",
    "        (다시 downcasting하면 복원되므로 hidden이라고 해야 옳다)\n",
    "\n",
    "* upcasting -> downcasting\n",
    "    * 2-way downcasting after upcasting is ok\n",
    "    * 상속관계에서 컴파일시점에 upcasting을 해 놓고, 실행시점에 그에 맞는 downcasting을 하게 되면 재미 있는 다형적 행태를 보게 된다."
   ]
  },
  {
   "cell_type": "markdown",
   "metadata": {
    "slideshow": {
     "slide_type": "subslide"
    }
   },
   "source": [
    "* 예제 automatic upcasting (but downcasting must be manual)\n",
    "    \n",
    "    ```\n",
    "    > import com.sd.turtle.WeightTurtle\n",
    "    > import ch.aplu.turtle.*    \n",
    "    > Turtle tOFwt=new WeightTurtle(10)\n",
    "    ```\n",
    "    "
   ]
  },
  {
   "cell_type": "markdown",
   "metadata": {
    "slideshow": {
     "slide_type": "subslide"
    }
   },
   "source": [
    "* 예제 upcasting drops all submethods and subfields e.g., getHeight -> superclass's\n",
    "    * 자식을 부모클래스로 바꾸었다가 다시 자식으로 변환해도 좋다\n",
    "    * 자식WeightTurtle이 부모Turtle로 바꾸었다가, 다시 내려 getWeight() 호출가능.\n",
    "\n",
    "    ```\n",
    "    > tOFwt.getWeight()\n",
    "    Static Error: No method in Turtle has name 'getWeight'\n",
    "    > ((WeightTurtle)tOFwt).getWeight()\n",
    "    10\n",
    "    ```"
   ]
  },
  {
   "cell_type": "markdown",
   "metadata": {
    "slideshow": {
     "slide_type": "subslide"
    }
   },
   "source": [
    "* 예제 downcasting\n",
    "    ```\n",
    "    > WeightTurtle wt1=new Turtle()\n",
    "    Static Error: Bad types in assignment: from Turtle to WeightTurtle\n",
    "    > WeightTurtle wt1=(WeightTurtle)new Turtle()\n",
    "    java.lang.ClassCastException: From ch.aplu.turtle.Turtle to com.sd.turtle.WeightTurtle\n",
    "    ```"
   ]
  },
  {
   "cell_type": "markdown",
   "metadata": {
    "slideshow": {
     "slide_type": "subslide"
    }
   },
   "source": [
    "* 예제 up and down polymorphic with casting\n",
    "    ```\n",
    "    > public void myPrint(Turtle t) {\n",
    "         System.out.println(\"This is \"+t);\n",
    "    }\n",
    "    > myPrint(wt)\n",
    "    This is Turtle(Position=(0,0), Heading=0)\n",
    "    > myPrint(t)\n",
    "    This is Turtle(Position=(0,0), Heading=0)\n",
    "    > \n",
    "    ```"
   ]
  },
  {
   "cell_type": "markdown",
   "metadata": {
    "slideshow": {
     "slide_type": "slide"
    }
   },
   "source": [
    "## 1.6 설계원칙\n",
    "\n",
    "* 설계원칙\n",
    "    * 프로그램의 소스코드가 중복된다는 것은 재사용된다는 것 -> 분리 -> 상속? 연관?\n",
    "    * 변하는 부분을 고정부분과 분리함 -> 상속? 연관?\n",
    "    * SOLID (Martin, R.C., 2000)\n",
    "\n",
    "* 설계는 변하는 부분을 분리시키고, 재사용(중복)을 늘리는 것!"
   ]
  },
  {
   "cell_type": "markdown",
   "metadata": {
    "slideshow": {
     "slide_type": "subslide"
    }
   },
   "source": [
    "* GRASP (Larman, C. ,2005, Applying UML and patterns: an introduction to object-oriented analysis and design and iterative development. Pearson)\n",
    "    * Creator, information expert, low coupling, controller, high cohesion, indirection, polymorphism, protected variations, pure fabrication"
   ]
  },
  {
   "cell_type": "markdown",
   "metadata": {},
   "source": [
    "* Key design practices (Microsoft Application Architecture Guide, 2nd Ed., Microsoft Press)\n",
    "    * separation of concerns. 기능이 명확하게 구분되도록 설계. high cohesion and low coupling.\n",
    "    * signle responsibility principle. 단일 기능을 수행하도록 설계.\n",
    "    * principle of least knowledge. 내부적으로 구현된 내용을 서로 알지 못하게 설계. Low of Demeter (LoD)\n",
    "    * don't repeat yourself (DRY). 특정기능이 중복되게 사용되지 않게 설계.\n",
    "    * minimize upfront design - 요구사항이 불분명할 경우 처음부터 'big design'으로 하지 말고, 가볍게 반복적으로 설계 (agile method). YAGNI ('You ain't gonna need it!')이라고도 함."
   ]
  },
  {
   "cell_type": "markdown",
   "metadata": {
    "slideshow": {
     "slide_type": "slide"
    }
   },
   "source": [
    "* SOLID (Martin, R. C., \"Design principles and design patterns\",2000, objectmentor.com)\n",
    "\n",
    "In the mid-1990s, Robert C. Martin gathered five principles for object-oriented class design, presenting them as the best guidelines for building a maintainable object- oriented system. Michael Feathers attached the acronym SOLID to these principles in the early 2000s.\n",
    "\n",
    "원칙 | 설명\n",
    "-----|-----\n",
    "SRP | Single Responsibility Principle\n",
    "OCP | Open Closed Principle\n",
    "LSP | Liskov Substitution Principle\n",
    "ISP | Interface Segregation Principle\n",
    "DIP | Dependency Inversion Principle\n",
    "\n",
    "* 즉, coupling and cohesion, inheritance, interface, and polymorphism, delegation, aggregation을 사용하여 Good Design"
   ]
  },
  {
   "cell_type": "markdown",
   "metadata": {
    "slideshow": {
     "slide_type": "slide"
    }
   },
   "source": [
    "### 1.6.1 OCP\n",
    "\n",
    "기능을 확장할 경우, 수정이 없도록 (최소화)\n",
    "\n",
    "* 변동부분의 분리\n",
    "    * 모든 함수를 갖고 있는 클래스를 구현 (Duck: fly, quack)\n",
    "    * 다른 하위클래스는 구현된 구체적인 클래스를 사용하게 되면\n",
    "    * 어떤 클래스가 추가가 될 경우 (fly/quack를 다 할 수 없는 클래스)\n",
    "    * 고치기 어려움.\n",
    "    * 따라서 변동할 수 있는 fly/quack\n",
    "* 인터페이스를 보고 프로그래밍"
   ]
  },
  {
   "cell_type": "markdown",
   "metadata": {
    "slideshow": {
     "slide_type": "slide"
    }
   },
   "source": [
    "### 1.6.1 OCP 계속\n",
    "\n",
    "* 문제\n",
    "    * 문을 여는 경우, 다른 종류의 문 (확장)을 여는 경우 수정해야 할 부분이 많음 (클라이언트 + 새로운 문)\n",
    "    * 또한 다른 종류의 문을 if문으로 분기처리\n",
    "* 설계대안 - 상속\n",
    "    * 상속으로 처리하면, 새로운 문은 간단하게 부모-자식관계.\n",
    "    * 클라이언트는 수정 없슴. 부모클래스(Door)만 사용.\n",
    "    * 새로운 문은 실행시점 Late binding."
   ]
  },
  {
   "cell_type": "code",
   "execution_count": 17,
   "metadata": {
    "collapsed": false,
    "slideshow": {
     "slide_type": "subslide"
    }
   },
   "outputs": [
    {
     "data": {
      "image/svg+xml": [
       "<svg height=\"190px\" style=\"width:626px;height:190px;\" version=\"1.1\" viewBox=\"0 0 626 190\" width=\"626px\" xmlns=\"http://www.w3.org/2000/svg\" xmlns:xlink=\"http://www.w3.org/1999/xlink\"><defs><filter height=\"300%\" id=\"f1\" width=\"300%\" x=\"-1\" y=\"-1\"><feGaussianBlur result=\"blurOut\" stdDeviation=\"2.0\"/><feColorMatrix in=\"blurOut\" result=\"blurOut2\" type=\"matrix\" values=\"0 0 0 0 0 0 0 0 0 0 0 0 0 0 0 0 0 0 .4 0\"/><feOffset dx=\"4.0\" dy=\"4.0\" in=\"blurOut2\" result=\"blurOut3\"/><feBlend in=\"SourceGraphic\" in2=\"blurOut3\" mode=\"normal\"/></filter></defs><g><rect fill=\"#FEFECE\" filter=\"url(#f1)\" height=\"48\" style=\"stroke: #A80036; stroke-width: 1.5;\" width=\"64\" x=\"324.5\" y=\"8\"/><ellipse cx=\"339.5\" cy=\"24\" fill=\"#ADD1B2\" rx=\"11\" ry=\"11\" style=\"stroke: #A80036; stroke-width: 1.0;\"/><path d=\"M342.4731,29.6431 Q341.8921,29.9419 341.2529,30.0913 Q340.6138,30.2407 339.9082,30.2407 Q337.4014,30.2407 336.0815,28.5889 Q334.7617,26.937 334.7617,23.8159 Q334.7617,20.6865 336.0815,19.0347 Q337.4014,17.3828 339.9082,17.3828 Q340.6138,17.3828 341.2612,17.5322 Q341.9087,17.6816 342.4731,17.9805 L342.4731,20.7031 Q341.8423,20.1221 341.2488,19.8523 Q340.6553,19.5825 340.0244,19.5825 Q338.6797,19.5825 337.9949,20.6492 Q337.3101,21.7158 337.3101,23.8159 Q337.3101,25.9077 337.9949,26.9744 Q338.6797,28.041 340.0244,28.041 Q340.6553,28.041 341.2488,27.7712 Q341.8423,27.5015 342.4731,26.9204 Z \"/><text fill=\"#000000\" font-family=\"sans-serif\" font-size=\"12\" lengthAdjust=\"spacingAndGlyphs\" textLength=\"32\" x=\"353.5\" y=\"28.5352\">Client</text><line style=\"stroke: #A80036; stroke-width: 1.5;\" x1=\"325.5\" x2=\"387.5\" y1=\"40\" y2=\"40\"/><line style=\"stroke: #A80036; stroke-width: 1.5;\" x1=\"325.5\" x2=\"387.5\" y1=\"48\" y2=\"48\"/><rect fill=\"#FEFECE\" filter=\"url(#f1)\" height=\"48\" style=\"stroke: #A80036; stroke-width: 1.5;\" width=\"117\" x=\"500\" y=\"8\"/><ellipse cx=\"515\" cy=\"24\" fill=\"#ADD1B2\" rx=\"11\" ry=\"11\" style=\"stroke: #A80036; stroke-width: 1.0;\"/><path d=\"M517.9731,29.6431 Q517.3921,29.9419 516.7529,30.0913 Q516.1138,30.2407 515.4082,30.2407 Q512.9014,30.2407 511.5815,28.5889 Q510.2617,26.937 510.2617,23.8159 Q510.2617,20.6865 511.5815,19.0347 Q512.9014,17.3828 515.4082,17.3828 Q516.1138,17.3828 516.7612,17.5322 Q517.4087,17.6816 517.9731,17.9805 L517.9731,20.7031 Q517.3423,20.1221 516.7488,19.8523 Q516.1553,19.5825 515.5244,19.5825 Q514.1797,19.5825 513.4949,20.6492 Q512.8101,21.7158 512.8101,23.8159 Q512.8101,25.9077 513.4949,26.9744 Q514.1797,28.041 515.5244,28.041 Q516.1553,28.041 516.7488,27.7712 Q517.3423,27.5015 517.9731,26.9204 Z \"/><text fill=\"#000000\" font-family=\"sans-serif\" font-size=\"12\" lengthAdjust=\"spacingAndGlyphs\" textLength=\"85\" x=\"529\" y=\"28.5352\">AutomaticDoor</text><line style=\"stroke: #A80036; stroke-width: 1.5;\" x1=\"501\" x2=\"616\" y1=\"40\" y2=\"40\"/><line style=\"stroke: #A80036; stroke-width: 1.5;\" x1=\"501\" x2=\"616\" y1=\"48\" y2=\"48\"/><rect fill=\"#FEFECE\" filter=\"url(#f1)\" height=\"48\" style=\"stroke: #A80036; stroke-width: 1.5;\" width=\"90\" x=\"246.5\" y=\"133\"/><ellipse cx=\"261.5\" cy=\"149\" fill=\"#ADD1B2\" rx=\"11\" ry=\"11\" style=\"stroke: #A80036; stroke-width: 1.0;\"/><path d=\"M264.4731,154.6431 Q263.8921,154.9419 263.2529,155.0913 Q262.6138,155.2407 261.9082,155.2407 Q259.4014,155.2407 258.0815,153.5889 Q256.7617,151.937 256.7617,148.8159 Q256.7617,145.6865 258.0815,144.0347 Q259.4014,142.3828 261.9082,142.3828 Q262.6138,142.3828 263.2612,142.5322 Q263.9087,142.6816 264.4731,142.9805 L264.4731,145.7031 Q263.8423,145.1221 263.2488,144.8523 Q262.6553,144.5825 262.0244,144.5825 Q260.6797,144.5825 259.9949,145.6492 Q259.3101,146.7158 259.3101,148.8159 Q259.3101,150.9077 259.9949,151.9744 Q260.6797,153.041 262.0244,153.041 Q262.6553,153.041 263.2488,152.7712 Q263.8423,152.5015 264.4731,151.9204 Z \"/><text fill=\"#000000\" font-family=\"sans-serif\" font-size=\"12\" lengthAdjust=\"spacingAndGlyphs\" textLength=\"58\" x=\"275.5\" y=\"153.5352\">KnobDoor</text><line style=\"stroke: #A80036; stroke-width: 1.5;\" x1=\"247.5\" x2=\"335.5\" y1=\"165\" y2=\"165\"/><line style=\"stroke: #A80036; stroke-width: 1.5;\" x1=\"247.5\" x2=\"335.5\" y1=\"173\" y2=\"173\"/><rect fill=\"#FEFECE\" filter=\"url(#f1)\" height=\"48\" style=\"stroke: #A80036; stroke-width: 1.5;\" width=\"97\" x=\"372\" y=\"133\"/><ellipse cx=\"387\" cy=\"149\" fill=\"#ADD1B2\" rx=\"11\" ry=\"11\" style=\"stroke: #A80036; stroke-width: 1.0;\"/><path d=\"M389.9731,154.6431 Q389.3921,154.9419 388.7529,155.0913 Q388.1138,155.2407 387.4082,155.2407 Q384.9014,155.2407 383.5815,153.5889 Q382.2617,151.937 382.2617,148.8159 Q382.2617,145.6865 383.5815,144.0347 Q384.9014,142.3828 387.4082,142.3828 Q388.1138,142.3828 388.7612,142.5322 Q389.4087,142.6816 389.9731,142.9805 L389.9731,145.7031 Q389.3423,145.1221 388.7488,144.8523 Q388.1553,144.5825 387.5244,144.5825 Q386.1797,144.5825 385.4949,145.6492 Q384.8101,146.7158 384.8101,148.8159 Q384.8101,150.9077 385.4949,151.9744 Q386.1797,153.041 387.5244,153.041 Q388.1553,153.041 388.7488,152.7712 Q389.3423,152.5015 389.9731,151.9204 Z \"/><text fill=\"#000000\" font-family=\"sans-serif\" font-size=\"12\" lengthAdjust=\"spacingAndGlyphs\" textLength=\"65\" x=\"401\" y=\"153.5352\">SlidingDoor</text><line style=\"stroke: #A80036; stroke-width: 1.5;\" x1=\"373\" x2=\"468\" y1=\"165\" y2=\"165\"/><line style=\"stroke: #A80036; stroke-width: 1.5;\" x1=\"373\" x2=\"468\" y1=\"173\" y2=\"173\"/><polygon fill=\"#FBFB77\" filter=\"url(#f1)\" points=\"6,19.5,6,44.8105,255,44.8105,255,29.5,245,19.5,6,19.5\" style=\"stroke: #A80036; stroke-width: 1.0;\"/><polygon fill=\"#FBFB77\" points=\"6,19.5,6,44.8105,255,44.8105,255,37.5,324.122,32,255,29.5,255,29.5,245,19.5,6,19.5\" style=\"stroke: #A80036; stroke-width: 1.0;\"/><line style=\"stroke: #A80036; stroke-width: 1.0;\" x1=\"245\" x2=\"245\" y1=\"19.5\" y2=\"29.5\"/><line style=\"stroke: #A80036; stroke-width: 1.0;\" x1=\"255\" x2=\"245\" y1=\"29.5\" y2=\"29.5\"/><text fill=\"#000000\" font-family=\"sans-serif\" font-size=\"13\" lengthAdjust=\"spacingAndGlyphs\" textLength=\"228\" x=\"12\" y=\"37.0684\">all different methods to open a door</text><path d=\"M388.508,32 C416.924,32 459.298,32 494.63,32 \" fill=\"none\" style=\"stroke: #A80036; stroke-width: 1.0;\"/><polygon fill=\"#A80036\" points=\"499.789,32,490.789,28,494.789,32,490.789,36,499.789,32\" style=\"stroke: #A80036; stroke-width: 1.0;\"/><text fill=\"#000000\" font-family=\"sans-serif\" font-size=\"13\" lengthAdjust=\"spacingAndGlyphs\" textLength=\"75\" x=\"406.75\" y=\"25.5684\">pressOpen()</text><path d=\"M326.349,56.091 C317.307,64.531 308.271,74.787 302.5,86 C295.94,98.7465 293.073,114.3931 291.896,127.6584 \" fill=\"none\" style=\"stroke: #A80036; stroke-width: 1.0;\"/><polygon fill=\"#A80036\" points=\"291.512,132.8028,296.1711,124.1256,291.8843,127.8167,288.1933,123.5299,291.512,132.8028\" style=\"stroke: #A80036; stroke-width: 1.0;\"/><text fill=\"#000000\" font-family=\"sans-serif\" font-size=\"13\" lengthAdjust=\"spacingAndGlyphs\" textLength=\"72\" x=\"303.5\" y=\"99.5684\">twistOpen()</text><path d=\"M368.538,56.135 C379.22,76.666 394.844,106.6926 406.168,128.4561 \" fill=\"none\" style=\"stroke: #A80036; stroke-width: 1.0;\"/><polygon fill=\"#A80036\" points=\"408.516,132.9684,407.9102,123.1382,406.2081,128.5329,400.8134,126.8308,408.516,132.9684\" style=\"stroke: #A80036; stroke-width: 1.0;\"/><text fill=\"#000000\" font-family=\"sans-serif\" font-size=\"13\" lengthAdjust=\"spacingAndGlyphs\" textLength=\"71\" x=\"392.5\" y=\"99.5684\">slideOpen()</text></g></svg>"
      ],
      "text/plain": [
       "<IPython.core.display.SVG object>"
      ]
     },
     "execution_count": 17,
     "metadata": {},
     "output_type": "execute_result"
    }
   ],
   "source": [
    "%%plantuml\n",
    "\n",
    "@startuml\n",
    "\n",
    "Client -right-> AutomaticDoor: pressOpen()\n",
    "Client --> KnobDoor: twistOpen()\n",
    "Client --> SlidingDoor: slideOpen()\n",
    "note left of Client\n",
    "    all different methods to open a door\n",
    "end note\n",
    "@enduml"
   ]
  },
  {
   "cell_type": "code",
   "execution_count": 18,
   "metadata": {
    "collapsed": false,
    "slideshow": {
     "slide_type": "subslide"
    }
   },
   "outputs": [
    {
     "data": {
      "image/svg+xml": [
       "<svg height=\"199px\" style=\"width:613px;height:199px;\" version=\"1.1\" viewBox=\"0 0 613 199\" width=\"613px\" xmlns=\"http://www.w3.org/2000/svg\" xmlns:xlink=\"http://www.w3.org/1999/xlink\"><defs><filter height=\"300%\" id=\"f1\" width=\"300%\" x=\"-1\" y=\"-1\"><feGaussianBlur result=\"blurOut\" stdDeviation=\"2.0\"/><feColorMatrix in=\"blurOut\" result=\"blurOut2\" type=\"matrix\" values=\"0 0 0 0 0 0 0 0 0 0 0 0 0 0 0 0 0 0 .4 0\"/><feOffset dx=\"4.0\" dy=\"4.0\" in=\"blurOut2\" result=\"blurOut3\"/><feBlend in=\"SourceGraphic\" in2=\"blurOut3\" mode=\"normal\"/></filter></defs><g><rect fill=\"#FEFECE\" filter=\"url(#f1)\" height=\"48\" style=\"stroke: #A80036; stroke-width: 1.5;\" width=\"64\" x=\"72.5\" y=\"21\"/><ellipse cx=\"87.5\" cy=\"37\" fill=\"#ADD1B2\" rx=\"11\" ry=\"11\" style=\"stroke: #A80036; stroke-width: 1.0;\"/><path d=\"M90.4731,42.6431 Q89.8921,42.9419 89.2529,43.0913 Q88.6138,43.2407 87.9082,43.2407 Q85.4014,43.2407 84.0815,41.5889 Q82.7617,39.937 82.7617,36.8159 Q82.7617,33.6865 84.0815,32.0347 Q85.4014,30.3828 87.9082,30.3828 Q88.6138,30.3828 89.2612,30.5322 Q89.9087,30.6816 90.4731,30.9805 L90.4731,33.7031 Q89.8423,33.1221 89.2488,32.8523 Q88.6553,32.5825 88.0244,32.5825 Q86.6797,32.5825 85.9949,33.6492 Q85.3101,34.7158 85.3101,36.8159 Q85.3101,38.9077 85.9949,39.9744 Q86.6797,41.041 88.0244,41.041 Q88.6553,41.041 89.2488,40.7712 Q89.8423,40.5015 90.4731,39.9204 Z \"/><text fill=\"#000000\" font-family=\"sans-serif\" font-size=\"12\" lengthAdjust=\"spacingAndGlyphs\" textLength=\"32\" x=\"101.5\" y=\"41.5352\">Client</text><line style=\"stroke: #A80036; stroke-width: 1.5;\" x1=\"73.5\" x2=\"135.5\" y1=\"53\" y2=\"53\"/><line style=\"stroke: #A80036; stroke-width: 1.5;\" x1=\"73.5\" x2=\"135.5\" y1=\"61\" y2=\"61\"/><rect fill=\"#FEFECE\" filter=\"url(#f1)\" height=\"73.9102\" style=\"stroke: #A80036; stroke-width: 1.5;\" width=\"64\" x=\"171.5\" y=\"8\"/><ellipse cx=\"188.3\" cy=\"24\" fill=\"#ADD1B2\" rx=\"11\" ry=\"11\" style=\"stroke: #A80036; stroke-width: 1.0;\"/><path d=\"M191.2731,29.6431 Q190.6921,29.9419 190.0529,30.0913 Q189.4138,30.2407 188.7082,30.2407 Q186.2014,30.2407 184.8815,28.5889 Q183.5617,26.937 183.5617,23.8159 Q183.5617,20.6865 184.8815,19.0347 Q186.2014,17.3828 188.7082,17.3828 Q189.4138,17.3828 190.0612,17.5322 Q190.7087,17.6816 191.2731,17.9805 L191.2731,20.7031 Q190.6423,20.1221 190.0488,19.8523 Q189.4553,19.5825 188.8244,19.5825 Q187.4797,19.5825 186.7949,20.6492 Q186.1101,21.7158 186.1101,23.8159 Q186.1101,25.9077 186.7949,26.9744 Q187.4797,28.041 188.8244,28.041 Q189.4553,28.041 190.0488,27.7712 Q190.6423,27.5015 191.2731,26.9204 Z \"/><text fill=\"#000000\" font-family=\"sans-serif\" font-size=\"12\" lengthAdjust=\"spacingAndGlyphs\" textLength=\"28\" x=\"202.7\" y=\"28.5352\">Door</text><line style=\"stroke: #A80036; stroke-width: 1.5;\" x1=\"172.5\" x2=\"234.5\" y1=\"40\" y2=\"40\"/><rect fill=\"none\" height=\"6\" style=\"stroke: #C82930; stroke-width: 1.0;\" width=\"6\" x=\"179.5\" y=\"48.9775\"/><text fill=\"#000000\" font-family=\"sans-serif\" font-size=\"11\" lengthAdjust=\"spacingAndGlyphs\" textLength=\"38\" x=\"191.5\" y=\"54.6348\">isOpen</text><line style=\"stroke: #A80036; stroke-width: 1.5;\" x1=\"172.5\" x2=\"234.5\" y1=\"60.9551\" y2=\"60.9551\"/><ellipse cx=\"182.5\" cy=\"72.9326\" fill=\"#84BE84\" rx=\"3\" ry=\"3\" style=\"stroke: #038048; stroke-width: 1.0;\"/><text fill=\"#000000\" font-family=\"sans-serif\" font-size=\"11\" lengthAdjust=\"spacingAndGlyphs\" textLength=\"35\" x=\"191.5\" y=\"75.5898\">open()</text><rect fill=\"#FEFECE\" filter=\"url(#f1)\" height=\"48\" style=\"stroke: #A80036; stroke-width: 1.5;\" width=\"117\" x=\"6\" y=\"142\"/><ellipse cx=\"21\" cy=\"158\" fill=\"#ADD1B2\" rx=\"11\" ry=\"11\" style=\"stroke: #A80036; stroke-width: 1.0;\"/><path d=\"M23.9731,163.6431 Q23.3921,163.9419 22.7529,164.0913 Q22.1138,164.2407 21.4082,164.2407 Q18.9014,164.2407 17.5815,162.5889 Q16.2617,160.937 16.2617,157.8159 Q16.2617,154.6865 17.5815,153.0347 Q18.9014,151.3828 21.4082,151.3828 Q22.1138,151.3828 22.7612,151.5322 Q23.4087,151.6816 23.9731,151.9805 L23.9731,154.7031 Q23.3423,154.1221 22.7488,153.8523 Q22.1553,153.5825 21.5244,153.5825 Q20.1797,153.5825 19.4949,154.6492 Q18.8101,155.7158 18.8101,157.8159 Q18.8101,159.9077 19.4949,160.9744 Q20.1797,162.041 21.5244,162.041 Q22.1553,162.041 22.7488,161.7712 Q23.3423,161.5015 23.9731,160.9204 Z \"/><text fill=\"#000000\" font-family=\"sans-serif\" font-size=\"12\" lengthAdjust=\"spacingAndGlyphs\" textLength=\"85\" x=\"35\" y=\"162.5352\">AutomaticDoor</text><line style=\"stroke: #A80036; stroke-width: 1.5;\" x1=\"7\" x2=\"122\" y1=\"174\" y2=\"174\"/><line style=\"stroke: #A80036; stroke-width: 1.5;\" x1=\"7\" x2=\"122\" y1=\"182\" y2=\"182\"/><rect fill=\"#FEFECE\" filter=\"url(#f1)\" height=\"48\" style=\"stroke: #A80036; stroke-width: 1.5;\" width=\"90\" x=\"158.5\" y=\"142\"/><ellipse cx=\"173.5\" cy=\"158\" fill=\"#ADD1B2\" rx=\"11\" ry=\"11\" style=\"stroke: #A80036; stroke-width: 1.0;\"/><path d=\"M176.4731,163.6431 Q175.8921,163.9419 175.2529,164.0913 Q174.6138,164.2407 173.9082,164.2407 Q171.4014,164.2407 170.0815,162.5889 Q168.7617,160.937 168.7617,157.8159 Q168.7617,154.6865 170.0815,153.0347 Q171.4014,151.3828 173.9082,151.3828 Q174.6138,151.3828 175.2612,151.5322 Q175.9087,151.6816 176.4731,151.9805 L176.4731,154.7031 Q175.8423,154.1221 175.2488,153.8523 Q174.6553,153.5825 174.0244,153.5825 Q172.6797,153.5825 171.9949,154.6492 Q171.3101,155.7158 171.3101,157.8159 Q171.3101,159.9077 171.9949,160.9744 Q172.6797,162.041 174.0244,162.041 Q174.6553,162.041 175.2488,161.7712 Q175.8423,161.5015 176.4731,160.9204 Z \"/><text fill=\"#000000\" font-family=\"sans-serif\" font-size=\"12\" lengthAdjust=\"spacingAndGlyphs\" textLength=\"58\" x=\"187.5\" y=\"162.5352\">KnobDoor</text><line style=\"stroke: #A80036; stroke-width: 1.5;\" x1=\"159.5\" x2=\"247.5\" y1=\"174\" y2=\"174\"/><line style=\"stroke: #A80036; stroke-width: 1.5;\" x1=\"159.5\" x2=\"247.5\" y1=\"182\" y2=\"182\"/><rect fill=\"#FEFECE\" filter=\"url(#f1)\" height=\"48\" style=\"stroke: #A80036; stroke-width: 1.5;\" width=\"97\" x=\"284\" y=\"142\"/><ellipse cx=\"299\" cy=\"158\" fill=\"#ADD1B2\" rx=\"11\" ry=\"11\" style=\"stroke: #A80036; stroke-width: 1.0;\"/><path d=\"M301.9731,163.6431 Q301.3921,163.9419 300.7529,164.0913 Q300.1138,164.2407 299.4082,164.2407 Q296.9014,164.2407 295.5815,162.5889 Q294.2617,160.937 294.2617,157.8159 Q294.2617,154.6865 295.5815,153.0347 Q296.9014,151.3828 299.4082,151.3828 Q300.1138,151.3828 300.7612,151.5322 Q301.4087,151.6816 301.9731,151.9805 L301.9731,154.7031 Q301.3423,154.1221 300.7488,153.8523 Q300.1553,153.5825 299.5244,153.5825 Q298.1797,153.5825 297.4949,154.6492 Q296.8101,155.7158 296.8101,157.8159 Q296.8101,159.9077 297.4949,160.9744 Q298.1797,162.041 299.5244,162.041 Q300.1553,162.041 300.7488,161.7712 Q301.3423,161.5015 301.9731,160.9204 Z \"/><text fill=\"#000000\" font-family=\"sans-serif\" font-size=\"12\" lengthAdjust=\"spacingAndGlyphs\" textLength=\"65\" x=\"313\" y=\"162.5352\">SlidingDoor</text><line style=\"stroke: #A80036; stroke-width: 1.5;\" x1=\"285\" x2=\"380\" y1=\"174\" y2=\"174\"/><line style=\"stroke: #A80036; stroke-width: 1.5;\" x1=\"285\" x2=\"380\" y1=\"182\" y2=\"182\"/><polygon fill=\"#FBFB77\" filter=\"url(#f1)\" points=\"271,24.5,271,65.1211,604,65.1211,604,34.5,594,24.5,271,24.5\" style=\"stroke: #A80036; stroke-width: 1.0;\"/><polygon fill=\"#FBFB77\" points=\"271,24.5,271,41,235.949,45,271,49,271,65.1211,604,65.1211,604,34.5,594,24.5,271,24.5\" style=\"stroke: #A80036; stroke-width: 1.0;\"/><line style=\"stroke: #A80036; stroke-width: 1.0;\" x1=\"594\" x2=\"594\" y1=\"24.5\" y2=\"34.5\"/><line style=\"stroke: #A80036; stroke-width: 1.0;\" x1=\"604\" x2=\"594\" y1=\"34.5\" y2=\"34.5\"/><text fill=\"#000000\" font-family=\"sans-serif\" font-size=\"13\" lengthAdjust=\"spacingAndGlyphs\" textLength=\"312\" x=\"277\" y=\"42.0684\">inheritance made useless of all different methods</text><text fill=\"#000000\" font-family=\"sans-serif\" font-size=\"13\" lengthAdjust=\"spacingAndGlyphs\" textLength=\"245\" x=\"277\" y=\"57.3789\">and a single method open() is provided</text><path d=\"M136.598,45 C148.184,45 159.77,45 171.356,45 \" fill=\"none\" style=\"stroke: #A80036; stroke-width: 1.0;\"/><path d=\"M155.912,86.741 C134.371,105.1823 109.702,126.3018 91.4242,141.9498 \" fill=\"none\" style=\"stroke: #A80036; stroke-width: 1.0;\"/><polygon fill=\"none\" points=\"151.516,81.289,171.261,73.6,160.621,91.9245,151.516,81.289\" style=\"stroke: #A80036; stroke-width: 1.0;\"/><path d=\"M203.5,102.0684 C203.5,116.1232 203.5,130.4342 203.5,141.8505 \" fill=\"none\" style=\"stroke: #A80036; stroke-width: 1.0;\"/><polygon fill=\"none\" points=\"196.5,102.0269,203.5,82.027,210.5,102.0268,196.5,102.0269\" style=\"stroke: #A80036; stroke-width: 1.0;\"/><path d=\"M250.567,89.418 C269.865,107.2202 291.413,127.0983 307.567,141.9994 \" fill=\"none\" style=\"stroke: #A80036; stroke-width: 1.0;\"/><polygon fill=\"none\" points=\"245.674,94.4278,235.719,75.722,255.166,84.137,245.674,94.4278\" style=\"stroke: #A80036; stroke-width: 1.0;\"/></g></svg>"
      ],
      "text/plain": [
       "<IPython.core.display.SVG object>"
      ]
     },
     "execution_count": 18,
     "metadata": {},
     "output_type": "execute_result"
    }
   ],
   "source": [
    "%%plantuml\n",
    "\n",
    "@startuml\n",
    "\n",
    "Client -right- Door\n",
    "Door <|-- AutomaticDoor\n",
    "Door <|-- KnobDoor\n",
    "Door <|-- SlidingDoor\n",
    "\n",
    "class Door {\n",
    "  -isOpen\n",
    "  +open()\n",
    "}\n",
    "note right of Door\n",
    "    inheritance made useless of all different methods\n",
    "    and a single method open() is provided\n",
    "end note\n",
    "@enduml"
   ]
  },
  {
   "cell_type": "markdown",
   "metadata": {
    "slideshow": {
     "slide_type": "slide"
    }
   },
   "source": [
    "### 1.6.2 LSP\n",
    "\n",
    "* 자식클래스는 부모클래스를 대체할 수 있어야 함. Subclasses should be substitutable for their base classes.\n",
    "* 원과 타원의 문제 The Circle/Ellipse Dilemma\n",
    "* 정사각형과 직사각형의 문제 Rectangle\n",
    "- 도형으로 정사각형은 사각형이지만, 상속으로 보면 정사각형은 사각형이 아니다.\n",
    "- 정사각형, 직사각형은 크기를 늘리면 다르게 반응한다. 정사각형은 가로,\n",
    "세로가 같아서 대각선으로 커진다. 반면 직사각형은 가로, 세로를 따로\n",
    "크게할 수 있다. 이런 경우, 상속으로 정사각형을 정의하는 것이 맞지\n",
    "않다.\n",
    "- 즉 is-a라고 해서 상속을 사용하면 안됨."
   ]
  },
  {
   "cell_type": "markdown",
   "metadata": {
    "slideshow": {
     "slide_type": "slide"
    }
   },
   "source": [
    "### 1.6.3 Dependency Inversion Principle\n",
    "\n",
    "* Depend upon Abstractions. Do not depend upon concretions\n",
    "* 인터페이스, 추상클래스, 추상메소드를 사용. 구현클래스를 사용하지 말 것.\n",
    "* 문의 경우 클라이언트는 추상클래스(base class)를 사용했슴. 구체클래스를 사용하지 않았슴."
   ]
  },
  {
   "cell_type": "code",
   "execution_count": 19,
   "metadata": {
    "collapsed": false,
    "slideshow": {
     "slide_type": "subslide"
    }
   },
   "outputs": [
    {
     "data": {
      "image/svg+xml": [
       "<svg height=\"307px\" style=\"width:583px;height:307px;\" version=\"1.1\" viewBox=\"0 0 583 307\" width=\"583px\" xmlns=\"http://www.w3.org/2000/svg\" xmlns:xlink=\"http://www.w3.org/1999/xlink\"><defs><filter height=\"300%\" id=\"f1\" width=\"300%\" x=\"-1\" y=\"-1\"><feGaussianBlur result=\"blurOut\" stdDeviation=\"2.0\"/><feColorMatrix in=\"blurOut\" result=\"blurOut2\" type=\"matrix\" values=\"0 0 0 0 0 0 0 0 0 0 0 0 0 0 0 0 0 0 .4 0\"/><feOffset dx=\"4.0\" dy=\"4.0\" in=\"blurOut2\" result=\"blurOut3\"/><feBlend in=\"SourceGraphic\" in2=\"blurOut3\" mode=\"normal\"/></filter></defs><g><rect fill=\"#FEFECE\" filter=\"url(#f1)\" height=\"48\" style=\"stroke: #A80036; stroke-width: 1.5;\" width=\"64\" x=\"171.5\" y=\"8\"/><ellipse cx=\"186.5\" cy=\"24\" fill=\"#ADD1B2\" rx=\"11\" ry=\"11\" style=\"stroke: #A80036; stroke-width: 1.0;\"/><path d=\"M189.4731,29.6431 Q188.8921,29.9419 188.2529,30.0913 Q187.6138,30.2407 186.9082,30.2407 Q184.4014,30.2407 183.0815,28.5889 Q181.7617,26.937 181.7617,23.8159 Q181.7617,20.6865 183.0815,19.0347 Q184.4014,17.3828 186.9082,17.3828 Q187.6138,17.3828 188.2612,17.5322 Q188.9087,17.6816 189.4731,17.9805 L189.4731,20.7031 Q188.8423,20.1221 188.2488,19.8523 Q187.6553,19.5825 187.0244,19.5825 Q185.6797,19.5825 184.9949,20.6492 Q184.3101,21.7158 184.3101,23.8159 Q184.3101,25.9077 184.9949,26.9744 Q185.6797,28.041 187.0244,28.041 Q187.6553,28.041 188.2488,27.7712 Q188.8423,27.5015 189.4731,26.9204 Z \"/><text fill=\"#000000\" font-family=\"sans-serif\" font-size=\"12\" lengthAdjust=\"spacingAndGlyphs\" textLength=\"32\" x=\"200.5\" y=\"28.5352\">Client</text><line style=\"stroke: #A80036; stroke-width: 1.5;\" x1=\"172.5\" x2=\"234.5\" y1=\"40\" y2=\"40\"/><line style=\"stroke: #A80036; stroke-width: 1.5;\" x1=\"172.5\" x2=\"234.5\" y1=\"48\" y2=\"48\"/><rect fill=\"#FEFECE\" filter=\"url(#f1)\" height=\"73.9102\" style=\"stroke: #A80036; stroke-width: 1.5;\" width=\"64\" x=\"171.5\" y=\"116\"/><ellipse cx=\"188.3\" cy=\"132\" fill=\"#ADD1B2\" rx=\"11\" ry=\"11\" style=\"stroke: #A80036; stroke-width: 1.0;\"/><path d=\"M191.2731,137.6431 Q190.6921,137.9419 190.0529,138.0913 Q189.4138,138.2407 188.7082,138.2407 Q186.2014,138.2407 184.8815,136.5889 Q183.5617,134.937 183.5617,131.8159 Q183.5617,128.6865 184.8815,127.0347 Q186.2014,125.3828 188.7082,125.3828 Q189.4138,125.3828 190.0612,125.5322 Q190.7087,125.6816 191.2731,125.9805 L191.2731,128.7031 Q190.6423,128.1221 190.0488,127.8523 Q189.4553,127.5825 188.8244,127.5825 Q187.4797,127.5825 186.7949,128.6492 Q186.1101,129.7158 186.1101,131.8159 Q186.1101,133.9077 186.7949,134.9744 Q187.4797,136.041 188.8244,136.041 Q189.4553,136.041 190.0488,135.7712 Q190.6423,135.5015 191.2731,134.9204 Z \"/><text fill=\"#000000\" font-family=\"sans-serif\" font-size=\"12\" lengthAdjust=\"spacingAndGlyphs\" textLength=\"28\" x=\"202.7\" y=\"136.5352\">Door</text><line style=\"stroke: #A80036; stroke-width: 1.5;\" x1=\"172.5\" x2=\"234.5\" y1=\"148\" y2=\"148\"/><rect fill=\"none\" height=\"6\" style=\"stroke: #C82930; stroke-width: 1.0;\" width=\"6\" x=\"179.5\" y=\"156.9775\"/><text fill=\"#000000\" font-family=\"sans-serif\" font-size=\"11\" lengthAdjust=\"spacingAndGlyphs\" textLength=\"38\" x=\"191.5\" y=\"162.6348\">isOpen</text><line style=\"stroke: #A80036; stroke-width: 1.5;\" x1=\"172.5\" x2=\"234.5\" y1=\"168.9551\" y2=\"168.9551\"/><ellipse cx=\"182.5\" cy=\"180.9326\" fill=\"#84BE84\" rx=\"3\" ry=\"3\" style=\"stroke: #038048; stroke-width: 1.0;\"/><text fill=\"#000000\" font-family=\"sans-serif\" font-size=\"11\" lengthAdjust=\"spacingAndGlyphs\" textLength=\"35\" x=\"191.5\" y=\"183.5898\">open()</text><rect fill=\"#FEFECE\" filter=\"url(#f1)\" height=\"48\" style=\"stroke: #A80036; stroke-width: 1.5;\" width=\"117\" x=\"6\" y=\"250\"/><ellipse cx=\"21\" cy=\"266\" fill=\"#ADD1B2\" rx=\"11\" ry=\"11\" style=\"stroke: #A80036; stroke-width: 1.0;\"/><path d=\"M23.9731,271.6431 Q23.3921,271.9419 22.7529,272.0913 Q22.1138,272.2407 21.4082,272.2407 Q18.9014,272.2407 17.5815,270.5889 Q16.2617,268.937 16.2617,265.8159 Q16.2617,262.6865 17.5815,261.0347 Q18.9014,259.3828 21.4082,259.3828 Q22.1138,259.3828 22.7612,259.5322 Q23.4087,259.6816 23.9731,259.9805 L23.9731,262.7031 Q23.3423,262.1221 22.7488,261.8523 Q22.1553,261.5825 21.5244,261.5825 Q20.1797,261.5825 19.4949,262.6492 Q18.8101,263.7158 18.8101,265.8159 Q18.8101,267.9077 19.4949,268.9744 Q20.1797,270.041 21.5244,270.041 Q22.1553,270.041 22.7488,269.7712 Q23.3423,269.5015 23.9731,268.9204 Z \"/><text fill=\"#000000\" font-family=\"sans-serif\" font-size=\"12\" lengthAdjust=\"spacingAndGlyphs\" textLength=\"85\" x=\"35\" y=\"270.5352\">AutomaticDoor</text><line style=\"stroke: #A80036; stroke-width: 1.5;\" x1=\"7\" x2=\"122\" y1=\"282\" y2=\"282\"/><line style=\"stroke: #A80036; stroke-width: 1.5;\" x1=\"7\" x2=\"122\" y1=\"290\" y2=\"290\"/><rect fill=\"#FEFECE\" filter=\"url(#f1)\" height=\"48\" style=\"stroke: #A80036; stroke-width: 1.5;\" width=\"90\" x=\"158.5\" y=\"250\"/><ellipse cx=\"173.5\" cy=\"266\" fill=\"#ADD1B2\" rx=\"11\" ry=\"11\" style=\"stroke: #A80036; stroke-width: 1.0;\"/><path d=\"M176.4731,271.6431 Q175.8921,271.9419 175.2529,272.0913 Q174.6138,272.2407 173.9082,272.2407 Q171.4014,272.2407 170.0815,270.5889 Q168.7617,268.937 168.7617,265.8159 Q168.7617,262.6865 170.0815,261.0347 Q171.4014,259.3828 173.9082,259.3828 Q174.6138,259.3828 175.2612,259.5322 Q175.9087,259.6816 176.4731,259.9805 L176.4731,262.7031 Q175.8423,262.1221 175.2488,261.8523 Q174.6553,261.5825 174.0244,261.5825 Q172.6797,261.5825 171.9949,262.6492 Q171.3101,263.7158 171.3101,265.8159 Q171.3101,267.9077 171.9949,268.9744 Q172.6797,270.041 174.0244,270.041 Q174.6553,270.041 175.2488,269.7712 Q175.8423,269.5015 176.4731,268.9204 Z \"/><text fill=\"#000000\" font-family=\"sans-serif\" font-size=\"12\" lengthAdjust=\"spacingAndGlyphs\" textLength=\"58\" x=\"187.5\" y=\"270.5352\">KnobDoor</text><line style=\"stroke: #A80036; stroke-width: 1.5;\" x1=\"159.5\" x2=\"247.5\" y1=\"282\" y2=\"282\"/><line style=\"stroke: #A80036; stroke-width: 1.5;\" x1=\"159.5\" x2=\"247.5\" y1=\"290\" y2=\"290\"/><rect fill=\"#FEFECE\" filter=\"url(#f1)\" height=\"48\" style=\"stroke: #A80036; stroke-width: 1.5;\" width=\"97\" x=\"284\" y=\"250\"/><ellipse cx=\"299\" cy=\"266\" fill=\"#ADD1B2\" rx=\"11\" ry=\"11\" style=\"stroke: #A80036; stroke-width: 1.0;\"/><path d=\"M301.9731,271.6431 Q301.3921,271.9419 300.7529,272.0913 Q300.1138,272.2407 299.4082,272.2407 Q296.9014,272.2407 295.5815,270.5889 Q294.2617,268.937 294.2617,265.8159 Q294.2617,262.6865 295.5815,261.0347 Q296.9014,259.3828 299.4082,259.3828 Q300.1138,259.3828 300.7612,259.5322 Q301.4087,259.6816 301.9731,259.9805 L301.9731,262.7031 Q301.3423,262.1221 300.7488,261.8523 Q300.1553,261.5825 299.5244,261.5825 Q298.1797,261.5825 297.4949,262.6492 Q296.8101,263.7158 296.8101,265.8159 Q296.8101,267.9077 297.4949,268.9744 Q298.1797,270.041 299.5244,270.041 Q300.1553,270.041 300.7488,269.7712 Q301.3423,269.5015 301.9731,268.9204 Z \"/><text fill=\"#000000\" font-family=\"sans-serif\" font-size=\"12\" lengthAdjust=\"spacingAndGlyphs\" textLength=\"65\" x=\"313\" y=\"270.5352\">SlidingDoor</text><line style=\"stroke: #A80036; stroke-width: 1.5;\" x1=\"285\" x2=\"380\" y1=\"282\" y2=\"282\"/><line style=\"stroke: #A80036; stroke-width: 1.5;\" x1=\"285\" x2=\"380\" y1=\"290\" y2=\"290\"/><polygon fill=\"#FBFB77\" filter=\"url(#f1)\" points=\"271,11.5,271,52.1211,574,52.1211,574,21.5,564,11.5,271,11.5\" style=\"stroke: #A80036; stroke-width: 1.0;\"/><polygon fill=\"#FBFB77\" points=\"271,11.5,271,28,235.58,32,271,36,271,52.1211,574,52.1211,574,21.5,564,11.5,271,11.5\" style=\"stroke: #A80036; stroke-width: 1.0;\"/><line style=\"stroke: #A80036; stroke-width: 1.0;\" x1=\"564\" x2=\"564\" y1=\"11.5\" y2=\"21.5\"/><line style=\"stroke: #A80036; stroke-width: 1.0;\" x1=\"574\" x2=\"564\" y1=\"21.5\" y2=\"21.5\"/><text fill=\"#000000\" font-family=\"sans-serif\" font-size=\"13\" lengthAdjust=\"spacingAndGlyphs\" textLength=\"282\" x=\"277\" y=\"29.0684\">Client uses(depends) an abstract class 'Door'</text><text fill=\"#000000\" font-family=\"sans-serif\" font-size=\"13\" lengthAdjust=\"spacingAndGlyphs\" textLength=\"270\" x=\"277\" y=\"44.3789\">Previously, it depends on concrete classes.</text><path d=\"M203.5,56.227 C203.5,73.137 203.5,96.367 203.5,115.714 \" fill=\"none\" style=\"stroke: #A80036; stroke-width: 1.0;\"/><path d=\"M155.912,194.741 C134.371,213.1823 109.702,234.3018 91.4242,249.9498 \" fill=\"none\" style=\"stroke: #A80036; stroke-width: 1.0;\"/><polygon fill=\"none\" points=\"151.516,189.289,171.261,181.6,160.621,199.9245,151.516,189.289\" style=\"stroke: #A80036; stroke-width: 1.0;\"/><path d=\"M203.5,210.0684 C203.5,224.1232 203.5,238.4342 203.5,249.8505 \" fill=\"none\" style=\"stroke: #A80036; stroke-width: 1.0;\"/><polygon fill=\"none\" points=\"196.5,210.0269,203.5,190.027,210.5,210.0268,196.5,210.0269\" style=\"stroke: #A80036; stroke-width: 1.0;\"/><path d=\"M250.567,197.418 C269.865,215.2202 291.413,235.0983 307.567,249.9994 \" fill=\"none\" style=\"stroke: #A80036; stroke-width: 1.0;\"/><polygon fill=\"none\" points=\"245.674,202.4278,235.719,183.722,255.166,192.137,245.674,202.4278\" style=\"stroke: #A80036; stroke-width: 1.0;\"/></g></svg>"
      ],
      "text/plain": [
       "<IPython.core.display.SVG object>"
      ]
     },
     "execution_count": 19,
     "metadata": {},
     "output_type": "execute_result"
    }
   ],
   "source": [
    "%%plantuml\n",
    "\n",
    "@startuml\n",
    "\n",
    "Client -- Door\n",
    "Door <|-- AutomaticDoor\n",
    "Door <|-- KnobDoor\n",
    "Door <|-- SlidingDoor\n",
    "\n",
    "class Door {\n",
    "  -isOpen\n",
    "  +open()\n",
    "}\n",
    "\n",
    "note right of Client\n",
    "    Client uses(depends) an abstract class 'Door'\n",
    "    Previously, it depends on concrete classes.\n",
    "end note\n",
    "@enduml"
   ]
  },
  {
   "cell_type": "markdown",
   "metadata": {
    "slideshow": {
     "slide_type": "slide"
    }
   },
   "source": [
    "### 1.6.4 Interface Segregation Principle\n",
    "\n",
    "* 객체에서 나누어지는 서로 다른 기능이 있는 경우, 인터페이스로 분리\n",
    "* 교재 HFDP Ch1 'Duck'"
   ]
  }
 ],
 "metadata": {
  "celltoolbar": "Slideshow",
  "kernelspec": {
   "display_name": "Python 2",
   "language": "python",
   "name": "python2"
  },
  "language_info": {
   "codemirror_mode": {
    "name": "ipython",
    "version": 2
   },
   "file_extension": ".py",
   "mimetype": "text/x-python",
   "name": "python",
   "nbconvert_exporter": "python",
   "pygments_lexer": "ipython2",
   "version": "2.7.12"
  }
 },
 "nbformat": 4,
 "nbformat_minor": 0
}
