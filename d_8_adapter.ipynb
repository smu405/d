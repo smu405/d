{
 "cells": [
  {
   "cell_type": "markdown",
   "metadata": {
    "slideshow": {
     "slide_type": "slide"
    }
   },
   "source": [
    "# 강의내용\n",
    "\n",
    "* 교재 7장 HFDP Ch7\n",
    "* Adapter, Facade (Behavioral Design Pattern)\n",
    "* 프로그래밍 'Turkey Adapter', 'Home Theater Facade'\n",
    "* TOC\n",
    "    * intro\n",
    "    * problems\n",
    "    * before\n",
    "    * design\n",
    "    * after\n",
    "    * case implementation\n",
    "    * exercise (by Sat to git: 50% for 1 day late deadline) \n",
    "        * case extension\n",
    "            * Enumerator Adapter\n",
    "        * new case -  Smart Home (beginStudy, endStudy)"
   ]
  },
  {
   "cell_type": "markdown",
   "metadata": {},
   "source": [
    "# 1. Adapter 패턴\n",
    "\n",
    "* Object wrapping. 서로 다른 인터페이스를 일치시킴.\n",
    "    * \"a bridge between two incompatible interfaces\"\n",
    "    * p.243 서로 다른 인터페이스를 동일하게 변환\n",
    "    incompatible interface -> \"converts the interface of a class into another interface that clients expect.\"\n",
    "    * 전기 플러그 (p.236)\n",
    "        * 서로 다른 플러그 (유럽, 미국)의 경우, adapter를 사용.\n",
    "    * command pattern과 비교 - behavioral pattern\n",
    "        * legacy code를 변경하지 않고 그대로 사용할 경우"
   ]
  },
  {
   "cell_type": "markdown",
   "metadata": {},
   "source": [
    "* cases\n",
    "    * HFDP Duck, Turkey\n",
    "    * enumerators (p.248) vs iterators\n",
    "        * enumerators\n",
    "            * hasMoreElements()\n",
    "            * nextElement()\n",
    "        * iterators (p.248)\n",
    "            * hasNext()\n",
    "            * next()\n",
    "            * remove()\n",
    "    * Patterns in java\n",
    "        * Arrays asList\n",
    "        * 자바 KeyAdapter, MouseAdpater는 GoF Adapter패턴을 사용하지 않는다."
   ]
  },
  {
   "cell_type": "markdown",
   "metadata": {
    "slideshow": {
     "slide_type": "slide"
    }
   },
   "source": [
    "* 디자인패턴 요소\n",
    "\n",
    "요소 | 설명\n",
    "---|---\n",
    "name | Adapter\n",
    "problem | 사용객체의 API가 서로 다름.\n",
    "solution | 함수를 변환하는 객체를 중간에 넣음.\n",
    "consequence | 변경 최소화."
   ]
  },
  {
   "cell_type": "markdown",
   "metadata": {},
   "source": [
    "## Facade 패턴\n",
    "\n",
    "* 복잡한 시스템의 관문 \"a unified interface to a set of interface in a subsystem\" (p.264)\n",
    "* Adapter패턴과 유사하지만, 다형성을 사용하지 않음.\n",
    "* case\n",
    "    * use case controller\n",
    "    * 메뉴 - 여러 기능을 호출\n",
    "    * home theater\n",
    "\n",
    "패턴 | 차이\n",
    "---|---\n",
    "Adapter | 서로 다른 인터페이스 일치, **다형적**polymorphic 호출 가능.\n",
    "Facade | 단순한 인터페이스 제공, 다형적 호출 사용하지 않음.\n"
   ]
  },
  {
   "cell_type": "markdown",
   "metadata": {
    "slideshow": {
     "slide_type": "slide"
    }
   },
   "source": [
    "# 2. 문제\n",
    "\n",
    "* 사용하려는 객체의 API가 서로 다름.\n",
    "* Adapter는 다형성을 사용하기 위해 인터페이스를 동일하게, Facade는 복잡한 인터페이스를 단순하게."
   ]
  },
  {
   "cell_type": "code",
   "execution_count": 1,
   "metadata": {
    "collapsed": false
   },
   "outputs": [
    {
     "name": "stdout",
     "output_type": "stream",
     "text": [
      "/Users/media/Code/git/sd/lib\n",
      "The environment variable GRAPHVIZ_DOT has been set to /opt/local/bin/dot\n",
      "Dot executable is /opt/local/bin/dot\n",
      "Dot version: dot - graphviz version 2.38.0 (20140413.2041)\n",
      "Installation seems OK. File generation OK\n"
     ]
    }
   ],
   "source": [
    "import os\n",
    "import glob\n",
    "\n",
    "mywd=%pwd\n",
    "myplantdir=os.path.join(mywd,'lib')\n",
    "mydotdir=!which dot\n",
    "mydot=mydotdir[0]\n",
    "# mydot=\"C:\\\\Program Files (x86)\\\\Graphviz2.38\\\\bin\\\\dot.exe\"\n",
    "\n",
    "# plantuml.jar파일이 존재하는지 확인한후, 테스트\n",
    "%cd {myplantdir}\n",
    "glob.glob(r'./*.jar')\n",
    "# dot 실행파일이 저장된 곳을 인식 못하는 경우, Python명령어를 이용해 환경변수를 설정할 수 있다.\n",
    "os.environ['GRAPHVIZ_DOT']=mydot\n",
    "# 리눅스 예: 앞 느낌표는 쉘 명령어. {myplantdir}는 쉘에서 변수값을 읽어오는 것.\n",
    "!java -jar {myplantdir}/plantuml.jar -testdot"
   ]
  },
  {
   "cell_type": "code",
   "execution_count": 2,
   "metadata": {
    "collapsed": false,
    "slideshow": {
     "slide_type": "slide"
    }
   },
   "outputs": [
    {
     "name": "stdout",
     "output_type": "stream",
     "text": [
      "Installed plantuml_magics.py. To use it, type:\n",
      "  %load_ext plantuml_magics\n"
     ]
    }
   ],
   "source": [
    "%install_ext https://raw.githubusercontent.com/sberke/ipython-plantuml/master/plantuml_magics.py"
   ]
  },
  {
   "cell_type": "code",
   "execution_count": 3,
   "metadata": {
    "collapsed": false,
    "slideshow": {
     "slide_type": "slide"
    }
   },
   "outputs": [],
   "source": [
    "%load_ext plantuml_magics"
   ]
  },
  {
   "cell_type": "markdown",
   "metadata": {
    "slideshow": {
     "slide_type": "slide"
    }
   },
   "source": [
    "# 3. before\n",
    "\n",
    "## 3.1 Adapter\n",
    "\n",
    "* Duck과 Turkey의 인터페이스가 서로 다름.\n",
    "* 사용객체, API가 서로 다름\n",
    "    * Duck - quack()\n",
    "    * Turkey - gobble()\n",
    "\n",
    "## 3.2 Facade\n",
    "\n",
    "* 스마트 홈 가전제품, 여러 기기의 인터페이스가 달라 통제하기 어려움."
   ]
  },
  {
   "cell_type": "code",
   "execution_count": 11,
   "metadata": {
    "collapsed": false,
    "slideshow": {
     "slide_type": "slide"
    }
   },
   "outputs": [
    {
     "data": {
      "image/svg+xml": [
       "<svg height=\"325px\" style=\"width:250px;height:325px;\" version=\"1.1\" viewBox=\"0 0 250 325\" width=\"250px\" xmlns=\"http://www.w3.org/2000/svg\" xmlns:xlink=\"http://www.w3.org/1999/xlink\"><defs><filter height=\"300%\" id=\"f1\" width=\"300%\" x=\"-1\" y=\"-1\"><feGaussianBlur result=\"blurOut\" stdDeviation=\"2.0\"/><feColorMatrix in=\"blurOut\" result=\"blurOut2\" type=\"matrix\" values=\"0 0 0 0 0 0 0 0 0 0 0 0 0 0 0 0 0 0 .4 0\"/><feOffset dx=\"4.0\" dy=\"4.0\" in=\"blurOut2\" result=\"blurOut3\"/><feBlend in=\"SourceGraphic\" in2=\"blurOut3\" mode=\"normal\"/></filter></defs><g><rect fill=\"#FEFECE\" filter=\"url(#f1)\" height=\"73.9102\" style=\"stroke: #A80036; stroke-width: 1.5;\" width=\"92\" x=\"12\" y=\"8\"/><ellipse cx=\"40.95\" cy=\"24\" fill=\"#B4A7E5\" rx=\"11\" ry=\"11\" style=\"stroke: #A80036; stroke-width: 1.0;\"/><path d=\"M36.8777,19.7651 L36.8777,17.6069 L44.2571,17.6069 L44.2571,19.7651 L41.7918,19.7651 L41.7918,27.8418 L44.2571,27.8418 L44.2571,30 L36.8777,30 L36.8777,27.8418 L39.3431,27.8418 L39.3431,19.7651 Z \"/><text fill=\"#000000\" font-family=\"sans-serif\" font-size=\"12\" font-style=\"italic\" lengthAdjust=\"spacingAndGlyphs\" textLength=\"29\" x=\"58.05\" y=\"28.5352\">Duck</text><line style=\"stroke: #A80036; stroke-width: 1.5;\" x1=\"13\" x2=\"103\" y1=\"40\" y2=\"40\"/><line style=\"stroke: #A80036; stroke-width: 1.5;\" x1=\"13\" x2=\"103\" y1=\"48\" y2=\"48\"/><ellipse cx=\"23\" cy=\"59.9775\" fill=\"#84BE84\" rx=\"3\" ry=\"3\" style=\"stroke: #038048; stroke-width: 1.0;\"/><text fill=\"#000000\" font-family=\"sans-serif\" font-size=\"11\" lengthAdjust=\"spacingAndGlyphs\" textLength=\"66\" x=\"32\" y=\"62.6348\">quack():void</text><ellipse cx=\"23\" cy=\"72.9326\" fill=\"#84BE84\" rx=\"3\" ry=\"3\" style=\"stroke: #038048; stroke-width: 1.0;\"/><text fill=\"#000000\" font-family=\"sans-serif\" font-size=\"11\" lengthAdjust=\"spacingAndGlyphs\" textLength=\"47\" x=\"32\" y=\"75.5898\">fly():void</text><rect fill=\"#FEFECE\" filter=\"url(#f1)\" height=\"73.9102\" style=\"stroke: #A80036; stroke-width: 1.5;\" width=\"97\" x=\"144.5\" y=\"8\"/><ellipse cx=\"170.75\" cy=\"24\" fill=\"#B4A7E5\" rx=\"11\" ry=\"11\" style=\"stroke: #A80036; stroke-width: 1.0;\"/><path d=\"M166.6777,19.7651 L166.6777,17.6069 L174.0571,17.6069 L174.0571,19.7651 L171.5918,19.7651 L171.5918,27.8418 L174.0571,27.8418 L174.0571,30 L166.6777,30 L166.6777,27.8418 L169.1431,27.8418 L169.1431,19.7651 Z \"/><text fill=\"#000000\" font-family=\"sans-serif\" font-size=\"12\" font-style=\"italic\" lengthAdjust=\"spacingAndGlyphs\" textLength=\"40\" x=\"187.25\" y=\"28.5352\">Turkey</text><line style=\"stroke: #A80036; stroke-width: 1.5;\" x1=\"145.5\" x2=\"240.5\" y1=\"40\" y2=\"40\"/><line style=\"stroke: #A80036; stroke-width: 1.5;\" x1=\"145.5\" x2=\"240.5\" y1=\"48\" y2=\"48\"/><ellipse cx=\"155.5\" cy=\"59.9775\" fill=\"#84BE84\" rx=\"3\" ry=\"3\" style=\"stroke: #038048; stroke-width: 1.0;\"/><text fill=\"#000000\" font-family=\"sans-serif\" font-size=\"11\" lengthAdjust=\"spacingAndGlyphs\" textLength=\"71\" x=\"164.5\" y=\"62.6348\">gobble():void</text><ellipse cx=\"155.5\" cy=\"72.9326\" fill=\"#84BE84\" rx=\"3\" ry=\"3\" style=\"stroke: #038048; stroke-width: 1.0;\"/><text fill=\"#000000\" font-family=\"sans-serif\" font-size=\"11\" lengthAdjust=\"spacingAndGlyphs\" textLength=\"47\" x=\"164.5\" y=\"75.5898\">fly():void</text><rect fill=\"#FEFECE\" filter=\"url(#f1)\" height=\"48\" style=\"stroke: #A80036; stroke-width: 1.5;\" width=\"104\" x=\"6\" y=\"143\"/><ellipse cx=\"21\" cy=\"159\" fill=\"#ADD1B2\" rx=\"11\" ry=\"11\" style=\"stroke: #A80036; stroke-width: 1.0;\"/><path d=\"M23.9731,164.6431 Q23.3921,164.9419 22.7529,165.0913 Q22.1138,165.2407 21.4082,165.2407 Q18.9014,165.2407 17.5815,163.5889 Q16.2617,161.937 16.2617,158.8159 Q16.2617,155.6865 17.5815,154.0347 Q18.9014,152.3828 21.4082,152.3828 Q22.1138,152.3828 22.7612,152.5322 Q23.4087,152.6816 23.9731,152.9805 L23.9731,155.7031 Q23.3423,155.1221 22.7488,154.8523 Q22.1553,154.5825 21.5244,154.5825 Q20.1797,154.5825 19.4949,155.6492 Q18.8101,156.7158 18.8101,158.8159 Q18.8101,160.9077 19.4949,161.9744 Q20.1797,163.041 21.5244,163.041 Q22.1553,163.041 22.7488,162.7712 Q23.3423,162.5015 23.9731,161.9204 Z \"/><text fill=\"#000000\" font-family=\"sans-serif\" font-size=\"12\" lengthAdjust=\"spacingAndGlyphs\" textLength=\"72\" x=\"35\" y=\"163.5352\">MallardDuck</text><line style=\"stroke: #A80036; stroke-width: 1.5;\" x1=\"7\" x2=\"109\" y1=\"175\" y2=\"175\"/><line style=\"stroke: #A80036; stroke-width: 1.5;\" x1=\"7\" x2=\"109\" y1=\"183\" y2=\"183\"/><rect fill=\"#FEFECE\" filter=\"url(#f1)\" height=\"48\" style=\"stroke: #A80036; stroke-width: 1.5;\" width=\"96\" x=\"145\" y=\"143\"/><ellipse cx=\"160\" cy=\"159\" fill=\"#ADD1B2\" rx=\"11\" ry=\"11\" style=\"stroke: #A80036; stroke-width: 1.0;\"/><path d=\"M162.9731,164.6431 Q162.3921,164.9419 161.7529,165.0913 Q161.1138,165.2407 160.4082,165.2407 Q157.9014,165.2407 156.5815,163.5889 Q155.2617,161.937 155.2617,158.8159 Q155.2617,155.6865 156.5815,154.0347 Q157.9014,152.3828 160.4082,152.3828 Q161.1138,152.3828 161.7612,152.5322 Q162.4087,152.6816 162.9731,152.9805 L162.9731,155.7031 Q162.3423,155.1221 161.7488,154.8523 Q161.1553,154.5825 160.5244,154.5825 Q159.1797,154.5825 158.4949,155.6492 Q157.8101,156.7158 157.8101,158.8159 Q157.8101,160.9077 158.4949,161.9744 Q159.1797,163.041 160.5244,163.041 Q161.1553,163.041 161.7488,162.7712 Q162.3423,162.5015 162.9731,161.9204 Z \"/><text fill=\"#000000\" font-family=\"sans-serif\" font-size=\"12\" lengthAdjust=\"spacingAndGlyphs\" textLength=\"64\" x=\"174\" y=\"163.5352\">WildTurkey</text><line style=\"stroke: #A80036; stroke-width: 1.5;\" x1=\"146\" x2=\"240\" y1=\"175\" y2=\"175\"/><line style=\"stroke: #A80036; stroke-width: 1.5;\" x1=\"146\" x2=\"240\" y1=\"183\" y2=\"183\"/><rect fill=\"#FEFECE\" filter=\"url(#f1)\" height=\"48\" style=\"stroke: #A80036; stroke-width: 1.5;\" width=\"64\" x=\"99\" y=\"268\"/><ellipse cx=\"114\" cy=\"284\" fill=\"#ADD1B2\" rx=\"11\" ry=\"11\" style=\"stroke: #A80036; stroke-width: 1.0;\"/><path d=\"M116.9731,289.6431 Q116.3921,289.9419 115.7529,290.0913 Q115.1138,290.2407 114.4082,290.2407 Q111.9014,290.2407 110.5815,288.5889 Q109.2617,286.937 109.2617,283.8159 Q109.2617,280.6865 110.5815,279.0347 Q111.9014,277.3828 114.4082,277.3828 Q115.1138,277.3828 115.7612,277.5322 Q116.4087,277.6816 116.9731,277.9805 L116.9731,280.7031 Q116.3423,280.1221 115.7488,279.8523 Q115.1553,279.5825 114.5244,279.5825 Q113.1797,279.5825 112.4949,280.6492 Q111.8101,281.7158 111.8101,283.8159 Q111.8101,285.9077 112.4949,286.9744 Q113.1797,288.041 114.5244,288.041 Q115.1553,288.041 115.7488,287.7712 Q116.3423,287.5015 116.9731,286.9204 Z \"/><text fill=\"#000000\" font-family=\"sans-serif\" font-size=\"12\" lengthAdjust=\"spacingAndGlyphs\" textLength=\"32\" x=\"128\" y=\"288.5352\">Client</text><line style=\"stroke: #A80036; stroke-width: 1.5;\" x1=\"100\" x2=\"162\" y1=\"300\" y2=\"300\"/><line style=\"stroke: #A80036; stroke-width: 1.5;\" x1=\"100\" x2=\"162\" y1=\"308\" y2=\"308\"/><path d=\"M58,102.399 C58,116.714 58,131.303 58,142.892 \" fill=\"none\" style=\"stroke: #A80036; stroke-width: 1.0; stroke-dasharray: 7.0,7.0;\"/><polygon fill=\"none\" points=\"51.0001,102.004,58,82.004,65.0001,102.004,51.0001,102.004\" style=\"stroke: #A80036; stroke-width: 1.0;\"/><path d=\"M193,102.399 C193,116.714 193,131.303 193,142.892 \" fill=\"none\" style=\"stroke: #A80036; stroke-width: 1.0; stroke-dasharray: 7.0,7.0;\"/><polygon fill=\"none\" points=\"186,102.004,193,82.004,200,102.004,186,102.004\" style=\"stroke: #A80036; stroke-width: 1.0;\"/><path d=\"M74.4126,195.654 C87.3456,217.4453 105.1653,247.4703 117.331,267.9684 \" fill=\"none\" style=\"stroke: #A80036; stroke-width: 1.0;\"/><polygon fill=\"#A80036\" points=\"71.7307,191.135,72.8836,200.9162,74.2823,195.4349,79.7635,196.8336,71.7307,191.135\" style=\"stroke: #A80036; stroke-width: 1.0;\"/><text fill=\"#000000\" font-family=\"sans-serif\" font-size=\"13\" lengthAdjust=\"spacingAndGlyphs\" textLength=\"46\" x=\"100\" y=\"234.5684\">quack()</text><path d=\"M179.061,195.654 C168.076,217.4453 152.942,247.4703 142.609,267.9684 \" fill=\"none\" style=\"stroke: #A80036; stroke-width: 1.0;\"/><polygon fill=\"#A80036\" points=\"181.338,191.135,173.7154,197.3717,179.0877,195.6,180.8594,200.9722,181.338,191.135\" style=\"stroke: #A80036; stroke-width: 1.0;\"/><text fill=\"#000000\" font-family=\"sans-serif\" font-size=\"13\" lengthAdjust=\"spacingAndGlyphs\" textLength=\"51\" x=\"167\" y=\"234.5684\">gobble()</text></g></svg>"
      ],
      "text/plain": [
       "<IPython.core.display.SVG object>"
      ]
     },
     "execution_count": 11,
     "metadata": {},
     "output_type": "execute_result"
    }
   ],
   "source": [
    "%%plantuml\n",
    "@startuml\n",
    "interface Duck {\n",
    "    +quack():void\n",
    "    +fly():void\n",
    "}\n",
    "interface Turkey {\n",
    "    +gobble():void\n",
    "    +fly():void\n",
    "}\n",
    "Duck <|.. MallardDuck\n",
    "Turkey <|.. WildTurkey\n",
    "Client -up-> MallardDuck:quack()\n",
    "Client -up-> WildTurkey:gobble()\n",
    "@enduml"
   ]
  },
  {
   "cell_type": "code",
   "execution_count": 11,
   "metadata": {
    "collapsed": false,
    "slideshow": {
     "slide_type": "slide"
    }
   },
   "outputs": [
    {
     "data": {
      "image/svg+xml": [
       "<svg height=\"253px\" style=\"width:549px;height:253px;\" version=\"1.1\" viewBox=\"0 0 549 253\" width=\"549px\" xmlns=\"http://www.w3.org/2000/svg\" xmlns:xlink=\"http://www.w3.org/1999/xlink\"><defs><filter height=\"300%\" id=\"f1\" width=\"300%\" x=\"-1\" y=\"-1\"><feGaussianBlur result=\"blurOut\" stdDeviation=\"2.0\"/><feColorMatrix in=\"blurOut\" result=\"blurOut2\" type=\"matrix\" values=\"0 0 0 0 0 0 0 0 0 0 0 0 0 0 0 0 0 0 .4 0\"/><feOffset dx=\"4.0\" dy=\"4.0\" in=\"blurOut2\" result=\"blurOut3\"/><feBlend in=\"SourceGraphic\" in2=\"blurOut3\" mode=\"normal\"/></filter></defs><g><rect fill=\"#FEFECE\" filter=\"url(#f1)\" height=\"48\" style=\"stroke: #A80036; stroke-width: 1.5;\" width=\"84\" x=\"456.5\" y=\"71\"/><ellipse cx=\"471.5\" cy=\"87\" fill=\"#ADD1B2\" rx=\"11\" ry=\"11\" style=\"stroke: #A80036; stroke-width: 1.0;\"/><path d=\"M474.4731,92.6431 Q473.8921,92.9419 473.2529,93.0913 Q472.6138,93.2407 471.9082,93.2407 Q469.4014,93.2407 468.0815,91.5889 Q466.7617,89.937 466.7617,86.8159 Q466.7617,83.6865 468.0815,82.0347 Q469.4014,80.3828 471.9082,80.3828 Q472.6138,80.3828 473.2612,80.5322 Q473.9087,80.6816 474.4731,80.9805 L474.4731,83.7031 Q473.8423,83.1221 473.2488,82.8523 Q472.6553,82.5825 472.0244,82.5825 Q470.6797,82.5825 469.9949,83.6492 Q469.3101,84.7158 469.3101,86.8159 Q469.3101,88.9077 469.9949,89.9744 Q470.6797,91.041 472.0244,91.041 Q472.6553,91.041 473.2488,90.7712 Q473.8423,90.5015 474.4731,89.9204 Z \"/><text fill=\"#000000\" font-family=\"sans-serif\" font-size=\"12\" lengthAdjust=\"spacingAndGlyphs\" textLength=\"52\" x=\"485.5\" y=\"91.5352\">Amplifier</text><line style=\"stroke: #A80036; stroke-width: 1.5;\" x1=\"457.5\" x2=\"539.5\" y1=\"103\" y2=\"103\"/><line style=\"stroke: #A80036; stroke-width: 1.5;\" x1=\"457.5\" x2=\"539.5\" y1=\"111\" y2=\"111\"/><rect fill=\"#FEFECE\" filter=\"url(#f1)\" height=\"48\" style=\"stroke: #A80036; stroke-width: 1.5;\" width=\"64\" x=\"163.5\" y=\"71\"/><ellipse cx=\"178.5\" cy=\"87\" fill=\"#ADD1B2\" rx=\"11\" ry=\"11\" style=\"stroke: #A80036; stroke-width: 1.0;\"/><path d=\"M181.4731,92.6431 Q180.8921,92.9419 180.2529,93.0913 Q179.6138,93.2407 178.9082,93.2407 Q176.4014,93.2407 175.0815,91.5889 Q173.7617,89.937 173.7617,86.8159 Q173.7617,83.6865 175.0815,82.0347 Q176.4014,80.3828 178.9082,80.3828 Q179.6138,80.3828 180.2612,80.5322 Q180.9087,80.6816 181.4731,80.9805 L181.4731,83.7031 Q180.8423,83.1221 180.2488,82.8523 Q179.6553,82.5825 179.0244,82.5825 Q177.6797,82.5825 176.9949,83.6492 Q176.3101,84.7158 176.3101,86.8159 Q176.3101,88.9077 176.9949,89.9744 Q177.6797,91.041 179.0244,91.041 Q179.6553,91.041 180.2488,90.7712 Q180.8423,90.5015 181.4731,89.9204 Z \"/><text fill=\"#000000\" font-family=\"sans-serif\" font-size=\"12\" lengthAdjust=\"spacingAndGlyphs\" textLength=\"32\" x=\"192.5\" y=\"91.5352\">Client</text><line style=\"stroke: #A80036; stroke-width: 1.5;\" x1=\"164.5\" x2=\"226.5\" y1=\"103\" y2=\"103\"/><line style=\"stroke: #A80036; stroke-width: 1.5;\" x1=\"164.5\" x2=\"226.5\" y1=\"111\" y2=\"111\"/><rect fill=\"#FEFECE\" filter=\"url(#f1)\" height=\"48\" style=\"stroke: #A80036; stroke-width: 1.5;\" width=\"83\" x=\"6\" y=\"71\"/><ellipse cx=\"21\" cy=\"87\" fill=\"#ADD1B2\" rx=\"11\" ry=\"11\" style=\"stroke: #A80036; stroke-width: 1.0;\"/><path d=\"M23.9731,92.6431 Q23.3921,92.9419 22.7529,93.0913 Q22.1138,93.2407 21.4082,93.2407 Q18.9014,93.2407 17.5815,91.5889 Q16.2617,89.937 16.2617,86.8159 Q16.2617,83.6865 17.5815,82.0347 Q18.9014,80.3828 21.4082,80.3828 Q22.1138,80.3828 22.7612,80.5322 Q23.4087,80.6816 23.9731,80.9805 L23.9731,83.7031 Q23.3423,83.1221 22.7488,82.8523 Q22.1553,82.5825 21.5244,82.5825 Q20.1797,82.5825 19.4949,83.6492 Q18.8101,84.7158 18.8101,86.8159 Q18.8101,88.9077 19.4949,89.9744 Q20.1797,91.041 21.5244,91.041 Q22.1553,91.041 22.7488,90.7712 Q23.3423,90.5015 23.9731,89.9204 Z \"/><text fill=\"#000000\" font-family=\"sans-serif\" font-size=\"12\" lengthAdjust=\"spacingAndGlyphs\" textLength=\"51\" x=\"35\" y=\"91.5352\">CdPlayer</text><line style=\"stroke: #A80036; stroke-width: 1.5;\" x1=\"7\" x2=\"88\" y1=\"103\" y2=\"103\"/><line style=\"stroke: #A80036; stroke-width: 1.5;\" x1=\"7\" x2=\"88\" y1=\"111\" y2=\"111\"/><rect fill=\"#FEFECE\" filter=\"url(#f1)\" height=\"48\" style=\"stroke: #A80036; stroke-width: 1.5;\" width=\"70\" x=\"104.5\" y=\"196\"/><ellipse cx=\"119.5\" cy=\"212\" fill=\"#ADD1B2\" rx=\"11\" ry=\"11\" style=\"stroke: #A80036; stroke-width: 1.0;\"/><path d=\"M122.4731,217.6431 Q121.8921,217.9419 121.2529,218.0913 Q120.6138,218.2407 119.9082,218.2407 Q117.4014,218.2407 116.0815,216.5889 Q114.7617,214.937 114.7617,211.8159 Q114.7617,208.6865 116.0815,207.0347 Q117.4014,205.3828 119.9082,205.3828 Q120.6138,205.3828 121.2612,205.5322 Q121.9087,205.6816 122.4731,205.9805 L122.4731,208.7031 Q121.8423,208.1221 121.2488,207.8523 Q120.6553,207.5825 120.0244,207.5825 Q118.6797,207.5825 117.9949,208.6492 Q117.3101,209.7158 117.3101,211.8159 Q117.3101,213.9077 117.9949,214.9744 Q118.6797,216.041 120.0244,216.041 Q120.6553,216.041 121.2488,215.7712 Q121.8423,215.5015 122.4731,214.9204 Z \"/><text fill=\"#000000\" font-family=\"sans-serif\" font-size=\"12\" lengthAdjust=\"spacingAndGlyphs\" textLength=\"38\" x=\"133.5\" y=\"216.5352\">Screen</text><line style=\"stroke: #A80036; stroke-width: 1.5;\" x1=\"105.5\" x2=\"173.5\" y1=\"228\" y2=\"228\"/><line style=\"stroke: #A80036; stroke-width: 1.5;\" x1=\"105.5\" x2=\"173.5\" y1=\"236\" y2=\"236\"/><rect fill=\"#FEFECE\" filter=\"url(#f1)\" height=\"48\" style=\"stroke: #A80036; stroke-width: 1.5;\" width=\"84\" x=\"209.5\" y=\"196\"/><ellipse cx=\"224.5\" cy=\"212\" fill=\"#ADD1B2\" rx=\"11\" ry=\"11\" style=\"stroke: #A80036; stroke-width: 1.0;\"/><path d=\"M227.4731,217.6431 Q226.8921,217.9419 226.2529,218.0913 Q225.6138,218.2407 224.9082,218.2407 Q222.4014,218.2407 221.0815,216.5889 Q219.7617,214.937 219.7617,211.8159 Q219.7617,208.6865 221.0815,207.0347 Q222.4014,205.3828 224.9082,205.3828 Q225.6138,205.3828 226.2612,205.5322 Q226.9087,205.6816 227.4731,205.9805 L227.4731,208.7031 Q226.8423,208.1221 226.2488,207.8523 Q225.6553,207.5825 225.0244,207.5825 Q223.6797,207.5825 222.9949,208.6492 Q222.3101,209.7158 222.3101,211.8159 Q222.3101,213.9077 222.9949,214.9744 Q223.6797,216.041 225.0244,216.041 Q225.6553,216.041 226.2488,215.7712 Q226.8423,215.5015 227.4731,214.9204 Z \"/><text fill=\"#000000\" font-family=\"sans-serif\" font-size=\"12\" lengthAdjust=\"spacingAndGlyphs\" textLength=\"52\" x=\"238.5\" y=\"216.5352\">Projector</text><line style=\"stroke: #A80036; stroke-width: 1.5;\" x1=\"210.5\" x2=\"292.5\" y1=\"228\" y2=\"228\"/><line style=\"stroke: #A80036; stroke-width: 1.5;\" x1=\"210.5\" x2=\"292.5\" y1=\"236\" y2=\"236\"/><rect fill=\"#FEFECE\" filter=\"url(#f1)\" height=\"48\" style=\"stroke: #A80036; stroke-width: 1.5;\" width=\"66\" x=\"355.5\" y=\"71\"/><ellipse cx=\"370.5\" cy=\"87\" fill=\"#ADD1B2\" rx=\"11\" ry=\"11\" style=\"stroke: #A80036; stroke-width: 1.0;\"/><path d=\"M373.4731,92.6431 Q372.8921,92.9419 372.2529,93.0913 Q371.6138,93.2407 370.9082,93.2407 Q368.4014,93.2407 367.0815,91.5889 Q365.7617,89.937 365.7617,86.8159 Q365.7617,83.6865 367.0815,82.0347 Q368.4014,80.3828 370.9082,80.3828 Q371.6138,80.3828 372.2612,80.5322 Q372.9087,80.6816 373.4731,80.9805 L373.4731,83.7031 Q372.8423,83.1221 372.2488,82.8523 Q371.6553,82.5825 371.0244,82.5825 Q369.6797,82.5825 368.9949,83.6492 Q368.3101,84.7158 368.3101,86.8159 Q368.3101,88.9077 368.9949,89.9744 Q369.6797,91.041 371.0244,91.041 Q371.6553,91.041 372.2488,90.7712 Q372.8423,90.5015 373.4731,89.9204 Z \"/><text fill=\"#000000\" font-family=\"sans-serif\" font-size=\"12\" lengthAdjust=\"spacingAndGlyphs\" textLength=\"34\" x=\"384.5\" y=\"91.5352\">Tuner</text><line style=\"stroke: #A80036; stroke-width: 1.5;\" x1=\"356.5\" x2=\"420.5\" y1=\"103\" y2=\"103\"/><line style=\"stroke: #A80036; stroke-width: 1.5;\" x1=\"356.5\" x2=\"420.5\" y1=\"111\" y2=\"111\"/><path d=\"M227.727,75.424 C253.841,60.769 292.141,41.94 328.5,34 C375.262,23.788 426.701,47.442 460.613,68.207 \" fill=\"none\" style=\"stroke: #A80036; stroke-width: 1.0;\"/><polygon fill=\"#A80036\" points=\"465.072,70.983,459.5444,62.8315,460.827,68.3411,455.3174,69.6236,465.072,70.983\" style=\"stroke: #A80036; stroke-width: 1.0;\"/><text fill=\"#000000\" font-family=\"sans-serif\" font-size=\"13\" lengthAdjust=\"spacingAndGlyphs\" textLength=\"24\" x=\"329.5\" y=\"37.5684\">on()</text><path d=\"M94.1372,95 C116.564,95 142.894,95 163.097,95 \" fill=\"none\" style=\"stroke: #A80036; stroke-width: 1.0;\"/><polygon fill=\"#A80036\" points=\"89.1201,95,98.1201,99,94.1201,95,98.1201,91,89.1201,95\" style=\"stroke: #A80036; stroke-width: 1.0;\"/><text fill=\"#000000\" font-family=\"sans-serif\" font-size=\"13\" lengthAdjust=\"spacingAndGlyphs\" textLength=\"38\" x=\"107.25\" y=\"88.5684\">eject()</text><path d=\"M180.645,119.238 C175.178,128.32 169.183,138.952 164.5,149 C158.244,162.4237 152.572,177.8799 148.219,190.8484 \" fill=\"none\" style=\"stroke: #A80036; stroke-width: 1.0;\"/><polygon fill=\"#A80036\" points=\"146.557,195.8708,153.1821,188.5832,148.1279,191.124,145.5872,186.0698,146.557,195.8708\" style=\"stroke: #A80036; stroke-width: 1.0;\"/><text fill=\"#000000\" font-family=\"sans-serif\" font-size=\"13\" lengthAdjust=\"spacingAndGlyphs\" textLength=\"42\" x=\"165.5\" y=\"162.5684\">down()</text><path d=\"M206.033,119.135 C215.341,139.58 228.937,169.4415 238.835,191.1825 \" fill=\"none\" style=\"stroke: #A80036; stroke-width: 1.0;\"/><polygon fill=\"#A80036\" points=\"241.014,195.9684,240.9246,186.1199,238.9419,191.418,233.6439,189.4352,241.014,195.9684\" style=\"stroke: #A80036; stroke-width: 1.0;\"/><text fill=\"#000000\" font-family=\"sans-serif\" font-size=\"13\" lengthAdjust=\"spacingAndGlyphs\" textLength=\"112\" x=\"228.5\" y=\"162.5684\">wideScreenMode()</text><path d=\"M227.804,95 C261.556,95 314.484,95 350.29,95 \" fill=\"none\" style=\"stroke: #A80036; stroke-width: 1.0;\"/><polygon fill=\"#A80036\" points=\"355.444,95,346.444,91,350.444,95,346.444,99,355.444,95\" style=\"stroke: #A80036; stroke-width: 1.0;\"/><text fill=\"#000000\" font-family=\"sans-serif\" font-size=\"13\" lengthAdjust=\"spacingAndGlyphs\" textLength=\"91\" x=\"246\" y=\"88.5684\">setFrequency()</text></g></svg>"
      ],
      "text/plain": [
       "<IPython.core.display.SVG object>"
      ]
     },
     "execution_count": 11,
     "metadata": {},
     "output_type": "execute_result"
    }
   ],
   "source": [
    "%%plantuml\n",
    "@startuml\n",
    "class Amplifier\n",
    "Client -right-> Amplifier:on()\n",
    "Client -left-> CdPlayer:eject()\n",
    "Client -down-> Screen:down()\n",
    "Client -down-> Projector:wideScreenMode()\n",
    "Client -> Tuner:setFrequency()\n",
    "@enduml"
   ]
  },
  {
   "cell_type": "markdown",
   "metadata": {
    "slideshow": {
     "slide_type": "slide"
    }
   },
   "source": [
    "# 4. 설계\n",
    "\n",
    "* Adapter\n",
    "    * Target과 Adaptee의 인터페이스를 변환함.\n",
    "    * Client는 Target을 사용하는 것과 동일한 사용방법. 실제는 Adaptee가 호출됨.\n",
    "    * 대안 p.248\n",
    "        * 다중상속 을 이용 -> Class Adapter\n",
    "        * 상속 대신 연관을 이용 -> 인터페이스를 구현한 Object Adpater\n",
    "* Facade\n",
    "    * Principle of Least Knowldge\n",
    "    * 잘 모르는 친구와 가까이 지내지 않아 -> 여러 클래스를 사용하지 않음 (의존성을 적게)\n",
    "    * Facade를 통하지 않으면 복잡한 시스템 안의 클래스를 개별적으로 사용."
   ]
  },
  {
   "cell_type": "code",
   "execution_count": 15,
   "metadata": {
    "collapsed": false,
    "slideshow": {
     "slide_type": "slide"
    }
   },
   "outputs": [
    {
     "data": {
      "image/svg+xml": [
       "<svg height=\"198px\" style=\"width:353px;height:198px;\" version=\"1.1\" viewBox=\"0 0 353 198\" width=\"353px\" xmlns=\"http://www.w3.org/2000/svg\" xmlns:xlink=\"http://www.w3.org/1999/xlink\"><defs><filter height=\"300%\" id=\"f1\" width=\"300%\" x=\"-1\" y=\"-1\"><feGaussianBlur result=\"blurOut\" stdDeviation=\"2.0\"/><feColorMatrix in=\"blurOut\" result=\"blurOut2\" type=\"matrix\" values=\"0 0 0 0 0 0 0 0 0 0 0 0 0 0 0 0 0 0 .4 0\"/><feOffset dx=\"4.0\" dy=\"4.0\" in=\"blurOut2\" result=\"blurOut3\"/><feBlend in=\"SourceGraphic\" in2=\"blurOut3\" mode=\"normal\"/></filter></defs><g><rect fill=\"#FEFECE\" filter=\"url(#f1)\" height=\"48\" style=\"stroke: #A80036; stroke-width: 1.5;\" width=\"64\" x=\"6\" y=\"14.5\"/><ellipse cx=\"21\" cy=\"30.5\" fill=\"#ADD1B2\" rx=\"11\" ry=\"11\" style=\"stroke: #A80036; stroke-width: 1.0;\"/><path d=\"M23.9731,36.1431 Q23.3921,36.4419 22.7529,36.5913 Q22.1138,36.7407 21.4082,36.7407 Q18.9014,36.7407 17.5815,35.0889 Q16.2617,33.437 16.2617,30.3159 Q16.2617,27.1865 17.5815,25.5347 Q18.9014,23.8828 21.4082,23.8828 Q22.1138,23.8828 22.7612,24.0322 Q23.4087,24.1816 23.9731,24.4805 L23.9731,27.2031 Q23.3423,26.6221 22.7488,26.3523 Q22.1553,26.0825 21.5244,26.0825 Q20.1797,26.0825 19.4949,27.1492 Q18.8101,28.2158 18.8101,30.3159 Q18.8101,32.4077 19.4949,33.4744 Q20.1797,34.541 21.5244,34.541 Q22.1553,34.541 22.7488,34.2712 Q23.3423,34.0015 23.9731,33.4204 Z \"/><text fill=\"#000000\" font-family=\"sans-serif\" font-size=\"12\" lengthAdjust=\"spacingAndGlyphs\" textLength=\"32\" x=\"35\" y=\"35.0352\">Client</text><line style=\"stroke: #A80036; stroke-width: 1.5;\" x1=\"7\" x2=\"69\" y1=\"46.5\" y2=\"46.5\"/><line style=\"stroke: #A80036; stroke-width: 1.5;\" x1=\"7\" x2=\"69\" y1=\"54.5\" y2=\"54.5\"/><rect fill=\"#FEFECE\" filter=\"url(#f1)\" height=\"60.9551\" style=\"stroke: #A80036; stroke-width: 1.5;\" width=\"75\" x=\"105.5\" y=\"8\"/><ellipse cx=\"122.75\" cy=\"24\" fill=\"#B4A7E5\" rx=\"11\" ry=\"11\" style=\"stroke: #A80036; stroke-width: 1.0;\"/><path d=\"M118.6777,19.7651 L118.6777,17.6069 L126.0571,17.6069 L126.0571,19.7651 L123.5918,19.7651 L123.5918,27.8418 L126.0571,27.8418 L126.0571,30 L118.6777,30 L118.6777,27.8418 L121.1431,27.8418 L121.1431,19.7651 Z \"/><text fill=\"#000000\" font-family=\"sans-serif\" font-size=\"12\" font-style=\"italic\" lengthAdjust=\"spacingAndGlyphs\" textLength=\"38\" x=\"137.25\" y=\"28.5352\">Target</text><line style=\"stroke: #A80036; stroke-width: 1.5;\" x1=\"106.5\" x2=\"179.5\" y1=\"40\" y2=\"40\"/><line style=\"stroke: #A80036; stroke-width: 1.5;\" x1=\"106.5\" x2=\"179.5\" y1=\"48\" y2=\"48\"/><ellipse cx=\"116.5\" cy=\"59.9775\" fill=\"#84BE84\" rx=\"3\" ry=\"3\" style=\"stroke: #038048; stroke-width: 1.0;\"/><text fill=\"#000000\" font-family=\"sans-serif\" font-size=\"11\" lengthAdjust=\"spacingAndGlyphs\" textLength=\"49\" x=\"125.5\" y=\"62.6348\">request()</text><rect fill=\"#FEFECE\" filter=\"url(#f1)\" height=\"48\" style=\"stroke: #A80036; stroke-width: 1.5;\" width=\"79\" x=\"103.5\" y=\"135.5\"/><ellipse cx=\"118.5\" cy=\"151.5\" fill=\"#ADD1B2\" rx=\"11\" ry=\"11\" style=\"stroke: #A80036; stroke-width: 1.0;\"/><path d=\"M121.4731,157.1431 Q120.8921,157.4419 120.2529,157.5913 Q119.6138,157.7407 118.9082,157.7407 Q116.4014,157.7407 115.0815,156.0889 Q113.7617,154.437 113.7617,151.3159 Q113.7617,148.1865 115.0815,146.5347 Q116.4014,144.8828 118.9082,144.8828 Q119.6138,144.8828 120.2612,145.0322 Q120.9087,145.1816 121.4731,145.4805 L121.4731,148.2031 Q120.8423,147.6221 120.2488,147.3523 Q119.6553,147.0825 119.0244,147.0825 Q117.6797,147.0825 116.9949,148.1492 Q116.3101,149.2158 116.3101,151.3159 Q116.3101,153.4077 116.9949,154.4744 Q117.6797,155.541 119.0244,155.541 Q119.6553,155.541 120.2488,155.2712 Q120.8423,155.0015 121.4731,154.4204 Z \"/><text fill=\"#000000\" font-family=\"sans-serif\" font-size=\"12\" lengthAdjust=\"spacingAndGlyphs\" textLength=\"47\" x=\"132.5\" y=\"156.0352\">Adapter</text><line style=\"stroke: #A80036; stroke-width: 1.5;\" x1=\"104.5\" x2=\"181.5\" y1=\"167.5\" y2=\"167.5\"/><line style=\"stroke: #A80036; stroke-width: 1.5;\" x1=\"104.5\" x2=\"181.5\" y1=\"175.5\" y2=\"175.5\"/><rect fill=\"#FEFECE\" filter=\"url(#f1)\" height=\"60.9551\" style=\"stroke: #A80036; stroke-width: 1.5;\" width=\"127\" x=\"217.5\" y=\"129\"/><ellipse cx=\"253.2\" cy=\"145\" fill=\"#ADD1B2\" rx=\"11\" ry=\"11\" style=\"stroke: #A80036; stroke-width: 1.0;\"/><path d=\"M256.1731,150.6431 Q255.5921,150.9419 254.9529,151.0913 Q254.3138,151.2407 253.6082,151.2407 Q251.1014,151.2407 249.7815,149.5889 Q248.4617,147.937 248.4617,144.8159 Q248.4617,141.6865 249.7815,140.0347 Q251.1014,138.3828 253.6082,138.3828 Q254.3138,138.3828 254.9612,138.5322 Q255.6087,138.6816 256.1731,138.9805 L256.1731,141.7031 Q255.5423,141.1221 254.9488,140.8523 Q254.3553,140.5825 253.7244,140.5825 Q252.3797,140.5825 251.6949,141.6492 Q251.0101,142.7158 251.0101,144.8159 Q251.0101,146.9077 251.6949,147.9744 Q252.3797,149.041 253.7244,149.041 Q254.3553,149.041 254.9488,148.7712 Q255.5423,148.5015 256.1731,147.9204 Z \"/><text fill=\"#000000\" font-family=\"sans-serif\" font-size=\"12\" lengthAdjust=\"spacingAndGlyphs\" textLength=\"49\" x=\"271.8\" y=\"149.5352\">Adaptee</text><line style=\"stroke: #A80036; stroke-width: 1.5;\" x1=\"218.5\" x2=\"343.5\" y1=\"161\" y2=\"161\"/><line style=\"stroke: #A80036; stroke-width: 1.5;\" x1=\"218.5\" x2=\"343.5\" y1=\"169\" y2=\"169\"/><ellipse cx=\"228.5\" cy=\"180.9775\" fill=\"#84BE84\" rx=\"3\" ry=\"3\" style=\"stroke: #038048; stroke-width: 1.0;\"/><text fill=\"#000000\" font-family=\"sans-serif\" font-size=\"11\" lengthAdjust=\"spacingAndGlyphs\" textLength=\"101\" x=\"237.5\" y=\"183.6348\">requestOtherWay()</text><path d=\"M70.4023,38.5 C80.3034,38.5 90.2045,38.5 100.1056,38.5 \" fill=\"none\" style=\"stroke: #A80036; stroke-width: 1.0;\"/><polygon fill=\"#A80036\" points=\"105.2832,38.5,96.2832,34.5,100.2832,38.5,96.2832,42.5,105.2832,38.5\" style=\"stroke: #A80036; stroke-width: 1.0;\"/><path d=\"M143,89.34 C143,105.3734 143,122.3687 143,135.4994 \" fill=\"none\" style=\"stroke: #A80036; stroke-width: 1.0; stroke-dasharray: 7.0,7.0;\"/><polygon fill=\"none\" points=\"136,89.222,143,69.222,150,89.222,136,89.222\" style=\"stroke: #A80036; stroke-width: 1.0;\"/><path d=\"M182.621,159.5 C192.439,159.5 202.256,159.5 212.074,159.5 \" fill=\"none\" style=\"stroke: #A80036; stroke-width: 1.0;\"/><polygon fill=\"#A80036\" points=\"217.207,159.5,208.207,155.5,212.207,159.5,208.207,163.5,217.207,159.5\" style=\"stroke: #A80036; stroke-width: 1.0;\"/></g></svg>"
      ],
      "text/plain": [
       "<IPython.core.display.SVG object>"
      ]
     },
     "execution_count": 15,
     "metadata": {},
     "output_type": "execute_result"
    }
   ],
   "source": [
    "%%plantuml\n",
    "@startuml\n",
    "class Client\n",
    "interface Target {\n",
    "    +request()\n",
    "}\n",
    "class Adapter\n",
    "class Adaptee {\n",
    "    +requestOtherWay()\n",
    "}\n",
    "Client -> Target\n",
    "Target <|.. Adapter\n",
    "Adapter -right-> Adaptee\n",
    "@enduml"
   ]
  },
  {
   "cell_type": "code",
   "execution_count": 12,
   "metadata": {
    "collapsed": false,
    "slideshow": {
     "slide_type": "slide"
    }
   },
   "outputs": [
    {
     "data": {
      "image/svg+xml": [
       "<svg height=\"403px\" style=\"width:269px;height:403px;\" version=\"1.1\" viewBox=\"0 0 269 403\" width=\"269px\" xmlns=\"http://www.w3.org/2000/svg\" xmlns:xlink=\"http://www.w3.org/1999/xlink\"><defs><filter height=\"300%\" id=\"f1\" width=\"300%\" x=\"-1\" y=\"-1\"><feGaussianBlur result=\"blurOut\" stdDeviation=\"2.0\"/><feColorMatrix in=\"blurOut\" result=\"blurOut2\" type=\"matrix\" values=\"0 0 0 0 0 0 0 0 0 0 0 0 0 0 0 0 0 0 .4 0\"/><feOffset dx=\"4.0\" dy=\"4.0\" in=\"blurOut2\" result=\"blurOut3\"/><feBlend in=\"SourceGraphic\" in2=\"blurOut3\" mode=\"normal\"/></filter></defs><g><polygon fill=\"#FFFFFF\" filter=\"url(#f1)\" points=\"22,81,145,81,152,103.4883,262,103.4883,262,396,22,396,22,81\" style=\"stroke: #000000; stroke-width: 2.0;\"/><line style=\"stroke: #000000; stroke-width: 2.0;\" x1=\"22\" x2=\"152\" y1=\"103.4883\" y2=\"103.4883\"/><text fill=\"#000000\" font-family=\"sans-serif\" font-size=\"14\" font-weight=\"bold\" lengthAdjust=\"spacingAndGlyphs\" textLength=\"117\" x=\"26\" y=\"96.5352\">complex system</text><rect fill=\"#FEFECE\" filter=\"url(#f1)\" height=\"48\" style=\"stroke: #A80036; stroke-width: 1.5;\" width=\"46\" x=\"120\" y=\"116\"/><ellipse cx=\"135\" cy=\"132\" fill=\"#ADD1B2\" rx=\"11\" ry=\"11\" style=\"stroke: #A80036; stroke-width: 1.0;\"/><path d=\"M137.9731,137.6431 Q137.3921,137.9419 136.7529,138.0913 Q136.1138,138.2407 135.4082,138.2407 Q132.9014,138.2407 131.5815,136.5889 Q130.2617,134.937 130.2617,131.8159 Q130.2617,128.6865 131.5815,127.0347 Q132.9014,125.3828 135.4082,125.3828 Q136.1138,125.3828 136.7612,125.5322 Q137.4087,125.6816 137.9731,125.9805 L137.9731,128.7031 Q137.3423,128.1221 136.7488,127.8523 Q136.1553,127.5825 135.5244,127.5825 Q134.1797,127.5825 133.4949,128.6492 Q132.8101,129.7158 132.8101,131.8159 Q132.8101,133.9077 133.4949,134.9744 Q134.1797,136.041 135.5244,136.041 Q136.1553,136.041 136.7488,135.7712 Q137.3423,135.5015 137.9731,134.9204 Z \"/><text fill=\"#000000\" font-family=\"sans-serif\" font-size=\"12\" lengthAdjust=\"spacingAndGlyphs\" textLength=\"14\" x=\"149\" y=\"136.5352\">c1</text><line style=\"stroke: #A80036; stroke-width: 1.5;\" x1=\"121\" x2=\"165\" y1=\"148\" y2=\"148\"/><line style=\"stroke: #A80036; stroke-width: 1.5;\" x1=\"121\" x2=\"165\" y1=\"156\" y2=\"156\"/><rect fill=\"#FEFECE\" filter=\"url(#f1)\" height=\"48\" style=\"stroke: #A80036; stroke-width: 1.5;\" width=\"46\" x=\"38\" y=\"224\"/><ellipse cx=\"53\" cy=\"240\" fill=\"#ADD1B2\" rx=\"11\" ry=\"11\" style=\"stroke: #A80036; stroke-width: 1.0;\"/><path d=\"M55.9731,245.6431 Q55.3921,245.9419 54.7529,246.0913 Q54.1138,246.2407 53.4082,246.2407 Q50.9014,246.2407 49.5815,244.5889 Q48.2617,242.937 48.2617,239.8159 Q48.2617,236.6865 49.5815,235.0347 Q50.9014,233.3828 53.4082,233.3828 Q54.1138,233.3828 54.7612,233.5322 Q55.4087,233.6816 55.9731,233.9805 L55.9731,236.7031 Q55.3423,236.1221 54.7488,235.8523 Q54.1553,235.5825 53.5244,235.5825 Q52.1797,235.5825 51.4949,236.6492 Q50.8101,237.7158 50.8101,239.8159 Q50.8101,241.9077 51.4949,242.9744 Q52.1797,244.041 53.5244,244.041 Q54.1553,244.041 54.7488,243.7712 Q55.3423,243.5015 55.9731,242.9204 Z \"/><text fill=\"#000000\" font-family=\"sans-serif\" font-size=\"12\" lengthAdjust=\"spacingAndGlyphs\" textLength=\"14\" x=\"67\" y=\"244.5352\">c2</text><line style=\"stroke: #A80036; stroke-width: 1.5;\" x1=\"39\" x2=\"83\" y1=\"256\" y2=\"256\"/><line style=\"stroke: #A80036; stroke-width: 1.5;\" x1=\"39\" x2=\"83\" y1=\"264\" y2=\"264\"/><rect fill=\"#FEFECE\" filter=\"url(#f1)\" height=\"48\" style=\"stroke: #A80036; stroke-width: 1.5;\" width=\"46\" x=\"119\" y=\"224\"/><ellipse cx=\"134\" cy=\"240\" fill=\"#ADD1B2\" rx=\"11\" ry=\"11\" style=\"stroke: #A80036; stroke-width: 1.0;\"/><path d=\"M136.9731,245.6431 Q136.3921,245.9419 135.7529,246.0913 Q135.1138,246.2407 134.4082,246.2407 Q131.9014,246.2407 130.5815,244.5889 Q129.2617,242.937 129.2617,239.8159 Q129.2617,236.6865 130.5815,235.0347 Q131.9014,233.3828 134.4082,233.3828 Q135.1138,233.3828 135.7612,233.5322 Q136.4087,233.6816 136.9731,233.9805 L136.9731,236.7031 Q136.3423,236.1221 135.7488,235.8523 Q135.1553,235.5825 134.5244,235.5825 Q133.1797,235.5825 132.4949,236.6492 Q131.8101,237.7158 131.8101,239.8159 Q131.8101,241.9077 132.4949,242.9744 Q133.1797,244.041 134.5244,244.041 Q135.1553,244.041 135.7488,243.7712 Q136.3423,243.5015 136.9731,242.9204 Z \"/><text fill=\"#000000\" font-family=\"sans-serif\" font-size=\"12\" lengthAdjust=\"spacingAndGlyphs\" textLength=\"14\" x=\"148\" y=\"244.5352\">c3</text><line style=\"stroke: #A80036; stroke-width: 1.5;\" x1=\"120\" x2=\"164\" y1=\"256\" y2=\"256\"/><line style=\"stroke: #A80036; stroke-width: 1.5;\" x1=\"120\" x2=\"164\" y1=\"264\" y2=\"264\"/><rect fill=\"#FEFECE\" filter=\"url(#f1)\" height=\"48\" style=\"stroke: #A80036; stroke-width: 1.5;\" width=\"46\" x=\"119\" y=\"332\"/><ellipse cx=\"134\" cy=\"348\" fill=\"#ADD1B2\" rx=\"11\" ry=\"11\" style=\"stroke: #A80036; stroke-width: 1.0;\"/><path d=\"M136.9731,353.6431 Q136.3921,353.9419 135.7529,354.0913 Q135.1138,354.2407 134.4082,354.2407 Q131.9014,354.2407 130.5815,352.5889 Q129.2617,350.937 129.2617,347.8159 Q129.2617,344.6865 130.5815,343.0347 Q131.9014,341.3828 134.4082,341.3828 Q135.1138,341.3828 135.7612,341.5322 Q136.4087,341.6816 136.9731,341.9805 L136.9731,344.7031 Q136.3423,344.1221 135.7488,343.8523 Q135.1553,343.5825 134.5244,343.5825 Q133.1797,343.5825 132.4949,344.6492 Q131.8101,345.7158 131.8101,347.8159 Q131.8101,349.9077 132.4949,350.9744 Q133.1797,352.041 134.5244,352.041 Q135.1553,352.041 135.7488,351.7712 Q136.3423,351.5015 136.9731,350.9204 Z \"/><text fill=\"#000000\" font-family=\"sans-serif\" font-size=\"12\" lengthAdjust=\"spacingAndGlyphs\" textLength=\"14\" x=\"148\" y=\"352.5352\">c4</text><line style=\"stroke: #A80036; stroke-width: 1.5;\" x1=\"120\" x2=\"164\" y1=\"364\" y2=\"364\"/><line style=\"stroke: #A80036; stroke-width: 1.5;\" x1=\"120\" x2=\"164\" y1=\"372\" y2=\"372\"/><rect fill=\"#FEFECE\" filter=\"url(#f1)\" height=\"48\" style=\"stroke: #A80036; stroke-width: 1.5;\" width=\"46\" x=\"38\" y=\"332\"/><ellipse cx=\"53\" cy=\"348\" fill=\"#ADD1B2\" rx=\"11\" ry=\"11\" style=\"stroke: #A80036; stroke-width: 1.0;\"/><path d=\"M55.9731,353.6431 Q55.3921,353.9419 54.7529,354.0913 Q54.1138,354.2407 53.4082,354.2407 Q50.9014,354.2407 49.5815,352.5889 Q48.2617,350.937 48.2617,347.8159 Q48.2617,344.6865 49.5815,343.0347 Q50.9014,341.3828 53.4082,341.3828 Q54.1138,341.3828 54.7612,341.5322 Q55.4087,341.6816 55.9731,341.9805 L55.9731,344.7031 Q55.3423,344.1221 54.7488,343.8523 Q54.1553,343.5825 53.5244,343.5825 Q52.1797,343.5825 51.4949,344.6492 Q50.8101,345.7158 50.8101,347.8159 Q50.8101,349.9077 51.4949,350.9744 Q52.1797,352.041 53.5244,352.041 Q54.1553,352.041 54.7488,351.7712 Q55.3423,351.5015 55.9731,350.9204 Z \"/><text fill=\"#000000\" font-family=\"sans-serif\" font-size=\"12\" lengthAdjust=\"spacingAndGlyphs\" textLength=\"14\" x=\"67\" y=\"352.5352\">c5</text><line style=\"stroke: #A80036; stroke-width: 1.5;\" x1=\"39\" x2=\"83\" y1=\"364\" y2=\"364\"/><line style=\"stroke: #A80036; stroke-width: 1.5;\" x1=\"39\" x2=\"83\" y1=\"372\" y2=\"372\"/><rect fill=\"#FEFECE\" filter=\"url(#f1)\" height=\"48\" style=\"stroke: #A80036; stroke-width: 1.5;\" width=\"46\" x=\"200\" y=\"224\"/><ellipse cx=\"215\" cy=\"240\" fill=\"#ADD1B2\" rx=\"11\" ry=\"11\" style=\"stroke: #A80036; stroke-width: 1.0;\"/><path d=\"M217.9731,245.6431 Q217.3921,245.9419 216.7529,246.0913 Q216.1138,246.2407 215.4082,246.2407 Q212.9014,246.2407 211.5815,244.5889 Q210.2617,242.937 210.2617,239.8159 Q210.2617,236.6865 211.5815,235.0347 Q212.9014,233.3828 215.4082,233.3828 Q216.1138,233.3828 216.7612,233.5322 Q217.4087,233.6816 217.9731,233.9805 L217.9731,236.7031 Q217.3423,236.1221 216.7488,235.8523 Q216.1553,235.5825 215.5244,235.5825 Q214.1797,235.5825 213.4949,236.6492 Q212.8101,237.7158 212.8101,239.8159 Q212.8101,241.9077 213.4949,242.9744 Q214.1797,244.041 215.5244,244.041 Q216.1553,244.041 216.7488,243.7712 Q217.3423,243.5015 217.9731,242.9204 Z \"/><text fill=\"#000000\" font-family=\"sans-serif\" font-size=\"12\" lengthAdjust=\"spacingAndGlyphs\" textLength=\"14\" x=\"229\" y=\"244.5352\">c6</text><line style=\"stroke: #A80036; stroke-width: 1.5;\" x1=\"201\" x2=\"245\" y1=\"256\" y2=\"256\"/><line style=\"stroke: #A80036; stroke-width: 1.5;\" x1=\"201\" x2=\"245\" y1=\"264\" y2=\"264\"/><rect fill=\"#FEFECE\" filter=\"url(#f1)\" height=\"48\" style=\"stroke: #A80036; stroke-width: 1.5;\" width=\"62\" x=\"48\" y=\"8\"/><ellipse cx=\"63\" cy=\"24\" fill=\"#ADD1B2\" rx=\"11\" ry=\"11\" style=\"stroke: #A80036; stroke-width: 1.0;\"/><path d=\"M65.9731,29.6431 Q65.3921,29.9419 64.7529,30.0913 Q64.1138,30.2407 63.4082,30.2407 Q60.9014,30.2407 59.5815,28.5889 Q58.2617,26.937 58.2617,23.8159 Q58.2617,20.6865 59.5815,19.0347 Q60.9014,17.3828 63.4082,17.3828 Q64.1138,17.3828 64.7612,17.5322 Q65.4087,17.6816 65.9731,17.9805 L65.9731,20.7031 Q65.3423,20.1221 64.7488,19.8523 Q64.1553,19.5825 63.5244,19.5825 Q62.1797,19.5825 61.4949,20.6492 Q60.8101,21.7158 60.8101,23.8159 Q60.8101,25.9077 61.4949,26.9744 Q62.1797,28.041 63.5244,28.041 Q64.1553,28.041 64.7488,27.7712 Q65.3423,27.5015 65.9731,26.9204 Z \"/><text fill=\"#000000\" font-family=\"sans-serif\" font-size=\"12\" lengthAdjust=\"spacingAndGlyphs\" textLength=\"30\" x=\"77\" y=\"28.5352\">clinet</text><line style=\"stroke: #A80036; stroke-width: 1.5;\" x1=\"49\" x2=\"109\" y1=\"40\" y2=\"40\"/><line style=\"stroke: #A80036; stroke-width: 1.5;\" x1=\"49\" x2=\"109\" y1=\"48\" y2=\"48\"/><rect fill=\"#FEFECE\" filter=\"url(#f1)\" height=\"48\" style=\"stroke: #A80036; stroke-width: 1.5;\" width=\"73\" x=\"145.5\" y=\"8\"/><ellipse cx=\"160.5\" cy=\"24\" fill=\"#ADD1B2\" rx=\"11\" ry=\"11\" style=\"stroke: #A80036; stroke-width: 1.0;\"/><path d=\"M163.4731,29.6431 Q162.8921,29.9419 162.2529,30.0913 Q161.6138,30.2407 160.9082,30.2407 Q158.4014,30.2407 157.0815,28.5889 Q155.7617,26.937 155.7617,23.8159 Q155.7617,20.6865 157.0815,19.0347 Q158.4014,17.3828 160.9082,17.3828 Q161.6138,17.3828 162.2612,17.5322 Q162.9087,17.6816 163.4731,17.9805 L163.4731,20.7031 Q162.8423,20.1221 162.2488,19.8523 Q161.6553,19.5825 161.0244,19.5825 Q159.6797,19.5825 158.9949,20.6492 Q158.3101,21.7158 158.3101,23.8159 Q158.3101,25.9077 158.9949,26.9744 Q159.6797,28.041 161.0244,28.041 Q161.6553,28.041 162.2488,27.7712 Q162.8423,27.5015 163.4731,26.9204 Z \"/><text fill=\"#000000\" font-family=\"sans-serif\" font-size=\"12\" lengthAdjust=\"spacingAndGlyphs\" textLength=\"41\" x=\"174.5\" y=\"28.5352\">Facade</text><line style=\"stroke: #A80036; stroke-width: 1.5;\" x1=\"146.5\" x2=\"217.5\" y1=\"40\" y2=\"40\"/><line style=\"stroke: #A80036; stroke-width: 1.5;\" x1=\"146.5\" x2=\"217.5\" y1=\"48\" y2=\"48\"/><path d=\"M125.207,164 C112.614,180.279 95.6666,202.187 82.3451,219.408 \" fill=\"none\" style=\"stroke: #A80036; stroke-width: 1.0;\"/><polygon fill=\"#A80036\" points=\"79.0412,223.678,87.7113,219.0057,82.1,219.7228,81.3829,214.1116,79.0412,223.678\" style=\"stroke: #A80036; stroke-width: 1.0;\"/><path d=\"M160.359,164 C172.644,180.279 189.179,202.187 202.176,219.408 \" fill=\"none\" style=\"stroke: #A80036; stroke-width: 1.0;\"/><polygon fill=\"#A80036\" points=\"205.399,223.678,203.1694,214.0848,202.3867,219.6873,196.7842,218.9046,205.399,223.678\" style=\"stroke: #A80036; stroke-width: 1.0;\"/><path d=\"M61,272 C61,288.003 61,309.446 61,326.528 \" fill=\"none\" style=\"stroke: #A80036; stroke-width: 1.0;\"/><polygon fill=\"#A80036\" points=\"61,331.6784,65,322.6784,61,326.6784,57,322.6784,61,331.6784\" style=\"stroke: #A80036; stroke-width: 1.0;\"/><path d=\"M142.783,164 C142.632,180.003 142.43,201.446 142.269,218.528 \" fill=\"none\" style=\"stroke: #A80036; stroke-width: 1.0;\"/><polygon fill=\"#A80036\" points=\"142.22,223.678,146.3047,214.7161,142.2671,218.6782,138.305,214.6407,142.22,223.678\" style=\"stroke: #A80036; stroke-width: 1.0;\"/><path d=\"M142,272 C142,288.003 142,309.446 142,326.528 \" fill=\"none\" style=\"stroke: #A80036; stroke-width: 1.0;\"/><polygon fill=\"#A80036\" points=\"142,331.6784,146,322.6784,142,326.6784,138,322.6784,142,331.6784\" style=\"stroke: #A80036; stroke-width: 1.0;\"/><path d=\"M110.383,32 C120.309,32 130.235,32 140.161,32 \" fill=\"none\" style=\"stroke: #A80036; stroke-width: 1.0;\"/><polygon fill=\"#A80036\" points=\"145.352,32,136.352,28,140.352,32,136.352,36,145.352,32\" style=\"stroke: #A80036; stroke-width: 1.0;\"/><path d=\"M173.538,56 C167.599,72.141 159.624,93.816 153.313,110.969 \" fill=\"none\" style=\"stroke: #A80036; stroke-width: 1.0;\"/><polygon fill=\"#A80036\" points=\"151.581,115.678,158.4421,108.6122,153.3071,110.9854,150.934,105.8504,151.581,115.678\" style=\"stroke: #A80036; stroke-width: 1.0;\"/><path d=\"M186.466,56.309 C194.044,95.866 209.396,175.994 217.578,218.702 \" fill=\"none\" style=\"stroke: #A80036; stroke-width: 1.0;\"/><polygon fill=\"#A80036\" points=\"218.54,223.72,220.7769,214.1285,217.6001,218.8091,212.9195,215.6324,218.54,223.72\" style=\"stroke: #A80036; stroke-width: 1.0;\"/></g></svg>"
      ],
      "text/plain": [
       "<IPython.core.display.SVG object>"
      ]
     },
     "execution_count": 12,
     "metadata": {},
     "output_type": "execute_result"
    }
   ],
   "source": [
    "%%plantuml\n",
    "@startuml\n",
    "package \"complex system\" {\n",
    "  class c1\n",
    "  class c2\n",
    "  class c3\n",
    "  class c4\n",
    "  class c5\n",
    "  class c6\n",
    "  c1 --> c2\n",
    "  c1 --> c6\n",
    "  c2 -down-> c5\n",
    "  c1 --> c3\n",
    "  c3 --> c4\n",
    "}\n",
    "clinet -right-> Facade\n",
    "Facade -> c1\n",
    "Facade -> c6\n",
    "@enduml"
   ]
  },
  {
   "cell_type": "markdown",
   "metadata": {
    "slideshow": {
     "slide_type": "slide"
    }
   },
   "source": [
    "# 5. after\n",
    "\n",
    "* 교재 HFDP Ch6 'Remote Controller'"
   ]
  },
  {
   "cell_type": "code",
   "execution_count": 45,
   "metadata": {
    "collapsed": false,
    "slideshow": {
     "slide_type": "slide"
    }
   },
   "outputs": [
    {
     "data": {
      "image/svg+xml": [
       "<svg height=\"389px\" style=\"width:321px;height:389px;\" version=\"1.1\" viewBox=\"0 0 321 389\" width=\"321px\" xmlns=\"http://www.w3.org/2000/svg\" xmlns:xlink=\"http://www.w3.org/1999/xlink\"><defs><filter height=\"300%\" id=\"f1\" width=\"300%\" x=\"-1\" y=\"-1\"><feGaussianBlur result=\"blurOut\" stdDeviation=\"2.0\"/><feColorMatrix in=\"blurOut\" result=\"blurOut2\" type=\"matrix\" values=\"0 0 0 0 0 0 0 0 0 0 0 0 0 0 0 0 0 0 .4 0\"/><feOffset dx=\"4.0\" dy=\"4.0\" in=\"blurOut2\" result=\"blurOut3\"/><feBlend in=\"SourceGraphic\" in2=\"blurOut3\" mode=\"normal\"/></filter></defs><g><rect fill=\"#FEFECE\" filter=\"url(#f1)\" height=\"48\" style=\"stroke: #A80036; stroke-width: 1.5;\" width=\"64\" x=\"38.5\" y=\"8\"/><ellipse cx=\"53.5\" cy=\"24\" fill=\"#ADD1B2\" rx=\"11\" ry=\"11\" style=\"stroke: #A80036; stroke-width: 1.0;\"/><path d=\"M56.4731,29.6431 Q55.8921,29.9419 55.2529,30.0913 Q54.6138,30.2407 53.9082,30.2407 Q51.4014,30.2407 50.0815,28.5889 Q48.7617,26.937 48.7617,23.8159 Q48.7617,20.6865 50.0815,19.0347 Q51.4014,17.3828 53.9082,17.3828 Q54.6138,17.3828 55.2612,17.5322 Q55.9087,17.6816 56.4731,17.9805 L56.4731,20.7031 Q55.8423,20.1221 55.2488,19.8523 Q54.6553,19.5825 54.0244,19.5825 Q52.6797,19.5825 51.9949,20.6492 Q51.3101,21.7158 51.3101,23.8159 Q51.3101,25.9077 51.9949,26.9744 Q52.6797,28.041 54.0244,28.041 Q54.6553,28.041 55.2488,27.7712 Q55.8423,27.5015 56.4731,26.9204 Z \"/><text fill=\"#000000\" font-family=\"sans-serif\" font-size=\"12\" lengthAdjust=\"spacingAndGlyphs\" textLength=\"32\" x=\"67.5\" y=\"28.5352\">Client</text><line style=\"stroke: #A80036; stroke-width: 1.5;\" x1=\"39.5\" x2=\"101.5\" y1=\"40\" y2=\"40\"/><line style=\"stroke: #A80036; stroke-width: 1.5;\" x1=\"39.5\" x2=\"101.5\" y1=\"48\" y2=\"48\"/><rect fill=\"#FEFECE\" filter=\"url(#f1)\" height=\"48\" style=\"stroke: #A80036; stroke-width: 1.5;\" width=\"61\" x=\"205\" y=\"224\"/><ellipse cx=\"220\" cy=\"240\" fill=\"#B4A7E5\" rx=\"11\" ry=\"11\" style=\"stroke: #A80036; stroke-width: 1.0;\"/><path d=\"M215.9277,235.7651 L215.9277,233.6069 L223.3071,233.6069 L223.3071,235.7651 L220.8418,235.7651 L220.8418,243.8418 L223.3071,243.8418 L223.3071,246 L215.9277,246 L215.9277,243.8418 L218.3931,243.8418 L218.3931,235.7651 Z \"/><text fill=\"#000000\" font-family=\"sans-serif\" font-size=\"12\" font-style=\"italic\" lengthAdjust=\"spacingAndGlyphs\" textLength=\"29\" x=\"234\" y=\"244.5352\">Duck</text><line style=\"stroke: #A80036; stroke-width: 1.5;\" x1=\"206\" x2=\"265\" y1=\"256\" y2=\"256\"/><line style=\"stroke: #A80036; stroke-width: 1.5;\" x1=\"206\" x2=\"265\" y1=\"264\" y2=\"264\"/><rect fill=\"#FEFECE\" filter=\"url(#f1)\" height=\"48\" style=\"stroke: #A80036; stroke-width: 1.5;\" width=\"72\" x=\"179.5\" y=\"8\"/><ellipse cx=\"194.5\" cy=\"24\" fill=\"#B4A7E5\" rx=\"11\" ry=\"11\" style=\"stroke: #A80036; stroke-width: 1.0;\"/><path d=\"M190.4277,19.7651 L190.4277,17.6069 L197.8071,17.6069 L197.8071,19.7651 L195.3418,19.7651 L195.3418,27.8418 L197.8071,27.8418 L197.8071,30 L190.4277,30 L190.4277,27.8418 L192.8931,27.8418 L192.8931,19.7651 Z \"/><text fill=\"#000000\" font-family=\"sans-serif\" font-size=\"12\" font-style=\"italic\" lengthAdjust=\"spacingAndGlyphs\" textLength=\"40\" x=\"208.5\" y=\"28.5352\">Turkey</text><line style=\"stroke: #A80036; stroke-width: 1.5;\" x1=\"180.5\" x2=\"250.5\" y1=\"40\" y2=\"40\"/><line style=\"stroke: #A80036; stroke-width: 1.5;\" x1=\"180.5\" x2=\"250.5\" y1=\"48\" y2=\"48\"/><rect fill=\"#FEFECE\" filter=\"url(#f1)\" height=\"48\" style=\"stroke: #A80036; stroke-width: 1.5;\" width=\"108\" x=\"204.5\" y=\"116\"/><ellipse cx=\"219.5\" cy=\"132\" fill=\"#ADD1B2\" rx=\"11\" ry=\"11\" style=\"stroke: #A80036; stroke-width: 1.0;\"/><path d=\"M222.4731,137.6431 Q221.8921,137.9419 221.2529,138.0913 Q220.6138,138.2407 219.9082,138.2407 Q217.4014,138.2407 216.0815,136.5889 Q214.7617,134.937 214.7617,131.8159 Q214.7617,128.6865 216.0815,127.0347 Q217.4014,125.3828 219.9082,125.3828 Q220.6138,125.3828 221.2612,125.5322 Q221.9087,125.6816 222.4731,125.9805 L222.4731,128.7031 Q221.8423,128.1221 221.2488,127.8523 Q220.6553,127.5825 220.0244,127.5825 Q218.6797,127.5825 217.9949,128.6492 Q217.3101,129.7158 217.3101,131.8159 Q217.3101,133.9077 217.9949,134.9744 Q218.6797,136.041 220.0244,136.041 Q220.6553,136.041 221.2488,135.7712 Q221.8423,135.5015 222.4731,134.9204 Z \"/><text fill=\"#000000\" font-family=\"sans-serif\" font-size=\"12\" lengthAdjust=\"spacingAndGlyphs\" textLength=\"76\" x=\"233.5\" y=\"136.5352\">DuckAdapter</text><line style=\"stroke: #A80036; stroke-width: 1.5;\" x1=\"205.5\" x2=\"311.5\" y1=\"148\" y2=\"148\"/><line style=\"stroke: #A80036; stroke-width: 1.5;\" x1=\"205.5\" x2=\"311.5\" y1=\"156\" y2=\"156\"/><rect fill=\"#FEFECE\" filter=\"url(#f1)\" height=\"48\" style=\"stroke: #A80036; stroke-width: 1.5;\" width=\"104\" x=\"183.5\" y=\"332\"/><ellipse cx=\"198.5\" cy=\"348\" fill=\"#ADD1B2\" rx=\"11\" ry=\"11\" style=\"stroke: #A80036; stroke-width: 1.0;\"/><path d=\"M201.4731,353.6431 Q200.8921,353.9419 200.2529,354.0913 Q199.6138,354.2407 198.9082,354.2407 Q196.4014,354.2407 195.0815,352.5889 Q193.7617,350.937 193.7617,347.8159 Q193.7617,344.6865 195.0815,343.0347 Q196.4014,341.3828 198.9082,341.3828 Q199.6138,341.3828 200.2612,341.5322 Q200.9087,341.6816 201.4731,341.9805 L201.4731,344.7031 Q200.8423,344.1221 200.2488,343.8523 Q199.6553,343.5825 199.0244,343.5825 Q197.6797,343.5825 196.9949,344.6492 Q196.3101,345.7158 196.3101,347.8159 Q196.3101,349.9077 196.9949,350.9744 Q197.6797,352.041 199.0244,352.041 Q199.6553,352.041 200.2488,351.7712 Q200.8423,351.5015 201.4731,350.9204 Z \"/><text fill=\"#000000\" font-family=\"sans-serif\" font-size=\"12\" lengthAdjust=\"spacingAndGlyphs\" textLength=\"72\" x=\"212.5\" y=\"352.5352\">MallardDuck</text><line style=\"stroke: #A80036; stroke-width: 1.5;\" x1=\"184.5\" x2=\"286.5\" y1=\"364\" y2=\"364\"/><line style=\"stroke: #A80036; stroke-width: 1.5;\" x1=\"184.5\" x2=\"286.5\" y1=\"372\" y2=\"372\"/><rect fill=\"#FEFECE\" filter=\"url(#f1)\" height=\"48\" style=\"stroke: #A80036; stroke-width: 1.5;\" width=\"96\" x=\"73.5\" y=\"116\"/><ellipse cx=\"88.5\" cy=\"132\" fill=\"#ADD1B2\" rx=\"11\" ry=\"11\" style=\"stroke: #A80036; stroke-width: 1.0;\"/><path d=\"M91.4731,137.6431 Q90.8921,137.9419 90.2529,138.0913 Q89.6138,138.2407 88.9082,138.2407 Q86.4014,138.2407 85.0815,136.5889 Q83.7617,134.937 83.7617,131.8159 Q83.7617,128.6865 85.0815,127.0347 Q86.4014,125.3828 88.9082,125.3828 Q89.6138,125.3828 90.2612,125.5322 Q90.9087,125.6816 91.4731,125.9805 L91.4731,128.7031 Q90.8423,128.1221 90.2488,127.8523 Q89.6553,127.5825 89.0244,127.5825 Q87.6797,127.5825 86.9949,128.6492 Q86.3101,129.7158 86.3101,131.8159 Q86.3101,133.9077 86.9949,134.9744 Q87.6797,136.041 89.0244,136.041 Q89.6553,136.041 90.2488,135.7712 Q90.8423,135.5015 91.4731,134.9204 Z \"/><text fill=\"#000000\" font-family=\"sans-serif\" font-size=\"12\" lengthAdjust=\"spacingAndGlyphs\" textLength=\"64\" x=\"102.5\" y=\"136.5352\">WildTurkey</text><line style=\"stroke: #A80036; stroke-width: 1.5;\" x1=\"74.5\" x2=\"168.5\" y1=\"148\" y2=\"148\"/><line style=\"stroke: #A80036; stroke-width: 1.5;\" x1=\"74.5\" x2=\"168.5\" y1=\"156\" y2=\"156\"/><rect fill=\"#FEFECE\" filter=\"url(#f1)\" height=\"48\" style=\"stroke: #A80036; stroke-width: 1.5;\" width=\"119\" x=\"6\" y=\"332\"/><ellipse cx=\"21\" cy=\"348\" fill=\"#ADD1B2\" rx=\"11\" ry=\"11\" style=\"stroke: #A80036; stroke-width: 1.0;\"/><path d=\"M23.9731,353.6431 Q23.3921,353.9419 22.7529,354.0913 Q22.1138,354.2407 21.4082,354.2407 Q18.9014,354.2407 17.5815,352.5889 Q16.2617,350.937 16.2617,347.8159 Q16.2617,344.6865 17.5815,343.0347 Q18.9014,341.3828 21.4082,341.3828 Q22.1138,341.3828 22.7612,341.5322 Q23.4087,341.6816 23.9731,341.9805 L23.9731,344.7031 Q23.3423,344.1221 22.7488,343.8523 Q22.1553,343.5825 21.5244,343.5825 Q20.1797,343.5825 19.4949,344.6492 Q18.8101,345.7158 18.8101,347.8159 Q18.8101,349.9077 19.4949,350.9744 Q20.1797,352.041 21.5244,352.041 Q22.1553,352.041 22.7488,351.7712 Q23.3423,351.5015 23.9731,350.9204 Z \"/><text fill=\"#000000\" font-family=\"sans-serif\" font-size=\"12\" lengthAdjust=\"spacingAndGlyphs\" textLength=\"87\" x=\"35\" y=\"352.5352\">TurkeyAdapter</text><line style=\"stroke: #A80036; stroke-width: 1.5;\" x1=\"7\" x2=\"124\" y1=\"364\" y2=\"364\"/><line style=\"stroke: #A80036; stroke-width: 1.5;\" x1=\"7\" x2=\"124\" y1=\"372\" y2=\"372\"/><path d=\"M232.365,74.575 C238.032,88.543 244.149,103.622 249.039,115.678 \" fill=\"none\" style=\"stroke: #A80036; stroke-width: 1.0; stroke-dasharray: 7.0,7.0;\"/><polygon fill=\"none\" points=\"225.862,77.165,224.83,56,238.835,71.902,225.862,77.165\" style=\"stroke: #A80036; stroke-width: 1.0;\"/><path d=\"M181.601,71.227 C168.414,86.097 153.733,102.652 142.181,115.678 \" fill=\"none\" style=\"stroke: #A80036; stroke-width: 1.0; stroke-dasharray: 7.0,7.0;\"/><polygon fill=\"none\" points=\"176.596,66.32,195.103,56,187.071,75.609,176.596,66.32\" style=\"stroke: #A80036; stroke-width: 1.0;\"/><path d=\"M253.509,164 C250.037,180.003 245.384,201.446 241.678,218.528 \" fill=\"none\" style=\"stroke: #A80036; stroke-width: 1.0;\"/><polygon fill=\"#A80036\" points=\"240.56,223.678,246.3768,215.7304,241.6198,218.7916,238.5586,214.0346,240.56,223.678\" style=\"stroke: #A80036; stroke-width: 1.0;\"/><path d=\"M235.5,292.0236 C235.5,305.5792 235.5,320.0381 235.5,331.6784 \" fill=\"none\" style=\"stroke: #A80036; stroke-width: 1.0; stroke-dasharray: 7.0,7.0;\"/><polygon fill=\"none\" points=\"228.5,292.0005,235.5,272,242.5,292.0004,228.5,292.0005\" style=\"stroke: #A80036; stroke-width: 1.0;\"/><path d=\"M187.636,278.844 C160.685,295.6491 127.535,316.3196 102.5742,331.8831 \" fill=\"none\" style=\"stroke: #A80036; stroke-width: 1.0; stroke-dasharray: 7.0,7.0;\"/><polygon fill=\"none\" points=\"184.039,272.838,204.714,268.196,191.447,284.7178,184.039,272.838\" style=\"stroke: #A80036; stroke-width: 1.0;\"/><path d=\"M81.5662,56 C89.3319,72.141 99.7606,93.816 108.013,110.969 \" fill=\"none\" style=\"stroke: #A80036; stroke-width: 1.0;\"/><polygon fill=\"#A80036\" points=\"110.279,115.678,109.9802,105.8337,108.1106,111.1727,102.7716,109.3031,110.279,115.678\" style=\"stroke: #A80036; stroke-width: 1.0;\"/><path d=\"M65.179,56.104 C61.6447,72.673 57.3302,95.581 55.5,116 C48.695,191.918 56.7879,281.8273 61.9144,326.6426 \" fill=\"none\" style=\"stroke: #A80036; stroke-width: 1.0;\"/><polygon fill=\"#A80036\" points=\"62.5237,331.8804,65.4568,322.4784,61.9459,326.9139,57.5104,323.403,62.5237,331.8804\" style=\"stroke: #A80036; stroke-width: 1.0;\"/></g></svg>"
      ],
      "text/plain": [
       "<IPython.core.display.SVG object>"
      ]
     },
     "execution_count": 45,
     "metadata": {},
     "output_type": "execute_result"
    }
   ],
   "source": [
    "%%plantuml\n",
    "@startuml\n",
    "class Client\n",
    "Interface Duck\n",
    "Interface Turkey\n",
    "class DuckAdapter\n",
    "class MallardDuck\n",
    "Turkey <|.. DuckAdapter\n",
    "Turkey <|.. WildTurkey\n",
    "DuckAdapter --> Duck\n",
    "Duck <|.. MallardDuck\n",
    "Duck <|.. TurkeyAdapter\n",
    "Client --> WildTurkey\n",
    "Client --> TurkeyAdapter\n",
    "@enduml"
   ]
  },
  {
   "cell_type": "markdown",
   "metadata": {
    "slideshow": {
     "slide_type": "slide"
    }
   },
   "source": [
    "# 6. Case Implementation\n",
    "\n",
    "\n",
    "* simple Duck, Tuckey\n",
    "* Enumeration, Iterator\n",
    "* home theater\n"
   ]
  },
  {
   "cell_type": "markdown",
   "metadata": {
    "slideshow": {
     "slide_type": "slide"
    }
   },
   "source": [
    "## 6.1. Duck\n",
    "\n",
    "* 단순 Duck, Turkey 사례"
   ]
  },
  {
   "cell_type": "code",
   "execution_count": 47,
   "metadata": {
    "collapsed": false,
    "slideshow": {
     "slide_type": "slide"
    }
   },
   "outputs": [
    {
     "data": {
      "image/svg+xml": [
       "<svg height=\"302px\" style=\"width:425px;height:302px;\" version=\"1.1\" viewBox=\"0 0 425 302\" width=\"425px\" xmlns=\"http://www.w3.org/2000/svg\" xmlns:xlink=\"http://www.w3.org/1999/xlink\"><defs><filter height=\"300%\" id=\"f1\" width=\"300%\" x=\"-1\" y=\"-1\"><feGaussianBlur result=\"blurOut\" stdDeviation=\"2.0\"/><feColorMatrix in=\"blurOut\" result=\"blurOut2\" type=\"matrix\" values=\"0 0 0 0 0 0 0 0 0 0 0 0 0 0 0 0 0 0 .4 0\"/><feOffset dx=\"4.0\" dy=\"4.0\" in=\"blurOut2\" result=\"blurOut3\"/><feBlend in=\"SourceGraphic\" in2=\"blurOut3\" mode=\"normal\"/></filter></defs><g><line style=\"stroke: #A80036; stroke-width: 1.0; stroke-dasharray: 5.0,5.0;\" x1=\"37\" x2=\"37\" y1=\"38.4883\" y2=\"263.6621\"/><line style=\"stroke: #A80036; stroke-width: 1.0; stroke-dasharray: 5.0,5.0;\" x1=\"134.5\" x2=\"134.5\" y1=\"38.4883\" y2=\"263.6621\"/><line style=\"stroke: #A80036; stroke-width: 1.0; stroke-dasharray: 5.0,5.0;\" x1=\"243.5\" x2=\"243.5\" y1=\"38.4883\" y2=\"263.6621\"/><line style=\"stroke: #A80036; stroke-width: 1.0; stroke-dasharray: 5.0,5.0;\" x1=\"360.5\" x2=\"360.5\" y1=\"38.4883\" y2=\"263.6621\"/><rect fill=\"#FEFECE\" filter=\"url(#f1)\" height=\"30.4883\" style=\"stroke: #A80036; stroke-width: 1.5;\" width=\"54\" x=\"8\" y=\"3\"/><text fill=\"#000000\" font-family=\"sans-serif\" font-size=\"14\" lengthAdjust=\"spacingAndGlyphs\" textLength=\"40\" x=\"15\" y=\"23.5352\">Client</text><rect fill=\"#FEFECE\" filter=\"url(#f1)\" height=\"30.4883\" style=\"stroke: #A80036; stroke-width: 1.5;\" width=\"54\" x=\"8\" y=\"262.6621\"/><text fill=\"#000000\" font-family=\"sans-serif\" font-size=\"14\" lengthAdjust=\"spacingAndGlyphs\" textLength=\"40\" x=\"15\" y=\"283.1973\">Client</text><rect fill=\"#FEFECE\" filter=\"url(#f1)\" height=\"30.4883\" style=\"stroke: #A80036; stroke-width: 1.5;\" width=\"99\" x=\"83.5\" y=\"3\"/><text fill=\"#000000\" font-family=\"sans-serif\" font-size=\"14\" lengthAdjust=\"spacingAndGlyphs\" textLength=\"85\" x=\"90.5\" y=\"23.5352\">MallardDuck</text><rect fill=\"#FEFECE\" filter=\"url(#f1)\" height=\"30.4883\" style=\"stroke: #A80036; stroke-width: 1.5;\" width=\"99\" x=\"83.5\" y=\"262.6621\"/><text fill=\"#000000\" font-family=\"sans-serif\" font-size=\"14\" lengthAdjust=\"spacingAndGlyphs\" textLength=\"85\" x=\"90.5\" y=\"283.1973\">MallardDuck</text><rect fill=\"#FEFECE\" filter=\"url(#f1)\" height=\"30.4883\" style=\"stroke: #A80036; stroke-width: 1.5;\" width=\"90\" x=\"196.5\" y=\"3\"/><text fill=\"#000000\" font-family=\"sans-serif\" font-size=\"14\" lengthAdjust=\"spacingAndGlyphs\" textLength=\"76\" x=\"203.5\" y=\"23.5352\">WildTurkey</text><rect fill=\"#FEFECE\" filter=\"url(#f1)\" height=\"30.4883\" style=\"stroke: #A80036; stroke-width: 1.5;\" width=\"90\" x=\"196.5\" y=\"262.6621\"/><text fill=\"#000000\" font-family=\"sans-serif\" font-size=\"14\" lengthAdjust=\"spacingAndGlyphs\" textLength=\"76\" x=\"203.5\" y=\"283.1973\">WildTurkey</text><rect fill=\"#FEFECE\" filter=\"url(#f1)\" height=\"30.4883\" style=\"stroke: #A80036; stroke-width: 1.5;\" width=\"116\" x=\"300.5\" y=\"3\"/><text fill=\"#000000\" font-family=\"sans-serif\" font-size=\"14\" lengthAdjust=\"spacingAndGlyphs\" textLength=\"102\" x=\"307.5\" y=\"23.5352\">TurkeyAdapter</text><rect fill=\"#FEFECE\" filter=\"url(#f1)\" height=\"30.4883\" style=\"stroke: #A80036; stroke-width: 1.5;\" width=\"116\" x=\"300.5\" y=\"262.6621\"/><text fill=\"#000000\" font-family=\"sans-serif\" font-size=\"14\" lengthAdjust=\"spacingAndGlyphs\" textLength=\"102\" x=\"307.5\" y=\"283.1973\">TurkeyAdapter</text><polygon fill=\"#A80036\" points=\"123,65.4883,133,69.4883,123,73.4883,127,69.4883\" style=\"stroke: #A80036; stroke-width: 1.0;\"/><line style=\"stroke: #A80036; stroke-width: 1.0;\" x1=\"37\" x2=\"129\" y1=\"69.4883\" y2=\"69.4883\"/><text fill=\"#000000\" font-family=\"sans-serif\" font-size=\"13\" lengthAdjust=\"spacingAndGlyphs\" textLength=\"74\" x=\"44\" y=\"65.0566\">duck=new()</text><polygon fill=\"#A80036\" points=\"231.5,94.7988,241.5,98.7988,231.5,102.7988,235.5,98.7988\" style=\"stroke: #A80036; stroke-width: 1.0;\"/><line style=\"stroke: #A80036; stroke-width: 1.0;\" x1=\"37\" x2=\"237.5\" y1=\"98.7988\" y2=\"98.7988\"/><text fill=\"#000000\" font-family=\"sans-serif\" font-size=\"13\" lengthAdjust=\"spacingAndGlyphs\" textLength=\"83\" x=\"44\" y=\"94.3672\">turkey=new()</text><polygon fill=\"#A80036\" points=\"348.5,124.1094,358.5,128.1094,348.5,132.1094,352.5,128.1094\" style=\"stroke: #A80036; stroke-width: 1.0;\"/><line style=\"stroke: #A80036; stroke-width: 1.0;\" x1=\"37\" x2=\"354.5\" y1=\"128.1094\" y2=\"128.1094\"/><text fill=\"#000000\" font-family=\"sans-serif\" font-size=\"13\" lengthAdjust=\"spacingAndGlyphs\" textLength=\"172\" x=\"44\" y=\"123.6777\">turkeyAdapter=new(turkey)</text><polygon fill=\"#A80036\" points=\"231.5,153.4199,241.5,157.4199,231.5,161.4199,235.5,157.4199\" style=\"stroke: #A80036; stroke-width: 1.0;\"/><line style=\"stroke: #A80036; stroke-width: 1.0;\" x1=\"37\" x2=\"237.5\" y1=\"157.4199\" y2=\"157.4199\"/><text fill=\"#000000\" font-family=\"sans-serif\" font-size=\"13\" lengthAdjust=\"spacingAndGlyphs\" textLength=\"51\" x=\"44\" y=\"152.9883\">gobble()</text><polygon fill=\"#A80036\" points=\"231.5,182.7305,241.5,186.7305,231.5,190.7305,235.5,186.7305\" style=\"stroke: #A80036; stroke-width: 1.0;\"/><line style=\"stroke: #A80036; stroke-width: 1.0;\" x1=\"37\" x2=\"237.5\" y1=\"186.7305\" y2=\"186.7305\"/><text fill=\"#000000\" font-family=\"sans-serif\" font-size=\"13\" lengthAdjust=\"spacingAndGlyphs\" textLength=\"24\" x=\"44\" y=\"182.2988\">fly()</text><polygon fill=\"#A80036\" points=\"123,212.041,133,216.041,123,220.041,127,216.041\" style=\"stroke: #A80036; stroke-width: 1.0;\"/><line style=\"stroke: #A80036; stroke-width: 1.0;\" x1=\"37\" x2=\"129\" y1=\"216.041\" y2=\"216.041\"/><text fill=\"#000000\" font-family=\"sans-serif\" font-size=\"13\" lengthAdjust=\"spacingAndGlyphs\" textLength=\"46\" x=\"44\" y=\"211.6094\">quack()</text><polygon fill=\"#A80036\" points=\"123,241.3516,133,245.3516,123,249.3516,127,245.3516\" style=\"stroke: #A80036; stroke-width: 1.0;\"/><line style=\"stroke: #A80036; stroke-width: 1.0;\" x1=\"37\" x2=\"129\" y1=\"245.3516\" y2=\"245.3516\"/><text fill=\"#000000\" font-family=\"sans-serif\" font-size=\"13\" lengthAdjust=\"spacingAndGlyphs\" textLength=\"24\" x=\"44\" y=\"240.9199\">fly()</text></g></svg>"
      ],
      "text/plain": [
       "<IPython.core.display.SVG object>"
      ]
     },
     "execution_count": 47,
     "metadata": {},
     "output_type": "execute_result"
    }
   ],
   "source": [
    "%%plantuml\n",
    "@startuml\n",
    "Client -> MallardDuck:duck=new()\n",
    "Client -> WildTurkey:turkey=new()\n",
    "Client -> TurkeyAdapter:turkeyAdapter=new(turkey)\n",
    "Client -> WildTurkey:gobble()\n",
    "Client -> WildTurkey:fly()\n",
    "Client -> MallardDuck:quack()\n",
    "Client -> MallardDuck:fly()\n",
    "@enduml"
   ]
  },
  {
   "cell_type": "code",
   "execution_count": null,
   "metadata": {
    "collapsed": false,
    "slideshow": {
     "slide_type": "slide"
    }
   },
   "outputs": [],
   "source": [
    "# %load ./src/headfirst/adapter/ducks/Duck.java\n",
    "package headfirst.adapter.ducks;\n",
    "\n",
    "public interface Duck {\n",
    "\tpublic void quack();\n",
    "\tpublic void fly();\n",
    "}\n"
   ]
  },
  {
   "cell_type": "code",
   "execution_count": null,
   "metadata": {
    "collapsed": true,
    "slideshow": {
     "slide_type": "slide"
    }
   },
   "outputs": [],
   "source": [
    "# %load ./src/headfirst/adapter/ducks/DuckAdapter.java\n",
    "package headfirst.adapter.ducks;\n",
    "import java.util.Random;\n",
    "\n",
    "public class DuckAdapter implements Turkey {\n",
    "\tDuck duck;\n",
    "\tRandom rand;\n",
    " \n",
    "\tpublic DuckAdapter(Duck duck) {\n",
    "\t\tthis.duck = duck;\n",
    "\t\trand = new Random();\n",
    "\t}\n",
    "    \n",
    "\tpublic void gobble() {\n",
    "\t\tduck.quack();\n",
    "\t}\n",
    "  \n",
    "\tpublic void fly() {\n",
    "\t\tif (rand.nextInt(5)  == 0) {\n",
    "\t\t     duck.fly();\n",
    "\t\t}\n",
    "\t}\n",
    "}\n"
   ]
  },
  {
   "cell_type": "code",
   "execution_count": null,
   "metadata": {
    "collapsed": true,
    "slideshow": {
     "slide_type": "slide"
    }
   },
   "outputs": [],
   "source": [
    "# %load ./src/headfirst/adapter/ducks/MallardDuck.java\n",
    "package headfirst.adapter.ducks;\n",
    "\n",
    "public class MallardDuck implements Duck {\n",
    "\tpublic void quack() {\n",
    "\t\tSystem.out.println(\"Quack\");\n",
    "\t}\n",
    " \n",
    "\tpublic void fly() {\n",
    "\t\tSystem.out.println(\"I'm flying\");\n",
    "\t}\n",
    "}\n"
   ]
  },
  {
   "cell_type": "code",
   "execution_count": null,
   "metadata": {
    "collapsed": true,
    "slideshow": {
     "slide_type": "slide"
    }
   },
   "outputs": [],
   "source": [
    "# %load ./src/headfirst/adapter/ducks/Turkey.java\n",
    "package headfirst.adapter.ducks;\n",
    "\n",
    "public interface Turkey {\n",
    "\tpublic void gobble();\n",
    "\tpublic void fly();\n",
    "}\n"
   ]
  },
  {
   "cell_type": "code",
   "execution_count": null,
   "metadata": {
    "collapsed": true,
    "slideshow": {
     "slide_type": "slide"
    }
   },
   "outputs": [],
   "source": [
    "# %load ./src/headfirst/adapter/ducks/TurkeyAdapter.java\n",
    "package headfirst.adapter.ducks;\n",
    "\n",
    "public class TurkeyAdapter implements Duck {\n",
    "\tTurkey turkey;\n",
    " \n",
    "\tpublic TurkeyAdapter(Turkey turkey) {\n",
    "\t\tthis.turkey = turkey;\n",
    "\t}\n",
    "    \n",
    "\tpublic void quack() {\n",
    "\t\tturkey.gobble();\n",
    "\t}\n",
    "  \n",
    "\tpublic void fly() {\n",
    "\t\tfor(int i=0; i < 5; i++) {\n",
    "\t\t\tturkey.fly();\n",
    "\t\t}\n",
    "\t}\n",
    "}\n"
   ]
  },
  {
   "cell_type": "code",
   "execution_count": null,
   "metadata": {
    "collapsed": true,
    "slideshow": {
     "slide_type": "slide"
    }
   },
   "outputs": [],
   "source": [
    "# %load ./src/headfirst/adapter/ducks/WildTurkey.java\n",
    "package headfirst.adapter.ducks;\n",
    "\n",
    "public class WildTurkey implements Turkey {\n",
    "\tpublic void gobble() {\n",
    "\t\tSystem.out.println(\"Gobble gobble\");\n",
    "\t}\n",
    " \n",
    "\tpublic void fly() {\n",
    "\t\tSystem.out.println(\"I'm flying a short distance\");\n",
    "\t}\n",
    "}\n"
   ]
  },
  {
   "cell_type": "code",
   "execution_count": null,
   "metadata": {
    "collapsed": true,
    "slideshow": {
     "slide_type": "slide"
    }
   },
   "outputs": [],
   "source": [
    "# %load ./src/headfirst/adapter/ducks/DuckTestDrive.java\n",
    "package headfirst.adapter.ducks;\n",
    "\n",
    "public class DuckTestDrive {\n",
    "\tpublic static void main(String[] args) {\n",
    "\t\tMallardDuck duck = new MallardDuck();\n",
    " \n",
    "\t\tWildTurkey turkey = new WildTurkey();\n",
    "\t\tDuck turkeyAdapter = new TurkeyAdapter(turkey);\n",
    "   \n",
    "\t\tSystem.out.println(\"The Turkey says...\");\n",
    "\t\tturkey.gobble();\n",
    "\t\tturkey.fly();\n",
    " \n",
    "\t\tSystem.out.println(\"\\nThe Duck says...\");\n",
    "\t\ttestDuck(duck);\n",
    "  \n",
    "\t\tSystem.out.println(\"\\nThe TurkeyAdapter says...\");\n",
    "\t\ttestDuck(turkeyAdapter);\n",
    "\t}\n",
    " \n",
    "\tstatic void testDuck(Duck duck) {\n",
    "\t\tduck.quack();\n",
    "\t\tduck.fly();\n",
    "\t}\n",
    "}\n"
   ]
  },
  {
   "cell_type": "code",
   "execution_count": null,
   "metadata": {
    "collapsed": true,
    "slideshow": {
     "slide_type": "slide"
    }
   },
   "outputs": [],
   "source": [
    "# %load ./src/headfirst/adapter/ducks/TurkeyTestDrive.java\n",
    "package headfirst.adapter.ducks;\n",
    "\n",
    "public class TurkeyTestDrive {\n",
    "\tpublic static void main(String[] args) {\n",
    "\t\tMallardDuck duck = new MallardDuck();\n",
    "\t\tTurkey duckAdapter = new DuckAdapter(duck);\n",
    " \n",
    "\t\tfor(int i=0;i<10;i++) {\n",
    "\t\t\tSystem.out.println(\"The DuckAdapter says...\");\n",
    "\t\t\tduckAdapter.gobble();\n",
    "\t\t\tduckAdapter.fly();\n",
    "\t\t}\n",
    "\t}\n",
    "}\n"
   ]
  },
  {
   "cell_type": "code",
   "execution_count": 55,
   "metadata": {
    "collapsed": false,
    "slideshow": {
     "slide_type": "slide"
    }
   },
   "outputs": [
    {
     "name": "stdout",
     "output_type": "stream",
     "text": [
      "The DuckAdapter says...\n",
      "Quack\n",
      "The DuckAdapter says...\n",
      "Quack\n",
      "The DuckAdapter says...\n",
      "Quack\n",
      "The DuckAdapter says...\n",
      "Quack\n",
      "I'm flying\n",
      "The DuckAdapter says...\n",
      "Quack\n",
      "The DuckAdapter says...\n",
      "Quack\n",
      "I'm flying\n",
      "The DuckAdapter says...\n",
      "Quack\n",
      "The DuckAdapter says...\n",
      "Quack\n",
      "The DuckAdapter says...\n",
      "Quack\n",
      "The DuckAdapter says...\n",
      "Quack\n",
      "The Turkey says...\n",
      "Gobble gobble\n",
      "I'm flying a short distance\n",
      "\n",
      "The Duck says...\n",
      "Quack\n",
      "I'm flying\n",
      "\n",
      "The TurkeyAdapter says...\n",
      "Gobble gobble\n",
      "I'm flying a short distance\n",
      "I'm flying a short distance\n",
      "I'm flying a short distance\n",
      "I'm flying a short distance\n",
      "I'm flying a short distance\n"
     ]
    }
   ],
   "source": [
    "!javac -d classes/ -sourcepath src/ src/headfirst/adapter/ducks/*.java\n",
    "!java -cp classes/ headfirst.adapter.ducks.TurkeyTestDrive\n",
    "!java -cp classes/ headfirst.adapter.ducks.DuckTestDrive"
   ]
  },
  {
   "cell_type": "markdown",
   "metadata": {
    "slideshow": {
     "slide_type": "slide"
    }
   },
   "source": [
    "## 6.2 Enumeration, Iterator\n",
    "\n",
    "* p.248 ~\n",
    "* Enumeration의 Iterator Adapter\n",
    "* Iterator의 Enumeration Adapter"
   ]
  },
  {
   "cell_type": "code",
   "execution_count": 4,
   "metadata": {
    "collapsed": false,
    "slideshow": {
     "slide_type": "slide"
    }
   },
   "outputs": [
    {
     "data": {
      "image/svg+xml": [
       "<svg height=\"123px\" style=\"width:369px;height:123px;background:#000000;\" version=\"1.1\" viewBox=\"0 0 369 123\" width=\"369px\" xmlns=\"http://www.w3.org/2000/svg\" xmlns:xlink=\"http://www.w3.org/1999/xlink\"><defs/><g><text fill=\"#33FF02\" font-family=\"sans-serif\" font-size=\"14\" font-weight=\"bold\" lengthAdjust=\"spacingAndGlyphs\" textLength=\"368\" x=\"0\" y=\"13.5352\">[From /Users/media/Code/git/sd/lib/.plt (line 8) ]</text><line style=\"stroke: #33FF02; stroke-width: 1.0;\" x1=\"0\" x2=\"368\" y1=\"21.4883\" y2=\"21.4883\"/><text fill=\"#33FF02\" font-family=\"sans-serif\" font-size=\"14\" font-weight=\"bold\" lengthAdjust=\"spacingAndGlyphs\" textLength=\"155\" x=\"0\" y=\"40.0234\">... (skipping 4 lines) ...</text><text fill=\"#33FF02\" font-family=\"sans-serif\" font-size=\"14\" font-weight=\"bold\" lengthAdjust=\"spacingAndGlyphs\" textLength=\"208\" x=\"20\" y=\"56.5117\">+hasMoreElements():boolean</text><text fill=\"#33FF02\" font-family=\"sans-serif\" font-size=\"14\" font-weight=\"bold\" lengthAdjust=\"spacingAndGlyphs\" textLength=\"160\" x=\"20\" y=\"73\">+nextElement():Object</text><text fill=\"#33FF02\" font-family=\"sans-serif\" font-size=\"14\" font-weight=\"bold\" lengthAdjust=\"spacingAndGlyphs\" textLength=\"5\" x=\"0\" y=\"89.4883\">}</text><text fill=\"#33FF02\" font-family=\"sans-serif\" font-size=\"14\" font-weight=\"bold\" lengthAdjust=\"spacingAndGlyphs\" textLength=\"163\" x=\"0\" y=\"105.9766\">inteface Enumeration {</text><text fill=\"#33FF02\" font-family=\"sans-serif\" font-size=\"14\" font-weight=\"bold\" lengthAdjust=\"spacingAndGlyphs\" textLength=\"0\" x=\"5\" y=\"122.4648\"/><text fill=\"#FF0000\" font-family=\"sans-serif\" font-size=\"14\" font-weight=\"bold\" lengthAdjust=\"spacingAndGlyphs\" textLength=\"94\" x=\"5\" y=\"122.4648\">Syntax Error?</text></g></svg>"
      ],
      "text/plain": [
       "<IPython.core.display.SVG object>"
      ]
     },
     "execution_count": 4,
     "metadata": {},
     "output_type": "execute_result"
    }
   ],
   "source": [
    "%%plantuml\n",
    "@startuml\n",
    "class IteratorEnumeration {\n",
    "    iterator:Iterator\n",
    "    +IteratorEnumeration(Iterator)\n",
    "    +hasMoreElements():boolean\n",
    "    +nextElement():Object\n",
    "}\n",
    "inteface Enumeration {\n",
    "    +hasMoreElements():boolean\n",
    "    +nextElement():Enumeration\n",
    "}\n",
    "Enumeration <|.. IteratorEnumeration\n",
    "@enduml"
   ]
  },
  {
   "cell_type": "code",
   "execution_count": 44,
   "metadata": {
    "collapsed": false,
    "slideshow": {
     "slide_type": "slide"
    }
   },
   "outputs": [
    {
     "data": {
      "image/svg+xml": [
       "<svg height=\"243px\" style=\"width:518px;height:243px;\" version=\"1.1\" viewBox=\"0 0 518 243\" width=\"518px\" xmlns=\"http://www.w3.org/2000/svg\" xmlns:xlink=\"http://www.w3.org/1999/xlink\"><defs><filter height=\"300%\" id=\"f1\" width=\"300%\" x=\"-1\" y=\"-1\"><feGaussianBlur result=\"blurOut\" stdDeviation=\"2.0\"/><feColorMatrix in=\"blurOut\" result=\"blurOut2\" type=\"matrix\" values=\"0 0 0 0 0 0 0 0 0 0 0 0 0 0 0 0 0 0 .4 0\"/><feOffset dx=\"4.0\" dy=\"4.0\" in=\"blurOut2\" result=\"blurOut3\"/><feBlend in=\"SourceGraphic\" in2=\"blurOut3\" mode=\"normal\"/></filter></defs><g><line style=\"stroke: #A80036; stroke-width: 1.0; stroke-dasharray: 5.0,5.0;\" x1=\"37\" x2=\"37\" y1=\"38.4883\" y2=\"205.041\"/><line style=\"stroke: #A80036; stroke-width: 1.0; stroke-dasharray: 5.0,5.0;\" x1=\"191\" x2=\"191\" y1=\"38.4883\" y2=\"205.041\"/><line style=\"stroke: #A80036; stroke-width: 1.0; stroke-dasharray: 5.0,5.0;\" x1=\"318\" x2=\"318\" y1=\"38.4883\" y2=\"205.041\"/><line style=\"stroke: #A80036; stroke-width: 1.0; stroke-dasharray: 5.0,5.0;\" x1=\"460\" x2=\"460\" y1=\"38.4883\" y2=\"205.041\"/><rect fill=\"#FEFECE\" filter=\"url(#f1)\" height=\"30.4883\" style=\"stroke: #A80036; stroke-width: 1.5;\" width=\"54\" x=\"8\" y=\"3\"/><text fill=\"#000000\" font-family=\"sans-serif\" font-size=\"14\" lengthAdjust=\"spacingAndGlyphs\" textLength=\"40\" x=\"15\" y=\"23.5352\">Client</text><rect fill=\"#FEFECE\" filter=\"url(#f1)\" height=\"30.4883\" style=\"stroke: #A80036; stroke-width: 1.5;\" width=\"54\" x=\"8\" y=\"204.041\"/><text fill=\"#000000\" font-family=\"sans-serif\" font-size=\"14\" lengthAdjust=\"spacingAndGlyphs\" textLength=\"40\" x=\"15\" y=\"224.5762\">Client</text><rect fill=\"#FEFECE\" filter=\"url(#f1)\" height=\"30.4883\" style=\"stroke: #A80036; stroke-width: 1.5;\" width=\"74\" x=\"152\" y=\"3\"/><text fill=\"#000000\" font-family=\"sans-serif\" font-size=\"14\" lengthAdjust=\"spacingAndGlyphs\" textLength=\"60\" x=\"159\" y=\"23.5352\">ArrayList</text><rect fill=\"#FEFECE\" filter=\"url(#f1)\" height=\"30.4883\" style=\"stroke: #A80036; stroke-width: 1.5;\" width=\"74\" x=\"152\" y=\"204.041\"/><text fill=\"#000000\" font-family=\"sans-serif\" font-size=\"14\" lengthAdjust=\"spacingAndGlyphs\" textLength=\"60\" x=\"159\" y=\"224.5762\">ArrayList</text><rect fill=\"#FEFECE\" filter=\"url(#f1)\" height=\"30.4883\" style=\"stroke: #A80036; stroke-width: 1.5;\" width=\"153\" x=\"240\" y=\"3\"/><text fill=\"#000000\" font-family=\"sans-serif\" font-size=\"14\" lengthAdjust=\"spacingAndGlyphs\" textLength=\"139\" x=\"247\" y=\"23.5352\">IteratorEnumeration</text><rect fill=\"#FEFECE\" filter=\"url(#f1)\" height=\"30.4883\" style=\"stroke: #A80036; stroke-width: 1.5;\" width=\"153\" x=\"240\" y=\"204.041\"/><text fill=\"#000000\" font-family=\"sans-serif\" font-size=\"14\" lengthAdjust=\"spacingAndGlyphs\" textLength=\"139\" x=\"247\" y=\"224.5762\">IteratorEnumeration</text><rect fill=\"#FEFECE\" filter=\"url(#f1)\" height=\"30.4883\" style=\"stroke: #A80036; stroke-width: 1.5;\" width=\"102\" x=\"407\" y=\"3\"/><text fill=\"#000000\" font-family=\"sans-serif\" font-size=\"14\" lengthAdjust=\"spacingAndGlyphs\" textLength=\"88\" x=\"414\" y=\"23.5352\">Enumeration</text><rect fill=\"#FEFECE\" filter=\"url(#f1)\" height=\"30.4883\" style=\"stroke: #A80036; stroke-width: 1.5;\" width=\"102\" x=\"407\" y=\"204.041\"/><text fill=\"#000000\" font-family=\"sans-serif\" font-size=\"14\" lengthAdjust=\"spacingAndGlyphs\" textLength=\"88\" x=\"414\" y=\"224.5762\">Enumeration</text><polygon fill=\"#A80036\" points=\"179,65.4883,189,69.4883,179,73.4883,183,69.4883\" style=\"stroke: #A80036; stroke-width: 1.0;\"/><line style=\"stroke: #A80036; stroke-width: 1.0;\" x1=\"37\" x2=\"185\" y1=\"69.4883\" y2=\"69.4883\"/><text fill=\"#000000\" font-family=\"sans-serif\" font-size=\"13\" lengthAdjust=\"spacingAndGlyphs\" textLength=\"130\" x=\"44\" y=\"65.0566\">l=new ArrayList(List)</text><polygon fill=\"#A80036\" points=\"306.5,94.7988,316.5,98.7988,306.5,102.7988,310.5,98.7988\" style=\"stroke: #A80036; stroke-width: 1.0;\"/><line style=\"stroke: #A80036; stroke-width: 1.0;\" x1=\"37\" x2=\"312.5\" y1=\"98.7988\" y2=\"98.7988\"/><text fill=\"#000000\" font-family=\"sans-serif\" font-size=\"13\" lengthAdjust=\"spacingAndGlyphs\" textLength=\"87\" x=\"44\" y=\"94.3672\">new(l.Iterator)</text><polygon fill=\"#A80036\" points=\"448,124.1094,458,128.1094,448,132.1094,452,128.1094\" style=\"stroke: #A80036; stroke-width: 1.0;\"/><line style=\"stroke: #A80036; stroke-width: 1.0;\" x1=\"318.5\" x2=\"454\" y1=\"128.1094\" y2=\"128.1094\"/><text fill=\"#000000\" font-family=\"sans-serif\" font-size=\"13\" lengthAdjust=\"spacingAndGlyphs\" textLength=\"33\" x=\"325.5\" y=\"123.6777\">new()</text><polygon fill=\"#A80036\" points=\"448,153.4199,458,157.4199,448,161.4199,452,157.4199\" style=\"stroke: #A80036; stroke-width: 1.0;\"/><line style=\"stroke: #A80036; stroke-width: 1.0;\" x1=\"37\" x2=\"454\" y1=\"157.4199\" y2=\"157.4199\"/><text fill=\"#000000\" font-family=\"sans-serif\" font-size=\"13\" lengthAdjust=\"spacingAndGlyphs\" textLength=\"118\" x=\"44\" y=\"152.9883\">hasMoreElements()</text><polygon fill=\"#A80036\" points=\"448,182.7305,458,186.7305,448,190.7305,452,186.7305\" style=\"stroke: #A80036; stroke-width: 1.0;\"/><line style=\"stroke: #A80036; stroke-width: 1.0;\" x1=\"37\" x2=\"454\" y1=\"186.7305\" y2=\"186.7305\"/><text fill=\"#000000\" font-family=\"sans-serif\" font-size=\"13\" lengthAdjust=\"spacingAndGlyphs\" textLength=\"86\" x=\"44\" y=\"182.2988\">nextElement()</text></g></svg>"
      ],
      "text/plain": [
       "<IPython.core.display.SVG object>"
      ]
     },
     "execution_count": 44,
     "metadata": {},
     "output_type": "execute_result"
    }
   ],
   "source": [
    "%%plantuml\n",
    "@startuml\n",
    "Client -> ArrayList:l=new ArrayList(List)\n",
    "Client -> IteratorEnumeration:new(l.Iterator)\n",
    "IteratorEnumeration -> Enumeration:new()\n",
    "Client -> Enumeration:hasMoreElements()\n",
    "Client -> Enumeration:nextElement()\n",
    "@enduml"
   ]
  },
  {
   "cell_type": "code",
   "execution_count": null,
   "metadata": {
    "collapsed": true,
    "slideshow": {
     "slide_type": "slide"
    }
   },
   "outputs": [],
   "source": [
    "# %load ./src/headfirst/adapter/iterenum/IteratorEnumeration.java\n",
    "package headfirst.adapter.iterenum;\n",
    "\n",
    "import java.util.*;\n",
    "public class IteratorEnumeration implements Enumeration {\n",
    "\tIterator iterator;\n",
    "\tpublic IteratorEnumeration(Iterator iterator) {\n",
    "\t\tthis.iterator = iterator;\n",
    "\t}\n",
    "\tpublic boolean hasMoreElements() {\n",
    "\t\treturn iterator.hasNext();\n",
    "\t}\n",
    "\tpublic Object nextElement() {\n",
    "\t\treturn iterator.next();\n",
    "\t}\n",
    "}\n"
   ]
  },
  {
   "cell_type": "code",
   "execution_count": null,
   "metadata": {
    "collapsed": true,
    "slideshow": {
     "slide_type": "slide"
    }
   },
   "outputs": [],
   "source": [
    "# %load ./src/headfirst/adapter/iterenum/IteratorEnumerationTestDrive.java\n",
    "package headfirst.adapter.iterenum;\n",
    "\n",
    "import java.util.*;\n",
    "\n",
    "public class IteratorEnumerationTestDrive {\n",
    "\tpublic static void main (String args[]) {\n",
    "\t\tArrayList l = new ArrayList(Arrays.asList(args));\n",
    "\t\tEnumeration enumeration = new IteratorEnumeration(l.iterator());\n",
    "\t\twhile (enumeration.hasMoreElements()) {\n",
    "\t\t\tSystem.out.println(enumeration.nextElement());\n",
    "\t\t}\n",
    "\t}\n",
    "}\n"
   ]
  },
  {
   "cell_type": "code",
   "execution_count": 41,
   "metadata": {
    "collapsed": false,
    "slideshow": {
     "slide_type": "slide"
    }
   },
   "outputs": [
    {
     "name": "stdout",
     "output_type": "stream",
     "text": [
      "Note: Some input files use unchecked or unsafe operations.\n",
      "Note: Recompile with -Xlint:unchecked for details.\n",
      "abc\n",
      "def\n"
     ]
    }
   ],
   "source": [
    "!javac -d classes/ -sourcepath src/ src/headfirst/adapter/iterenum/*.java\n",
    "!java -cp classes/ headfirst.adapter.iterenum.IteratorEnumerationTestDrive abc def"
   ]
  },
  {
   "cell_type": "markdown",
   "metadata": {},
   "source": [
    "## 6.3 Arrays adapter\n",
    "\n",
    "* Arrays의 리스트 변환 Adapter\n",
    "* asList() 함수를 이용하여, Arrays를 고정크기의 List로 변환.\n",
    "* 변환된 List는 ArraysAdapter로서 Arrays의 특징을 가지게 된다.\n",
    "    * List로 변환하더라도, 고정크기이므로 add, remove는 사용할 수 없다.\n",
    "    * 그러나 List로 변환하고, List의 set()함수를 이용하여, 데이터를 변경할 수 있다 (단, 원래 Arrays도 변경된다)"
   ]
  },
  {
   "cell_type": "markdown",
   "metadata": {},
   "source": [
    "```\n",
    "> import java.util.Arrays\n",
    "> String[] cities = {\"seoul\",\"incheon\",\"busan\",\"sejong\"}\n",
    "> import java.util.List\n",
    "> List cityList=Arrays.asList(cities)\n",
    "> cityList.size()\n",
    "4\n",
    "> cities.length\n",
    "4\n",
    "> cityList.set(0,\"suwon\")\n",
    "\"seoul\"\n",
    "> cityList\n",
    "[suwon, incheon, busan, sejong]\n",
    "> cities\n",
    "{ suwon, incheon, busan, sejong }\n",
    "```"
   ]
  },
  {
   "cell_type": "markdown",
   "metadata": {},
   "source": [
    "* 데이터를 추가할 수 있도록, Arrays를 ArrayList로 변환할 수 있다.\n",
    "    ```\n",
    "    Arraylist cityArrayList = new Arraylist();\n",
    "    cityArrayList.addAll(Arrays.asList(cities));\n",
    "    ```"
   ]
  },
  {
   "cell_type": "markdown",
   "metadata": {},
   "source": [
    "```\n",
    "> import java.util.ArrayList;\n",
    "> ArrayList cityArrayList = new ArrayList();\n",
    "> cityArrayList.addAll(Arrays.asList(cities));\n",
    "> cities\n",
    "{ suwon, incheon, busan, sejong }\n",
    "> cityArrayList.add(\"jeju\")\n",
    "true\n",
    "> cityArrayList\n",
    "[suwon, incheon, busan, sejong, jeju]\n",
    "```"
   ]
  },
  {
   "cell_type": "markdown",
   "metadata": {
    "slideshow": {
     "slide_type": "slide"
    }
   },
   "source": [
    "## 6.4 HomeThreater\n",
    "\n",
    "* Facade Pattern (p.254 ~ )\n",
    "* 많은 기기를 중앙 통제 (모든 기기의 사용법을 알 필요 없슴 Least Knowledge)"
   ]
  },
  {
   "cell_type": "code",
   "execution_count": 28,
   "metadata": {
    "collapsed": false
   },
   "outputs": [
    {
     "data": {
      "image/svg+xml": [
       "<svg height=\"566px\" style=\"width:496px;height:566px;\" version=\"1.1\" viewBox=\"0 0 496 566\" width=\"496px\" xmlns=\"http://www.w3.org/2000/svg\" xmlns:xlink=\"http://www.w3.org/1999/xlink\"><defs><filter height=\"300%\" id=\"f1\" width=\"300%\" x=\"-1\" y=\"-1\"><feGaussianBlur result=\"blurOut\" stdDeviation=\"2.0\"/><feColorMatrix in=\"blurOut\" result=\"blurOut2\" type=\"matrix\" values=\"0 0 0 0 0 0 0 0 0 0 0 0 0 0 0 0 0 0 .4 0\"/><feOffset dx=\"4.0\" dy=\"4.0\" in=\"blurOut2\" result=\"blurOut3\"/><feBlend in=\"SourceGraphic\" in2=\"blurOut3\" mode=\"normal\"/></filter></defs><g><rect fill=\"#FEFECE\" filter=\"url(#f1)\" height=\"164.5957\" style=\"stroke: #A80036; stroke-width: 1.5;\" width=\"335\" x=\"107\" y=\"8\"/><ellipse cx=\"210.25\" cy=\"24\" fill=\"#ADD1B2\" rx=\"11\" ry=\"11\" style=\"stroke: #A80036; stroke-width: 1.0;\"/><path d=\"M213.2231,29.6431 Q212.6421,29.9419 212.0029,30.0913 Q211.3638,30.2407 210.6582,30.2407 Q208.1514,30.2407 206.8315,28.5889 Q205.5117,26.937 205.5117,23.8159 Q205.5117,20.6865 206.8315,19.0347 Q208.1514,17.3828 210.6582,17.3828 Q211.3638,17.3828 212.0112,17.5322 Q212.6587,17.6816 213.2231,17.9805 L213.2231,20.7031 Q212.5923,20.1221 211.9988,19.8523 Q211.4053,19.5825 210.7744,19.5825 Q209.4297,19.5825 208.7449,20.6492 Q208.0601,21.7158 208.0601,23.8159 Q208.0601,25.9077 208.7449,26.9744 Q209.4297,28.041 210.7744,28.041 Q211.4053,28.041 211.9988,27.7712 Q212.5923,27.5015 213.2231,26.9204 Z \"/><text fill=\"#000000\" font-family=\"sans-serif\" font-size=\"12\" lengthAdjust=\"spacingAndGlyphs\" textLength=\"120\" x=\"230.75\" y=\"28.5352\">HomeTheaterFacade</text><line style=\"stroke: #A80036; stroke-width: 1.5;\" x1=\"108\" x2=\"441\" y1=\"40\" y2=\"40\"/><rect fill=\"none\" height=\"6\" style=\"stroke: #C82930; stroke-width: 1.0;\" width=\"6\" x=\"115\" y=\"48.9775\"/><text fill=\"#000000\" font-family=\"sans-serif\" font-size=\"11\" lengthAdjust=\"spacingAndGlyphs\" textLength=\"75\" x=\"127\" y=\"54.6348\">amp:Amplifier</text><rect fill=\"none\" height=\"6\" style=\"stroke: #C82930; stroke-width: 1.0;\" width=\"6\" x=\"115\" y=\"61.9326\"/><text fill=\"#000000\" font-family=\"sans-serif\" font-size=\"11\" lengthAdjust=\"spacingAndGlyphs\" textLength=\"64\" x=\"127\" y=\"67.5898\">tuner:Tuner</text><rect fill=\"none\" height=\"6\" style=\"stroke: #C82930; stroke-width: 1.0;\" width=\"6\" x=\"115\" y=\"74.8877\"/><text fill=\"#000000\" font-family=\"sans-serif\" font-size=\"11\" lengthAdjust=\"spacingAndGlyphs\" textLength=\"76\" x=\"127\" y=\"80.5449\">dvd:DvdPlayer</text><rect fill=\"none\" height=\"6\" style=\"stroke: #C82930; stroke-width: 1.0;\" width=\"6\" x=\"115\" y=\"87.8428\"/><text fill=\"#000000\" font-family=\"sans-serif\" font-size=\"11\" lengthAdjust=\"spacingAndGlyphs\" textLength=\"102\" x=\"127\" y=\"93.5\">projector:Projector</text><line style=\"stroke: #A80036; stroke-width: 1.5;\" x1=\"108\" x2=\"441\" y1=\"99.8203\" y2=\"99.8203\"/><ellipse cx=\"118\" cy=\"111.7979\" fill=\"#84BE84\" rx=\"3\" ry=\"3\" style=\"stroke: #038048; stroke-width: 1.0;\"/><text fill=\"#000000\" font-family=\"sans-serif\" font-size=\"11\" lengthAdjust=\"spacingAndGlyphs\" textLength=\"309\" x=\"127\" y=\"114.4551\">HomeTheaterFacade(Amplifier,Tuner,DvdPlayer,Projector)</text><ellipse cx=\"118\" cy=\"124.7529\" fill=\"#84BE84\" rx=\"3\" ry=\"3\" style=\"stroke: #038048; stroke-width: 1.0;\"/><text fill=\"#000000\" font-family=\"sans-serif\" font-size=\"11\" lengthAdjust=\"spacingAndGlyphs\" textLength=\"128\" x=\"127\" y=\"127.4102\">watchMovie(String):void</text><ellipse cx=\"118\" cy=\"137.708\" fill=\"#84BE84\" rx=\"3\" ry=\"3\" style=\"stroke: #038048; stroke-width: 1.0;\"/><text fill=\"#000000\" font-family=\"sans-serif\" font-size=\"11\" lengthAdjust=\"spacingAndGlyphs\" textLength=\"85\" x=\"127\" y=\"140.3652\">endMovie():void</text><ellipse cx=\"118\" cy=\"150.6631\" fill=\"#84BE84\" rx=\"3\" ry=\"3\" style=\"stroke: #038048; stroke-width: 1.0;\"/><text fill=\"#000000\" font-family=\"sans-serif\" font-size=\"11\" lengthAdjust=\"spacingAndGlyphs\" textLength=\"144\" x=\"127\" y=\"153.3203\">listenToRadio(double):void</text><ellipse cx=\"118\" cy=\"163.6182\" fill=\"#84BE84\" rx=\"3\" ry=\"3\" style=\"stroke: #038048; stroke-width: 1.0;\"/><text fill=\"#000000\" font-family=\"sans-serif\" font-size=\"11\" lengthAdjust=\"spacingAndGlyphs\" textLength=\"84\" x=\"127\" y=\"166.2754\">endRadio():void</text><rect fill=\"#FEFECE\" filter=\"url(#f1)\" height=\"151.6406\" style=\"stroke: #A80036; stroke-width: 1.5;\" width=\"124\" x=\"194.5\" y=\"406\"/><ellipse cx=\"227.5\" cy=\"422\" fill=\"#ADD1B2\" rx=\"11\" ry=\"11\" style=\"stroke: #A80036; stroke-width: 1.0;\"/><path d=\"M230.4731,427.6431 Q229.8921,427.9419 229.2529,428.0913 Q228.6138,428.2407 227.9082,428.2407 Q225.4014,428.2407 224.0815,426.5889 Q222.7617,424.937 222.7617,421.8159 Q222.7617,418.6865 224.0815,417.0347 Q225.4014,415.3828 227.9082,415.3828 Q228.6138,415.3828 229.2612,415.5322 Q229.9087,415.6816 230.4731,415.9805 L230.4731,418.7031 Q229.8423,418.1221 229.2488,417.8523 Q228.6553,417.5825 228.0244,417.5825 Q226.6797,417.5825 225.9949,418.6492 Q225.3101,419.7158 225.3101,421.8159 Q225.3101,423.9077 225.9949,424.9744 Q226.6797,426.041 228.0244,426.041 Q228.6553,426.041 229.2488,425.7712 Q229.8423,425.5015 230.4731,424.9204 Z \"/><text fill=\"#000000\" font-family=\"sans-serif\" font-size=\"12\" lengthAdjust=\"spacingAndGlyphs\" textLength=\"52\" x=\"245.5\" y=\"426.5352\">Amplifier</text><line style=\"stroke: #A80036; stroke-width: 1.5;\" x1=\"195.5\" x2=\"317.5\" y1=\"438\" y2=\"438\"/><text fill=\"#000000\" font-family=\"sans-serif\" font-size=\"11\" lengthAdjust=\"spacingAndGlyphs\" textLength=\"96\" x=\"200.5\" y=\"452.6348\">description:String</text><text fill=\"#000000\" font-family=\"sans-serif\" font-size=\"11\" lengthAdjust=\"spacingAndGlyphs\" textLength=\"64\" x=\"200.5\" y=\"465.5898\">tuner:Tuner</text><text fill=\"#000000\" font-family=\"sans-serif\" font-size=\"11\" lengthAdjust=\"spacingAndGlyphs\" textLength=\"76\" x=\"200.5\" y=\"478.5449\">dvd:DvdPlayer</text><line style=\"stroke: #A80036; stroke-width: 1.5;\" x1=\"195.5\" x2=\"317.5\" y1=\"484.8652\" y2=\"484.8652\"/><ellipse cx=\"205.5\" cy=\"496.8428\" fill=\"#84BE84\" rx=\"3\" ry=\"3\" style=\"stroke: #038048; stroke-width: 1.0;\"/><text fill=\"#000000\" font-family=\"sans-serif\" font-size=\"11\" lengthAdjust=\"spacingAndGlyphs\" textLength=\"22\" x=\"214.5\" y=\"499.5\">on()</text><ellipse cx=\"205.5\" cy=\"509.7979\" fill=\"#84BE84\" rx=\"3\" ry=\"3\" style=\"stroke: #038048; stroke-width: 1.0;\"/><text fill=\"#000000\" font-family=\"sans-serif\" font-size=\"11\" lengthAdjust=\"spacingAndGlyphs\" textLength=\"23\" x=\"214.5\" y=\"512.4551\">off()</text><ellipse cx=\"205.5\" cy=\"522.7529\" fill=\"#84BE84\" rx=\"3\" ry=\"3\" style=\"stroke: #038048; stroke-width: 1.0;\"/><text fill=\"#000000\" font-family=\"sans-serif\" font-size=\"11\" lengthAdjust=\"spacingAndGlyphs\" textLength=\"98\" x=\"214.5\" y=\"525.4102\">setDvd(DvdPlayer)</text><ellipse cx=\"205.5\" cy=\"535.708\" fill=\"#84BE84\" rx=\"3\" ry=\"3\" style=\"stroke: #038048; stroke-width: 1.0;\"/><text fill=\"#000000\" font-family=\"sans-serif\" font-size=\"11\" lengthAdjust=\"spacingAndGlyphs\" textLength=\"81\" x=\"214.5\" y=\"538.3652\">setTuer(Tuner)</text><ellipse cx=\"205.5\" cy=\"548.6631\" fill=\"#84BE84\" rx=\"3\" ry=\"3\" style=\"stroke: #038048; stroke-width: 1.0;\"/><text fill=\"#000000\" font-family=\"sans-serif\" font-size=\"11\" lengthAdjust=\"spacingAndGlyphs\" textLength=\"78\" x=\"214.5\" y=\"551.3203\">setVolume(int)</text><rect fill=\"#FEFECE\" filter=\"url(#f1)\" height=\"138.6855\" style=\"stroke: #A80036; stroke-width: 1.5;\" width=\"153\" x=\"6\" y=\"412.5\"/><ellipse cx=\"61.25\" cy=\"428.5\" fill=\"#ADD1B2\" rx=\"11\" ry=\"11\" style=\"stroke: #A80036; stroke-width: 1.0;\"/><path d=\"M64.2231,434.1431 Q63.6421,434.4419 63.0029,434.5913 Q62.3638,434.7407 61.6582,434.7407 Q59.1514,434.7407 57.8315,433.0889 Q56.5117,431.437 56.5117,428.3159 Q56.5117,425.1865 57.8315,423.5347 Q59.1514,421.8828 61.6582,421.8828 Q62.3638,421.8828 63.0112,422.0322 Q63.6587,422.1816 64.2231,422.4805 L64.2231,425.2031 Q63.5923,424.6221 62.9988,424.3523 Q62.4053,424.0825 61.7744,424.0825 Q60.4297,424.0825 59.7449,425.1492 Q59.0601,426.2158 59.0601,428.3159 Q59.0601,430.4077 59.7449,431.4744 Q60.4297,432.541 61.7744,432.541 Q62.4053,432.541 62.9988,432.2712 Q63.5923,432.0015 64.2231,431.4204 Z \"/><text fill=\"#000000\" font-family=\"sans-serif\" font-size=\"12\" lengthAdjust=\"spacingAndGlyphs\" textLength=\"34\" x=\"81.75\" y=\"433.0352\">Tuner</text><line style=\"stroke: #A80036; stroke-width: 1.5;\" x1=\"7\" x2=\"158\" y1=\"444.5\" y2=\"444.5\"/><text fill=\"#000000\" font-family=\"sans-serif\" font-size=\"11\" lengthAdjust=\"spacingAndGlyphs\" textLength=\"96\" x=\"12\" y=\"459.1348\">description:String</text><text fill=\"#000000\" font-family=\"sans-serif\" font-size=\"11\" lengthAdjust=\"spacingAndGlyphs\" textLength=\"99\" x=\"12\" y=\"472.0898\">amplifier:Amplifier</text><text fill=\"#000000\" font-family=\"sans-serif\" font-size=\"11\" lengthAdjust=\"spacingAndGlyphs\" textLength=\"94\" x=\"12\" y=\"485.0449\">frequency:double</text><line style=\"stroke: #A80036; stroke-width: 1.5;\" x1=\"7\" x2=\"158\" y1=\"491.3652\" y2=\"491.3652\"/><ellipse cx=\"17\" cy=\"503.3428\" fill=\"#84BE84\" rx=\"3\" ry=\"3\" style=\"stroke: #038048; stroke-width: 1.0;\"/><text fill=\"#000000\" font-family=\"sans-serif\" font-size=\"11\" lengthAdjust=\"spacingAndGlyphs\" textLength=\"127\" x=\"26\" y=\"506\">Tuner(String, Amplifier)</text><ellipse cx=\"17\" cy=\"516.2979\" fill=\"#84BE84\" rx=\"3\" ry=\"3\" style=\"stroke: #038048; stroke-width: 1.0;\"/><text fill=\"#000000\" font-family=\"sans-serif\" font-size=\"11\" lengthAdjust=\"spacingAndGlyphs\" textLength=\"22\" x=\"26\" y=\"518.9551\">on()</text><ellipse cx=\"17\" cy=\"529.2529\" fill=\"#84BE84\" rx=\"3\" ry=\"3\" style=\"stroke: #038048; stroke-width: 1.0;\"/><text fill=\"#000000\" font-family=\"sans-serif\" font-size=\"11\" lengthAdjust=\"spacingAndGlyphs\" textLength=\"23\" x=\"26\" y=\"531.9102\">off()</text><ellipse cx=\"17\" cy=\"542.208\" fill=\"#84BE84\" rx=\"3\" ry=\"3\" style=\"stroke: #038048; stroke-width: 1.0;\"/><text fill=\"#000000\" font-family=\"sans-serif\" font-size=\"11\" lengthAdjust=\"spacingAndGlyphs\" textLength=\"117\" x=\"26\" y=\"544.8652\">setFrequency(double)</text><rect fill=\"#FEFECE\" filter=\"url(#f1)\" height=\"151.6406\" style=\"stroke: #A80036; stroke-width: 1.5;\" width=\"111\" x=\"354\" y=\"406\"/><ellipse cx=\"378.45\" cy=\"422\" fill=\"#ADD1B2\" rx=\"11\" ry=\"11\" style=\"stroke: #A80036; stroke-width: 1.0;\"/><path d=\"M381.4231,427.6431 Q380.8421,427.9419 380.2029,428.0913 Q379.5638,428.2407 378.8582,428.2407 Q376.3514,428.2407 375.0315,426.5889 Q373.7117,424.937 373.7117,421.8159 Q373.7117,418.6865 375.0315,417.0347 Q376.3514,415.3828 378.8582,415.3828 Q379.5638,415.3828 380.2112,415.5322 Q380.8587,415.6816 381.4231,415.9805 L381.4231,418.7031 Q380.7923,418.1221 380.1988,417.8523 Q379.6053,417.5825 378.9744,417.5825 Q377.6297,417.5825 376.9449,418.6492 Q376.2601,419.7158 376.2601,421.8159 Q376.2601,423.9077 376.9449,424.9744 Q377.6297,426.041 378.9744,426.041 Q379.6053,426.041 380.1988,425.7712 Q380.7923,425.5015 381.4231,424.9204 Z \"/><text fill=\"#000000\" font-family=\"sans-serif\" font-size=\"12\" lengthAdjust=\"spacingAndGlyphs\" textLength=\"58\" x=\"394.55\" y=\"426.5352\">DvdPlayer</text><line style=\"stroke: #A80036; stroke-width: 1.5;\" x1=\"355\" x2=\"464\" y1=\"438\" y2=\"438\"/><text fill=\"#000000\" font-family=\"sans-serif\" font-size=\"11\" lengthAdjust=\"spacingAndGlyphs\" textLength=\"96\" x=\"360\" y=\"452.6348\">description:String</text><text fill=\"#000000\" font-family=\"sans-serif\" font-size=\"11\" lengthAdjust=\"spacingAndGlyphs\" textLength=\"99\" x=\"360\" y=\"465.5898\">amplifier:Amplifier</text><text fill=\"#000000\" font-family=\"sans-serif\" font-size=\"11\" lengthAdjust=\"spacingAndGlyphs\" textLength=\"67\" x=\"360\" y=\"478.5449\">movie:String</text><line style=\"stroke: #A80036; stroke-width: 1.5;\" x1=\"355\" x2=\"464\" y1=\"484.8652\" y2=\"484.8652\"/><text fill=\"#000000\" font-family=\"sans-serif\" font-size=\"11\" lengthAdjust=\"spacingAndGlyphs\" textLength=\"22\" x=\"360\" y=\"499.5\">on()</text><text fill=\"#000000\" font-family=\"sans-serif\" font-size=\"11\" lengthAdjust=\"spacingAndGlyphs\" textLength=\"23\" x=\"360\" y=\"512.4551\">off()</text><text fill=\"#000000\" font-family=\"sans-serif\" font-size=\"11\" lengthAdjust=\"spacingAndGlyphs\" textLength=\"62\" x=\"360\" y=\"525.4102\">play(String)</text><text fill=\"#000000\" font-family=\"sans-serif\" font-size=\"11\" lengthAdjust=\"spacingAndGlyphs\" textLength=\"32\" x=\"360\" y=\"538.3652\">stop()</text><text fill=\"#000000\" font-family=\"sans-serif\" font-size=\"11\" lengthAdjust=\"spacingAndGlyphs\" textLength=\"33\" x=\"360\" y=\"551.3203\">eject()</text><rect fill=\"#FEFECE\" filter=\"url(#f1)\" height=\"112.7754\" style=\"stroke: #A80036; stroke-width: 1.5;\" width=\"123\" x=\"364\" y=\"233\"/><ellipse cx=\"396.55\" cy=\"249\" fill=\"#ADD1B2\" rx=\"11\" ry=\"11\" style=\"stroke: #A80036; stroke-width: 1.0;\"/><path d=\"M399.5231,254.6431 Q398.9421,254.9419 398.3029,255.0913 Q397.6638,255.2407 396.9582,255.2407 Q394.4514,255.2407 393.1315,253.5889 Q391.8117,251.937 391.8117,248.8159 Q391.8117,245.6865 393.1315,244.0347 Q394.4514,242.3828 396.9582,242.3828 Q397.6638,242.3828 398.3112,242.5322 Q398.9587,242.6816 399.5231,242.9805 L399.5231,245.7031 Q398.8923,245.1221 398.2988,244.8523 Q397.7053,244.5825 397.0744,244.5825 Q395.7297,244.5825 395.0449,245.6492 Q394.3601,246.7158 394.3601,248.8159 Q394.3601,250.9077 395.0449,251.9744 Q395.7297,253.041 397.0744,253.041 Q397.7053,253.041 398.2988,252.7712 Q398.8923,252.5015 399.5231,251.9204 Z \"/><text fill=\"#000000\" font-family=\"sans-serif\" font-size=\"12\" lengthAdjust=\"spacingAndGlyphs\" textLength=\"52\" x=\"414.45\" y=\"253.5352\">Projector</text><line style=\"stroke: #A80036; stroke-width: 1.5;\" x1=\"365\" x2=\"486\" y1=\"265\" y2=\"265\"/><text fill=\"#000000\" font-family=\"sans-serif\" font-size=\"11\" lengthAdjust=\"spacingAndGlyphs\" textLength=\"96\" x=\"370\" y=\"279.6348\">description:String</text><text fill=\"#000000\" font-family=\"sans-serif\" font-size=\"11\" lengthAdjust=\"spacingAndGlyphs\" textLength=\"108\" x=\"370\" y=\"292.5898\">dvdPlayer:DvdPlayer</text><line style=\"stroke: #A80036; stroke-width: 1.5;\" x1=\"365\" x2=\"486\" y1=\"298.9102\" y2=\"298.9102\"/><ellipse cx=\"375\" cy=\"310.8877\" fill=\"#84BE84\" rx=\"3\" ry=\"3\" style=\"stroke: #038048; stroke-width: 1.0;\"/><text fill=\"#000000\" font-family=\"sans-serif\" font-size=\"11\" lengthAdjust=\"spacingAndGlyphs\" textLength=\"22\" x=\"384\" y=\"313.5449\">on()</text><ellipse cx=\"375\" cy=\"323.8428\" fill=\"#84BE84\" rx=\"3\" ry=\"3\" style=\"stroke: #038048; stroke-width: 1.0;\"/><text fill=\"#000000\" font-family=\"sans-serif\" font-size=\"11\" lengthAdjust=\"spacingAndGlyphs\" textLength=\"23\" x=\"384\" y=\"326.5\">off()</text><ellipse cx=\"375\" cy=\"336.7979\" fill=\"#84BE84\" rx=\"3\" ry=\"3\" style=\"stroke: #038048; stroke-width: 1.0;\"/><text fill=\"#000000\" font-family=\"sans-serif\" font-size=\"11\" lengthAdjust=\"spacingAndGlyphs\" textLength=\"97\" x=\"384\" y=\"339.4551\">wideScreenMode()</text><path d=\"M270.727,173.152 C267.637,240.006 263.29,334.07 260.216,400.585 \" fill=\"none\" style=\"stroke: #A80036; stroke-width: 1.0;\"/><polygon fill=\"#A80036\" points=\"259.979,405.727,264.3912,396.9217,260.2104,400.7324,256.3998,396.5515,259.979,405.727\" style=\"stroke: #A80036; stroke-width: 1.0;\"/><path d=\"M234.251,173.152 C200.102,242.427 151.551,340.92 118.632,407.701 \" fill=\"none\" style=\"stroke: #A80036; stroke-width: 1.0;\"/><polygon fill=\"#A80036\" points=\"116.289,412.454,123.8563,406.1504,118.4999,407.9694,116.6809,402.6129,116.289,412.454\" style=\"stroke: #A80036; stroke-width: 1.0;\"/><path d=\"M294.011,173.089 C306.954,223.553 325.406,289.3 346.5,346 C353.276,364.213 361.501,383.363 369.741,401.332 \" fill=\"none\" style=\"stroke: #A80036; stroke-width: 1.0;\"/><polygon fill=\"#A80036\" points=\"371.835,405.874,371.6998,396.0261,369.7418,401.3332,364.4346,399.3752,371.835,405.874\" style=\"stroke: #A80036; stroke-width: 1.0;\"/><path d=\"M337.007,173.049 C351.219,191.59 366.063,210.957 379.444,228.414 \" fill=\"none\" style=\"stroke: #A80036; stroke-width: 1.0;\"/><polygon fill=\"#A80036\" points=\"382.814,232.81,380.5143,223.2334,379.7726,228.8414,374.1645,228.0997,382.814,232.81\" style=\"stroke: #A80036; stroke-width: 1.0;\"/><path d=\"M164.49,533.9521 C174.404,534.6363 184.319,533.2896 194.234,529.9119 \" fill=\"none\" style=\"stroke: #A80036; stroke-width: 1.0;\"/><polygon fill=\"#A80036\" points=\"159.305,533.4092,167.8388,538.3259,164.2777,533.9306,168.6731,530.3696,159.305,533.4092\" style=\"stroke: #A80036; stroke-width: 1.0;\"/><path d=\"M159.305,430.591 C169.311,429.186 179.316,429.849 189.322,432.581 \" fill=\"none\" style=\"stroke: #A80036; stroke-width: 1.0;\"/><polygon fill=\"#A80036\" points=\"194.234,434.088,186.8038,427.6233,189.4541,432.6209,184.4565,435.2711,194.234,434.088\" style=\"stroke: #A80036; stroke-width: 1.0;\"/><path d=\"M318.656,536.9961 C328.72,539.808 338.783,539.6606 348.847,536.5541 \" fill=\"none\" style=\"stroke: #A80036; stroke-width: 1.0;\"/><polygon fill=\"#A80036\" points=\"353.787,534.7913,343.9662,534.048,349.0777,536.4714,346.6543,541.5828,353.787,534.7913\" style=\"stroke: #A80036; stroke-width: 1.0;\"/><path d=\"M353.787,429.209 C343.724,425.134 333.66,424.018 323.597,425.861 \" fill=\"none\" style=\"stroke: #A80036; stroke-width: 1.0;\"/><polygon fill=\"#A80036\" points=\"318.656,427.004,328.326,428.8722,323.5273,425.8769,326.5227,421.0782,318.656,427.004\" style=\"stroke: #A80036; stroke-width: 1.0;\"/><path d=\"M420.829,346.113 C419.396,363.178 417.789,382.309 416.246,400.681 \" fill=\"none\" style=\"stroke: #A80036; stroke-width: 1.0;\"/><polygon fill=\"#A80036\" points=\"415.813,405.84,420.5523,397.2064,416.2315,400.8575,412.5804,396.5368,415.813,405.84\" style=\"stroke: #A80036; stroke-width: 1.0;\"/></g></svg>"
      ],
      "text/plain": [
       "<IPython.core.display.SVG object>"
      ]
     },
     "execution_count": 28,
     "metadata": {},
     "output_type": "execute_result"
    }
   ],
   "source": [
    "%%plantuml\n",
    "@startuml\n",
    "class HomeTheaterFacade {\n",
    "    -amp:Amplifier\n",
    "    -tuner:Tuner\n",
    "    -dvd:DvdPlayer\n",
    "    -projector:Projector\n",
    "    +HomeTheaterFacade(Amplifier,Tuner,DvdPlayer,Projector)\n",
    "    +watchMovie(String):void\n",
    "    +endMovie():void\n",
    "    +listenToRadio(double):void\n",
    "    +endRadio():void\n",
    "}\n",
    "HomeTheaterFacade --> Amplifier\n",
    "HomeTheaterFacade --> Tuner\n",
    "HomeTheaterFacade --> DvdPlayer\n",
    "HomeTheaterFacade --> Projector\n",
    "Amplifier -left-> Tuner\n",
    "Amplifier -right-> DvdPlayer\n",
    "Tuner --> Amplifier\n",
    "DvdPlayer --> Amplifier\n",
    "Projector --> DvdPlayer\n",
    "class Amplifier {\n",
    "    description:String\n",
    "    tuner:Tuner\n",
    "    dvd:DvdPlayer\n",
    "    +on()\n",
    "    +off()\n",
    "    +setDvd(DvdPlayer)\n",
    "    +setTuer(Tuner)\n",
    "    +setVolume(int)\n",
    "}\n",
    "class Tuner {\n",
    "    description:String\n",
    "    amplifier:Amplifier\n",
    "    frequency:double\n",
    "    +Tuner(String, Amplifier)\n",
    "    +on()\n",
    "    +off()\n",
    "    +setFrequency(double)\n",
    "}\n",
    "class DvdPlayer {\n",
    "    description:String\n",
    "    amplifier:Amplifier\n",
    "    movie:String\n",
    "    on()\n",
    "    off()\n",
    "    play(String)\n",
    "    stop()\n",
    "    eject()\n",
    "}\n",
    "class Projector {\n",
    "    description:String\n",
    "    dvdPlayer:DvdPlayer\n",
    "    +on()\n",
    "    +off()\n",
    "    +wideScreenMode()\n",
    "}\n",
    "@enduml"
   ]
  },
  {
   "cell_type": "code",
   "execution_count": 23,
   "metadata": {
    "collapsed": false,
    "slideshow": {
     "slide_type": "slide"
    }
   },
   "outputs": [
    {
     "data": {
      "image/svg+xml": [
       "<svg height=\"302px\" style=\"width:608px;height:302px;\" version=\"1.1\" viewBox=\"0 0 608 302\" width=\"608px\" xmlns=\"http://www.w3.org/2000/svg\" xmlns:xlink=\"http://www.w3.org/1999/xlink\"><defs><filter height=\"300%\" id=\"f1\" width=\"300%\" x=\"-1\" y=\"-1\"><feGaussianBlur result=\"blurOut\" stdDeviation=\"2.0\"/><feColorMatrix in=\"blurOut\" result=\"blurOut2\" type=\"matrix\" values=\"0 0 0 0 0 0 0 0 0 0 0 0 0 0 0 0 0 0 .4 0\"/><feOffset dx=\"4.0\" dy=\"4.0\" in=\"blurOut2\" result=\"blurOut3\"/><feBlend in=\"SourceGraphic\" in2=\"blurOut3\" mode=\"normal\"/></filter></defs><g><line style=\"stroke: #A80036; stroke-width: 1.0; stroke-dasharray: 5.0,5.0;\" x1=\"37\" x2=\"37\" y1=\"38.4883\" y2=\"263.6621\"/><line style=\"stroke: #A80036; stroke-width: 1.0; stroke-dasharray: 5.0,5.0;\" x1=\"130.5\" x2=\"130.5\" y1=\"38.4883\" y2=\"263.6621\"/><line style=\"stroke: #A80036; stroke-width: 1.0; stroke-dasharray: 5.0,5.0;\" x1=\"210.5\" x2=\"210.5\" y1=\"38.4883\" y2=\"263.6621\"/><line style=\"stroke: #A80036; stroke-width: 1.0; stroke-dasharray: 5.0,5.0;\" x1=\"292.5\" x2=\"292.5\" y1=\"38.4883\" y2=\"263.6621\"/><line style=\"stroke: #A80036; stroke-width: 1.0; stroke-dasharray: 5.0,5.0;\" x1=\"385.5\" x2=\"385.5\" y1=\"38.4883\" y2=\"263.6621\"/><line style=\"stroke: #A80036; stroke-width: 1.0; stroke-dasharray: 5.0,5.0;\" x1=\"519.5\" x2=\"519.5\" y1=\"38.4883\" y2=\"263.6621\"/><rect fill=\"#FEFECE\" filter=\"url(#f1)\" height=\"30.4883\" style=\"stroke: #A80036; stroke-width: 1.5;\" width=\"54\" x=\"8\" y=\"3\"/><text fill=\"#000000\" font-family=\"sans-serif\" font-size=\"14\" lengthAdjust=\"spacingAndGlyphs\" textLength=\"40\" x=\"15\" y=\"23.5352\">Client</text><rect fill=\"#FEFECE\" filter=\"url(#f1)\" height=\"30.4883\" style=\"stroke: #A80036; stroke-width: 1.5;\" width=\"54\" x=\"8\" y=\"262.6621\"/><text fill=\"#000000\" font-family=\"sans-serif\" font-size=\"14\" lengthAdjust=\"spacingAndGlyphs\" textLength=\"40\" x=\"15\" y=\"283.1973\">Client</text><rect fill=\"#FEFECE\" filter=\"url(#f1)\" height=\"30.4883\" style=\"stroke: #A80036; stroke-width: 1.5;\" width=\"77\" x=\"90.5\" y=\"3\"/><text fill=\"#000000\" font-family=\"sans-serif\" font-size=\"14\" lengthAdjust=\"spacingAndGlyphs\" textLength=\"63\" x=\"97.5\" y=\"23.5352\">Amplifier</text><rect fill=\"#FEFECE\" filter=\"url(#f1)\" height=\"30.4883\" style=\"stroke: #A80036; stroke-width: 1.5;\" width=\"77\" x=\"90.5\" y=\"262.6621\"/><text fill=\"#000000\" font-family=\"sans-serif\" font-size=\"14\" lengthAdjust=\"spacingAndGlyphs\" textLength=\"63\" x=\"97.5\" y=\"283.1973\">Amplifier</text><rect fill=\"#FEFECE\" filter=\"url(#f1)\" height=\"30.4883\" style=\"stroke: #A80036; stroke-width: 1.5;\" width=\"55\" x=\"181.5\" y=\"3\"/><text fill=\"#000000\" font-family=\"sans-serif\" font-size=\"14\" lengthAdjust=\"spacingAndGlyphs\" textLength=\"41\" x=\"188.5\" y=\"23.5352\">Tuner</text><rect fill=\"#FEFECE\" filter=\"url(#f1)\" height=\"30.4883\" style=\"stroke: #A80036; stroke-width: 1.5;\" width=\"55\" x=\"181.5\" y=\"262.6621\"/><text fill=\"#000000\" font-family=\"sans-serif\" font-size=\"14\" lengthAdjust=\"spacingAndGlyphs\" textLength=\"41\" x=\"188.5\" y=\"283.1973\">Tuner</text><rect fill=\"#FEFECE\" filter=\"url(#f1)\" height=\"30.4883\" style=\"stroke: #A80036; stroke-width: 1.5;\" width=\"81\" x=\"250.5\" y=\"3\"/><text fill=\"#000000\" font-family=\"sans-serif\" font-size=\"14\" lengthAdjust=\"spacingAndGlyphs\" textLength=\"67\" x=\"257.5\" y=\"23.5352\">DvdPlayer</text><rect fill=\"#FEFECE\" filter=\"url(#f1)\" height=\"30.4883\" style=\"stroke: #A80036; stroke-width: 1.5;\" width=\"81\" x=\"250.5\" y=\"262.6621\"/><text fill=\"#000000\" font-family=\"sans-serif\" font-size=\"14\" lengthAdjust=\"spacingAndGlyphs\" textLength=\"67\" x=\"257.5\" y=\"283.1973\">DvdPlayer</text><rect fill=\"#FEFECE\" filter=\"url(#f1)\" height=\"30.4883\" style=\"stroke: #A80036; stroke-width: 1.5;\" width=\"76\" x=\"345.5\" y=\"3\"/><text fill=\"#000000\" font-family=\"sans-serif\" font-size=\"14\" lengthAdjust=\"spacingAndGlyphs\" textLength=\"62\" x=\"352.5\" y=\"23.5352\">Projector</text><rect fill=\"#FEFECE\" filter=\"url(#f1)\" height=\"30.4883\" style=\"stroke: #A80036; stroke-width: 1.5;\" width=\"76\" x=\"345.5\" y=\"262.6621\"/><text fill=\"#000000\" font-family=\"sans-serif\" font-size=\"14\" lengthAdjust=\"spacingAndGlyphs\" textLength=\"62\" x=\"352.5\" y=\"283.1973\">Projector</text><rect fill=\"#FEFECE\" filter=\"url(#f1)\" height=\"30.4883\" style=\"stroke: #A80036; stroke-width: 1.5;\" width=\"164\" x=\"435.5\" y=\"3\"/><text fill=\"#000000\" font-family=\"sans-serif\" font-size=\"14\" lengthAdjust=\"spacingAndGlyphs\" textLength=\"150\" x=\"442.5\" y=\"23.5352\">HomeTheatherFacade</text><rect fill=\"#FEFECE\" filter=\"url(#f1)\" height=\"30.4883\" style=\"stroke: #A80036; stroke-width: 1.5;\" width=\"164\" x=\"435.5\" y=\"262.6621\"/><text fill=\"#000000\" font-family=\"sans-serif\" font-size=\"14\" lengthAdjust=\"spacingAndGlyphs\" textLength=\"150\" x=\"442.5\" y=\"283.1973\">HomeTheatherFacade</text><polygon fill=\"#A80036\" points=\"119,65.4883,129,69.4883,119,73.4883,123,69.4883\" style=\"stroke: #A80036; stroke-width: 1.0;\"/><line style=\"stroke: #A80036; stroke-width: 1.0;\" x1=\"37\" x2=\"125\" y1=\"69.4883\" y2=\"69.4883\"/><text fill=\"#000000\" font-family=\"sans-serif\" font-size=\"13\" lengthAdjust=\"spacingAndGlyphs\" textLength=\"70\" x=\"44\" y=\"65.0566\">amp=new()</text><polygon fill=\"#A80036\" points=\"199,94.7988,209,98.7988,199,102.7988,203,98.7988\" style=\"stroke: #A80036; stroke-width: 1.0;\"/><line style=\"stroke: #A80036; stroke-width: 1.0;\" x1=\"37\" x2=\"205\" y1=\"98.7988\" y2=\"98.7988\"/><text fill=\"#000000\" font-family=\"sans-serif\" font-size=\"13\" lengthAdjust=\"spacingAndGlyphs\" textLength=\"103\" x=\"44\" y=\"94.3672\">tuner=new(amp)</text><polygon fill=\"#A80036\" points=\"281,124.1094,291,128.1094,281,132.1094,285,128.1094\" style=\"stroke: #A80036; stroke-width: 1.0;\"/><line style=\"stroke: #A80036; stroke-width: 1.0;\" x1=\"37\" x2=\"287\" y1=\"128.1094\" y2=\"128.1094\"/><text fill=\"#000000\" font-family=\"sans-serif\" font-size=\"13\" lengthAdjust=\"spacingAndGlyphs\" textLength=\"93\" x=\"44\" y=\"123.6777\">dvd=new(amp)</text><polygon fill=\"#A80036\" points=\"373.5,153.4199,383.5,157.4199,373.5,161.4199,377.5,157.4199\" style=\"stroke: #A80036; stroke-width: 1.0;\"/><line style=\"stroke: #A80036; stroke-width: 1.0;\" x1=\"37\" x2=\"379.5\" y1=\"157.4199\" y2=\"157.4199\"/><text fill=\"#000000\" font-family=\"sans-serif\" font-size=\"13\" lengthAdjust=\"spacingAndGlyphs\" textLength=\"123\" x=\"44\" y=\"152.9883\">projector=new(dvd)</text><polygon fill=\"#A80036\" points=\"507.5,182.7305,517.5,186.7305,507.5,190.7305,511.5,186.7305\" style=\"stroke: #A80036; stroke-width: 1.0;\"/><line style=\"stroke: #A80036; stroke-width: 1.0;\" x1=\"37\" x2=\"513.5\" y1=\"186.7305\" y2=\"186.7305\"/><text fill=\"#000000\" font-family=\"sans-serif\" font-size=\"13\" lengthAdjust=\"spacingAndGlyphs\" textLength=\"277\" x=\"44\" y=\"182.2988\">homeTheater=new(amp,tuner,dvd,projector)</text><polygon fill=\"#A80036\" points=\"507.5,212.041,517.5,216.041,507.5,220.041,511.5,216.041\" style=\"stroke: #A80036; stroke-width: 1.0;\"/><line style=\"stroke: #A80036; stroke-width: 1.0;\" x1=\"37\" x2=\"513.5\" y1=\"216.041\" y2=\"216.041\"/><text fill=\"#000000\" font-family=\"sans-serif\" font-size=\"13\" lengthAdjust=\"spacingAndGlyphs\" textLength=\"82\" x=\"44\" y=\"211.6094\">watchMovie()</text><polygon fill=\"#A80036\" points=\"507.5,241.3516,517.5,245.3516,507.5,249.3516,511.5,245.3516\" style=\"stroke: #A80036; stroke-width: 1.0;\"/><line style=\"stroke: #A80036; stroke-width: 1.0;\" x1=\"37\" x2=\"513.5\" y1=\"245.3516\" y2=\"245.3516\"/><text fill=\"#000000\" font-family=\"sans-serif\" font-size=\"13\" lengthAdjust=\"spacingAndGlyphs\" textLength=\"68\" x=\"44\" y=\"240.9199\">endMovie()</text></g></svg>"
      ],
      "text/plain": [
       "<IPython.core.display.SVG object>"
      ]
     },
     "execution_count": 23,
     "metadata": {},
     "output_type": "execute_result"
    }
   ],
   "source": [
    "%%plantuml\n",
    "@startuml\n",
    "Client -> Amplifier:amp=new()\n",
    "Client -> Tuner:tuner=new(amp)\n",
    "Client -> DvdPlayer:dvd=new(amp)\n",
    "Client -> Projector:projector=new(dvd)\n",
    "Client -> HomeTheatherFacade:homeTheater=new(amp,tuner,dvd,projector)\n",
    "Client -> HomeTheatherFacade:watchMovie()\n",
    "Client -> HomeTheatherFacade:endMovie()\n",
    "@enduml"
   ]
  },
  {
   "cell_type": "code",
   "execution_count": null,
   "metadata": {
    "collapsed": true,
    "slideshow": {
     "slide_type": "slide"
    }
   },
   "outputs": [],
   "source": [
    "# %load ./src/headfirst/facade/hometheater/simple/Amplifier.java\n",
    "package headfirst.facade.hometheater.simple;\n",
    "\n",
    "public class Amplifier {\n",
    "    String description;\n",
    "    Tuner tuner;\n",
    "    DvdPlayer dvd;\n",
    "    public Amplifier(String description) {\n",
    "        this.description = description;\n",
    "    }\n",
    "    public void on() {\n",
    "        System.out.println(description + \" on\");\n",
    "    }\n",
    "    public void off() {\n",
    "        System.out.println(description + \" off\");\n",
    "    }\n",
    "    public void setDvd(DvdPlayer dvd) {\n",
    "        System.out.println(description + \" setting DVD player to \" + dvd);\n",
    "        this.dvd = dvd;\n",
    "    }\n",
    "    public void setTuner(Tuner tuner) {\n",
    "        System.out.println(description + \" setting tuner to \" + dvd);\n",
    "        this.tuner = tuner;\n",
    "    }\n",
    "    public void setVolume(int level) {\n",
    "        System.out.println(description + \" setting volume to \" + level);\n",
    "    }\n",
    "    public String toString() {\n",
    "        return description;\n",
    "    }\n",
    "}\n"
   ]
  },
  {
   "cell_type": "code",
   "execution_count": null,
   "metadata": {
    "collapsed": true,
    "slideshow": {
     "slide_type": "slide"
    }
   },
   "outputs": [],
   "source": [
    "# %load ./src/headfirst/facade/hometheater/simple/DvdPlayer.java\n",
    "package headfirst.facade.hometheater.simple;\n",
    "\n",
    "public class DvdPlayer {\n",
    "    String description;\n",
    "    Amplifier amplifier;\n",
    "    String movie;\n",
    "\t\n",
    "    public DvdPlayer(String description, Amplifier amplifier) {\n",
    "        this.description = description;\n",
    "        this.amplifier = amplifier;\n",
    "    }\n",
    "    public void on() {\n",
    "        System.out.println(description + \" on\");\n",
    "    }\n",
    "    public void off() {\n",
    "        System.out.println(description + \" off\");\n",
    "    }\n",
    "    public void eject() {\n",
    "        movie = null;\n",
    "        System.out.println(description + \" eject\");\n",
    "    }\n",
    "    public void play(String movie) {\n",
    "        this.movie = movie;\n",
    "        System.out.println(description + \" playing \\\"\" + movie + \"\\\"\");\n",
    "    }\n",
    "    public void stop() {\n",
    "        System.out.println(description + \" stopped \\\"\" + movie + \"\\\"\");\n",
    "    }\n",
    "    public String toString() {\n",
    "        return description;\n",
    "    }\n",
    "}\n"
   ]
  },
  {
   "cell_type": "code",
   "execution_count": null,
   "metadata": {
    "collapsed": true,
    "slideshow": {
     "slide_type": "slide"
    }
   },
   "outputs": [],
   "source": [
    "# %load ./src/headfirst/facade/hometheater/simple/Projector.java\n",
    "package headfirst.facade.hometheater.simple;\n",
    "\n",
    "public class Projector {\n",
    "    String description;\n",
    "    DvdPlayer dvdPlayer;\n",
    "    public Projector(String description, DvdPlayer dvdPlayer) {\n",
    "        this.description = description;\n",
    "        this.dvdPlayer = dvdPlayer;\n",
    "    }\n",
    "    public void on() {\n",
    "        System.out.println(description + \" on\");\n",
    "    }\n",
    "    public void off() {\n",
    "        System.out.println(description + \" off\");\n",
    "    }\n",
    "    public void wideScreenMode() {\n",
    "        System.out.println(description + \" in widescreen mode (16x9 aspect ratio)\");\n",
    "    }\n",
    "    public String toString() {\n",
    "        return description;\n",
    "    }\n",
    "}\n"
   ]
  },
  {
   "cell_type": "code",
   "execution_count": null,
   "metadata": {
    "collapsed": true,
    "slideshow": {
     "slide_type": "slide"
    }
   },
   "outputs": [],
   "source": [
    "# %load ./src/headfirst/facade/hometheater/simple/Tuner.java\n",
    "package headfirst.facade.hometheater.simple;\n",
    "\n",
    "public class Tuner {\n",
    "    String description;\n",
    "    Amplifier amplifier;\n",
    "    double frequency;\n",
    "\t\n",
    "    public Tuner(String description, Amplifier amplifier) {\n",
    "        this.description = description;\n",
    "    }\n",
    "    public void on() {\n",
    "        System.out.println(description + \" on\");\n",
    "    }\n",
    "    public void off() {\n",
    "        System.out.println(description + \" off\");\n",
    "    }\n",
    "    public void setFrequency(double frequency) {\n",
    "        System.out.println(description + \" setting frequency to \" + frequency);\n",
    "        this.frequency = frequency;\n",
    "    }\n",
    "    public String toString() {\n",
    "        return description;\n",
    "    }\n",
    "}\n"
   ]
  },
  {
   "cell_type": "code",
   "execution_count": null,
   "metadata": {
    "collapsed": true,
    "slideshow": {
     "slide_type": "slide"
    }
   },
   "outputs": [],
   "source": [
    "# %load ./src/headfirst/facade/hometheater/simple/HomeTheaterFacade.java\n",
    "package headfirst.facade.hometheater.simple;\n",
    "\n",
    "public class HomeTheaterFacade {\n",
    "    private Amplifier amp;\n",
    "    private Tuner tuner;\n",
    "    private DvdPlayer dvd;\n",
    "    private Projector projector;\n",
    " \n",
    "    public HomeTheaterFacade(Amplifier amp, Tuner tuner, DvdPlayer dvd, Projector projector) {\n",
    "        this.amp = amp;\n",
    "        this.tuner = tuner;\n",
    "        this.dvd = dvd;\n",
    "        this.projector = projector;\n",
    "    }\n",
    " \n",
    "    public void watchMovie(String movie) {\n",
    "        System.out.println(\"Get ready to watch a movie...\");\n",
    "        projector.on();\n",
    "        projector.wideScreenMode();\n",
    "        amp.on();\n",
    "        amp.setDvd(dvd);\n",
    "        amp.setVolume(5);\n",
    "        dvd.on();\n",
    "        dvd.play(movie);\n",
    "    }\n",
    "    public void endMovie() {\n",
    "        System.out.println(\"Shutting movie theater down...\");\n",
    "        projector.off();\n",
    "        amp.off();\n",
    "        dvd.stop();\n",
    "        dvd.eject();\n",
    "        dvd.off();\n",
    "    }\n",
    "    public void listenToRadio(double frequency) {\n",
    "        System.out.println(\"Tuning in the airwaves...\");\n",
    "        tuner.on();\n",
    "        tuner.setFrequency(frequency);\n",
    "        amp.on();\n",
    "        amp.setVolume(5);\n",
    "        amp.setTuner(tuner);\n",
    "    }\n",
    "    public void endRadio() {\n",
    "        System.out.println(\"Shutting down the tuner...\");\n",
    "        tuner.off();\n",
    "        amp.off();\n",
    "    }\n",
    "}\n"
   ]
  },
  {
   "cell_type": "code",
   "execution_count": null,
   "metadata": {
    "collapsed": true
   },
   "outputs": [],
   "source": [
    "# %load ./src/headfirst/facade/hometheater/simple/HomeTheaterTestDrive.java\n",
    "/*\n",
    " * @author simple\n",
    " * @version 20151108\n",
    " * simple version: amp, tuner, dvd, project only\n",
    " */\n",
    "package headfirst.facade.hometheater.simple;\n",
    "\n",
    "public class HomeTheaterTestDrive {\n",
    "    public static void main(String[] args) {\n",
    "        Amplifier amp = new Amplifier(\"My Amplifier\");\n",
    "        Tuner tuner = new Tuner(\"My AM/FM Tuner\", amp);\n",
    "        DvdPlayer dvd = new DvdPlayer(\"My DVD Player\", amp);\n",
    "        Projector projector = new Projector(\"My Projector\", dvd);\n",
    " \n",
    "        HomeTheaterFacade homeTheater = new HomeTheaterFacade(amp, tuner, dvd, projector);\n",
    "        homeTheater.watchMovie(\"My Movie Watching...\");\n",
    "        homeTheater.endMovie();\n",
    "    }\n",
    "}\n"
   ]
  },
  {
   "cell_type": "code",
   "execution_count": 29,
   "metadata": {
    "collapsed": false,
    "slideshow": {
     "slide_type": "slide"
    }
   },
   "outputs": [
    {
     "name": "stdout",
     "output_type": "stream",
     "text": [
      "Get ready to watch a movie...\r\n",
      "My Projector on\r\n",
      "My Projector in widescreen mode (16x9 aspect ratio)\r\n",
      "My Amplifier on\r\n",
      "My Amplifier setting DVD player to My DVD Player\r\n",
      "My Amplifier setting volume to 5\r\n",
      "My DVD Player on\r\n",
      "My DVD Player playing \"My Movie Watching...\"\r\n",
      "Shutting movie theater down...\r\n",
      "My Projector off\r\n",
      "My Amplifier off\r\n",
      "My DVD Player stopped \"My Movie Watching...\"\r\n",
      "My DVD Player eject\r\n",
      "My DVD Player off\r\n"
     ]
    }
   ],
   "source": [
    "!javac -d classes/ -sourcepath src/ src/headfirst/facade/hometheater/simple/*.java\n",
    "!java -cp classes/ headfirst.facade.hometheater.simple.HomeTheaterTestDrive"
   ]
  }
 ],
 "metadata": {
  "celltoolbar": "Slideshow",
  "kernelspec": {
   "display_name": "Python 2",
   "language": "python",
   "name": "python2"
  },
  "language_info": {
   "codemirror_mode": {
    "name": "ipython",
    "version": 2
   },
   "file_extension": ".py",
   "mimetype": "text/x-python",
   "name": "python",
   "nbconvert_exporter": "python",
   "pygments_lexer": "ipython2",
   "version": "2.7.10"
  }
 },
 "nbformat": 4,
 "nbformat_minor": 0
}
