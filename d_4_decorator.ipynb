{
 "cells": [
  {
   "cell_type": "markdown",
   "metadata": {
    "slideshow": {
     "slide_type": "slide"
    }
   },
   "source": [
    "# Decorator 패턴\n",
    "\n",
    "## D.1 소개\n",
    "\n",
    "* Decorator 패턴 (Structral Design Pattern)\n",
    "* \"내 안에 너 있다.\"\n",
    "    * 2004년 드라마 '파리의 연인'에서 당시 유명했던 남자배우가 고백을 하는 대사. \"It's you who is in my heart...\"\n",
    "    * Decorator는 \"It's a super class who is in a child decorator\"로 이해할 수 있다.\n",
    "    * 같은 부모를 가진 다른 객체를 생성자에 포함하여 기능을 사용하는 패턴이다.\n",
    "* GoF '상속'으로 기능을 확장하지 않고, 기능을 동적으로 추가하는 패턴이다 \"Attach additional responsibilities to an object dynamically. Decorators provide a flexible alternative to subclassing for extending functionality.\""
   ]
  },
  {
   "cell_type": "markdown",
   "metadata": {
    "slideshow": {
     "slide_type": "subslide"
    }
   },
   "source": [
    "* 디자인패턴 요소\n",
    "\n",
    "요소 | 설명\n",
    "---|---\n",
    "name | Decorator\n",
    "problem | 조금씩 다른 다양한 종류. 늘어날수록 확장 어려움.\n",
    "solution | 상속을 사용하지 않고 연관으로 필요한 기능 추가. 실행시점 확장 Extension at runtime (not compile time)\n",
    "consequence | 확장성"
   ]
  },
  {
   "cell_type": "markdown",
   "metadata": {
    "slideshow": {
     "slide_type": "subslide"
    }
   },
   "source": [
    "* 사례\n",
    "    * 윈도우를 꾸미는 사례로 윈도우에 borders, scrollbars, menubars를 추가할 수 있다 (see 'Wikipedia' for a java implementation)\n",
    "    * Java의 파일 입출력에서 Decorator 패턴을 사용한다 (java.io package)\n",
    "    * 음악audio waves에 여러 효과effects를 넣는 경우 사용할 수 있다 (flanger, wah-wah 등)\n",
    "    * 여러 나라의 통화 Currency의 문제.\n",
    "* 프로그래밍 과제\n",
    "    * case extension - 프로그래밍 'Beverage' CaramelMacchiato (HFDP Ch3)\n",
    "    * new case - BufferedReader로 대문자 변환 (HFDP Ch3)"
   ]
  },
  {
   "cell_type": "markdown",
   "metadata": {
    "slideshow": {
     "slide_type": "slide"
    }
   },
   "source": [
    "## D.2 문제\n",
    "\n",
    "* 조금씩 기능을 추가하기 위해 새로운 클래스를 생성하는 경우\n",
    "* 상속으로 문제를 풀면, 너무 많은 상속관계가 발생할 수 있다.\n",
    "    * '음료'를 만드는데, 상속을 사용 (p.82)\n",
    "    * 음료에 필요한 것을 추가 (우유, 두유, 휘핑크림, 모카...)\n",
    "    * 클래스가 너무 많아지는 문제class explosion\n",
    "* 상속을 사용하지 않고 새로운 기능을 추가할 수 있을까?"
   ]
  },
  {
   "cell_type": "code",
   "execution_count": 1,
   "metadata": {
    "collapsed": true,
    "slideshow": {
     "slide_type": "subslide"
    }
   },
   "outputs": [],
   "source": [
    "import iplantuml"
   ]
  },
  {
   "cell_type": "code",
   "execution_count": 2,
   "metadata": {
    "collapsed": false,
    "slideshow": {
     "slide_type": "-"
    }
   },
   "outputs": [
    {
     "data": {
      "image/svg+xml": [
       "<svg height=\"211px\" style=\"width:482px;height:211px;\" version=\"1.1\" viewBox=\"0 0 482 211\" width=\"482px\" xmlns=\"http://www.w3.org/2000/svg\" xmlns:xlink=\"http://www.w3.org/1999/xlink\"><defs><filter height=\"300%\" id=\"f1\" width=\"300%\" x=\"-1\" y=\"-1\"><feGaussianBlur result=\"blurOut\" stdDeviation=\"2.0\"/><feColorMatrix in=\"blurOut\" result=\"blurOut2\" type=\"matrix\" values=\"0 0 0 0 0 0 0 0 0 0 0 0 0 0 0 0 0 0 .4 0\"/><feOffset dx=\"4.0\" dy=\"4.0\" in=\"blurOut2\" result=\"blurOut3\"/><feBlend in=\"SourceGraphic\" in2=\"blurOut3\" mode=\"normal\"/></filter></defs><g><rect fill=\"#FEFECE\" filter=\"url(#f1)\" height=\"86.4141\" style=\"stroke: #A80036; stroke-width: 1.5;\" width=\"102\" x=\"204.5\" y=\"8\"/><ellipse cx=\"224.45\" cy=\"24\" fill=\"#ADD1B2\" rx=\"11\" ry=\"11\" style=\"stroke: #A80036; stroke-width: 1.0;\"/><path d=\"M227.4188,29.6406 Q226.8406,29.9375 226.2,30.0859 Q225.5594,30.2344 224.8563,30.2344 Q222.3563,30.2344 221.0359,28.5859 Q219.7156,26.9375 219.7156,23.8125 Q219.7156,20.6875 221.0359,19.0313 Q222.3563,17.375 224.8563,17.375 Q225.5594,17.375 226.2078,17.5313 Q226.8563,17.6875 227.4188,17.9844 L227.4188,20.7031 Q226.7938,20.125 226.2,19.8516 Q225.6063,19.5781 224.9813,19.5781 Q223.6375,19.5781 222.95,20.6484 Q222.2625,21.7188 222.2625,23.8125 Q222.2625,25.9063 222.95,26.9766 Q223.6375,28.0469 224.9813,28.0469 Q225.6063,28.0469 226.2,27.7734 Q226.7938,27.5 227.4188,26.9219 L227.4188,29.6406 Z \"/><text fill=\"#000000\" font-family=\"sans-serif\" font-size=\"12\" lengthAdjust=\"spacingAndGlyphs\" textLength=\"59\" x=\"239.55\" y=\"28.1543\">Beverage</text><line style=\"stroke: #A80036; stroke-width: 1.5;\" x1=\"205.5\" x2=\"305.5\" y1=\"40\" y2=\"40\"/><text fill=\"#000000\" font-family=\"sans-serif\" font-size=\"11\" lengthAdjust=\"spacingAndGlyphs\" textLength=\"63\" x=\"210.5\" y=\"54.2104\">description</text><line style=\"stroke: #A80036; stroke-width: 1.5;\" x1=\"205.5\" x2=\"305.5\" y1=\"60.8047\" y2=\"60.8047\"/><text fill=\"#000000\" font-family=\"sans-serif\" font-size=\"11\" lengthAdjust=\"spacingAndGlyphs\" textLength=\"90\" x=\"210.5\" y=\"75.0151\">getDescription()</text><text fill=\"#000000\" font-family=\"sans-serif\" font-size=\"11\" lengthAdjust=\"spacingAndGlyphs\" textLength=\"32\" x=\"210.5\" y=\"87.8198\">cost()</text><rect fill=\"#FEFECE\" filter=\"url(#f1)\" height=\"48\" style=\"stroke: #A80036; stroke-width: 1.5;\" width=\"107\" x=\"6\" y=\"154\"/><ellipse cx=\"21\" cy=\"170\" fill=\"#ADD1B2\" rx=\"11\" ry=\"11\" style=\"stroke: #A80036; stroke-width: 1.0;\"/><path d=\"M23.9688,175.6406 Q23.3906,175.9375 22.75,176.0859 Q22.1094,176.2344 21.4063,176.2344 Q18.9063,176.2344 17.5859,174.5859 Q16.2656,172.9375 16.2656,169.8125 Q16.2656,166.6875 17.5859,165.0313 Q18.9063,163.375 21.4063,163.375 Q22.1094,163.375 22.7578,163.5313 Q23.4063,163.6875 23.9688,163.9844 L23.9688,166.7031 Q23.3438,166.125 22.75,165.8516 Q22.1563,165.5781 21.5313,165.5781 Q20.1875,165.5781 19.5,166.6484 Q18.8125,167.7188 18.8125,169.8125 Q18.8125,171.9063 19.5,172.9766 Q20.1875,174.0469 21.5313,174.0469 Q22.1563,174.0469 22.75,173.7734 Q23.3438,173.5 23.9688,172.9219 L23.9688,175.6406 Z \"/><text fill=\"#000000\" font-family=\"sans-serif\" font-size=\"12\" lengthAdjust=\"spacingAndGlyphs\" textLength=\"75\" x=\"35\" y=\"174.1543\">HouseBlend</text><line style=\"stroke: #A80036; stroke-width: 1.5;\" x1=\"7\" x2=\"112\" y1=\"186\" y2=\"186\"/><line style=\"stroke: #A80036; stroke-width: 1.5;\" x1=\"7\" x2=\"112\" y1=\"194\" y2=\"194\"/><rect fill=\"#FEFECE\" filter=\"url(#f1)\" height=\"48\" style=\"stroke: #A80036; stroke-width: 1.5;\" width=\"97\" x=\"148\" y=\"154\"/><ellipse cx=\"163\" cy=\"170\" fill=\"#ADD1B2\" rx=\"11\" ry=\"11\" style=\"stroke: #A80036; stroke-width: 1.0;\"/><path d=\"M165.9688,175.6406 Q165.3906,175.9375 164.75,176.0859 Q164.1094,176.2344 163.4063,176.2344 Q160.9063,176.2344 159.5859,174.5859 Q158.2656,172.9375 158.2656,169.8125 Q158.2656,166.6875 159.5859,165.0313 Q160.9063,163.375 163.4063,163.375 Q164.1094,163.375 164.7578,163.5313 Q165.4063,163.6875 165.9688,163.9844 L165.9688,166.7031 Q165.3438,166.125 164.75,165.8516 Q164.1563,165.5781 163.5313,165.5781 Q162.1875,165.5781 161.5,166.6484 Q160.8125,167.7188 160.8125,169.8125 Q160.8125,171.9063 161.5,172.9766 Q162.1875,174.0469 163.5313,174.0469 Q164.1563,174.0469 164.75,173.7734 Q165.3438,173.5 165.9688,172.9219 L165.9688,175.6406 Z \"/><text fill=\"#000000\" font-family=\"sans-serif\" font-size=\"12\" lengthAdjust=\"spacingAndGlyphs\" textLength=\"65\" x=\"177\" y=\"174.1543\">DarkRoast</text><line style=\"stroke: #A80036; stroke-width: 1.5;\" x1=\"149\" x2=\"244\" y1=\"186\" y2=\"186\"/><line style=\"stroke: #A80036; stroke-width: 1.5;\" x1=\"149\" x2=\"244\" y1=\"194\" y2=\"194\"/><rect fill=\"#FEFECE\" filter=\"url(#f1)\" height=\"48\" style=\"stroke: #A80036; stroke-width: 1.5;\" width=\"68\" x=\"280.5\" y=\"154\"/><ellipse cx=\"295.5\" cy=\"170\" fill=\"#ADD1B2\" rx=\"11\" ry=\"11\" style=\"stroke: #A80036; stroke-width: 1.0;\"/><path d=\"M298.4688,175.6406 Q297.8906,175.9375 297.25,176.0859 Q296.6094,176.2344 295.9063,176.2344 Q293.4063,176.2344 292.0859,174.5859 Q290.7656,172.9375 290.7656,169.8125 Q290.7656,166.6875 292.0859,165.0313 Q293.4063,163.375 295.9063,163.375 Q296.6094,163.375 297.2578,163.5313 Q297.9063,163.6875 298.4688,163.9844 L298.4688,166.7031 Q297.8438,166.125 297.25,165.8516 Q296.6563,165.5781 296.0313,165.5781 Q294.6875,165.5781 294,166.6484 Q293.3125,167.7188 293.3125,169.8125 Q293.3125,171.9063 294,172.9766 Q294.6875,174.0469 296.0313,174.0469 Q296.6563,174.0469 297.25,173.7734 Q297.8438,173.5 298.4688,172.9219 L298.4688,175.6406 Z \"/><text fill=\"#000000\" font-family=\"sans-serif\" font-size=\"12\" lengthAdjust=\"spacingAndGlyphs\" textLength=\"36\" x=\"309.5\" y=\"174.1543\">Decaf</text><line style=\"stroke: #A80036; stroke-width: 1.5;\" x1=\"281.5\" x2=\"347.5\" y1=\"186\" y2=\"186\"/><line style=\"stroke: #A80036; stroke-width: 1.5;\" x1=\"281.5\" x2=\"347.5\" y1=\"194\" y2=\"194\"/><rect fill=\"#FEFECE\" filter=\"url(#f1)\" height=\"48\" style=\"stroke: #A80036; stroke-width: 1.5;\" width=\"90\" x=\"383.5\" y=\"154\"/><ellipse cx=\"398.5\" cy=\"170\" fill=\"#ADD1B2\" rx=\"11\" ry=\"11\" style=\"stroke: #A80036; stroke-width: 1.0;\"/><path d=\"M401.4688,175.6406 Q400.8906,175.9375 400.25,176.0859 Q399.6094,176.2344 398.9063,176.2344 Q396.4063,176.2344 395.0859,174.5859 Q393.7656,172.9375 393.7656,169.8125 Q393.7656,166.6875 395.0859,165.0313 Q396.4063,163.375 398.9063,163.375 Q399.6094,163.375 400.2578,163.5313 Q400.9063,163.6875 401.4688,163.9844 L401.4688,166.7031 Q400.8438,166.125 400.25,165.8516 Q399.6563,165.5781 399.0313,165.5781 Q397.6875,165.5781 397,166.6484 Q396.3125,167.7188 396.3125,169.8125 Q396.3125,171.9063 397,172.9766 Q397.6875,174.0469 399.0313,174.0469 Q399.6563,174.0469 400.25,173.7734 Q400.8438,173.5 401.4688,172.9219 L401.4688,175.6406 Z \"/><text fill=\"#000000\" font-family=\"sans-serif\" font-size=\"12\" lengthAdjust=\"spacingAndGlyphs\" textLength=\"58\" x=\"412.5\" y=\"174.1543\">Espresso</text><line style=\"stroke: #A80036; stroke-width: 1.5;\" x1=\"384.5\" x2=\"472.5\" y1=\"186\" y2=\"186\"/><line style=\"stroke: #A80036; stroke-width: 1.5;\" x1=\"384.5\" x2=\"472.5\" y1=\"194\" y2=\"194\"/><path d=\"M187.191,95.564 C156.363,115.2253 121.205,137.647 95.597,153.9789 \" fill=\"none\" style=\"stroke: #A80036; stroke-width: 1.0;\"/><polygon fill=\"none\" points=\"183.633,89.531,204.259,84.679,191.161,101.335,183.633,89.531\" style=\"stroke: #A80036; stroke-width: 1.0;\"/><path d=\"M226.924,112.5426 C220.015,127.1811 213.038,141.9629 207.511,153.6717 \" fill=\"none\" style=\"stroke: #A80036; stroke-width: 1.0;\"/><polygon fill=\"none\" points=\"220.658,109.4179,235.525,94.319,233.319,115.3937,220.658,109.4179\" style=\"stroke: #A80036; stroke-width: 1.0;\"/><path d=\"M284.076,112.5426 C290.985,127.1811 297.962,141.9629 303.489,153.6717 \" fill=\"none\" style=\"stroke: #A80036; stroke-width: 1.0;\"/><polygon fill=\"none\" points=\"277.681,115.3937,275.475,94.319,290.342,109.4179,277.681,115.3937\" style=\"stroke: #A80036; stroke-width: 1.0;\"/><path d=\"M323.496,101.13 C348.688,119.3326 376.077,139.1222 396.564,153.9251 \" fill=\"none\" style=\"stroke: #A80036; stroke-width: 1.0;\"/><polygon fill=\"none\" points=\"319.049,106.5529,306.937,89.166,327.248,95.205,319.049,106.5529\" style=\"stroke: #A80036; stroke-width: 1.0;\"/></g></svg>"
      ],
      "text/plain": [
       "<IPython.core.display.SVG object>"
      ]
     },
     "execution_count": 2,
     "metadata": {},
     "output_type": "execute_result"
    }
   ],
   "source": [
    "%%plantuml\n",
    "@startuml\n",
    "class Beverage {\n",
    "    description\n",
    "    getDescription()\n",
    "    cost()\n",
    "}\n",
    "Beverage <|-- HouseBlend\n",
    "Beverage <|-- DarkRoast\n",
    "Beverage <|-- Decaf\n",
    "Beverage <|-- Espresso\n",
    "@enduml"
   ]
  },
  {
   "cell_type": "code",
   "execution_count": 3,
   "metadata": {
    "collapsed": false,
    "slideshow": {
     "slide_type": "subslide"
    }
   },
   "outputs": [
    {
     "data": {
      "image/svg+xml": [
       "<svg height=\"230px\" style=\"width:2116px;height:230px;\" version=\"1.1\" viewBox=\"0 0 2116 230\" width=\"2116px\" xmlns=\"http://www.w3.org/2000/svg\" xmlns:xlink=\"http://www.w3.org/1999/xlink\"><defs><filter height=\"300%\" id=\"f1\" width=\"300%\" x=\"-1\" y=\"-1\"><feGaussianBlur result=\"blurOut\" stdDeviation=\"2.0\"/><feColorMatrix in=\"blurOut\" result=\"blurOut2\" type=\"matrix\" values=\"0 0 0 0 0 0 0 0 0 0 0 0 0 0 0 0 0 0 .4 0\"/><feOffset dx=\"4.0\" dy=\"4.0\" in=\"blurOut2\" result=\"blurOut3\"/><feBlend in=\"SourceGraphic\" in2=\"blurOut3\" mode=\"normal\"/></filter></defs><g><rect fill=\"#FEFECE\" filter=\"url(#f1)\" height=\"86.4141\" style=\"stroke: #A80036; stroke-width: 1.5;\" width=\"102\" x=\"1005.5\" y=\"8\"/><ellipse cx=\"1025.45\" cy=\"24\" fill=\"#ADD1B2\" rx=\"11\" ry=\"11\" style=\"stroke: #A80036; stroke-width: 1.0;\"/><path d=\"M1028.4188,29.6406 Q1027.8406,29.9375 1027.2,30.0859 Q1026.5594,30.2344 1025.8563,30.2344 Q1023.3563,30.2344 1022.0359,28.5859 Q1020.7156,26.9375 1020.7156,23.8125 Q1020.7156,20.6875 1022.0359,19.0313 Q1023.3563,17.375 1025.8563,17.375 Q1026.5594,17.375 1027.2078,17.5313 Q1027.8563,17.6875 1028.4188,17.9844 L1028.4188,20.7031 Q1027.7938,20.125 1027.2,19.8516 Q1026.6063,19.5781 1025.9813,19.5781 Q1024.6375,19.5781 1023.95,20.6484 Q1023.2625,21.7188 1023.2625,23.8125 Q1023.2625,25.9063 1023.95,26.9766 Q1024.6375,28.0469 1025.9813,28.0469 Q1026.6063,28.0469 1027.2,27.7734 Q1027.7938,27.5 1028.4188,26.9219 L1028.4188,29.6406 Z \"/><text fill=\"#000000\" font-family=\"sans-serif\" font-size=\"12\" lengthAdjust=\"spacingAndGlyphs\" textLength=\"59\" x=\"1040.55\" y=\"28.1543\">Beverage</text><line style=\"stroke: #A80036; stroke-width: 1.5;\" x1=\"1006.5\" x2=\"1106.5\" y1=\"40\" y2=\"40\"/><text fill=\"#000000\" font-family=\"sans-serif\" font-size=\"11\" lengthAdjust=\"spacingAndGlyphs\" textLength=\"63\" x=\"1011.5\" y=\"54.2104\">description</text><line style=\"stroke: #A80036; stroke-width: 1.5;\" x1=\"1006.5\" x2=\"1106.5\" y1=\"60.8047\" y2=\"60.8047\"/><text fill=\"#000000\" font-family=\"sans-serif\" font-size=\"11\" lengthAdjust=\"spacingAndGlyphs\" textLength=\"90\" x=\"1011.5\" y=\"75.0151\">getDescription()</text><text fill=\"#000000\" font-family=\"sans-serif\" font-size=\"11\" lengthAdjust=\"spacingAndGlyphs\" textLength=\"32\" x=\"1011.5\" y=\"87.8198\">cost()</text><rect fill=\"#FEFECE\" filter=\"url(#f1)\" height=\"67.9063\" style=\"stroke: #A80036; stroke-width: 1.5;\" width=\"143\" x=\"6\" y=\"154\"/><ellipse cx=\"21\" cy=\"179.9531\" fill=\"#ADD1B2\" rx=\"11\" ry=\"11\" style=\"stroke: #A80036; stroke-width: 1.0;\"/><path d=\"M23.9688,185.5938 Q23.3906,185.8906 22.75,186.0391 Q22.1094,186.1875 21.4063,186.1875 Q18.9063,186.1875 17.5859,184.5391 Q16.2656,182.8906 16.2656,179.7656 Q16.2656,176.6406 17.5859,174.9844 Q18.9063,173.3281 21.4063,173.3281 Q22.1094,173.3281 22.7578,173.4844 Q23.4063,173.6406 23.9688,173.9375 L23.9688,176.6563 Q23.3438,176.0781 22.75,175.8047 Q22.1563,175.5313 21.5313,175.5313 Q20.1875,175.5313 19.5,176.6016 Q18.8125,177.6719 18.8125,179.7656 Q18.8125,181.8594 19.5,182.9297 Q20.1875,184 21.5313,184 Q22.1563,184 22.75,183.7266 Q23.3438,183.4531 23.9688,182.875 L23.9688,185.5938 Z \"/><text fill=\"#000000\" font-family=\"sans-serif\" font-size=\"12\" lengthAdjust=\"spacingAndGlyphs\" textLength=\"75\" x=\"53\" y=\"170.1387\">HouseBlend</text><text fill=\"#000000\" font-family=\"sans-serif\" font-size=\"12\" lengthAdjust=\"spacingAndGlyphs\" textLength=\"111\" x=\"35\" y=\"184.1074\">withSteamedMik&amp;</text><text fill=\"#000000\" font-family=\"sans-serif\" font-size=\"12\" lengthAdjust=\"spacingAndGlyphs\" textLength=\"41\" x=\"70\" y=\"198.0762\">Mocha</text><line style=\"stroke: #A80036; stroke-width: 1.5;\" x1=\"7\" x2=\"148\" y1=\"205.9063\" y2=\"205.9063\"/><line style=\"stroke: #A80036; stroke-width: 1.5;\" x1=\"7\" x2=\"148\" y1=\"213.9063\" y2=\"213.9063\"/><rect fill=\"#FEFECE\" filter=\"url(#f1)\" height=\"67.9063\" style=\"stroke: #A80036; stroke-width: 1.5;\" width=\"143\" x=\"184\" y=\"154\"/><ellipse cx=\"199\" cy=\"179.9531\" fill=\"#ADD1B2\" rx=\"11\" ry=\"11\" style=\"stroke: #A80036; stroke-width: 1.0;\"/><path d=\"M201.9688,185.5938 Q201.3906,185.8906 200.75,186.0391 Q200.1094,186.1875 199.4063,186.1875 Q196.9063,186.1875 195.5859,184.5391 Q194.2656,182.8906 194.2656,179.7656 Q194.2656,176.6406 195.5859,174.9844 Q196.9063,173.3281 199.4063,173.3281 Q200.1094,173.3281 200.7578,173.4844 Q201.4063,173.6406 201.9688,173.9375 L201.9688,176.6563 Q201.3438,176.0781 200.75,175.8047 Q200.1563,175.5313 199.5313,175.5313 Q198.1875,175.5313 197.5,176.6016 Q196.8125,177.6719 196.8125,179.7656 Q196.8125,181.8594 197.5,182.9297 Q198.1875,184 199.5313,184 Q200.1563,184 200.75,183.7266 Q201.3438,183.4531 201.9688,182.875 L201.9688,185.5938 Z \"/><text fill=\"#000000\" font-family=\"sans-serif\" font-size=\"12\" lengthAdjust=\"spacingAndGlyphs\" textLength=\"65\" x=\"236\" y=\"170.1387\">DarkRoast</text><text fill=\"#000000\" font-family=\"sans-serif\" font-size=\"12\" lengthAdjust=\"spacingAndGlyphs\" textLength=\"111\" x=\"213\" y=\"184.1074\">withSteamedMik&amp;</text><text fill=\"#000000\" font-family=\"sans-serif\" font-size=\"12\" lengthAdjust=\"spacingAndGlyphs\" textLength=\"41\" x=\"248\" y=\"198.0762\">Mocha</text><line style=\"stroke: #A80036; stroke-width: 1.5;\" x1=\"185\" x2=\"326\" y1=\"205.9063\" y2=\"205.9063\"/><line style=\"stroke: #A80036; stroke-width: 1.5;\" x1=\"185\" x2=\"326\" y1=\"213.9063\" y2=\"213.9063\"/><rect fill=\"#FEFECE\" filter=\"url(#f1)\" height=\"67.9063\" style=\"stroke: #A80036; stroke-width: 1.5;\" width=\"143\" x=\"362\" y=\"154\"/><ellipse cx=\"377\" cy=\"179.9531\" fill=\"#ADD1B2\" rx=\"11\" ry=\"11\" style=\"stroke: #A80036; stroke-width: 1.0;\"/><path d=\"M379.9688,185.5938 Q379.3906,185.8906 378.75,186.0391 Q378.1094,186.1875 377.4063,186.1875 Q374.9063,186.1875 373.5859,184.5391 Q372.2656,182.8906 372.2656,179.7656 Q372.2656,176.6406 373.5859,174.9844 Q374.9063,173.3281 377.4063,173.3281 Q378.1094,173.3281 378.7578,173.4844 Q379.4063,173.6406 379.9688,173.9375 L379.9688,176.6563 Q379.3438,176.0781 378.75,175.8047 Q378.1563,175.5313 377.5313,175.5313 Q376.1875,175.5313 375.5,176.6016 Q374.8125,177.6719 374.8125,179.7656 Q374.8125,181.8594 375.5,182.9297 Q376.1875,184 377.5313,184 Q378.1563,184 378.75,183.7266 Q379.3438,183.4531 379.9688,182.875 L379.9688,185.5938 Z \"/><text fill=\"#000000\" font-family=\"sans-serif\" font-size=\"12\" lengthAdjust=\"spacingAndGlyphs\" textLength=\"36\" x=\"428.5\" y=\"170.1387\">Decaf</text><text fill=\"#000000\" font-family=\"sans-serif\" font-size=\"12\" lengthAdjust=\"spacingAndGlyphs\" textLength=\"111\" x=\"391\" y=\"184.1074\">withSteamedMik&amp;</text><text fill=\"#000000\" font-family=\"sans-serif\" font-size=\"12\" lengthAdjust=\"spacingAndGlyphs\" textLength=\"41\" x=\"426\" y=\"198.0762\">Mocha</text><line style=\"stroke: #A80036; stroke-width: 1.5;\" x1=\"363\" x2=\"504\" y1=\"205.9063\" y2=\"205.9063\"/><line style=\"stroke: #A80036; stroke-width: 1.5;\" x1=\"363\" x2=\"504\" y1=\"213.9063\" y2=\"213.9063\"/><rect fill=\"#FEFECE\" filter=\"url(#f1)\" height=\"67.9063\" style=\"stroke: #A80036; stroke-width: 1.5;\" width=\"143\" x=\"540\" y=\"154\"/><ellipse cx=\"555\" cy=\"179.9531\" fill=\"#ADD1B2\" rx=\"11\" ry=\"11\" style=\"stroke: #A80036; stroke-width: 1.0;\"/><path d=\"M557.9688,185.5938 Q557.3906,185.8906 556.75,186.0391 Q556.1094,186.1875 555.4063,186.1875 Q552.9063,186.1875 551.5859,184.5391 Q550.2656,182.8906 550.2656,179.7656 Q550.2656,176.6406 551.5859,174.9844 Q552.9063,173.3281 555.4063,173.3281 Q556.1094,173.3281 556.7578,173.4844 Q557.4063,173.6406 557.9688,173.9375 L557.9688,176.6563 Q557.3438,176.0781 556.75,175.8047 Q556.1563,175.5313 555.5313,175.5313 Q554.1875,175.5313 553.5,176.6016 Q552.8125,177.6719 552.8125,179.7656 Q552.8125,181.8594 553.5,182.9297 Q554.1875,184 555.5313,184 Q556.1563,184 556.75,183.7266 Q557.3438,183.4531 557.9688,182.875 L557.9688,185.5938 Z \"/><text fill=\"#000000\" font-family=\"sans-serif\" font-size=\"12\" lengthAdjust=\"spacingAndGlyphs\" textLength=\"58\" x=\"595.5\" y=\"170.1387\">Espresso</text><text fill=\"#000000\" font-family=\"sans-serif\" font-size=\"12\" lengthAdjust=\"spacingAndGlyphs\" textLength=\"111\" x=\"569\" y=\"184.1074\">withSteamedMik&amp;</text><text fill=\"#000000\" font-family=\"sans-serif\" font-size=\"12\" lengthAdjust=\"spacingAndGlyphs\" textLength=\"41\" x=\"604\" y=\"198.0762\">Mocha</text><line style=\"stroke: #A80036; stroke-width: 1.5;\" x1=\"541\" x2=\"682\" y1=\"205.9063\" y2=\"205.9063\"/><line style=\"stroke: #A80036; stroke-width: 1.5;\" x1=\"541\" x2=\"682\" y1=\"213.9063\" y2=\"213.9063\"/><rect fill=\"#FEFECE\" filter=\"url(#f1)\" height=\"67.9063\" style=\"stroke: #A80036; stroke-width: 1.5;\" width=\"143\" x=\"718\" y=\"154\"/><ellipse cx=\"733\" cy=\"179.9531\" fill=\"#ADD1B2\" rx=\"11\" ry=\"11\" style=\"stroke: #A80036; stroke-width: 1.0;\"/><path d=\"M735.9688,185.5938 Q735.3906,185.8906 734.75,186.0391 Q734.1094,186.1875 733.4063,186.1875 Q730.9063,186.1875 729.5859,184.5391 Q728.2656,182.8906 728.2656,179.7656 Q728.2656,176.6406 729.5859,174.9844 Q730.9063,173.3281 733.4063,173.3281 Q734.1094,173.3281 734.7578,173.4844 Q735.4063,173.6406 735.9688,173.9375 L735.9688,176.6563 Q735.3438,176.0781 734.75,175.8047 Q734.1563,175.5313 733.5313,175.5313 Q732.1875,175.5313 731.5,176.6016 Q730.8125,177.6719 730.8125,179.7656 Q730.8125,181.8594 731.5,182.9297 Q732.1875,184 733.5313,184 Q734.1563,184 734.75,183.7266 Q735.3438,183.4531 735.9688,182.875 L735.9688,185.5938 Z \"/><text fill=\"#000000\" font-family=\"sans-serif\" font-size=\"12\" lengthAdjust=\"spacingAndGlyphs\" textLength=\"75\" x=\"765\" y=\"170.1387\">HouseBlend</text><text fill=\"#000000\" font-family=\"sans-serif\" font-size=\"12\" lengthAdjust=\"spacingAndGlyphs\" textLength=\"111\" x=\"747\" y=\"184.1074\">withSteamedMik&amp;</text><text fill=\"#000000\" font-family=\"sans-serif\" font-size=\"12\" lengthAdjust=\"spacingAndGlyphs\" textLength=\"51\" x=\"777\" y=\"198.0762\">Caramel</text><line style=\"stroke: #A80036; stroke-width: 1.5;\" x1=\"719\" x2=\"860\" y1=\"205.9063\" y2=\"205.9063\"/><line style=\"stroke: #A80036; stroke-width: 1.5;\" x1=\"719\" x2=\"860\" y1=\"213.9063\" y2=\"213.9063\"/><rect fill=\"#FEFECE\" filter=\"url(#f1)\" height=\"67.9063\" style=\"stroke: #A80036; stroke-width: 1.5;\" width=\"143\" x=\"896\" y=\"154\"/><ellipse cx=\"911\" cy=\"179.9531\" fill=\"#ADD1B2\" rx=\"11\" ry=\"11\" style=\"stroke: #A80036; stroke-width: 1.0;\"/><path d=\"M913.9688,185.5938 Q913.3906,185.8906 912.75,186.0391 Q912.1094,186.1875 911.4063,186.1875 Q908.9063,186.1875 907.5859,184.5391 Q906.2656,182.8906 906.2656,179.7656 Q906.2656,176.6406 907.5859,174.9844 Q908.9063,173.3281 911.4063,173.3281 Q912.1094,173.3281 912.7578,173.4844 Q913.4063,173.6406 913.9688,173.9375 L913.9688,176.6563 Q913.3438,176.0781 912.75,175.8047 Q912.1563,175.5313 911.5313,175.5313 Q910.1875,175.5313 909.5,176.6016 Q908.8125,177.6719 908.8125,179.7656 Q908.8125,181.8594 909.5,182.9297 Q910.1875,184 911.5313,184 Q912.1563,184 912.75,183.7266 Q913.3438,183.4531 913.9688,182.875 L913.9688,185.5938 Z \"/><text fill=\"#000000\" font-family=\"sans-serif\" font-size=\"12\" lengthAdjust=\"spacingAndGlyphs\" textLength=\"65\" x=\"948\" y=\"170.1387\">DarkRoast</text><text fill=\"#000000\" font-family=\"sans-serif\" font-size=\"12\" lengthAdjust=\"spacingAndGlyphs\" textLength=\"111\" x=\"925\" y=\"184.1074\">withSteamedMik&amp;</text><text fill=\"#000000\" font-family=\"sans-serif\" font-size=\"12\" lengthAdjust=\"spacingAndGlyphs\" textLength=\"51\" x=\"955\" y=\"198.0762\">Caramel</text><line style=\"stroke: #A80036; stroke-width: 1.5;\" x1=\"897\" x2=\"1038\" y1=\"205.9063\" y2=\"205.9063\"/><line style=\"stroke: #A80036; stroke-width: 1.5;\" x1=\"897\" x2=\"1038\" y1=\"213.9063\" y2=\"213.9063\"/><rect fill=\"#FEFECE\" filter=\"url(#f1)\" height=\"67.9063\" style=\"stroke: #A80036; stroke-width: 1.5;\" width=\"143\" x=\"1074\" y=\"154\"/><ellipse cx=\"1089\" cy=\"179.9531\" fill=\"#ADD1B2\" rx=\"11\" ry=\"11\" style=\"stroke: #A80036; stroke-width: 1.0;\"/><path d=\"M1091.9688,185.5938 Q1091.3906,185.8906 1090.75,186.0391 Q1090.1094,186.1875 1089.4063,186.1875 Q1086.9063,186.1875 1085.5859,184.5391 Q1084.2656,182.8906 1084.2656,179.7656 Q1084.2656,176.6406 1085.5859,174.9844 Q1086.9063,173.3281 1089.4063,173.3281 Q1090.1094,173.3281 1090.7578,173.4844 Q1091.4063,173.6406 1091.9688,173.9375 L1091.9688,176.6563 Q1091.3438,176.0781 1090.75,175.8047 Q1090.1563,175.5313 1089.5313,175.5313 Q1088.1875,175.5313 1087.5,176.6016 Q1086.8125,177.6719 1086.8125,179.7656 Q1086.8125,181.8594 1087.5,182.9297 Q1088.1875,184 1089.5313,184 Q1090.1563,184 1090.75,183.7266 Q1091.3438,183.4531 1091.9688,182.875 L1091.9688,185.5938 Z \"/><text fill=\"#000000\" font-family=\"sans-serif\" font-size=\"12\" lengthAdjust=\"spacingAndGlyphs\" textLength=\"36\" x=\"1140.5\" y=\"170.1387\">Decaf</text><text fill=\"#000000\" font-family=\"sans-serif\" font-size=\"12\" lengthAdjust=\"spacingAndGlyphs\" textLength=\"111\" x=\"1103\" y=\"184.1074\">withSteamedMik&amp;</text><text fill=\"#000000\" font-family=\"sans-serif\" font-size=\"12\" lengthAdjust=\"spacingAndGlyphs\" textLength=\"51\" x=\"1133\" y=\"198.0762\">Caramel</text><line style=\"stroke: #A80036; stroke-width: 1.5;\" x1=\"1075\" x2=\"1216\" y1=\"205.9063\" y2=\"205.9063\"/><line style=\"stroke: #A80036; stroke-width: 1.5;\" x1=\"1075\" x2=\"1216\" y1=\"213.9063\" y2=\"213.9063\"/><rect fill=\"#FEFECE\" filter=\"url(#f1)\" height=\"67.9063\" style=\"stroke: #A80036; stroke-width: 1.5;\" width=\"143\" x=\"1252\" y=\"154\"/><ellipse cx=\"1267\" cy=\"179.9531\" fill=\"#ADD1B2\" rx=\"11\" ry=\"11\" style=\"stroke: #A80036; stroke-width: 1.0;\"/><path d=\"M1269.9688,185.5938 Q1269.3906,185.8906 1268.75,186.0391 Q1268.1094,186.1875 1267.4063,186.1875 Q1264.9063,186.1875 1263.5859,184.5391 Q1262.2656,182.8906 1262.2656,179.7656 Q1262.2656,176.6406 1263.5859,174.9844 Q1264.9063,173.3281 1267.4063,173.3281 Q1268.1094,173.3281 1268.7578,173.4844 Q1269.4063,173.6406 1269.9688,173.9375 L1269.9688,176.6563 Q1269.3438,176.0781 1268.75,175.8047 Q1268.1563,175.5313 1267.5313,175.5313 Q1266.1875,175.5313 1265.5,176.6016 Q1264.8125,177.6719 1264.8125,179.7656 Q1264.8125,181.8594 1265.5,182.9297 Q1266.1875,184 1267.5313,184 Q1268.1563,184 1268.75,183.7266 Q1269.3438,183.4531 1269.9688,182.875 L1269.9688,185.5938 Z \"/><text fill=\"#000000\" font-family=\"sans-serif\" font-size=\"12\" lengthAdjust=\"spacingAndGlyphs\" textLength=\"58\" x=\"1307.5\" y=\"170.1387\">Espresso</text><text fill=\"#000000\" font-family=\"sans-serif\" font-size=\"12\" lengthAdjust=\"spacingAndGlyphs\" textLength=\"111\" x=\"1281\" y=\"184.1074\">withSteamedMik&amp;</text><text fill=\"#000000\" font-family=\"sans-serif\" font-size=\"12\" lengthAdjust=\"spacingAndGlyphs\" textLength=\"51\" x=\"1311\" y=\"198.0762\">Caramel</text><line style=\"stroke: #A80036; stroke-width: 1.5;\" x1=\"1253\" x2=\"1394\" y1=\"205.9063\" y2=\"205.9063\"/><line style=\"stroke: #A80036; stroke-width: 1.5;\" x1=\"1253\" x2=\"1394\" y1=\"213.9063\" y2=\"213.9063\"/><rect fill=\"#FEFECE\" filter=\"url(#f1)\" height=\"67.9063\" style=\"stroke: #A80036; stroke-width: 1.5;\" width=\"143\" x=\"1430\" y=\"154\"/><ellipse cx=\"1445\" cy=\"179.9531\" fill=\"#ADD1B2\" rx=\"11\" ry=\"11\" style=\"stroke: #A80036; stroke-width: 1.0;\"/><path d=\"M1447.9688,185.5938 Q1447.3906,185.8906 1446.75,186.0391 Q1446.1094,186.1875 1445.4063,186.1875 Q1442.9063,186.1875 1441.5859,184.5391 Q1440.2656,182.8906 1440.2656,179.7656 Q1440.2656,176.6406 1441.5859,174.9844 Q1442.9063,173.3281 1445.4063,173.3281 Q1446.1094,173.3281 1446.7578,173.4844 Q1447.4063,173.6406 1447.9688,173.9375 L1447.9688,176.6563 Q1447.3438,176.0781 1446.75,175.8047 Q1446.1563,175.5313 1445.5313,175.5313 Q1444.1875,175.5313 1443.5,176.6016 Q1442.8125,177.6719 1442.8125,179.7656 Q1442.8125,181.8594 1443.5,182.9297 Q1444.1875,184 1445.5313,184 Q1446.1563,184 1446.75,183.7266 Q1447.3438,183.4531 1447.9688,182.875 L1447.9688,185.5938 Z \"/><text fill=\"#000000\" font-family=\"sans-serif\" font-size=\"12\" lengthAdjust=\"spacingAndGlyphs\" textLength=\"75\" x=\"1477\" y=\"170.1387\">HouseBlend</text><text fill=\"#000000\" font-family=\"sans-serif\" font-size=\"12\" lengthAdjust=\"spacingAndGlyphs\" textLength=\"111\" x=\"1459\" y=\"184.1074\">withSteamedMik&amp;</text><text fill=\"#000000\" font-family=\"sans-serif\" font-size=\"12\" lengthAdjust=\"spacingAndGlyphs\" textLength=\"22\" x=\"1503.5\" y=\"198.0762\">Soy</text><line style=\"stroke: #A80036; stroke-width: 1.5;\" x1=\"1431\" x2=\"1572\" y1=\"205.9063\" y2=\"205.9063\"/><line style=\"stroke: #A80036; stroke-width: 1.5;\" x1=\"1431\" x2=\"1572\" y1=\"213.9063\" y2=\"213.9063\"/><rect fill=\"#FEFECE\" filter=\"url(#f1)\" height=\"67.9063\" style=\"stroke: #A80036; stroke-width: 1.5;\" width=\"143\" x=\"1608\" y=\"154\"/><ellipse cx=\"1623\" cy=\"179.9531\" fill=\"#ADD1B2\" rx=\"11\" ry=\"11\" style=\"stroke: #A80036; stroke-width: 1.0;\"/><path d=\"M1625.9688,185.5938 Q1625.3906,185.8906 1624.75,186.0391 Q1624.1094,186.1875 1623.4063,186.1875 Q1620.9063,186.1875 1619.5859,184.5391 Q1618.2656,182.8906 1618.2656,179.7656 Q1618.2656,176.6406 1619.5859,174.9844 Q1620.9063,173.3281 1623.4063,173.3281 Q1624.1094,173.3281 1624.7578,173.4844 Q1625.4063,173.6406 1625.9688,173.9375 L1625.9688,176.6563 Q1625.3438,176.0781 1624.75,175.8047 Q1624.1563,175.5313 1623.5313,175.5313 Q1622.1875,175.5313 1621.5,176.6016 Q1620.8125,177.6719 1620.8125,179.7656 Q1620.8125,181.8594 1621.5,182.9297 Q1622.1875,184 1623.5313,184 Q1624.1563,184 1624.75,183.7266 Q1625.3438,183.4531 1625.9688,182.875 L1625.9688,185.5938 Z \"/><text fill=\"#000000\" font-family=\"sans-serif\" font-size=\"12\" lengthAdjust=\"spacingAndGlyphs\" textLength=\"65\" x=\"1660\" y=\"170.1387\">DarkRoast</text><text fill=\"#000000\" font-family=\"sans-serif\" font-size=\"12\" lengthAdjust=\"spacingAndGlyphs\" textLength=\"111\" x=\"1637\" y=\"184.1074\">withSteamedMik&amp;</text><text fill=\"#000000\" font-family=\"sans-serif\" font-size=\"12\" lengthAdjust=\"spacingAndGlyphs\" textLength=\"22\" x=\"1681.5\" y=\"198.0762\">Soy</text><line style=\"stroke: #A80036; stroke-width: 1.5;\" x1=\"1609\" x2=\"1750\" y1=\"205.9063\" y2=\"205.9063\"/><line style=\"stroke: #A80036; stroke-width: 1.5;\" x1=\"1609\" x2=\"1750\" y1=\"213.9063\" y2=\"213.9063\"/><rect fill=\"#FEFECE\" filter=\"url(#f1)\" height=\"67.9063\" style=\"stroke: #A80036; stroke-width: 1.5;\" width=\"143\" x=\"1786\" y=\"154\"/><ellipse cx=\"1801\" cy=\"179.9531\" fill=\"#ADD1B2\" rx=\"11\" ry=\"11\" style=\"stroke: #A80036; stroke-width: 1.0;\"/><path d=\"M1803.9688,185.5938 Q1803.3906,185.8906 1802.75,186.0391 Q1802.1094,186.1875 1801.4063,186.1875 Q1798.9063,186.1875 1797.5859,184.5391 Q1796.2656,182.8906 1796.2656,179.7656 Q1796.2656,176.6406 1797.5859,174.9844 Q1798.9063,173.3281 1801.4063,173.3281 Q1802.1094,173.3281 1802.7578,173.4844 Q1803.4063,173.6406 1803.9688,173.9375 L1803.9688,176.6563 Q1803.3438,176.0781 1802.75,175.8047 Q1802.1563,175.5313 1801.5313,175.5313 Q1800.1875,175.5313 1799.5,176.6016 Q1798.8125,177.6719 1798.8125,179.7656 Q1798.8125,181.8594 1799.5,182.9297 Q1800.1875,184 1801.5313,184 Q1802.1563,184 1802.75,183.7266 Q1803.3438,183.4531 1803.9688,182.875 L1803.9688,185.5938 Z \"/><text fill=\"#000000\" font-family=\"sans-serif\" font-size=\"12\" lengthAdjust=\"spacingAndGlyphs\" textLength=\"36\" x=\"1852.5\" y=\"170.1387\">Decaf</text><text fill=\"#000000\" font-family=\"sans-serif\" font-size=\"12\" lengthAdjust=\"spacingAndGlyphs\" textLength=\"111\" x=\"1815\" y=\"184.1074\">withSteamedMik&amp;</text><text fill=\"#000000\" font-family=\"sans-serif\" font-size=\"12\" lengthAdjust=\"spacingAndGlyphs\" textLength=\"22\" x=\"1859.5\" y=\"198.0762\">Soy</text><line style=\"stroke: #A80036; stroke-width: 1.5;\" x1=\"1787\" x2=\"1928\" y1=\"205.9063\" y2=\"205.9063\"/><line style=\"stroke: #A80036; stroke-width: 1.5;\" x1=\"1787\" x2=\"1928\" y1=\"213.9063\" y2=\"213.9063\"/><rect fill=\"#FEFECE\" filter=\"url(#f1)\" height=\"67.9063\" style=\"stroke: #A80036; stroke-width: 1.5;\" width=\"143\" x=\"1964\" y=\"154\"/><ellipse cx=\"1979\" cy=\"179.9531\" fill=\"#ADD1B2\" rx=\"11\" ry=\"11\" style=\"stroke: #A80036; stroke-width: 1.0;\"/><path d=\"M1981.9688,185.5938 Q1981.3906,185.8906 1980.75,186.0391 Q1980.1094,186.1875 1979.4063,186.1875 Q1976.9063,186.1875 1975.5859,184.5391 Q1974.2656,182.8906 1974.2656,179.7656 Q1974.2656,176.6406 1975.5859,174.9844 Q1976.9063,173.3281 1979.4063,173.3281 Q1980.1094,173.3281 1980.7578,173.4844 Q1981.4063,173.6406 1981.9688,173.9375 L1981.9688,176.6563 Q1981.3438,176.0781 1980.75,175.8047 Q1980.1563,175.5313 1979.5313,175.5313 Q1978.1875,175.5313 1977.5,176.6016 Q1976.8125,177.6719 1976.8125,179.7656 Q1976.8125,181.8594 1977.5,182.9297 Q1978.1875,184 1979.5313,184 Q1980.1563,184 1980.75,183.7266 Q1981.3438,183.4531 1981.9688,182.875 L1981.9688,185.5938 Z \"/><text fill=\"#000000\" font-family=\"sans-serif\" font-size=\"12\" lengthAdjust=\"spacingAndGlyphs\" textLength=\"58\" x=\"2019.5\" y=\"170.1387\">Espresso</text><text fill=\"#000000\" font-family=\"sans-serif\" font-size=\"12\" lengthAdjust=\"spacingAndGlyphs\" textLength=\"111\" x=\"1993\" y=\"184.1074\">withSteamedMik&amp;</text><text fill=\"#000000\" font-family=\"sans-serif\" font-size=\"12\" lengthAdjust=\"spacingAndGlyphs\" textLength=\"22\" x=\"2037.5\" y=\"198.0762\">Soy</text><line style=\"stroke: #A80036; stroke-width: 1.5;\" x1=\"1965\" x2=\"2106\" y1=\"205.9063\" y2=\"205.9063\"/><line style=\"stroke: #A80036; stroke-width: 1.5;\" x1=\"1965\" x2=\"2106\" y1=\"213.9063\" y2=\"213.9063\"/><path d=\"M985.306,54.352 C833.06,60.641 465.373,82.572 166.5,154 C160.89,155.3407 155.151,156.9316 149.422,158.6793 \" fill=\"none\" style=\"stroke: #A80036; stroke-width: 1.0;\"/><polygon fill=\"none\" points=\"985.069,47.356,1005.329,53.565,985.619,61.345,985.069,47.356\" style=\"stroke: #A80036; stroke-width: 1.0;\"/><path d=\"M985.116,57.172 C855.757,67.656 574.658,95.554 344.5,154 C338.91,155.4196 333.184,157.0679 327.465,158.8557 \" fill=\"none\" style=\"stroke: #A80036; stroke-width: 1.0;\"/><polygon fill=\"none\" points=\"984.786,50.176,1005.275,55.581,985.888,64.133,984.786,50.176\" style=\"stroke: #A80036; stroke-width: 1.0;\"/><path d=\"M985.475,61.719 C882.333,76.697 685.597,108.527 522.5,154 C516.785,155.5933 510.918,157.3911 505.054,159.3043 \" fill=\"none\" style=\"stroke: #A80036; stroke-width: 1.0;\"/><polygon fill=\"none\" points=\"984.628,54.769,1005.418,58.865,986.612,68.628,984.628,54.769\" style=\"stroke: #A80036; stroke-width: 1.0;\"/><path d=\"M985.812,70.551 C913.629,89.891 798.565,121.822 700.5,154 C694.863,155.8496 689.052,157.8316 683.226,159.8722 \" fill=\"none\" style=\"stroke: #A80036; stroke-width: 1.0;\"/><polygon fill=\"none\" points=\"984.302,63.709,1005.43,65.322,987.908,77.237,984.302,63.709\" style=\"stroke: #A80036; stroke-width: 1.0;\"/><path d=\"M987.424,86.926 C946.656,107.539 895.345,133.483 855.183,153.7895 \" fill=\"none\" style=\"stroke: #A80036; stroke-width: 1.0;\"/><polygon fill=\"none\" points=\"984.329,80.647,1005.336,77.87,990.646,93.141,984.329,80.647\" style=\"stroke: #A80036; stroke-width: 1.0;\"/><path d=\"M1017.53,111.107 C1007.89,125.7384 997.889,140.9044 989.389,153.797 \" fill=\"none\" style=\"stroke: #A80036; stroke-width: 1.0;\"/><polygon fill=\"none\" points=\"1011.73,107.189,1028.58,94.344,1023.42,114.895,1011.73,107.189\" style=\"stroke: #A80036; stroke-width: 1.0;\"/><path d=\"M1095.47,111.107 C1105.11,125.7384 1115.11,140.9044 1123.61,153.797 \" fill=\"none\" style=\"stroke: #A80036; stroke-width: 1.0;\"/><polygon fill=\"none\" points=\"1089.58,114.895,1084.42,94.344,1101.27,107.189,1089.58,114.895\" style=\"stroke: #A80036; stroke-width: 1.0;\"/><path d=\"M1125.58,86.926 C1166.34,107.539 1217.66,133.483 1257.82,153.7895 \" fill=\"none\" style=\"stroke: #A80036; stroke-width: 1.0;\"/><polygon fill=\"none\" points=\"1122.35,93.141,1107.66,77.87,1128.67,80.647,1122.35,93.141\" style=\"stroke: #A80036; stroke-width: 1.0;\"/><path d=\"M1127.19,70.551 C1199.37,89.891 1314.43,121.822 1412.5,154 C1418.14,155.8496 1423.95,157.8316 1429.77,159.8722 \" fill=\"none\" style=\"stroke: #A80036; stroke-width: 1.0;\"/><polygon fill=\"none\" points=\"1125.09,77.237,1107.57,65.322,1128.7,63.709,1125.09,77.237\" style=\"stroke: #A80036; stroke-width: 1.0;\"/><path d=\"M1127.52,61.719 C1230.67,76.697 1427.4,108.527 1590.5,154 C1596.21,155.5933 1602.08,157.3911 1607.95,159.3043 \" fill=\"none\" style=\"stroke: #A80036; stroke-width: 1.0;\"/><polygon fill=\"none\" points=\"1126.39,68.628,1107.58,58.865,1128.37,54.769,1126.39,68.628\" style=\"stroke: #A80036; stroke-width: 1.0;\"/><path d=\"M1127.88,57.172 C1257.24,67.656 1538.34,95.554 1768.5,154 C1774.09,155.4196 1779.82,157.0679 1785.53,158.8557 \" fill=\"none\" style=\"stroke: #A80036; stroke-width: 1.0;\"/><polygon fill=\"none\" points=\"1127.11,64.133,1107.72,55.581,1128.21,50.176,1127.11,64.133\" style=\"stroke: #A80036; stroke-width: 1.0;\"/><path d=\"M1127.69,54.352 C1279.94,60.641 1647.63,82.572 1946.5,154 C1952.11,155.3407 1957.85,156.9316 1963.58,158.6793 \" fill=\"none\" style=\"stroke: #A80036; stroke-width: 1.0;\"/><polygon fill=\"none\" points=\"1127.38,61.345,1107.67,53.565,1127.93,47.356,1127.38,61.345\" style=\"stroke: #A80036; stroke-width: 1.0;\"/></g></svg>"
      ],
      "text/plain": [
       "<IPython.core.display.SVG object>"
      ]
     },
     "execution_count": 3,
     "metadata": {},
     "output_type": "execute_result"
    }
   ],
   "source": [
    "%%plantuml\n",
    "@startuml\n",
    "class Beverage {\n",
    "    description\n",
    "    getDescription()\n",
    "    cost()\n",
    "}\n",
    "Beverage <|-- \"HouseBlend\\nwithSteamedMik&\\nMocha\"\n",
    "Beverage <|-- \"DarkRoast\\nwithSteamedMik&\\nMocha\"\n",
    "Beverage <|-- \"Decaf\\nwithSteamedMik&\\nMocha\"\n",
    "Beverage <|-- \"Espresso\\nwithSteamedMik&\\nMocha\"\n",
    "Beverage <|-- \"HouseBlend\\nwithSteamedMik&\\nCaramel\"\n",
    "Beverage <|-- \"DarkRoast\\nwithSteamedMik&\\nCaramel\"\n",
    "Beverage <|-- \"Decaf\\nwithSteamedMik&\\nCaramel\"\n",
    "Beverage <|-- \"Espresso\\nwithSteamedMik&\\nCaramel\"\n",
    "Beverage <|-- \"HouseBlend\\nwithSteamedMik&\\nSoy\"\n",
    "Beverage <|-- \"DarkRoast\\nwithSteamedMik&\\nSoy\"\n",
    "Beverage <|-- \"Decaf\\nwithSteamedMik&\\nSoy\"\n",
    "Beverage <|-- \"Espresso\\nwithSteamedMik&\\nSoy\"\n",
    "@enduml"
   ]
  },
  {
   "cell_type": "code",
   "execution_count": 4,
   "metadata": {
    "collapsed": false,
    "slideshow": {
     "slide_type": "slide"
    }
   },
   "outputs": [
    {
     "data": {
      "image/svg+xml": [
       "<svg height=\"400px\" style=\"width:502px;height:400px;\" version=\"1.1\" viewBox=\"0 0 502 400\" width=\"502px\" xmlns=\"http://www.w3.org/2000/svg\" xmlns:xlink=\"http://www.w3.org/1999/xlink\"><defs><filter height=\"300%\" id=\"f1\" width=\"300%\" x=\"-1\" y=\"-1\"><feGaussianBlur result=\"blurOut\" stdDeviation=\"2.0\"/><feColorMatrix in=\"blurOut\" result=\"blurOut2\" type=\"matrix\" values=\"0 0 0 0 0 0 0 0 0 0 0 0 0 0 0 0 0 0 .4 0\"/><feOffset dx=\"4.0\" dy=\"4.0\" in=\"blurOut2\" result=\"blurOut3\"/><feBlend in=\"SourceGraphic\" in2=\"blurOut3\" mode=\"normal\"/></filter></defs><g><line style=\"stroke: #A80036; stroke-width: 1.0;\" x1=\"36\" x2=\"36\" y1=\"70.8906\" y2=\"110.0234\"/><line style=\"stroke: #A80036; stroke-width: 1.0; stroke-dasharray: 1.0,4.0;\" x1=\"36\" x2=\"36\" y1=\"110.0234\" y2=\"150.8281\"/><line style=\"stroke: #A80036; stroke-width: 1.0;\" x1=\"36\" x2=\"36\" y1=\"150.8281\" y2=\"179.9609\"/><line style=\"stroke: #A80036; stroke-width: 1.0; stroke-dasharray: 1.0,4.0;\" x1=\"36\" x2=\"36\" y1=\"179.9609\" y2=\"220.7656\"/><line style=\"stroke: #A80036; stroke-width: 1.0;\" x1=\"36\" x2=\"36\" y1=\"220.7656\" y2=\"249.8984\"/><line style=\"stroke: #A80036; stroke-width: 1.0; stroke-dasharray: 1.0,4.0;\" x1=\"36\" x2=\"36\" y1=\"249.8984\" y2=\"290.7031\"/><line style=\"stroke: #A80036; stroke-width: 1.0;\" x1=\"36\" x2=\"36\" y1=\"290.7031\" y2=\"329.8359\"/><line style=\"stroke: #A80036; stroke-width: 1.0;\" x1=\"142\" x2=\"142\" y1=\"70.8906\" y2=\"110.0234\"/><line style=\"stroke: #A80036; stroke-width: 1.0; stroke-dasharray: 1.0,4.0;\" x1=\"142\" x2=\"142\" y1=\"110.0234\" y2=\"150.8281\"/><line style=\"stroke: #A80036; stroke-width: 1.0;\" x1=\"142\" x2=\"142\" y1=\"150.8281\" y2=\"179.9609\"/><line style=\"stroke: #A80036; stroke-width: 1.0; stroke-dasharray: 1.0,4.0;\" x1=\"142\" x2=\"142\" y1=\"179.9609\" y2=\"220.7656\"/><line style=\"stroke: #A80036; stroke-width: 1.0;\" x1=\"142\" x2=\"142\" y1=\"220.7656\" y2=\"249.8984\"/><line style=\"stroke: #A80036; stroke-width: 1.0; stroke-dasharray: 1.0,4.0;\" x1=\"142\" x2=\"142\" y1=\"249.8984\" y2=\"290.7031\"/><line style=\"stroke: #A80036; stroke-width: 1.0;\" x1=\"142\" x2=\"142\" y1=\"290.7031\" y2=\"329.8359\"/><line style=\"stroke: #A80036; stroke-width: 1.0;\" x1=\"286\" x2=\"286\" y1=\"70.8906\" y2=\"110.0234\"/><line style=\"stroke: #A80036; stroke-width: 1.0; stroke-dasharray: 1.0,4.0;\" x1=\"286\" x2=\"286\" y1=\"110.0234\" y2=\"150.8281\"/><line style=\"stroke: #A80036; stroke-width: 1.0;\" x1=\"286\" x2=\"286\" y1=\"150.8281\" y2=\"179.9609\"/><line style=\"stroke: #A80036; stroke-width: 1.0; stroke-dasharray: 1.0,4.0;\" x1=\"286\" x2=\"286\" y1=\"179.9609\" y2=\"220.7656\"/><line style=\"stroke: #A80036; stroke-width: 1.0;\" x1=\"286\" x2=\"286\" y1=\"220.7656\" y2=\"249.8984\"/><line style=\"stroke: #A80036; stroke-width: 1.0; stroke-dasharray: 1.0,4.0;\" x1=\"286\" x2=\"286\" y1=\"249.8984\" y2=\"290.7031\"/><line style=\"stroke: #A80036; stroke-width: 1.0;\" x1=\"286\" x2=\"286\" y1=\"290.7031\" y2=\"329.8359\"/><line style=\"stroke: #A80036; stroke-width: 1.0;\" x1=\"430\" x2=\"430\" y1=\"70.8906\" y2=\"110.0234\"/><line style=\"stroke: #A80036; stroke-width: 1.0; stroke-dasharray: 1.0,4.0;\" x1=\"430\" x2=\"430\" y1=\"110.0234\" y2=\"150.8281\"/><line style=\"stroke: #A80036; stroke-width: 1.0;\" x1=\"430\" x2=\"430\" y1=\"150.8281\" y2=\"179.9609\"/><line style=\"stroke: #A80036; stroke-width: 1.0; stroke-dasharray: 1.0,4.0;\" x1=\"430\" x2=\"430\" y1=\"179.9609\" y2=\"220.7656\"/><line style=\"stroke: #A80036; stroke-width: 1.0;\" x1=\"430\" x2=\"430\" y1=\"220.7656\" y2=\"249.8984\"/><line style=\"stroke: #A80036; stroke-width: 1.0; stroke-dasharray: 1.0,4.0;\" x1=\"430\" x2=\"430\" y1=\"249.8984\" y2=\"290.7031\"/><line style=\"stroke: #A80036; stroke-width: 1.0;\" x1=\"430\" x2=\"430\" y1=\"290.7031\" y2=\"329.8359\"/><rect fill=\"#FEFECE\" filter=\"url(#f1)\" height=\"30.2969\" style=\"stroke: #A80036; stroke-width: 1.5;\" width=\"53\" x=\"8\" y=\"35.5938\"/><text fill=\"#000000\" font-family=\"sans-serif\" font-size=\"14\" lengthAdjust=\"spacingAndGlyphs\" textLength=\"39\" x=\"15\" y=\"55.5889\">Client</text><rect fill=\"#FEFECE\" filter=\"url(#f1)\" height=\"30.2969\" style=\"stroke: #A80036; stroke-width: 1.5;\" width=\"53\" x=\"8\" y=\"328.8359\"/><text fill=\"#000000\" font-family=\"sans-serif\" font-size=\"14\" lengthAdjust=\"spacingAndGlyphs\" textLength=\"39\" x=\"15\" y=\"348.8311\">Client</text><rect fill=\"#FEFECE\" filter=\"url(#f1)\" height=\"62.8906\" style=\"stroke: #A80036; stroke-width: 1.5;\" width=\"130\" x=\"75\" y=\"3\"/><text fill=\"#000000\" font-family=\"sans-serif\" font-size=\"14\" lengthAdjust=\"spacingAndGlyphs\" textLength=\"85\" x=\"97.5\" y=\"22.9951\">HouseBlend</text><text fill=\"#000000\" font-family=\"sans-serif\" font-size=\"14\" lengthAdjust=\"spacingAndGlyphs\" textLength=\"116\" x=\"82\" y=\"39.292\">withSteamedMilk</text><text fill=\"#000000\" font-family=\"sans-serif\" font-size=\"14\" lengthAdjust=\"spacingAndGlyphs\" textLength=\"46\" x=\"117\" y=\"55.5889\">Mocha</text><rect fill=\"#FEFECE\" filter=\"url(#f1)\" height=\"62.8906\" style=\"stroke: #A80036; stroke-width: 1.5;\" width=\"130\" x=\"75\" y=\"328.8359\"/><text fill=\"#000000\" font-family=\"sans-serif\" font-size=\"14\" lengthAdjust=\"spacingAndGlyphs\" textLength=\"85\" x=\"97.5\" y=\"348.8311\">HouseBlend</text><text fill=\"#000000\" font-family=\"sans-serif\" font-size=\"14\" lengthAdjust=\"spacingAndGlyphs\" textLength=\"116\" x=\"82\" y=\"365.1279\">withSteamedMilk</text><text fill=\"#000000\" font-family=\"sans-serif\" font-size=\"14\" lengthAdjust=\"spacingAndGlyphs\" textLength=\"46\" x=\"117\" y=\"381.4248\">Mocha</text><rect fill=\"#FEFECE\" filter=\"url(#f1)\" height=\"62.8906\" style=\"stroke: #A80036; stroke-width: 1.5;\" width=\"130\" x=\"219\" y=\"3\"/><text fill=\"#000000\" font-family=\"sans-serif\" font-size=\"14\" lengthAdjust=\"spacingAndGlyphs\" textLength=\"72\" x=\"248\" y=\"22.9951\">DarkRoast</text><text fill=\"#000000\" font-family=\"sans-serif\" font-size=\"14\" lengthAdjust=\"spacingAndGlyphs\" textLength=\"116\" x=\"226\" y=\"39.292\">withSteamedMilk</text><text fill=\"#000000\" font-family=\"sans-serif\" font-size=\"14\" lengthAdjust=\"spacingAndGlyphs\" textLength=\"46\" x=\"261\" y=\"55.5889\">Mocha</text><rect fill=\"#FEFECE\" filter=\"url(#f1)\" height=\"62.8906\" style=\"stroke: #A80036; stroke-width: 1.5;\" width=\"130\" x=\"219\" y=\"328.8359\"/><text fill=\"#000000\" font-family=\"sans-serif\" font-size=\"14\" lengthAdjust=\"spacingAndGlyphs\" textLength=\"72\" x=\"248\" y=\"348.8311\">DarkRoast</text><text fill=\"#000000\" font-family=\"sans-serif\" font-size=\"14\" lengthAdjust=\"spacingAndGlyphs\" textLength=\"116\" x=\"226\" y=\"365.1279\">withSteamedMilk</text><text fill=\"#000000\" font-family=\"sans-serif\" font-size=\"14\" lengthAdjust=\"spacingAndGlyphs\" textLength=\"46\" x=\"261\" y=\"381.4248\">Mocha</text><rect fill=\"#FEFECE\" filter=\"url(#f1)\" height=\"62.8906\" style=\"stroke: #A80036; stroke-width: 1.5;\" width=\"130\" x=\"363\" y=\"3\"/><text fill=\"#000000\" font-family=\"sans-serif\" font-size=\"14\" lengthAdjust=\"spacingAndGlyphs\" textLength=\"65\" x=\"395.5\" y=\"22.9951\">Espresso</text><text fill=\"#000000\" font-family=\"sans-serif\" font-size=\"14\" lengthAdjust=\"spacingAndGlyphs\" textLength=\"116\" x=\"370\" y=\"39.292\">withSteamedMilk</text><text fill=\"#000000\" font-family=\"sans-serif\" font-size=\"14\" lengthAdjust=\"spacingAndGlyphs\" textLength=\"46\" x=\"405\" y=\"55.5889\">Mocha</text><rect fill=\"#FEFECE\" filter=\"url(#f1)\" height=\"62.8906\" style=\"stroke: #A80036; stroke-width: 1.5;\" width=\"130\" x=\"363\" y=\"328.8359\"/><text fill=\"#000000\" font-family=\"sans-serif\" font-size=\"14\" lengthAdjust=\"spacingAndGlyphs\" textLength=\"65\" x=\"395.5\" y=\"348.8311\">Espresso</text><text fill=\"#000000\" font-family=\"sans-serif\" font-size=\"14\" lengthAdjust=\"spacingAndGlyphs\" textLength=\"116\" x=\"370\" y=\"365.1279\">withSteamedMilk</text><text fill=\"#000000\" font-family=\"sans-serif\" font-size=\"14\" lengthAdjust=\"spacingAndGlyphs\" textLength=\"46\" x=\"405\" y=\"381.4248\">Mocha</text><polygon fill=\"#A80036\" points=\"130,97.8906,140,101.8906,130,105.8906,134,101.8906\" style=\"stroke: #A80036; stroke-width: 1.0;\"/><line style=\"stroke: #A80036; stroke-width: 1.0;\" x1=\"36.5\" x2=\"136\" y1=\"101.8906\" y2=\"101.8906\"/><text fill=\"#000000\" font-family=\"sans-serif\" font-size=\"13\" font-weight=\"bold\" lengthAdjust=\"spacingAndGlyphs\" textLength=\"9\" x=\"43.5\" y=\"96.9575\">1</text><text fill=\"#000000\" font-family=\"sans-serif\" font-size=\"13\" lengthAdjust=\"spacingAndGlyphs\" textLength=\"0\" x=\"60.5\" y=\"96.9575\"/><text fill=\"#000000\" font-family=\"sans-serif\" font-size=\"11\" lengthAdjust=\"spacingAndGlyphs\" textLength=\"26\" x=\"220.25\" y=\"134.2339\">later</text><polygon fill=\"#A80036\" points=\"274,167.8281,284,171.8281,274,175.8281,278,171.8281\" style=\"stroke: #A80036; stroke-width: 1.0;\"/><line style=\"stroke: #A80036; stroke-width: 1.0;\" x1=\"36.5\" x2=\"280\" y1=\"171.8281\" y2=\"171.8281\"/><text fill=\"#000000\" font-family=\"sans-serif\" font-size=\"13\" font-weight=\"bold\" lengthAdjust=\"spacingAndGlyphs\" textLength=\"9\" x=\"43.5\" y=\"166.895\">2</text><text fill=\"#000000\" font-family=\"sans-serif\" font-size=\"13\" lengthAdjust=\"spacingAndGlyphs\" textLength=\"0\" x=\"60.5\" y=\"166.895\"/><text fill=\"#000000\" font-family=\"sans-serif\" font-size=\"11\" lengthAdjust=\"spacingAndGlyphs\" textLength=\"26\" x=\"220.25\" y=\"204.1714\">later</text><polygon fill=\"#A80036\" points=\"418,237.7656,428,241.7656,418,245.7656,422,241.7656\" style=\"stroke: #A80036; stroke-width: 1.0;\"/><line style=\"stroke: #A80036; stroke-width: 1.0;\" x1=\"36.5\" x2=\"424\" y1=\"241.7656\" y2=\"241.7656\"/><text fill=\"#000000\" font-family=\"sans-serif\" font-size=\"13\" font-weight=\"bold\" lengthAdjust=\"spacingAndGlyphs\" textLength=\"9\" x=\"43.5\" y=\"236.8325\">3</text><text fill=\"#000000\" font-family=\"sans-serif\" font-size=\"13\" lengthAdjust=\"spacingAndGlyphs\" textLength=\"0\" x=\"60.5\" y=\"236.8325\"/><text fill=\"#000000\" font-family=\"sans-serif\" font-size=\"11\" lengthAdjust=\"spacingAndGlyphs\" textLength=\"26\" x=\"220.25\" y=\"274.1089\">later</text><polygon fill=\"#A80036\" points=\"418,307.7031,428,311.7031,418,315.7031,422,311.7031\" style=\"stroke: #A80036; stroke-width: 1.0;\"/><line style=\"stroke: #A80036; stroke-width: 1.0;\" x1=\"36.5\" x2=\"424\" y1=\"311.7031\" y2=\"311.7031\"/><text fill=\"#000000\" font-family=\"sans-serif\" font-size=\"13\" font-weight=\"bold\" lengthAdjust=\"spacingAndGlyphs\" textLength=\"9\" x=\"43.5\" y=\"306.77\">4</text><text fill=\"#000000\" font-family=\"sans-serif\" font-size=\"13\" lengthAdjust=\"spacingAndGlyphs\" textLength=\"0\" x=\"60.5\" y=\"306.77\"/></g></svg>"
      ],
      "text/plain": [
       "<IPython.core.display.SVG object>"
      ]
     },
     "execution_count": 4,
     "metadata": {},
     "output_type": "execute_result"
    }
   ],
   "source": [
    "%%plantuml\n",
    "\n",
    "@startuml\n",
    "\n",
    "autonumber\n",
    "Client -> \"HouseBlend\\nwithSteamedMilk\\nMocha\"\n",
    "... later ...\n",
    "Client -> \"DarkRoast\\nwithSteamedMilk\\nMocha\"\n",
    "... later ...\n",
    "Client -> \"Espresso\\nwithSteamedMilk\\nMocha\"\n",
    "... later ...\n",
    "Client -> \"Espresso\\nwithSteamedMilk\\nMocha\"\n",
    "\n",
    "@enduml"
   ]
  },
  {
   "cell_type": "markdown",
   "metadata": {
    "slideshow": {
     "slide_type": "slide"
    }
   },
   "source": [
    "## D.3 설계\n",
    "\n",
    "* OCP(Open Closed Principle)\n",
    "* 추가하려는 기능이 있는 경우 확장이 쉽고 (Open)\n",
    "* 기존 소스코드는 직접 수정을 하지 않도록 (Closed)\n",
    "* DarkRoast를 주문하는 경우,\n",
    "    * 모카를 원하면 추가 (decorating DarkRoast), 비용 추가\n",
    "    * 휘핑크림을 원하면 또 추가 (decorating again), 비용 추가\n",
    "* Component\n",
    "    * 기본이 되는 클래스\n",
    "    * 다른 기능이 필요한 경우 여기서 상속을 받음.\n",
    "    * 인터페이스 또는 추상클래스로 구현할 수 있슴.\n",
    "* Decorator\n",
    "    * Component에 대해 HAS-A관계 (속성에 Component 참조)\n",
    "    * 또한 Component에 대해 상속관계\n",
    "    * Component와 동일한 기능 (상속관계를 갖으므로), 그러나 필요한 것은 추가 (HAS-A 관계를 통해)\n"
   ]
  },
  {
   "cell_type": "markdown",
   "metadata": {
    "slideshow": {
     "slide_type": "subslide"
    }
   },
   "source": [
    "* Component 클래스를 만든다.\n",
    "* Decorator 클래스를 Component 클래스의 하위클래스로 한다."
   ]
  },
  {
   "cell_type": "code",
   "execution_count": 3,
   "metadata": {
    "collapsed": false,
    "slideshow": {
     "slide_type": "-"
    }
   },
   "outputs": [
    {
     "data": {
      "image/svg+xml": [
       "<svg height=\"173px\" style=\"width:306px;height:173px;\" version=\"1.1\" viewBox=\"0 0 306 173\" width=\"306px\" xmlns=\"http://www.w3.org/2000/svg\" xmlns:xlink=\"http://www.w3.org/1999/xlink\"><defs><filter height=\"300%\" id=\"f1\" width=\"300%\" x=\"-1\" y=\"-1\"><feGaussianBlur result=\"blurOut\" stdDeviation=\"2.0\"/><feColorMatrix in=\"blurOut\" result=\"blurOut2\" type=\"matrix\" values=\"0 0 0 0 0 0 0 0 0 0 0 0 0 0 0 0 0 0 .4 0\"/><feOffset dx=\"4.0\" dy=\"4.0\" in=\"blurOut2\" result=\"blurOut3\"/><feBlend in=\"SourceGraphic\" in2=\"blurOut3\" mode=\"normal\"/></filter></defs><g><rect fill=\"#FEFECE\" filter=\"url(#f1)\" height=\"48\" style=\"stroke: #A80036; stroke-width: 1.5;\" width=\"104\" x=\"82.5\" y=\"8\"/><ellipse cx=\"97.5\" cy=\"24\" fill=\"#ADD1B2\" rx=\"11\" ry=\"11\" style=\"stroke: #A80036; stroke-width: 1.0;\"/><path d=\"M100.4688,29.6406 Q99.8906,29.9375 99.25,30.0859 Q98.6094,30.2344 97.9063,30.2344 Q95.4063,30.2344 94.0859,28.5859 Q92.7656,26.9375 92.7656,23.8125 Q92.7656,20.6875 94.0859,19.0313 Q95.4063,17.375 97.9063,17.375 Q98.6094,17.375 99.2578,17.5313 Q99.9063,17.6875 100.4688,17.9844 L100.4688,20.7031 Q99.8438,20.125 99.25,19.8516 Q98.6563,19.5781 98.0313,19.5781 Q96.6875,19.5781 96,20.6484 Q95.3125,21.7188 95.3125,23.8125 Q95.3125,25.9063 96,26.9766 Q96.6875,28.0469 98.0313,28.0469 Q98.6563,28.0469 99.25,27.7734 Q99.8438,27.5 100.4688,26.9219 L100.4688,29.6406 Z \"/><text fill=\"#000000\" font-family=\"sans-serif\" font-size=\"12\" lengthAdjust=\"spacingAndGlyphs\" textLength=\"72\" x=\"111.5\" y=\"28.1543\">Component</text><line style=\"stroke: #A80036; stroke-width: 1.5;\" x1=\"83.5\" x2=\"185.5\" y1=\"40\" y2=\"40\"/><line style=\"stroke: #A80036; stroke-width: 1.5;\" x1=\"83.5\" x2=\"185.5\" y1=\"48\" y2=\"48\"/><rect fill=\"#FEFECE\" filter=\"url(#f1)\" height=\"48\" style=\"stroke: #A80036; stroke-width: 1.5;\" width=\"95\" x=\"6\" y=\"116\"/><ellipse cx=\"21\" cy=\"132\" fill=\"#ADD1B2\" rx=\"11\" ry=\"11\" style=\"stroke: #A80036; stroke-width: 1.0;\"/><path d=\"M23.9688,137.6406 Q23.3906,137.9375 22.75,138.0859 Q22.1094,138.2344 21.4063,138.2344 Q18.9063,138.2344 17.5859,136.5859 Q16.2656,134.9375 16.2656,131.8125 Q16.2656,128.6875 17.5859,127.0313 Q18.9063,125.375 21.4063,125.375 Q22.1094,125.375 22.7578,125.5313 Q23.4063,125.6875 23.9688,125.9844 L23.9688,128.7031 Q23.3438,128.125 22.75,127.8516 Q22.1563,127.5781 21.5313,127.5781 Q20.1875,127.5781 19.5,128.6484 Q18.8125,129.7188 18.8125,131.8125 Q18.8125,133.9063 19.5,134.9766 Q20.1875,136.0469 21.5313,136.0469 Q22.1563,136.0469 22.75,135.7734 Q23.3438,135.5 23.9688,134.9219 L23.9688,137.6406 Z \"/><text fill=\"#000000\" font-family=\"sans-serif\" font-size=\"12\" lengthAdjust=\"spacingAndGlyphs\" textLength=\"63\" x=\"35\" y=\"136.1543\">Decorator</text><line style=\"stroke: #A80036; stroke-width: 1.5;\" x1=\"7\" x2=\"100\" y1=\"148\" y2=\"148\"/><line style=\"stroke: #A80036; stroke-width: 1.5;\" x1=\"7\" x2=\"100\" y1=\"156\" y2=\"156\"/><rect fill=\"#FEFECE\" filter=\"url(#f1)\" height=\"48\" style=\"stroke: #A80036; stroke-width: 1.5;\" width=\"161\" x=\"136\" y=\"116\"/><ellipse cx=\"151\" cy=\"132\" fill=\"#ADD1B2\" rx=\"11\" ry=\"11\" style=\"stroke: #A80036; stroke-width: 1.0;\"/><path d=\"M153.9688,137.6406 Q153.3906,137.9375 152.75,138.0859 Q152.1094,138.2344 151.4063,138.2344 Q148.9063,138.2344 147.5859,136.5859 Q146.2656,134.9375 146.2656,131.8125 Q146.2656,128.6875 147.5859,127.0313 Q148.9063,125.375 151.4063,125.375 Q152.1094,125.375 152.7578,125.5313 Q153.4063,125.6875 153.9688,125.9844 L153.9688,128.7031 Q153.3438,128.125 152.75,127.8516 Q152.1563,127.5781 151.5313,127.5781 Q150.1875,127.5781 149.5,128.6484 Q148.8125,129.7188 148.8125,131.8125 Q148.8125,133.9063 149.5,134.9766 Q150.1875,136.0469 151.5313,136.0469 Q152.1563,136.0469 152.75,135.7734 Q153.3438,135.5 153.9688,134.9219 L153.9688,137.6406 Z \"/><text fill=\"#000000\" font-family=\"sans-serif\" font-size=\"12\" lengthAdjust=\"spacingAndGlyphs\" textLength=\"129\" x=\"165\" y=\"136.1543\">ConcreteComponent</text><line style=\"stroke: #A80036; stroke-width: 1.5;\" x1=\"137\" x2=\"296\" y1=\"148\" y2=\"148\"/><line style=\"stroke: #A80036; stroke-width: 1.5;\" x1=\"137\" x2=\"296\" y1=\"156\" y2=\"156\"/><path d=\"M164.808,72.1784 C176.119,86.7995 188.596,102.9295 198.459,115.6784 \" fill=\"none\" style=\"stroke: #A80036; stroke-width: 1.0;\"/><polygon fill=\"none\" points=\"158.994,76.1027,152.293,56,170.067,67.5365,158.994,76.1027\" style=\"stroke: #A80036; stroke-width: 1.0;\"/><path d=\"M104.5618,72.1784 C93.389,86.7995 81.0633,102.9295 71.3212,115.6784 \" fill=\"none\" style=\"stroke: #A80036; stroke-width: 1.0;\"/><polygon fill=\"none\" points=\"99.2187,67.6416,116.924,56,110.343,76.1421,99.2187,67.6416\" style=\"stroke: #A80036; stroke-width: 1.0;\"/></g></svg>"
      ],
      "text/plain": [
       "<IPython.core.display.SVG object>"
      ]
     },
     "execution_count": 3,
     "metadata": {},
     "output_type": "execute_result"
    }
   ],
   "source": [
    "%%plantuml\n",
    "@startuml\n",
    "class Component\n",
    "class Decorator\n",
    "Component <|-- ConcreteComponent\n",
    "Component <|-- Decorator\n",
    "@enduml"
   ]
  },
  {
   "cell_type": "markdown",
   "metadata": {
    "slideshow": {
     "slide_type": "subslide"
    }
   },
   "source": [
    "* Decorator 클래스의 생성자에 Component를 인자로 넣는다."
   ]
  },
  {
   "cell_type": "code",
   "execution_count": 4,
   "metadata": {
    "collapsed": false,
    "slideshow": {
     "slide_type": "-"
    }
   },
   "outputs": [
    {
     "data": {
      "image/svg+xml": [
       "<svg height=\"173px\" style=\"width:310px;height:173px;\" version=\"1.1\" viewBox=\"0 0 310 173\" width=\"310px\" xmlns=\"http://www.w3.org/2000/svg\" xmlns:xlink=\"http://www.w3.org/1999/xlink\"><defs><filter height=\"300%\" id=\"f1\" width=\"300%\" x=\"-1\" y=\"-1\"><feGaussianBlur result=\"blurOut\" stdDeviation=\"2.0\"/><feColorMatrix in=\"blurOut\" result=\"blurOut2\" type=\"matrix\" values=\"0 0 0 0 0 0 0 0 0 0 0 0 0 0 0 0 0 0 .4 0\"/><feOffset dx=\"4.0\" dy=\"4.0\" in=\"blurOut2\" result=\"blurOut3\"/><feBlend in=\"SourceGraphic\" in2=\"blurOut3\" mode=\"normal\"/></filter></defs><g><rect fill=\"#FEFECE\" filter=\"url(#f1)\" height=\"48\" style=\"stroke: #A80036; stroke-width: 1.5;\" width=\"104\" x=\"6\" y=\"8\"/><ellipse cx=\"21\" cy=\"24\" fill=\"#ADD1B2\" rx=\"11\" ry=\"11\" style=\"stroke: #A80036; stroke-width: 1.0;\"/><path d=\"M23.9688,29.6406 Q23.3906,29.9375 22.75,30.0859 Q22.1094,30.2344 21.4063,30.2344 Q18.9063,30.2344 17.5859,28.5859 Q16.2656,26.9375 16.2656,23.8125 Q16.2656,20.6875 17.5859,19.0313 Q18.9063,17.375 21.4063,17.375 Q22.1094,17.375 22.7578,17.5313 Q23.4063,17.6875 23.9688,17.9844 L23.9688,20.7031 Q23.3438,20.125 22.75,19.8516 Q22.1563,19.5781 21.5313,19.5781 Q20.1875,19.5781 19.5,20.6484 Q18.8125,21.7188 18.8125,23.8125 Q18.8125,25.9063 19.5,26.9766 Q20.1875,28.0469 21.5313,28.0469 Q22.1563,28.0469 22.75,27.7734 Q23.3438,27.5 23.9688,26.9219 L23.9688,29.6406 Z \"/><text fill=\"#000000\" font-family=\"sans-serif\" font-size=\"12\" lengthAdjust=\"spacingAndGlyphs\" textLength=\"72\" x=\"35\" y=\"28.1543\">Component</text><line style=\"stroke: #A80036; stroke-width: 1.5;\" x1=\"7\" x2=\"109\" y1=\"40\" y2=\"40\"/><line style=\"stroke: #A80036; stroke-width: 1.5;\" x1=\"7\" x2=\"109\" y1=\"48\" y2=\"48\"/><rect fill=\"#FEFECE\" filter=\"url(#f1)\" height=\"48\" style=\"stroke: #A80036; stroke-width: 1.5;\" width=\"95\" x=\"10.5\" y=\"116\"/><ellipse cx=\"25.5\" cy=\"132\" fill=\"#ADD1B2\" rx=\"11\" ry=\"11\" style=\"stroke: #A80036; stroke-width: 1.0;\"/><path d=\"M28.4688,137.6406 Q27.8906,137.9375 27.25,138.0859 Q26.6094,138.2344 25.9063,138.2344 Q23.4063,138.2344 22.0859,136.5859 Q20.7656,134.9375 20.7656,131.8125 Q20.7656,128.6875 22.0859,127.0313 Q23.4063,125.375 25.9063,125.375 Q26.6094,125.375 27.2578,125.5313 Q27.9063,125.6875 28.4688,125.9844 L28.4688,128.7031 Q27.8438,128.125 27.25,127.8516 Q26.6563,127.5781 26.0313,127.5781 Q24.6875,127.5781 24,128.6484 Q23.3125,129.7188 23.3125,131.8125 Q23.3125,133.9063 24,134.9766 Q24.6875,136.0469 26.0313,136.0469 Q26.6563,136.0469 27.25,135.7734 Q27.8438,135.5 28.4688,134.9219 L28.4688,137.6406 Z \"/><text fill=\"#000000\" font-family=\"sans-serif\" font-size=\"12\" lengthAdjust=\"spacingAndGlyphs\" textLength=\"63\" x=\"39.5\" y=\"136.1543\">Decorator</text><line style=\"stroke: #A80036; stroke-width: 1.5;\" x1=\"11.5\" x2=\"104.5\" y1=\"148\" y2=\"148\"/><line style=\"stroke: #A80036; stroke-width: 1.5;\" x1=\"11.5\" x2=\"104.5\" y1=\"156\" y2=\"156\"/><rect fill=\"#FEFECE\" filter=\"url(#f1)\" height=\"48\" style=\"stroke: #A80036; stroke-width: 1.5;\" width=\"161\" x=\"140.5\" y=\"116\"/><ellipse cx=\"155.5\" cy=\"132\" fill=\"#ADD1B2\" rx=\"11\" ry=\"11\" style=\"stroke: #A80036; stroke-width: 1.0;\"/><path d=\"M158.4688,137.6406 Q157.8906,137.9375 157.25,138.0859 Q156.6094,138.2344 155.9063,138.2344 Q153.4063,138.2344 152.0859,136.5859 Q150.7656,134.9375 150.7656,131.8125 Q150.7656,128.6875 152.0859,127.0313 Q153.4063,125.375 155.9063,125.375 Q156.6094,125.375 157.2578,125.5313 Q157.9063,125.6875 158.4688,125.9844 L158.4688,128.7031 Q157.8438,128.125 157.25,127.8516 Q156.6563,127.5781 156.0313,127.5781 Q154.6875,127.5781 154,128.6484 Q153.3125,129.7188 153.3125,131.8125 Q153.3125,133.9063 154,134.9766 Q154.6875,136.0469 156.0313,136.0469 Q156.6563,136.0469 157.25,135.7734 Q157.8438,135.5 158.4688,134.9219 L158.4688,137.6406 Z \"/><text fill=\"#000000\" font-family=\"sans-serif\" font-size=\"12\" lengthAdjust=\"spacingAndGlyphs\" textLength=\"129\" x=\"169.5\" y=\"136.1543\">ConcreteComponent</text><line style=\"stroke: #A80036; stroke-width: 1.5;\" x1=\"141.5\" x2=\"300.5\" y1=\"148\" y2=\"148\"/><line style=\"stroke: #A80036; stroke-width: 1.5;\" x1=\"141.5\" x2=\"300.5\" y1=\"156\" y2=\"156\"/><path d=\"M110.355,67.0468 C134.876,82.9931 163.451,101.5758 185.419,115.8617 \" fill=\"none\" style=\"stroke: #A80036; stroke-width: 1.0;\"/><polygon fill=\"none\" points=\"106.319,72.7721,93.3686,56,113.951,61.036,106.319,72.7721\" style=\"stroke: #A80036; stroke-width: 1.0;\"/><path d=\"M45.4529,76.0236 C44.8955,89.5792 45.4864,104.0381 47.2257,115.6784 \" fill=\"none\" style=\"stroke: #A80036; stroke-width: 1.0;\"/><polygon fill=\"none\" points=\"38.4912,75.2841,47.2741,56,52.4336,76.5523,38.4912,75.2841\" style=\"stroke: #A80036; stroke-width: 1.0;\"/><path d=\"M69.3568,56 C71.5315,69.5198 72.0512,86.9223 70.9159,102.2977 \" fill=\"none\" style=\"stroke: #A80036; stroke-width: 1.0;\"/><polygon fill=\"#A80036\" points=\"69.4081,115.6784,74.0549,110.1641,70.752,103.7539,66.1052,109.2682,69.4081,115.6784\" style=\"stroke: #A80036; stroke-width: 1.0;\"/></g></svg>"
      ],
      "text/plain": [
       "<IPython.core.display.SVG object>"
      ]
     },
     "execution_count": 4,
     "metadata": {},
     "output_type": "execute_result"
    }
   ],
   "source": [
    "%%plantuml\n",
    "@startuml\n",
    "class Component\n",
    "class Decorator\n",
    "Component <|-- ConcreteComponent\n",
    "Component <|-- Decorator\n",
    "Component --* Decorator\n",
    "@enduml"
   ]
  },
  {
   "cell_type": "markdown",
   "metadata": {
    "slideshow": {
     "slide_type": "subslide"
    }
   },
   "source": [
    "* ConcreteDecorator가 Component 클래스의 함수를 재정의한다 (override)\n",
    "* 부모 생성자 'Decorator(Component)'는 'ConcreteDecorator'에 상속되지 않느다.\n",
    "    * 생성자는 자신을 생성하는 특별한 기능을 가지고 있기 때문에, 상속되지 않는다.\n",
    "    * Java Language specification, 8.8. Constructor Declarations을 참조\n",
    "\"Constructor declarations are not members. They are never inherited and therefore are not subject to hiding or overriding.\""
   ]
  },
  {
   "cell_type": "code",
   "execution_count": 5,
   "metadata": {
    "collapsed": false,
    "slideshow": {
     "slide_type": "-"
    }
   },
   "outputs": [
    {
     "data": {
      "image/svg+xml": [
       "<svg height=\"294px\" style=\"width:334px;height:294px;\" version=\"1.1\" viewBox=\"0 0 334 294\" width=\"334px\" xmlns=\"http://www.w3.org/2000/svg\" xmlns:xlink=\"http://www.w3.org/1999/xlink\"><defs><filter height=\"300%\" id=\"f1\" width=\"300%\" x=\"-1\" y=\"-1\"><feGaussianBlur result=\"blurOut\" stdDeviation=\"2.0\"/><feColorMatrix in=\"blurOut\" result=\"blurOut2\" type=\"matrix\" values=\"0 0 0 0 0 0 0 0 0 0 0 0 0 0 0 0 0 0 .4 0\"/><feOffset dx=\"4.0\" dy=\"4.0\" in=\"blurOut2\" result=\"blurOut3\"/><feBlend in=\"SourceGraphic\" in2=\"blurOut3\" mode=\"normal\"/></filter></defs><g><rect fill=\"#FEFECE\" filter=\"url(#f1)\" height=\"48\" style=\"stroke: #A80036; stroke-width: 1.5;\" width=\"104\" x=\"30\" y=\"8\"/><ellipse cx=\"45\" cy=\"24\" fill=\"#A9DCDF\" rx=\"11\" ry=\"11\" style=\"stroke: #A80036; stroke-width: 1.0;\"/><path d=\"M45.1094,19.3438 L43.9531,24.4219 L46.2813,24.4219 L45.1094,19.3438 Z M43.625,17.1094 L46.6094,17.1094 L49.9688,29.5 L47.5156,29.5 L46.75,26.4375 L43.4688,26.4375 L42.7188,29.5 L40.2813,29.5 L43.625,17.1094 Z \"/><text fill=\"#000000\" font-family=\"sans-serif\" font-size=\"12\" font-style=\"italic\" lengthAdjust=\"spacingAndGlyphs\" textLength=\"72\" x=\"59\" y=\"28.1543\">Component</text><line style=\"stroke: #A80036; stroke-width: 1.5;\" x1=\"31\" x2=\"133\" y1=\"40\" y2=\"40\"/><line style=\"stroke: #A80036; stroke-width: 1.5;\" x1=\"31\" x2=\"133\" y1=\"48\" y2=\"48\"/><rect fill=\"#FEFECE\" filter=\"url(#f1)\" height=\"60.8047\" style=\"stroke: #A80036; stroke-width: 1.5;\" width=\"95\" x=\"34.5\" y=\"116\"/><ellipse cx=\"49.5\" cy=\"132\" fill=\"#ADD1B2\" rx=\"11\" ry=\"11\" style=\"stroke: #A80036; stroke-width: 1.0;\"/><path d=\"M52.4688,137.6406 Q51.8906,137.9375 51.25,138.0859 Q50.6094,138.2344 49.9063,138.2344 Q47.4063,138.2344 46.0859,136.5859 Q44.7656,134.9375 44.7656,131.8125 Q44.7656,128.6875 46.0859,127.0313 Q47.4063,125.375 49.9063,125.375 Q50.6094,125.375 51.2578,125.5313 Q51.9063,125.6875 52.4688,125.9844 L52.4688,128.7031 Q51.8438,128.125 51.25,127.8516 Q50.6563,127.5781 50.0313,127.5781 Q48.6875,127.5781 48,128.6484 Q47.3125,129.7188 47.3125,131.8125 Q47.3125,133.9063 48,134.9766 Q48.6875,136.0469 50.0313,136.0469 Q50.6563,136.0469 51.25,135.7734 Q51.8438,135.5 52.4688,134.9219 L52.4688,137.6406 Z \"/><text fill=\"#000000\" font-family=\"sans-serif\" font-size=\"12\" lengthAdjust=\"spacingAndGlyphs\" textLength=\"63\" x=\"63.5\" y=\"136.1543\">Decorator</text><line style=\"stroke: #A80036; stroke-width: 1.5;\" x1=\"35.5\" x2=\"128.5\" y1=\"148\" y2=\"148\"/><rect fill=\"none\" height=\"6\" style=\"stroke: #C82930; stroke-width: 1.0;\" width=\"6\" x=\"42.5\" y=\"156.9023\"/><text fill=\"#000000\" font-family=\"sans-serif\" font-size=\"11\" lengthAdjust=\"spacingAndGlyphs\" textLength=\"63\" x=\"54.5\" y=\"162.2104\">component</text><line style=\"stroke: #A80036; stroke-width: 1.5;\" x1=\"35.5\" x2=\"128.5\" y1=\"168.8047\" y2=\"168.8047\"/><rect fill=\"#FEFECE\" filter=\"url(#f1)\" height=\"48\" style=\"stroke: #A80036; stroke-width: 1.5;\" width=\"161\" x=\"164.5\" y=\"122.5\"/><ellipse cx=\"179.5\" cy=\"138.5\" fill=\"#ADD1B2\" rx=\"11\" ry=\"11\" style=\"stroke: #A80036; stroke-width: 1.0;\"/><path d=\"M182.4688,144.1406 Q181.8906,144.4375 181.25,144.5859 Q180.6094,144.7344 179.9063,144.7344 Q177.4063,144.7344 176.0859,143.0859 Q174.7656,141.4375 174.7656,138.3125 Q174.7656,135.1875 176.0859,133.5313 Q177.4063,131.875 179.9063,131.875 Q180.6094,131.875 181.2578,132.0313 Q181.9063,132.1875 182.4688,132.4844 L182.4688,135.2031 Q181.8438,134.625 181.25,134.3516 Q180.6563,134.0781 180.0313,134.0781 Q178.6875,134.0781 178,135.1484 Q177.3125,136.2188 177.3125,138.3125 Q177.3125,140.4063 178,141.4766 Q178.6875,142.5469 180.0313,142.5469 Q180.6563,142.5469 181.25,142.2734 Q181.8438,142 182.4688,141.4219 L182.4688,144.1406 Z \"/><text fill=\"#000000\" font-family=\"sans-serif\" font-size=\"12\" lengthAdjust=\"spacingAndGlyphs\" textLength=\"129\" x=\"193.5\" y=\"142.6543\">ConcreteComponent</text><line style=\"stroke: #A80036; stroke-width: 1.5;\" x1=\"165.5\" x2=\"324.5\" y1=\"154.5\" y2=\"154.5\"/><line style=\"stroke: #A80036; stroke-width: 1.5;\" x1=\"165.5\" x2=\"324.5\" y1=\"162.5\" y2=\"162.5\"/><rect fill=\"#FEFECE\" filter=\"url(#f1)\" height=\"48\" style=\"stroke: #A80036; stroke-width: 1.5;\" width=\"152\" x=\"6\" y=\"237\"/><ellipse cx=\"21\" cy=\"253\" fill=\"#ADD1B2\" rx=\"11\" ry=\"11\" style=\"stroke: #A80036; stroke-width: 1.0;\"/><path d=\"M23.9688,258.6406 Q23.3906,258.9375 22.75,259.0859 Q22.1094,259.2344 21.4063,259.2344 Q18.9063,259.2344 17.5859,257.5859 Q16.2656,255.9375 16.2656,252.8125 Q16.2656,249.6875 17.5859,248.0313 Q18.9063,246.375 21.4063,246.375 Q22.1094,246.375 22.7578,246.5313 Q23.4063,246.6875 23.9688,246.9844 L23.9688,249.7031 Q23.3438,249.125 22.75,248.8516 Q22.1563,248.5781 21.5313,248.5781 Q20.1875,248.5781 19.5,249.6484 Q18.8125,250.7188 18.8125,252.8125 Q18.8125,254.9063 19.5,255.9766 Q20.1875,257.0469 21.5313,257.0469 Q22.1563,257.0469 22.75,256.7734 Q23.3438,256.5 23.9688,255.9219 L23.9688,258.6406 Z \"/><text fill=\"#000000\" font-family=\"sans-serif\" font-size=\"12\" lengthAdjust=\"spacingAndGlyphs\" textLength=\"120\" x=\"35\" y=\"257.1543\">ConcreteDecorator</text><line style=\"stroke: #A80036; stroke-width: 1.5;\" x1=\"7\" x2=\"157\" y1=\"269\" y2=\"269\"/><line style=\"stroke: #A80036; stroke-width: 1.5;\" x1=\"7\" x2=\"157\" y1=\"277\" y2=\"277\"/><path d=\"M131.929,67.46 C157.808,85.322 188.712,106.651 211.666,122.493 \" fill=\"none\" style=\"stroke: #A80036; stroke-width: 1.0;\"/><polygon fill=\"none\" points=\"127.863,73.159,115.379,56.038,135.815,61.637,127.863,73.159\" style=\"stroke: #A80036; stroke-width: 1.0;\"/><path d=\"M69.5644,76.109 C68.922,89.312 69.264,103.537 70.5905,115.65 \" fill=\"none\" style=\"stroke: #A80036; stroke-width: 1.0;\"/><polygon fill=\"none\" points=\"62.6113,75.283,71.4774,56.038,76.5482,76.611,62.6113,75.283\" style=\"stroke: #A80036; stroke-width: 1.0;\"/><path d=\"M93.1416,56.038 C95.301,69.362 95.9775,86.561 95.1711,102.313 \" fill=\"none\" style=\"stroke: #A80036; stroke-width: 1.0;\"/><polygon fill=\"#A80036\" points=\"94.0806,115.65,98.5565,109.9961,95.0591,103.69,90.5831,109.3438,94.0806,115.65\" style=\"stroke: #A80036; stroke-width: 1.0;\"/><path d=\"M82,197.1067 C82,210.8764 82,225.1847 82,236.6686 \" fill=\"none\" style=\"stroke: #A80036; stroke-width: 1.0;\"/><polygon fill=\"none\" points=\"75.0001,197.0581,82,177.058,89.0001,197.058,75.0001,197.0581\" style=\"stroke: #A80036; stroke-width: 1.0;\"/></g></svg>"
      ],
      "text/plain": [
       "<IPython.core.display.SVG object>"
      ]
     },
     "execution_count": 5,
     "metadata": {},
     "output_type": "execute_result"
    }
   ],
   "source": [
    "%%plantuml\n",
    "@startuml\n",
    "abstract class Component\n",
    "class Decorator {\n",
    "    -component\n",
    "}\n",
    "Component <|-- ConcreteComponent\n",
    "Component <|-- Decorator\n",
    "Component --* Decorator\n",
    "Decorator <|-- ConcreteDecorator\n",
    "\n",
    "@enduml"
   ]
  },
  {
   "cell_type": "markdown",
   "metadata": {
    "slideshow": {
     "slide_type": "slide"
    }
   },
   "source": [
    "## D.4 Case Implementation\n",
    "\n",
    "* 조금씩 다른 기능을 추가하는 경우, 상속보다는 연관으로 확장성\n",
    "* Beverage case (6.1)\n",
    "* Windows case (6.2)\n",
    "* java.io (6.3)"
   ]
  },
  {
   "cell_type": "markdown",
   "metadata": {
    "slideshow": {
     "slide_type": "subslide"
    }
   },
   "source": [
    "### D.4.1 Beverage\n",
    "\n",
    "* 교재 HFDP Ch3 'Beverage'\n",
    "    * OCP설계원칙에 따라\n",
    "    * Beverage 추상클래스, 하위 concrete beverages\n",
    "    * 추가를 위해 Decorator 클래스\n",
    "    * condiments는 Decorator의 concrete subclasses"
   ]
  },
  {
   "cell_type": "code",
   "execution_count": 6,
   "metadata": {
    "collapsed": false,
    "slideshow": {
     "slide_type": "-"
    }
   },
   "outputs": [
    {
     "data": {
      "image/svg+xml": [
       "<svg height=\"664px\" style=\"width:729px;height:664px;\" version=\"1.1\" viewBox=\"0 0 729 664\" width=\"729px\" xmlns=\"http://www.w3.org/2000/svg\" xmlns:xlink=\"http://www.w3.org/1999/xlink\"><defs><filter height=\"300%\" id=\"f1\" width=\"300%\" x=\"-1\" y=\"-1\"><feGaussianBlur result=\"blurOut\" stdDeviation=\"2.0\"/><feColorMatrix in=\"blurOut\" result=\"blurOut2\" type=\"matrix\" values=\"0 0 0 0 0 0 0 0 0 0 0 0 0 0 0 0 0 0 .4 0\"/><feOffset dx=\"4.0\" dy=\"4.0\" in=\"blurOut2\" result=\"blurOut3\"/><feBlend in=\"SourceGraphic\" in2=\"blurOut3\" mode=\"normal\"/></filter></defs><g><rect fill=\"#FFFFFF\" filter=\"url(#f1)\" height=\"191.9297\" style=\"stroke: #000000; stroke-width: 2.0;\" width=\"541.5\" x=\"13\" y=\"181.8281\"/><rect fill=\"#FFFFFF\" filter=\"url(#f1)\" height=\"221.0625\" style=\"stroke: #000000; stroke-width: 2.0;\" width=\"707.5\" x=\"13\" y=\"387.7578\"/><line style=\"stroke: #A80036; stroke-width: 1.0; stroke-dasharray: 5.0,5.0;\" x1=\"51\" x2=\"51\" y1=\"38.2969\" y2=\"625.8203\"/><line style=\"stroke: #A80036; stroke-width: 1.0; stroke-dasharray: 5.0,5.0;\" x1=\"178.5\" x2=\"178.5\" y1=\"38.2969\" y2=\"625.8203\"/><line style=\"stroke: #A80036; stroke-width: 1.0; stroke-dasharray: 5.0,5.0;\" x1=\"271.5\" x2=\"271.5\" y1=\"38.2969\" y2=\"625.8203\"/><line style=\"stroke: #A80036; stroke-width: 1.0; stroke-dasharray: 5.0,5.0;\" x1=\"365.5\" x2=\"365.5\" y1=\"38.2969\" y2=\"625.8203\"/><line style=\"stroke: #A80036; stroke-width: 1.0; stroke-dasharray: 5.0,5.0;\" x1=\"450.5\" x2=\"450.5\" y1=\"38.2969\" y2=\"625.8203\"/><line style=\"stroke: #A80036; stroke-width: 1.0; stroke-dasharray: 5.0,5.0;\" x1=\"518.5\" x2=\"518.5\" y1=\"38.2969\" y2=\"625.8203\"/><line style=\"stroke: #A80036; stroke-width: 1.0; stroke-dasharray: 5.0,5.0;\" x1=\"605.5\" x2=\"605.5\" y1=\"38.2969\" y2=\"625.8203\"/><line style=\"stroke: #A80036; stroke-width: 1.0; stroke-dasharray: 5.0,5.0;\" x1=\"688.5\" x2=\"688.5\" y1=\"38.2969\" y2=\"625.8203\"/><rect fill=\"#FEFECE\" filter=\"url(#f1)\" height=\"30.2969\" style=\"stroke: #A80036; stroke-width: 1.5;\" width=\"53\" x=\"23\" y=\"3\"/><text fill=\"#000000\" font-family=\"sans-serif\" font-size=\"14\" lengthAdjust=\"spacingAndGlyphs\" textLength=\"39\" x=\"30\" y=\"22.9951\">Client</text><rect fill=\"#FEFECE\" filter=\"url(#f1)\" height=\"30.2969\" style=\"stroke: #A80036; stroke-width: 1.5;\" width=\"53\" x=\"23\" y=\"624.8203\"/><text fill=\"#000000\" font-family=\"sans-serif\" font-size=\"14\" lengthAdjust=\"spacingAndGlyphs\" textLength=\"39\" x=\"30\" y=\"644.8154\">Client</text><rect fill=\"#FEFECE\" filter=\"url(#f1)\" height=\"30.2969\" style=\"stroke: #A80036; stroke-width: 1.5;\" width=\"80\" x=\"136.5\" y=\"3\"/><text fill=\"#000000\" font-family=\"sans-serif\" font-size=\"14\" lengthAdjust=\"spacingAndGlyphs\" textLength=\"66\" x=\"143.5\" y=\"22.9951\">Beverage</text><rect fill=\"#FEFECE\" filter=\"url(#f1)\" height=\"30.2969\" style=\"stroke: #A80036; stroke-width: 1.5;\" width=\"80\" x=\"136.5\" y=\"624.8203\"/><text fill=\"#000000\" font-family=\"sans-serif\" font-size=\"14\" lengthAdjust=\"spacingAndGlyphs\" textLength=\"66\" x=\"143.5\" y=\"644.8154\">Beverage</text><rect fill=\"#FEFECE\" filter=\"url(#f1)\" height=\"30.2969\" style=\"stroke: #A80036; stroke-width: 1.5;\" width=\"79\" x=\"230.5\" y=\"3\"/><text fill=\"#000000\" font-family=\"sans-serif\" font-size=\"14\" lengthAdjust=\"spacingAndGlyphs\" textLength=\"65\" x=\"237.5\" y=\"22.9951\">Espresso</text><rect fill=\"#FEFECE\" filter=\"url(#f1)\" height=\"30.2969\" style=\"stroke: #A80036; stroke-width: 1.5;\" width=\"79\" x=\"230.5\" y=\"624.8203\"/><text fill=\"#000000\" font-family=\"sans-serif\" font-size=\"14\" lengthAdjust=\"spacingAndGlyphs\" textLength=\"65\" x=\"237.5\" y=\"644.8154\">Espresso</text><rect fill=\"#FEFECE\" filter=\"url(#f1)\" height=\"30.2969\" style=\"stroke: #A80036; stroke-width: 1.5;\" width=\"81\" x=\"323.5\" y=\"3\"/><text fill=\"#000000\" font-family=\"sans-serif\" font-size=\"14\" lengthAdjust=\"spacingAndGlyphs\" textLength=\"67\" x=\"330.5\" y=\"22.9951\">Darkroast</text><rect fill=\"#FEFECE\" filter=\"url(#f1)\" height=\"30.2969\" style=\"stroke: #A80036; stroke-width: 1.5;\" width=\"81\" x=\"323.5\" y=\"624.8203\"/><text fill=\"#000000\" font-family=\"sans-serif\" font-size=\"14\" lengthAdjust=\"spacingAndGlyphs\" textLength=\"67\" x=\"330.5\" y=\"644.8154\">Darkroast</text><rect fill=\"#FEFECE\" filter=\"url(#f1)\" height=\"30.2969\" style=\"stroke: #A80036; stroke-width: 1.5;\" width=\"60\" x=\"418.5\" y=\"3\"/><text fill=\"#000000\" font-family=\"sans-serif\" font-size=\"14\" lengthAdjust=\"spacingAndGlyphs\" textLength=\"46\" x=\"425.5\" y=\"22.9951\">Mocha</text><rect fill=\"#FEFECE\" filter=\"url(#f1)\" height=\"30.2969\" style=\"stroke: #A80036; stroke-width: 1.5;\" width=\"60\" x=\"418.5\" y=\"624.8203\"/><text fill=\"#000000\" font-family=\"sans-serif\" font-size=\"14\" lengthAdjust=\"spacingAndGlyphs\" textLength=\"46\" x=\"425.5\" y=\"644.8154\">Mocha</text><rect fill=\"#FEFECE\" filter=\"url(#f1)\" height=\"30.2969\" style=\"stroke: #A80036; stroke-width: 1.5;\" width=\"48\" x=\"492.5\" y=\"3\"/><text fill=\"#000000\" font-family=\"sans-serif\" font-size=\"14\" lengthAdjust=\"spacingAndGlyphs\" textLength=\"34\" x=\"499.5\" y=\"22.9951\">Whip</text><rect fill=\"#FEFECE\" filter=\"url(#f1)\" height=\"30.2969\" style=\"stroke: #A80036; stroke-width: 1.5;\" width=\"48\" x=\"492.5\" y=\"624.8203\"/><text fill=\"#000000\" font-family=\"sans-serif\" font-size=\"14\" lengthAdjust=\"spacingAndGlyphs\" textLength=\"34\" x=\"499.5\" y=\"644.8154\">Whip</text><rect fill=\"#FEFECE\" filter=\"url(#f1)\" height=\"30.2969\" style=\"stroke: #A80036; stroke-width: 1.5;\" width=\"99\" x=\"554.5\" y=\"3\"/><text fill=\"#000000\" font-family=\"sans-serif\" font-size=\"14\" lengthAdjust=\"spacingAndGlyphs\" textLength=\"85\" x=\"561.5\" y=\"22.9951\">HouseBlend</text><rect fill=\"#FEFECE\" filter=\"url(#f1)\" height=\"30.2969\" style=\"stroke: #A80036; stroke-width: 1.5;\" width=\"99\" x=\"554.5\" y=\"624.8203\"/><text fill=\"#000000\" font-family=\"sans-serif\" font-size=\"14\" lengthAdjust=\"spacingAndGlyphs\" textLength=\"85\" x=\"561.5\" y=\"644.8154\">HouseBlend</text><rect fill=\"#FEFECE\" filter=\"url(#f1)\" height=\"30.2969\" style=\"stroke: #A80036; stroke-width: 1.5;\" width=\"39\" x=\"667.5\" y=\"3\"/><text fill=\"#000000\" font-family=\"sans-serif\" font-size=\"14\" lengthAdjust=\"spacingAndGlyphs\" textLength=\"25\" x=\"674.5\" y=\"22.9951\">Soy</text><rect fill=\"#FEFECE\" filter=\"url(#f1)\" height=\"30.2969\" style=\"stroke: #A80036; stroke-width: 1.5;\" width=\"39\" x=\"667.5\" y=\"624.8203\"/><text fill=\"#000000\" font-family=\"sans-serif\" font-size=\"14\" lengthAdjust=\"spacingAndGlyphs\" textLength=\"25\" x=\"674.5\" y=\"644.8154\">Soy</text><polygon fill=\"#A80036\" points=\"260,65.2969,270,69.2969,260,73.2969,264,69.2969\" style=\"stroke: #A80036; stroke-width: 1.0;\"/><line style=\"stroke: #A80036; stroke-width: 1.0;\" x1=\"51.5\" x2=\"266\" y1=\"69.2969\" y2=\"69.2969\"/><text fill=\"#000000\" font-family=\"sans-serif\" font-size=\"13\" lengthAdjust=\"spacingAndGlyphs\" textLength=\"35\" x=\"58.5\" y=\"64.3638\">new()</text><polygon fill=\"#A80036\" points=\"166.5,99.4297,176.5,103.4297,166.5,107.4297,170.5,103.4297\" style=\"stroke: #A80036; stroke-width: 1.0;\"/><line style=\"stroke: #A80036; stroke-width: 1.0;\" x1=\"51.5\" x2=\"172.5\" y1=\"103.4297\" y2=\"103.4297\"/><text fill=\"#000000\" font-family=\"sans-serif\" font-size=\"13\" lengthAdjust=\"spacingAndGlyphs\" textLength=\"35\" x=\"58.5\" y=\"98.4966\">new()</text><polygon fill=\"#FBFB77\" filter=\"url(#f1)\" points=\"183,82.4297,183,107.4297,356,107.4297,356,92.4297,346,82.4297,183,82.4297\" style=\"stroke: #A80036; stroke-width: 1.0;\"/><line style=\"stroke: #A80036; stroke-width: 1.0;\" x1=\"346\" x2=\"346\" y1=\"82.4297\" y2=\"92.4297\"/><line style=\"stroke: #A80036; stroke-width: 1.0;\" x1=\"356\" x2=\"346\" y1=\"92.4297\" y2=\"92.4297\"/><text fill=\"#000000\" font-family=\"sans-serif\" font-size=\"13\" lengthAdjust=\"spacingAndGlyphs\" textLength=\"152\" x=\"189\" y=\"99.4966\">Beverage &lt;|-- Espresso</text><polygon fill=\"#A80036\" points=\"166.5,133.5625,176.5,137.5625,166.5,141.5625,170.5,137.5625\" style=\"stroke: #A80036; stroke-width: 1.0;\"/><line style=\"stroke: #A80036; stroke-width: 1.0;\" x1=\"51.5\" x2=\"172.5\" y1=\"137.5625\" y2=\"137.5625\"/><text fill=\"#000000\" font-family=\"sans-serif\" font-size=\"13\" lengthAdjust=\"spacingAndGlyphs\" textLength=\"103\" x=\"58.5\" y=\"132.6294\">getDescription()</text><polygon fill=\"#A80036\" points=\"166.5,162.6953,176.5,166.6953,166.5,170.6953,170.5,166.6953\" style=\"stroke: #A80036; stroke-width: 1.0;\"/><line style=\"stroke: #A80036; stroke-width: 1.0;\" x1=\"51.5\" x2=\"172.5\" y1=\"166.6953\" y2=\"166.6953\"/><text fill=\"#000000\" font-family=\"sans-serif\" font-size=\"13\" lengthAdjust=\"spacingAndGlyphs\" textLength=\"60\" x=\"58.5\" y=\"161.7622\">getCost()</text><rect fill=\"none\" height=\"191.9297\" style=\"stroke: #000000; stroke-width: 2.0;\" width=\"541.5\" x=\"13\" y=\"181.8281\"/><polygon fill=\"#EEEEEE\" points=\"13,181.8281,208,181.8281,208,188.8281,198,198.8281,13,198.8281,13,181.8281\" style=\"stroke: #000000; stroke-width: 2.0;\"/><text fill=\"#000000\" font-family=\"sans-serif\" font-size=\"13\" font-weight=\"bold\" lengthAdjust=\"spacingAndGlyphs\" textLength=\"150\" x=\"28\" y=\"194.895\">decorator Darkroast</text><polygon fill=\"#A80036\" points=\"354,215.9609,364,219.9609,354,223.9609,358,219.9609\" style=\"stroke: #A80036; stroke-width: 1.0;\"/><line style=\"stroke: #A80036; stroke-width: 1.0;\" x1=\"51.5\" x2=\"360\" y1=\"219.9609\" y2=\"219.9609\"/><text fill=\"#000000\" font-family=\"sans-serif\" font-size=\"13\" lengthAdjust=\"spacingAndGlyphs\" textLength=\"35\" x=\"58.5\" y=\"215.0278\">new()</text><polygon fill=\"#A80036\" points=\"166.5,245.0938,176.5,249.0938,166.5,253.0938,170.5,249.0938\" style=\"stroke: #A80036; stroke-width: 1.0;\"/><line style=\"stroke: #A80036; stroke-width: 1.0;\" x1=\"51.5\" x2=\"172.5\" y1=\"249.0938\" y2=\"249.0938\"/><text fill=\"#000000\" font-family=\"sans-serif\" font-size=\"13\" lengthAdjust=\"spacingAndGlyphs\" textLength=\"62\" x=\"58.5\" y=\"244.1606\">b2=new()</text><polygon fill=\"#A80036\" points=\"438.5,274.2266,448.5,278.2266,438.5,282.2266,442.5,278.2266\" style=\"stroke: #A80036; stroke-width: 1.0;\"/><line style=\"stroke: #A80036; stroke-width: 1.0;\" x1=\"51.5\" x2=\"444.5\" y1=\"278.2266\" y2=\"278.2266\"/><text fill=\"#000000\" font-family=\"sans-serif\" font-size=\"13\" lengthAdjust=\"spacingAndGlyphs\" textLength=\"51\" x=\"58.5\" y=\"273.2935\">new(b2)</text><polygon fill=\"#A80036\" points=\"506.5,303.3594,516.5,307.3594,506.5,311.3594,510.5,307.3594\" style=\"stroke: #A80036; stroke-width: 1.0;\"/><line style=\"stroke: #A80036; stroke-width: 1.0;\" x1=\"51.5\" x2=\"512.5\" y1=\"307.3594\" y2=\"307.3594\"/><text fill=\"#000000\" font-family=\"sans-serif\" font-size=\"13\" lengthAdjust=\"spacingAndGlyphs\" textLength=\"51\" x=\"58.5\" y=\"302.4263\">new(b2)</text><polygon fill=\"#A80036\" points=\"166.5,332.4922,176.5,336.4922,166.5,340.4922,170.5,336.4922\" style=\"stroke: #A80036; stroke-width: 1.0;\"/><line style=\"stroke: #A80036; stroke-width: 1.0;\" x1=\"51.5\" x2=\"172.5\" y1=\"336.4922\" y2=\"336.4922\"/><text fill=\"#000000\" font-family=\"sans-serif\" font-size=\"13\" lengthAdjust=\"spacingAndGlyphs\" textLength=\"103\" x=\"58.5\" y=\"331.5591\">getDescription()</text><polygon fill=\"#A80036\" points=\"166.5,361.625,176.5,365.625,166.5,369.625,170.5,365.625\" style=\"stroke: #A80036; stroke-width: 1.0;\"/><line style=\"stroke: #A80036; stroke-width: 1.0;\" x1=\"51.5\" x2=\"172.5\" y1=\"365.625\" y2=\"365.625\"/><text fill=\"#000000\" font-family=\"sans-serif\" font-size=\"13\" lengthAdjust=\"spacingAndGlyphs\" textLength=\"60\" x=\"58.5\" y=\"360.6919\">getCost()</text><rect fill=\"none\" height=\"221.0625\" style=\"stroke: #000000; stroke-width: 2.0;\" width=\"707.5\" x=\"13\" y=\"387.7578\"/><polygon fill=\"#EEEEEE\" points=\"13,387.7578,223,387.7578,223,394.7578,213,404.7578,13,404.7578,13,387.7578\" style=\"stroke: #000000; stroke-width: 2.0;\"/><text fill=\"#000000\" font-family=\"sans-serif\" font-size=\"13\" font-weight=\"bold\" lengthAdjust=\"spacingAndGlyphs\" textLength=\"165\" x=\"28\" y=\"400.8247\">decorator HouseBlend</text><polygon fill=\"#A80036\" points=\"594,421.8906,604,425.8906,594,429.8906,598,425.8906\" style=\"stroke: #A80036; stroke-width: 1.0;\"/><line style=\"stroke: #A80036; stroke-width: 1.0;\" x1=\"51.5\" x2=\"600\" y1=\"425.8906\" y2=\"425.8906\"/><text fill=\"#000000\" font-family=\"sans-serif\" font-size=\"13\" lengthAdjust=\"spacingAndGlyphs\" textLength=\"35\" x=\"58.5\" y=\"420.9575\">new()</text><polygon fill=\"#A80036\" points=\"166.5,451.0234,176.5,455.0234,166.5,459.0234,170.5,455.0234\" style=\"stroke: #A80036; stroke-width: 1.0;\"/><line style=\"stroke: #A80036; stroke-width: 1.0;\" x1=\"51.5\" x2=\"172.5\" y1=\"455.0234\" y2=\"455.0234\"/><text fill=\"#000000\" font-family=\"sans-serif\" font-size=\"13\" lengthAdjust=\"spacingAndGlyphs\" textLength=\"62\" x=\"58.5\" y=\"450.0903\">b3=new()</text><polygon fill=\"#A80036\" points=\"677,480.1563,687,484.1563,677,488.1563,681,484.1563\" style=\"stroke: #A80036; stroke-width: 1.0;\"/><line style=\"stroke: #A80036; stroke-width: 1.0;\" x1=\"51.5\" x2=\"683\" y1=\"484.1563\" y2=\"484.1563\"/><text fill=\"#000000\" font-family=\"sans-serif\" font-size=\"13\" lengthAdjust=\"spacingAndGlyphs\" textLength=\"51\" x=\"58.5\" y=\"479.2231\">new(b3)</text><polygon fill=\"#A80036\" points=\"438.5,509.2891,448.5,513.2891,438.5,517.2891,442.5,513.2891\" style=\"stroke: #A80036; stroke-width: 1.0;\"/><line style=\"stroke: #A80036; stroke-width: 1.0;\" x1=\"51.5\" x2=\"444.5\" y1=\"513.2891\" y2=\"513.2891\"/><text fill=\"#000000\" font-family=\"sans-serif\" font-size=\"13\" lengthAdjust=\"spacingAndGlyphs\" textLength=\"51\" x=\"58.5\" y=\"508.356\">new(b3)</text><polygon fill=\"#A80036\" points=\"506.5,538.4219,516.5,542.4219,506.5,546.4219,510.5,542.4219\" style=\"stroke: #A80036; stroke-width: 1.0;\"/><line style=\"stroke: #A80036; stroke-width: 1.0;\" x1=\"51.5\" x2=\"512.5\" y1=\"542.4219\" y2=\"542.4219\"/><text fill=\"#000000\" font-family=\"sans-serif\" font-size=\"13\" lengthAdjust=\"spacingAndGlyphs\" textLength=\"51\" x=\"58.5\" y=\"537.4888\">new(b3)</text><polygon fill=\"#A80036\" points=\"166.5,567.5547,176.5,571.5547,166.5,575.5547,170.5,571.5547\" style=\"stroke: #A80036; stroke-width: 1.0;\"/><line style=\"stroke: #A80036; stroke-width: 1.0;\" x1=\"51.5\" x2=\"172.5\" y1=\"571.5547\" y2=\"571.5547\"/><text fill=\"#000000\" font-family=\"sans-serif\" font-size=\"13\" lengthAdjust=\"spacingAndGlyphs\" textLength=\"103\" x=\"58.5\" y=\"566.6216\">getDescription()</text><polygon fill=\"#A80036\" points=\"166.5,596.6875,176.5,600.6875,166.5,604.6875,170.5,600.6875\" style=\"stroke: #A80036; stroke-width: 1.0;\"/><line style=\"stroke: #A80036; stroke-width: 1.0;\" x1=\"51.5\" x2=\"172.5\" y1=\"600.6875\" y2=\"600.6875\"/><text fill=\"#000000\" font-family=\"sans-serif\" font-size=\"13\" lengthAdjust=\"spacingAndGlyphs\" textLength=\"60\" x=\"58.5\" y=\"595.7544\">getCost()</text></g></svg>"
      ],
      "text/plain": [
       "<IPython.core.display.SVG object>"
      ]
     },
     "execution_count": 6,
     "metadata": {},
     "output_type": "execute_result"
    }
   ],
   "source": [
    "%%plantuml\n",
    "\n",
    "@startuml\n",
    "\n",
    "participant Client\n",
    "participant Beverage\n",
    "\n",
    "Client -> Espresso:new()\n",
    "Client -> Beverage:new()\n",
    "note right: Beverage <|-- Espresso\n",
    "Client -> Beverage:getDescription()\n",
    "Client -> Beverage:getCost()\n",
    "\n",
    "group decorator Darkroast\n",
    "Client -> Darkroast:new()\n",
    "Client -> Beverage:b2=new()\n",
    "Client -> Mocha:new(b2)\n",
    "Client -> Whip:new(b2)\n",
    "Client -> Beverage:getDescription()\n",
    "Client -> Beverage:getCost()\n",
    "end group\n",
    "\n",
    "group decorator HouseBlend\n",
    "Client -> HouseBlend:new()\n",
    "Client -> Beverage:b3=new()\n",
    "Client -> Soy:new(b3)\n",
    "Client -> Mocha:new(b3)\n",
    "Client -> Whip:new(b3)\n",
    "Client -> Beverage:getDescription()\n",
    "Client -> Beverage:getCost()\n",
    "end group\n",
    "\n",
    "@enduml"
   ]
  },
  {
   "cell_type": "markdown",
   "metadata": {},
   "source": [
    "* Mik(Beverage)는 부모 생성자 'CondimentDecorator(Component)'를 상속받아 구현하지 않는다."
   ]
  },
  {
   "cell_type": "code",
   "execution_count": 9,
   "metadata": {
    "collapsed": false,
    "slideshow": {
     "slide_type": "subslide"
    }
   },
   "outputs": [
    {
     "data": {
      "image/svg+xml": [
       "<svg height=\"293px\" style=\"width:451px;height:293px;\" version=\"1.1\" viewBox=\"0 0 451 293\" width=\"451px\" xmlns=\"http://www.w3.org/2000/svg\" xmlns:xlink=\"http://www.w3.org/1999/xlink\"><defs><filter height=\"300%\" id=\"f1\" width=\"300%\" x=\"-1\" y=\"-1\"><feGaussianBlur result=\"blurOut\" stdDeviation=\"2.0\"/><feColorMatrix in=\"blurOut\" result=\"blurOut2\" type=\"matrix\" values=\"0 0 0 0 0 0 0 0 0 0 0 0 0 0 0 0 0 0 .4 0\"/><feOffset dx=\"4.0\" dy=\"4.0\" in=\"blurOut2\" result=\"blurOut3\"/><feBlend in=\"SourceGraphic\" in2=\"blurOut3\" mode=\"normal\"/></filter></defs><g><rect fill=\"#FEFECE\" filter=\"url(#f1)\" height=\"48\" style=\"stroke: #A80036; stroke-width: 1.5;\" width=\"162\" x=\"6\" y=\"116\"/><ellipse cx=\"21\" cy=\"132\" fill=\"#A9DCDF\" rx=\"11\" ry=\"11\" style=\"stroke: #A80036; stroke-width: 1.0;\"/><path d=\"M21.1094,127.3438 L19.9531,132.4219 L22.2813,132.4219 L21.1094,127.3438 Z M19.625,125.1094 L22.6094,125.1094 L25.9688,137.5 L23.5156,137.5 L22.75,134.4375 L19.4688,134.4375 L18.7188,137.5 L16.2813,137.5 L19.625,125.1094 Z \"/><text fill=\"#000000\" font-family=\"sans-serif\" font-size=\"12\" font-style=\"italic\" lengthAdjust=\"spacingAndGlyphs\" textLength=\"130\" x=\"35\" y=\"136.1543\">CondimentDecorator</text><line style=\"stroke: #A80036; stroke-width: 1.5;\" x1=\"7\" x2=\"167\" y1=\"148\" y2=\"148\"/><line style=\"stroke: #A80036; stroke-width: 1.5;\" x1=\"7\" x2=\"167\" y1=\"156\" y2=\"156\"/><rect fill=\"#FEFECE\" filter=\"url(#f1)\" height=\"48\" style=\"stroke: #A80036; stroke-width: 1.5;\" width=\"91\" x=\"126.5\" y=\"8\"/><ellipse cx=\"141.5\" cy=\"24\" fill=\"#ADD1B2\" rx=\"11\" ry=\"11\" style=\"stroke: #A80036; stroke-width: 1.0;\"/><path d=\"M144.4688,29.6406 Q143.8906,29.9375 143.25,30.0859 Q142.6094,30.2344 141.9063,30.2344 Q139.4063,30.2344 138.0859,28.5859 Q136.7656,26.9375 136.7656,23.8125 Q136.7656,20.6875 138.0859,19.0313 Q139.4063,17.375 141.9063,17.375 Q142.6094,17.375 143.2578,17.5313 Q143.9063,17.6875 144.4688,17.9844 L144.4688,20.7031 Q143.8438,20.125 143.25,19.8516 Q142.6563,19.5781 142.0313,19.5781 Q140.6875,19.5781 140,20.6484 Q139.3125,21.7188 139.3125,23.8125 Q139.3125,25.9063 140,26.9766 Q140.6875,28.0469 142.0313,28.0469 Q142.6563,28.0469 143.25,27.7734 Q143.8438,27.5 144.4688,26.9219 L144.4688,29.6406 Z \"/><text fill=\"#000000\" font-family=\"sans-serif\" font-size=\"12\" lengthAdjust=\"spacingAndGlyphs\" textLength=\"59\" x=\"155.5\" y=\"28.1543\">Beverage</text><line style=\"stroke: #A80036; stroke-width: 1.5;\" x1=\"127.5\" x2=\"216.5\" y1=\"40\" y2=\"40\"/><line style=\"stroke: #A80036; stroke-width: 1.5;\" x1=\"127.5\" x2=\"216.5\" y1=\"48\" y2=\"48\"/><rect fill=\"#FEFECE\" filter=\"url(#f1)\" height=\"48\" style=\"stroke: #A80036; stroke-width: 1.5;\" width=\"107\" x=\"203.5\" y=\"116\"/><ellipse cx=\"218.5\" cy=\"132\" fill=\"#ADD1B2\" rx=\"11\" ry=\"11\" style=\"stroke: #A80036; stroke-width: 1.0;\"/><path d=\"M221.4688,137.6406 Q220.8906,137.9375 220.25,138.0859 Q219.6094,138.2344 218.9063,138.2344 Q216.4063,138.2344 215.0859,136.5859 Q213.7656,134.9375 213.7656,131.8125 Q213.7656,128.6875 215.0859,127.0313 Q216.4063,125.375 218.9063,125.375 Q219.6094,125.375 220.2578,125.5313 Q220.9063,125.6875 221.4688,125.9844 L221.4688,128.7031 Q220.8438,128.125 220.25,127.8516 Q219.6563,127.5781 219.0313,127.5781 Q217.6875,127.5781 217,128.6484 Q216.3125,129.7188 216.3125,131.8125 Q216.3125,133.9063 217,134.9766 Q217.6875,136.0469 219.0313,136.0469 Q219.6563,136.0469 220.25,135.7734 Q220.8438,135.5 221.4688,134.9219 L221.4688,137.6406 Z \"/><text fill=\"#000000\" font-family=\"sans-serif\" font-size=\"12\" lengthAdjust=\"spacingAndGlyphs\" textLength=\"75\" x=\"232.5\" y=\"136.1543\">HouseBlend</text><line style=\"stroke: #A80036; stroke-width: 1.5;\" x1=\"204.5\" x2=\"309.5\" y1=\"148\" y2=\"148\"/><line style=\"stroke: #A80036; stroke-width: 1.5;\" x1=\"204.5\" x2=\"309.5\" y1=\"156\" y2=\"156\"/><rect fill=\"#FEFECE\" filter=\"url(#f1)\" height=\"48\" style=\"stroke: #A80036; stroke-width: 1.5;\" width=\"97\" x=\"345.5\" y=\"116\"/><ellipse cx=\"360.5\" cy=\"132\" fill=\"#ADD1B2\" rx=\"11\" ry=\"11\" style=\"stroke: #A80036; stroke-width: 1.0;\"/><path d=\"M363.4688,137.6406 Q362.8906,137.9375 362.25,138.0859 Q361.6094,138.2344 360.9063,138.2344 Q358.4063,138.2344 357.0859,136.5859 Q355.7656,134.9375 355.7656,131.8125 Q355.7656,128.6875 357.0859,127.0313 Q358.4063,125.375 360.9063,125.375 Q361.6094,125.375 362.2578,125.5313 Q362.9063,125.6875 363.4688,125.9844 L363.4688,128.7031 Q362.8438,128.125 362.25,127.8516 Q361.6563,127.5781 361.0313,127.5781 Q359.6875,127.5781 359,128.6484 Q358.3125,129.7188 358.3125,131.8125 Q358.3125,133.9063 359,134.9766 Q359.6875,136.0469 361.0313,136.0469 Q361.6563,136.0469 362.25,135.7734 Q362.8438,135.5 363.4688,134.9219 L363.4688,137.6406 Z \"/><text fill=\"#000000\" font-family=\"sans-serif\" font-size=\"12\" lengthAdjust=\"spacingAndGlyphs\" textLength=\"65\" x=\"374.5\" y=\"136.1543\">DarkRoast</text><line style=\"stroke: #A80036; stroke-width: 1.5;\" x1=\"346.5\" x2=\"441.5\" y1=\"148\" y2=\"148\"/><line style=\"stroke: #A80036; stroke-width: 1.5;\" x1=\"346.5\" x2=\"441.5\" y1=\"156\" y2=\"156\"/><rect fill=\"#FEFECE\" filter=\"url(#f1)\" height=\"60.8047\" style=\"stroke: #A80036; stroke-width: 1.5;\" width=\"120\" x=\"27\" y=\"224\"/><ellipse cx=\"71.25\" cy=\"240\" fill=\"#ADD1B2\" rx=\"11\" ry=\"11\" style=\"stroke: #A80036; stroke-width: 1.0;\"/><path d=\"M74.2188,245.6406 Q73.6406,245.9375 73,246.0859 Q72.3594,246.2344 71.6563,246.2344 Q69.1563,246.2344 67.8359,244.5859 Q66.5156,242.9375 66.5156,239.8125 Q66.5156,236.6875 67.8359,235.0313 Q69.1563,233.375 71.6563,233.375 Q72.3594,233.375 73.0078,233.5313 Q73.6563,233.6875 74.2188,233.9844 L74.2188,236.7031 Q73.5938,236.125 73,235.8516 Q72.4063,235.5781 71.7813,235.5781 Q70.4375,235.5781 69.75,236.6484 Q69.0625,237.7188 69.0625,239.8125 Q69.0625,241.9063 69.75,242.9766 Q70.4375,244.0469 71.7813,244.0469 Q72.4063,244.0469 73,243.7734 Q73.5938,243.5 74.2188,242.9219 L74.2188,245.6406 Z \"/><text fill=\"#000000\" font-family=\"sans-serif\" font-size=\"12\" lengthAdjust=\"spacingAndGlyphs\" textLength=\"23\" x=\"91.75\" y=\"244.1543\">Milk</text><line style=\"stroke: #A80036; stroke-width: 1.5;\" x1=\"28\" x2=\"146\" y1=\"256\" y2=\"256\"/><line style=\"stroke: #A80036; stroke-width: 1.5;\" x1=\"28\" x2=\"146\" y1=\"264\" y2=\"264\"/><ellipse cx=\"38\" cy=\"275.9023\" fill=\"#84BE84\" rx=\"3\" ry=\"3\" style=\"stroke: #038048; stroke-width: 1.0;\"/><text fill=\"#000000\" font-family=\"sans-serif\" font-size=\"11\" lengthAdjust=\"spacingAndGlyphs\" textLength=\"94\" x=\"47\" y=\"278.2104\">Milk(b:Beverage)</text><path d=\"M203.035,71.702 C214.86,86.448 227.964,102.791 238.299,115.678 \" fill=\"none\" style=\"stroke: #A80036; stroke-width: 1.0;\"/><polygon fill=\"none\" points=\"197.495,75.983,190.444,56,208.417,67.224,197.495,75.983\" style=\"stroke: #A80036; stroke-width: 1.0;\"/><path d=\"M236.226,63.666 C271.123,80.329 313.568,100.595 345.64,115.909 \" fill=\"none\" style=\"stroke: #A80036; stroke-width: 1.0;\"/><polygon fill=\"none\" points=\"232.761,69.769,217.729,54.835,238.794,57.136,232.761,69.769\" style=\"stroke: #A80036; stroke-width: 1.0;\"/><path d=\"M129.047,71.227 C116.194,86.097 103.4261,102.652 94.927,115.678 \" fill=\"none\" style=\"stroke: #A80036; stroke-width: 1.0;\"/><polygon fill=\"none\" points=\"124.219,66.13,142.83,56,134.598,75.526,124.219,66.13\" style=\"stroke: #A80036; stroke-width: 1.0;\"/><path d=\"M157.428,67.007 C148.568,79.419 137.307,93.432 126.27,105.775 \" fill=\"none\" style=\"stroke: #A80036; stroke-width: 1.0;\"/><polygon fill=\"#A80036\" points=\"117.109,115.678,124.1196,113.9896,125.2575,106.8688,118.2469,108.5572,117.109,115.678\" style=\"stroke: #A80036; stroke-width: 1.0;\"/><polygon fill=\"#A80036\" points=\"164.913,56,156.5445,61.1931,162.1014,60.1346,163.1599,65.6916,164.913,56\" style=\"stroke: #A80036; stroke-width: 1.0;\"/><line style=\"stroke: #A80036; stroke-width: 1.0;\" x1=\"162.1014\" x2=\"157.6025\" y1=\"60.1346\" y2=\"66.7505\"/><path d=\"M87,184.109 C87,197.3115 87,211.5368 87,223.6497 \" fill=\"none\" style=\"stroke: #A80036; stroke-width: 1.0;\"/><polygon fill=\"none\" points=\"80.0001,184.038,87,164.038,94.0001,184.037,80.0001,184.038\" style=\"stroke: #A80036; stroke-width: 1.0;\"/></g></svg>"
      ],
      "text/plain": [
       "<IPython.core.display.SVG object>"
      ]
     },
     "execution_count": 9,
     "metadata": {},
     "output_type": "execute_result"
    }
   ],
   "source": [
    "%%plantuml\n",
    "\n",
    "@startuml\n",
    "\n",
    "abstract class CondimentDecorator\n",
    "Beverage <|-- HouseBlend\n",
    "Beverage <|-- DarkRoast\n",
    "Beverage <|-- CondimentDecorator\n",
    "Beverage <--* CondimentDecorator\n",
    "CondimentDecorator <|-- Milk\n",
    "class Milk {\n",
    "    +Milk(b:Beverage)\n",
    "}\n",
    "\n",
    "@enduml"
   ]
  },
  {
   "cell_type": "code",
   "execution_count": null,
   "metadata": {
    "collapsed": true,
    "slideshow": {
     "slide_type": "subslide"
    }
   },
   "outputs": [],
   "source": [
    "# %load ./src/headfirst/decorator/starbuzz/Beverage.java\n",
    "package headfirst.decorator.starbuzz;\n",
    "\n",
    "public abstract class Beverage {\n",
    "\tString description = \"Unknown Beverage\";\n",
    "  \n",
    "\tpublic String getDescription() {\n",
    "\t\treturn description;\n",
    "\t}\n",
    " \n",
    "\tpublic abstract double cost();\n",
    "}\n"
   ]
  },
  {
   "cell_type": "code",
   "execution_count": null,
   "metadata": {
    "collapsed": true,
    "slideshow": {
     "slide_type": "subslide"
    }
   },
   "outputs": [],
   "source": [
    "# %load ./src/headfirst/decorator/starbuzz/CondimentDecorator.java\n",
    "package headfirst.decorator.starbuzz;\n",
    "\n",
    "public abstract class CondimentDecorator extends Beverage {\n",
    "\tpublic abstract String getDescription();\n",
    "}\n"
   ]
  },
  {
   "cell_type": "code",
   "execution_count": null,
   "metadata": {
    "collapsed": true,
    "slideshow": {
     "slide_type": "subslide"
    }
   },
   "outputs": [],
   "source": [
    "# %load /Users/media/Code/git/sd/src/headfirst/decorator/starbuzz/StarbuzzCoffee.java\n",
    "package headfirst.decorator.starbuzz;\n",
    "\n",
    "public class StarbuzzCoffee {\n",
    " \n",
    "\tpublic static void main(String args[]) {\n",
    "\t\tBeverage beverage = new Espresso();\n",
    "\t\tSystem.out.println(beverage.getDescription() \n",
    "\t\t\t\t+ \" $\" + beverage.cost());\n",
    " \n",
    "\t\tBeverage beverage2 = new DarkRoast();\n",
    "\t\tbeverage2 = new Mocha(beverage2);\n",
    "\t\tbeverage2 = new Mocha(beverage2);\n",
    "\t\tbeverage2 = new Whip(beverage2);\n",
    "\t\tSystem.out.println(beverage2.getDescription() \n",
    "\t\t\t\t+ \" $\" + beverage2.cost());\n",
    " \n",
    "\t\tBeverage beverage3 = new HouseBlend();\n",
    "\t\tbeverage3 = new Soy(beverage3);\n",
    "\t\tbeverage3 = new Mocha(beverage3);\n",
    "\t\tbeverage3 = new Whip(beverage3);\n",
    "\t\tSystem.out.println(beverage3.getDescription() \n",
    "\t\t\t\t+ \" $\" + beverage3.cost());\n",
    "\t}\n",
    "}\n"
   ]
  },
  {
   "cell_type": "code",
   "execution_count": null,
   "metadata": {
    "collapsed": true,
    "slideshow": {
     "slide_type": "subslide"
    }
   },
   "outputs": [],
   "source": [
    "# %load /Users/media/Code/git/sd/src/headfirst/decorator/starbuzz/Espresso.java\n",
    "package headfirst.decorator.starbuzz;\n",
    "\n",
    "public class Espresso extends Beverage {\n",
    "  \n",
    "\tpublic Espresso() {\n",
    "\t\tdescription = \"Espresso\";\n",
    "\t}\n",
    "  \n",
    "\tpublic double cost() {\n",
    "\t\treturn 1.99;\n",
    "\t}\n",
    "}\n"
   ]
  },
  {
   "cell_type": "code",
   "execution_count": null,
   "metadata": {
    "collapsed": true,
    "slideshow": {
     "slide_type": "subslide"
    }
   },
   "outputs": [],
   "source": [
    "# %load /Users/media/Code/git/sd/src/headfirst/decorator/starbuzz/DarkRoast.java\n",
    "package headfirst.decorator.starbuzz;\n",
    "\n",
    "public class DarkRoast extends Beverage {\n",
    "\tpublic DarkRoast() {\n",
    "\t\tdescription = \"Dark Roast Coffee\";\n",
    "\t}\n",
    " \n",
    "\tpublic double cost() {\n",
    "\t\treturn .99;\n",
    "\t}\n",
    "}\n",
    "\n"
   ]
  },
  {
   "cell_type": "code",
   "execution_count": null,
   "metadata": {
    "collapsed": true,
    "slideshow": {
     "slide_type": "subslide"
    }
   },
   "outputs": [],
   "source": [
    "# %load /Users/media/Code/git/sd/src/headfirst/decorator/starbuzz/Mocha.java\n",
    "package headfirst.decorator.starbuzz;\n",
    "\n",
    "public class Mocha extends CondimentDecorator {\n",
    "\tBeverage beverage;\n",
    " \n",
    "\tpublic Mocha(Beverage beverage) {\n",
    "\t\tthis.beverage = beverage;\n",
    "\t}\n",
    " \n",
    "\tpublic String getDescription() {\n",
    "\t\treturn beverage.getDescription() + \", Mocha\";\n",
    "\t}\n",
    " \n",
    "\tpublic double cost() {\n",
    "\t\treturn .20 + beverage.cost();\n",
    "\t}\n",
    "}\n"
   ]
  },
  {
   "cell_type": "code",
   "execution_count": null,
   "metadata": {
    "collapsed": true,
    "slideshow": {
     "slide_type": "subslide"
    }
   },
   "outputs": [],
   "source": [
    "# %load /Users/media/Code/git/sd/src/headfirst/decorator/starbuzz/Whip.java\n",
    "package headfirst.decorator.starbuzz;\n",
    " \n",
    "public class Whip extends CondimentDecorator {\n",
    "\tBeverage beverage;\n",
    " \n",
    "\tpublic Whip(Beverage beverage) {\n",
    "\t\tthis.beverage = beverage;\n",
    "\t}\n",
    " \n",
    "\tpublic String getDescription() {\n",
    "\t\treturn beverage.getDescription() + \", Whip\";\n",
    "\t}\n",
    " \n",
    "\tpublic double cost() {\n",
    "\t\treturn .10 + beverage.cost();\n",
    "\t}\n",
    "}\n"
   ]
  },
  {
   "cell_type": "code",
   "execution_count": null,
   "metadata": {
    "collapsed": true,
    "slideshow": {
     "slide_type": "subslide"
    }
   },
   "outputs": [],
   "source": [
    "# %load /Users/media/Code/git/sd/src/headfirst/decorator/starbuzz/HouseBlend.java\n",
    "package headfirst.decorator.starbuzz;\n",
    "\n",
    "public class HouseBlend extends Beverage {\n",
    "\tpublic HouseBlend() {\n",
    "\t\tdescription = \"House Blend Coffee\";\n",
    "\t}\n",
    " \n",
    "\tpublic double cost() {\n",
    "\t\treturn .89;\n",
    "\t}\n",
    "}\n",
    "\n"
   ]
  },
  {
   "cell_type": "code",
   "execution_count": null,
   "metadata": {
    "collapsed": true,
    "slideshow": {
     "slide_type": "subslide"
    }
   },
   "outputs": [],
   "source": [
    "# %load /Users/media/Code/git/sd/src/headfirst/decorator/starbuzz/Soy.java\n",
    "package headfirst.decorator.starbuzz;\n",
    "\n",
    "public class Soy extends CondimentDecorator {\n",
    "\tBeverage beverage;\n",
    "\n",
    "\tpublic Soy(Beverage beverage) {\n",
    "\t\tthis.beverage = beverage;\n",
    "\t}\n",
    "\n",
    "\tpublic String getDescription() {\n",
    "\t\treturn beverage.getDescription() + \", Soy\";\n",
    "\t}\n",
    "\n",
    "\tpublic double cost() {\n",
    "\t\treturn .15 + beverage.cost();\n",
    "\t}\n",
    "}\n"
   ]
  },
  {
   "cell_type": "code",
   "execution_count": 12,
   "metadata": {
    "collapsed": false,
    "slideshow": {
     "slide_type": "subslide"
    }
   },
   "outputs": [
    {
     "name": "stdout",
     "output_type": "stream",
     "text": [
      "Picked up JAVA_TOOL_OPTIONS: -javaagent:/usr/share/java/jayatanaag.jar \n",
      "Picked up JAVA_TOOL_OPTIONS: -javaagent:/usr/share/java/jayatanaag.jar \n",
      "Picked up JAVA_TOOL_OPTIONS: -javaagent:/usr/share/java/jayatanaag.jar \n",
      "Picked up JAVA_TOOL_OPTIONS: -javaagent:/usr/share/java/jayatanaag.jar \n",
      "Picked up JAVA_TOOL_OPTIONS: -javaagent:/usr/share/java/jayatanaag.jar \n",
      "Picked up JAVA_TOOL_OPTIONS: -javaagent:/usr/share/java/jayatanaag.jar \n",
      "Picked up JAVA_TOOL_OPTIONS: -javaagent:/usr/share/java/jayatanaag.jar \n",
      "Picked up JAVA_TOOL_OPTIONS: -javaagent:/usr/share/java/jayatanaag.jar \n",
      "Espresso $1.99\n",
      "Dark Roast Coffee, Mocha, Mocha, Whip $1.49\n",
      "House Blend Coffee, Soy, Mocha, Whip $1.34\n"
     ]
    }
   ],
   "source": [
    "!javac -d classes/ -sourcepath src/ src/headfirst/decorator/starbuzz/StarbuzzCoffee.java\n",
    "!javac -d classes/ -sourcepath src/ src/headfirst/decorator/starbuzz/Espresso.java\n",
    "!javac -d classes/ -sourcepath src/ src/headfirst/decorator/starbuzz/DarkRoast.java \n",
    "!javac -d classes/ -sourcepath src/ src/headfirst/decorator/starbuzz/Mocha.java \n",
    "!javac -d classes/ -sourcepath src/ src/headfirst/decorator/starbuzz/Whip.java \n",
    "!javac -d classes/ -sourcepath src/ src/headfirst/decorator/starbuzz/HouseBlend.java \n",
    "!javac -d classes/ -sourcepath src/ src/headfirst/decorator/starbuzz/Soy.java \n",
    "!java -cp classes/ headfirst.decorator.starbuzz.StarbuzzCoffee"
   ]
  },
  {
   "cell_type": "markdown",
   "metadata": {
    "slideshow": {
     "slide_type": "subslide"
    }
   },
   "source": [
    "* 출력결과\n",
    "    * Espresso $1.99\n",
    "    \n",
    "    * Dark Roast Coffee, Mocha, Mocha, Whip $1.49\n",
    "    \n",
    "    * House Blend Coffee, Soy, Mocha, Whip $1.34"
   ]
  },
  {
   "cell_type": "markdown",
   "metadata": {
    "slideshow": {
     "slide_type": "slide"
    }
   },
   "source": [
    "### D.4.2 Windows\n",
    "\n",
    "* Decorator pattern 위키피디아 https://en.wikipedia.org/wiki/Decorator_pattern"
   ]
  },
  {
   "cell_type": "code",
   "execution_count": 13,
   "metadata": {
    "collapsed": false,
    "slideshow": {
     "slide_type": "subslide"
    }
   },
   "outputs": [
    {
     "data": {
      "image/svg+xml": [
       "<svg height=\"294px\" style=\"width:468px;height:294px;\" version=\"1.1\" viewBox=\"0 0 468 294\" width=\"468px\" xmlns=\"http://www.w3.org/2000/svg\" xmlns:xlink=\"http://www.w3.org/1999/xlink\"><defs><filter height=\"300%\" id=\"f1\" width=\"300%\" x=\"-1\" y=\"-1\"><feGaussianBlur result=\"blurOut\" stdDeviation=\"2.0\"/><feColorMatrix in=\"blurOut\" result=\"blurOut2\" type=\"matrix\" values=\"0 0 0 0 0 0 0 0 0 0 0 0 0 0 0 0 0 0 .4 0\"/><feOffset dx=\"4.0\" dy=\"4.0\" in=\"blurOut2\" result=\"blurOut3\"/><feBlend in=\"SourceGraphic\" in2=\"blurOut3\" mode=\"normal\"/></filter></defs><g><rect fill=\"#FEFECE\" filter=\"url(#f1)\" height=\"48\" style=\"stroke: #A80036; stroke-width: 1.5;\" width=\"81\" x=\"162.5\" y=\"8\"/><ellipse cx=\"177.5\" cy=\"24\" fill=\"#B4A7E5\" rx=\"11\" ry=\"11\" style=\"stroke: #A80036; stroke-width: 1.0;\"/><path d=\"M173.4219,19.7656 L173.4219,17.6094 L180.8125,17.6094 L180.8125,19.7656 L178.3438,19.7656 L178.3438,27.8438 L180.8125,27.8438 L180.8125,30 L173.4219,30 L173.4219,27.8438 L175.8906,27.8438 L175.8906,19.7656 L173.4219,19.7656 Z \"/><text fill=\"#000000\" font-family=\"sans-serif\" font-size=\"12\" font-style=\"italic\" lengthAdjust=\"spacingAndGlyphs\" textLength=\"49\" x=\"191.5\" y=\"28.1543\">Window</text><line style=\"stroke: #A80036; stroke-width: 1.5;\" x1=\"163.5\" x2=\"242.5\" y1=\"40\" y2=\"40\"/><line style=\"stroke: #A80036; stroke-width: 1.5;\" x1=\"163.5\" x2=\"242.5\" y1=\"48\" y2=\"48\"/><rect fill=\"#FEFECE\" filter=\"url(#f1)\" height=\"60.8047\" style=\"stroke: #A80036; stroke-width: 1.5;\" width=\"201\" x=\"102.5\" y=\"116\"/><ellipse cx=\"144.05\" cy=\"132\" fill=\"#ADD1B2\" rx=\"11\" ry=\"11\" style=\"stroke: #A80036; stroke-width: 1.0;\"/><path d=\"M147.0188,137.6406 Q146.4406,137.9375 145.8,138.0859 Q145.1594,138.2344 144.4563,138.2344 Q141.9563,138.2344 140.6359,136.5859 Q139.3156,134.9375 139.3156,131.8125 Q139.3156,128.6875 140.6359,127.0313 Q141.9563,125.375 144.4563,125.375 Q145.1594,125.375 145.8078,125.5313 Q146.4563,125.6875 147.0188,125.9844 L147.0188,128.7031 Q146.3938,128.125 145.8,127.8516 Q145.2063,127.5781 144.5813,127.5781 Q143.2375,127.5781 142.55,128.6484 Q141.8625,129.7188 141.8625,131.8125 Q141.8625,133.9063 142.55,134.9766 Q143.2375,136.0469 144.5813,136.0469 Q145.2063,136.0469 145.8,135.7734 Q146.3938,135.5 147.0188,134.9219 L147.0188,137.6406 Z \"/><text fill=\"#000000\" font-family=\"sans-serif\" font-size=\"12\" lengthAdjust=\"spacingAndGlyphs\" textLength=\"110\" x=\"163.95\" y=\"136.1543\">WindowDecorator</text><line style=\"stroke: #A80036; stroke-width: 1.5;\" x1=\"103.5\" x2=\"302.5\" y1=\"148\" y2=\"148\"/><polygon fill=\"none\" points=\"113.5,154.9023,117.5,158.9023,113.5,162.9023,109.5,158.9023\" style=\"stroke: #B38D22; stroke-width: 1.0;\"/><text fill=\"#000000\" font-family=\"sans-serif\" font-size=\"11\" lengthAdjust=\"spacingAndGlyphs\" textLength=\"175\" x=\"122.5\" y=\"162.2104\">windowToBeDecorated:Window</text><line style=\"stroke: #A80036; stroke-width: 1.5;\" x1=\"103.5\" x2=\"302.5\" y1=\"168.8047\" y2=\"168.8047\"/><rect fill=\"#FEFECE\" filter=\"url(#f1)\" height=\"48\" style=\"stroke: #A80036; stroke-width: 1.5;\" width=\"120\" x=\"339\" y=\"122.5\"/><ellipse cx=\"354\" cy=\"138.5\" fill=\"#ADD1B2\" rx=\"11\" ry=\"11\" style=\"stroke: #A80036; stroke-width: 1.0;\"/><path d=\"M356.9688,144.1406 Q356.3906,144.4375 355.75,144.5859 Q355.1094,144.7344 354.4063,144.7344 Q351.9063,144.7344 350.5859,143.0859 Q349.2656,141.4375 349.2656,138.3125 Q349.2656,135.1875 350.5859,133.5313 Q351.9063,131.875 354.4063,131.875 Q355.1094,131.875 355.7578,132.0313 Q356.4063,132.1875 356.9688,132.4844 L356.9688,135.2031 Q356.3438,134.625 355.75,134.3516 Q355.1563,134.0781 354.5313,134.0781 Q353.1875,134.0781 352.5,135.1484 Q351.8125,136.2188 351.8125,138.3125 Q351.8125,140.4063 352.5,141.4766 Q353.1875,142.5469 354.5313,142.5469 Q355.1563,142.5469 355.75,142.2734 Q356.3438,142 356.9688,141.4219 L356.9688,144.1406 Z \"/><text fill=\"#000000\" font-family=\"sans-serif\" font-size=\"12\" lengthAdjust=\"spacingAndGlyphs\" textLength=\"88\" x=\"368\" y=\"142.6543\">SimpleWindow</text><line style=\"stroke: #A80036; stroke-width: 1.5;\" x1=\"340\" x2=\"458\" y1=\"154.5\" y2=\"154.5\"/><line style=\"stroke: #A80036; stroke-width: 1.5;\" x1=\"340\" x2=\"458\" y1=\"162.5\" y2=\"162.5\"/><rect fill=\"#FEFECE\" filter=\"url(#f1)\" height=\"48\" style=\"stroke: #A80036; stroke-width: 1.5;\" width=\"176\" x=\"6\" y=\"237\"/><ellipse cx=\"21\" cy=\"253\" fill=\"#ADD1B2\" rx=\"11\" ry=\"11\" style=\"stroke: #A80036; stroke-width: 1.0;\"/><path d=\"M23.9688,258.6406 Q23.3906,258.9375 22.75,259.0859 Q22.1094,259.2344 21.4063,259.2344 Q18.9063,259.2344 17.5859,257.5859 Q16.2656,255.9375 16.2656,252.8125 Q16.2656,249.6875 17.5859,248.0313 Q18.9063,246.375 21.4063,246.375 Q22.1094,246.375 22.7578,246.5313 Q23.4063,246.6875 23.9688,246.9844 L23.9688,249.7031 Q23.3438,249.125 22.75,248.8516 Q22.1563,248.5781 21.5313,248.5781 Q20.1875,248.5781 19.5,249.6484 Q18.8125,250.7188 18.8125,252.8125 Q18.8125,254.9063 19.5,255.9766 Q20.1875,257.0469 21.5313,257.0469 Q22.1563,257.0469 22.75,256.7734 Q23.3438,256.5 23.9688,255.9219 L23.9688,258.6406 Z \"/><text fill=\"#000000\" font-family=\"sans-serif\" font-size=\"12\" lengthAdjust=\"spacingAndGlyphs\" textLength=\"144\" x=\"35\" y=\"257.1543\">VerticalScrollDecorator</text><line style=\"stroke: #A80036; stroke-width: 1.5;\" x1=\"7\" x2=\"181\" y1=\"269\" y2=\"269\"/><line style=\"stroke: #A80036; stroke-width: 1.5;\" x1=\"7\" x2=\"181\" y1=\"277\" y2=\"277\"/><rect fill=\"#FEFECE\" filter=\"url(#f1)\" height=\"48\" style=\"stroke: #A80036; stroke-width: 1.5;\" width=\"191\" x=\"217.5\" y=\"237\"/><ellipse cx=\"232.5\" cy=\"253\" fill=\"#ADD1B2\" rx=\"11\" ry=\"11\" style=\"stroke: #A80036; stroke-width: 1.0;\"/><path d=\"M235.4688,258.6406 Q234.8906,258.9375 234.25,259.0859 Q233.6094,259.2344 232.9063,259.2344 Q230.4063,259.2344 229.0859,257.5859 Q227.7656,255.9375 227.7656,252.8125 Q227.7656,249.6875 229.0859,248.0313 Q230.4063,246.375 232.9063,246.375 Q233.6094,246.375 234.2578,246.5313 Q234.9063,246.6875 235.4688,246.9844 L235.4688,249.7031 Q234.8438,249.125 234.25,248.8516 Q233.6563,248.5781 233.0313,248.5781 Q231.6875,248.5781 231,249.6484 Q230.3125,250.7188 230.3125,252.8125 Q230.3125,254.9063 231,255.9766 Q231.6875,257.0469 233.0313,257.0469 Q233.6563,257.0469 234.25,256.7734 Q234.8438,256.5 235.4688,255.9219 L235.4688,258.6406 Z \"/><text fill=\"#000000\" font-family=\"sans-serif\" font-size=\"12\" lengthAdjust=\"spacingAndGlyphs\" textLength=\"159\" x=\"246.5\" y=\"257.1543\">HorizontalScrollDecorator</text><line style=\"stroke: #A80036; stroke-width: 1.5;\" x1=\"218.5\" x2=\"407.5\" y1=\"269\" y2=\"269\"/><line style=\"stroke: #A80036; stroke-width: 1.5;\" x1=\"218.5\" x2=\"407.5\" y1=\"277\" y2=\"277\"/><path d=\"M260.814,66.184 C292.373,84.298 330.656,106.272 358.917,122.493 \" fill=\"none\" style=\"stroke: #A80036; stroke-width: 1.0; stroke-dasharray: 7.0,7.0;\"/><polygon fill=\"none\" points=\"256.998,72.065,243.136,56.038,263.967,59.923,256.998,72.065\" style=\"stroke: #A80036; stroke-width: 1.0;\"/><path d=\"M190.564,76.109 C189.922,89.312 190.264,103.537 191.591,115.65 \" fill=\"none\" style=\"stroke: #A80036; stroke-width: 1.0; stroke-dasharray: 7.0,7.0;\"/><polygon fill=\"none\" points=\"183.611,75.283,192.477,56.038,197.548,76.611,183.611,75.283\" style=\"stroke: #A80036; stroke-width: 1.0;\"/><path d=\"M214.861,61.044 C216.97,77.666 217.044,98.721 215.081,115.65 \" fill=\"none\" style=\"stroke: #A80036; stroke-width: 1.0;\"/><polygon fill=\"#A80036\" points=\"214.142,56.038,211.4634,65.5156,214.8535,60.9871,219.382,64.3772,214.142,56.038\" style=\"stroke: #A80036; stroke-width: 1.0;\"/><path d=\"M160.083,191.7952 C145.229,207.1258 129.172,223.6986 116.606,236.6686 \" fill=\"none\" style=\"stroke: #A80036; stroke-width: 1.0;\"/><polygon fill=\"none\" points=\"155.417,186.5509,174.362,177.058,165.472,196.2928,155.417,186.5509\" style=\"stroke: #A80036; stroke-width: 1.0;\"/><path d=\"M246.311,191.7952 C261.301,207.1258 277.505,223.6986 290.187,236.6686 \" fill=\"none\" style=\"stroke: #A80036; stroke-width: 1.0;\"/><polygon fill=\"none\" points=\"240.879,196.252,231.901,177.058,250.889,186.4644,240.879,196.252\" style=\"stroke: #A80036; stroke-width: 1.0;\"/></g></svg>"
      ],
      "text/plain": [
       "<IPython.core.display.SVG object>"
      ]
     },
     "execution_count": 13,
     "metadata": {},
     "output_type": "execute_result"
    }
   ],
   "source": [
    "%%plantuml\n",
    "\n",
    "@startuml\n",
    "interface Window\n",
    "class WindowDecorator {\n",
    "    #windowToBeDecorated:Window\n",
    "}\n",
    "Window <|.. SimpleWindow\n",
    "Window <|.. WindowDecorator\n",
    "Window <-- WindowDecorator\n",
    "WindowDecorator <|-- VerticalScrollDecorator\n",
    "WindowDecorator <|-- HorizontalScrollDecorator\n",
    "@enduml"
   ]
  },
  {
   "cell_type": "code",
   "execution_count": null,
   "metadata": {
    "collapsed": true,
    "slideshow": {
     "slide_type": "subslide"
    }
   },
   "outputs": [],
   "source": [
    "# %load ./src/headfirst/decorator/windows/DecoratedWindowTest.java\n",
    "/*\n",
    "    @author: wiki\n",
    "    @version:v20150929\n",
    "    javac -d classes/ -sourcepath src/ src/headfirst/decorator/windows/*.java\n",
    "    java -cp classes/ headfirst.decorator.windows.DecoratedWindowTest \n",
    "*/\n",
    "package headfirst.decorator.windows;\n",
    "public class DecoratedWindowTest {\n",
    "    public static void main(String[] args) {\n",
    "        // Create a decorated Window with horizontal and vertical scrollbars\n",
    "        Window decoratedWindow = new HorizontalScrollBarDecorator (\n",
    "                new VerticalScrollBarDecorator (new SimpleWindow()));\n",
    "\n",
    "        // Print the Window's description\n",
    "        System.out.println(decoratedWindow.getDescription());\n",
    "    }\n",
    "}\n",
    "\n"
   ]
  },
  {
   "cell_type": "code",
   "execution_count": null,
   "metadata": {
    "collapsed": true,
    "slideshow": {
     "slide_type": "subslide"
    }
   },
   "outputs": [],
   "source": [
    "# %load ./src/headfirst/decorator/windows/Window.java\n",
    "package headfirst.decorator.windows;\n",
    "\n",
    "public interface Window {\n",
    "    public void draw(); // Draws the Window\n",
    "    public String getDescription(); // Returns a description of the Window\n",
    "}\n",
    "\n"
   ]
  },
  {
   "cell_type": "code",
   "execution_count": null,
   "metadata": {
    "collapsed": true,
    "slideshow": {
     "slide_type": "subslide"
    }
   },
   "outputs": [],
   "source": [
    "# %load ./src/headfirst/decorator/windows/WindowDecorator.java\n",
    "package headfirst.decorator.windows;\n",
    "// abstract decorator class - note that it implements Window\n",
    "public abstract class WindowDecorator implements Window {\n",
    "    protected Window windowToBeDecorated; // the Window being decorated\n",
    "\n",
    "    public WindowDecorator (Window windowToBeDecorated) {\n",
    "        this.windowToBeDecorated = windowToBeDecorated;\n",
    "    }\n",
    "    public void draw() {\n",
    "        windowToBeDecorated.draw(); //Delegation\n",
    "    }\n",
    "    public String getDescription() {\n",
    "        return windowToBeDecorated.getDescription(); //Delegation\n",
    "    }\n",
    "}\n",
    "\n"
   ]
  },
  {
   "cell_type": "code",
   "execution_count": null,
   "metadata": {
    "collapsed": true,
    "slideshow": {
     "slide_type": "subslide"
    }
   },
   "outputs": [],
   "source": [
    "# %load ./src/headfirst/decorator/windows/SimpleWindow.java\n",
    "package headfirst.decorator.windows;\n",
    "// Extension of a simple Window without any scrollbars\n",
    "public class SimpleWindow implements Window {\n",
    "    public void draw() {\n",
    "        // Draw window\n",
    "    }\n",
    "    public String getDescription() {\n",
    "        return \"simple window\";\n",
    "    }\n",
    "}\n",
    "\n"
   ]
  },
  {
   "cell_type": "code",
   "execution_count": null,
   "metadata": {
    "collapsed": true,
    "slideshow": {
     "slide_type": "subslide"
    }
   },
   "outputs": [],
   "source": [
    "# %load ./src/headfirst/decorator/windows/HorizontalScrollBarDecorator.java\n",
    "package headfirst.decorator.windows;\n",
    "// The second concrete decorator which adds horizontal scrollbar functionality\n",
    "public class HorizontalScrollBarDecorator extends WindowDecorator {\n",
    "    public HorizontalScrollBarDecorator (Window windowToBeDecorated) {\n",
    "        super(windowToBeDecorated);\n",
    "    }\n",
    "    @Override\n",
    "    public void draw() {\n",
    "        super.draw();\n",
    "        drawHorizontalScrollBar();\n",
    "    }\n",
    "    private void drawHorizontalScrollBar() {\n",
    "        // Draw the horizontal scrollbar\n",
    "    }\n",
    "    @Override\n",
    "    public String getDescription() {\n",
    "        return super.getDescription() + \", including horizontal scrollbars\";\n",
    "    }\n",
    "}\n",
    "\n"
   ]
  },
  {
   "cell_type": "code",
   "execution_count": null,
   "metadata": {
    "collapsed": true,
    "slideshow": {
     "slide_type": "subslide"
    }
   },
   "outputs": [],
   "source": [
    "# %load ./src/headfirst/decorator/windows/VerticalScrollBarDecorator.java\n",
    "package headfirst.decorator.windows;\n",
    "// The first concrete decorator which adds vertical scrollbar functionality\n",
    "public class VerticalScrollBarDecorator extends WindowDecorator {\n",
    "    public VerticalScrollBarDecorator (Window windowToBeDecorated) {\n",
    "        super(windowToBeDecorated);\n",
    "    }\n",
    "    @Override\n",
    "    public void draw() {\n",
    "        super.draw();\n",
    "        drawVerticalScrollBar();\n",
    "    }\n",
    "    private void drawVerticalScrollBar() {\n",
    "        // Draw the vertical scrollbar\n",
    "    }\n",
    "    @Override\n",
    "    public String getDescription() {\n",
    "        return super.getDescription() + \", including vertical scrollbars\";\n",
    "    }\n",
    "}\n",
    "\n"
   ]
  },
  {
   "cell_type": "code",
   "execution_count": 20,
   "metadata": {
    "collapsed": false,
    "slideshow": {
     "slide_type": "subslide"
    }
   },
   "outputs": [
    {
     "data": {
      "text/plain": [
       "u'/home/jsl/Code/git/bb/sd'"
      ]
     },
     "execution_count": 20,
     "metadata": {},
     "output_type": "execute_result"
    }
   ],
   "source": [
    "%pwd"
   ]
  },
  {
   "cell_type": "code",
   "execution_count": 21,
   "metadata": {
    "collapsed": false,
    "slideshow": {
     "slide_type": "-"
    }
   },
   "outputs": [
    {
     "name": "stdout",
     "output_type": "stream",
     "text": [
      "Picked up JAVA_TOOL_OPTIONS: -javaagent:/usr/share/java/jayatanaag.jar \n",
      "Picked up JAVA_TOOL_OPTIONS: -javaagent:/usr/share/java/jayatanaag.jar \n",
      "simple window, including vertical scrollbars, including horizontal scrollbars\n"
     ]
    }
   ],
   "source": [
    "# change to the root directory\n",
    "!javac -d classes/ -sourcepath src/ src/headfirst/decorator/windows/*.java\n",
    "!java -cp classes/ headfirst.decorator.windows.DecoratedWindowTest"
   ]
  },
  {
   "cell_type": "markdown",
   "metadata": {},
   "source": [
    "### D.4.3 java.io\n",
    "\n",
    "* 자바의 입출력은 io 패키지에서 처리하고, 다음 4개의 클래스를 중심으로, decorator 패턴을 사용한다.\n",
    "* 이들은 추상클래스라서 직접 사용할 수 없다는 점을 유의한다.\n",
    "\n",
    "구분 | 입력 | 출력\n",
    "-----|-----|-----\n",
    "바이트 | InputStream | OutputStream\n",
    "문자 | Reader | Writer\n",
    "\n",
    "* 예를 들어, BufferedReader의 경우 생성자에 다른 객체 InputStream를 포함하여 가지고 있다.\n",
    "```\n",
    "String line = (new BufferedReader(new InputStreamReader(System.in))).readLine();\n",
    "```\n"
   ]
  },
  {
   "cell_type": "markdown",
   "metadata": {
    "slideshow": {
     "slide_type": "subslide"
    }
   },
   "source": [
    "* 입출력 중 '입력'의 상속 계층을 살펴 보자.\n",
    "    * 1계층 InputStream\n",
    "        * 2계층 FileInputStream은 Sytem File에서 읽어옴 (1회에 1 바이트 씩)\n",
    "        * 3계층 BufferedInputStream은 InputStream에서 읽어오고, Buffer를 이용하기 때문에 빠름.\n",
    "```\n",
    "BufferedInputStream bis =\n",
    "    new BufferedInputStream(new FileInputStream(new File('README.md'));\n",
    "```\n",
    "\n",
    "    * 1계층 Reader\n",
    "        * 2계층 InputStreamReader, BufferedReader\n",
    "        * 3계층 FileReader\n",
    "            * 1회에 2 바이트 씩 - 문자가 2 바이트이므로\n",
    "            * 문자 파일을 읽을 경우 사용\n",
    "            * default encoding방식으로 텍스트 파일을 읽음\n",
    "```\n",
    "BufferedReader br = new BufferedReader(new FileReader(new File('README.md')));\n",
    "```"
   ]
  },
  {
   "cell_type": "markdown",
   "metadata": {
    "slideshow": {
     "slide_type": "subslide"
    }
   },
   "source": [
    "* 한글\n",
    "    * default encoding이 'unicode'가 아닌 경우, 깨질 수 있다.\n",
    "    * InputStreamReader: byte streams --> character streams\n",
    "```\n",
    "FileInputStream fis = new FileInputStream(\"test.txt\");\n",
    "InputStreamReader isr = new InputStreamReader(fis, \"UTF8\");\n",
    "BufferedReader br = new BufferedReader(isr);\n",
    "```\n",
    "\n",
    "    * OutputStreamWriter: character streams --> byte streams\n",
    "```\n",
    "FileOutputStream fos = new FileOutputStream(\"test.txt\");\n",
    "Writer out = new OutputStreamWriter(fos, \"UTF8\");\n",
    "```"
   ]
  },
  {
   "cell_type": "code",
   "execution_count": 9,
   "metadata": {
    "collapsed": false,
    "slideshow": {
     "slide_type": "subslide"
    }
   },
   "outputs": [
    {
     "data": {
      "image/svg+xml": [
       "<svg height=\"315px\" style=\"width:919px;height:315px;\" version=\"1.1\" viewBox=\"0 0 919 315\" width=\"919px\" xmlns=\"http://www.w3.org/2000/svg\" xmlns:xlink=\"http://www.w3.org/1999/xlink\"><defs><filter height=\"300%\" id=\"f1\" width=\"300%\" x=\"-1\" y=\"-1\"><feGaussianBlur result=\"blurOut\" stdDeviation=\"2.0\"/><feColorMatrix in=\"blurOut\" result=\"blurOut2\" type=\"matrix\" values=\"0 0 0 0 0 0 0 0 0 0 0 0 0 0 0 0 0 0 .4 0\"/><feOffset dx=\"4.0\" dy=\"4.0\" in=\"blurOut2\" result=\"blurOut3\"/><feBlend in=\"SourceGraphic\" in2=\"blurOut3\" mode=\"normal\"/></filter></defs><g><text fill=\"#000000\" font-family=\"sans-serif\" font-size=\"18\" lengthAdjust=\"spacingAndGlyphs\" textLength=\"121\" x=\"404\" y=\"17.4023\">java.io.Reader</text><rect fill=\"#FEFECE\" filter=\"url(#f1)\" height=\"60.9551\" style=\"stroke: #A80036; stroke-width: 1.5;\" width=\"122\" x=\"481.5\" y=\"29.1992\"/><ellipse cx=\"518.1\" cy=\"45.1992\" fill=\"#ADD1B2\" rx=\"11\" ry=\"11\" style=\"stroke: #A80036; stroke-width: 1.0;\"/><path d=\"M521.0731,50.8423 Q520.4921,51.1411 519.8529,51.2905 Q519.2138,51.4399 518.5082,51.4399 Q516.0014,51.4399 514.6815,49.7881 Q513.3617,48.1362 513.3617,45.0151 Q513.3617,41.8857 514.6815,40.2339 Q516.0014,38.582 518.5082,38.582 Q519.2138,38.582 519.8612,38.7314 Q520.5087,38.8809 521.0731,39.1797 L521.0731,41.9023 Q520.4423,41.3213 519.8488,41.0515 Q519.2553,40.7817 518.6244,40.7817 Q517.2797,40.7817 516.5949,41.8484 Q515.9101,42.915 515.9101,45.0151 Q515.9101,47.1069 516.5949,48.1736 Q517.2797,49.2402 518.6244,49.2402 Q519.2553,49.2402 519.8488,48.9705 Q520.4423,48.7007 521.0731,48.1196 Z \"/><text fill=\"#000000\" font-family=\"sans-serif\" font-size=\"12\" lengthAdjust=\"spacingAndGlyphs\" textLength=\"42\" x=\"536.9\" y=\"49.7344\">Reader</text><line style=\"stroke: #A80036; stroke-width: 1.5;\" x1=\"482.5\" x2=\"602.5\" y1=\"61.1992\" y2=\"61.1992\"/><line style=\"stroke: #A80036; stroke-width: 1.5;\" x1=\"482.5\" x2=\"602.5\" y1=\"69.1992\" y2=\"69.1992\"/><ellipse cx=\"492.5\" cy=\"81.1768\" fill=\"#84BE84\" rx=\"3\" ry=\"3\" style=\"stroke: #038048; stroke-width: 1.0;\"/><text fill=\"#000000\" font-family=\"sans-serif\" font-size=\"11\" lengthAdjust=\"spacingAndGlyphs\" textLength=\"96\" x=\"501.5\" y=\"83.834\">abstract read():int</text><rect fill=\"#FEFECE\" filter=\"url(#f1)\" height=\"48\" style=\"stroke: #A80036; stroke-width: 1.5;\" width=\"143\" x=\"6\" y=\"150.1992\"/><ellipse cx=\"21\" cy=\"166.1992\" fill=\"#ADD1B2\" rx=\"11\" ry=\"11\" style=\"stroke: #A80036; stroke-width: 1.0;\"/><path d=\"M23.9731,171.8423 Q23.3921,172.1411 22.7529,172.2905 Q22.1138,172.4399 21.4082,172.4399 Q18.9014,172.4399 17.5815,170.7881 Q16.2617,169.1362 16.2617,166.0151 Q16.2617,162.8857 17.5815,161.2339 Q18.9014,159.582 21.4082,159.582 Q22.1138,159.582 22.7612,159.7314 Q23.4087,159.8809 23.9731,160.1797 L23.9731,162.9023 Q23.3423,162.3213 22.7488,162.0515 Q22.1553,161.7817 21.5244,161.7817 Q20.1797,161.7817 19.4949,162.8484 Q18.8101,163.915 18.8101,166.0151 Q18.8101,168.1069 19.4949,169.1736 Q20.1797,170.2402 21.5244,170.2402 Q22.1553,170.2402 22.7488,169.9705 Q23.3423,169.7007 23.9731,169.1196 Z \"/><text fill=\"#000000\" font-family=\"sans-serif\" font-size=\"12\" lengthAdjust=\"spacingAndGlyphs\" textLength=\"111\" x=\"35\" y=\"170.7344\">InputStreamReader</text><line style=\"stroke: #A80036; stroke-width: 1.5;\" x1=\"7\" x2=\"148\" y1=\"182.1992\" y2=\"182.1992\"/><line style=\"stroke: #A80036; stroke-width: 1.5;\" x1=\"7\" x2=\"148\" y1=\"190.1992\" y2=\"190.1992\"/><rect fill=\"#FEFECE\" filter=\"url(#f1)\" height=\"48\" style=\"stroke: #A80036; stroke-width: 1.5;\" width=\"132\" x=\"184.5\" y=\"150.1992\"/><ellipse cx=\"199.5\" cy=\"166.1992\" fill=\"#ADD1B2\" rx=\"11\" ry=\"11\" style=\"stroke: #A80036; stroke-width: 1.0;\"/><path d=\"M202.4731,171.8423 Q201.8921,172.1411 201.2529,172.2905 Q200.6138,172.4399 199.9082,172.4399 Q197.4014,172.4399 196.0815,170.7881 Q194.7617,169.1362 194.7617,166.0151 Q194.7617,162.8857 196.0815,161.2339 Q197.4014,159.582 199.9082,159.582 Q200.6138,159.582 201.2612,159.7314 Q201.9087,159.8809 202.4731,160.1797 L202.4731,162.9023 Q201.8423,162.3213 201.2488,162.0515 Q200.6553,161.7817 200.0244,161.7817 Q198.6797,161.7817 197.9949,162.8484 Q197.3101,163.915 197.3101,166.0151 Q197.3101,168.1069 197.9949,169.1736 Q198.6797,170.2402 200.0244,170.2402 Q200.6553,170.2402 201.2488,169.9705 Q201.8423,169.7007 202.4731,169.1196 Z \"/><text fill=\"#000000\" font-family=\"sans-serif\" font-size=\"12\" lengthAdjust=\"spacingAndGlyphs\" textLength=\"100\" x=\"213.5\" y=\"170.7344\">CharArrayReader</text><line style=\"stroke: #A80036; stroke-width: 1.5;\" x1=\"185.5\" x2=\"315.5\" y1=\"182.1992\" y2=\"182.1992\"/><line style=\"stroke: #A80036; stroke-width: 1.5;\" x1=\"185.5\" x2=\"315.5\" y1=\"190.1992\" y2=\"190.1992\"/><rect fill=\"#FEFECE\" filter=\"url(#f1)\" height=\"48\" style=\"stroke: #A80036; stroke-width: 1.5;\" width=\"106\" x=\"351.5\" y=\"150.1992\"/><ellipse cx=\"366.5\" cy=\"166.1992\" fill=\"#ADD1B2\" rx=\"11\" ry=\"11\" style=\"stroke: #A80036; stroke-width: 1.0;\"/><path d=\"M369.4731,171.8423 Q368.8921,172.1411 368.2529,172.2905 Q367.6138,172.4399 366.9082,172.4399 Q364.4014,172.4399 363.0815,170.7881 Q361.7617,169.1362 361.7617,166.0151 Q361.7617,162.8857 363.0815,161.2339 Q364.4014,159.582 366.9082,159.582 Q367.6138,159.582 368.2612,159.7314 Q368.9087,159.8809 369.4731,160.1797 L369.4731,162.9023 Q368.8423,162.3213 368.2488,162.0515 Q367.6553,161.7817 367.0244,161.7817 Q365.6797,161.7817 364.9949,162.8484 Q364.3101,163.915 364.3101,166.0151 Q364.3101,168.1069 364.9949,169.1736 Q365.6797,170.2402 367.0244,170.2402 Q367.6553,170.2402 368.2488,169.9705 Q368.8423,169.7007 369.4731,169.1196 Z \"/><text fill=\"#000000\" font-family=\"sans-serif\" font-size=\"12\" lengthAdjust=\"spacingAndGlyphs\" textLength=\"74\" x=\"380.5\" y=\"170.7344\">StringReader</text><line style=\"stroke: #A80036; stroke-width: 1.5;\" x1=\"352.5\" x2=\"456.5\" y1=\"182.1992\" y2=\"182.1992\"/><line style=\"stroke: #A80036; stroke-width: 1.5;\" x1=\"352.5\" x2=\"456.5\" y1=\"190.1992\" y2=\"190.1992\"/><rect fill=\"#FEFECE\" filter=\"url(#f1)\" height=\"48\" style=\"stroke: #A80036; stroke-width: 1.5;\" width=\"99\" x=\"493\" y=\"150.1992\"/><ellipse cx=\"508\" cy=\"166.1992\" fill=\"#ADD1B2\" rx=\"11\" ry=\"11\" style=\"stroke: #A80036; stroke-width: 1.0;\"/><path d=\"M510.9731,171.8423 Q510.3921,172.1411 509.7529,172.2905 Q509.1138,172.4399 508.4082,172.4399 Q505.9014,172.4399 504.5815,170.7881 Q503.2617,169.1362 503.2617,166.0151 Q503.2617,162.8857 504.5815,161.2339 Q505.9014,159.582 508.4082,159.582 Q509.1138,159.582 509.7612,159.7314 Q510.4087,159.8809 510.9731,160.1797 L510.9731,162.9023 Q510.3423,162.3213 509.7488,162.0515 Q509.1553,161.7817 508.5244,161.7817 Q507.1797,161.7817 506.4949,162.8484 Q505.8101,163.915 505.8101,166.0151 Q505.8101,168.1069 506.4949,169.1736 Q507.1797,170.2402 508.5244,170.2402 Q509.1553,170.2402 509.7488,169.9705 Q510.3423,169.7007 510.9731,169.1196 Z \"/><text fill=\"#000000\" font-family=\"sans-serif\" font-size=\"12\" lengthAdjust=\"spacingAndGlyphs\" textLength=\"67\" x=\"522\" y=\"170.7344\">PipeReader</text><line style=\"stroke: #A80036; stroke-width: 1.5;\" x1=\"494\" x2=\"591\" y1=\"182.1992\" y2=\"182.1992\"/><line style=\"stroke: #A80036; stroke-width: 1.5;\" x1=\"494\" x2=\"591\" y1=\"190.1992\" y2=\"190.1992\"/><rect fill=\"#FEFECE\" filter=\"url(#f1)\" height=\"48\" style=\"stroke: #A80036; stroke-width: 1.5;\" width=\"102\" x=\"627.5\" y=\"150.1992\"/><ellipse cx=\"642.5\" cy=\"166.1992\" fill=\"#ADD1B2\" rx=\"11\" ry=\"11\" style=\"stroke: #A80036; stroke-width: 1.0;\"/><path d=\"M645.4731,171.8423 Q644.8921,172.1411 644.2529,172.2905 Q643.6138,172.4399 642.9082,172.4399 Q640.4014,172.4399 639.0815,170.7881 Q637.7617,169.1362 637.7617,166.0151 Q637.7617,162.8857 639.0815,161.2339 Q640.4014,159.582 642.9082,159.582 Q643.6138,159.582 644.2612,159.7314 Q644.9087,159.8809 645.4731,160.1797 L645.4731,162.9023 Q644.8423,162.3213 644.2488,162.0515 Q643.6553,161.7817 643.0244,161.7817 Q641.6797,161.7817 640.9949,162.8484 Q640.3101,163.915 640.3101,166.0151 Q640.3101,168.1069 640.9949,169.1736 Q641.6797,170.2402 643.0244,170.2402 Q643.6553,170.2402 644.2488,169.9705 Q644.8423,169.7007 645.4731,169.1196 Z \"/><text fill=\"#000000\" font-family=\"sans-serif\" font-size=\"12\" lengthAdjust=\"spacingAndGlyphs\" textLength=\"70\" x=\"656.5\" y=\"170.7344\">FilterReader</text><line style=\"stroke: #A80036; stroke-width: 1.5;\" x1=\"628.5\" x2=\"728.5\" y1=\"182.1992\" y2=\"182.1992\"/><line style=\"stroke: #A80036; stroke-width: 1.5;\" x1=\"628.5\" x2=\"728.5\" y1=\"190.1992\" y2=\"190.1992\"/><rect fill=\"#FEFECE\" filter=\"url(#f1)\" height=\"48\" style=\"stroke: #A80036; stroke-width: 1.5;\" width=\"123\" x=\"765\" y=\"150.1992\"/><ellipse cx=\"780\" cy=\"166.1992\" fill=\"#ADD1B2\" rx=\"11\" ry=\"11\" style=\"stroke: #A80036; stroke-width: 1.0;\"/><path d=\"M782.9731,171.8423 Q782.3921,172.1411 781.7529,172.2905 Q781.1138,172.4399 780.4082,172.4399 Q777.9014,172.4399 776.5815,170.7881 Q775.2617,169.1362 775.2617,166.0151 Q775.2617,162.8857 776.5815,161.2339 Q777.9014,159.582 780.4082,159.582 Q781.1138,159.582 781.7612,159.7314 Q782.4087,159.8809 782.9731,160.1797 L782.9731,162.9023 Q782.3423,162.3213 781.7488,162.0515 Q781.1553,161.7817 780.5244,161.7817 Q779.1797,161.7817 778.4949,162.8484 Q777.8101,163.915 777.8101,166.0151 Q777.8101,168.1069 778.4949,169.1736 Q779.1797,170.2402 780.5244,170.2402 Q781.1553,170.2402 781.7488,169.9705 Q782.3423,169.7007 782.9731,169.1196 Z \"/><text fill=\"#000000\" font-family=\"sans-serif\" font-size=\"12\" lengthAdjust=\"spacingAndGlyphs\" textLength=\"91\" x=\"794\" y=\"170.7344\">BufferedReader</text><line style=\"stroke: #A80036; stroke-width: 1.5;\" x1=\"766\" x2=\"887\" y1=\"182.1992\" y2=\"182.1992\"/><line style=\"stroke: #A80036; stroke-width: 1.5;\" x1=\"766\" x2=\"887\" y1=\"190.1992\" y2=\"190.1992\"/><rect fill=\"#FEFECE\" filter=\"url(#f1)\" height=\"48\" style=\"stroke: #A80036; stroke-width: 1.5;\" width=\"93\" x=\"31\" y=\"258.1992\"/><ellipse cx=\"46\" cy=\"274.1992\" fill=\"#ADD1B2\" rx=\"11\" ry=\"11\" style=\"stroke: #A80036; stroke-width: 1.0;\"/><path d=\"M48.9731,279.8423 Q48.3921,280.1411 47.7529,280.2905 Q47.1138,280.4399 46.4082,280.4399 Q43.9014,280.4399 42.5815,278.7881 Q41.2617,277.1362 41.2617,274.0151 Q41.2617,270.8857 42.5815,269.2339 Q43.9014,267.582 46.4082,267.582 Q47.1138,267.582 47.7612,267.7314 Q48.4087,267.8809 48.9731,268.1797 L48.9731,270.9023 Q48.3423,270.3213 47.7488,270.0515 Q47.1553,269.7817 46.5244,269.7817 Q45.1797,269.7817 44.4949,270.8484 Q43.8101,271.915 43.8101,274.0151 Q43.8101,276.1069 44.4949,277.1736 Q45.1797,278.2402 46.5244,278.2402 Q47.1553,278.2402 47.7488,277.9705 Q48.3423,277.7007 48.9731,277.1196 Z \"/><text fill=\"#000000\" font-family=\"sans-serif\" font-size=\"12\" lengthAdjust=\"spacingAndGlyphs\" textLength=\"61\" x=\"60\" y=\"278.7344\">FileReader</text><line style=\"stroke: #A80036; stroke-width: 1.5;\" x1=\"32\" x2=\"123\" y1=\"290.1992\" y2=\"290.1992\"/><line style=\"stroke: #A80036; stroke-width: 1.5;\" x1=\"32\" x2=\"123\" y1=\"298.1992\" y2=\"298.1992\"/><rect fill=\"#FEFECE\" filter=\"url(#f1)\" height=\"48\" style=\"stroke: #A80036; stroke-width: 1.5;\" width=\"129\" x=\"602\" y=\"258.1992\"/><ellipse cx=\"617\" cy=\"274.1992\" fill=\"#ADD1B2\" rx=\"11\" ry=\"11\" style=\"stroke: #A80036; stroke-width: 1.0;\"/><path d=\"M619.9731,279.8423 Q619.3921,280.1411 618.7529,280.2905 Q618.1138,280.4399 617.4082,280.4399 Q614.9014,280.4399 613.5815,278.7881 Q612.2617,277.1362 612.2617,274.0151 Q612.2617,270.8857 613.5815,269.2339 Q614.9014,267.582 617.4082,267.582 Q618.1138,267.582 618.7612,267.7314 Q619.4087,267.8809 619.9731,268.1797 L619.9731,270.9023 Q619.3423,270.3213 618.7488,270.0515 Q618.1553,269.7817 617.5244,269.7817 Q616.1797,269.7817 615.4949,270.8484 Q614.8101,271.915 614.8101,274.0151 Q614.8101,276.1069 615.4949,277.1736 Q616.1797,278.2402 617.5244,278.2402 Q618.1553,278.2402 618.7488,277.9705 Q619.3423,277.7007 619.9731,277.1196 Z \"/><text fill=\"#000000\" font-family=\"sans-serif\" font-size=\"12\" lengthAdjust=\"spacingAndGlyphs\" textLength=\"97\" x=\"631\" y=\"278.7344\">PushbackReader</text><line style=\"stroke: #A80036; stroke-width: 1.5;\" x1=\"603\" x2=\"730\" y1=\"290.1992\" y2=\"290.1992\"/><line style=\"stroke: #A80036; stroke-width: 1.5;\" x1=\"603\" x2=\"730\" y1=\"298.1992\" y2=\"298.1992\"/><rect fill=\"#FEFECE\" filter=\"url(#f1)\" height=\"48\" style=\"stroke: #A80036; stroke-width: 1.5;\" width=\"144\" x=\"766.5\" y=\"258.1992\"/><ellipse cx=\"781.5\" cy=\"274.1992\" fill=\"#ADD1B2\" rx=\"11\" ry=\"11\" style=\"stroke: #A80036; stroke-width: 1.0;\"/><path d=\"M784.4731,279.8423 Q783.8921,280.1411 783.2529,280.2905 Q782.6138,280.4399 781.9082,280.4399 Q779.4014,280.4399 778.0815,278.7881 Q776.7617,277.1362 776.7617,274.0151 Q776.7617,270.8857 778.0815,269.2339 Q779.4014,267.582 781.9082,267.582 Q782.6138,267.582 783.2612,267.7314 Q783.9087,267.8809 784.4731,268.1797 L784.4731,270.9023 Q783.8423,270.3213 783.2488,270.0515 Q782.6553,269.7817 782.0244,269.7817 Q780.6797,269.7817 779.9949,270.8484 Q779.3101,271.915 779.3101,274.0151 Q779.3101,276.1069 779.9949,277.1736 Q780.6797,278.2402 782.0244,278.2402 Q782.6553,278.2402 783.2488,277.9705 Q783.8423,277.7007 784.4731,277.1196 Z \"/><text fill=\"#000000\" font-family=\"sans-serif\" font-size=\"12\" lengthAdjust=\"spacingAndGlyphs\" textLength=\"112\" x=\"795.5\" y=\"278.7344\">LineNumberReader</text><line style=\"stroke: #A80036; stroke-width: 1.5;\" x1=\"767.5\" x2=\"909.5\" y1=\"290.1992\" y2=\"290.1992\"/><line style=\"stroke: #A80036; stroke-width: 1.5;\" x1=\"767.5\" x2=\"909.5\" y1=\"298.1992\" y2=\"298.1992\"/><rect fill=\"#FEFECE\" filter=\"url(#f1)\" height=\"48\" style=\"stroke: #A80036; stroke-width: 1.5;\" width=\"101\" x=\"27\" y=\"35.6992\"/><ellipse cx=\"42\" cy=\"51.6992\" fill=\"#ADD1B2\" rx=\"11\" ry=\"11\" style=\"stroke: #A80036; stroke-width: 1.0;\"/><path d=\"M44.9731,57.3423 Q44.3921,57.6411 43.7529,57.7905 Q43.1138,57.9399 42.4082,57.9399 Q39.9014,57.9399 38.5815,56.2881 Q37.2617,54.6362 37.2617,51.5151 Q37.2617,48.3857 38.5815,46.7339 Q39.9014,45.082 42.4082,45.082 Q43.1138,45.082 43.7612,45.2314 Q44.4087,45.3809 44.9731,45.6797 L44.9731,48.4023 Q44.3423,47.8213 43.7488,47.5515 Q43.1553,47.2817 42.5244,47.2817 Q41.1797,47.2817 40.4949,48.3484 Q39.8101,49.415 39.8101,51.5151 Q39.8101,53.6069 40.4949,54.6736 Q41.1797,55.7402 42.5244,55.7402 Q43.1553,55.7402 43.7488,55.4705 Q44.3423,55.2007 44.9731,54.6196 Z \"/><text fill=\"#000000\" font-family=\"sans-serif\" font-size=\"12\" lengthAdjust=\"spacingAndGlyphs\" textLength=\"69\" x=\"56\" y=\"56.2344\">InputStream</text><line style=\"stroke: #A80036; stroke-width: 1.5;\" x1=\"28\" x2=\"127\" y1=\"67.6992\" y2=\"67.6992\"/><line style=\"stroke: #A80036; stroke-width: 1.5;\" x1=\"28\" x2=\"127\" y1=\"75.6992\" y2=\"75.6992\"/><path d=\"M461.304,79.5512 C385.077,97.3622 267.915,125.0272 166.5,150.1992 C160.924,151.5832 155.156,153.0332 149.361,154.5022 \" fill=\"none\" style=\"stroke: #A80036; stroke-width: 1.0;\"/><polygon fill=\"none\" points=\"460.126,72.6382,481.194,74.9112,463.308,86.2722,460.126,72.6382\" style=\"stroke: #A80036; stroke-width: 1.0;\"/><path d=\"M462.554,91.5002 C414.586,109.9812 354.564,133.1062 310.632,150.0322 \" fill=\"none\" style=\"stroke: #A80036; stroke-width: 1.0;\"/><polygon fill=\"none\" points=\"460.108,84.9412,481.287,84.2832,465.141,98.0052,460.108,84.9412\" style=\"stroke: #A80036; stroke-width: 1.0;\"/><path d=\"M490.507,103.0852 C471.061,118.9372 449.693,136.3572 433.12,149.8682 \" fill=\"none\" style=\"stroke: #A80036; stroke-width: 1.0;\"/><polygon fill=\"none\" points=\"486.317,97.4692,506.242,90.2572,495.163,108.3202,486.317,97.4692\" style=\"stroke: #A80036; stroke-width: 1.0;\"/><path d=\"M542.5,110.3062 C542.5,124.0752 542.5,138.3842 542.5,149.8682 \" fill=\"none\" style=\"stroke: #A80036; stroke-width: 1.0;\"/><polygon fill=\"none\" points=\"535.5,110.2572,542.5,90.2572,549.5,110.2572,535.5,110.2572\" style=\"stroke: #A80036; stroke-width: 1.0;\"/><path d=\"M593.74,103.0852 C612.904,118.9372 633.962,136.3572 650.295,149.8682 \" fill=\"none\" style=\"stroke: #A80036; stroke-width: 1.0;\"/><polygon fill=\"none\" points=\"589.181,108.3992,578.232,90.2572,598.105,97.6112,589.181,108.3992\" style=\"stroke: #A80036; stroke-width: 1.0;\"/><path d=\"M622.268,97.0562 C667.411,115.5022 722.885,137.2242 764.741,152.7362 \" fill=\"none\" style=\"stroke: #A80036; stroke-width: 1.0;\"/><polygon fill=\"none\" points=\"619.451,103.4662,603.623,89.3792,624.781,90.5212,619.451,103.4662\" style=\"stroke: #A80036; stroke-width: 1.0;\"/><path d=\"M767.258,145.0272 C719.213,124.9942 652.089,98.5722 603.554,80.6822 \" fill=\"none\" style=\"stroke: #A80036; stroke-width: 1.0;\"/><polygon fill=\"#A80036\" points=\"779.346,150.1032,775.3623,144.0924,768.2816,145.4578,772.2653,151.4686,779.346,150.1032\" style=\"stroke: #A80036; stroke-width: 1.0;\"/><path d=\"M77.5,218.2228 C77.5,231.7784 77.5,246.2373 77.5,257.8776 \" fill=\"none\" style=\"stroke: #A80036; stroke-width: 1.0;\"/><polygon fill=\"none\" points=\"70.5001,218.1997,77.5,198.1992,84.5001,218.1996,70.5001,218.1997\" style=\"stroke: #A80036; stroke-width: 1.0;\"/><path d=\"M673.629,218.2228 C672.095,231.7784 670.458,246.2373 669.14,257.8776 \" fill=\"none\" style=\"stroke: #A80036; stroke-width: 1.0;\"/><polygon fill=\"none\" points=\"666.691,217.2852,675.896,198.1992,680.602,218.8601,666.691,217.2852\" style=\"stroke: #A80036; stroke-width: 1.0;\"/><path d=\"M831.371,218.2228 C832.905,231.7784 834.542,246.2373 835.86,257.8776 \" fill=\"none\" style=\"stroke: #A80036; stroke-width: 1.0;\"/><polygon fill=\"none\" points=\"824.398,218.8601,829.104,198.1992,838.309,217.2852,824.398,218.8601\" style=\"stroke: #A80036; stroke-width: 1.0;\"/><path d=\"M77.5,83.7372 C77.5,99.0552 77.5,119.4942 77.5,136.9682 \" fill=\"none\" style=\"stroke: #A80036; stroke-width: 1.0;\"/><polygon fill=\"#A80036\" points=\"77.5,150.1922,81.5,144.1922,77.5,138.1922,73.5,144.1922,77.5,150.1922\" style=\"stroke: #A80036; stroke-width: 1.0;\"/></g></svg>"
      ],
      "text/plain": [
       "<IPython.core.display.SVG object>"
      ]
     },
     "execution_count": 9,
     "metadata": {},
     "output_type": "execute_result"
    }
   ],
   "source": [
    "%%plantuml\n",
    "@startuml\n",
    "title java.io.Reader\n",
    "class Reader {\n",
    "  +abstract read():int\n",
    "}\n",
    "Reader <|-- InputStreamReader\n",
    "Reader <|-- CharArrayReader\n",
    "Reader <|-- StringReader\n",
    "Reader <|-- PipeReader\n",
    "Reader <|-- FilterReader\n",
    "Reader <|-- BufferedReader\n",
    "InputStreamReader <|-- FileReader\n",
    "FilterReader <|-- PushbackReader\n",
    "BufferedReader <|-- LineNumberReader\n",
    "BufferedReader *-- Reader\n",
    "InputStreamReader *-up- InputStream\n",
    "@enduml"
   ]
  },
  {
   "cell_type": "code",
   "execution_count": 4,
   "metadata": {
    "collapsed": false,
    "slideshow": {
     "slide_type": "subslide"
    }
   },
   "outputs": [
    {
     "data": {
      "image/svg+xml": [
       "<svg height=\"315px\" style=\"width:960px;height:315px;\" version=\"1.1\" viewBox=\"0 0 960 315\" width=\"960px\" xmlns=\"http://www.w3.org/2000/svg\" xmlns:xlink=\"http://www.w3.org/1999/xlink\"><defs><filter height=\"300%\" id=\"f1\" width=\"300%\" x=\"-1\" y=\"-1\"><feGaussianBlur result=\"blurOut\" stdDeviation=\"2.0\"/><feColorMatrix in=\"blurOut\" result=\"blurOut2\" type=\"matrix\" values=\"0 0 0 0 0 0 0 0 0 0 0 0 0 0 0 0 0 0 .4 0\"/><feOffset dx=\"4.0\" dy=\"4.0\" in=\"blurOut2\" result=\"blurOut3\"/><feBlend in=\"SourceGraphic\" in2=\"blurOut3\" mode=\"normal\"/></filter></defs><g><text fill=\"#000000\" font-family=\"sans-serif\" font-size=\"18\" lengthAdjust=\"spacingAndGlyphs\" textLength=\"56\" x=\"456.5\" y=\"17.4023\">java.io</text><rect fill=\"#FEFECE\" filter=\"url(#f1)\" height=\"60.9551\" style=\"stroke: #A80036; stroke-width: 1.5;\" width=\"122\" x=\"375\" y=\"29.1992\"/><ellipse cx=\"399.45\" cy=\"45.1992\" fill=\"#ADD1B2\" rx=\"11\" ry=\"11\" style=\"stroke: #A80036; stroke-width: 1.0;\"/><path d=\"M402.4231,50.8423 Q401.8421,51.1411 401.2029,51.2905 Q400.5638,51.4399 399.8582,51.4399 Q397.3514,51.4399 396.0315,49.7881 Q394.7117,48.1362 394.7117,45.0151 Q394.7117,41.8857 396.0315,40.2339 Q397.3514,38.582 399.8582,38.582 Q400.5638,38.582 401.2112,38.7314 Q401.8587,38.8809 402.4231,39.1797 L402.4231,41.9023 Q401.7923,41.3213 401.1988,41.0515 Q400.6053,40.7817 399.9744,40.7817 Q398.6297,40.7817 397.9449,41.8484 Q397.2601,42.915 397.2601,45.0151 Q397.2601,47.1069 397.9449,48.1736 Q398.6297,49.2402 399.9744,49.2402 Q400.6053,49.2402 401.1988,48.9705 Q401.7923,48.7007 402.4231,48.1196 Z \"/><text fill=\"#000000\" font-family=\"sans-serif\" font-size=\"12\" lengthAdjust=\"spacingAndGlyphs\" textLength=\"69\" x=\"415.55\" y=\"49.7344\">InputStream</text><line style=\"stroke: #A80036; stroke-width: 1.5;\" x1=\"376\" x2=\"496\" y1=\"61.1992\" y2=\"61.1992\"/><line style=\"stroke: #A80036; stroke-width: 1.5;\" x1=\"376\" x2=\"496\" y1=\"69.1992\" y2=\"69.1992\"/><ellipse cx=\"386\" cy=\"81.1768\" fill=\"#84BE84\" rx=\"3\" ry=\"3\" style=\"stroke: #038048; stroke-width: 1.0;\"/><text fill=\"#000000\" font-family=\"sans-serif\" font-size=\"11\" lengthAdjust=\"spacingAndGlyphs\" textLength=\"96\" x=\"395\" y=\"83.834\">abstract read():int</text><rect fill=\"#FEFECE\" filter=\"url(#f1)\" height=\"48\" style=\"stroke: #A80036; stroke-width: 1.5;\" width=\"120\" x=\"6\" y=\"150.1992\"/><ellipse cx=\"21\" cy=\"166.1992\" fill=\"#ADD1B2\" rx=\"11\" ry=\"11\" style=\"stroke: #A80036; stroke-width: 1.0;\"/><path d=\"M23.9731,171.8423 Q23.3921,172.1411 22.7529,172.2905 Q22.1138,172.4399 21.4082,172.4399 Q18.9014,172.4399 17.5815,170.7881 Q16.2617,169.1362 16.2617,166.0151 Q16.2617,162.8857 17.5815,161.2339 Q18.9014,159.582 21.4082,159.582 Q22.1138,159.582 22.7612,159.7314 Q23.4087,159.8809 23.9731,160.1797 L23.9731,162.9023 Q23.3423,162.3213 22.7488,162.0515 Q22.1553,161.7817 21.5244,161.7817 Q20.1797,161.7817 19.4949,162.8484 Q18.8101,163.915 18.8101,166.0151 Q18.8101,168.1069 19.4949,169.1736 Q20.1797,170.2402 21.5244,170.2402 Q22.1553,170.2402 22.7488,169.9705 Q23.3423,169.7007 23.9731,169.1196 Z \"/><text fill=\"#000000\" font-family=\"sans-serif\" font-size=\"12\" lengthAdjust=\"spacingAndGlyphs\" textLength=\"88\" x=\"35\" y=\"170.7344\">FileInputStream</text><line style=\"stroke: #A80036; stroke-width: 1.5;\" x1=\"7\" x2=\"125\" y1=\"182.1992\" y2=\"182.1992\"/><line style=\"stroke: #A80036; stroke-width: 1.5;\" x1=\"7\" x2=\"125\" y1=\"190.1992\" y2=\"190.1992\"/><rect fill=\"#FEFECE\" filter=\"url(#f1)\" height=\"48\" style=\"stroke: #A80036; stroke-width: 1.5;\" width=\"156\" x=\"161\" y=\"150.1992\"/><ellipse cx=\"176\" cy=\"166.1992\" fill=\"#ADD1B2\" rx=\"11\" ry=\"11\" style=\"stroke: #A80036; stroke-width: 1.0;\"/><path d=\"M178.9731,171.8423 Q178.3921,172.1411 177.7529,172.2905 Q177.1138,172.4399 176.4082,172.4399 Q173.9014,172.4399 172.5815,170.7881 Q171.2617,169.1362 171.2617,166.0151 Q171.2617,162.8857 172.5815,161.2339 Q173.9014,159.582 176.4082,159.582 Q177.1138,159.582 177.7612,159.7314 Q178.4087,159.8809 178.9731,160.1797 L178.9731,162.9023 Q178.3423,162.3213 177.7488,162.0515 Q177.1553,161.7817 176.5244,161.7817 Q175.1797,161.7817 174.4949,162.8484 Q173.8101,163.915 173.8101,166.0151 Q173.8101,168.1069 174.4949,169.1736 Q175.1797,170.2402 176.5244,170.2402 Q177.1553,170.2402 177.7488,169.9705 Q178.3423,169.7007 178.9731,169.1196 Z \"/><text fill=\"#000000\" font-family=\"sans-serif\" font-size=\"12\" lengthAdjust=\"spacingAndGlyphs\" textLength=\"124\" x=\"190\" y=\"170.7344\">ByteArrayInputStream</text><line style=\"stroke: #A80036; stroke-width: 1.5;\" x1=\"162\" x2=\"316\" y1=\"182.1992\" y2=\"182.1992\"/><line style=\"stroke: #A80036; stroke-width: 1.5;\" x1=\"162\" x2=\"316\" y1=\"190.1992\" y2=\"190.1992\"/><rect fill=\"#FEFECE\" filter=\"url(#f1)\" height=\"48\" style=\"stroke: #A80036; stroke-width: 1.5;\" width=\"167\" x=\"352.5\" y=\"150.1992\"/><ellipse cx=\"367.5\" cy=\"166.1992\" fill=\"#ADD1B2\" rx=\"11\" ry=\"11\" style=\"stroke: #A80036; stroke-width: 1.0;\"/><path d=\"M370.4731,171.8423 Q369.8921,172.1411 369.2529,172.2905 Q368.6138,172.4399 367.9082,172.4399 Q365.4014,172.4399 364.0815,170.7881 Q362.7617,169.1362 362.7617,166.0151 Q362.7617,162.8857 364.0815,161.2339 Q365.4014,159.582 367.9082,159.582 Q368.6138,159.582 369.2612,159.7314 Q369.9087,159.8809 370.4731,160.1797 L370.4731,162.9023 Q369.8423,162.3213 369.2488,162.0515 Q368.6553,161.7817 368.0244,161.7817 Q366.6797,161.7817 365.9949,162.8484 Q365.3101,163.915 365.3101,166.0151 Q365.3101,168.1069 365.9949,169.1736 Q366.6797,170.2402 368.0244,170.2402 Q368.6553,170.2402 369.2488,169.9705 Q369.8423,169.7007 370.4731,169.1196 Z \"/><text fill=\"#000000\" font-family=\"sans-serif\" font-size=\"12\" lengthAdjust=\"spacingAndGlyphs\" textLength=\"135\" x=\"381.5\" y=\"170.7344\">StringBufferInputStream</text><line style=\"stroke: #A80036; stroke-width: 1.5;\" x1=\"353.5\" x2=\"518.5\" y1=\"182.1992\" y2=\"182.1992\"/><line style=\"stroke: #A80036; stroke-width: 1.5;\" x1=\"353.5\" x2=\"518.5\" y1=\"190.1992\" y2=\"190.1992\"/><rect fill=\"#FEFECE\" filter=\"url(#f1)\" height=\"48\" style=\"stroke: #A80036; stroke-width: 1.5;\" width=\"129\" x=\"554.5\" y=\"150.1992\"/><ellipse cx=\"569.5\" cy=\"166.1992\" fill=\"#ADD1B2\" rx=\"11\" ry=\"11\" style=\"stroke: #A80036; stroke-width: 1.0;\"/><path d=\"M572.4731,171.8423 Q571.8921,172.1411 571.2529,172.2905 Q570.6138,172.4399 569.9082,172.4399 Q567.4014,172.4399 566.0815,170.7881 Q564.7617,169.1362 564.7617,166.0151 Q564.7617,162.8857 566.0815,161.2339 Q567.4014,159.582 569.9082,159.582 Q570.6138,159.582 571.2612,159.7314 Q571.9087,159.8809 572.4731,160.1797 L572.4731,162.9023 Q571.8423,162.3213 571.2488,162.0515 Q570.6553,161.7817 570.0244,161.7817 Q568.6797,161.7817 567.9949,162.8484 Q567.3101,163.915 567.3101,166.0151 Q567.3101,168.1069 567.9949,169.1736 Q568.6797,170.2402 570.0244,170.2402 Q570.6553,170.2402 571.2488,169.9705 Q571.8423,169.7007 572.4731,169.1196 Z \"/><text fill=\"#000000\" font-family=\"sans-serif\" font-size=\"12\" lengthAdjust=\"spacingAndGlyphs\" textLength=\"97\" x=\"583.5\" y=\"170.7344\">FilterInputStream</text><line style=\"stroke: #A80036; stroke-width: 1.5;\" x1=\"555.5\" x2=\"682.5\" y1=\"182.1992\" y2=\"182.1992\"/><line style=\"stroke: #A80036; stroke-width: 1.5;\" x1=\"555.5\" x2=\"682.5\" y1=\"190.1992\" y2=\"190.1992\"/><rect fill=\"#FEFECE\" filter=\"url(#f1)\" height=\"48\" style=\"stroke: #A80036; stroke-width: 1.5;\" width=\"171\" x=\"240.5\" y=\"258.1992\"/><ellipse cx=\"255.5\" cy=\"274.1992\" fill=\"#ADD1B2\" rx=\"11\" ry=\"11\" style=\"stroke: #A80036; stroke-width: 1.0;\"/><path d=\"M258.4731,279.8423 Q257.8921,280.1411 257.2529,280.2905 Q256.6138,280.4399 255.9082,280.4399 Q253.4014,280.4399 252.0815,278.7881 Q250.7617,277.1362 250.7617,274.0151 Q250.7617,270.8857 252.0815,269.2339 Q253.4014,267.582 255.9082,267.582 Q256.6138,267.582 257.2612,267.7314 Q257.9087,267.8809 258.4731,268.1797 L258.4731,270.9023 Q257.8423,270.3213 257.2488,270.0515 Q256.6553,269.7817 256.0244,269.7817 Q254.6797,269.7817 253.9949,270.8484 Q253.3101,271.915 253.3101,274.0151 Q253.3101,276.1069 253.9949,277.1736 Q254.6797,278.2402 256.0244,278.2402 Q256.6553,278.2402 257.2488,277.9705 Q257.8423,277.7007 258.4731,277.1196 Z \"/><text fill=\"#000000\" font-family=\"sans-serif\" font-size=\"12\" lengthAdjust=\"spacingAndGlyphs\" textLength=\"139\" x=\"269.5\" y=\"278.7344\">LineNumberInputStream</text><line style=\"stroke: #A80036; stroke-width: 1.5;\" x1=\"241.5\" x2=\"410.5\" y1=\"290.1992\" y2=\"290.1992\"/><line style=\"stroke: #A80036; stroke-width: 1.5;\" x1=\"241.5\" x2=\"410.5\" y1=\"298.1992\" y2=\"298.1992\"/><rect fill=\"#FEFECE\" filter=\"url(#f1)\" height=\"48\" style=\"stroke: #A80036; stroke-width: 1.5;\" width=\"156\" x=\"447\" y=\"258.1992\"/><ellipse cx=\"462\" cy=\"274.1992\" fill=\"#ADD1B2\" rx=\"11\" ry=\"11\" style=\"stroke: #A80036; stroke-width: 1.0;\"/><path d=\"M464.9731,279.8423 Q464.3921,280.1411 463.7529,280.2905 Q463.1138,280.4399 462.4082,280.4399 Q459.9014,280.4399 458.5815,278.7881 Q457.2617,277.1362 457.2617,274.0151 Q457.2617,270.8857 458.5815,269.2339 Q459.9014,267.582 462.4082,267.582 Q463.1138,267.582 463.7612,267.7314 Q464.4087,267.8809 464.9731,268.1797 L464.9731,270.9023 Q464.3423,270.3213 463.7488,270.0515 Q463.1553,269.7817 462.5244,269.7817 Q461.1797,269.7817 460.4949,270.8484 Q459.8101,271.915 459.8101,274.0151 Q459.8101,276.1069 460.4949,277.1736 Q461.1797,278.2402 462.5244,278.2402 Q463.1553,278.2402 463.7488,277.9705 Q464.3423,277.7007 464.9731,277.1196 Z \"/><text fill=\"#000000\" font-family=\"sans-serif\" font-size=\"12\" lengthAdjust=\"spacingAndGlyphs\" textLength=\"124\" x=\"476\" y=\"278.7344\">PushbackInputStream</text><line style=\"stroke: #A80036; stroke-width: 1.5;\" x1=\"448\" x2=\"602\" y1=\"290.1992\" y2=\"290.1992\"/><line style=\"stroke: #A80036; stroke-width: 1.5;\" x1=\"448\" x2=\"602\" y1=\"298.1992\" y2=\"298.1992\"/><rect fill=\"#FEFECE\" filter=\"url(#f1)\" height=\"48\" style=\"stroke: #A80036; stroke-width: 1.5;\" width=\"150\" x=\"638\" y=\"258.1992\"/><ellipse cx=\"653\" cy=\"274.1992\" fill=\"#ADD1B2\" rx=\"11\" ry=\"11\" style=\"stroke: #A80036; stroke-width: 1.0;\"/><path d=\"M655.9731,279.8423 Q655.3921,280.1411 654.7529,280.2905 Q654.1138,280.4399 653.4082,280.4399 Q650.9014,280.4399 649.5815,278.7881 Q648.2617,277.1362 648.2617,274.0151 Q648.2617,270.8857 649.5815,269.2339 Q650.9014,267.582 653.4082,267.582 Q654.1138,267.582 654.7612,267.7314 Q655.4087,267.8809 655.9731,268.1797 L655.9731,270.9023 Q655.3423,270.3213 654.7488,270.0515 Q654.1553,269.7817 653.5244,269.7817 Q652.1797,269.7817 651.4949,270.8484 Q650.8101,271.915 650.8101,274.0151 Q650.8101,276.1069 651.4949,277.1736 Q652.1797,278.2402 653.5244,278.2402 Q654.1553,278.2402 654.7488,277.9705 Q655.3423,277.7007 655.9731,277.1196 Z \"/><text fill=\"#000000\" font-family=\"sans-serif\" font-size=\"12\" lengthAdjust=\"spacingAndGlyphs\" textLength=\"118\" x=\"667\" y=\"278.7344\">BufferedInputStream</text><line style=\"stroke: #A80036; stroke-width: 1.5;\" x1=\"639\" x2=\"787\" y1=\"290.1992\" y2=\"290.1992\"/><line style=\"stroke: #A80036; stroke-width: 1.5;\" x1=\"639\" x2=\"787\" y1=\"298.1992\" y2=\"298.1992\"/><rect fill=\"#FEFECE\" filter=\"url(#f1)\" height=\"48\" style=\"stroke: #A80036; stroke-width: 1.5;\" width=\"128\" x=\"823\" y=\"258.1992\"/><ellipse cx=\"838\" cy=\"274.1992\" fill=\"#ADD1B2\" rx=\"11\" ry=\"11\" style=\"stroke: #A80036; stroke-width: 1.0;\"/><path d=\"M840.9731,279.8423 Q840.3921,280.1411 839.7529,280.2905 Q839.1138,280.4399 838.4082,280.4399 Q835.9014,280.4399 834.5815,278.7881 Q833.2617,277.1362 833.2617,274.0151 Q833.2617,270.8857 834.5815,269.2339 Q835.9014,267.582 838.4082,267.582 Q839.1138,267.582 839.7612,267.7314 Q840.4087,267.8809 840.9731,268.1797 L840.9731,270.9023 Q840.3423,270.3213 839.7488,270.0515 Q839.1553,269.7817 838.5244,269.7817 Q837.1797,269.7817 836.4949,270.8484 Q835.8101,271.915 835.8101,274.0151 Q835.8101,276.1069 836.4949,277.1736 Q837.1797,278.2402 838.5244,278.2402 Q839.1553,278.2402 839.7488,277.9705 Q840.3423,277.7007 840.9731,277.1196 Z \"/><text fill=\"#000000\" font-family=\"sans-serif\" font-size=\"12\" lengthAdjust=\"spacingAndGlyphs\" textLength=\"96\" x=\"852\" y=\"278.7344\">DataInputStream</text><line style=\"stroke: #A80036; stroke-width: 1.5;\" x1=\"824\" x2=\"950\" y1=\"290.1992\" y2=\"290.1992\"/><line style=\"stroke: #A80036; stroke-width: 1.5;\" x1=\"824\" x2=\"950\" y1=\"298.1992\" y2=\"298.1992\"/><path d=\"M355.377,85.2132 C286.393,106.1872 188.631,135.9132 126.267,154.8752 \" fill=\"none\" style=\"stroke: #A80036; stroke-width: 1.0;\"/><polygon fill=\"none\" points=\"353.731,78.3972,374.902,79.2762,357.803,91.7922,353.731,78.3972\" style=\"stroke: #A80036; stroke-width: 1.0;\"/><path d=\"M366.68,100.2852 C337.533,116.9302 304.639,135.7152 279.539,150.0492 \" fill=\"none\" style=\"stroke: #A80036; stroke-width: 1.0;\"/><polygon fill=\"none\" points=\"363.402,94.0962,384.241,90.2572,370.344,106.2542,363.402,94.0962\" style=\"stroke: #A80036; stroke-width: 1.0;\"/><path d=\"M436,110.3062 C436,124.0752 436,138.3842 436,149.8682 \" fill=\"none\" style=\"stroke: #A80036; stroke-width: 1.0;\"/><polygon fill=\"none\" points=\"429,110.2572,436,90.2572,443,110.2572,429,110.2572\" style=\"stroke: #A80036; stroke-width: 1.0;\"/><path d=\"M489.633,101.2302 C515.354,117.6382 545.785,135.9852 570.802,150.0492 \" fill=\"none\" style=\"stroke: #A80036; stroke-width: 1.0;\"/><polygon fill=\"none\" points=\"485.68,107.0092,472.704,90.2572,493.294,95.2612,485.68,107.0092\" style=\"stroke: #A80036; stroke-width: 1.0;\"/><path d=\"M581.414,142.6152 C556.74,126.3282 524.263,106.3872 496.128,90.2572 \" fill=\"none\" style=\"stroke: #A80036; stroke-width: 1.0;\"/><polygon fill=\"#A80036\" points=\"592.502,150.0492,589.746,143.3856,582.5349,143.3667,585.2909,150.0303,592.502,150.0492\" style=\"stroke: #A80036; stroke-width: 1.0;\"/><path d=\"M536.541,205.0312 C490.015,221.8629 432.758,242.5768 389.705,258.1523 \" fill=\"none\" style=\"stroke: #A80036; stroke-width: 1.0;\"/><polygon fill=\"none\" points=\"534.235,198.4212,555.423,198.1992,538.998,211.5861,534.235,198.4212\" style=\"stroke: #A80036; stroke-width: 1.0;\"/><path d=\"M585.101,213.4262 C571.914,228.2958 557.233,244.8515 545.681,257.8776 \" fill=\"none\" style=\"stroke: #A80036; stroke-width: 1.0;\"/><polygon fill=\"none\" points=\"580.096,208.519,598.603,198.1992,590.571,217.8078,580.096,208.519\" style=\"stroke: #A80036; stroke-width: 1.0;\"/><path d=\"M652.899,213.4262 C666.086,228.2958 680.767,244.8515 692.319,257.8776 \" fill=\"none\" style=\"stroke: #A80036; stroke-width: 1.0;\"/><polygon fill=\"none\" points=\"647.429,217.8078,639.397,198.1992,657.904,208.519,647.429,217.8078\" style=\"stroke: #A80036; stroke-width: 1.0;\"/><path d=\"M695.815,205.5812 C738.034,222.2798 789.575,242.6654 828.499,258.0609 \" fill=\"none\" style=\"stroke: #A80036; stroke-width: 1.0;\"/><polygon fill=\"none\" points=\"693.176,212.065,677.152,198.1992,698.325,199.0462,693.176,212.065\" style=\"stroke: #A80036; stroke-width: 1.0;\"/></g></svg>"
      ],
      "text/plain": [
       "<IPython.core.display.SVG object>"
      ]
     },
     "execution_count": 4,
     "metadata": {},
     "output_type": "execute_result"
    }
   ],
   "source": [
    "%%plantuml\n",
    "@startuml\n",
    "title java.io.InputStream\n",
    "class InputStream {\n",
    "  +abstract read():int\n",
    "}\n",
    "InputStream <|-- FileInputStream\n",
    "InputStream <|-- ByteArrayInputStream\n",
    "InputStream <|-- StringBufferInputStream\n",
    "InputStream <|-- FilterInputStream\n",
    "FilterInputStream *-- InputStream\n",
    "FilterInputStream <|-- LineNumberInputStream\n",
    "FilterInputStream <|-- PushbackInputStream\n",
    "FilterInputStream <|-- BufferedInputStream\n",
    "FilterInputStream <|-- DataInputStream\n",
    "@enduml"
   ]
  },
  {
   "cell_type": "markdown",
   "metadata": {
    "slideshow": {
     "slide_type": "subslide"
    }
   },
   "source": [
    "* File 객체에 필요한 Pathname 환경\n",
    "    * System property를 사용해서 디렉토리 설정 읽기\n",
    "\n",
    "Property 키 | 설명 | 예\n",
    "----------|----------|----------\n",
    "\"file.separator\" | 리눅스 \"/\" 또는 윈도우 \"\\\" | /\n",
    "\"java.class.path\" | classpath | \"/home/js/Code/lib/drjava-stable-20140826-r5761.jar\"\n",
    "\"java.home\" | Java Runtime Environment (JRE) 설치 경로 | \"/usr/lib/jvm/java-8-openjdk-amd64/jre\"\n",
    "\"line.separator\" | 텍스트 파일의 줄 바꿈 구분자\n",
    "\"os.name\" | 운영체제 명 | Linux\n",
    "\"path.separator\" | classpath의 구분자 리눅스 ':' 또는 윈도우 ';'\n",
    "\"user.dir\" | user의 작업 디렉토리 | /home/js\n",
    "\"user.home\" | user의 home 디렉토리 | /home/js\n",
    "\n",
    "\n",
    "```\n",
    "> import java.io.File;\n",
    "> System.getProperty(\"user.home\");\n",
    "\"/Users/media\"\n",
    "> File myhome=new File(System.getProperty(\"user.home\")); pathname은 디렉토리, 파일이 모두 가능하다.\n",
    "> String cwd=new java.io.File( \".\" ).getCanonicalPath(); 유일한 절대경로 (절대경로는 symlink등 여러 값을 가질 수 있다)\n",
    "> cwd\n",
    "\"/Users/media/Code/git/sd\"\n",
    "```"
   ]
  },
  {
   "cell_type": "markdown",
   "metadata": {
    "slideshow": {
     "slide_type": "subslide"
    }
   },
   "source": [
    "* 참고: static 함수 genenv를 사용하여 환경변수를 읽어 올 수 있다.\n",
    "* System property는 JVM, genenv는 운영체제 변수라는 차이가 있다.\n",
    "\n",
    "```\n",
    "> System.getenv(); 전체를 읽을 경우\n",
    "> System.getenv(\"PATH\"); 'PATH'만 읽을 경우\n",
    "```"
   ]
  },
  {
   "cell_type": "markdown",
   "metadata": {
    "slideshow": {
     "slide_type": "subslide"
    }
   },
   "source": [
    "* File 객체\n",
    "    * java.io.File의 생성자는 File 객체 또는 String 모두 사용할 수 있다.\n",
    "    * java.io.File은 파일이고, 다른 언어와 달리 읽을 수 없다 (read() 함수가 없다).\n",
    "    읽으려면 inputstream, reader를 사용한다.\n",
    "    * File 객체의 pathname은 디렉토리 또는 파일명 모두 가능한다.\n",
    "    * 파일 명을 만들 때, 폴더 구분자에 주의한다.\n",
    "    * 윈도우 폴더 구분자는 back slash 2개를 겹쳐 쓴다 '\\\\\\'\n",
    "```\n",
    "> String readmePath0 = \"C:\\\\user\\\\data\\\\README.md\";\n",
    "> File readme1 = new File(readme1Path0);\n",
    "```\n",
    "\n",
    "    * 리눅스 폴더 구분자는 forward slash를 사용한다 '/'\n",
    "```\n",
    "> File readme=new File(cwd,\"README.md\")\n",
    "> readme\n",
    "/Users/media/Code/git/sd/README.md\n",
    "```"
   ]
  },
  {
   "cell_type": "markdown",
   "metadata": {
    "slideshow": {
     "slide_type": "subslide"
    }
   },
   "source": [
    "* 파일에서 읽기\n",
    "    * FileInputStream\n",
    "```\n",
    "> import java.io.FileInputStream\n",
    "> FileInputStream isReadme=new FileInputStream(readme)\n",
    "> isReadme.read()\n",
    "35\n",
    "> (char)35\n",
    "'#'\n",
    "```\n",
    "\n",
    "    * BufferedInputStream\n",
    "```      \n",
    "> import java.io.BufferedInputStream\n",
    "> BufferedInputStream bis=new BufferedInputStream(isReadme)\n",
    "> bis.read()\n",
    "101\n",
    "> (char)101\n",
    "'e'\n",
    "```\n",
    "\n",
    "    * abstract InputStream\n",
    "```\n",
    "> import java.io.InputStream\n",
    "> InputStream is=new BufferedInputStream(isReadme)\n",
    "> is.read()\n",
    "```\n",
    "\n",
    "    * FileReader\n",
    "```\n",
    "> import java.io.FileReader;\n",
    "> FileReader fr =new FileReader(readme);\n",
    "> BufferedReader br =new BufferedReader(fr);\n",
    "> br.readLine()\n",
    "\"# 자바\"\n",
    "> import java.io.FileWriter;\n",
    "> import java.io.PrintWriter;\n",
    "> PrintWriter out=new PrintWriter(new FileWriter(\"hello.txt\"))\n",
    "> out.printf(\"Hello %s\", \"jsl\");\n",
    "> out.close()\n",
    "```"
   ]
  },
  {
   "cell_type": "code",
   "execution_count": null,
   "metadata": {
    "collapsed": false,
    "slideshow": {
     "slide_type": "subslide"
    }
   },
   "outputs": [],
   "source": [
    "# %load /Users/media/Code/git/sd/src/com/sd/myFile/FileDemoMain.java\n",
    "/*\n",
    " * @author jsl\n",
    " * @since 160404\n",
    " * demo how to use file decorator\n",
    " */\n",
    "\n",
    "package com.sd.myFile;\n",
    "\n",
    "import java.io.FileInputStream;\n",
    "import java.io.InputStream;\n",
    "import java.io.InputStreamReader;\n",
    "import java.io.BufferedReader;;\n",
    "import java.io.Reader;\n",
    "import java.io.File;\n",
    "\n",
    "public class FileDemoMain {\n",
    "    public static void main(String[] args) throws Exception {\n",
    "        File readme=null;\n",
    "        InputStream isReadme = null;\n",
    "        InputStreamReader isrReadme = null;\n",
    "        BufferedReader brReadme=null;\n",
    "        int i;\n",
    "        char c;\n",
    "        String str;\n",
    "        StringBuffer sbuffer = new StringBuffer();\n",
    "      \n",
    "        try{\n",
    "            // new input stream created\n",
    "            File myhome=new File(System.getProperty(\"user.home\"));\n",
    "            System.out.println(\"myhome is \"+myhome);\n",
    "\n",
    "            String cwd=new File( \".\" ).getCanonicalPath();\n",
    "            System.out.println(\"current working dir is \"+cwd);\n",
    "\n",
    "            readme=new File(cwd,\"README.md\");\n",
    "            System.out.println(\"readme file is \"+readme);\n",
    "\n",
    "            isReadme=new FileInputStream(readme);\n",
    "            System.out.println(\"Characters printed:\");\n",
    "            while((i=isReadme.read())!=-1) {\n",
    "                c=(char)i;\n",
    "                System.out.print(c);\n",
    "            }\n",
    "        }catch(Exception e){\n",
    "            e.printStackTrace();\n",
    "        }finally{\n",
    "            if(isReadme != null)\n",
    "                isReadme.close();\n",
    "        }\n",
    "\n",
    "        try{\n",
    "            isReadme=new FileInputStream(readme);\n",
    "            isrReadme=new InputStreamReader(isReadme,\"UTF8\");\n",
    "            brReadme= new BufferedReader(isrReadme);\n",
    "            /*while((i=brReadme.read())!=-1) {\n",
    "                c=(char)i;\n",
    "                //System.out.println(c);\n",
    "                sbuffer.append(c);\n",
    "            }\n",
    "            System.out.println(\"--\"+sbuffer.toString());*/\n",
    "            while((str=brReadme.readLine())!=null) {\n",
    "                System.out.println(\"--\"+str);\n",
    "            }\n",
    "        }catch(Exception e){\n",
    "            e.printStackTrace();\n",
    "        }finally{\n",
    "            if(brReadme != null)\n",
    "                brReadme.close();\n",
    "        }\n",
    "    }\n",
    "}\n",
    "\n"
   ]
  }
 ],
 "metadata": {
  "celltoolbar": "Slideshow",
  "kernelspec": {
   "display_name": "Python 2",
   "language": "python",
   "name": "python2"
  },
  "language_info": {
   "codemirror_mode": {
    "name": "ipython",
    "version": 2
   },
   "file_extension": ".py",
   "mimetype": "text/x-python",
   "name": "python",
   "nbconvert_exporter": "python",
   "pygments_lexer": "ipython2",
   "version": "2.7.12"
  }
 },
 "nbformat": 4,
 "nbformat_minor": 0
}
