{
 "cells": [
  {
   "cell_type": "markdown",
   "metadata": {
    "slideshow": {
     "slide_type": "slide"
    }
   },
   "source": [
    "# Singleton 패턴\n",
    "\n",
    "\n",
    "## S.1 소개\n",
    "\n",
    "* Singleton 패턴은 Creational Design Pattern\n",
    "* 객체를 중복해서 생성하게 되면, 자원의 낭비가 있게 된다. 이 패턴은 서비스객체를 중복해서 생성하지 않고, 재사용하게 하는 패턴을 말한다.\n",
    "* only one instance to provide a global point of access to it (p.177)\n",
    "* 프린트 spooler는 출력을 보낼 때마다 하나의 pool에서 처리한다.\n",
    "* 데이터베이스는 모든 사용자에게 무제한으로 연결을 제공하지 않는다.\n",
    "* 로그는 화면 또는 파일 등에 작성하여 저장된다. 하나의 logger를 사용해서 처리하고, 누구나 그 logger를 사용하게 제한한다. "
   ]
  },
  {
   "cell_type": "markdown",
   "metadata": {
    "slideshow": {
     "slide_type": "subslide"
    }
   },
   "source": [
    "* 디자인패턴 요소\n",
    "\n",
    "요소 | 설명\n",
    "---|---\n",
    "name | Singleton\n",
    "problem | 여러 객체가 생성되면 상태관리 어려움.\n",
    "solution | 객체 생성자를 중앙 관리\n",
    "consequence | 객체가 1개라서 일관된 상태"
   ]
  },
  {
   "cell_type": "markdown",
   "metadata": {
    "slideshow": {
     "slide_type": "subslide"
    }
   },
   "source": [
    "* 프로그래밍 예제\n",
    "    * HFDP 'Chocolate Factory'\n",
    "    * thread\n",
    "    * 프린터 spooler, Logger, DB pool\n",
    "    * 과제\n",
    "        * case extension\n",
    "            * ChocolateBoiler threadsafe\n",
    "        * new case - Printer spooler"
   ]
  },
  {
   "cell_type": "markdown",
   "metadata": {
    "slideshow": {
     "slide_type": "slide"
    }
   },
   "source": [
    "## S.2 문제\n",
    "\n",
    "* 커피를 만드는 바리스타가 많은 경우, 주문이 단일화되지 않으면 문제가 발생할 수 있다.\n",
    "    * 고객이 커피를 주문한다.\n",
    "    * 커피가 오랫 동안 나오지 않아서, 다른 바리스타에게 '커피가 나오지 않았다'고 말하는 경우\n",
    "    * 바리스타는 누가 커피를 만들고 있는지 서로 확인하지 않고, 새로 커피를 만들게 되면 문제가 된다.\n",
    "    * 하나의 주문에 커피는 여러 잔이 나올 수 있게 된다.\n",
    "\n",
    "문제 | 해결방안\n",
    "-----|-----\n",
    "'커피가 나오지 않았다'고 할 때마다 커피를 만드는 문제 | thread 제어\n",
    "주문을 받고, 관리하는 창구의 '단일화' 문제 | 객체를 1개만 생성\n",
    "한 사람이 대량으로 주문을 처리하는 '독점'의 문제 | 우선순위 조정"
   ]
  },
  {
   "cell_type": "code",
   "execution_count": 1,
   "metadata": {
    "collapsed": true,
    "slideshow": {
     "slide_type": "subslide"
    }
   },
   "outputs": [],
   "source": [
    "import iplantuml"
   ]
  },
  {
   "cell_type": "code",
   "execution_count": 2,
   "metadata": {
    "collapsed": false,
    "slideshow": {
     "slide_type": "-"
    }
   },
   "outputs": [
    {
     "data": {
      "image/svg+xml": [
       "<svg height=\"190px\" style=\"width:244px;height:190px;\" version=\"1.1\" viewBox=\"0 0 244 190\" width=\"244px\" xmlns=\"http://www.w3.org/2000/svg\" xmlns:xlink=\"http://www.w3.org/1999/xlink\"><defs><filter height=\"300%\" id=\"f1\" width=\"300%\" x=\"-1\" y=\"-1\"><feGaussianBlur result=\"blurOut\" stdDeviation=\"2.0\"/><feColorMatrix in=\"blurOut\" result=\"blurOut2\" type=\"matrix\" values=\"0 0 0 0 0 0 0 0 0 0 0 0 0 0 0 0 0 0 .4 0\"/><feOffset dx=\"4.0\" dy=\"4.0\" in=\"blurOut2\" result=\"blurOut3\"/><feBlend in=\"SourceGraphic\" in2=\"blurOut3\" mode=\"normal\"/></filter></defs><g><rect fill=\"#FEFECE\" filter=\"url(#f1)\" height=\"48\" style=\"stroke: #A80036; stroke-width: 1.5;\" width=\"67\" x=\"14.5\" y=\"8\"/><ellipse cx=\"29.5\" cy=\"24\" fill=\"#ADD1B2\" rx=\"11\" ry=\"11\" style=\"stroke: #A80036; stroke-width: 1.0;\"/><path d=\"M32.4688,29.6406 Q31.8906,29.9375 31.25,30.0859 Q30.6094,30.2344 29.9063,30.2344 Q27.4063,30.2344 26.0859,28.5859 Q24.7656,26.9375 24.7656,23.8125 Q24.7656,20.6875 26.0859,19.0313 Q27.4063,17.375 29.9063,17.375 Q30.6094,17.375 31.2578,17.5313 Q31.9063,17.6875 32.4688,17.9844 L32.4688,20.7031 Q31.8438,20.125 31.25,19.8516 Q30.6563,19.5781 30.0313,19.5781 Q28.6875,19.5781 28,20.6484 Q27.3125,21.7188 27.3125,23.8125 Q27.3125,25.9063 28,26.9766 Q28.6875,28.0469 30.0313,28.0469 Q30.6563,28.0469 31.25,27.7734 Q31.8438,27.5 32.4688,26.9219 L32.4688,29.6406 Z \"/><text fill=\"#000000\" font-family=\"sans-serif\" font-size=\"12\" lengthAdjust=\"spacingAndGlyphs\" textLength=\"35\" x=\"43.5\" y=\"28.1543\">Client</text><line style=\"stroke: #A80036; stroke-width: 1.5;\" x1=\"15.5\" x2=\"80.5\" y1=\"40\" y2=\"40\"/><line style=\"stroke: #A80036; stroke-width: 1.5;\" x1=\"15.5\" x2=\"80.5\" y1=\"48\" y2=\"48\"/><rect fill=\"#FEFECE\" filter=\"url(#f1)\" height=\"48\" style=\"stroke: #A80036; stroke-width: 1.5;\" width=\"84\" x=\"151\" y=\"8\"/><ellipse cx=\"166\" cy=\"24\" fill=\"#ADD1B2\" rx=\"11\" ry=\"11\" style=\"stroke: #A80036; stroke-width: 1.0;\"/><path d=\"M168.9688,29.6406 Q168.3906,29.9375 167.75,30.0859 Q167.1094,30.2344 166.4063,30.2344 Q163.9063,30.2344 162.5859,28.5859 Q161.2656,26.9375 161.2656,23.8125 Q161.2656,20.6875 162.5859,19.0313 Q163.9063,17.375 166.4063,17.375 Q167.1094,17.375 167.7578,17.5313 Q168.4063,17.6875 168.9688,17.9844 L168.9688,20.7031 Q168.3438,20.125 167.75,19.8516 Q167.1563,19.5781 166.5313,19.5781 Q165.1875,19.5781 164.5,20.6484 Q163.8125,21.7188 163.8125,23.8125 Q163.8125,25.9063 164.5,26.9766 Q165.1875,28.0469 166.5313,28.0469 Q167.1563,28.0469 167.75,27.7734 Q168.3438,27.5 168.9688,26.9219 L168.9688,29.6406 Z \"/><text fill=\"#000000\" font-family=\"sans-serif\" font-size=\"12\" lengthAdjust=\"spacingAndGlyphs\" textLength=\"52\" x=\"180\" y=\"28.1543\">Barista1</text><line style=\"stroke: #A80036; stroke-width: 1.5;\" x1=\"152\" x2=\"234\" y1=\"40\" y2=\"40\"/><line style=\"stroke: #A80036; stroke-width: 1.5;\" x1=\"152\" x2=\"234\" y1=\"48\" y2=\"48\"/><rect fill=\"#FEFECE\" filter=\"url(#f1)\" height=\"48\" style=\"stroke: #A80036; stroke-width: 1.5;\" width=\"84\" x=\"6\" y=\"133\"/><ellipse cx=\"21\" cy=\"149\" fill=\"#ADD1B2\" rx=\"11\" ry=\"11\" style=\"stroke: #A80036; stroke-width: 1.0;\"/><path d=\"M23.9688,154.6406 Q23.3906,154.9375 22.75,155.0859 Q22.1094,155.2344 21.4063,155.2344 Q18.9063,155.2344 17.5859,153.5859 Q16.2656,151.9375 16.2656,148.8125 Q16.2656,145.6875 17.5859,144.0313 Q18.9063,142.375 21.4063,142.375 Q22.1094,142.375 22.7578,142.5313 Q23.4063,142.6875 23.9688,142.9844 L23.9688,145.7031 Q23.3438,145.125 22.75,144.8516 Q22.1563,144.5781 21.5313,144.5781 Q20.1875,144.5781 19.5,145.6484 Q18.8125,146.7188 18.8125,148.8125 Q18.8125,150.9063 19.5,151.9766 Q20.1875,153.0469 21.5313,153.0469 Q22.1563,153.0469 22.75,152.7734 Q23.3438,152.5 23.9688,151.9219 L23.9688,154.6406 Z \"/><text fill=\"#000000\" font-family=\"sans-serif\" font-size=\"12\" lengthAdjust=\"spacingAndGlyphs\" textLength=\"52\" x=\"35\" y=\"153.1543\">Barista2</text><line style=\"stroke: #A80036; stroke-width: 1.5;\" x1=\"7\" x2=\"89\" y1=\"165\" y2=\"165\"/><line style=\"stroke: #A80036; stroke-width: 1.5;\" x1=\"7\" x2=\"89\" y1=\"173\" y2=\"173\"/><path d=\"M81.6304,32 C100.6803,32 124.813,32 145.741,32 \" fill=\"none\" style=\"stroke: #A80036; stroke-width: 1.0;\"/><polygon fill=\"#A80036\" points=\"150.987,32,141.987,28,145.987,32,141.987,36,150.987,32\" style=\"stroke: #A80036; stroke-width: 1.0;\"/><text fill=\"#000000\" font-family=\"sans-serif\" font-size=\"13\" lengthAdjust=\"spacingAndGlyphs\" textLength=\"26\" x=\"103.25\" y=\"25.0669\">do()</text><path d=\"M48,56.135 C48,76.494 48,106.1907 48,127.908 \" fill=\"none\" style=\"stroke: #A80036; stroke-width: 1.0;\"/><polygon fill=\"#A80036\" points=\"48,132.9684,52,123.9684,48,127.9684,44,123.9684,48,132.9684\" style=\"stroke: #A80036; stroke-width: 1.0;\"/><text fill=\"#000000\" font-family=\"sans-serif\" font-size=\"13\" lengthAdjust=\"spacingAndGlyphs\" textLength=\"26\" x=\"49\" y=\"99.0669\">do()</text></g></svg>"
      ],
      "text/plain": [
       "<IPython.core.display.SVG object>"
      ]
     },
     "execution_count": 2,
     "metadata": {},
     "output_type": "execute_result"
    }
   ],
   "source": [
    "%%plantuml\n",
    "@startuml\n",
    "class Client\n",
    "\n",
    "Client -right-> Barista1:do()\n",
    "Client -down-> Barista2:do()\n",
    "@enduml"
   ]
  },
  {
   "cell_type": "markdown",
   "metadata": {
    "slideshow": {
     "slide_type": "slide"
    }
   },
   "source": [
    "## S.3 설계\n",
    "\n",
    "### S.3.1 설계에 고려할 사항:\n",
    "\n",
    "#### 언제 객체를 생성할 것인가?\n",
    "\n",
    "* eager initialization\n",
    "    * Singleton 객체는 처음 클래스를 생성하는, 즉 가장 빠른 시점에 생성한다.\n",
    "    * 처음에 생성하므로 자원 소모가 많다.\n",
    "    * 클래스 생성 시점에 만들어 지게 되면서 예외처리를 하기 어렵다.\n",
    "```\n",
    "private static Singleton instance = new Singleton(); 클래스생성 시점에 Singleton 만듦\n",
    "private Singleton(){}\n",
    "public static Singleton getInstance(){\n",
    "    return instance;\n",
    "}\n",
    "```\n",
    "\n",
    "* lazy initialization\n",
    "    * 'public static Singleton getInstance()' 함수에서, 즉 필요한 시점에 생성한다."
   ]
  },
  {
   "cell_type": "markdown",
   "metadata": {
    "slideshow": {
     "slide_type": "subslide"
    }
   },
   "source": [
    "#### 사용중인 경우 어떻게 할 것인가?\n",
    "\n",
    "* '회의실'이 사용중이라면, 여러 팀이 사용하지 못하게 한다. 해결방안으로 한 팀이 들어가면 문을 잠그고 사용한다.\n",
    "\n",
    "* threadsafe\n",
    "    * 단일화된 창구함수 getInstance()를 동기화synchronized해서, 동시에 하나의 thread만 사용할 수 있게 한다.\n",
    "```\n",
    "public static synchronized Singleton getInstance()\n",
    "```\n",
    "\n",
    "* DCL Double Checked Locking (p.182)\n",
    "    * threadsafe에서 동기화를 유지하려면:\n",
    "        * thread가 동시에 동일한 함수를 사용하지 못하게 함.\n",
    "        * the synchronized block is used with 'if'문\n",
    "        * 사용하는 thread는 잠금사용. 다른 thread가 사용하려면 대기. "
   ]
  },
  {
   "cell_type": "markdown",
   "metadata": {
    "slideshow": {
     "slide_type": "subslide"
    }
   },
   "source": [
    "#### 사용중인지 어떻게 알 것인가?\n",
    "\n",
    "* '회의실'이 사용되고 있는지 어떻게 알 수 있는지 방법을 찾아 본다. \n",
    "\n",
    "구분 | 설명 | 비유\n",
    "-----|-----|-----\n",
    "static | 클래스변수에 instance를 저장하고 공유. | '회의실'이 사용중이면 전광판으로 알려 준다.\n",
    "if문 | 생성되어 있는지 확인, 생성되지 않는 경우만 생성. | 사용하는지 확인하고 사용하고 있으면 못하게 한다.\n",
    "private | instance를 직접 사용하지 못하게, getInstance() 함수로 통일 | 회의실 예약 전담직원"
   ]
  },
  {
   "cell_type": "code",
   "execution_count": 3,
   "metadata": {
    "collapsed": false,
    "scrolled": true,
    "slideshow": {
     "slide_type": "slide"
    }
   },
   "outputs": [
    {
     "data": {
      "image/svg+xml": [
       "<svg height=\"103px\" style=\"width:207px;height:103px;\" version=\"1.1\" viewBox=\"0 0 207 103\" width=\"207px\" xmlns=\"http://www.w3.org/2000/svg\" xmlns:xlink=\"http://www.w3.org/1999/xlink\"><defs><filter height=\"300%\" id=\"f1\" width=\"300%\" x=\"-1\" y=\"-1\"><feGaussianBlur result=\"blurOut\" stdDeviation=\"2.0\"/><feColorMatrix in=\"blurOut\" result=\"blurOut2\" type=\"matrix\" values=\"0 0 0 0 0 0 0 0 0 0 0 0 0 0 0 0 0 0 .4 0\"/><feOffset dx=\"4.0\" dy=\"4.0\" in=\"blurOut2\" result=\"blurOut3\"/><feBlend in=\"SourceGraphic\" in2=\"blurOut3\" mode=\"normal\"/></filter></defs><g><rect fill=\"#FEFECE\" filter=\"url(#f1)\" height=\"86.4141\" style=\"stroke: #A80036; stroke-width: 1.5;\" width=\"192\" x=\"6\" y=\"8\"/><ellipse cx=\"68.25\" cy=\"24\" fill=\"#ADD1B2\" rx=\"11\" ry=\"11\" style=\"stroke: #A80036; stroke-width: 1.0;\"/><path d=\"M71.2188,29.6406 Q70.6406,29.9375 70,30.0859 Q69.3594,30.2344 68.6563,30.2344 Q66.1563,30.2344 64.8359,28.5859 Q63.5156,26.9375 63.5156,23.8125 Q63.5156,20.6875 64.8359,19.0313 Q66.1563,17.375 68.6563,17.375 Q69.3594,17.375 70.0078,17.5313 Q70.6563,17.6875 71.2188,17.9844 L71.2188,20.7031 Q70.5938,20.125 70,19.8516 Q69.4063,19.5781 68.7813,19.5781 Q67.4375,19.5781 66.75,20.6484 Q66.0625,21.7188 66.0625,23.8125 Q66.0625,25.9063 66.75,26.9766 Q67.4375,28.0469 68.7813,28.0469 Q69.4063,28.0469 70,27.7734 Q70.5938,27.5 71.2188,26.9219 L71.2188,29.6406 Z \"/><text fill=\"#000000\" font-family=\"sans-serif\" font-size=\"12\" lengthAdjust=\"spacingAndGlyphs\" textLength=\"59\" x=\"88.75\" y=\"28.1543\">Singleton</text><line style=\"stroke: #A80036; stroke-width: 1.5;\" x1=\"7\" x2=\"197\" y1=\"40\" y2=\"40\"/><rect fill=\"none\" height=\"6\" style=\"stroke: #C82930; stroke-width: 1.0;\" width=\"6\" x=\"14\" y=\"48.9023\"/><text fill=\"#000000\" font-family=\"sans-serif\" font-size=\"11\" lengthAdjust=\"spacingAndGlyphs\" textLength=\"140\" x=\"26\" y=\"54.2104\">static instance:Singleton</text><line style=\"stroke: #A80036; stroke-width: 1.5;\" x1=\"7\" x2=\"197\" y1=\"60.8047\" y2=\"60.8047\"/><rect fill=\"#F24D5C\" height=\"6\" style=\"stroke: #C82930; stroke-width: 1.0;\" width=\"6\" x=\"14\" y=\"69.707\"/><text fill=\"#000000\" font-family=\"sans-serif\" font-size=\"11\" lengthAdjust=\"spacingAndGlyphs\" textLength=\"88\" x=\"26\" y=\"75.0151\">Singleton():void</text><ellipse cx=\"17\" cy=\"85.5117\" fill=\"#84BE84\" rx=\"3\" ry=\"3\" style=\"stroke: #038048; stroke-width: 1.0;\"/><text fill=\"#000000\" font-family=\"sans-serif\" font-size=\"11\" lengthAdjust=\"spacingAndGlyphs\" textLength=\"166\" x=\"26\" y=\"87.8198\">static getInstance():Singleton</text></g></svg>"
      ],
      "text/plain": [
       "<IPython.core.display.SVG object>"
      ]
     },
     "execution_count": 3,
     "metadata": {},
     "output_type": "execute_result"
    }
   ],
   "source": [
    "%%plantuml\n",
    "@startuml\n",
    "class Singleton {\n",
    "    -static instance:Singleton\n",
    "    -Singleton():void\n",
    "    +static getInstance():Singleton\n",
    "}\n",
    "@enduml"
   ]
  },
  {
   "cell_type": "markdown",
   "metadata": {
    "slideshow": {
     "slide_type": "slide"
    }
   },
   "source": [
    "## S.4 사례\n",
    "\n",
    "* classic - no thread, lazy init\n",
    "* stat - eager init\n",
    "* thread - synchronized\n",
    "    * multiple threads running - concurrency problem\n",
    "    * 한 쓰레드가 파일에 쓰는 경우, 다른 쓰레드가 열고 쓰고 닫는 경우 데이터가 유실\n",
    "* DCL - volatile\n",
    "    * 동기화 - volatile 변수는 동기화된 결과를 공유\n",
    "    * 파일에 쓰는 경우, 모든 쓰레드가 그 결과를 공유\n",
    "* subclass - protected"
   ]
  },
  {
   "cell_type": "markdown",
   "metadata": {
    "slideshow": {
     "slide_type": "slide"
    }
   },
   "source": [
    "### S.4.1 classic\n",
    "\n",
    "* instance를 private static으로 생성함.\n",
    "    * private\n",
    "        * public getInstacne()함수를 통하지 않고는 인스턴스를 만들 수 없다.\n",
    "    * static\n",
    "        * 객체가 아닌 클래스 변수.\n",
    "        * 객체를 생성한 횟수를 세거나, 상수를 선언해서 사용 (예: java.lang.Math PI, abs())\n",
    "* lazy instantiation\n",
    "    * 필요한 때 객체 생성"
   ]
  },
  {
   "cell_type": "markdown",
   "metadata": {
    "slideshow": {
     "slide_type": "slide"
    }
   },
   "source": [
    "* classic 'Chocolate Boiler'"
   ]
  },
  {
   "cell_type": "code",
   "execution_count": 4,
   "metadata": {
    "collapsed": false,
    "slideshow": {
     "slide_type": "-"
    }
   },
   "outputs": [
    {
     "data": {
      "image/svg+xml": [
       "<svg height=\"141px\" style=\"width:243px;height:141px;\" version=\"1.1\" viewBox=\"0 0 243 141\" width=\"243px\" xmlns=\"http://www.w3.org/2000/svg\" xmlns:xlink=\"http://www.w3.org/1999/xlink\"><defs><filter height=\"300%\" id=\"f1\" width=\"300%\" x=\"-1\" y=\"-1\"><feGaussianBlur result=\"blurOut\" stdDeviation=\"2.0\"/><feColorMatrix in=\"blurOut\" result=\"blurOut2\" type=\"matrix\" values=\"0 0 0 0 0 0 0 0 0 0 0 0 0 0 0 0 0 0 .4 0\"/><feOffset dx=\"4.0\" dy=\"4.0\" in=\"blurOut2\" result=\"blurOut3\"/><feBlend in=\"SourceGraphic\" in2=\"blurOut3\" mode=\"normal\"/></filter></defs><g><rect fill=\"#FEFECE\" filter=\"url(#f1)\" height=\"124.8281\" style=\"stroke: #A80036; stroke-width: 1.5;\" width=\"228\" x=\"6\" y=\"8\"/><ellipse cx=\"66.75\" cy=\"24\" fill=\"#ADD1B2\" rx=\"11\" ry=\"11\" style=\"stroke: #A80036; stroke-width: 1.0;\"/><path d=\"M69.7188,29.6406 Q69.1406,29.9375 68.5,30.0859 Q67.8594,30.2344 67.1563,30.2344 Q64.6563,30.2344 63.3359,28.5859 Q62.0156,26.9375 62.0156,23.8125 Q62.0156,20.6875 63.3359,19.0313 Q64.6563,17.375 67.1563,17.375 Q67.8594,17.375 68.5078,17.5313 Q69.1563,17.6875 69.7188,17.9844 L69.7188,20.7031 Q69.0938,20.125 68.5,19.8516 Q67.9063,19.5781 67.2813,19.5781 Q65.9375,19.5781 65.25,20.6484 Q64.5625,21.7188 64.5625,23.8125 Q64.5625,25.9063 65.25,26.9766 Q65.9375,28.0469 67.2813,28.0469 Q67.9063,28.0469 68.5,27.7734 Q69.0938,27.5 69.7188,26.9219 L69.7188,29.6406 Z \"/><text fill=\"#000000\" font-family=\"sans-serif\" font-size=\"12\" lengthAdjust=\"spacingAndGlyphs\" textLength=\"98\" x=\"87.25\" y=\"28.1543\">ChocolateBoiler</text><line style=\"stroke: #A80036; stroke-width: 1.5;\" x1=\"7\" x2=\"233\" y1=\"40\" y2=\"40\"/><rect fill=\"none\" height=\"6\" style=\"stroke: #C82930; stroke-width: 1.0;\" width=\"6\" x=\"14\" y=\"48.9023\"/><text fill=\"#000000\" font-family=\"sans-serif\" font-size=\"11\" lengthAdjust=\"spacingAndGlyphs\" textLength=\"176\" x=\"26\" y=\"54.2104\">static instance:ChocolateBoiler</text><line style=\"stroke: #A80036; stroke-width: 1.5;\" x1=\"7\" x2=\"233\" y1=\"60.8047\" y2=\"60.8047\"/><rect fill=\"#F24D5C\" height=\"6\" style=\"stroke: #C82930; stroke-width: 1.0;\" width=\"6\" x=\"14\" y=\"69.707\"/><text fill=\"#000000\" font-family=\"sans-serif\" font-size=\"11\" lengthAdjust=\"spacingAndGlyphs\" textLength=\"88\" x=\"26\" y=\"75.0151\">Singleton():void</text><ellipse cx=\"17\" cy=\"85.5117\" fill=\"#84BE84\" rx=\"3\" ry=\"3\" style=\"stroke: #038048; stroke-width: 1.0;\"/><text fill=\"#000000\" font-family=\"sans-serif\" font-size=\"11\" lengthAdjust=\"spacingAndGlyphs\" textLength=\"202\" x=\"26\" y=\"87.8198\">static getInstance():ChocolateBoiler</text><ellipse cx=\"17\" cy=\"98.3164\" fill=\"#84BE84\" rx=\"3\" ry=\"3\" style=\"stroke: #038048; stroke-width: 1.0;\"/><text fill=\"#000000\" font-family=\"sans-serif\" font-size=\"11\" lengthAdjust=\"spacingAndGlyphs\" textLength=\"21\" x=\"26\" y=\"100.6245\">fill()</text><ellipse cx=\"17\" cy=\"111.1211\" fill=\"#84BE84\" rx=\"3\" ry=\"3\" style=\"stroke: #038048; stroke-width: 1.0;\"/><text fill=\"#000000\" font-family=\"sans-serif\" font-size=\"11\" lengthAdjust=\"spacingAndGlyphs\" textLength=\"28\" x=\"26\" y=\"113.4292\">boil()</text><ellipse cx=\"17\" cy=\"123.9258\" fill=\"#84BE84\" rx=\"3\" ry=\"3\" style=\"stroke: #038048; stroke-width: 1.0;\"/><text fill=\"#000000\" font-family=\"sans-serif\" font-size=\"11\" lengthAdjust=\"spacingAndGlyphs\" textLength=\"37\" x=\"26\" y=\"126.2339\">drain()</text></g></svg>"
      ],
      "text/plain": [
       "<IPython.core.display.SVG object>"
      ]
     },
     "execution_count": 4,
     "metadata": {},
     "output_type": "execute_result"
    }
   ],
   "source": [
    "%%plantuml\n",
    "@startuml\n",
    "class ChocolateBoiler {\n",
    "    -static instance:ChocolateBoiler\n",
    "    -Singleton():void\n",
    "    +static getInstance():ChocolateBoiler\n",
    "    +fill()\n",
    "    +boil()\n",
    "    +drain()\n",
    "}\n",
    "@enduml"
   ]
  },
  {
   "cell_type": "code",
   "execution_count": 42,
   "metadata": {
    "collapsed": false,
    "slideshow": {
     "slide_type": "slide"
    }
   },
   "outputs": [
    {
     "data": {
      "image/svg+xml": [
       "<svg height=\"214px\" style=\"width:256px;height:214px;\" version=\"1.1\" viewBox=\"0 0 256 214\" width=\"256px\" xmlns=\"http://www.w3.org/2000/svg\" xmlns:xlink=\"http://www.w3.org/1999/xlink\"><defs><filter height=\"300%\" id=\"f1\" width=\"300%\" x=\"-1\" y=\"-1\"><feGaussianBlur result=\"blurOut\" stdDeviation=\"2.0\"/><feColorMatrix in=\"blurOut\" result=\"blurOut2\" type=\"matrix\" values=\"0 0 0 0 0 0 0 0 0 0 0 0 0 0 0 0 0 0 .4 0\"/><feOffset dx=\"4.0\" dy=\"4.0\" in=\"blurOut2\" result=\"blurOut3\"/><feBlend in=\"SourceGraphic\" in2=\"blurOut3\" mode=\"normal\"/></filter></defs><g><line style=\"stroke: #A80036; stroke-width: 1.0; stroke-dasharray: 5.0,5.0;\" x1=\"37\" x2=\"37\" y1=\"38.4883\" y2=\"175.7305\"/><line style=\"stroke: #A80036; stroke-width: 1.0; stroke-dasharray: 5.0,5.0;\" x1=\"188\" x2=\"188\" y1=\"38.4883\" y2=\"175.7305\"/><rect fill=\"#FEFECE\" filter=\"url(#f1)\" height=\"30.4883\" style=\"stroke: #A80036; stroke-width: 1.5;\" width=\"54\" x=\"8\" y=\"3\"/><text fill=\"#000000\" font-family=\"sans-serif\" font-size=\"14\" lengthAdjust=\"spacingAndGlyphs\" textLength=\"40\" x=\"15\" y=\"23.5352\">Client</text><rect fill=\"#FEFECE\" filter=\"url(#f1)\" height=\"30.4883\" style=\"stroke: #A80036; stroke-width: 1.5;\" width=\"54\" x=\"8\" y=\"174.7305\"/><text fill=\"#000000\" font-family=\"sans-serif\" font-size=\"14\" lengthAdjust=\"spacingAndGlyphs\" textLength=\"40\" x=\"15\" y=\"195.2656\">Client</text><rect fill=\"#FEFECE\" filter=\"url(#f1)\" height=\"30.4883\" style=\"stroke: #A80036; stroke-width: 1.5;\" width=\"122\" x=\"125\" y=\"3\"/><text fill=\"#000000\" font-family=\"sans-serif\" font-size=\"14\" lengthAdjust=\"spacingAndGlyphs\" textLength=\"108\" x=\"132\" y=\"23.5352\">ChocolateBoiler</text><rect fill=\"#FEFECE\" filter=\"url(#f1)\" height=\"30.4883\" style=\"stroke: #A80036; stroke-width: 1.5;\" width=\"122\" x=\"125\" y=\"174.7305\"/><text fill=\"#000000\" font-family=\"sans-serif\" font-size=\"14\" lengthAdjust=\"spacingAndGlyphs\" textLength=\"108\" x=\"132\" y=\"195.2656\">ChocolateBoiler</text><polygon fill=\"#A80036\" points=\"176,65.4883,186,69.4883,176,73.4883,180,69.4883\" style=\"stroke: #A80036; stroke-width: 1.0;\"/><line style=\"stroke: #A80036; stroke-width: 1.0;\" x1=\"37\" x2=\"182\" y1=\"69.4883\" y2=\"69.4883\"/><text fill=\"#000000\" font-family=\"sans-serif\" font-size=\"13\" lengthAdjust=\"spacingAndGlyphs\" textLength=\"127\" x=\"44\" y=\"65.0566\">boiler=getInstance()</text><polygon fill=\"#A80036\" points=\"176,94.7988,186,98.7988,176,102.7988,180,98.7988\" style=\"stroke: #A80036; stroke-width: 1.0;\"/><line style=\"stroke: #A80036; stroke-width: 1.0;\" x1=\"37\" x2=\"182\" y1=\"98.7988\" y2=\"98.7988\"/><text fill=\"#000000\" font-family=\"sans-serif\" font-size=\"13\" lengthAdjust=\"spacingAndGlyphs\" textLength=\"25\" x=\"44\" y=\"94.3672\">fill()</text><polygon fill=\"#A80036\" points=\"176,124.1094,186,128.1094,176,132.1094,180,128.1094\" style=\"stroke: #A80036; stroke-width: 1.0;\"/><line style=\"stroke: #A80036; stroke-width: 1.0;\" x1=\"37\" x2=\"182\" y1=\"128.1094\" y2=\"128.1094\"/><text fill=\"#000000\" font-family=\"sans-serif\" font-size=\"13\" lengthAdjust=\"spacingAndGlyphs\" textLength=\"32\" x=\"44\" y=\"123.6777\">boil()</text><polygon fill=\"#A80036\" points=\"176,153.4199,186,157.4199,176,161.4199,180,157.4199\" style=\"stroke: #A80036; stroke-width: 1.0;\"/><line style=\"stroke: #A80036; stroke-width: 1.0;\" x1=\"37\" x2=\"182\" y1=\"157.4199\" y2=\"157.4199\"/><text fill=\"#000000\" font-family=\"sans-serif\" font-size=\"13\" lengthAdjust=\"spacingAndGlyphs\" textLength=\"40\" x=\"44\" y=\"152.9883\">drain()</text></g></svg>"
      ],
      "text/plain": [
       "<IPython.core.display.SVG object>"
      ]
     },
     "execution_count": 42,
     "metadata": {},
     "output_type": "execute_result"
    }
   ],
   "source": [
    "%%plantuml\n",
    "@startuml\n",
    "Client -> ChocolateBoiler:boiler=getInstance()\n",
    "Client -> ChocolateBoiler:fill()\n",
    "Client -> ChocolateBoiler:boil()\n",
    "Client -> ChocolateBoiler:drain()\n",
    "@enduml"
   ]
  },
  {
   "cell_type": "code",
   "execution_count": null,
   "metadata": {
    "collapsed": true,
    "slideshow": {
     "slide_type": "slide"
    }
   },
   "outputs": [],
   "source": [
    "# %load ./src/headfirst/singleton/chocolate/ChocolateBoiler.java\n",
    "package headfirst.singleton.chocolate;\n",
    " \n",
    "public class ChocolateBoiler {\n",
    "\tprivate boolean empty;\n",
    "\tprivate boolean boiled;\n",
    "\tprivate static ChocolateBoiler uniqueInstance;\n",
    "        private static int numCalled=0;   //20151025 jsl\n",
    "  \n",
    "\tprivate ChocolateBoiler() {\n",
    "\t\tempty = true;\n",
    "\t\tboiled = false;\n",
    "\t}\n",
    "  \n",
    "\tpublic static ChocolateBoiler getInstance() {\n",
    "\t\tif (uniqueInstance == null) {\n",
    "\t\t\tSystem.out.println(\"Creating unique instance of Chocolate Boiler\");\n",
    "\t\t\tuniqueInstance = new ChocolateBoiler();\n",
    "\t\t}\n",
    "\t\tSystem.out.println(\"Returning instance of Chocolate Boiler\");\n",
    "\t\tSystem.out.println(\"jsl: numCalled \"+numCalled++);\n",
    "\t\treturn uniqueInstance;\n",
    "\t}\n",
    "\n",
    "\tpublic void fill() {\n",
    "\t\tif (isEmpty()) {\n",
    "\t\t\tempty = false;\n",
    "\t\t\tboiled = false;\n",
    "\t\t\t// fill the boiler with a milk/chocolate mixture\n",
    "\t\t}\n",
    "\t}\n",
    " \n",
    "\tpublic void drain() {\n",
    "\t\tif (!isEmpty() && isBoiled()) {\n",
    "\t\t\t// drain the boiled milk and chocolate\n",
    "\t\t\tempty = true;\n",
    "\t\t}\n",
    "\t}\n",
    " \n",
    "\tpublic void boil() {\n",
    "\t\tif (!isEmpty() && !isBoiled()) {\n",
    "\t\t\t// bring the contents to a boil\n",
    "\t\t\tboiled = true;\n",
    "\t\t}\n",
    "\t}\n",
    "  \n",
    "\tpublic boolean isEmpty() {\n",
    "\t\treturn empty;\n",
    "\t}\n",
    " \n",
    "\tpublic boolean isBoiled() {\n",
    "\t\treturn boiled;\n",
    "\t}\n",
    "}\n"
   ]
  },
  {
   "cell_type": "code",
   "execution_count": null,
   "metadata": {
    "collapsed": true,
    "slideshow": {
     "slide_type": "slide"
    }
   },
   "outputs": [],
   "source": [
    "# %load ./src/headfirst/singleton/chocolate/ChocolateController.java\n",
    "package headfirst.singleton.chocolate;\n",
    " \n",
    "public class ChocolateController {\n",
    "\tpublic static void main(String args[]) {\n",
    "\t\tChocolateBoiler boiler = ChocolateBoiler.getInstance();\n",
    "\t\tboiler.fill();\n",
    "\t\tboiler.boil();\n",
    "\t\tboiler.drain();\n",
    "\n",
    "\t\t// will return the existing instance\n",
    "\t\tChocolateBoiler boiler2 = ChocolateBoiler.getInstance();\n",
    "\t}\n",
    "}\n"
   ]
  },
  {
   "cell_type": "code",
   "execution_count": 27,
   "metadata": {
    "collapsed": false,
    "slideshow": {
     "slide_type": "slide"
    }
   },
   "outputs": [
    {
     "name": "stdout",
     "output_type": "stream",
     "text": [
      "Creating unique instance of Chocolate Boiler\r\n",
      "Returning instance of Chocolate Boiler\r\n",
      "jsl: numCalled 0\r\n",
      "Returning instance of Chocolate Boiler\r\n",
      "jsl: numCalled 1\r\n"
     ]
    }
   ],
   "source": [
    "!javac -d classes/ -sourcepath src/ src/headfirst/singleton/chocolate/*.java\n",
    "!java -cp classes/ headfirst.singleton.chocolate.ChocolateController"
   ]
  },
  {
   "cell_type": "code",
   "execution_count": 6,
   "metadata": {
    "collapsed": false,
    "slideshow": {
     "slide_type": "slide"
    }
   },
   "outputs": [
    {
     "data": {
      "image/svg+xml": [
       "<svg height=\"103px\" style=\"width:346px;height:103px;\" version=\"1.1\" viewBox=\"0 0 346 103\" width=\"346px\" xmlns=\"http://www.w3.org/2000/svg\" xmlns:xlink=\"http://www.w3.org/1999/xlink\"><defs><filter height=\"300%\" id=\"f1\" width=\"300%\" x=\"-1\" y=\"-1\"><feGaussianBlur result=\"blurOut\" stdDeviation=\"2.0\"/><feColorMatrix in=\"blurOut\" result=\"blurOut2\" type=\"matrix\" values=\"0 0 0 0 0 0 0 0 0 0 0 0 0 0 0 0 0 0 .4 0\"/><feOffset dx=\"4.0\" dy=\"4.0\" in=\"blurOut2\" result=\"blurOut3\"/><feBlend in=\"SourceGraphic\" in2=\"blurOut3\" mode=\"normal\"/></filter></defs><g><rect fill=\"#FEFECE\" filter=\"url(#f1)\" height=\"86.4141\" style=\"stroke: #A80036; stroke-width: 1.5;\" width=\"192\" x=\"6\" y=\"8\"/><ellipse cx=\"68.25\" cy=\"24\" fill=\"#ADD1B2\" rx=\"11\" ry=\"11\" style=\"stroke: #A80036; stroke-width: 1.0;\"/><path d=\"M71.2188,29.6406 Q70.6406,29.9375 70,30.0859 Q69.3594,30.2344 68.6563,30.2344 Q66.1563,30.2344 64.8359,28.5859 Q63.5156,26.9375 63.5156,23.8125 Q63.5156,20.6875 64.8359,19.0313 Q66.1563,17.375 68.6563,17.375 Q69.3594,17.375 70.0078,17.5313 Q70.6563,17.6875 71.2188,17.9844 L71.2188,20.7031 Q70.5938,20.125 70,19.8516 Q69.4063,19.5781 68.7813,19.5781 Q67.4375,19.5781 66.75,20.6484 Q66.0625,21.7188 66.0625,23.8125 Q66.0625,25.9063 66.75,26.9766 Q67.4375,28.0469 68.7813,28.0469 Q69.4063,28.0469 70,27.7734 Q70.5938,27.5 71.2188,26.9219 L71.2188,29.6406 Z \"/><text fill=\"#000000\" font-family=\"sans-serif\" font-size=\"12\" lengthAdjust=\"spacingAndGlyphs\" textLength=\"59\" x=\"88.75\" y=\"28.1543\">Singleton</text><line style=\"stroke: #A80036; stroke-width: 1.5;\" x1=\"7\" x2=\"197\" y1=\"40\" y2=\"40\"/><rect fill=\"none\" height=\"6\" style=\"stroke: #C82930; stroke-width: 1.0;\" width=\"6\" x=\"14\" y=\"48.9023\"/><text fill=\"#000000\" font-family=\"sans-serif\" font-size=\"11\" lengthAdjust=\"spacingAndGlyphs\" textLength=\"140\" x=\"26\" y=\"54.2104\">static instance:Singleton</text><line style=\"stroke: #A80036; stroke-width: 1.5;\" x1=\"7\" x2=\"197\" y1=\"60.8047\" y2=\"60.8047\"/><rect fill=\"#F24D5C\" height=\"6\" style=\"stroke: #C82930; stroke-width: 1.0;\" width=\"6\" x=\"14\" y=\"69.707\"/><text fill=\"#000000\" font-family=\"sans-serif\" font-size=\"11\" lengthAdjust=\"spacingAndGlyphs\" textLength=\"61\" x=\"26\" y=\"75.0151\">Singleton()</text><ellipse cx=\"17\" cy=\"85.5117\" fill=\"#84BE84\" rx=\"3\" ry=\"3\" style=\"stroke: #038048; stroke-width: 1.0;\"/><text fill=\"#000000\" font-family=\"sans-serif\" font-size=\"11\" lengthAdjust=\"spacingAndGlyphs\" textLength=\"166\" x=\"26\" y=\"87.8198\">static getInstance():Singleton</text><polygon fill=\"#FBFB77\" filter=\"url(#f1)\" points=\"233,38.5,233,63.6328,337,63.6328,337,48.5,327,38.5,233,38.5\" style=\"stroke: #A80036; stroke-width: 1.0;\"/><polygon fill=\"#FBFB77\" points=\"233,38.5,233,47,198.146,51,233,55,233,63.6328,337,63.6328,337,48.5,327,38.5,233,38.5\" style=\"stroke: #A80036; stroke-width: 1.0;\"/><line style=\"stroke: #A80036; stroke-width: 1.0;\" x1=\"327\" x2=\"327\" y1=\"38.5\" y2=\"48.5\"/><line style=\"stroke: #A80036; stroke-width: 1.0;\" x1=\"337\" x2=\"327\" y1=\"48.5\" y2=\"48.5\"/><text fill=\"#000000\" font-family=\"sans-serif\" font-size=\"13\" lengthAdjust=\"spacingAndGlyphs\" textLength=\"83\" x=\"239\" y=\"55.5669\">private static</text></g></svg>"
      ],
      "text/plain": [
       "<IPython.core.display.SVG object>"
      ]
     },
     "execution_count": 6,
     "metadata": {},
     "output_type": "execute_result"
    }
   ],
   "source": [
    "%%plantuml\n",
    "@startuml\n",
    "\n",
    "class Singleton {\n",
    "    -static instance:Singleton\n",
    "    -Singleton()\n",
    "    +static getInstance():Singleton\n",
    "}\n",
    "note right\n",
    "private static\n",
    "end note\n",
    "@enduml"
   ]
  },
  {
   "cell_type": "code",
   "execution_count": null,
   "metadata": {
    "collapsed": false,
    "slideshow": {
     "slide_type": "slide"
    }
   },
   "outputs": [],
   "source": [
    "# %load ./src/headfirst/singleton/classic/Singleton.java\n",
    "package headfirst.singleton.classic;\n",
    "\n",
    "public class Singleton {\n",
    "\tprivate static Singleton uniqueInstance;\n",
    "    private static int numCalled=0;\n",
    "\tprivate Singleton() {}\n",
    " \n",
    "\tpublic static Singleton getInstance() {\n",
    "\t\tif (uniqueInstance == null) {\n",
    "\t\t\tuniqueInstance = new Singleton();\n",
    "\t\t}\n",
    "                System.out.println(\"numCalled: \"+numCalled++);\n",
    "\t\treturn uniqueInstance;\n",
    "\t}\n",
    "}\n"
   ]
  },
  {
   "cell_type": "code",
   "execution_count": null,
   "metadata": {
    "collapsed": true,
    "slideshow": {
     "slide_type": "slide"
    }
   },
   "outputs": [],
   "source": [
    "# %load ./src/headfirst/singleton/classic/SingletonMain.java\n",
    "/*\n",
    " * @author jsl\n",
    " * @version 20151025\n",
    " * copied from stat/SingletonClient.java\n",
    " */\n",
    "package headfirst.singleton.classic;\n",
    "\n",
    "public class SingletonMain {\n",
    "\tpublic static void main(String[] args) {\n",
    "\t\tSingleton singleton1 = Singleton.getInstance();\n",
    "\t\tSingleton singleton2 = Singleton.getInstance();\n",
    "\t\tSingleton singleton3 = Singleton.getInstance();\n",
    "\t}\n",
    "}\n"
   ]
  },
  {
   "cell_type": "code",
   "execution_count": 9,
   "metadata": {
    "collapsed": false,
    "slideshow": {
     "slide_type": "slide"
    }
   },
   "outputs": [
    {
     "name": "stdout",
     "output_type": "stream",
     "text": [
      "numCalled: 0\r\n",
      "numCalled: 1\r\n",
      "numCalled: 2\r\n"
     ]
    }
   ],
   "source": [
    "!javac -d classes/ -sourcepath src/ src/headfirst/singleton/classic/*.java\n",
    "!java -cp classes/ headfirst.singleton.classic.SingletonMain"
   ]
  },
  {
   "cell_type": "markdown",
   "metadata": {
    "slideshow": {
     "slide_type": "slide"
    }
   },
   "source": [
    "### S.4.2 eager instantiation\n",
    "\n",
    "* Singleton객체 생성하는 시점을 생성자에서.\n",
    "* 6.1과 class diagram동일."
   ]
  },
  {
   "cell_type": "code",
   "execution_count": null,
   "metadata": {
    "collapsed": true,
    "slideshow": {
     "slide_type": "slide"
    }
   },
   "outputs": [],
   "source": [
    "# %load ./src/headfirst/singleton/stat/Singleton.java\n",
    "package headfirst.singleton.stat;\n",
    "\n",
    "public class Singleton {\n",
    "    private static Singleton uniqueInstance = new Singleton();\n",
    "    private static int numCalled=0;\n",
    " \n",
    "    private Singleton() {}\n",
    " \n",
    "    public static Singleton getInstance() {\n",
    "        System.out.println(\"num of called: \"+numCalled++);\n",
    "        return uniqueInstance;\n",
    "    }\n",
    "}\n"
   ]
  },
  {
   "cell_type": "code",
   "execution_count": null,
   "metadata": {
    "collapsed": true,
    "slideshow": {
     "slide_type": "slide"
    }
   },
   "outputs": [],
   "source": [
    "# %load ./src/headfirst/singleton/stat/SingletonClient.java\n",
    "package headfirst.singleton.stat;\n",
    "\n",
    "public class SingletonClient {\n",
    "    public static void main(String[] args) {\n",
    "            Singleton singleton1 = Singleton.getInstance();\n",
    "            Singleton singleton2 = Singleton.getInstance();\n",
    "    }\n",
    "}\n"
   ]
  },
  {
   "cell_type": "code",
   "execution_count": 12,
   "metadata": {
    "collapsed": false,
    "slideshow": {
     "slide_type": "slide"
    }
   },
   "outputs": [
    {
     "name": "stdout",
     "output_type": "stream",
     "text": [
      "num of called: 0\r\n",
      "num of called: 1\r\n"
     ]
    }
   ],
   "source": [
    "!javac -d classes/ -sourcepath src/ src/headfirst/singleton/stat/*.java\n",
    "!java -cp classes/ headfirst.singleton.stat.SingletonClient"
   ]
  },
  {
   "cell_type": "markdown",
   "metadata": {
    "slideshow": {
     "slide_type": "subslide"
    }
   },
   "source": [
    "### S.4.3 thread\n",
    "\n",
    "* 5.1과 동일하지만 thread safe\n",
    "* getInstance()함수를 synchronized로 구현한다.\n",
    "* 그러나, 한 Thread가 그 함수를 사용하고 떠나면, 다른 Thread가 그 함수를 사용할 수 있게 된다."
   ]
  },
  {
   "cell_type": "code",
   "execution_count": null,
   "metadata": {
    "collapsed": true,
    "slideshow": {
     "slide_type": "slide"
    }
   },
   "outputs": [],
   "source": [
    "# %load ./src/headfirst/singleton/threadsafe/Singleton.java\n",
    "package headfirst.singleton.threadsafe;\n",
    "\n",
    "public class Singleton {\n",
    "    private static Singleton uniqueInstance;\n",
    "    private static int numCalled=0;\n",
    "    private Singleton() {}\n",
    " \n",
    "    public static synchronized Singleton getInstance() {\n",
    "        if (uniqueInstance == null) {\n",
    "            uniqueInstance = new Singleton();\n",
    "        }\n",
    "        System.out.println(\"numCalled: \"+numCalled++);\n",
    "        return uniqueInstance;\n",
    "    }\n",
    "}\n"
   ]
  },
  {
   "cell_type": "code",
   "execution_count": null,
   "metadata": {
    "collapsed": true,
    "slideshow": {
     "slide_type": "slide"
    }
   },
   "outputs": [],
   "source": [
    "# %load ./src/headfirst/singleton/threadsafe/SingletonMain.java\n",
    "\n",
    "package headfirst.singleton.threadsafe;\n",
    "\n",
    "public class SingletonMain {\n",
    "    public static void main(String[] args) {\n",
    "        Singleton singleton1 = Singleton.getInstance();\n",
    "        Singleton singleton2 = Singleton.getInstance();\n",
    "        Singleton singleton3 = Singleton.getInstance();\n",
    "    }\n",
    "}\n"
   ]
  },
  {
   "cell_type": "code",
   "execution_count": 15,
   "metadata": {
    "collapsed": false,
    "slideshow": {
     "slide_type": "slide"
    }
   },
   "outputs": [
    {
     "name": "stdout",
     "output_type": "stream",
     "text": [
      "numCalled: 0\r\n",
      "numCalled: 1\r\n",
      "numCalled: 2\r\n"
     ]
    }
   ],
   "source": [
    "!javac -d classes/ -sourcepath src/ src/headfirst/singleton/threadsafe/*.java\n",
    "!java -cp classes/ headfirst.singleton.threadsafe.SingletonMain"
   ]
  },
  {
   "cell_type": "markdown",
   "metadata": {
    "slideshow": {
     "slide_type": "slide"
    }
   },
   "source": [
    "### S.4.4 DCL\n",
    "\n",
    "* getInstance()함수만을 synchroized를 하는 문제를 보완한다.\n",
    "* Singleton 클래스 자체를 synchorized로 구현한다.\n",
    "    * 클래스가 synchronized이므로, volatile로 만든다.\n",
    "    * volatile은 Thread가 각자 사용하는 CPU cache의 값이 서로 다를 수 있는 차이를 방지한다.\n",
    "    * Thread 1이 자신의 CPU cache 값을 변경하면, 곧 main memory 값을 변경하게 된다.\n",
    "    * 즉 CPU cache memory와 main memory의 값을 동일하게 만든다.\n",
    "\n"
   ]
  },
  {
   "cell_type": "code",
   "execution_count": null,
   "metadata": {
    "collapsed": true,
    "slideshow": {
     "slide_type": "slide"
    }
   },
   "outputs": [],
   "source": [
    "# %load ./src/headfirst/singleton/dcl/Singleton.java\n",
    "package headfirst.singleton.dcl;\n",
    "\n",
    "//\n",
    "// Danger!  This implementation of Singleton not\n",
    "// guaranteed to work prior to Java 5\n",
    "//\n",
    "\n",
    "public class Singleton {\n",
    "    private volatile static Singleton uniqueInstance;\n",
    "    private static int numCalled=0;\n",
    " \n",
    "    private Singleton() {}\n",
    "\n",
    "    public static Singleton getInstance() {\n",
    "        if (uniqueInstance == null) {\n",
    "            synchronized (Singleton.class) {\n",
    "                if (uniqueInstance == null) {\n",
    "                    uniqueInstance = new Singleton();\n",
    "                }\n",
    "            }\n",
    "        }\n",
    "        System.out.println(\"numCalled: \"+numCalled++);\n",
    "        return uniqueInstance;\n",
    "    }\n",
    "}\n"
   ]
  },
  {
   "cell_type": "code",
   "execution_count": null,
   "metadata": {
    "collapsed": false,
    "slideshow": {
     "slide_type": "slide"
    }
   },
   "outputs": [],
   "source": [
    "# %load ./src/headfirst/singleton/dcl/SingletonClient.java\n",
    "package headfirst.singleton.dcl;\n",
    "\n",
    "public class SingletonClient {\n",
    "    public static void main(String[] args) {\n",
    "            Singleton singleton1 = Singleton.getInstance();\n",
    "            Singleton singleton2 = Singleton.getInstance();\n",
    "    }\n",
    "}\n"
   ]
  },
  {
   "cell_type": "code",
   "execution_count": 19,
   "metadata": {
    "collapsed": false,
    "slideshow": {
     "slide_type": "slide"
    }
   },
   "outputs": [
    {
     "name": "stdout",
     "output_type": "stream",
     "text": [
      "numCalled: 0\r\n",
      "numCalled: 1\r\n"
     ]
    }
   ],
   "source": [
    "!javac -d classes/ -sourcepath src/ src/headfirst/singleton/dcl/*.java\n",
    "!java -cp classes/ headfirst.singleton.dcl.SingletonClient"
   ]
  },
  {
   "cell_type": "markdown",
   "metadata": {
    "slideshow": {
     "slide_type": "slide"
    }
   },
   "source": [
    "### S.5.5 subclass\n",
    "\n",
    "* 상속인 경우의 singleton"
   ]
  },
  {
   "cell_type": "code",
   "execution_count": null,
   "metadata": {
    "collapsed": true,
    "slideshow": {
     "slide_type": "slide"
    }
   },
   "outputs": [],
   "source": [
    "# %load ./src/headfirst/singleton/subclass/Singleton.java\n",
    "package headfirst.singleton.subclass;\n",
    "\n",
    "public class Singleton {\n",
    "\tprotected static Singleton uniqueInstance;\n",
    " \n",
    "\t// other useful instance variables here\n",
    " \n",
    "\tprotected Singleton() {}\n",
    " \n",
    "\tpublic static synchronized Singleton getInstance() {\n",
    "\t\tif (uniqueInstance == null) {\n",
    "\t\t\tuniqueInstance = new Singleton();\n",
    "\t\t}\n",
    "\t\treturn uniqueInstance;\n",
    "\t}\n",
    " \n",
    "\t// other useful methods here\n",
    "}\n"
   ]
  },
  {
   "cell_type": "code",
   "execution_count": null,
   "metadata": {
    "collapsed": true,
    "slideshow": {
     "slide_type": "slide"
    }
   },
   "outputs": [],
   "source": [
    "# %load ./src/headfirst/singleton/subclass/CoolerSingleton.java\n",
    "package headfirst.singleton.subclass;\n",
    "\n",
    "public class CoolerSingleton extends Singleton {\n",
    "\t// useful instance variables here\n",
    "\tprotected static Singleton uniqueInstance;\n",
    " \n",
    "\tprivate CoolerSingleton() {\n",
    "\t\tsuper();\n",
    "\t}\n",
    " \n",
    "\t// useful methods here\n",
    "}\n"
   ]
  },
  {
   "cell_type": "code",
   "execution_count": null,
   "metadata": {
    "collapsed": true,
    "slideshow": {
     "slide_type": "slide"
    }
   },
   "outputs": [],
   "source": [
    "# %load ./src/headfirst/singleton/subclass/HotterSingleton.java\n",
    "package headfirst.singleton.subclass;\n",
    "\n",
    "public class HotterSingleton extends Singleton {\n",
    "\t// useful instance variables here\n",
    " \n",
    "\tprivate HotterSingleton() {\n",
    "\t\tsuper();\n",
    "\t}\n",
    " \n",
    "\t// useful methods here\n",
    "}\n"
   ]
  },
  {
   "cell_type": "code",
   "execution_count": null,
   "metadata": {
    "collapsed": true,
    "slideshow": {
     "slide_type": "slide"
    }
   },
   "outputs": [],
   "source": [
    "# %load ./src/headfirst/singleton/subclass/SingletonTestDrive.java\n",
    "package headfirst.singleton.subclass;\n",
    "\n",
    "public class SingletonTestDrive {\n",
    "\tpublic static void main(String[] args) {\n",
    "\t\tSingleton foo = CoolerSingleton.getInstance();\n",
    "\t\tSingleton bar = HotterSingleton.getInstance();\n",
    "\t\tSystem.out.println(foo);\n",
    "\t\tSystem.out.println(bar);\n",
    " \t}\n",
    "}\n"
   ]
  },
  {
   "cell_type": "code",
   "execution_count": 24,
   "metadata": {
    "collapsed": false,
    "slideshow": {
     "slide_type": "slide"
    }
   },
   "outputs": [
    {
     "name": "stdout",
     "output_type": "stream",
     "text": [
      "headfirst.singleton.subclass.Singleton@5984cf08\r\n",
      "headfirst.singleton.subclass.Singleton@5984cf08\r\n"
     ]
    }
   ],
   "source": [
    "!javac -d classes/ -sourcepath src/ src/headfirst/singleton/subclass/*.java\n",
    "!java -cp classes/ headfirst.singleton.subclass.SingletonTestDrive"
   ]
  }
 ],
 "metadata": {
  "celltoolbar": "Slideshow",
  "kernelspec": {
   "display_name": "Python 2",
   "language": "python",
   "name": "python2"
  },
  "language_info": {
   "codemirror_mode": {
    "name": "ipython",
    "version": 2
   },
   "file_extension": ".py",
   "mimetype": "text/x-python",
   "name": "python",
   "nbconvert_exporter": "python",
   "pygments_lexer": "ipython2",
   "version": "2.7.12"
  }
 },
 "nbformat": 4,
 "nbformat_minor": 0
}
