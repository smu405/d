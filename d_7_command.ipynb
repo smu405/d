{
 "cells": [
  {
   "cell_type": "markdown",
   "metadata": {
    "slideshow": {
     "slide_type": "slide"
    }
   },
   "source": [
    "# Command 패턴\n",
    "\n",
    "## C.1 소개\n",
    "\n",
    "* Command 패턴은 Behavioral Design Pattern\n",
    "* 사용할 객체를 은익한다.\n",
    "    * \"encapsulates a request as an object,\n",
    "    thereby letting you parameterize other objects with different requests, queue or log requests, and support undoable operations\""
   ]
  },
  {
   "cell_type": "markdown",
   "metadata": {
    "slideshow": {
     "slide_type": "subslide"
    }
   },
   "source": [
    "* 전등을 켜는 예:\n",
    "    * light.up() -> command.execute() 사용하는 함수 통일. 전등객체를 직접 호출해서 켜는 것이 아니라, 세부내용을 감추고 사용할 객체 없이 단순히 execute()함수만 호출한다. \n",
    "    * 사용자는 light객체가 은익되어 있어, execute() 함수호출. execute()함수를 호출할 때 사용할 객체를 밝히지 않는다. 따라서 전등객체를 사전에 연결해 놓아야 한다."
   ]
  },
  {
   "cell_type": "markdown",
   "metadata": {
    "slideshow": {
     "slide_type": "subslide"
    }
   },
   "source": [
    "* 디자인패턴 요소\n",
    "\n",
    "요소 | 설명\n",
    "---|---\n",
    "name | Command\n",
    "problem | 사용객체의 API가 서로 다름.\n",
    "solution | 실행과 요청을 분리.\n",
    "consequence | (작은) 클래스가 많아지지만, 객체사용에 필요한 복잡성을 제거하고 감춤 (함수 명 동일해짐)"
   ]
  },
  {
   "cell_type": "markdown",
   "metadata": {
    "slideshow": {
     "slide_type": "subslide"
    }
   },
   "source": [
    "* 프로그래밍 예제\n",
    "    * HFDP Diner, 'Remote Control' (HFDP Ch6)\n",
    "    * GUI buttons and menu items \n",
    "    * Macro recording - lambda\n",
    "    * 과제\n",
    "        * case extension\n",
    "            * Remote Controller - DVD (undo)\n",
    "        * new case -  Macro"
   ]
  },
  {
   "cell_type": "markdown",
   "metadata": {
    "slideshow": {
     "slide_type": "slide"
    }
   },
   "source": [
    "## S.2 문제\n",
    "\n",
    "* 사용하려는 객체가 많고, API가 서로 다른 경우.\n",
    "    * 차고문 up()\n",
    "    * 전등 on()\n",
    "    * TV pressOn()...\n",
    "* Remote Control의 경우, 차고, 전등, TV, Stereo, CeilingFan... 사용해야 하는 객체가 많다."
   ]
  },
  {
   "cell_type": "code",
   "execution_count": 3,
   "metadata": {
    "collapsed": true,
    "slideshow": {
     "slide_type": "subslide"
    }
   },
   "outputs": [],
   "source": [
    "import iplantuml"
   ]
  },
  {
   "cell_type": "code",
   "execution_count": 4,
   "metadata": {
    "collapsed": false,
    "slideshow": {
     "slide_type": "-"
    }
   },
   "outputs": [
    {
     "data": {
      "image/svg+xml": [
       "<svg height=\"190px\" style=\"width:451px;height:190px;\" version=\"1.1\" viewBox=\"0 0 451 190\" width=\"451px\" xmlns=\"http://www.w3.org/2000/svg\" xmlns:xlink=\"http://www.w3.org/1999/xlink\"><defs><filter height=\"300%\" id=\"f1\" width=\"300%\" x=\"-1\" y=\"-1\"><feGaussianBlur result=\"blurOut\" stdDeviation=\"2.0\"/><feColorMatrix in=\"blurOut\" result=\"blurOut2\" type=\"matrix\" values=\"0 0 0 0 0 0 0 0 0 0 0 0 0 0 0 0 0 0 .4 0\"/><feOffset dx=\"4.0\" dy=\"4.0\" in=\"blurOut2\" result=\"blurOut3\"/><feBlend in=\"SourceGraphic\" in2=\"blurOut3\" mode=\"normal\"/></filter></defs><g><rect fill=\"#FEFECE\" filter=\"url(#f1)\" height=\"48\" style=\"stroke: #A80036; stroke-width: 1.5;\" width=\"67\" x=\"6\" y=\"8\"/><ellipse cx=\"21\" cy=\"24\" fill=\"#ADD1B2\" rx=\"11\" ry=\"11\" style=\"stroke: #A80036; stroke-width: 1.0;\"/><path d=\"M23.9688,29.6406 Q23.3906,29.9375 22.75,30.0859 Q22.1094,30.2344 21.4063,30.2344 Q18.9063,30.2344 17.5859,28.5859 Q16.2656,26.9375 16.2656,23.8125 Q16.2656,20.6875 17.5859,19.0313 Q18.9063,17.375 21.4063,17.375 Q22.1094,17.375 22.7578,17.5313 Q23.4063,17.6875 23.9688,17.9844 L23.9688,20.7031 Q23.3438,20.125 22.75,19.8516 Q22.1563,19.5781 21.5313,19.5781 Q20.1875,19.5781 19.5,20.6484 Q18.8125,21.7188 18.8125,23.8125 Q18.8125,25.9063 19.5,26.9766 Q20.1875,28.0469 21.5313,28.0469 Q22.1563,28.0469 22.75,27.7734 Q23.3438,27.5 23.9688,26.9219 L23.9688,29.6406 Z \"/><text fill=\"#000000\" font-family=\"sans-serif\" font-size=\"12\" lengthAdjust=\"spacingAndGlyphs\" textLength=\"35\" x=\"35\" y=\"28.1543\">Client</text><line style=\"stroke: #A80036; stroke-width: 1.5;\" x1=\"7\" x2=\"72\" y1=\"40\" y2=\"40\"/><line style=\"stroke: #A80036; stroke-width: 1.5;\" x1=\"7\" x2=\"72\" y1=\"48\" y2=\"48\"/><rect fill=\"#FEFECE\" filter=\"url(#f1)\" height=\"48\" style=\"stroke: #A80036; stroke-width: 1.5;\" width=\"47\" x=\"286\" y=\"8\"/><ellipse cx=\"301\" cy=\"24\" fill=\"#ADD1B2\" rx=\"11\" ry=\"11\" style=\"stroke: #A80036; stroke-width: 1.0;\"/><path d=\"M303.9688,29.6406 Q303.3906,29.9375 302.75,30.0859 Q302.1094,30.2344 301.4063,30.2344 Q298.9063,30.2344 297.5859,28.5859 Q296.2656,26.9375 296.2656,23.8125 Q296.2656,20.6875 297.5859,19.0313 Q298.9063,17.375 301.4063,17.375 Q302.1094,17.375 302.7578,17.5313 Q303.4063,17.6875 303.9688,17.9844 L303.9688,20.7031 Q303.3438,20.125 302.75,19.8516 Q302.1563,19.5781 301.5313,19.5781 Q300.1875,19.5781 299.5,20.6484 Q298.8125,21.7188 298.8125,23.8125 Q298.8125,25.9063 299.5,26.9766 Q300.1875,28.0469 301.5313,28.0469 Q302.1563,28.0469 302.75,27.7734 Q303.3438,27.5 303.9688,26.9219 L303.9688,29.6406 Z \"/><text fill=\"#000000\" font-family=\"sans-serif\" font-size=\"12\" lengthAdjust=\"spacingAndGlyphs\" textLength=\"15\" x=\"315\" y=\"28.1543\">TV</text><line style=\"stroke: #A80036; stroke-width: 1.5;\" x1=\"287\" x2=\"332\" y1=\"40\" y2=\"40\"/><line style=\"stroke: #A80036; stroke-width: 1.5;\" x1=\"287\" x2=\"332\" y1=\"48\" y2=\"48\"/><rect fill=\"#FEFECE\" filter=\"url(#f1)\" height=\"48\" style=\"stroke: #A80036; stroke-width: 1.5;\" width=\"74\" x=\"368.5\" y=\"8\"/><ellipse cx=\"383.5\" cy=\"24\" fill=\"#ADD1B2\" rx=\"11\" ry=\"11\" style=\"stroke: #A80036; stroke-width: 1.0;\"/><path d=\"M386.4688,29.6406 Q385.8906,29.9375 385.25,30.0859 Q384.6094,30.2344 383.9063,30.2344 Q381.4063,30.2344 380.0859,28.5859 Q378.7656,26.9375 378.7656,23.8125 Q378.7656,20.6875 380.0859,19.0313 Q381.4063,17.375 383.9063,17.375 Q384.6094,17.375 385.2578,17.5313 Q385.9063,17.6875 386.4688,17.9844 L386.4688,20.7031 Q385.8438,20.125 385.25,19.8516 Q384.6563,19.5781 384.0313,19.5781 Q382.6875,19.5781 382,20.6484 Q381.3125,21.7188 381.3125,23.8125 Q381.3125,25.9063 382,26.9766 Q382.6875,28.0469 384.0313,28.0469 Q384.6563,28.0469 385.25,27.7734 Q385.8438,27.5 386.4688,26.9219 L386.4688,29.6406 Z \"/><text fill=\"#000000\" font-family=\"sans-serif\" font-size=\"12\" lengthAdjust=\"spacingAndGlyphs\" textLength=\"42\" x=\"397.5\" y=\"28.1543\">Stereo</text><line style=\"stroke: #A80036; stroke-width: 1.5;\" x1=\"369.5\" x2=\"441.5\" y1=\"40\" y2=\"40\"/><line style=\"stroke: #A80036; stroke-width: 1.5;\" x1=\"369.5\" x2=\"441.5\" y1=\"48\" y2=\"48\"/><rect fill=\"#FEFECE\" filter=\"url(#f1)\" height=\"48\" style=\"stroke: #A80036; stroke-width: 1.5;\" width=\"96\" x=\"261.5\" y=\"133\"/><ellipse cx=\"276.5\" cy=\"149\" fill=\"#ADD1B2\" rx=\"11\" ry=\"11\" style=\"stroke: #A80036; stroke-width: 1.0;\"/><path d=\"M279.4688,154.6406 Q278.8906,154.9375 278.25,155.0859 Q277.6094,155.2344 276.9063,155.2344 Q274.4063,155.2344 273.0859,153.5859 Q271.7656,151.9375 271.7656,148.8125 Q271.7656,145.6875 273.0859,144.0313 Q274.4063,142.375 276.9063,142.375 Q277.6094,142.375 278.2578,142.5313 Q278.9063,142.6875 279.4688,142.9844 L279.4688,145.7031 Q278.8438,145.125 278.25,144.8516 Q277.6563,144.5781 277.0313,144.5781 Q275.6875,144.5781 275,145.6484 Q274.3125,146.7188 274.3125,148.8125 Q274.3125,150.9063 275,151.9766 Q275.6875,153.0469 277.0313,153.0469 Q277.6563,153.0469 278.25,152.7734 Q278.8438,152.5 279.4688,151.9219 L279.4688,154.6406 Z \"/><text fill=\"#000000\" font-family=\"sans-serif\" font-size=\"12\" lengthAdjust=\"spacingAndGlyphs\" textLength=\"64\" x=\"290.5\" y=\"153.1543\">CeilingFan</text><line style=\"stroke: #A80036; stroke-width: 1.5;\" x1=\"262.5\" x2=\"356.5\" y1=\"165\" y2=\"165\"/><line style=\"stroke: #A80036; stroke-width: 1.5;\" x1=\"262.5\" x2=\"356.5\" y1=\"173\" y2=\"173\"/><rect fill=\"#FEFECE\" filter=\"url(#f1)\" height=\"48\" style=\"stroke: #A80036; stroke-width: 1.5;\" width=\"108\" x=\"142.5\" y=\"8\"/><ellipse cx=\"157.5\" cy=\"24\" fill=\"#ADD1B2\" rx=\"11\" ry=\"11\" style=\"stroke: #A80036; stroke-width: 1.0;\"/><path d=\"M160.4688,29.6406 Q159.8906,29.9375 159.25,30.0859 Q158.6094,30.2344 157.9063,30.2344 Q155.4063,30.2344 154.0859,28.5859 Q152.7656,26.9375 152.7656,23.8125 Q152.7656,20.6875 154.0859,19.0313 Q155.4063,17.375 157.9063,17.375 Q158.6094,17.375 159.2578,17.5313 Q159.9063,17.6875 160.4688,17.9844 L160.4688,20.7031 Q159.8438,20.125 159.25,19.8516 Q158.6563,19.5781 158.0313,19.5781 Q156.6875,19.5781 156,20.6484 Q155.3125,21.7188 155.3125,23.8125 Q155.3125,25.9063 156,26.9766 Q156.6875,28.0469 158.0313,28.0469 Q158.6563,28.0469 159.25,27.7734 Q159.8438,27.5 160.4688,26.9219 L160.4688,29.6406 Z \"/><text fill=\"#000000\" font-family=\"sans-serif\" font-size=\"12\" lengthAdjust=\"spacingAndGlyphs\" textLength=\"76\" x=\"171.5\" y=\"28.1543\">GarageDoor</text><line style=\"stroke: #A80036; stroke-width: 1.5;\" x1=\"143.5\" x2=\"249.5\" y1=\"40\" y2=\"40\"/><line style=\"stroke: #A80036; stroke-width: 1.5;\" x1=\"143.5\" x2=\"249.5\" y1=\"48\" y2=\"48\"/><rect fill=\"#FEFECE\" filter=\"url(#f1)\" height=\"48\" style=\"stroke: #A80036; stroke-width: 1.5;\" width=\"62\" x=\"8.5\" y=\"133\"/><ellipse cx=\"23.5\" cy=\"149\" fill=\"#ADD1B2\" rx=\"11\" ry=\"11\" style=\"stroke: #A80036; stroke-width: 1.0;\"/><path d=\"M26.4688,154.6406 Q25.8906,154.9375 25.25,155.0859 Q24.6094,155.2344 23.9063,155.2344 Q21.4063,155.2344 20.0859,153.5859 Q18.7656,151.9375 18.7656,148.8125 Q18.7656,145.6875 20.0859,144.0313 Q21.4063,142.375 23.9063,142.375 Q24.6094,142.375 25.2578,142.5313 Q25.9063,142.6875 26.4688,142.9844 L26.4688,145.7031 Q25.8438,145.125 25.25,144.8516 Q24.6563,144.5781 24.0313,144.5781 Q22.6875,144.5781 22,145.6484 Q21.3125,146.7188 21.3125,148.8125 Q21.3125,150.9063 22,151.9766 Q22.6875,153.0469 24.0313,153.0469 Q24.6563,153.0469 25.25,152.7734 Q25.8438,152.5 26.4688,151.9219 L26.4688,154.6406 Z \"/><text fill=\"#000000\" font-family=\"sans-serif\" font-size=\"12\" lengthAdjust=\"spacingAndGlyphs\" textLength=\"30\" x=\"37.5\" y=\"153.1543\">Light</text><line style=\"stroke: #A80036; stroke-width: 1.5;\" x1=\"9.5\" x2=\"69.5\" y1=\"165\" y2=\"165\"/><line style=\"stroke: #A80036; stroke-width: 1.5;\" x1=\"9.5\" x2=\"69.5\" y1=\"173\" y2=\"173\"/><path d=\"M73.1804,32 C91.8652,32 115.645,32 137.326,32 \" fill=\"none\" style=\"stroke: #A80036; stroke-width: 1.0;\"/><polygon fill=\"#A80036\" points=\"142.497,32,133.497,28,137.497,32,133.497,36,142.497,32\" style=\"stroke: #A80036; stroke-width: 1.0;\"/><text fill=\"#000000\" font-family=\"sans-serif\" font-size=\"13\" lengthAdjust=\"spacingAndGlyphs\" textLength=\"26\" x=\"94.75\" y=\"25.0669\">up()</text><path d=\"M39.5,56.135 C39.5,76.494 39.5,106.1907 39.5,127.908 \" fill=\"none\" style=\"stroke: #A80036; stroke-width: 1.0;\"/><polygon fill=\"#A80036\" points=\"39.5,132.9684,43.5,123.9684,39.5,127.9684,35.5,123.9684,39.5,132.9684\" style=\"stroke: #A80036; stroke-width: 1.0;\"/><text fill=\"#000000\" font-family=\"sans-serif\" font-size=\"13\" lengthAdjust=\"spacingAndGlyphs\" textLength=\"26\" x=\"40.5\" y=\"99.0669\">on()</text></g></svg>"
      ],
      "text/plain": [
       "<IPython.core.display.SVG object>"
      ]
     },
     "execution_count": 4,
     "metadata": {},
     "output_type": "execute_result"
    }
   ],
   "source": [
    "%%plantuml\n",
    "@startuml\n",
    "class Client\n",
    "class TV\n",
    "class Stereo\n",
    "class CeilingFan\n",
    "Client -right-> GarageDoor:up()\n",
    "Client -down-> Light:on()\n",
    "@enduml"
   ]
  },
  {
   "cell_type": "markdown",
   "metadata": {
    "slideshow": {
     "slide_type": "slide"
    }
   },
   "source": [
    "## S.3 설계\n",
    "\n",
    "* decoupling - 주문과 실행을 분리\n",
    "\n",
    "Command Pattern | 설명 | Diner | Remote\n",
    "---|---|---|---\n",
    "Client | Command객체 생성 | 고객 | 리모콘 버튼의 기능을 인지하고, 버튼 누름.\n",
    "Command | 어떤 Receiver를 실행할 지 연결 | 웨이터 | 버튼에 실제사용객체를 연결해 놓음.\n",
    "Invoker | 주문을 받아서, 실행하기 위해 Command인터페이스 연결 | 주문서 | 리모콘. 버튼을 누르면 기능을 실행함.\n",
    "Receiver | 실제 명령을 수행 | 요리사 | TV, 전등과 같은 실제객체."
   ]
  },
  {
   "cell_type": "markdown",
   "metadata": {
    "slideshow": {
     "slide_type": "subslide"
    }
   },
   "source": [
    "* 역할\n",
    "    * Command\n",
    "        * knows about receiver and invokes a method of the receiver.\n",
    "        * Values for parameters of the receiver method are stored in the command\n",
    "        * 예: Command, ConcreteCommand\n",
    "    * Receiver\n",
    "        * 실제 명령 수행\n",
    "        * 예: Light, GarageDoor\n",
    "    * Invoker\n",
    "        * 주문을 받아서, 주문을 실행하기 위해 Command인터페이스 연결\n",
    "        * Command인터페이스만 앎. Command가 실제 어떻게 수행되는지 모름\n",
    "        * 예: RemoteControl\n",
    "    * Client\n",
    "        * 무엇을 주문할지 결정하고, 주문Command을 Invoker에게 넘김\n",
    "        * 예: main함수"
   ]
  },
  {
   "cell_type": "code",
   "execution_count": 7,
   "metadata": {
    "collapsed": false,
    "slideshow": {
     "slide_type": "slide"
    }
   },
   "outputs": [
    {
     "data": {
      "image/svg+xml": [
       "<svg height=\"228px\" style=\"width:562px;height:228px;\" version=\"1.1\" viewBox=\"0 0 562 228\" width=\"562px\" xmlns=\"http://www.w3.org/2000/svg\" xmlns:xlink=\"http://www.w3.org/1999/xlink\"><defs><filter height=\"300%\" id=\"f1\" width=\"300%\" x=\"-1\" y=\"-1\"><feGaussianBlur result=\"blurOut\" stdDeviation=\"2.0\"/><feColorMatrix in=\"blurOut\" result=\"blurOut2\" type=\"matrix\" values=\"0 0 0 0 0 0 0 0 0 0 0 0 0 0 0 0 0 0 .4 0\"/><feOffset dx=\"4.0\" dy=\"4.0\" in=\"blurOut2\" result=\"blurOut3\"/><feBlend in=\"SourceGraphic\" in2=\"blurOut3\" mode=\"normal\"/></filter></defs><g><rect fill=\"#FEFECE\" filter=\"url(#f1)\" height=\"48\" style=\"stroke: #A80036; stroke-width: 1.5;\" width=\"67\" x=\"15\" y=\"21\"/><ellipse cx=\"30\" cy=\"37\" fill=\"#ADD1B2\" rx=\"11\" ry=\"11\" style=\"stroke: #A80036; stroke-width: 1.0;\"/><path d=\"M32.9688,42.6406 Q32.3906,42.9375 31.75,43.0859 Q31.1094,43.2344 30.4063,43.2344 Q27.9063,43.2344 26.5859,41.5859 Q25.2656,39.9375 25.2656,36.8125 Q25.2656,33.6875 26.5859,32.0313 Q27.9063,30.375 30.4063,30.375 Q31.1094,30.375 31.7578,30.5313 Q32.4063,30.6875 32.9688,30.9844 L32.9688,33.7031 Q32.3438,33.125 31.75,32.8516 Q31.1563,32.5781 30.5313,32.5781 Q29.1875,32.5781 28.5,33.6484 Q27.8125,34.7188 27.8125,36.8125 Q27.8125,38.9063 28.5,39.9766 Q29.1875,41.0469 30.5313,41.0469 Q31.1563,41.0469 31.75,40.7734 Q32.3438,40.5 32.9688,39.9219 L32.9688,42.6406 Z \"/><text fill=\"#000000\" font-family=\"sans-serif\" font-size=\"12\" lengthAdjust=\"spacingAndGlyphs\" textLength=\"35\" x=\"44\" y=\"41.1543\">Client</text><line style=\"stroke: #A80036; stroke-width: 1.5;\" x1=\"16\" x2=\"81\" y1=\"53\" y2=\"53\"/><line style=\"stroke: #A80036; stroke-width: 1.5;\" x1=\"16\" x2=\"81\" y1=\"61\" y2=\"61\"/><rect fill=\"#FEFECE\" filter=\"url(#f1)\" height=\"60.8047\" style=\"stroke: #A80036; stroke-width: 1.5;\" width=\"96\" x=\"243.5\" y=\"14.5\"/><ellipse cx=\"267.05\" cy=\"30.5\" fill=\"#ADD1B2\" rx=\"11\" ry=\"11\" style=\"stroke: #A80036; stroke-width: 1.0;\"/><path d=\"M270.0188,36.1406 Q269.4406,36.4375 268.8,36.5859 Q268.1594,36.7344 267.4563,36.7344 Q264.9563,36.7344 263.6359,35.0859 Q262.3156,33.4375 262.3156,30.3125 Q262.3156,27.1875 263.6359,25.5313 Q264.9563,23.875 267.4563,23.875 Q268.1594,23.875 268.8078,24.0313 Q269.4563,24.1875 270.0188,24.4844 L270.0188,27.2031 Q269.3938,26.625 268.8,26.3516 Q268.2063,26.0781 267.5813,26.0781 Q266.2375,26.0781 265.55,27.1484 Q264.8625,28.2188 264.8625,30.3125 Q264.8625,32.4063 265.55,33.4766 Q266.2375,34.5469 267.5813,34.5469 Q268.2063,34.5469 268.8,34.2734 Q269.3938,34 270.0188,33.4219 L270.0188,36.1406 Z \"/><text fill=\"#000000\" font-family=\"sans-serif\" font-size=\"12\" lengthAdjust=\"spacingAndGlyphs\" textLength=\"45\" x=\"282.95\" y=\"34.6543\">Invoker</text><line style=\"stroke: #A80036; stroke-width: 1.5;\" x1=\"244.5\" x2=\"338.5\" y1=\"46.5\" y2=\"46.5\"/><line style=\"stroke: #A80036; stroke-width: 1.5;\" x1=\"244.5\" x2=\"338.5\" y1=\"54.5\" y2=\"54.5\"/><text fill=\"#000000\" font-family=\"sans-serif\" font-size=\"11\" lengthAdjust=\"spacingAndGlyphs\" textLength=\"84\" x=\"249.5\" y=\"68.7104\">setCommand()</text><rect fill=\"#FEFECE\" filter=\"url(#f1)\" height=\"73.6094\" style=\"stroke: #A80036; stroke-width: 1.5;\" width=\"94\" x=\"459.5\" y=\"8\"/><ellipse cx=\"474.5\" cy=\"24\" fill=\"#B4A7E5\" rx=\"11\" ry=\"11\" style=\"stroke: #A80036; stroke-width: 1.0;\"/><path d=\"M470.4219,19.7656 L470.4219,17.6094 L477.8125,17.6094 L477.8125,19.7656 L475.3438,19.7656 L475.3438,27.8438 L477.8125,27.8438 L477.8125,30 L470.4219,30 L470.4219,27.8438 L472.8906,27.8438 L472.8906,19.7656 L470.4219,19.7656 Z \"/><text fill=\"#000000\" font-family=\"sans-serif\" font-size=\"12\" font-style=\"italic\" lengthAdjust=\"spacingAndGlyphs\" textLength=\"62\" x=\"488.5\" y=\"28.1543\">Command</text><line style=\"stroke: #A80036; stroke-width: 1.5;\" x1=\"460.5\" x2=\"552.5\" y1=\"40\" y2=\"40\"/><line style=\"stroke: #A80036; stroke-width: 1.5;\" x1=\"460.5\" x2=\"552.5\" y1=\"48\" y2=\"48\"/><text fill=\"#000000\" font-family=\"sans-serif\" font-size=\"11\" lengthAdjust=\"spacingAndGlyphs\" textLength=\"52\" x=\"465.5\" y=\"62.2104\">execute()</text><text fill=\"#000000\" font-family=\"sans-serif\" font-size=\"11\" lengthAdjust=\"spacingAndGlyphs\" textLength=\"36\" x=\"465.5\" y=\"75.0151\">undo()</text><rect fill=\"#FEFECE\" filter=\"url(#f1)\" height=\"60.8047\" style=\"stroke: #A80036; stroke-width: 1.5;\" width=\"85\" x=\"6\" y=\"159\"/><ellipse cx=\"21\" cy=\"175\" fill=\"#ADD1B2\" rx=\"11\" ry=\"11\" style=\"stroke: #A80036; stroke-width: 1.0;\"/><path d=\"M23.9688,180.6406 Q23.3906,180.9375 22.75,181.0859 Q22.1094,181.2344 21.4063,181.2344 Q18.9063,181.2344 17.5859,179.5859 Q16.2656,177.9375 16.2656,174.8125 Q16.2656,171.6875 17.5859,170.0313 Q18.9063,168.375 21.4063,168.375 Q22.1094,168.375 22.7578,168.5313 Q23.4063,168.6875 23.9688,168.9844 L23.9688,171.7031 Q23.3438,171.125 22.75,170.8516 Q22.1563,170.5781 21.5313,170.5781 Q20.1875,170.5781 19.5,171.6484 Q18.8125,172.7188 18.8125,174.8125 Q18.8125,176.9063 19.5,177.9766 Q20.1875,179.0469 21.5313,179.0469 Q22.1563,179.0469 22.75,178.7734 Q23.3438,178.5 23.9688,177.9219 L23.9688,180.6406 Z \"/><text fill=\"#000000\" font-family=\"sans-serif\" font-size=\"12\" lengthAdjust=\"spacingAndGlyphs\" textLength=\"53\" x=\"35\" y=\"179.1543\">Receiver</text><line style=\"stroke: #A80036; stroke-width: 1.5;\" x1=\"7\" x2=\"90\" y1=\"191\" y2=\"191\"/><line style=\"stroke: #A80036; stroke-width: 1.5;\" x1=\"7\" x2=\"90\" y1=\"199\" y2=\"199\"/><text fill=\"#000000\" font-family=\"sans-serif\" font-size=\"11\" lengthAdjust=\"spacingAndGlyphs\" textLength=\"42\" x=\"12\" y=\"213.2104\">action()</text><rect fill=\"#FEFECE\" filter=\"url(#f1)\" height=\"48\" style=\"stroke: #A80036; stroke-width: 1.5;\" width=\"151\" x=\"161\" y=\"165.5\"/><ellipse cx=\"176\" cy=\"181.5\" fill=\"#ADD1B2\" rx=\"11\" ry=\"11\" style=\"stroke: #A80036; stroke-width: 1.0;\"/><path d=\"M178.9688,187.1406 Q178.3906,187.4375 177.75,187.5859 Q177.1094,187.7344 176.4063,187.7344 Q173.9063,187.7344 172.5859,186.0859 Q171.2656,184.4375 171.2656,181.3125 Q171.2656,178.1875 172.5859,176.5313 Q173.9063,174.875 176.4063,174.875 Q177.1094,174.875 177.7578,175.0313 Q178.4063,175.1875 178.9688,175.4844 L178.9688,178.2031 Q178.3438,177.625 177.75,177.3516 Q177.1563,177.0781 176.5313,177.0781 Q175.1875,177.0781 174.5,178.1484 Q173.8125,179.2188 173.8125,181.3125 Q173.8125,183.4063 174.5,184.4766 Q175.1875,185.5469 176.5313,185.5469 Q177.1563,185.5469 177.75,185.2734 Q178.3438,185 178.9688,184.4219 L178.9688,187.1406 Z \"/><text fill=\"#000000\" font-family=\"sans-serif\" font-size=\"12\" lengthAdjust=\"spacingAndGlyphs\" textLength=\"119\" x=\"190\" y=\"185.6543\">ConcreteCommand</text><line style=\"stroke: #A80036; stroke-width: 1.5;\" x1=\"162\" x2=\"311\" y1=\"197.5\" y2=\"197.5\"/><line style=\"stroke: #A80036; stroke-width: 1.5;\" x1=\"162\" x2=\"311\" y1=\"205.5\" y2=\"205.5\"/><path d=\"M82.1066,59.576 C88.6707,61.827 95.5866,63.8 102.25,65 C128.714,69.764 196.634,68.82 223.25,65 C228.2,64.29 233.292,63.304 238.357,62.147 \" fill=\"none\" style=\"stroke: #A80036; stroke-width: 1.0;\"/><polygon fill=\"#A80036\" points=\"243.407,60.937,233.723,59.1425,238.5444,62.1012,235.5857,66.9226,243.407,60.937\" style=\"stroke: #A80036; stroke-width: 1.0;\"/><text fill=\"#000000\" font-family=\"sans-serif\" font-size=\"13\" lengthAdjust=\"spacingAndGlyphs\" textLength=\"119\" x=\"103.25\" y=\"61.0669\">[3] setCommand()</text><path d=\"M82.033,45 C122.357,45 190.544,45 238.129,45 \" fill=\"none\" style=\"stroke: #A80036; stroke-width: 1.0;\"/><polygon fill=\"#A80036\" points=\"243.246,45,234.246,41,238.246,45,234.246,49,243.246,45\" style=\"stroke: #A80036; stroke-width: 1.0;\"/><text fill=\"#000000\" font-family=\"sans-serif\" font-size=\"13\" lengthAdjust=\"spacingAndGlyphs\" textLength=\"125\" x=\"100.25\" y=\"38.0669\">[4] buttonPressed()</text><path d=\"M48.5,69.212 C48.5,92.132 48.5,127.467 48.5,153.7375 \" fill=\"none\" style=\"stroke: #A80036; stroke-width: 1.0;\"/><polygon fill=\"#A80036\" points=\"48.5,158.8644,52.5,149.8644,48.5,153.8644,44.5,149.8644,48.5,158.8644\" style=\"stroke: #A80036; stroke-width: 1.0;\"/><text fill=\"#000000\" font-family=\"sans-serif\" font-size=\"13\" lengthAdjust=\"spacingAndGlyphs\" textLength=\"73\" x=\"49.5\" y=\"125.0669\">[1] r=new()</text><path d=\"M79.1239,69.212 C112.718,94.676 166.527,135.4618 201.695,162.1189 \" fill=\"none\" style=\"stroke: #A80036; stroke-width: 1.0;\"/><polygon fill=\"#A80036\" points=\"205.889,165.2977,201.1343,156.6726,201.9048,162.2767,196.3007,163.0472,205.889,165.2977\" style=\"stroke: #A80036; stroke-width: 1.0;\"/><text fill=\"#000000\" font-family=\"sans-serif\" font-size=\"13\" lengthAdjust=\"spacingAndGlyphs\" textLength=\"62\" x=\"155.5\" y=\"125.0669\">[2] new(r)</text><path d=\"M339.75,45 C373.735,45 419.21,45 454.085,45 \" fill=\"none\" style=\"stroke: #A80036; stroke-width: 1.0;\"/><polygon fill=\"#A80036\" points=\"459.151,45,450.151,41,454.151,45,450.151,49,459.151,45\" style=\"stroke: #A80036; stroke-width: 1.0;\"/><text fill=\"#000000\" font-family=\"sans-serif\" font-size=\"13\" lengthAdjust=\"spacingAndGlyphs\" textLength=\"83\" x=\"358\" y=\"38.0669\">[5] execute()</text><path d=\"M96.2789,189.5 C117.838,189.5 139.398,189.5 160.957,189.5 \" fill=\"none\" style=\"stroke: #A80036; stroke-width: 1.0;\"/><polygon fill=\"#A80036\" points=\"91.0938,189.5,100.0938,193.5,96.0938,189.5,100.0938,185.5,91.0938,189.5\" style=\"stroke: #A80036; stroke-width: 1.0;\"/><path d=\"M441.618,80.244 C391.679,106.6 324.021,142.3084 280.312,165.3771 \" fill=\"none\" style=\"stroke: #A80036; stroke-width: 1.0; stroke-dasharray: 7.0,7.0;\"/><polygon fill=\"none\" points=\"438.515,73.966,459.47,70.822,445.049,86.348,438.515,73.966\" style=\"stroke: #A80036; stroke-width: 1.0;\"/></g></svg>"
      ],
      "text/plain": [
       "<IPython.core.display.SVG object>"
      ]
     },
     "execution_count": 7,
     "metadata": {},
     "output_type": "execute_result"
    }
   ],
   "source": [
    "%%plantuml\n",
    "@startuml\n",
    "class Client\n",
    "class Invoker {\n",
    "    setCommand()\n",
    "}\n",
    "Interface Command {\n",
    "    execute()\n",
    "    undo()\n",
    "}\n",
    "class Receiver {\n",
    "    action()\n",
    "}\n",
    "\n",
    "Client --> Invoker:[3] setCommand()\n",
    "Client -right-> Invoker:[4] buttonPressed()\n",
    "Client -down-> Receiver:[1] r=new()\n",
    "Client --> ConcreteCommand:[2] new(r)\n",
    "Invoker -right-> Command: [5] execute()\n",
    "ConcreteCommand -left-> Receiver\n",
    "Command <|.. ConcreteCommand\n",
    "@enduml"
   ]
  },
  {
   "cell_type": "markdown",
   "metadata": {
    "slideshow": {
     "slide_type": "slide"
    }
   },
   "source": [
    "## S.4 사례\n",
    "\n",
    "구분 | 설명\n",
    "-----|-----\n",
    "simple remote | 버튼 하나\n",
    "리모콘  | undo, 여러 버튼 (배열), null object\n",
    "파티 | macro\n",
    "\n",
    "* 인터페이스 함수에 argument가 없다는 점에 유의한다.\n",
    "* 사용하려는 객체는 생성자에서 만들어 놓는다."
   ]
  },
  {
   "cell_type": "markdown",
   "metadata": {
    "slideshow": {
     "slide_type": "subslide"
    }
   },
   "source": [
    "* 인터페이스를 정의하기\n",
    "\n",
    "```\n",
    "public interface Command {\n",
    "    public void execute();\n",
    "}\n",
    "```"
   ]
  },
  {
   "cell_type": "markdown",
   "metadata": {
    "slideshow": {
     "slide_type": "subslide"
    }
   },
   "source": [
    "* 인터페이스를 구현하기\n",
    "\n",
    "```\n",
    "public class LightOnCommand implements Command {\n",
    "\tLight light;\n",
    "\tpublic LightOnCommand(Light light) {\n",
    "\t\tthis.light = light;\n",
    "\t}\n",
    "\tpublic void execute() {\n",
    "\t\tlight.on();\n",
    "\t}\n",
    "}\n",
    "```"
   ]
  },
  {
   "cell_type": "markdown",
   "metadata": {
    "slideshow": {
     "slide_type": "subslide"
    }
   },
   "source": [
    "* 인터페이스를 연결하고 실행하기\n",
    "\n",
    "```\n",
    "public class SimpleRemoteControl {\n",
    "\tCommand slot;\n",
    "\tpublic SimpleRemoteControl() {}\n",
    "\tpublic void setCommand(Command command) {\n",
    "\t\tslot = command;\n",
    "\t}\n",
    "\tpublic void buttonWasPressed() {\n",
    "\t\tslot.execute();\n",
    "\t}\n",
    "}\n",
    "```"
   ]
  },
  {
   "cell_type": "markdown",
   "metadata": {
    "slideshow": {
     "slide_type": "slide"
    }
   },
   "source": [
    "### S.4.1 simpe remote\n",
    "\n",
    "* 단순 리모콘으로 버튼이 하나만 있는 사례"
   ]
  },
  {
   "cell_type": "code",
   "execution_count": 13,
   "metadata": {
    "collapsed": false
   },
   "outputs": [
    {
     "data": {
      "image/svg+xml": [
       "<svg height=\"280px\" style=\"width:794px;height:280px;\" version=\"1.1\" viewBox=\"0 0 794 280\" width=\"794px\" xmlns=\"http://www.w3.org/2000/svg\" xmlns:xlink=\"http://www.w3.org/1999/xlink\"><defs><filter height=\"300%\" id=\"f1\" width=\"300%\" x=\"-1\" y=\"-1\"><feGaussianBlur result=\"blurOut\" stdDeviation=\"2.0\"/><feColorMatrix in=\"blurOut\" result=\"blurOut2\" type=\"matrix\" values=\"0 0 0 0 0 0 0 0 0 0 0 0 0 0 0 0 0 0 .4 0\"/><feOffset dx=\"4.0\" dy=\"4.0\" in=\"blurOut2\" result=\"blurOut3\"/><feBlend in=\"SourceGraphic\" in2=\"blurOut3\" mode=\"normal\"/></filter></defs><g><rect fill=\"#FEFECE\" filter=\"url(#f1)\" height=\"73.9102\" style=\"stroke: #A80036; stroke-width: 1.5;\" width=\"91\" x=\"445\" y=\"14.5\"/><ellipse cx=\"460\" cy=\"30.5\" fill=\"#ADD1B2\" rx=\"11\" ry=\"11\" style=\"stroke: #A80036; stroke-width: 1.0;\"/><path d=\"M462.9731,36.1431 Q462.3921,36.4419 461.7529,36.5913 Q461.1138,36.7407 460.4082,36.7407 Q457.9014,36.7407 456.5815,35.0889 Q455.2617,33.437 455.2617,30.3159 Q455.2617,27.1865 456.5815,25.5347 Q457.9014,23.8828 460.4082,23.8828 Q461.1138,23.8828 461.7612,24.0322 Q462.4087,24.1816 462.9731,24.4805 L462.9731,27.2031 Q462.3423,26.6221 461.7488,26.3523 Q461.1553,26.0825 460.5244,26.0825 Q459.1797,26.0825 458.4949,27.1492 Q457.8101,28.2158 457.8101,30.3159 Q457.8101,32.4077 458.4949,33.4744 Q459.1797,34.541 460.5244,34.541 Q461.1553,34.541 461.7488,34.2712 Q462.3423,34.0015 462.9731,33.4204 Z \"/><text fill=\"#000000\" font-family=\"sans-serif\" font-size=\"12\" lengthAdjust=\"spacingAndGlyphs\" textLength=\"59\" x=\"474\" y=\"35.0352\">Command</text><line style=\"stroke: #A80036; stroke-width: 1.5;\" x1=\"446\" x2=\"535\" y1=\"46.5\" y2=\"46.5\"/><line style=\"stroke: #A80036; stroke-width: 1.5;\" x1=\"446\" x2=\"535\" y1=\"54.5\" y2=\"54.5\"/><ellipse cx=\"456\" cy=\"66.4775\" fill=\"#84BE84\" rx=\"3\" ry=\"3\" style=\"stroke: #038048; stroke-width: 1.0;\"/><text fill=\"#000000\" font-family=\"sans-serif\" font-size=\"11\" lengthAdjust=\"spacingAndGlyphs\" textLength=\"50\" x=\"465\" y=\"69.1348\">execute()</text><ellipse cx=\"456\" cy=\"79.4326\" fill=\"#84BE84\" rx=\"3\" ry=\"3\" style=\"stroke: #038048; stroke-width: 1.0;\"/><text fill=\"#000000\" font-family=\"sans-serif\" font-size=\"11\" lengthAdjust=\"spacingAndGlyphs\" textLength=\"36\" x=\"465\" y=\"82.0898\">undo()</text><rect fill=\"#FEFECE\" filter=\"url(#f1)\" height=\"86.8652\" style=\"stroke: #A80036; stroke-width: 1.5;\" width=\"185\" x=\"151\" y=\"178.5\"/><ellipse cx=\"188.95\" cy=\"194.5\" fill=\"#ADD1B2\" rx=\"11\" ry=\"11\" style=\"stroke: #A80036; stroke-width: 1.0;\"/><path d=\"M191.9231,200.1431 Q191.3421,200.4419 190.7029,200.5913 Q190.0638,200.7407 189.3582,200.7407 Q186.8514,200.7407 185.5315,199.0889 Q184.2117,197.437 184.2117,194.3159 Q184.2117,191.1865 185.5315,189.5347 Q186.8514,187.8828 189.3582,187.8828 Q190.0638,187.8828 190.7112,188.0322 Q191.3587,188.1816 191.9231,188.4805 L191.9231,191.2031 Q191.2923,190.6221 190.6988,190.3523 Q190.1053,190.0825 189.4744,190.0825 Q188.1297,190.0825 187.4449,191.1492 Q186.7601,192.2158 186.7601,194.3159 Q186.7601,196.4077 187.4449,197.4744 Q188.1297,198.541 189.4744,198.541 Q190.1053,198.541 190.6988,198.2712 Q191.2923,198.0015 191.9231,197.4204 Z \"/><text fill=\"#000000\" font-family=\"sans-serif\" font-size=\"12\" lengthAdjust=\"spacingAndGlyphs\" textLength=\"102\" x=\"208.05\" y=\"199.0352\">LightOnCommand</text><line style=\"stroke: #A80036; stroke-width: 1.5;\" x1=\"152\" x2=\"335\" y1=\"210.5\" y2=\"210.5\"/><rect fill=\"none\" height=\"6\" style=\"stroke: #C82930; stroke-width: 1.0;\" width=\"6\" x=\"159\" y=\"219.4775\"/><text fill=\"#000000\" font-family=\"sans-serif\" font-size=\"11\" lengthAdjust=\"spacingAndGlyphs\" textLength=\"54\" x=\"171\" y=\"225.1348\">light:Light</text><line style=\"stroke: #A80036; stroke-width: 1.5;\" x1=\"152\" x2=\"335\" y1=\"231.4551\" y2=\"231.4551\"/><ellipse cx=\"162\" cy=\"243.4326\" fill=\"#84BE84\" rx=\"3\" ry=\"3\" style=\"stroke: #038048; stroke-width: 1.0;\"/><text fill=\"#000000\" font-family=\"sans-serif\" font-size=\"11\" lengthAdjust=\"spacingAndGlyphs\" textLength=\"159\" x=\"171\" y=\"246.0898\">LightOnCommand(Light):void</text><ellipse cx=\"162\" cy=\"256.3877\" fill=\"#84BE84\" rx=\"3\" ry=\"3\" style=\"stroke: #038048; stroke-width: 1.0;\"/><text fill=\"#000000\" font-family=\"sans-serif\" font-size=\"11\" lengthAdjust=\"spacingAndGlyphs\" textLength=\"50\" x=\"171\" y=\"259.0449\">execute()</text><rect fill=\"#FEFECE\" filter=\"url(#f1)\" height=\"86.8652\" style=\"stroke: #A80036; stroke-width: 1.5;\" width=\"242\" x=\"371.5\" y=\"178.5\"/><ellipse cx=\"409\" cy=\"194.5\" fill=\"#ADD1B2\" rx=\"11\" ry=\"11\" style=\"stroke: #A80036; stroke-width: 1.0;\"/><path d=\"M411.9731,200.1431 Q411.3921,200.4419 410.7529,200.5913 Q410.1138,200.7407 409.4082,200.7407 Q406.9014,200.7407 405.5815,199.0889 Q404.2617,197.437 404.2617,194.3159 Q404.2617,191.1865 405.5815,189.5347 Q406.9014,187.8828 409.4082,187.8828 Q410.1138,187.8828 410.7612,188.0322 Q411.4087,188.1816 411.9731,188.4805 L411.9731,191.2031 Q411.3423,190.6221 410.7488,190.3523 Q410.1553,190.0825 409.5244,190.0825 Q408.1797,190.0825 407.4949,191.1492 Q406.8101,192.2158 406.8101,194.3159 Q406.8101,196.4077 407.4949,197.4744 Q408.1797,198.541 409.5244,198.541 Q410.1553,198.541 410.7488,198.2712 Q411.3423,198.0015 411.9731,197.4204 Z \"/><text fill=\"#000000\" font-family=\"sans-serif\" font-size=\"12\" lengthAdjust=\"spacingAndGlyphs\" textLength=\"160\" x=\"428\" y=\"199.0352\">GarageDoorOpenCommand</text><line style=\"stroke: #A80036; stroke-width: 1.5;\" x1=\"372.5\" x2=\"612.5\" y1=\"210.5\" y2=\"210.5\"/><rect fill=\"none\" height=\"6\" style=\"stroke: #C82930; stroke-width: 1.0;\" width=\"6\" x=\"379.5\" y=\"219.4775\"/><text fill=\"#000000\" font-family=\"sans-serif\" font-size=\"11\" lengthAdjust=\"spacingAndGlyphs\" textLength=\"82\" x=\"391.5\" y=\"225.1348\">gd:GarageDoor</text><line style=\"stroke: #A80036; stroke-width: 1.5;\" x1=\"372.5\" x2=\"612.5\" y1=\"231.4551\" y2=\"231.4551\"/><ellipse cx=\"382.5\" cy=\"243.4326\" fill=\"#84BE84\" rx=\"3\" ry=\"3\" style=\"stroke: #038048; stroke-width: 1.0;\"/><text fill=\"#000000\" font-family=\"sans-serif\" font-size=\"11\" lengthAdjust=\"spacingAndGlyphs\" textLength=\"216\" x=\"391.5\" y=\"246.0898\">GargeDoorOpenCommand(GarageDoor)</text><ellipse cx=\"382.5\" cy=\"256.3877\" fill=\"#84BE84\" rx=\"3\" ry=\"3\" style=\"stroke: #038048; stroke-width: 1.0;\"/><text fill=\"#000000\" font-family=\"sans-serif\" font-size=\"11\" lengthAdjust=\"spacingAndGlyphs\" textLength=\"76\" x=\"391.5\" y=\"259.0449\">execute():void</text><rect fill=\"#FEFECE\" filter=\"url(#f1)\" height=\"73.9102\" style=\"stroke: #A80036; stroke-width: 1.5;\" width=\"75\" x=\"6\" y=\"185\"/><ellipse cx=\"28.2\" cy=\"201\" fill=\"#ADD1B2\" rx=\"11\" ry=\"11\" style=\"stroke: #A80036; stroke-width: 1.0;\"/><path d=\"M31.1731,206.6431 Q30.5921,206.9419 29.9529,207.0913 Q29.3138,207.2407 28.6082,207.2407 Q26.1014,207.2407 24.7815,205.5889 Q23.4617,203.937 23.4617,200.8159 Q23.4617,197.6865 24.7815,196.0347 Q26.1014,194.3828 28.6082,194.3828 Q29.3138,194.3828 29.9612,194.5322 Q30.6087,194.6816 31.1731,194.9805 L31.1731,197.7031 Q30.5423,197.1221 29.9488,196.8523 Q29.3553,196.5825 28.7244,196.5825 Q27.3797,196.5825 26.6949,197.6492 Q26.0101,198.7158 26.0101,200.8159 Q26.0101,202.9077 26.6949,203.9744 Q27.3797,205.041 28.7244,205.041 Q29.3553,205.041 29.9488,204.7712 Q30.5423,204.5015 31.1731,203.9204 Z \"/><text fill=\"#000000\" font-family=\"sans-serif\" font-size=\"12\" lengthAdjust=\"spacingAndGlyphs\" textLength=\"27\" x=\"43.8\" y=\"205.5352\">Light</text><line style=\"stroke: #A80036; stroke-width: 1.5;\" x1=\"7\" x2=\"80\" y1=\"217\" y2=\"217\"/><line style=\"stroke: #A80036; stroke-width: 1.5;\" x1=\"7\" x2=\"80\" y1=\"225\" y2=\"225\"/><ellipse cx=\"17\" cy=\"236.9775\" fill=\"#84BE84\" rx=\"3\" ry=\"3\" style=\"stroke: #038048; stroke-width: 1.0;\"/><text fill=\"#000000\" font-family=\"sans-serif\" font-size=\"11\" lengthAdjust=\"spacingAndGlyphs\" textLength=\"48\" x=\"26\" y=\"239.6348\">on():void</text><ellipse cx=\"17\" cy=\"249.9326\" fill=\"#84BE84\" rx=\"3\" ry=\"3\" style=\"stroke: #038048; stroke-width: 1.0;\"/><text fill=\"#000000\" font-family=\"sans-serif\" font-size=\"11\" lengthAdjust=\"spacingAndGlyphs\" textLength=\"49\" x=\"26\" y=\"252.5898\">off():void</text><rect fill=\"#FEFECE\" filter=\"url(#f1)\" height=\"99.8203\" style=\"stroke: #A80036; stroke-width: 1.5;\" width=\"102\" x=\"683.5\" y=\"172\"/><ellipse cx=\"698.5\" cy=\"188\" fill=\"#ADD1B2\" rx=\"11\" ry=\"11\" style=\"stroke: #A80036; stroke-width: 1.0;\"/><path d=\"M701.4731,193.6431 Q700.8921,193.9419 700.2529,194.0913 Q699.6138,194.2407 698.9082,194.2407 Q696.4014,194.2407 695.0815,192.5889 Q693.7617,190.937 693.7617,187.8159 Q693.7617,184.6865 695.0815,183.0347 Q696.4014,181.3828 698.9082,181.3828 Q699.6138,181.3828 700.2612,181.5322 Q700.9087,181.6816 701.4731,181.9805 L701.4731,184.7031 Q700.8423,184.1221 700.2488,183.8523 Q699.6553,183.5825 699.0244,183.5825 Q697.6797,183.5825 696.9949,184.6492 Q696.3101,185.7158 696.3101,187.8159 Q696.3101,189.9077 696.9949,190.9744 Q697.6797,192.041 699.0244,192.041 Q699.6553,192.041 700.2488,191.7712 Q700.8423,191.5015 701.4731,190.9204 Z \"/><text fill=\"#000000\" font-family=\"sans-serif\" font-size=\"12\" lengthAdjust=\"spacingAndGlyphs\" textLength=\"70\" x=\"712.5\" y=\"192.5352\">GarageDoor</text><line style=\"stroke: #A80036; stroke-width: 1.5;\" x1=\"684.5\" x2=\"784.5\" y1=\"204\" y2=\"204\"/><line style=\"stroke: #A80036; stroke-width: 1.5;\" x1=\"684.5\" x2=\"784.5\" y1=\"212\" y2=\"212\"/><ellipse cx=\"694.5\" cy=\"223.9775\" fill=\"#84BE84\" rx=\"3\" ry=\"3\" style=\"stroke: #038048; stroke-width: 1.0;\"/><text fill=\"#000000\" font-family=\"sans-serif\" font-size=\"11\" lengthAdjust=\"spacingAndGlyphs\" textLength=\"48\" x=\"703.5\" y=\"226.6348\">on():void</text><ellipse cx=\"694.5\" cy=\"236.9326\" fill=\"#84BE84\" rx=\"3\" ry=\"3\" style=\"stroke: #038048; stroke-width: 1.0;\"/><text fill=\"#000000\" font-family=\"sans-serif\" font-size=\"11\" lengthAdjust=\"spacingAndGlyphs\" textLength=\"63\" x=\"703.5\" y=\"239.5898\">down():void</text><ellipse cx=\"694.5\" cy=\"249.8877\" fill=\"#84BE84\" rx=\"3\" ry=\"3\" style=\"stroke: #038048; stroke-width: 1.0;\"/><text fill=\"#000000\" font-family=\"sans-serif\" font-size=\"11\" lengthAdjust=\"spacingAndGlyphs\" textLength=\"74\" x=\"703.5\" y=\"252.5449\">lightOn():void</text><ellipse cx=\"694.5\" cy=\"262.8428\" fill=\"#84BE84\" rx=\"3\" ry=\"3\" style=\"stroke: #038048; stroke-width: 1.0;\"/><text fill=\"#000000\" font-family=\"sans-serif\" font-size=\"11\" lengthAdjust=\"spacingAndGlyphs\" textLength=\"75\" x=\"703.5\" y=\"265.5\">lightOff():void</text><rect fill=\"#FEFECE\" filter=\"url(#f1)\" height=\"86.8652\" style=\"stroke: #A80036; stroke-width: 1.5;\" width=\"160\" x=\"215.5\" y=\"8\"/><ellipse cx=\"232.75\" cy=\"24\" fill=\"#ADD1B2\" rx=\"11\" ry=\"11\" style=\"stroke: #A80036; stroke-width: 1.0;\"/><path d=\"M235.7231,29.6431 Q235.1421,29.9419 234.5029,30.0913 Q233.8638,30.2407 233.1582,30.2407 Q230.6514,30.2407 229.3315,28.5889 Q228.0117,26.937 228.0117,23.8159 Q228.0117,20.6865 229.3315,19.0347 Q230.6514,17.3828 233.1582,17.3828 Q233.8638,17.3828 234.5112,17.5322 Q235.1587,17.6816 235.7231,17.9805 L235.7231,20.7031 Q235.0923,20.1221 234.4988,19.8523 Q233.9053,19.5825 233.2744,19.5825 Q231.9297,19.5825 231.2449,20.6492 Q230.5601,21.7158 230.5601,23.8159 Q230.5601,25.9077 231.2449,26.9744 Q231.9297,28.041 233.2744,28.041 Q233.9053,28.041 234.4988,27.7712 Q235.0923,27.5015 235.7231,26.9204 Z \"/><text fill=\"#000000\" font-family=\"sans-serif\" font-size=\"12\" lengthAdjust=\"spacingAndGlyphs\" textLength=\"123\" x=\"247.25\" y=\"28.5352\">SimpleRemoteControl</text><line style=\"stroke: #A80036; stroke-width: 1.5;\" x1=\"216.5\" x2=\"374.5\" y1=\"40\" y2=\"40\"/><rect fill=\"none\" height=\"6\" style=\"stroke: #C82930; stroke-width: 1.0;\" width=\"6\" x=\"223.5\" y=\"48.9775\"/><text fill=\"#000000\" font-family=\"sans-serif\" font-size=\"11\" lengthAdjust=\"spacingAndGlyphs\" textLength=\"78\" x=\"235.5\" y=\"54.6348\">slot:Command</text><line style=\"stroke: #A80036; stroke-width: 1.5;\" x1=\"216.5\" x2=\"374.5\" y1=\"60.9551\" y2=\"60.9551\"/><ellipse cx=\"226.5\" cy=\"72.9326\" fill=\"#84BE84\" rx=\"3\" ry=\"3\" style=\"stroke: #038048; stroke-width: 1.0;\"/><text fill=\"#000000\" font-family=\"sans-serif\" font-size=\"11\" lengthAdjust=\"spacingAndGlyphs\" textLength=\"134\" x=\"235.5\" y=\"75.5898\">setCommand(Command)</text><ellipse cx=\"226.5\" cy=\"85.8877\" fill=\"#84BE84\" rx=\"3\" ry=\"3\" style=\"stroke: #038048; stroke-width: 1.0;\"/><text fill=\"#000000\" font-family=\"sans-serif\" font-size=\"11\" lengthAdjust=\"spacingAndGlyphs\" textLength=\"107\" x=\"235.5\" y=\"88.5449\">buttonWasPressed()</text><rect fill=\"#FEFECE\" filter=\"url(#f1)\" height=\"48\" style=\"stroke: #A80036; stroke-width: 1.5;\" width=\"64\" x=\"16.5\" y=\"27.5\"/><ellipse cx=\"31.5\" cy=\"43.5\" fill=\"#ADD1B2\" rx=\"11\" ry=\"11\" style=\"stroke: #A80036; stroke-width: 1.0;\"/><path d=\"M34.4731,49.1431 Q33.8921,49.4419 33.2529,49.5913 Q32.6138,49.7407 31.9082,49.7407 Q29.4014,49.7407 28.0815,48.0889 Q26.7617,46.437 26.7617,43.3159 Q26.7617,40.1865 28.0815,38.5347 Q29.4014,36.8828 31.9082,36.8828 Q32.6138,36.8828 33.2612,37.0322 Q33.9087,37.1816 34.4731,37.4805 L34.4731,40.2031 Q33.8423,39.6221 33.2488,39.3523 Q32.6553,39.0825 32.0244,39.0825 Q30.6797,39.0825 29.9949,40.1492 Q29.3101,41.2158 29.3101,43.3159 Q29.3101,45.4077 29.9949,46.4744 Q30.6797,47.541 32.0244,47.541 Q32.6553,47.541 33.2488,47.2712 Q33.8423,47.0015 34.4731,46.4204 Z \"/><text fill=\"#000000\" font-family=\"sans-serif\" font-size=\"12\" lengthAdjust=\"spacingAndGlyphs\" textLength=\"32\" x=\"45.5\" y=\"48.0352\">Client</text><line style=\"stroke: #A80036; stroke-width: 1.5;\" x1=\"17.5\" x2=\"79.5\" y1=\"59.5\" y2=\"59.5\"/><line style=\"stroke: #A80036; stroke-width: 1.5;\" x1=\"17.5\" x2=\"79.5\" y1=\"67.5\" y2=\"67.5\"/><path d=\"M80.769,65.775 C87.4949,68.151 94.6307,70.247 101.5,71.5 C136.899,77.957 176.34,75.606 210.367,70.648 \" fill=\"none\" style=\"stroke: #A80036; stroke-width: 1.0;\"/><polygon fill=\"#A80036\" points=\"215.347,69.898,205.8511,67.285,210.4029,70.6437,207.0442,75.1955,215.347,69.898\" style=\"stroke: #A80036; stroke-width: 1.0;\"/><text fill=\"#000000\" font-family=\"sans-serif\" font-size=\"13\" lengthAdjust=\"spacingAndGlyphs\" textLength=\"91\" x=\"102.5\" y=\"68.0684\">setCommand()</text><path d=\"M80.5377,51.5 C113.279,51.5 165.533,51.5 210.323,51.5 \" fill=\"none\" style=\"stroke: #A80036; stroke-width: 1.0;\"/><polygon fill=\"#A80036\" points=\"215.466,51.5,206.466,47.5,210.466,51.5,206.466,55.5,215.466,51.5\" style=\"stroke: #A80036; stroke-width: 1.0;\"/><text fill=\"#000000\" font-family=\"sans-serif\" font-size=\"13\" lengthAdjust=\"spacingAndGlyphs\" textLength=\"98\" x=\"99\" y=\"45.0684\">buttonPressed()</text><path d=\"M47.8153,75.576 C47.0206,102.355 45.6951,147.024 44.7225,179.8025 \" fill=\"none\" style=\"stroke: #A80036; stroke-width: 1.0;\"/><polygon fill=\"#A80036\" points=\"44.5695,184.9567,48.8349,176.0794,44.7179,179.9589,40.8384,175.8419,44.5695,184.9567\" style=\"stroke: #A80036; stroke-width: 1.0;\"/><text fill=\"#000000\" font-family=\"sans-serif\" font-size=\"13\" lengthAdjust=\"spacingAndGlyphs\" textLength=\"72\" x=\"47.5\" y=\"138.5684\">light=new()</text><path d=\"M75.205,75.576 C104.6928,101.056 152.925,142.734 190.212,174.9538 \" fill=\"none\" style=\"stroke: #A80036; stroke-width: 1.0;\"/><polygon fill=\"#A80036\" points=\"194.243,178.437,190.0477,169.5264,190.4595,175.1682,184.8176,175.58,194.243,178.437\" style=\"stroke: #A80036; stroke-width: 1.0;\"/><text fill=\"#000000\" font-family=\"sans-serif\" font-size=\"13\" lengthAdjust=\"spacingAndGlyphs\" textLength=\"62\" x=\"153.5\" y=\"138.5684\">new(light)</text><path d=\"M428.248,94.967 C390.871,120.465 343.472,152.8 306.043,178.334 \" fill=\"none\" style=\"stroke: #A80036; stroke-width: 1.0; stroke-dasharray: 7.0,7.0;\"/><polygon fill=\"none\" points=\"424.442,89.09,444.909,83.602,432.332,100.655,424.442,89.09\" style=\"stroke: #A80036; stroke-width: 1.0;\"/><path d=\"M491.168,108.816 C491.438,131.513 491.743,157.26 491.994,178.3578 \" fill=\"none\" style=\"stroke: #A80036; stroke-width: 1.0; stroke-dasharray: 7.0,7.0;\"/><polygon fill=\"none\" points=\"484.167,108.729,490.929,88.647,498.166,108.563,484.167,108.729\" style=\"stroke: #A80036; stroke-width: 1.0;\"/><path d=\"M613.973,222 C635.33,222 656.688,222 678.045,222 \" fill=\"none\" style=\"stroke: #A80036; stroke-width: 1.0;\"/><polygon fill=\"#A80036\" points=\"683.182,222,674.182,218,678.182,222,674.182,226,683.182,222\" style=\"stroke: #A80036; stroke-width: 1.0;\"/><path d=\"M86.1823,222 C107.73,222 129.277,222 150.824,222 \" fill=\"none\" style=\"stroke: #A80036; stroke-width: 1.0;\"/><polygon fill=\"#A80036\" points=\"81,222,90,226,86,222,90,218,81,222\" style=\"stroke: #A80036; stroke-width: 1.0;\"/><path d=\"M375.861,51.5 C397.143,51.5 418.424,51.5 439.705,51.5 \" fill=\"none\" style=\"stroke: #A80036; stroke-width: 1.0;\"/><polygon fill=\"#A80036\" points=\"444.824,51.5,435.824,47.5,439.824,51.5,435.824,55.5,444.824,51.5\" style=\"stroke: #A80036; stroke-width: 1.0;\"/></g></svg>"
      ],
      "text/plain": [
       "<IPython.core.display.SVG object>"
      ]
     },
     "execution_count": 13,
     "metadata": {},
     "output_type": "execute_result"
    }
   ],
   "source": [
    "%%plantuml\n",
    "@startuml\n",
    "class Command {\n",
    "  +execute()\n",
    "  +undo()\n",
    "}\n",
    "class LightOnCommand {\n",
    "  -light:Light\n",
    "  +LightOnCommand(Light):void\n",
    "  +execute()\n",
    "}\n",
    "class GarageDoorOpenCommand {\n",
    "  -gd:GarageDoor\n",
    "  +GargeDoorOpenCommand(GarageDoor)\n",
    "  +execute():void\n",
    "}\n",
    "class Light {\n",
    "  +on():void\n",
    "  +off():void\n",
    "}\n",
    "class GarageDoor {\n",
    "  +on():void\n",
    "  +down():void\n",
    "  +lightOn():void\n",
    "  +lightOff():void\n",
    "}\n",
    "class SimpleRemoteControl {\n",
    "  -slot:Command\n",
    "  +setCommand(Command)\n",
    "  +buttonWasPressed()\n",
    "}\n",
    "Client --> SimpleRemoteControl:setCommand()\n",
    "Client -right-> SimpleRemoteControl:buttonPressed()\n",
    "Client -down-> Light:light=new()\n",
    "Client --> LightOnCommand:new(light)\n",
    "Command <|.. LightOnCommand\n",
    "Command <|.. GarageDoorOpenCommand\n",
    "GarageDoorOpenCommand -right-> GarageDoor\n",
    "LightOnCommand -left-> Light\n",
    "SimpleRemoteControl -right-> Command\n",
    "@enduml"
   ]
  },
  {
   "cell_type": "code",
   "execution_count": 8,
   "metadata": {
    "collapsed": false,
    "slideshow": {
     "slide_type": "subslide"
    }
   },
   "outputs": [
    {
     "data": {
      "image/svg+xml": [
       "<svg height=\"242px\" style=\"width:505px;height:242px;\" version=\"1.1\" viewBox=\"0 0 505 242\" width=\"505px\" xmlns=\"http://www.w3.org/2000/svg\" xmlns:xlink=\"http://www.w3.org/1999/xlink\"><defs><filter height=\"300%\" id=\"f1\" width=\"300%\" x=\"-1\" y=\"-1\"><feGaussianBlur result=\"blurOut\" stdDeviation=\"2.0\"/><feColorMatrix in=\"blurOut\" result=\"blurOut2\" type=\"matrix\" values=\"0 0 0 0 0 0 0 0 0 0 0 0 0 0 0 0 0 0 .4 0\"/><feOffset dx=\"4.0\" dy=\"4.0\" in=\"blurOut2\" result=\"blurOut3\"/><feBlend in=\"SourceGraphic\" in2=\"blurOut3\" mode=\"normal\"/></filter></defs><g><line style=\"stroke: #A80036; stroke-width: 1.0; stroke-dasharray: 5.0,5.0;\" x1=\"36\" x2=\"36\" y1=\"38.2969\" y2=\"203.9609\"/><line style=\"stroke: #A80036; stroke-width: 1.0; stroke-dasharray: 5.0,5.0;\" x1=\"202\" x2=\"202\" y1=\"38.2969\" y2=\"203.9609\"/><line style=\"stroke: #A80036; stroke-width: 1.0; stroke-dasharray: 5.0,5.0;\" x1=\"322\" x2=\"322\" y1=\"38.2969\" y2=\"203.9609\"/><line style=\"stroke: #A80036; stroke-width: 1.0; stroke-dasharray: 5.0,5.0;\" x1=\"429\" x2=\"429\" y1=\"38.2969\" y2=\"203.9609\"/><rect fill=\"#FEFECE\" filter=\"url(#f1)\" height=\"30.2969\" style=\"stroke: #A80036; stroke-width: 1.5;\" width=\"53\" x=\"8\" y=\"3\"/><text fill=\"#000000\" font-family=\"sans-serif\" font-size=\"14\" lengthAdjust=\"spacingAndGlyphs\" textLength=\"39\" x=\"15\" y=\"22.9951\">Client</text><rect fill=\"#FEFECE\" filter=\"url(#f1)\" height=\"30.2969\" style=\"stroke: #A80036; stroke-width: 1.5;\" width=\"53\" x=\"8\" y=\"202.9609\"/><text fill=\"#000000\" font-family=\"sans-serif\" font-size=\"14\" lengthAdjust=\"spacingAndGlyphs\" textLength=\"39\" x=\"15\" y=\"222.9561\">Client</text><rect fill=\"#FEFECE\" filter=\"url(#f1)\" height=\"30.2969\" style=\"stroke: #A80036; stroke-width: 1.5;\" width=\"165\" x=\"118\" y=\"3\"/><text fill=\"#000000\" font-family=\"sans-serif\" font-size=\"14\" lengthAdjust=\"spacingAndGlyphs\" textLength=\"151\" x=\"125\" y=\"22.9951\">SimpleRemoteControl</text><rect fill=\"#FEFECE\" filter=\"url(#f1)\" height=\"30.2969\" style=\"stroke: #A80036; stroke-width: 1.5;\" width=\"165\" x=\"118\" y=\"202.9609\"/><text fill=\"#000000\" font-family=\"sans-serif\" font-size=\"14\" lengthAdjust=\"spacingAndGlyphs\" textLength=\"151\" x=\"125\" y=\"222.9561\">SimpleRemoteControl</text><rect fill=\"#FEFECE\" filter=\"url(#f1)\" height=\"30.2969\" style=\"stroke: #A80036; stroke-width: 1.5;\" width=\"47\" x=\"297\" y=\"3\"/><text fill=\"#000000\" font-family=\"sans-serif\" font-size=\"14\" lengthAdjust=\"spacingAndGlyphs\" textLength=\"33\" x=\"304\" y=\"22.9951\">Light</text><rect fill=\"#FEFECE\" filter=\"url(#f1)\" height=\"30.2969\" style=\"stroke: #A80036; stroke-width: 1.5;\" width=\"47\" x=\"297\" y=\"202.9609\"/><text fill=\"#000000\" font-family=\"sans-serif\" font-size=\"14\" lengthAdjust=\"spacingAndGlyphs\" textLength=\"33\" x=\"304\" y=\"222.9561\">Light</text><rect fill=\"#FEFECE\" filter=\"url(#f1)\" height=\"30.2969\" style=\"stroke: #A80036; stroke-width: 1.5;\" width=\"138\" x=\"358\" y=\"3\"/><text fill=\"#000000\" font-family=\"sans-serif\" font-size=\"14\" lengthAdjust=\"spacingAndGlyphs\" textLength=\"124\" x=\"365\" y=\"22.9951\">LightOnCommand</text><rect fill=\"#FEFECE\" filter=\"url(#f1)\" height=\"30.2969\" style=\"stroke: #A80036; stroke-width: 1.5;\" width=\"138\" x=\"358\" y=\"202.9609\"/><text fill=\"#000000\" font-family=\"sans-serif\" font-size=\"14\" lengthAdjust=\"spacingAndGlyphs\" textLength=\"124\" x=\"365\" y=\"222.9561\">LightOnCommand</text><polygon fill=\"#A80036\" points=\"190.5,65.2969,200.5,69.2969,190.5,73.2969,194.5,69.2969\" style=\"stroke: #A80036; stroke-width: 1.0;\"/><line style=\"stroke: #A80036; stroke-width: 1.0;\" x1=\"36.5\" x2=\"196.5\" y1=\"69.2969\" y2=\"69.2969\"/><text fill=\"#000000\" font-family=\"sans-serif\" font-size=\"13\" lengthAdjust=\"spacingAndGlyphs\" textLength=\"93\" x=\"43.5\" y=\"64.3638\">remote=new()</text><polygon fill=\"#A80036\" points=\"310.5,94.4297,320.5,98.4297,310.5,102.4297,314.5,98.4297\" style=\"stroke: #A80036; stroke-width: 1.0;\"/><line style=\"stroke: #A80036; stroke-width: 1.0;\" x1=\"36.5\" x2=\"316.5\" y1=\"98.4297\" y2=\"98.4297\"/><text fill=\"#000000\" font-family=\"sans-serif\" font-size=\"13\" lengthAdjust=\"spacingAndGlyphs\" textLength=\"73\" x=\"43.5\" y=\"93.4966\">light=new()</text><polygon fill=\"#A80036\" points=\"417,123.5625,427,127.5625,417,131.5625,421,127.5625\" style=\"stroke: #A80036; stroke-width: 1.0;\"/><line style=\"stroke: #A80036; stroke-width: 1.0;\" x1=\"36.5\" x2=\"423\" y1=\"127.5625\" y2=\"127.5625\"/><text fill=\"#000000\" font-family=\"sans-serif\" font-size=\"13\" lengthAdjust=\"spacingAndGlyphs\" textLength=\"118\" x=\"43.5\" y=\"122.6294\">lightOn=new(light)</text><polygon fill=\"#A80036\" points=\"190.5,152.6953,200.5,156.6953,190.5,160.6953,194.5,156.6953\" style=\"stroke: #A80036; stroke-width: 1.0;\"/><line style=\"stroke: #A80036; stroke-width: 1.0;\" x1=\"36.5\" x2=\"196.5\" y1=\"156.6953\" y2=\"156.6953\"/><text fill=\"#000000\" font-family=\"sans-serif\" font-size=\"13\" lengthAdjust=\"spacingAndGlyphs\" textLength=\"142\" x=\"43.5\" y=\"151.7622\">setCommand(lightOn)</text><polygon fill=\"#A80036\" points=\"190.5,181.8281,200.5,185.8281,190.5,189.8281,194.5,185.8281\" style=\"stroke: #A80036; stroke-width: 1.0;\"/><line style=\"stroke: #A80036; stroke-width: 1.0;\" x1=\"36.5\" x2=\"196.5\" y1=\"185.8281\" y2=\"185.8281\"/><text fill=\"#000000\" font-family=\"sans-serif\" font-size=\"13\" lengthAdjust=\"spacingAndGlyphs\" textLength=\"125\" x=\"43.5\" y=\"180.895\">buttonWasPushed()</text></g></svg>"
      ],
      "text/plain": [
       "<IPython.core.display.SVG object>"
      ]
     },
     "execution_count": 8,
     "metadata": {},
     "output_type": "execute_result"
    }
   ],
   "source": [
    "%%plantuml\n",
    "@startuml\n",
    "Client -> SimpleRemoteControl:remote=new()\n",
    "Client -> Light:light=new()\n",
    "Client -> LightOnCommand: lightOn=new(light)\n",
    "Client -> SimpleRemoteControl:setCommand(lightOn)\n",
    "Client -> SimpleRemoteControl:buttonWasPushed()\n",
    "@enduml"
   ]
  },
  {
   "cell_type": "code",
   "execution_count": null,
   "metadata": {
    "collapsed": false,
    "slideshow": {
     "slide_type": "slide"
    }
   },
   "outputs": [],
   "source": [
    "# %load ./src/headfirst/command/simpleremote/command.java\n",
    "package headfirst.command.simpleremote;\n",
    "\n",
    "public interface Command {\n",
    "    public void execute();\n",
    "}\n"
   ]
  },
  {
   "cell_type": "code",
   "execution_count": null,
   "metadata": {
    "collapsed": true,
    "slideshow": {
     "slide_type": "slide"
    }
   },
   "outputs": [],
   "source": [
    "# %load ./src/headfirst/command/simpleremote/GarageDoor.java\n",
    "package headfirst.command.simpleremote;\n",
    "\n",
    "public class GarageDoor {\n",
    "    public GarageDoor() {\n",
    "    }\n",
    "    public void up() {\n",
    "        System.out.println(\"Garage Door is Open\");\n",
    "    }\n",
    "    public void down() {\n",
    "        System.out.println(\"Garage Door is Closed\");\n",
    "    }\n",
    "    public void stop() {\n",
    "        System.out.println(\"Garage Door is Stopped\");\n",
    "    }\n",
    "    public void lightOn() {\n",
    "        System.out.println(\"Garage light is on\");\n",
    "    }\n",
    "    public void lightOff() {\n",
    "        System.out.println(\"Garage light is off\");\n",
    "    }\n",
    "}"
   ]
  },
  {
   "cell_type": "code",
   "execution_count": null,
   "metadata": {
    "collapsed": true,
    "slideshow": {
     "slide_type": "slide"
    }
   },
   "outputs": [],
   "source": [
    "# %load ./src/headfirst/command/simpleremote/GarageDoorOpenCommand.java\n",
    "package headfirst.command.simpleremote;\n",
    "\n",
    "public class GarageDoorOpenCommand implements Command {\n",
    "\tGarageDoor garageDoor;\n",
    "\n",
    "\tpublic GarageDoorOpenCommand(GarageDoor garageDoor) {\n",
    "\t\tthis.garageDoor = garageDoor;\n",
    "\t}\n",
    "\n",
    "\tpublic void execute() {\n",
    "\t\tgarageDoor.up();\n",
    "\t}\n",
    "}\n"
   ]
  },
  {
   "cell_type": "code",
   "execution_count": null,
   "metadata": {
    "collapsed": true,
    "slideshow": {
     "slide_type": "slide"
    }
   },
   "outputs": [],
   "source": [
    "# %load ./src/headfirst/command/simpleremote/Light.java\n",
    "package headfirst.command.simpleremote;\n",
    "\n",
    "public class Light {\n",
    "\n",
    "\tpublic Light() {\n",
    "\t}\n",
    "\n",
    "\tpublic void on() {\n",
    "\t\tSystem.out.println(\"Light is on\");\n",
    "\t}\n",
    "\n",
    "\tpublic void off() {\n",
    "\t\tSystem.out.println(\"Light is off\");\n",
    "\t}\n",
    "}"
   ]
  },
  {
   "cell_type": "code",
   "execution_count": null,
   "metadata": {
    "collapsed": true,
    "slideshow": {
     "slide_type": "slide"
    }
   },
   "outputs": [],
   "source": [
    "# %load ./src/headfirst/command/simpleremote/LightOnCommand.java\n",
    "package headfirst.command.simpleremote;\n",
    "\n",
    "public class LightOnCommand implements Command {\n",
    "\tLight light;\n",
    "  \n",
    "\tpublic LightOnCommand(Light light) {\n",
    "\t\tthis.light = light;\n",
    "\t}\n",
    " \n",
    "\tpublic void execute() {\n",
    "\t\tlight.on();\n",
    "\t}\n",
    "}\n"
   ]
  },
  {
   "cell_type": "code",
   "execution_count": null,
   "metadata": {
    "collapsed": true,
    "slideshow": {
     "slide_type": "slide"
    }
   },
   "outputs": [],
   "source": [
    "# %load ./src/headfirst/command/simpleremote/LightOffCommand.java\n",
    "package headfirst.command.simpleremote;\n",
    "\n",
    "public class LightOffCommand implements Command {\n",
    "\tLight light;\n",
    " \n",
    "\tpublic LightOffCommand(Light light) {\n",
    "\t\tthis.light = light;\n",
    "\t}\n",
    " \n",
    "\tpublic void execute() {\n",
    "\t\tlight.off();\n",
    "\t}\n",
    "}"
   ]
  },
  {
   "cell_type": "code",
   "execution_count": null,
   "metadata": {
    "collapsed": true,
    "slideshow": {
     "slide_type": "slide"
    }
   },
   "outputs": [],
   "source": [
    "# %load ./src/headfirst/command/simpleremote/SimpleRemoteControl.java\n",
    "package headfirst.command.simpleremote;\n",
    "\n",
    "import java.util.*;\n",
    "\n",
    "public class SimpleRemoteControl {\n",
    "\tCommand slot;\n",
    " \n",
    "\tpublic SimpleRemoteControl() {}\n",
    " \n",
    "\tpublic void setCommand(Command command) {\n",
    "\t\tslot = command;\n",
    "\t}\n",
    " \n",
    "\tpublic void buttonWasPressed() {\n",
    "\t\tslot.execute();\n",
    "\t}\n",
    "}"
   ]
  },
  {
   "cell_type": "code",
   "execution_count": null,
   "metadata": {
    "collapsed": true,
    "slideshow": {
     "slide_type": "slide"
    }
   },
   "outputs": [],
   "source": [
    "# %load ./src/headfirst/command/simpleremote/RemoteControlTest.java\n",
    "package headfirst.command.simpleremote;\n",
    "\n",
    "public class RemoteControlTest {\n",
    "    public static void main(String[] args) {\n",
    "        SimpleRemoteControl remote = new SimpleRemoteControl();\n",
    "        Light light = new Light();\n",
    "        GarageDoor garageDoor = new GarageDoor();\n",
    "        LightOnCommand lightOn = new LightOnCommand(light);\n",
    "        GarageDoorOpenCommand garageOpen = new GarageDoorOpenCommand(garageDoor);\n",
    " \n",
    "        remote.setCommand(lightOn);\n",
    "        remote.buttonWasPressed();\n",
    "        remote.setCommand(garageOpen);\n",
    "        remote.buttonWasPressed();\n",
    "    }\n",
    "}\n"
   ]
  },
  {
   "cell_type": "code",
   "execution_count": 17,
   "metadata": {
    "collapsed": false,
    "slideshow": {
     "slide_type": "slide"
    }
   },
   "outputs": [
    {
     "name": "stdout",
     "output_type": "stream",
     "text": [
      "Light is on\r\n",
      "Garage Door is Open\r\n"
     ]
    }
   ],
   "source": [
    "!javac -d classes/ -sourcepath src/ src/headfirst/command/simpleremote/*.java\n",
    "!java -cp classes/ headfirst.command.simpleremote.RemoteControlTest"
   ]
  },
  {
   "cell_type": "markdown",
   "metadata": {
    "slideshow": {
     "slide_type": "slide"
    }
   },
   "source": [
    "### S.4.2 undo\n",
    "\n",
    "* 6.1에 undo()기능 추가\n",
    "* 버튼이 여러 개, 배열로 구현한다.\n",
    "* Null Object Pattern\n",
    "    * NoCommand클래스는 function body가 비어 있다.\n",
    "    * 단순하게 배열을 초기화하는 기능."
   ]
  },
  {
   "cell_type": "code",
   "execution_count": 8,
   "metadata": {
    "collapsed": false
   },
   "outputs": [
    {
     "data": {
      "image/svg+xml": [
       "<svg height=\"341px\" style=\"width:644px;height:341px;\" version=\"1.1\" viewBox=\"0 0 644 341\" width=\"644px\" xmlns=\"http://www.w3.org/2000/svg\" xmlns:xlink=\"http://www.w3.org/1999/xlink\"><defs><filter height=\"300%\" id=\"f1\" width=\"300%\" x=\"-1\" y=\"-1\"><feGaussianBlur result=\"blurOut\" stdDeviation=\"2.0\"/><feColorMatrix in=\"blurOut\" result=\"blurOut2\" type=\"matrix\" values=\"0 0 0 0 0 0 0 0 0 0 0 0 0 0 0 0 0 0 .4 0\"/><feOffset dx=\"4.0\" dy=\"4.0\" in=\"blurOut2\" result=\"blurOut3\"/><feBlend in=\"SourceGraphic\" in2=\"blurOut3\" mode=\"normal\"/></filter></defs><g><rect fill=\"#FEFECE\" filter=\"url(#f1)\" height=\"73.9102\" style=\"stroke: #A80036; stroke-width: 1.5;\" width=\"102\" x=\"408\" y=\"34\"/><ellipse cx=\"427.95\" cy=\"50\" fill=\"#B4A7E5\" rx=\"11\" ry=\"11\" style=\"stroke: #A80036; stroke-width: 1.0;\"/><path d=\"M423.8777,45.7651 L423.8777,43.6069 L431.2571,43.6069 L431.2571,45.7651 L428.7918,45.7651 L428.7918,53.8418 L431.2571,53.8418 L431.2571,56 L423.8777,56 L423.8777,53.8418 L426.3431,53.8418 L426.3431,45.7651 Z \"/><text fill=\"#000000\" font-family=\"sans-serif\" font-size=\"12\" font-style=\"italic\" lengthAdjust=\"spacingAndGlyphs\" textLength=\"59\" x=\"443.05\" y=\"54.5352\">Command</text><line style=\"stroke: #A80036; stroke-width: 1.5;\" x1=\"409\" x2=\"509\" y1=\"66\" y2=\"66\"/><line style=\"stroke: #A80036; stroke-width: 1.5;\" x1=\"409\" x2=\"509\" y1=\"74\" y2=\"74\"/><ellipse cx=\"419\" cy=\"85.9775\" fill=\"#84BE84\" rx=\"3\" ry=\"3\" style=\"stroke: #038048; stroke-width: 1.0;\"/><text fill=\"#000000\" font-family=\"sans-serif\" font-size=\"11\" lengthAdjust=\"spacingAndGlyphs\" textLength=\"76\" x=\"428\" y=\"88.6348\">execute():void</text><ellipse cx=\"419\" cy=\"98.9326\" fill=\"#84BE84\" rx=\"3\" ry=\"3\" style=\"stroke: #038048; stroke-width: 1.0;\"/><text fill=\"#000000\" font-family=\"sans-serif\" font-size=\"11\" lengthAdjust=\"spacingAndGlyphs\" textLength=\"62\" x=\"428\" y=\"101.5898\">undo():void</text><rect fill=\"#FEFECE\" filter=\"url(#f1)\" height=\"99.8203\" style=\"stroke: #A80036; stroke-width: 1.5;\" width=\"159\" x=\"334.5\" y=\"213.5\"/><ellipse cx=\"360.75\" cy=\"229.5\" fill=\"#ADD1B2\" rx=\"11\" ry=\"11\" style=\"stroke: #A80036; stroke-width: 1.0;\"/><path d=\"M363.7231,235.1431 Q363.1421,235.4419 362.5029,235.5913 Q361.8638,235.7407 361.1582,235.7407 Q358.6514,235.7407 357.3315,234.0889 Q356.0117,232.437 356.0117,229.3159 Q356.0117,226.1865 357.3315,224.5347 Q358.6514,222.8828 361.1582,222.8828 Q361.8638,222.8828 362.5112,223.0322 Q363.1587,223.1816 363.7231,223.4805 L363.7231,226.2031 Q363.0923,225.6221 362.4988,225.3523 Q361.9053,225.0825 361.2744,225.0825 Q359.9297,225.0825 359.2449,226.1492 Q358.5601,227.2158 358.5601,229.3159 Q358.5601,231.4077 359.2449,232.4744 Q359.9297,233.541 361.2744,233.541 Q361.9053,233.541 362.4988,233.2712 Q363.0923,233.0015 363.7231,232.4204 Z \"/><text fill=\"#000000\" font-family=\"sans-serif\" font-size=\"12\" lengthAdjust=\"spacingAndGlyphs\" textLength=\"102\" x=\"377.25\" y=\"234.0352\">LightOnCommand</text><line style=\"stroke: #A80036; stroke-width: 1.5;\" x1=\"335.5\" x2=\"492.5\" y1=\"245.5\" y2=\"245.5\"/><rect fill=\"none\" height=\"6\" style=\"stroke: #C82930; stroke-width: 1.0;\" width=\"6\" x=\"342.5\" y=\"254.4775\"/><text fill=\"#000000\" font-family=\"sans-serif\" font-size=\"11\" lengthAdjust=\"spacingAndGlyphs\" textLength=\"54\" x=\"354.5\" y=\"260.1348\">light:Light</text><line style=\"stroke: #A80036; stroke-width: 1.5;\" x1=\"335.5\" x2=\"492.5\" y1=\"266.4551\" y2=\"266.4551\"/><ellipse cx=\"345.5\" cy=\"278.4326\" fill=\"#84BE84\" rx=\"3\" ry=\"3\" style=\"stroke: #038048; stroke-width: 1.0;\"/><text fill=\"#000000\" font-family=\"sans-serif\" font-size=\"11\" lengthAdjust=\"spacingAndGlyphs\" textLength=\"133\" x=\"354.5\" y=\"281.0898\">LightOnCommand(Light)</text><ellipse cx=\"345.5\" cy=\"291.3877\" fill=\"#84BE84\" rx=\"3\" ry=\"3\" style=\"stroke: #038048; stroke-width: 1.0;\"/><text fill=\"#000000\" font-family=\"sans-serif\" font-size=\"11\" lengthAdjust=\"spacingAndGlyphs\" textLength=\"76\" x=\"354.5\" y=\"294.0449\">execute():void</text><ellipse cx=\"345.5\" cy=\"304.3428\" fill=\"#84BE84\" rx=\"3\" ry=\"3\" style=\"stroke: #038048; stroke-width: 1.0;\"/><text fill=\"#000000\" font-family=\"sans-serif\" font-size=\"11\" lengthAdjust=\"spacingAndGlyphs\" textLength=\"62\" x=\"354.5\" y=\"307\">undo():void</text><rect fill=\"#FEFECE\" filter=\"url(#f1)\" height=\"48\" style=\"stroke: #A80036; stroke-width: 1.5;\" width=\"135\" x=\"164.5\" y=\"239.5\"/><ellipse cx=\"179.5\" cy=\"255.5\" fill=\"#ADD1B2\" rx=\"11\" ry=\"11\" style=\"stroke: #A80036; stroke-width: 1.0;\"/><path d=\"M182.4731,261.1431 Q181.8921,261.4419 181.2529,261.5913 Q180.6138,261.7407 179.9082,261.7407 Q177.4014,261.7407 176.0815,260.0889 Q174.7617,258.437 174.7617,255.3159 Q174.7617,252.1865 176.0815,250.5347 Q177.4014,248.8828 179.9082,248.8828 Q180.6138,248.8828 181.2612,249.0322 Q181.9087,249.1816 182.4731,249.4805 L182.4731,252.2031 Q181.8423,251.6221 181.2488,251.3523 Q180.6553,251.0825 180.0244,251.0825 Q178.6797,251.0825 177.9949,252.1492 Q177.3101,253.2158 177.3101,255.3159 Q177.3101,257.4077 177.9949,258.4744 Q178.6797,259.541 180.0244,259.541 Q180.6553,259.541 181.2488,259.2712 Q181.8423,259.0015 182.4731,258.4204 Z \"/><text fill=\"#000000\" font-family=\"sans-serif\" font-size=\"12\" lengthAdjust=\"spacingAndGlyphs\" textLength=\"103\" x=\"193.5\" y=\"260.0352\">LightOffCommand</text><line style=\"stroke: #A80036; stroke-width: 1.5;\" x1=\"165.5\" x2=\"298.5\" y1=\"271.5\" y2=\"271.5\"/><line style=\"stroke: #A80036; stroke-width: 1.5;\" x1=\"165.5\" x2=\"298.5\" y1=\"279.5\" y2=\"279.5\"/><rect fill=\"#FEFECE\" filter=\"url(#f1)\" height=\"138.6855\" style=\"stroke: #A80036; stroke-width: 1.5;\" width=\"95\" x=\"34.5\" y=\"194\"/><ellipse cx=\"65.7\" cy=\"210\" fill=\"#ADD1B2\" rx=\"11\" ry=\"11\" style=\"stroke: #A80036; stroke-width: 1.0;\"/><path d=\"M68.6731,215.6431 Q68.0921,215.9419 67.4529,216.0913 Q66.8138,216.2407 66.1082,216.2407 Q63.6014,216.2407 62.2815,214.5889 Q60.9617,212.937 60.9617,209.8159 Q60.9617,206.6865 62.2815,205.0347 Q63.6014,203.3828 66.1082,203.3828 Q66.8138,203.3828 67.4612,203.5322 Q68.1087,203.6816 68.6731,203.9805 L68.6731,206.7031 Q68.0423,206.1221 67.4488,205.8523 Q66.8553,205.5825 66.2244,205.5825 Q64.8797,205.5825 64.1949,206.6492 Q63.5101,207.7158 63.5101,209.8159 Q63.5101,211.9077 64.1949,212.9744 Q64.8797,214.041 66.2244,214.041 Q66.8553,214.041 67.4488,213.7712 Q68.0423,213.5015 68.6731,212.9204 Z \"/><text fill=\"#000000\" font-family=\"sans-serif\" font-size=\"12\" lengthAdjust=\"spacingAndGlyphs\" textLength=\"27\" x=\"83.3\" y=\"214.5352\">Light</text><line style=\"stroke: #A80036; stroke-width: 1.5;\" x1=\"35.5\" x2=\"128.5\" y1=\"226\" y2=\"226\"/><text fill=\"#000000\" font-family=\"sans-serif\" font-size=\"11\" lengthAdjust=\"spacingAndGlyphs\" textLength=\"41\" x=\"40.5\" y=\"240.6348\">level:int</text><text fill=\"#000000\" font-family=\"sans-serif\" font-size=\"11\" lengthAdjust=\"spacingAndGlyphs\" textLength=\"78\" x=\"40.5\" y=\"253.5898\">location:String</text><line style=\"stroke: #A80036; stroke-width: 1.5;\" x1=\"35.5\" x2=\"128.5\" y1=\"259.9102\" y2=\"259.9102\"/><ellipse cx=\"45.5\" cy=\"271.8877\" fill=\"#84BE84\" rx=\"3\" ry=\"3\" style=\"stroke: #038048; stroke-width: 1.0;\"/><text fill=\"#000000\" font-family=\"sans-serif\" font-size=\"11\" lengthAdjust=\"spacingAndGlyphs\" textLength=\"67\" x=\"54.5\" y=\"274.5449\">Light(String)</text><ellipse cx=\"45.5\" cy=\"284.8428\" fill=\"#84BE84\" rx=\"3\" ry=\"3\" style=\"stroke: #038048; stroke-width: 1.0;\"/><text fill=\"#000000\" font-family=\"sans-serif\" font-size=\"11\" lengthAdjust=\"spacingAndGlyphs\" textLength=\"48\" x=\"54.5\" y=\"287.5\">on():void</text><ellipse cx=\"45.5\" cy=\"297.7979\" fill=\"#84BE84\" rx=\"3\" ry=\"3\" style=\"stroke: #038048; stroke-width: 1.0;\"/><text fill=\"#000000\" font-family=\"sans-serif\" font-size=\"11\" lengthAdjust=\"spacingAndGlyphs\" textLength=\"49\" x=\"54.5\" y=\"300.4551\">off():void</text><ellipse cx=\"45.5\" cy=\"310.7529\" fill=\"#84BE84\" rx=\"3\" ry=\"3\" style=\"stroke: #038048; stroke-width: 1.0;\"/><text fill=\"#000000\" font-family=\"sans-serif\" font-size=\"11\" lengthAdjust=\"spacingAndGlyphs\" textLength=\"68\" x=\"54.5\" y=\"313.4102\">dim(int):void</text><ellipse cx=\"45.5\" cy=\"323.708\" fill=\"#84BE84\" rx=\"3\" ry=\"3\" style=\"stroke: #038048; stroke-width: 1.0;\"/><text fill=\"#000000\" font-family=\"sans-serif\" font-size=\"11\" lengthAdjust=\"spacingAndGlyphs\" textLength=\"69\" x=\"54.5\" y=\"326.3652\">getLevel():int</text><rect fill=\"#FEFECE\" filter=\"url(#f1)\" height=\"48\" style=\"stroke: #A80036; stroke-width: 1.5;\" width=\"107\" x=\"528.5\" y=\"239.5\"/><ellipse cx=\"543.5\" cy=\"255.5\" fill=\"#ADD1B2\" rx=\"11\" ry=\"11\" style=\"stroke: #A80036; stroke-width: 1.0;\"/><path d=\"M546.4731,261.1431 Q545.8921,261.4419 545.2529,261.5913 Q544.6138,261.7407 543.9082,261.7407 Q541.4014,261.7407 540.0815,260.0889 Q538.7617,258.437 538.7617,255.3159 Q538.7617,252.1865 540.0815,250.5347 Q541.4014,248.8828 543.9082,248.8828 Q544.6138,248.8828 545.2612,249.0322 Q545.9087,249.1816 546.4731,249.4805 L546.4731,252.2031 Q545.8423,251.6221 545.2488,251.3523 Q544.6553,251.0825 544.0244,251.0825 Q542.6797,251.0825 541.9949,252.1492 Q541.3101,253.2158 541.3101,255.3159 Q541.3101,257.4077 541.9949,258.4744 Q542.6797,259.541 544.0244,259.541 Q544.6553,259.541 545.2488,259.2712 Q545.8423,259.0015 546.4731,258.4204 Z \"/><text fill=\"#000000\" font-family=\"sans-serif\" font-size=\"12\" lengthAdjust=\"spacingAndGlyphs\" textLength=\"75\" x=\"557.5\" y=\"260.0352\">NoCommand</text><line style=\"stroke: #A80036; stroke-width: 1.5;\" x1=\"529.5\" x2=\"634.5\" y1=\"271.5\" y2=\"271.5\"/><line style=\"stroke: #A80036; stroke-width: 1.5;\" x1=\"529.5\" x2=\"634.5\" y1=\"279.5\" y2=\"279.5\"/><rect fill=\"#FEFECE\" filter=\"url(#f1)\" height=\"125.7305\" style=\"stroke: #A80036; stroke-width: 1.5;\" width=\"267\" x=\"105.5\" y=\"8\"/><ellipse cx=\"165.25\" cy=\"24\" fill=\"#ADD1B2\" rx=\"11\" ry=\"11\" style=\"stroke: #A80036; stroke-width: 1.0;\"/><path d=\"M168.2231,29.6431 Q167.6421,29.9419 167.0029,30.0913 Q166.3638,30.2407 165.6582,30.2407 Q163.1514,30.2407 161.8315,28.5889 Q160.5117,26.937 160.5117,23.8159 Q160.5117,20.6865 161.8315,19.0347 Q163.1514,17.3828 165.6582,17.3828 Q166.3638,17.3828 167.0112,17.5322 Q167.6587,17.6816 168.2231,17.9805 L168.2231,20.7031 Q167.5923,20.1221 166.9988,19.8523 Q166.4053,19.5825 165.7744,19.5825 Q164.4297,19.5825 163.7449,20.6492 Q163.0601,21.7158 163.0601,23.8159 Q163.0601,25.9077 163.7449,26.9744 Q164.4297,28.041 165.7744,28.041 Q166.4053,28.041 166.9988,27.7712 Q167.5923,27.5015 168.2231,26.9204 Z \"/><text fill=\"#000000\" font-family=\"sans-serif\" font-size=\"12\" lengthAdjust=\"spacingAndGlyphs\" textLength=\"139\" x=\"185.75\" y=\"28.5352\">RemoteControlWithUndo</text><line style=\"stroke: #A80036; stroke-width: 1.5;\" x1=\"106.5\" x2=\"371.5\" y1=\"40\" y2=\"40\"/><text fill=\"#000000\" font-family=\"sans-serif\" font-size=\"11\" lengthAdjust=\"spacingAndGlyphs\" textLength=\"141\" x=\"111.5\" y=\"54.6348\">onCommands:Command[]</text><text fill=\"#000000\" font-family=\"sans-serif\" font-size=\"11\" lengthAdjust=\"spacingAndGlyphs\" textLength=\"142\" x=\"111.5\" y=\"67.5898\">offCommands:Command[]</text><line style=\"stroke: #A80036; stroke-width: 1.5;\" x1=\"106.5\" x2=\"371.5\" y1=\"73.9102\" y2=\"73.9102\"/><ellipse cx=\"116.5\" cy=\"85.8877\" fill=\"#84BE84\" rx=\"3\" ry=\"3\" style=\"stroke: #038048; stroke-width: 1.0;\"/><text fill=\"#000000\" font-family=\"sans-serif\" font-size=\"11\" lengthAdjust=\"spacingAndGlyphs\" textLength=\"141\" x=\"125.5\" y=\"88.5449\">RemoteControlWithUndo()</text><ellipse cx=\"116.5\" cy=\"98.8428\" fill=\"#84BE84\" rx=\"3\" ry=\"3\" style=\"stroke: #038048; stroke-width: 1.0;\"/><text fill=\"#000000\" font-family=\"sans-serif\" font-size=\"11\" lengthAdjust=\"spacingAndGlyphs\" textLength=\"241\" x=\"125.5\" y=\"101.5\">setCommand(int, Command, Command):void</text><ellipse cx=\"116.5\" cy=\"111.7979\" fill=\"#84BE84\" rx=\"3\" ry=\"3\" style=\"stroke: #038048; stroke-width: 1.0;\"/><text fill=\"#000000\" font-family=\"sans-serif\" font-size=\"11\" lengthAdjust=\"spacingAndGlyphs\" textLength=\"157\" x=\"125.5\" y=\"114.4551\">onButtonWasPushed(int):void</text><ellipse cx=\"116.5\" cy=\"124.7529\" fill=\"#84BE84\" rx=\"3\" ry=\"3\" style=\"stroke: #038048; stroke-width: 1.0;\"/><text fill=\"#000000\" font-family=\"sans-serif\" font-size=\"11\" lengthAdjust=\"spacingAndGlyphs\" textLength=\"157\" x=\"125.5\" y=\"127.4102\">onButtonWasPushed(int):void</text><rect fill=\"#FEFECE\" filter=\"url(#f1)\" height=\"48\" style=\"stroke: #A80036; stroke-width: 1.5;\" width=\"64\" x=\"6\" y=\"47\"/><ellipse cx=\"21\" cy=\"63\" fill=\"#ADD1B2\" rx=\"11\" ry=\"11\" style=\"stroke: #A80036; stroke-width: 1.0;\"/><path d=\"M23.9731,68.6431 Q23.3921,68.9419 22.7529,69.0913 Q22.1138,69.2407 21.4082,69.2407 Q18.9014,69.2407 17.5815,67.5889 Q16.2617,65.937 16.2617,62.8159 Q16.2617,59.6865 17.5815,58.0347 Q18.9014,56.3828 21.4082,56.3828 Q22.1138,56.3828 22.7612,56.5322 Q23.4087,56.6816 23.9731,56.9805 L23.9731,59.7031 Q23.3423,59.1221 22.7488,58.8523 Q22.1553,58.5825 21.5244,58.5825 Q20.1797,58.5825 19.4949,59.6492 Q18.8101,60.7158 18.8101,62.8159 Q18.8101,64.9077 19.4949,65.9744 Q20.1797,67.041 21.5244,67.041 Q22.1553,67.041 22.7488,66.7712 Q23.3423,66.5015 23.9731,65.9204 Z \"/><text fill=\"#000000\" font-family=\"sans-serif\" font-size=\"12\" lengthAdjust=\"spacingAndGlyphs\" textLength=\"32\" x=\"35\" y=\"67.5352\">Client</text><line style=\"stroke: #A80036; stroke-width: 1.5;\" x1=\"7\" x2=\"69\" y1=\"79\" y2=\"79\"/><line style=\"stroke: #A80036; stroke-width: 1.5;\" x1=\"7\" x2=\"69\" y1=\"87\" y2=\"87\"/><path d=\"M445.814,127.82 C439.409,154.937 431.78,187.232 425.599,213.399 \" fill=\"none\" style=\"stroke: #A80036; stroke-width: 1.0; stroke-dasharray: 7.0,7.0;\"/><polygon fill=\"none\" points=\"439.019,126.135,450.43,108.28,452.644,129.354,439.019,126.135\" style=\"stroke: #A80036; stroke-width: 1.0;\"/><path d=\"M404.329,121.567 C399.509,125.802 394.684,129.995 390,134 C366.15,154.392 299.415,208.282 260.731,239.4145 \" fill=\"none\" style=\"stroke: #A80036; stroke-width: 1.0; stroke-dasharray: 7.0,7.0;\"/><polygon fill=\"none\" points=\"399.922,116.119,419.525,108.074,409.218,126.588,399.922,116.119\" style=\"stroke: #A80036; stroke-width: 1.0;\"/><path d=\"M493.32,125.154 C517.534,162.657 548.785,211.058 566.989,239.2519 \" fill=\"none\" style=\"stroke: #A80036; stroke-width: 1.0; stroke-dasharray: 7.0,7.0;\"/><polygon fill=\"none\" points=\"487.393,128.879,482.425,108.28,499.154,121.285,487.393,128.879\" style=\"stroke: #A80036; stroke-width: 1.0;\"/><path d=\"M129.616,189.915 C139.801,179.416 151.477,170.12 164.5,164 C218.804,138.483 243.298,142.992 299.5,164 C326.759,174.189 351.818,194.12 371.499,213.485 \" fill=\"none\" style=\"stroke: #A80036; stroke-width: 1.0;\"/><polygon fill=\"#A80036\" points=\"125.931,193.833,135.0105,190.0169,129.3563,190.1906,129.1826,184.5364,125.931,193.833\" style=\"stroke: #A80036; stroke-width: 1.0;\"/><path d=\"M134.852,263.5 C144.602,263.5 154.352,263.5 164.102,263.5 \" fill=\"none\" style=\"stroke: #A80036; stroke-width: 1.0;\"/><polygon fill=\"#A80036\" points=\"129.754,263.5,138.754,267.5,134.754,263.5,138.754,259.5,129.754,263.5\" style=\"stroke: #A80036; stroke-width: 1.0;\"/><path d=\"M372.633,71 C382.592,71 392.552,71 402.511,71 \" fill=\"none\" style=\"stroke: #A80036; stroke-width: 1.0;\"/><polygon fill=\"#A80036\" points=\"407.719,71,398.719,67,402.719,71,398.719,75,407.719,71\" style=\"stroke: #A80036; stroke-width: 1.0;\"/><path d=\"M70.1914,71 C80.2053,71 90.2192,71 100.2331,71 \" fill=\"none\" style=\"stroke: #A80036; stroke-width: 1.0;\"/><polygon fill=\"#A80036\" points=\"105.4698,71,96.4698,67,100.4698,71,96.4698,75,105.4698,71\" style=\"stroke: #A80036; stroke-width: 1.0;\"/><path d=\"M43.3953,95.359 C48.7758,118.654 57.3243,155.666 65.011,188.945 \" fill=\"none\" style=\"stroke: #A80036; stroke-width: 1.0;\"/><polygon fill=\"#A80036\" points=\"66.1383,193.826,68.0094,184.1565,65.0126,188.9544,60.2147,185.9576,66.1383,193.826\" style=\"stroke: #A80036; stroke-width: 1.0;\"/></g></svg>"
      ],
      "text/plain": [
       "<IPython.core.display.SVG object>"
      ]
     },
     "execution_count": 8,
     "metadata": {},
     "output_type": "execute_result"
    }
   ],
   "source": [
    "%%plantuml\n",
    "@startuml\n",
    "interface Command {\n",
    "  +execute():void\n",
    "  +undo():void\n",
    "}\n",
    "class LightOnCommand {\n",
    "  -light:Light\n",
    "  +LightOnCommand(Light)\n",
    "  +execute():void\n",
    "  +undo():void\n",
    "}\n",
    "Class LightOffCommand\n",
    "class Light {\n",
    "  level:int\n",
    "  location:String\n",
    "  +Light(String)\n",
    "  +on():void\n",
    "  +off():void\n",
    "  +dim(int):void\n",
    "  +getLevel():int\n",
    "}\n",
    "class NoCommand\n",
    "class RemoteControlWithUndo {\n",
    "  onCommands:Command[]\n",
    "  offCommands:Command[]\n",
    "  +RemoteControlWithUndo()\n",
    "  +setCommand(int, Command, Command):void\n",
    "  +onButtonWasPushed(int):void\n",
    "  +onButtonWasPushed(int):void  \n",
    "}\n",
    "Command <|.. LightOnCommand\n",
    "Command <|.. LightOffCommand\n",
    "Command <|.. NoCommand\n",
    "LightOnCommand -left-> Light\n",
    "LightOffCommand -left-> Light\n",
    "RemoteControlWithUndo -right-> Command\n",
    "Client -> RemoteControlWithUndo\n",
    "Client -down-> Light\n",
    "@enduml"
   ]
  },
  {
   "cell_type": "code",
   "execution_count": 10,
   "metadata": {
    "collapsed": false,
    "slideshow": {
     "slide_type": "slide"
    }
   },
   "outputs": [
    {
     "data": {
      "image/svg+xml": [
       "<svg height=\"390px\" style=\"width:880px;height:390px;\" version=\"1.1\" viewBox=\"0 0 880 390\" width=\"880px\" xmlns=\"http://www.w3.org/2000/svg\" xmlns:xlink=\"http://www.w3.org/1999/xlink\"><defs><filter height=\"300%\" id=\"f1\" width=\"300%\" x=\"-1\" y=\"-1\"><feGaussianBlur result=\"blurOut\" stdDeviation=\"2.0\"/><feColorMatrix in=\"blurOut\" result=\"blurOut2\" type=\"matrix\" values=\"0 0 0 0 0 0 0 0 0 0 0 0 0 0 0 0 0 0 .4 0\"/><feOffset dx=\"4.0\" dy=\"4.0\" in=\"blurOut2\" result=\"blurOut3\"/><feBlend in=\"SourceGraphic\" in2=\"blurOut3\" mode=\"normal\"/></filter></defs><g><line style=\"stroke: #A80036; stroke-width: 1.0; stroke-dasharray: 5.0,5.0;\" x1=\"37\" x2=\"37\" y1=\"38.4883\" y2=\"351.5938\"/><line style=\"stroke: #A80036; stroke-width: 1.0; stroke-dasharray: 5.0,5.0;\" x1=\"411.5\" x2=\"411.5\" y1=\"38.4883\" y2=\"351.5938\"/><line style=\"stroke: #A80036; stroke-width: 1.0; stroke-dasharray: 5.0,5.0;\" x1=\"542.5\" x2=\"542.5\" y1=\"38.4883\" y2=\"351.5938\"/><line style=\"stroke: #A80036; stroke-width: 1.0; stroke-dasharray: 5.0,5.0;\" x1=\"649.5\" x2=\"649.5\" y1=\"38.4883\" y2=\"351.5938\"/><line style=\"stroke: #A80036; stroke-width: 1.0; stroke-dasharray: 5.0,5.0;\" x1=\"803.5\" x2=\"803.5\" y1=\"38.4883\" y2=\"351.5938\"/><rect fill=\"#FEFECE\" filter=\"url(#f1)\" height=\"30.4883\" style=\"stroke: #A80036; stroke-width: 1.5;\" width=\"54\" x=\"8\" y=\"3\"/><text fill=\"#000000\" font-family=\"sans-serif\" font-size=\"14\" lengthAdjust=\"spacingAndGlyphs\" textLength=\"40\" x=\"15\" y=\"23.5352\">Client</text><rect fill=\"#FEFECE\" filter=\"url(#f1)\" height=\"30.4883\" style=\"stroke: #A80036; stroke-width: 1.5;\" width=\"54\" x=\"8\" y=\"350.5938\"/><text fill=\"#000000\" font-family=\"sans-serif\" font-size=\"14\" lengthAdjust=\"spacingAndGlyphs\" textLength=\"40\" x=\"15\" y=\"371.1289\">Client</text><rect fill=\"#FEFECE\" filter=\"url(#f1)\" height=\"30.4883\" style=\"stroke: #A80036; stroke-width: 1.5;\" width=\"185\" x=\"317.5\" y=\"3\"/><text fill=\"#000000\" font-family=\"sans-serif\" font-size=\"14\" lengthAdjust=\"spacingAndGlyphs\" textLength=\"171\" x=\"324.5\" y=\"23.5352\">RemoteControlWithUndo</text><rect fill=\"#FEFECE\" filter=\"url(#f1)\" height=\"30.4883\" style=\"stroke: #A80036; stroke-width: 1.5;\" width=\"185\" x=\"317.5\" y=\"350.5938\"/><text fill=\"#000000\" font-family=\"sans-serif\" font-size=\"14\" lengthAdjust=\"spacingAndGlyphs\" textLength=\"171\" x=\"324.5\" y=\"371.1289\">RemoteControlWithUndo</text><rect fill=\"#FEFECE\" filter=\"url(#f1)\" height=\"30.4883\" style=\"stroke: #A80036; stroke-width: 1.5;\" width=\"48\" x=\"516.5\" y=\"3\"/><text fill=\"#000000\" font-family=\"sans-serif\" font-size=\"14\" lengthAdjust=\"spacingAndGlyphs\" textLength=\"34\" x=\"523.5\" y=\"23.5352\">Light</text><rect fill=\"#FEFECE\" filter=\"url(#f1)\" height=\"30.4883\" style=\"stroke: #A80036; stroke-width: 1.5;\" width=\"48\" x=\"516.5\" y=\"350.5938\"/><text fill=\"#000000\" font-family=\"sans-serif\" font-size=\"14\" lengthAdjust=\"spacingAndGlyphs\" textLength=\"34\" x=\"523.5\" y=\"371.1289\">Light</text><rect fill=\"#FEFECE\" filter=\"url(#f1)\" height=\"30.4883\" style=\"stroke: #A80036; stroke-width: 1.5;\" width=\"139\" x=\"578.5\" y=\"3\"/><text fill=\"#000000\" font-family=\"sans-serif\" font-size=\"14\" lengthAdjust=\"spacingAndGlyphs\" textLength=\"125\" x=\"585.5\" y=\"23.5352\">LightOnCommand</text><rect fill=\"#FEFECE\" filter=\"url(#f1)\" height=\"30.4883\" style=\"stroke: #A80036; stroke-width: 1.5;\" width=\"139\" x=\"578.5\" y=\"350.5938\"/><text fill=\"#000000\" font-family=\"sans-serif\" font-size=\"14\" lengthAdjust=\"spacingAndGlyphs\" textLength=\"125\" x=\"585.5\" y=\"371.1289\">LightOnCommand</text><rect fill=\"#FEFECE\" filter=\"url(#f1)\" height=\"30.4883\" style=\"stroke: #A80036; stroke-width: 1.5;\" width=\"140\" x=\"731.5\" y=\"3\"/><text fill=\"#000000\" font-family=\"sans-serif\" font-size=\"14\" lengthAdjust=\"spacingAndGlyphs\" textLength=\"126\" x=\"738.5\" y=\"23.5352\">LightOffCommand</text><rect fill=\"#FEFECE\" filter=\"url(#f1)\" height=\"30.4883\" style=\"stroke: #A80036; stroke-width: 1.5;\" width=\"140\" x=\"731.5\" y=\"350.5938\"/><text fill=\"#000000\" font-family=\"sans-serif\" font-size=\"14\" lengthAdjust=\"spacingAndGlyphs\" textLength=\"126\" x=\"738.5\" y=\"371.1289\">LightOffCommand</text><polygon fill=\"#A80036\" points=\"400,65.4883,410,69.4883,400,73.4883,404,69.4883\" style=\"stroke: #A80036; stroke-width: 1.0;\"/><line style=\"stroke: #A80036; stroke-width: 1.0;\" x1=\"37\" x2=\"406\" y1=\"69.4883\" y2=\"69.4883\"/><text fill=\"#000000\" font-family=\"sans-serif\" font-size=\"13\" lengthAdjust=\"spacingAndGlyphs\" textLength=\"87\" x=\"44\" y=\"65.0566\">remote=new()</text><polygon fill=\"#A80036\" points=\"530.5,94.7988,540.5,98.7988,530.5,102.7988,534.5,98.7988\" style=\"stroke: #A80036; stroke-width: 1.0;\"/><line style=\"stroke: #A80036; stroke-width: 1.0;\" x1=\"37\" x2=\"536.5\" y1=\"98.7988\" y2=\"98.7988\"/><text fill=\"#000000\" font-family=\"sans-serif\" font-size=\"13\" lengthAdjust=\"spacingAndGlyphs\" textLength=\"146\" x=\"44\" y=\"94.3672\">livingRoomLight=new()</text><polygon fill=\"#A80036\" points=\"638,124.1094,648,128.1094,638,132.1094,642,128.1094\" style=\"stroke: #A80036; stroke-width: 1.0;\"/><line style=\"stroke: #A80036; stroke-width: 1.0;\" x1=\"37\" x2=\"644\" y1=\"128.1094\" y2=\"128.1094\"/><text fill=\"#000000\" font-family=\"sans-serif\" font-size=\"13\" lengthAdjust=\"spacingAndGlyphs\" textLength=\"267\" x=\"44\" y=\"123.6777\">livingRoomLightOn=new(livingRoomLight)</text><polygon fill=\"#A80036\" points=\"791.5,153.4199,801.5,157.4199,791.5,161.4199,795.5,157.4199\" style=\"stroke: #A80036; stroke-width: 1.0;\"/><line style=\"stroke: #A80036; stroke-width: 1.0;\" x1=\"37\" x2=\"797.5\" y1=\"157.4199\" y2=\"157.4199\"/><text fill=\"#000000\" font-family=\"sans-serif\" font-size=\"13\" lengthAdjust=\"spacingAndGlyphs\" textLength=\"269\" x=\"44\" y=\"152.9883\">livingRoomLightOff=new(livingRoomLight)</text><polygon fill=\"#A80036\" points=\"400,182.7305,410,186.7305,400,190.7305,404,186.7305\" style=\"stroke: #A80036; stroke-width: 1.0;\"/><line style=\"stroke: #A80036; stroke-width: 1.0;\" x1=\"37\" x2=\"406\" y1=\"186.7305\" y2=\"186.7305\"/><text fill=\"#000000\" font-family=\"sans-serif\" font-size=\"13\" lengthAdjust=\"spacingAndGlyphs\" textLength=\"351\" x=\"44\" y=\"182.2988\">setCommand(0,livingRoomLightOn,livingRoomLightOff)</text><polygon fill=\"#A80036\" points=\"400,212.041,410,216.041,400,220.041,404,216.041\" style=\"stroke: #A80036; stroke-width: 1.0;\"/><line style=\"stroke: #A80036; stroke-width: 1.0;\" x1=\"37\" x2=\"406\" y1=\"216.041\" y2=\"216.041\"/><text fill=\"#000000\" font-family=\"sans-serif\" font-size=\"13\" lengthAdjust=\"spacingAndGlyphs\" textLength=\"143\" x=\"44\" y=\"211.6094\">onButtonWasPushed(0)</text><polygon fill=\"#A80036\" points=\"400,241.3516,410,245.3516,400,249.3516,404,245.3516\" style=\"stroke: #A80036; stroke-width: 1.0;\"/><line style=\"stroke: #A80036; stroke-width: 1.0;\" x1=\"37\" x2=\"406\" y1=\"245.3516\" y2=\"245.3516\"/><text fill=\"#000000\" font-family=\"sans-serif\" font-size=\"13\" lengthAdjust=\"spacingAndGlyphs\" textLength=\"145\" x=\"44\" y=\"240.9199\">offButtonWasPushed(0)</text><polygon fill=\"#A80036\" points=\"400,270.6621,410,274.6621,400,278.6621,404,274.6621\" style=\"stroke: #A80036; stroke-width: 1.0;\"/><line style=\"stroke: #A80036; stroke-width: 1.0;\" x1=\"37\" x2=\"406\" y1=\"274.6621\" y2=\"274.6621\"/><text fill=\"#000000\" font-family=\"sans-serif\" font-size=\"13\" lengthAdjust=\"spacingAndGlyphs\" textLength=\"151\" x=\"44\" y=\"270.2305\">undoButtonWasPushed()</text><polygon fill=\"#A80036\" points=\"400,299.9727,410,303.9727,400,307.9727,404,303.9727\" style=\"stroke: #A80036; stroke-width: 1.0;\"/><line style=\"stroke: #A80036; stroke-width: 1.0;\" x1=\"37\" x2=\"406\" y1=\"303.9727\" y2=\"303.9727\"/><text fill=\"#000000\" font-family=\"sans-serif\" font-size=\"13\" lengthAdjust=\"spacingAndGlyphs\" textLength=\"145\" x=\"44\" y=\"299.541\">offButtonWasPushed(0)</text><polygon fill=\"#A80036\" points=\"400,329.2832,410,333.2832,400,337.2832,404,333.2832\" style=\"stroke: #A80036; stroke-width: 1.0;\"/><line style=\"stroke: #A80036; stroke-width: 1.0;\" x1=\"37\" x2=\"406\" y1=\"333.2832\" y2=\"333.2832\"/><text fill=\"#000000\" font-family=\"sans-serif\" font-size=\"13\" lengthAdjust=\"spacingAndGlyphs\" textLength=\"143\" x=\"44\" y=\"328.8516\">onButtonWasPushed(0)</text></g></svg>"
      ],
      "text/plain": [
       "<IPython.core.display.SVG object>"
      ]
     },
     "execution_count": 10,
     "metadata": {},
     "output_type": "execute_result"
    }
   ],
   "source": [
    "%%plantuml\n",
    "@startuml\n",
    "Client -> RemoteControlWithUndo:remote=new()\n",
    "Client -> Light:livingRoomLight=new()\n",
    "Client -> LightOnCommand: livingRoomLightOn=new(livingRoomLight)\n",
    "Client -> LightOffCommand: livingRoomLightOff=new(livingRoomLight)\n",
    "Client -> RemoteControlWithUndo:setCommand(0,livingRoomLightOn,livingRoomLightOff)\n",
    "Client -> RemoteControlWithUndo:onButtonWasPushed(0)\n",
    "Client -> RemoteControlWithUndo:offButtonWasPushed(0)\n",
    "Client -> RemoteControlWithUndo:undoButtonWasPushed()\n",
    "Client -> RemoteControlWithUndo:offButtonWasPushed(0)\n",
    "Client -> RemoteControlWithUndo:onButtonWasPushed(0)\n",
    "@enduml"
   ]
  },
  {
   "cell_type": "code",
   "execution_count": null,
   "metadata": {
    "collapsed": true,
    "slideshow": {
     "slide_type": "slide"
    }
   },
   "outputs": [],
   "source": [
    "# %load ./src/headfirst/command/undo/Command.java\n",
    "package headfirst.command.undo;\n",
    "\n",
    "public interface Command {\n",
    "    public void execute();\n",
    "    public void undo();\n",
    "}\n"
   ]
  },
  {
   "cell_type": "code",
   "execution_count": null,
   "metadata": {
    "collapsed": true,
    "slideshow": {
     "slide_type": "slide"
    }
   },
   "outputs": [],
   "source": [
    "# %load ./src/headfirst/command/undo/NoCommand.java\n",
    "package headfirst.command.undo;\n",
    "\n",
    "public class NoCommand implements Command {\n",
    "    public void execute() { }\n",
    "    public void undo() { }\n",
    "}\n"
   ]
  },
  {
   "cell_type": "code",
   "execution_count": null,
   "metadata": {
    "collapsed": false,
    "slideshow": {
     "slide_type": "slide"
    }
   },
   "outputs": [],
   "source": [
    "# %load ./src/headfirst/command/undo/Light.java\n",
    "package headfirst.command.undo;\n",
    "\n",
    "public class Light {\n",
    "\tString location;\n",
    "\tint level;\n",
    "\tpublic Light(String location) {\n",
    "\t\tthis.location = location;\n",
    "\t}\n",
    "\tpublic void on() {\n",
    "\t\tlevel = 100;\n",
    "\t\tSystem.out.println(\"Light is on\");\n",
    "\t}\n",
    "\tpublic void off() {\n",
    "\t\tlevel = 0;\n",
    "\t\tSystem.out.println(\"Light is off\");\n",
    "\t}\n",
    "\tpublic void dim(int level) {\n",
    "\t\tthis.level = level;\n",
    "\t\tif (level == 0) {\n",
    "\t\t\toff();\n",
    "\t\t}\n",
    "\t\telse {\n",
    "\t\t\tSystem.out.println(\"Light is dimmed to \" + level + \"%\");\n",
    "\t\t}\n",
    "\t}\n",
    "\tpublic int getLevel() {\n",
    "\t\treturn level;\n",
    "\t}\n",
    "}\n"
   ]
  },
  {
   "cell_type": "code",
   "execution_count": null,
   "metadata": {
    "collapsed": true,
    "slideshow": {
     "slide_type": "slide"
    }
   },
   "outputs": [],
   "source": [
    "# %load ./src/headfirst/command/undo/LightOnCommand.java\n",
    "package headfirst.command.undo;\n",
    "\n",
    "public class LightOnCommand implements Command {\n",
    "\tLight light;\n",
    "\tint level;\n",
    "\tpublic LightOnCommand(Light light) {\n",
    "\t\tthis.light = light;\n",
    "\t}\n",
    " \n",
    "\tpublic void execute() {\n",
    "        level = light.getLevel();\n",
    "\t\tlight.on();\n",
    "\t}\n",
    " \n",
    "\tpublic void undo() {\n",
    "\t\tlight.dim(level);\n",
    "\t}\n",
    "}\n"
   ]
  },
  {
   "cell_type": "code",
   "execution_count": null,
   "metadata": {
    "collapsed": true,
    "slideshow": {
     "slide_type": "slide"
    }
   },
   "outputs": [],
   "source": [
    "# %load ./src/headfirst/command/undo/LightOffCommand.java\n",
    "package headfirst.command.undo;\n",
    "\n",
    "public class LightOffCommand implements Command {\n",
    "\tLight light;\n",
    "\tint level;\n",
    "\tpublic LightOffCommand(Light light) {\n",
    "\t\tthis.light = light;\n",
    "\t}\n",
    " \n",
    "\tpublic void execute() {\n",
    "        level = light.getLevel();\n",
    "\t\tlight.off();\n",
    "\t}\n",
    " \n",
    "\tpublic void undo() {\n",
    "\t\tlight.dim(level);\n",
    "\t}\n",
    "}\n"
   ]
  },
  {
   "cell_type": "code",
   "execution_count": null,
   "metadata": {
    "collapsed": false,
    "slideshow": {
     "slide_type": "slide"
    }
   },
   "outputs": [],
   "source": [
    "# %load ./src/headfirst/command/undo/RemoteControlWithUndo.java\n",
    "package headfirst.command.undo;\n",
    "\n",
    "import java.util.*;\n",
    "\n",
    "public class RemoteControlWithUndo {\n",
    "\tCommand[] onCommands;\n",
    "\tCommand[] offCommands;\n",
    "\tCommand undoCommand;\n",
    " \n",
    "\tpublic RemoteControlWithUndo() {\n",
    "\t\tonCommands = new Command[7];\n",
    "\t\toffCommands = new Command[7];\n",
    " \n",
    "\t\tCommand noCommand = new NoCommand();\n",
    "\t\tfor(int i=0;i<7;i++) {\n",
    "\t\t\tonCommands[i] = noCommand;\n",
    "\t\t\toffCommands[i] = noCommand;\n",
    "\t\t}\n",
    "\t\tundoCommand = noCommand;\n",
    "\t}\n",
    "  \n",
    "\tpublic void setCommand(int slot, Command onCommand, Command offCommand) {\n",
    "\t\tonCommands[slot] = onCommand;\n",
    "\t\toffCommands[slot] = offCommand;\n",
    "\t}\n",
    " \n",
    "\tpublic void onButtonWasPushed(int slot) {\n",
    "\t\tonCommands[slot].execute();\n",
    "\t\tundoCommand = onCommands[slot];\n",
    "\t}\n",
    " \n",
    "\tpublic void offButtonWasPushed(int slot) {\n",
    "\t\toffCommands[slot].execute();\n",
    "\t\tundoCommand = offCommands[slot];\n",
    "\t}\n",
    " \n",
    "\tpublic void undoButtonWasPushed() {\n",
    "\t\tundoCommand.undo();\n",
    "\t}\n",
    "  \n",
    "\tpublic String toString() {\n",
    "\t\tStringBuffer stringBuff = new StringBuffer();\n",
    "\t\tstringBuff.append(\"\\n------ Remote Control -------\\n\");\n",
    "\t\tfor (int i = 0; i < onCommands.length; i++) {\n",
    "\t\t\tstringBuff.append(\"[slot \" + i + \"] \" + onCommands[i].getClass().getName()\n",
    "\t\t\t\t+ \"    \" + offCommands[i].getClass().getName() + \"\\n\");\n",
    "\t\t}\n",
    "\t\tstringBuff.append(\"[undo] \" + undoCommand.getClass().getName() + \"\\n\");\n",
    "\t\treturn stringBuff.toString();\n",
    "\t}\n",
    "}\n"
   ]
  },
  {
   "cell_type": "code",
   "execution_count": null,
   "metadata": {
    "collapsed": true,
    "slideshow": {
     "slide_type": "slide"
    }
   },
   "outputs": [],
   "source": [
    "# %load ./src/headfirst/command/undo/RemoteLoader.java\n",
    "package headfirst.command.undo;\n",
    "\n",
    "public class RemoteLoader {\n",
    " \n",
    "\tpublic static void main(String[] args) {\n",
    "\t\tRemoteControlWithUndo remoteControl = new RemoteControlWithUndo();\n",
    " \n",
    "\t\tLight livingRoomLight = new Light(\"Living Room\");\n",
    "\n",
    "\t\tLightOnCommand livingRoomLightOn = new LightOnCommand(livingRoomLight);\n",
    "\t\tLightOffCommand livingRoomLightOff = new LightOffCommand(livingRoomLight);\n",
    "\n",
    "\t\tremoteControl.setCommand(0, livingRoomLightOn, livingRoomLightOff);\n",
    " \n",
    "\t\tremoteControl.onButtonWasPushed(0);\n",
    "\t\tremoteControl.offButtonWasPushed(0);\n",
    "\t\tSystem.out.println(remoteControl);\n",
    "\t\tremoteControl.undoButtonWasPushed();\n",
    "\t\tremoteControl.offButtonWasPushed(0);\n",
    "\t\tremoteControl.onButtonWasPushed(0);\n",
    "\t\tSystem.out.println(remoteControl);\n",
    "\t\tremoteControl.undoButtonWasPushed();\n",
    "\t}\n",
    "}\n"
   ]
  },
  {
   "cell_type": "code",
   "execution_count": 38,
   "metadata": {
    "collapsed": false,
    "slideshow": {
     "slide_type": "slide"
    }
   },
   "outputs": [
    {
     "name": "stdout",
     "output_type": "stream",
     "text": [
      "Light is on\r\n",
      "Light is off\r\n",
      "\r\n",
      "------ Remote Control -------\r\n",
      "[slot 0] headfirst.command.undo.LightOnCommand    headfirst.command.undo.LightOffCommand\r\n",
      "[slot 1] headfirst.command.undo.NoCommand    headfirst.command.undo.NoCommand\r\n",
      "[slot 2] headfirst.command.undo.NoCommand    headfirst.command.undo.NoCommand\r\n",
      "[slot 3] headfirst.command.undo.NoCommand    headfirst.command.undo.NoCommand\r\n",
      "[slot 4] headfirst.command.undo.NoCommand    headfirst.command.undo.NoCommand\r\n",
      "[slot 5] headfirst.command.undo.NoCommand    headfirst.command.undo.NoCommand\r\n",
      "[slot 6] headfirst.command.undo.NoCommand    headfirst.command.undo.NoCommand\r\n",
      "[undo] headfirst.command.undo.LightOffCommand\r\n",
      "\r\n",
      "Light is dimmed to 100%\r\n",
      "Light is off\r\n",
      "Light is on\r\n",
      "\r\n",
      "------ Remote Control -------\r\n",
      "[slot 0] headfirst.command.undo.LightOnCommand    headfirst.command.undo.LightOffCommand\r\n",
      "[slot 1] headfirst.command.undo.NoCommand    headfirst.command.undo.NoCommand\r\n",
      "[slot 2] headfirst.command.undo.NoCommand    headfirst.command.undo.NoCommand\r\n",
      "[slot 3] headfirst.command.undo.NoCommand    headfirst.command.undo.NoCommand\r\n",
      "[slot 4] headfirst.command.undo.NoCommand    headfirst.command.undo.NoCommand\r\n",
      "[slot 5] headfirst.command.undo.NoCommand    headfirst.command.undo.NoCommand\r\n",
      "[slot 6] headfirst.command.undo.NoCommand    headfirst.command.undo.NoCommand\r\n",
      "[undo] headfirst.command.undo.LightOnCommand\r\n",
      "\r\n",
      "Light is off\r\n"
     ]
    }
   ],
   "source": [
    "!javac -d classes/ -sourcepath src/ src/headfirst/command/undo/*.java\n",
    "!java -cp classes/ headfirst.command.undo.RemoteLoader"
   ]
  },
  {
   "cell_type": "markdown",
   "metadata": {
    "slideshow": {
     "slide_type": "slide"
    }
   },
   "source": [
    "### S.4.3 Party\n",
    "\n",
    "* 많은 기기\n",
    "* macro"
   ]
  },
  {
   "cell_type": "code",
   "execution_count": 94,
   "metadata": {
    "collapsed": false,
    "slideshow": {
     "slide_type": "slide"
    }
   },
   "outputs": [
    {
     "data": {
      "image/svg+xml": [
       "<svg height=\"535px\" style=\"width:1342px;height:535px;\" version=\"1.1\" viewBox=\"0 0 1342 535\" width=\"1342px\" xmlns=\"http://www.w3.org/2000/svg\" xmlns:xlink=\"http://www.w3.org/1999/xlink\"><defs><filter height=\"300%\" id=\"f1\" width=\"300%\" x=\"-1\" y=\"-1\"><feGaussianBlur result=\"blurOut\" stdDeviation=\"2.0\"/><feColorMatrix in=\"blurOut\" result=\"blurOut2\" type=\"matrix\" values=\"0 0 0 0 0 0 0 0 0 0 0 0 0 0 0 0 0 0 .4 0\"/><feOffset dx=\"4.0\" dy=\"4.0\" in=\"blurOut2\" result=\"blurOut3\"/><feBlend in=\"SourceGraphic\" in2=\"blurOut3\" mode=\"normal\"/></filter></defs><g><line style=\"stroke: #A80036; stroke-width: 1.0;\" x1=\"37\" x2=\"37\" y1=\"38.4883\" y2=\"253.6621\"/><line style=\"stroke: #A80036; stroke-width: 1.0; stroke-dasharray: 1.0,4.0;\" x1=\"37\" x2=\"37\" y1=\"253.6621\" y2=\"281.6621\"/><line style=\"stroke: #A80036; stroke-width: 1.0;\" x1=\"37\" x2=\"37\" y1=\"281.6621\" y2=\"496.8359\"/><line style=\"stroke: #A80036; stroke-width: 1.0;\" x1=\"346\" x2=\"346\" y1=\"38.4883\" y2=\"253.6621\"/><line style=\"stroke: #A80036; stroke-width: 1.0; stroke-dasharray: 1.0,4.0;\" x1=\"346\" x2=\"346\" y1=\"253.6621\" y2=\"281.6621\"/><line style=\"stroke: #A80036; stroke-width: 1.0;\" x1=\"346\" x2=\"346\" y1=\"281.6621\" y2=\"496.8359\"/><line style=\"stroke: #A80036; stroke-width: 1.0;\" x1=\"443\" x2=\"443\" y1=\"38.4883\" y2=\"253.6621\"/><line style=\"stroke: #A80036; stroke-width: 1.0; stroke-dasharray: 1.0,4.0;\" x1=\"443\" x2=\"443\" y1=\"253.6621\" y2=\"281.6621\"/><line style=\"stroke: #A80036; stroke-width: 1.0;\" x1=\"443\" x2=\"443\" y1=\"281.6621\" y2=\"496.8359\"/><line style=\"stroke: #A80036; stroke-width: 1.0;\" x1=\"497\" x2=\"497\" y1=\"38.4883\" y2=\"253.6621\"/><line style=\"stroke: #A80036; stroke-width: 1.0; stroke-dasharray: 1.0,4.0;\" x1=\"497\" x2=\"497\" y1=\"253.6621\" y2=\"281.6621\"/><line style=\"stroke: #A80036; stroke-width: 1.0;\" x1=\"497\" x2=\"497\" y1=\"281.6621\" y2=\"496.8359\"/><line style=\"stroke: #A80036; stroke-width: 1.0;\" x1=\"596\" x2=\"596\" y1=\"38.4883\" y2=\"253.6621\"/><line style=\"stroke: #A80036; stroke-width: 1.0; stroke-dasharray: 1.0,4.0;\" x1=\"596\" x2=\"596\" y1=\"253.6621\" y2=\"281.6621\"/><line style=\"stroke: #A80036; stroke-width: 1.0;\" x1=\"596\" x2=\"596\" y1=\"281.6621\" y2=\"496.8359\"/><line style=\"stroke: #A80036; stroke-width: 1.0;\" x1=\"750\" x2=\"750\" y1=\"38.4883\" y2=\"253.6621\"/><line style=\"stroke: #A80036; stroke-width: 1.0; stroke-dasharray: 1.0,4.0;\" x1=\"750\" x2=\"750\" y1=\"253.6621\" y2=\"281.6621\"/><line style=\"stroke: #A80036; stroke-width: 1.0;\" x1=\"750\" x2=\"750\" y1=\"281.6621\" y2=\"496.8359\"/><line style=\"stroke: #A80036; stroke-width: 1.0;\" x1=\"895\" x2=\"895\" y1=\"38.4883\" y2=\"253.6621\"/><line style=\"stroke: #A80036; stroke-width: 1.0; stroke-dasharray: 1.0,4.0;\" x1=\"895\" x2=\"895\" y1=\"253.6621\" y2=\"281.6621\"/><line style=\"stroke: #A80036; stroke-width: 1.0;\" x1=\"895\" x2=\"895\" y1=\"281.6621\" y2=\"496.8359\"/><line style=\"stroke: #A80036; stroke-width: 1.0;\" x1=\"1033\" x2=\"1033\" y1=\"38.4883\" y2=\"253.6621\"/><line style=\"stroke: #A80036; stroke-width: 1.0; stroke-dasharray: 1.0,4.0;\" x1=\"1033\" x2=\"1033\" y1=\"253.6621\" y2=\"281.6621\"/><line style=\"stroke: #A80036; stroke-width: 1.0;\" x1=\"1033\" x2=\"1033\" y1=\"281.6621\" y2=\"496.8359\"/><line style=\"stroke: #A80036; stroke-width: 1.0;\" x1=\"1151\" x2=\"1151\" y1=\"38.4883\" y2=\"253.6621\"/><line style=\"stroke: #A80036; stroke-width: 1.0; stroke-dasharray: 1.0,4.0;\" x1=\"1151\" x2=\"1151\" y1=\"253.6621\" y2=\"281.6621\"/><line style=\"stroke: #A80036; stroke-width: 1.0;\" x1=\"1151\" x2=\"1151\" y1=\"281.6621\" y2=\"496.8359\"/><line style=\"stroke: #A80036; stroke-width: 1.0;\" x1=\"1271\" x2=\"1271\" y1=\"38.4883\" y2=\"253.6621\"/><line style=\"stroke: #A80036; stroke-width: 1.0; stroke-dasharray: 1.0,4.0;\" x1=\"1271\" x2=\"1271\" y1=\"253.6621\" y2=\"281.6621\"/><line style=\"stroke: #A80036; stroke-width: 1.0;\" x1=\"1271\" x2=\"1271\" y1=\"281.6621\" y2=\"496.8359\"/><rect fill=\"#FEFECE\" filter=\"url(#f1)\" height=\"30.4883\" style=\"stroke: #A80036; stroke-width: 1.5;\" width=\"54\" x=\"8\" y=\"3\"/><text fill=\"#000000\" font-family=\"sans-serif\" font-size=\"14\" lengthAdjust=\"spacingAndGlyphs\" textLength=\"40\" x=\"15\" y=\"23.5352\">Client</text><rect fill=\"#FEFECE\" filter=\"url(#f1)\" height=\"30.4883\" style=\"stroke: #A80036; stroke-width: 1.5;\" width=\"54\" x=\"8\" y=\"495.8359\"/><text fill=\"#000000\" font-family=\"sans-serif\" font-size=\"14\" lengthAdjust=\"spacingAndGlyphs\" textLength=\"40\" x=\"15\" y=\"516.3711\">Client</text><rect fill=\"#FEFECE\" filter=\"url(#f1)\" height=\"30.4883\" style=\"stroke: #A80036; stroke-width: 1.5;\" width=\"118\" x=\"285\" y=\"3\"/><text fill=\"#000000\" font-family=\"sans-serif\" font-size=\"14\" lengthAdjust=\"spacingAndGlyphs\" textLength=\"104\" x=\"292\" y=\"23.5352\">RemoteControl</text><rect fill=\"#FEFECE\" filter=\"url(#f1)\" height=\"30.4883\" style=\"stroke: #A80036; stroke-width: 1.5;\" width=\"118\" x=\"285\" y=\"495.8359\"/><text fill=\"#000000\" font-family=\"sans-serif\" font-size=\"14\" lengthAdjust=\"spacingAndGlyphs\" textLength=\"104\" x=\"292\" y=\"516.3711\">RemoteControl</text><rect fill=\"#FEFECE\" filter=\"url(#f1)\" height=\"30.4883\" style=\"stroke: #A80036; stroke-width: 1.5;\" width=\"48\" x=\"417\" y=\"3\"/><text fill=\"#000000\" font-family=\"sans-serif\" font-size=\"14\" lengthAdjust=\"spacingAndGlyphs\" textLength=\"34\" x=\"424\" y=\"23.5352\">Light</text><rect fill=\"#FEFECE\" filter=\"url(#f1)\" height=\"30.4883\" style=\"stroke: #A80036; stroke-width: 1.5;\" width=\"48\" x=\"417\" y=\"495.8359\"/><text fill=\"#000000\" font-family=\"sans-serif\" font-size=\"14\" lengthAdjust=\"spacingAndGlyphs\" textLength=\"34\" x=\"424\" y=\"516.3711\">Light</text><rect fill=\"#FEFECE\" filter=\"url(#f1)\" height=\"30.4883\" style=\"stroke: #A80036; stroke-width: 1.5;\" width=\"32\" x=\"479\" y=\"3\"/><text fill=\"#000000\" font-family=\"sans-serif\" font-size=\"14\" lengthAdjust=\"spacingAndGlyphs\" textLength=\"18\" x=\"486\" y=\"23.5352\">TV</text><rect fill=\"#FEFECE\" filter=\"url(#f1)\" height=\"30.4883\" style=\"stroke: #A80036; stroke-width: 1.5;\" width=\"32\" x=\"479\" y=\"495.8359\"/><text fill=\"#000000\" font-family=\"sans-serif\" font-size=\"14\" lengthAdjust=\"spacingAndGlyphs\" textLength=\"18\" x=\"486\" y=\"516.3711\">TV</text><rect fill=\"#FEFECE\" filter=\"url(#f1)\" height=\"30.4883\" style=\"stroke: #A80036; stroke-width: 1.5;\" width=\"139\" x=\"525\" y=\"3\"/><text fill=\"#000000\" font-family=\"sans-serif\" font-size=\"14\" lengthAdjust=\"spacingAndGlyphs\" textLength=\"125\" x=\"532\" y=\"23.5352\">LightOnCommand</text><rect fill=\"#FEFECE\" filter=\"url(#f1)\" height=\"30.4883\" style=\"stroke: #A80036; stroke-width: 1.5;\" width=\"139\" x=\"525\" y=\"495.8359\"/><text fill=\"#000000\" font-family=\"sans-serif\" font-size=\"14\" lengthAdjust=\"spacingAndGlyphs\" textLength=\"125\" x=\"532\" y=\"516.3711\">LightOnCommand</text><rect fill=\"#FEFECE\" filter=\"url(#f1)\" height=\"30.4883\" style=\"stroke: #A80036; stroke-width: 1.5;\" width=\"140\" x=\"678\" y=\"3\"/><text fill=\"#000000\" font-family=\"sans-serif\" font-size=\"14\" lengthAdjust=\"spacingAndGlyphs\" textLength=\"126\" x=\"685\" y=\"23.5352\">LightOffCommand</text><rect fill=\"#FEFECE\" filter=\"url(#f1)\" height=\"30.4883\" style=\"stroke: #A80036; stroke-width: 1.5;\" width=\"140\" x=\"678\" y=\"495.8359\"/><text fill=\"#000000\" font-family=\"sans-serif\" font-size=\"14\" lengthAdjust=\"spacingAndGlyphs\" textLength=\"126\" x=\"685\" y=\"516.3711\">LightOffCommand</text><rect fill=\"#FEFECE\" filter=\"url(#f1)\" height=\"30.4883\" style=\"stroke: #A80036; stroke-width: 1.5;\" width=\"123\" x=\"832\" y=\"3\"/><text fill=\"#000000\" font-family=\"sans-serif\" font-size=\"14\" lengthAdjust=\"spacingAndGlyphs\" textLength=\"109\" x=\"839\" y=\"23.5352\">TVOnCommand</text><rect fill=\"#FEFECE\" filter=\"url(#f1)\" height=\"30.4883\" style=\"stroke: #A80036; stroke-width: 1.5;\" width=\"123\" x=\"832\" y=\"495.8359\"/><text fill=\"#000000\" font-family=\"sans-serif\" font-size=\"14\" lengthAdjust=\"spacingAndGlyphs\" textLength=\"109\" x=\"839\" y=\"516.3711\">TVOnCommand</text><rect fill=\"#FEFECE\" filter=\"url(#f1)\" height=\"30.4883\" style=\"stroke: #A80036; stroke-width: 1.5;\" width=\"124\" x=\"969\" y=\"3\"/><text fill=\"#000000\" font-family=\"sans-serif\" font-size=\"14\" lengthAdjust=\"spacingAndGlyphs\" textLength=\"110\" x=\"976\" y=\"23.5352\">TVOffCommand</text><rect fill=\"#FEFECE\" filter=\"url(#f1)\" height=\"30.4883\" style=\"stroke: #A80036; stroke-width: 1.5;\" width=\"124\" x=\"969\" y=\"495.8359\"/><text fill=\"#000000\" font-family=\"sans-serif\" font-size=\"14\" lengthAdjust=\"spacingAndGlyphs\" textLength=\"110\" x=\"976\" y=\"516.3711\">TVOffCommand</text><rect fill=\"#FEFECE\" filter=\"url(#f1)\" height=\"30.4883\" style=\"stroke: #A80036; stroke-width: 1.5;\" width=\"85\" x=\"1107\" y=\"3\"/><text fill=\"#000000\" font-family=\"sans-serif\" font-size=\"14\" lengthAdjust=\"spacingAndGlyphs\" textLength=\"71\" x=\"1114\" y=\"23.5352\">Command</text><rect fill=\"#FEFECE\" filter=\"url(#f1)\" height=\"30.4883\" style=\"stroke: #A80036; stroke-width: 1.5;\" width=\"85\" x=\"1107\" y=\"495.8359\"/><text fill=\"#000000\" font-family=\"sans-serif\" font-size=\"14\" lengthAdjust=\"spacingAndGlyphs\" textLength=\"71\" x=\"1114\" y=\"516.3711\">Command</text><rect fill=\"#FEFECE\" filter=\"url(#f1)\" height=\"30.4883\" style=\"stroke: #A80036; stroke-width: 1.5;\" width=\"127\" x=\"1206\" y=\"3\"/><text fill=\"#000000\" font-family=\"sans-serif\" font-size=\"14\" lengthAdjust=\"spacingAndGlyphs\" textLength=\"113\" x=\"1213\" y=\"23.5352\">MacroCommand</text><rect fill=\"#FEFECE\" filter=\"url(#f1)\" height=\"30.4883\" style=\"stroke: #A80036; stroke-width: 1.5;\" width=\"127\" x=\"1206\" y=\"495.8359\"/><text fill=\"#000000\" font-family=\"sans-serif\" font-size=\"14\" lengthAdjust=\"spacingAndGlyphs\" textLength=\"113\" x=\"1213\" y=\"516.3711\">MacroCommand</text><polygon fill=\"#A80036\" points=\"334,65.4883,344,69.4883,334,73.4883,338,69.4883\" style=\"stroke: #A80036; stroke-width: 1.0;\"/><line style=\"stroke: #A80036; stroke-width: 1.0;\" x1=\"37\" x2=\"340\" y1=\"69.4883\" y2=\"69.4883\"/><text fill=\"#000000\" font-family=\"sans-serif\" font-size=\"13\" lengthAdjust=\"spacingAndGlyphs\" textLength=\"87\" x=\"44\" y=\"65.0566\">remote=new()</text><polygon fill=\"#A80036\" points=\"431,94.7988,441,98.7988,431,102.7988,435,98.7988\" style=\"stroke: #A80036; stroke-width: 1.0;\"/><line style=\"stroke: #A80036; stroke-width: 1.0;\" x1=\"37\" x2=\"437\" y1=\"98.7988\" y2=\"98.7988\"/><text fill=\"#000000\" font-family=\"sans-serif\" font-size=\"13\" lengthAdjust=\"spacingAndGlyphs\" textLength=\"72\" x=\"44\" y=\"94.3672\">light=new()</text><polygon fill=\"#A80036\" points=\"485,124.1094,495,128.1094,485,132.1094,489,128.1094\" style=\"stroke: #A80036; stroke-width: 1.0;\"/><line style=\"stroke: #A80036; stroke-width: 1.0;\" x1=\"37\" x2=\"491\" y1=\"128.1094\" y2=\"128.1094\"/><text fill=\"#000000\" font-family=\"sans-serif\" font-size=\"13\" lengthAdjust=\"spacingAndGlyphs\" textLength=\"55\" x=\"44\" y=\"123.6777\">tv=new()</text><polygon fill=\"#A80036\" points=\"584.5,153.4199,594.5,157.4199,584.5,161.4199,588.5,157.4199\" style=\"stroke: #A80036; stroke-width: 1.0;\"/><line style=\"stroke: #A80036; stroke-width: 1.0;\" x1=\"37\" x2=\"590.5\" y1=\"157.4199\" y2=\"157.4199\"/><text fill=\"#000000\" font-family=\"sans-serif\" font-size=\"13\" lengthAdjust=\"spacingAndGlyphs\" textLength=\"119\" x=\"44\" y=\"152.9883\">lightOn=new(light)</text><polygon fill=\"#A80036\" points=\"738,182.7305,748,186.7305,738,190.7305,742,186.7305\" style=\"stroke: #A80036; stroke-width: 1.0;\"/><line style=\"stroke: #A80036; stroke-width: 1.0;\" x1=\"37\" x2=\"744\" y1=\"186.7305\" y2=\"186.7305\"/><text fill=\"#000000\" font-family=\"sans-serif\" font-size=\"13\" lengthAdjust=\"spacingAndGlyphs\" textLength=\"121\" x=\"44\" y=\"182.2988\">lightOff=new(light)</text><polygon fill=\"#A80036\" points=\"883.5,212.041,893.5,216.041,883.5,220.041,887.5,216.041\" style=\"stroke: #A80036; stroke-width: 1.0;\"/><line style=\"stroke: #A80036; stroke-width: 1.0;\" x1=\"37\" x2=\"889.5\" y1=\"216.041\" y2=\"216.041\"/><text fill=\"#000000\" font-family=\"sans-serif\" font-size=\"13\" lengthAdjust=\"spacingAndGlyphs\" textLength=\"85\" x=\"44\" y=\"211.6094\">tvOn=new(tv)</text><polygon fill=\"#A80036\" points=\"1021,241.3516,1031,245.3516,1021,249.3516,1025,245.3516\" style=\"stroke: #A80036; stroke-width: 1.0;\"/><line style=\"stroke: #A80036; stroke-width: 1.0;\" x1=\"37\" x2=\"1027\" y1=\"245.3516\" y2=\"245.3516\"/><text fill=\"#000000\" font-family=\"sans-serif\" font-size=\"13\" lengthAdjust=\"spacingAndGlyphs\" textLength=\"87\" x=\"44\" y=\"240.9199\">tvOff=new(tv)</text><polygon fill=\"#A80036\" points=\"1139.5,298.6621,1149.5,302.6621,1139.5,306.6621,1143.5,302.6621\" style=\"stroke: #A80036; stroke-width: 1.0;\"/><line style=\"stroke: #A80036; stroke-width: 1.0;\" x1=\"37\" x2=\"1145.5\" y1=\"302.6621\" y2=\"302.6621\"/><text fill=\"#000000\" font-family=\"sans-serif\" font-size=\"13\" lengthAdjust=\"spacingAndGlyphs\" textLength=\"157\" x=\"44\" y=\"298.2305\">partyOn[]={lightOn,tvOn}</text><polygon fill=\"#A80036\" points=\"1139.5,327.9727,1149.5,331.9727,1139.5,335.9727,1143.5,331.9727\" style=\"stroke: #A80036; stroke-width: 1.0;\"/><line style=\"stroke: #A80036; stroke-width: 1.0;\" x1=\"37\" x2=\"1145.5\" y1=\"331.9727\" y2=\"331.9727\"/><text fill=\"#000000\" font-family=\"sans-serif\" font-size=\"13\" lengthAdjust=\"spacingAndGlyphs\" textLength=\"163\" x=\"44\" y=\"327.541\">partyOff[]={lightOff,tvOff}</text><polygon fill=\"#A80036\" points=\"1259.5,357.2832,1269.5,361.2832,1259.5,365.2832,1263.5,361.2832\" style=\"stroke: #A80036; stroke-width: 1.0;\"/><line style=\"stroke: #A80036; stroke-width: 1.0;\" x1=\"37\" x2=\"1265.5\" y1=\"361.2832\" y2=\"361.2832\"/><text fill=\"#000000\" font-family=\"sans-serif\" font-size=\"13\" lengthAdjust=\"spacingAndGlyphs\" textLength=\"223\" x=\"44\" y=\"356.8516\">partyOnMacro=new Macro(partyOn)</text><polygon fill=\"#A80036\" points=\"1259.5,386.5938,1269.5,390.5938,1259.5,394.5938,1263.5,390.5938\" style=\"stroke: #A80036; stroke-width: 1.0;\"/><line style=\"stroke: #A80036; stroke-width: 1.0;\" x1=\"37\" x2=\"1265.5\" y1=\"390.5938\" y2=\"390.5938\"/><text fill=\"#000000\" font-family=\"sans-serif\" font-size=\"13\" lengthAdjust=\"spacingAndGlyphs\" textLength=\"227\" x=\"44\" y=\"386.1621\">partyOffMacro=new Macro(partyOff)</text><polygon fill=\"#A80036\" points=\"334,415.9043,344,419.9043,334,423.9043,338,419.9043\" style=\"stroke: #A80036; stroke-width: 1.0;\"/><line style=\"stroke: #A80036; stroke-width: 1.0;\" x1=\"37\" x2=\"340\" y1=\"419.9043\" y2=\"419.9043\"/><text fill=\"#000000\" font-family=\"sans-serif\" font-size=\"13\" lengthAdjust=\"spacingAndGlyphs\" textLength=\"285\" x=\"44\" y=\"415.4727\">setCommand(0,partyOnMacro,partyOffMacro)</text><polygon fill=\"#A80036\" points=\"334,445.2148,344,449.2148,334,453.2148,338,449.2148\" style=\"stroke: #A80036; stroke-width: 1.0;\"/><line style=\"stroke: #A80036; stroke-width: 1.0;\" x1=\"37\" x2=\"340\" y1=\"449.2148\" y2=\"449.2148\"/><text fill=\"#000000\" font-family=\"sans-serif\" font-size=\"13\" lengthAdjust=\"spacingAndGlyphs\" textLength=\"143\" x=\"44\" y=\"444.7832\">onButtonWasPushed(0)</text><polygon fill=\"#A80036\" points=\"334,474.5254,344,478.5254,334,482.5254,338,478.5254\" style=\"stroke: #A80036; stroke-width: 1.0;\"/><line style=\"stroke: #A80036; stroke-width: 1.0;\" x1=\"37\" x2=\"340\" y1=\"478.5254\" y2=\"478.5254\"/><text fill=\"#000000\" font-family=\"sans-serif\" font-size=\"13\" lengthAdjust=\"spacingAndGlyphs\" textLength=\"145\" x=\"44\" y=\"474.0938\">offButtonWasPushed(0)</text></g></svg>"
      ],
      "text/plain": [
       "<IPython.core.display.SVG object>"
      ]
     },
     "execution_count": 94,
     "metadata": {},
     "output_type": "execute_result"
    }
   ],
   "source": [
    "%%plantuml\n",
    "@startuml\n",
    "Client -> RemoteControl:remote=new()\n",
    "Client -> Light:light=new()\n",
    "Client -> TV:tv=new()\n",
    "Client -> LightOnCommand:lightOn=new(light)\n",
    "Client -> LightOffCommand:lightOff=new(light)\n",
    "Client -> TVOnCommand:tvOn=new(tv)\n",
    "Client -> TVOffCommand:tvOff=new(tv)\n",
    "    ...\n",
    "Client -> Command:partyOn[]={lightOn,tvOn}\n",
    "Client -> Command:partyOff[]={lightOff,tvOff}\n",
    "Client -> MacroCommand:partyOnMacro=new Macro(partyOn)\n",
    "Client -> MacroCommand:partyOffMacro=new Macro(partyOff)\n",
    "Client -> RemoteControl:setCommand(0,partyOnMacro,partyOffMacro)\n",
    "Client -> RemoteControl:onButtonWasPushed(0)\n",
    "Client -> RemoteControl:offButtonWasPushed(0)\n",
    "@enduml"
   ]
  },
  {
   "cell_type": "code",
   "execution_count": null,
   "metadata": {
    "collapsed": true,
    "slideshow": {
     "slide_type": "slide"
    }
   },
   "outputs": [],
   "source": [
    "# %load ./src/headfirst/command/party/RemoteLoader.java\n",
    "package headfirst.command.party;\n",
    "\n",
    "public class RemoteLoader {\n",
    "\n",
    "\tpublic static void main(String[] args) {\n",
    "\n",
    "\t\tRemoteControl remoteControl = new RemoteControl();\n",
    "\n",
    "\t\tLight light = new Light(\"Living Room\");\n",
    "\t\tTV tv = new TV(\"Living Room\");\n",
    "\t\tStereo stereo = new Stereo(\"Living Room\");\n",
    "\t\tHottub hottub = new Hottub();\n",
    " \n",
    "\t\tLightOnCommand lightOn = new LightOnCommand(light);\n",
    "\t\tStereoOnCommand stereoOn = new StereoOnCommand(stereo);\n",
    "\t\tTVOnCommand tvOn = new TVOnCommand(tv);\n",
    "\t\tHottubOnCommand hottubOn = new HottubOnCommand(hottub);\n",
    "\t\tLightOffCommand lightOff = new LightOffCommand(light);\n",
    "\t\tStereoOffCommand stereoOff = new StereoOffCommand(stereo);\n",
    "\t\tTVOffCommand tvOff = new TVOffCommand(tv);\n",
    "\t\tHottubOffCommand hottubOff = new HottubOffCommand(hottub);\n",
    "\n",
    "\t\tCommand[] partyOn = { lightOn, stereoOn, tvOn, hottubOn};\n",
    "\t\tCommand[] partyOff = { lightOff, stereoOff, tvOff, hottubOff};\n",
    "  \n",
    "\t\tMacroCommand partyOnMacro = new MacroCommand(partyOn);\n",
    "\t\tMacroCommand partyOffMacro = new MacroCommand(partyOff);\n",
    " \n",
    "\t\tremoteControl.setCommand(0, partyOnMacro, partyOffMacro);\n",
    "  \n",
    "\t\tSystem.out.println(remoteControl);\n",
    "\t\tSystem.out.println(\"--- Pushing Macro On---\");\n",
    "\t\tremoteControl.onButtonWasPushed(0);\n",
    "\t\tSystem.out.println(\"--- Pushing Macro Off---\");\n",
    "\t\tremoteControl.offButtonWasPushed(0);\n",
    "\t}\n",
    "}\n"
   ]
  },
  {
   "cell_type": "code",
   "execution_count": 91,
   "metadata": {
    "collapsed": false,
    "slideshow": {
     "slide_type": "slide"
    }
   },
   "outputs": [
    {
     "name": "stdout",
     "output_type": "stream",
     "text": [
      "\r\n",
      "------ Remote Control -------\r\n",
      "[slot 0] headfirst.command.party.MacroCommand    headfirst.command.party.MacroCommand\r\n",
      "[slot 1] headfirst.command.party.NoCommand    headfirst.command.party.NoCommand\r\n",
      "[slot 2] headfirst.command.party.NoCommand    headfirst.command.party.NoCommand\r\n",
      "[slot 3] headfirst.command.party.NoCommand    headfirst.command.party.NoCommand\r\n",
      "[slot 4] headfirst.command.party.NoCommand    headfirst.command.party.NoCommand\r\n",
      "[slot 5] headfirst.command.party.NoCommand    headfirst.command.party.NoCommand\r\n",
      "[slot 6] headfirst.command.party.NoCommand    headfirst.command.party.NoCommand\r\n",
      "[undo] headfirst.command.party.NoCommand\r\n",
      "\r\n",
      "--- Pushing Macro On---\r\n",
      "Light is on\r\n",
      "Living Room stereo is on\r\n",
      "Living Room TV is on\r\n",
      "Living Room TV channel is set for DVD\r\n",
      "Hottub is heating to a steaming 104 degrees\r\n",
      "Hottub is bubbling!\r\n",
      "--- Pushing Macro Off---\r\n",
      "Light is off\r\n",
      "Living Room stereo is off\r\n",
      "Living Room TV is off\r\n",
      "Hottub is cooling to 98 degrees\r\n"
     ]
    }
   ],
   "source": [
    "!javac -d classes/ -sourcepath src/ src/headfirst/command/party/*.java\n",
    "!java -cp classes/ headfirst.command.party.RemoteLoader"
   ]
  }
 ],
 "metadata": {
  "celltoolbar": "Slideshow",
  "kernelspec": {
   "display_name": "Python 2",
   "language": "python",
   "name": "python2"
  },
  "language_info": {
   "codemirror_mode": {
    "name": "ipython",
    "version": 2
   },
   "file_extension": ".py",
   "mimetype": "text/x-python",
   "name": "python",
   "nbconvert_exporter": "python",
   "pygments_lexer": "ipython2",
   "version": "2.7.12"
  }
 },
 "nbformat": 4,
 "nbformat_minor": 0
}
