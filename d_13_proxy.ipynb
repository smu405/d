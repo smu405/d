{
 "cells": [
  {
   "cell_type": "markdown",
   "metadata": {
    "slideshow": {
     "slide_type": "slide"
    }
   },
   "source": [
    "# Proxy 패턴\n",
    "\n",
    "\n",
    "## P.1 소개\n",
    "\n",
    "* Proxy 패턴 (Structural Design Pattern)\n",
    "* proxy패턴은 '접근제어'를 위해 사용한다 (controlling object access)\n",
    "    * \"a class functioning as an interface to something else\"\n",
    "    * 사용하려는 객체를 대신해서 서비스를 처리함 - 지점이 은행본점의 업무를 대신해서 처리하는 경우\n",
    "    * 서버에 있는 원격객체를 호출, 즉 다른 jvm에 있는 객체를 호출할 경우\n",
    "        * 서버 원격객체의 stub을 클라이언트에 생성해서 이 stub을 사용함.\n",
    "        * 클라이언트 측의 stub이 서버의 proxy.\n",
    "        * stub의 proxy역할\n",
    "            * 클라이언트의 서버 원격객체에 대한 요청을 로컬에서 처리함. 클라이언트은 처리를 요청할 권한이 있어야 한다.\n",
    "* proxy의 종류\n",
    "    * remote proxy\n",
    "        * 분산네트워크환경에서 원격객체를 대신해서 로컬jvm에 생성하는 proxy.\n",
    "        * proxy가 요청을 받아서, 원격의 다른 jvm에 있는 객체를 연결.\n",
    "    * virtual proxy\n",
    "        * 객체를 필요할 경우 생성하고, virtual proxy를 사용함.\n",
    "        * image proxy (로딩할 때까지, 적은 icon을 사용함)\n",
    "    * protection proxy\n",
    "        * invocation handler"
   ]
  },
  {
   "cell_type": "markdown",
   "metadata": {
    "slideshow": {
     "slide_type": "subslide"
    }
   },
   "source": [
    "* 디자인패턴 요소\n",
    "요소 | 설명\n",
    "---|---\n",
    "name | Proxy\n",
    "problem | 사용하려는 객체가 멀리 있거나, 바쁘거나, 크거나 직접 사용하기 어려움.\n",
    "solution | 대리 객체를 만듦.\n",
    "consequence | 요청과 처리의 decopupling, 실제 사용하려는 객체의 부하를 줄임. 구현이 복잡해짐."
   ]
  },
  {
   "cell_type": "markdown",
   "metadata": {
    "slideshow": {
     "slide_type": "subslide"
    }
   },
   "source": [
    "* cases\n",
    "    * 분산시스템에서 많이 사용된다.\n",
    "        * CORBA ORB (Object Request Broker)\n",
    "        * MS Object Linking and Embedding\n",
    "        * Web proxy - forward HTTP requests (e.g., Apache (with mod_proxy or Traffic Server)\n",
    "    * image proxy\n",
    "    * exercise (by Sat to git: 50% for 1 day late deadline) \n",
    "        * case extension\n",
    "            * gumball mahcine 분산객체를 구현 ('고장' state 포함).\n",
    "        * new case - calculator\n",
    "            * 간단한 연산을 RMI로 구현 (더하기, 빼기, 곱하기, 나누기)."
   ]
  },
  {
   "cell_type": "markdown",
   "metadata": {
    "slideshow": {
     "slide_type": "slide"
    }
   },
   "source": [
    "## P.2 문제\n",
    "\n",
    "* 접근의 제어\n",
    "    * 사용하려는 객체가, 멀리 떨어져 있거나\n",
    "    * 메모리에 상주하지만 매우 크거나\n",
    "    * 성능을 향상하려거나, 보안을 강화할 경우\n",
    "\n",
    "* 클라이언트가 사용하려는 객체를 바로 사용함."
   ]
  },
  {
   "cell_type": "code",
   "execution_count": null,
   "metadata": {
    "collapsed": true,
    "slideshow": {
     "slide_type": "subslide"
    }
   },
   "outputs": [],
   "source": [
    "import iplantuml"
   ]
  },
  {
   "cell_type": "code",
   "execution_count": 8,
   "metadata": {
    "collapsed": false,
    "slideshow": {
     "slide_type": "-"
    }
   },
   "outputs": [
    {
     "data": {
      "image/svg+xml": [
       "<svg height=\"194px\" style=\"width:297px;height:194px;\" version=\"1.1\" viewBox=\"0 0 297 194\" width=\"297px\" xmlns=\"http://www.w3.org/2000/svg\" xmlns:xlink=\"http://www.w3.org/1999/xlink\"><defs><filter height=\"300%\" id=\"f1\" width=\"300%\" x=\"-1\" y=\"-1\"><feGaussianBlur result=\"blurOut\" stdDeviation=\"2.0\"/><feColorMatrix in=\"blurOut\" result=\"blurOut2\" type=\"matrix\" values=\"0 0 0 0 0 0 0 0 0 0 0 0 0 0 0 0 0 0 .4 0\"/><feOffset dx=\"4.0\" dy=\"4.0\" in=\"blurOut2\" result=\"blurOut3\"/><feBlend in=\"SourceGraphic\" in2=\"blurOut3\" mode=\"normal\"/></filter></defs><g><text fill=\"#000000\" font-family=\"sans-serif\" font-size=\"18\" lengthAdjust=\"spacingAndGlyphs\" textLength=\"67\" x=\"119.5\" y=\"17.4023\">before1</text><rect fill=\"#FEFECE\" filter=\"url(#f1)\" height=\"48\" style=\"stroke: #A80036; stroke-width: 1.5;\" width=\"68\" x=\"113\" y=\"137.1992\"/><ellipse cx=\"128\" cy=\"153.1992\" fill=\"#ADD1B2\" rx=\"11\" ry=\"11\" style=\"stroke: #A80036; stroke-width: 1.0;\"/><path d=\"M130.9731,158.8423 Q130.3921,159.1411 129.7529,159.2905 Q129.1138,159.4399 128.4082,159.4399 Q125.9014,159.4399 124.5815,157.7881 Q123.2617,156.1362 123.2617,153.0151 Q123.2617,149.8857 124.5815,148.2339 Q125.9014,146.582 128.4082,146.582 Q129.1138,146.582 129.7612,146.7314 Q130.4087,146.8809 130.9731,147.1797 L130.9731,149.9023 Q130.3423,149.3213 129.7488,149.0515 Q129.1553,148.7817 128.5244,148.7817 Q127.1797,148.7817 126.4949,149.8484 Q125.8101,150.915 125.8101,153.0151 Q125.8101,155.1069 126.4949,156.1736 Q127.1797,157.2402 128.5244,157.2402 Q129.1553,157.2402 129.7488,156.9705 Q130.3423,156.7007 130.9731,156.1196 Z \"/><text fill=\"#000000\" font-family=\"sans-serif\" font-size=\"12\" lengthAdjust=\"spacingAndGlyphs\" textLength=\"36\" x=\"142\" y=\"157.7344\">Server</text><line style=\"stroke: #A80036; stroke-width: 1.5;\" x1=\"114\" x2=\"180\" y1=\"169.1992\" y2=\"169.1992\"/><line style=\"stroke: #A80036; stroke-width: 1.5;\" x1=\"114\" x2=\"180\" y1=\"177.1992\" y2=\"177.1992\"/><rect fill=\"#FEFECE\" filter=\"url(#f1)\" height=\"48\" style=\"stroke: #A80036; stroke-width: 1.5;\" width=\"72\" x=\"6\" y=\"137.1992\"/><ellipse cx=\"21\" cy=\"153.1992\" fill=\"#ADD1B2\" rx=\"11\" ry=\"11\" style=\"stroke: #A80036; stroke-width: 1.0;\"/><path d=\"M23.9731,158.8423 Q23.3921,159.1411 22.7529,159.2905 Q22.1138,159.4399 21.4082,159.4399 Q18.9014,159.4399 17.5815,157.7881 Q16.2617,156.1362 16.2617,153.0151 Q16.2617,149.8857 17.5815,148.2339 Q18.9014,146.582 21.4082,146.582 Q22.1138,146.582 22.7612,146.7314 Q23.4087,146.8809 23.9731,147.1797 L23.9731,149.9023 Q23.3423,149.3213 22.7488,149.0515 Q22.1553,148.7817 21.5244,148.7817 Q20.1797,148.7817 19.4949,149.8484 Q18.8101,150.915 18.8101,153.0151 Q18.8101,155.1069 19.4949,156.1736 Q20.1797,157.2402 21.5244,157.2402 Q22.1553,157.2402 22.7488,156.9705 Q23.3423,156.7007 23.9731,156.1196 Z \"/><text fill=\"#000000\" font-family=\"sans-serif\" font-size=\"12\" lengthAdjust=\"spacingAndGlyphs\" textLength=\"40\" x=\"35\" y=\"157.7344\">Client1</text><line style=\"stroke: #A80036; stroke-width: 1.5;\" x1=\"7\" x2=\"77\" y1=\"169.1992\" y2=\"169.1992\"/><line style=\"stroke: #A80036; stroke-width: 1.5;\" x1=\"7\" x2=\"77\" y1=\"177.1992\" y2=\"177.1992\"/><rect fill=\"#FEFECE\" filter=\"url(#f1)\" height=\"48\" style=\"stroke: #A80036; stroke-width: 1.5;\" width=\"72\" x=\"111\" y=\"29.1992\"/><ellipse cx=\"126\" cy=\"45.1992\" fill=\"#ADD1B2\" rx=\"11\" ry=\"11\" style=\"stroke: #A80036; stroke-width: 1.0;\"/><path d=\"M128.9731,50.8423 Q128.3921,51.1411 127.7529,51.2905 Q127.1138,51.4399 126.4082,51.4399 Q123.9014,51.4399 122.5815,49.7881 Q121.2617,48.1362 121.2617,45.0151 Q121.2617,41.8857 122.5815,40.2339 Q123.9014,38.582 126.4082,38.582 Q127.1138,38.582 127.7612,38.7314 Q128.4087,38.8809 128.9731,39.1797 L128.9731,41.9023 Q128.3423,41.3213 127.7488,41.0515 Q127.1553,40.7817 126.5244,40.7817 Q125.1797,40.7817 124.4949,41.8484 Q123.8101,42.915 123.8101,45.0151 Q123.8101,47.1069 124.4949,48.1736 Q125.1797,49.2402 126.5244,49.2402 Q127.1553,49.2402 127.7488,48.9705 Q128.3423,48.7007 128.9731,48.1196 Z \"/><text fill=\"#000000\" font-family=\"sans-serif\" font-size=\"12\" lengthAdjust=\"spacingAndGlyphs\" textLength=\"40\" x=\"140\" y=\"49.7344\">Client2</text><line style=\"stroke: #A80036; stroke-width: 1.5;\" x1=\"112\" x2=\"182\" y1=\"61.1992\" y2=\"61.1992\"/><line style=\"stroke: #A80036; stroke-width: 1.5;\" x1=\"112\" x2=\"182\" y1=\"69.1992\" y2=\"69.1992\"/><rect fill=\"#FEFECE\" filter=\"url(#f1)\" height=\"48\" style=\"stroke: #A80036; stroke-width: 1.5;\" width=\"72\" x=\"216\" y=\"137.1992\"/><ellipse cx=\"231\" cy=\"153.1992\" fill=\"#ADD1B2\" rx=\"11\" ry=\"11\" style=\"stroke: #A80036; stroke-width: 1.0;\"/><path d=\"M233.9731,158.8423 Q233.3921,159.1411 232.7529,159.2905 Q232.1138,159.4399 231.4082,159.4399 Q228.9014,159.4399 227.5815,157.7881 Q226.2617,156.1362 226.2617,153.0151 Q226.2617,149.8857 227.5815,148.2339 Q228.9014,146.582 231.4082,146.582 Q232.1138,146.582 232.7612,146.7314 Q233.4087,146.8809 233.9731,147.1797 L233.9731,149.9023 Q233.3423,149.3213 232.7488,149.0515 Q232.1553,148.7817 231.5244,148.7817 Q230.1797,148.7817 229.4949,149.8484 Q228.8101,150.915 228.8101,153.0151 Q228.8101,155.1069 229.4949,156.1736 Q230.1797,157.2402 231.5244,157.2402 Q232.1553,157.2402 232.7488,156.9705 Q233.3423,156.7007 233.9731,156.1196 Z \"/><text fill=\"#000000\" font-family=\"sans-serif\" font-size=\"12\" lengthAdjust=\"spacingAndGlyphs\" textLength=\"40\" x=\"245\" y=\"157.7344\">Client3</text><line style=\"stroke: #A80036; stroke-width: 1.5;\" x1=\"217\" x2=\"287\" y1=\"169.1992\" y2=\"169.1992\"/><line style=\"stroke: #A80036; stroke-width: 1.5;\" x1=\"217\" x2=\"287\" y1=\"177.1992\" y2=\"177.1992\"/><path d=\"M78.0938,161.1992 C87.9498,161.1992 97.8059,161.1992 107.662,161.1992 \" fill=\"none\" style=\"stroke: #A80036; stroke-width: 1.0;\"/><polygon fill=\"#A80036\" points=\"112.816,161.1992,103.816,157.1992,107.816,161.1992,103.816,165.1992,112.816,161.1992\" style=\"stroke: #A80036; stroke-width: 1.0;\"/><path d=\"M147,77.1992 C147,93.2022 147,114.6453 147,131.7272 \" fill=\"none\" style=\"stroke: #A80036; stroke-width: 1.0;\"/><polygon fill=\"#A80036\" points=\"147,136.8776,151,127.8776,147,131.8776,143,127.8776,147,136.8776\" style=\"stroke: #A80036; stroke-width: 1.0;\"/><path d=\"M186.227,161.1992 C196.14,161.1992 206.054,161.1992 215.967,161.1992 \" fill=\"none\" style=\"stroke: #A80036; stroke-width: 1.0;\"/><polygon fill=\"#A80036\" points=\"181.043,161.1992,190.043,165.1992,186.043,161.1992,190.043,157.1992,181.043,161.1992\" style=\"stroke: #A80036; stroke-width: 1.0;\"/></g></svg>"
      ],
      "text/plain": [
       "<IPython.core.display.SVG object>"
      ]
     },
     "execution_count": 8,
     "metadata": {},
     "output_type": "execute_result"
    }
   ],
   "source": [
    "%%plantuml\n",
    "@startuml\n",
    "title before1\n",
    "class Server\n",
    "Client1 -right-> Server\n",
    "Client2 -down-> Server\n",
    "Client3 -left-> Server\n",
    "@enduml"
   ]
  },
  {
   "cell_type": "markdown",
   "metadata": {
    "slideshow": {
     "slide_type": "slide"
    }
   },
   "source": [
    "## P.3 설계\n",
    "\n",
    "* 역할을 분리함 - 접근을 제어하는 부분을 분리함 access control\n",
    "    * client - 처리 요청\n",
    "    * proxy - 클라이언트 측에 생성 (서버의 stub, skeleton)\n",
    "    * server - 클라이언트 요청 처리\n",
    "    * object registry\n",
    "        * 서버가 오브젝트를 이름으로 등록함.\n",
    "        * 클라이언트가 여기를 찾아서 원하는 함수를 호출함.\n",
    "\n",
    "* 처리 순서\n",
    "    * 클라이언트가 처리를 요청한다.\n",
    "    * 클라이언트측의 proxy가 그 요청을 받는다.\n",
    "    * proxy가 요청에 필요한 준비를 하고 (사전처리), 서버에 처리를 요청한다.\n",
    "    * 서버가 처리를 한다.\n",
    "    * proxy가 서버의 처리결과를 받아서 필요한 사후처리를 하고, 클라이언트에게 그 결과를 돌려준다."
   ]
  },
  {
   "cell_type": "code",
   "execution_count": 10,
   "metadata": {
    "collapsed": false,
    "slideshow": {
     "slide_type": "slide"
    }
   },
   "outputs": [
    {
     "data": {
      "image/svg+xml": [
       "<svg height=\"198px\" style=\"width:213px;height:198px;\" version=\"1.1\" viewBox=\"0 0 213 198\" width=\"213px\" xmlns=\"http://www.w3.org/2000/svg\" xmlns:xlink=\"http://www.w3.org/1999/xlink\"><defs><filter height=\"300%\" id=\"f1\" width=\"300%\" x=\"-1\" y=\"-1\"><feGaussianBlur result=\"blurOut\" stdDeviation=\"2.0\"/><feColorMatrix in=\"blurOut\" result=\"blurOut2\" type=\"matrix\" values=\"0 0 0 0 0 0 0 0 0 0 0 0 0 0 0 0 0 0 .4 0\"/><feOffset dx=\"4.0\" dy=\"4.0\" in=\"blurOut2\" result=\"blurOut3\"/><feBlend in=\"SourceGraphic\" in2=\"blurOut3\" mode=\"normal\"/></filter></defs><g><rect fill=\"#FEFECE\" filter=\"url(#f1)\" height=\"60.9551\" style=\"stroke: #A80036; stroke-width: 1.5;\" width=\"74\" x=\"59\" y=\"8\"/><ellipse cx=\"74\" cy=\"24\" fill=\"#B4A7E5\" rx=\"11\" ry=\"11\" style=\"stroke: #A80036; stroke-width: 1.0;\"/><path d=\"M69.9277,19.7651 L69.9277,17.6069 L77.3071,17.6069 L77.3071,19.7651 L74.8418,19.7651 L74.8418,27.8418 L77.3071,27.8418 L77.3071,30 L69.9277,30 L69.9277,27.8418 L72.3931,27.8418 L72.3931,19.7651 Z \"/><text fill=\"#000000\" font-family=\"sans-serif\" font-size=\"12\" font-style=\"italic\" lengthAdjust=\"spacingAndGlyphs\" textLength=\"42\" x=\"88\" y=\"28.5352\">Subject</text><line style=\"stroke: #A80036; stroke-width: 1.5;\" x1=\"60\" x2=\"132\" y1=\"40\" y2=\"40\"/><line style=\"stroke: #A80036; stroke-width: 1.5;\" x1=\"60\" x2=\"132\" y1=\"48\" y2=\"48\"/><text fill=\"#000000\" font-family=\"sans-serif\" font-size=\"11\" lengthAdjust=\"spacingAndGlyphs\" textLength=\"49\" x=\"65\" y=\"62.6348\">request()</text><rect fill=\"#FEFECE\" filter=\"url(#f1)\" height=\"60.9551\" style=\"stroke: #A80036; stroke-width: 1.5;\" width=\"99\" x=\"105.5\" y=\"129\"/><ellipse cx=\"120.5\" cy=\"145\" fill=\"#ADD1B2\" rx=\"11\" ry=\"11\" style=\"stroke: #A80036; stroke-width: 1.0;\"/><path d=\"M123.4731,150.6431 Q122.8921,150.9419 122.2529,151.0913 Q121.6138,151.2407 120.9082,151.2407 Q118.4014,151.2407 117.0815,149.5889 Q115.7617,147.937 115.7617,144.8159 Q115.7617,141.6865 117.0815,140.0347 Q118.4014,138.3828 120.9082,138.3828 Q121.6138,138.3828 122.2612,138.5322 Q122.9087,138.6816 123.4731,138.9805 L123.4731,141.7031 Q122.8423,141.1221 122.2488,140.8523 Q121.6553,140.5825 121.0244,140.5825 Q119.6797,140.5825 118.9949,141.6492 Q118.3101,142.7158 118.3101,144.8159 Q118.3101,146.9077 118.9949,147.9744 Q119.6797,149.041 121.0244,149.041 Q121.6553,149.041 122.2488,148.7712 Q122.8423,148.5015 123.4731,147.9204 Z \"/><text fill=\"#000000\" font-family=\"sans-serif\" font-size=\"12\" lengthAdjust=\"spacingAndGlyphs\" textLength=\"67\" x=\"134.5\" y=\"149.5352\">RealSubject</text><line style=\"stroke: #A80036; stroke-width: 1.5;\" x1=\"106.5\" x2=\"203.5\" y1=\"161\" y2=\"161\"/><line style=\"stroke: #A80036; stroke-width: 1.5;\" x1=\"106.5\" x2=\"203.5\" y1=\"169\" y2=\"169\"/><text fill=\"#000000\" font-family=\"sans-serif\" font-size=\"11\" lengthAdjust=\"spacingAndGlyphs\" textLength=\"49\" x=\"111.5\" y=\"183.6348\">request()</text><rect fill=\"#FEFECE\" filter=\"url(#f1)\" height=\"60.9551\" style=\"stroke: #A80036; stroke-width: 1.5;\" width=\"64\" x=\"6\" y=\"129\"/><ellipse cx=\"21\" cy=\"145\" fill=\"#ADD1B2\" rx=\"11\" ry=\"11\" style=\"stroke: #A80036; stroke-width: 1.0;\"/><path d=\"M23.9731,150.6431 Q23.3921,150.9419 22.7529,151.0913 Q22.1138,151.2407 21.4082,151.2407 Q18.9014,151.2407 17.5815,149.5889 Q16.2617,147.937 16.2617,144.8159 Q16.2617,141.6865 17.5815,140.0347 Q18.9014,138.3828 21.4082,138.3828 Q22.1138,138.3828 22.7612,138.5322 Q23.4087,138.6816 23.9731,138.9805 L23.9731,141.7031 Q23.3423,141.1221 22.7488,140.8523 Q22.1553,140.5825 21.5244,140.5825 Q20.1797,140.5825 19.4949,141.6492 Q18.8101,142.7158 18.8101,144.8159 Q18.8101,146.9077 19.4949,147.9744 Q20.1797,149.041 21.5244,149.041 Q22.1553,149.041 22.7488,148.7712 Q23.3423,148.5015 23.9731,147.9204 Z \"/><text fill=\"#000000\" font-family=\"sans-serif\" font-size=\"12\" lengthAdjust=\"spacingAndGlyphs\" textLength=\"32\" x=\"35\" y=\"149.5352\">Proxy</text><line style=\"stroke: #A80036; stroke-width: 1.5;\" x1=\"7\" x2=\"69\" y1=\"161\" y2=\"161\"/><line style=\"stroke: #A80036; stroke-width: 1.5;\" x1=\"7\" x2=\"69\" y1=\"169\" y2=\"169\"/><text fill=\"#000000\" font-family=\"sans-serif\" font-size=\"11\" lengthAdjust=\"spacingAndGlyphs\" textLength=\"49\" x=\"12\" y=\"183.6348\">request()</text><path d=\"M119.758,87.419 C126.685,101.3891 134.05,116.2457 140.247,128.7447 \" fill=\"none\" style=\"stroke: #A80036; stroke-width: 1.0; stroke-dasharray: 7.0,7.0;\"/><polygon fill=\"none\" points=\"113.349,90.2497,110.736,69.222,125.892,84.031,113.349,90.2497\" style=\"stroke: #A80036; stroke-width: 1.0;\"/><path d=\"M72.6447,87.419 C65.8356,101.3891 58.5945,116.2457 52.5026,128.7447 \" fill=\"none\" style=\"stroke: #A80036; stroke-width: 1.0; stroke-dasharray: 7.0,7.0;\"/><polygon fill=\"none\" points=\"66.4588,84.133,81.5138,69.222,79.0436,90.2669,66.4588,84.133\" style=\"stroke: #A80036; stroke-width: 1.0;\"/><path d=\"M70.4492,159.5 C80.3868,159.5 90.3243,159.5 100.2618,159.5 \" fill=\"none\" style=\"stroke: #A80036; stroke-width: 1.0;\"/><polygon fill=\"#A80036\" points=\"105.4585,159.5,96.4585,155.5,100.4585,159.5,96.4585,163.5,105.4585,159.5\" style=\"stroke: #A80036; stroke-width: 1.0;\"/></g></svg>"
      ],
      "text/plain": [
       "<IPython.core.display.SVG object>"
      ]
     },
     "execution_count": 10,
     "metadata": {},
     "output_type": "execute_result"
    }
   ],
   "source": [
    "%%plantuml\n",
    "@startuml\n",
    "interface Subject {\n",
    "    request()\n",
    "}\n",
    "class RealSubject {\n",
    "    request()\n",
    "}\n",
    "class Proxy {\n",
    "    request()\n",
    "}\n",
    "Subject <|.. RealSubject\n",
    "Subject <|.. Proxy\n",
    "Proxy -right-> RealSubject\n",
    "@enduml"
   ]
  },
  {
   "cell_type": "markdown",
   "metadata": {
    "slideshow": {
     "slide_type": "slide"
    }
   },
   "source": [
    "## P.4 Case Implementation\n",
    "\n",
    "### P.4.1 gumball machine\n",
    "\n",
    "* 교재 HFDP Ch11 'gumball'\n",
    "    * client - GumballMonitor\n",
    "    * server - GumballMachine <|.. GumballMachineRemote\n",
    "* GumballMonitorTestDrive클래스의 hostname을 변경하고 실행함.\n",
    "\n",
    "### 단계\n",
    "    1. 구현\n",
    "        * remote server interface\n",
    "            ```\n",
    "            public interface GumballMachineRemote extends Remote \n",
    "            ```\n",
    "        * remote server implementation\n",
    "            * GumballMachine\n",
    "                * 상속 UnicastRemoteObject, 구현 Remote\n",
    "                * 생성자에 RemoteExeption\n",
    "                ```\n",
    "                public class GumballMachine extends UnicastRemoteObject implements GumballMachineRemote\n",
    "                ```\n",
    "            * GumballMachineTestDrive\n",
    "                * binding\n",
    "                ```\n",
    "                Naming.rebind(\"//\" + args[0] + \"/gumballmachine\", gumballMachine);\n",
    "                ```\n",
    "        * client\n",
    "            * GumballMonitor\n",
    "            * GumballMonitorTestDrive\n",
    "                * lookup\n",
    "                    ```\n",
    "                    (GumballMachineRemote) Naming.lookup(location[i]);\n",
    "                    ```\n",
    "            * serializable objects\n",
    "                * state\n",
    "                    ```\n",
    "                    public interface State extends Serializable\n",
    "                    ```\n",
    "                * child substates\n",
    "                    ```\n",
    "                    transient GumballMachine gumballMachine;\n",
    "                    ```"
   ]
  },
  {
   "cell_type": "markdown",
   "metadata": {},
   "source": [
    "    2. compile\n",
    "        ```\n",
    "        javac -d classes/ -sourcepath src/ src/headfirst/proxy/gumball/*.java\n",
    "        (optional) rmic -d classes/ -classpath classes/ headfirst.proxy.gumball.GumballMachine\n",
    "        ```\n",
    "    3. run\n",
    "    \n",
    "        3-1. run server\n",
    "            * default port 1099\n",
    "            ```\n",
    "            cd classes/\n",
    "            rmiregistry &\n",
    "            java -cp classes/ headfirst.proxy.gumball.GumballMachineTestDrive localhost 100\n",
    "            ```\n",
    "        3-2. run client\n",
    "            ```\n",
    "            java -cp classes/ headfirst.proxy.gumball.GumballMonitorTestDrive localhost\n",
    "            ```"
   ]
  },
  {
   "cell_type": "markdown",
   "metadata": {},
   "source": [
    "* State 인터페이스는 네트워크에서 사용되므로 Serializable\n",
    "    * 객체를 bytes로 바꾸어 파일로 저장해서 전달 (주소ref가 아니라) (marshaling)\n",
    "    * transient - Seriablizable할 때, 제외할 변수 (즉, 저장하지 않음)"
   ]
  },
  {
   "cell_type": "code",
   "execution_count": 5,
   "metadata": {
    "collapsed": false,
    "slideshow": {
     "slide_type": "slide"
    }
   },
   "outputs": [
    {
     "data": {
      "image/svg+xml": [
       "<svg height=\"194px\" style=\"width:444px;height:194px;\" version=\"1.1\" viewBox=\"0 0 444 194\" width=\"444px\" xmlns=\"http://www.w3.org/2000/svg\" xmlns:xlink=\"http://www.w3.org/1999/xlink\"><defs><filter height=\"300%\" id=\"f1\" width=\"300%\" x=\"-1\" y=\"-1\"><feGaussianBlur result=\"blurOut\" stdDeviation=\"2.0\"/><feColorMatrix in=\"blurOut\" result=\"blurOut2\" type=\"matrix\" values=\"0 0 0 0 0 0 0 0 0 0 0 0 0 0 0 0 0 0 .4 0\"/><feOffset dx=\"4.0\" dy=\"4.0\" in=\"blurOut2\" result=\"blurOut3\"/><feBlend in=\"SourceGraphic\" in2=\"blurOut3\" mode=\"normal\"/></filter></defs><g><line style=\"stroke: #A80036; stroke-width: 1.0; stroke-dasharray: 5.0,5.0;\" x1=\"37\" x2=\"37\" y1=\"38.4883\" y2=\"156.4199\"/><line style=\"stroke: #A80036; stroke-width: 1.0; stroke-dasharray: 5.0,5.0;\" x1=\"168\" x2=\"168\" y1=\"38.4883\" y2=\"156.4199\"/><line style=\"stroke: #A80036; stroke-width: 1.0; stroke-dasharray: 5.0,5.0;\" x1=\"334\" x2=\"334\" y1=\"38.4883\" y2=\"156.4199\"/><rect fill=\"#FEFECE\" filter=\"url(#f1)\" height=\"30.4883\" style=\"stroke: #A80036; stroke-width: 1.5;\" width=\"54\" x=\"8\" y=\"3\"/><text fill=\"#000000\" font-family=\"sans-serif\" font-size=\"14\" lengthAdjust=\"spacingAndGlyphs\" textLength=\"40\" x=\"15\" y=\"23.5352\">Client</text><rect fill=\"#FEFECE\" filter=\"url(#f1)\" height=\"30.4883\" style=\"stroke: #A80036; stroke-width: 1.5;\" width=\"54\" x=\"8\" y=\"155.4199\"/><text fill=\"#000000\" font-family=\"sans-serif\" font-size=\"14\" lengthAdjust=\"spacingAndGlyphs\" textLength=\"40\" x=\"15\" y=\"175.9551\">Client</text><rect fill=\"#FEFECE\" filter=\"url(#f1)\" height=\"30.4883\" style=\"stroke: #A80036; stroke-width: 1.5;\" width=\"180\" x=\"76\" y=\"3\"/><text fill=\"#000000\" font-family=\"sans-serif\" font-size=\"14\" lengthAdjust=\"spacingAndGlyphs\" textLength=\"166\" x=\"83\" y=\"23.5352\">GumballMachineRemote</text><rect fill=\"#FEFECE\" filter=\"url(#f1)\" height=\"30.4883\" style=\"stroke: #A80036; stroke-width: 1.5;\" width=\"180\" x=\"76\" y=\"155.4199\"/><text fill=\"#000000\" font-family=\"sans-serif\" font-size=\"14\" lengthAdjust=\"spacingAndGlyphs\" textLength=\"166\" x=\"83\" y=\"175.9551\">GumballMachineRemote</text><rect fill=\"#FEFECE\" filter=\"url(#f1)\" height=\"30.4883\" style=\"stroke: #A80036; stroke-width: 1.5;\" width=\"125\" x=\"270\" y=\"3\"/><text fill=\"#000000\" font-family=\"sans-serif\" font-size=\"14\" lengthAdjust=\"spacingAndGlyphs\" textLength=\"111\" x=\"277\" y=\"23.5352\">GumballMonitor</text><rect fill=\"#FEFECE\" filter=\"url(#f1)\" height=\"30.4883\" style=\"stroke: #A80036; stroke-width: 1.5;\" width=\"125\" x=\"270\" y=\"155.4199\"/><text fill=\"#000000\" font-family=\"sans-serif\" font-size=\"14\" lengthAdjust=\"spacingAndGlyphs\" textLength=\"111\" x=\"277\" y=\"175.9551\">GumballMonitor</text><polygon fill=\"#A80036\" points=\"156,70.4883,166,74.4883,156,78.4883,160,74.4883\" style=\"stroke: #A80036; stroke-width: 1.0;\"/><line style=\"stroke: #A80036; stroke-width: 1.0;\" x1=\"37\" x2=\"162\" y1=\"74.4883\" y2=\"74.4883\"/><text fill=\"#000000\" font-family=\"sans-serif\" font-size=\"13\" lengthAdjust=\"spacingAndGlyphs\" textLength=\"96\" x=\"44\" y=\"70.0566\">machine=new()</text><polygon fill=\"#FBFB77\" filter=\"url(#f1)\" points=\"173,53.4883,173,78.4883,435,78.4883,435,63.4883,425,53.4883,173,53.4883\" style=\"stroke: #A80036; stroke-width: 1.0;\"/><line style=\"stroke: #A80036; stroke-width: 1.0;\" x1=\"425\" x2=\"425\" y1=\"53.4883\" y2=\"63.4883\"/><line style=\"stroke: #A80036; stroke-width: 1.0;\" x1=\"435\" x2=\"425\" y1=\"63.4883\" y2=\"63.4883\"/><text fill=\"#000000\" font-family=\"sans-serif\" font-size=\"13\" lengthAdjust=\"spacingAndGlyphs\" textLength=\"241\" x=\"179\" y=\"71.0566\">find server by calling Naming.lookup()</text><polygon fill=\"#A80036\" points=\"322.5,104.7988,332.5,108.7988,322.5,112.7988,326.5,108.7988\" style=\"stroke: #A80036; stroke-width: 1.0;\"/><line style=\"stroke: #A80036; stroke-width: 1.0;\" x1=\"37\" x2=\"328.5\" y1=\"108.7988\" y2=\"108.7988\"/><text fill=\"#000000\" font-family=\"sans-serif\" font-size=\"13\" lengthAdjust=\"spacingAndGlyphs\" textLength=\"146\" x=\"44\" y=\"104.3672\">monitor=new(machine)</text><polygon fill=\"#A80036\" points=\"322.5,134.1094,332.5,138.1094,322.5,142.1094,326.5,138.1094\" style=\"stroke: #A80036; stroke-width: 1.0;\"/><line style=\"stroke: #A80036; stroke-width: 1.0;\" x1=\"37\" x2=\"328.5\" y1=\"138.1094\" y2=\"138.1094\"/><text fill=\"#000000\" font-family=\"sans-serif\" font-size=\"13\" lengthAdjust=\"spacingAndGlyphs\" textLength=\"46\" x=\"44\" y=\"133.6777\">report()</text></g></svg>"
      ],
      "text/plain": [
       "<IPython.core.display.SVG object>"
      ]
     },
     "execution_count": 5,
     "metadata": {},
     "output_type": "execute_result"
    }
   ],
   "source": [
    "%%plantuml\n",
    "@startuml\n",
    "Client -> GumballMachineRemote:machine=new()\n",
    "    note right: find server by calling Naming.lookup()\n",
    "Client -> GumballMonitor:monitor=new(machine)\n",
    "Client -> GumballMonitor:report()\n",
    "@enduml"
   ]
  },
  {
   "cell_type": "code",
   "execution_count": 4,
   "metadata": {
    "collapsed": false,
    "scrolled": true,
    "slideshow": {
     "slide_type": "slide"
    }
   },
   "outputs": [
    {
     "data": {
      "image/svg+xml": [
       "<svg height=\"559px\" style=\"width:629px;height:559px;\" version=\"1.1\" viewBox=\"0 0 629 559\" width=\"629px\" xmlns=\"http://www.w3.org/2000/svg\" xmlns:xlink=\"http://www.w3.org/1999/xlink\"><defs><filter height=\"300%\" id=\"f1\" width=\"300%\" x=\"-1\" y=\"-1\"><feGaussianBlur result=\"blurOut\" stdDeviation=\"2.0\"/><feColorMatrix in=\"blurOut\" result=\"blurOut2\" type=\"matrix\" values=\"0 0 0 0 0 0 0 0 0 0 0 0 0 0 0 0 0 0 .4 0\"/><feOffset dx=\"4.0\" dy=\"4.0\" in=\"blurOut2\" result=\"blurOut3\"/><feBlend in=\"SourceGraphic\" in2=\"blurOut3\" mode=\"normal\"/></filter></defs><g><polygon fill=\"#FFFFFF\" filter=\"url(#f1)\" points=\"37.5,24,100.5,24,107.5,46.4883,336.5,46.4883,336.5,123,37.5,123,37.5,24\" style=\"stroke: #000000; stroke-width: 2.0;\"/><line style=\"stroke: #000000; stroke-width: 2.0;\" x1=\"37.5\" x2=\"107.5\" y1=\"46.4883\" y2=\"46.4883\"/><text fill=\"#000000\" font-family=\"sans-serif\" font-size=\"14\" font-weight=\"bold\" lengthAdjust=\"spacingAndGlyphs\" textLength=\"57\" x=\"41.5\" y=\"39.5352\">java.rmi</text><polygon fill=\"#FFFFFF\" filter=\"url(#f1)\" points=\"347.5,147,399.5,147,406.5,169.4883,477.5,169.4883,477.5,246,347.5,246,347.5,147\" style=\"stroke: #000000; stroke-width: 2.0;\"/><line style=\"stroke: #000000; stroke-width: 2.0;\" x1=\"347.5\" x2=\"406.5\" y1=\"169.4883\" y2=\"169.4883\"/><text fill=\"#000000\" font-family=\"sans-serif\" font-size=\"14\" font-weight=\"bold\" lengthAdjust=\"spacingAndGlyphs\" textLength=\"46\" x=\"351.5\" y=\"162.5352\">java.io</text><rect fill=\"#FEFECE\" filter=\"url(#f1)\" height=\"48\" style=\"stroke: #A80036; stroke-width: 1.5;\" width=\"76\" x=\"53.5\" y=\"59\"/><ellipse cx=\"68.5\" cy=\"75\" fill=\"#ADD1B2\" rx=\"11\" ry=\"11\" style=\"stroke: #A80036; stroke-width: 1.0;\"/><path d=\"M71.4731,80.6431 Q70.8921,80.9419 70.2529,81.0913 Q69.6138,81.2407 68.9082,81.2407 Q66.4014,81.2407 65.0815,79.5889 Q63.7617,77.937 63.7617,74.8159 Q63.7617,71.6865 65.0815,70.0347 Q66.4014,68.3828 68.9082,68.3828 Q69.6138,68.3828 70.2612,68.5322 Q70.9087,68.6816 71.4731,68.9805 L71.4731,71.7031 Q70.8423,71.1221 70.2488,70.8523 Q69.6553,70.5825 69.0244,70.5825 Q67.6797,70.5825 66.9949,71.6492 Q66.3101,72.7158 66.3101,74.8159 Q66.3101,76.9077 66.9949,77.9744 Q67.6797,79.041 69.0244,79.041 Q69.6553,79.041 70.2488,78.7712 Q70.8423,78.5015 71.4731,77.9204 Z \"/><text fill=\"#000000\" font-family=\"sans-serif\" font-size=\"12\" lengthAdjust=\"spacingAndGlyphs\" textLength=\"44\" x=\"82.5\" y=\"79.5352\">Remote</text><line style=\"stroke: #A80036; stroke-width: 1.5;\" x1=\"54.5\" x2=\"128.5\" y1=\"91\" y2=\"91\"/><line style=\"stroke: #A80036; stroke-width: 1.5;\" x1=\"54.5\" x2=\"128.5\" y1=\"99\" y2=\"99\"/><rect fill=\"#FEFECE\" filter=\"url(#f1)\" height=\"48\" style=\"stroke: #A80036; stroke-width: 1.5;\" width=\"155\" x=\"165\" y=\"59\"/><ellipse cx=\"180\" cy=\"75\" fill=\"#ADD1B2\" rx=\"11\" ry=\"11\" style=\"stroke: #A80036; stroke-width: 1.0;\"/><path d=\"M182.9731,80.6431 Q182.3921,80.9419 181.7529,81.0913 Q181.1138,81.2407 180.4082,81.2407 Q177.9014,81.2407 176.5815,79.5889 Q175.2617,77.937 175.2617,74.8159 Q175.2617,71.6865 176.5815,70.0347 Q177.9014,68.3828 180.4082,68.3828 Q181.1138,68.3828 181.7612,68.5322 Q182.4087,68.6816 182.9731,68.9805 L182.9731,71.7031 Q182.3423,71.1221 181.7488,70.8523 Q181.1553,70.5825 180.5244,70.5825 Q179.1797,70.5825 178.4949,71.6492 Q177.8101,72.7158 177.8101,74.8159 Q177.8101,76.9077 178.4949,77.9744 Q179.1797,79.041 180.5244,79.041 Q181.1553,79.041 181.7488,78.7712 Q182.3423,78.5015 182.9731,77.9204 Z \"/><text fill=\"#000000\" font-family=\"sans-serif\" font-size=\"12\" lengthAdjust=\"spacingAndGlyphs\" textLength=\"123\" x=\"194\" y=\"79.5352\">UnicastRemoteObject</text><line style=\"stroke: #A80036; stroke-width: 1.5;\" x1=\"166\" x2=\"319\" y1=\"91\" y2=\"91\"/><line style=\"stroke: #A80036; stroke-width: 1.5;\" x1=\"166\" x2=\"319\" y1=\"99\" y2=\"99\"/><rect fill=\"#FEFECE\" filter=\"url(#f1)\" height=\"48\" style=\"stroke: #A80036; stroke-width: 1.5;\" width=\"98\" x=\"363.5\" y=\"182\"/><ellipse cx=\"378.5\" cy=\"198\" fill=\"#ADD1B2\" rx=\"11\" ry=\"11\" style=\"stroke: #A80036; stroke-width: 1.0;\"/><path d=\"M381.4731,203.6431 Q380.8921,203.9419 380.2529,204.0913 Q379.6138,204.2407 378.9082,204.2407 Q376.4014,204.2407 375.0815,202.5889 Q373.7617,200.937 373.7617,197.8159 Q373.7617,194.6865 375.0815,193.0347 Q376.4014,191.3828 378.9082,191.3828 Q379.6138,191.3828 380.2612,191.5322 Q380.9087,191.6816 381.4731,191.9805 L381.4731,194.7031 Q380.8423,194.1221 380.2488,193.8523 Q379.6553,193.5825 379.0244,193.5825 Q377.6797,193.5825 376.9949,194.6492 Q376.3101,195.7158 376.3101,197.8159 Q376.3101,199.9077 376.9949,200.9744 Q377.6797,202.041 379.0244,202.041 Q379.6553,202.041 380.2488,201.7712 Q380.8423,201.5015 381.4731,200.9204 Z \"/><text fill=\"#000000\" font-family=\"sans-serif\" font-size=\"12\" lengthAdjust=\"spacingAndGlyphs\" textLength=\"66\" x=\"392.5\" y=\"202.5352\">Serializable</text><line style=\"stroke: #A80036; stroke-width: 1.5;\" x1=\"364.5\" x2=\"460.5\" y1=\"214\" y2=\"214\"/><line style=\"stroke: #A80036; stroke-width: 1.5;\" x1=\"364.5\" x2=\"460.5\" y1=\"222\" y2=\"222\"/><rect fill=\"#FEFECE\" filter=\"url(#f1)\" height=\"48\" style=\"stroke: #A80036; stroke-width: 1.5;\" width=\"171\" x=\"6\" y=\"182\"/><ellipse cx=\"21\" cy=\"198\" fill=\"#B4A7E5\" rx=\"11\" ry=\"11\" style=\"stroke: #A80036; stroke-width: 1.0;\"/><path d=\"M16.9277,193.7651 L16.9277,191.6069 L24.3071,191.6069 L24.3071,193.7651 L21.8418,193.7651 L21.8418,201.8418 L24.3071,201.8418 L24.3071,204 L16.9277,204 L16.9277,201.8418 L19.3931,201.8418 L19.3931,193.7651 Z \"/><text fill=\"#000000\" font-family=\"sans-serif\" font-size=\"12\" font-style=\"italic\" lengthAdjust=\"spacingAndGlyphs\" textLength=\"139\" x=\"35\" y=\"202.5352\">GumballMachineRemote</text><line style=\"stroke: #A80036; stroke-width: 1.5;\" x1=\"7\" x2=\"176\" y1=\"214\" y2=\"214\"/><line style=\"stroke: #A80036; stroke-width: 1.5;\" x1=\"7\" x2=\"176\" y1=\"222\" y2=\"222\"/><rect fill=\"#FEFECE\" filter=\"url(#f1)\" height=\"151.6406\" style=\"stroke: #A80036; stroke-width: 1.5;\" width=\"136\" x=\"174.5\" y=\"290\"/><ellipse cx=\"193.55\" cy=\"306\" fill=\"#ADD1B2\" rx=\"11\" ry=\"11\" style=\"stroke: #A80036; stroke-width: 1.0;\"/><path d=\"M196.5231,311.6431 Q195.9421,311.9419 195.3029,312.0913 Q194.6638,312.2407 193.9582,312.2407 Q191.4514,312.2407 190.1315,310.5889 Q188.8117,308.937 188.8117,305.8159 Q188.8117,302.6865 190.1315,301.0347 Q191.4514,299.3828 193.9582,299.3828 Q194.6638,299.3828 195.3112,299.5322 Q195.9587,299.6816 196.5231,299.9805 L196.5231,302.7031 Q195.8923,302.1221 195.2988,301.8523 Q194.7053,301.5825 194.0744,301.5825 Q192.7297,301.5825 192.0449,302.6492 Q191.3601,303.7158 191.3601,305.8159 Q191.3601,307.9077 192.0449,308.9744 Q192.7297,310.041 194.0744,310.041 Q194.7053,310.041 195.2988,309.7712 Q195.8923,309.5015 196.5231,308.9204 Z \"/><text fill=\"#000000\" font-family=\"sans-serif\" font-size=\"12\" lengthAdjust=\"spacingAndGlyphs\" textLength=\"95\" x=\"208.45\" y=\"310.5352\">GumballMachine</text><line style=\"stroke: #A80036; stroke-width: 1.5;\" x1=\"175.5\" x2=\"309.5\" y1=\"322\" y2=\"322\"/><text fill=\"#000000\" font-family=\"sans-serif\" font-size=\"11\" lengthAdjust=\"spacingAndGlyphs\" textLength=\"55\" x=\"194.5\" y=\"336.6348\">state:State</text><rect fill=\"none\" height=\"6\" style=\"stroke: #C82930; stroke-width: 1.0;\" width=\"6\" x=\"182.5\" y=\"343.9326\"/><text fill=\"#000000\" font-family=\"sans-serif\" font-size=\"11\" lengthAdjust=\"spacingAndGlyphs\" textLength=\"48\" x=\"194.5\" y=\"349.5898\">count:int</text><line style=\"stroke: #A80036; stroke-width: 1.5;\" x1=\"175.5\" x2=\"309.5\" y1=\"355.9102\" y2=\"355.9102\"/><ellipse cx=\"185.5\" cy=\"367.8877\" fill=\"#84BE84\" rx=\"3\" ry=\"3\" style=\"stroke: #038048; stroke-width: 1.0;\"/><text fill=\"#000000\" font-family=\"sans-serif\" font-size=\"11\" lengthAdjust=\"spacingAndGlyphs\" textLength=\"110\" x=\"194.5\" y=\"370.5449\">GumballMachine(int)</text><ellipse cx=\"185.5\" cy=\"380.8428\" fill=\"#84BE84\" rx=\"3\" ry=\"3\" style=\"stroke: #038048; stroke-width: 1.0;\"/><text fill=\"#000000\" font-family=\"sans-serif\" font-size=\"11\" lengthAdjust=\"spacingAndGlyphs\" textLength=\"107\" x=\"194.5\" y=\"383.5\">insertQuarter():void</text><ellipse cx=\"185.5\" cy=\"393.7979\" fill=\"#84BE84\" rx=\"3\" ry=\"3\" style=\"stroke: #038048; stroke-width: 1.0;\"/><text fill=\"#000000\" font-family=\"sans-serif\" font-size=\"11\" lengthAdjust=\"spacingAndGlyphs\" textLength=\"101\" x=\"194.5\" y=\"396.4551\">ejectQuarter():void</text><ellipse cx=\"185.5\" cy=\"406.7529\" fill=\"#84BE84\" rx=\"3\" ry=\"3\" style=\"stroke: #038048; stroke-width: 1.0;\"/><text fill=\"#000000\" font-family=\"sans-serif\" font-size=\"11\" lengthAdjust=\"spacingAndGlyphs\" textLength=\"89\" x=\"194.5\" y=\"409.4102\">turnCrank():void</text><ellipse cx=\"185.5\" cy=\"419.708\" fill=\"#84BE84\" rx=\"3\" ry=\"3\" style=\"stroke: #038048; stroke-width: 1.0;\"/><text fill=\"#000000\" font-family=\"sans-serif\" font-size=\"11\" lengthAdjust=\"spacingAndGlyphs\" textLength=\"102\" x=\"194.5\" y=\"422.3652\">setState(State):void</text><ellipse cx=\"185.5\" cy=\"432.6631\" fill=\"#84BE84\" rx=\"3\" ry=\"3\" style=\"stroke: #038048; stroke-width: 1.0;\"/><text fill=\"#000000\" font-family=\"sans-serif\" font-size=\"11\" lengthAdjust=\"spacingAndGlyphs\" textLength=\"103\" x=\"194.5\" y=\"435.3203\">getState(State):void</text><rect fill=\"#FEFECE\" filter=\"url(#f1)\" height=\"99.8203\" style=\"stroke: #A80036; stroke-width: 1.5;\" width=\"133\" x=\"346\" y=\"316\"/><ellipse cx=\"394.25\" cy=\"332\" fill=\"#B4A7E5\" rx=\"11\" ry=\"11\" style=\"stroke: #A80036; stroke-width: 1.0;\"/><path d=\"M390.1777,327.7651 L390.1777,325.6069 L397.5571,325.6069 L397.5571,327.7651 L395.0918,327.7651 L395.0918,335.8418 L397.5571,335.8418 L397.5571,338 L390.1777,338 L390.1777,335.8418 L392.6431,335.8418 L392.6431,327.7651 Z \"/><text fill=\"#000000\" font-family=\"sans-serif\" font-size=\"12\" font-style=\"italic\" lengthAdjust=\"spacingAndGlyphs\" textLength=\"28\" x=\"414.75\" y=\"336.5352\">State</text><line style=\"stroke: #A80036; stroke-width: 1.5;\" x1=\"347\" x2=\"478\" y1=\"348\" y2=\"348\"/><line style=\"stroke: #A80036; stroke-width: 1.5;\" x1=\"347\" x2=\"478\" y1=\"356\" y2=\"356\"/><ellipse cx=\"357\" cy=\"367.9775\" fill=\"#84BE84\" rx=\"3\" ry=\"3\" style=\"stroke: #038048; stroke-width: 1.0;\"/><text fill=\"#000000\" font-family=\"sans-serif\" font-size=\"11\" lengthAdjust=\"spacingAndGlyphs\" textLength=\"107\" x=\"366\" y=\"370.6348\">insertQuarter():void</text><ellipse cx=\"357\" cy=\"380.9326\" fill=\"#84BE84\" rx=\"3\" ry=\"3\" style=\"stroke: #038048; stroke-width: 1.0;\"/><text fill=\"#000000\" font-family=\"sans-serif\" font-size=\"11\" lengthAdjust=\"spacingAndGlyphs\" textLength=\"101\" x=\"366\" y=\"383.5898\">ejectQuarter():void</text><ellipse cx=\"357\" cy=\"393.8877\" fill=\"#84BE84\" rx=\"3\" ry=\"3\" style=\"stroke: #038048; stroke-width: 1.0;\"/><text fill=\"#000000\" font-family=\"sans-serif\" font-size=\"11\" lengthAdjust=\"spacingAndGlyphs\" textLength=\"89\" x=\"366\" y=\"396.5449\">turnCrank():void</text><ellipse cx=\"357\" cy=\"406.8428\" fill=\"#84BE84\" rx=\"3\" ry=\"3\" style=\"stroke: #038048; stroke-width: 1.0;\"/><text fill=\"#000000\" font-family=\"sans-serif\" font-size=\"11\" lengthAdjust=\"spacingAndGlyphs\" textLength=\"82\" x=\"366\" y=\"409.5\">dispense():void</text><rect fill=\"#FEFECE\" filter=\"url(#f1)\" height=\"48\" style=\"stroke: #A80036; stroke-width: 1.5;\" width=\"98\" x=\"193.5\" y=\"502\"/><ellipse cx=\"208.5\" cy=\"518\" fill=\"#ADD1B2\" rx=\"11\" ry=\"11\" style=\"stroke: #A80036; stroke-width: 1.0;\"/><path d=\"M211.4731,523.6431 Q210.8921,523.9419 210.2529,524.0913 Q209.6138,524.2407 208.9082,524.2407 Q206.4014,524.2407 205.0815,522.5889 Q203.7617,520.937 203.7617,517.8159 Q203.7617,514.6865 205.0815,513.0347 Q206.4014,511.3828 208.9082,511.3828 Q209.6138,511.3828 210.2612,511.5322 Q210.9087,511.6816 211.4731,511.9805 L211.4731,514.7031 Q210.8423,514.1221 210.2488,513.8523 Q209.6553,513.5825 209.0244,513.5825 Q207.6797,513.5825 206.9949,514.6492 Q206.3101,515.7158 206.3101,517.8159 Q206.3101,519.9077 206.9949,520.9744 Q207.6797,522.041 209.0244,522.041 Q209.6553,522.041 210.2488,521.7712 Q210.8423,521.5015 211.4731,520.9204 Z \"/><text fill=\"#000000\" font-family=\"sans-serif\" font-size=\"12\" lengthAdjust=\"spacingAndGlyphs\" textLength=\"66\" x=\"222.5\" y=\"522.5352\">HasQuarter</text><line style=\"stroke: #A80036; stroke-width: 1.5;\" x1=\"194.5\" x2=\"290.5\" y1=\"534\" y2=\"534\"/><line style=\"stroke: #A80036; stroke-width: 1.5;\" x1=\"194.5\" x2=\"290.5\" y1=\"542\" y2=\"542\"/><rect fill=\"#FEFECE\" filter=\"url(#f1)\" height=\"48\" style=\"stroke: #A80036; stroke-width: 1.5;\" width=\"92\" x=\"528.5\" y=\"502\"/><ellipse cx=\"543.5\" cy=\"518\" fill=\"#ADD1B2\" rx=\"11\" ry=\"11\" style=\"stroke: #A80036; stroke-width: 1.0;\"/><path d=\"M546.4731,523.6431 Q545.8921,523.9419 545.2529,524.0913 Q544.6138,524.2407 543.9082,524.2407 Q541.4014,524.2407 540.0815,522.5889 Q538.7617,520.937 538.7617,517.8159 Q538.7617,514.6865 540.0815,513.0347 Q541.4014,511.3828 543.9082,511.3828 Q544.6138,511.3828 545.2612,511.5322 Q545.9087,511.6816 546.4731,511.9805 L546.4731,514.7031 Q545.8423,514.1221 545.2488,513.8523 Q544.6553,513.5825 544.0244,513.5825 Q542.6797,513.5825 541.9949,514.6492 Q541.3101,515.7158 541.3101,517.8159 Q541.3101,519.9077 541.9949,520.9744 Q542.6797,522.041 544.0244,522.041 Q544.6553,522.041 545.2488,521.7712 Q545.8423,521.5015 546.4731,520.9204 Z \"/><text fill=\"#000000\" font-family=\"sans-serif\" font-size=\"12\" lengthAdjust=\"spacingAndGlyphs\" textLength=\"60\" x=\"557.5\" y=\"522.5352\">NoQuarter</text><line style=\"stroke: #A80036; stroke-width: 1.5;\" x1=\"529.5\" x2=\"619.5\" y1=\"534\" y2=\"534\"/><line style=\"stroke: #A80036; stroke-width: 1.5;\" x1=\"529.5\" x2=\"619.5\" y1=\"542\" y2=\"542\"/><rect fill=\"#FEFECE\" filter=\"url(#f1)\" height=\"48\" style=\"stroke: #A80036; stroke-width: 1.5;\" width=\"76\" x=\"326.5\" y=\"502\"/><ellipse cx=\"341.5\" cy=\"518\" fill=\"#ADD1B2\" rx=\"11\" ry=\"11\" style=\"stroke: #A80036; stroke-width: 1.0;\"/><path d=\"M344.4731,523.6431 Q343.8921,523.9419 343.2529,524.0913 Q342.6138,524.2407 341.9082,524.2407 Q339.4014,524.2407 338.0815,522.5889 Q336.7617,520.937 336.7617,517.8159 Q336.7617,514.6865 338.0815,513.0347 Q339.4014,511.3828 341.9082,511.3828 Q342.6138,511.3828 343.2612,511.5322 Q343.9087,511.6816 344.4731,511.9805 L344.4731,514.7031 Q343.8423,514.1221 343.2488,513.8523 Q342.6553,513.5825 342.0244,513.5825 Q340.6797,513.5825 339.9949,514.6492 Q339.3101,515.7158 339.3101,517.8159 Q339.3101,519.9077 339.9949,520.9744 Q340.6797,522.041 342.0244,522.041 Q342.6553,522.041 343.2488,521.7712 Q343.8423,521.5015 344.4731,520.9204 Z \"/><text fill=\"#000000\" font-family=\"sans-serif\" font-size=\"12\" lengthAdjust=\"spacingAndGlyphs\" textLength=\"44\" x=\"355.5\" y=\"522.5352\">SoldOut</text><line style=\"stroke: #A80036; stroke-width: 1.5;\" x1=\"327.5\" x2=\"401.5\" y1=\"534\" y2=\"534\"/><line style=\"stroke: #A80036; stroke-width: 1.5;\" x1=\"327.5\" x2=\"401.5\" y1=\"542\" y2=\"542\"/><rect fill=\"#FEFECE\" filter=\"url(#f1)\" height=\"48\" style=\"stroke: #A80036; stroke-width: 1.5;\" width=\"56\" x=\"437.5\" y=\"502\"/><ellipse cx=\"452.5\" cy=\"518\" fill=\"#ADD1B2\" rx=\"11\" ry=\"11\" style=\"stroke: #A80036; stroke-width: 1.0;\"/><path d=\"M455.4731,523.6431 Q454.8921,523.9419 454.2529,524.0913 Q453.6138,524.2407 452.9082,524.2407 Q450.4014,524.2407 449.0815,522.5889 Q447.7617,520.937 447.7617,517.8159 Q447.7617,514.6865 449.0815,513.0347 Q450.4014,511.3828 452.9082,511.3828 Q453.6138,511.3828 454.2612,511.5322 Q454.9087,511.6816 455.4731,511.9805 L455.4731,514.7031 Q454.8423,514.1221 454.2488,513.8523 Q453.6553,513.5825 453.0244,513.5825 Q451.6797,513.5825 450.9949,514.6492 Q450.3101,515.7158 450.3101,517.8159 Q450.3101,519.9077 450.9949,520.9744 Q451.6797,522.041 453.0244,522.041 Q453.6553,522.041 454.2488,521.7712 Q454.8423,521.5015 455.4731,520.9204 Z \"/><text fill=\"#000000\" font-family=\"sans-serif\" font-size=\"12\" lengthAdjust=\"spacingAndGlyphs\" textLength=\"24\" x=\"466.5\" y=\"522.5352\">Sold</text><line style=\"stroke: #A80036; stroke-width: 1.5;\" x1=\"438.5\" x2=\"492.5\" y1=\"534\" y2=\"534\"/><line style=\"stroke: #A80036; stroke-width: 1.5;\" x1=\"438.5\" x2=\"492.5\" y1=\"542\" y2=\"542\"/><rect fill=\"#FEFECE\" filter=\"url(#f1)\" height=\"48\" style=\"stroke: #A80036; stroke-width: 1.5;\" width=\"123\" x=\"16\" y=\"342\"/><ellipse cx=\"31\" cy=\"358\" fill=\"#ADD1B2\" rx=\"11\" ry=\"11\" style=\"stroke: #A80036; stroke-width: 1.0;\"/><path d=\"M33.9731,363.6431 Q33.3921,363.9419 32.7529,364.0913 Q32.1138,364.2407 31.4082,364.2407 Q28.9014,364.2407 27.5815,362.5889 Q26.2617,360.937 26.2617,357.8159 Q26.2617,354.6865 27.5815,353.0347 Q28.9014,351.3828 31.4082,351.3828 Q32.1138,351.3828 32.7612,351.5322 Q33.4087,351.6816 33.9731,351.9805 L33.9731,354.7031 Q33.3423,354.1221 32.7488,353.8523 Q32.1553,353.5825 31.5244,353.5825 Q30.1797,353.5825 29.4949,354.6492 Q28.8101,355.7158 28.8101,357.8159 Q28.8101,359.9077 29.4949,360.9744 Q30.1797,362.041 31.5244,362.041 Q32.1553,362.041 32.7488,361.7712 Q33.3423,361.5015 33.9731,360.9204 Z \"/><text fill=\"#000000\" font-family=\"sans-serif\" font-size=\"12\" lengthAdjust=\"spacingAndGlyphs\" textLength=\"91\" x=\"45\" y=\"362.5352\">GumballMonitor</text><line style=\"stroke: #A80036; stroke-width: 1.5;\" x1=\"17\" x2=\"138\" y1=\"374\" y2=\"374\"/><line style=\"stroke: #A80036; stroke-width: 1.5;\" x1=\"17\" x2=\"138\" y1=\"382\" y2=\"382\"/><path d=\"M91.5,127.083 C91.5,145.459 91.5,166.178 91.5,181.63 \" fill=\"none\" style=\"stroke: #A80036; stroke-width: 1.0;\"/><polygon fill=\"none\" points=\"84.5001,127.044,91.5,107.044,98.5001,127.044,84.5001,127.044\" style=\"stroke: #A80036; stroke-width: 1.0;\"/><path d=\"M242.5,127.707 C242.5,170.94 242.5,237.961 242.5,289.764 \" fill=\"none\" style=\"stroke: #A80036; stroke-width: 1.0;\"/><polygon fill=\"none\" points=\"235.5,127.475,242.5,107.475,249.5,127.475,235.5,127.475\" style=\"stroke: #A80036; stroke-width: 1.0;\"/><path d=\"M127.843,245.027 C141.825,259.658 158.285,276.881 174.303,293.642 \" fill=\"none\" style=\"stroke: #A80036; stroke-width: 1.0; stroke-dasharray: 7.0,7.0;\"/><polygon fill=\"none\" points=\"122.538,249.609,113.781,230.313,132.659,239.936,122.538,249.609\" style=\"stroke: #A80036; stroke-width: 1.0;\"/><path d=\"M412.5,250.399 C412.5,270.651 412.5,294.851 412.5,315.783 \" fill=\"none\" style=\"stroke: #A80036; stroke-width: 1.0;\"/><polygon fill=\"none\" points=\"405.5,250.313,412.5,230.313,419.5,250.313,405.5,250.313\" style=\"stroke: #A80036; stroke-width: 1.0;\"/><path d=\"M344.797,429.924 C317.478,455.3142 287.67,483.0183 267.316,501.9356 \" fill=\"none\" style=\"stroke: #A80036; stroke-width: 1.0; stroke-dasharray: 7.0,7.0;\"/><polygon fill=\"none\" points=\"340.228,424.614,359.643,416.126,349.759,434.869,340.228,424.614\" style=\"stroke: #A80036; stroke-width: 1.0;\"/><path d=\"M477.378,430.276 C503.313,455.5705 531.545,483.1059 550.852,501.9356 \" fill=\"none\" style=\"stroke: #A80036; stroke-width: 1.0; stroke-dasharray: 7.0,7.0;\"/><polygon fill=\"none\" points=\"472.3,435.102,462.87,416.126,482.075,425.079,472.3,435.102\" style=\"stroke: #A80036; stroke-width: 1.0;\"/><path d=\"M391.66,435.599 C384.438,459.3703 376.828,484.4196 371.507,501.9356 \" fill=\"none\" style=\"stroke: #A80036; stroke-width: 1.0; stroke-dasharray: 7.0,7.0;\"/><polygon fill=\"none\" points=\"385.064,433.228,397.576,416.126,398.46,437.297,385.064,433.228\" style=\"stroke: #A80036; stroke-width: 1.0;\"/><path d=\"M435.392,435.243 C443.401,459.1196 451.858,484.332 457.763,501.9356 \" fill=\"none\" style=\"stroke: #A80036; stroke-width: 1.0; stroke-dasharray: 7.0,7.0;\"/><polygon fill=\"none\" points=\"428.703,437.314,428.979,416.126,441.976,432.862,428.703,437.314\" style=\"stroke: #A80036; stroke-width: 1.0;\"/><path d=\"M310.566,366 C320.513,366 330.459,366 340.405,366 \" fill=\"none\" style=\"stroke: #A80036; stroke-width: 1.0;\"/><polygon fill=\"#A80036\" points=\"345.606,366,336.606,362,340.606,366,336.606,370,345.606,366\" style=\"stroke: #A80036; stroke-width: 1.0;\"/><path d=\"M88.9821,235.416 C86.2845,265.861 82.0542,313.602 79.5514,341.848 \" fill=\"none\" style=\"stroke: #A80036; stroke-width: 1.0;\"/><polygon fill=\"#A80036\" points=\"89.4343,230.313,84.6553,238.9247,88.9929,235.2935,92.6241,239.631,89.4343,230.313\" style=\"stroke: #A80036; stroke-width: 1.0;\"/><path d=\"M242.5,501.7715 C242.5,487.146 242.5,467.3156 242.5,447.369 \" fill=\"none\" style=\"stroke: #A80036; stroke-width: 1.0;\"/><polygon fill=\"#A80036\" points=\"242.5,442.298,238.5,451.298,242.5,447.298,246.5,451.298,242.5,442.298\" style=\"stroke: #A80036; stroke-width: 1.0;\"/></g></svg>"
      ],
      "text/plain": [
       "<IPython.core.display.SVG object>"
      ]
     },
     "execution_count": 4,
     "metadata": {},
     "output_type": "execute_result"
    }
   ],
   "source": [
    "%%plantuml\n",
    "@startuml\n",
    "interface GumballMachineRemote\n",
    "class GumballMachine {\n",
    "    state:State\n",
    "    -count:int\n",
    "    +GumballMachine(int)\n",
    "    +insertQuarter():void\n",
    "    +ejectQuarter():void\n",
    "    +turnCrank():void\n",
    "    +setState(State):void\n",
    "    +getState(State):void\n",
    "}\n",
    "\n",
    "GumballMachineRemote -up-|> java.rmi.Remote\n",
    "GumballMachine -up-|> java.rmi.UnicastRemoteObject\n",
    "GumballMachine .up.|> GumballMachineRemote\n",
    "\n",
    "interface State {\n",
    "    +insertQuarter():void\n",
    "    +ejectQuarter():void\n",
    "    +turnCrank():void\n",
    "    +dispense():void\n",
    "}\n",
    "java.io.Serializable <|-- State\n",
    "State <|.. HasQuarter\n",
    "State <|.. NoQuarter\n",
    "State <|.. SoldOut\n",
    "State <|.. Sold\n",
    "GumballMachine -right-> State\n",
    "GumballMonitor -up-> GumballMachineRemote\n",
    "HasQuarter --> GumballMachine\n",
    "@enduml"
   ]
  },
  {
   "cell_type": "code",
   "execution_count": null,
   "metadata": {
    "collapsed": false
   },
   "outputs": [],
   "source": [
    "# %load src/headfirst/proxy/gumball/GumballMachineRemote.java\n",
    "package headfirst.proxy.gumball;\n",
    "\n",
    "import java.rmi.*;\n",
    " \n",
    "public interface GumballMachineRemote extends Remote {\n",
    "\tpublic int getCount() throws RemoteException;\n",
    "\tpublic String getLocation() throws RemoteException;\n",
    "\tpublic State getState() throws RemoteException;\n",
    "}\n"
   ]
  },
  {
   "cell_type": "code",
   "execution_count": null,
   "metadata": {
    "collapsed": false
   },
   "outputs": [],
   "source": [
    "# %load src/headfirst/proxy/gumball/GumballMachine.java\n",
    "package headfirst.proxy.gumball;\n",
    "\n",
    "import java.rmi.*;\n",
    "import java.rmi.server.*;\n",
    " \n",
    "public class GumballMachine\n",
    "\t\textends UnicastRemoteObject implements GumballMachineRemote \n",
    "{\n",
    "\tState soldOutState;\n",
    "\tState noQuarterState;\n",
    "\tState hasQuarterState;\n",
    "\tState soldState;\n",
    "\tState winnerState;\n",
    " \n",
    "\tState state = soldOutState;\n",
    "\tint count = 0;\n",
    " \tString location;\n",
    "\n",
    "\tpublic GumballMachine(String location, int numberGumballs) throws RemoteException {\n",
    "\t\tsoldOutState = new SoldOutState(this);\n",
    "\t\tnoQuarterState = new NoQuarterState(this);\n",
    "\t\thasQuarterState = new HasQuarterState(this);\n",
    "\t\tsoldState = new SoldState(this);\n",
    "\t\twinnerState = new WinnerState(this);\n",
    "\n",
    "\t\tthis.count = numberGumballs;\n",
    " \t\tif (numberGumballs > 0) {\n",
    "\t\t\tstate = noQuarterState;\n",
    "\t\t} \n",
    "\t\tthis.location = location;\n",
    "\t}\n",
    " \n",
    " \n",
    "\tpublic void insertQuarter() {\n",
    "\t\tstate.insertQuarter();\n",
    "\t}\n",
    " \n",
    "\tpublic void ejectQuarter() {\n",
    "\t\tstate.ejectQuarter();\n",
    "\t}\n",
    " \n",
    "\tpublic void turnCrank() {\n",
    "\t\tstate.turnCrank();\n",
    "\t\tstate.dispense();\n",
    "\t}\n",
    "\n",
    "\tvoid setState(State state) {\n",
    "\t\tthis.state = state;\n",
    "\t}\n",
    " \n",
    "\tvoid releaseBall() {\n",
    "\t\tSystem.out.println(\"A gumball comes rolling out the slot...\");\n",
    "\t\tif (count != 0) {\n",
    "\t\t\tcount = count - 1;\n",
    "\t\t}\n",
    "\t}\n",
    "\n",
    "\tpublic void refill(int count) {\n",
    "\t\tthis.count = count;\n",
    "\t\tstate = noQuarterState;\n",
    "\t}\n",
    " \n",
    "\tpublic int getCount() {\n",
    "\t\treturn count;\n",
    "\t}\n",
    " \n",
    "    public State getState() {\n",
    "        return state;\n",
    "    }\n",
    " \n",
    "    public String getLocation() {\n",
    "        return location;\n",
    "    }\n",
    "  \n",
    "    public State getSoldOutState() {\n",
    "        return soldOutState;\n",
    "    }\n",
    "\n",
    "    public State getNoQuarterState() {\n",
    "        return noQuarterState;\n",
    "    }\n",
    "\n",
    "    public State getHasQuarterState() {\n",
    "        return hasQuarterState;\n",
    "    }\n",
    "\n",
    "    public State getSoldState() {\n",
    "        return soldState;\n",
    "    }\n",
    "\n",
    "    public State getWinnerState() {\n",
    "        return winnerState;\n",
    "    }\n",
    " \n",
    "\tpublic String toString() {\n",
    "\t\tStringBuffer result = new StringBuffer();\n",
    "\t\tresult.append(\"\\nMighty Gumball, Inc.\");\n",
    "\t\tresult.append(\"\\nJava-enabled Standing Gumball Model #2004\");\n",
    "\t\tresult.append(\"\\nInventory: \" + count + \" gumball\");\n",
    "\t\tif (count != 1) {\n",
    "\t\t\tresult.append(\"s\");\n",
    "\t\t}\n",
    "\t\tresult.append(\"\\n\");\n",
    "\t\tresult.append(\"Machine is \" + state + \"\\n\");\n",
    "\t\treturn result.toString();\n",
    "\t}\n",
    "}\n"
   ]
  },
  {
   "cell_type": "code",
   "execution_count": null,
   "metadata": {
    "collapsed": false
   },
   "outputs": [],
   "source": [
    "# %load src/headfirst/proxy/gumball/GumballMachineTestDrive.java\n",
    "package headfirst.proxy.gumball;\n",
    "import java.rmi.*;\n",
    "\n",
    "public class GumballMachineTestDrive {\n",
    " \n",
    "\tpublic static void main(String[] args) {\n",
    "\t\tGumballMachineRemote gumballMachine = null;\n",
    "\t\tint count;\n",
    "\n",
    "\t\tif (args.length < 2) {\n",
    "\t\t\tSystem.out.println(\"GumballMachine <name> <inventory>\");\n",
    " \t\t\tSystem.exit(1);\n",
    "\t\t}\n",
    "\n",
    "\t\ttry {\n",
    "\t\t\tcount = Integer.parseInt(args[1]);\n",
    "\n",
    "\t\t\tgumballMachine = \n",
    "\t\t\t\tnew GumballMachine(args[0], count);\n",
    "\t\t\tNaming.rebind(\"//\" + args[0] + \"/gumballmachine\", gumballMachine);\n",
    "\t\t} catch (Exception e) {\n",
    "\t\t\te.printStackTrace();\n",
    "\t\t}\n",
    "\t}\n",
    "}\n"
   ]
  },
  {
   "cell_type": "code",
   "execution_count": null,
   "metadata": {
    "collapsed": false
   },
   "outputs": [],
   "source": [
    "# %load src/headfirst/proxy/gumball/GumballMonitor.java\n",
    "package headfirst.proxy.gumball;\n",
    "\n",
    "import java.rmi.*;\n",
    " \n",
    "public class GumballMonitor {\n",
    "\tGumballMachineRemote machine;\n",
    " \n",
    "\tpublic GumballMonitor(GumballMachineRemote machine) {\n",
    "\t\tthis.machine = machine;\n",
    "\t}\n",
    " \n",
    "\tpublic void report() {\n",
    "\t\ttry {\n",
    "\t\t\tSystem.out.println(\"Gumball Machine: \" + machine.getLocation());\n",
    "\t\t\tSystem.out.println(\"Current inventory: \" + machine.getCount() + \" gumballs\");\n",
    "\t\t\tSystem.out.println(\"Current state: \" + machine.getState());\n",
    "\t\t} catch (RemoteException e) {\n",
    "\t\t\te.printStackTrace();\n",
    "\t\t}\n",
    "\t}\n",
    "}\n"
   ]
  },
  {
   "cell_type": "code",
   "execution_count": null,
   "metadata": {
    "collapsed": false
   },
   "outputs": [],
   "source": [
    "# %load src/headfirst/proxy/gumball/GumballMonitorTestDrive.java\n",
    "package headfirst.proxy.gumball;\n",
    "\n",
    "import java.rmi.*;\n",
    " \n",
    "public class GumballMonitorTestDrive {\n",
    "    public static void main(String[] args) {\n",
    "        String[] location = {\"rmi://localhost/gumballmachine\",\n",
    "                             \"rmi://localhost/gumballmachine\",\n",
    "                             \"rmi://localhost/gumballmachine\"}; \n",
    "        //String[] location = {\"rmi://santafe.localhost/gumballmachine\",\n",
    "        //                     \"rmi://boulder.localhost/gumballmachine\",\n",
    "        //                     \"rmi://seattle.localhost/gumballmachine\"}; \n",
    "        if (args.length >= 0) {\n",
    "            location = new String[1];\n",
    "            location[0] = \"rmi://\" + args[0] + \"/gumballmachine\";\n",
    "        }\n",
    "        GumballMonitor[] monitor = new GumballMonitor[location.length];\n",
    "        for (int i=0;i < location.length; i++) {\n",
    "            try {\n",
    "                GumballMachineRemote machine = \n",
    "                    (GumballMachineRemote) Naming.lookup(location[i]);\n",
    "                monitor[i] = new GumballMonitor(machine);\n",
    "                System.out.println(monitor[i]);\n",
    "            } catch (Exception e) {\n",
    "                e.printStackTrace();\n",
    "            }\n",
    "        }\n",
    " \n",
    "        for(int i=0; i < monitor.length; i++) {\n",
    "            monitor[i].report();\n",
    "        }\n",
    "    }\n",
    "}\n"
   ]
  },
  {
   "cell_type": "code",
   "execution_count": null,
   "metadata": {
    "collapsed": false
   },
   "outputs": [],
   "source": [
    "# %load src/headfirst/proxy/gumball/State.java\n",
    "package headfirst.proxy.gumball;\n",
    "\n",
    "import java.io.*;\n",
    "  \n",
    "public interface State extends Serializable {\n",
    "\tpublic void insertQuarter();\n",
    "\tpublic void ejectQuarter();\n",
    "\tpublic void turnCrank();\n",
    "\tpublic void dispense();\n",
    "}\n"
   ]
  },
  {
   "cell_type": "code",
   "execution_count": null,
   "metadata": {
    "collapsed": false
   },
   "outputs": [],
   "source": [
    "# %load src/headfirst/proxy/gumball/HasQuarterState.java\n",
    "package headfirst.proxy.gumball;\n",
    "\n",
    "import java.util.Random;\n",
    "\n",
    "public class HasQuarterState implements State {\n",
    "\tRandom randomWinner = new Random(System.currentTimeMillis());\n",
    "\ttransient GumballMachine gumballMachine;\n",
    " \n",
    "\tpublic HasQuarterState(GumballMachine gumballMachine) {\n",
    "\t\tthis.gumballMachine = gumballMachine;\n",
    "\t}\n",
    "  \n",
    "\tpublic void insertQuarter() {\n",
    "\t\tSystem.out.println(\"You can't insert another quarter\");\n",
    "\t}\n",
    " \n",
    "\tpublic void ejectQuarter() {\n",
    "\t\tSystem.out.println(\"Quarter returned\");\n",
    "\t\tgumballMachine.setState(gumballMachine.getNoQuarterState());\n",
    "\t}\n",
    " \n",
    "\tpublic void turnCrank() {\n",
    "\t\tSystem.out.println(\"You turned...\");\n",
    "\t\tint winner = randomWinner.nextInt(10);\n",
    "\t\tif (winner == 0) {\n",
    "\t\t\tgumballMachine.setState(gumballMachine.getWinnerState());\n",
    "\t\t} else {\n",
    "\t\t\tgumballMachine.setState(gumballMachine.getSoldState());\n",
    "\t\t}\n",
    "\t}\n",
    "\n",
    "    public void dispense() {\n",
    "        System.out.println(\"No gumball dispensed\");\n",
    "    }\n",
    " \n",
    "\tpublic String toString() {\n",
    "\t\treturn \"waiting for turn of crank\";\n",
    "\t}\n",
    "}\n"
   ]
  },
  {
   "cell_type": "markdown",
   "metadata": {},
   "source": [
    "* compile\n",
    "    * rmic를 실행하여 stubs, skeletons을 생성하지 않아도 된다."
   ]
  },
  {
   "cell_type": "code",
   "execution_count": 11,
   "metadata": {
    "collapsed": false
   },
   "outputs": [],
   "source": [
    "!javac -d classes/ -sourcepath src/ src/headfirst/proxy/gumball/*.java"
   ]
  },
  {
   "cell_type": "markdown",
   "metadata": {},
   "source": [
    "* run rmiregistry\n",
    "    * 주의: rmiregistry는 classes 디렉토리에서 실행한다.\n",
    "    * notebook에서는 process실행은 지원하지 않는다.\n",
    "    ```\n",
    "    cd ./classes/\n",
    "    rmiregistry &\n",
    "    ```\n",
    "    * rmiregistry가 실행되고 있는지 확인한다. 다시 실행할 경우에는 프로세스를 삭제해야 한다.\n",
    "    ```\n",
    "    ps -ax | grep rmiregistry\n",
    "    pkill rmiregistry\n",
    "    ```"
   ]
  },
  {
   "cell_type": "code",
   "execution_count": 1,
   "metadata": {
    "collapsed": false,
    "scrolled": true
   },
   "outputs": [
    {
     "name": "stdout",
     "output_type": "stream",
     "text": [
      "32151 ttys005    0:00.21 /usr/bin/rmiregistry\r\n",
      "32158 ttys006    0:00.01 /bin/sh -c ps -ax | grep rmiregistry\r\n",
      "32160 ttys006    0:00.00 grep rmiregistry\r\n"
     ]
    }
   ],
   "source": [
    "!ps -ax | grep rmiregistry"
   ]
  },
  {
   "cell_type": "markdown",
   "metadata": {},
   "source": [
    "* 서버 실행\n",
    "    * 프로젝트 디렉토리로 이동해서, 서버를 실행한다.\n",
    "    * 서버실행은 notebook에서 지원하지 않는다.\n",
    "    * 명령창으로 나가서 서버를 실행한다 (아래 명령어).\n",
    "    * 실행하고 나면, 명령창이 대기 상태로 전환된다.\n",
    "    ```\n",
    "    java -cp classes/ headfirst.proxy.gumball.GumballMachineTestDrive localhost 100\n",
    "    ```"
   ]
  },
  {
   "cell_type": "markdown",
   "metadata": {},
   "source": [
    "* 클라이언트 실행\n",
    "    * 명령창에서 서버가 실행상태, 즉 클라이언트의 호출을 대기하고 있다."
   ]
  },
  {
   "cell_type": "code",
   "execution_count": 2,
   "metadata": {
    "collapsed": false
   },
   "outputs": [
    {
     "name": "stdout",
     "output_type": "stream",
     "text": [
      "headfirst.proxy.gumball.GumballMonitor@6569a85d\r\n",
      "Gumball Machine: localhost\r\n",
      "Current inventory: 100 gumballs\r\n",
      "Current state: waiting for quarter\r\n"
     ]
    }
   ],
   "source": [
    "!java -cp classes/ headfirst.proxy.gumball.GumballMonitorTestDrive localhost"
   ]
  }
 ],
 "metadata": {
  "celltoolbar": "Slideshow",
  "kernelspec": {
   "display_name": "Python 2",
   "language": "python",
   "name": "python2"
  },
  "language_info": {
   "codemirror_mode": {
    "name": "ipython",
    "version": 2
   },
   "file_extension": ".py",
   "mimetype": "text/x-python",
   "name": "python",
   "nbconvert_exporter": "python",
   "pygments_lexer": "ipython2",
   "version": "2.7.12"
  }
 },
 "nbformat": 4,
 "nbformat_minor": 0
}
