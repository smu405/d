{
 "cells": [
  {
   "cell_type": "markdown",
   "metadata": {
    "slideshow": {
     "slide_type": "slide"
    }
   },
   "source": [
    "# 강의내용\n",
    "\n",
    "* 교재 8장 HFDP Ch8\n",
    "* Template Method 패턴 (Behavioral Design Pattern)\n",
    "* 프로그래밍 'Barista' (HFDP Ch8)\n",
    "* TOC\n",
    "    * intro\n",
    "    * problems\n",
    "    * before\n",
    "    * design\n",
    "    * after\n",
    "    * case implementation\n",
    "    * exercise (by Sat to git: 50% for 1 day late deadline) \n",
    "        * case extension\n",
    "            * Caramel Macchiato (vanilla syrup, espresso, milk, caramel) - Decorator패턴과 비교\n",
    "        * new case - DuckComparator"
   ]
  },
  {
   "cell_type": "markdown",
   "metadata": {
    "slideshow": {
     "slide_type": "slide"
    }
   },
   "source": [
    "# 1. Template 패턴\n",
    "\n",
    "* 알고리즘의 Template을 구현하는 것.\n",
    "* Encapsulating Algorithms 알고리즘 추상화\n",
    "    * \"defined the selection of an algorithm in a method,\n",
    "    deferring some steps to subclasses.\"\n",
    "    * 알고리즘이 비슷한 여러 객체 - 절차 및 기능이 비슷 (절차는 동일invariant parts, 기능이 부분적으로 다름 varying parts)\n",
    "    * 부분적으로 다른 기능은 하위 클래스 별로 적합하게 구현\n",
    "\n",
    "* cases\n",
    "    * HFDP barista (tea, coffee)\n",
    "    * frameworks - JFrame, Applet...\n",
    "        * public void paint(Graphics g)\n",
    "    * parser (read, parse, write)\n",
    "\n",
    "* 디자인패턴 요소\n",
    "\n",
    "요소 | 설명\n",
    "---|---\n",
    "name | Template\n",
    "problem | 객체 서로 알고리즘이 비슷.\n",
    "solution | 상속으로 고정, 변동 분리\n",
    "consequence | 중복이 없어짐."
   ]
  },
  {
   "cell_type": "markdown",
   "metadata": {
    "slideshow": {
     "slide_type": "slide"
    }
   },
   "source": [
    "# 2. 문제\n",
    "\n",
    "* 2개의 객체가 있고, 서로 알고리즘이 비슷. 수정할 경우, 중복때문에 불일치 발생할 수 있슴."
   ]
  },
  {
   "cell_type": "code",
   "execution_count": 1,
   "metadata": {
    "collapsed": false,
    "slideshow": {
     "slide_type": "slide"
    }
   },
   "outputs": [
    {
     "name": "stdout",
     "output_type": "stream",
     "text": [
      "Installed plantuml_magics.py. To use it, type:\n",
      "  %load_ext plantuml_magics\n"
     ]
    }
   ],
   "source": [
    "%install_ext https://raw.githubusercontent.com/sberke/ipython-plantuml/master/plantuml_magics.py"
   ]
  },
  {
   "cell_type": "code",
   "execution_count": 2,
   "metadata": {
    "collapsed": false,
    "slideshow": {
     "slide_type": "slide"
    }
   },
   "outputs": [],
   "source": [
    "%load_ext plantuml_magics"
   ]
  },
  {
   "cell_type": "code",
   "execution_count": 3,
   "metadata": {
    "collapsed": false,
    "slideshow": {
     "slide_type": "slide"
    }
   },
   "outputs": [
    {
     "data": {
      "text/plain": [
       "['./plantuml.jar']"
      ]
     },
     "execution_count": 3,
     "metadata": {},
     "output_type": "execute_result"
    }
   ],
   "source": [
    "import glob\n",
    "glob.glob(r'./*.jar')"
   ]
  },
  {
   "cell_type": "code",
   "execution_count": 32,
   "metadata": {
    "collapsed": false,
    "slideshow": {
     "slide_type": "slide"
    }
   },
   "outputs": [
    {
     "name": "stdout",
     "output_type": "stream",
     "text": [
      "/opt/local/bin/dot\r\n"
     ]
    }
   ],
   "source": [
    "!which dot"
   ]
  },
  {
   "cell_type": "code",
   "execution_count": 3,
   "metadata": {
    "collapsed": false,
    "slideshow": {
     "slide_type": "slide"
    }
   },
   "outputs": [
    {
     "name": "stdout",
     "output_type": "stream",
     "text": [
      "/opt/local/bin/dot\n",
      "The environment variable GRAPHVIZ_DOT has been set to /opt/local/bin/dot\n",
      "Dot executable is /opt/local/bin/dot\n",
      "Dot version: dot - graphviz version 2.38.0 (20140413.2041)\n",
      "Installation seems OK. File generation OK\n"
     ]
    }
   ],
   "source": [
    "import os\n",
    "os.environ['GRAPHVIZ_DOT']='/opt/local/bin/dot'\n",
    "print os.environ['GRAPHVIZ_DOT']\n",
    "!java -jar plantuml.jar -testdot"
   ]
  },
  {
   "cell_type": "markdown",
   "metadata": {
    "slideshow": {
     "slide_type": "slide"
    }
   },
   "source": [
    "# 3. before\n",
    "\n",
    "* 커피, 차 만드는 알고리즘이 서로 비슷\n",
    "* 알고리즘이 중복해서 존재\n",
    "* Coffee\n",
    "    * 물 끓이고 boilWater()\n",
    "    * 끓는 물에 커피를 우려 내고 brewCoffeeGrinds()\n",
    "    * 컵에 부어서 pourInCup()\n",
    "    * 설탕과 밀크 추가 addSugarAndMilk()\n",
    "* Tea\n",
    "    * 물 끓이고 boilWater()\n",
    "    * 끓는 물에 차를 우려 내고 steepTeaBag()\n",
    "    * 컴에 부어서 pourInCup()\n",
    "    * 레몬 추가 addLemon()\n",
    "* 상속을 이용해서 설계를 해도(아래 before2) 공통부분을 더욱 추상화할 수 있다."
   ]
  },
  {
   "cell_type": "code",
   "execution_count": 5,
   "metadata": {
    "collapsed": false,
    "slideshow": {
     "slide_type": "slide"
    }
   },
   "outputs": [
    {
     "data": {
      "image/svg+xml": [
       "<svg height=\"194px\" style=\"width:183px;height:194px;\" version=\"1.1\" viewBox=\"0 0 183 194\" width=\"183px\" xmlns=\"http://www.w3.org/2000/svg\" xmlns:xlink=\"http://www.w3.org/1999/xlink\"><defs><filter height=\"300%\" id=\"f1\" width=\"300%\" x=\"-1\" y=\"-1\"><feGaussianBlur result=\"blurOut\" stdDeviation=\"2.0\"/><feColorMatrix in=\"blurOut\" result=\"blurOut2\" type=\"matrix\" values=\"0 0 0 0 0 0 0 0 0 0 0 0 0 0 0 0 0 0 .4 0\"/><feOffset dx=\"4.0\" dy=\"4.0\" in=\"blurOut2\" result=\"blurOut3\"/><feBlend in=\"SourceGraphic\" in2=\"blurOut3\" mode=\"normal\"/></filter></defs><g><text fill=\"#000000\" font-family=\"sans-serif\" font-size=\"18\" lengthAdjust=\"spacingAndGlyphs\" textLength=\"67\" x=\"63\" y=\"17.4023\">before1</text><rect fill=\"#FEFECE\" filter=\"url(#f1)\" height=\"48\" style=\"stroke: #A80036; stroke-width: 1.5;\" width=\"69\" x=\"105.5\" y=\"29.1992\"/><ellipse cx=\"120.5\" cy=\"45.1992\" fill=\"#ADD1B2\" rx=\"11\" ry=\"11\" style=\"stroke: #A80036; stroke-width: 1.0;\"/><path d=\"M123.4731,50.8423 Q122.8921,51.1411 122.2529,51.2905 Q121.6138,51.4399 120.9082,51.4399 Q118.4014,51.4399 117.0815,49.7881 Q115.7617,48.1362 115.7617,45.0151 Q115.7617,41.8857 117.0815,40.2339 Q118.4014,38.582 120.9082,38.582 Q121.6138,38.582 122.2612,38.7314 Q122.9087,38.8809 123.4731,39.1797 L123.4731,41.9023 Q122.8423,41.3213 122.2488,41.0515 Q121.6553,40.7817 121.0244,40.7817 Q119.6797,40.7817 118.9949,41.8484 Q118.3101,42.915 118.3101,45.0151 Q118.3101,47.1069 118.9949,48.1736 Q119.6797,49.2402 121.0244,49.2402 Q121.6553,49.2402 122.2488,48.9705 Q122.8423,48.7007 123.4731,48.1196 Z \"/><text fill=\"#000000\" font-family=\"sans-serif\" font-size=\"12\" lengthAdjust=\"spacingAndGlyphs\" textLength=\"37\" x=\"134.5\" y=\"49.7344\">Coffee</text><line style=\"stroke: #A80036; stroke-width: 1.5;\" x1=\"106.5\" x2=\"173.5\" y1=\"61.1992\" y2=\"61.1992\"/><line style=\"stroke: #A80036; stroke-width: 1.5;\" x1=\"106.5\" x2=\"173.5\" y1=\"69.1992\" y2=\"69.1992\"/><rect fill=\"#FEFECE\" filter=\"url(#f1)\" height=\"48\" style=\"stroke: #A80036; stroke-width: 1.5;\" width=\"54\" x=\"11\" y=\"137.1992\"/><ellipse cx=\"26\" cy=\"153.1992\" fill=\"#ADD1B2\" rx=\"11\" ry=\"11\" style=\"stroke: #A80036; stroke-width: 1.0;\"/><path d=\"M28.9731,158.8423 Q28.3921,159.1411 27.7529,159.2905 Q27.1138,159.4399 26.4082,159.4399 Q23.9014,159.4399 22.5815,157.7881 Q21.2617,156.1362 21.2617,153.0151 Q21.2617,149.8857 22.5815,148.2339 Q23.9014,146.582 26.4082,146.582 Q27.1138,146.582 27.7612,146.7314 Q28.4087,146.8809 28.9731,147.1797 L28.9731,149.9023 Q28.3423,149.3213 27.7488,149.0515 Q27.1553,148.7817 26.5244,148.7817 Q25.1797,148.7817 24.4949,149.8484 Q23.8101,150.915 23.8101,153.0151 Q23.8101,155.1069 24.4949,156.1736 Q25.1797,157.2402 26.5244,157.2402 Q27.1553,157.2402 27.7488,156.9705 Q28.3423,156.7007 28.9731,156.1196 Z \"/><text fill=\"#000000\" font-family=\"sans-serif\" font-size=\"12\" lengthAdjust=\"spacingAndGlyphs\" textLength=\"22\" x=\"40\" y=\"157.7344\">Tea</text><line style=\"stroke: #A80036; stroke-width: 1.5;\" x1=\"12\" x2=\"64\" y1=\"169.1992\" y2=\"169.1992\"/><line style=\"stroke: #A80036; stroke-width: 1.5;\" x1=\"12\" x2=\"64\" y1=\"177.1992\" y2=\"177.1992\"/><rect fill=\"#FEFECE\" filter=\"url(#f1)\" height=\"48\" style=\"stroke: #A80036; stroke-width: 1.5;\" width=\"64\" x=\"6\" y=\"29.1992\"/><ellipse cx=\"21\" cy=\"45.1992\" fill=\"#ADD1B2\" rx=\"11\" ry=\"11\" style=\"stroke: #A80036; stroke-width: 1.0;\"/><path d=\"M23.9731,50.8423 Q23.3921,51.1411 22.7529,51.2905 Q22.1138,51.4399 21.4082,51.4399 Q18.9014,51.4399 17.5815,49.7881 Q16.2617,48.1362 16.2617,45.0151 Q16.2617,41.8857 17.5815,40.2339 Q18.9014,38.582 21.4082,38.582 Q22.1138,38.582 22.7612,38.7314 Q23.4087,38.8809 23.9731,39.1797 L23.9731,41.9023 Q23.3423,41.3213 22.7488,41.0515 Q22.1553,40.7817 21.5244,40.7817 Q20.1797,40.7817 19.4949,41.8484 Q18.8101,42.915 18.8101,45.0151 Q18.8101,47.1069 19.4949,48.1736 Q20.1797,49.2402 21.5244,49.2402 Q22.1553,49.2402 22.7488,48.9705 Q23.3423,48.7007 23.9731,48.1196 Z \"/><text fill=\"#000000\" font-family=\"sans-serif\" font-size=\"12\" lengthAdjust=\"spacingAndGlyphs\" textLength=\"32\" x=\"35\" y=\"49.7344\">Client</text><line style=\"stroke: #A80036; stroke-width: 1.5;\" x1=\"7\" x2=\"69\" y1=\"61.1992\" y2=\"61.1992\"/><line style=\"stroke: #A80036; stroke-width: 1.5;\" x1=\"7\" x2=\"69\" y1=\"69.1992\" y2=\"69.1992\"/><path d=\"M70.2734,53.1992 C80.2468,53.1992 90.2202,53.1992 100.1936,53.1992 \" fill=\"none\" style=\"stroke: #A80036; stroke-width: 1.0;\"/><polygon fill=\"#A80036\" points=\"105.4091,53.1992,96.4091,49.1992,100.4091,53.1992,96.4091,57.1992,105.4091,53.1992\" style=\"stroke: #A80036; stroke-width: 1.0;\"/><path d=\"M38,77.1992 C38,93.2022 38,114.6453 38,131.7272 \" fill=\"none\" style=\"stroke: #A80036; stroke-width: 1.0;\"/><polygon fill=\"#A80036\" points=\"38,136.8776,42,127.8776,38,131.8776,34,127.8776,38,136.8776\" style=\"stroke: #A80036; stroke-width: 1.0;\"/></g></svg>"
      ],
      "text/plain": [
       "<IPython.core.display.SVG object>"
      ]
     },
     "execution_count": 5,
     "metadata": {},
     "output_type": "execute_result"
    }
   ],
   "source": [
    "%%plantuml\n",
    "@startuml\n",
    "title before1\n",
    "class Coffee\n",
    "class Tea\n",
    "Client -right-> Coffee\n",
    "Client -down-> Tea\n",
    "@enduml"
   ]
  },
  {
   "cell_type": "code",
   "execution_count": 6,
   "metadata": {
    "collapsed": false
   },
   "outputs": [
    {
     "data": {
      "image/svg+xml": [
       "<svg height=\"272px\" style=\"width:290px;height:272px;\" version=\"1.1\" viewBox=\"0 0 290 272\" width=\"290px\" xmlns=\"http://www.w3.org/2000/svg\" xmlns:xlink=\"http://www.w3.org/1999/xlink\"><defs><filter height=\"300%\" id=\"f1\" width=\"300%\" x=\"-1\" y=\"-1\"><feGaussianBlur result=\"blurOut\" stdDeviation=\"2.0\"/><feColorMatrix in=\"blurOut\" result=\"blurOut2\" type=\"matrix\" values=\"0 0 0 0 0 0 0 0 0 0 0 0 0 0 0 0 0 0 .4 0\"/><feOffset dx=\"4.0\" dy=\"4.0\" in=\"blurOut2\" result=\"blurOut3\"/><feBlend in=\"SourceGraphic\" in2=\"blurOut3\" mode=\"normal\"/></filter></defs><g><text fill=\"#000000\" font-family=\"sans-serif\" font-size=\"18\" lengthAdjust=\"spacingAndGlyphs\" textLength=\"289\" x=\"0\" y=\"17.4023\">&quot;before2: need more abstraction&quot;</text><rect fill=\"#FEFECE\" filter=\"url(#f1)\" height=\"86.8652\" style=\"stroke: #A80036; stroke-width: 1.5;\" width=\"132\" x=\"77.5\" y=\"29.1992\"/><ellipse cx=\"92.5\" cy=\"45.1992\" fill=\"#ADD1B2\" rx=\"11\" ry=\"11\" style=\"stroke: #A80036; stroke-width: 1.0;\"/><path d=\"M95.4731,50.8423 Q94.8921,51.1411 94.2529,51.2905 Q93.6138,51.4399 92.9082,51.4399 Q90.4014,51.4399 89.0815,49.7881 Q87.7617,48.1362 87.7617,45.0151 Q87.7617,41.8857 89.0815,40.2339 Q90.4014,38.582 92.9082,38.582 Q93.6138,38.582 94.2612,38.7314 Q94.9087,38.8809 95.4731,39.1797 L95.4731,41.9023 Q94.8423,41.3213 94.2488,41.0515 Q93.6553,40.7817 93.0244,40.7817 Q91.6797,40.7817 90.9949,41.8484 Q90.3101,42.915 90.3101,45.0151 Q90.3101,47.1069 90.9949,48.1736 Q91.6797,49.2402 93.0244,49.2402 Q93.6553,49.2402 94.2488,48.9705 Q94.8423,48.7007 95.4731,48.1196 Z \"/><text fill=\"#000000\" font-family=\"sans-serif\" font-size=\"12\" lengthAdjust=\"spacingAndGlyphs\" textLength=\"100\" x=\"106.5\" y=\"49.7344\">CaffeineBeverage</text><line style=\"stroke: #A80036; stroke-width: 1.5;\" x1=\"78.5\" x2=\"208.5\" y1=\"61.1992\" y2=\"61.1992\"/><line style=\"stroke: #A80036; stroke-width: 1.5;\" x1=\"78.5\" x2=\"208.5\" y1=\"69.1992\" y2=\"69.1992\"/><text fill=\"#000000\" font-family=\"sans-serif\" font-size=\"11\" lengthAdjust=\"spacingAndGlyphs\" textLength=\"85\" x=\"83.5\" y=\"83.834\">prepareRecipe()</text><text fill=\"#000000\" font-family=\"sans-serif\" font-size=\"11\" lengthAdjust=\"spacingAndGlyphs\" textLength=\"58\" x=\"83.5\" y=\"96.7891\">boilWater()</text><text fill=\"#000000\" font-family=\"sans-serif\" font-size=\"11\" lengthAdjust=\"spacingAndGlyphs\" textLength=\"66\" x=\"83.5\" y=\"109.7441\">pourInCup()</text><rect fill=\"#FEFECE\" filter=\"url(#f1)\" height=\"86.8652\" style=\"stroke: #A80036; stroke-width: 1.5;\" width=\"117\" x=\"14\" y=\"176.1992\"/><ellipse cx=\"50.6\" cy=\"192.1992\" fill=\"#ADD1B2\" rx=\"11\" ry=\"11\" style=\"stroke: #A80036; stroke-width: 1.0;\"/><path d=\"M53.5731,197.8423 Q52.9921,198.1411 52.3529,198.2905 Q51.7138,198.4399 51.0082,198.4399 Q48.5014,198.4399 47.1815,196.7881 Q45.8617,195.1362 45.8617,192.0151 Q45.8617,188.8857 47.1815,187.2339 Q48.5014,185.582 51.0082,185.582 Q51.7138,185.582 52.3612,185.7314 Q53.0087,185.8809 53.5731,186.1797 L53.5731,188.9023 Q52.9423,188.3213 52.3488,188.0515 Q51.7553,187.7817 51.1244,187.7817 Q49.7797,187.7817 49.0949,188.8484 Q48.4101,189.915 48.4101,192.0151 Q48.4101,194.1069 49.0949,195.1736 Q49.7797,196.2402 51.1244,196.2402 Q51.7553,196.2402 52.3488,195.9705 Q52.9423,195.7007 53.5731,195.1196 Z \"/><text fill=\"#000000\" font-family=\"sans-serif\" font-size=\"12\" lengthAdjust=\"spacingAndGlyphs\" textLength=\"37\" x=\"69.4\" y=\"196.7344\">Coffee</text><line style=\"stroke: #A80036; stroke-width: 1.5;\" x1=\"15\" x2=\"130\" y1=\"208.1992\" y2=\"208.1992\"/><line style=\"stroke: #A80036; stroke-width: 1.5;\" x1=\"15\" x2=\"130\" y1=\"216.1992\" y2=\"216.1992\"/><text fill=\"#000000\" font-family=\"sans-serif\" font-size=\"11\" lengthAdjust=\"spacingAndGlyphs\" textLength=\"85\" x=\"20\" y=\"230.834\">prepareRecipe()</text><text fill=\"#000000\" font-family=\"sans-serif\" font-size=\"11\" lengthAdjust=\"spacingAndGlyphs\" textLength=\"105\" x=\"20\" y=\"243.7891\">brewCoffeeGrinds()</text><text fill=\"#000000\" font-family=\"sans-serif\" font-size=\"11\" lengthAdjust=\"spacingAndGlyphs\" textLength=\"102\" x=\"20\" y=\"256.7441\">addSugarAndMilk()</text><rect fill=\"#FEFECE\" filter=\"url(#f1)\" height=\"86.8652\" style=\"stroke: #A80036; stroke-width: 1.5;\" width=\"97\" x=\"166\" y=\"176.1992\"/><ellipse cx=\"200.35\" cy=\"192.1992\" fill=\"#ADD1B2\" rx=\"11\" ry=\"11\" style=\"stroke: #A80036; stroke-width: 1.0;\"/><path d=\"M203.3231,197.8423 Q202.7421,198.1411 202.1029,198.2905 Q201.4638,198.4399 200.7582,198.4399 Q198.2514,198.4399 196.9315,196.7881 Q195.6117,195.1362 195.6117,192.0151 Q195.6117,188.8857 196.9315,187.2339 Q198.2514,185.582 200.7582,185.582 Q201.4638,185.582 202.1112,185.7314 Q202.7587,185.8809 203.3231,186.1797 L203.3231,188.9023 Q202.6923,188.3213 202.0988,188.0515 Q201.5053,187.7817 200.8744,187.7817 Q199.5297,187.7817 198.8449,188.8484 Q198.1601,189.915 198.1601,192.0151 Q198.1601,194.1069 198.8449,195.1736 Q199.5297,196.2402 200.8744,196.2402 Q201.5053,196.2402 202.0988,195.9705 Q202.6923,195.7007 203.3231,195.1196 Z \"/><text fill=\"#000000\" font-family=\"sans-serif\" font-size=\"12\" lengthAdjust=\"spacingAndGlyphs\" textLength=\"22\" x=\"218.65\" y=\"196.7344\">Tea</text><line style=\"stroke: #A80036; stroke-width: 1.5;\" x1=\"167\" x2=\"262\" y1=\"208.1992\" y2=\"208.1992\"/><line style=\"stroke: #A80036; stroke-width: 1.5;\" x1=\"167\" x2=\"262\" y1=\"216.1992\" y2=\"216.1992\"/><text fill=\"#000000\" font-family=\"sans-serif\" font-size=\"11\" lengthAdjust=\"spacingAndGlyphs\" textLength=\"85\" x=\"172\" y=\"230.834\">prepareRecipe()</text><text fill=\"#000000\" font-family=\"sans-serif\" font-size=\"11\" lengthAdjust=\"spacingAndGlyphs\" textLength=\"75\" x=\"172\" y=\"243.7891\">steepTeaBag()</text><text fill=\"#000000\" font-family=\"sans-serif\" font-size=\"11\" lengthAdjust=\"spacingAndGlyphs\" textLength=\"64\" x=\"172\" y=\"256.7441\">addLemon()</text><path d=\"M113.6275,134.7062 C106.8641,148.5192 99.821,162.9032 93.5142,175.783 \" fill=\"none\" style=\"stroke: #A80036; stroke-width: 1.0;\"/><polygon fill=\"none\" points=\"107.4995,131.3032,122.582,116.4202,120.073,137.4602,107.4995,131.3032\" style=\"stroke: #A80036; stroke-width: 1.0;\"/><path d=\"M173.372,134.7062 C180.136,148.5192 187.179,162.9032 193.486,175.783 \" fill=\"none\" style=\"stroke: #A80036; stroke-width: 1.0;\"/><polygon fill=\"none\" points=\"166.927,137.4602,164.418,116.4202,179.5,131.3032,166.927,137.4602\" style=\"stroke: #A80036; stroke-width: 1.0;\"/></g></svg>"
      ],
      "text/plain": [
       "<IPython.core.display.SVG object>"
      ]
     },
     "execution_count": 6,
     "metadata": {},
     "output_type": "execute_result"
    }
   ],
   "source": [
    "%%plantuml\n",
    "@startuml\n",
    "title \"before2: need more abstraction\"\n",
    "class CaffeineBeverage {\n",
    "    prepareRecipe()\n",
    "    boilWater()\n",
    "    pourInCup()\n",
    "}\n",
    "class Coffee {\n",
    "    prepareRecipe()\n",
    "    brewCoffeeGrinds()\n",
    "    addSugarAndMilk()\n",
    "}\n",
    "class Tea {\n",
    "    prepareRecipe()\n",
    "    steepTeaBag()\n",
    "    addLemon()\n",
    "}\n",
    "CaffeineBeverage <|-- Coffee\n",
    "CaffeineBeverage <|-- Tea\n",
    "@enduml"
   ]
  },
  {
   "cell_type": "code",
   "execution_count": null,
   "metadata": {
    "collapsed": true,
    "slideshow": {
     "slide_type": "slide"
    }
   },
   "outputs": [],
   "source": [
    "# %load ./src/headfirst/templatemethod/simplebarista/Coffee.java\n",
    "package headfirst.templatemethod.simplebarista;\n",
    "\n",
    "public class Coffee {\n",
    " \n",
    "\tvoid prepareRecipe() {\n",
    "\t\tboilWater();\n",
    "\t\tbrewCoffeeGrinds();\n",
    "\t\tpourInCup();\n",
    "\t\taddSugarAndMilk();\n",
    "\t}\n",
    " \n",
    "\tpublic void boilWater() {\n",
    "\t\tSystem.out.println(\"Boiling water\");\n",
    "\t}\n",
    " \n",
    "\tpublic void brewCoffeeGrinds() {\n",
    "\t\tSystem.out.println(\"Dripping Coffee through filter\");\n",
    "\t}\n",
    " \n",
    "\tpublic void pourInCup() {\n",
    "\t\tSystem.out.println(\"Pouring into cup\");\n",
    "\t}\n",
    " \n",
    "\tpublic void addSugarAndMilk() {\n",
    "\t\tSystem.out.println(\"Adding Sugar and Milk\");\n",
    "\t}\n",
    "}\n"
   ]
  },
  {
   "cell_type": "code",
   "execution_count": null,
   "metadata": {
    "collapsed": true
   },
   "outputs": [],
   "source": [
    "# %load ./src/headfirst/templatemethod/simplebarista/Tea.java\n",
    "package headfirst.templatemethod.simplebarista;\n",
    "\n",
    "public class Tea {\n",
    " \n",
    "\tvoid prepareRecipe() {\n",
    "\t\tboilWater();\n",
    "\t\tsteepTeaBag();\n",
    "\t\tpourInCup();\n",
    "\t\taddLemon();\n",
    "\t}\n",
    " \n",
    "\tpublic void boilWater() {\n",
    "\t\tSystem.out.println(\"Boiling water\");\n",
    "\t}\n",
    " \n",
    "\tpublic void steepTeaBag() {\n",
    "\t\tSystem.out.println(\"Steeping the tea\");\n",
    "\t}\n",
    " \n",
    "\tpublic void addLemon() {\n",
    "\t\tSystem.out.println(\"Adding Lemon\");\n",
    "\t}\n",
    " \n",
    "\tpublic void pourInCup() {\n",
    "\t\tSystem.out.println(\"Pouring into cup\");\n",
    "\t}\n",
    "}\n"
   ]
  },
  {
   "cell_type": "code",
   "execution_count": null,
   "metadata": {
    "collapsed": true
   },
   "outputs": [],
   "source": [
    "# %load ./src/headfirst/templatemethod/simplebarista/Barista.java\n",
    "package headfirst.templatemethod.simplebarista;\n",
    "\n",
    "public class Barista {\n",
    " \n",
    "\tpublic static void main(String[] args) {\n",
    "\t\tTea tea = new Tea();\n",
    "\t\tCoffee coffee = new Coffee();\n",
    "\t\tSystem.out.println(\"Making tea...\");\n",
    "\t\ttea.prepareRecipe();\n",
    "\t\tSystem.out.println(\"Making coffee...\");\n",
    "\t\tcoffee.prepareRecipe();\n",
    "\t}\n",
    "}\n"
   ]
  },
  {
   "cell_type": "code",
   "execution_count": 6,
   "metadata": {
    "collapsed": false
   },
   "outputs": [
    {
     "name": "stdout",
     "output_type": "stream",
     "text": [
      "Making tea...\n",
      "Boiling water\n",
      "Steeping the tea\n",
      "Pouring into cup\n",
      "Adding Lemon\n",
      "Making coffee...\n",
      "Boiling water\n",
      "Dripping Coffee through filter\n",
      "Pouring into cup\n",
      "Adding Sugar and Milk\n"
     ]
    }
   ],
   "source": [
    "!javac -d classes/ -sourcepath src/ src/headfirst/templatemethod/simplebarista/*.java\n",
    "!java -cp classes/ headfirst.templatemethod.simplebarista.Barista"
   ]
  },
  {
   "cell_type": "markdown",
   "metadata": {
    "slideshow": {
     "slide_type": "slide"
    }
   },
   "source": [
    "# 4. 설계\n",
    "\n",
    "* 상속으로 공통부분은 고정화 (final), 나머지 변동 부는 하위에서 구현 (abstract method) \n",
    "* Hollywood Principle\n",
    "    * Don't call us, we'll call you\n",
    "    * 인터페이스가 절차를 구현해 놓고, 하위클래스가 이를 따라함\n",
    "    * inversion of control\n",
    "\n",
    "* 비교\n",
    "    * Factory method - 상속으로 factory method 구현\n",
    "    * Strategy pattern - 경우에 따라 호출하는 함수는 동일하지만, 하는 방식은 다름.\n",
    "\n",
    "* 역할\n",
    "    * 추상클래스 - 알고리즘의 고정부\n",
    "        * final\n",
    "        * abstract\n",
    "        * hook()함수 - 하위클래스에서 구현해도 되고, 안해도 되는 함수.\n",
    "    * 구체클래스 - 알고리즘의 변동부\n",
    "    * templateMethod\n",
    "        * declared in the abstract class, but only given an empty or default implementation (p.292)\n"
   ]
  },
  {
   "cell_type": "code",
   "execution_count": 7,
   "metadata": {
    "collapsed": false,
    "slideshow": {
     "slide_type": "slide"
    }
   },
   "outputs": [
    {
     "data": {
      "image/svg+xml": [
       "<svg height=\"238px\" style=\"width:230px;height:238px;\" version=\"1.1\" viewBox=\"0 0 230 238\" width=\"230px\" xmlns=\"http://www.w3.org/2000/svg\" xmlns:xlink=\"http://www.w3.org/1999/xlink\"><defs><filter height=\"300%\" id=\"f1\" width=\"300%\" x=\"-1\" y=\"-1\"><feGaussianBlur result=\"blurOut\" stdDeviation=\"2.0\"/><feColorMatrix in=\"blurOut\" result=\"blurOut2\" type=\"matrix\" values=\"0 0 0 0 0 0 0 0 0 0 0 0 0 0 0 0 0 0 .4 0\"/><feOffset dx=\"4.0\" dy=\"4.0\" in=\"blurOut2\" result=\"blurOut3\"/><feBlend in=\"SourceGraphic\" in2=\"blurOut3\" mode=\"normal\"/></filter></defs><g><rect fill=\"#FEFECE\" filter=\"url(#f1)\" height=\"112.7754\" style=\"stroke: #A80036; stroke-width: 1.5;\" width=\"215\" x=\"6\" y=\"8\"/><ellipse cx=\"70.25\" cy=\"24\" fill=\"#A9DCDF\" rx=\"11\" ry=\"11\" style=\"stroke: #A80036; stroke-width: 1.0;\"/><path d=\"M70.3633,19.3481 L69.2095,24.4199 L71.5254,24.4199 Z M68.8691,17.1069 L71.8657,17.1069 L75.2109,29.5 L72.7622,29.5 L71.9985,26.437 L68.7197,26.437 L67.9727,29.5 L65.5239,29.5 Z \"/><text fill=\"#000000\" font-family=\"sans-serif\" font-size=\"12\" font-style=\"italic\" lengthAdjust=\"spacingAndGlyphs\" textLength=\"78\" x=\"90.75\" y=\"28.5352\">AbstractClass</text><line style=\"stroke: #A80036; stroke-width: 1.5;\" x1=\"7\" x2=\"220\" y1=\"40\" y2=\"40\"/><line style=\"stroke: #A80036; stroke-width: 1.5;\" x1=\"7\" x2=\"220\" y1=\"48\" y2=\"48\"/><ellipse cx=\"17\" cy=\"59.9775\" fill=\"#84BE84\" rx=\"3\" ry=\"3\" style=\"stroke: #038048; stroke-width: 1.0;\"/><text fill=\"#000000\" font-family=\"sans-serif\" font-size=\"11\" lengthAdjust=\"spacingAndGlyphs\" textLength=\"146\" x=\"26\" y=\"62.6348\">final templateMethod():void</text><ellipse cx=\"17\" cy=\"72.9326\" fill=\"#84BE84\" rx=\"3\" ry=\"3\" style=\"stroke: #038048; stroke-width: 1.0;\"/><text fill=\"#000000\" font-family=\"sans-serif\" font-size=\"11\" lengthAdjust=\"spacingAndGlyphs\" textLength=\"189\" x=\"26\" y=\"75.5898\">abstract primitiveOperation1():void</text><ellipse cx=\"17\" cy=\"85.8877\" fill=\"#84BE84\" rx=\"3\" ry=\"3\" style=\"stroke: #038048; stroke-width: 1.0;\"/><text fill=\"#000000\" font-family=\"sans-serif\" font-size=\"11\" lengthAdjust=\"spacingAndGlyphs\" textLength=\"189\" x=\"26\" y=\"88.5449\">abstract primitiveOperation2():void</text><ellipse cx=\"17\" cy=\"98.8428\" fill=\"#84BE84\" rx=\"3\" ry=\"3\" style=\"stroke: #038048; stroke-width: 1.0;\"/><text fill=\"#000000\" font-family=\"sans-serif\" font-size=\"11\" lengthAdjust=\"spacingAndGlyphs\" textLength=\"165\" x=\"26\" y=\"101.5\">final concreteOperation()):void</text><ellipse cx=\"17\" cy=\"111.7979\" fill=\"#84BE84\" rx=\"3\" ry=\"3\" style=\"stroke: #038048; stroke-width: 1.0;\"/><text fill=\"#000000\" font-family=\"sans-serif\" font-size=\"11\" lengthAdjust=\"spacingAndGlyphs\" textLength=\"61\" x=\"26\" y=\"114.4551\">hook():void</text><rect fill=\"#FEFECE\" filter=\"url(#f1)\" height=\"48\" style=\"stroke: #A80036; stroke-width: 1.5;\" width=\"113\" x=\"57\" y=\"181\"/><ellipse cx=\"72\" cy=\"197\" fill=\"#ADD1B2\" rx=\"11\" ry=\"11\" style=\"stroke: #A80036; stroke-width: 1.0;\"/><path d=\"M74.9731,202.6431 Q74.3921,202.9419 73.7529,203.0913 Q73.1138,203.2407 72.4082,203.2407 Q69.9014,203.2407 68.5815,201.5889 Q67.2617,199.937 67.2617,196.8159 Q67.2617,193.6865 68.5815,192.0347 Q69.9014,190.3828 72.4082,190.3828 Q73.1138,190.3828 73.7612,190.5322 Q74.4087,190.6816 74.9731,190.9805 L74.9731,193.7031 Q74.3423,193.1221 73.7488,192.8523 Q73.1553,192.5825 72.5244,192.5825 Q71.1797,192.5825 70.4949,193.6492 Q69.8101,194.7158 69.8101,196.8159 Q69.8101,198.9077 70.4949,199.9744 Q71.1797,201.041 72.5244,201.041 Q73.1553,201.041 73.7488,200.7712 Q74.3423,200.5015 74.9731,199.9204 Z \"/><text fill=\"#000000\" font-family=\"sans-serif\" font-size=\"12\" lengthAdjust=\"spacingAndGlyphs\" textLength=\"81\" x=\"86\" y=\"201.5352\">ConcreteClass</text><line style=\"stroke: #A80036; stroke-width: 1.5;\" x1=\"58\" x2=\"169\" y1=\"213\" y2=\"213\"/><line style=\"stroke: #A80036; stroke-width: 1.5;\" x1=\"58\" x2=\"169\" y1=\"221\" y2=\"221\"/><path d=\"M113.5,141.4102 C113.5,155.826 113.5,169.8532 113.5,180.9619 \" fill=\"none\" style=\"stroke: #A80036; stroke-width: 1.0;\"/><polygon fill=\"none\" points=\"106.5,141.0353,113.5,121.035,120.5,141.0352,106.5,141.0353\" style=\"stroke: #A80036; stroke-width: 1.0;\"/></g></svg>"
      ],
      "text/plain": [
       "<IPython.core.display.SVG object>"
      ]
     },
     "execution_count": 7,
     "metadata": {},
     "output_type": "execute_result"
    }
   ],
   "source": [
    "%%plantuml\n",
    "@startuml\n",
    "abstract class AbstractClass {\n",
    "    +final templateMethod():void\n",
    "    +abstract primitiveOperation1():void\n",
    "    +abstract primitiveOperation2():void\n",
    "    +final concreteOperation()):void\n",
    "    +hook():void\n",
    "}\n",
    "\n",
    "class ConcreteClass {\n",
    "}\n",
    "AbstractClass <|-- ConcreteClass\n",
    "@enduml"
   ]
  },
  {
   "cell_type": "markdown",
   "metadata": {
    "slideshow": {
     "slide_type": "slide"
    }
   },
   "source": [
    "# 5. after\n",
    "\n",
    "* 교재 HFDP Ch8 'Barista'"
   ]
  },
  {
   "cell_type": "code",
   "execution_count": 11,
   "metadata": {
    "collapsed": false,
    "slideshow": {
     "slide_type": "slide"
    }
   },
   "outputs": [
    {
     "data": {
      "image/svg+xml": [
       "<svg height=\"315px\" style=\"width:829px;height:315px;\" version=\"1.1\" viewBox=\"0 0 829 315\" width=\"829px\" xmlns=\"http://www.w3.org/2000/svg\" xmlns:xlink=\"http://www.w3.org/1999/xlink\"><defs><filter height=\"300%\" id=\"f1\" width=\"300%\" x=\"-1\" y=\"-1\"><feGaussianBlur result=\"blurOut\" stdDeviation=\"2.0\"/><feColorMatrix in=\"blurOut\" result=\"blurOut2\" type=\"matrix\" values=\"0 0 0 0 0 0 0 0 0 0 0 0 0 0 0 0 0 0 .4 0\"/><feOffset dx=\"4.0\" dy=\"4.0\" in=\"blurOut2\" result=\"blurOut3\"/><feBlend in=\"SourceGraphic\" in2=\"blurOut3\" mode=\"normal\"/></filter></defs><g><rect fill=\"#FEFECE\" filter=\"url(#f1)\" height=\"112.7754\" style=\"stroke: #A80036; stroke-width: 1.5;\" width=\"192\" x=\"93.5\" y=\"14.5\"/><ellipse cx=\"135.5\" cy=\"30.5\" fill=\"#ADD1B2\" rx=\"11\" ry=\"11\" style=\"stroke: #A80036; stroke-width: 1.0;\"/><path d=\"M138.4731,36.1431 Q137.8921,36.4419 137.2529,36.5913 Q136.6138,36.7407 135.9082,36.7407 Q133.4014,36.7407 132.0815,35.0889 Q130.7617,33.437 130.7617,30.3159 Q130.7617,27.1865 132.0815,25.5347 Q133.4014,23.8828 135.9082,23.8828 Q136.6138,23.8828 137.2612,24.0322 Q137.9087,24.1816 138.4731,24.4805 L138.4731,27.2031 Q137.8423,26.6221 137.2488,26.3523 Q136.6553,26.0825 136.0244,26.0825 Q134.6797,26.0825 133.9949,27.1492 Q133.3101,28.2158 133.3101,30.3159 Q133.3101,32.4077 133.9949,33.4744 Q134.6797,34.541 136.0244,34.541 Q136.6553,34.541 137.2488,34.2712 Q137.8423,34.0015 138.4731,33.4204 Z \"/><text fill=\"#000000\" font-family=\"sans-serif\" font-size=\"12\" lengthAdjust=\"spacingAndGlyphs\" textLength=\"100\" x=\"155.5\" y=\"35.0352\">CaffeineBeverage</text><line style=\"stroke: #A80036; stroke-width: 1.5;\" x1=\"94.5\" x2=\"284.5\" y1=\"46.5\" y2=\"46.5\"/><line style=\"stroke: #A80036; stroke-width: 1.5;\" x1=\"94.5\" x2=\"284.5\" y1=\"54.5\" y2=\"54.5\"/><ellipse cx=\"104.5\" cy=\"66.4775\" fill=\"#84BE84\" rx=\"3\" ry=\"3\" style=\"stroke: #038048; stroke-width: 1.0;\"/><text fill=\"#000000\" font-family=\"sans-serif\" font-size=\"11\" lengthAdjust=\"spacingAndGlyphs\" textLength=\"137\" x=\"113.5\" y=\"69.1348\">final perpareRecipe():void</text><ellipse cx=\"104.5\" cy=\"79.4326\" fill=\"#84BE84\" rx=\"3\" ry=\"3\" style=\"stroke: #038048; stroke-width: 1.0;\"/><text fill=\"#000000\" font-family=\"sans-serif\" font-size=\"11\" lengthAdjust=\"spacingAndGlyphs\" textLength=\"107\" x=\"113.5\" y=\"82.0898\">abstract brew():void</text><ellipse cx=\"104.5\" cy=\"92.3877\" fill=\"#84BE84\" rx=\"3\" ry=\"3\" style=\"stroke: #038048; stroke-width: 1.0;\"/><text fill=\"#000000\" font-family=\"sans-serif\" font-size=\"11\" lengthAdjust=\"spacingAndGlyphs\" textLength=\"166\" x=\"113.5\" y=\"95.0449\">abstract addCondiments():void</text><ellipse cx=\"104.5\" cy=\"105.3428\" fill=\"#84BE84\" rx=\"3\" ry=\"3\" style=\"stroke: #038048; stroke-width: 1.0;\"/><text fill=\"#000000\" font-family=\"sans-serif\" font-size=\"11\" lengthAdjust=\"spacingAndGlyphs\" textLength=\"84\" x=\"113.5\" y=\"108\">boilWater():void</text><ellipse cx=\"104.5\" cy=\"118.2979\" fill=\"#84BE84\" rx=\"3\" ry=\"3\" style=\"stroke: #038048; stroke-width: 1.0;\"/><text fill=\"#000000\" font-family=\"sans-serif\" font-size=\"11\" lengthAdjust=\"spacingAndGlyphs\" textLength=\"92\" x=\"113.5\" y=\"120.9551\">pourInCup():void</text><rect fill=\"#FEFECE\" filter=\"url(#f1)\" height=\"73.9102\" style=\"stroke: #A80036; stroke-width: 1.5;\" width=\"145\" x=\"6\" y=\"213.5\"/><ellipse cx=\"55.75\" cy=\"229.5\" fill=\"#ADD1B2\" rx=\"11\" ry=\"11\" style=\"stroke: #A80036; stroke-width: 1.0;\"/><path d=\"M58.7231,235.1431 Q58.1421,235.4419 57.5029,235.5913 Q56.8638,235.7407 56.1582,235.7407 Q53.6514,235.7407 52.3315,234.0889 Q51.0117,232.437 51.0117,229.3159 Q51.0117,226.1865 52.3315,224.5347 Q53.6514,222.8828 56.1582,222.8828 Q56.8638,222.8828 57.5112,223.0322 Q58.1587,223.1816 58.7231,223.4805 L58.7231,226.2031 Q58.0923,225.6221 57.4988,225.3523 Q56.9053,225.0825 56.2744,225.0825 Q54.9297,225.0825 54.2449,226.1492 Q53.5601,227.2158 53.5601,229.3159 Q53.5601,231.4077 54.2449,232.4744 Q54.9297,233.541 56.2744,233.541 Q56.9053,233.541 57.4988,233.2712 Q58.0923,233.0015 58.7231,232.4204 Z \"/><text fill=\"#000000\" font-family=\"sans-serif\" font-size=\"12\" lengthAdjust=\"spacingAndGlyphs\" textLength=\"37\" x=\"76.25\" y=\"234.0352\">Coffee</text><line style=\"stroke: #A80036; stroke-width: 1.5;\" x1=\"7\" x2=\"150\" y1=\"245.5\" y2=\"245.5\"/><line style=\"stroke: #A80036; stroke-width: 1.5;\" x1=\"7\" x2=\"150\" y1=\"253.5\" y2=\"253.5\"/><ellipse cx=\"17\" cy=\"265.4775\" fill=\"#84BE84\" rx=\"3\" ry=\"3\" style=\"stroke: #038048; stroke-width: 1.0;\"/><text fill=\"#000000\" font-family=\"sans-serif\" font-size=\"11\" lengthAdjust=\"spacingAndGlyphs\" textLength=\"34\" x=\"26\" y=\"268.1348\">brew()</text><ellipse cx=\"17\" cy=\"278.4326\" fill=\"#84BE84\" rx=\"3\" ry=\"3\" style=\"stroke: #038048; stroke-width: 1.0;\"/><text fill=\"#000000\" font-family=\"sans-serif\" font-size=\"11\" lengthAdjust=\"spacingAndGlyphs\" textLength=\"119\" x=\"26\" y=\"281.0898\">addCondiments():void</text><rect fill=\"#FEFECE\" filter=\"url(#f1)\" height=\"112.7754\" style=\"stroke: #A80036; stroke-width: 1.5;\" width=\"228\" x=\"186.5\" y=\"194\"/><ellipse cx=\"285.25\" cy=\"210\" fill=\"#ADD1B2\" rx=\"11\" ry=\"11\" style=\"stroke: #A80036; stroke-width: 1.0;\"/><path d=\"M288.2231,215.6431 Q287.6421,215.9419 287.0029,216.0913 Q286.3638,216.2407 285.6582,216.2407 Q283.1514,216.2407 281.8315,214.5889 Q280.5117,212.937 280.5117,209.8159 Q280.5117,206.6865 281.8315,205.0347 Q283.1514,203.3828 285.6582,203.3828 Q286.3638,203.3828 287.0112,203.5322 Q287.6587,203.6816 288.2231,203.9805 L288.2231,206.7031 Q287.5923,206.1221 286.9988,205.8523 Q286.4053,205.5825 285.7744,205.5825 Q284.4297,205.5825 283.7449,206.6492 Q283.0601,207.7158 283.0601,209.8159 Q283.0601,211.9077 283.7449,212.9744 Q284.4297,214.041 285.7744,214.041 Q286.4053,214.041 286.9988,213.7712 Q287.5923,213.5015 288.2231,212.9204 Z \"/><text fill=\"#000000\" font-family=\"sans-serif\" font-size=\"12\" lengthAdjust=\"spacingAndGlyphs\" textLength=\"22\" x=\"305.75\" y=\"214.5352\">Tea</text><line style=\"stroke: #A80036; stroke-width: 1.5;\" x1=\"187.5\" x2=\"413.5\" y1=\"226\" y2=\"226\"/><line style=\"stroke: #A80036; stroke-width: 1.5;\" x1=\"187.5\" x2=\"413.5\" y1=\"234\" y2=\"234\"/><ellipse cx=\"197.5\" cy=\"245.9775\" fill=\"#84BE84\" rx=\"3\" ry=\"3\" style=\"stroke: #038048; stroke-width: 1.0;\"/><text fill=\"#000000\" font-family=\"sans-serif\" font-size=\"11\" lengthAdjust=\"spacingAndGlyphs\" textLength=\"34\" x=\"206.5\" y=\"248.6348\">brew()</text><ellipse cx=\"197.5\" cy=\"258.9326\" fill=\"#84BE84\" rx=\"3\" ry=\"3\" style=\"stroke: #038048; stroke-width: 1.0;\"/><text fill=\"#000000\" font-family=\"sans-serif\" font-size=\"11\" lengthAdjust=\"spacingAndGlyphs\" textLength=\"34\" x=\"206.5\" y=\"261.5898\">brew()</text><ellipse cx=\"197.5\" cy=\"271.8877\" fill=\"#84BE84\" rx=\"3\" ry=\"3\" style=\"stroke: #038048; stroke-width: 1.0;\"/><text fill=\"#000000\" font-family=\"sans-serif\" font-size=\"11\" lengthAdjust=\"spacingAndGlyphs\" textLength=\"119\" x=\"206.5\" y=\"274.5449\">addCondiments():void</text><ellipse cx=\"197.5\" cy=\"284.8428\" fill=\"#84BE84\" rx=\"3\" ry=\"3\" style=\"stroke: #038048; stroke-width: 1.0;\"/><text fill=\"#000000\" font-family=\"sans-serif\" font-size=\"11\" lengthAdjust=\"spacingAndGlyphs\" textLength=\"202\" x=\"206.5\" y=\"287.5\">customerWantsCondiments():boolean</text><rect fill=\"#F24D5C\" height=\"6\" style=\"stroke: #C82930; stroke-width: 1.0;\" width=\"6\" x=\"194.5\" y=\"294.7979\"/><text fill=\"#000000\" font-family=\"sans-serif\" font-size=\"11\" lengthAdjust=\"spacingAndGlyphs\" textLength=\"113\" x=\"206.5\" y=\"300.4551\">getUserInput():String</text><rect fill=\"#FEFECE\" filter=\"url(#f1)\" height=\"125.7305\" style=\"stroke: #A80036; stroke-width: 1.5;\" width=\"228\" x=\"550.5\" y=\"8\"/><ellipse cx=\"584.4\" cy=\"24\" fill=\"#ADD1B2\" rx=\"11\" ry=\"11\" style=\"stroke: #A80036; stroke-width: 1.0;\"/><path d=\"M587.3731,29.6431 Q586.7921,29.9419 586.1529,30.0913 Q585.5138,30.2407 584.8082,30.2407 Q582.3014,30.2407 580.9815,28.5889 Q579.6617,26.937 579.6617,23.8159 Q579.6617,20.6865 580.9815,19.0347 Q582.3014,17.3828 584.8082,17.3828 Q585.5138,17.3828 586.1612,17.5322 Q586.8087,17.6816 587.3731,17.9805 L587.3731,20.7031 Q586.7423,20.1221 586.1488,19.8523 Q585.5553,19.5825 584.9244,19.5825 Q583.5797,19.5825 582.8949,20.6492 Q582.2101,21.7158 582.2101,23.8159 Q582.2101,25.9077 582.8949,26.9744 Q583.5797,28.041 584.9244,28.041 Q585.5553,28.041 586.1488,27.7712 Q586.7423,27.5015 587.3731,26.9204 Z \"/><text fill=\"#000000\" font-family=\"sans-serif\" font-size=\"12\" lengthAdjust=\"spacingAndGlyphs\" textLength=\"154\" x=\"602.6\" y=\"28.5352\">CaffeineBeverageWithHook</text><line style=\"stroke: #A80036; stroke-width: 1.5;\" x1=\"551.5\" x2=\"777.5\" y1=\"40\" y2=\"40\"/><line style=\"stroke: #A80036; stroke-width: 1.5;\" x1=\"551.5\" x2=\"777.5\" y1=\"48\" y2=\"48\"/><ellipse cx=\"561.5\" cy=\"59.9775\" fill=\"#84BE84\" rx=\"3\" ry=\"3\" style=\"stroke: #038048; stroke-width: 1.0;\"/><text fill=\"#000000\" font-family=\"sans-serif\" font-size=\"11\" lengthAdjust=\"spacingAndGlyphs\" textLength=\"111\" x=\"570.5\" y=\"62.6348\">perpareRecipe():void</text><ellipse cx=\"561.5\" cy=\"72.9326\" fill=\"#84BE84\" rx=\"3\" ry=\"3\" style=\"stroke: #038048; stroke-width: 1.0;\"/><text fill=\"#000000\" font-family=\"sans-serif\" font-size=\"11\" lengthAdjust=\"spacingAndGlyphs\" textLength=\"107\" x=\"570.5\" y=\"75.5898\">abstract brew():void</text><ellipse cx=\"561.5\" cy=\"85.8877\" fill=\"#84BE84\" rx=\"3\" ry=\"3\" style=\"stroke: #038048; stroke-width: 1.0;\"/><text fill=\"#000000\" font-family=\"sans-serif\" font-size=\"11\" lengthAdjust=\"spacingAndGlyphs\" textLength=\"166\" x=\"570.5\" y=\"88.5449\">abstract addCondiments():void</text><ellipse cx=\"561.5\" cy=\"98.8428\" fill=\"#84BE84\" rx=\"3\" ry=\"3\" style=\"stroke: #038048; stroke-width: 1.0;\"/><text fill=\"#000000\" font-family=\"sans-serif\" font-size=\"11\" lengthAdjust=\"spacingAndGlyphs\" textLength=\"84\" x=\"570.5\" y=\"101.5\">boilWater():void</text><ellipse cx=\"561.5\" cy=\"111.7979\" fill=\"#84BE84\" rx=\"3\" ry=\"3\" style=\"stroke: #038048; stroke-width: 1.0;\"/><text fill=\"#000000\" font-family=\"sans-serif\" font-size=\"11\" lengthAdjust=\"spacingAndGlyphs\" textLength=\"92\" x=\"570.5\" y=\"114.4551\">pourInCup():void</text><ellipse cx=\"561.5\" cy=\"124.7529\" fill=\"#84BE84\" rx=\"3\" ry=\"3\" style=\"stroke: #038048; stroke-width: 1.0;\"/><text fill=\"#000000\" font-family=\"sans-serif\" font-size=\"11\" lengthAdjust=\"spacingAndGlyphs\" textLength=\"202\" x=\"570.5\" y=\"127.4102\">customerWantsCondiments():boolean</text><rect fill=\"#FEFECE\" filter=\"url(#f1)\" height=\"99.8203\" style=\"stroke: #A80036; stroke-width: 1.5;\" width=\"228\" x=\"449.5\" y=\"200.5\"/><ellipse cx=\"513.75\" cy=\"216.5\" fill=\"#ADD1B2\" rx=\"11\" ry=\"11\" style=\"stroke: #A80036; stroke-width: 1.0;\"/><path d=\"M516.7231,222.1431 Q516.1421,222.4419 515.5029,222.5913 Q514.8638,222.7407 514.1582,222.7407 Q511.6514,222.7407 510.3315,221.0889 Q509.0117,219.437 509.0117,216.3159 Q509.0117,213.1865 510.3315,211.5347 Q511.6514,209.8828 514.1582,209.8828 Q514.8638,209.8828 515.5112,210.0322 Q516.1587,210.1816 516.7231,210.4805 L516.7231,213.2031 Q516.0923,212.6221 515.4988,212.3523 Q514.9053,212.0825 514.2744,212.0825 Q512.9297,212.0825 512.2449,213.1492 Q511.5601,214.2158 511.5601,216.3159 Q511.5601,218.4077 512.2449,219.4744 Q512.9297,220.541 514.2744,220.541 Q514.9053,220.541 515.4988,220.2712 Q516.0923,220.0015 516.7231,219.4204 Z \"/><text fill=\"#000000\" font-family=\"sans-serif\" font-size=\"12\" lengthAdjust=\"spacingAndGlyphs\" textLength=\"91\" x=\"534.25\" y=\"221.0352\">CoffeeWithHook</text><line style=\"stroke: #A80036; stroke-width: 1.5;\" x1=\"450.5\" x2=\"676.5\" y1=\"232.5\" y2=\"232.5\"/><line style=\"stroke: #A80036; stroke-width: 1.5;\" x1=\"450.5\" x2=\"676.5\" y1=\"240.5\" y2=\"240.5\"/><ellipse cx=\"460.5\" cy=\"252.4775\" fill=\"#84BE84\" rx=\"3\" ry=\"3\" style=\"stroke: #038048; stroke-width: 1.0;\"/><text fill=\"#000000\" font-family=\"sans-serif\" font-size=\"11\" lengthAdjust=\"spacingAndGlyphs\" textLength=\"81\" x=\"469.5\" y=\"255.1348\">abstract brew()</text><ellipse cx=\"460.5\" cy=\"265.4326\" fill=\"#84BE84\" rx=\"3\" ry=\"3\" style=\"stroke: #038048; stroke-width: 1.0;\"/><text fill=\"#000000\" font-family=\"sans-serif\" font-size=\"11\" lengthAdjust=\"spacingAndGlyphs\" textLength=\"119\" x=\"469.5\" y=\"268.0898\">addCondiments():void</text><ellipse cx=\"460.5\" cy=\"278.3877\" fill=\"#84BE84\" rx=\"3\" ry=\"3\" style=\"stroke: #038048; stroke-width: 1.0;\"/><text fill=\"#000000\" font-family=\"sans-serif\" font-size=\"11\" lengthAdjust=\"spacingAndGlyphs\" textLength=\"202\" x=\"469.5\" y=\"281.0449\">customerWantsCondiments():boolean</text><rect fill=\"#F24D5C\" height=\"6\" style=\"stroke: #C82930; stroke-width: 1.0;\" width=\"6\" x=\"457.5\" y=\"288.3428\"/><text fill=\"#000000\" font-family=\"sans-serif\" font-size=\"11\" lengthAdjust=\"spacingAndGlyphs\" textLength=\"113\" x=\"469.5\" y=\"294\">getUserInput():String</text><rect fill=\"#FEFECE\" filter=\"url(#f1)\" height=\"48\" style=\"stroke: #A80036; stroke-width: 1.5;\" width=\"108\" x=\"712.5\" y=\"226.5\"/><ellipse cx=\"727.5\" cy=\"242.5\" fill=\"#ADD1B2\" rx=\"11\" ry=\"11\" style=\"stroke: #A80036; stroke-width: 1.0;\"/><path d=\"M730.4731,248.1431 Q729.8921,248.4419 729.2529,248.5913 Q728.6138,248.7407 727.9082,248.7407 Q725.4014,248.7407 724.0815,247.0889 Q722.7617,245.437 722.7617,242.3159 Q722.7617,239.1865 724.0815,237.5347 Q725.4014,235.8828 727.9082,235.8828 Q728.6138,235.8828 729.2612,236.0322 Q729.9087,236.1816 730.4731,236.4805 L730.4731,239.2031 Q729.8423,238.6221 729.2488,238.3523 Q728.6553,238.0825 728.0244,238.0825 Q726.6797,238.0825 725.9949,239.1492 Q725.3101,240.2158 725.3101,242.3159 Q725.3101,244.4077 725.9949,245.4744 Q726.6797,246.541 728.0244,246.541 Q728.6553,246.541 729.2488,246.2712 Q729.8423,246.0015 730.4731,245.4204 Z \"/><text fill=\"#000000\" font-family=\"sans-serif\" font-size=\"12\" lengthAdjust=\"spacingAndGlyphs\" textLength=\"76\" x=\"741.5\" y=\"247.0352\">TeaWithHook</text><line style=\"stroke: #A80036; stroke-width: 1.5;\" x1=\"713.5\" x2=\"819.5\" y1=\"258.5\" y2=\"258.5\"/><line style=\"stroke: #A80036; stroke-width: 1.5;\" x1=\"713.5\" x2=\"819.5\" y1=\"266.5\" y2=\"266.5\"/><path d=\"M143.92,144.886 C129.169,168.475 113.451,193.61 101.1198,213.3286 \" fill=\"none\" style=\"stroke: #A80036; stroke-width: 1.0;\"/><polygon fill=\"none\" points=\"138.144,140.921,154.683,127.675,150.014,148.344,138.144,140.921\" style=\"stroke: #A80036; stroke-width: 1.0;\"/><path d=\"M234.957,144.691 C245.191,161.055 255.895,178.173 265.616,193.718 \" fill=\"none\" style=\"stroke: #A80036; stroke-width: 1.0;\"/><polygon fill=\"none\" points=\"228.986,148.344,224.317,127.675,240.856,140.921,228.986,148.344\" style=\"stroke: #A80036; stroke-width: 1.0;\"/><path d=\"M619.269,151.49 C609.809,168.115 600.101,185.177 591.49,200.31 \" fill=\"none\" style=\"stroke: #A80036; stroke-width: 1.0;\"/><polygon fill=\"none\" points=\"613.2,148.002,629.175,134.081,625.368,154.926,613.2,148.002\" style=\"stroke: #A80036; stroke-width: 1.0;\"/><path d=\"M710.305,151.71 C725.962,178.956 742.278,207.3496 753.27,226.4769 \" fill=\"none\" style=\"stroke: #A80036; stroke-width: 1.0;\"/><polygon fill=\"none\" points=\"704.07,154.909,700.175,134.081,716.209,147.934,704.07,154.909\" style=\"stroke: #A80036; stroke-width: 1.0;\"/></g></svg>"
      ],
      "text/plain": [
       "<IPython.core.display.SVG object>"
      ]
     },
     "execution_count": 11,
     "metadata": {},
     "output_type": "execute_result"
    }
   ],
   "source": [
    "%%plantuml\n",
    "@startuml\n",
    "class CaffeineBeverage {\n",
    "    +final perpareRecipe():void\n",
    "    +abstract brew():void\n",
    "    +abstract addCondiments():void\n",
    "    +boilWater():void\n",
    "    +pourInCup():void\n",
    "}\n",
    "class Coffee {\n",
    "    +brew()\n",
    "    +addCondiments():void\n",
    "}\n",
    "class Tea {\n",
    "    +brew()\n",
    "}\n",
    "class CaffeineBeverageWithHook {\n",
    "    +perpareRecipe():void\n",
    "    +abstract brew():void\n",
    "    +abstract addCondiments():void\n",
    "    +boilWater():void\n",
    "    +pourInCup():void\n",
    "    +customerWantsCondiments():boolean\n",
    "}\n",
    "class CoffeeWithHook {\n",
    "    +abstract brew()\n",
    "    +addCondiments():void\n",
    "    +customerWantsCondiments():boolean\n",
    "    -getUserInput():String\n",
    "}\n",
    "class TeaWithHook {\n",
    "    +brew()\n",
    "    +addCondiments():void\n",
    "    +customerWantsCondiments():boolean\n",
    "    -getUserInput():String\n",
    "}"
   ]
  },
  {
   "cell_type": "markdown",
   "metadata": {
    "slideshow": {
     "slide_type": "slide"
    }
   },
   "source": [
    "# 6. Case Implementation\n",
    "\n",
    "\n",
    "* barista\n",
    "* sorting\n",
    "* frame\n",
    "* applet\n"
   ]
  },
  {
   "cell_type": "markdown",
   "metadata": {
    "slideshow": {
     "slide_type": "slide"
    }
   },
   "source": [
    "## 6.1. barista\n",
    "\n",
    "* template method - prepareRecipe()\n",
    "* hook method - customerWantsCondiments()"
   ]
  },
  {
   "cell_type": "code",
   "execution_count": 7,
   "metadata": {
    "collapsed": false,
    "slideshow": {
     "slide_type": "slide"
    }
   },
   "outputs": [
    {
     "data": {
      "image/svg+xml": [
       "<svg height=\"214px\" style=\"width:256px;height:214px;\" version=\"1.1\" viewBox=\"0 0 256 214\" width=\"256px\" xmlns=\"http://www.w3.org/2000/svg\" xmlns:xlink=\"http://www.w3.org/1999/xlink\"><defs><filter height=\"300%\" id=\"f1\" width=\"300%\" x=\"-1\" y=\"-1\"><feGaussianBlur result=\"blurOut\" stdDeviation=\"2.0\"/><feColorMatrix in=\"blurOut\" result=\"blurOut2\" type=\"matrix\" values=\"0 0 0 0 0 0 0 0 0 0 0 0 0 0 0 0 0 0 .4 0\"/><feOffset dx=\"4.0\" dy=\"4.0\" in=\"blurOut2\" result=\"blurOut3\"/><feBlend in=\"SourceGraphic\" in2=\"blurOut3\" mode=\"normal\"/></filter></defs><g><line style=\"stroke: #A80036; stroke-width: 1.0; stroke-dasharray: 5.0,5.0;\" x1=\"37\" x2=\"37\" y1=\"38.4883\" y2=\"175.7305\"/><line style=\"stroke: #A80036; stroke-width: 1.0; stroke-dasharray: 5.0,5.0;\" x1=\"156.5\" x2=\"156.5\" y1=\"38.4883\" y2=\"175.7305\"/><line style=\"stroke: #A80036; stroke-width: 1.0; stroke-dasharray: 5.0,5.0;\" x1=\"219.5\" x2=\"219.5\" y1=\"38.4883\" y2=\"175.7305\"/><rect fill=\"#FEFECE\" filter=\"url(#f1)\" height=\"30.4883\" style=\"stroke: #A80036; stroke-width: 1.5;\" width=\"54\" x=\"8\" y=\"3\"/><text fill=\"#000000\" font-family=\"sans-serif\" font-size=\"14\" lengthAdjust=\"spacingAndGlyphs\" textLength=\"40\" x=\"15\" y=\"23.5352\">Client</text><rect fill=\"#FEFECE\" filter=\"url(#f1)\" height=\"30.4883\" style=\"stroke: #A80036; stroke-width: 1.5;\" width=\"54\" x=\"8\" y=\"174.7305\"/><text fill=\"#000000\" font-family=\"sans-serif\" font-size=\"14\" lengthAdjust=\"spacingAndGlyphs\" textLength=\"40\" x=\"15\" y=\"195.2656\">Client</text><rect fill=\"#FEFECE\" filter=\"url(#f1)\" height=\"30.4883\" style=\"stroke: #A80036; stroke-width: 1.5;\" width=\"39\" x=\"135.5\" y=\"3\"/><text fill=\"#000000\" font-family=\"sans-serif\" font-size=\"14\" lengthAdjust=\"spacingAndGlyphs\" textLength=\"25\" x=\"142.5\" y=\"23.5352\">Tea</text><rect fill=\"#FEFECE\" filter=\"url(#f1)\" height=\"30.4883\" style=\"stroke: #A80036; stroke-width: 1.5;\" width=\"39\" x=\"135.5\" y=\"174.7305\"/><text fill=\"#000000\" font-family=\"sans-serif\" font-size=\"14\" lengthAdjust=\"spacingAndGlyphs\" textLength=\"25\" x=\"142.5\" y=\"195.2656\">Tea</text><rect fill=\"#FEFECE\" filter=\"url(#f1)\" height=\"30.4883\" style=\"stroke: #A80036; stroke-width: 1.5;\" width=\"59\" x=\"188.5\" y=\"3\"/><text fill=\"#000000\" font-family=\"sans-serif\" font-size=\"14\" lengthAdjust=\"spacingAndGlyphs\" textLength=\"45\" x=\"195.5\" y=\"23.5352\">Coffee</text><rect fill=\"#FEFECE\" filter=\"url(#f1)\" height=\"30.4883\" style=\"stroke: #A80036; stroke-width: 1.5;\" width=\"59\" x=\"188.5\" y=\"174.7305\"/><text fill=\"#000000\" font-family=\"sans-serif\" font-size=\"14\" lengthAdjust=\"spacingAndGlyphs\" textLength=\"45\" x=\"195.5\" y=\"195.2656\">Coffee</text><polygon fill=\"#A80036\" points=\"145,65.4883,155,69.4883,145,73.4883,149,69.4883\" style=\"stroke: #A80036; stroke-width: 1.0;\"/><line style=\"stroke: #A80036; stroke-width: 1.0;\" x1=\"37\" x2=\"151\" y1=\"69.4883\" y2=\"69.4883\"/><text fill=\"#000000\" font-family=\"sans-serif\" font-size=\"13\" lengthAdjust=\"spacingAndGlyphs\" textLength=\"33\" x=\"44\" y=\"65.0566\">new()</text><polygon fill=\"#A80036\" points=\"208,94.7988,218,98.7988,208,102.7988,212,98.7988\" style=\"stroke: #A80036; stroke-width: 1.0;\"/><line style=\"stroke: #A80036; stroke-width: 1.0;\" x1=\"37\" x2=\"214\" y1=\"98.7988\" y2=\"98.7988\"/><text fill=\"#000000\" font-family=\"sans-serif\" font-size=\"13\" lengthAdjust=\"spacingAndGlyphs\" textLength=\"33\" x=\"44\" y=\"94.3672\">new()</text><polygon fill=\"#A80036\" points=\"145,124.1094,155,128.1094,145,132.1094,149,128.1094\" style=\"stroke: #A80036; stroke-width: 1.0;\"/><line style=\"stroke: #A80036; stroke-width: 1.0;\" x1=\"37\" x2=\"151\" y1=\"128.1094\" y2=\"128.1094\"/><text fill=\"#000000\" font-family=\"sans-serif\" font-size=\"13\" lengthAdjust=\"spacingAndGlyphs\" textLength=\"96\" x=\"44\" y=\"123.6777\">prepareRecipe()</text><polygon fill=\"#A80036\" points=\"208,153.4199,218,157.4199,208,161.4199,212,157.4199\" style=\"stroke: #A80036; stroke-width: 1.0;\"/><line style=\"stroke: #A80036; stroke-width: 1.0;\" x1=\"37\" x2=\"214\" y1=\"157.4199\" y2=\"157.4199\"/><text fill=\"#000000\" font-family=\"sans-serif\" font-size=\"13\" lengthAdjust=\"spacingAndGlyphs\" textLength=\"96\" x=\"44\" y=\"152.9883\">prepareRecipe()</text></g></svg>"
      ],
      "text/plain": [
       "<IPython.core.display.SVG object>"
      ]
     },
     "execution_count": 7,
     "metadata": {},
     "output_type": "execute_result"
    }
   ],
   "source": [
    "%%plantuml\n",
    "@startuml\n",
    "Client -> Tea:new()\n",
    "Client -> Coffee:new()\n",
    "Client -> Tea:prepareRecipe()\n",
    "Client -> Coffee:prepareRecipe()\n",
    "@enduml"
   ]
  },
  {
   "cell_type": "code",
   "execution_count": null,
   "metadata": {
    "collapsed": false,
    "slideshow": {
     "slide_type": "slide"
    }
   },
   "outputs": [],
   "source": [
    "# %load ./src/headfirst/templatemethod/barista/CaffeineBeverage.java\n",
    "package headfirst.templatemethod.barista;\n",
    "\n",
    "public abstract class CaffeineBeverage {\n",
    "  \n",
    "\tfinal void prepareRecipe() {\n",
    "\t\tboilWater();\n",
    "\t\tbrew();\n",
    "\t\tpourInCup();\n",
    "\t\taddCondiments();\n",
    "\t}\n",
    " \n",
    "\tabstract void brew();\n",
    "  \n",
    "\tabstract void addCondiments();\n",
    " \n",
    "\tvoid boilWater() {\n",
    "\t\tSystem.out.println(\"Boiling water\");\n",
    "\t}\n",
    "  \n",
    "\tvoid pourInCup() {\n",
    "\t\tSystem.out.println(\"Pouring into cup\");\n",
    "\t}\n",
    "}\n"
   ]
  },
  {
   "cell_type": "code",
   "execution_count": null,
   "metadata": {
    "collapsed": true,
    "slideshow": {
     "slide_type": "slide"
    }
   },
   "outputs": [],
   "source": [
    "# %load ./src/headfirst/templatemethod/barista/Coffee.java\n",
    "package headfirst.templatemethod.barista;\n",
    "\n",
    "public class Coffee extends CaffeineBeverage {\n",
    "\tpublic void brew() {\n",
    "\t\tSystem.out.println(\"Dripping Coffee through filter\");\n",
    "\t}\n",
    "\tpublic void addCondiments() {\n",
    "\t\tSystem.out.println(\"Adding Sugar and Milk\");\n",
    "\t}\n",
    "}\n"
   ]
  },
  {
   "cell_type": "code",
   "execution_count": null,
   "metadata": {
    "collapsed": true,
    "slideshow": {
     "slide_type": "slide"
    }
   },
   "outputs": [],
   "source": [
    "# %load ./src/headfirst/templatemethod/barista/Tea.java\n",
    "package headfirst.templatemethod.barista;\n",
    "\n",
    "public class Tea extends CaffeineBeverage {\n",
    "\tpublic void brew() {\n",
    "\t\tSystem.out.println(\"Steeping the tea\");\n",
    "\t}\n",
    "\tpublic void addCondiments() {\n",
    "\t\tSystem.out.println(\"Adding Lemon\");\n",
    "\t}\n",
    "}\n"
   ]
  },
  {
   "cell_type": "code",
   "execution_count": null,
   "metadata": {
    "collapsed": true,
    "slideshow": {
     "slide_type": "slide"
    }
   },
   "outputs": [],
   "source": [
    "# %load ./src/headfirst/templatemethod/barista/CaffeineBeverageWithHook.java\n",
    "package headfirst.templatemethod.barista;\n",
    "\n",
    "public abstract class CaffeineBeverageWithHook {\n",
    " \n",
    "\tvoid prepareRecipe() {\n",
    "\t\tboilWater();\n",
    "\t\tbrew();\n",
    "\t\tpourInCup();\n",
    "\t\tif (customerWantsCondiments()) {\n",
    "\t\t\taddCondiments();\n",
    "\t\t}\n",
    "\t}\n",
    " \n",
    "\tabstract void brew();\n",
    " \n",
    "\tabstract void addCondiments();\n",
    " \n",
    "\tvoid boilWater() {\n",
    "\t\tSystem.out.println(\"Boiling water\");\n",
    "\t}\n",
    " \n",
    "\tvoid pourInCup() {\n",
    "\t\tSystem.out.println(\"Pouring into cup\");\n",
    "\t}\n",
    " \n",
    "\tboolean customerWantsCondiments() {\n",
    "\t\treturn true;\n",
    "\t}\n",
    "}\n"
   ]
  },
  {
   "cell_type": "code",
   "execution_count": null,
   "metadata": {
    "collapsed": true,
    "slideshow": {
     "slide_type": "slide"
    }
   },
   "outputs": [],
   "source": [
    "# %load ./src/headfirst/templatemethod/barista/CoffeeWithHook.java\n",
    "package headfirst.templatemethod.barista;\n",
    "\n",
    "import java.io.*;\n",
    "\n",
    "public class CoffeeWithHook extends CaffeineBeverageWithHook {\n",
    " \n",
    "\tpublic void brew() {\n",
    "\t\tSystem.out.println(\"Dripping Coffee through filter\");\n",
    "\t}\n",
    " \n",
    "\tpublic void addCondiments() {\n",
    "\t\tSystem.out.println(\"Adding Sugar and Milk\");\n",
    "\t}\n",
    " \n",
    "\tpublic boolean customerWantsCondiments() {\n",
    "\n",
    "\t\tString answer = getUserInput();\n",
    "\n",
    "\t\tif (answer.toLowerCase().startsWith(\"y\")) {\n",
    "\t\t\treturn true;\n",
    "\t\t} else {\n",
    "\t\t\treturn false;\n",
    "\t\t}\n",
    "\t}\n",
    " \n",
    "\tprivate String getUserInput() {\n",
    "\t\tString answer = null;\n",
    "\n",
    "\t\tSystem.out.print(\"Would you like milk and sugar with your coffee (y/n)? \");\n",
    "\n",
    "\t\tBufferedReader in = new BufferedReader(new InputStreamReader(System.in));\n",
    "\t\ttry {\n",
    "\t\t\tanswer = in.readLine();\n",
    "\t\t} catch (IOException ioe) {\n",
    "\t\t\tSystem.err.println(\"IO error trying to read your answer\");\n",
    "\t\t}\n",
    "\t\tif (answer == null) {\n",
    "\t\t\treturn \"no\";\n",
    "\t\t}\n",
    "\t\treturn answer;\n",
    "\t}\n",
    "}\n"
   ]
  },
  {
   "cell_type": "code",
   "execution_count": null,
   "metadata": {
    "collapsed": true,
    "slideshow": {
     "slide_type": "slide"
    }
   },
   "outputs": [],
   "source": [
    "# %load ./src/headfirst/templatemethod/barista/TeaWithHook.java\n",
    "package headfirst.templatemethod.barista;\n",
    "\n",
    "import java.io.*;\n",
    "\n",
    "public class TeaWithHook extends CaffeineBeverageWithHook {\n",
    " \n",
    "\tpublic void brew() {\n",
    "\t\tSystem.out.println(\"Steeping the tea\");\n",
    "\t}\n",
    " \n",
    "\tpublic void addCondiments() {\n",
    "\t\tSystem.out.println(\"Adding Lemon\");\n",
    "\t}\n",
    " \n",
    "\tpublic boolean customerWantsCondiments() {\n",
    "\n",
    "\t\tString answer = getUserInput();\n",
    "\n",
    "\t\tif (answer.toLowerCase().startsWith(\"y\")) {\n",
    "\t\t\treturn true;\n",
    "\t\t} else {\n",
    "\t\t\treturn false;\n",
    "\t\t}\n",
    "\t}\n",
    " \n",
    "\tprivate String getUserInput() {\n",
    "\t\t// get the user's response\n",
    "\t\tString answer = null;\n",
    "\n",
    "\t\tSystem.out.print(\"Would you like lemon with your tea (y/n)? \");\n",
    "\n",
    "\t\tBufferedReader in = new BufferedReader(new InputStreamReader(System.in));\n",
    "\t\ttry {\n",
    "\t\t\tanswer = in.readLine();\n",
    "\t\t} catch (IOException ioe) {\n",
    "\t\t\tSystem.err.println(\"IO error trying to read your answer\");\n",
    "\t\t}\n",
    "\t\tif (answer == null) {\n",
    "\t\t\treturn \"no\";\n",
    "\t\t}\n",
    "\t\treturn answer;\n",
    "\t}\n",
    "}\n"
   ]
  },
  {
   "cell_type": "code",
   "execution_count": null,
   "metadata": {
    "collapsed": true,
    "slideshow": {
     "slide_type": "slide"
    }
   },
   "outputs": [],
   "source": [
    "# %load ./src/headfirst/templatemethod/barista/BeverageTestDrive.java\n",
    "package headfirst.templatemethod.barista;\n",
    "\n",
    "public class BeverageTestDrive {\n",
    "\tpublic static void main(String[] args) {\n",
    " \n",
    "\t\tTea tea = new Tea();\n",
    "\t\tCoffee coffee = new Coffee();\n",
    " \n",
    "\t\tSystem.out.println(\"\\nMaking tea...\");\n",
    "\t\ttea.prepareRecipe();\n",
    " \n",
    "\t\tSystem.out.println(\"\\nMaking coffee...\");\n",
    "\t\tcoffee.prepareRecipe();\n",
    "\n",
    " \n",
    "\t\tTeaWithHook teaHook = new TeaWithHook();\n",
    "\t\tCoffeeWithHook coffeeHook = new CoffeeWithHook();\n",
    " \n",
    "\t\tSystem.out.println(\"\\nMaking tea...\");\n",
    "\t\tteaHook.prepareRecipe();\n",
    " \n",
    "\t\tSystem.out.println(\"\\nMaking coffee...\");\n",
    "\t\tcoffeeHook.prepareRecipe();\n",
    "\t}\n",
    "}\n"
   ]
  },
  {
   "cell_type": "code",
   "execution_count": null,
   "metadata": {
    "collapsed": false,
    "slideshow": {
     "slide_type": "slide"
    }
   },
   "outputs": [
    {
     "name": "stdout",
     "output_type": "stream",
     "text": [
      "\r\n",
      "Making tea...\r\n",
      "Boiling water\r\n",
      "Steeping the tea\r\n",
      "Pouring into cup\r\n",
      "Adding Lemon\r\n",
      "\r\n",
      "Making coffee...\r\n",
      "Boiling water\r\n",
      "Dripping Coffee through filter\r\n",
      "Pouring into cup\r\n",
      "Adding Sugar and Milk\r\n",
      "\r\n",
      "Making tea...\r\n",
      "Boiling water\r\n",
      "Steeping the tea\r\n",
      "Pouring into cup\r\n",
      "Would you like lemon with your tea (y/n)? "
     ]
    }
   ],
   "source": [
    "!javac -d classes/ -sourcepath src/ src/headfirst/templatemethod/barista/*.java\n",
    "!java -cp classes/ headfirst.templatemethod.barista.BeverageTestDrive"
   ]
  },
  {
   "cell_type": "markdown",
   "metadata": {
    "slideshow": {
     "slide_type": "slide"
    }
   },
   "source": [
    "## 6.2 sort\n",
    "\n",
    "\n",
    "* sorting an array of Objects\n",
    "    * Arrays.sort(Object[])는 Comparable interface 구현해야 (정렬순서는 compareTo()에 정의한 대로)\n",
    "    * 또는 Comparator interface 구현해야 -> 과제\n",
    "```\n",
    "    public class Duck implements Comparable<Duck> {\n",
    "        ...\n",
    "        public int compareTo(Duck duck) {\n",
    "            return this.weight - duck.weight\n",
    "        }\n",
    "    }\n",
    "    ...\n",
    "    java.util.Arrays.sort(Ducks)\n",
    "    ...\n",
    "```\n",
    "\n",
    "* sorting primitives - int, short, float, double, byte\n",
    "```\n",
    "    int[] numbers = {2, 8, 7, 5, 3, 1, 4, 6}; \n",
    "    Arrays.sort(numbers);\n",
    "```\n",
    "\n",
    "* sorting wrapper classes\n",
    "```\n",
    "    String[] cities = {\"Seoul\", \"Tokyo\", \"New York\", \"Paris\", \"Sydney\"}\n",
    "    Arrays.sort(cities);\n",
    "```\n"
   ]
  },
  {
   "cell_type": "code",
   "execution_count": 21,
   "metadata": {
    "collapsed": false,
    "slideshow": {
     "slide_type": "slide"
    }
   },
   "outputs": [
    {
     "data": {
      "image/svg+xml": [
       "<svg height=\"186px\" style=\"width:134px;height:186px;\" version=\"1.1\" viewBox=\"0 0 134 186\" width=\"134px\" xmlns=\"http://www.w3.org/2000/svg\" xmlns:xlink=\"http://www.w3.org/1999/xlink\"><defs><filter height=\"300%\" id=\"f1\" width=\"300%\" x=\"-1\" y=\"-1\"><feGaussianBlur result=\"blurOut\" stdDeviation=\"2.0\"/><feColorMatrix in=\"blurOut\" result=\"blurOut2\" type=\"matrix\" values=\"0 0 0 0 0 0 0 0 0 0 0 0 0 0 0 0 0 0 .4 0\"/><feOffset dx=\"4.0\" dy=\"4.0\" in=\"blurOut2\" result=\"blurOut3\"/><feBlend in=\"SourceGraphic\" in2=\"blurOut3\" mode=\"normal\"/></filter></defs><g><rect fill=\"#FEFECE\" filter=\"url(#f1)\" height=\"60.9551\" style=\"stroke: #A80036; stroke-width: 1.5;\" width=\"119\" x=\"6\" y=\"8\"/><ellipse cx=\"28.2\" cy=\"24\" fill=\"#B4A7E5\" rx=\"11\" ry=\"11\" style=\"stroke: #A80036; stroke-width: 1.0;\"/><path d=\"M24.1277,19.7651 L24.1277,17.6069 L31.5071,17.6069 L31.5071,19.7651 L29.0418,19.7651 L29.0418,27.8418 L31.5071,27.8418 L31.5071,30 L24.1277,30 L24.1277,27.8418 L26.5931,27.8418 L26.5931,19.7651 Z \"/><text fill=\"#000000\" font-family=\"sans-serif\" font-size=\"12\" font-style=\"italic\" lengthAdjust=\"spacingAndGlyphs\" textLength=\"71\" x=\"43.8\" y=\"28.5352\">Comparable</text><line style=\"stroke: #A80036; stroke-width: 1.5;\" x1=\"7\" x2=\"124\" y1=\"40\" y2=\"40\"/><line style=\"stroke: #A80036; stroke-width: 1.5;\" x1=\"7\" x2=\"124\" y1=\"48\" y2=\"48\"/><ellipse cx=\"17\" cy=\"59.9775\" fill=\"#84BE84\" rx=\"3\" ry=\"3\" style=\"stroke: #038048; stroke-width: 1.0;\"/><text fill=\"#000000\" font-family=\"sans-serif\" font-size=\"11\" lengthAdjust=\"spacingAndGlyphs\" textLength=\"93\" x=\"26\" y=\"62.6348\">compareTo(T):int</text><rect fill=\"#FEFECE\" filter=\"url(#f1)\" height=\"48\" style=\"stroke: #A80036; stroke-width: 1.5;\" width=\"61\" x=\"35\" y=\"129\"/><ellipse cx=\"50\" cy=\"145\" fill=\"#ADD1B2\" rx=\"11\" ry=\"11\" style=\"stroke: #A80036; stroke-width: 1.0;\"/><path d=\"M52.9731,150.6431 Q52.3921,150.9419 51.7529,151.0913 Q51.1138,151.2407 50.4082,151.2407 Q47.9014,151.2407 46.5815,149.5889 Q45.2617,147.937 45.2617,144.8159 Q45.2617,141.6865 46.5815,140.0347 Q47.9014,138.3828 50.4082,138.3828 Q51.1138,138.3828 51.7612,138.5322 Q52.4087,138.6816 52.9731,138.9805 L52.9731,141.7031 Q52.3423,141.1221 51.7488,140.8523 Q51.1553,140.5825 50.5244,140.5825 Q49.1797,140.5825 48.4949,141.6492 Q47.8101,142.7158 47.8101,144.8159 Q47.8101,146.9077 48.4949,147.9744 Q49.1797,149.041 50.5244,149.041 Q51.1553,149.041 51.7488,148.7712 Q52.3423,148.5015 52.9731,147.9204 Z \"/><text fill=\"#000000\" font-family=\"sans-serif\" font-size=\"12\" lengthAdjust=\"spacingAndGlyphs\" textLength=\"29\" x=\"64\" y=\"149.5352\">Duck</text><line style=\"stroke: #A80036; stroke-width: 1.5;\" x1=\"36\" x2=\"95\" y1=\"161\" y2=\"161\"/><line style=\"stroke: #A80036; stroke-width: 1.5;\" x1=\"36\" x2=\"95\" y1=\"169\" y2=\"169\"/><path d=\"M65.5,89.1067 C65.5,102.8764 65.5,117.1847 65.5,128.6686 \" fill=\"none\" style=\"stroke: #A80036; stroke-width: 1.0; stroke-dasharray: 7.0,7.0;\"/><polygon fill=\"none\" points=\"58.5001,89.0581,65.5,69.058,72.5001,89.058,58.5001,89.0581\" style=\"stroke: #A80036; stroke-width: 1.0;\"/></g></svg>"
      ],
      "text/plain": [
       "<IPython.core.display.SVG object>"
      ]
     },
     "execution_count": 21,
     "metadata": {},
     "output_type": "execute_result"
    }
   ],
   "source": [
    "%%plantuml\n",
    "@startuml\n",
    "interface Comparable {\n",
    "        +compareTo(T):int\n",
    "}\n",
    "Comparable <|.. Duck\n",
    "@enduml"
   ]
  },
  {
   "cell_type": "code",
   "execution_count": null,
   "metadata": {
    "collapsed": true,
    "slideshow": {
     "slide_type": "slide"
    }
   },
   "outputs": [],
   "source": [
    "# %load ./src/headfirst/templatemethod/sort/Duck.java\n",
    "package headfirst.templatemethod.sort;\n",
    "\n",
    "public class Duck implements Comparable {\n",
    "\tString name;\n",
    "\tint weight;\n",
    "  \n",
    "\tpublic Duck(String name, int weight) {\n",
    "\t\tthis.name = name;\n",
    "\t\tthis.weight = weight;\n",
    "\t}\n",
    " \n",
    "\tpublic String toString() {\n",
    "\t\treturn name + \" weighs \" + weight;\n",
    "\t}\n",
    " \n",
    " \n",
    "  \n",
    "\tpublic int compareTo(Object object) {\n",
    " \n",
    "\t\tDuck otherDuck = (Duck)object;\n",
    "  \n",
    "\t\tif (this.weight < otherDuck.weight) {\n",
    "\t\t\treturn -1;\n",
    "\t\t} else if (this.weight == otherDuck.weight) {\n",
    "\t\t\treturn 0;\n",
    "\t\t} else { // this.weight > otherDuck.weight\n",
    "\t\t\treturn 1;\n",
    "\t\t}\n",
    "\t}\n",
    "}\n"
   ]
  },
  {
   "cell_type": "code",
   "execution_count": null,
   "metadata": {
    "collapsed": true,
    "slideshow": {
     "slide_type": "slide"
    }
   },
   "outputs": [],
   "source": [
    "# %load ./src/headfirst/templatemethod/sort/DuckSortTestDrive.java\n",
    "package headfirst.templatemethod.sort;\n",
    "\n",
    "import java.util.ArrayList;\n",
    "import java.util.Arrays;\n",
    "\n",
    "public class DuckSortTestDrive {\n",
    "\n",
    "\tpublic static void main(String[] args) {\n",
    "\t\tDuck[] ducks = { \n",
    "\t\t\t\t\t\tnew Duck(\"Daffy\", 8), \n",
    "\t\t\t\t\t\tnew Duck(\"Dewey\", 2),\n",
    "\t\t\t\t\t\tnew Duck(\"Howard\", 7),\n",
    "\t\t\t\t\t\tnew Duck(\"Louie\", 2),\n",
    "\t\t\t\t\t\tnew Duck(\"Donald\", 10), \n",
    "\t\t\t\t\t\tnew Duck(\"Huey\", 2)\n",
    "\t\t };\n",
    "\n",
    "\t\tSystem.out.println(\"Before sorting:\");\n",
    "\t\tdisplay(ducks);\n",
    "\n",
    "\t\tArrays.sort(ducks);\n",
    " \n",
    "\t\tSystem.out.println(\"\\nAfter sorting:\");\n",
    "\t\tdisplay(ducks);\n",
    "\t}\n",
    "\n",
    "\tpublic static void display(Duck[] ducks) {\n",
    "\t\tfor (int i = 0; i < ducks.length; i++) {\n",
    "\t\t\tSystem.out.println(ducks[i]);\n",
    "\t\t}\n",
    "\t}\n",
    "}\n"
   ]
  },
  {
   "cell_type": "code",
   "execution_count": null,
   "metadata": {
    "collapsed": true,
    "slideshow": {
     "slide_type": "slide"
    }
   },
   "outputs": [],
   "source": [
    "!javac -d classes/ -sourcepath src/ src/headfirst/templatemethod/sort/*.java\n",
    "!java -cp classes/ headfirst.templatemethod.sort.DuckSortTestDrive"
   ]
  },
  {
   "cell_type": "markdown",
   "metadata": {
    "slideshow": {
     "slide_type": "slide"
    }
   },
   "source": [
    "## 6.3 frame\n",
    "\n",
    "* p.306\n",
    "* JFrame vs JPanel\n",
    "    * JFrame은 window. 그 안에 JPanel을 가질 수 있슴.\n",
    "        * JFrame -> Frame, Window, Container, Component, and finally Object\n",
    "    * JPanel은 window가 아님.\n",
    "* paint hook"
   ]
  },
  {
   "cell_type": "code",
   "execution_count": null,
   "metadata": {
    "collapsed": false,
    "slideshow": {
     "slide_type": "slide"
    }
   },
   "outputs": [],
   "source": [
    "# %load ./src/headfirst/templatemethod/frame/MyFrame.java\n",
    "package headfirst.templatemethod.frame;\n",
    "\n",
    "import java.awt.*;\n",
    "import javax.swing.*;\n",
    "\n",
    "public class MyFrame extends JFrame {\n",
    "\n",
    "\tpublic MyFrame(String title) {\n",
    "\t\tsuper(title);\n",
    "\t\tthis.setDefaultCloseOperation(JFrame.EXIT_ON_CLOSE);\n",
    "\n",
    "\t\tthis.setSize(300,300);\n",
    "\t\tthis.setVisible(true);\n",
    "\t}\n",
    "\n",
    "\tpublic void paint(Graphics graphics) {\n",
    "\t\tsuper.paint(graphics);\n",
    "\t\tString msg = \"I rule!!\";\n",
    "\t\tgraphics.drawString(msg, 100, 100);\n",
    "\t}\n",
    "\n",
    "\tpublic static void main(String[] args) {\n",
    "\t\tMyFrame myFrame = new MyFrame(\"Head First Design Patterns\");\n",
    "\t}\n",
    "}\n"
   ]
  },
  {
   "cell_type": "code",
   "execution_count": 19,
   "metadata": {
    "collapsed": true,
    "slideshow": {
     "slide_type": "slide"
    }
   },
   "outputs": [],
   "source": [
    "!javac -d classes/ -sourcepath src/ src/headfirst/templatemethod/frame/MyFrame.java \n",
    "!java -cp classes/ headfirst.templatemethod.frame.MyFrame"
   ]
  },
  {
   "cell_type": "markdown",
   "metadata": {
    "slideshow": {
     "slide_type": "slide"
    }
   },
   "source": [
    "## 6.4 Applets\n",
    "\n",
    "* p.307\n",
    "* 웹브라우저에서 실행되는 자바. 클라이언트에 다운로드 되어서 실행. JVM이 있어야 함.\n",
    "* java.applet.Applet 확장해서 구현\n",
    "* 라이프사이클 (main() 함수가 없고)\n",
    "    * init\n",
    "    * start\n",
    "    * stop\n",
    "    * destroy\n",
    "    * paint (java.awt paint함수와 동일)\n",
    "        * start()함수 후 자동으로 호출\n",
    "        * repaint가 필요한 경우 자동으로 호출. the java.awt.\n",
    "\n",
    "* 웹브라우저에서 security에서 Java Applet실행가능하게 (예: Internet Explorer)\n",
    "    * Click Tools and then Internet Options\n",
    "    * Select the Security tab, and select the Custom Level button\n",
    "    * Scroll down to Scripting of Java applets\n",
    "    * Make sure the Enable radio button is checked\n",
    "    * Click OK to save your preference\n",
    "    * ```<applet codebase=../../../../classes/\n",
    "code=\"headfirst/templatemethod/applet/MyApplet.class\"\n",
    "width=\"320\" height=\"120\">```"
   ]
  },
  {
   "cell_type": "code",
   "execution_count": 18,
   "metadata": {
    "collapsed": false,
    "slideshow": {
     "slide_type": "slide"
    }
   },
   "outputs": [
    {
     "data": {
      "image/svg+xml": [
       "<svg height=\"281px\" style=\"width:102px;height:281px;\" version=\"1.1\" viewBox=\"0 0 102 281\" width=\"102px\" xmlns=\"http://www.w3.org/2000/svg\" xmlns:xlink=\"http://www.w3.org/1999/xlink\"><defs><filter height=\"300%\" id=\"f1\" width=\"300%\" x=\"-1\" y=\"-1\"><feGaussianBlur result=\"blurOut\" stdDeviation=\"2.0\"/><feColorMatrix in=\"blurOut\" result=\"blurOut2\" type=\"matrix\" values=\"0 0 0 0 0 0 0 0 0 0 0 0 0 0 0 0 0 0 .4 0\"/><feOffset dx=\"4.0\" dy=\"4.0\" in=\"blurOut2\" result=\"blurOut3\"/><feBlend in=\"SourceGraphic\" in2=\"blurOut3\" mode=\"normal\"/></filter></defs><g><rect fill=\"#FEFECE\" filter=\"url(#f1)\" height=\"48\" style=\"stroke: #A80036; stroke-width: 1.5;\" width=\"87\" x=\"6\" y=\"8\"/><ellipse cx=\"21\" cy=\"24\" fill=\"#ADD1B2\" rx=\"11\" ry=\"11\" style=\"stroke: #A80036; stroke-width: 1.0;\"/><path d=\"M23.9731,29.6431 Q23.3921,29.9419 22.7529,30.0913 Q22.1138,30.2407 21.4082,30.2407 Q18.9014,30.2407 17.5815,28.5889 Q16.2617,26.937 16.2617,23.8159 Q16.2617,20.6865 17.5815,19.0347 Q18.9014,17.3828 21.4082,17.3828 Q22.1138,17.3828 22.7612,17.5322 Q23.4087,17.6816 23.9731,17.9805 L23.9731,20.7031 Q23.3423,20.1221 22.7488,19.8523 Q22.1553,19.5825 21.5244,19.5825 Q20.1797,19.5825 19.4949,20.6492 Q18.8101,21.7158 18.8101,23.8159 Q18.8101,25.9077 19.4949,26.9744 Q20.1797,28.041 21.5244,28.041 Q22.1553,28.041 22.7488,27.7712 Q23.3423,27.5015 23.9731,26.9204 Z \"/><text fill=\"#000000\" font-family=\"sans-serif\" font-size=\"12\" lengthAdjust=\"spacingAndGlyphs\" textLength=\"55\" x=\"35\" y=\"28.5352\">Container</text><line style=\"stroke: #A80036; stroke-width: 1.5;\" x1=\"7\" x2=\"92\" y1=\"40\" y2=\"40\"/><line style=\"stroke: #A80036; stroke-width: 1.5;\" x1=\"7\" x2=\"92\" y1=\"48\" y2=\"48\"/><rect fill=\"#FEFECE\" filter=\"url(#f1)\" height=\"48\" style=\"stroke: #A80036; stroke-width: 1.5;\" width=\"63\" x=\"18\" y=\"116\"/><ellipse cx=\"33\" cy=\"132\" fill=\"#ADD1B2\" rx=\"11\" ry=\"11\" style=\"stroke: #A80036; stroke-width: 1.0;\"/><path d=\"M35.9731,137.6431 Q35.3921,137.9419 34.7529,138.0913 Q34.1138,138.2407 33.4082,138.2407 Q30.9014,138.2407 29.5815,136.5889 Q28.2617,134.937 28.2617,131.8159 Q28.2617,128.6865 29.5815,127.0347 Q30.9014,125.3828 33.4082,125.3828 Q34.1138,125.3828 34.7612,125.5322 Q35.4087,125.6816 35.9731,125.9805 L35.9731,128.7031 Q35.3423,128.1221 34.7488,127.8523 Q34.1553,127.5825 33.5244,127.5825 Q32.1797,127.5825 31.4949,128.6492 Q30.8101,129.7158 30.8101,131.8159 Q30.8101,133.9077 31.4949,134.9744 Q32.1797,136.041 33.5244,136.041 Q34.1553,136.041 34.7488,135.7712 Q35.3423,135.5015 35.9731,134.9204 Z \"/><text fill=\"#000000\" font-family=\"sans-serif\" font-size=\"12\" lengthAdjust=\"spacingAndGlyphs\" textLength=\"31\" x=\"47\" y=\"136.5352\">Panel</text><line style=\"stroke: #A80036; stroke-width: 1.5;\" x1=\"19\" x2=\"80\" y1=\"148\" y2=\"148\"/><line style=\"stroke: #A80036; stroke-width: 1.5;\" x1=\"19\" x2=\"80\" y1=\"156\" y2=\"156\"/><rect fill=\"#FEFECE\" filter=\"url(#f1)\" height=\"48\" style=\"stroke: #A80036; stroke-width: 1.5;\" width=\"70\" x=\"14.5\" y=\"224\"/><ellipse cx=\"29.5\" cy=\"240\" fill=\"#ADD1B2\" rx=\"11\" ry=\"11\" style=\"stroke: #A80036; stroke-width: 1.0;\"/><path d=\"M32.4731,245.6431 Q31.8921,245.9419 31.2529,246.0913 Q30.6138,246.2407 29.9082,246.2407 Q27.4014,246.2407 26.0815,244.5889 Q24.7617,242.937 24.7617,239.8159 Q24.7617,236.6865 26.0815,235.0347 Q27.4014,233.3828 29.9082,233.3828 Q30.6138,233.3828 31.2612,233.5322 Q31.9087,233.6816 32.4731,233.9805 L32.4731,236.7031 Q31.8423,236.1221 31.2488,235.8523 Q30.6553,235.5825 30.0244,235.5825 Q28.6797,235.5825 27.9949,236.6492 Q27.3101,237.7158 27.3101,239.8159 Q27.3101,241.9077 27.9949,242.9744 Q28.6797,244.041 30.0244,244.041 Q30.6553,244.041 31.2488,243.7712 Q31.8423,243.5015 32.4731,242.9204 Z \"/><text fill=\"#000000\" font-family=\"sans-serif\" font-size=\"12\" lengthAdjust=\"spacingAndGlyphs\" textLength=\"38\" x=\"43.5\" y=\"244.5352\">Applet</text><line style=\"stroke: #A80036; stroke-width: 1.5;\" x1=\"15.5\" x2=\"83.5\" y1=\"256\" y2=\"256\"/><line style=\"stroke: #A80036; stroke-width: 1.5;\" x1=\"15.5\" x2=\"83.5\" y1=\"264\" y2=\"264\"/><path d=\"M49.5,76.024 C49.5,89.579 49.5,104.038 49.5,115.678 \" fill=\"none\" style=\"stroke: #A80036; stroke-width: 1.0;\"/><polygon fill=\"none\" points=\"42.5001,76,49.5,56,56.5001,76,42.5001,76\" style=\"stroke: #A80036; stroke-width: 1.0;\"/><path d=\"M49.5,184.0236 C49.5,197.5792 49.5,212.0381 49.5,223.6784 \" fill=\"none\" style=\"stroke: #A80036; stroke-width: 1.0;\"/><polygon fill=\"none\" points=\"42.5001,184.0005,49.5,164,56.5001,184.0004,42.5001,184.0005\" style=\"stroke: #A80036; stroke-width: 1.0;\"/></g></svg>"
      ],
      "text/plain": [
       "<IPython.core.display.SVG object>"
      ]
     },
     "execution_count": 18,
     "metadata": {},
     "output_type": "execute_result"
    }
   ],
   "source": [
    "%%plantuml\n",
    "@startuml\n",
    "Container <|-- Panel\n",
    "Panel <|-- Applet\n",
    "@enduml"
   ]
  },
  {
   "cell_type": "code",
   "execution_count": null,
   "metadata": {
    "collapsed": true
   },
   "outputs": [],
   "source": [
    "# %load ./src/headfirst/templatemethod/applet/MyApplet.java\n",
    "package headfirst.templatemethod.applet;\n",
    "\n",
    "import java.applet.Applet;\n",
    "import java.awt.Graphics;\n",
    "\n",
    "public class MyApplet extends Applet {\n",
    "    String message;\n",
    " \n",
    "    public void init() {\n",
    "        message = \"Hello World, I'm alive!\";\n",
    "        repaint();\n",
    "    }\n",
    " \n",
    "    public void start() {\n",
    "        message = \"Now I'm starting up...\";\n",
    "        repaint();\n",
    "    }\n",
    " \n",
    "    public void stop() {\n",
    "        message = \"Oh, now I'm being stopped...\";\n",
    "        repaint();\n",
    "    }\n",
    " \n",
    "    public void destroy() {\n",
    "        message = \"Goodbye, cruel world\";\n",
    "        repaint();\n",
    "    }\n",
    " \n",
    "    public void paint(Graphics g) {\n",
    "        g.drawString(message, 5, 15);\n",
    "    }\n",
    "}\n",
    "\n"
   ]
  }
 ],
 "metadata": {
  "celltoolbar": "Slideshow",
  "kernelspec": {
   "display_name": "Python 2",
   "language": "python",
   "name": "python2"
  },
  "language_info": {
   "codemirror_mode": {
    "name": "ipython",
    "version": 2
   },
   "file_extension": ".py",
   "mimetype": "text/x-python",
   "name": "python",
   "nbconvert_exporter": "python",
   "pygments_lexer": "ipython2",
   "version": "2.7.12"
  }
 },
 "nbformat": 4,
 "nbformat_minor": 0
}
