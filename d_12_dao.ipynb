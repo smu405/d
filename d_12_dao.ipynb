{
 "cells": [
  {
   "cell_type": "markdown",
   "metadata": {
    "slideshow": {
     "slide_type": "slide"
    }
   },
   "source": [
    "# DAO\n",
    "\n",
    "## D.1 소개\n",
    "\n",
    "* DAO Data Access Objects는 엔터프라이즈 패턴이다.\n",
    "* J2EE 패턴으로 소개되었고, DB를 사용하는 어플리케이션에 널리 적용되고 있다 (참고: Sun Microsystems Inc., 2007, Core J2EE Patterns)\n",
    "* 엔터프라이즈 패턴으로 업무와 DBMS를 분리하기 위해 사용한다.\n",
    "* 업무와 데이터 2계층을 분리하고, 서로 그 상태를 동일하게 유지persistence하게 된다.\n",
    "    * business layer: 고객, 주문, 유통과 같은 업무 절차 및 규칙\n",
    "    * data access layer: 정보를 어떻게 저장할 것인지, 예를 들어 고객ID는 몇 자리로 할 것인지, 숫자 또는 문자인지 등 물리적인 문제"
   ]
  },
  {
   "cell_type": "markdown",
   "metadata": {
    "slideshow": {
     "slide_type": "subslide"
    }
   },
   "source": [
    "* 디자인패턴 요소\n",
    "\n",
    "요소 | 설명\n",
    "---|---\n",
    "name | Dao\n",
    "problem | DB를 사용하는 방법이 변경되면 클라이언트의 수정이 많아진다.\n",
    "solution | 사용방법의 분리\n",
    "consequence | loose coupling, 확장성"
   ]
  },
  {
   "cell_type": "markdown",
   "metadata": {
    "slideshow": {
     "slide_type": "subslide"
    }
   },
   "source": [
    "* 프로그래밍 예제\n",
    "    * 과제\n",
    "        * 주소록을 DAO패턴을 사용하여 CRUD\n",
    "        * master-detail"
   ]
  },
  {
   "cell_type": "markdown",
   "metadata": {
    "slideshow": {
     "slide_type": "slide"
    }
   },
   "source": [
    "## D.2 문제\n",
    "\n",
    "* 데이터를 저장하는 방식이 다양하다 (데이터베이스, 파일, XML, csv 등)\n",
    "* 사용하는 방법이 다르게 되면 변경이 많아지게 된다. DMBS에 따라 Sql이 서로 다를 수 있다.\n",
    "* 데이터를 저장하는 방식을 분리하여, 변경을 최소화한다."
   ]
  },
  {
   "cell_type": "markdown",
   "metadata": {
    "slideshow": {
     "slide_type": "slide"
    }
   },
   "source": [
    "## D.3 설계\n",
    "\n",
    "역할 | 설명\n",
    "-----|-----\n",
    "Dao | 모델에 대한 기본적인 CRUD 인터페이스\n",
    "DaoImpl | Dao 인터페이스 구현 (실제 연결한 DBMS, sql)\n",
    "Value Object (또는 Model Object) | Dao를 사용하여 데이터를 저장하는 단순 POJO"
   ]
  },
  {
   "cell_type": "code",
   "execution_count": 1,
   "metadata": {
    "collapsed": true,
    "slideshow": {
     "slide_type": "subslide"
    }
   },
   "outputs": [],
   "source": [
    "import iplantuml"
   ]
  },
  {
   "cell_type": "code",
   "execution_count": 2,
   "metadata": {
    "collapsed": false
   },
   "outputs": [
    {
     "data": {
      "image/svg+xml": [
       "<svg height=\"224px\" style=\"width:115px;height:224px;\" version=\"1.1\" viewBox=\"0 0 115 224\" width=\"115px\" xmlns=\"http://www.w3.org/2000/svg\" xmlns:xlink=\"http://www.w3.org/1999/xlink\"><defs><filter height=\"300%\" id=\"f1\" width=\"300%\" x=\"-1\" y=\"-1\"><feGaussianBlur result=\"blurOut\" stdDeviation=\"2.0\"/><feColorMatrix in=\"blurOut\" result=\"blurOut2\" type=\"matrix\" values=\"0 0 0 0 0 0 0 0 0 0 0 0 0 0 0 0 0 0 .4 0\"/><feOffset dx=\"4.0\" dy=\"4.0\" in=\"blurOut2\" result=\"blurOut3\"/><feBlend in=\"SourceGraphic\" in2=\"blurOut3\" mode=\"normal\"/></filter></defs><g><rect fill=\"#FEFECE\" filter=\"url(#f1)\" height=\"99.2188\" style=\"stroke: #A80036; stroke-width: 1.5;\" width=\"100\" x=\"6\" y=\"8\"/><ellipse cx=\"40.35\" cy=\"24\" fill=\"#B4A7E5\" rx=\"11\" ry=\"11\" style=\"stroke: #A80036; stroke-width: 1.0;\"/><path d=\"M36.2719,19.7656 L36.2719,17.6094 L43.6625,17.6094 L43.6625,19.7656 L41.1938,19.7656 L41.1938,27.8438 L43.6625,27.8438 L43.6625,30 L36.2719,30 L36.2719,27.8438 L38.7406,27.8438 L38.7406,19.7656 L36.2719,19.7656 Z \"/><text fill=\"#000000\" font-family=\"sans-serif\" font-size=\"12\" font-style=\"italic\" lengthAdjust=\"spacingAndGlyphs\" textLength=\"25\" x=\"58.65\" y=\"28.1543\">Dao</text><line style=\"stroke: #A80036; stroke-width: 1.5;\" x1=\"7\" x2=\"105\" y1=\"40\" y2=\"40\"/><line style=\"stroke: #A80036; stroke-width: 1.5;\" x1=\"7\" x2=\"105\" y1=\"48\" y2=\"48\"/><ellipse cx=\"17\" cy=\"59.9023\" fill=\"#84BE84\" rx=\"3\" ry=\"3\" style=\"stroke: #038048; stroke-width: 1.0;\"/><text fill=\"#000000\" font-family=\"sans-serif\" font-size=\"11\" lengthAdjust=\"spacingAndGlyphs\" textLength=\"68\" x=\"26\" y=\"62.2104\">insert():void</text><ellipse cx=\"17\" cy=\"72.707\" fill=\"#84BE84\" rx=\"3\" ry=\"3\" style=\"stroke: #038048; stroke-width: 1.0;\"/><text fill=\"#000000\" font-family=\"sans-serif\" font-size=\"11\" lengthAdjust=\"spacingAndGlyphs\" textLength=\"74\" x=\"26\" y=\"75.0151\">update():void</text><ellipse cx=\"17\" cy=\"85.5117\" fill=\"#84BE84\" rx=\"3\" ry=\"3\" style=\"stroke: #038048; stroke-width: 1.0;\"/><text fill=\"#000000\" font-family=\"sans-serif\" font-size=\"11\" lengthAdjust=\"spacingAndGlyphs\" textLength=\"70\" x=\"26\" y=\"87.8198\">delete():void</text><ellipse cx=\"17\" cy=\"98.3164\" fill=\"#84BE84\" rx=\"3\" ry=\"3\" style=\"stroke: #038048; stroke-width: 1.0;\"/><text fill=\"#000000\" font-family=\"sans-serif\" font-size=\"11\" lengthAdjust=\"spacingAndGlyphs\" textLength=\"66\" x=\"26\" y=\"100.6245\">select():List</text><rect fill=\"#FEFECE\" filter=\"url(#f1)\" height=\"48\" style=\"stroke: #A80036; stroke-width: 1.5;\" width=\"82\" x=\"15\" y=\"167\"/><ellipse cx=\"30\" cy=\"183\" fill=\"#ADD1B2\" rx=\"11\" ry=\"11\" style=\"stroke: #A80036; stroke-width: 1.0;\"/><path d=\"M32.9688,188.6406 Q32.3906,188.9375 31.75,189.0859 Q31.1094,189.2344 30.4063,189.2344 Q27.9063,189.2344 26.5859,187.5859 Q25.2656,185.9375 25.2656,182.8125 Q25.2656,179.6875 26.5859,178.0313 Q27.9063,176.375 30.4063,176.375 Q31.1094,176.375 31.7578,176.5313 Q32.4063,176.6875 32.9688,176.9844 L32.9688,179.7031 Q32.3438,179.125 31.75,178.8516 Q31.1563,178.5781 30.5313,178.5781 Q29.1875,178.5781 28.5,179.6484 Q27.8125,180.7188 27.8125,182.8125 Q27.8125,184.9063 28.5,185.9766 Q29.1875,187.0469 30.5313,187.0469 Q31.1563,187.0469 31.75,186.7734 Q32.3438,186.5 32.9688,185.9219 L32.9688,188.6406 Z \"/><text fill=\"#000000\" font-family=\"sans-serif\" font-size=\"12\" lengthAdjust=\"spacingAndGlyphs\" textLength=\"50\" x=\"44\" y=\"187.1543\">DaoImpl</text><line style=\"stroke: #A80036; stroke-width: 1.5;\" x1=\"16\" x2=\"96\" y1=\"199\" y2=\"199\"/><line style=\"stroke: #A80036; stroke-width: 1.5;\" x1=\"16\" x2=\"96\" y1=\"207\" y2=\"207\"/><path d=\"M56,127.2257 C56,141.5804 56,155.7456 56,166.9769 \" fill=\"none\" style=\"stroke: #A80036; stroke-width: 1.0;\"/><polygon fill=\"none\" points=\"49.0001,127.0922,56,107.092,63.0001,127.0921,49.0001,127.0922\" style=\"stroke: #A80036; stroke-width: 1.0;\"/></g></svg>"
      ],
      "text/plain": [
       "<IPython.core.display.SVG object>"
      ]
     },
     "execution_count": 2,
     "metadata": {},
     "output_type": "execute_result"
    }
   ],
   "source": [
    "%%plantuml\n",
    "\n",
    "@startuml\n",
    "interface Dao {\n",
    "    +insert():void    \n",
    "    +update():void\n",
    "    +delete():void\n",
    "    +select():List\n",
    "}\n",
    "class DaoImpl\n",
    "Dao <|.. DaoImpl\n",
    "@enduml"
   ]
  },
  {
   "cell_type": "markdown",
   "metadata": {
    "slideshow": {
     "slide_type": "slide"
    }
   },
   "source": [
    "## D.4 사례\n",
    "\n",
    "### D.4.1 주소록 사용사례\n",
    "\n",
    "* CRUD기능을 구현한다.\n",
    "* Use Case: 주소록 관리\n",
    "    * Basic Flow:\n",
    "        * 1) 사용자가 주소록 (이름, 주소) 조회를 요청.\n",
    "            * 단건조회\n",
    "            * 목록조회\n",
    "        * 2) 사용자가 입력을 요청.\n",
    "        * 3) 사용자가 수정을 요청.\n",
    "            * 데이터가 존재하는지 확인\n",
    "        * 4) 사용자가 삭제를 요청.\n",
    "            * 데이터가 존재하는지 확인\n",
    "    * Alternative Flow:\n",
    "        * 1-1a) DB연결 오류: \"DB 연결 오류\" 출력. \n",
    "        * 1-1b) 데이터가 존재하지 않는 경우: \"데이터가 존재하지 않습니다\" 출력. \n",
    "        * 2-1) 특수문자가 있는 경우: \"특수문자 입력 오류\" 출력. \n",
    "        * 3-1) 데이터 존재하지 않는 경우: \"입력 오류\" 출력. "
   ]
  },
  {
   "cell_type": "markdown",
   "metadata": {
    "collapsed": true,
    "slideshow": {
     "slide_type": "subslide"
    }
   },
   "source": [
    "* 버전\n",
    "\n",
    "구분 | 설명\n",
    "-----|-----\n",
    "v0 | simple JDBC 사례 - MySql, DAO 구현하지 않는다.\n",
    "v1 | List, DAO\n",
    "v2 | MySql, DAO, 수정, 삭제, 단건조회, 목록조회 (master-detail)\n"
   ]
  },
  {
   "cell_type": "markdown",
   "metadata": {
    "slideshow": {
     "slide_type": "subslide"
    }
   },
   "source": [
    "* Properties\n",
    "    * 비밀번호는 properties에 저장하여 사용한다.\n",
    "```\n",
    "USER=\n",
    "PASSWORD=\n",
    "```"
   ]
  },
  {
   "cell_type": "code",
   "execution_count": 7,
   "metadata": {
    "collapsed": false,
    "scrolled": true
   },
   "outputs": [
    {
     "name": "stdout",
     "output_type": "stream",
     "text": [
      "-rw-rw-r-- 1 jsl jsl 55  5월 17 10:00 src/mysql.properties\r\n"
     ]
    }
   ],
   "source": [
    "!ls -l src/mysql.properties"
   ]
  },
  {
   "cell_type": "markdown",
   "metadata": {
    "slideshow": {
     "slide_type": "subslide"
    }
   },
   "source": [
    "* jdbc connector를 설치한다.\n",
    "    * mysql connector 다운로드 http://dev.mysql.com/downloads/connector/j\n",
    "    * 압축을 풀면 mysql-connector-XXX.jar\n",
    "    * classpath에 추가한다."
   ]
  },
  {
   "cell_type": "code",
   "execution_count": 5,
   "metadata": {
    "collapsed": false,
    "scrolled": true
   },
   "outputs": [
    {
     "name": "stdout",
     "output_type": "stream",
     "text": [
      "-rw-r--r-- 1 root root 987191  2월  7  2016 /usr/share/java/mysql-connector-java-5.1.38.jar\r\n",
      "lrwxrwxrwx 1 root root     31  2월  7  2016 /usr/share/java/mysql-connector-java.jar -> mysql-connector-java-5.1.38.jar\r\n",
      "lrwxrwxrwx 1 root root     24  2월  7  2016 /usr/share/java/mysql.jar -> mysql-connector-java.jar\r\n"
     ]
    }
   ],
   "source": [
    "!ls -l /usr/share/java/mysql*"
   ]
  },
  {
   "cell_type": "markdown",
   "metadata": {
    "slideshow": {
     "slide_type": "slide"
    }
   },
   "source": [
    "### v0  simple JDBC\n",
    "\n",
    "* DAO 패턴을 사용하지 않고, 데이터를 입력, 수정, 삭제, 조회\n",
    "* 실행하면서 useSSL 'WARN' 메시지가 발생하면\n",
    "    * \"?useSSL=false\"를 추가한다."
   ]
  },
  {
   "cell_type": "markdown",
   "metadata": {
    "slideshow": {
     "slide_type": "subslide"
    }
   },
   "source": [
    "구분 | CREATE TABLE 문 | 설명\n",
    "-----|-----|-----\n",
    "MySql | CREATE TABLE persons(id int(64) NOT NULL AUTO_INCREMENT,<br>name varchar(255) NOT NULL,<br>address varchar(255) NOT NULL, UNIQUE (id)); | AUTO_INCREMENT를 사용\n",
    "Sqlite | CREATE TABLE persons(id int(64) NULL,<br>name varchar(255) NOT NULL,<br>address varchar(255) NOT NULL, UNIQUE (id)); |"
   ]
  },
  {
   "cell_type": "markdown",
   "metadata": {
    "slideshow": {
     "slide_type": "subslide"
    }
   },
   "source": [
    "단계 | 설명\n",
    "-----|-----\n",
    "단계 1 | install and classpath\n",
    "단계 2 | import java.sql.*\n",
    "단계 3 | driver 로딩 Class.forName()\n",
    "단계 4 | DriverManager.getConnection()\n",
    "단계 5 | sql Statement, ResultSet\n",
    "단계 6 | close"
   ]
  },
  {
   "cell_type": "code",
   "execution_count": null,
   "metadata": {
    "collapsed": false,
    "slideshow": {
     "slide_type": "subslide"
    }
   },
   "outputs": [],
   "source": [
    "# %load src/com/sd/dao/v0/DaoMainV0.java\n",
    "\n",
    "package com.sd.dao.v0;\n",
    "import java.sql.*;\n",
    "import java.util.Properties;\n",
    "import java.io.FileInputStream;\n",
    "import java.io.FileNotFoundException;\n",
    "import java.io.IOException;\n",
    "\n",
    "public class DaoMainV0 {\n",
    "    public static void main (String[] args){\n",
    "        Connection conn=null;\n",
    "        ResultSet rs=null;\n",
    "        Statement stmt=null;\n",
    "        try {\n",
    "            String path = System.getProperty(\"user.dir\");\n",
    "            path += \"/src/mysql.properties\";\n",
    "            Properties prop = new Properties();\n",
    "            prop.load(new FileInputStream(path));\n",
    "            Class.forName(\"com.mysql.jdbc.Driver\");\n",
    "            conn = DriverManager.getConnection(\n",
    "                prop.getProperty(\"URL\")+\"?useSSL=true\",\n",
    "                prop.getProperty(\"USER\"),\n",
    "                prop.getProperty(\"PASSWORD\")\n",
    "            );\n",
    "            //String mySql=\"CREATE TABLE persons(id int(64) NOT NULL AUTO_INCREMENT,\";\n",
    "            //mySql+=\"name varchar(255) NOT NULL, address varchar(255) NOT NULL, UNIQUE (id))\";\n",
    "            stmt=conn.createStatement();\n",
    "            //stmt.execute(mySql);\n",
    "            stmt.execute(\"INSERT INTO persons(name,address) VALUES('v0-1','1 Hongji Dong')\");\n",
    "            stmt.execute(\"INSERT INTO persons(name,address) VALUES('v0-2','2 Hongji Dong')\");\n",
    "            stmt.execute(\"INSERT INTO persons(name,address) VALUES('v0-3','3 Hongji Dong')\");\n",
    "            stmt.execute(\"DELETE FROM persons WHERE id=3 LIMIT 1\");\n",
    "\n",
    "            rs=stmt.executeQuery(\"SELECT name FROM persons WHERE id < 4 ORDER BY id\");\n",
    "            while (rs.next()) {\n",
    "                System.out.println(rs.getString(\"name\"));\n",
    "            }\n",
    "        } catch (Exception e){\n",
    "            e.printStackTrace();\n",
    "        } finally {\n",
    "            try {\n",
    "                if(rs != null) rs.close();\n",
    "            } catch (Exception e) {};\n",
    "            try {\n",
    "                if(stmt != null) stmt.close();\n",
    "            } catch (Exception e) {};\n",
    "            try {\n",
    "                if (conn != null) conn.close();\n",
    "            } catch (Exception e) {};\n",
    "        }\n",
    "    }\n",
    "}"
   ]
  },
  {
   "cell_type": "markdown",
   "metadata": {
    "slideshow": {
     "slide_type": "subslide"
    }
   },
   "source": [
    "* classpath가 설정된 경로는 /usr/share/java/mysql.jar 생략할 수 있다."
   ]
  },
  {
   "cell_type": "code",
   "execution_count": null,
   "metadata": {
    "collapsed": true,
    "slideshow": {
     "slide_type": "-"
    }
   },
   "outputs": [],
   "source": [
    "!javac -d classes/ -cp /usr/share/java/mysql.jar -sourcepath src/ src/com/sd/dao/v0/DaoMainV0.java \n",
    "!java -cp classes/:/usr/share/java/mysql.jar com.sd.dao.v0.DaoMainV0"
   ]
  },
  {
   "cell_type": "markdown",
   "metadata": {
    "slideshow": {
     "slide_type": "subslide"
    }
   },
   "source": [
    "* 실행하고 mysql cli로 확인한다.\n",
    "\n",
    "```\n",
    "mysql> use test;\n",
    "Database changed\n",
    "mysql> show tables;\n",
    "+----------------+\n",
    "| Tables_in_test |\n",
    "+----------------+\n",
    "| persons        |\n",
    "+----------------+\n",
    "\n",
    "mysql> describe persons;\n",
    "+---------+--------------+------+-----+---------+----------------+\n",
    "| Field   | Type         | Null | Key | Default | Extra          |\n",
    "+---------+--------------+------+-----+---------+----------------+\n",
    "| id      | int(64)      | NO   | PRI | NULL    | auto_increment |\n",
    "| name    | varchar(255) | NO   |     | NULL    |                |\n",
    "| address | varchar(255) | NO   |     | NULL    |                |\n",
    "+---------+--------------+------+-----+---------+----------------+\n",
    "\n",
    "mysql> select * from persons;\n",
    "+----+------+---------------+\n",
    "| id | name | address       |\n",
    "+----+------+---------------+\n",
    "| 42 | v0-1 | 1 Hongji Dong |\n",
    "| 43 | v0-2 | 2 Hongji Dong |\n",
    "| 44 | v0-3 | 3 Hongji Dong |\n",
    "+----+------+---------------+\n",
    "\n",
    "```"
   ]
  },
  {
   "cell_type": "markdown",
   "metadata": {
    "slideshow": {
     "slide_type": "slide"
    }
   },
   "source": [
    "#### v1 LIST DAO (no JDBC)\n",
    "\n",
    "* List로 구현해서 DAO를 사용한다. JDBC를 사용하지 않는다.\n",
    "    * List는 추상클래스, ArrayList를 생성한다.\n",
    "    * List에서 데이터를 가져오려면 인덱스. a.get(0)\n",
    "    * 삭제는 remove(0)"
   ]
  },
  {
   "cell_type": "code",
   "execution_count": 1,
   "metadata": {
    "collapsed": false,
    "slideshow": {
     "slide_type": "subslide"
    }
   },
   "outputs": [
    {
     "name": "stdout",
     "output_type": "stream",
     "text": [
      " List a = new List()\r\n",
      "|  Error:\r\n",
      "|  java.util.List is abstract; cannot be instantiated\r\n",
      "|  List a = new List();\r\n",
      "|           ^--------^\r\n",
      "\r\n"
     ]
    }
   ],
   "source": [
    "List a = new List()"
   ]
  },
  {
   "cell_type": "code",
   "execution_count": 3,
   "metadata": {
    "collapsed": false,
    "slideshow": {
     "slide_type": "subslide"
    }
   },
   "outputs": [
    {
     "name": "stdout",
     "output_type": "stream",
     "text": [
      " List a = new ArrayList()\r\n",
      "|  Modified variable a of type List with initial value []\r\n",
      "|    Update overwrote variable a\r\n",
      "\r\n",
      " a.add(\"a\")\r\n",
      "|  Warning:\r\n",
      "|  unchecked call to add(E) as a member of the raw type java.util.List\r\n",
      "|  a.add(\"a\")\r\n",
      "|  ^--------^\r\n",
      "|  Expression value is: true\r\n",
      "|    assigned to temporary variable $4 of type boolean\r\n",
      "\r\n",
      " a.get(0)\r\n",
      "|  Expression value is: \"a\"\r\n",
      "|    assigned to temporary variable $5 of type Object\r\n",
      "\r\n"
     ]
    }
   ],
   "source": [
    "List a = new ArrayList()\n",
    "a.add(\"a\")\n",
    "a.get(0)\n",
    "a.remove(0)"
   ]
  },
  {
   "cell_type": "code",
   "execution_count": null,
   "metadata": {
    "collapsed": false,
    "slideshow": {
     "slide_type": "subslide"
    }
   },
   "outputs": [],
   "source": [
    "# %load src/com/sd/dao/v1/Person.java\n",
    "package com.sd.dao.v1;\n",
    "public class Person {\n",
    "    private int id;\n",
    "    private String name;\n",
    "    Person(int id, String name){\n",
    "        this.id=id;\n",
    "        this.name=name;\n",
    "    }\n",
    "    public String getName() {\n",
    "        return name;\n",
    "    }\n",
    "    public void setName(String name) {\n",
    "        this.name=name;\n",
    "    }\n",
    "    public int getId() {\n",
    "        return id;\n",
    "    }\n",
    "    public void setId(int id) {\n",
    "        this.id=id;\n",
    "    }\n",
    "}"
   ]
  },
  {
   "cell_type": "code",
   "execution_count": null,
   "metadata": {
    "collapsed": false,
    "slideshow": {
     "slide_type": "subslide"
    }
   },
   "outputs": [],
   "source": [
    "# %load src/com/sd/dao/v1/PersonDao.java\n",
    "package com.sd.dao.v1;\n",
    "import java.util.List;\n",
    "\n",
    "public interface PersonDao {\n",
    "    public void insert(Person p);\n",
    "    public List<Person> findAll();\n",
    "    public Person findById(int id);\n",
    "    public void update(Person p);\n",
    "    public void delete(int id);\n",
    "    public void delete(Person p);\n",
    "}\n"
   ]
  },
  {
   "cell_type": "code",
   "execution_count": null,
   "metadata": {
    "collapsed": false,
    "slideshow": {
     "slide_type": "subslide"
    }
   },
   "outputs": [],
   "source": [
    "# %load src/com/sd/dao/v1/PersonDaoImpl.java\n",
    "package com.sd.dao.v1;\n",
    "import java.util.ArrayList;\n",
    "import java.util.List;\n",
    "\n",
    "public class PersonDaoImpl implements PersonDao {\n",
    "    List<Person> persons;\n",
    "    public PersonDaoImpl() {\n",
    "        persons = new ArrayList<Person>();\n",
    "    }\n",
    "    public void insert(Person p) {\n",
    "        persons.add(p);\n",
    "    }\n",
    "    public List<Person> findAll() {\n",
    "        return persons;\n",
    "    }\n",
    "    public Person findById(int id) {\n",
    "        return persons.get(id);\n",
    "    }\n",
    "    public void update(Person p) {\n",
    "        persons.get(p.getId()).setName(p.getName());\n",
    "        System.out.println(\"updating... \"+p.getId());\n",
    "    }\n",
    "    public void delete(int id) {\n",
    "        persons.remove(id);\n",
    "    }\n",
    "    public void delete(Person p) {\n",
    "        persons.remove(p.getId());\n",
    "        System.out.println(\"deleting... \"+p.getId());\n",
    "    }\n",
    "}\n"
   ]
  },
  {
   "cell_type": "code",
   "execution_count": null,
   "metadata": {
    "collapsed": false,
    "slideshow": {
     "slide_type": "subslide"
    }
   },
   "outputs": [],
   "source": [
    "# %load src/com/sd/dao/v1/DaoMainV1.java\n",
    "package com.sd.dao.v1;\n",
    "\n",
    "public class DaoMainV1 {\n",
    "    public static void main(String[] args) {\n",
    "        Person p;\n",
    "        PersonDao personDao = new PersonDaoImpl();\n",
    "\n",
    "        System.out.println(\"--- inserting...\");\n",
    "        p = new Person(0, \"js1\");\n",
    "        personDao.insert(p);\n",
    "        p = new Person(1, \"js2\");\n",
    "        personDao.insert(p);\n",
    "\n",
    "        System.out.println(\"--- finding all...\");\n",
    "        for (Person pi:personDao.findAll()) {\n",
    "            System.out.println(\"reading... \"+pi.getId() +\", \"+pi.getName());\n",
    "        }\n",
    "\n",
    "        System.out.println(\"--- updating...\");\n",
    "        p =personDao.findAll().get(0);\n",
    "        p.setName(\"js new\");\n",
    "        personDao.update(p);\n",
    "\n",
    "        System.out.println(\"--- see if updated...\");\n",
    "        p=personDao.findById(0);\n",
    "        System.out.println(p.getId() +\", \"+p.getName());\n",
    "\n",
    "        System.out.println(\"--- deleting...\");\n",
    "        personDao.delete(0);\n",
    "\n",
    "        System.out.println(\"--- finding all after deleting...\");\n",
    "        for (Person pi:personDao.findAll()) {\n",
    "            System.out.println(\"reading... \"+pi.getId() +\", \"+pi.getName());\n",
    "        }\n",
    "   }\n",
    "}\n"
   ]
  },
  {
   "cell_type": "code",
   "execution_count": null,
   "metadata": {
    "collapsed": true,
    "slideshow": {
     "slide_type": "subslide"
    }
   },
   "outputs": [],
   "source": [
    "!javac -d classes/ -sourcepath src/ src/com/sd/dao/v1/DaoMainV1.java\n",
    "!java com.sd.dao.v1.DaoMainV1"
   ]
  },
  {
   "cell_type": "markdown",
   "metadata": {
    "slideshow": {
     "slide_type": "slide"
    }
   },
   "source": [
    "#### v2 MySql DAO\n",
    "\n",
    "* 'persons' 테이블을 사용하여, CRUD를 수행한다.\n",
    "* CRUD 함수의 예\n",
    "```\n",
    "public void insert(Customer customer) throws CustomerDAOException;\n",
    "public void update(CustomerPK pk, Customer customer) throws CustomerDAOException;\n",
    "public void delete(CustomerPK pk) throws CustomerDAOException;\n",
    "public Customer[] findAll() throws CustomerDAOException;\n",
    "public Customer findByPrimaryKey(String email) throws CustomerDAOException;\n",
    "public Customer[] findByCompany(int companyId) throws CustomerDAOException;\n",
    "```"
   ]
  },
  {
   "cell_type": "code",
   "execution_count": 1,
   "metadata": {
    "collapsed": false,
    "slideshow": {
     "slide_type": "subslide"
    }
   },
   "outputs": [
    {
     "name": "stdout",
     "output_type": "stream",
     "text": [
      " /classpath /usr/share/java/mysql.jar\r\n",
      "|  Path '/usr/share/java/mysql.jar' added to classpath\r\n",
      "\r\n",
      " /classpath classes/\r\n",
      "|  Path 'classes/' added to classpath\r\n",
      "\r\n"
     ]
    }
   ],
   "source": [
    "/classpath /usr/share/java/mysql.jar\n",
    "/classpath classes/"
   ]
  },
  {
   "cell_type": "markdown",
   "metadata": {
    "slideshow": {
     "slide_type": "subslide"
    }
   },
   "source": [
    "* Singleton 패턴을 사용하여 Connection을 생성한다."
   ]
  },
  {
   "cell_type": "code",
   "execution_count": 2,
   "metadata": {
    "collapsed": false,
    "slideshow": {
     "slide_type": "-"
    }
   },
   "outputs": [
    {
     "name": "stdout",
     "output_type": "stream",
     "text": [
      " import java.sql.Connection;\r\n",
      "\r\n",
      " import com.sd.dao.v2.*;\r\n",
      "|    Update modified method printf(String,Object...)\r\n",
      "\r\n",
      " Connection conn=ConnectionFactory.getConnection();\r\n",
      "DB connecting...jdbc:mysql://localhost/test\r\n",
      "|  Added variable conn of type Connection with initial value com.mysql.jdbc.JDBC4Connection@36f0f1be\r\n",
      "\r\n"
     ]
    }
   ],
   "source": [
    "import java.sql.Connection;\n",
    "import com.sd.dao.v2.*;\n",
    "Connection conn=ConnectionFactory.getConnection();"
   ]
  },
  {
   "cell_type": "code",
   "execution_count": 5,
   "metadata": {
    "collapsed": false,
    "slideshow": {
     "slide_type": "subslide"
    }
   },
   "outputs": [
    {
     "data": {
      "image/svg+xml": [
       "<svg height=\"528px\" style=\"width:416px;height:528px;\" version=\"1.1\" viewBox=\"0 0 416 528\" width=\"416px\" xmlns=\"http://www.w3.org/2000/svg\" xmlns:xlink=\"http://www.w3.org/1999/xlink\"><defs><filter height=\"300%\" id=\"f1\" width=\"300%\" x=\"-1\" y=\"-1\"><feGaussianBlur result=\"blurOut\" stdDeviation=\"2.0\"/><feColorMatrix in=\"blurOut\" result=\"blurOut2\" type=\"matrix\" values=\"0 0 0 0 0 0 0 0 0 0 0 0 0 0 0 0 0 0 .4 0\"/><feOffset dx=\"4.0\" dy=\"4.0\" in=\"blurOut2\" result=\"blurOut3\"/><feBlend in=\"SourceGraphic\" in2=\"blurOut3\" mode=\"normal\"/></filter></defs><g><polygon fill=\"#FFFFFF\" filter=\"url(#f1)\" points=\"139,24,214,24,221,46.2969,293,46.2969,293,149,139,149,139,24\" style=\"stroke: #000000; stroke-width: 2.0;\"/><line style=\"stroke: #000000; stroke-width: 2.0;\" x1=\"139\" x2=\"221\" y1=\"46.2969\" y2=\"46.2969\"/><text fill=\"#000000\" font-family=\"sans-serif\" font-size=\"14\" font-weight=\"bold\" lengthAdjust=\"spacingAndGlyphs\" textLength=\"69\" x=\"143\" y=\"38.9951\">java.lang</text><polygon fill=\"#FFFFFF\" filter=\"url(#f1)\" points=\"22,173,87,173,94,195.2969,409,195.2969,409,521,22,521,22,173\" style=\"stroke: #000000; stroke-width: 2.0;\"/><line style=\"stroke: #000000; stroke-width: 2.0;\" x1=\"22\" x2=\"94\" y1=\"195.2969\" y2=\"195.2969\"/><text fill=\"#000000\" font-family=\"sans-serif\" font-size=\"14\" font-weight=\"bold\" lengthAdjust=\"spacingAndGlyphs\" textLength=\"59\" x=\"26\" y=\"187.9951\">java.sql</text><rect fill=\"#FEFECE\" filter=\"url(#f1)\" height=\"73.6094\" style=\"stroke: #A80036; stroke-width: 1.5;\" width=\"121\" x=\"155.5\" y=\"59\"/><ellipse cx=\"170.5\" cy=\"75\" fill=\"#B4A7E5\" rx=\"11\" ry=\"11\" style=\"stroke: #A80036; stroke-width: 1.0;\"/><path d=\"M166.4219,70.7656 L166.4219,68.6094 L173.8125,68.6094 L173.8125,70.7656 L171.3438,70.7656 L171.3438,78.8438 L173.8125,78.8438 L173.8125,81 L166.4219,81 L166.4219,78.8438 L168.8906,78.8438 L168.8906,70.7656 L166.4219,70.7656 Z \"/><text fill=\"#000000\" font-family=\"sans-serif\" font-size=\"12\" font-style=\"italic\" lengthAdjust=\"spacingAndGlyphs\" textLength=\"89\" x=\"184.5\" y=\"79.1543\">AutoCloseable</text><line style=\"stroke: #A80036; stroke-width: 1.5;\" x1=\"156.5\" x2=\"275.5\" y1=\"91\" y2=\"91\"/><line style=\"stroke: #A80036; stroke-width: 1.5;\" x1=\"156.5\" x2=\"275.5\" y1=\"99\" y2=\"99\"/><text fill=\"#000000\" font-family=\"sans-serif\" font-size=\"11\" lengthAdjust=\"spacingAndGlyphs\" textLength=\"23\" x=\"161.5\" y=\"113.2104\">void</text><text fill=\"#000000\" font-family=\"sans-serif\" font-size=\"11\" lengthAdjust=\"spacingAndGlyphs\" textLength=\"38\" x=\"161.5\" y=\"126.0151\">close()</text><rect fill=\"#FEFECE\" filter=\"url(#f1)\" height=\"124.8281\" style=\"stroke: #A80036; stroke-width: 1.5;\" width=\"159\" x=\"234.5\" y=\"208\"/><ellipse cx=\"276.95\" cy=\"224\" fill=\"#B4A7E5\" rx=\"11\" ry=\"11\" style=\"stroke: #A80036; stroke-width: 1.0;\"/><path d=\"M272.8719,219.7656 L272.8719,217.6094 L280.2625,217.6094 L280.2625,219.7656 L277.7938,219.7656 L277.7938,227.8438 L280.2625,227.8438 L280.2625,230 L272.8719,230 L272.8719,227.8438 L275.3406,227.8438 L275.3406,219.7656 L272.8719,219.7656 Z \"/><text fill=\"#000000\" font-family=\"sans-serif\" font-size=\"12\" font-style=\"italic\" lengthAdjust=\"spacingAndGlyphs\" textLength=\"66\" x=\"297.05\" y=\"228.1543\">Statement</text><line style=\"stroke: #A80036; stroke-width: 1.5;\" x1=\"235.5\" x2=\"392.5\" y1=\"240\" y2=\"240\"/><line style=\"stroke: #A80036; stroke-width: 1.5;\" x1=\"235.5\" x2=\"392.5\" y1=\"248\" y2=\"248\"/><text fill=\"#000000\" font-family=\"sans-serif\" font-size=\"11\" lengthAdjust=\"spacingAndGlyphs\" textLength=\"45\" x=\"240.5\" y=\"262.2104\">boolean</text><text fill=\"#000000\" font-family=\"sans-serif\" font-size=\"11\" lengthAdjust=\"spacingAndGlyphs\" textLength=\"107\" x=\"240.5\" y=\"275.0151\">execute(String sql)</text><text fill=\"#000000\" font-family=\"sans-serif\" font-size=\"11\" lengthAdjust=\"spacingAndGlyphs\" textLength=\"54\" x=\"240.5\" y=\"287.8198\">ResultSet</text><text fill=\"#000000\" font-family=\"sans-serif\" font-size=\"11\" lengthAdjust=\"spacingAndGlyphs\" textLength=\"141\" x=\"240.5\" y=\"300.6245\">executeQuery(String sql)</text><text fill=\"#000000\" font-family=\"sans-serif\" font-size=\"11\" lengthAdjust=\"spacingAndGlyphs\" textLength=\"14\" x=\"240.5\" y=\"313.4292\">int</text><text fill=\"#000000\" font-family=\"sans-serif\" font-size=\"11\" lengthAdjust=\"spacingAndGlyphs\" textLength=\"147\" x=\"240.5\" y=\"326.2339\">executeUpdate(String sql)</text><rect fill=\"#FEFECE\" filter=\"url(#f1)\" height=\"112.0234\" style=\"stroke: #A80036; stroke-width: 1.5;\" width=\"269\" x=\"123.5\" y=\"393\"/><ellipse cx=\"192.25\" cy=\"409\" fill=\"#B4A7E5\" rx=\"11\" ry=\"11\" style=\"stroke: #A80036; stroke-width: 1.0;\"/><path d=\"M188.1719,404.7656 L188.1719,402.6094 L195.5625,402.6094 L195.5625,404.7656 L193.0938,404.7656 L193.0938,412.8438 L195.5625,412.8438 L195.5625,415 L188.1719,415 L188.1719,412.8438 L190.6406,412.8438 L190.6406,404.7656 L188.1719,404.7656 Z \"/><text fill=\"#000000\" font-family=\"sans-serif\" font-size=\"12\" font-style=\"italic\" lengthAdjust=\"spacingAndGlyphs\" textLength=\"123\" x=\"212.75\" y=\"413.1543\">PreparedStatement</text><line style=\"stroke: #A80036; stroke-width: 1.5;\" x1=\"124.5\" x2=\"391.5\" y1=\"425\" y2=\"425\"/><line style=\"stroke: #A80036; stroke-width: 1.5;\" x1=\"124.5\" x2=\"391.5\" y1=\"433\" y2=\"433\"/><ellipse cx=\"134.5\" cy=\"444.9023\" fill=\"#84BE84\" rx=\"3\" ry=\"3\" style=\"stroke: #038048; stroke-width: 1.0;\"/><text fill=\"#000000\" font-family=\"sans-serif\" font-size=\"11\" lengthAdjust=\"spacingAndGlyphs\" textLength=\"101\" x=\"143.5\" y=\"447.2104\">execute():boolean</text><ellipse cx=\"134.5\" cy=\"457.707\" fill=\"#84BE84\" rx=\"3\" ry=\"3\" style=\"stroke: #038048; stroke-width: 1.0;\"/><text fill=\"#000000\" font-family=\"sans-serif\" font-size=\"11\" lengthAdjust=\"spacingAndGlyphs\" textLength=\"144\" x=\"143.5\" y=\"460.0151\">executeQuery():ResultSet</text><ellipse cx=\"134.5\" cy=\"470.5117\" fill=\"#84BE84\" rx=\"3\" ry=\"3\" style=\"stroke: #038048; stroke-width: 1.0;\"/><text fill=\"#000000\" font-family=\"sans-serif\" font-size=\"11\" lengthAdjust=\"spacingAndGlyphs\" textLength=\"110\" x=\"143.5\" y=\"472.8198\">executeUpdate():int</text><ellipse cx=\"134.5\" cy=\"483.3164\" fill=\"#84BE84\" rx=\"3\" ry=\"3\" style=\"stroke: #038048; stroke-width: 1.0;\"/><text fill=\"#000000\" font-family=\"sans-serif\" font-size=\"11\" lengthAdjust=\"spacingAndGlyphs\" textLength=\"223\" x=\"143.5\" y=\"485.6245\">setInt(parameterIndex:int,x:String):void</text><ellipse cx=\"134.5\" cy=\"496.1211\" fill=\"#84BE84\" rx=\"3\" ry=\"3\" style=\"stroke: #038048; stroke-width: 1.0;\"/><text fill=\"#000000\" font-family=\"sans-serif\" font-size=\"11\" lengthAdjust=\"spacingAndGlyphs\" textLength=\"243\" x=\"143.5\" y=\"498.4292\">setString(parameterIndex:int,x:String):void</text><rect fill=\"#FEFECE\" filter=\"url(#f1)\" height=\"99.2188\" style=\"stroke: #A80036; stroke-width: 1.5;\" width=\"161\" x=\"38.5\" y=\"221\"/><ellipse cx=\"85.25\" cy=\"237\" fill=\"#B4A7E5\" rx=\"11\" ry=\"11\" style=\"stroke: #A80036; stroke-width: 1.0;\"/><path d=\"M81.1719,232.7656 L81.1719,230.6094 L88.5625,230.6094 L88.5625,232.7656 L86.0938,232.7656 L86.0938,240.8438 L88.5625,240.8438 L88.5625,243 L81.1719,243 L81.1719,240.8438 L83.6406,240.8438 L83.6406,232.7656 L81.1719,232.7656 Z \"/><text fill=\"#000000\" font-family=\"sans-serif\" font-size=\"12\" font-style=\"italic\" lengthAdjust=\"spacingAndGlyphs\" textLength=\"59\" x=\"105.75\" y=\"241.1543\">ResultSet</text><line style=\"stroke: #A80036; stroke-width: 1.5;\" x1=\"39.5\" x2=\"198.5\" y1=\"253\" y2=\"253\"/><line style=\"stroke: #A80036; stroke-width: 1.5;\" x1=\"39.5\" x2=\"198.5\" y1=\"261\" y2=\"261\"/><text fill=\"#000000\" font-family=\"sans-serif\" font-size=\"11\" lengthAdjust=\"spacingAndGlyphs\" textLength=\"14\" x=\"44.5\" y=\"275.2104\">int</text><text fill=\"#000000\" font-family=\"sans-serif\" font-size=\"11\" lengthAdjust=\"spacingAndGlyphs\" textLength=\"129\" x=\"44.5\" y=\"288.0151\">getInt(int columnIndex)</text><text fill=\"#000000\" font-family=\"sans-serif\" font-size=\"11\" lengthAdjust=\"spacingAndGlyphs\" textLength=\"34\" x=\"44.5\" y=\"300.8198\">String</text><text fill=\"#000000\" font-family=\"sans-serif\" font-size=\"11\" lengthAdjust=\"spacingAndGlyphs\" textLength=\"149\" x=\"44.5\" y=\"313.6245\">getString(int columnIndex)</text><path d=\"M246.526,150.732 C256.823,168.857 268.396,189.227 279.011,207.911 \" fill=\"none\" style=\"stroke: #A80036; stroke-width: 1.0;\"/><polygon fill=\"none\" points=\"240.337,154.009,236.544,133.162,252.51,147.094,240.337,154.009\" style=\"stroke: #A80036; stroke-width: 1.0;\"/><path d=\"M185.818,150.673 C173.186,173.138 158.61,199.06 146.301,220.949 \" fill=\"none\" style=\"stroke: #A80036; stroke-width: 1.0;\"/><polygon fill=\"none\" points=\"179.761,147.164,195.666,133.162,191.964,154.026,179.761,147.164\" style=\"stroke: #A80036; stroke-width: 1.0;\"/><path d=\"M288.364,352.298 C284.018,365.997 279.595,379.938 275.518,392.786 \" fill=\"none\" style=\"stroke: #A80036; stroke-width: 1.0;\"/><polygon fill=\"none\" points=\"281.693,350.178,294.414,333.231,295.038,354.412,281.693,350.178\" style=\"stroke: #A80036; stroke-width: 1.0;\"/></g></svg>"
      ],
      "text/plain": [
       "<IPython.core.display.SVG object>"
      ]
     },
     "execution_count": 5,
     "metadata": {},
     "output_type": "execute_result"
    }
   ],
   "source": [
    "%%plantuml\n",
    "\n",
    "@startuml\n",
    "interface java.lang.AutoCloseable {\n",
    "    +close():void\n",
    "}\n",
    "interface java.sql.Statement {\n",
    "    +execute(String sql):boolean\n",
    "    +executeQuery(sql:String):ResultSet\n",
    "    +executeUpdate(sql:String):int\n",
    "}\n",
    "interface java.sql.PreparedStatement {\n",
    "    +execute():boolean\n",
    "    +executeQuery():ResultSet\n",
    "    +executeUpdate():int\n",
    "    +setInt(parameterIndex:int,x:String):void\n",
    "    +setString(parameterIndex:int,x:String):void\n",
    "}\n",
    "interface java.sql.ResultSet {\n",
    "    +getInt(int columnIndex):int\n",
    "    +getString(int columnIndex):String\n",
    "}\n",
    "java.lang.AutoCloseable <|-- java.sql.Statement\n",
    "java.lang.AutoCloseable <|-- java.sql.ResultSet\n",
    "java.sql.Statement <|-- java.sql.PreparedStatement\n",
    "@enduml"
   ]
  },
  {
   "cell_type": "markdown",
   "metadata": {
    "slideshow": {
     "slide_type": "subslide"
    }
   },
   "source": [
    "* PreparedStatment vs Statement\n",
    "    * 동적으로 Sql문을 만들 수 있다.\n",
    "```\n",
    "conn.prepareStatement(\"INSERT INTO persons(id,name,address) VALUES(NULL,?,?)\")\n",
    "```\n",
    "\n",
    "구분 | 설명\n",
    "-----|-----\n",
    "boolean execute() | SQL문을 실행한다.\n",
    "ResultSet executeQuery() | SQL query문을 실행하고 ResultSet 반환\n",
    "int executeUpdate() | SQL INSERT, UPDATE, DELETE 또는 DDL문. 실행된 레코드 수를 반환한다."
   ]
  },
  {
   "cell_type": "markdown",
   "metadata": {
    "slideshow": {
     "slide_type": "subslide"
    }
   },
   "source": [
    "* ResultSet\n",
    "    * 'findById()' 함수는 1행을 검색한다. 이경우 if문으로 ResultSet\n",
    "    * 'findAll() 함수는 n행을 검색한다. while문을 사용한다."
   ]
  },
  {
   "cell_type": "code",
   "execution_count": 4,
   "metadata": {
    "collapsed": false,
    "slideshow": {
     "slide_type": "subslide"
    }
   },
   "outputs": [
    {
     "name": "stdout",
     "output_type": "stream",
     "text": [
      " import java.sql.ResultSet;\r\n",
      "\r\n",
      " import java.sql.Statement;\r\n",
      "\r\n",
      " Statement statement = conn.createStatement();\r\n",
      "|  Modified variable statement of type Statement with initial value com.mysql.jdbc.StatementImpl@568bf312\r\n",
      "|    Update overwrote variable statement\r\n",
      "\r\n",
      " ResultSet rs = statement.executeQuery(\"SELECT * FROM persons\");\r\n",
      "|  Modified variable rs of type ResultSet with initial value com.mysql.jdbc.JDBC42ResultSet@ca263c2\r\n",
      "|    Update overwrote variable rs\r\n",
      "\r\n",
      " while (rs.next()) {\r\n",
      "     System.out.println(rs.getInt(1)+\"\\t\"+rs.getString(2));\r\n",
      " }\r\n",
      "39\tjs1\r\n",
      "40\tjs2\r\n",
      "\r\n"
     ]
    }
   ],
   "source": [
    "import java.sql.ResultSet;\n",
    "import java.sql.Statement;\n",
    "Statement statement = conn.createStatement();\n",
    "ResultSet rs = statement.executeQuery(\"SELECT * FROM persons\");\n",
    "while (rs.next()) {\n",
    "    System.out.println(rs.getInt(1)+\"\\t\"+rs.getString(2));\n",
    "}"
   ]
  },
  {
   "cell_type": "markdown",
   "metadata": {
    "slideshow": {
     "slide_type": "subslide"
    }
   },
   "source": [
    "* 자원의 해제\n",
    "    * Statement 객체를 해제하면 ResultSet도 해제한다.\n",
    "    * 그러나 close()함수를 사용하여 Statement, ResultSet, Connection을 해제한다.\n",
    "```\n",
    "personDAOImpl.close();\n",
    "```"
   ]
  },
  {
   "cell_type": "code",
   "execution_count": null,
   "metadata": {
    "collapsed": true,
    "slideshow": {
     "slide_type": "subslide"
    }
   },
   "outputs": [],
   "source": [
    "# %load src/com/sd/dao/v2/ConnectionFactory.java\n",
    "package com.sd.dao.v2;\n",
    "\n",
    "import java.sql.Connection;\n",
    "import java.sql.DriverManager;\n",
    "import java.sql.SQLException;\n",
    "import java.util.Properties;\n",
    "import java.io.FileInputStream;\n",
    "import java.io.FileNotFoundException;\n",
    "import java.io.IOException;\n",
    "\n",
    "public class ConnectionFactory {\n",
    "    private static Connection conn=null;\n",
    "    private ConnectionFactory() {}\n",
    "    public static Connection getConnection() {\n",
    "        try {\n",
    "            String path = System.getProperty(\"user.dir\");\n",
    "            path += \"/src/mysql.properties\";\n",
    "            Properties prop = new Properties();\n",
    "            prop.load(new FileInputStream(path));\n",
    "            System.out.println(\"* DB connecting...\"+prop.getProperty(\"URL\"));\n",
    "            Class.forName(\"com.mysql.jdbc.Driver\");\n",
    "            if(conn == null)\n",
    "                conn = DriverManager.getConnection(\n",
    "                    prop.getProperty(\"URL\")+\"?useSSL=true\",\n",
    "                    prop.getProperty(\"USER\"),\n",
    "                    prop.getProperty(\"PASSWORD\")\n",
    "                );\n",
    "        } catch (IOException e) {\n",
    "            e.printStackTrace();\n",
    "        } catch (ClassNotFoundException e) {\n",
    "            e.printStackTrace();\n",
    "        } catch (SQLException e) {\n",
    "            e.printStackTrace();\n",
    "        }\n",
    "        return conn;\n",
    "    }\n",
    "}\n"
   ]
  },
  {
   "cell_type": "code",
   "execution_count": null,
   "metadata": {
    "collapsed": false,
    "slideshow": {
     "slide_type": "subslide"
    }
   },
   "outputs": [],
   "source": [
    "# %load src/com/sd/dao/v2/PersonVO.java\n",
    "package com.sd.dao.v2;\n",
    "\n",
    "public class PersonVO {\n",
    "    private int id;\n",
    "    private String name;\n",
    "    private String address;\n",
    "    public int getId() {\n",
    "        return id;\n",
    "    }\n",
    "    public void setId(int id) {\n",
    "        this.id = id;\n",
    "    }\n",
    "    public String getName() {\n",
    "        return name;\n",
    "    }\n",
    "    public void setName(String name) {\n",
    "        this.name = name;\n",
    "    }\n",
    "    public String getAddress() {\n",
    "        return address;\n",
    "    }\n",
    "    public void setAddress(String address) {\n",
    "        this.address = address;\n",
    "    }\n",
    "    public String toString(){\n",
    "        return \"ID: \"+id+\" Name: \"+name+\" Address: \"+address;\n",
    "    }\n",
    "}"
   ]
  },
  {
   "cell_type": "code",
   "execution_count": null,
   "metadata": {
    "collapsed": true,
    "slideshow": {
     "slide_type": "subslide"
    }
   },
   "outputs": [],
   "source": [
    "# %load src/com/sd/dao/v2/PersonDAO.java\n",
    "package com.sd.dao.v2;\n",
    "\n",
    "import java.util.List;\n",
    "\n",
    "public interface PersonDAO {\n",
    "    public void insert(PersonVO person);\n",
    "    public List<PersonVO> findAll();\n",
    "    public PersonVO findById(int id);\n",
    "    public void update(PersonVO person);\n",
    "    public void delete(int id);\n",
    "}\n"
   ]
  },
  {
   "cell_type": "code",
   "execution_count": null,
   "metadata": {
    "collapsed": false,
    "slideshow": {
     "slide_type": "subslide"
    }
   },
   "outputs": [],
   "source": [
    "# %load src/com/sd/dao/v2/PersonDAOImpl.java\n",
    "package com.sd.dao.v2;\n",
    "\n",
    "import java.sql.Connection;\n",
    "import java.sql.DriverManager;\n",
    "import java.sql.PreparedStatement;\n",
    "import java.sql.ResultSet;\n",
    "import java.sql.SQLException;\n",
    "import java.sql.Statement;\n",
    "import java.util.ArrayList;\n",
    "import java.util.List;\n",
    "import java.util.Properties;\n",
    "import java.io.FileInputStream;\n",
    "import java.io.FileNotFoundException;\n",
    "import java.io.IOException;\n",
    "\n",
    "public class PersonDAOImpl implements PersonDAO {\n",
    "    Connection conn=ConnectionFactory.getConnection();\n",
    "    PreparedStatement pstmt=null;\n",
    "    ResultSet rs=null;\n",
    "    public void insert(PersonVO person) {\n",
    "        try {\n",
    "            pstmt = conn.prepareStatement(\"INSERT INTO persons(id,name,address) VALUES(NULL,?,?)\");\n",
    "            pstmt.setString(1, person.getName());\n",
    "            pstmt.setString(2, person.getAddress());\n",
    "            System.out.println(\"* inserting...\"+person.getName()+person.getAddress());\n",
    "            pstmt.executeUpdate();\n",
    "        } catch (SQLException e) {\n",
    "            e.printStackTrace();\n",
    "        }\n",
    "    }\n",
    "    public PersonVO findById(int id) {\n",
    "        PersonVO person=null;\n",
    "        try {\n",
    "            pstmt = conn.prepareStatement(\"SELECT * FROM persons WHERE id=?\");\n",
    "            pstmt.setInt(1, id);\n",
    "            System.out.println(\"* finding by id...\"+id);\n",
    "            rs = pstmt.executeQuery();\n",
    "            if(rs.next()) {\n",
    "                person = new PersonVO();\n",
    "                person.setId(rs.getInt(\"id\"));\n",
    "                person.setName(rs.getString(\"name\"));\n",
    "                person.setAddress(rs.getString(\"address\"));\n",
    "            }\n",
    "        } catch (SQLException e) {\n",
    "            e.printStackTrace();\n",
    "        }\n",
    "        return person;\n",
    "    }\n",
    "    public List<PersonVO> findAll() {\n",
    "        Statement stmt=null;\n",
    "        List<PersonVO> persons = new ArrayList<PersonVO>();\n",
    "        try {\n",
    "            stmt = conn.createStatement();\n",
    "            rs = stmt.executeQuery(\"SELECT * FROM persons\");\n",
    "            PersonVO person = null;\n",
    "            while(rs.next()){\n",
    "                person = new PersonVO();\n",
    "                //person.setId(Integer.parseInt(rs.getString(\"id\")));\n",
    "                person.setId(rs.getInt(\"id\"));\n",
    "                person.setName(rs.getString(\"name\"));\n",
    "                person.setAddress(rs.getString(\"address\"));\n",
    "                persons.add(person);\n",
    "            }\n",
    "        } catch (SQLException e) {\n",
    "            e.printStackTrace();\n",
    "        } finally {\n",
    "            try {\n",
    "                if(stmt != null) stmt.close();\n",
    "            } catch (Exception e) {};\n",
    "\t}\n",
    "        System.out.println(\"* finding all...\"+persons);\n",
    "        return persons;\n",
    "    }\n",
    "    public void update(PersonVO person) {\n",
    "        try {\n",
    "            pstmt = conn.prepareStatement(\"UPDATE persons SET name=?,address=? WHERE id=?\"); \n",
    "            pstmt.setString(1, person.getName());\n",
    "            pstmt.setString(2, person.getAddress());\n",
    "            pstmt.setInt(3, person.getId());\n",
    "            System.out.println(\"* updating...\"+person.getName());\n",
    "            pstmt.executeUpdate();\n",
    "        } catch (SQLException e) {\n",
    "            e.printStackTrace();\n",
    "        }\n",
    "    }\n",
    "    public void delete(int id) {\n",
    "        try {\n",
    "            pstmt = conn.prepareStatement(\"DELETE FROM persons WHERE id=?\");\n",
    "            pstmt.setInt(1, id);\n",
    "            int rows=pstmt.executeUpdate();\n",
    "\t    if (rows == 0) {  \n",
    "\t\tSystem.out.println(\"!can not delete...\"+id+\" does not exist!\");\n",
    "\t    } else if (rows > 0) {  \n",
    "\t\tSystem.out.println(\"* deleting...\"+id);\n",
    "\t    } \n",
    "        } catch (SQLException e) {\n",
    "            e.printStackTrace();\n",
    "        }\n",
    "    }\n",
    "    public void close() {\n",
    "        System.out.println(\"* closing all...\");\n",
    "        try {\n",
    "            if (rs != null) rs.close();\n",
    "            if (pstmt != null) pstmt.close();\n",
    "            if (conn != null) conn.close();\n",
    "        } catch (Exception e) {\n",
    "\t    e.printStackTrace();\n",
    "\t}\n",
    "    }\n",
    "}\n"
   ]
  },
  {
   "cell_type": "code",
   "execution_count": null,
   "metadata": {
    "collapsed": false,
    "slideshow": {
     "slide_type": "subslide"
    }
   },
   "outputs": [],
   "source": [
    "# %load src/com/sd/dao/v2/DaoMainV2.java\n",
    "package com.sd.dao.v2;\n",
    "\n",
    "import java.util.List;\n",
    "import java.util.Iterator;\n",
    "\n",
    "public class DaoMainV2 {\n",
    "    public static void main(String args[]){\n",
    "        PersonDAOImpl personDAOImpl = new PersonDAOImpl();\n",
    "        PersonVO person = new PersonVO();\n",
    "\n",
    "        person.setName(\"js1\");\n",
    "        person.setAddress(\"1 Hongji-dong\");\n",
    "        personDAOImpl.insert(person);\n",
    "\n",
    "        person.setName(\"js2\");\n",
    "        person.setAddress(\"2 Hongji-dong\");\n",
    "        personDAOImpl.insert(person);\n",
    "\n",
    "        List persons=personDAOImpl.findAll();\n",
    "        Iterator iter=persons.iterator();\n",
    "        while(iter.hasNext()) {\n",
    "            person=(PersonVO)iter.next();\n",
    "            System.out.println(person.toString());\n",
    "        }\n",
    "\n",
    "        personDAOImpl.delete(1);\n",
    "\n",
    "        person.setId(2);\n",
    "        person.setName(\"js2 updated\");\n",
    "        person.setAddress(\"2 Hongji-dong updated\");\n",
    "        personDAOImpl.update(person);\n",
    "\n",
    "        person=personDAOImpl.findById(2);\n",
    "        System.out.println(\"found by id...\"+person);\n",
    "\n",
    "        personDAOImpl.close();\n",
    "    }\n",
    "}\n"
   ]
  },
  {
   "cell_type": "code",
   "execution_count": null,
   "metadata": {
    "collapsed": true,
    "slideshow": {
     "slide_type": "subslide"
    }
   },
   "outputs": [],
   "source": [
    "!javac -d classes/ -cp /usr/share/java/mysql.jar -sourcepath src/ src/com/sd/dao/v2/*.java\n",
    "!java -cp classes/:/usr/share/java/mysql.jar com.sd.dao.v2.DaoMainV2 "
   ]
  },
  {
   "cell_type": "markdown",
   "metadata": {
    "slideshow": {
     "slide_type": "subslide"
    }
   },
   "source": [
    "* mysql cli로 확인\n",
    "```\n",
    "$ mysql -u root -p\n",
    "mysql> use test;\n",
    "mysql> select * from persons;\n",
    "+----+--------------+---------------+\n",
    "| id | name         | address       |\n",
    "+----+--------------+---------------+\n",
    "|  1 | js1          | 1 Hongji-dong |\n",
    "|  1 | js2          | 2 Hongji-dong |\n",
    "+----+--------------+---------------+\n",
    "```"
   ]
  }
 ],
 "metadata": {
  "celltoolbar": "Slideshow",
  "kernelspec": {
   "display_name": "Python 2",
   "language": "python",
   "name": "python2"
  },
  "language_info": {
   "codemirror_mode": {
    "name": "ipython",
    "version": 2
   },
   "file_extension": ".py",
   "mimetype": "text/x-python",
   "name": "python",
   "nbconvert_exporter": "python",
   "pygments_lexer": "ipython2",
   "version": "2.7.12"
  }
 },
 "nbformat": 4,
 "nbformat_minor": 0
}
