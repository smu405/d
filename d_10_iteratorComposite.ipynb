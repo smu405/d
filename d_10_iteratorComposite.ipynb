{
 "cells": [
  {
   "cell_type": "markdown",
   "metadata": {
    "slideshow": {
     "slide_type": "slide"
    }
   },
   "source": [
    "# Iterator 패턴\n",
    "\n",
    "## I.1 소개\n",
    "\n",
    "* Iterator패턴은 Behavioral Design Pattern\n",
    "* Collection은 Array, List, Hashtable, Stack 등 여러 방식으로 구현될 수 있다.\n",
    "* 이런 경우 Collection의 성격에 따라 API가 서로 다르게 된다. Iterator패턴은 이를 일관되게 만들어 준다.\n",
    "* 데이터요소를 읽는 방식을 은익:\n",
    "    * \"provides a way to access the elements of an aggregate object sequentially without exposing in underlying representation\"\n",
    "    * 서로 다른 인터페이스를 동일하게 변환 Polymorphic traversal\n",
    "    * adpater pattern과 비교 - behavioral pattern"
   ]
  },
  {
   "cell_type": "markdown",
   "metadata": {
    "slideshow": {
     "slide_type": "subslide"
    }
   },
   "source": [
    "* 디자인패턴 요소\n",
    "\n",
    "요소 | 설명\n",
    "---|---\n",
    "name | Iterator\n",
    "problem | Collection의 iteration API가 서로 다름.\n",
    "solution | iteration 기능 분리 (Single Responsibility)\n",
    "consequence | 변경 최소화"
   ]
  },
  {
   "cell_type": "markdown",
   "metadata": {
    "slideshow": {
     "slide_type": "subslide"
    }
   },
   "source": [
    "* 프로그래맹 예제\n",
    "    * 메뉴\n",
    "    * enumerators vs iterators\n",
    "\n",
    "기능 | enumerators | iterators\n",
    "-----|-----|-----\n",
    "다음 항목이 있는지 확인 | hasMoreElements() | hasNext()\n",
    "다음 항목 가져오기 | nextElement() | next()\n",
    "\n",
    "* 과제\n",
    "    * case extension\n",
    "        * 자신의 메뉴 (한글로) 3개 추가\n",
    "            * vegetarian true\n",
    "            * iterator.dinermenu.after\n",
    "        * 위 MenuItem에 대해 ArrayListIterator, ArrayIterator 구현, test하기.\n",
    "    * new case\n",
    "        * composite iterator - 커피메뉴 추가\n"
   ]
  },
  {
   "cell_type": "markdown",
   "metadata": {
    "slideshow": {
     "slide_type": "slide"
    }
   },
   "source": [
    "## I.2. 문제\n",
    "\n",
    "* 객체의 API가 서로 다르다. 예: ArrayList, Array\n",
    "\n",
    "ArrayList | Array\n",
    "---|---\n",
    "ArrayList는 크기를 변경할 수 있다 | Array는 크기 변경 불가\n",
    "ArrayList에는 Object만 넣을 수 있슴 | Array는 Primitives + Object모두 가능.\n",
    "ArrayList는 size(),  get(i) | Array는 length, [i] (인덱스방식) (p.323)\n",
    "PancakeHouseMenu는 ArrayList |DinerMenus는 Array (MenuItem[])\n",
    "\n",
    "* Iterator를 사용하지 않고 ArrayList, Array를 사용하면, 서로 다른 API로 인해 중복이 발생하게 된다.\n"
   ]
  },
  {
   "cell_type": "code",
   "execution_count": 2,
   "metadata": {
    "collapsed": true,
    "slideshow": {
     "slide_type": "subslide"
    }
   },
   "outputs": [],
   "source": [
    "import iplantuml"
   ]
  },
  {
   "cell_type": "code",
   "execution_count": 6,
   "metadata": {
    "collapsed": false,
    "slideshow": {
     "slide_type": "-"
    }
   },
   "outputs": [
    {
     "data": {
      "image/svg+xml": [
       "<svg height=\"335px\" style=\"width:320px;height:335px;\" version=\"1.1\" viewBox=\"0 0 320 335\" width=\"320px\" xmlns=\"http://www.w3.org/2000/svg\" xmlns:xlink=\"http://www.w3.org/1999/xlink\"><defs><filter height=\"300%\" id=\"f1\" width=\"300%\" x=\"-1\" y=\"-1\"><feGaussianBlur result=\"blurOut\" stdDeviation=\"2.0\"/><feColorMatrix in=\"blurOut\" result=\"blurOut2\" type=\"matrix\" values=\"0 0 0 0 0 0 0 0 0 0 0 0 0 0 0 0 0 0 .4 0\"/><feOffset dx=\"4.0\" dy=\"4.0\" in=\"blurOut2\" result=\"blurOut3\"/><feBlend in=\"SourceGraphic\" in2=\"blurOut3\" mode=\"normal\"/></filter></defs><g><text fill=\"#000000\" font-family=\"sans-serif\" font-size=\"18\" lengthAdjust=\"spacingAndGlyphs\" textLength=\"69\" x=\"134.5\" y=\"16.708\">before1</text><rect fill=\"#FEFECE\" filter=\"url(#f1)\" height=\"48\" style=\"stroke: #A80036; stroke-width: 1.5;\" width=\"85\" x=\"32.5\" y=\"278.9531\"/><ellipse cx=\"47.5\" cy=\"294.9531\" fill=\"#ADD1B2\" rx=\"11\" ry=\"11\" style=\"stroke: #A80036; stroke-width: 1.0;\"/><path d=\"M50.4688,300.5938 Q49.8906,300.8906 49.25,301.0391 Q48.6094,301.1875 47.9063,301.1875 Q45.4063,301.1875 44.0859,299.5391 Q42.7656,297.8906 42.7656,294.7656 Q42.7656,291.6406 44.0859,289.9844 Q45.4063,288.3281 47.9063,288.3281 Q48.6094,288.3281 49.2578,288.4844 Q49.9063,288.6406 50.4688,288.9375 L50.4688,291.6563 Q49.8438,291.0781 49.25,290.8047 Q48.6563,290.5313 48.0313,290.5313 Q46.6875,290.5313 46,291.6016 Q45.3125,292.6719 45.3125,294.7656 Q45.3125,296.8594 46,297.9297 Q46.6875,299 48.0313,299 Q48.6563,299 49.25,298.7266 Q49.8438,298.4531 50.4688,297.875 L50.4688,300.5938 Z \"/><text fill=\"#000000\" font-family=\"sans-serif\" font-size=\"12\" lengthAdjust=\"spacingAndGlyphs\" textLength=\"53\" x=\"61.5\" y=\"299.1074\">ArrayList</text><line style=\"stroke: #A80036; stroke-width: 1.5;\" x1=\"33.5\" x2=\"116.5\" y1=\"310.9531\" y2=\"310.9531\"/><line style=\"stroke: #A80036; stroke-width: 1.5;\" x1=\"33.5\" x2=\"116.5\" y1=\"318.9531\" y2=\"318.9531\"/><rect fill=\"#FEFECE\" filter=\"url(#f1)\" height=\"48\" style=\"stroke: #A80036; stroke-width: 1.5;\" width=\"64\" x=\"219\" y=\"278.9531\"/><ellipse cx=\"234\" cy=\"294.9531\" fill=\"#ADD1B2\" rx=\"11\" ry=\"11\" style=\"stroke: #A80036; stroke-width: 1.0;\"/><path d=\"M236.9688,300.5938 Q236.3906,300.8906 235.75,301.0391 Q235.1094,301.1875 234.4063,301.1875 Q231.9063,301.1875 230.5859,299.5391 Q229.2656,297.8906 229.2656,294.7656 Q229.2656,291.6406 230.5859,289.9844 Q231.9063,288.3281 234.4063,288.3281 Q235.1094,288.3281 235.7578,288.4844 Q236.4063,288.6406 236.9688,288.9375 L236.9688,291.6563 Q236.3438,291.0781 235.75,290.8047 Q235.1563,290.5313 234.5313,290.5313 Q233.1875,290.5313 232.5,291.6016 Q231.8125,292.6719 231.8125,294.7656 Q231.8125,296.8594 232.5,297.9297 Q233.1875,299 234.5313,299 Q235.1563,299 235.75,298.7266 Q236.3438,298.4531 236.9688,297.875 L236.9688,300.5938 Z \"/><text fill=\"#000000\" font-family=\"sans-serif\" font-size=\"12\" lengthAdjust=\"spacingAndGlyphs\" textLength=\"32\" x=\"248\" y=\"299.1074\">Array</text><line style=\"stroke: #A80036; stroke-width: 1.5;\" x1=\"220\" x2=\"282\" y1=\"310.9531\" y2=\"310.9531\"/><line style=\"stroke: #A80036; stroke-width: 1.5;\" x1=\"220\" x2=\"282\" y1=\"318.9531\" y2=\"318.9531\"/><rect fill=\"#FEFECE\" filter=\"url(#f1)\" height=\"48\" style=\"stroke: #A80036; stroke-width: 1.5;\" width=\"67\" x=\"136.5\" y=\"28.9531\"/><ellipse cx=\"151.5\" cy=\"44.9531\" fill=\"#ADD1B2\" rx=\"11\" ry=\"11\" style=\"stroke: #A80036; stroke-width: 1.0;\"/><path d=\"M154.4688,50.5938 Q153.8906,50.8906 153.25,51.0391 Q152.6094,51.1875 151.9063,51.1875 Q149.4063,51.1875 148.0859,49.5391 Q146.7656,47.8906 146.7656,44.7656 Q146.7656,41.6406 148.0859,39.9844 Q149.4063,38.3281 151.9063,38.3281 Q152.6094,38.3281 153.2578,38.4844 Q153.9063,38.6406 154.4688,38.9375 L154.4688,41.6563 Q153.8438,41.0781 153.25,40.8047 Q152.6563,40.5313 152.0313,40.5313 Q150.6875,40.5313 150,41.6016 Q149.3125,42.6719 149.3125,44.7656 Q149.3125,46.8594 150,47.9297 Q150.6875,49 152.0313,49 Q152.6563,49 153.25,48.7266 Q153.8438,48.4531 154.4688,47.875 L154.4688,50.5938 Z \"/><text fill=\"#000000\" font-family=\"sans-serif\" font-size=\"12\" lengthAdjust=\"spacingAndGlyphs\" textLength=\"35\" x=\"165.5\" y=\"49.1074\">Client</text><line style=\"stroke: #A80036; stroke-width: 1.5;\" x1=\"137.5\" x2=\"202.5\" y1=\"60.9531\" y2=\"60.9531\"/><line style=\"stroke: #A80036; stroke-width: 1.5;\" x1=\"137.5\" x2=\"202.5\" y1=\"68.9531\" y2=\"68.9531\"/><rect fill=\"#FEFECE\" filter=\"url(#f1)\" height=\"48\" style=\"stroke: #A80036; stroke-width: 1.5;\" width=\"160\" x=\"6\" y=\"153.9531\"/><ellipse cx=\"21\" cy=\"169.9531\" fill=\"#ADD1B2\" rx=\"11\" ry=\"11\" style=\"stroke: #A80036; stroke-width: 1.0;\"/><path d=\"M23.9688,175.5938 Q23.3906,175.8906 22.75,176.0391 Q22.1094,176.1875 21.4063,176.1875 Q18.9063,176.1875 17.5859,174.5391 Q16.2656,172.8906 16.2656,169.7656 Q16.2656,166.6406 17.5859,164.9844 Q18.9063,163.3281 21.4063,163.3281 Q22.1094,163.3281 22.7578,163.4844 Q23.4063,163.6406 23.9688,163.9375 L23.9688,166.6563 Q23.3438,166.0781 22.75,165.8047 Q22.1563,165.5313 21.5313,165.5313 Q20.1875,165.5313 19.5,166.6016 Q18.8125,167.6719 18.8125,169.7656 Q18.8125,171.8594 19.5,172.9297 Q20.1875,174 21.5313,174 Q22.1563,174 22.75,173.7266 Q23.3438,173.4531 23.9688,172.875 L23.9688,175.5938 Z \"/><text fill=\"#000000\" font-family=\"sans-serif\" font-size=\"12\" lengthAdjust=\"spacingAndGlyphs\" textLength=\"128\" x=\"35\" y=\"174.1074\">PancakeHouseMenu</text><line style=\"stroke: #A80036; stroke-width: 1.5;\" x1=\"7\" x2=\"165\" y1=\"185.9531\" y2=\"185.9531\"/><line style=\"stroke: #A80036; stroke-width: 1.5;\" x1=\"7\" x2=\"165\" y1=\"193.9531\" y2=\"193.9531\"/><rect fill=\"#FEFECE\" filter=\"url(#f1)\" height=\"48\" style=\"stroke: #A80036; stroke-width: 1.5;\" width=\"99\" x=\"201.5\" y=\"153.9531\"/><ellipse cx=\"216.5\" cy=\"169.9531\" fill=\"#ADD1B2\" rx=\"11\" ry=\"11\" style=\"stroke: #A80036; stroke-width: 1.0;\"/><path d=\"M219.4688,175.5938 Q218.8906,175.8906 218.25,176.0391 Q217.6094,176.1875 216.9063,176.1875 Q214.4063,176.1875 213.0859,174.5391 Q211.7656,172.8906 211.7656,169.7656 Q211.7656,166.6406 213.0859,164.9844 Q214.4063,163.3281 216.9063,163.3281 Q217.6094,163.3281 218.2578,163.4844 Q218.9063,163.6406 219.4688,163.9375 L219.4688,166.6563 Q218.8438,166.0781 218.25,165.8047 Q217.6563,165.5313 217.0313,165.5313 Q215.6875,165.5313 215,166.6016 Q214.3125,167.6719 214.3125,169.7656 Q214.3125,171.8594 215,172.9297 Q215.6875,174 217.0313,174 Q217.6563,174 218.25,173.7266 Q218.8438,173.4531 219.4688,172.875 L219.4688,175.5938 Z \"/><text fill=\"#000000\" font-family=\"sans-serif\" font-size=\"12\" lengthAdjust=\"spacingAndGlyphs\" textLength=\"67\" x=\"230.5\" y=\"174.1074\">DinerMenu</text><line style=\"stroke: #A80036; stroke-width: 1.5;\" x1=\"202.5\" x2=\"299.5\" y1=\"185.9531\" y2=\"185.9531\"/><line style=\"stroke: #A80036; stroke-width: 1.5;\" x1=\"202.5\" x2=\"299.5\" y1=\"193.9531\" y2=\"193.9531\"/><path d=\"M136.424,69.1181 C120.917,77.9051 103.8059,90.5131 94,106.9531 C86.6429,119.2871 84.3516,135.0331 84.0269,148.4651 \" fill=\"none\" style=\"stroke: #A80036; stroke-width: 1.0;\"/><polygon fill=\"#A80036\" points=\"83.9943,153.6791,88.0508,144.7044,84.0257,148.6792,80.051,144.6542,83.9943,153.6791\" style=\"stroke: #A80036; stroke-width: 1.0;\"/><text fill=\"#000000\" font-family=\"sans-serif\" font-size=\"13\" lengthAdjust=\"spacingAndGlyphs\" textLength=\"102\" x=\"95\" y=\"120.02\">getMenuItems()</text><path d=\"M185.899,77.0861 C192.21,86.3391 199.499,97.1161 206,106.9531 C215.232,120.9221 225.328,136.5901 233.614,149.5561 \" fill=\"none\" style=\"stroke: #A80036; stroke-width: 1.0;\"/><polygon fill=\"#A80036\" points=\"236.351,153.8431,234.8803,144.1047,233.6608,149.6285,228.137,148.409,236.351,153.8431\" style=\"stroke: #A80036; stroke-width: 1.0;\"/><text fill=\"#000000\" font-family=\"sans-serif\" font-size=\"13\" lengthAdjust=\"spacingAndGlyphs\" textLength=\"102\" x=\"217\" y=\"120.02\">getMenuItems()</text><path d=\"M251,202.0881 C251,222.4471 251,252.1438 251,273.8611 \" fill=\"none\" style=\"stroke: #A80036; stroke-width: 1.0;\"/><polygon fill=\"#A80036\" points=\"251,278.9215,255,269.9215,251,273.9215,247,269.9215,251,278.9215\" style=\"stroke: #A80036; stroke-width: 1.0;\"/><text fill=\"#000000\" font-family=\"sans-serif\" font-size=\"13\" lengthAdjust=\"spacingAndGlyphs\" textLength=\"40\" x=\"252\" y=\"245.02\">length</text><path d=\"M62.8537,202.0081 C55.6986,210.6591 48.7234,221.0551 45,231.9531 C40.165,246.1051 45.4591,261.4166 52.8753,274.1003 \" fill=\"none\" style=\"stroke: #A80036; stroke-width: 1.0;\"/><polygon fill=\"#A80036\" points=\"55.6888,278.6474,54.3546,268.8893,53.0579,274.3956,47.5517,273.0988,55.6888,278.6474\" style=\"stroke: #A80036; stroke-width: 1.0;\"/><text fill=\"#000000\" font-family=\"sans-serif\" font-size=\"13\" lengthAdjust=\"spacingAndGlyphs\" textLength=\"35\" x=\"46\" y=\"245.02\">size()</text><path d=\"M87.1823,202.0291 C87.5888,215.7051 87.6013,233.358 86,248.9531 C85.1574,257.1592 83.5993,265.9692 81.9155,274.0041 \" fill=\"none\" style=\"stroke: #A80036; stroke-width: 1.0;\"/><polygon fill=\"#A80036\" points=\"80.856,278.8945,86.671,270.9456,81.9147,274.0079,78.8524,269.2516,80.856,278.8945\" style=\"stroke: #A80036; stroke-width: 1.0;\"/><text fill=\"#000000\" font-family=\"sans-serif\" font-size=\"13\" lengthAdjust=\"spacingAndGlyphs\" textLength=\"31\" x=\"89\" y=\"245.02\">get()</text></g></svg>"
      ],
      "text/plain": [
       "<IPython.core.display.SVG object>"
      ]
     },
     "execution_count": 6,
     "metadata": {},
     "output_type": "execute_result"
    }
   ],
   "source": [
    "%%plantuml\n",
    "@startuml\n",
    "title before1\n",
    "class ArrayList\n",
    "class Array\n",
    "Client --> PancakeHouseMenu:getMenuItems()\n",
    "Client --> DinerMenu:getMenuItems()\n",
    "DinerMenu --> Array:length\n",
    "PancakeHouseMenu --> ArrayList:size()\n",
    "PancakeHouseMenu --> ArrayList:get()\n",
    "@enduml"
   ]
  },
  {
   "cell_type": "code",
   "execution_count": null,
   "metadata": {
    "collapsed": true,
    "slideshow": {
     "slide_type": "slide"
    }
   },
   "outputs": [],
   "source": [
    "# %load ./src/headfirst/iterator/dinermerger/before/MenuItem.java\n",
    "package headfirst.iterator.dinermerger.before;\n",
    "\n",
    "public class MenuItem {\n",
    "    String name;\n",
    "    String description;\n",
    "    boolean vegetarian;\n",
    "    double price;\n",
    " \n",
    "    public MenuItem(String n, String d, boolean v, double p) {\n",
    "        this.name = n;\n",
    "        this.description = d;\n",
    "        this.vegetarian = v;\n",
    "        this.price = p;\n",
    "    }\n",
    "    public String getName() {\n",
    "        return name;\n",
    "    }\n",
    "    public String getDescription() {\n",
    "        return description;\n",
    "    }\n",
    "    public double getPrice() {\n",
    "        return price;\n",
    "    }\n",
    "    public boolean isVegetarian() {\n",
    "        return vegetarian;\n",
    "    }\n",
    "    public String toString() {\n",
    "        return (name + \", $\" + price + \"\\n   \" + description);\n",
    "    }\n",
    "}\n"
   ]
  },
  {
   "cell_type": "code",
   "execution_count": null,
   "metadata": {
    "collapsed": true,
    "slideshow": {
     "slide_type": "slide"
    }
   },
   "outputs": [],
   "source": [
    "# %load ./src/headfirst/iterator/dinermerger/before/DinerMenu.java\n",
    "package headfirst.iterator.dinermerger.before;\n",
    "\n",
    "public class DinerMenu {\n",
    "    static final int MAX_ITEMS = 3;\n",
    "    int numberOfItems = 0;\n",
    "    MenuItem[] menuItems;\n",
    "  \n",
    "    public DinerMenu() {\n",
    "        menuItems = new MenuItem[MAX_ITEMS];\n",
    "        addItem(\"Vegetarian BLT\",\n",
    "                \"(Fakin') Bacon with lettuce & tomato on whole wheat\", true, 2.99);\n",
    "        addItem(\"BLT\",\n",
    "                \"Bacon with lettuce & tomato on whole wheat\", false, 2.99);\n",
    "        addItem(\"Soup of the day\",\n",
    "                \"Soup of the day, with a side of potato salad\", false, 3.29);\n",
    "    }\n",
    "    public void addItem(String name, String description, boolean vegetarian, double price) {\n",
    "        MenuItem menuItem = new MenuItem(name, description, vegetarian, price);\n",
    "        if (numberOfItems >= MAX_ITEMS) {\n",
    "            System.err.println(\"Sorry, menu is full!  Can't add item to menu\");\n",
    "        } else {\n",
    "            menuItems[numberOfItems] = menuItem;\n",
    "            numberOfItems = numberOfItems + 1;\n",
    "        }\n",
    "    }\n",
    "    public MenuItem[] getMenuItems() {\n",
    "        return menuItems;\n",
    "    }\n",
    "}\n"
   ]
  },
  {
   "cell_type": "code",
   "execution_count": null,
   "metadata": {
    "collapsed": true,
    "slideshow": {
     "slide_type": "slide"
    }
   },
   "outputs": [],
   "source": [
    "# %load ./src/headfirst/iterator/dinermerger/before/PancakeHouseMenu.java\n",
    "package headfirst.iterator.dinermerger.before;\n",
    "\n",
    "import java.util.ArrayList;\n",
    "\n",
    "public class PancakeHouseMenu {\n",
    "    ArrayList menuItems;\n",
    " \n",
    "    public PancakeHouseMenu() {\n",
    "        menuItems = new ArrayList();\n",
    "    \n",
    "        addItem(\"K&B's Pancake Breakfast\", \n",
    "                \"Pancakes with scrambled eggs, and toast\", true, 2.99);\n",
    "        addItem(\"Regular Pancake Breakfast\", \"Pancakes with fried eggs, sausage\", false, 2.99);\n",
    "        addItem(\"Blueberry Pancakes\", \"Pancakes made with fresh blueberries\", true, 3.49);\n",
    "        addItem(\"Waffles\", \"Waffles, with your choice of blueberries or strawberries\", true, 3.59);\n",
    "    }\n",
    "    public void addItem(String name, String description, boolean vegetarian, double price) {\n",
    "        MenuItem menuItem = new MenuItem(name, description, vegetarian, price);\n",
    "        menuItems.add(menuItem);\n",
    "    }\n",
    "    public ArrayList getMenuItems() {\n",
    "        return menuItems;\n",
    "    }\n",
    "    public String toString() {\n",
    "        return \"Objectville Pancake House Menu\";\n",
    "    }\n",
    "}\n"
   ]
  },
  {
   "cell_type": "code",
   "execution_count": null,
   "metadata": {
    "collapsed": true,
    "slideshow": {
     "slide_type": "slide"
    }
   },
   "outputs": [],
   "source": [
    "# %load ./src/headfirst/iterator/dinermerger/before/MenuTestDrive.java\n",
    "package headfirst.iterator.dinermerger.before;\n",
    "\n",
    "import java.util.*;\n",
    "\n",
    "public class MenuTestDrive {\n",
    "    public static void main(String args[]) {\n",
    "    PancakeHouseMenu pancakeHouseMenu = new PancakeHouseMenu();\n",
    "    DinerMenu dinerMenu = new DinerMenu();\n",
    " \n",
    "    printMenu();\n",
    "    }\n",
    "    public static void printMenu() {\n",
    "        PancakeHouseMenu pancakeHouseMenu = new PancakeHouseMenu();\n",
    "        DinerMenu dinerMenu = new DinerMenu();\n",
    "\n",
    "        ArrayList breakfastItems = pancakeHouseMenu.getMenuItems();\n",
    "\n",
    "        for (int i = 0; i < breakfastItems.size(); i++) {\n",
    "            MenuItem menuItem = (MenuItem)breakfastItems.get(i);\n",
    "            System.out.print(menuItem.getName());\n",
    "            System.out.println(\"\\t\\t\" + menuItem.getPrice());\n",
    "            System.out.println(\"\\t\" + menuItem.getDescription());\n",
    "        }\n",
    "\n",
    "        MenuItem[] lunchItems = dinerMenu.getMenuItems();\n",
    "\n",
    "        for (int i = 0; i < lunchItems.length; i++) {\n",
    "            MenuItem menuItem = lunchItems[i];\n",
    "            System.out.print(menuItem.getName());\n",
    "            System.out.println(\"\\t\\t\" + menuItem.getPrice());\n",
    "            System.out.println(\"\\t\" + menuItem.getDescription());\n",
    "        }\n",
    "    }\n",
    "}\n"
   ]
  },
  {
   "cell_type": "code",
   "execution_count": 27,
   "metadata": {
    "collapsed": false,
    "slideshow": {
     "slide_type": "slide"
    }
   },
   "outputs": [
    {
     "name": "stdout",
     "output_type": "stream",
     "text": [
      "Note: src/headfirst/iterator/dinermerger/before/PancakeHouseMenu.java uses unchecked or unsafe operations.\n",
      "Note: Recompile with -Xlint:unchecked for details.\n",
      "K&B's Pancake Breakfast\t\t2.99\n",
      "\tPancakes with scrambled eggs, and toast\n",
      "Regular Pancake Breakfast\t\t2.99\n",
      "\tPancakes with fried eggs, sausage\n",
      "Blueberry Pancakes\t\t3.49\n",
      "\tPancakes made with fresh blueberries\n",
      "Waffles\t\t3.59\n",
      "\tWaffles, with your choice of blueberries or strawberries\n",
      "Vegetarian BLT\t\t2.99\n",
      "\t(Fakin') Bacon with lettuce & tomato on whole wheat\n",
      "BLT\t\t2.99\n",
      "\tBacon with lettuce & tomato on whole wheat\n",
      "Soup of the day\t\t3.29\n",
      "\tSoup of the day, with a side of potato salad\n"
     ]
    }
   ],
   "source": [
    "!javac -d classes/ -sourcepath src/ src/headfirst/iterator/dinermerger/before/*.java\n",
    "!java -cp classes/ headfirst.iterator.dinermerger.before.MenuTestDrive"
   ]
  },
  {
   "cell_type": "markdown",
   "metadata": {
    "slideshow": {
     "slide_type": "slide"
    }
   },
   "source": [
    "## I.3 설계\n",
    "\n",
    "* Single Responsibility\n",
    "    * 클래스는 여러 기능 보다는 그 목적에 부합한 기능만을 구현하도록 해야 한다.\n",
    "    * 즉 클래스는 응집성이 높아야 한다 (High Cohesion).\n",
    "    * 응집성이 낮은 여러 기능을 한 클래스에 넣어 놓으면, 어떤 기능이 변경될 경우 (무관한) 다른 기능도 따라서 변경관리가 필요하게 된다.\n",
    "    * 'Collection'과 'iteration'를 분리, 즉 '저장'과 '읽기'를 분리한다.\n",
    "* Iteration\n",
    "    * next() 다음 항목 가져오기\n",
    "    * hasNext() 항목이 남아있는지 확인하기 (Null Iterator, p.372)"
   ]
  },
  {
   "cell_type": "code",
   "execution_count": 7,
   "metadata": {
    "collapsed": false,
    "scrolled": true,
    "slideshow": {
     "slide_type": "slide"
    }
   },
   "outputs": [
    {
     "data": {
      "image/svg+xml": [
       "<svg height=\"307px\" style=\"width:252px;height:307px;\" version=\"1.1\" viewBox=\"0 0 252 307\" width=\"252px\" xmlns=\"http://www.w3.org/2000/svg\" xmlns:xlink=\"http://www.w3.org/1999/xlink\"><defs><filter height=\"300%\" id=\"f1\" width=\"300%\" x=\"-1\" y=\"-1\"><feGaussianBlur result=\"blurOut\" stdDeviation=\"2.0\"/><feColorMatrix in=\"blurOut\" result=\"blurOut2\" type=\"matrix\" values=\"0 0 0 0 0 0 0 0 0 0 0 0 0 0 0 0 0 0 .4 0\"/><feOffset dx=\"4.0\" dy=\"4.0\" in=\"blurOut2\" result=\"blurOut3\"/><feBlend in=\"SourceGraphic\" in2=\"blurOut3\" mode=\"normal\"/></filter></defs><g><rect fill=\"#FEFECE\" filter=\"url(#f1)\" height=\"73.6094\" style=\"stroke: #A80036; stroke-width: 1.5;\" width=\"115\" x=\"66\" y=\"8\"/><ellipse cx=\"96.75\" cy=\"24\" fill=\"#B4A7E5\" rx=\"11\" ry=\"11\" style=\"stroke: #A80036; stroke-width: 1.0;\"/><path d=\"M92.6719,19.7656 L92.6719,17.6094 L100.0625,17.6094 L100.0625,19.7656 L97.5938,19.7656 L97.5938,27.8438 L100.0625,27.8438 L100.0625,30 L92.6719,30 L92.6719,27.8438 L95.1406,27.8438 L95.1406,19.7656 L92.6719,19.7656 Z \"/><text fill=\"#000000\" font-family=\"sans-serif\" font-size=\"12\" font-style=\"italic\" lengthAdjust=\"spacingAndGlyphs\" textLength=\"48\" x=\"114.25\" y=\"28.1543\">Iterator</text><line style=\"stroke: #A80036; stroke-width: 1.5;\" x1=\"67\" x2=\"180\" y1=\"40\" y2=\"40\"/><line style=\"stroke: #A80036; stroke-width: 1.5;\" x1=\"67\" x2=\"180\" y1=\"48\" y2=\"48\"/><text fill=\"#000000\" font-family=\"sans-serif\" font-size=\"11\" lengthAdjust=\"spacingAndGlyphs\" textLength=\"103\" x=\"72\" y=\"62.2104\">hasNext():boolean</text><text fill=\"#000000\" font-family=\"sans-serif\" font-size=\"11\" lengthAdjust=\"spacingAndGlyphs\" textLength=\"72\" x=\"72\" y=\"75.0151\">next():Object</text><rect fill=\"#FEFECE\" filter=\"url(#f1)\" height=\"48\" style=\"stroke: #A80036; stroke-width: 1.5;\" width=\"87\" x=\"16\" y=\"142\"/><ellipse cx=\"31\" cy=\"158\" fill=\"#ADD1B2\" rx=\"11\" ry=\"11\" style=\"stroke: #A80036; stroke-width: 1.0;\"/><path d=\"M33.9688,163.6406 Q33.3906,163.9375 32.75,164.0859 Q32.1094,164.2344 31.4063,164.2344 Q28.9063,164.2344 27.5859,162.5859 Q26.2656,160.9375 26.2656,157.8125 Q26.2656,154.6875 27.5859,153.0313 Q28.9063,151.375 31.4063,151.375 Q32.1094,151.375 32.7578,151.5313 Q33.4063,151.6875 33.9688,151.9844 L33.9688,154.7031 Q33.3438,154.125 32.75,153.8516 Q32.1563,153.5781 31.5313,153.5781 Q30.1875,153.5781 29.5,154.6484 Q28.8125,155.7188 28.8125,157.8125 Q28.8125,159.9063 29.5,160.9766 Q30.1875,162.0469 31.5313,162.0469 Q32.1563,162.0469 32.75,161.7734 Q33.3438,161.5 33.9688,160.9219 L33.9688,163.6406 Z \"/><text fill=\"#000000\" font-family=\"sans-serif\" font-size=\"12\" lengthAdjust=\"spacingAndGlyphs\" textLength=\"55\" x=\"45\" y=\"162.1543\">AIterator</text><line style=\"stroke: #A80036; stroke-width: 1.5;\" x1=\"17\" x2=\"102\" y1=\"174\" y2=\"174\"/><line style=\"stroke: #A80036; stroke-width: 1.5;\" x1=\"17\" x2=\"102\" y1=\"182\" y2=\"182\"/><rect fill=\"#FEFECE\" filter=\"url(#f1)\" height=\"48\" style=\"stroke: #A80036; stroke-width: 1.5;\" width=\"87\" x=\"145\" y=\"142\"/><ellipse cx=\"160\" cy=\"158\" fill=\"#ADD1B2\" rx=\"11\" ry=\"11\" style=\"stroke: #A80036; stroke-width: 1.0;\"/><path d=\"M162.9688,163.6406 Q162.3906,163.9375 161.75,164.0859 Q161.1094,164.2344 160.4063,164.2344 Q157.9063,164.2344 156.5859,162.5859 Q155.2656,160.9375 155.2656,157.8125 Q155.2656,154.6875 156.5859,153.0313 Q157.9063,151.375 160.4063,151.375 Q161.1094,151.375 161.7578,151.5313 Q162.4063,151.6875 162.9688,151.9844 L162.9688,154.7031 Q162.3438,154.125 161.75,153.8516 Q161.1563,153.5781 160.5313,153.5781 Q159.1875,153.5781 158.5,154.6484 Q157.8125,155.7188 157.8125,157.8125 Q157.8125,159.9063 158.5,160.9766 Q159.1875,162.0469 160.5313,162.0469 Q161.1563,162.0469 161.75,161.7734 Q162.3438,161.5 162.9688,160.9219 L162.9688,163.6406 Z \"/><text fill=\"#000000\" font-family=\"sans-serif\" font-size=\"12\" lengthAdjust=\"spacingAndGlyphs\" textLength=\"55\" x=\"174\" y=\"162.1543\">BIterator</text><line style=\"stroke: #A80036; stroke-width: 1.5;\" x1=\"146\" x2=\"231\" y1=\"174\" y2=\"174\"/><line style=\"stroke: #A80036; stroke-width: 1.5;\" x1=\"146\" x2=\"231\" y1=\"182\" y2=\"182\"/><rect fill=\"#FEFECE\" filter=\"url(#f1)\" height=\"48\" style=\"stroke: #A80036; stroke-width: 1.5;\" width=\"101\" x=\"142\" y=\"250\"/><ellipse cx=\"157\" cy=\"266\" fill=\"#ADD1B2\" rx=\"11\" ry=\"11\" style=\"stroke: #A80036; stroke-width: 1.0;\"/><path d=\"M159.9688,271.6406 Q159.3906,271.9375 158.75,272.0859 Q158.1094,272.2344 157.4063,272.2344 Q154.9063,272.2344 153.5859,270.5859 Q152.2656,268.9375 152.2656,265.8125 Q152.2656,262.6875 153.5859,261.0313 Q154.9063,259.375 157.4063,259.375 Q158.1094,259.375 158.7578,259.5313 Q159.4063,259.6875 159.9688,259.9844 L159.9688,262.7031 Q159.3438,262.125 158.75,261.8516 Q158.1563,261.5781 157.5313,261.5781 Q156.1875,261.5781 155.5,262.6484 Q154.8125,263.7188 154.8125,265.8125 Q154.8125,267.9063 155.5,268.9766 Q156.1875,270.0469 157.5313,270.0469 Q158.1563,270.0469 158.75,269.7734 Q159.3438,269.5 159.9688,268.9219 L159.9688,271.6406 Z \"/><text fill=\"#000000\" font-family=\"sans-serif\" font-size=\"12\" lengthAdjust=\"spacingAndGlyphs\" textLength=\"69\" x=\"171\" y=\"270.1543\">CollectionB</text><line style=\"stroke: #A80036; stroke-width: 1.5;\" x1=\"143\" x2=\"242\" y1=\"282\" y2=\"282\"/><line style=\"stroke: #A80036; stroke-width: 1.5;\" x1=\"143\" x2=\"242\" y1=\"290\" y2=\"290\"/><rect fill=\"#FEFECE\" filter=\"url(#f1)\" height=\"48\" style=\"stroke: #A80036; stroke-width: 1.5;\" width=\"101\" x=\"6\" y=\"250\"/><ellipse cx=\"21\" cy=\"266\" fill=\"#ADD1B2\" rx=\"11\" ry=\"11\" style=\"stroke: #A80036; stroke-width: 1.0;\"/><path d=\"M23.9688,271.6406 Q23.3906,271.9375 22.75,272.0859 Q22.1094,272.2344 21.4063,272.2344 Q18.9063,272.2344 17.5859,270.5859 Q16.2656,268.9375 16.2656,265.8125 Q16.2656,262.6875 17.5859,261.0313 Q18.9063,259.375 21.4063,259.375 Q22.1094,259.375 22.7578,259.5313 Q23.4063,259.6875 23.9688,259.9844 L23.9688,262.7031 Q23.3438,262.125 22.75,261.8516 Q22.1563,261.5781 21.5313,261.5781 Q20.1875,261.5781 19.5,262.6484 Q18.8125,263.7188 18.8125,265.8125 Q18.8125,267.9063 19.5,268.9766 Q20.1875,270.0469 21.5313,270.0469 Q22.1563,270.0469 22.75,269.7734 Q23.3438,269.5 23.9688,268.9219 L23.9688,271.6406 Z \"/><text fill=\"#000000\" font-family=\"sans-serif\" font-size=\"12\" lengthAdjust=\"spacingAndGlyphs\" textLength=\"69\" x=\"35\" y=\"270.1543\">CollectionA</text><line style=\"stroke: #A80036; stroke-width: 1.5;\" x1=\"7\" x2=\"106\" y1=\"282\" y2=\"282\"/><line style=\"stroke: #A80036; stroke-width: 1.5;\" x1=\"7\" x2=\"106\" y1=\"290\" y2=\"290\"/><path d=\"M94.3992,100.109 C86.506,114.786 78.3756,129.903 71.9502,141.85 \" fill=\"none\" style=\"stroke: #A80036; stroke-width: 1.0; stroke-dasharray: 7.0,7.0;\"/><polygon fill=\"none\" points=\"88.486,96.325,104.1242,82.027,100.816,102.957,88.486,96.325\" style=\"stroke: #A80036; stroke-width: 1.0;\"/><path d=\"M152.788,99.62 C160.888,114.449 169.257,129.77 175.855,141.85 \" fill=\"none\" style=\"stroke: #A80036; stroke-width: 1.0; stroke-dasharray: 7.0,7.0;\"/><polygon fill=\"none\" points=\"146.623,102.935,143.179,82.027,158.909,96.224,146.623,102.935\" style=\"stroke: #A80036; stroke-width: 1.0;\"/><path d=\"M189.562,195.131 C190.204,212.1538 191.013,233.6037 191.62,249.6784 \" fill=\"none\" style=\"stroke: #A80036; stroke-width: 1.0;\"/><polygon fill=\"#A80036\" points=\"189.368,190,185.7103,199.1445,189.5566,194.9964,193.7046,198.8427,189.368,190\" style=\"stroke: #A80036; stroke-width: 1.0;\"/><path d=\"M58.7039,195.131 C58.2221,212.1538 57.615,233.6037 57.16,249.6784 \" fill=\"none\" style=\"stroke: #A80036; stroke-width: 1.0;\"/><polygon fill=\"#A80036\" points=\"58.849,190,54.596,198.8833,58.7076,194.998,62.5928,199.1095,58.849,190\" style=\"stroke: #A80036; stroke-width: 1.0;\"/></g></svg>"
      ],
      "text/plain": [
       "<IPython.core.display.SVG object>"
      ]
     },
     "execution_count": 7,
     "metadata": {},
     "output_type": "execute_result"
    }
   ],
   "source": [
    "%%plantuml\n",
    "@startuml\n",
    "interface Iterator {\n",
    "    hasNext():boolean\n",
    "    next():Object\n",
    "}\n",
    "Iterator <|.. AIterator\n",
    "Iterator <|.. BIterator\n",
    "CollectionB -up-> BIterator\n",
    "CollectionA -up-> AIterator\n",
    "@enduml"
   ]
  },
  {
   "cell_type": "markdown",
   "metadata": {
    "slideshow": {
     "slide_type": "subslide"
    }
   },
   "source": [
    "### Composite 패턴\n",
    "\n",
    "* Composite 패턴은 Structural Design Pattern\n",
    "* \"to compose objects into tree structures to represent part-whole hierarchies.\"\n",
    "* iterator와 결합하여 'composite iterator'"
   ]
  },
  {
   "cell_type": "code",
   "execution_count": 9,
   "metadata": {
    "collapsed": false,
    "slideshow": {
     "slide_type": "slide"
    }
   },
   "outputs": [
    {
     "data": {
      "image/svg+xml": [
       "<svg height=\"425px\" style=\"width:558px;height:425px;\" version=\"1.1\" viewBox=\"0 0 558 425\" width=\"558px\" xmlns=\"http://www.w3.org/2000/svg\" xmlns:xlink=\"http://www.w3.org/1999/xlink\"><defs><filter height=\"300%\" id=\"f1\" width=\"300%\" x=\"-1\" y=\"-1\"><feGaussianBlur result=\"blurOut\" stdDeviation=\"2.0\"/><feColorMatrix in=\"blurOut\" result=\"blurOut2\" type=\"matrix\" values=\"0 0 0 0 0 0 0 0 0 0 0 0 0 0 0 0 0 0 .4 0\"/><feOffset dx=\"4.0\" dy=\"4.0\" in=\"blurOut2\" result=\"blurOut3\"/><feBlend in=\"SourceGraphic\" in2=\"blurOut3\" mode=\"normal\"/></filter></defs><g><polygon fill=\"#FFFFFF\" filter=\"url(#f1)\" points=\"309,24,381,24,388,46.2969,551,46.2969,551,264,309,264,309,24\" style=\"stroke: #000000; stroke-width: 2.0;\"/><line style=\"stroke: #000000; stroke-width: 2.0;\" x1=\"309\" x2=\"388\" y1=\"46.2969\" y2=\"46.2969\"/><text fill=\"#000000\" font-family=\"sans-serif\" font-size=\"14\" font-weight=\"bold\" lengthAdjust=\"spacingAndGlyphs\" textLength=\"66\" x=\"313\" y=\"38.9951\">Iteration</text><polygon fill=\"#FFFFFF\" filter=\"url(#f1)\" points=\"30,157,120,157,127,179.2969,277,179.2969,277,418,30,418,30,157\" style=\"stroke: #000000; stroke-width: 2.0;\"/><line style=\"stroke: #000000; stroke-width: 2.0;\" x1=\"30\" x2=\"127\" y1=\"179.2969\" y2=\"179.2969\"/><text fill=\"#000000\" font-family=\"sans-serif\" font-size=\"14\" font-weight=\"bold\" lengthAdjust=\"spacingAndGlyphs\" textLength=\"84\" x=\"34\" y=\"171.9951\">Composite</text><rect fill=\"#FEFECE\" filter=\"url(#f1)\" height=\"73.6094\" style=\"stroke: #A80036; stroke-width: 1.5;\" width=\"115\" x=\"372.5\" y=\"59\"/><ellipse cx=\"403.25\" cy=\"75\" fill=\"#B4A7E5\" rx=\"11\" ry=\"11\" style=\"stroke: #A80036; stroke-width: 1.0;\"/><path d=\"M399.1719,70.7656 L399.1719,68.6094 L406.5625,68.6094 L406.5625,70.7656 L404.0938,70.7656 L404.0938,78.8438 L406.5625,78.8438 L406.5625,81 L399.1719,81 L399.1719,78.8438 L401.6406,78.8438 L401.6406,70.7656 L399.1719,70.7656 Z \"/><text fill=\"#000000\" font-family=\"sans-serif\" font-size=\"12\" font-style=\"italic\" lengthAdjust=\"spacingAndGlyphs\" textLength=\"48\" x=\"420.75\" y=\"79.1543\">Iterator</text><line style=\"stroke: #A80036; stroke-width: 1.5;\" x1=\"373.5\" x2=\"486.5\" y1=\"91\" y2=\"91\"/><line style=\"stroke: #A80036; stroke-width: 1.5;\" x1=\"373.5\" x2=\"486.5\" y1=\"99\" y2=\"99\"/><text fill=\"#000000\" font-family=\"sans-serif\" font-size=\"11\" lengthAdjust=\"spacingAndGlyphs\" textLength=\"103\" x=\"378.5\" y=\"113.2104\">hasNext():boolean</text><text fill=\"#000000\" font-family=\"sans-serif\" font-size=\"11\" lengthAdjust=\"spacingAndGlyphs\" textLength=\"72\" x=\"378.5\" y=\"126.0151\">next():Object</text><rect fill=\"#FEFECE\" filter=\"url(#f1)\" height=\"48\" style=\"stroke: #A80036; stroke-width: 1.5;\" width=\"87\" x=\"447.5\" y=\"200\"/><ellipse cx=\"462.5\" cy=\"216\" fill=\"#ADD1B2\" rx=\"11\" ry=\"11\" style=\"stroke: #A80036; stroke-width: 1.0;\"/><path d=\"M465.4688,221.6406 Q464.8906,221.9375 464.25,222.0859 Q463.6094,222.2344 462.9063,222.2344 Q460.4063,222.2344 459.0859,220.5859 Q457.7656,218.9375 457.7656,215.8125 Q457.7656,212.6875 459.0859,211.0313 Q460.4063,209.375 462.9063,209.375 Q463.6094,209.375 464.2578,209.5313 Q464.9063,209.6875 465.4688,209.9844 L465.4688,212.7031 Q464.8438,212.125 464.25,211.8516 Q463.6563,211.5781 463.0313,211.5781 Q461.6875,211.5781 461,212.6484 Q460.3125,213.7188 460.3125,215.8125 Q460.3125,217.9063 461,218.9766 Q461.6875,220.0469 463.0313,220.0469 Q463.6563,220.0469 464.25,219.7734 Q464.8438,219.5 465.4688,218.9219 L465.4688,221.6406 Z \"/><text fill=\"#000000\" font-family=\"sans-serif\" font-size=\"12\" lengthAdjust=\"spacingAndGlyphs\" textLength=\"55\" x=\"476.5\" y=\"220.1543\">AIterator</text><line style=\"stroke: #A80036; stroke-width: 1.5;\" x1=\"448.5\" x2=\"533.5\" y1=\"232\" y2=\"232\"/><line style=\"stroke: #A80036; stroke-width: 1.5;\" x1=\"448.5\" x2=\"533.5\" y1=\"240\" y2=\"240\"/><rect fill=\"#FEFECE\" filter=\"url(#f1)\" height=\"48\" style=\"stroke: #A80036; stroke-width: 1.5;\" width=\"87\" x=\"325.5\" y=\"200\"/><ellipse cx=\"340.5\" cy=\"216\" fill=\"#ADD1B2\" rx=\"11\" ry=\"11\" style=\"stroke: #A80036; stroke-width: 1.0;\"/><path d=\"M343.4688,221.6406 Q342.8906,221.9375 342.25,222.0859 Q341.6094,222.2344 340.9063,222.2344 Q338.4063,222.2344 337.0859,220.5859 Q335.7656,218.9375 335.7656,215.8125 Q335.7656,212.6875 337.0859,211.0313 Q338.4063,209.375 340.9063,209.375 Q341.6094,209.375 342.2578,209.5313 Q342.9063,209.6875 343.4688,209.9844 L343.4688,212.7031 Q342.8438,212.125 342.25,211.8516 Q341.6563,211.5781 341.0313,211.5781 Q339.6875,211.5781 339,212.6484 Q338.3125,213.7188 338.3125,215.8125 Q338.3125,217.9063 339,218.9766 Q339.6875,220.0469 341.0313,220.0469 Q341.6563,220.0469 342.25,219.7734 Q342.8438,219.5 343.4688,218.9219 L343.4688,221.6406 Z \"/><text fill=\"#000000\" font-family=\"sans-serif\" font-size=\"12\" lengthAdjust=\"spacingAndGlyphs\" textLength=\"55\" x=\"354.5\" y=\"220.1543\">BIterator</text><line style=\"stroke: #A80036; stroke-width: 1.5;\" x1=\"326.5\" x2=\"411.5\" y1=\"232\" y2=\"232\"/><line style=\"stroke: #A80036; stroke-width: 1.5;\" x1=\"326.5\" x2=\"411.5\" y1=\"240\" y2=\"240\"/><rect fill=\"#FEFECE\" filter=\"url(#f1)\" height=\"48\" style=\"stroke: #A80036; stroke-width: 1.5;\" width=\"104\" x=\"73\" y=\"200\"/><ellipse cx=\"88\" cy=\"216\" fill=\"#ADD1B2\" rx=\"11\" ry=\"11\" style=\"stroke: #A80036; stroke-width: 1.0;\"/><path d=\"M90.9688,221.6406 Q90.3906,221.9375 89.75,222.0859 Q89.1094,222.2344 88.4063,222.2344 Q85.9063,222.2344 84.5859,220.5859 Q83.2656,218.9375 83.2656,215.8125 Q83.2656,212.6875 84.5859,211.0313 Q85.9063,209.375 88.4063,209.375 Q89.1094,209.375 89.7578,209.5313 Q90.4063,209.6875 90.9688,209.9844 L90.9688,212.7031 Q90.3438,212.125 89.75,211.8516 Q89.1563,211.5781 88.5313,211.5781 Q87.1875,211.5781 86.5,212.6484 Q85.8125,213.7188 85.8125,215.8125 Q85.8125,217.9063 86.5,218.9766 Q87.1875,220.0469 88.5313,220.0469 Q89.1563,220.0469 89.75,219.7734 Q90.3438,219.5 90.9688,218.9219 L90.9688,221.6406 Z \"/><text fill=\"#000000\" font-family=\"sans-serif\" font-size=\"12\" lengthAdjust=\"spacingAndGlyphs\" textLength=\"72\" x=\"102\" y=\"220.1543\">Component</text><line style=\"stroke: #A80036; stroke-width: 1.5;\" x1=\"74\" x2=\"176\" y1=\"232\" y2=\"232\"/><line style=\"stroke: #A80036; stroke-width: 1.5;\" x1=\"74\" x2=\"176\" y1=\"240\" y2=\"240\"/><rect fill=\"#FEFECE\" filter=\"url(#f1)\" height=\"48\" style=\"stroke: #A80036; stroke-width: 1.5;\" width=\"58\" x=\"195\" y=\"327\"/><ellipse cx=\"210\" cy=\"343\" fill=\"#ADD1B2\" rx=\"11\" ry=\"11\" style=\"stroke: #A80036; stroke-width: 1.0;\"/><path d=\"M212.9688,348.6406 Q212.3906,348.9375 211.75,349.0859 Q211.1094,349.2344 210.4063,349.2344 Q207.9063,349.2344 206.5859,347.5859 Q205.2656,345.9375 205.2656,342.8125 Q205.2656,339.6875 206.5859,338.0313 Q207.9063,336.375 210.4063,336.375 Q211.1094,336.375 211.7578,336.5313 Q212.4063,336.6875 212.9688,336.9844 L212.9688,339.7031 Q212.3438,339.125 211.75,338.8516 Q211.1563,338.5781 210.5313,338.5781 Q209.1875,338.5781 208.5,339.6484 Q207.8125,340.7188 207.8125,342.8125 Q207.8125,344.9063 208.5,345.9766 Q209.1875,347.0469 210.5313,347.0469 Q211.1563,347.0469 211.75,346.7734 Q212.3438,346.5 212.9688,345.9219 L212.9688,348.6406 Z \"/><text fill=\"#000000\" font-family=\"sans-serif\" font-size=\"12\" lengthAdjust=\"spacingAndGlyphs\" textLength=\"26\" x=\"224\" y=\"347.1543\">Leaf</text><line style=\"stroke: #A80036; stroke-width: 1.5;\" x1=\"196\" x2=\"252\" y1=\"359\" y2=\"359\"/><line style=\"stroke: #A80036; stroke-width: 1.5;\" x1=\"196\" x2=\"252\" y1=\"367\" y2=\"367\"/><rect fill=\"#FEFECE\" filter=\"url(#f1)\" height=\"86.4141\" style=\"stroke: #A80036; stroke-width: 1.5;\" width=\"98\" x=\"62\" y=\"308\"/><ellipse cx=\"77\" cy=\"324\" fill=\"#ADD1B2\" rx=\"11\" ry=\"11\" style=\"stroke: #A80036; stroke-width: 1.0;\"/><path d=\"M79.9688,329.6406 Q79.3906,329.9375 78.75,330.0859 Q78.1094,330.2344 77.4063,330.2344 Q74.9063,330.2344 73.5859,328.5859 Q72.2656,326.9375 72.2656,323.8125 Q72.2656,320.6875 73.5859,319.0313 Q74.9063,317.375 77.4063,317.375 Q78.1094,317.375 78.7578,317.5313 Q79.4063,317.6875 79.9688,317.9844 L79.9688,320.7031 Q79.3438,320.125 78.75,319.8516 Q78.1563,319.5781 77.5313,319.5781 Q76.1875,319.5781 75.5,320.6484 Q74.8125,321.7188 74.8125,323.8125 Q74.8125,325.9063 75.5,326.9766 Q76.1875,328.0469 77.5313,328.0469 Q78.1563,328.0469 78.75,327.7734 Q79.3438,327.5 79.9688,326.9219 L79.9688,329.6406 Z \"/><text fill=\"#000000\" font-family=\"sans-serif\" font-size=\"12\" lengthAdjust=\"spacingAndGlyphs\" textLength=\"66\" x=\"91\" y=\"328.1543\">Composite</text><line style=\"stroke: #A80036; stroke-width: 1.5;\" x1=\"63\" x2=\"159\" y1=\"340\" y2=\"340\"/><line style=\"stroke: #A80036; stroke-width: 1.5;\" x1=\"63\" x2=\"159\" y1=\"348\" y2=\"348\"/><text fill=\"#000000\" font-family=\"sans-serif\" font-size=\"11\" lengthAdjust=\"spacingAndGlyphs\" textLength=\"29\" x=\"68\" y=\"362.2104\">add()</text><text fill=\"#000000\" font-family=\"sans-serif\" font-size=\"11\" lengthAdjust=\"spacingAndGlyphs\" textLength=\"51\" x=\"68\" y=\"375.0151\">remove()</text><text fill=\"#000000\" font-family=\"sans-serif\" font-size=\"11\" lengthAdjust=\"spacingAndGlyphs\" textLength=\"54\" x=\"68\" y=\"387.8198\">getChild()</text><path d=\"M456.326,151.378 C464.583,168.434 473.256,186.349 479.863,199.995 \" fill=\"none\" style=\"stroke: #A80036; stroke-width: 1.0; stroke-dasharray: 7.0,7.0;\"/><polygon fill=\"none\" points=\"449.895,154.158,447.48,133.107,462.496,148.058,449.895,154.158\" style=\"stroke: #A80036; stroke-width: 1.0;\"/><path d=\"M403.674,151.378 C395.417,168.434 386.744,186.349 380.137,199.995 \" fill=\"none\" style=\"stroke: #A80036; stroke-width: 1.0; stroke-dasharray: 7.0,7.0;\"/><polygon fill=\"none\" points=\"397.504,148.058,412.52,133.107,410.105,154.158,397.504,148.058\" style=\"stroke: #A80036; stroke-width: 1.0;\"/><path d=\"M108.037,267.799 C105.7949,280.774 104.2157,295.01 103.5873,307.936 \" fill=\"none\" style=\"stroke: #A80036; stroke-width: 1.0;\"/><polygon fill=\"none\" points=\"101.1964,266.314,112.222,248.219,114.887,269.24,101.1964,266.314\" style=\"stroke: #A80036; stroke-width: 1.0;\"/><path d=\"M133.318,261.354 C133.088,271.833 132.122,283.509 130.593,294.857 \" fill=\"none\" style=\"stroke: #A80036; stroke-width: 1.0;\"/><polygon fill=\"#A80036\" points=\"128.548,307.936,133.427,302.626,130.402,296.0801,125.523,301.39,128.548,307.936\" style=\"stroke: #A80036; stroke-width: 1.0;\"/><polygon fill=\"#A80036\" points=\"133.175,248.219,129.2731,257.262,133.2294,253.2187,137.2727,257.175,133.175,248.219\" style=\"stroke: #A80036; stroke-width: 1.0;\"/><line style=\"stroke: #A80036; stroke-width: 1.0;\" x1=\"133.2294\" x2=\"133.317\" y1=\"253.2187\" y2=\"261.2175\"/><path d=\"M155.918,264.039 C172.265,284.678 191.774,309.311 205.709,326.906 \" fill=\"none\" style=\"stroke: #A80036; stroke-width: 1.0;\"/><polygon fill=\"none\" points=\"150.319,268.243,143.389,248.219,161.294,259.551,150.319,268.243\" style=\"stroke: #A80036; stroke-width: 1.0;\"/><path d=\"M460.608,251.228 C451.193,258.563 440.52,266.126 430,272 C370.566,305.184 294.19,329.931 253.166,341.931 \" fill=\"none\" style=\"stroke: #A80036; stroke-width: 1.0; stroke-dasharray: 7.0,7.0;\"/><polygon fill=\"#A80036\" points=\"464.562,248.104,455.0206,250.5458,460.639,251.2041,459.9807,256.8225,464.562,248.104\" style=\"stroke: #A80036; stroke-width: 1.0;\"/><path d=\"M320.918,248.388 C304.549,256.139 286.074,264.656 269,272 C228.665,289.348 216.15,288.12 177,308 C171.429,310.829 165.73,313.997 160.127,317.291 \" fill=\"none\" style=\"stroke: #A80036; stroke-width: 1.0; stroke-dasharray: 7.0,7.0;\"/><polygon fill=\"#A80036\" points=\"325.476,246.224,315.6303,246.4725,320.9596,248.3693,319.0628,253.6987,325.476,246.224\" style=\"stroke: #A80036; stroke-width: 1.0;\"/></g></svg>"
      ],
      "text/plain": [
       "<IPython.core.display.SVG object>"
      ]
     },
     "execution_count": 9,
     "metadata": {},
     "output_type": "execute_result"
    }
   ],
   "source": [
    "%%plantuml\n",
    "@startuml\n",
    "package \"Iteration\" {\n",
    "interface Iterator {\n",
    "    hasNext():boolean\n",
    "    next():Object\n",
    "}\n",
    "Iterator <|.. AIterator\n",
    "Iterator <|.. BIterator\n",
    "}\n",
    "package \"Composite\" {\n",
    "class Component\n",
    "class Leaf\n",
    "class Composite {\n",
    "    add()\n",
    "    remove()\n",
    "    getChild()\n",
    "}\n",
    "Component <|-- Composite\n",
    "Component <|-- Leaf\n",
    "Composite *-up-> Component\n",
    "}\n",
    "Leaf .left.> AIterator\n",
    "Composite .left.> BIterator\n",
    "@enduml"
   ]
  },
  {
   "cell_type": "markdown",
   "metadata": {
    "slideshow": {
     "slide_type": "slide"
    }
   },
   "source": [
    "## I.4 사례\n",
    "\n",
    "* Menu\n",
    "* Menu Composite\n"
   ]
  },
  {
   "cell_type": "markdown",
   "metadata": {
    "slideshow": {
     "slide_type": "slide"
    }
   },
   "source": [
    "### I.4.1 Menu\n",
    "\n",
    "* PancakeHouseMenu는 ArrayList\n",
    "* DinerMenu는 MenuItem[]\n"
   ]
  },
  {
   "cell_type": "code",
   "execution_count": 10,
   "metadata": {
    "collapsed": false,
    "slideshow": {
     "slide_type": "slide"
    }
   },
   "outputs": [
    {
     "data": {
      "image/svg+xml": [
       "<svg height=\"416px\" style=\"width:873px;height:416px;\" version=\"1.1\" viewBox=\"0 0 873 416\" width=\"873px\" xmlns=\"http://www.w3.org/2000/svg\" xmlns:xlink=\"http://www.w3.org/1999/xlink\"><defs><filter height=\"300%\" id=\"f1\" width=\"300%\" x=\"-1\" y=\"-1\"><feGaussianBlur result=\"blurOut\" stdDeviation=\"2.0\"/><feColorMatrix in=\"blurOut\" result=\"blurOut2\" type=\"matrix\" values=\"0 0 0 0 0 0 0 0 0 0 0 0 0 0 0 0 0 0 .4 0\"/><feOffset dx=\"4.0\" dy=\"4.0\" in=\"blurOut2\" result=\"blurOut3\"/><feBlend in=\"SourceGraphic\" in2=\"blurOut3\" mode=\"normal\"/></filter></defs><g><polygon fill=\"#FFFFFF\" filter=\"url(#f1)\" points=\"421,32,486,32,493,54.2969,866,54.2969,866,294.5,421,294.5,421,32\" style=\"stroke: #000000; stroke-width: 2.0;\"/><line style=\"stroke: #000000; stroke-width: 2.0;\" x1=\"421\" x2=\"493\" y1=\"54.2969\" y2=\"54.2969\"/><text fill=\"#000000\" font-family=\"sans-serif\" font-size=\"14\" font-weight=\"bold\" lengthAdjust=\"spacingAndGlyphs\" textLength=\"59\" x=\"425\" y=\"46.9951\">Iterator</text><polygon fill=\"#FFFFFF\" filter=\"url(#f1)\" points=\"30,173,79,173,86,195.2969,381,195.2969,381,409,30,409,30,173\" style=\"stroke: #000000; stroke-width: 2.0;\"/><line style=\"stroke: #000000; stroke-width: 2.0;\" x1=\"30\" x2=\"86\" y1=\"195.2969\" y2=\"195.2969\"/><text fill=\"#000000\" font-family=\"sans-serif\" font-size=\"14\" font-weight=\"bold\" lengthAdjust=\"spacingAndGlyphs\" textLength=\"43\" x=\"34\" y=\"187.9951\">Menu</text><rect fill=\"#FEFECE\" filter=\"url(#f1)\" height=\"73.6094\" style=\"stroke: #A80036; stroke-width: 1.5;\" width=\"129\" x=\"568.5\" y=\"75\"/><ellipse cx=\"605.55\" cy=\"91\" fill=\"#B4A7E5\" rx=\"11\" ry=\"11\" style=\"stroke: #A80036; stroke-width: 1.0;\"/><path d=\"M601.4719,86.7656 L601.4719,84.6094 L608.8625,84.6094 L608.8625,86.7656 L606.3938,86.7656 L606.3938,94.8438 L608.8625,94.8438 L608.8625,97 L601.4719,97 L601.4719,94.8438 L603.9406,94.8438 L603.9406,86.7656 L601.4719,86.7656 Z \"/><text fill=\"#000000\" font-family=\"sans-serif\" font-size=\"12\" font-style=\"italic\" lengthAdjust=\"spacingAndGlyphs\" textLength=\"48\" x=\"624.45\" y=\"95.1543\">Iterator</text><line style=\"stroke: #A80036; stroke-width: 1.5;\" x1=\"569.5\" x2=\"696.5\" y1=\"107\" y2=\"107\"/><line style=\"stroke: #A80036; stroke-width: 1.5;\" x1=\"569.5\" x2=\"696.5\" y1=\"115\" y2=\"115\"/><ellipse cx=\"579.5\" cy=\"126.9023\" fill=\"#84BE84\" rx=\"3\" ry=\"3\" style=\"stroke: #038048; stroke-width: 1.0;\"/><text fill=\"#000000\" font-family=\"sans-serif\" font-size=\"11\" lengthAdjust=\"spacingAndGlyphs\" textLength=\"103\" x=\"588.5\" y=\"129.2104\">hasNext():boolean</text><ellipse cx=\"579.5\" cy=\"139.707\" fill=\"#84BE84\" rx=\"3\" ry=\"3\" style=\"stroke: #038048; stroke-width: 1.0;\"/><text fill=\"#000000\" font-family=\"sans-serif\" font-size=\"11\" lengthAdjust=\"spacingAndGlyphs\" textLength=\"72\" x=\"588.5\" y=\"142.0151\">next():Object</text><rect fill=\"#FEFECE\" filter=\"url(#f1)\" height=\"48\" style=\"stroke: #A80036; stroke-width: 1.5;\" width=\"146\" x=\"453\" y=\"222.5\"/><ellipse cx=\"468\" cy=\"238.5\" fill=\"#ADD1B2\" rx=\"11\" ry=\"11\" style=\"stroke: #A80036; stroke-width: 1.0;\"/><path d=\"M470.9688,244.1406 Q470.3906,244.4375 469.75,244.5859 Q469.1094,244.7344 468.4063,244.7344 Q465.9063,244.7344 464.5859,243.0859 Q463.2656,241.4375 463.2656,238.3125 Q463.2656,235.1875 464.5859,233.5313 Q465.9063,231.875 468.4063,231.875 Q469.1094,231.875 469.7578,232.0313 Q470.4063,232.1875 470.9688,232.4844 L470.9688,235.2031 Q470.3438,234.625 469.75,234.3516 Q469.1563,234.0781 468.5313,234.0781 Q467.1875,234.0781 466.5,235.1484 Q465.8125,236.2188 465.8125,238.3125 Q465.8125,240.4063 466.5,241.4766 Q467.1875,242.5469 468.5313,242.5469 Q469.1563,242.5469 469.75,242.2734 Q470.3438,242 470.9688,241.4219 L470.9688,244.1406 Z \"/><text fill=\"#000000\" font-family=\"sans-serif\" font-size=\"12\" lengthAdjust=\"spacingAndGlyphs\" textLength=\"114\" x=\"482\" y=\"242.6543\">DinerMenuIterator</text><line style=\"stroke: #A80036; stroke-width: 1.5;\" x1=\"454\" x2=\"598\" y1=\"254.5\" y2=\"254.5\"/><line style=\"stroke: #A80036; stroke-width: 1.5;\" x1=\"454\" x2=\"598\" y1=\"262.5\" y2=\"262.5\"/><rect fill=\"#FEFECE\" filter=\"url(#f1)\" height=\"48\" style=\"stroke: #A80036; stroke-width: 1.5;\" width=\"207\" x=\"634.5\" y=\"222.5\"/><ellipse cx=\"649.5\" cy=\"238.5\" fill=\"#ADD1B2\" rx=\"11\" ry=\"11\" style=\"stroke: #A80036; stroke-width: 1.0;\"/><path d=\"M652.4688,244.1406 Q651.8906,244.4375 651.25,244.5859 Q650.6094,244.7344 649.9063,244.7344 Q647.4063,244.7344 646.0859,243.0859 Q644.7656,241.4375 644.7656,238.3125 Q644.7656,235.1875 646.0859,233.5313 Q647.4063,231.875 649.9063,231.875 Q650.6094,231.875 651.2578,232.0313 Q651.9063,232.1875 652.4688,232.4844 L652.4688,235.2031 Q651.8438,234.625 651.25,234.3516 Q650.6563,234.0781 650.0313,234.0781 Q648.6875,234.0781 648,235.1484 Q647.3125,236.2188 647.3125,238.3125 Q647.3125,240.4063 648,241.4766 Q648.6875,242.5469 650.0313,242.5469 Q650.6563,242.5469 651.25,242.2734 Q651.8438,242 652.4688,241.4219 L652.4688,244.1406 Z \"/><text fill=\"#000000\" font-family=\"sans-serif\" font-size=\"12\" lengthAdjust=\"spacingAndGlyphs\" textLength=\"175\" x=\"663.5\" y=\"242.6543\">PancakeHouseMenuIterator</text><line style=\"stroke: #A80036; stroke-width: 1.5;\" x1=\"635.5\" x2=\"840.5\" y1=\"254.5\" y2=\"254.5\"/><line style=\"stroke: #A80036; stroke-width: 1.5;\" x1=\"635.5\" x2=\"840.5\" y1=\"262.5\" y2=\"262.5\"/><rect fill=\"#FEFECE\" filter=\"url(#f1)\" height=\"60.8047\" style=\"stroke: #A80036; stroke-width: 1.5;\" width=\"158\" x=\"135\" y=\"216\"/><ellipse cx=\"192.75\" cy=\"232\" fill=\"#B4A7E5\" rx=\"11\" ry=\"11\" style=\"stroke: #A80036; stroke-width: 1.0;\"/><path d=\"M188.6719,227.7656 L188.6719,225.6094 L196.0625,225.6094 L196.0625,227.7656 L193.5938,227.7656 L193.5938,235.8438 L196.0625,235.8438 L196.0625,238 L188.6719,238 L188.6719,235.8438 L191.1406,235.8438 L191.1406,227.7656 L188.6719,227.7656 Z \"/><text fill=\"#000000\" font-family=\"sans-serif\" font-size=\"12\" font-style=\"italic\" lengthAdjust=\"spacingAndGlyphs\" textLength=\"34\" x=\"213.25\" y=\"236.1543\">Menu</text><line style=\"stroke: #A80036; stroke-width: 1.5;\" x1=\"136\" x2=\"292\" y1=\"248\" y2=\"248\"/><line style=\"stroke: #A80036; stroke-width: 1.5;\" x1=\"136\" x2=\"292\" y1=\"256\" y2=\"256\"/><ellipse cx=\"146\" cy=\"267.9023\" fill=\"#84BE84\" rx=\"3\" ry=\"3\" style=\"stroke: #038048; stroke-width: 1.0;\"/><text fill=\"#000000\" font-family=\"sans-serif\" font-size=\"11\" lengthAdjust=\"spacingAndGlyphs\" textLength=\"132\" x=\"155\" y=\"270.2104\">createIterator():Iterator</text><rect fill=\"#FEFECE\" filter=\"url(#f1)\" height=\"48\" style=\"stroke: #A80036; stroke-width: 1.5;\" width=\"99\" x=\"62.5\" y=\"337\"/><ellipse cx=\"77.5\" cy=\"353\" fill=\"#ADD1B2\" rx=\"11\" ry=\"11\" style=\"stroke: #A80036; stroke-width: 1.0;\"/><path d=\"M80.4688,358.6406 Q79.8906,358.9375 79.25,359.0859 Q78.6094,359.2344 77.9063,359.2344 Q75.4063,359.2344 74.0859,357.5859 Q72.7656,355.9375 72.7656,352.8125 Q72.7656,349.6875 74.0859,348.0313 Q75.4063,346.375 77.9063,346.375 Q78.6094,346.375 79.2578,346.5313 Q79.9063,346.6875 80.4688,346.9844 L80.4688,349.7031 Q79.8438,349.125 79.25,348.8516 Q78.6563,348.5781 78.0313,348.5781 Q76.6875,348.5781 76,349.6484 Q75.3125,350.7188 75.3125,352.8125 Q75.3125,354.9063 76,355.9766 Q76.6875,357.0469 78.0313,357.0469 Q78.6563,357.0469 79.25,356.7734 Q79.8438,356.5 80.4688,355.9219 L80.4688,358.6406 Z \"/><text fill=\"#000000\" font-family=\"sans-serif\" font-size=\"12\" lengthAdjust=\"spacingAndGlyphs\" textLength=\"67\" x=\"91.5\" y=\"357.1543\">DinerMenu</text><line style=\"stroke: #A80036; stroke-width: 1.5;\" x1=\"63.5\" x2=\"160.5\" y1=\"369\" y2=\"369\"/><line style=\"stroke: #A80036; stroke-width: 1.5;\" x1=\"63.5\" x2=\"160.5\" y1=\"377\" y2=\"377\"/><rect fill=\"#FEFECE\" filter=\"url(#f1)\" height=\"48\" style=\"stroke: #A80036; stroke-width: 1.5;\" width=\"160\" x=\"197\" y=\"337\"/><ellipse cx=\"212\" cy=\"353\" fill=\"#ADD1B2\" rx=\"11\" ry=\"11\" style=\"stroke: #A80036; stroke-width: 1.0;\"/><path d=\"M214.9688,358.6406 Q214.3906,358.9375 213.75,359.0859 Q213.1094,359.2344 212.4063,359.2344 Q209.9063,359.2344 208.5859,357.5859 Q207.2656,355.9375 207.2656,352.8125 Q207.2656,349.6875 208.5859,348.0313 Q209.9063,346.375 212.4063,346.375 Q213.1094,346.375 213.7578,346.5313 Q214.4063,346.6875 214.9688,346.9844 L214.9688,349.7031 Q214.3438,349.125 213.75,348.8516 Q213.1563,348.5781 212.5313,348.5781 Q211.1875,348.5781 210.5,349.6484 Q209.8125,350.7188 209.8125,352.8125 Q209.8125,354.9063 210.5,355.9766 Q211.1875,357.0469 212.5313,357.0469 Q213.1563,357.0469 213.75,356.7734 Q214.3438,356.5 214.9688,355.9219 L214.9688,358.6406 Z \"/><text fill=\"#000000\" font-family=\"sans-serif\" font-size=\"12\" lengthAdjust=\"spacingAndGlyphs\" textLength=\"128\" x=\"226\" y=\"357.1543\">PancakeHouseMenu</text><line style=\"stroke: #A80036; stroke-width: 1.5;\" x1=\"198\" x2=\"356\" y1=\"369\" y2=\"369\"/><line style=\"stroke: #A80036; stroke-width: 1.5;\" x1=\"198\" x2=\"356\" y1=\"377\" y2=\"377\"/><path d=\"M591.06,164.935 C575.037,184.776 557.561,206.417 544.76,222.269 \" fill=\"none\" style=\"stroke: #A80036; stroke-width: 1.0; stroke-dasharray: 7.0,7.0;\"/><polygon fill=\"none\" points=\"585.75,160.368,603.762,149.206,596.642,169.164,585.75,160.368\" style=\"stroke: #A80036; stroke-width: 1.0;\"/><path d=\"M674.156,164.935 C689.879,184.776 707.028,206.417 719.59,222.269 \" fill=\"none\" style=\"stroke: #A80036; stroke-width: 1.0; stroke-dasharray: 7.0,7.0;\"/><polygon fill=\"none\" points=\"668.627,169.229,661.692,149.206,679.6,160.534,668.627,169.229\" style=\"stroke: #A80036; stroke-width: 1.0;\"/><path d=\"M173.404,292.275 C159.627,307.471 144.791,323.834 133.154,336.6686 \" fill=\"none\" style=\"stroke: #A80036; stroke-width: 1.0; stroke-dasharray: 7.0,7.0;\"/><polygon fill=\"none\" points=\"168.581,287.173,187.201,277.058,178.953,296.577,168.581,287.173\" style=\"stroke: #A80036; stroke-width: 1.0;\"/><path d=\"M240.423,294.683 C248.543,309.183 257.125,324.509 263.934,336.6686 \" fill=\"none\" style=\"stroke: #A80036; stroke-width: 1.0; stroke-dasharray: 7.0,7.0;\"/><polygon fill=\"none\" points=\"234.217,297.928,230.553,277.058,246.432,291.088,234.217,297.928\" style=\"stroke: #A80036; stroke-width: 1.0;\"/><path d=\"M474.255,272.675 C445.139,285.847 407.754,301.136 373,310.5 C288.974,333.1394 263.667,316.888 179,337 C173.376,338.3359 167.559,339.9565 161.809,341.7122 \" fill=\"none\" style=\"stroke: #A80036; stroke-width: 1.0; stroke-dasharray: 7.0,7.0;\"/><polygon fill=\"#A80036\" points=\"478.855,270.581,469.0066,270.6721,474.3049,272.6539,472.3232,277.9523,478.855,270.581\" style=\"stroke: #A80036; stroke-width: 1.0;\"/><path d=\"M697.076,273.209 C674.313,286.36 644.997,301.461 617,310.5 C530.718,338.3581 427.032,350.5854 357.028,355.9224 \" fill=\"none\" style=\"stroke: #A80036; stroke-width: 1.0; stroke-dasharray: 7.0,7.0;\"/><polygon fill=\"#A80036\" points=\"701.539,270.608,691.7492,271.6853,697.2195,273.1263,695.7785,278.5965,701.539,270.608\" style=\"stroke: #A80036; stroke-width: 1.0;\"/></g></svg>"
      ],
      "text/plain": [
       "<IPython.core.display.SVG object>"
      ]
     },
     "execution_count": 10,
     "metadata": {},
     "output_type": "execute_result"
    }
   ],
   "source": [
    "%%plantuml\n",
    "@startuml\n",
    "package Iterator {\n",
    "interface Iterator {\n",
    "    +hasNext():boolean\n",
    "    +next():Object\n",
    "}\n",
    "Iterator <|.. DinerMenuIterator\n",
    "Iterator <|.. PancakeHouseMenuIterator\n",
    "}\n",
    "package Menu {\n",
    "interface Menu {\n",
    "    +createIterator():Iterator\n",
    "}\n",
    "Menu <|.. DinerMenu\n",
    "Menu <|.. PancakeHouseMenu\n",
    "}\n",
    "DinerMenu .left.> DinerMenuIterator\n",
    "PancakeHouseMenu .left.> PancakeHouseMenuIterator\n",
    "@enduml"
   ]
  },
  {
   "cell_type": "code",
   "execution_count": 12,
   "metadata": {
    "collapsed": false,
    "slideshow": {
     "slide_type": "slide"
    }
   },
   "outputs": [
    {
     "data": {
      "image/svg+xml": [
       "<svg height=\"473px\" style=\"width:1148px;height:473px;\" version=\"1.1\" viewBox=\"0 0 1148 473\" width=\"1148px\" xmlns=\"http://www.w3.org/2000/svg\" xmlns:xlink=\"http://www.w3.org/1999/xlink\"><defs><filter height=\"300%\" id=\"f1\" width=\"300%\" x=\"-1\" y=\"-1\"><feGaussianBlur result=\"blurOut\" stdDeviation=\"2.0\"/><feColorMatrix in=\"blurOut\" result=\"blurOut2\" type=\"matrix\" values=\"0 0 0 0 0 0 0 0 0 0 0 0 0 0 0 0 0 0 .4 0\"/><feOffset dx=\"4.0\" dy=\"4.0\" in=\"blurOut2\" result=\"blurOut3\"/><feBlend in=\"SourceGraphic\" in2=\"blurOut3\" mode=\"normal\"/></filter></defs><g><rect fill=\"#FEFECE\" filter=\"url(#f1)\" height=\"73.6094\" style=\"stroke: #A80036; stroke-width: 1.5;\" width=\"115\" x=\"322\" y=\"8\"/><ellipse cx=\"352.75\" cy=\"24\" fill=\"#B4A7E5\" rx=\"11\" ry=\"11\" style=\"stroke: #A80036; stroke-width: 1.0;\"/><path d=\"M348.6719,19.7656 L348.6719,17.6094 L356.0625,17.6094 L356.0625,19.7656 L353.5938,19.7656 L353.5938,27.8438 L356.0625,27.8438 L356.0625,30 L348.6719,30 L348.6719,27.8438 L351.1406,27.8438 L351.1406,19.7656 L348.6719,19.7656 Z \"/><text fill=\"#000000\" font-family=\"sans-serif\" font-size=\"12\" font-style=\"italic\" lengthAdjust=\"spacingAndGlyphs\" textLength=\"48\" x=\"370.25\" y=\"28.1543\">Iterator</text><line style=\"stroke: #A80036; stroke-width: 1.5;\" x1=\"323\" x2=\"436\" y1=\"40\" y2=\"40\"/><line style=\"stroke: #A80036; stroke-width: 1.5;\" x1=\"323\" x2=\"436\" y1=\"48\" y2=\"48\"/><text fill=\"#000000\" font-family=\"sans-serif\" font-size=\"11\" lengthAdjust=\"spacingAndGlyphs\" textLength=\"103\" x=\"328\" y=\"62.2104\">hasNext():boolean</text><text fill=\"#000000\" font-family=\"sans-serif\" font-size=\"11\" lengthAdjust=\"spacingAndGlyphs\" textLength=\"72\" x=\"328\" y=\"75.0151\">next():Object</text><rect fill=\"#FEFECE\" filter=\"url(#f1)\" height=\"60.8047\" style=\"stroke: #A80036; stroke-width: 1.5;\" width=\"150\" x=\"574.5\" y=\"14.5\"/><ellipse cx=\"628.25\" cy=\"30.5\" fill=\"#B4A7E5\" rx=\"11\" ry=\"11\" style=\"stroke: #A80036; stroke-width: 1.0;\"/><path d=\"M624.1719,26.2656 L624.1719,24.1094 L631.5625,24.1094 L631.5625,26.2656 L629.0938,26.2656 L629.0938,34.3438 L631.5625,34.3438 L631.5625,36.5 L624.1719,36.5 L624.1719,34.3438 L626.6406,34.3438 L626.6406,26.2656 L624.1719,26.2656 Z \"/><text fill=\"#000000\" font-family=\"sans-serif\" font-size=\"12\" font-style=\"italic\" lengthAdjust=\"spacingAndGlyphs\" textLength=\"34\" x=\"648.75\" y=\"34.6543\">Menu</text><line style=\"stroke: #A80036; stroke-width: 1.5;\" x1=\"575.5\" x2=\"723.5\" y1=\"46.5\" y2=\"46.5\"/><ellipse cx=\"585.5\" cy=\"58.4023\" fill=\"none\" rx=\"3\" ry=\"3\" style=\"stroke: #038048; stroke-width: 1.0;\"/><text fill=\"#000000\" font-family=\"sans-serif\" font-size=\"11\" lengthAdjust=\"spacingAndGlyphs\" textLength=\"124\" x=\"594.5\" y=\"60.7104\">createIterator:Iterator</text><line style=\"stroke: #A80036; stroke-width: 1.5;\" x1=\"575.5\" x2=\"723.5\" y1=\"67.3047\" y2=\"67.3047\"/><rect fill=\"#FEFECE\" filter=\"url(#f1)\" height=\"112.0234\" style=\"stroke: #A80036; stroke-width: 1.5;\" width=\"239\" x=\"6\" y=\"155\"/><ellipse cx=\"35.4\" cy=\"171\" fill=\"#ADD1B2\" rx=\"11\" ry=\"11\" style=\"stroke: #A80036; stroke-width: 1.0;\"/><path d=\"M38.3688,176.6406 Q37.7906,176.9375 37.15,177.0859 Q36.5094,177.2344 35.8063,177.2344 Q33.3063,177.2344 31.9859,175.5859 Q30.6656,173.9375 30.6656,170.8125 Q30.6656,167.6875 31.9859,166.0313 Q33.3063,164.375 35.8063,164.375 Q36.5094,164.375 37.1578,164.5313 Q37.8063,164.6875 38.3688,164.9844 L38.3688,167.7031 Q37.7438,167.125 37.15,166.8516 Q36.5563,166.5781 35.9313,166.5781 Q34.5875,166.5781 33.9,167.6484 Q33.2125,168.7188 33.2125,170.8125 Q33.2125,172.9063 33.9,173.9766 Q34.5875,175.0469 35.9313,175.0469 Q36.5563,175.0469 37.15,174.7734 Q37.7438,174.5 38.3688,173.9219 L38.3688,176.6406 Z \"/><text fill=\"#000000\" font-family=\"sans-serif\" font-size=\"12\" lengthAdjust=\"spacingAndGlyphs\" textLength=\"175\" x=\"52.6\" y=\"175.1543\">PancakeHouseMenuIterator</text><line style=\"stroke: #A80036; stroke-width: 1.5;\" x1=\"7\" x2=\"244\" y1=\"187\" y2=\"187\"/><rect fill=\"none\" height=\"6\" style=\"stroke: #C82930; stroke-width: 1.0;\" width=\"6\" x=\"14\" y=\"195.9023\"/><text fill=\"#000000\" font-family=\"sans-serif\" font-size=\"11\" lengthAdjust=\"spacingAndGlyphs\" textLength=\"86\" x=\"26\" y=\"201.2104\">items:ArrayList</text><rect fill=\"none\" height=\"6\" style=\"stroke: #C82930; stroke-width: 1.0;\" width=\"6\" x=\"14\" y=\"208.707\"/><text fill=\"#000000\" font-family=\"sans-serif\" font-size=\"11\" lengthAdjust=\"spacingAndGlyphs\" textLength=\"63\" x=\"26\" y=\"214.0151\">position:int</text><line style=\"stroke: #A80036; stroke-width: 1.5;\" x1=\"7\" x2=\"244\" y1=\"220.6094\" y2=\"220.6094\"/><ellipse cx=\"17\" cy=\"232.5117\" fill=\"#84BE84\" rx=\"3\" ry=\"3\" style=\"stroke: #038048; stroke-width: 1.0;\"/><text fill=\"#000000\" font-family=\"sans-serif\" font-size=\"11\" lengthAdjust=\"spacingAndGlyphs\" textLength=\"213\" x=\"26\" y=\"234.8198\">PancakeHouseMenuIterator(ArrayList)</text><ellipse cx=\"17\" cy=\"245.3164\" fill=\"#84BE84\" rx=\"3\" ry=\"3\" style=\"stroke: #038048; stroke-width: 1.0;\"/><text fill=\"#000000\" font-family=\"sans-serif\" font-size=\"11\" lengthAdjust=\"spacingAndGlyphs\" textLength=\"72\" x=\"26\" y=\"247.6245\">next():Object</text><ellipse cx=\"17\" cy=\"258.1211\" fill=\"#84BE84\" rx=\"3\" ry=\"3\" style=\"stroke: #038048; stroke-width: 1.0;\"/><text fill=\"#000000\" font-family=\"sans-serif\" font-size=\"11\" lengthAdjust=\"spacingAndGlyphs\" textLength=\"103\" x=\"26\" y=\"260.4292\">hasNext():boolean</text><rect fill=\"#FEFECE\" filter=\"url(#f1)\" height=\"124.8281\" style=\"stroke: #A80036; stroke-width: 1.5;\" width=\"270\" x=\"514.5\" y=\"148.5\"/><ellipse cx=\"581.25\" cy=\"164.5\" fill=\"#ADD1B2\" rx=\"11\" ry=\"11\" style=\"stroke: #A80036; stroke-width: 1.0;\"/><path d=\"M584.2188,170.1406 Q583.6406,170.4375 583,170.5859 Q582.3594,170.7344 581.6563,170.7344 Q579.1563,170.7344 577.8359,169.0859 Q576.5156,167.4375 576.5156,164.3125 Q576.5156,161.1875 577.8359,159.5313 Q579.1563,157.875 581.6563,157.875 Q582.3594,157.875 583.0078,158.0313 Q583.6563,158.1875 584.2188,158.4844 L584.2188,161.2031 Q583.5938,160.625 583,160.3516 Q582.4063,160.0781 581.7813,160.0781 Q580.4375,160.0781 579.75,161.1484 Q579.0625,162.2188 579.0625,164.3125 Q579.0625,166.4063 579.75,167.4766 Q580.4375,168.5469 581.7813,168.5469 Q582.4063,168.5469 583,168.2734 Q583.5938,168 584.2188,167.4219 L584.2188,170.1406 Z \"/><text fill=\"#000000\" font-family=\"sans-serif\" font-size=\"12\" lengthAdjust=\"spacingAndGlyphs\" textLength=\"128\" x=\"601.75\" y=\"168.6543\">PancakeHouseMenu</text><line style=\"stroke: #A80036; stroke-width: 1.5;\" x1=\"515.5\" x2=\"783.5\" y1=\"180.5\" y2=\"180.5\"/><rect fill=\"none\" height=\"6\" style=\"stroke: #C82930; stroke-width: 1.0;\" width=\"6\" x=\"522.5\" y=\"189.4023\"/><text fill=\"#000000\" font-family=\"sans-serif\" font-size=\"11\" lengthAdjust=\"spacingAndGlyphs\" textLength=\"118\" x=\"534.5\" y=\"194.7104\">menuItems:ArrayList</text><line style=\"stroke: #A80036; stroke-width: 1.5;\" x1=\"515.5\" x2=\"783.5\" y1=\"201.3047\" y2=\"201.3047\"/><ellipse cx=\"525.5\" cy=\"213.207\" fill=\"#84BE84\" rx=\"3\" ry=\"3\" style=\"stroke: #038048; stroke-width: 1.0;\"/><text fill=\"#000000\" font-family=\"sans-serif\" font-size=\"11\" lengthAdjust=\"spacingAndGlyphs\" textLength=\"148\" x=\"534.5\" y=\"215.5151\">PancakeHouseMenu():void</text><ellipse cx=\"525.5\" cy=\"226.0117\" fill=\"#84BE84\" rx=\"3\" ry=\"3\" style=\"stroke: #038048; stroke-width: 1.0;\"/><text fill=\"#000000\" font-family=\"sans-serif\" font-size=\"11\" lengthAdjust=\"spacingAndGlyphs\" textLength=\"244\" x=\"534.5\" y=\"228.3198\">addItem(String,String,boolean,double):void</text><ellipse cx=\"525.5\" cy=\"238.8164\" fill=\"#84BE84\" rx=\"3\" ry=\"3\" style=\"stroke: #038048; stroke-width: 1.0;\"/><text fill=\"#000000\" font-family=\"sans-serif\" font-size=\"11\" lengthAdjust=\"spacingAndGlyphs\" textLength=\"142\" x=\"534.5\" y=\"241.1245\">getMenuItems():ArrayList</text><ellipse cx=\"525.5\" cy=\"251.6211\" fill=\"#84BE84\" rx=\"3\" ry=\"3\" style=\"stroke: #038048; stroke-width: 1.0;\"/><text fill=\"#000000\" font-family=\"sans-serif\" font-size=\"11\" lengthAdjust=\"spacingAndGlyphs\" textLength=\"132\" x=\"534.5\" y=\"253.9292\">createIterator():Iterator</text><ellipse cx=\"525.5\" cy=\"264.4258\" fill=\"#84BE84\" rx=\"3\" ry=\"3\" style=\"stroke: #038048; stroke-width: 1.0;\"/><text fill=\"#000000\" font-family=\"sans-serif\" font-size=\"11\" lengthAdjust=\"spacingAndGlyphs\" textLength=\"91\" x=\"534.5\" y=\"266.7339\">toString():String</text><rect fill=\"#FEFECE\" filter=\"url(#f1)\" height=\"124.8281\" style=\"stroke: #A80036; stroke-width: 1.5;\" width=\"252\" x=\"553.5\" y=\"340\"/><ellipse cx=\"644.75\" cy=\"356\" fill=\"#ADD1B2\" rx=\"11\" ry=\"11\" style=\"stroke: #A80036; stroke-width: 1.0;\"/><path d=\"M647.7188,361.6406 Q647.1406,361.9375 646.5,362.0859 Q645.8594,362.2344 645.1563,362.2344 Q642.6563,362.2344 641.3359,360.5859 Q640.0156,358.9375 640.0156,355.8125 Q640.0156,352.6875 641.3359,351.0313 Q642.6563,349.375 645.1563,349.375 Q645.8594,349.375 646.5078,349.5313 Q647.1563,349.6875 647.7188,349.9844 L647.7188,352.7031 Q647.0938,352.125 646.5,351.8516 Q645.9063,351.5781 645.2813,351.5781 Q643.9375,351.5781 643.25,352.6484 Q642.5625,353.7188 642.5625,355.8125 Q642.5625,357.9063 643.25,358.9766 Q643.9375,360.0469 645.2813,360.0469 Q645.9063,360.0469 646.5,359.7734 Q647.0938,359.5 647.7188,358.9219 L647.7188,361.6406 Z \"/><text fill=\"#000000\" font-family=\"sans-serif\" font-size=\"12\" lengthAdjust=\"spacingAndGlyphs\" textLength=\"61\" x=\"665.25\" y=\"360.1543\">MenuItem</text><line style=\"stroke: #A80036; stroke-width: 1.5;\" x1=\"554.5\" x2=\"804.5\" y1=\"372\" y2=\"372\"/><line style=\"stroke: #A80036; stroke-width: 1.5;\" x1=\"554.5\" x2=\"804.5\" y1=\"380\" y2=\"380\"/><ellipse cx=\"564.5\" cy=\"391.9023\" fill=\"#84BE84\" rx=\"3\" ry=\"3\" style=\"stroke: #038048; stroke-width: 1.0;\"/><text fill=\"#000000\" font-family=\"sans-serif\" font-size=\"11\" lengthAdjust=\"spacingAndGlyphs\" textLength=\"226\" x=\"573.5\" y=\"394.2104\">MenuItem(String,String,boolean,double)</text><ellipse cx=\"564.5\" cy=\"404.707\" fill=\"#84BE84\" rx=\"3\" ry=\"3\" style=\"stroke: #038048; stroke-width: 1.0;\"/><text fill=\"#000000\" font-family=\"sans-serif\" font-size=\"11\" lengthAdjust=\"spacingAndGlyphs\" textLength=\"97\" x=\"573.5\" y=\"407.0151\">getName():String</text><ellipse cx=\"564.5\" cy=\"417.5117\" fill=\"#84BE84\" rx=\"3\" ry=\"3\" style=\"stroke: #038048; stroke-width: 1.0;\"/><text fill=\"#000000\" font-family=\"sans-serif\" font-size=\"11\" lengthAdjust=\"spacingAndGlyphs\" textLength=\"128\" x=\"573.5\" y=\"419.8198\">getDescription():String</text><ellipse cx=\"564.5\" cy=\"430.3164\" fill=\"#84BE84\" rx=\"3\" ry=\"3\" style=\"stroke: #038048; stroke-width: 1.0;\"/><text fill=\"#000000\" font-family=\"sans-serif\" font-size=\"11\" lengthAdjust=\"spacingAndGlyphs\" textLength=\"89\" x=\"573.5\" y=\"432.6245\">getPrice():duble</text><ellipse cx=\"564.5\" cy=\"443.1211\" fill=\"#84BE84\" rx=\"3\" ry=\"3\" style=\"stroke: #038048; stroke-width: 1.0;\"/><text fill=\"#000000\" font-family=\"sans-serif\" font-size=\"11\" lengthAdjust=\"spacingAndGlyphs\" textLength=\"128\" x=\"573.5\" y=\"445.4292\">isVegetarian():boolean</text><ellipse cx=\"564.5\" cy=\"455.9258\" fill=\"#84BE84\" rx=\"3\" ry=\"3\" style=\"stroke: #038048; stroke-width: 1.0;\"/><text fill=\"#000000\" font-family=\"sans-serif\" font-size=\"11\" lengthAdjust=\"spacingAndGlyphs\" textLength=\"91\" x=\"573.5\" y=\"458.2339\">toString():String</text><rect fill=\"#FEFECE\" filter=\"url(#f1)\" height=\"112.0234\" style=\"stroke: #A80036; stroke-width: 1.5;\" width=\"199\" x=\"280\" y=\"155\"/><ellipse cx=\"318.85\" cy=\"171\" fill=\"#ADD1B2\" rx=\"11\" ry=\"11\" style=\"stroke: #A80036; stroke-width: 1.0;\"/><path d=\"M321.8188,176.6406 Q321.2406,176.9375 320.6,177.0859 Q319.9594,177.2344 319.2563,177.2344 Q316.7563,177.2344 315.4359,175.5859 Q314.1156,173.9375 314.1156,170.8125 Q314.1156,167.6875 315.4359,166.0313 Q316.7563,164.375 319.2563,164.375 Q319.9594,164.375 320.6078,164.5313 Q321.2563,164.6875 321.8188,164.9844 L321.8188,167.7031 Q321.1938,167.125 320.6,166.8516 Q320.0063,166.5781 319.3813,166.5781 Q318.0375,166.5781 317.35,167.6484 Q316.6625,168.7188 316.6625,170.8125 Q316.6625,172.9063 317.35,173.9766 Q318.0375,175.0469 319.3813,175.0469 Q320.0063,175.0469 320.6,174.7734 Q321.1938,174.5 321.8188,173.9219 L321.8188,176.6406 Z \"/><text fill=\"#000000\" font-family=\"sans-serif\" font-size=\"12\" lengthAdjust=\"spacingAndGlyphs\" textLength=\"114\" x=\"338.15\" y=\"175.1543\">DinerMenuIterator</text><line style=\"stroke: #A80036; stroke-width: 1.5;\" x1=\"281\" x2=\"478\" y1=\"187\" y2=\"187\"/><rect fill=\"none\" height=\"6\" style=\"stroke: #C82930; stroke-width: 1.0;\" width=\"6\" x=\"288\" y=\"195.9023\"/><text fill=\"#000000\" font-family=\"sans-serif\" font-size=\"11\" lengthAdjust=\"spacingAndGlyphs\" textLength=\"99\" x=\"300\" y=\"201.2104\">items:MenuItem[]</text><rect fill=\"none\" height=\"6\" style=\"stroke: #C82930; stroke-width: 1.0;\" width=\"6\" x=\"288\" y=\"208.707\"/><text fill=\"#000000\" font-family=\"sans-serif\" font-size=\"11\" lengthAdjust=\"spacingAndGlyphs\" textLength=\"63\" x=\"300\" y=\"214.0151\">position:int</text><line style=\"stroke: #A80036; stroke-width: 1.5;\" x1=\"281\" x2=\"478\" y1=\"220.6094\" y2=\"220.6094\"/><ellipse cx=\"291\" cy=\"232.5117\" fill=\"#84BE84\" rx=\"3\" ry=\"3\" style=\"stroke: #038048; stroke-width: 1.0;\"/><text fill=\"#000000\" font-family=\"sans-serif\" font-size=\"11\" lengthAdjust=\"spacingAndGlyphs\" textLength=\"173\" x=\"300\" y=\"234.8198\">DinerMenuIterator(MenuItem[])</text><ellipse cx=\"291\" cy=\"245.3164\" fill=\"#84BE84\" rx=\"3\" ry=\"3\" style=\"stroke: #038048; stroke-width: 1.0;\"/><text fill=\"#000000\" font-family=\"sans-serif\" font-size=\"11\" lengthAdjust=\"spacingAndGlyphs\" textLength=\"72\" x=\"300\" y=\"247.6245\">next():Object</text><ellipse cx=\"291\" cy=\"258.1211\" fill=\"#84BE84\" rx=\"3\" ry=\"3\" style=\"stroke: #038048; stroke-width: 1.0;\"/><text fill=\"#000000\" font-family=\"sans-serif\" font-size=\"11\" lengthAdjust=\"spacingAndGlyphs\" textLength=\"103\" x=\"300\" y=\"260.4292\">hasNext():boolean</text><rect fill=\"#FEFECE\" filter=\"url(#f1)\" height=\"137.6328\" style=\"stroke: #A80036; stroke-width: 1.5;\" width=\"319\" x=\"820\" y=\"142\"/><ellipse cx=\"941.75\" cy=\"158\" fill=\"#ADD1B2\" rx=\"11\" ry=\"11\" style=\"stroke: #A80036; stroke-width: 1.0;\"/><path d=\"M944.7188,163.6406 Q944.1406,163.9375 943.5,164.0859 Q942.8594,164.2344 942.1563,164.2344 Q939.6563,164.2344 938.3359,162.5859 Q937.0156,160.9375 937.0156,157.8125 Q937.0156,154.6875 938.3359,153.0313 Q939.6563,151.375 942.1563,151.375 Q942.8594,151.375 943.5078,151.5313 Q944.1563,151.6875 944.7188,151.9844 L944.7188,154.7031 Q944.0938,154.125 943.5,153.8516 Q942.9063,153.5781 942.2813,153.5781 Q940.9375,153.5781 940.25,154.6484 Q939.5625,155.7188 939.5625,157.8125 Q939.5625,159.9063 940.25,160.9766 Q940.9375,162.0469 942.2813,162.0469 Q942.9063,162.0469 943.5,161.7734 Q944.0938,161.5 944.7188,160.9219 L944.7188,163.6406 Z \"/><text fill=\"#000000\" font-family=\"sans-serif\" font-size=\"12\" lengthAdjust=\"spacingAndGlyphs\" textLength=\"67\" x=\"962.25\" y=\"162.1543\">DinerMenu</text><line style=\"stroke: #A80036; stroke-width: 1.5;\" x1=\"821\" x2=\"1138\" y1=\"174\" y2=\"174\"/><rect fill=\"none\" height=\"6\" style=\"stroke: #C82930; stroke-width: 1.0;\" width=\"6\" x=\"828\" y=\"182.9023\"/><text fill=\"#000000\" font-family=\"sans-serif\" font-size=\"11\" lengthAdjust=\"spacingAndGlyphs\" textLength=\"160\" x=\"840\" y=\"188.2104\">static final MAX_ITEMS=6:int</text><rect fill=\"none\" height=\"6\" style=\"stroke: #C82930; stroke-width: 1.0;\" width=\"6\" x=\"828\" y=\"195.707\"/><text fill=\"#000000\" font-family=\"sans-serif\" font-size=\"11\" lengthAdjust=\"spacingAndGlyphs\" textLength=\"107\" x=\"840\" y=\"201.0151\">numberOfItems:int</text><rect fill=\"none\" height=\"6\" style=\"stroke: #C82930; stroke-width: 1.0;\" width=\"6\" x=\"828\" y=\"208.5117\"/><text fill=\"#000000\" font-family=\"sans-serif\" font-size=\"11\" lengthAdjust=\"spacingAndGlyphs\" textLength=\"131\" x=\"840\" y=\"213.8198\">menuItems:MenuItem[]</text><line style=\"stroke: #A80036; stroke-width: 1.5;\" x1=\"821\" x2=\"1138\" y1=\"220.4141\" y2=\"220.4141\"/><ellipse cx=\"831\" cy=\"232.3164\" fill=\"#84BE84\" rx=\"3\" ry=\"3\" style=\"stroke: #038048; stroke-width: 1.0;\"/><text fill=\"#000000\" font-family=\"sans-serif\" font-size=\"11\" lengthAdjust=\"spacingAndGlyphs\" textLength=\"95\" x=\"840\" y=\"234.6245\">DinerMenu():void</text><ellipse cx=\"831\" cy=\"245.1211\" fill=\"#84BE84\" rx=\"3\" ry=\"3\" style=\"stroke: #038048; stroke-width: 1.0;\"/><text fill=\"#000000\" font-family=\"sans-serif\" font-size=\"11\" lengthAdjust=\"spacingAndGlyphs\" textLength=\"293\" x=\"840\" y=\"247.4292\">addItem(String,String,boolean,boolean,double):void</text><ellipse cx=\"831\" cy=\"257.9258\" fill=\"#84BE84\" rx=\"3\" ry=\"3\" style=\"stroke: #038048; stroke-width: 1.0;\"/><text fill=\"#000000\" font-family=\"sans-serif\" font-size=\"11\" lengthAdjust=\"spacingAndGlyphs\" textLength=\"155\" x=\"840\" y=\"260.2339\">getMenuItems():MenuItem[]</text><ellipse cx=\"831\" cy=\"270.7305\" fill=\"#84BE84\" rx=\"3\" ry=\"3\" style=\"stroke: #038048; stroke-width: 1.0;\"/><text fill=\"#000000\" font-family=\"sans-serif\" font-size=\"11\" lengthAdjust=\"spacingAndGlyphs\" textLength=\"132\" x=\"840\" y=\"273.0386\">createIterator():Iterator</text><path d=\"M442.336,45 C486.379,45 530.422,45 574.464,45 \" fill=\"none\" style=\"stroke: #A80036; stroke-width: 1.0; stroke-dasharray: 7.0,7.0;\"/><polygon fill=\"#A80036\" points=\"437.244,45,446.244,49,442.244,45,446.244,41,437.244,45\" style=\"stroke: #A80036; stroke-width: 1.0;\"/><path d=\"M649.5,95.923 C649.5,112.422 649.5,130.977 649.5,148.253 \" fill=\"none\" style=\"stroke: #A80036; stroke-width: 1.0; stroke-dasharray: 7.0,7.0;\"/><polygon fill=\"none\" points=\"642.5,95.699,649.5,75.699,656.5,95.699,642.5,95.699\" style=\"stroke: #A80036; stroke-width: 1.0;\"/><path d=\"M306.498,93.135 C276.646,112.41 241.902,134.843 210.883,154.871 \" fill=\"none\" style=\"stroke: #A80036; stroke-width: 1.0; stroke-dasharray: 7.0,7.0;\"/><polygon fill=\"none\" points=\"302.845,87.161,323.444,82.194,310.439,98.923,302.845,87.161\" style=\"stroke: #A80036; stroke-width: 1.0;\"/><path d=\"M727.213,84.621 C761.64,101.73 803.186,122.377 842.539,141.935 \" fill=\"none\" style=\"stroke: #A80036; stroke-width: 1.0; stroke-dasharray: 7.0,7.0;\"/><polygon fill=\"none\" points=\"723.673,90.679,708.879,75.509,729.904,78.142,723.673,90.679\" style=\"stroke: #A80036; stroke-width: 1.0;\"/><path d=\"M379.5,102.457 C379.5,119.46 379.5,138.091 379.5,154.998 \" fill=\"none\" style=\"stroke: #A80036; stroke-width: 1.0; stroke-dasharray: 7.0,7.0;\"/><polygon fill=\"none\" points=\"372.5,102.397,379.5,82.397,386.5,102.397,372.5,102.397\" style=\"stroke: #A80036; stroke-width: 1.0;\"/><path d=\"M871.617,280.146 C842.157,298.755 810.338,318.854 781.234,337.238 \" fill=\"none\" style=\"stroke: #A80036; stroke-width: 1.0;\"/><polygon fill=\"#A80036\" points=\"776.96,339.938,786.705,338.5113,781.1867,337.2669,782.4311,331.7486,776.96,339.938\" style=\"stroke: #A80036; stroke-width: 1.0;\"/><path d=\"M466.675,267.066 C501.42,289.013 541.653,314.427 577.724,337.211 \" fill=\"none\" style=\"stroke: #A80036; stroke-width: 1.0;\"/><polygon fill=\"#A80036\" points=\"582.101,339.976,576.6266,331.7887,577.8733,337.3065,572.3555,338.5531,582.101,339.976\" style=\"stroke: #A80036; stroke-width: 1.0;\"/></g></svg>"
      ],
      "text/plain": [
       "<IPython.core.display.SVG object>"
      ]
     },
     "execution_count": 12,
     "metadata": {},
     "output_type": "execute_result"
    }
   ],
   "source": [
    "%%plantuml\n",
    "@startuml\n",
    "interface Iterator {\n",
    "    hasNext():boolean\n",
    "    next():Object\n",
    "}\n",
    "interface Menu {\n",
    "    +createIterator:Iterator\n",
    "}\n",
    "class PancakeHouseMenuIterator {\n",
    "    -items:ArrayList\n",
    "    -position:int\n",
    "    +PancakeHouseMenuIterator(ArrayList)\n",
    "    +next():Object\n",
    "    +hasNext():boolean\n",
    "}\n",
    "class PancakeHouseMenu {\n",
    "    -menuItems:ArrayList\n",
    "    +PancakeHouseMenu():void\n",
    "    +addItem(String,String,boolean,double):void\n",
    "    +getMenuItems():ArrayList\n",
    "    +createIterator():Iterator\n",
    "    +toString():String\n",
    "}\n",
    "class MenuItem {\n",
    "    +MenuItem(String,String,boolean,double)\n",
    "    +getName():String\n",
    "    +getDescription():String\n",
    "    +getPrice():duble\n",
    "    +isVegetarian():boolean\n",
    "    +toString():String\n",
    "}\n",
    "class DinerMenuIterator {\n",
    "    -items:MenuItem[]\n",
    "    -position:int\n",
    "    +DinerMenuIterator(MenuItem[])\n",
    "    +next():Object\n",
    "    +hasNext():boolean\n",
    "}\n",
    "class DinerMenu {\n",
    "    -static final MAX_ITEMS=6:int\n",
    "    -numberOfItems:int\n",
    "    -menuItems:MenuItem[]\n",
    "    +DinerMenu():void\n",
    "    +addItem(String,String,boolean,boolean,double):void\n",
    "    +getMenuItems():MenuItem[]\n",
    "    +createIterator():Iterator\n",
    "    '+toString():String\n",
    "}\n",
    "Menu .left.> Iterator\n",
    "Menu <|.. PancakeHouseMenu\n",
    "Iterator <|.. PancakeHouseMenuIterator\n",
    "Menu <|.. DinerMenu\n",
    "Iterator <|.. DinerMenuIterator\n",
    "DinerMenu --> MenuItem\n",
    "DinerMenuIterator --> MenuItem\n",
    "@enduml"
   ]
  },
  {
   "cell_type": "code",
   "execution_count": null,
   "metadata": {
    "collapsed": false,
    "slideshow": {
     "slide_type": "slide"
    }
   },
   "outputs": [],
   "source": [
    "# %load ./src/headfirst/iterator/dinermerger/after/Iterator.java\n",
    "package headfirst.iterator.dinermerger.after;\n",
    "\n",
    "public interface Iterator {\n",
    "    boolean hasNext();\n",
    "    Object next();\n",
    "}\n"
   ]
  },
  {
   "cell_type": "code",
   "execution_count": null,
   "metadata": {
    "collapsed": true,
    "slideshow": {
     "slide_type": "slide"
    }
   },
   "outputs": [],
   "source": [
    "# %load ./src/headfirst/iterator/dinermerger/after/DinerMenuIterator.java\n",
    "package headfirst.iterator.dinermerger.after;\n",
    "\n",
    "public class DinerMenuIterator implements Iterator {\n",
    "    MenuItem[] items;\n",
    "    int position = 0;\n",
    "\n",
    "    public DinerMenuIterator(MenuItem[] items) {\n",
    "        this.items = items;\n",
    "    }\n",
    " \n",
    "    public Object next() {\n",
    "        MenuItem menuItem = items[position];\n",
    "        position = position + 1;\n",
    "        return menuItem;\n",
    "    }\n",
    "    public boolean hasNext() {\n",
    "        if (position >= items.length || items[position] == null) {\n",
    "            return false;\n",
    "        } else {\n",
    "            return true;\n",
    "        }\n",
    "    }\n",
    "}\n"
   ]
  },
  {
   "cell_type": "code",
   "execution_count": null,
   "metadata": {
    "collapsed": true,
    "slideshow": {
     "slide_type": "slide"
    }
   },
   "outputs": [],
   "source": [
    "# %load ./src/headfirst/iterator/dinermerger/after/MenuItem.java\n",
    "package headfirst.iterator.dinermerger.after;\n",
    "\n",
    "public class MenuItem {\n",
    "    String name;\n",
    "    String description;\n",
    "    boolean vegetarian; //jsl20151122: used in isVegetarian() and for waitress to order\n",
    "    double price;\n",
    " \n",
    "    public MenuItem(String name, String description, boolean vegetarian, double price) {\n",
    "        this.name = name;\n",
    "        this.description = description;\n",
    "        this.vegetarian = vegetarian;\n",
    "        this.price = price;\n",
    "    }\n",
    "    public String getName() {\n",
    "        return name;\n",
    "    }\n",
    "    public String getDescription() {\n",
    "        return description;\n",
    "    }\n",
    "    public double getPrice() {\n",
    "        return price;\n",
    "    }\n",
    "    public String toString() {\n",
    "        return (name + \", $\" + price + \"\\n   \" + description);\n",
    "    }\n",
    "}\n"
   ]
  },
  {
   "cell_type": "code",
   "execution_count": null,
   "metadata": {
    "collapsed": true,
    "slideshow": {
     "slide_type": "slide"
    }
   },
   "outputs": [],
   "source": [
    "# %load ./src/headfirst/iterator/dinermerger/after/PancakeHouseMenuIterator.java\n",
    "package headfirst.iterator.dinermerger.after;\n",
    "\n",
    "import java.util.ArrayList;\n",
    "\n",
    "public class PancakeHouseMenuIterator implements Iterator {\n",
    "    ArrayList items;\n",
    "    int position = 0;\n",
    "    public PancakeHouseMenuIterator(ArrayList items) {\n",
    "        this.items = items;\n",
    "    }\n",
    "    public Object next() {\n",
    "        Object object = items.get(position);\n",
    "        position = position + 1;\n",
    "        return object;\n",
    "    }\n",
    "    public boolean hasNext() {\n",
    "        if (position >= items.size()) {\n",
    "            return false;\n",
    "        } else {\n",
    "            return true;\n",
    "        }\n",
    "    }\n",
    "}\n"
   ]
  },
  {
   "cell_type": "code",
   "execution_count": null,
   "metadata": {
    "collapsed": true,
    "slideshow": {
     "slide_type": "slide"
    }
   },
   "outputs": [],
   "source": [
    "# %load ./src/headfirst/iterator/dinermerger/after/Menu.java\n",
    "package headfirst.iterator.dinermerger.after;\n",
    "\n",
    "public interface Menu {\n",
    "    public Iterator createIterator();\n",
    "}\n"
   ]
  },
  {
   "cell_type": "code",
   "execution_count": null,
   "metadata": {
    "collapsed": true,
    "slideshow": {
     "slide_type": "slide"
    }
   },
   "outputs": [],
   "source": [
    "# %load ./src/headfirst/iterator/dinermerger/after/DinerMenu.java\n",
    "package headfirst.iterator.dinermerger.after;\n",
    "\n",
    "public class DinerMenu implements Menu {\n",
    "    static final int MAX_ITEMS = 6;\n",
    "    int numberOfItems = 0;\n",
    "    MenuItem[] menuItems;\n",
    "  \n",
    "    public DinerMenu() {\n",
    "        menuItems = new MenuItem[MAX_ITEMS];\n",
    " \n",
    "        addItem(\"Vegetarian BLT\",\n",
    "                \"(Fakin') Bacon with lettuce & tomato on whole wheat\", true, 2.99);\n",
    "        addItem(\"BLT\",\n",
    "                \"Bacon with lettuce & tomato on whole wheat\", false, 2.99);\n",
    "        addItem(\"Soup of the day\",\n",
    "                \"Soup of the day, with a side of potato salad\", false, 3.29);\n",
    "        addItem(\"Hotdog\",\n",
    "                \"A hot dog, with saurkraut, relish, onions, topped with cheese\", false, 3.05);\n",
    "        addItem(\"Steamed Veggies and Brown Rice\",\n",
    "                \"Steamed vegetables over brown rice\", true, 3.99);\n",
    "        addItem(\"Pasta\",\n",
    "                \"Spaghetti with Marinara Sauce, and a slice of sourdough bread\", true, 3.89);\n",
    "\t}\n",
    "    public void addItem(String n, String d, boolean v, double p) {\n",
    "        MenuItem menuItem = new MenuItem(n, d, v, p);\n",
    "        if (numberOfItems >= MAX_ITEMS) {\n",
    "            System.err.println(\"Sorry, menu is full!  Can't add item to menu\");\n",
    "        } else {\n",
    "            menuItems[numberOfItems] = menuItem;\n",
    "            numberOfItems = numberOfItems + 1;\n",
    "        }\n",
    "    }\n",
    "    public MenuItem[] getMenuItems() {\n",
    "        return menuItems;\n",
    "    }\n",
    "    public Iterator createIterator() {\n",
    "        return new DinerMenuIterator(menuItems);\n",
    "    }\n",
    "    // other menu methods here\n",
    "}\n"
   ]
  },
  {
   "cell_type": "code",
   "execution_count": null,
   "metadata": {
    "collapsed": true,
    "slideshow": {
     "slide_type": "slide"
    }
   },
   "outputs": [],
   "source": [
    "# %load ./src/headfirst/iterator/dinermerger/after/PancakeHouseMenu.java\n",
    "package headfirst.iterator.dinermerger.after;\n",
    "\n",
    "import java.util.ArrayList;\n",
    "\n",
    "public class PancakeHouseMenu implements Menu {\n",
    "    ArrayList menuItems;\n",
    " \n",
    "    public PancakeHouseMenu() {\n",
    "        menuItems = new ArrayList();\n",
    "    \n",
    "        addItem(\"K&B's Pancake Breakfast\", \n",
    "                \"Pancakes with scrambled eggs, and toast\", true, 2.99);\n",
    "        addItem(\"Regular Pancake Breakfast\", \n",
    "                \"Pancakes with fried eggs, sausage\", false, 2.99);\n",
    "        addItem(\"Blueberry Pancakes\",\n",
    "                \"Pancakes made with fresh blueberries\", true, 3.49);\n",
    "        addItem(\"Waffles\",\n",
    "                \"Waffles, with your choice of blueberries or strawberries\", true, 3.59);\n",
    "    }\n",
    "    public void addItem(String name, String description, boolean vegetarian, double price) {\n",
    "        MenuItem menuItem = new MenuItem(name, description, vegetarian, price);\n",
    "        menuItems.add(menuItem);\n",
    "    }\n",
    "    public ArrayList getMenuItems() {\n",
    "        return menuItems;\n",
    "    }\n",
    "    public Iterator createIterator() {\n",
    "        return new PancakeHouseMenuIterator(menuItems);\n",
    "    }\n",
    "    public String toString() {\n",
    "        return \"Objectville Pancake House Menu\";\n",
    "    }\n",
    "    // other menu methods here\n",
    "}\n"
   ]
  },
  {
   "cell_type": "code",
   "execution_count": null,
   "metadata": {
    "collapsed": true,
    "slideshow": {
     "slide_type": "slide"
    }
   },
   "outputs": [],
   "source": [
    "# %load ./src/headfirst/iterator/dinermerger/after/Waitress.java\n",
    "package headfirst.iterator.dinermerger.after;\n",
    "\n",
    "public class Waitress {\n",
    "    PancakeHouseMenu pancakeHouseMenu;\n",
    "    DinerMenu dinerMenu;\n",
    " \n",
    "    public Waitress(PancakeHouseMenu pancakeHouseMenu, DinerMenu dinerMenu) {\n",
    "        this.pancakeHouseMenu = pancakeHouseMenu;\n",
    "        this.dinerMenu = dinerMenu;\n",
    "    }\n",
    "    public void printMenu() {\n",
    "        Iterator pancakeIterator = pancakeHouseMenu.createIterator();\n",
    "        Iterator dinerIterator = dinerMenu.createIterator();\n",
    "\n",
    "        System.out.println(\"MENU\\n----\\nBREAKFAST\");\n",
    "        printMenu(pancakeIterator);\n",
    "        System.out.println(\"\\nLUNCH\");\n",
    "        printMenu(dinerIterator);\n",
    "    }\n",
    "    private void printMenu(Iterator iterator) {\n",
    "        while (iterator.hasNext()) {\n",
    "            MenuItem menuItem = (MenuItem)iterator.next();\n",
    "            System.out.print(menuItem.getName() + \", \");\n",
    "            System.out.print(menuItem.getPrice() + \" -- \");\n",
    "            System.out.println(menuItem.getDescription());\n",
    "        }\n",
    "    }\n",
    "}\n"
   ]
  },
  {
   "cell_type": "code",
   "execution_count": null,
   "metadata": {
    "collapsed": true,
    "slideshow": {
     "slide_type": "slide"
    }
   },
   "outputs": [],
   "source": [
    "# %load ./src/headfirst/iterator/dinermerger/after/MenuTestDrive.java\n",
    "package headfirst.iterator.dinermerger.after;\n",
    "\n",
    "import java.util.*;\n",
    "\n",
    "public class MenuTestDrive {\n",
    "    public static void main(String args[]) {\n",
    "        PancakeHouseMenu pancakeHouseMenu = new PancakeHouseMenu();\n",
    "        DinerMenu dinerMenu = new DinerMenu();\n",
    " \n",
    "        Waitress waitress = new Waitress(pancakeHouseMenu, dinerMenu);\n",
    "\n",
    "        waitress.printMenu();\n",
    "    }\n",
    "}\n"
   ]
  },
  {
   "cell_type": "code",
   "execution_count": 53,
   "metadata": {
    "collapsed": false,
    "scrolled": true,
    "slideshow": {
     "slide_type": "slide"
    }
   },
   "outputs": [
    {
     "name": "stdout",
     "output_type": "stream",
     "text": [
      "Note: src/headfirst/iterator/dinermerger/after/PancakeHouseMenu.java uses unchecked or unsafe operations.\n",
      "Note: Recompile with -Xlint:unchecked for details.\n",
      "MENU\n",
      "----\n",
      "BREAKFAST\n",
      "K&B's Pancake Breakfast, 2.99 -- Pancakes with scrambled eggs, and toast\n",
      "Regular Pancake Breakfast, 2.99 -- Pancakes with fried eggs, sausage\n",
      "Blueberry Pancakes, 3.49 -- Pancakes made with fresh blueberries\n",
      "Waffles, 3.59 -- Waffles, with your choice of blueberries or strawberries\n",
      "\n",
      "LUNCH\n",
      "Vegetarian BLT, 2.99 -- (Fakin') Bacon with lettuce & tomato on whole wheat\n",
      "BLT, 2.99 -- Bacon with lettuce & tomato on whole wheat\n",
      "Soup of the day, 3.29 -- Soup of the day, with a side of potato salad\n",
      "Hotdog, 3.05 -- A hot dog, with saurkraut, relish, onions, topped with cheese\n",
      "Steamed Veggies and Brown Rice, 3.99 -- Steamed vegetables over brown rice\n",
      "Pasta, 3.89 -- Spaghetti with Marinara Sauce, and a slice of sourdough bread\n"
     ]
    }
   ],
   "source": [
    "!javac -d classes/ -sourcepath src/ src/headfirst/iterator/dinermerger/after/*.java\n",
    "!java -cp classes/ headfirst.iterator.dinermerger.after.MenuTestDrive"
   ]
  },
  {
   "cell_type": "markdown",
   "metadata": {
    "slideshow": {
     "slide_type": "slide"
    }
   },
   "source": [
    "## 6.2 Menu Composite\n",
    "\n",
    "* 메뉴를 composite패턴을 적용하여 구현한다."
   ]
  },
  {
   "cell_type": "code",
   "execution_count": 11,
   "metadata": {
    "collapsed": false,
    "slideshow": {
     "slide_type": "subslide"
    }
   },
   "outputs": [
    {
     "data": {
      "image/svg+xml": [
       "<svg height=\"563px\" style=\"width:859px;height:563px;\" version=\"1.1\" viewBox=\"0 0 859 563\" width=\"859px\" xmlns=\"http://www.w3.org/2000/svg\" xmlns:xlink=\"http://www.w3.org/1999/xlink\"><defs><filter height=\"300%\" id=\"f1\" width=\"300%\" x=\"-1\" y=\"-1\"><feGaussianBlur result=\"blurOut\" stdDeviation=\"2.0\"/><feColorMatrix in=\"blurOut\" result=\"blurOut2\" type=\"matrix\" values=\"0 0 0 0 0 0 0 0 0 0 0 0 0 0 0 0 0 0 .4 0\"/><feOffset dx=\"4.0\" dy=\"4.0\" in=\"blurOut2\" result=\"blurOut3\"/><feBlend in=\"SourceGraphic\" in2=\"blurOut3\" mode=\"normal\"/></filter></defs><g><polygon fill=\"#FFFFFF\" filter=\"url(#f1)\" points=\"30,32.5,95,32.5,102,54.7969,429,54.7969,429,346,30,346,30,32.5\" style=\"stroke: #000000; stroke-width: 2.0;\"/><line style=\"stroke: #000000; stroke-width: 2.0;\" x1=\"30\" x2=\"102\" y1=\"54.7969\" y2=\"54.7969\"/><text fill=\"#000000\" font-family=\"sans-serif\" font-size=\"14\" font-weight=\"bold\" lengthAdjust=\"spacingAndGlyphs\" textLength=\"59\" x=\"34\" y=\"47.4951\">Iterator</text><polygon fill=\"#FFFFFF\" filter=\"url(#f1)\" points=\"469,173.5,518,173.5,525,195.7969,852,195.7969,852,556,469,556,469,173.5\" style=\"stroke: #000000; stroke-width: 2.0;\"/><line style=\"stroke: #000000; stroke-width: 2.0;\" x1=\"469\" x2=\"525\" y1=\"195.7969\" y2=\"195.7969\"/><text fill=\"#000000\" font-family=\"sans-serif\" font-size=\"14\" font-weight=\"bold\" lengthAdjust=\"spacingAndGlyphs\" textLength=\"43\" x=\"473\" y=\"188.4951\">Menu</text><rect fill=\"#FEFECE\" filter=\"url(#f1)\" height=\"73.6094\" style=\"stroke: #A80036; stroke-width: 1.5;\" width=\"129\" x=\"275.5\" y=\"75.5\"/><ellipse cx=\"312.55\" cy=\"91.5\" fill=\"#B4A7E5\" rx=\"11\" ry=\"11\" style=\"stroke: #A80036; stroke-width: 1.0;\"/><path d=\"M308.4719,87.2656 L308.4719,85.1094 L315.8625,85.1094 L315.8625,87.2656 L313.3938,87.2656 L313.3938,95.3438 L315.8625,95.3438 L315.8625,97.5 L308.4719,97.5 L308.4719,95.3438 L310.9406,95.3438 L310.9406,87.2656 L308.4719,87.2656 Z \"/><text fill=\"#000000\" font-family=\"sans-serif\" font-size=\"12\" font-style=\"italic\" lengthAdjust=\"spacingAndGlyphs\" textLength=\"48\" x=\"331.45\" y=\"95.6543\">Iterator</text><line style=\"stroke: #A80036; stroke-width: 1.5;\" x1=\"276.5\" x2=\"403.5\" y1=\"107.5\" y2=\"107.5\"/><line style=\"stroke: #A80036; stroke-width: 1.5;\" x1=\"276.5\" x2=\"403.5\" y1=\"115.5\" y2=\"115.5\"/><ellipse cx=\"286.5\" cy=\"127.4023\" fill=\"#84BE84\" rx=\"3\" ry=\"3\" style=\"stroke: #038048; stroke-width: 1.0;\"/><text fill=\"#000000\" font-family=\"sans-serif\" font-size=\"11\" lengthAdjust=\"spacingAndGlyphs\" textLength=\"103\" x=\"295.5\" y=\"129.7104\">hasNext():boolean</text><ellipse cx=\"286.5\" cy=\"140.207\" fill=\"#84BE84\" rx=\"3\" ry=\"3\" style=\"stroke: #038048; stroke-width: 1.0;\"/><text fill=\"#000000\" font-family=\"sans-serif\" font-size=\"11\" lengthAdjust=\"spacingAndGlyphs\" textLength=\"72\" x=\"295.5\" y=\"142.5151\">next():Object</text><rect fill=\"#FEFECE\" filter=\"url(#f1)\" height=\"112.0234\" style=\"stroke: #A80036; stroke-width: 1.5;\" width=\"206\" x=\"62\" y=\"210\"/><ellipse cx=\"104.45\" cy=\"226\" fill=\"#ADD1B2\" rx=\"11\" ry=\"11\" style=\"stroke: #A80036; stroke-width: 1.0;\"/><path d=\"M107.4188,231.6406 Q106.8406,231.9375 106.2,232.0859 Q105.5594,232.2344 104.8563,232.2344 Q102.3563,232.2344 101.0359,230.5859 Q99.7156,228.9375 99.7156,225.8125 Q99.7156,222.6875 101.0359,221.0313 Q102.3563,219.375 104.8563,219.375 Q105.5594,219.375 106.2078,219.5313 Q106.8563,219.6875 107.4188,219.9844 L107.4188,222.7031 Q106.7938,222.125 106.2,221.8516 Q105.6063,221.5781 104.9813,221.5781 Q103.6375,221.5781 102.95,222.6484 Q102.2625,223.7188 102.2625,225.8125 Q102.2625,227.9063 102.95,228.9766 Q103.6375,230.0469 104.9813,230.0469 Q105.6063,230.0469 106.2,229.7734 Q106.7938,229.5 107.4188,228.9219 L107.4188,231.6406 Z \"/><text fill=\"#000000\" font-family=\"sans-serif\" font-size=\"12\" lengthAdjust=\"spacingAndGlyphs\" textLength=\"113\" x=\"124.55\" y=\"230.1543\">CompositeIterator</text><line style=\"stroke: #A80036; stroke-width: 1.5;\" x1=\"63\" x2=\"267\" y1=\"242\" y2=\"242\"/><text fill=\"#000000\" font-family=\"sans-serif\" font-size=\"11\" lengthAdjust=\"spacingAndGlyphs\" textLength=\"65\" x=\"68\" y=\"256.2104\">stack:Stack</text><line style=\"stroke: #A80036; stroke-width: 1.5;\" x1=\"63\" x2=\"267\" y1=\"262.8047\" y2=\"262.8047\"/><ellipse cx=\"73\" cy=\"274.707\" fill=\"#84BE84\" rx=\"3\" ry=\"3\" style=\"stroke: #038048; stroke-width: 1.0;\"/><text fill=\"#000000\" font-family=\"sans-serif\" font-size=\"11\" lengthAdjust=\"spacingAndGlyphs\" textLength=\"180\" x=\"82\" y=\"277.0151\">CompositeIterator(Iterator):void</text><ellipse cx=\"73\" cy=\"287.5117\" fill=\"#84BE84\" rx=\"3\" ry=\"3\" style=\"stroke: #038048; stroke-width: 1.0;\"/><text fill=\"#000000\" font-family=\"sans-serif\" font-size=\"11\" lengthAdjust=\"spacingAndGlyphs\" textLength=\"72\" x=\"82\" y=\"289.8198\">next():Object</text><ellipse cx=\"73\" cy=\"300.3164\" fill=\"#84BE84\" rx=\"3\" ry=\"3\" style=\"stroke: #038048; stroke-width: 1.0;\"/><text fill=\"#000000\" font-family=\"sans-serif\" font-size=\"11\" lengthAdjust=\"spacingAndGlyphs\" textLength=\"103\" x=\"82\" y=\"302.6245\">hasNext():boolean</text><ellipse cx=\"73\" cy=\"313.1211\" fill=\"#84BE84\" rx=\"3\" ry=\"3\" style=\"stroke: #038048; stroke-width: 1.0;\"/><text fill=\"#000000\" font-family=\"sans-serif\" font-size=\"11\" lengthAdjust=\"spacingAndGlyphs\" textLength=\"78\" x=\"82\" y=\"315.4292\">remove():void</text><rect fill=\"#FEFECE\" filter=\"url(#f1)\" height=\"48\" style=\"stroke: #A80036; stroke-width: 1.5;\" width=\"102\" x=\"303\" y=\"242\"/><ellipse cx=\"318\" cy=\"258\" fill=\"#ADD1B2\" rx=\"11\" ry=\"11\" style=\"stroke: #A80036; stroke-width: 1.0;\"/><path d=\"M320.9688,263.6406 Q320.3906,263.9375 319.75,264.0859 Q319.1094,264.2344 318.4063,264.2344 Q315.9063,264.2344 314.5859,262.5859 Q313.2656,260.9375 313.2656,257.8125 Q313.2656,254.6875 314.5859,253.0313 Q315.9063,251.375 318.4063,251.375 Q319.1094,251.375 319.7578,251.5313 Q320.4063,251.6875 320.9688,251.9844 L320.9688,254.7031 Q320.3438,254.125 319.75,253.8516 Q319.1563,253.5781 318.5313,253.5781 Q317.1875,253.5781 316.5,254.6484 Q315.8125,255.7188 315.8125,257.8125 Q315.8125,259.9063 316.5,260.9766 Q317.1875,262.0469 318.5313,262.0469 Q319.1563,262.0469 319.75,261.7734 Q320.3438,261.5 320.9688,260.9219 L320.9688,263.6406 Z \"/><text fill=\"#000000\" font-family=\"sans-serif\" font-size=\"12\" lengthAdjust=\"spacingAndGlyphs\" textLength=\"70\" x=\"332\" y=\"262.1543\">NullIterator</text><line style=\"stroke: #A80036; stroke-width: 1.5;\" x1=\"304\" x2=\"404\" y1=\"274\" y2=\"274\"/><line style=\"stroke: #A80036; stroke-width: 1.5;\" x1=\"304\" x2=\"404\" y1=\"282\" y2=\"282\"/><rect fill=\"#FEFECE\" filter=\"url(#f1)\" height=\"99.2188\" style=\"stroke: #A80036; stroke-width: 1.5;\" width=\"209\" x=\"512.5\" y=\"216.5\"/><ellipse cx=\"559.75\" cy=\"232.5\" fill=\"#A9DCDF\" rx=\"11\" ry=\"11\" style=\"stroke: #A80036; stroke-width: 1.0;\"/><path d=\"M559.8594,227.8438 L558.7031,232.9219 L561.0313,232.9219 L559.8594,227.8438 Z M558.375,225.6094 L561.3594,225.6094 L564.7188,238 L562.2656,238 L561.5,234.9375 L558.2188,234.9375 L557.4688,238 L555.0313,238 L558.375,225.6094 Z \"/><text fill=\"#000000\" font-family=\"sans-serif\" font-size=\"12\" font-style=\"italic\" lengthAdjust=\"spacingAndGlyphs\" textLength=\"106\" x=\"580.25\" y=\"236.6543\">MenuComponent</text><line style=\"stroke: #A80036; stroke-width: 1.5;\" x1=\"513.5\" x2=\"720.5\" y1=\"248.5\" y2=\"248.5\"/><line style=\"stroke: #A80036; stroke-width: 1.5;\" x1=\"513.5\" x2=\"720.5\" y1=\"256.5\" y2=\"256.5\"/><ellipse cx=\"523.5\" cy=\"268.4023\" fill=\"#84BE84\" rx=\"3\" ry=\"3\" style=\"stroke: #038048; stroke-width: 1.0;\"/><text fill=\"#000000\" font-family=\"sans-serif\" font-size=\"11\" lengthAdjust=\"spacingAndGlyphs\" textLength=\"151\" x=\"532.5\" y=\"270.7104\">add(MenuComponent):void</text><ellipse cx=\"523.5\" cy=\"281.207\" fill=\"#84BE84\" rx=\"3\" ry=\"3\" style=\"stroke: #038048; stroke-width: 1.0;\"/><text fill=\"#000000\" font-family=\"sans-serif\" font-size=\"11\" lengthAdjust=\"spacingAndGlyphs\" textLength=\"173\" x=\"532.5\" y=\"283.5151\">remove(MenuComponent):void</text><ellipse cx=\"523.5\" cy=\"294.0117\" fill=\"#84BE84\" rx=\"3\" ry=\"3\" style=\"stroke: #038048; stroke-width: 1.0;\"/><text fill=\"#000000\" font-family=\"sans-serif\" font-size=\"11\" lengthAdjust=\"spacingAndGlyphs\" textLength=\"169\" x=\"532.5\" y=\"296.3198\">getChild(int):MenuCOmponent</text><ellipse cx=\"523.5\" cy=\"306.8164\" fill=\"#84BE84\" rx=\"3\" ry=\"3\" style=\"stroke: #038048; stroke-width: 1.0;\"/><text fill=\"#000000\" font-family=\"sans-serif\" font-size=\"11\" lengthAdjust=\"spacingAndGlyphs\" textLength=\"183\" x=\"532.5\" y=\"309.1245\">abstract createIterator():Iterator</text><rect fill=\"#FEFECE\" filter=\"url(#f1)\" height=\"150.4375\" style=\"stroke: #A80036; stroke-width: 1.5;\" width=\"199\" x=\"501.5\" y=\"382\"/><ellipse cx=\"579.75\" cy=\"398\" fill=\"#ADD1B2\" rx=\"11\" ry=\"11\" style=\"stroke: #A80036; stroke-width: 1.0;\"/><path d=\"M582.7188,403.6406 Q582.1406,403.9375 581.5,404.0859 Q580.8594,404.2344 580.1563,404.2344 Q577.6563,404.2344 576.3359,402.5859 Q575.0156,400.9375 575.0156,397.8125 Q575.0156,394.6875 576.3359,393.0313 Q577.6563,391.375 580.1563,391.375 Q580.8594,391.375 581.5078,391.5313 Q582.1563,391.6875 582.7188,391.9844 L582.7188,394.7031 Q582.0938,394.125 581.5,393.8516 Q580.9063,393.5781 580.2813,393.5781 Q578.9375,393.5781 578.25,394.6484 Q577.5625,395.7188 577.5625,397.8125 Q577.5625,399.9063 578.25,400.9766 Q578.9375,402.0469 580.2813,402.0469 Q580.9063,402.0469 581.5,401.7734 Q582.0938,401.5 582.7188,400.9219 L582.7188,403.6406 Z \"/><text fill=\"#000000\" font-family=\"sans-serif\" font-size=\"12\" lengthAdjust=\"spacingAndGlyphs\" textLength=\"34\" x=\"600.25\" y=\"402.1543\">Menu</text><line style=\"stroke: #A80036; stroke-width: 1.5;\" x1=\"502.5\" x2=\"699.5\" y1=\"414\" y2=\"414\"/><text fill=\"#000000\" font-family=\"sans-serif\" font-size=\"11\" lengthAdjust=\"spacingAndGlyphs\" textLength=\"151\" x=\"507.5\" y=\"428.2104\">menuComponent:ArrayList</text><text fill=\"#000000\" font-family=\"sans-serif\" font-size=\"11\" lengthAdjust=\"spacingAndGlyphs\" textLength=\"70\" x=\"507.5\" y=\"441.0151\">name:String</text><text fill=\"#000000\" font-family=\"sans-serif\" font-size=\"11\" lengthAdjust=\"spacingAndGlyphs\" textLength=\"101\" x=\"507.5\" y=\"453.8198\">description:String</text><line style=\"stroke: #A80036; stroke-width: 1.5;\" x1=\"502.5\" x2=\"699.5\" y1=\"460.4141\" y2=\"460.4141\"/><ellipse cx=\"512.5\" cy=\"472.3164\" fill=\"#84BE84\" rx=\"3\" ry=\"3\" style=\"stroke: #038048; stroke-width: 1.0;\"/><text fill=\"#000000\" font-family=\"sans-serif\" font-size=\"11\" lengthAdjust=\"spacingAndGlyphs\" textLength=\"110\" x=\"521.5\" y=\"474.6245\">Menu(String,String)</text><ellipse cx=\"512.5\" cy=\"485.1211\" fill=\"#84BE84\" rx=\"3\" ry=\"3\" style=\"stroke: #038048; stroke-width: 1.0;\"/><text fill=\"#000000\" font-family=\"sans-serif\" font-size=\"11\" lengthAdjust=\"spacingAndGlyphs\" textLength=\"151\" x=\"521.5\" y=\"487.4292\">add(MenuComponent):void</text><ellipse cx=\"512.5\" cy=\"497.9258\" fill=\"#84BE84\" rx=\"3\" ry=\"3\" style=\"stroke: #038048; stroke-width: 1.0;\"/><text fill=\"#000000\" font-family=\"sans-serif\" font-size=\"11\" lengthAdjust=\"spacingAndGlyphs\" textLength=\"173\" x=\"521.5\" y=\"500.2339\">remove(MenuComponent):void</text><ellipse cx=\"512.5\" cy=\"510.7305\" fill=\"#84BE84\" rx=\"3\" ry=\"3\" style=\"stroke: #038048; stroke-width: 1.0;\"/><text fill=\"#000000\" font-family=\"sans-serif\" font-size=\"11\" lengthAdjust=\"spacingAndGlyphs\" textLength=\"169\" x=\"521.5\" y=\"513.0386\">getChild(int):MenuCOmponent</text><ellipse cx=\"512.5\" cy=\"523.5352\" fill=\"#84BE84\" rx=\"3\" ry=\"3\" style=\"stroke: #038048; stroke-width: 1.0;\"/><text fill=\"#000000\" font-family=\"sans-serif\" font-size=\"11\" lengthAdjust=\"spacingAndGlyphs\" textLength=\"132\" x=\"521.5\" y=\"525.8433\">createIterator():Iterator</text><rect fill=\"#FEFECE\" filter=\"url(#f1)\" height=\"48\" style=\"stroke: #A80036; stroke-width: 1.5;\" width=\"93\" x=\"735.5\" y=\"433\"/><ellipse cx=\"750.5\" cy=\"449\" fill=\"#ADD1B2\" rx=\"11\" ry=\"11\" style=\"stroke: #A80036; stroke-width: 1.0;\"/><path d=\"M753.4688,454.6406 Q752.8906,454.9375 752.25,455.0859 Q751.6094,455.2344 750.9063,455.2344 Q748.4063,455.2344 747.0859,453.5859 Q745.7656,451.9375 745.7656,448.8125 Q745.7656,445.6875 747.0859,444.0313 Q748.4063,442.375 750.9063,442.375 Q751.6094,442.375 752.2578,442.5313 Q752.9063,442.6875 753.4688,442.9844 L753.4688,445.7031 Q752.8438,445.125 752.25,444.8516 Q751.6563,444.5781 751.0313,444.5781 Q749.6875,444.5781 749,445.6484 Q748.3125,446.7188 748.3125,448.8125 Q748.3125,450.9063 749,451.9766 Q749.6875,453.0469 751.0313,453.0469 Q751.6563,453.0469 752.25,452.7734 Q752.8438,452.5 753.4688,451.9219 L753.4688,454.6406 Z \"/><text fill=\"#000000\" font-family=\"sans-serif\" font-size=\"12\" lengthAdjust=\"spacingAndGlyphs\" textLength=\"61\" x=\"764.5\" y=\"453.1543\">MenuItem</text><line style=\"stroke: #A80036; stroke-width: 1.5;\" x1=\"736.5\" x2=\"827.5\" y1=\"465\" y2=\"465\"/><line style=\"stroke: #A80036; stroke-width: 1.5;\" x1=\"736.5\" x2=\"827.5\" y1=\"473\" y2=\"473\"/><path d=\"M279.184,162.563 C257.566,181.02 240.633,196.018 225.159,209.922 \" fill=\"none\" style=\"stroke: #A80036; stroke-width: 1.0; stroke-dasharray: 7.0,7.0;\"/><polygon fill=\"none\" points=\"274.736,157.157,294.516,149.559,283.791,167.834,274.736,157.157\" style=\"stroke: #A80036; stroke-width: 1.0;\"/><path d=\"M345.198,169.745 C347.5,194.657 350.081,222.59 351.85,241.731 \" fill=\"none\" style=\"stroke: #A80036; stroke-width: 1.0; stroke-dasharray: 7.0,7.0;\"/><polygon fill=\"none\" points=\"338.223,170.347,343.353,149.788,352.164,169.059,338.223,170.347\" style=\"stroke: #A80036; stroke-width: 1.0;\"/><path d=\"M611.183,335.708 C609.915,350.69 608.568,366.609 607.282,381.794 \" fill=\"none\" style=\"stroke: #A80036; stroke-width: 1.0;\"/><polygon fill=\"none\" points=\"604.217,335.01,612.88,315.672,618.167,336.191,604.217,335.01\" style=\"stroke: #A80036; stroke-width: 1.0;\"/><path d=\"M673.166,330.778 C687.788,347.428 703.505,365.368 718,382 C732.843,399.03 749.537,418.339 762.153,432.961 \" fill=\"none\" style=\"stroke: #A80036; stroke-width: 1.0;\"/><polygon fill=\"none\" points=\"667.782,335.254,659.838,315.61,678.298,326.013,667.782,335.254\" style=\"stroke: #A80036; stroke-width: 1.0;\"/><path d=\"M409.837,123.34 C441.299,129.847 478.026,140.445 508,157.5 C534.335,172.484 558.83,195.441 577.902,216.298 \" fill=\"none\" style=\"stroke: #A80036; stroke-width: 1.0; stroke-dasharray: 7.0,7.0;\"/><polygon fill=\"#A80036\" points=\"404.835,122.33,412.8665,128.0304,409.7363,123.3185,414.4482,120.1883,404.835,122.33\" style=\"stroke: #A80036; stroke-width: 1.0;\"/><path d=\"M229.711,325.508 C246.819,338.876 265.874,352.058 285,362 C353.306,397.508 437.064,421.652 501.183,436.572 \" fill=\"none\" style=\"stroke: #A80036; stroke-width: 1.0; stroke-dasharray: 7.0,7.0;\"/><polygon fill=\"#A80036\" points=\"225.404,322.107,229.9868,330.8247,229.3275,325.2064,234.9458,324.5471,225.404,322.107\" style=\"stroke: #A80036; stroke-width: 1.0;\"/><path d=\"M375.348,293.898 C394.963,316.43 426.204,347.212 461,362 C566.44,406.811 615.736,330.349 718,382 C740.136,393.18 757.839,415.677 768.966,432.946 \" fill=\"none\" style=\"stroke: #A80036; stroke-width: 1.0; stroke-dasharray: 7.0,7.0;\"/><polygon fill=\"#A80036\" points=\"372.062,290.075,374.8967,299.5071,375.3218,293.8662,380.9627,294.2914,372.062,290.075\" style=\"stroke: #A80036; stroke-width: 1.0;\"/></g></svg>"
      ],
      "text/plain": [
       "<IPython.core.display.SVG object>"
      ]
     },
     "execution_count": 11,
     "metadata": {},
     "output_type": "execute_result"
    }
   ],
   "source": [
    "%%plantuml\n",
    "@startuml\n",
    "package Iterator {\n",
    "    interface Iterator {\n",
    "        +hasNext():boolean\n",
    "        +next():Object\n",
    "    }\n",
    "    class CompositeIterator {\n",
    "        stack:Stack\n",
    "        +CompositeIterator(Iterator):void\n",
    "        +next():Object\n",
    "        +hasNext():boolean\n",
    "        +remove():void\n",
    "    }\n",
    "    Iterator <|.. CompositeIterator\n",
    "    Iterator <|.. NullIterator\n",
    "}\n",
    "package Menu {\n",
    "    abstract class MenuComponent {\n",
    "        +add(MenuComponent):void\n",
    "        +remove(MenuComponent):void\n",
    "        +getChild(int):MenuCOmponent\n",
    "        +abstract createIterator():Iterator\n",
    "    }\n",
    "    class Menu {\n",
    "        menuComponent:ArrayList\n",
    "        name:String\n",
    "        description:String\n",
    "        +Menu(String,String)\n",
    "        +add(MenuComponent):void\n",
    "        +remove(MenuComponent):void\n",
    "        +getChild(int):MenuCOmponent\n",
    "        +createIterator():Iterator\n",
    "    }\n",
    "    MenuComponent <|-- Menu\n",
    "    MenuComponent <|-- MenuItem\n",
    "}\n",
    "Iterator <.. MenuComponent\n",
    "CompositeIterator <.. Menu\n",
    "NullIterator <.. MenuItem\n",
    "@enduml"
   ]
  },
  {
   "cell_type": "code",
   "execution_count": 11,
   "metadata": {
    "collapsed": false,
    "slideshow": {
     "slide_type": "slide"
    }
   },
   "outputs": [
    {
     "data": {
      "image/svg+xml": [
       "<svg height=\"286px\" style=\"width:481px;height:286px;\" version=\"1.1\" viewBox=\"0 0 481 286\" width=\"481px\" xmlns=\"http://www.w3.org/2000/svg\" xmlns:xlink=\"http://www.w3.org/1999/xlink\"><defs><filter height=\"300%\" id=\"f1\" width=\"300%\" x=\"-1\" y=\"-1\"><feGaussianBlur result=\"blurOut\" stdDeviation=\"2.0\"/><feColorMatrix in=\"blurOut\" result=\"blurOut2\" type=\"matrix\" values=\"0 0 0 0 0 0 0 0 0 0 0 0 0 0 0 0 0 0 .4 0\"/><feOffset dx=\"4.0\" dy=\"4.0\" in=\"blurOut2\" result=\"blurOut3\"/><feBlend in=\"SourceGraphic\" in2=\"blurOut3\" mode=\"normal\"/></filter></defs><g><line style=\"stroke: #A80036; stroke-width: 1.0; stroke-dasharray: 5.0,5.0;\" x1=\"37\" x2=\"37\" y1=\"38.4883\" y2=\"248.3516\"/><line style=\"stroke: #A80036; stroke-width: 1.0; stroke-dasharray: 5.0,5.0;\" x1=\"120\" x2=\"120\" y1=\"38.4883\" y2=\"248.3516\"/><line style=\"stroke: #A80036; stroke-width: 1.0; stroke-dasharray: 5.0,5.0;\" x1=\"226\" x2=\"226\" y1=\"38.4883\" y2=\"248.3516\"/><line style=\"stroke: #A80036; stroke-width: 1.0; stroke-dasharray: 5.0,5.0;\" x1=\"348\" x2=\"348\" y1=\"38.4883\" y2=\"248.3516\"/><line style=\"stroke: #A80036; stroke-width: 1.0; stroke-dasharray: 5.0,5.0;\" x1=\"438\" x2=\"438\" y1=\"38.4883\" y2=\"248.3516\"/><rect fill=\"#FEFECE\" filter=\"url(#f1)\" height=\"30.4883\" style=\"stroke: #A80036; stroke-width: 1.5;\" width=\"54\" x=\"8\" y=\"3\"/><text fill=\"#000000\" font-family=\"sans-serif\" font-size=\"14\" lengthAdjust=\"spacingAndGlyphs\" textLength=\"40\" x=\"15\" y=\"23.5352\">Client</text><rect fill=\"#FEFECE\" filter=\"url(#f1)\" height=\"30.4883\" style=\"stroke: #A80036; stroke-width: 1.5;\" width=\"54\" x=\"8\" y=\"247.3516\"/><text fill=\"#000000\" font-family=\"sans-serif\" font-size=\"14\" lengthAdjust=\"spacingAndGlyphs\" textLength=\"40\" x=\"15\" y=\"267.8867\">Client</text><rect fill=\"#FEFECE\" filter=\"url(#f1)\" height=\"30.4883\" style=\"stroke: #A80036; stroke-width: 1.5;\" width=\"52\" x=\"92\" y=\"3\"/><text fill=\"#000000\" font-family=\"sans-serif\" font-size=\"14\" lengthAdjust=\"spacingAndGlyphs\" textLength=\"38\" x=\"99\" y=\"23.5352\">Menu</text><rect fill=\"#FEFECE\" filter=\"url(#f1)\" height=\"30.4883\" style=\"stroke: #A80036; stroke-width: 1.5;\" width=\"52\" x=\"92\" y=\"247.3516\"/><text fill=\"#000000\" font-family=\"sans-serif\" font-size=\"14\" lengthAdjust=\"spacingAndGlyphs\" textLength=\"38\" x=\"99\" y=\"267.8867\">Menu</text><rect fill=\"#FEFECE\" filter=\"url(#f1)\" height=\"30.4883\" style=\"stroke: #A80036; stroke-width: 1.5;\" width=\"133\" x=\"158\" y=\"3\"/><text fill=\"#000000\" font-family=\"sans-serif\" font-size=\"14\" lengthAdjust=\"spacingAndGlyphs\" textLength=\"119\" x=\"165\" y=\"23.5352\">MenuComponent</text><rect fill=\"#FEFECE\" filter=\"url(#f1)\" height=\"30.4883\" style=\"stroke: #A80036; stroke-width: 1.5;\" width=\"133\" x=\"158\" y=\"247.3516\"/><text fill=\"#000000\" font-family=\"sans-serif\" font-size=\"14\" lengthAdjust=\"spacingAndGlyphs\" textLength=\"119\" x=\"165\" y=\"267.8867\">MenuComponent</text><rect fill=\"#FEFECE\" filter=\"url(#f1)\" height=\"30.4883\" style=\"stroke: #A80036; stroke-width: 1.5;\" width=\"82\" x=\"305\" y=\"3\"/><text fill=\"#000000\" font-family=\"sans-serif\" font-size=\"14\" lengthAdjust=\"spacingAndGlyphs\" textLength=\"68\" x=\"312\" y=\"23.5352\">MenuItem</text><rect fill=\"#FEFECE\" filter=\"url(#f1)\" height=\"30.4883\" style=\"stroke: #A80036; stroke-width: 1.5;\" width=\"82\" x=\"305\" y=\"247.3516\"/><text fill=\"#000000\" font-family=\"sans-serif\" font-size=\"14\" lengthAdjust=\"spacingAndGlyphs\" textLength=\"68\" x=\"312\" y=\"267.8867\">MenuItem</text><rect fill=\"#FEFECE\" filter=\"url(#f1)\" height=\"30.4883\" style=\"stroke: #A80036; stroke-width: 1.5;\" width=\"71\" x=\"401\" y=\"3\"/><text fill=\"#000000\" font-family=\"sans-serif\" font-size=\"14\" lengthAdjust=\"spacingAndGlyphs\" textLength=\"57\" x=\"408\" y=\"23.5352\">Waitress</text><rect fill=\"#FEFECE\" filter=\"url(#f1)\" height=\"30.4883\" style=\"stroke: #A80036; stroke-width: 1.5;\" width=\"71\" x=\"401\" y=\"247.3516\"/><text fill=\"#000000\" font-family=\"sans-serif\" font-size=\"14\" lengthAdjust=\"spacingAndGlyphs\" textLength=\"57\" x=\"408\" y=\"267.8867\">Waitress</text><polygon fill=\"#A80036\" points=\"108,65.4883,118,69.4883,108,73.4883,112,69.4883\" style=\"stroke: #A80036; stroke-width: 1.0;\"/><line style=\"stroke: #A80036; stroke-width: 1.0;\" x1=\"37\" x2=\"114\" y1=\"69.4883\" y2=\"69.4883\"/><text fill=\"#000000\" font-family=\"sans-serif\" font-size=\"13\" lengthAdjust=\"spacingAndGlyphs\" textLength=\"55\" x=\"44\" y=\"65.0566\">m=new()</text><polygon fill=\"#A80036\" points=\"214.5,79.7988,224.5,83.7988,214.5,87.7988,218.5,83.7988\" style=\"stroke: #A80036; stroke-width: 1.0;\"/><line style=\"stroke: #A80036; stroke-width: 1.0;\" x1=\"120\" x2=\"220.5\" y1=\"83.7988\" y2=\"83.7988\"/><polygon fill=\"#A80036\" points=\"214.5,108.7988,224.5,112.7988,214.5,116.7988,218.5,112.7988\" style=\"stroke: #A80036; stroke-width: 1.0;\"/><line style=\"stroke: #A80036; stroke-width: 1.0;\" x1=\"37\" x2=\"220.5\" y1=\"112.7988\" y2=\"112.7988\"/><text fill=\"#000000\" font-family=\"sans-serif\" font-size=\"13\" lengthAdjust=\"spacingAndGlyphs\" textLength=\"43\" x=\"44\" y=\"108.3672\">add(m)</text><polygon fill=\"#A80036\" points=\"336,138.1094,346,142.1094,336,146.1094,340,142.1094\" style=\"stroke: #A80036; stroke-width: 1.0;\"/><line style=\"stroke: #A80036; stroke-width: 1.0;\" x1=\"37\" x2=\"342\" y1=\"142.1094\" y2=\"142.1094\"/><text fill=\"#000000\" font-family=\"sans-serif\" font-size=\"13\" lengthAdjust=\"spacingAndGlyphs\" textLength=\"71\" x=\"44\" y=\"137.6777\">item=new()</text><polygon fill=\"#A80036\" points=\"108,167.4199,118,171.4199,108,175.4199,112,171.4199\" style=\"stroke: #A80036; stroke-width: 1.0;\"/><line style=\"stroke: #A80036; stroke-width: 1.0;\" x1=\"37\" x2=\"114\" y1=\"171.4199\" y2=\"171.4199\"/><text fill=\"#000000\" font-family=\"sans-serif\" font-size=\"13\" lengthAdjust=\"spacingAndGlyphs\" textLength=\"59\" x=\"44\" y=\"166.9883\">add(item)</text><polygon fill=\"#A80036\" points=\"426.5,196.7305,436.5,200.7305,426.5,204.7305,430.5,200.7305\" style=\"stroke: #A80036; stroke-width: 1.0;\"/><line style=\"stroke: #A80036; stroke-width: 1.0;\" x1=\"37\" x2=\"432.5\" y1=\"200.7305\" y2=\"200.7305\"/><text fill=\"#000000\" font-family=\"sans-serif\" font-size=\"13\" lengthAdjust=\"spacingAndGlyphs\" textLength=\"140\" x=\"44\" y=\"196.2988\">new(MenuComponent)</text><polygon fill=\"#A80036\" points=\"426.5,226.041,436.5,230.041,426.5,234.041,430.5,230.041\" style=\"stroke: #A80036; stroke-width: 1.0;\"/><line style=\"stroke: #A80036; stroke-width: 1.0;\" x1=\"37\" x2=\"432.5\" y1=\"230.041\" y2=\"230.041\"/><text fill=\"#000000\" font-family=\"sans-serif\" font-size=\"13\" lengthAdjust=\"spacingAndGlyphs\" textLength=\"138\" x=\"44\" y=\"225.6094\">printVegetarianMenu()</text></g></svg>"
      ],
      "text/plain": [
       "<IPython.core.display.SVG object>"
      ]
     },
     "execution_count": 11,
     "metadata": {},
     "output_type": "execute_result"
    }
   ],
   "source": [
    "%%plantuml\n",
    "@startuml\n",
    "Client -> Menu:m=new()\n",
    "Menu -> MenuComponent\n",
    "Client -> MenuComponent:add(m)\n",
    "Client -> MenuItem:item=new()\n",
    "Client -> Menu:add(item)\n",
    "Client -> Waitress:new(MenuComponent)\n",
    "Client -> Waitress:printVegetarianMenu()\n",
    "@enduml"
   ]
  },
  {
   "cell_type": "code",
   "execution_count": null,
   "metadata": {
    "collapsed": true,
    "slideshow": {
     "slide_type": "slide"
    }
   },
   "outputs": [],
   "source": [
    "# %load ./src/headfirst/composite/menuiterator/MenuComponent.java\n",
    "package headfirst.composite.menuiterator;\n",
    "\n",
    "import java.util.*;\n",
    "\n",
    "public abstract class MenuComponent {\n",
    "    public void add(MenuComponent menuComponent) {\n",
    "        throw new UnsupportedOperationException();\n",
    "    }\n",
    "    public void remove(MenuComponent menuComponent) {\n",
    "        throw new UnsupportedOperationException();\n",
    "    }\n",
    "    public MenuComponent getChild(int i) {\n",
    "        throw new UnsupportedOperationException();\n",
    "    }\n",
    "    public String getName() {\n",
    "        throw new UnsupportedOperationException();\n",
    "    }\n",
    "    public String getDescription() {\n",
    "        throw new UnsupportedOperationException();\n",
    "    }\n",
    "    public double getPrice() {\n",
    "        throw new UnsupportedOperationException();\n",
    "    }\n",
    "    public boolean isVegetarian() {\n",
    "        throw new UnsupportedOperationException();\n",
    "    }\n",
    "    public abstract Iterator createIterator();\n",
    "    public void print() {\n",
    "        throw new UnsupportedOperationException();\n",
    "    }\n",
    "}\n"
   ]
  },
  {
   "cell_type": "code",
   "execution_count": null,
   "metadata": {
    "collapsed": true,
    "slideshow": {
     "slide_type": "slide"
    }
   },
   "outputs": [],
   "source": [
    "# %load ./src/headfirst/composite/menuiterator/MenuItem.java\n",
    "package headfirst.composite.menuiterator;\n",
    "\n",
    "import java.util.Iterator;\n",
    "import java.util.ArrayList;\n",
    "\n",
    "public class MenuItem extends MenuComponent {\n",
    "    String name;\n",
    "    String description;\n",
    "    boolean vegetarian;\n",
    "    double price;\n",
    "\n",
    "    public MenuItem(String n, String d, boolean v, double p) { \n",
    "    \tthis.name = n;\n",
    "    \tthis.description = d;\n",
    "    \tthis.vegetarian = v;\n",
    "    \tthis.price = p;\n",
    "    }\n",
    "    public String getName() {\n",
    "    \treturn name;\n",
    "    }\n",
    "    public String getDescription() {\n",
    "    \treturn description;\n",
    "    }\n",
    "    public double getPrice() {\n",
    "    \treturn price;\n",
    "    }\n",
    "    public boolean isVegetarian() {\n",
    "    \treturn vegetarian;\n",
    "    }\n",
    "    public Iterator createIterator() {\n",
    "    \treturn new NullIterator();\n",
    "    }\n",
    "    public void print() {\n",
    "    \tSystem.out.print(\"  \" + getName());\n",
    "    \tif (isVegetarian()) {\n",
    "            System.out.print(\"(v)\");\n",
    "    \t}\n",
    "    \tSystem.out.println(\", \" + getPrice());\n",
    "    \tSystem.out.println(\"     -- \" + getDescription());\n",
    "    }\n",
    "}\n"
   ]
  },
  {
   "cell_type": "code",
   "execution_count": null,
   "metadata": {
    "collapsed": true,
    "slideshow": {
     "slide_type": "slide"
    }
   },
   "outputs": [],
   "source": [
    "# %load ./src/headfirst/composite/menuiterator/Menu.java\n",
    "package headfirst.composite.menuiterator;\n",
    "\n",
    "import java.util.Iterator;\n",
    "import java.util.ArrayList;\n",
    "\n",
    "public class Menu extends MenuComponent {\n",
    "    ArrayList menuComponents = new ArrayList();\n",
    "    String name;\n",
    "    String description;\n",
    "  \n",
    "    public Menu(String name, String description) {\n",
    "        this.name = name;\n",
    "        this.description = description;\n",
    "    }\n",
    "    public void add(MenuComponent menuComponent) {\n",
    "        menuComponents.add(menuComponent);\n",
    "    }\n",
    "    public void remove(MenuComponent menuComponent) {\n",
    "        menuComponents.remove(menuComponent);\n",
    "    }\n",
    "    public MenuComponent getChild(int i) {\n",
    "        return (MenuComponent)menuComponents.get(i);\n",
    "    }\n",
    "    public String getName() {\n",
    "        return name;\n",
    "    }\n",
    "    public String getDescription() {\n",
    "        return description;\n",
    "    }\n",
    "    public Iterator createIterator() {\n",
    "        return new CompositeIterator(menuComponents.iterator());\n",
    "    }\n",
    "    public void print() {\n",
    "        System.out.print(\"\\n\" + getName());\n",
    "        System.out.println(\", \" + getDescription());\n",
    "        System.out.println(\"---------------------\");\n",
    "  \n",
    "        Iterator iterator = menuComponents.iterator();\n",
    "        while (iterator.hasNext()) {\n",
    "            MenuComponent menuComponent = (MenuComponent)iterator.next();\n",
    "            menuComponent.print();\n",
    "        }\n",
    "    }\n",
    "}\n"
   ]
  },
  {
   "cell_type": "code",
   "execution_count": 22,
   "metadata": {
    "collapsed": false,
    "slideshow": {
     "slide_type": "subslide"
    }
   },
   "outputs": [
    {
     "name": "stdout",
     "output_type": "stream",
     "text": [
      " /classpath classes\r\n",
      "|  Path 'classes' added to classpath\r\n",
      "\r\n"
     ]
    }
   ],
   "source": [
    "/classpath classes"
   ]
  },
  {
   "cell_type": "code",
   "execution_count": 23,
   "metadata": {
    "collapsed": false,
    "slideshow": {
     "slide_type": "subslide"
    }
   },
   "outputs": [
    {
     "name": "stdout",
     "output_type": "stream",
     "text": [
      " import headfirst.composite.menuiterator.*;\r\n",
      "\r\n",
      " \r\n",
      "\r\n",
      " MenuComponent bMenu = new Menu(\"B-MENU\", \"Breakfast\");\r\n",
      "|  Modified variable bMenu of type MenuComponent with initial value headfirst.composite.menuiterator.Menu@67784306\r\n",
      "|    Update overwrote variable bMenu\r\n",
      "\r\n",
      " MenuComponent dMenu = new Menu(\"D-MENU\", \"Lunch\");\r\n",
      "|  Modified variable dMenu of type MenuComponent with initial value headfirst.composite.menuiterator.Menu@335eadca\r\n",
      "|    Update overwrote variable dMenu\r\n",
      "\r\n",
      " bMenu.add(new MenuItem(\"1b\",\"1 Breakfast\", true, 2.99));\r\n",
      "\r\n",
      " bMenu.add(new MenuItem(\"2b\",\"2 Breakfast\", false, 2.99));\r\n",
      "\r\n",
      " bMenu.add(new MenuItem(\"3b\",\"3 Breakfast\", true, 3.49));\r\n",
      "\r\n",
      " dMenu.add(new MenuItem(\"1d\",\"1 Diner\", true, 2.99));\r\n",
      "\r\n",
      " dMenu.add(new MenuItem(\"2d\",\"2 Diner\", false, 2.99));\r\n",
      "\r\n",
      " MenuComponent allMenus;\r\n",
      "|  Modified variable allMenus of type MenuComponent\r\n",
      "|    Update overwrote variable allMenus\r\n",
      "\r\n",
      " MenuComponent allMenus = new Menu(\"ALL MENUS\", \"All menus combined\");\r\n",
      "|  Modified variable allMenus of type MenuComponent with initial value headfirst.composite.menuiterator.Menu@3b0143d3\r\n",
      "|    Update overwrote variable allMenus\r\n",
      "\r\n",
      " allMenus.add(bMenu);\r\n",
      "\r\n",
      " allMenus.add(dMenu);\r\n",
      "\r\n"
     ]
    }
   ],
   "source": [
    "import headfirst.composite.menuiterator.*;\n",
    "\n",
    "MenuComponent bMenu = new Menu(\"B-MENU\", \"Breakfast\");\n",
    "MenuComponent dMenu = new Menu(\"D-MENU\", \"Lunch\");\n",
    "bMenu.add(new MenuItem(\"1b\",\"1 Breakfast\", true, 2.99));\n",
    "bMenu.add(new MenuItem(\"2b\",\"2 Breakfast\", false, 2.99));\n",
    "bMenu.add(new MenuItem(\"3b\",\"3 Breakfast\", true, 3.49));\n",
    "dMenu.add(new MenuItem(\"1d\",\"1 Diner\", true, 2.99));\n",
    "dMenu.add(new MenuItem(\"2d\",\"2 Diner\", false, 2.99));\n",
    "MenuComponent allMenus;\n",
    "MenuComponent allMenus = new Menu(\"ALL MENUS\", \"All menus combined\");\n",
    "allMenus.add(bMenu);\n",
    "allMenus.add(dMenu);"
   ]
  },
  {
   "cell_type": "code",
   "execution_count": 24,
   "metadata": {
    "collapsed": false,
    "slideshow": {
     "slide_type": "subslide"
    }
   },
   "outputs": [
    {
     "name": "stdout",
     "output_type": "stream",
     "text": [
      " allMenus.print()\r\n",
      "\r\n",
      "ALL MENUS, All menus combined\r\n",
      "---------------------\r\n",
      "\r\n",
      "B-MENU, Breakfast\r\n",
      "---------------------\r\n",
      "  1b(v), 2.99\r\n",
      "     -- 1 Breakfast\r\n",
      "  2b, 2.99\r\n",
      "     -- 2 Breakfast\r\n",
      "  3b(v), 3.49\r\n",
      "     -- 3 Breakfast\r\n",
      "\r\n",
      "D-MENU, Lunch\r\n",
      "---------------------\r\n",
      "  1d(v), 2.99\r\n",
      "     -- 1 Diner\r\n",
      "  2d, 2.99\r\n",
      "     -- 2 Diner\r\n",
      "\r\n"
     ]
    }
   ],
   "source": [
    "allMenus.print()"
   ]
  },
  {
   "cell_type": "markdown",
   "metadata": {
    "slideshow": {
     "slide_type": "subslide"
    }
   },
   "source": [
    "* Menu Composite Iterator\n",
    "    * Stack을 사용하여 Iterable 구현\n",
    "    * Stack은 java.util.Vector를 상속하고, pop(), push(), peek() 등의 기능을 제공한다.\n",
    "    * peek() - pop하지 않고 조회만 함.\n",
    "    * 지원하지 안는 기능은 'UnsupportedOperationException'\n",
    "    * recursive"
   ]
  },
  {
   "cell_type": "code",
   "execution_count": 15,
   "metadata": {
    "collapsed": false,
    "slideshow": {
     "slide_type": "subslide"
    }
   },
   "outputs": [
    {
     "data": {
      "image/svg+xml": [
       "<svg height=\"303px\" style=\"width:169px;height:303px;\" version=\"1.1\" viewBox=\"0 0 169 303\" width=\"169px\" xmlns=\"http://www.w3.org/2000/svg\" xmlns:xlink=\"http://www.w3.org/1999/xlink\"><defs><filter height=\"300%\" id=\"f1\" width=\"300%\" x=\"-1\" y=\"-1\"><feGaussianBlur result=\"blurOut\" stdDeviation=\"2.0\"/><feColorMatrix in=\"blurOut\" result=\"blurOut2\" type=\"matrix\" values=\"0 0 0 0 0 0 0 0 0 0 0 0 0 0 0 0 0 0 .4 0\"/><feOffset dx=\"4.0\" dy=\"4.0\" in=\"blurOut2\" result=\"blurOut3\"/><feBlend in=\"SourceGraphic\" in2=\"blurOut3\" mode=\"normal\"/></filter></defs><g><polygon fill=\"#FFFFFF\" filter=\"url(#f1)\" points=\"22,24,85,24,92,46.4883,162,46.4883,162,296,22,296,22,24\" style=\"stroke: #000000; stroke-width: 2.0;\"/><line style=\"stroke: #000000; stroke-width: 2.0;\" x1=\"22\" x2=\"92\" y1=\"46.4883\" y2=\"46.4883\"/><text fill=\"#000000\" font-family=\"sans-serif\" font-size=\"14\" font-weight=\"bold\" lengthAdjust=\"spacingAndGlyphs\" textLength=\"57\" x=\"26\" y=\"39.5352\">java.util</text><rect fill=\"#FEFECE\" filter=\"url(#f1)\" height=\"112.7754\" style=\"stroke: #A80036; stroke-width: 1.5;\" width=\"108\" x=\"38\" y=\"167\"/><ellipse cx=\"68.75\" cy=\"183\" fill=\"#ADD1B2\" rx=\"11\" ry=\"11\" style=\"stroke: #A80036; stroke-width: 1.0;\"/><path d=\"M71.7231,188.6431 Q71.1421,188.9419 70.5029,189.0913 Q69.8638,189.2407 69.1582,189.2407 Q66.6514,189.2407 65.3315,187.5889 Q64.0117,185.937 64.0117,182.8159 Q64.0117,179.6865 65.3315,178.0347 Q66.6514,176.3828 69.1582,176.3828 Q69.8638,176.3828 70.5112,176.5322 Q71.1587,176.6816 71.7231,176.9805 L71.7231,179.7031 Q71.0923,179.1221 70.4988,178.8523 Q69.9053,178.5825 69.2744,178.5825 Q67.9297,178.5825 67.2449,179.6492 Q66.5601,180.7158 66.5601,182.8159 Q66.5601,184.9077 67.2449,185.9744 Q67.9297,187.041 69.2744,187.041 Q69.9053,187.041 70.4988,186.7712 Q71.0923,186.5015 71.7231,185.9204 Z \"/><text fill=\"#000000\" font-family=\"sans-serif\" font-size=\"12\" lengthAdjust=\"spacingAndGlyphs\" textLength=\"30\" x=\"86.25\" y=\"187.5352\">Stack</text><rect fill=\"#FFFFFF\" height=\"16.1328\" style=\"stroke: #000000; stroke-width: 1.0; stroke-dasharray: 2.0,2.0;\" width=\"9\" x=\"140\" y=\"164\"/><text fill=\"#000000\" font-family=\"sans-serif\" font-size=\"12\" font-style=\"italic\" lengthAdjust=\"spacingAndGlyphs\" textLength=\"7\" x=\"141\" y=\"176.6016\">E</text><line style=\"stroke: #A80036; stroke-width: 1.5;\" x1=\"39\" x2=\"145\" y1=\"199\" y2=\"199\"/><line style=\"stroke: #A80036; stroke-width: 1.5;\" x1=\"39\" x2=\"145\" y1=\"207\" y2=\"207\"/><text fill=\"#000000\" font-family=\"sans-serif\" font-size=\"11\" lengthAdjust=\"spacingAndGlyphs\" textLength=\"87\" x=\"44\" y=\"221.6348\">empty():boolean</text><text fill=\"#000000\" font-family=\"sans-serif\" font-size=\"11\" lengthAdjust=\"spacingAndGlyphs\" textLength=\"42\" x=\"44\" y=\"234.5898\">peek():E</text><text fill=\"#000000\" font-family=\"sans-serif\" font-size=\"11\" lengthAdjust=\"spacingAndGlyphs\" textLength=\"38\" x=\"44\" y=\"247.5449\">pop():E</text><text fill=\"#000000\" font-family=\"sans-serif\" font-size=\"11\" lengthAdjust=\"spacingAndGlyphs\" textLength=\"50\" x=\"44\" y=\"260.5\">push(E):E</text><text fill=\"#000000\" font-family=\"sans-serif\" font-size=\"11\" lengthAdjust=\"spacingAndGlyphs\" textLength=\"96\" x=\"44\" y=\"273.4551\">search(Object):int</text><rect fill=\"#FEFECE\" filter=\"url(#f1)\" height=\"48\" style=\"stroke: #A80036; stroke-width: 1.5;\" width=\"69\" x=\"57.5\" y=\"59\"/><ellipse cx=\"72.5\" cy=\"75\" fill=\"#ADD1B2\" rx=\"11\" ry=\"11\" style=\"stroke: #A80036; stroke-width: 1.0;\"/><path d=\"M75.4731,80.6431 Q74.8921,80.9419 74.2529,81.0913 Q73.6138,81.2407 72.9082,81.2407 Q70.4014,81.2407 69.0815,79.5889 Q67.7617,77.937 67.7617,74.8159 Q67.7617,71.6865 69.0815,70.0347 Q70.4014,68.3828 72.9082,68.3828 Q73.6138,68.3828 74.2612,68.5322 Q74.9087,68.6816 75.4731,68.9805 L75.4731,71.7031 Q74.8423,71.1221 74.2488,70.8523 Q73.6553,70.5825 73.0244,70.5825 Q71.6797,70.5825 70.9949,71.6492 Q70.3101,72.7158 70.3101,74.8159 Q70.3101,76.9077 70.9949,77.9744 Q71.6797,79.041 73.0244,79.041 Q73.6553,79.041 74.2488,78.7712 Q74.8423,78.5015 75.4731,77.9204 Z \"/><text fill=\"#000000\" font-family=\"sans-serif\" font-size=\"12\" lengthAdjust=\"spacingAndGlyphs\" textLength=\"37\" x=\"86.5\" y=\"79.5352\">Vector</text><line style=\"stroke: #A80036; stroke-width: 1.5;\" x1=\"58.5\" x2=\"125.5\" y1=\"91\" y2=\"91\"/><line style=\"stroke: #A80036; stroke-width: 1.5;\" x1=\"58.5\" x2=\"125.5\" y1=\"99\" y2=\"99\"/><path d=\"M92,127.299 C92,139.855 92,153.741 92,166.937 \" fill=\"none\" style=\"stroke: #A80036; stroke-width: 1.0;\"/><polygon fill=\"none\" points=\"85.0001,127.182,92,107.182,99.0001,127.182,85.0001,127.182\" style=\"stroke: #A80036; stroke-width: 1.0;\"/></g></svg>"
      ],
      "text/plain": [
       "<IPython.core.display.SVG object>"
      ]
     },
     "execution_count": 15,
     "metadata": {},
     "output_type": "execute_result"
    }
   ],
   "source": [
    "%%plantuml\n",
    "@startuml\n",
    "'E: Element (no difference between E and T (Type))'\n",
    "class java.util.Stack<E> {\n",
    "    empty():boolean\n",
    "    peek():E\n",
    "    pop():E\n",
    "    push(E):E\n",
    "    search(Object):int\n",
    "}\n",
    "java.util.Vector <|-- java.util.Stack\n",
    "@enduml"
   ]
  },
  {
   "cell_type": "code",
   "execution_count": null,
   "metadata": {
    "collapsed": true,
    "slideshow": {
     "slide_type": "slide"
    }
   },
   "outputs": [],
   "source": [
    "# %load ./src/headfirst/composite/menuiterator/CompositeIterator.java\n",
    "package headfirst.composite.menuiterator;\n",
    "\n",
    "import java.util.*;\n",
    "  \n",
    "public class CompositeIterator implements Iterator {\n",
    "    Stack stack = new Stack();\n",
    "    public CompositeIterator(Iterator iterator) {\n",
    "    \tstack.push(iterator);\n",
    "    }\n",
    "    public Object next() {\n",
    "    \tif (hasNext()) {\n",
    "    \t\tIterator iterator = (Iterator) stack.peek();\n",
    "    \t\tMenuComponent component = (MenuComponent) iterator.next();\n",
    "    \t\tif (component instanceof Menu) {\n",
    "    \t\t\tstack.push(component.createIterator());\n",
    "    \t\t} \n",
    "    \t\treturn component;\n",
    "    \t} else {\n",
    "    \t\treturn null;\n",
    "    \t}\n",
    "    }\n",
    "    public boolean hasNext() {\n",
    "    \tif (stack.empty()) {\n",
    "    \t\treturn false;\n",
    "    \t} else {\n",
    "    \t\tIterator iterator = (Iterator) stack.peek();\n",
    "    \t\tif (!iterator.hasNext()) {\n",
    "    \t\t\tstack.pop();\n",
    "    \t\t\treturn hasNext();\n",
    "    \t\t} else {\n",
    "    \t\t\treturn true;\n",
    "    \t\t}\n",
    "    \t}\n",
    "    }\n",
    "    public void remove() {\n",
    "    \tthrow new UnsupportedOperationException();\n",
    "    }\n",
    "}\n"
   ]
  },
  {
   "cell_type": "code",
   "execution_count": null,
   "metadata": {
    "collapsed": true,
    "slideshow": {
     "slide_type": "slide"
    }
   },
   "outputs": [],
   "source": [
    "# %load ./src/headfirst/composite/menuiterator/NullIterator.java\n",
    "package headfirst.composite.menuiterator;\n",
    " \n",
    "import java.util.Iterator;\n",
    "  \n",
    "public class NullIterator implements Iterator {\n",
    "    public Object next() {\n",
    "        return null;\n",
    "    }\n",
    "    public boolean hasNext() {\n",
    "        return false;\n",
    "    }\n",
    "    public void remove() {\n",
    "        throw new UnsupportedOperationException();\n",
    "    }\n",
    "}\n"
   ]
  },
  {
   "cell_type": "code",
   "execution_count": null,
   "metadata": {
    "collapsed": true,
    "slideshow": {
     "slide_type": "slide"
    }
   },
   "outputs": [],
   "source": [
    "# %load ./src/headfirst/composite/menuiterator/Waitress.java\n",
    "package headfirst.composite.menuiterator;\n",
    "\n",
    "import java.util.Iterator;\n",
    "  \n",
    "public class Waitress {\n",
    "    MenuComponent allMenus;\n",
    "    public Waitress(MenuComponent allMenus) {\n",
    "        this.allMenus = allMenus;\n",
    "    }\n",
    "    public void printMenu() {\n",
    "        allMenus.print();\n",
    "    }\n",
    "    public void printVegetarianMenu() {\n",
    "        Iterator iterator = allMenus.createIterator();\n",
    "\n",
    "        System.out.println(\"\\nVEGETARIAN MENU\\n----\");\n",
    "        while (iterator.hasNext()) {\n",
    "            MenuComponent menuComponent = (MenuComponent)iterator.next();\n",
    "            try {\n",
    "                if (menuComponent.isVegetarian()) {\n",
    "                    menuComponent.print();\n",
    "                }\n",
    "            } catch (UnsupportedOperationException e) {}\n",
    "        }\n",
    "    }\n",
    "}\n"
   ]
  },
  {
   "cell_type": "code",
   "execution_count": null,
   "metadata": {
    "collapsed": true,
    "slideshow": {
     "slide_type": "slide"
    }
   },
   "outputs": [],
   "source": [
    "# %load ./src/headfirst/composite/menuiterator/MenuTestDrive.java\n",
    "package headfirst.composite.menuiterator;\n",
    "\n",
    "import java.util.*;\n",
    "\n",
    "public class MenuTestDrive {\n",
    "    public static void main(String args[]) {\n",
    "\n",
    "    \tMenuComponent pancakeHouseMenu = new Menu(\"PANCAKE HOUSE MENU\", \"Breakfast\");\n",
    "    \tMenuComponent dinerMenu = new Menu(\"DINER MENU\", \"Lunch\");\n",
    "    \tMenuComponent cafeMenu = new Menu(\"CAFE MENU\", \"Dinner\");\n",
    "    \tMenuComponent dessertMenu = new Menu(\"DESSERT MENU\", \"Dessert of course!\");\n",
    "    \tMenuComponent allMenus = new Menu(\"ALL MENUS\", \"All menus combined\");\n",
    "\n",
    "    \tallMenus.add(pancakeHouseMenu);\n",
    "    \tallMenus.add(dinerMenu);\n",
    "    \tallMenus.add(cafeMenu);\n",
    "\n",
    "    \tpancakeHouseMenu.add(new MenuItem(\"K&B's Pancake Breakfast\", \n",
    "            \"Pancakes with scrambled eggs, and toast\", true, 2.99));\n",
    "    \tpancakeHouseMenu.add(new MenuItem(\"Regular Pancake Breakfast\", \n",
    "            \"Pancakes with fried eggs, sausage\", false, 2.99));\n",
    "    \tpancakeHouseMenu.add(new MenuItem(\"Blueberry Pancakes\",\n",
    "            \"Pancakes made with fresh blueberries, and blueberry syrup\", true, 3.49));\n",
    "    \tpancakeHouseMenu.add(new MenuItem(\"Waffles\",\n",
    "            \"Waffles, with your choice of blueberries or strawberries\", true, 3.59));\n",
    "    \tdinerMenu.add(new MenuItem(\"Vegetarian BLT\",\n",
    "            \"(Fakin') Bacon with lettuce & tomato on whole wheat\", true, 2.99));\n",
    "    \tdinerMenu.add(new MenuItem(\"BLT\",\n",
    "            \"Bacon with lettuce & tomato on whole wheat\", false, 2.99));\n",
    "    \tdinerMenu.add(new MenuItem(\"Soup of the day\",\n",
    "            \"A bowl of the soup of the day, with a side of potato salad\", false, 3.29));\n",
    "    \tdinerMenu.add(new MenuItem(\"Hotdog\",\n",
    "            \"A hot dog, with saurkraut, relish, onions, topped with cheese\", false, 3.05));\n",
    "    \tdinerMenu.add(new MenuItem(\"Steamed Veggies and Brown Rice\",\n",
    "            \"A medly of steamed vegetables over brown rice\", true, 3.99));\n",
    "    \tdinerMenu.add(new MenuItem(\"Pasta\",\n",
    "            \"Spaghetti with Marinara Sauce, and a slice of sourdough bread\", true, 3.89));\n",
    "    \tdinerMenu.add(dessertMenu);\n",
    "    \tdessertMenu.add(new MenuItem(\"Apple Pie\",\n",
    "            \"Apple pie with a flakey crust, topped with vanilla icecream\", true, 1.59));\n",
    "    \tdessertMenu.add(new MenuItem(\"Cheesecake\",\n",
    "            \"Creamy New York cheesecake, with a chocolate graham crust\", true, 1.99));\n",
    "    \tdessertMenu.add(new MenuItem(\"Sorbet\",\n",
    "            \"A scoop of raspberry and a scoop of lime\", true, 1.89));\n",
    "    \tcafeMenu.add(new MenuItem(\"Veggie Burger and Air Fries\",\n",
    "            \"Veggie burger on a whole wheat bun, lettuce, tomato, and fries\", true, 3.99));\n",
    "    \tcafeMenu.add(new MenuItem(\"Soup of the day\",\n",
    "            \"A cup of the soup of the day, with a side salad\", false, 3.69));\n",
    "    \tcafeMenu.add(new MenuItem(\"Burrito\",\n",
    "            \"A large burrito, with whole pinto beans, salsa, guacamole\", true, 4.29));\n",
    "\n",
    "    \tWaitress waitress = new Waitress(allMenus);\n",
    "    \twaitress.printVegetarianMenu();\n",
    "    }\n",
    "}\n"
   ]
  },
  {
   "cell_type": "code",
   "execution_count": 63,
   "metadata": {
    "collapsed": false,
    "slideshow": {
     "slide_type": "slide"
    }
   },
   "outputs": [
    {
     "name": "stdout",
     "output_type": "stream",
     "text": [
      "Note: Some input files use unchecked or unsafe operations.\n",
      "Note: Recompile with -Xlint:unchecked for details.\n",
      "\n",
      "VEGETARIAN MENU\n",
      "----\n",
      "  K&B's Pancake Breakfast(v), 2.99\n",
      "     -- Pancakes with scrambled eggs, and toast\n",
      "  Blueberry Pancakes(v), 3.49\n",
      "     -- Pancakes made with fresh blueberries, and blueberry syrup\n",
      "  Waffles(v), 3.59\n",
      "     -- Waffles, with your choice of blueberries or strawberries\n",
      "  Vegetarian BLT(v), 2.99\n",
      "     -- (Fakin') Bacon with lettuce & tomato on whole wheat\n",
      "  Steamed Veggies and Brown Rice(v), 3.99\n",
      "     -- A medly of steamed vegetables over brown rice\n",
      "  Pasta(v), 3.89\n",
      "     -- Spaghetti with Marinara Sauce, and a slice of sourdough bread\n",
      "  Apple Pie(v), 1.59\n",
      "     -- Apple pie with a flakey crust, topped with vanilla icecream\n",
      "  Cheesecake(v), 1.99\n",
      "     -- Creamy New York cheesecake, with a chocolate graham crust\n",
      "  Sorbet(v), 1.89\n",
      "     -- A scoop of raspberry and a scoop of lime\n",
      "  Apple Pie(v), 1.59\n",
      "     -- Apple pie with a flakey crust, topped with vanilla icecream\n",
      "  Cheesecake(v), 1.99\n",
      "     -- Creamy New York cheesecake, with a chocolate graham crust\n",
      "  Sorbet(v), 1.89\n",
      "     -- A scoop of raspberry and a scoop of lime\n",
      "  Veggie Burger and Air Fries(v), 3.99\n",
      "     -- Veggie burger on a whole wheat bun, lettuce, tomato, and fries\n",
      "  Burrito(v), 4.29\n",
      "     -- A large burrito, with whole pinto beans, salsa, guacamole\n"
     ]
    }
   ],
   "source": [
    "!javac -d classes/ -sourcepath src/ src/headfirst/composite/menuiterator/*.java\n",
    "!java -cp classes/ headfirst.composite.menuiterator.MenuTestDrive"
   ]
  }
 ],
 "metadata": {
  "celltoolbar": "Slideshow",
  "kernelspec": {
   "display_name": "Python 2",
   "language": "python",
   "name": "python2"
  },
  "language_info": {
   "codemirror_mode": {
    "name": "ipython",
    "version": 2
   },
   "file_extension": ".py",
   "mimetype": "text/x-python",
   "name": "python",
   "nbconvert_exporter": "python",
   "pygments_lexer": "ipython2",
   "version": "2.7.12"
  }
 },
 "nbformat": 4,
 "nbformat_minor": 0
}
