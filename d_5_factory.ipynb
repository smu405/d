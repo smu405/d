{
 "cells": [
  {
   "cell_type": "markdown",
   "metadata": {
    "slideshow": {
     "slide_type": "slide"
    }
   },
   "source": [
    "# Factory 패턴\n",
    "\n",
    "## F.1 소개\n",
    "\n",
    "* Factory 패턴은 Creational Design Pattern, '객체를 생성하는 방식'을 정의한다.\n",
    "* Client는 실제 사용하는 객체를 명시할 필요 없다. 팩토리가 생성해서 반환하는 객체를 사용한다.\n",
    "* File 객체를 생성하는 경우, 실제 사용하는 객체의 생성을 open()함수 안에 은익한다.\n",
    "\n",
    "구분 | 예 | 설명\n",
    "-----|-----|-----\n",
    "전 | File f=new File() | 실체 사용하는 File 객체를 생성한다.\n",
    "후 | File f=open() | factory가 생성해서 반환하는 File 객체를 사용한다."
   ]
  },
  {
   "cell_type": "markdown",
   "metadata": {
    "slideshow": {
     "slide_type": "subslide"
    }
   },
   "source": [
    "* 디자인패턴 요소\n",
    "\n",
    "요소 | 설명\n",
    "---|---\n",
    "name | Factory\n",
    "problem | 생성한 구체클래스의 변경에 따른 연쇄 수정.\n",
    "solution | 생성을 감춤 (단순 factory, factory method, abstract factory\n",
    "consequence | 사용할 객체가 많거나 객체를 생성하는 방법이 변경되어도, 연쇄적인 수정이 적어진다."
   ]
  },
  {
   "cell_type": "markdown",
   "metadata": {
    "slideshow": {
     "slide_type": "subslide"
    }
   },
   "source": [
    "* 프로그래밍 예제\n",
    "    * 'Pizza' (HFDP Ch4)\n",
    "    * java valueOf(), getInstance(), newInstance()\n",
    "```\n",
    "Integer i=Integer.valueOf(\"100\");\n",
    "```\n",
    "\n",
    "    * HotDraw shape    \n",
    "    * 과제\n",
    "        * case extension\n",
    "            * simple factory - potato pizza\n",
    "            * factory method - SMstyle potato pizza\n",
    "            * abstract factory - potato (mashed, sliced)\n",
    "        * new case -  도형\n",
    "            * 도형의 Color, Shape의 경우 'Null Object Pattern'을 사용한다."
   ]
  },
  {
   "cell_type": "markdown",
   "metadata": {
    "slideshow": {
     "slide_type": "slide"
    }
   },
   "source": [
    "## F.2 문제\n",
    "\n",
    "* 객체를 생성하는 'new'의 문제\n",
    "    * 'new'는 인터페이스가 아니라 구체클래스를 생성.\n",
    "    * 'new'를 호출. 구체클래스를 생성. DecoyDuck, MallardDuck, RubberDuck.\n",
    "    * not closed for modification (생성할 객체가 늘어나면 클라이언트 수정량 많아짐)\n",
    "    * 구체 클래스가 많아지거나, 변경되면 클라이언트 측의 변경이 뒤 따른다.\n"
   ]
  },
  {
   "cell_type": "code",
   "execution_count": 3,
   "metadata": {
    "collapsed": true,
    "slideshow": {
     "slide_type": "subslide"
    }
   },
   "outputs": [],
   "source": [
    "import iplantuml"
   ]
  },
  {
   "cell_type": "code",
   "execution_count": 4,
   "metadata": {
    "collapsed": false,
    "slideshow": {
     "slide_type": "-"
    }
   },
   "outputs": [
    {
     "data": {
      "image/svg+xml": [
       "<svg height=\"315px\" style=\"width:275px;height:315px;\" version=\"1.1\" viewBox=\"0 0 275 315\" width=\"275px\" xmlns=\"http://www.w3.org/2000/svg\" xmlns:xlink=\"http://www.w3.org/1999/xlink\"><defs><filter height=\"300%\" id=\"f1\" width=\"300%\" x=\"-1\" y=\"-1\"><feGaussianBlur result=\"blurOut\" stdDeviation=\"2.0\"/><feColorMatrix in=\"blurOut\" result=\"blurOut2\" type=\"matrix\" values=\"0 0 0 0 0 0 0 0 0 0 0 0 0 0 0 0 0 0 .4 0\"/><feOffset dx=\"4.0\" dy=\"4.0\" in=\"blurOut2\" result=\"blurOut3\"/><feBlend in=\"SourceGraphic\" in2=\"blurOut3\" mode=\"normal\"/></filter></defs><g><rect fill=\"#FEFECE\" filter=\"url(#f1)\" height=\"48\" style=\"stroke: #A80036; stroke-width: 1.5;\" width=\"67\" x=\"26.5\" y=\"133\"/><ellipse cx=\"41.5\" cy=\"149\" fill=\"#ADD1B2\" rx=\"11\" ry=\"11\" style=\"stroke: #A80036; stroke-width: 1.0;\"/><path d=\"M44.4688,154.6406 Q43.8906,154.9375 43.25,155.0859 Q42.6094,155.2344 41.9063,155.2344 Q39.4063,155.2344 38.0859,153.5859 Q36.7656,151.9375 36.7656,148.8125 Q36.7656,145.6875 38.0859,144.0313 Q39.4063,142.375 41.9063,142.375 Q42.6094,142.375 43.2578,142.5313 Q43.9063,142.6875 44.4688,142.9844 L44.4688,145.7031 Q43.8438,145.125 43.25,144.8516 Q42.6563,144.5781 42.0313,144.5781 Q40.6875,144.5781 40,145.6484 Q39.3125,146.7188 39.3125,148.8125 Q39.3125,150.9063 40,151.9766 Q40.6875,153.0469 42.0313,153.0469 Q42.6563,153.0469 43.25,152.7734 Q43.8438,152.5 44.4688,151.9219 L44.4688,154.6406 Z \"/><text fill=\"#000000\" font-family=\"sans-serif\" font-size=\"12\" lengthAdjust=\"spacingAndGlyphs\" textLength=\"35\" x=\"55.5\" y=\"153.1543\">Client</text><line style=\"stroke: #A80036; stroke-width: 1.5;\" x1=\"27.5\" x2=\"92.5\" y1=\"165\" y2=\"165\"/><line style=\"stroke: #A80036; stroke-width: 1.5;\" x1=\"27.5\" x2=\"92.5\" y1=\"173\" y2=\"173\"/><rect fill=\"#FEFECE\" filter=\"url(#f1)\" height=\"48\" style=\"stroke: #A80036; stroke-width: 1.5;\" width=\"108\" x=\"6\" y=\"8\"/><ellipse cx=\"21\" cy=\"24\" fill=\"#ADD1B2\" rx=\"11\" ry=\"11\" style=\"stroke: #A80036; stroke-width: 1.0;\"/><path d=\"M23.9688,29.6406 Q23.3906,29.9375 22.75,30.0859 Q22.1094,30.2344 21.4063,30.2344 Q18.9063,30.2344 17.5859,28.5859 Q16.2656,26.9375 16.2656,23.8125 Q16.2656,20.6875 17.5859,19.0313 Q18.9063,17.375 21.4063,17.375 Q22.1094,17.375 22.7578,17.5313 Q23.4063,17.6875 23.9688,17.9844 L23.9688,20.7031 Q23.3438,20.125 22.75,19.8516 Q22.1563,19.5781 21.5313,19.5781 Q20.1875,19.5781 19.5,20.6484 Q18.8125,21.7188 18.8125,23.8125 Q18.8125,25.9063 19.5,26.9766 Q20.1875,28.0469 21.5313,28.0469 Q22.1563,28.0469 22.75,27.7734 Q23.3438,27.5 23.9688,26.9219 L23.9688,29.6406 Z \"/><text fill=\"#000000\" font-family=\"sans-serif\" font-size=\"12\" lengthAdjust=\"spacingAndGlyphs\" textLength=\"76\" x=\"35\" y=\"28.1543\">MallardDuck</text><line style=\"stroke: #A80036; stroke-width: 1.5;\" x1=\"7\" x2=\"113\" y1=\"40\" y2=\"40\"/><line style=\"stroke: #A80036; stroke-width: 1.5;\" x1=\"7\" x2=\"113\" y1=\"48\" y2=\"48\"/><rect fill=\"#FEFECE\" filter=\"url(#f1)\" height=\"48\" style=\"stroke: #A80036; stroke-width: 1.5;\" width=\"101\" x=\"165.5\" y=\"133\"/><ellipse cx=\"180.5\" cy=\"149\" fill=\"#ADD1B2\" rx=\"11\" ry=\"11\" style=\"stroke: #A80036; stroke-width: 1.0;\"/><path d=\"M183.4688,154.6406 Q182.8906,154.9375 182.25,155.0859 Q181.6094,155.2344 180.9063,155.2344 Q178.4063,155.2344 177.0859,153.5859 Q175.7656,151.9375 175.7656,148.8125 Q175.7656,145.6875 177.0859,144.0313 Q178.4063,142.375 180.9063,142.375 Q181.6094,142.375 182.2578,142.5313 Q182.9063,142.6875 183.4688,142.9844 L183.4688,145.7031 Q182.8438,145.125 182.25,144.8516 Q181.6563,144.5781 181.0313,144.5781 Q179.6875,144.5781 179,145.6484 Q178.3125,146.7188 178.3125,148.8125 Q178.3125,150.9063 179,151.9766 Q179.6875,153.0469 181.0313,153.0469 Q181.6563,153.0469 182.25,152.7734 Q182.8438,152.5 183.4688,151.9219 L183.4688,154.6406 Z \"/><text fill=\"#000000\" font-family=\"sans-serif\" font-size=\"12\" lengthAdjust=\"spacingAndGlyphs\" textLength=\"69\" x=\"194.5\" y=\"153.1543\">DecoyDuck</text><line style=\"stroke: #A80036; stroke-width: 1.5;\" x1=\"166.5\" x2=\"265.5\" y1=\"165\" y2=\"165\"/><line style=\"stroke: #A80036; stroke-width: 1.5;\" x1=\"166.5\" x2=\"265.5\" y1=\"173\" y2=\"173\"/><rect fill=\"#FEFECE\" filter=\"url(#f1)\" height=\"48\" style=\"stroke: #A80036; stroke-width: 1.5;\" width=\"108\" x=\"6\" y=\"258\"/><ellipse cx=\"21\" cy=\"274\" fill=\"#ADD1B2\" rx=\"11\" ry=\"11\" style=\"stroke: #A80036; stroke-width: 1.0;\"/><path d=\"M23.9688,279.6406 Q23.3906,279.9375 22.75,280.0859 Q22.1094,280.2344 21.4063,280.2344 Q18.9063,280.2344 17.5859,278.5859 Q16.2656,276.9375 16.2656,273.8125 Q16.2656,270.6875 17.5859,269.0313 Q18.9063,267.375 21.4063,267.375 Q22.1094,267.375 22.7578,267.5313 Q23.4063,267.6875 23.9688,267.9844 L23.9688,270.7031 Q23.3438,270.125 22.75,269.8516 Q22.1563,269.5781 21.5313,269.5781 Q20.1875,269.5781 19.5,270.6484 Q18.8125,271.7188 18.8125,273.8125 Q18.8125,275.9063 19.5,276.9766 Q20.1875,278.0469 21.5313,278.0469 Q22.1563,278.0469 22.75,277.7734 Q23.3438,277.5 23.9688,276.9219 L23.9688,279.6406 Z \"/><text fill=\"#000000\" font-family=\"sans-serif\" font-size=\"12\" lengthAdjust=\"spacingAndGlyphs\" textLength=\"76\" x=\"35\" y=\"278.1543\">RubberDuck</text><line style=\"stroke: #A80036; stroke-width: 1.5;\" x1=\"7\" x2=\"113\" y1=\"290\" y2=\"290\"/><line style=\"stroke: #A80036; stroke-width: 1.5;\" x1=\"7\" x2=\"113\" y1=\"298\" y2=\"298\"/><path d=\"M60,61.203 C60,82.947 60,112.642 60,132.968 \" fill=\"none\" style=\"stroke: #A80036; stroke-width: 1.0;\"/><polygon fill=\"#A80036\" points=\"60,56.135,56,65.135,60,61.135,64,65.135,60,56.135\" style=\"stroke: #A80036; stroke-width: 1.0;\"/><text fill=\"#000000\" font-family=\"sans-serif\" font-size=\"13\" lengthAdjust=\"spacingAndGlyphs\" textLength=\"35\" x=\"61\" y=\"99.0669\">new()</text><path d=\"M93.8497,157 C113.179,157 137.903,157 160.045,157 \" fill=\"none\" style=\"stroke: #A80036; stroke-width: 1.0;\"/><polygon fill=\"#A80036\" points=\"165.316,157,156.316,153,160.316,157,156.316,161,165.316,157\" style=\"stroke: #A80036; stroke-width: 1.0;\"/><text fill=\"#000000\" font-family=\"sans-serif\" font-size=\"13\" lengthAdjust=\"spacingAndGlyphs\" textLength=\"35\" x=\"112\" y=\"150.0669\">new()</text><path d=\"M60,181.135 C60,201.494 60,231.1907 60,252.908 \" fill=\"none\" style=\"stroke: #A80036; stroke-width: 1.0;\"/><polygon fill=\"#A80036\" points=\"60,257.9684,64,248.9684,60,252.9684,56,248.9684,60,257.9684\" style=\"stroke: #A80036; stroke-width: 1.0;\"/><text fill=\"#000000\" font-family=\"sans-serif\" font-size=\"13\" lengthAdjust=\"spacingAndGlyphs\" textLength=\"35\" x=\"61\" y=\"224.0669\">new()</text></g></svg>"
      ],
      "text/plain": [
       "<IPython.core.display.SVG object>"
      ]
     },
     "execution_count": 4,
     "metadata": {},
     "output_type": "execute_result"
    }
   ],
   "source": [
    "%%plantuml\n",
    "@startuml\n",
    "class Client\n",
    "class MallardDuck\n",
    "class DecoyDuck\n",
    "class RubberDuck\n",
    "Client -up-> MallardDuck:new()\n",
    "Client -> DecoyDuck:new()\n",
    "Client -down-> RubberDuck:new()\n",
    "@enduml"
   ]
  },
  {
   "cell_type": "markdown",
   "metadata": {},
   "source": [
    "## F.3 설계\n",
    "\n",
    "* 'new'를 은익한다. encapsulate instantiation.\n",
    "* 실제 사용할 객체를 은익하는 방법에 따라 Factory 방법을 구분할 수 있다.\n",
    "\n",
    "Factory의 종류 | 구현 방법 | 소스코드\n",
    "----------|----------|----------\n",
    "Simple Factory | 단순 팩토리가 객체를 생성<br>if문으로 사용객체의 new()를 결정. | Pizza createPizza(type:String)<br>---------<br>팩토리를 사용해서 Pizza p=factory.createPizza(\"cheese\")\n",
    "Factory Method | Creator - 상속으로 하위클래스에게 위임해서 abstract factory method.<br>Product - factory에 대응하는 구조를 가진다.<br>GoF \"Define an interface for creating an object, but let the classes which implement the interface decide which class to instantiate. The Factory method lets a class defer instantiation to subclasses\" | 추상함수 구현 abstract Pizza createPizza(type:String)<br>---------<br>팩토리를 사용하지 않고 Pizza p=createPizza(\"cheese\")\n",
    "Abstract Factory | Creator - abstract factory 구조를 가진다.<br>Product - abstract factory를 사용한다.<br>GoF \"to provide an interface for creating families of related or dependent objects without specifying their concrete classes.\" | 추상함수 구현 abstract Pizza createPizza(type:String)<br>---------<br>추상팩토리를 사용해서 new CheesePizza(f:PizzaIngredientFactory)"
   ]
  },
  {
   "cell_type": "markdown",
   "metadata": {
    "slideshow": {
     "slide_type": "slide"
    }
   },
   "source": [
    "* Factory pattern에 사용되는 상속\n",
    "    * 새로운 클래스가 추가되거나, 변경에도 많은 수정이 필요없다.\n",
    "    * 컴파일 시점에 supertype을 사용한다. 즉, 사용할 객체 타잎만 결정하는 것이다.\n",
    "    * 런타임에 실제 사용할 객체(subtype)를 결정하게 된다.\n",
    "\n",
    "* DIP (Dependency Inversion Principle)\n",
    "    * 구체클래스를 사용 (참조)하지 않는다. 부모클래스를 사용한다.\n",
    "    * 구체클래스를 상속받지 않는다.\n",
    "    * 부모클래스가 구현한 함수를 재정의하지 않는다. override하려면 부모 클래스의 함수는 abstract으로 정한다.\n"
   ]
  },
  {
   "cell_type": "markdown",
   "metadata": {
    "slideshow": {
     "slide_type": "subslide"
    }
   },
   "source": [
    "* Factory 패턴이 없다면 Client가 직접 Product을 생성한다.\n",
    "* Pizza 사례에서, 고객이 직접 피자를 만드는 것과 같다."
   ]
  },
  {
   "cell_type": "code",
   "execution_count": 3,
   "metadata": {
    "collapsed": false,
    "slideshow": {
     "slide_type": "-"
    }
   },
   "outputs": [
    {
     "data": {
      "image/svg+xml": [
       "<svg height=\"173px\" style=\"width:226px;height:173px;\" version=\"1.1\" viewBox=\"0 0 226 173\" width=\"226px\" xmlns=\"http://www.w3.org/2000/svg\" xmlns:xlink=\"http://www.w3.org/1999/xlink\"><defs><filter height=\"300%\" id=\"f1\" width=\"300%\" x=\"-1\" y=\"-1\"><feGaussianBlur result=\"blurOut\" stdDeviation=\"2.0\"/><feColorMatrix in=\"blurOut\" result=\"blurOut2\" type=\"matrix\" values=\"0 0 0 0 0 0 0 0 0 0 0 0 0 0 0 0 0 0 .4 0\"/><feOffset dx=\"4.0\" dy=\"4.0\" in=\"blurOut2\" result=\"blurOut3\"/><feBlend in=\"SourceGraphic\" in2=\"blurOut3\" mode=\"normal\"/></filter></defs><g><rect fill=\"#FEFECE\" filter=\"url(#f1)\" height=\"48\" style=\"stroke: #A80036; stroke-width: 1.5;\" width=\"66\" x=\"6\" y=\"8\"/><ellipse cx=\"21\" cy=\"24\" fill=\"#ADD1B2\" rx=\"11\" ry=\"11\" style=\"stroke: #A80036; stroke-width: 1.0;\"/><path d=\"M23.9688,29.6406 Q23.3906,29.9375 22.75,30.0859 Q22.1094,30.2344 21.4063,30.2344 Q18.9063,30.2344 17.5859,28.5859 Q16.2656,26.9375 16.2656,23.8125 Q16.2656,20.6875 17.5859,19.0313 Q18.9063,17.375 21.4063,17.375 Q22.1094,17.375 22.7578,17.5313 Q23.4063,17.6875 23.9688,17.9844 L23.9688,20.7031 Q23.3438,20.125 22.75,19.8516 Q22.1563,19.5781 21.5313,19.5781 Q20.1875,19.5781 19.5,20.6484 Q18.8125,21.7188 18.8125,23.8125 Q18.8125,25.9063 19.5,26.9766 Q20.1875,28.0469 21.5313,28.0469 Q22.1563,28.0469 22.75,27.7734 Q23.3438,27.5 23.9688,26.9219 L23.9688,29.6406 Z \"/><text fill=\"#000000\" font-family=\"sans-serif\" font-size=\"12\" lengthAdjust=\"spacingAndGlyphs\" textLength=\"34\" x=\"35\" y=\"28.1543\">client</text><line style=\"stroke: #A80036; stroke-width: 1.5;\" x1=\"7\" x2=\"71\" y1=\"40\" y2=\"40\"/><line style=\"stroke: #A80036; stroke-width: 1.5;\" x1=\"7\" x2=\"71\" y1=\"48\" y2=\"48\"/><rect fill=\"#FEFECE\" filter=\"url(#f1)\" height=\"48\" style=\"stroke: #A80036; stroke-width: 1.5;\" width=\"81\" x=\"107.5\" y=\"8\"/><ellipse cx=\"122.5\" cy=\"24\" fill=\"#ADD1B2\" rx=\"11\" ry=\"11\" style=\"stroke: #A80036; stroke-width: 1.0;\"/><path d=\"M125.4688,29.6406 Q124.8906,29.9375 124.25,30.0859 Q123.6094,30.2344 122.9063,30.2344 Q120.4063,30.2344 119.0859,28.5859 Q117.7656,26.9375 117.7656,23.8125 Q117.7656,20.6875 119.0859,19.0313 Q120.4063,17.375 122.9063,17.375 Q123.6094,17.375 124.2578,17.5313 Q124.9063,17.6875 125.4688,17.9844 L125.4688,20.7031 Q124.8438,20.125 124.25,19.8516 Q123.6563,19.5781 123.0313,19.5781 Q121.6875,19.5781 121,20.6484 Q120.3125,21.7188 120.3125,23.8125 Q120.3125,25.9063 121,26.9766 Q121.6875,28.0469 123.0313,28.0469 Q123.6563,28.0469 124.25,27.7734 Q124.8438,27.5 125.4688,26.9219 L125.4688,29.6406 Z \"/><text fill=\"#000000\" font-family=\"sans-serif\" font-size=\"12\" lengthAdjust=\"spacingAndGlyphs\" textLength=\"49\" x=\"136.5\" y=\"28.1543\">Product</text><line style=\"stroke: #A80036; stroke-width: 1.5;\" x1=\"108.5\" x2=\"187.5\" y1=\"40\" y2=\"40\"/><line style=\"stroke: #A80036; stroke-width: 1.5;\" x1=\"108.5\" x2=\"187.5\" y1=\"48\" y2=\"48\"/><rect fill=\"#FEFECE\" filter=\"url(#f1)\" height=\"48\" style=\"stroke: #A80036; stroke-width: 1.5;\" width=\"138\" x=\"79\" y=\"116\"/><ellipse cx=\"94\" cy=\"132\" fill=\"#ADD1B2\" rx=\"11\" ry=\"11\" style=\"stroke: #A80036; stroke-width: 1.0;\"/><path d=\"M96.9688,137.6406 Q96.3906,137.9375 95.75,138.0859 Q95.1094,138.2344 94.4063,138.2344 Q91.9063,138.2344 90.5859,136.5859 Q89.2656,134.9375 89.2656,131.8125 Q89.2656,128.6875 90.5859,127.0313 Q91.9063,125.375 94.4063,125.375 Q95.1094,125.375 95.7578,125.5313 Q96.4063,125.6875 96.9688,125.9844 L96.9688,128.7031 Q96.3438,128.125 95.75,127.8516 Q95.1563,127.5781 94.5313,127.5781 Q93.1875,127.5781 92.5,128.6484 Q91.8125,129.7188 91.8125,131.8125 Q91.8125,133.9063 92.5,134.9766 Q93.1875,136.0469 94.5313,136.0469 Q95.1563,136.0469 95.75,135.7734 Q96.3438,135.5 96.9688,134.9219 L96.9688,137.6406 Z \"/><text fill=\"#000000\" font-family=\"sans-serif\" font-size=\"12\" lengthAdjust=\"spacingAndGlyphs\" textLength=\"106\" x=\"108\" y=\"136.1543\">ConcreteProduct</text><line style=\"stroke: #A80036; stroke-width: 1.5;\" x1=\"80\" x2=\"216\" y1=\"148\" y2=\"148\"/><line style=\"stroke: #A80036; stroke-width: 1.5;\" x1=\"80\" x2=\"216\" y1=\"156\" y2=\"156\"/><path d=\"M72.2109,32 C82.2111,32 92.2113,32 102.2115,32 \" fill=\"none\" style=\"stroke: #A80036; stroke-width: 1.0;\"/><polygon fill=\"#A80036\" points=\"107.441,32,98.441,28,102.441,32,98.441,36,107.441,32\" style=\"stroke: #A80036; stroke-width: 1.0;\"/><path d=\"M148,76.0236 C148,89.5792 148,104.0381 148,115.6784 \" fill=\"none\" style=\"stroke: #A80036; stroke-width: 1.0;\"/><polygon fill=\"none\" points=\"141,76.0005,148,56,155,76.0004,141,76.0005\" style=\"stroke: #A80036; stroke-width: 1.0;\"/></g></svg>"
      ],
      "text/plain": [
       "<IPython.core.display.SVG object>"
      ]
     },
     "execution_count": 3,
     "metadata": {},
     "output_type": "execute_result"
    }
   ],
   "source": [
    "%%plantuml\n",
    "@startuml\n",
    "client -> Product\n",
    "Product <|-- ConcreteProduct\n",
    "@enduml"
   ]
  },
  {
   "cell_type": "markdown",
   "metadata": {
    "slideshow": {
     "slide_type": "subslide"
    }
   },
   "source": [
    "* 패턴이 적용되면 client는 Factory를 사용한다.\n",
    "* 고객이 피자 가게에 주문하는 예를 들 수 있다."
   ]
  },
  {
   "cell_type": "code",
   "execution_count": 5,
   "metadata": {
    "collapsed": false,
    "slideshow": {
     "slide_type": "-"
    }
   },
   "outputs": [
    {
     "data": {
      "image/svg+xml": [
       "<svg height=\"186px\" style=\"width:396px;height:186px;\" version=\"1.1\" viewBox=\"0 0 396 186\" width=\"396px\" xmlns=\"http://www.w3.org/2000/svg\" xmlns:xlink=\"http://www.w3.org/1999/xlink\"><defs><filter height=\"300%\" id=\"f1\" width=\"300%\" x=\"-1\" y=\"-1\"><feGaussianBlur result=\"blurOut\" stdDeviation=\"2.0\"/><feColorMatrix in=\"blurOut\" result=\"blurOut2\" type=\"matrix\" values=\"0 0 0 0 0 0 0 0 0 0 0 0 0 0 0 0 0 0 .4 0\"/><feOffset dx=\"4.0\" dy=\"4.0\" in=\"blurOut2\" result=\"blurOut3\"/><feBlend in=\"SourceGraphic\" in2=\"blurOut3\" mode=\"normal\"/></filter></defs><g><rect fill=\"#FEFECE\" filter=\"url(#f1)\" height=\"48\" style=\"stroke: #A80036; stroke-width: 1.5;\" width=\"66\" x=\"6\" y=\"14.5\"/><ellipse cx=\"21\" cy=\"30.5\" fill=\"#ADD1B2\" rx=\"11\" ry=\"11\" style=\"stroke: #A80036; stroke-width: 1.0;\"/><path d=\"M23.9688,36.1406 Q23.3906,36.4375 22.75,36.5859 Q22.1094,36.7344 21.4063,36.7344 Q18.9063,36.7344 17.5859,35.0859 Q16.2656,33.4375 16.2656,30.3125 Q16.2656,27.1875 17.5859,25.5313 Q18.9063,23.875 21.4063,23.875 Q22.1094,23.875 22.7578,24.0313 Q23.4063,24.1875 23.9688,24.4844 L23.9688,27.2031 Q23.3438,26.625 22.75,26.3516 Q22.1563,26.0781 21.5313,26.0781 Q20.1875,26.0781 19.5,27.1484 Q18.8125,28.2188 18.8125,30.3125 Q18.8125,32.4063 19.5,33.4766 Q20.1875,34.5469 21.5313,34.5469 Q22.1563,34.5469 22.75,34.2734 Q23.3438,34 23.9688,33.4219 L23.9688,36.1406 Z \"/><text fill=\"#000000\" font-family=\"sans-serif\" font-size=\"12\" lengthAdjust=\"spacingAndGlyphs\" textLength=\"34\" x=\"35\" y=\"34.6543\">client</text><line style=\"stroke: #A80036; stroke-width: 1.5;\" x1=\"7\" x2=\"71\" y1=\"46.5\" y2=\"46.5\"/><line style=\"stroke: #A80036; stroke-width: 1.5;\" x1=\"7\" x2=\"71\" y1=\"54.5\" y2=\"54.5\"/><rect fill=\"#FEFECE\" filter=\"url(#f1)\" height=\"60.8047\" style=\"stroke: #A80036; stroke-width: 1.5;\" width=\"100\" x=\"107\" y=\"8\"/><ellipse cx=\"131.45\" cy=\"24\" fill=\"#ADD1B2\" rx=\"11\" ry=\"11\" style=\"stroke: #A80036; stroke-width: 1.0;\"/><path d=\"M134.4188,29.6406 Q133.8406,29.9375 133.2,30.0859 Q132.5594,30.2344 131.8563,30.2344 Q129.3563,30.2344 128.0359,28.5859 Q126.7156,26.9375 126.7156,23.8125 Q126.7156,20.6875 128.0359,19.0313 Q129.3563,17.375 131.8563,17.375 Q132.5594,17.375 133.2078,17.5313 Q133.8563,17.6875 134.4188,17.9844 L134.4188,20.7031 Q133.7938,20.125 133.2,19.8516 Q132.6063,19.5781 131.9813,19.5781 Q130.6375,19.5781 129.95,20.6484 Q129.2625,21.7188 129.2625,23.8125 Q129.2625,25.9063 129.95,26.9766 Q130.6375,28.0469 131.9813,28.0469 Q132.6063,28.0469 133.2,27.7734 Q133.7938,27.5 134.4188,26.9219 L134.4188,29.6406 Z \"/><text fill=\"#000000\" font-family=\"sans-serif\" font-size=\"12\" lengthAdjust=\"spacingAndGlyphs\" textLength=\"47\" x=\"147.55\" y=\"28.1543\">Creator</text><line style=\"stroke: #A80036; stroke-width: 1.5;\" x1=\"108\" x2=\"206\" y1=\"40\" y2=\"40\"/><line style=\"stroke: #A80036; stroke-width: 1.5;\" x1=\"108\" x2=\"206\" y1=\"48\" y2=\"48\"/><text fill=\"#000000\" font-family=\"sans-serif\" font-size=\"11\" lengthAdjust=\"spacingAndGlyphs\" textLength=\"88\" x=\"113\" y=\"62.2104\">factoryMethod()</text><rect fill=\"#FEFECE\" filter=\"url(#f1)\" height=\"48\" style=\"stroke: #A80036; stroke-width: 1.5;\" width=\"136\" x=\"78\" y=\"129\"/><ellipse cx=\"93\" cy=\"145\" fill=\"#ADD1B2\" rx=\"11\" ry=\"11\" style=\"stroke: #A80036; stroke-width: 1.0;\"/><path d=\"M95.9688,150.6406 Q95.3906,150.9375 94.75,151.0859 Q94.1094,151.2344 93.4063,151.2344 Q90.9063,151.2344 89.5859,149.5859 Q88.2656,147.9375 88.2656,144.8125 Q88.2656,141.6875 89.5859,140.0313 Q90.9063,138.375 93.4063,138.375 Q94.1094,138.375 94.7578,138.5313 Q95.4063,138.6875 95.9688,138.9844 L95.9688,141.7031 Q95.3438,141.125 94.75,140.8516 Q94.1563,140.5781 93.5313,140.5781 Q92.1875,140.5781 91.5,141.6484 Q90.8125,142.7188 90.8125,144.8125 Q90.8125,146.9063 91.5,147.9766 Q92.1875,149.0469 93.5313,149.0469 Q94.1563,149.0469 94.75,148.7734 Q95.3438,148.5 95.9688,147.9219 L95.9688,150.6406 Z \"/><text fill=\"#000000\" font-family=\"sans-serif\" font-size=\"12\" lengthAdjust=\"spacingAndGlyphs\" textLength=\"104\" x=\"107\" y=\"149.1543\">ConcreteCreator</text><line style=\"stroke: #A80036; stroke-width: 1.5;\" x1=\"79\" x2=\"213\" y1=\"161\" y2=\"161\"/><line style=\"stroke: #A80036; stroke-width: 1.5;\" x1=\"79\" x2=\"213\" y1=\"169\" y2=\"169\"/><rect fill=\"#FEFECE\" filter=\"url(#f1)\" height=\"48\" style=\"stroke: #A80036; stroke-width: 1.5;\" width=\"81\" x=\"265.5\" y=\"14.5\"/><ellipse cx=\"280.5\" cy=\"30.5\" fill=\"#ADD1B2\" rx=\"11\" ry=\"11\" style=\"stroke: #A80036; stroke-width: 1.0;\"/><path d=\"M283.4688,36.1406 Q282.8906,36.4375 282.25,36.5859 Q281.6094,36.7344 280.9063,36.7344 Q278.4063,36.7344 277.0859,35.0859 Q275.7656,33.4375 275.7656,30.3125 Q275.7656,27.1875 277.0859,25.5313 Q278.4063,23.875 280.9063,23.875 Q281.6094,23.875 282.2578,24.0313 Q282.9063,24.1875 283.4688,24.4844 L283.4688,27.2031 Q282.8438,26.625 282.25,26.3516 Q281.6563,26.0781 281.0313,26.0781 Q279.6875,26.0781 279,27.1484 Q278.3125,28.2188 278.3125,30.3125 Q278.3125,32.4063 279,33.4766 Q279.6875,34.5469 281.0313,34.5469 Q281.6563,34.5469 282.25,34.2734 Q282.8438,34 283.4688,33.4219 L283.4688,36.1406 Z \"/><text fill=\"#000000\" font-family=\"sans-serif\" font-size=\"12\" lengthAdjust=\"spacingAndGlyphs\" textLength=\"49\" x=\"294.5\" y=\"34.6543\">Product</text><line style=\"stroke: #A80036; stroke-width: 1.5;\" x1=\"266.5\" x2=\"345.5\" y1=\"46.5\" y2=\"46.5\"/><line style=\"stroke: #A80036; stroke-width: 1.5;\" x1=\"266.5\" x2=\"345.5\" y1=\"54.5\" y2=\"54.5\"/><rect fill=\"#FEFECE\" filter=\"url(#f1)\" height=\"48\" style=\"stroke: #A80036; stroke-width: 1.5;\" width=\"138\" x=\"249\" y=\"129\"/><ellipse cx=\"264\" cy=\"145\" fill=\"#ADD1B2\" rx=\"11\" ry=\"11\" style=\"stroke: #A80036; stroke-width: 1.0;\"/><path d=\"M266.9688,150.6406 Q266.3906,150.9375 265.75,151.0859 Q265.1094,151.2344 264.4063,151.2344 Q261.9063,151.2344 260.5859,149.5859 Q259.2656,147.9375 259.2656,144.8125 Q259.2656,141.6875 260.5859,140.0313 Q261.9063,138.375 264.4063,138.375 Q265.1094,138.375 265.7578,138.5313 Q266.4063,138.6875 266.9688,138.9844 L266.9688,141.7031 Q266.3438,141.125 265.75,140.8516 Q265.1563,140.5781 264.5313,140.5781 Q263.1875,140.5781 262.5,141.6484 Q261.8125,142.7188 261.8125,144.8125 Q261.8125,146.9063 262.5,147.9766 Q263.1875,149.0469 264.5313,149.0469 Q265.1563,149.0469 265.75,148.7734 Q266.3438,148.5 266.9688,147.9219 L266.9688,150.6406 Z \"/><text fill=\"#000000\" font-family=\"sans-serif\" font-size=\"12\" lengthAdjust=\"spacingAndGlyphs\" textLength=\"106\" x=\"278\" y=\"149.1543\">ConcreteProduct</text><line style=\"stroke: #A80036; stroke-width: 1.5;\" x1=\"250\" x2=\"386\" y1=\"161\" y2=\"161\"/><line style=\"stroke: #A80036; stroke-width: 1.5;\" x1=\"250\" x2=\"386\" y1=\"169\" y2=\"169\"/><path d=\"M72.1875,38.5 C82.0618,38.5 91.936,38.5 101.8103,38.5 \" fill=\"none\" style=\"stroke: #A80036; stroke-width: 1.0;\"/><polygon fill=\"#A80036\" points=\"106.974,38.5,97.974,34.5,101.974,38.5,97.974,42.5,106.974,38.5\" style=\"stroke: #A80036; stroke-width: 1.0;\"/><path d=\"M152.15,89.1067 C150.803,102.8764 149.404,117.1847 148.281,128.6686 \" fill=\"none\" style=\"stroke: #A80036; stroke-width: 1.0;\"/><polygon fill=\"none\" points=\"145.197,88.2819,154.11,69.058,159.13,89.6444,145.197,88.2819\" style=\"stroke: #A80036; stroke-width: 1.0;\"/><path d=\"M310.602,82.6449 C312.285,98.4205 314.123,115.6523 315.546,128.9933 \" fill=\"none\" style=\"stroke: #A80036; stroke-width: 1.0;\"/><polygon fill=\"none\" points=\"303.618,83.1672,308.457,62.538,317.539,81.6822,303.618,83.1672\" style=\"stroke: #A80036; stroke-width: 1.0;\"/><path d=\"M207.055,38.5 C224.837,38.5 242.619,38.5 260.401,38.5 \" fill=\"none\" style=\"stroke: #A80036; stroke-width: 1.0;\"/><polygon fill=\"#A80036\" points=\"265.417,38.5,256.417,34.5,260.417,38.5,256.417,42.5,265.417,38.5\" style=\"stroke: #A80036; stroke-width: 1.0;\"/></g></svg>"
      ],
      "text/plain": [
       "<IPython.core.display.SVG object>"
      ]
     },
     "execution_count": 5,
     "metadata": {},
     "output_type": "execute_result"
    }
   ],
   "source": [
    "%%plantuml\n",
    "@startuml\n",
    "client -> Creator\n",
    "Creator <|-- ConcreteCreator\n",
    "Product <|-- ConcreteProduct\n",
    "class Creator {\n",
    "  factoryMethod()\n",
    "}\n",
    "Creator -right-> Product\n",
    "@enduml"
   ]
  },
  {
   "cell_type": "markdown",
   "metadata": {
    "slideshow": {
     "slide_type": "slide"
    }
   },
   "source": [
    "### F.3.1 simple factory\n",
    "\n",
    "* Simple Factory가 어느 객체를 생성할지 판단하고, 사용자측에 맞는 객체를 반환한다.\n",
    "    * 보통 'if' 문에서 문자열에 따라 생성할 객체를 결정한다.\n",
    "    * 'if' 문을 사용하는 것이 'bad smell'이 있다.\n",
    "    * Creator와 Product를 1:1로 하면 'if' 문이 제거될 수 있다. (참조: factory method에서 1:1 구조를 사용할 수 있다.)\n",
    "* 클라이언트 PizzaStore는 직접 new()를 사용하지 않는다."
   ]
  },
  {
   "cell_type": "code",
   "execution_count": 2,
   "metadata": {
    "collapsed": false,
    "slideshow": {
     "slide_type": "slide"
    }
   },
   "outputs": [
    {
     "data": {
      "image/svg+xml": [
       "<svg height=\"208px\" style=\"width:520px;height:208px;\" version=\"1.1\" viewBox=\"0 0 520 208\" width=\"520px\" xmlns=\"http://www.w3.org/2000/svg\" xmlns:xlink=\"http://www.w3.org/1999/xlink\"><defs><filter height=\"300%\" id=\"f1\" width=\"300%\" x=\"-1\" y=\"-1\"><feGaussianBlur result=\"blurOut\" stdDeviation=\"2.0\"/><feColorMatrix in=\"blurOut\" result=\"blurOut2\" type=\"matrix\" values=\"0 0 0 0 0 0 0 0 0 0 0 0 0 0 0 0 0 0 .4 0\"/><feOffset dx=\"4.0\" dy=\"4.0\" in=\"blurOut2\" result=\"blurOut3\"/><feBlend in=\"SourceGraphic\" in2=\"blurOut3\" mode=\"normal\"/></filter></defs><g><rect fill=\"#FEFECE\" filter=\"url(#f1)\" height=\"60.8047\" style=\"stroke: #A80036; stroke-width: 1.5;\" width=\"190\" x=\"6\" y=\"73.5\"/><ellipse cx=\"39.9\" cy=\"89.5\" fill=\"#ADD1B2\" rx=\"11\" ry=\"11\" style=\"stroke: #A80036; stroke-width: 1.0;\"/><path d=\"M42.8688,95.1406 Q42.2906,95.4375 41.65,95.5859 Q41.0094,95.7344 40.3063,95.7344 Q37.8063,95.7344 36.4859,94.0859 Q35.1656,92.4375 35.1656,89.3125 Q35.1656,86.1875 36.4859,84.5313 Q37.8063,82.875 40.3063,82.875 Q41.0094,82.875 41.6578,83.0313 Q42.3063,83.1875 42.8688,83.4844 L42.8688,86.2031 Q42.2438,85.625 41.65,85.3516 Q41.0563,85.0781 40.4313,85.0781 Q39.0875,85.0781 38.4,86.1484 Q37.7125,87.2188 37.7125,89.3125 Q37.7125,91.4063 38.4,92.4766 Q39.0875,93.5469 40.4313,93.5469 Q41.0563,93.5469 41.65,93.2734 Q42.2438,93 42.8688,92.4219 L42.8688,95.1406 Z \"/><text fill=\"#000000\" font-family=\"sans-serif\" font-size=\"12\" lengthAdjust=\"spacingAndGlyphs\" textLength=\"116\" x=\"58.1\" y=\"93.6543\">SimplePizzaFactory</text><line style=\"stroke: #A80036; stroke-width: 1.5;\" x1=\"7\" x2=\"195\" y1=\"105.5\" y2=\"105.5\"/><line style=\"stroke: #A80036; stroke-width: 1.5;\" x1=\"7\" x2=\"195\" y1=\"113.5\" y2=\"113.5\"/><ellipse cx=\"17\" cy=\"125.4023\" fill=\"#84BE84\" rx=\"3\" ry=\"3\" style=\"stroke: #038048; stroke-width: 1.0;\"/><text fill=\"#000000\" font-family=\"sans-serif\" font-size=\"11\" lengthAdjust=\"spacingAndGlyphs\" textLength=\"164\" x=\"26\" y=\"127.7104\">createPizza(type:String):Pizza</text><polygon fill=\"#FBFB77\" filter=\"url(#f1)\" points=\"231,8,231,199.5938,511,199.5938,511,18,501,8,231,8\" style=\"stroke: #A80036; stroke-width: 1.0;\"/><polygon fill=\"#FBFB77\" points=\"231,8,231,100,196.186,104,231,108,231,199.5938,511,199.5938,511,18,501,8,231,8\" style=\"stroke: #A80036; stroke-width: 1.0;\"/><line style=\"stroke: #A80036; stroke-width: 1.0;\" x1=\"501\" x2=\"501\" y1=\"8\" y2=\"18\"/><line style=\"stroke: #A80036; stroke-width: 1.0;\" x1=\"511\" x2=\"501\" y1=\"18\" y2=\"18\"/><text fill=\"#000000\" font-family=\"sans-serif\" font-size=\"13\" lengthAdjust=\"spacingAndGlyphs\" textLength=\"259\" x=\"237\" y=\"25.0669\">&quot;&quot;&quot;public Pizza createPizza(String type) {</text><text fill=\"#000000\" font-family=\"sans-serif\" font-size=\"13\" lengthAdjust=\"spacingAndGlyphs\" textLength=\"107\" x=\"253\" y=\"40.1997\">Pizza pizza=null;</text><text fill=\"#000000\" font-family=\"sans-serif\" font-size=\"13\" lengthAdjust=\"spacingAndGlyphs\" textLength=\"157\" x=\"253\" y=\"55.3325\">if(type.equals(&quot;cheese&quot;))</text><text fill=\"#000000\" font-family=\"sans-serif\" font-size=\"13\" lengthAdjust=\"spacingAndGlyphs\" textLength=\"168\" x=\"269\" y=\"70.4653\">pizza=new CheesePizza();</text><text fill=\"#000000\" font-family=\"sans-serif\" font-size=\"13\" lengthAdjust=\"spacingAndGlyphs\" textLength=\"205\" x=\"253\" y=\"85.5981\">else if(type.equals(&quot;pepperoni&quot;))</text><text fill=\"#000000\" font-family=\"sans-serif\" font-size=\"13\" lengthAdjust=\"spacingAndGlyphs\" textLength=\"184\" x=\"269\" y=\"100.731\">pizza=new PepperoniPizza();</text><text fill=\"#000000\" font-family=\"sans-serif\" font-size=\"13\" lengthAdjust=\"spacingAndGlyphs\" textLength=\"172\" x=\"253\" y=\"115.8638\">else if(type.equals(&quot;clam&quot;))</text><text fill=\"#000000\" font-family=\"sans-serif\" font-size=\"13\" lengthAdjust=\"spacingAndGlyphs\" textLength=\"153\" x=\"269\" y=\"130.9966\">pizza=new ClamPizza();</text><text fill=\"#000000\" font-family=\"sans-serif\" font-size=\"13\" lengthAdjust=\"spacingAndGlyphs\" textLength=\"183\" x=\"253\" y=\"146.1294\">else if(type.equals(&quot;veggie&quot;))</text><text fill=\"#000000\" font-family=\"sans-serif\" font-size=\"13\" lengthAdjust=\"spacingAndGlyphs\" textLength=\"164\" x=\"269\" y=\"161.2622\">pizza=new VeggiePizza();</text><text fill=\"#000000\" font-family=\"sans-serif\" font-size=\"13\" lengthAdjust=\"spacingAndGlyphs\" textLength=\"76\" x=\"253\" y=\"176.395\">return pizza</text><text fill=\"#000000\" font-family=\"sans-serif\" font-size=\"13\" lengthAdjust=\"spacingAndGlyphs\" textLength=\"23\" x=\"237\" y=\"191.5278\">}&quot;&quot;&quot;</text></g></svg>"
      ],
      "text/plain": [
       "<IPython.core.display.SVG object>"
      ]
     },
     "execution_count": 2,
     "metadata": {},
     "output_type": "execute_result"
    }
   ],
   "source": [
    "%%plantuml\n",
    "@startuml\n",
    "\n",
    "class SimplePizzaFactory {\n",
    "    +createPizza(type:String):Pizza\n",
    "}\n",
    "\n",
    "note right\n",
    "\"\"\"public Pizza createPizza(String type) {\n",
    "    Pizza pizza=null;\n",
    "    if(type.equals(\"cheese\"))\n",
    "        pizza=new CheesePizza();\n",
    "    else if(type.equals(\"pepperoni\"))\n",
    "        pizza=new PepperoniPizza();\n",
    "    else if(type.equals(\"clam\"))\n",
    "        pizza=new ClamPizza();\n",
    "    else if(type.equals(\"veggie\"))\n",
    "        pizza=new VeggiePizza();\n",
    "    return pizza\n",
    "}\"\"\"\n",
    "end note\n",
    "@enduml"
   ]
  },
  {
   "cell_type": "markdown",
   "metadata": {
    "slideshow": {
     "slide_type": "subslide"
    }
   },
   "source": [
    "* PizzaStore는 SimplePizzaFactory를 가지고, 이를 통해서 pizza를 생성한다."
   ]
  },
  {
   "cell_type": "code",
   "execution_count": 3,
   "metadata": {
    "collapsed": false,
    "slideshow": {
     "slide_type": "-"
    }
   },
   "outputs": [
    {
     "data": {
      "image/svg+xml": [
       "<svg height=\"224px\" style=\"width:789px;height:224px;\" version=\"1.1\" viewBox=\"0 0 789 224\" width=\"789px\" xmlns=\"http://www.w3.org/2000/svg\" xmlns:xlink=\"http://www.w3.org/1999/xlink\"><defs><filter height=\"300%\" id=\"f1\" width=\"300%\" x=\"-1\" y=\"-1\"><feGaussianBlur result=\"blurOut\" stdDeviation=\"2.0\"/><feColorMatrix in=\"blurOut\" result=\"blurOut2\" type=\"matrix\" values=\"0 0 0 0 0 0 0 0 0 0 0 0 0 0 0 0 0 0 .4 0\"/><feOffset dx=\"4.0\" dy=\"4.0\" in=\"blurOut2\" result=\"blurOut3\"/><feBlend in=\"SourceGraphic\" in2=\"blurOut3\" mode=\"normal\"/></filter></defs><g><rect fill=\"#FEFECE\" filter=\"url(#f1)\" height=\"86.4141\" style=\"stroke: #A80036; stroke-width: 1.5;\" width=\"207\" x=\"6\" y=\"14.5\"/><ellipse cx=\"73.75\" cy=\"30.5\" fill=\"#ADD1B2\" rx=\"11\" ry=\"11\" style=\"stroke: #A80036; stroke-width: 1.0;\"/><path d=\"M76.7188,36.1406 Q76.1406,36.4375 75.5,36.5859 Q74.8594,36.7344 74.1563,36.7344 Q71.6563,36.7344 70.3359,35.0859 Q69.0156,33.4375 69.0156,30.3125 Q69.0156,27.1875 70.3359,25.5313 Q71.6563,23.875 74.1563,23.875 Q74.8594,23.875 75.5078,24.0313 Q76.1563,24.1875 76.7188,24.4844 L76.7188,27.2031 Q76.0938,26.625 75.5,26.3516 Q74.9063,26.0781 74.2813,26.0781 Q72.9375,26.0781 72.25,27.1484 Q71.5625,28.2188 71.5625,30.3125 Q71.5625,32.4063 72.25,33.4766 Q72.9375,34.5469 74.2813,34.5469 Q74.9063,34.5469 75.5,34.2734 Q76.0938,34 76.7188,33.4219 L76.7188,36.1406 Z \"/><text fill=\"#000000\" font-family=\"sans-serif\" font-size=\"12\" lengthAdjust=\"spacingAndGlyphs\" textLength=\"63\" x=\"94.25\" y=\"34.6543\">PizzaStore</text><line style=\"stroke: #A80036; stroke-width: 1.5;\" x1=\"7\" x2=\"212\" y1=\"46.5\" y2=\"46.5\"/><rect fill=\"none\" height=\"6\" style=\"stroke: #C82930; stroke-width: 1.0;\" width=\"6\" x=\"14\" y=\"55.4023\"/><text fill=\"#000000\" font-family=\"sans-serif\" font-size=\"11\" lengthAdjust=\"spacingAndGlyphs\" textLength=\"150\" x=\"26\" y=\"60.7104\">factory:SimplePizzaFactory</text><line style=\"stroke: #A80036; stroke-width: 1.5;\" x1=\"7\" x2=\"212\" y1=\"67.3047\" y2=\"67.3047\"/><ellipse cx=\"17\" cy=\"79.207\" fill=\"#84BE84\" rx=\"3\" ry=\"3\" style=\"stroke: #038048; stroke-width: 1.0;\"/><text fill=\"#000000\" font-family=\"sans-serif\" font-size=\"11\" lengthAdjust=\"spacingAndGlyphs\" textLength=\"181\" x=\"26\" y=\"81.5151\">PIzzaStore(f:SimplePizzaFactory)</text><ellipse cx=\"17\" cy=\"92.0117\" fill=\"#84BE84\" rx=\"3\" ry=\"3\" style=\"stroke: #038048; stroke-width: 1.0;\"/><text fill=\"#000000\" font-family=\"sans-serif\" font-size=\"11\" lengthAdjust=\"spacingAndGlyphs\" textLength=\"131\" x=\"26\" y=\"94.3198\">orderPizza(String):Pizza</text><rect fill=\"#FEFECE\" filter=\"url(#f1)\" height=\"60.8047\" style=\"stroke: #A80036; stroke-width: 1.5;\" width=\"190\" x=\"248.5\" y=\"27\"/><ellipse cx=\"282.4\" cy=\"43\" fill=\"#ADD1B2\" rx=\"11\" ry=\"11\" style=\"stroke: #A80036; stroke-width: 1.0;\"/><path d=\"M285.3688,48.6406 Q284.7906,48.9375 284.15,49.0859 Q283.5094,49.2344 282.8063,49.2344 Q280.3063,49.2344 278.9859,47.5859 Q277.6656,45.9375 277.6656,42.8125 Q277.6656,39.6875 278.9859,38.0313 Q280.3063,36.375 282.8063,36.375 Q283.5094,36.375 284.1578,36.5313 Q284.8063,36.6875 285.3688,36.9844 L285.3688,39.7031 Q284.7438,39.125 284.15,38.8516 Q283.5563,38.5781 282.9313,38.5781 Q281.5875,38.5781 280.9,39.6484 Q280.2125,40.7188 280.2125,42.8125 Q280.2125,44.9063 280.9,45.9766 Q281.5875,47.0469 282.9313,47.0469 Q283.5563,47.0469 284.15,46.7734 Q284.7438,46.5 285.3688,45.9219 L285.3688,48.6406 Z \"/><text fill=\"#000000\" font-family=\"sans-serif\" font-size=\"12\" lengthAdjust=\"spacingAndGlyphs\" textLength=\"116\" x=\"300.6\" y=\"47.1543\">SimplePizzaFactory</text><line style=\"stroke: #A80036; stroke-width: 1.5;\" x1=\"249.5\" x2=\"437.5\" y1=\"59\" y2=\"59\"/><line style=\"stroke: #A80036; stroke-width: 1.5;\" x1=\"249.5\" x2=\"437.5\" y1=\"67\" y2=\"67\"/><ellipse cx=\"259.5\" cy=\"78.9023\" fill=\"#84BE84\" rx=\"3\" ry=\"3\" style=\"stroke: #038048; stroke-width: 1.0;\"/><text fill=\"#000000\" font-family=\"sans-serif\" font-size=\"11\" lengthAdjust=\"spacingAndGlyphs\" textLength=\"164\" x=\"268.5\" y=\"81.2104\">createPizza(type:String):Pizza</text><rect fill=\"#FEFECE\" filter=\"url(#f1)\" height=\"99.2188\" style=\"stroke: #A80036; stroke-width: 1.5;\" width=\"69\" x=\"474\" y=\"8\"/><ellipse cx=\"492.6\" cy=\"24\" fill=\"#ADD1B2\" rx=\"11\" ry=\"11\" style=\"stroke: #A80036; stroke-width: 1.0;\"/><path d=\"M495.5688,29.6406 Q494.9906,29.9375 494.35,30.0859 Q493.7094,30.2344 493.0063,30.2344 Q490.5063,30.2344 489.1859,28.5859 Q487.8656,26.9375 487.8656,23.8125 Q487.8656,20.6875 489.1859,19.0313 Q490.5063,17.375 493.0063,17.375 Q493.7094,17.375 494.3578,17.5313 Q495.0063,17.6875 495.5688,17.9844 L495.5688,20.7031 Q494.9438,20.125 494.35,19.8516 Q493.7563,19.5781 493.1313,19.5781 Q491.7875,19.5781 491.1,20.6484 Q490.4125,21.7188 490.4125,23.8125 Q490.4125,25.9063 491.1,26.9766 Q491.7875,28.0469 493.1313,28.0469 Q493.7563,28.0469 494.35,27.7734 Q494.9438,27.5 495.5688,26.9219 L495.5688,29.6406 Z \"/><text fill=\"#000000\" font-family=\"sans-serif\" font-size=\"12\" lengthAdjust=\"spacingAndGlyphs\" textLength=\"29\" x=\"507.4\" y=\"28.1543\">Pizza</text><line style=\"stroke: #A80036; stroke-width: 1.5;\" x1=\"475\" x2=\"542\" y1=\"40\" y2=\"40\"/><line style=\"stroke: #A80036; stroke-width: 1.5;\" x1=\"475\" x2=\"542\" y1=\"48\" y2=\"48\"/><text fill=\"#000000\" font-family=\"sans-serif\" font-size=\"11\" lengthAdjust=\"spacingAndGlyphs\" textLength=\"57\" x=\"480\" y=\"62.2104\">preparte()</text><text fill=\"#000000\" font-family=\"sans-serif\" font-size=\"11\" lengthAdjust=\"spacingAndGlyphs\" textLength=\"35\" x=\"480\" y=\"75.0151\">bake()</text><text fill=\"#000000\" font-family=\"sans-serif\" font-size=\"11\" lengthAdjust=\"spacingAndGlyphs\" textLength=\"25\" x=\"480\" y=\"87.8198\">cut()</text><text fill=\"#000000\" font-family=\"sans-serif\" font-size=\"11\" lengthAdjust=\"spacingAndGlyphs\" textLength=\"28\" x=\"480\" y=\"100.6245\">box()</text><rect fill=\"#FEFECE\" filter=\"url(#f1)\" height=\"48\" style=\"stroke: #A80036; stroke-width: 1.5;\" width=\"108\" x=\"246.5\" y=\"167\"/><ellipse cx=\"261.5\" cy=\"183\" fill=\"#ADD1B2\" rx=\"11\" ry=\"11\" style=\"stroke: #A80036; stroke-width: 1.0;\"/><path d=\"M264.4688,188.6406 Q263.8906,188.9375 263.25,189.0859 Q262.6094,189.2344 261.9063,189.2344 Q259.4063,189.2344 258.0859,187.5859 Q256.7656,185.9375 256.7656,182.8125 Q256.7656,179.6875 258.0859,178.0313 Q259.4063,176.375 261.9063,176.375 Q262.6094,176.375 263.2578,176.5313 Q263.9063,176.6875 264.4688,176.9844 L264.4688,179.7031 Q263.8438,179.125 263.25,178.8516 Q262.6563,178.5781 262.0313,178.5781 Q260.6875,178.5781 260,179.6484 Q259.3125,180.7188 259.3125,182.8125 Q259.3125,184.9063 260,185.9766 Q260.6875,187.0469 262.0313,187.0469 Q262.6563,187.0469 263.25,186.7734 Q263.8438,186.5 264.4688,185.9219 L264.4688,188.6406 Z \"/><text fill=\"#000000\" font-family=\"sans-serif\" font-size=\"12\" lengthAdjust=\"spacingAndGlyphs\" textLength=\"76\" x=\"275.5\" y=\"187.1543\">CheesePizza</text><line style=\"stroke: #A80036; stroke-width: 1.5;\" x1=\"247.5\" x2=\"353.5\" y1=\"199\" y2=\"199\"/><line style=\"stroke: #A80036; stroke-width: 1.5;\" x1=\"247.5\" x2=\"353.5\" y1=\"207\" y2=\"207\"/><rect fill=\"#FEFECE\" filter=\"url(#f1)\" height=\"48\" style=\"stroke: #A80036; stroke-width: 1.5;\" width=\"104\" x=\"389.5\" y=\"167\"/><ellipse cx=\"404.5\" cy=\"183\" fill=\"#ADD1B2\" rx=\"11\" ry=\"11\" style=\"stroke: #A80036; stroke-width: 1.0;\"/><path d=\"M407.4688,188.6406 Q406.8906,188.9375 406.25,189.0859 Q405.6094,189.2344 404.9063,189.2344 Q402.4063,189.2344 401.0859,187.5859 Q399.7656,185.9375 399.7656,182.8125 Q399.7656,179.6875 401.0859,178.0313 Q402.4063,176.375 404.9063,176.375 Q405.6094,176.375 406.2578,176.5313 Q406.9063,176.6875 407.4688,176.9844 L407.4688,179.7031 Q406.8438,179.125 406.25,178.8516 Q405.6563,178.5781 405.0313,178.5781 Q403.6875,178.5781 403,179.6484 Q402.3125,180.7188 402.3125,182.8125 Q402.3125,184.9063 403,185.9766 Q403.6875,187.0469 405.0313,187.0469 Q405.6563,187.0469 406.25,186.7734 Q406.8438,186.5 407.4688,185.9219 L407.4688,188.6406 Z \"/><text fill=\"#000000\" font-family=\"sans-serif\" font-size=\"12\" lengthAdjust=\"spacingAndGlyphs\" textLength=\"72\" x=\"418.5\" y=\"187.1543\">VeggiePizza</text><line style=\"stroke: #A80036; stroke-width: 1.5;\" x1=\"390.5\" x2=\"492.5\" y1=\"199\" y2=\"199\"/><line style=\"stroke: #A80036; stroke-width: 1.5;\" x1=\"390.5\" x2=\"492.5\" y1=\"207\" y2=\"207\"/><rect fill=\"#FEFECE\" filter=\"url(#f1)\" height=\"48\" style=\"stroke: #A80036; stroke-width: 1.5;\" width=\"91\" x=\"529\" y=\"167\"/><ellipse cx=\"544\" cy=\"183\" fill=\"#ADD1B2\" rx=\"11\" ry=\"11\" style=\"stroke: #A80036; stroke-width: 1.0;\"/><path d=\"M546.9688,188.6406 Q546.3906,188.9375 545.75,189.0859 Q545.1094,189.2344 544.4063,189.2344 Q541.9063,189.2344 540.5859,187.5859 Q539.2656,185.9375 539.2656,182.8125 Q539.2656,179.6875 540.5859,178.0313 Q541.9063,176.375 544.4063,176.375 Q545.1094,176.375 545.7578,176.5313 Q546.4063,176.6875 546.9688,176.9844 L546.9688,179.7031 Q546.3438,179.125 545.75,178.8516 Q545.1563,178.5781 544.5313,178.5781 Q543.1875,178.5781 542.5,179.6484 Q541.8125,180.7188 541.8125,182.8125 Q541.8125,184.9063 542.5,185.9766 Q543.1875,187.0469 544.5313,187.0469 Q545.1563,187.0469 545.75,186.7734 Q546.3438,186.5 546.9688,185.9219 L546.9688,188.6406 Z \"/><text fill=\"#000000\" font-family=\"sans-serif\" font-size=\"12\" lengthAdjust=\"spacingAndGlyphs\" textLength=\"59\" x=\"558\" y=\"187.1543\">ClamPizza</text><line style=\"stroke: #A80036; stroke-width: 1.5;\" x1=\"530\" x2=\"619\" y1=\"199\" y2=\"199\"/><line style=\"stroke: #A80036; stroke-width: 1.5;\" x1=\"530\" x2=\"619\" y1=\"207\" y2=\"207\"/><rect fill=\"#FEFECE\" filter=\"url(#f1)\" height=\"48\" style=\"stroke: #A80036; stroke-width: 1.5;\" width=\"125\" x=\"655\" y=\"167\"/><ellipse cx=\"670\" cy=\"183\" fill=\"#ADD1B2\" rx=\"11\" ry=\"11\" style=\"stroke: #A80036; stroke-width: 1.0;\"/><path d=\"M672.9688,188.6406 Q672.3906,188.9375 671.75,189.0859 Q671.1094,189.2344 670.4063,189.2344 Q667.9063,189.2344 666.5859,187.5859 Q665.2656,185.9375 665.2656,182.8125 Q665.2656,179.6875 666.5859,178.0313 Q667.9063,176.375 670.4063,176.375 Q671.1094,176.375 671.7578,176.5313 Q672.4063,176.6875 672.9688,176.9844 L672.9688,179.7031 Q672.3438,179.125 671.75,178.8516 Q671.1563,178.5781 670.5313,178.5781 Q669.1875,178.5781 668.5,179.6484 Q667.8125,180.7188 667.8125,182.8125 Q667.8125,184.9063 668.5,185.9766 Q669.1875,187.0469 670.5313,187.0469 Q671.1563,187.0469 671.75,186.7734 Q672.3438,186.5 672.9688,185.9219 L672.9688,188.6406 Z \"/><text fill=\"#000000\" font-family=\"sans-serif\" font-size=\"12\" lengthAdjust=\"spacingAndGlyphs\" textLength=\"93\" x=\"684\" y=\"187.1543\">PepperoniPizza</text><line style=\"stroke: #A80036; stroke-width: 1.5;\" x1=\"656\" x2=\"779\" y1=\"199\" y2=\"199\"/><line style=\"stroke: #A80036; stroke-width: 1.5;\" x1=\"656\" x2=\"779\" y1=\"207\" y2=\"207\"/><path d=\"M213.246,57.5 C223.212,57.5 233.177,57.5 243.142,57.5 \" fill=\"none\" style=\"stroke: #A80036; stroke-width: 1.0;\"/><polygon fill=\"#A80036\" points=\"248.354,57.5,239.354,53.5,243.354,57.5,239.354,61.5,248.354,57.5\" style=\"stroke: #A80036; stroke-width: 1.0;\"/><path d=\"M438.568,57.5 C448.571,57.5 458.574,57.5 468.577,57.5 \" fill=\"none\" style=\"stroke: #A80036; stroke-width: 1.0;\"/><polygon fill=\"#A80036\" points=\"473.807,57.5,464.807,53.5,468.807,57.5,464.807,61.5,473.807,57.5\" style=\"stroke: #A80036; stroke-width: 1.0;\"/><path d=\"M458.14,105.815 C457.593,106.215 457.046,106.61 456.5,107 C423.661,130.4325 383.397,151.692 352.001,166.8281 \" fill=\"none\" style=\"stroke: #A80036; stroke-width: 1.0;\"/><polygon fill=\"none\" points=\"453.802,100.32,473.758,93.196,462.6,111.21,453.802,100.32\" style=\"stroke: #A80036; stroke-width: 1.0;\"/><path d=\"M474.493,125.2448 C466.837,140.2717 459.216,155.2292 453.23,166.9769 \" fill=\"none\" style=\"stroke: #A80036; stroke-width: 1.0;\"/><polygon fill=\"none\" points=\"468.425,121.7346,483.742,107.092,480.9,128.0903,468.425,121.7346\" style=\"stroke: #A80036; stroke-width: 1.0;\"/><path d=\"M541.999,125.2448 C549.541,140.2717 557.049,155.2292 562.945,166.9769 \" fill=\"none\" style=\"stroke: #A80036; stroke-width: 1.0;\"/><polygon fill=\"none\" points=\"535.604,128.1071,532.888,107.092,548.116,121.827,535.604,128.1071\" style=\"stroke: #A80036; stroke-width: 1.0;\"/><path d=\"M560.033,90.924 C597.511,114.505 647.345,145.8597 680.826,166.9251 \" fill=\"none\" style=\"stroke: #A80036; stroke-width: 1.0;\"/><polygon fill=\"none\" points=\"556.212,96.79,543.012,80.215,563.668,84.941,556.212,96.79\" style=\"stroke: #A80036; stroke-width: 1.0;\"/></g></svg>"
      ],
      "text/plain": [
       "<IPython.core.display.SVG object>"
      ]
     },
     "execution_count": 3,
     "metadata": {},
     "output_type": "execute_result"
    }
   ],
   "source": [
    "%%plantuml\n",
    "@startuml\n",
    "class PizzaStore {\n",
    "    factory:SimplePizzaFactory\n",
    "    +PizzaStore(f:SimplePizzaFactory)\n",
    "    +orderPizza(type:String):Pizza\n",
    "}\n",
    "class SimplePizzaFactory {\n",
    "  +createPizza(type:String):Pizza\n",
    "}\n",
    "class Pizza {\n",
    "  preparte()\n",
    "  bake()\n",
    "  cut()\n",
    "  box()\n",
    "}\n",
    "PizzaStore -> SimplePizzaFactory\n",
    "SimplePizzaFactory -> Pizza\n",
    "Pizza <|-- CheesePizza\n",
    "Pizza <|-- VeggiePizza\n",
    "Pizza <|-- ClamPizza\n",
    "Pizza <|-- PepperoniPizza\n",
    "\n",
    "@enduml"
   ]
  },
  {
   "cell_type": "code",
   "execution_count": 4,
   "metadata": {
    "collapsed": false,
    "slideshow": {
     "slide_type": "slide"
    }
   },
   "outputs": [
    {
     "data": {
      "image/svg+xml": [
       "<svg height=\"329px\" style=\"width:474px;height:329px;\" version=\"1.1\" viewBox=\"0 0 474 329\" width=\"474px\" xmlns=\"http://www.w3.org/2000/svg\" xmlns:xlink=\"http://www.w3.org/1999/xlink\"><defs><filter height=\"300%\" id=\"f1\" width=\"300%\" x=\"-1\" y=\"-1\"><feGaussianBlur result=\"blurOut\" stdDeviation=\"2.0\"/><feColorMatrix in=\"blurOut\" result=\"blurOut2\" type=\"matrix\" values=\"0 0 0 0 0 0 0 0 0 0 0 0 0 0 0 0 0 0 .4 0\"/><feOffset dx=\"4.0\" dy=\"4.0\" in=\"blurOut2\" result=\"blurOut3\"/><feBlend in=\"SourceGraphic\" in2=\"blurOut3\" mode=\"normal\"/></filter></defs><g><line style=\"stroke: #A80036; stroke-width: 1.0; stroke-dasharray: 5.0,5.0;\" x1=\"36\" x2=\"36\" y1=\"38.2969\" y2=\"291.3594\"/><line style=\"stroke: #A80036; stroke-width: 1.0; stroke-dasharray: 5.0,5.0;\" x1=\"150.5\" x2=\"150.5\" y1=\"38.2969\" y2=\"291.3594\"/><line style=\"stroke: #A80036; stroke-width: 1.0; stroke-dasharray: 5.0,5.0;\" x1=\"358\" x2=\"358\" y1=\"38.2969\" y2=\"291.3594\"/><line style=\"stroke: #A80036; stroke-width: 1.0; stroke-dasharray: 5.0,5.0;\" x1=\"442.5\" x2=\"442.5\" y1=\"38.2969\" y2=\"291.3594\"/><rect fill=\"#FEFECE\" filter=\"url(#f1)\" height=\"30.2969\" style=\"stroke: #A80036; stroke-width: 1.5;\" width=\"53\" x=\"8\" y=\"3\"/><text fill=\"#000000\" font-family=\"sans-serif\" font-size=\"14\" lengthAdjust=\"spacingAndGlyphs\" textLength=\"39\" x=\"15\" y=\"22.9951\">Client</text><rect fill=\"#FEFECE\" filter=\"url(#f1)\" height=\"30.2969\" style=\"stroke: #A80036; stroke-width: 1.5;\" width=\"53\" x=\"8\" y=\"290.3594\"/><text fill=\"#000000\" font-family=\"sans-serif\" font-size=\"14\" lengthAdjust=\"spacingAndGlyphs\" textLength=\"39\" x=\"15\" y=\"310.3545\">Client</text><rect fill=\"#FEFECE\" filter=\"url(#f1)\" height=\"30.2969\" style=\"stroke: #A80036; stroke-width: 1.5;\" width=\"146\" x=\"75.5\" y=\"3\"/><text fill=\"#000000\" font-family=\"sans-serif\" font-size=\"14\" lengthAdjust=\"spacingAndGlyphs\" textLength=\"132\" x=\"82.5\" y=\"22.9951\">SimplePizzaFactory</text><rect fill=\"#FEFECE\" filter=\"url(#f1)\" height=\"30.2969\" style=\"stroke: #A80036; stroke-width: 1.5;\" width=\"146\" x=\"75.5\" y=\"290.3594\"/><text fill=\"#000000\" font-family=\"sans-serif\" font-size=\"14\" lengthAdjust=\"spacingAndGlyphs\" textLength=\"132\" x=\"82.5\" y=\"310.3545\">SimplePizzaFactory</text><rect fill=\"#FEFECE\" filter=\"url(#f1)\" height=\"30.2969\" style=\"stroke: #A80036; stroke-width: 1.5;\" width=\"87\" x=\"313\" y=\"3\"/><text fill=\"#000000\" font-family=\"sans-serif\" font-size=\"14\" lengthAdjust=\"spacingAndGlyphs\" textLength=\"73\" x=\"320\" y=\"22.9951\">PizzaStore</text><rect fill=\"#FEFECE\" filter=\"url(#f1)\" height=\"30.2969\" style=\"stroke: #A80036; stroke-width: 1.5;\" width=\"87\" x=\"313\" y=\"290.3594\"/><text fill=\"#000000\" font-family=\"sans-serif\" font-size=\"14\" lengthAdjust=\"spacingAndGlyphs\" textLength=\"73\" x=\"320\" y=\"310.3545\">PizzaStore</text><rect fill=\"#FEFECE\" filter=\"url(#f1)\" height=\"30.2969\" style=\"stroke: #A80036; stroke-width: 1.5;\" width=\"50\" x=\"415.5\" y=\"3\"/><text fill=\"#000000\" font-family=\"sans-serif\" font-size=\"14\" lengthAdjust=\"spacingAndGlyphs\" textLength=\"36\" x=\"422.5\" y=\"22.9951\">Pizza</text><rect fill=\"#FEFECE\" filter=\"url(#f1)\" height=\"30.2969\" style=\"stroke: #A80036; stroke-width: 1.5;\" width=\"50\" x=\"415.5\" y=\"290.3594\"/><text fill=\"#000000\" font-family=\"sans-serif\" font-size=\"14\" lengthAdjust=\"spacingAndGlyphs\" textLength=\"36\" x=\"422.5\" y=\"310.3545\">Pizza</text><polygon fill=\"#A80036\" points=\"138.5,65.2969,148.5,69.2969,138.5,73.2969,142.5,69.2969\" style=\"stroke: #A80036; stroke-width: 1.0;\"/><line style=\"stroke: #A80036; stroke-width: 1.0;\" x1=\"36.5\" x2=\"144.5\" y1=\"69.2969\" y2=\"69.2969\"/><text fill=\"#000000\" font-family=\"sans-serif\" font-size=\"13\" lengthAdjust=\"spacingAndGlyphs\" textLength=\"90\" x=\"43.5\" y=\"64.3638\">factory=new()</text><polygon fill=\"#A80036\" points=\"346.5,94.4297,356.5,98.4297,346.5,102.4297,350.5,98.4297\" style=\"stroke: #A80036; stroke-width: 1.0;\"/><line style=\"stroke: #A80036; stroke-width: 1.0;\" x1=\"36.5\" x2=\"352.5\" y1=\"98.4297\" y2=\"98.4297\"/><text fill=\"#000000\" font-family=\"sans-serif\" font-size=\"13\" lengthAdjust=\"spacingAndGlyphs\" textLength=\"79\" x=\"43.5\" y=\"93.4966\">new(factory)</text><polygon fill=\"#A80036\" points=\"346.5,123.5625,356.5,127.5625,346.5,131.5625,350.5,127.5625\" style=\"stroke: #A80036; stroke-width: 1.0;\"/><line style=\"stroke: #A80036; stroke-width: 1.0;\" x1=\"36.5\" x2=\"352.5\" y1=\"127.5625\" y2=\"127.5625\"/><text fill=\"#000000\" font-family=\"sans-serif\" font-size=\"13\" lengthAdjust=\"spacingAndGlyphs\" textLength=\"133\" x=\"43.5\" y=\"122.6294\">orderPizza(&quot;cheese&quot;)</text><polygon fill=\"#A80036\" points=\"161.5,152.6953,151.5,156.6953,161.5,160.6953,157.5,156.6953\" style=\"stroke: #A80036; stroke-width: 1.0;\"/><line style=\"stroke: #A80036; stroke-width: 1.0;\" x1=\"155.5\" x2=\"357.5\" y1=\"156.6953\" y2=\"156.6953\"/><text fill=\"#000000\" font-family=\"sans-serif\" font-size=\"13\" lengthAdjust=\"spacingAndGlyphs\" textLength=\"184\" x=\"167.5\" y=\"151.7622\">pizza=createPizza(&quot;cheese&quot;)</text><polygon fill=\"#A80036\" points=\"430.5,181.8281,440.5,185.8281,430.5,189.8281,434.5,185.8281\" style=\"stroke: #A80036; stroke-width: 1.0;\"/><line style=\"stroke: #A80036; stroke-width: 1.0;\" x1=\"358.5\" x2=\"436.5\" y1=\"185.8281\" y2=\"185.8281\"/><text fill=\"#000000\" font-family=\"sans-serif\" font-size=\"13\" lengthAdjust=\"spacingAndGlyphs\" textLength=\"60\" x=\"365.5\" y=\"180.895\">prepare()</text><polygon fill=\"#A80036\" points=\"430.5,210.9609,440.5,214.9609,430.5,218.9609,434.5,214.9609\" style=\"stroke: #A80036; stroke-width: 1.0;\"/><line style=\"stroke: #A80036; stroke-width: 1.0;\" x1=\"358.5\" x2=\"436.5\" y1=\"214.9609\" y2=\"214.9609\"/><text fill=\"#000000\" font-family=\"sans-serif\" font-size=\"13\" lengthAdjust=\"spacingAndGlyphs\" textLength=\"41\" x=\"365.5\" y=\"210.0278\">bake()</text><polygon fill=\"#A80036\" points=\"430.5,240.0938,440.5,244.0938,430.5,248.0938,434.5,244.0938\" style=\"stroke: #A80036; stroke-width: 1.0;\"/><line style=\"stroke: #A80036; stroke-width: 1.0;\" x1=\"358.5\" x2=\"436.5\" y1=\"244.0938\" y2=\"244.0938\"/><text fill=\"#000000\" font-family=\"sans-serif\" font-size=\"13\" lengthAdjust=\"spacingAndGlyphs\" textLength=\"30\" x=\"365.5\" y=\"239.1606\">cut()</text><polygon fill=\"#A80036\" points=\"430.5,269.2266,440.5,273.2266,430.5,277.2266,434.5,273.2266\" style=\"stroke: #A80036; stroke-width: 1.0;\"/><line style=\"stroke: #A80036; stroke-width: 1.0;\" x1=\"358.5\" x2=\"436.5\" y1=\"273.2266\" y2=\"273.2266\"/><text fill=\"#000000\" font-family=\"sans-serif\" font-size=\"13\" lengthAdjust=\"spacingAndGlyphs\" textLength=\"33\" x=\"365.5\" y=\"268.2935\">box()</text></g></svg>"
      ],
      "text/plain": [
       "<IPython.core.display.SVG object>"
      ]
     },
     "execution_count": 4,
     "metadata": {},
     "output_type": "execute_result"
    }
   ],
   "source": [
    "%%plantuml\n",
    "@startuml\n",
    "Client -> SimplePizzaFactory:factory=new()\n",
    "Client -> PizzaStore:new(factory)\n",
    "Client -> PizzaStore:orderPizza(\"cheese\")\n",
    "PizzaStore -> SimplePizzaFactory:pizza=createPizza(\"cheese\")\n",
    "PizzaStore -> Pizza:prepare()\n",
    "PizzaStore -> Pizza:bake()\n",
    "PizzaStore -> Pizza:cut()\n",
    "PizzaStore -> Pizza:box()\n",
    "@enduml"
   ]
  },
  {
   "cell_type": "markdown",
   "metadata": {
    "slideshow": {
     "slide_type": "slide"
    }
   },
   "source": [
    "### F.3.2 factory method\n",
    "\n",
    "* PizzaStore가 pizza를 생성하는 추상함수를 가진다. 이를 factory method라고 한다.\n",
    "```\n",
    "abstract Pizza createPizza(String type)\n",
    "```\n",
    "\n",
    "* factory method는 추상함수라서 실제 product이 실행시점에 결정된다.\n",
    "    * PizzaStore에서 상속을 받아, 자식클래스가 실제 사용할 product 클래스를 생성한다.\n",
    "    * 주문이 발생하는 orderPizza()가 호출되는 시점에 pizza가 createPizza()를 통해 실제 만들 product 클래스가 생성된다."
   ]
  },
  {
   "cell_type": "code",
   "execution_count": 5,
   "metadata": {
    "collapsed": false,
    "slideshow": {
     "slide_type": "subslide"
    }
   },
   "outputs": [
    {
     "data": {
      "image/svg+xml": [
       "<svg height=\"467px\" style=\"width:1100px;height:467px;\" version=\"1.1\" viewBox=\"0 0 1100 467\" width=\"1100px\" xmlns=\"http://www.w3.org/2000/svg\" xmlns:xlink=\"http://www.w3.org/1999/xlink\"><defs><filter height=\"300%\" id=\"f1\" width=\"300%\" x=\"-1\" y=\"-1\"><feGaussianBlur result=\"blurOut\" stdDeviation=\"2.0\"/><feColorMatrix in=\"blurOut\" result=\"blurOut2\" type=\"matrix\" values=\"0 0 0 0 0 0 0 0 0 0 0 0 0 0 0 0 0 0 .4 0\"/><feOffset dx=\"4.0\" dy=\"4.0\" in=\"blurOut2\" result=\"blurOut3\"/><feBlend in=\"SourceGraphic\" in2=\"blurOut3\" mode=\"normal\"/></filter></defs><g><rect fill=\"#FEFECE\" filter=\"url(#f1)\" height=\"73.6094\" style=\"stroke: #A80036; stroke-width: 1.5;\" width=\"165\" x=\"314\" y=\"44\"/><ellipse cx=\"360.25\" cy=\"60\" fill=\"#A9DCDF\" rx=\"11\" ry=\"11\" style=\"stroke: #A80036; stroke-width: 1.0;\"/><path d=\"M360.3594,55.3438 L359.2031,60.4219 L361.5313,60.4219 L360.3594,55.3438 Z M358.875,53.1094 L361.8594,53.1094 L365.2188,65.5 L362.7656,65.5 L362,62.4375 L358.7188,62.4375 L357.9688,65.5 L355.5313,65.5 L358.875,53.1094 Z \"/><text fill=\"#000000\" font-family=\"sans-serif\" font-size=\"12\" font-style=\"italic\" lengthAdjust=\"spacingAndGlyphs\" textLength=\"64\" x=\"380.75\" y=\"64.1543\">PizzaStore</text><line style=\"stroke: #A80036; stroke-width: 1.5;\" x1=\"315\" x2=\"478\" y1=\"76\" y2=\"76\"/><line style=\"stroke: #A80036; stroke-width: 1.5;\" x1=\"315\" x2=\"478\" y1=\"84\" y2=\"84\"/><rect fill=\"#F24D5C\" height=\"6\" style=\"stroke: #C82930; stroke-width: 1.0;\" width=\"6\" x=\"322\" y=\"92.9023\"/><text fill=\"#000000\" font-family=\"sans-serif\" font-size=\"11\" font-style=\"italic\" lengthAdjust=\"spacingAndGlyphs\" textLength=\"139\" x=\"334\" y=\"98.2104\">createPizza(String):Pizza</text><ellipse cx=\"325\" cy=\"108.707\" fill=\"#84BE84\" rx=\"3\" ry=\"3\" style=\"stroke: #038048; stroke-width: 1.0;\"/><text fill=\"#000000\" font-family=\"sans-serif\" font-size=\"11\" lengthAdjust=\"spacingAndGlyphs\" textLength=\"131\" x=\"334\" y=\"111.0151\">orderPizza(String):Pizza</text><rect fill=\"#FEFECE\" filter=\"url(#f1)\" height=\"48\" style=\"stroke: #A80036; stroke-width: 1.5;\" width=\"111\" x=\"89\" y=\"255.5\"/><ellipse cx=\"104\" cy=\"271.5\" fill=\"#ADD1B2\" rx=\"11\" ry=\"11\" style=\"stroke: #A80036; stroke-width: 1.0;\"/><path d=\"M106.9688,277.1406 Q106.3906,277.4375 105.75,277.5859 Q105.1094,277.7344 104.4063,277.7344 Q101.9063,277.7344 100.5859,276.0859 Q99.2656,274.4375 99.2656,271.3125 Q99.2656,268.1875 100.5859,266.5313 Q101.9063,264.875 104.4063,264.875 Q105.1094,264.875 105.7578,265.0313 Q106.4063,265.1875 106.9688,265.4844 L106.9688,268.2031 Q106.3438,267.625 105.75,267.3516 Q105.1563,267.0781 104.5313,267.0781 Q103.1875,267.0781 102.5,268.1484 Q101.8125,269.2188 101.8125,271.3125 Q101.8125,273.4063 102.5,274.4766 Q103.1875,275.5469 104.5313,275.5469 Q105.1563,275.5469 105.75,275.2734 Q106.3438,275 106.9688,274.4219 L106.9688,277.1406 Z \"/><text fill=\"#000000\" font-family=\"sans-serif\" font-size=\"12\" lengthAdjust=\"spacingAndGlyphs\" textLength=\"79\" x=\"118\" y=\"275.6543\">NYPizzaStore</text><line style=\"stroke: #A80036; stroke-width: 1.5;\" x1=\"90\" x2=\"199\" y1=\"287.5\" y2=\"287.5\"/><line style=\"stroke: #A80036; stroke-width: 1.5;\" x1=\"90\" x2=\"199\" y1=\"295.5\" y2=\"295.5\"/><rect fill=\"#FEFECE\" filter=\"url(#f1)\" height=\"48\" style=\"stroke: #A80036; stroke-width: 1.5;\" width=\"145\" x=\"575\" y=\"255.5\"/><ellipse cx=\"590\" cy=\"271.5\" fill=\"#ADD1B2\" rx=\"11\" ry=\"11\" style=\"stroke: #A80036; stroke-width: 1.0;\"/><path d=\"M592.9688,277.1406 Q592.3906,277.4375 591.75,277.5859 Q591.1094,277.7344 590.4063,277.7344 Q587.9063,277.7344 586.5859,276.0859 Q585.2656,274.4375 585.2656,271.3125 Q585.2656,268.1875 586.5859,266.5313 Q587.9063,264.875 590.4063,264.875 Q591.1094,264.875 591.7578,265.0313 Q592.4063,265.1875 592.9688,265.4844 L592.9688,268.2031 Q592.3438,267.625 591.75,267.3516 Q591.1563,267.0781 590.5313,267.0781 Q589.1875,267.0781 588.5,268.1484 Q587.8125,269.2188 587.8125,271.3125 Q587.8125,273.4063 588.5,274.4766 Q589.1875,275.5469 590.5313,275.5469 Q591.1563,275.5469 591.75,275.2734 Q592.3438,275 592.9688,274.4219 L592.9688,277.1406 Z \"/><text fill=\"#000000\" font-family=\"sans-serif\" font-size=\"12\" lengthAdjust=\"spacingAndGlyphs\" textLength=\"113\" x=\"604\" y=\"275.6543\">ChicagoPizzaStore</text><line style=\"stroke: #A80036; stroke-width: 1.5;\" x1=\"576\" x2=\"719\" y1=\"287.5\" y2=\"287.5\"/><line style=\"stroke: #A80036; stroke-width: 1.5;\" x1=\"576\" x2=\"719\" y1=\"295.5\" y2=\"295.5\"/><rect fill=\"#FEFECE\" filter=\"url(#f1)\" height=\"48\" style=\"stroke: #A80036; stroke-width: 1.5;\" width=\"61\" x=\"858\" y=\"57\"/><ellipse cx=\"873\" cy=\"73\" fill=\"#ADD1B2\" rx=\"11\" ry=\"11\" style=\"stroke: #A80036; stroke-width: 1.0;\"/><path d=\"M875.9688,78.6406 Q875.3906,78.9375 874.75,79.0859 Q874.1094,79.2344 873.4063,79.2344 Q870.9063,79.2344 869.5859,77.5859 Q868.2656,75.9375 868.2656,72.8125 Q868.2656,69.6875 869.5859,68.0313 Q870.9063,66.375 873.4063,66.375 Q874.1094,66.375 874.7578,66.5313 Q875.4063,66.6875 875.9688,66.9844 L875.9688,69.7031 Q875.3438,69.125 874.75,68.8516 Q874.1563,68.5781 873.5313,68.5781 Q872.1875,68.5781 871.5,69.6484 Q870.8125,70.7188 870.8125,72.8125 Q870.8125,74.9063 871.5,75.9766 Q872.1875,77.0469 873.5313,77.0469 Q874.1563,77.0469 874.75,76.7734 Q875.3438,76.5 875.9688,75.9219 L875.9688,78.6406 Z \"/><text fill=\"#000000\" font-family=\"sans-serif\" font-size=\"12\" lengthAdjust=\"spacingAndGlyphs\" textLength=\"29\" x=\"887\" y=\"77.1543\">Pizza</text><line style=\"stroke: #A80036; stroke-width: 1.5;\" x1=\"859\" x2=\"918\" y1=\"89\" y2=\"89\"/><line style=\"stroke: #A80036; stroke-width: 1.5;\" x1=\"859\" x2=\"918\" y1=\"97\" y2=\"97\"/><rect fill=\"#FEFECE\" filter=\"url(#f1)\" height=\"53.9375\" style=\"stroke: #A80036; stroke-width: 1.5;\" width=\"112\" x=\"755.5\" y=\"252.5\"/><ellipse cx=\"770.5\" cy=\"271.4688\" fill=\"#ADD1B2\" rx=\"11\" ry=\"11\" style=\"stroke: #A80036; stroke-width: 1.0;\"/><path d=\"M773.4688,277.1094 Q772.8906,277.4063 772.25,277.5547 Q771.6094,277.7031 770.9063,277.7031 Q768.4063,277.7031 767.0859,276.0547 Q765.7656,274.4063 765.7656,271.2813 Q765.7656,268.1563 767.0859,266.5 Q768.4063,264.8438 770.9063,264.8438 Q771.6094,264.8438 772.2578,265 Q772.9063,265.1563 773.4688,265.4531 L773.4688,268.1719 Q772.8438,267.5938 772.25,267.3203 Q771.6563,267.0469 771.0313,267.0469 Q769.6875,267.0469 769,268.1172 Q768.3125,269.1875 768.3125,271.2813 Q768.3125,273.375 769,274.4453 Q769.6875,275.5156 771.0313,275.5156 Q771.6563,275.5156 772.25,275.2422 Q772.8438,274.9688 773.4688,274.3906 L773.4688,277.1094 Z \"/><text fill=\"#000000\" font-family=\"sans-serif\" font-size=\"12\" lengthAdjust=\"spacingAndGlyphs\" textLength=\"80\" x=\"784.5\" y=\"268.6387\">ChicagoStyle</text><text fill=\"#000000\" font-family=\"sans-serif\" font-size=\"12\" lengthAdjust=\"spacingAndGlyphs\" textLength=\"29\" x=\"810\" y=\"282.6074\">Pizza</text><line style=\"stroke: #A80036; stroke-width: 1.5;\" x1=\"756.5\" x2=\"866.5\" y1=\"290.4375\" y2=\"290.4375\"/><line style=\"stroke: #A80036; stroke-width: 1.5;\" x1=\"756.5\" x2=\"866.5\" y1=\"298.4375\" y2=\"298.4375\"/><rect fill=\"#FEFECE\" filter=\"url(#f1)\" height=\"53.9375\" style=\"stroke: #A80036; stroke-width: 1.5;\" width=\"125\" x=\"903\" y=\"252.5\"/><ellipse cx=\"918\" cy=\"271.4688\" fill=\"#ADD1B2\" rx=\"11\" ry=\"11\" style=\"stroke: #A80036; stroke-width: 1.0;\"/><path d=\"M920.9688,277.1094 Q920.3906,277.4063 919.75,277.5547 Q919.1094,277.7031 918.4063,277.7031 Q915.9063,277.7031 914.5859,276.0547 Q913.2656,274.4063 913.2656,271.2813 Q913.2656,268.1563 914.5859,266.5 Q915.9063,264.8438 918.4063,264.8438 Q919.1094,264.8438 919.7578,265 Q920.4063,265.1563 920.9688,265.4531 L920.9688,268.1719 Q920.3438,267.5938 919.75,267.3203 Q919.1563,267.0469 918.5313,267.0469 Q917.1875,267.0469 916.5,268.1172 Q915.8125,269.1875 915.8125,271.2813 Q915.8125,273.375 916.5,274.4453 Q917.1875,275.5156 918.5313,275.5156 Q919.1563,275.5156 919.75,275.2422 Q920.3438,274.9688 920.9688,274.3906 L920.9688,277.1094 Z \"/><text fill=\"#000000\" font-family=\"sans-serif\" font-size=\"12\" lengthAdjust=\"spacingAndGlyphs\" textLength=\"93\" x=\"932\" y=\"268.6387\">NYStyleCheese</text><text fill=\"#000000\" font-family=\"sans-serif\" font-size=\"12\" lengthAdjust=\"spacingAndGlyphs\" textLength=\"29\" x=\"964\" y=\"282.6074\">Pizza</text><line style=\"stroke: #A80036; stroke-width: 1.5;\" x1=\"904\" x2=\"1027\" y1=\"290.4375\" y2=\"290.4375\"/><line style=\"stroke: #A80036; stroke-width: 1.5;\" x1=\"904\" x2=\"1027\" y1=\"298.4375\" y2=\"298.4375\"/><rect fill=\"#FEFECE\" filter=\"url(#f1)\" height=\"53.9375\" style=\"stroke: #A80036; stroke-width: 1.5;\" width=\"112\" x=\"524.5\" y=\"405\"/><ellipse cx=\"539.5\" cy=\"423.9688\" fill=\"#ADD1B2\" rx=\"11\" ry=\"11\" style=\"stroke: #A80036; stroke-width: 1.0;\"/><path d=\"M542.4688,429.6094 Q541.8906,429.9063 541.25,430.0547 Q540.6094,430.2031 539.9063,430.2031 Q537.4063,430.2031 536.0859,428.5547 Q534.7656,426.9063 534.7656,423.7813 Q534.7656,420.6563 536.0859,419 Q537.4063,417.3438 539.9063,417.3438 Q540.6094,417.3438 541.2578,417.5 Q541.9063,417.6563 542.4688,417.9531 L542.4688,420.6719 Q541.8438,420.0938 541.25,419.8203 Q540.6563,419.5469 540.0313,419.5469 Q538.6875,419.5469 538,420.6172 Q537.3125,421.6875 537.3125,423.7813 Q537.3125,425.875 538,426.9453 Q538.6875,428.0156 540.0313,428.0156 Q540.6563,428.0156 541.25,427.7422 Q541.8438,427.4688 542.4688,426.8906 L542.4688,429.6094 Z \"/><text fill=\"#000000\" font-family=\"sans-serif\" font-size=\"12\" lengthAdjust=\"spacingAndGlyphs\" textLength=\"80\" x=\"553.5\" y=\"421.1387\">ChicagoStyle</text><text fill=\"#000000\" font-family=\"sans-serif\" font-size=\"12\" lengthAdjust=\"spacingAndGlyphs\" textLength=\"76\" x=\"555.5\" y=\"435.1074\">CheesePizza</text><line style=\"stroke: #A80036; stroke-width: 1.5;\" x1=\"525.5\" x2=\"635.5\" y1=\"442.9375\" y2=\"442.9375\"/><line style=\"stroke: #A80036; stroke-width: 1.5;\" x1=\"525.5\" x2=\"635.5\" y1=\"450.9375\" y2=\"450.9375\"/><rect fill=\"#FEFECE\" filter=\"url(#f1)\" height=\"53.9375\" style=\"stroke: #A80036; stroke-width: 1.5;\" width=\"125\" x=\"672\" y=\"405\"/><ellipse cx=\"687\" cy=\"423.9688\" fill=\"#ADD1B2\" rx=\"11\" ry=\"11\" style=\"stroke: #A80036; stroke-width: 1.0;\"/><path d=\"M689.9688,429.6094 Q689.3906,429.9063 688.75,430.0547 Q688.1094,430.2031 687.4063,430.2031 Q684.9063,430.2031 683.5859,428.5547 Q682.2656,426.9063 682.2656,423.7813 Q682.2656,420.6563 683.5859,419 Q684.9063,417.3438 687.4063,417.3438 Q688.1094,417.3438 688.7578,417.5 Q689.4063,417.6563 689.9688,417.9531 L689.9688,420.6719 Q689.3438,420.0938 688.75,419.8203 Q688.1563,419.5469 687.5313,419.5469 Q686.1875,419.5469 685.5,420.6172 Q684.8125,421.6875 684.8125,423.7813 Q684.8125,425.875 685.5,426.9453 Q686.1875,428.0156 687.5313,428.0156 Q688.1563,428.0156 688.75,427.7422 Q689.3438,427.4688 689.9688,426.8906 L689.9688,429.6094 Z \"/><text fill=\"#000000\" font-family=\"sans-serif\" font-size=\"12\" lengthAdjust=\"spacingAndGlyphs\" textLength=\"80\" x=\"707.5\" y=\"421.1387\">ChicagoStyle</text><text fill=\"#000000\" font-family=\"sans-serif\" font-size=\"12\" lengthAdjust=\"spacingAndGlyphs\" textLength=\"93\" x=\"701\" y=\"435.1074\">PepperoniPizza</text><line style=\"stroke: #A80036; stroke-width: 1.5;\" x1=\"673\" x2=\"796\" y1=\"442.9375\" y2=\"442.9375\"/><line style=\"stroke: #A80036; stroke-width: 1.5;\" x1=\"673\" x2=\"796\" y1=\"450.9375\" y2=\"450.9375\"/><rect fill=\"#FEFECE\" filter=\"url(#f1)\" height=\"53.9375\" style=\"stroke: #A80036; stroke-width: 1.5;\" width=\"112\" x=\"832.5\" y=\"405\"/><ellipse cx=\"847.5\" cy=\"423.9688\" fill=\"#ADD1B2\" rx=\"11\" ry=\"11\" style=\"stroke: #A80036; stroke-width: 1.0;\"/><path d=\"M850.4688,429.6094 Q849.8906,429.9063 849.25,430.0547 Q848.6094,430.2031 847.9063,430.2031 Q845.4063,430.2031 844.0859,428.5547 Q842.7656,426.9063 842.7656,423.7813 Q842.7656,420.6563 844.0859,419 Q845.4063,417.3438 847.9063,417.3438 Q848.6094,417.3438 849.2578,417.5 Q849.9063,417.6563 850.4688,417.9531 L850.4688,420.6719 Q849.8438,420.0938 849.25,419.8203 Q848.6563,419.5469 848.0313,419.5469 Q846.6875,419.5469 846,420.6172 Q845.3125,421.6875 845.3125,423.7813 Q845.3125,425.875 846,426.9453 Q846.6875,428.0156 848.0313,428.0156 Q848.6563,428.0156 849.25,427.7422 Q849.8438,427.4688 850.4688,426.8906 L850.4688,429.6094 Z \"/><text fill=\"#000000\" font-family=\"sans-serif\" font-size=\"12\" lengthAdjust=\"spacingAndGlyphs\" textLength=\"80\" x=\"861.5\" y=\"421.1387\">ChicagoStyle</text><text fill=\"#000000\" font-family=\"sans-serif\" font-size=\"12\" lengthAdjust=\"spacingAndGlyphs\" textLength=\"59\" x=\"872\" y=\"435.1074\">ClamPizza</text><line style=\"stroke: #A80036; stroke-width: 1.5;\" x1=\"833.5\" x2=\"943.5\" y1=\"442.9375\" y2=\"442.9375\"/><line style=\"stroke: #A80036; stroke-width: 1.5;\" x1=\"833.5\" x2=\"943.5\" y1=\"450.9375\" y2=\"450.9375\"/><rect fill=\"#FEFECE\" filter=\"url(#f1)\" height=\"53.9375\" style=\"stroke: #A80036; stroke-width: 1.5;\" width=\"112\" x=\"979.5\" y=\"405\"/><ellipse cx=\"994.5\" cy=\"423.9688\" fill=\"#ADD1B2\" rx=\"11\" ry=\"11\" style=\"stroke: #A80036; stroke-width: 1.0;\"/><path d=\"M997.4688,429.6094 Q996.8906,429.9063 996.25,430.0547 Q995.6094,430.2031 994.9063,430.2031 Q992.4063,430.2031 991.0859,428.5547 Q989.7656,426.9063 989.7656,423.7813 Q989.7656,420.6563 991.0859,419 Q992.4063,417.3438 994.9063,417.3438 Q995.6094,417.3438 996.2578,417.5 Q996.9063,417.6563 997.4688,417.9531 L997.4688,420.6719 Q996.8438,420.0938 996.25,419.8203 Q995.6563,419.5469 995.0313,419.5469 Q993.6875,419.5469 993,420.6172 Q992.3125,421.6875 992.3125,423.7813 Q992.3125,425.875 993,426.9453 Q993.6875,428.0156 995.0313,428.0156 Q995.6563,428.0156 996.25,427.7422 Q996.8438,427.4688 997.4688,426.8906 L997.4688,429.6094 Z \"/><text fill=\"#000000\" font-family=\"sans-serif\" font-size=\"12\" lengthAdjust=\"spacingAndGlyphs\" textLength=\"80\" x=\"1008.5\" y=\"421.1387\">ChicagoStyle</text><text fill=\"#000000\" font-family=\"sans-serif\" font-size=\"12\" lengthAdjust=\"spacingAndGlyphs\" textLength=\"72\" x=\"1012.5\" y=\"435.1074\">VeggiePizza</text><line style=\"stroke: #A80036; stroke-width: 1.5;\" x1=\"980.5\" x2=\"1090.5\" y1=\"442.9375\" y2=\"442.9375\"/><line style=\"stroke: #A80036; stroke-width: 1.5;\" x1=\"980.5\" x2=\"1090.5\" y1=\"450.9375\" y2=\"450.9375\"/><polygon fill=\"#FBFB77\" filter=\"url(#f1)\" points=\"6,8,6,154.1953,279,154.1953,279,18,269,8,6,8\" style=\"stroke: #A80036; stroke-width: 1.0;\"/><polygon fill=\"#FBFB77\" points=\"6,8,6,154.1953,279,154.1953,279,85,313.722,81,279,77,279,18,269,8,6,8\" style=\"stroke: #A80036; stroke-width: 1.0;\"/><line style=\"stroke: #A80036; stroke-width: 1.0;\" x1=\"269\" x2=\"269\" y1=\"8\" y2=\"18\"/><line style=\"stroke: #A80036; stroke-width: 1.0;\" x1=\"279\" x2=\"269\" y1=\"18\" y2=\"18\"/><text fill=\"#000000\" font-family=\"sans-serif\" font-size=\"13\" lengthAdjust=\"spacingAndGlyphs\" textLength=\"252\" x=\"12\" y=\"25.0669\">&quot;&quot;&quot;public Pizza orderPizza(String type) {</text><text fill=\"#000000\" font-family=\"sans-serif\" font-size=\"13\" lengthAdjust=\"spacingAndGlyphs\" textLength=\"74\" x=\"28\" y=\"40.1997\">Pizza pizza;</text><text fill=\"#000000\" font-family=\"sans-serif\" font-size=\"13\" lengthAdjust=\"spacingAndGlyphs\" textLength=\"160\" x=\"28\" y=\"55.3325\">pizza=createPizza(type);</text><text fill=\"#000000\" font-family=\"sans-serif\" font-size=\"13\" lengthAdjust=\"spacingAndGlyphs\" textLength=\"101\" x=\"28\" y=\"70.4653\">pizza.prepare();</text><text fill=\"#000000\" font-family=\"sans-serif\" font-size=\"13\" lengthAdjust=\"spacingAndGlyphs\" textLength=\"82\" x=\"28\" y=\"85.5981\">pizza.bake();</text><text fill=\"#000000\" font-family=\"sans-serif\" font-size=\"13\" lengthAdjust=\"spacingAndGlyphs\" textLength=\"71\" x=\"28\" y=\"100.731\">pizza.cut();</text><text fill=\"#000000\" font-family=\"sans-serif\" font-size=\"13\" lengthAdjust=\"spacingAndGlyphs\" textLength=\"74\" x=\"28\" y=\"115.8638\">pizza.box();</text><text fill=\"#000000\" font-family=\"sans-serif\" font-size=\"13\" lengthAdjust=\"spacingAndGlyphs\" textLength=\"80\" x=\"28\" y=\"130.9966\">return pizza;</text><text fill=\"#000000\" font-family=\"sans-serif\" font-size=\"13\" lengthAdjust=\"spacingAndGlyphs\" textLength=\"23\" x=\"12\" y=\"146.1294\">}&quot;&quot;&quot;</text><polygon fill=\"#FBFB77\" filter=\"url(#f1)\" points=\"235.5,214,235.5,345.0625,539.5,345.0625,539.5,224,529.5,214,235.5,214\" style=\"stroke: #A80036; stroke-width: 1.0;\"/><polygon fill=\"#FBFB77\" points=\"235.5,214,235.5,345.0625,539.5,345.0625,539.5,283.5,574.998,279.5,539.5,275.5,539.5,224,529.5,214,235.5,214\" style=\"stroke: #A80036; stroke-width: 1.0;\"/><line style=\"stroke: #A80036; stroke-width: 1.0;\" x1=\"529.5\" x2=\"529.5\" y1=\"214\" y2=\"224\"/><line style=\"stroke: #A80036; stroke-width: 1.0;\" x1=\"539.5\" x2=\"529.5\" y1=\"224\" y2=\"224\"/><text fill=\"#000000\" font-family=\"sans-serif\" font-size=\"13\" lengthAdjust=\"spacingAndGlyphs\" textLength=\"15\" x=\"241.5\" y=\"231.0669\">&quot;&quot;&quot;</text><text fill=\"#000000\" font-family=\"sans-serif\" font-size=\"13\" font-weight=\"bold\" lengthAdjust=\"spacingAndGlyphs\" textLength=\"114\" x=\"256.5\" y=\"231.0669\">factory method</text><text fill=\"#000000\" font-family=\"sans-serif\" font-size=\"13\" lengthAdjust=\"spacingAndGlyphs\" textLength=\"203\" x=\"241.5\" y=\"246.1997\">Pizza createPizza(String type) {</text><text fill=\"#000000\" font-family=\"sans-serif\" font-size=\"13\" lengthAdjust=\"spacingAndGlyphs\" textLength=\"107\" x=\"257.5\" y=\"261.3325\">Pizza pizza=null;</text><text fill=\"#000000\" font-family=\"sans-serif\" font-size=\"13\" lengthAdjust=\"spacingAndGlyphs\" textLength=\"157\" x=\"257.5\" y=\"276.4653\">if(type.equals(&quot;cheese&quot;))</text><text fill=\"#000000\" font-family=\"sans-serif\" font-size=\"13\" lengthAdjust=\"spacingAndGlyphs\" textLength=\"251\" x=\"273.5\" y=\"291.5981\">pizza=new ChicagoStyleCheesePizza();</text><text fill=\"#000000\" font-family=\"sans-serif\" font-size=\"13\" lengthAdjust=\"spacingAndGlyphs\" textLength=\"20\" x=\"257.5\" y=\"306.731\">.....</text><text fill=\"#000000\" font-family=\"sans-serif\" font-size=\"13\" lengthAdjust=\"spacingAndGlyphs\" textLength=\"76\" x=\"257.5\" y=\"321.8638\">return pizza</text><text fill=\"#000000\" font-family=\"sans-serif\" font-size=\"13\" lengthAdjust=\"spacingAndGlyphs\" textLength=\"23\" x=\"241.5\" y=\"336.9966\">}&quot;&quot;&quot;</text><path d=\"M330.419,129.797 C288.415,160.358 238.182,197.291 217.5,214 C201.188,227.179 183.551,242.723 169.699,255.25 \" fill=\"none\" style=\"stroke: #A80036; stroke-width: 1.0;\"/><polygon fill=\"none\" points=\"326.328,124.117,346.623,118.025,334.556,135.443,326.328,124.117\" style=\"stroke: #A80036; stroke-width: 1.0;\"/><path d=\"M458.296,130.378 C509.078,170.134 578.795,224.713 617.865,255.299 \" fill=\"none\" style=\"stroke: #A80036; stroke-width: 1.0;\"/><polygon fill=\"none\" points=\"453.97,135.882,442.537,118.041,462.6,124.858,453.97,135.882\" style=\"stroke: #A80036; stroke-width: 1.0;\"/><path d=\"M872.007,124.088 C856.754,163.013 834.563,219.646 821.723,252.411 \" fill=\"none\" style=\"stroke: #A80036; stroke-width: 1.0;\"/><polygon fill=\"none\" points=\"865.55,121.38,879.365,105.313,878.585,126.488,865.55,121.38\" style=\"stroke: #A80036; stroke-width: 1.0;\"/><path d=\"M904.993,124.088 C920.246,163.013 942.437,219.646 955.277,252.411 \" fill=\"none\" style=\"stroke: #A80036; stroke-width: 1.0;\"/><polygon fill=\"none\" points=\"898.415,126.488,897.635,105.313,911.45,121.38,898.415,126.488\" style=\"stroke: #A80036; stroke-width: 1.0;\"/><path d=\"M768.897,320.377 C758.923,328.926 748.105,337.603 737.5,345 C704.999,367.668 665.928,389.0889 634.894,404.8821 \" fill=\"none\" style=\"stroke: #A80036; stroke-width: 1.0;\"/><polygon fill=\"none\" points=\"764.596,314.835,784.207,306.808,773.882,325.312,764.596,314.835\" style=\"stroke: #A80036; stroke-width: 1.0;\"/><path d=\"M788.847,324.776 C775.536,350.794 759.163,382.7951 747.888,404.8333 \" fill=\"none\" style=\"stroke: #A80036; stroke-width: 1.0;\"/><polygon fill=\"none\" points=\"782.746,321.332,798.088,306.715,795.21,327.708,782.746,321.332\" style=\"stroke: #A80036; stroke-width: 1.0;\"/><path d=\"M834.153,324.776 C847.464,350.794 863.837,382.7951 875.112,404.8333 \" fill=\"none\" style=\"stroke: #A80036; stroke-width: 1.0;\"/><polygon fill=\"none\" points=\"827.79,327.708,824.912,306.715,840.254,321.332,827.79,327.708\" style=\"stroke: #A80036; stroke-width: 1.0;\"/><path d=\"M854.21,320.224 C864.178,328.781 874.967,337.501 885.5,345 C916.922,367.3731 954.593,388.954 984.322,404.901 \" fill=\"none\" style=\"stroke: #A80036; stroke-width: 1.0;\"/><polygon fill=\"none\" points=\"849.23,325.165,838.892,306.668,858.508,314.68,849.23,325.165\" style=\"stroke: #A80036; stroke-width: 1.0;\"/></g></svg>"
      ],
      "text/plain": [
       "<IPython.core.display.SVG object>"
      ]
     },
     "execution_count": 5,
     "metadata": {},
     "output_type": "execute_result"
    }
   ],
   "source": [
    "%%plantuml\n",
    "@startuml\n",
    "PizzaStore <|-- NYPizzaStore\n",
    "PizzaStore <|-- ChicagoPizzaStore\n",
    "Pizza <|-- \"ChicagoStyle\\nPizza\"\n",
    "Pizza <|-- \"NYStyleCheese\\nPizza\"\n",
    "\"ChicagoStyle\\nPizza\" <|-- \"ChicagoStyle\\nCheesePizza\"\n",
    "\"ChicagoStyle\\nPizza\" <|-- \"ChicagoStyle\\nPepperoniPizza\"\n",
    "\"ChicagoStyle\\nPizza\" <|-- \"ChicagoStyle\\nClamPizza\"\n",
    "\"ChicagoStyle\\nPizza\" <|-- \"ChicagoStyle\\nVeggiePizza\"\n",
    "\n",
    "abstract class PizzaStore {\n",
    "  -{abstract}createPizza(String):Pizza\n",
    "  +orderPizza(String):Pizza\n",
    "}\n",
    "note left of PizzaStore\n",
    "\"\"\"public Pizza orderPizza(String type) {\n",
    "    Pizza pizza;\n",
    "    pizza=createPizza(type);\n",
    "    pizza.prepare();\n",
    "    pizza.bake();\n",
    "    pizza.cut();\n",
    "    pizza.box();\n",
    "    return pizza;\n",
    "}\"\"\"\n",
    "end note\n",
    "note left of ChicagoPizzaStore\n",
    "\"\"\"<b>factory method</b>\n",
    "Pizza createPizza(String type) {\n",
    "    Pizza pizza=null;\n",
    "    if(type.equals(\"cheese\"))\n",
    "        pizza=new ChicagoStyleCheesePizza();\n",
    "    .....\n",
    "    return pizza\n",
    "}\"\"\"\n",
    "end note\n",
    "@enduml"
   ]
  },
  {
   "cell_type": "markdown",
   "metadata": {
    "slideshow": {
     "slide_type": "slide"
    }
   },
   "source": [
    "### F.3.3 Abstract Factory\n",
    "\n",
    "* PizzaStore에서 creator(factory)를 생성해서 Pizza에 전달\n",
    "* creator\n",
    "    * abstract factory구조, 구체적인 product를 사용하지 않는다.\n",
    "        * PizzaIngredientFactory <|-- NYPizzaIngredientFactory, ChicagoPizzaIngredientFactory\n",
    "* product\n",
    "    * abstract products\n",
    "    * 상속 또는 interface를 사용해 family of products를 제공,  구체 클래스에 대한 의존을 줄인다.\n",
    "        * Dough <|.. Thick, Thin\n",
    "        * Source <|.. PlumTomato, Marinara\n",
    "        * Cheese <|.. Mozzarella, Reggiano\n",
    "        * Clams <|.. Frozen, Fresh"
   ]
  },
  {
   "cell_type": "markdown",
   "metadata": {
    "slideshow": {
     "slide_type": "slide"
    }
   },
   "source": [
    "* abstract factory와 factory method 비교\n",
    "    * 추상 factory method를 사용한다는 점은 factory method와 동일하다.\n",
    "    * product를 생성할 때, 추상 product를 사용한다는 점이 특징이다.\n",
    "\n",
    "comparison | abstract factory | factory method\n",
    "---|---|---\n",
    "creator | abstract factory | abstract factory method\n",
    "product | abstract products (family) | creator와 product의 대응 구조"
   ]
  },
  {
   "cell_type": "markdown",
   "metadata": {
    "collapsed": false
   },
   "source": [
    "```\n",
    "%%dot digraph G {\n",
    "    rankdir=TB;\n",
    "    a -> b;\n",
    "    b -> c[label=depends];\n",
    "    b -> d;\n",
    "}\n",
    "\n",
    "%%dot digraph G {\n",
    "    rankdir=TB;\n",
    "    a -> b;\n",
    "    b -> c [dir=back][label = \"depends\\nin reverse\"];\n",
    "    b -> d [dir=back];\n",
    "}\n",
    "```"
   ]
  },
  {
   "cell_type": "code",
   "execution_count": 6,
   "metadata": {
    "collapsed": false,
    "slideshow": {
     "slide_type": "subslide"
    }
   },
   "outputs": [
    {
     "data": {
      "image/svg+xml": [
       "<svg height=\"408px\" style=\"width:671px;height:408px;\" version=\"1.1\" viewBox=\"0 0 671 408\" width=\"671px\" xmlns=\"http://www.w3.org/2000/svg\" xmlns:xlink=\"http://www.w3.org/1999/xlink\"><defs><filter height=\"300%\" id=\"f1\" width=\"300%\" x=\"-1\" y=\"-1\"><feGaussianBlur result=\"blurOut\" stdDeviation=\"2.0\"/><feColorMatrix in=\"blurOut\" result=\"blurOut2\" type=\"matrix\" values=\"0 0 0 0 0 0 0 0 0 0 0 0 0 0 0 0 0 0 .4 0\"/><feOffset dx=\"4.0\" dy=\"4.0\" in=\"blurOut2\" result=\"blurOut3\"/><feBlend in=\"SourceGraphic\" in2=\"blurOut3\" mode=\"normal\"/></filter></defs><g><rect fill=\"#FEFECE\" filter=\"url(#f1)\" height=\"48\" style=\"stroke: #A80036; stroke-width: 1.5;\" width=\"171\" x=\"245.5\" y=\"8\"/><ellipse cx=\"260.5\" cy=\"24\" fill=\"#ADD1B2\" rx=\"11\" ry=\"11\" style=\"stroke: #A80036; stroke-width: 1.0;\"/><path d=\"M263.4688,29.6406 Q262.8906,29.9375 262.25,30.0859 Q261.6094,30.2344 260.9063,30.2344 Q258.4063,30.2344 257.0859,28.5859 Q255.7656,26.9375 255.7656,23.8125 Q255.7656,20.6875 257.0859,19.0313 Q258.4063,17.375 260.9063,17.375 Q261.6094,17.375 262.2578,17.5313 Q262.9063,17.6875 263.4688,17.9844 L263.4688,20.7031 Q262.8438,20.125 262.25,19.8516 Q261.6563,19.5781 261.0313,19.5781 Q259.6875,19.5781 259,20.6484 Q258.3125,21.7188 258.3125,23.8125 Q258.3125,25.9063 259,26.9766 Q259.6875,28.0469 261.0313,28.0469 Q261.6563,28.0469 262.25,27.7734 Q262.8438,27.5 263.4688,26.9219 L263.4688,29.6406 Z \"/><text fill=\"#000000\" font-family=\"sans-serif\" font-size=\"12\" lengthAdjust=\"spacingAndGlyphs\" textLength=\"139\" x=\"274.5\" y=\"28.1543\">PizzaIngredientFactory</text><line style=\"stroke: #A80036; stroke-width: 1.5;\" x1=\"246.5\" x2=\"415.5\" y1=\"40\" y2=\"40\"/><line style=\"stroke: #A80036; stroke-width: 1.5;\" x1=\"246.5\" x2=\"415.5\" y1=\"48\" y2=\"48\"/><rect fill=\"#FEFECE\" filter=\"url(#f1)\" height=\"53.9375\" style=\"stroke: #A80036; stroke-width: 1.5;\" width=\"142\" x=\"172\" y=\"116\"/><ellipse cx=\"187\" cy=\"134.9688\" fill=\"#ADD1B2\" rx=\"11\" ry=\"11\" style=\"stroke: #A80036; stroke-width: 1.0;\"/><path d=\"M189.9688,140.6094 Q189.3906,140.9063 188.75,141.0547 Q188.1094,141.2031 187.4063,141.2031 Q184.9063,141.2031 183.5859,139.5547 Q182.2656,137.9063 182.2656,134.7813 Q182.2656,131.6563 183.5859,130 Q184.9063,128.3438 187.4063,128.3438 Q188.1094,128.3438 188.7578,128.5 Q189.4063,128.6563 189.9688,128.9531 L189.9688,131.6719 Q189.3438,131.0938 188.75,130.8203 Q188.1563,130.5469 187.5313,130.5469 Q186.1875,130.5469 185.5,131.6172 Q184.8125,132.6875 184.8125,134.7813 Q184.8125,136.875 185.5,137.9453 Q186.1875,139.0156 187.5313,139.0156 Q188.1563,139.0156 188.75,138.7422 Q189.3438,138.4688 189.9688,137.8906 L189.9688,140.6094 Z \"/><text fill=\"#000000\" font-family=\"sans-serif\" font-size=\"12\" lengthAdjust=\"spacingAndGlyphs\" textLength=\"79\" x=\"216.5\" y=\"132.1387\">ChicagoPizza</text><text fill=\"#000000\" font-family=\"sans-serif\" font-size=\"12\" lengthAdjust=\"spacingAndGlyphs\" textLength=\"110\" x=\"201\" y=\"146.1074\">IngredientFactory</text><line style=\"stroke: #A80036; stroke-width: 1.5;\" x1=\"173\" x2=\"313\" y1=\"153.9375\" y2=\"153.9375\"/><line style=\"stroke: #A80036; stroke-width: 1.5;\" x1=\"173\" x2=\"313\" y1=\"161.9375\" y2=\"161.9375\"/><rect fill=\"#FEFECE\" filter=\"url(#f1)\" height=\"53.9375\" style=\"stroke: #A80036; stroke-width: 1.5;\" width=\"142\" x=\"349\" y=\"116\"/><ellipse cx=\"364\" cy=\"134.9688\" fill=\"#ADD1B2\" rx=\"11\" ry=\"11\" style=\"stroke: #A80036; stroke-width: 1.0;\"/><path d=\"M366.9688,140.6094 Q366.3906,140.9063 365.75,141.0547 Q365.1094,141.2031 364.4063,141.2031 Q361.9063,141.2031 360.5859,139.5547 Q359.2656,137.9063 359.2656,134.7813 Q359.2656,131.6563 360.5859,130 Q361.9063,128.3438 364.4063,128.3438 Q365.1094,128.3438 365.7578,128.5 Q366.4063,128.6563 366.9688,128.9531 L366.9688,131.6719 Q366.3438,131.0938 365.75,130.8203 Q365.1563,130.5469 364.5313,130.5469 Q363.1875,130.5469 362.5,131.6172 Q361.8125,132.6875 361.8125,134.7813 Q361.8125,136.875 362.5,137.9453 Q363.1875,139.0156 364.5313,139.0156 Q365.1563,139.0156 365.75,138.7422 Q366.3438,138.4688 366.9688,137.8906 L366.9688,140.6094 Z \"/><text fill=\"#000000\" font-family=\"sans-serif\" font-size=\"12\" lengthAdjust=\"spacingAndGlyphs\" textLength=\"45\" x=\"410.5\" y=\"132.1387\">NYPizza</text><text fill=\"#000000\" font-family=\"sans-serif\" font-size=\"12\" lengthAdjust=\"spacingAndGlyphs\" textLength=\"110\" x=\"378\" y=\"146.1074\">IngredientFactory</text><line style=\"stroke: #A80036; stroke-width: 1.5;\" x1=\"350\" x2=\"490\" y1=\"153.9375\" y2=\"153.9375\"/><line style=\"stroke: #A80036; stroke-width: 1.5;\" x1=\"350\" x2=\"490\" y1=\"161.9375\" y2=\"161.9375\"/><rect fill=\"#FEFECE\" filter=\"url(#f1)\" height=\"60.8047\" style=\"stroke: #A80036; stroke-width: 1.5;\" width=\"121\" x=\"183.5\" y=\"230\"/><ellipse cx=\"220.1\" cy=\"246\" fill=\"#B4A7E5\" rx=\"11\" ry=\"11\" style=\"stroke: #A80036; stroke-width: 1.0;\"/><path d=\"M216.0219,241.7656 L216.0219,239.6094 L223.4125,239.6094 L223.4125,241.7656 L220.9438,241.7656 L220.9438,249.8438 L223.4125,249.8438 L223.4125,252 L216.0219,252 L216.0219,249.8438 L218.4906,249.8438 L218.4906,241.7656 L216.0219,241.7656 Z \"/><text fill=\"#000000\" font-family=\"sans-serif\" font-size=\"12\" font-style=\"italic\" lengthAdjust=\"spacingAndGlyphs\" textLength=\"41\" x=\"238.9\" y=\"250.1543\">Dough</text><line style=\"stroke: #A80036; stroke-width: 1.5;\" x1=\"184.5\" x2=\"303.5\" y1=\"262\" y2=\"262\"/><line style=\"stroke: #A80036; stroke-width: 1.5;\" x1=\"184.5\" x2=\"303.5\" y1=\"270\" y2=\"270\"/><ellipse cx=\"194.5\" cy=\"281.9023\" fill=\"#84BE84\" rx=\"3\" ry=\"3\" style=\"stroke: #038048; stroke-width: 1.0;\"/><text fill=\"#000000\" font-family=\"sans-serif\" font-size=\"11\" lengthAdjust=\"spacingAndGlyphs\" textLength=\"95\" x=\"203.5\" y=\"284.2104\">String toString();</text><rect fill=\"#FEFECE\" filter=\"url(#f1)\" height=\"60.8047\" style=\"stroke: #A80036; stroke-width: 1.5;\" width=\"117\" x=\"359.5\" y=\"230\"/><ellipse cx=\"392.05\" cy=\"246\" fill=\"#B4A7E5\" rx=\"11\" ry=\"11\" style=\"stroke: #A80036; stroke-width: 1.0;\"/><path d=\"M387.9719,241.7656 L387.9719,239.6094 L395.3625,239.6094 L395.3625,241.7656 L392.8938,241.7656 L392.8938,249.8438 L395.3625,249.8438 L395.3625,252 L387.9719,252 L387.9719,249.8438 L390.4406,249.8438 L390.4406,241.7656 L387.9719,241.7656 Z \"/><text fill=\"#000000\" font-family=\"sans-serif\" font-size=\"12\" font-style=\"italic\" lengthAdjust=\"spacingAndGlyphs\" textLength=\"46\" x=\"409.95\" y=\"250.1543\">Cheese</text><line style=\"stroke: #A80036; stroke-width: 1.5;\" x1=\"360.5\" x2=\"475.5\" y1=\"262\" y2=\"262\"/><line style=\"stroke: #A80036; stroke-width: 1.5;\" x1=\"360.5\" x2=\"475.5\" y1=\"270\" y2=\"270\"/><ellipse cx=\"370.5\" cy=\"281.9023\" fill=\"#84BE84\" rx=\"3\" ry=\"3\" style=\"stroke: #038048; stroke-width: 1.0;\"/><text fill=\"#000000\" font-family=\"sans-serif\" font-size=\"11\" lengthAdjust=\"spacingAndGlyphs\" textLength=\"91\" x=\"379.5\" y=\"284.2104\">toString():String</text><rect fill=\"#FEFECE\" filter=\"url(#f1)\" height=\"48\" style=\"stroke: #A80036; stroke-width: 1.5;\" width=\"142\" x=\"347\" y=\"351\"/><ellipse cx=\"362\" cy=\"367\" fill=\"#ADD1B2\" rx=\"11\" ry=\"11\" style=\"stroke: #A80036; stroke-width: 1.0;\"/><path d=\"M364.9688,372.6406 Q364.3906,372.9375 363.75,373.0859 Q363.1094,373.2344 362.4063,373.2344 Q359.9063,373.2344 358.5859,371.5859 Q357.2656,369.9375 357.2656,366.8125 Q357.2656,363.6875 358.5859,362.0313 Q359.9063,360.375 362.4063,360.375 Q363.1094,360.375 363.7578,360.5313 Q364.4063,360.6875 364.9688,360.9844 L364.9688,363.7031 Q364.3438,363.125 363.75,362.8516 Q363.1563,362.5781 362.5313,362.5781 Q361.1875,362.5781 360.5,363.6484 Q359.8125,364.7188 359.8125,366.8125 Q359.8125,368.9063 360.5,369.9766 Q361.1875,371.0469 362.5313,371.0469 Q363.1563,371.0469 363.75,370.7734 Q364.3438,370.5 364.9688,369.9219 L364.9688,372.6406 Z \"/><text fill=\"#000000\" font-family=\"sans-serif\" font-size=\"12\" lengthAdjust=\"spacingAndGlyphs\" textLength=\"110\" x=\"376\" y=\"371.1543\">MozzarellaCheese</text><line style=\"stroke: #A80036; stroke-width: 1.5;\" x1=\"348\" x2=\"488\" y1=\"383\" y2=\"383\"/><line style=\"stroke: #A80036; stroke-width: 1.5;\" x1=\"348\" x2=\"488\" y1=\"391\" y2=\"391\"/><rect fill=\"#FEFECE\" filter=\"url(#f1)\" height=\"48\" style=\"stroke: #A80036; stroke-width: 1.5;\" width=\"138\" x=\"524\" y=\"351\"/><ellipse cx=\"539\" cy=\"367\" fill=\"#ADD1B2\" rx=\"11\" ry=\"11\" style=\"stroke: #A80036; stroke-width: 1.0;\"/><path d=\"M541.9688,372.6406 Q541.3906,372.9375 540.75,373.0859 Q540.1094,373.2344 539.4063,373.2344 Q536.9063,373.2344 535.5859,371.5859 Q534.2656,369.9375 534.2656,366.8125 Q534.2656,363.6875 535.5859,362.0313 Q536.9063,360.375 539.4063,360.375 Q540.1094,360.375 540.7578,360.5313 Q541.4063,360.6875 541.9688,360.9844 L541.9688,363.7031 Q541.3438,363.125 540.75,362.8516 Q540.1563,362.5781 539.5313,362.5781 Q538.1875,362.5781 537.5,363.6484 Q536.8125,364.7188 536.8125,366.8125 Q536.8125,368.9063 537.5,369.9766 Q538.1875,371.0469 539.5313,371.0469 Q540.1563,371.0469 540.75,370.7734 Q541.3438,370.5 541.9688,369.9219 L541.9688,372.6406 Z \"/><text fill=\"#000000\" font-family=\"sans-serif\" font-size=\"12\" lengthAdjust=\"spacingAndGlyphs\" textLength=\"106\" x=\"553\" y=\"371.1543\">ReggianoCheese</text><line style=\"stroke: #A80036; stroke-width: 1.5;\" x1=\"525\" x2=\"661\" y1=\"383\" y2=\"383\"/><line style=\"stroke: #A80036; stroke-width: 1.5;\" x1=\"525\" x2=\"661\" y1=\"391\" y2=\"391\"/><rect fill=\"#FEFECE\" filter=\"url(#f1)\" height=\"48\" style=\"stroke: #A80036; stroke-width: 1.5;\" width=\"138\" x=\"6\" y=\"351\"/><ellipse cx=\"21\" cy=\"367\" fill=\"#ADD1B2\" rx=\"11\" ry=\"11\" style=\"stroke: #A80036; stroke-width: 1.0;\"/><path d=\"M23.9688,372.6406 Q23.3906,372.9375 22.75,373.0859 Q22.1094,373.2344 21.4063,373.2344 Q18.9063,373.2344 17.5859,371.5859 Q16.2656,369.9375 16.2656,366.8125 Q16.2656,363.6875 17.5859,362.0313 Q18.9063,360.375 21.4063,360.375 Q22.1094,360.375 22.7578,360.5313 Q23.4063,360.6875 23.9688,360.9844 L23.9688,363.7031 Q23.3438,363.125 22.75,362.8516 Q22.1563,362.5781 21.5313,362.5781 Q20.1875,362.5781 19.5,363.6484 Q18.8125,364.7188 18.8125,366.8125 Q18.8125,368.9063 19.5,369.9766 Q20.1875,371.0469 21.5313,371.0469 Q22.1563,371.0469 22.75,370.7734 Q23.3438,370.5 23.9688,369.9219 L23.9688,372.6406 Z \"/><text fill=\"#000000\" font-family=\"sans-serif\" font-size=\"12\" lengthAdjust=\"spacingAndGlyphs\" textLength=\"106\" x=\"35\" y=\"371.1543\">ThickCrustDough</text><line style=\"stroke: #A80036; stroke-width: 1.5;\" x1=\"7\" x2=\"143\" y1=\"383\" y2=\"383\"/><line style=\"stroke: #A80036; stroke-width: 1.5;\" x1=\"7\" x2=\"143\" y1=\"391\" y2=\"391\"/><rect fill=\"#FEFECE\" filter=\"url(#f1)\" height=\"48\" style=\"stroke: #A80036; stroke-width: 1.5;\" width=\"132\" x=\"179\" y=\"351\"/><ellipse cx=\"194\" cy=\"367\" fill=\"#ADD1B2\" rx=\"11\" ry=\"11\" style=\"stroke: #A80036; stroke-width: 1.0;\"/><path d=\"M196.9688,372.6406 Q196.3906,372.9375 195.75,373.0859 Q195.1094,373.2344 194.4063,373.2344 Q191.9063,373.2344 190.5859,371.5859 Q189.2656,369.9375 189.2656,366.8125 Q189.2656,363.6875 190.5859,362.0313 Q191.9063,360.375 194.4063,360.375 Q195.1094,360.375 195.7578,360.5313 Q196.4063,360.6875 196.9688,360.9844 L196.9688,363.7031 Q196.3438,363.125 195.75,362.8516 Q195.1563,362.5781 194.5313,362.5781 Q193.1875,362.5781 192.5,363.6484 Q191.8125,364.7188 191.8125,366.8125 Q191.8125,368.9063 192.5,369.9766 Q193.1875,371.0469 194.5313,371.0469 Q195.1563,371.0469 195.75,370.7734 Q196.3438,370.5 196.9688,369.9219 L196.9688,372.6406 Z \"/><text fill=\"#000000\" font-family=\"sans-serif\" font-size=\"12\" lengthAdjust=\"spacingAndGlyphs\" textLength=\"100\" x=\"208\" y=\"371.1543\">ThinCrustDough</text><line style=\"stroke: #A80036; stroke-width: 1.5;\" x1=\"180\" x2=\"310\" y1=\"383\" y2=\"383\"/><line style=\"stroke: #A80036; stroke-width: 1.5;\" x1=\"180\" x2=\"310\" y1=\"391\" y2=\"391\"/><path d=\"M299.768,71.685 C287.948,86.326 274.781,102.635 264.106,115.857 \" fill=\"none\" style=\"stroke: #A80036; stroke-width: 1.0; stroke-dasharray: 7.0,7.0;\"/><polygon fill=\"none\" points=\"294.327,67.28,312.337,56.116,305.221,76.075,294.327,67.28\" style=\"stroke: #A80036; stroke-width: 1.0;\"/><path d=\"M362.587,71.685 C374.542,86.326 387.858,102.635 398.654,115.857 \" fill=\"none\" style=\"stroke: #A80036; stroke-width: 1.0; stroke-dasharray: 7.0,7.0;\"/><polygon fill=\"none\" points=\"357.102,76.035,349.875,56.116,367.946,67.181,357.102,76.035\" style=\"stroke: #A80036; stroke-width: 1.0;\"/><path d=\"M380.063,170.209 C354.359,187.077 320.763,209.125 293.386,227.091 \" fill=\"none\" style=\"stroke: #A80036; stroke-width: 1.0; stroke-dasharray: 7.0,7.0;\"/><polygon fill=\"#A80036\" points=\"289.048,229.937,298.7671,228.3437,293.2284,227.1939,294.3782,221.6551,289.048,229.937\" style=\"stroke: #A80036; stroke-width: 1.0;\"/><path d=\"M419.546,170.209 C419.268,186.253 418.909,206.983 418.607,224.43 \" fill=\"none\" style=\"stroke: #A80036; stroke-width: 1.0; stroke-dasharray: 7.0,7.0;\"/><polygon fill=\"#A80036\" points=\"418.515,229.73,422.6712,220.8011,418.6021,224.7308,414.6724,220.6617,418.515,229.73\" style=\"stroke: #A80036; stroke-width: 1.0;\"/><path d=\"M243.227,170.209 C243.366,186.253 243.545,206.983 243.696,224.43 \" fill=\"none\" style=\"stroke: #A80036; stroke-width: 1.0; stroke-dasharray: 7.0,7.0;\"/><polygon fill=\"#A80036\" points=\"243.742,229.73,247.6647,220.696,243.6991,224.7302,239.665,220.7646,243.742,229.73\" style=\"stroke: #A80036; stroke-width: 1.0;\"/><path d=\"M282.71,170.209 C308.268,187.077 341.674,209.125 368.895,227.091 \" fill=\"none\" style=\"stroke: #A80036; stroke-width: 1.0; stroke-dasharray: 7.0,7.0;\"/><polygon fill=\"#A80036\" points=\"373.208,229.937,367.9002,221.6408,369.035,227.1826,363.4932,228.3175,373.208,229.937\" style=\"stroke: #A80036; stroke-width: 1.0;\"/><path d=\"M418,311.1067 C418,324.8764 418,339.1847 418,350.6686 \" fill=\"none\" style=\"stroke: #A80036; stroke-width: 1.0; stroke-dasharray: 7.0,7.0;\"/><polygon fill=\"none\" points=\"411,311.0581,418,291.058,425,311.058,411,311.0581\" style=\"stroke: #A80036; stroke-width: 1.0;\"/><path d=\"M481.048,302.0308 C506.571,318.4385 535.112,336.7864 556.989,350.8498 \" fill=\"none\" style=\"stroke: #A80036; stroke-width: 1.0; stroke-dasharray: 7.0,7.0;\"/><polygon fill=\"none\" points=\"477.017,307.7615,463.979,291.058,484.588,295.985,477.017,307.7615\" style=\"stroke: #A80036; stroke-width: 1.0;\"/><path d=\"M182.758,302.2676 C158.201,318.6148 130.802,336.854 109.777,350.8498 \" fill=\"none\" style=\"stroke: #A80036; stroke-width: 1.0; stroke-dasharray: 7.0,7.0;\"/><polygon fill=\"none\" points=\"179.07,296.314,199.597,291.058,186.828,307.9677,179.07,296.314\" style=\"stroke: #A80036; stroke-width: 1.0;\"/><path d=\"M244.441,311.1067 C244.563,324.8764 244.691,339.1847 244.793,350.6686 \" fill=\"none\" style=\"stroke: #A80036; stroke-width: 1.0; stroke-dasharray: 7.0,7.0;\"/><polygon fill=\"none\" points=\"237.441,311.1195,244.263,291.058,251.44,310.995,237.441,311.1195\" style=\"stroke: #A80036; stroke-width: 1.0;\"/></g></svg>"
      ],
      "text/plain": [
       "<IPython.core.display.SVG object>"
      ]
     },
     "execution_count": 6,
     "metadata": {},
     "output_type": "execute_result"
    }
   ],
   "source": [
    "%%plantuml\n",
    "@startuml\n",
    "\n",
    "PizzaIngredientFactory <|.. \"ChicagoPizza\\nIngredientFactory\"\n",
    "PizzaIngredientFactory <|.. \"NYPizza\\nIngredientFactory\"\n",
    "\"NYPizza\\nIngredientFactory\" ..> Dough\n",
    "\"NYPizza\\nIngredientFactory\" ..> Cheese\n",
    "\"ChicagoPizza\\nIngredientFactory\" ..> Dough\n",
    "\"ChicagoPizza\\nIngredientFactory\" ..> Cheese\n",
    "\n",
    "interface Cheese {\n",
    "    +toString():String\n",
    "}\n",
    "interface Dough {\n",
    "    +String toString();\n",
    "}\n",
    "Cheese <|.. MozzarellaCheese\n",
    "Cheese <|.. ReggianoCheese\n",
    "Dough <|.. ThickCrustDough\n",
    "Dough <|.. ThinCrustDough\n",
    "@enduml"
   ]
  },
  {
   "cell_type": "code",
   "execution_count": 7,
   "metadata": {
    "collapsed": false,
    "slideshow": {
     "slide_type": "subslide"
    }
   },
   "outputs": [
    {
     "data": {
      "image/svg+xml": [
       "<svg height=\"816px\" style=\"width:694px;height:816px;\" version=\"1.1\" viewBox=\"0 0 694 816\" width=\"694px\" xmlns=\"http://www.w3.org/2000/svg\" xmlns:xlink=\"http://www.w3.org/1999/xlink\"><defs><filter height=\"300%\" id=\"f1\" width=\"300%\" x=\"-1\" y=\"-1\"><feGaussianBlur result=\"blurOut\" stdDeviation=\"2.0\"/><feColorMatrix in=\"blurOut\" result=\"blurOut2\" type=\"matrix\" values=\"0 0 0 0 0 0 0 0 0 0 0 0 0 0 0 0 0 0 .4 0\"/><feOffset dx=\"4.0\" dy=\"4.0\" in=\"blurOut2\" result=\"blurOut3\"/><feBlend in=\"SourceGraphic\" in2=\"blurOut3\" mode=\"normal\"/></filter></defs><g><rect fill=\"#FEFECE\" filter=\"url(#f1)\" height=\"176.0469\" style=\"stroke: #A80036; stroke-width: 1.5;\" width=\"182\" x=\"475\" y=\"8\"/><ellipse cx=\"546.75\" cy=\"24\" fill=\"#A9DCDF\" rx=\"11\" ry=\"11\" style=\"stroke: #A80036; stroke-width: 1.0;\"/><path d=\"M546.8594,19.3438 L545.7031,24.4219 L548.0313,24.4219 L546.8594,19.3438 Z M545.375,17.1094 L548.3594,17.1094 L551.7188,29.5 L549.2656,29.5 L548.5,26.4375 L545.2188,26.4375 L544.4688,29.5 L542.0313,29.5 L545.375,17.1094 Z \"/><text fill=\"#000000\" font-family=\"sans-serif\" font-size=\"12\" font-style=\"italic\" lengthAdjust=\"spacingAndGlyphs\" textLength=\"30\" x=\"567.25\" y=\"28.1543\">Pizza</text><line style=\"stroke: #A80036; stroke-width: 1.5;\" x1=\"476\" x2=\"656\" y1=\"40\" y2=\"40\"/><text fill=\"#000000\" font-family=\"sans-serif\" font-size=\"11\" lengthAdjust=\"spacingAndGlyphs\" textLength=\"74\" x=\"481\" y=\"54.2104\">String name;</text><text fill=\"#000000\" font-family=\"sans-serif\" font-size=\"11\" lengthAdjust=\"spacingAndGlyphs\" textLength=\"79\" x=\"481\" y=\"67.0151\">Dough dough;</text><text fill=\"#000000\" font-family=\"sans-serif\" font-size=\"11\" lengthAdjust=\"spacingAndGlyphs\" textLength=\"92\" x=\"481\" y=\"79.8198\">Cheese cheese;</text><line style=\"stroke: #A80036; stroke-width: 1.5;\" x1=\"476\" x2=\"656\" y1=\"86.4141\" y2=\"86.4141\"/><text fill=\"#000000\" font-family=\"sans-serif\" font-size=\"11\" lengthAdjust=\"spacingAndGlyphs\" textLength=\"135\" x=\"495\" y=\"100.6245\">abstract void prepare();</text><text fill=\"#000000\" font-family=\"sans-serif\" font-size=\"11\" lengthAdjust=\"spacingAndGlyphs\" textLength=\"62\" x=\"495\" y=\"113.4292\">void bake()</text><text fill=\"#000000\" font-family=\"sans-serif\" font-size=\"11\" lengthAdjust=\"spacingAndGlyphs\" textLength=\"52\" x=\"495\" y=\"126.2339\">void cut()</text><text fill=\"#000000\" font-family=\"sans-serif\" font-size=\"11\" lengthAdjust=\"spacingAndGlyphs\" textLength=\"55\" x=\"495\" y=\"139.0386\">void box()</text><text fill=\"#000000\" font-family=\"sans-serif\" font-size=\"11\" lengthAdjust=\"spacingAndGlyphs\" textLength=\"156\" x=\"495\" y=\"151.8433\">void setName(String name)</text><text fill=\"#000000\" font-family=\"sans-serif\" font-size=\"11\" lengthAdjust=\"spacingAndGlyphs\" textLength=\"97\" x=\"495\" y=\"164.6479\">String getName()</text><ellipse cx=\"486\" cy=\"175.1445\" fill=\"#84BE84\" rx=\"3\" ry=\"3\" style=\"stroke: #038048; stroke-width: 1.0;\"/><text fill=\"#000000\" font-family=\"sans-serif\" font-size=\"11\" lengthAdjust=\"spacingAndGlyphs\" textLength=\"91\" x=\"495\" y=\"177.4526\">String toString()</text><rect fill=\"#FEFECE\" filter=\"url(#f1)\" height=\"86.4141\" style=\"stroke: #A80036; stroke-width: 1.5;\" width=\"239\" x=\"446.5\" y=\"244\"/><ellipse cx=\"523.75\" cy=\"260\" fill=\"#ADD1B2\" rx=\"11\" ry=\"11\" style=\"stroke: #A80036; stroke-width: 1.0;\"/><path d=\"M526.7188,265.6406 Q526.1406,265.9375 525.5,266.0859 Q524.8594,266.2344 524.1563,266.2344 Q521.6563,266.2344 520.3359,264.5859 Q519.0156,262.9375 519.0156,259.8125 Q519.0156,256.6875 520.3359,255.0313 Q521.6563,253.375 524.1563,253.375 Q524.8594,253.375 525.5078,253.5313 Q526.1563,253.6875 526.7188,253.9844 L526.7188,256.7031 Q526.0938,256.125 525.5,255.8516 Q524.9063,255.5781 524.2813,255.5781 Q522.9375,255.5781 522.25,256.6484 Q521.5625,257.7188 521.5625,259.8125 Q521.5625,261.9063 522.25,262.9766 Q522.9375,264.0469 524.2813,264.0469 Q524.9063,264.0469 525.5,263.7734 Q526.0938,263.5 526.7188,262.9219 L526.7188,265.6406 Z \"/><text fill=\"#000000\" font-family=\"sans-serif\" font-size=\"12\" lengthAdjust=\"spacingAndGlyphs\" textLength=\"76\" x=\"544.25\" y=\"264.1543\">CheesePizza</text><line style=\"stroke: #A80036; stroke-width: 1.5;\" x1=\"447.5\" x2=\"684.5\" y1=\"276\" y2=\"276\"/><text fill=\"#000000\" font-family=\"sans-serif\" font-size=\"11\" lengthAdjust=\"spacingAndGlyphs\" textLength=\"227\" x=\"452.5\" y=\"290.2104\">PizzaIngredientFactory ingredientFactory</text><line style=\"stroke: #A80036; stroke-width: 1.5;\" x1=\"447.5\" x2=\"684.5\" y1=\"296.8047\" y2=\"296.8047\"/><ellipse cx=\"457.5\" cy=\"308.707\" fill=\"#84BE84\" rx=\"3\" ry=\"3\" style=\"stroke: #038048; stroke-width: 1.0;\"/><text fill=\"#000000\" font-family=\"sans-serif\" font-size=\"11\" lengthAdjust=\"spacingAndGlyphs\" textLength=\"203\" x=\"466.5\" y=\"311.0151\">CheesePizza(PizzaIngredientFactory)</text><text fill=\"#000000\" font-family=\"sans-serif\" font-size=\"11\" lengthAdjust=\"spacingAndGlyphs\" textLength=\"80\" x=\"466.5\" y=\"323.8198\">void prepare()</text><rect fill=\"#FEFECE\" filter=\"url(#f1)\" height=\"73.6094\" style=\"stroke: #A80036; stroke-width: 1.5;\" width=\"246\" x=\"94\" y=\"59\"/><ellipse cx=\"180.75\" cy=\"75\" fill=\"#A9DCDF\" rx=\"11\" ry=\"11\" style=\"stroke: #A80036; stroke-width: 1.0;\"/><path d=\"M180.8594,70.3438 L179.7031,75.4219 L182.0313,75.4219 L180.8594,70.3438 Z M179.375,68.1094 L182.3594,68.1094 L185.7188,80.5 L183.2656,80.5 L182.5,77.4375 L179.2188,77.4375 L178.4688,80.5 L176.0313,80.5 L179.375,68.1094 Z \"/><text fill=\"#000000\" font-family=\"sans-serif\" font-size=\"12\" font-style=\"italic\" lengthAdjust=\"spacingAndGlyphs\" textLength=\"64\" x=\"201.25\" y=\"79.1543\">PizzaStore</text><line style=\"stroke: #A80036; stroke-width: 1.5;\" x1=\"95\" x2=\"339\" y1=\"91\" y2=\"91\"/><line style=\"stroke: #A80036; stroke-width: 1.5;\" x1=\"95\" x2=\"339\" y1=\"99\" y2=\"99\"/><polygon fill=\"#FFFF44\" points=\"105,105.9023,109,109.9023,105,113.9023,101,109.9023\" style=\"stroke: #B38D22; stroke-width: 1.0;\"/><text fill=\"#000000\" font-family=\"sans-serif\" font-size=\"11\" lengthAdjust=\"spacingAndGlyphs\" textLength=\"220\" x=\"114\" y=\"113.2104\">abstract Pizza createPizza(String item);</text><ellipse cx=\"105\" cy=\"123.707\" fill=\"#84BE84\" rx=\"3\" ry=\"3\" style=\"stroke: #038048; stroke-width: 1.0;\"/><text fill=\"#000000\" font-family=\"sans-serif\" font-size=\"11\" lengthAdjust=\"spacingAndGlyphs\" textLength=\"159\" x=\"114\" y=\"126.0151\">Pizza orderPizza(String type)</text><rect fill=\"#FEFECE\" filter=\"url(#f1)\" height=\"60.8047\" style=\"stroke: #A80036; stroke-width: 1.5;\" width=\"162\" x=\"249\" y=\"256.5\"/><ellipse cx=\"271.65\" cy=\"272.5\" fill=\"#ADD1B2\" rx=\"11\" ry=\"11\" style=\"stroke: #A80036; stroke-width: 1.0;\"/><path d=\"M274.6188,278.1406 Q274.0406,278.4375 273.4,278.5859 Q272.7594,278.7344 272.0563,278.7344 Q269.5563,278.7344 268.2359,277.0859 Q266.9156,275.4375 266.9156,272.3125 Q266.9156,269.1875 268.2359,267.5313 Q269.5563,265.875 272.0563,265.875 Q272.7594,265.875 273.4078,266.0313 Q274.0563,266.1875 274.6188,266.4844 L274.6188,269.2031 Q273.9938,268.625 273.4,268.3516 Q272.8063,268.0781 272.1813,268.0781 Q270.8375,268.0781 270.15,269.1484 Q269.4625,270.2188 269.4625,272.3125 Q269.4625,274.4063 270.15,275.4766 Q270.8375,276.5469 272.1813,276.5469 Q272.8063,276.5469 273.4,276.2734 Q273.9938,276 274.6188,275.4219 L274.6188,278.1406 Z \"/><text fill=\"#000000\" font-family=\"sans-serif\" font-size=\"12\" lengthAdjust=\"spacingAndGlyphs\" textLength=\"113\" x=\"287.35\" y=\"276.6543\">ChicagoPizzaStore</text><line style=\"stroke: #A80036; stroke-width: 1.5;\" x1=\"250\" x2=\"410\" y1=\"288.5\" y2=\"288.5\"/><line style=\"stroke: #A80036; stroke-width: 1.5;\" x1=\"250\" x2=\"410\" y1=\"296.5\" y2=\"296.5\"/><polygon fill=\"#FFFF44\" points=\"260,303.4023,264,307.4023,260,311.4023,256,307.4023\" style=\"stroke: #B38D22; stroke-width: 1.0;\"/><text fill=\"#000000\" font-family=\"sans-serif\" font-size=\"11\" lengthAdjust=\"spacingAndGlyphs\" textLength=\"136\" x=\"269\" y=\"310.7104\">Pizza createPizza(String)</text><rect fill=\"#FEFECE\" filter=\"url(#f1)\" height=\"60.8047\" style=\"stroke: #A80036; stroke-width: 1.5;\" width=\"191\" x=\"22.5\" y=\"256.5\"/><ellipse cx=\"74.25\" cy=\"272.5\" fill=\"#ADD1B2\" rx=\"11\" ry=\"11\" style=\"stroke: #A80036; stroke-width: 1.0;\"/><path d=\"M77.2188,278.1406 Q76.6406,278.4375 76,278.5859 Q75.3594,278.7344 74.6563,278.7344 Q72.1563,278.7344 70.8359,277.0859 Q69.5156,275.4375 69.5156,272.3125 Q69.5156,269.1875 70.8359,267.5313 Q72.1563,265.875 74.6563,265.875 Q75.3594,265.875 76.0078,266.0313 Q76.6563,266.1875 77.2188,266.4844 L77.2188,269.2031 Q76.5938,268.625 76,268.3516 Q75.4063,268.0781 74.7813,268.0781 Q73.4375,268.0781 72.75,269.1484 Q72.0625,270.2188 72.0625,272.3125 Q72.0625,274.4063 72.75,275.4766 Q73.4375,276.5469 74.7813,276.5469 Q75.4063,276.5469 76,276.2734 Q76.5938,276 77.2188,275.4219 L77.2188,278.1406 Z \"/><text fill=\"#000000\" font-family=\"sans-serif\" font-size=\"12\" lengthAdjust=\"spacingAndGlyphs\" textLength=\"79\" x=\"94.75\" y=\"276.6543\">NYPizzaStore</text><line style=\"stroke: #A80036; stroke-width: 1.5;\" x1=\"23.5\" x2=\"212.5\" y1=\"288.5\" y2=\"288.5\"/><line style=\"stroke: #A80036; stroke-width: 1.5;\" x1=\"23.5\" x2=\"212.5\" y1=\"296.5\" y2=\"296.5\"/><polygon fill=\"#FFFF44\" points=\"33.5,303.4023,37.5,307.4023,33.5,311.4023,29.5,307.4023\" style=\"stroke: #B38D22; stroke-width: 1.0;\"/><text fill=\"#000000\" font-family=\"sans-serif\" font-size=\"11\" lengthAdjust=\"spacingAndGlyphs\" textLength=\"165\" x=\"42.5\" y=\"310.7104\">Pizza createPizza(String item)</text><rect fill=\"#FEFECE\" filter=\"url(#f1)\" height=\"73.6094\" style=\"stroke: #A80036; stroke-width: 1.5;\" width=\"174\" x=\"243\" y=\"390\"/><ellipse cx=\"258\" cy=\"406\" fill=\"#B4A7E5\" rx=\"11\" ry=\"11\" style=\"stroke: #A80036; stroke-width: 1.0;\"/><path d=\"M253.9219,401.7656 L253.9219,399.6094 L261.3125,399.6094 L261.3125,401.7656 L258.8438,401.7656 L258.8438,409.8438 L261.3125,409.8438 L261.3125,412 L253.9219,412 L253.9219,409.8438 L256.3906,409.8438 L256.3906,401.7656 L253.9219,401.7656 Z \"/><text fill=\"#000000\" font-family=\"sans-serif\" font-size=\"12\" font-style=\"italic\" lengthAdjust=\"spacingAndGlyphs\" textLength=\"142\" x=\"272\" y=\"410.1543\">PizzaIngredientFactory</text><line style=\"stroke: #A80036; stroke-width: 1.5;\" x1=\"244\" x2=\"416\" y1=\"422\" y2=\"422\"/><line style=\"stroke: #A80036; stroke-width: 1.5;\" x1=\"244\" x2=\"416\" y1=\"430\" y2=\"430\"/><ellipse cx=\"254\" cy=\"441.9023\" fill=\"#84BE84\" rx=\"3\" ry=\"3\" style=\"stroke: #038048; stroke-width: 1.0;\"/><text fill=\"#000000\" font-family=\"sans-serif\" font-size=\"11\" lengthAdjust=\"spacingAndGlyphs\" textLength=\"120\" x=\"263\" y=\"444.2104\">Dough createDough()</text><ellipse cx=\"254\" cy=\"454.707\" fill=\"#84BE84\" rx=\"3\" ry=\"3\" style=\"stroke: #038048; stroke-width: 1.0;\"/><text fill=\"#000000\" font-family=\"sans-serif\" font-size=\"11\" lengthAdjust=\"spacingAndGlyphs\" textLength=\"134\" x=\"263\" y=\"457.0151\">Cheese createCheese()</text><rect fill=\"#FEFECE\" filter=\"url(#f1)\" height=\"53.9375\" style=\"stroke: #A80036; stroke-width: 1.5;\" width=\"142\" x=\"171\" y=\"524\"/><ellipse cx=\"186\" cy=\"542.9688\" fill=\"#ADD1B2\" rx=\"11\" ry=\"11\" style=\"stroke: #A80036; stroke-width: 1.0;\"/><path d=\"M188.9688,548.6094 Q188.3906,548.9063 187.75,549.0547 Q187.1094,549.2031 186.4063,549.2031 Q183.9063,549.2031 182.5859,547.5547 Q181.2656,545.9063 181.2656,542.7813 Q181.2656,539.6563 182.5859,538 Q183.9063,536.3438 186.4063,536.3438 Q187.1094,536.3438 187.7578,536.5 Q188.4063,536.6563 188.9688,536.9531 L188.9688,539.6719 Q188.3438,539.0938 187.75,538.8203 Q187.1563,538.5469 186.5313,538.5469 Q185.1875,538.5469 184.5,539.6172 Q183.8125,540.6875 183.8125,542.7813 Q183.8125,544.875 184.5,545.9453 Q185.1875,547.0156 186.5313,547.0156 Q187.1563,547.0156 187.75,546.7422 Q188.3438,546.4688 188.9688,545.8906 L188.9688,548.6094 Z \"/><text fill=\"#000000\" font-family=\"sans-serif\" font-size=\"12\" lengthAdjust=\"spacingAndGlyphs\" textLength=\"79\" x=\"215.5\" y=\"540.1387\">ChicagoPizza</text><text fill=\"#000000\" font-family=\"sans-serif\" font-size=\"12\" lengthAdjust=\"spacingAndGlyphs\" textLength=\"110\" x=\"200\" y=\"554.1074\">IngredientFactory</text><line style=\"stroke: #A80036; stroke-width: 1.5;\" x1=\"172\" x2=\"312\" y1=\"561.9375\" y2=\"561.9375\"/><line style=\"stroke: #A80036; stroke-width: 1.5;\" x1=\"172\" x2=\"312\" y1=\"569.9375\" y2=\"569.9375\"/><rect fill=\"#FEFECE\" filter=\"url(#f1)\" height=\"53.9375\" style=\"stroke: #A80036; stroke-width: 1.5;\" width=\"142\" x=\"348\" y=\"524\"/><ellipse cx=\"363\" cy=\"542.9688\" fill=\"#ADD1B2\" rx=\"11\" ry=\"11\" style=\"stroke: #A80036; stroke-width: 1.0;\"/><path d=\"M365.9688,548.6094 Q365.3906,548.9063 364.75,549.0547 Q364.1094,549.2031 363.4063,549.2031 Q360.9063,549.2031 359.5859,547.5547 Q358.2656,545.9063 358.2656,542.7813 Q358.2656,539.6563 359.5859,538 Q360.9063,536.3438 363.4063,536.3438 Q364.1094,536.3438 364.7578,536.5 Q365.4063,536.6563 365.9688,536.9531 L365.9688,539.6719 Q365.3438,539.0938 364.75,538.8203 Q364.1563,538.5469 363.5313,538.5469 Q362.1875,538.5469 361.5,539.6172 Q360.8125,540.6875 360.8125,542.7813 Q360.8125,544.875 361.5,545.9453 Q362.1875,547.0156 363.5313,547.0156 Q364.1563,547.0156 364.75,546.7422 Q365.3438,546.4688 365.9688,545.8906 L365.9688,548.6094 Z \"/><text fill=\"#000000\" font-family=\"sans-serif\" font-size=\"12\" lengthAdjust=\"spacingAndGlyphs\" textLength=\"45\" x=\"409.5\" y=\"540.1387\">NYPizza</text><text fill=\"#000000\" font-family=\"sans-serif\" font-size=\"12\" lengthAdjust=\"spacingAndGlyphs\" textLength=\"110\" x=\"377\" y=\"554.1074\">IngredientFactory</text><line style=\"stroke: #A80036; stroke-width: 1.5;\" x1=\"349\" x2=\"489\" y1=\"561.9375\" y2=\"561.9375\"/><line style=\"stroke: #A80036; stroke-width: 1.5;\" x1=\"349\" x2=\"489\" y1=\"569.9375\" y2=\"569.9375\"/><rect fill=\"#FEFECE\" filter=\"url(#f1)\" height=\"60.8047\" style=\"stroke: #A80036; stroke-width: 1.5;\" width=\"121\" x=\"183.5\" y=\"638\"/><ellipse cx=\"220.1\" cy=\"654\" fill=\"#B4A7E5\" rx=\"11\" ry=\"11\" style=\"stroke: #A80036; stroke-width: 1.0;\"/><path d=\"M216.0219,649.7656 L216.0219,647.6094 L223.4125,647.6094 L223.4125,649.7656 L220.9438,649.7656 L220.9438,657.8438 L223.4125,657.8438 L223.4125,660 L216.0219,660 L216.0219,657.8438 L218.4906,657.8438 L218.4906,649.7656 L216.0219,649.7656 Z \"/><text fill=\"#000000\" font-family=\"sans-serif\" font-size=\"12\" font-style=\"italic\" lengthAdjust=\"spacingAndGlyphs\" textLength=\"41\" x=\"238.9\" y=\"658.1543\">Dough</text><line style=\"stroke: #A80036; stroke-width: 1.5;\" x1=\"184.5\" x2=\"303.5\" y1=\"670\" y2=\"670\"/><line style=\"stroke: #A80036; stroke-width: 1.5;\" x1=\"184.5\" x2=\"303.5\" y1=\"678\" y2=\"678\"/><ellipse cx=\"194.5\" cy=\"689.9023\" fill=\"#84BE84\" rx=\"3\" ry=\"3\" style=\"stroke: #038048; stroke-width: 1.0;\"/><text fill=\"#000000\" font-family=\"sans-serif\" font-size=\"11\" lengthAdjust=\"spacingAndGlyphs\" textLength=\"95\" x=\"203.5\" y=\"692.2104\">String toString();</text><rect fill=\"#FEFECE\" filter=\"url(#f1)\" height=\"60.8047\" style=\"stroke: #A80036; stroke-width: 1.5;\" width=\"117\" x=\"359.5\" y=\"638\"/><ellipse cx=\"392.05\" cy=\"654\" fill=\"#B4A7E5\" rx=\"11\" ry=\"11\" style=\"stroke: #A80036; stroke-width: 1.0;\"/><path d=\"M387.9719,649.7656 L387.9719,647.6094 L395.3625,647.6094 L395.3625,649.7656 L392.8938,649.7656 L392.8938,657.8438 L395.3625,657.8438 L395.3625,660 L387.9719,660 L387.9719,657.8438 L390.4406,657.8438 L390.4406,649.7656 L387.9719,649.7656 Z \"/><text fill=\"#000000\" font-family=\"sans-serif\" font-size=\"12\" font-style=\"italic\" lengthAdjust=\"spacingAndGlyphs\" textLength=\"46\" x=\"409.95\" y=\"658.1543\">Cheese</text><line style=\"stroke: #A80036; stroke-width: 1.5;\" x1=\"360.5\" x2=\"475.5\" y1=\"670\" y2=\"670\"/><line style=\"stroke: #A80036; stroke-width: 1.5;\" x1=\"360.5\" x2=\"475.5\" y1=\"678\" y2=\"678\"/><ellipse cx=\"370.5\" cy=\"689.9023\" fill=\"#84BE84\" rx=\"3\" ry=\"3\" style=\"stroke: #038048; stroke-width: 1.0;\"/><text fill=\"#000000\" font-family=\"sans-serif\" font-size=\"11\" lengthAdjust=\"spacingAndGlyphs\" textLength=\"91\" x=\"379.5\" y=\"692.2104\">toString():String</text><rect fill=\"#FEFECE\" filter=\"url(#f1)\" height=\"48\" style=\"stroke: #A80036; stroke-width: 1.5;\" width=\"142\" x=\"346\" y=\"759\"/><ellipse cx=\"361\" cy=\"775\" fill=\"#ADD1B2\" rx=\"11\" ry=\"11\" style=\"stroke: #A80036; stroke-width: 1.0;\"/><path d=\"M363.9688,780.6406 Q363.3906,780.9375 362.75,781.0859 Q362.1094,781.2344 361.4063,781.2344 Q358.9063,781.2344 357.5859,779.5859 Q356.2656,777.9375 356.2656,774.8125 Q356.2656,771.6875 357.5859,770.0313 Q358.9063,768.375 361.4063,768.375 Q362.1094,768.375 362.7578,768.5313 Q363.4063,768.6875 363.9688,768.9844 L363.9688,771.7031 Q363.3438,771.125 362.75,770.8516 Q362.1563,770.5781 361.5313,770.5781 Q360.1875,770.5781 359.5,771.6484 Q358.8125,772.7188 358.8125,774.8125 Q358.8125,776.9063 359.5,777.9766 Q360.1875,779.0469 361.5313,779.0469 Q362.1563,779.0469 362.75,778.7734 Q363.3438,778.5 363.9688,777.9219 L363.9688,780.6406 Z \"/><text fill=\"#000000\" font-family=\"sans-serif\" font-size=\"12\" lengthAdjust=\"spacingAndGlyphs\" textLength=\"110\" x=\"375\" y=\"779.1543\">MozzarellaCheese</text><line style=\"stroke: #A80036; stroke-width: 1.5;\" x1=\"347\" x2=\"487\" y1=\"791\" y2=\"791\"/><line style=\"stroke: #A80036; stroke-width: 1.5;\" x1=\"347\" x2=\"487\" y1=\"799\" y2=\"799\"/><rect fill=\"#FEFECE\" filter=\"url(#f1)\" height=\"48\" style=\"stroke: #A80036; stroke-width: 1.5;\" width=\"138\" x=\"523\" y=\"759\"/><ellipse cx=\"538\" cy=\"775\" fill=\"#ADD1B2\" rx=\"11\" ry=\"11\" style=\"stroke: #A80036; stroke-width: 1.0;\"/><path d=\"M540.9688,780.6406 Q540.3906,780.9375 539.75,781.0859 Q539.1094,781.2344 538.4063,781.2344 Q535.9063,781.2344 534.5859,779.5859 Q533.2656,777.9375 533.2656,774.8125 Q533.2656,771.6875 534.5859,770.0313 Q535.9063,768.375 538.4063,768.375 Q539.1094,768.375 539.7578,768.5313 Q540.4063,768.6875 540.9688,768.9844 L540.9688,771.7031 Q540.3438,771.125 539.75,770.8516 Q539.1563,770.5781 538.5313,770.5781 Q537.1875,770.5781 536.5,771.6484 Q535.8125,772.7188 535.8125,774.8125 Q535.8125,776.9063 536.5,777.9766 Q537.1875,779.0469 538.5313,779.0469 Q539.1563,779.0469 539.75,778.7734 Q540.3438,778.5 540.9688,777.9219 L540.9688,780.6406 Z \"/><text fill=\"#000000\" font-family=\"sans-serif\" font-size=\"12\" lengthAdjust=\"spacingAndGlyphs\" textLength=\"106\" x=\"552\" y=\"779.1543\">ReggianoCheese</text><line style=\"stroke: #A80036; stroke-width: 1.5;\" x1=\"524\" x2=\"660\" y1=\"791\" y2=\"791\"/><line style=\"stroke: #A80036; stroke-width: 1.5;\" x1=\"524\" x2=\"660\" y1=\"799\" y2=\"799\"/><rect fill=\"#FEFECE\" filter=\"url(#f1)\" height=\"48\" style=\"stroke: #A80036; stroke-width: 1.5;\" width=\"138\" x=\"6\" y=\"759\"/><ellipse cx=\"21\" cy=\"775\" fill=\"#ADD1B2\" rx=\"11\" ry=\"11\" style=\"stroke: #A80036; stroke-width: 1.0;\"/><path d=\"M23.9688,780.6406 Q23.3906,780.9375 22.75,781.0859 Q22.1094,781.2344 21.4063,781.2344 Q18.9063,781.2344 17.5859,779.5859 Q16.2656,777.9375 16.2656,774.8125 Q16.2656,771.6875 17.5859,770.0313 Q18.9063,768.375 21.4063,768.375 Q22.1094,768.375 22.7578,768.5313 Q23.4063,768.6875 23.9688,768.9844 L23.9688,771.7031 Q23.3438,771.125 22.75,770.8516 Q22.1563,770.5781 21.5313,770.5781 Q20.1875,770.5781 19.5,771.6484 Q18.8125,772.7188 18.8125,774.8125 Q18.8125,776.9063 19.5,777.9766 Q20.1875,779.0469 21.5313,779.0469 Q22.1563,779.0469 22.75,778.7734 Q23.3438,778.5 23.9688,777.9219 L23.9688,780.6406 Z \"/><text fill=\"#000000\" font-family=\"sans-serif\" font-size=\"12\" lengthAdjust=\"spacingAndGlyphs\" textLength=\"106\" x=\"35\" y=\"779.1543\">ThickCrustDough</text><line style=\"stroke: #A80036; stroke-width: 1.5;\" x1=\"7\" x2=\"143\" y1=\"791\" y2=\"791\"/><line style=\"stroke: #A80036; stroke-width: 1.5;\" x1=\"7\" x2=\"143\" y1=\"799\" y2=\"799\"/><rect fill=\"#FEFECE\" filter=\"url(#f1)\" height=\"48\" style=\"stroke: #A80036; stroke-width: 1.5;\" width=\"132\" x=\"179\" y=\"759\"/><ellipse cx=\"194\" cy=\"775\" fill=\"#ADD1B2\" rx=\"11\" ry=\"11\" style=\"stroke: #A80036; stroke-width: 1.0;\"/><path d=\"M196.9688,780.6406 Q196.3906,780.9375 195.75,781.0859 Q195.1094,781.2344 194.4063,781.2344 Q191.9063,781.2344 190.5859,779.5859 Q189.2656,777.9375 189.2656,774.8125 Q189.2656,771.6875 190.5859,770.0313 Q191.9063,768.375 194.4063,768.375 Q195.1094,768.375 195.7578,768.5313 Q196.4063,768.6875 196.9688,768.9844 L196.9688,771.7031 Q196.3438,771.125 195.75,770.8516 Q195.1563,770.5781 194.5313,770.5781 Q193.1875,770.5781 192.5,771.6484 Q191.8125,772.7188 191.8125,774.8125 Q191.8125,776.9063 192.5,777.9766 Q193.1875,779.0469 194.5313,779.0469 Q195.1563,779.0469 195.75,778.7734 Q196.3438,778.5 196.9688,777.9219 L196.9688,780.6406 Z \"/><text fill=\"#000000\" font-family=\"sans-serif\" font-size=\"12\" lengthAdjust=\"spacingAndGlyphs\" textLength=\"100\" x=\"208\" y=\"779.1543\">ThinCrustDough</text><line style=\"stroke: #A80036; stroke-width: 1.5;\" x1=\"180\" x2=\"310\" y1=\"791\" y2=\"791\"/><line style=\"stroke: #A80036; stroke-width: 1.5;\" x1=\"180\" x2=\"310\" y1=\"799\" y2=\"799\"/><path d=\"M566,204.454 C566,218.305 566,231.778 566,243.652 \" fill=\"none\" style=\"stroke: #A80036; stroke-width: 1.0;\"/><polygon fill=\"none\" points=\"559,204.032,566,184.032,573,204.032,559,204.032\" style=\"stroke: #A80036; stroke-width: 1.0;\"/><path d=\"M249.252,150.943 C269.758,185.241 295.523,228.335 312.359,256.495 \" fill=\"none\" style=\"stroke: #A80036; stroke-width: 1.0;\"/><polygon fill=\"none\" points=\"243.043,154.199,238.788,133.441,255.059,147.015,243.043,154.199\" style=\"stroke: #A80036; stroke-width: 1.0;\"/><path d=\"M188.495,151.418 C170.571,185.638 148.137,228.465 133.455,256.495 \" fill=\"none\" style=\"stroke: #A80036; stroke-width: 1.0;\"/><polygon fill=\"none\" points=\"182.431,147.91,197.912,133.441,194.832,154.406,182.431,147.91\" style=\"stroke: #A80036; stroke-width: 1.0;\"/><path d=\"M163.479,317.604 C194.568,337.842 236.102,364.878 269.912,386.886 \" fill=\"none\" style=\"stroke: #A80036; stroke-width: 1.0; stroke-dasharray: 7.0,7.0;\"/><polygon fill=\"#A80036\" points=\"274.417,389.819,269.0567,381.5566,270.2267,387.0911,264.6921,388.2611,274.417,389.819\" style=\"stroke: #A80036; stroke-width: 1.0;\"/><path d=\"M330,317.604 C330,337.181 330,363.119 330,384.714 \" fill=\"none\" style=\"stroke: #A80036; stroke-width: 1.0; stroke-dasharray: 7.0,7.0;\"/><polygon fill=\"#A80036\" points=\"330,389.819,334,380.819,330,384.819,326,380.819,330,389.819\" style=\"stroke: #A80036; stroke-width: 1.0;\"/><path d=\"M159.712,256.408 C184.23,240.348 216.597,222.317 248.5,214 C318.172,195.838 340.227,198.326 410.5,214 C436.288,219.752 462.85,230.266 486.563,241.556 \" fill=\"none\" style=\"stroke: #A80036; stroke-width: 1.0; stroke-dasharray: 7.0,7.0;\"/><polygon fill=\"#A80036\" points=\"491.266,243.823,484.8959,236.3116,486.762,241.6517,481.4219,243.5179,491.266,243.823\" style=\"stroke: #A80036; stroke-width: 1.0;\"/><path d=\"M493.91,330.154 C462.773,348.362 426.583,369.523 396.142,387.324 \" fill=\"none\" style=\"stroke: #A80036; stroke-width: 1.0;\"/><polygon fill=\"#A80036\" points=\"391.693,389.925,401.4812,388.8338,396.0089,387.4006,397.4422,381.9283,391.693,389.925\" style=\"stroke: #A80036; stroke-width: 1.0;\"/><path d=\"M292.041,480.625 C281.286,495.536 270.04,511.127 260.939,523.744 \" fill=\"none\" style=\"stroke: #A80036; stroke-width: 1.0; stroke-dasharray: 7.0,7.0;\"/><polygon fill=\"none\" points=\"286.458,476.399,303.835,464.274,297.812,484.589,286.458,476.399\" style=\"stroke: #A80036; stroke-width: 1.0;\"/><path d=\"M368.39,480.625 C379.268,495.536 390.642,511.127 399.846,523.744 \" fill=\"none\" style=\"stroke: #A80036; stroke-width: 1.0; stroke-dasharray: 7.0,7.0;\"/><polygon fill=\"none\" points=\"362.594,484.557,356.462,464.274,373.904,476.306,362.594,484.557\" style=\"stroke: #A80036; stroke-width: 1.0;\"/><path d=\"M379.29,578.209 C353.732,595.077 320.326,617.125 293.105,635.091 \" fill=\"none\" style=\"stroke: #A80036; stroke-width: 1.0; stroke-dasharray: 7.0,7.0;\"/><polygon fill=\"#A80036\" points=\"288.792,637.937,298.5068,636.3175,292.965,635.1826,294.0998,629.6408,288.792,637.937\" style=\"stroke: #A80036; stroke-width: 1.0;\"/><path d=\"M418.773,578.209 C418.634,594.253 418.455,614.983 418.304,632.43 \" fill=\"none\" style=\"stroke: #A80036; stroke-width: 1.0; stroke-dasharray: 7.0,7.0;\"/><polygon fill=\"#A80036\" points=\"418.258,637.73,422.335,628.7646,418.3009,632.7302,414.3353,628.696,418.258,637.73\" style=\"stroke: #A80036; stroke-width: 1.0;\"/><path d=\"M242.454,578.209 C242.732,594.253 243.091,614.983 243.393,632.43 \" fill=\"none\" style=\"stroke: #A80036; stroke-width: 1.0; stroke-dasharray: 7.0,7.0;\"/><polygon fill=\"#A80036\" points=\"243.485,637.73,247.3276,628.6617,243.3979,632.7308,239.3288,628.8011,243.485,637.73\" style=\"stroke: #A80036; stroke-width: 1.0;\"/><path d=\"M281.937,578.209 C307.641,595.077 341.237,617.125 368.614,635.091 \" fill=\"none\" style=\"stroke: #A80036; stroke-width: 1.0; stroke-dasharray: 7.0,7.0;\"/><polygon fill=\"#A80036\" points=\"372.952,637.937,367.6218,629.6551,368.7716,635.1939,363.2329,636.3437,372.952,637.937\" style=\"stroke: #A80036; stroke-width: 1.0;\"/><path d=\"M417.559,719.1067 C417.437,732.8764 417.309,747.1847 417.207,758.6686 \" fill=\"none\" style=\"stroke: #A80036; stroke-width: 1.0; stroke-dasharray: 7.0,7.0;\"/><polygon fill=\"none\" points=\"410.56,718.995,417.737,699.058,424.559,719.1195,410.56,718.995\" style=\"stroke: #A80036; stroke-width: 1.0;\"/><path d=\"M480.688,710.0308 C506.065,726.4385 534.443,744.7864 556.194,758.8498 \" fill=\"none\" style=\"stroke: #A80036; stroke-width: 1.0; stroke-dasharray: 7.0,7.0;\"/><polygon fill=\"none\" points=\"476.711,715.7955,463.716,699.058,484.312,704.039,476.711,715.7955\" style=\"stroke: #A80036; stroke-width: 1.0;\"/><path d=\"M182.758,710.2676 C158.201,726.6148 130.802,744.854 109.777,758.8498 \" fill=\"none\" style=\"stroke: #A80036; stroke-width: 1.0; stroke-dasharray: 7.0,7.0;\"/><polygon fill=\"none\" points=\"179.07,704.314,199.597,699.058,186.828,715.9677,179.07,704.314\" style=\"stroke: #A80036; stroke-width: 1.0;\"/><path d=\"M244.441,719.1067 C244.563,732.8764 244.691,747.1847 244.793,758.6686 \" fill=\"none\" style=\"stroke: #A80036; stroke-width: 1.0; stroke-dasharray: 7.0,7.0;\"/><polygon fill=\"none\" points=\"237.441,719.1195,244.263,699.058,251.44,718.995,237.441,719.1195\" style=\"stroke: #A80036; stroke-width: 1.0;\"/></g></svg>"
      ],
      "text/plain": [
       "<IPython.core.display.SVG object>"
      ]
     },
     "execution_count": 7,
     "metadata": {},
     "output_type": "execute_result"
    }
   ],
   "source": [
    "%%plantuml\n",
    "@startuml\n",
    "\n",
    "abstract class Pizza {\n",
    "    String name; \n",
    "    Dough dough;\n",
    "    Cheese cheese;\n",
    "\n",
    "    abstract void prepare();\n",
    "    void bake()\n",
    "    void cut()\n",
    "    void box()\n",
    "    void setName(String name)\n",
    "    String getName()\n",
    "    +String toString()\n",
    "}\n",
    "\n",
    "class CheesePizza {\n",
    "    PizzaIngredientFactory ingredientFactory\n",
    "    +CheesePizza(PizzaIngredientFactory)\n",
    "    void prepare()\n",
    "}\n",
    "\n",
    "Pizza <|-- CheesePizza\n",
    "\n",
    "abstract class PizzaStore {\n",
    "    #abstract Pizza createPizza(String item);\n",
    "    +Pizza orderPizza(String type)\n",
    "}   \n",
    "class ChicagoPizzaStore {\n",
    "    #Pizza createPizza(String)\n",
    "}\n",
    "class NYPizzaStore {\n",
    "    #Pizza createPizza(String item)\n",
    "}\n",
    "\n",
    "PizzaStore <|-- ChicagoPizzaStore\n",
    "PizzaStore <|-- NYPizzaStore\n",
    "NYPizzaStore ..> PizzaIngredientFactory\n",
    "ChicagoPizzaStore ..> PizzaIngredientFactory\n",
    "NYPizzaStore .right.> CheesePizza\n",
    "CheesePizza --> PizzaIngredientFactory \n",
    "\n",
    "interface PizzaIngredientFactory {\n",
    "    +Dough createDough()\n",
    "    +Cheese createCheese()\n",
    "}\n",
    "PizzaIngredientFactory <|.. \"ChicagoPizza\\nIngredientFactory\"\n",
    "PizzaIngredientFactory <|.. \"NYPizza\\nIngredientFactory\"\n",
    "\"NYPizza\\nIngredientFactory\" ..> Dough\n",
    "\"NYPizza\\nIngredientFactory\" ..> Cheese\n",
    "\"ChicagoPizza\\nIngredientFactory\" ..> Dough\n",
    "\"ChicagoPizza\\nIngredientFactory\" ..> Cheese\n",
    "\n",
    "interface Cheese {\n",
    "    +toString():String\n",
    "}\n",
    "interface Dough {\n",
    "    +String toString();\n",
    "}\n",
    "Cheese <|.. MozzarellaCheese\n",
    "Cheese <|.. ReggianoCheese\n",
    "Dough <|.. ThickCrustDough\n",
    "Dough <|.. ThinCrustDough\n",
    "@enduml"
   ]
  },
  {
   "cell_type": "markdown",
   "metadata": {
    "slideshow": {
     "slide_type": "slide"
    }
   },
   "source": [
    "## F.4 사례\n",
    "\n",
    "### F.4.1 Pizza\n",
    "* 교재 HFDP Ch4 'Pizza'"
   ]
  },
  {
   "cell_type": "markdown",
   "metadata": {
    "slideshow": {
     "slide_type": "slide"
    }
   },
   "source": [
    "#### F.4.1.1 simple factory"
   ]
  },
  {
   "cell_type": "code",
   "execution_count": 20,
   "metadata": {
    "collapsed": false,
    "slideshow": {
     "slide_type": "subslide"
    }
   },
   "outputs": [
    {
     "data": {
      "image/svg+xml": [
       "<svg height=\"377px\" style=\"width:424px;height:377px;\" version=\"1.1\" viewBox=\"0 0 424 377\" width=\"424px\" xmlns=\"http://www.w3.org/2000/svg\" xmlns:xlink=\"http://www.w3.org/1999/xlink\"><defs><filter height=\"300%\" id=\"f1\" width=\"300%\" x=\"-1\" y=\"-1\"><feGaussianBlur result=\"blurOut\" stdDeviation=\"2.0\"/><feColorMatrix in=\"blurOut\" result=\"blurOut2\" type=\"matrix\" values=\"0 0 0 0 0 0 0 0 0 0 0 0 0 0 0 0 0 0 .4 0\"/><feOffset dx=\"4.0\" dy=\"4.0\" in=\"blurOut2\" result=\"blurOut3\"/><feBlend in=\"SourceGraphic\" in2=\"blurOut3\" mode=\"normal\"/></filter></defs><g><rect fill=\"#FFFFFF\" filter=\"url(#f1)\" height=\"208.1289\" style=\"stroke: #000000; stroke-width: 2.0;\" width=\"402\" x=\"13\" y=\"114.1094\"/><rect fill=\"#FFFFFF\" height=\"102.8867\" style=\"stroke: none; stroke-width: 1.0;\" width=\"402\" x=\"13\" y=\"219.3516\"/><line style=\"stroke: #A80036; stroke-width: 1.0; stroke-dasharray: 5.0,5.0;\" x1=\"52\" x2=\"52\" y1=\"38.4883\" y2=\"339.2383\"/><line style=\"stroke: #A80036; stroke-width: 1.0; stroke-dasharray: 5.0,5.0;\" x1=\"166\" x2=\"166\" y1=\"38.4883\" y2=\"339.2383\"/><line style=\"stroke: #A80036; stroke-width: 1.0; stroke-dasharray: 5.0,5.0;\" x1=\"296\" x2=\"296\" y1=\"38.4883\" y2=\"339.2383\"/><line style=\"stroke: #A80036; stroke-width: 1.0; stroke-dasharray: 5.0,5.0;\" x1=\"378\" x2=\"378\" y1=\"38.4883\" y2=\"339.2383\"/><rect fill=\"#FEFECE\" filter=\"url(#f1)\" height=\"30.4883\" style=\"stroke: #A80036; stroke-width: 1.5;\" width=\"54\" x=\"23\" y=\"3\"/><text fill=\"#000000\" font-family=\"sans-serif\" font-size=\"14\" lengthAdjust=\"spacingAndGlyphs\" textLength=\"40\" x=\"30\" y=\"23.5352\">Client</text><rect fill=\"#FEFECE\" filter=\"url(#f1)\" height=\"30.4883\" style=\"stroke: #A80036; stroke-width: 1.5;\" width=\"54\" x=\"23\" y=\"338.2383\"/><text fill=\"#000000\" font-family=\"sans-serif\" font-size=\"14\" lengthAdjust=\"spacingAndGlyphs\" textLength=\"40\" x=\"30\" y=\"358.7734\">Client</text><rect fill=\"#FEFECE\" filter=\"url(#f1)\" height=\"30.4883\" style=\"stroke: #A80036; stroke-width: 1.5;\" width=\"146\" x=\"91\" y=\"3\"/><text fill=\"#000000\" font-family=\"sans-serif\" font-size=\"14\" lengthAdjust=\"spacingAndGlyphs\" textLength=\"132\" x=\"98\" y=\"23.5352\">SimplePizzaFactory</text><rect fill=\"#FEFECE\" filter=\"url(#f1)\" height=\"30.4883\" style=\"stroke: #A80036; stroke-width: 1.5;\" width=\"146\" x=\"91\" y=\"338.2383\"/><text fill=\"#000000\" font-family=\"sans-serif\" font-size=\"14\" lengthAdjust=\"spacingAndGlyphs\" textLength=\"132\" x=\"98\" y=\"358.7734\">SimplePizzaFactory</text><rect fill=\"#FEFECE\" filter=\"url(#f1)\" height=\"30.4883\" style=\"stroke: #A80036; stroke-width: 1.5;\" width=\"86\" x=\"251\" y=\"3\"/><text fill=\"#000000\" font-family=\"sans-serif\" font-size=\"14\" lengthAdjust=\"spacingAndGlyphs\" textLength=\"72\" x=\"258\" y=\"23.5352\">PizzaStore</text><rect fill=\"#FEFECE\" filter=\"url(#f1)\" height=\"30.4883\" style=\"stroke: #A80036; stroke-width: 1.5;\" width=\"86\" x=\"251\" y=\"338.2383\"/><text fill=\"#000000\" font-family=\"sans-serif\" font-size=\"14\" lengthAdjust=\"spacingAndGlyphs\" textLength=\"72\" x=\"258\" y=\"358.7734\">PizzaStore</text><rect fill=\"#FEFECE\" filter=\"url(#f1)\" height=\"30.4883\" style=\"stroke: #A80036; stroke-width: 1.5;\" width=\"50\" x=\"351\" y=\"3\"/><text fill=\"#000000\" font-family=\"sans-serif\" font-size=\"14\" lengthAdjust=\"spacingAndGlyphs\" textLength=\"36\" x=\"358\" y=\"23.5352\">Pizza</text><rect fill=\"#FEFECE\" filter=\"url(#f1)\" height=\"30.4883\" style=\"stroke: #A80036; stroke-width: 1.5;\" width=\"50\" x=\"351\" y=\"338.2383\"/><text fill=\"#000000\" font-family=\"sans-serif\" font-size=\"14\" lengthAdjust=\"spacingAndGlyphs\" textLength=\"36\" x=\"358\" y=\"358.7734\">Pizza</text><polygon fill=\"#A80036\" points=\"154,65.4883,164,69.4883,154,73.4883,158,69.4883\" style=\"stroke: #A80036; stroke-width: 1.0;\"/><line style=\"stroke: #A80036; stroke-width: 1.0;\" x1=\"52\" x2=\"160\" y1=\"69.4883\" y2=\"69.4883\"/><text fill=\"#000000\" font-family=\"sans-serif\" font-size=\"13\" lengthAdjust=\"spacingAndGlyphs\" textLength=\"87\" x=\"59\" y=\"65.0566\">factory=new()</text><polygon fill=\"#A80036\" points=\"284,94.7988,294,98.7988,284,102.7988,288,98.7988\" style=\"stroke: #A80036; stroke-width: 1.0;\"/><line style=\"stroke: #A80036; stroke-width: 1.0;\" x1=\"52\" x2=\"290\" y1=\"98.7988\" y2=\"98.7988\"/><text fill=\"#000000\" font-family=\"sans-serif\" font-size=\"13\" lengthAdjust=\"spacingAndGlyphs\" textLength=\"119\" x=\"59\" y=\"94.3672\">store=new(factory)</text><rect fill=\"none\" height=\"208.1289\" style=\"stroke: #000000; stroke-width: 2.0;\" width=\"402\" x=\"13\" y=\"114.1094\"/><polygon fill=\"#EEEEEE\" points=\"13,114.1094,75,114.1094,75,121.1094,65,131.1094,13,131.1094,13,114.1094\" style=\"stroke: #000000; stroke-width: 2.0;\"/><text fill=\"#000000\" font-family=\"sans-serif\" font-size=\"13\" font-weight=\"bold\" lengthAdjust=\"spacingAndGlyphs\" textLength=\"17\" x=\"28\" y=\"127.6777\">alt</text><text fill=\"#000000\" font-family=\"sans-serif\" font-size=\"11\" font-weight=\"bold\" lengthAdjust=\"spacingAndGlyphs\" textLength=\"45\" x=\"90\" y=\"126.7441\">[cheese]</text><polygon fill=\"#A80036\" points=\"284,148.4199,294,152.4199,284,156.4199,288,152.4199\" style=\"stroke: #A80036; stroke-width: 1.0;\"/><line style=\"stroke: #A80036; stroke-width: 1.0;\" x1=\"52\" x2=\"290\" y1=\"152.4199\" y2=\"152.4199\"/><text fill=\"#000000\" font-family=\"sans-serif\" font-size=\"13\" lengthAdjust=\"spacingAndGlyphs\" textLength=\"122\" x=\"59\" y=\"147.9883\">orderPizza('cheese')</text><polygon fill=\"#A80036\" points=\"366,177.7305,376,181.7305,366,185.7305,370,181.7305\" style=\"stroke: #A80036; stroke-width: 1.0;\"/><line style=\"stroke: #A80036; stroke-width: 1.0;\" x1=\"296\" x2=\"372\" y1=\"181.7305\" y2=\"181.7305\"/><text fill=\"#000000\" font-family=\"sans-serif\" font-size=\"13\" lengthAdjust=\"spacingAndGlyphs\" textLength=\"33\" x=\"303\" y=\"177.2988\">new()</text><polygon fill=\"#A80036\" points=\"366,207.041,376,211.041,366,215.041,370,211.041\" style=\"stroke: #A80036; stroke-width: 1.0;\"/><line style=\"stroke: #A80036; stroke-width: 1.0;\" x1=\"52\" x2=\"372\" y1=\"211.041\" y2=\"211.041\"/><text fill=\"#000000\" font-family=\"sans-serif\" font-size=\"13\" lengthAdjust=\"spacingAndGlyphs\" textLength=\"64\" x=\"59\" y=\"206.6094\">getName()</text><line style=\"stroke: #000000; stroke-width: 1.0; stroke-dasharray: 2.0,2.0;\" x1=\"13\" x2=\"415\" y1=\"220.3516\" y2=\"220.3516\"/><text fill=\"#000000\" font-family=\"sans-serif\" font-size=\"11\" font-weight=\"bold\" lengthAdjust=\"spacingAndGlyphs\" textLength=\"45\" x=\"18\" y=\"230.9863\">[veggie]</text><polygon fill=\"#A80036\" points=\"284,251.3066,294,255.3066,284,259.3066,288,255.3066\" style=\"stroke: #A80036; stroke-width: 1.0;\"/><line style=\"stroke: #A80036; stroke-width: 1.0;\" x1=\"52\" x2=\"290\" y1=\"255.3066\" y2=\"255.3066\"/><text fill=\"#000000\" font-family=\"sans-serif\" font-size=\"13\" lengthAdjust=\"spacingAndGlyphs\" textLength=\"120\" x=\"59\" y=\"250.875\">orderPizza('veggie')</text><polygon fill=\"#A80036\" points=\"366,280.6172,376,284.6172,366,288.6172,370,284.6172\" style=\"stroke: #A80036; stroke-width: 1.0;\"/><line style=\"stroke: #A80036; stroke-width: 1.0;\" x1=\"296\" x2=\"372\" y1=\"284.6172\" y2=\"284.6172\"/><text fill=\"#000000\" font-family=\"sans-serif\" font-size=\"13\" lengthAdjust=\"spacingAndGlyphs\" textLength=\"33\" x=\"303\" y=\"280.1855\">new()</text><polygon fill=\"#A80036\" points=\"366,309.9277,376,313.9277,366,317.9277,370,313.9277\" style=\"stroke: #A80036; stroke-width: 1.0;\"/><line style=\"stroke: #A80036; stroke-width: 1.0;\" x1=\"52\" x2=\"372\" y1=\"313.9277\" y2=\"313.9277\"/><text fill=\"#000000\" font-family=\"sans-serif\" font-size=\"13\" lengthAdjust=\"spacingAndGlyphs\" textLength=\"64\" x=\"59\" y=\"309.4961\">getName()</text></g></svg>"
      ],
      "text/plain": [
       "<IPython.core.display.SVG object>"
      ]
     },
     "execution_count": 20,
     "metadata": {},
     "output_type": "execute_result"
    }
   ],
   "source": [
    "%%plantuml\n",
    "@startuml\n",
    "Client -> SimplePizzaFactory:factory=new()\n",
    "Client -> PizzaStore:store=new(factory)\n",
    "alt cheese\n",
    "    Client -> PizzaStore:orderPizza('cheese')\n",
    "    PizzaStore -> Pizza:new()\n",
    "    Client -> Pizza:getName()\n",
    "else veggie\n",
    "    Client -> PizzaStore:orderPizza('veggie')\n",
    "    PizzaStore -> Pizza:new()\n",
    "    Client -> Pizza:getName()\n",
    "end\n",
    "@enduml"
   ]
  },
  {
   "cell_type": "code",
   "execution_count": null,
   "metadata": {
    "collapsed": true,
    "slideshow": {
     "slide_type": "slide"
    }
   },
   "outputs": [],
   "source": [
    "# %load ./src/headfirst/factory/pizzas/PizzaTestDrive.java\n",
    "package headfirst.factory.pizzas;\n",
    "\n",
    "public class PizzaTestDrive {\n",
    " \n",
    "\tpublic static void main(String[] args) {\n",
    "\t\tSimplePizzaFactory factory = new SimplePizzaFactory();\n",
    "\t\tPizzaStore store = new PizzaStore(factory);\n",
    "\n",
    "\t\tPizza pizza = store.orderPizza(\"cheese\");\n",
    "\t\tSystem.out.println(\"We ordered a \" + pizza.getName() + \"\\n\");\n",
    " \n",
    "\t\tpizza = store.orderPizza(\"veggie\");\n",
    "\t\tSystem.out.println(\"We ordered a \" + pizza.getName() + \"\\n\");\n",
    "\t}\n",
    "}\n"
   ]
  },
  {
   "cell_type": "code",
   "execution_count": null,
   "metadata": {
    "collapsed": true,
    "slideshow": {
     "slide_type": "slide"
    }
   },
   "outputs": [],
   "source": [
    "# %load ./src/headfirst/factory/pizzas/SimplePizzaFactory.java\n",
    "package headfirst.factory.pizzas;\n",
    "\n",
    "public class SimplePizzaFactory {\n",
    "\tpublic Pizza createPizza(String type) {\n",
    "\t\tPizza pizza = null;\n",
    "\t\tif (type.equals(\"cheese\")) {\n",
    "\t\t\tpizza = new CheesePizza();\n",
    "\t\t} else if (type.equals(\"pepperoni\")) {\n",
    "\t\t\tpizza = new PepperoniPizza();\n",
    "\t\t} else if (type.equals(\"clam\")) {\n",
    "\t\t\tpizza = new ClamPizza();\n",
    "\t\t} else if (type.equals(\"veggie\")) {\n",
    "\t\t\tpizza = new VeggiePizza();\n",
    "\t\t}\n",
    "\t\treturn pizza;\n",
    "\t}\n",
    "}\n"
   ]
  },
  {
   "cell_type": "code",
   "execution_count": null,
   "metadata": {
    "collapsed": true,
    "slideshow": {
     "slide_type": "slide"
    }
   },
   "outputs": [],
   "source": [
    "# %load ./src/headfirst/factory/pizzas/PizzaStore.java\n",
    "package headfirst.factory.pizzas;\n",
    "\n",
    "public class PizzaStore {\n",
    "\tSimplePizzaFactory factory;\n",
    "\tpublic PizzaStore(SimplePizzaFactory factory) { \n",
    "\t\tthis.factory = factory;\n",
    "\t}\n",
    "\tpublic Pizza orderPizza(String type) {\n",
    "\t\tPizza pizza;\n",
    "\t\tpizza = factory.createPizza(type); \n",
    "\t\tpizza.prepare();\n",
    "\t\tpizza.bake();\n",
    "\t\tpizza.cut();\n",
    "\t\tpizza.box();\n",
    "\t\treturn pizza;\n",
    "\t}\n",
    "}\n"
   ]
  },
  {
   "cell_type": "code",
   "execution_count": null,
   "metadata": {
    "collapsed": true,
    "slideshow": {
     "slide_type": "slide"
    }
   },
   "outputs": [],
   "source": [
    "# %load ./src/headfirst/factory/pizzas/Pizza.java\n",
    "package headfirst.factory.pizzas;\n",
    "\n",
    "import java.util.ArrayList;\n",
    "\n",
    "abstract public class Pizza {\n",
    "\tString name;\n",
    "\tString dough;\n",
    "\tString sauce;\n",
    "\tArrayList toppings = new ArrayList();\n",
    "\n",
    "\tpublic String getName() {\n",
    "\t\treturn name;\n",
    "\t}\n",
    "\tpublic void prepare() {\n",
    "\t\tSystem.out.println(\"Preparing \" + name);\n",
    "\t}\n",
    "\tpublic void bake() {\n",
    "\t\tSystem.out.println(\"Baking \" + name);\n",
    "\t}\n",
    "\tpublic void cut() {\n",
    "\t\tSystem.out.println(\"Cutting \" + name);\n",
    "\t}\n",
    "\tpublic void box() {\n",
    "\t\tSystem.out.println(\"Boxing \" + name);\n",
    "\t}\n",
    "\tpublic String toString() {\n",
    "\t\t// code to display pizza name and ingredients\n",
    "\t\tStringBuffer display = new StringBuffer();\n",
    "\t\tdisplay.append(\"---- \" + name + \" ----\\n\");\n",
    "\t\tdisplay.append(dough + \"\\n\");\n",
    "\t\tdisplay.append(sauce + \"\\n\");\n",
    "\t\tfor (int i = 0; i < toppings.size(); i++) {\n",
    "\t\t\tdisplay.append((String )toppings.get(i) + \"\\n\");\n",
    "\t\t}\n",
    "\t\treturn display.toString();\n",
    "\t}\n",
    "}\n"
   ]
  },
  {
   "cell_type": "code",
   "execution_count": null,
   "metadata": {
    "collapsed": true,
    "slideshow": {
     "slide_type": "slide"
    }
   },
   "outputs": [],
   "source": [
    "# %load ./src/headfirst/factory/pizzas/CheesePizza.java\n",
    "package headfirst.factory.pizzas;\n",
    "\n",
    "public class CheesePizza extends Pizza {\n",
    "\tpublic CheesePizza() {\n",
    "\t\tname = \"Cheese Pizza\";\n",
    "\t\tdough = \"Regular Crust\";\n",
    "\t\tsauce = \"Marinara Pizza Sauce\";\n",
    "\t\ttoppings.add(\"Fresh Mozzarella\");\n",
    "\t\ttoppings.add(\"Parmesan\");\n",
    "\t}\n",
    "}\n"
   ]
  },
  {
   "cell_type": "markdown",
   "metadata": {
    "slideshow": {
     "slide_type": "slide"
    }
   },
   "source": [
    "#### F.4.1.2 factory method"
   ]
  },
  {
   "cell_type": "code",
   "execution_count": 2,
   "metadata": {
    "collapsed": false,
    "slideshow": {
     "slide_type": "slide"
    }
   },
   "outputs": [
    {
     "data": {
      "image/svg+xml": [
       "<svg height=\"433px\" style=\"width:565px;height:433px;\" version=\"1.1\" viewBox=\"0 0 565 433\" width=\"565px\" xmlns=\"http://www.w3.org/2000/svg\" xmlns:xlink=\"http://www.w3.org/1999/xlink\"><defs><filter height=\"300%\" id=\"f1\" width=\"300%\" x=\"-1\" y=\"-1\"><feGaussianBlur result=\"blurOut\" stdDeviation=\"2.0\"/><feColorMatrix in=\"blurOut\" result=\"blurOut2\" type=\"matrix\" values=\"0 0 0 0 0 0 0 0 0 0 0 0 0 0 0 0 0 0 .4 0\"/><feOffset dx=\"4.0\" dy=\"4.0\" in=\"blurOut2\" result=\"blurOut3\"/><feBlend in=\"SourceGraphic\" in2=\"blurOut3\" mode=\"normal\"/></filter></defs><g><rect fill=\"#FFFFFF\" filter=\"url(#f1)\" height=\"323.2656\" style=\"stroke: #000000; stroke-width: 2.0;\" width=\"543\" x=\"13\" y=\"55.2969\"/><rect fill=\"#FFFFFF\" height=\"160.4688\" style=\"stroke: none; stroke-width: 1.0;\" width=\"543\" x=\"13\" y=\"218.0938\"/><line style=\"stroke: #A80036; stroke-width: 1.0; stroke-dasharray: 5.0,5.0;\" x1=\"51\" x2=\"51\" y1=\"38.2969\" y2=\"395.5625\"/><line style=\"stroke: #A80036; stroke-width: 1.0; stroke-dasharray: 5.0,5.0;\" x1=\"159\" x2=\"159\" y1=\"38.2969\" y2=\"395.5625\"/><line style=\"stroke: #A80036; stroke-width: 1.0; stroke-dasharray: 5.0,5.0;\" x1=\"270\" x2=\"270\" y1=\"38.2969\" y2=\"395.5625\"/><line style=\"stroke: #A80036; stroke-width: 1.0; stroke-dasharray: 5.0,5.0;\" x1=\"362\" x2=\"362\" y1=\"38.2969\" y2=\"395.5625\"/><line style=\"stroke: #A80036; stroke-width: 1.0; stroke-dasharray: 5.0,5.0;\" x1=\"472\" x2=\"472\" y1=\"38.2969\" y2=\"395.5625\"/><rect fill=\"#FEFECE\" filter=\"url(#f1)\" height=\"30.2969\" style=\"stroke: #A80036; stroke-width: 1.5;\" width=\"53\" x=\"23\" y=\"3\"/><text fill=\"#000000\" font-family=\"sans-serif\" font-size=\"14\" lengthAdjust=\"spacingAndGlyphs\" textLength=\"39\" x=\"30\" y=\"22.9951\">Client</text><rect fill=\"#FEFECE\" filter=\"url(#f1)\" height=\"30.2969\" style=\"stroke: #A80036; stroke-width: 1.5;\" width=\"53\" x=\"23\" y=\"394.5625\"/><text fill=\"#000000\" font-family=\"sans-serif\" font-size=\"14\" lengthAdjust=\"spacingAndGlyphs\" textLength=\"39\" x=\"30\" y=\"414.5576\">Client</text><rect fill=\"#FEFECE\" filter=\"url(#f1)\" height=\"30.2969\" style=\"stroke: #A80036; stroke-width: 1.5;\" width=\"87\" x=\"114\" y=\"3\"/><text fill=\"#000000\" font-family=\"sans-serif\" font-size=\"14\" lengthAdjust=\"spacingAndGlyphs\" textLength=\"73\" x=\"121\" y=\"22.9951\">PizzaStore</text><rect fill=\"#FEFECE\" filter=\"url(#f1)\" height=\"30.2969\" style=\"stroke: #A80036; stroke-width: 1.5;\" width=\"87\" x=\"114\" y=\"394.5625\"/><text fill=\"#000000\" font-family=\"sans-serif\" font-size=\"14\" lengthAdjust=\"spacingAndGlyphs\" textLength=\"73\" x=\"121\" y=\"414.5576\">PizzaStore</text><rect fill=\"#FEFECE\" filter=\"url(#f1)\" height=\"30.2969\" style=\"stroke: #A80036; stroke-width: 1.5;\" width=\"106\" x=\"215\" y=\"3\"/><text fill=\"#000000\" font-family=\"sans-serif\" font-size=\"14\" lengthAdjust=\"spacingAndGlyphs\" textLength=\"92\" x=\"222\" y=\"22.9951\">NYPizzaStore</text><rect fill=\"#FEFECE\" filter=\"url(#f1)\" height=\"30.2969\" style=\"stroke: #A80036; stroke-width: 1.5;\" width=\"106\" x=\"215\" y=\"394.5625\"/><text fill=\"#000000\" font-family=\"sans-serif\" font-size=\"14\" lengthAdjust=\"spacingAndGlyphs\" textLength=\"92\" x=\"222\" y=\"414.5576\">NYPizzaStore</text><rect fill=\"#FEFECE\" filter=\"url(#f1)\" height=\"30.2969\" style=\"stroke: #A80036; stroke-width: 1.5;\" width=\"50\" x=\"335\" y=\"3\"/><text fill=\"#000000\" font-family=\"sans-serif\" font-size=\"14\" lengthAdjust=\"spacingAndGlyphs\" textLength=\"36\" x=\"342\" y=\"22.9951\">Pizza</text><rect fill=\"#FEFECE\" filter=\"url(#f1)\" height=\"30.2969\" style=\"stroke: #A80036; stroke-width: 1.5;\" width=\"50\" x=\"335\" y=\"394.5625\"/><text fill=\"#000000\" font-family=\"sans-serif\" font-size=\"14\" lengthAdjust=\"spacingAndGlyphs\" textLength=\"36\" x=\"342\" y=\"414.5576\">Pizza</text><rect fill=\"#FEFECE\" filter=\"url(#f1)\" height=\"30.2969\" style=\"stroke: #A80036; stroke-width: 1.5;\" width=\"143\" x=\"399\" y=\"3\"/><text fill=\"#000000\" font-family=\"sans-serif\" font-size=\"14\" lengthAdjust=\"spacingAndGlyphs\" textLength=\"129\" x=\"406\" y=\"22.9951\">ChicagoPizzaStore</text><rect fill=\"#FEFECE\" filter=\"url(#f1)\" height=\"30.2969\" style=\"stroke: #A80036; stroke-width: 1.5;\" width=\"143\" x=\"399\" y=\"394.5625\"/><text fill=\"#000000\" font-family=\"sans-serif\" font-size=\"14\" lengthAdjust=\"spacingAndGlyphs\" textLength=\"129\" x=\"406\" y=\"414.5576\">ChicagoPizzaStore</text><rect fill=\"none\" height=\"323.2656\" style=\"stroke: #000000; stroke-width: 2.0;\" width=\"543\" x=\"13\" y=\"55.2969\"/><polygon fill=\"#EEEEEE\" points=\"13,55.2969,77,55.2969,77,62.2969,67,72.2969,13,72.2969,13,55.2969\" style=\"stroke: #000000; stroke-width: 2.0;\"/><text fill=\"#000000\" font-family=\"sans-serif\" font-size=\"13\" font-weight=\"bold\" lengthAdjust=\"spacingAndGlyphs\" textLength=\"19\" x=\"28\" y=\"68.3638\">alt</text><text fill=\"#000000\" font-family=\"sans-serif\" font-size=\"11\" font-weight=\"bold\" lengthAdjust=\"spacingAndGlyphs\" textLength=\"116\" x=\"92\" y=\"67.5073\">['ny style cheese']</text><polygon fill=\"#A80036\" points=\"147.5,89.4297,157.5,93.4297,147.5,97.4297,151.5,93.4297\" style=\"stroke: #A80036; stroke-width: 1.0;\"/><line style=\"stroke: #A80036; stroke-width: 1.0;\" x1=\"51.5\" x2=\"153.5\" y1=\"93.4297\" y2=\"93.4297\"/><text fill=\"#000000\" font-family=\"sans-serif\" font-size=\"13\" lengthAdjust=\"spacingAndGlyphs\" textLength=\"50\" x=\"58.5\" y=\"88.4966\">nyStore</text><polygon fill=\"#A80036\" points=\"258,118.5625,268,122.5625,258,126.5625,262,122.5625\" style=\"stroke: #A80036; stroke-width: 1.0;\"/><line style=\"stroke: #A80036; stroke-width: 1.0;\" x1=\"159.5\" x2=\"264\" y1=\"122.5625\" y2=\"122.5625\"/><text fill=\"#000000\" font-family=\"sans-serif\" font-size=\"13\" lengthAdjust=\"spacingAndGlyphs\" textLength=\"35\" x=\"166.5\" y=\"117.6294\">new()</text><polygon fill=\"#A80036\" points=\"258,147.6953,268,151.6953,258,155.6953,262,151.6953\" style=\"stroke: #A80036; stroke-width: 1.0;\"/><line style=\"stroke: #A80036; stroke-width: 1.0;\" x1=\"51.5\" x2=\"264\" y1=\"151.6953\" y2=\"151.6953\"/><text fill=\"#000000\" font-family=\"sans-serif\" font-size=\"13\" lengthAdjust=\"spacingAndGlyphs\" textLength=\"129\" x=\"58.5\" y=\"146.7622\">orderPizza('cheese')</text><polygon fill=\"#A80036\" points=\"350,176.8281,360,180.8281,350,184.8281,354,180.8281\" style=\"stroke: #A80036; stroke-width: 1.0;\"/><line style=\"stroke: #A80036; stroke-width: 1.0;\" x1=\"270\" x2=\"356\" y1=\"180.8281\" y2=\"180.8281\"/><text fill=\"#000000\" font-family=\"sans-serif\" font-size=\"13\" lengthAdjust=\"spacingAndGlyphs\" textLength=\"35\" x=\"277\" y=\"175.895\">new()</text><polygon fill=\"#A80036\" points=\"350,205.9609,360,209.9609,350,213.9609,354,209.9609\" style=\"stroke: #A80036; stroke-width: 1.0;\"/><line style=\"stroke: #A80036; stroke-width: 1.0;\" x1=\"51.5\" x2=\"356\" y1=\"209.9609\" y2=\"209.9609\"/><text fill=\"#000000\" font-family=\"sans-serif\" font-size=\"13\" lengthAdjust=\"spacingAndGlyphs\" textLength=\"70\" x=\"58.5\" y=\"205.0278\">getName()</text><line style=\"stroke: #000000; stroke-width: 1.0; stroke-dasharray: 2.0,2.0;\" x1=\"13\" x2=\"556\" y1=\"219.0938\" y2=\"219.0938\"/><text fill=\"#000000\" font-family=\"sans-serif\" font-size=\"11\" font-weight=\"bold\" lengthAdjust=\"spacingAndGlyphs\" textLength=\"151\" x=\"18\" y=\"229.3042\">['chicago style cheese']</text><polygon fill=\"#A80036\" points=\"147.5,249.8984,157.5,253.8984,147.5,257.8984,151.5,253.8984\" style=\"stroke: #A80036; stroke-width: 1.0;\"/><line style=\"stroke: #A80036; stroke-width: 1.0;\" x1=\"51.5\" x2=\"153.5\" y1=\"253.8984\" y2=\"253.8984\"/><text fill=\"#000000\" font-family=\"sans-serif\" font-size=\"13\" lengthAdjust=\"spacingAndGlyphs\" textLength=\"84\" x=\"58.5\" y=\"248.9653\">chicagoStore</text><polygon fill=\"#A80036\" points=\"460.5,279.0313,470.5,283.0313,460.5,287.0313,464.5,283.0313\" style=\"stroke: #A80036; stroke-width: 1.0;\"/><line style=\"stroke: #A80036; stroke-width: 1.0;\" x1=\"159.5\" x2=\"466.5\" y1=\"283.0313\" y2=\"283.0313\"/><text fill=\"#000000\" font-family=\"sans-serif\" font-size=\"13\" lengthAdjust=\"spacingAndGlyphs\" textLength=\"35\" x=\"166.5\" y=\"278.0981\">new()</text><polygon fill=\"#A80036\" points=\"460.5,308.1641,470.5,312.1641,460.5,316.1641,464.5,312.1641\" style=\"stroke: #A80036; stroke-width: 1.0;\"/><line style=\"stroke: #A80036; stroke-width: 1.0;\" x1=\"51.5\" x2=\"466.5\" y1=\"312.1641\" y2=\"312.1641\"/><text fill=\"#000000\" font-family=\"sans-serif\" font-size=\"13\" lengthAdjust=\"spacingAndGlyphs\" textLength=\"129\" x=\"58.5\" y=\"307.231\">orderPizza('cheese')</text><polygon fill=\"#A80036\" points=\"373,337.2969,363,341.2969,373,345.2969,369,341.2969\" style=\"stroke: #A80036; stroke-width: 1.0;\"/><line style=\"stroke: #A80036; stroke-width: 1.0;\" x1=\"367\" x2=\"471.5\" y1=\"341.2969\" y2=\"341.2969\"/><text fill=\"#000000\" font-family=\"sans-serif\" font-size=\"13\" lengthAdjust=\"spacingAndGlyphs\" textLength=\"35\" x=\"379\" y=\"336.3638\">new()</text><polygon fill=\"#A80036\" points=\"350,366.4297,360,370.4297,350,374.4297,354,370.4297\" style=\"stroke: #A80036; stroke-width: 1.0;\"/><line style=\"stroke: #A80036; stroke-width: 1.0;\" x1=\"51.5\" x2=\"356\" y1=\"370.4297\" y2=\"370.4297\"/><text fill=\"#000000\" font-family=\"sans-serif\" font-size=\"13\" lengthAdjust=\"spacingAndGlyphs\" textLength=\"70\" x=\"58.5\" y=\"365.4966\">getName()</text></g></svg>"
      ],
      "text/plain": [
       "<IPython.core.display.SVG object>"
      ]
     },
     "execution_count": 2,
     "metadata": {},
     "output_type": "execute_result"
    }
   ],
   "source": [
    "%%plantuml\n",
    "@startuml\n",
    "alt 'ny style cheese'\n",
    "Client -> PizzaStore:nyStore\n",
    "PizzaStore -> NYPizzaStore:new()\n",
    "Client -> NYPizzaStore:orderPizza('cheese')\n",
    "NYPizzaStore -> Pizza:new()\n",
    "Client -> Pizza:getName()\n",
    "else 'chicago style cheese'\n",
    "Client -> PizzaStore:chicagoStore\n",
    "PizzaStore -> ChicagoPizzaStore:new()\n",
    "Client -> ChicagoPizzaStore:orderPizza('cheese')\n",
    "ChicagoPizzaStore -> Pizza:new()\n",
    "Client -> Pizza:getName()\n",
    "end\n",
    "@enduml"
   ]
  },
  {
   "cell_type": "code",
   "execution_count": null,
   "metadata": {
    "collapsed": true,
    "slideshow": {
     "slide_type": "slide"
    }
   },
   "outputs": [],
   "source": [
    "# %load ./src/headfirst/factory/pizzafm/PizzaTestDrive.java\n",
    "package headfirst.factory.pizzafm;\n",
    "\n",
    "public class PizzaTestDrive { \n",
    "\tpublic static void main(String[] args) {\n",
    "\t\tPizzaStore nyStore = new NYPizzaStore();\n",
    "\t\tPizzaStore chicagoStore = new ChicagoPizzaStore();\n",
    "\t\tPizza pizza = nyStore.orderPizza(\"cheese\");\n",
    "\t\tSystem.out.println(\"Ethan ordered a \" + pizza.getName() + \"\\n\");\n",
    "\t\tpizza = chicagoStore.orderPizza(\"cheese\");\n",
    "\t\tSystem.out.println(\"Joel ordered a \" + pizza.getName() + \"\\n\");\n",
    "\t\tpizza = nyStore.orderPizza(\"clam\");\n",
    "\t\tSystem.out.println(\"Ethan ordered a \" + pizza.getName() + \"\\n\");\n",
    "\t\tpizza = chicagoStore.orderPizza(\"clam\");\n",
    "\t\tSystem.out.println(\"Joel ordered a \" + pizza.getName() + \"\\n\");\n",
    "\t\tpizza = nyStore.orderPizza(\"pepperoni\");\n",
    "\t\tSystem.out.println(\"Ethan ordered a \" + pizza.getName() + \"\\n\");\n",
    "\t\tpizza = chicagoStore.orderPizza(\"pepperoni\");\n",
    "\t\tSystem.out.println(\"Joel ordered a \" + pizza.getName() + \"\\n\");\n",
    "\t\tpizza = nyStore.orderPizza(\"veggie\");\n",
    "\t\tSystem.out.println(\"Ethan ordered a \" + pizza.getName() + \"\\n\");\n",
    "\t\tpizza = chicagoStore.orderPizza(\"veggie\");\n",
    "\t\tSystem.out.println(\"Joel ordered a \" + pizza.getName() + \"\\n\");\n",
    "\t}\n",
    "}\n"
   ]
  },
  {
   "cell_type": "code",
   "execution_count": null,
   "metadata": {
    "collapsed": true
   },
   "outputs": [],
   "source": [
    "# %load ./src/headfirst/factory/pizzafm/PizzaStore.java\n",
    "package headfirst.factory.pizzafm;\n",
    "\n",
    "public abstract class PizzaStore {\n",
    " \n",
    "\tabstract Pizza createPizza(String item);\n",
    " \n",
    "\tpublic Pizza orderPizza(String type) {\n",
    "\t\tPizza pizza = createPizza(type);\n",
    "\t\tSystem.out.println(\"--- Making a \" + pizza.getName() + \" ---\");\n",
    "\t\tpizza.prepare();\n",
    "\t\tpizza.bake();\n",
    "\t\tpizza.cut();\n",
    "\t\tpizza.box();\n",
    "\t\treturn pizza;\n",
    "\t}\n",
    "}\n"
   ]
  },
  {
   "cell_type": "code",
   "execution_count": null,
   "metadata": {
    "collapsed": true,
    "slideshow": {
     "slide_type": "slide"
    }
   },
   "outputs": [],
   "source": [
    "# %load ./src/headfirst/factory/pizzafm/NYPizzaStore.java\n",
    "package headfirst.factory.pizzafm;\n",
    "\n",
    "public class NYPizzaStore extends PizzaStore {\n",
    "\tPizza createPizza(String item) {\n",
    "\t\tif (item.equals(\"cheese\")) {\n",
    "\t\t\treturn new NYStyleCheesePizza();\n",
    "\t\t} else if (item.equals(\"veggie\")) {\n",
    "\t\t\treturn new NYStyleVeggiePizza();\n",
    "\t\t} else if (item.equals(\"clam\")) {\n",
    "\t\t\treturn new NYStyleClamPizza();\n",
    "\t\t} else if (item.equals(\"pepperoni\")) {\n",
    "\t\t\treturn new NYStylePepperoniPizza();\n",
    "\t\t} else return null;\n",
    "\t}\n",
    "}\n"
   ]
  },
  {
   "cell_type": "code",
   "execution_count": null,
   "metadata": {
    "collapsed": true,
    "slideshow": {
     "slide_type": "slide"
    }
   },
   "outputs": [],
   "source": [
    "# %load ./src/headfirst/factory/pizzafm/Pizza.java\n",
    "package headfirst.factory.pizzafm;\n",
    "\n",
    "import java.util.ArrayList;\n",
    "\n",
    "public abstract class Pizza {\n",
    "\tString name;\n",
    "\tString dough;\n",
    "\tString sauce;\n",
    "\tArrayList toppings = new ArrayList();\n",
    "\tvoid prepare() {\n",
    "\t\tSystem.out.println(\"Preparing \" + name);\n",
    "\t\tSystem.out.println(\"Tossing dough...\");\n",
    "\t\tSystem.out.println(\"Adding sauce...\");\n",
    "\t\tSystem.out.println(\"Adding toppings: \");\n",
    "\t\tfor (int i = 0; i < toppings.size(); i++) {\n",
    "\t\t\tSystem.out.println(\"   \" + toppings.get(i));\n",
    "\t\t}\n",
    "\t}\n",
    "\tvoid bake() {\n",
    "\t\tSystem.out.println(\"Bake for 25 minutes at 350\");\n",
    "\t}\n",
    "\tvoid cut() {\n",
    "\t\tSystem.out.println(\"Cutting the pizza into diagonal slices\");\n",
    "\t}\n",
    "\tvoid box() {\n",
    "\t\tSystem.out.println(\"Place pizza in official PizzaStore box\");\n",
    "\t}\n",
    "\tpublic String getName() {\n",
    "\t\treturn name;\n",
    "\t}\n",
    "\tpublic String toString() {\n",
    "\t\tStringBuffer display = new StringBuffer();\n",
    "\t\tdisplay.append(\"---- \" + name + \" ----\\n\");\n",
    "\t\tdisplay.append(dough + \"\\n\");\n",
    "\t\tdisplay.append(sauce + \"\\n\");\n",
    "\t\tfor (int i = 0; i < toppings.size(); i++) {\n",
    "\t\t\tdisplay.append((String )toppings.get(i) + \"\\n\");\n",
    "\t\t}\n",
    "\t\treturn display.toString();\n",
    "\t}\n",
    "}\n"
   ]
  },
  {
   "cell_type": "code",
   "execution_count": null,
   "metadata": {
    "collapsed": true,
    "slideshow": {
     "slide_type": "slide"
    }
   },
   "outputs": [],
   "source": [
    "# %load ./src/headfirst/factory/pizzafm/NYStyleCheesePizza.java\n",
    "package headfirst.factory.pizzafm;\n",
    "\n",
    "public class NYStyleCheesePizza extends Pizza {\n",
    "\n",
    "\tpublic NYStyleCheesePizza() { \n",
    "\t\tname = \"NY Style Sauce and Cheese Pizza\";\n",
    "\t\tdough = \"Thin Crust Dough\";\n",
    "\t\tsauce = \"Marinara Sauce\";\n",
    " \n",
    "\t\ttoppings.add(\"Grated Reggiano Cheese\");\n",
    "\t}\n",
    "}\n"
   ]
  },
  {
   "cell_type": "code",
   "execution_count": 43,
   "metadata": {
    "collapsed": false,
    "slideshow": {
     "slide_type": "slide"
    }
   },
   "outputs": [
    {
     "name": "stdout",
     "output_type": "stream",
     "text": [
      "Picked up JAVA_TOOL_OPTIONS: -javaagent:/usr/share/java/jayatanaag.jar \n",
      "warning: Supported source version 'RELEASE_6' from annotation processor 'org.sonatype.guice.bean.scanners.index.SisuIndexAPT6' less than -source '1.7'\n",
      "Note: Some input files use unchecked or unsafe operations.\n",
      "Note: Recompile with -Xlint:unchecked for details.\n",
      "1 warning\n"
     ]
    }
   ],
   "source": [
    "!javac -d classes/ -sourcepath src/ src/headfirst/factory/pizzafm/*.java"
   ]
  },
  {
   "cell_type": "code",
   "execution_count": 44,
   "metadata": {
    "collapsed": false,
    "slideshow": {
     "slide_type": "slide"
    }
   },
   "outputs": [
    {
     "name": "stdout",
     "output_type": "stream",
     "text": [
      "Picked up JAVA_TOOL_OPTIONS: -javaagent:/usr/share/java/jayatanaag.jar \n",
      "--- Making a NY Style Sauce and Cheese Pizza ---\n",
      "Preparing NY Style Sauce and Cheese Pizza\n",
      "Tossing dough...\n",
      "Adding sauce...\n",
      "Adding toppings: \n",
      "   Grated Reggiano Cheese\n",
      "Bake for 25 minutes at 350\n",
      "Cutting the pizza into diagonal slices\n",
      "Place pizza in official PizzaStore box\n",
      "Ethan ordered a NY Style Sauce and Cheese Pizza\n",
      "\n",
      "--- Making a Chicago Style Deep Dish Cheese Pizza ---\n",
      "Preparing Chicago Style Deep Dish Cheese Pizza\n",
      "Tossing dough...\n",
      "Adding sauce...\n",
      "Adding toppings: \n",
      "   Shredded Mozzarella Cheese\n",
      "Bake for 25 minutes at 350\n",
      "Cutting the pizza into square slices\n",
      "Place pizza in official PizzaStore box\n",
      "Joel ordered a Chicago Style Deep Dish Cheese Pizza\n",
      "\n",
      "--- Making a NY Style Clam Pizza ---\n",
      "Preparing NY Style Clam Pizza\n",
      "Tossing dough...\n",
      "Adding sauce...\n",
      "Adding toppings: \n",
      "   Grated Reggiano Cheese\n",
      "   Fresh Clams from Long Island Sound\n",
      "Bake for 25 minutes at 350\n",
      "Cutting the pizza into diagonal slices\n",
      "Place pizza in official PizzaStore box\n",
      "Ethan ordered a NY Style Clam Pizza\n",
      "\n",
      "--- Making a Chicago Style Clam Pizza ---\n",
      "Preparing Chicago Style Clam Pizza\n",
      "Tossing dough...\n",
      "Adding sauce...\n",
      "Adding toppings: \n",
      "   Shredded Mozzarella Cheese\n",
      "   Frozen Clams from Chesapeake Bay\n",
      "Bake for 25 minutes at 350\n",
      "Cutting the pizza into square slices\n",
      "Place pizza in official PizzaStore box\n",
      "Joel ordered a Chicago Style Clam Pizza\n",
      "\n",
      "--- Making a NY Style Pepperoni Pizza ---\n",
      "Preparing NY Style Pepperoni Pizza\n",
      "Tossing dough...\n",
      "Adding sauce...\n",
      "Adding toppings: \n",
      "   Grated Reggiano Cheese\n",
      "   Sliced Pepperoni\n",
      "   Garlic\n",
      "   Onion\n",
      "   Mushrooms\n",
      "   Red Pepper\n",
      "Bake for 25 minutes at 350\n",
      "Cutting the pizza into diagonal slices\n",
      "Place pizza in official PizzaStore box\n",
      "Ethan ordered a NY Style Pepperoni Pizza\n",
      "\n",
      "--- Making a Chicago Style Pepperoni Pizza ---\n",
      "Preparing Chicago Style Pepperoni Pizza\n",
      "Tossing dough...\n",
      "Adding sauce...\n",
      "Adding toppings: \n",
      "   Shredded Mozzarella Cheese\n",
      "   Black Olives\n",
      "   Spinach\n",
      "   Eggplant\n",
      "   Sliced Pepperoni\n",
      "Bake for 25 minutes at 350\n",
      "Cutting the pizza into square slices\n",
      "Place pizza in official PizzaStore box\n",
      "Joel ordered a Chicago Style Pepperoni Pizza\n",
      "\n",
      "--- Making a NY Style Veggie Pizza ---\n",
      "Preparing NY Style Veggie Pizza\n",
      "Tossing dough...\n",
      "Adding sauce...\n",
      "Adding toppings: \n",
      "   Grated Reggiano Cheese\n",
      "   Garlic\n",
      "   Onion\n",
      "   Mushrooms\n",
      "   Red Pepper\n",
      "Bake for 25 minutes at 350\n",
      "Cutting the pizza into diagonal slices\n",
      "Place pizza in official PizzaStore box\n",
      "Ethan ordered a NY Style Veggie Pizza\n",
      "\n",
      "--- Making a Chicago Deep Dish Veggie Pizza ---\n",
      "Preparing Chicago Deep Dish Veggie Pizza\n",
      "Tossing dough...\n",
      "Adding sauce...\n",
      "Adding toppings: \n",
      "   Shredded Mozzarella Cheese\n",
      "   Black Olives\n",
      "   Spinach\n",
      "   Eggplant\n",
      "Bake for 25 minutes at 350\n",
      "Cutting the pizza into square slices\n",
      "Place pizza in official PizzaStore box\n",
      "Joel ordered a Chicago Deep Dish Veggie Pizza\n",
      "\n"
     ]
    }
   ],
   "source": [
    "!java -cp classes/ headfirst/factory/pizzafm/PizzaTestDrive"
   ]
  },
  {
   "cell_type": "markdown",
   "metadata": {
    "slideshow": {
     "slide_type": "slide"
    }
   },
   "source": [
    "#### F.4.1.3 abstract factory\n",
    "\n",
    "* PizzaStore가 factory 역할을 한다.\n",
    "* factory로 pizza를 생성할 때, 추상 product를 넘겨준다.\n",
    "```\n",
    "new CheesePizza(f:PizzaIngredientFactory)\n",
    "```"
   ]
  },
  {
   "cell_type": "code",
   "execution_count": 8,
   "metadata": {
    "collapsed": false,
    "slideshow": {
     "slide_type": "slide"
    }
   },
   "outputs": [
    {
     "data": {
      "image/svg+xml": [
       "<svg height=\"524px\" style=\"width:859px;height:524px;\" version=\"1.1\" viewBox=\"0 0 859 524\" width=\"859px\" xmlns=\"http://www.w3.org/2000/svg\" xmlns:xlink=\"http://www.w3.org/1999/xlink\"><defs><filter height=\"300%\" id=\"f1\" width=\"300%\" x=\"-1\" y=\"-1\"><feGaussianBlur result=\"blurOut\" stdDeviation=\"2.0\"/><feColorMatrix in=\"blurOut\" result=\"blurOut2\" type=\"matrix\" values=\"0 0 0 0 0 0 0 0 0 0 0 0 0 0 0 0 0 0 .4 0\"/><feOffset dx=\"4.0\" dy=\"4.0\" in=\"blurOut2\" result=\"blurOut3\"/><feBlend in=\"SourceGraphic\" in2=\"blurOut3\" mode=\"normal\"/></filter></defs><g><rect fill=\"#FFFFFF\" filter=\"url(#f1)\" height=\"381.5313\" style=\"stroke: #000000; stroke-width: 2.0;\" width=\"837\" x=\"13\" y=\"71.5938\"/><rect fill=\"#FFFFFF\" height=\"189.6016\" style=\"stroke: none; stroke-width: 1.0;\" width=\"837\" x=\"13\" y=\"263.5234\"/><line style=\"stroke: #A80036; stroke-width: 1.0; stroke-dasharray: 5.0,5.0;\" x1=\"51\" x2=\"51\" y1=\"54.5938\" y2=\"470.125\"/><line style=\"stroke: #A80036; stroke-width: 1.0; stroke-dasharray: 5.0,5.0;\" x1=\"159\" x2=\"159\" y1=\"54.5938\" y2=\"470.125\"/><line style=\"stroke: #A80036; stroke-width: 1.0; stroke-dasharray: 5.0,5.0;\" x1=\"270\" x2=\"270\" y1=\"54.5938\" y2=\"470.125\"/><line style=\"stroke: #A80036; stroke-width: 1.0; stroke-dasharray: 5.0,5.0;\" x1=\"404\" x2=\"404\" y1=\"54.5938\" y2=\"470.125\"/><line style=\"stroke: #A80036; stroke-width: 1.0; stroke-dasharray: 5.0,5.0;\" x1=\"537\" x2=\"537\" y1=\"54.5938\" y2=\"470.125\"/><line style=\"stroke: #A80036; stroke-width: 1.0; stroke-dasharray: 5.0,5.0;\" x1=\"646\" x2=\"646\" y1=\"54.5938\" y2=\"470.125\"/><line style=\"stroke: #A80036; stroke-width: 1.0; stroke-dasharray: 5.0,5.0;\" x1=\"771\" x2=\"771\" y1=\"54.5938\" y2=\"470.125\"/><rect fill=\"#FEFECE\" filter=\"url(#f1)\" height=\"30.2969\" style=\"stroke: #A80036; stroke-width: 1.5;\" width=\"53\" x=\"23\" y=\"19.2969\"/><text fill=\"#000000\" font-family=\"sans-serif\" font-size=\"14\" lengthAdjust=\"spacingAndGlyphs\" textLength=\"39\" x=\"30\" y=\"39.292\">Client</text><rect fill=\"#FEFECE\" filter=\"url(#f1)\" height=\"30.2969\" style=\"stroke: #A80036; stroke-width: 1.5;\" width=\"53\" x=\"23\" y=\"469.125\"/><text fill=\"#000000\" font-family=\"sans-serif\" font-size=\"14\" lengthAdjust=\"spacingAndGlyphs\" textLength=\"39\" x=\"30\" y=\"489.1201\">Client</text><rect fill=\"#FEFECE\" filter=\"url(#f1)\" height=\"30.2969\" style=\"stroke: #A80036; stroke-width: 1.5;\" width=\"87\" x=\"114\" y=\"19.2969\"/><text fill=\"#000000\" font-family=\"sans-serif\" font-size=\"14\" lengthAdjust=\"spacingAndGlyphs\" textLength=\"73\" x=\"121\" y=\"39.292\">PizzaStore</text><rect fill=\"#FEFECE\" filter=\"url(#f1)\" height=\"30.2969\" style=\"stroke: #A80036; stroke-width: 1.5;\" width=\"87\" x=\"114\" y=\"469.125\"/><text fill=\"#000000\" font-family=\"sans-serif\" font-size=\"14\" lengthAdjust=\"spacingAndGlyphs\" textLength=\"73\" x=\"121\" y=\"489.1201\">PizzaStore</text><rect fill=\"#FEFECE\" filter=\"url(#f1)\" height=\"30.2969\" style=\"stroke: #A80036; stroke-width: 1.5;\" width=\"106\" x=\"215\" y=\"19.2969\"/><text fill=\"#000000\" font-family=\"sans-serif\" font-size=\"14\" lengthAdjust=\"spacingAndGlyphs\" textLength=\"92\" x=\"222\" y=\"39.292\">NYPizzaStore</text><rect fill=\"#FEFECE\" filter=\"url(#f1)\" height=\"30.2969\" style=\"stroke: #A80036; stroke-width: 1.5;\" width=\"106\" x=\"215\" y=\"469.125\"/><text fill=\"#000000\" font-family=\"sans-serif\" font-size=\"14\" lengthAdjust=\"spacingAndGlyphs\" textLength=\"92\" x=\"222\" y=\"489.1201\">NYPizzaStore</text><rect fill=\"#FEFECE\" filter=\"url(#f1)\" height=\"46.5938\" style=\"stroke: #A80036; stroke-width: 1.5;\" width=\"134\" x=\"335\" y=\"3\"/><text fill=\"#000000\" font-family=\"sans-serif\" font-size=\"14\" lengthAdjust=\"spacingAndGlyphs\" textLength=\"55\" x=\"374.5\" y=\"22.9951\">NYPizza</text><text fill=\"#000000\" font-family=\"sans-serif\" font-size=\"14\" lengthAdjust=\"spacingAndGlyphs\" textLength=\"120\" x=\"342\" y=\"39.292\">IngredientFactory</text><rect fill=\"#FEFECE\" filter=\"url(#f1)\" height=\"46.5938\" style=\"stroke: #A80036; stroke-width: 1.5;\" width=\"134\" x=\"335\" y=\"469.125\"/><text fill=\"#000000\" font-family=\"sans-serif\" font-size=\"14\" lengthAdjust=\"spacingAndGlyphs\" textLength=\"55\" x=\"374.5\" y=\"489.1201\">NYPizza</text><text fill=\"#000000\" font-family=\"sans-serif\" font-size=\"14\" lengthAdjust=\"spacingAndGlyphs\" textLength=\"120\" x=\"342\" y=\"505.417\">IngredientFactory</text><rect fill=\"#FEFECE\" filter=\"url(#f1)\" height=\"30.2969\" style=\"stroke: #A80036; stroke-width: 1.5;\" width=\"104\" x=\"483\" y=\"19.2969\"/><text fill=\"#000000\" font-family=\"sans-serif\" font-size=\"14\" lengthAdjust=\"spacingAndGlyphs\" textLength=\"90\" x=\"490\" y=\"39.292\">CheesePizza</text><rect fill=\"#FEFECE\" filter=\"url(#f1)\" height=\"30.2969\" style=\"stroke: #A80036; stroke-width: 1.5;\" width=\"104\" x=\"483\" y=\"469.125\"/><text fill=\"#000000\" font-family=\"sans-serif\" font-size=\"14\" lengthAdjust=\"spacingAndGlyphs\" textLength=\"90\" x=\"490\" y=\"489.1201\">CheesePizza</text><rect fill=\"#FEFECE\" filter=\"url(#f1)\" height=\"46.5938\" style=\"stroke: #A80036; stroke-width: 1.5;\" width=\"87\" x=\"601\" y=\"3\"/><text fill=\"#000000\" font-family=\"sans-serif\" font-size=\"14\" lengthAdjust=\"spacingAndGlyphs\" textLength=\"56\" x=\"616.5\" y=\"22.9951\">Chicago</text><text fill=\"#000000\" font-family=\"sans-serif\" font-size=\"14\" lengthAdjust=\"spacingAndGlyphs\" textLength=\"73\" x=\"608\" y=\"39.292\">PizzaStore</text><rect fill=\"#FEFECE\" filter=\"url(#f1)\" height=\"46.5938\" style=\"stroke: #A80036; stroke-width: 1.5;\" width=\"87\" x=\"601\" y=\"469.125\"/><text fill=\"#000000\" font-family=\"sans-serif\" font-size=\"14\" lengthAdjust=\"spacingAndGlyphs\" textLength=\"56\" x=\"616.5\" y=\"489.1201\">Chicago</text><text fill=\"#000000\" font-family=\"sans-serif\" font-size=\"14\" lengthAdjust=\"spacingAndGlyphs\" textLength=\"73\" x=\"608\" y=\"505.417\">PizzaStore</text><rect fill=\"#FEFECE\" filter=\"url(#f1)\" height=\"46.5938\" style=\"stroke: #A80036; stroke-width: 1.5;\" width=\"134\" x=\"702\" y=\"3\"/><text fill=\"#000000\" font-family=\"sans-serif\" font-size=\"14\" lengthAdjust=\"spacingAndGlyphs\" textLength=\"92\" x=\"723\" y=\"22.9951\">ChicagoPizza</text><text fill=\"#000000\" font-family=\"sans-serif\" font-size=\"14\" lengthAdjust=\"spacingAndGlyphs\" textLength=\"120\" x=\"709\" y=\"39.292\">IngredientFactory</text><rect fill=\"#FEFECE\" filter=\"url(#f1)\" height=\"46.5938\" style=\"stroke: #A80036; stroke-width: 1.5;\" width=\"134\" x=\"702\" y=\"469.125\"/><text fill=\"#000000\" font-family=\"sans-serif\" font-size=\"14\" lengthAdjust=\"spacingAndGlyphs\" textLength=\"92\" x=\"723\" y=\"489.1201\">ChicagoPizza</text><text fill=\"#000000\" font-family=\"sans-serif\" font-size=\"14\" lengthAdjust=\"spacingAndGlyphs\" textLength=\"120\" x=\"709\" y=\"505.417\">IngredientFactory</text><rect fill=\"none\" height=\"381.5313\" style=\"stroke: #000000; stroke-width: 2.0;\" width=\"837\" x=\"13\" y=\"71.5938\"/><polygon fill=\"#EEEEEE\" points=\"13,71.5938,77,71.5938,77,78.5938,67,88.5938,13,88.5938,13,71.5938\" style=\"stroke: #000000; stroke-width: 2.0;\"/><text fill=\"#000000\" font-family=\"sans-serif\" font-size=\"13\" font-weight=\"bold\" lengthAdjust=\"spacingAndGlyphs\" textLength=\"19\" x=\"28\" y=\"84.6606\">alt</text><text fill=\"#000000\" font-family=\"sans-serif\" font-size=\"11\" font-weight=\"bold\" lengthAdjust=\"spacingAndGlyphs\" textLength=\"116\" x=\"92\" y=\"83.8042\">['ny style cheese']</text><polygon fill=\"#A80036\" points=\"147.5,105.7266,157.5,109.7266,147.5,113.7266,151.5,109.7266\" style=\"stroke: #A80036; stroke-width: 1.0;\"/><line style=\"stroke: #A80036; stroke-width: 1.0;\" x1=\"51.5\" x2=\"153.5\" y1=\"109.7266\" y2=\"109.7266\"/><text fill=\"#000000\" font-family=\"sans-serif\" font-size=\"13\" lengthAdjust=\"spacingAndGlyphs\" textLength=\"50\" x=\"58.5\" y=\"104.7935\">nyStore</text><polygon fill=\"#A80036\" points=\"258,134.8594,268,138.8594,258,142.8594,262,138.8594\" style=\"stroke: #A80036; stroke-width: 1.0;\"/><line style=\"stroke: #A80036; stroke-width: 1.0;\" x1=\"159.5\" x2=\"264\" y1=\"138.8594\" y2=\"138.8594\"/><text fill=\"#000000\" font-family=\"sans-serif\" font-size=\"13\" lengthAdjust=\"spacingAndGlyphs\" textLength=\"35\" x=\"166.5\" y=\"133.9263\">new()</text><polygon fill=\"#A80036\" points=\"258,163.9922,268,167.9922,258,171.9922,262,167.9922\" style=\"stroke: #A80036; stroke-width: 1.0;\"/><line style=\"stroke: #A80036; stroke-width: 1.0;\" x1=\"51.5\" x2=\"264\" y1=\"167.9922\" y2=\"167.9922\"/><text fill=\"#000000\" font-family=\"sans-serif\" font-size=\"13\" lengthAdjust=\"spacingAndGlyphs\" textLength=\"129\" x=\"58.5\" y=\"163.0591\">orderPizza('cheese')</text><polygon fill=\"#A80036\" points=\"392,193.125,402,197.125,392,201.125,396,197.125\" style=\"stroke: #A80036; stroke-width: 1.0;\"/><line style=\"stroke: #A80036; stroke-width: 1.0;\" x1=\"270\" x2=\"398\" y1=\"197.125\" y2=\"197.125\"/><text fill=\"#000000\" font-family=\"sans-serif\" font-size=\"13\" lengthAdjust=\"spacingAndGlyphs\" textLength=\"68\" x=\"277\" y=\"192.1919\">ifac=new()</text><polygon fill=\"#A80036\" points=\"525,222.2578,535,226.2578,525,230.2578,529,226.2578\" style=\"stroke: #A80036; stroke-width: 1.0;\"/><line style=\"stroke: #A80036; stroke-width: 1.0;\" x1=\"404\" x2=\"531\" y1=\"226.2578\" y2=\"226.2578\"/><text fill=\"#000000\" font-family=\"sans-serif\" font-size=\"13\" lengthAdjust=\"spacingAndGlyphs\" textLength=\"57\" x=\"411\" y=\"221.3247\">new(ifac)</text><polygon fill=\"#A80036\" points=\"525,251.3906,535,255.3906,525,259.3906,529,255.3906\" style=\"stroke: #A80036; stroke-width: 1.0;\"/><line style=\"stroke: #A80036; stroke-width: 1.0;\" x1=\"51.5\" x2=\"531\" y1=\"255.3906\" y2=\"255.3906\"/><text fill=\"#000000\" font-family=\"sans-serif\" font-size=\"13\" lengthAdjust=\"spacingAndGlyphs\" textLength=\"70\" x=\"58.5\" y=\"250.4575\">getName()</text><line style=\"stroke: #000000; stroke-width: 1.0; stroke-dasharray: 2.0,2.0;\" x1=\"13\" x2=\"850\" y1=\"264.5234\" y2=\"264.5234\"/><text fill=\"#000000\" font-family=\"sans-serif\" font-size=\"11\" font-weight=\"bold\" lengthAdjust=\"spacingAndGlyphs\" textLength=\"151\" x=\"18\" y=\"274.7339\">['chicago style cheese']</text><polygon fill=\"#A80036\" points=\"147.5,295.3281,157.5,299.3281,147.5,303.3281,151.5,299.3281\" style=\"stroke: #A80036; stroke-width: 1.0;\"/><line style=\"stroke: #A80036; stroke-width: 1.0;\" x1=\"51.5\" x2=\"153.5\" y1=\"299.3281\" y2=\"299.3281\"/><text fill=\"#000000\" font-family=\"sans-serif\" font-size=\"13\" lengthAdjust=\"spacingAndGlyphs\" textLength=\"84\" x=\"58.5\" y=\"294.395\">chicagoStore</text><polygon fill=\"#A80036\" points=\"634.5,324.4609,644.5,328.4609,634.5,332.4609,638.5,328.4609\" style=\"stroke: #A80036; stroke-width: 1.0;\"/><line style=\"stroke: #A80036; stroke-width: 1.0;\" x1=\"159.5\" x2=\"640.5\" y1=\"328.4609\" y2=\"328.4609\"/><text fill=\"#000000\" font-family=\"sans-serif\" font-size=\"13\" lengthAdjust=\"spacingAndGlyphs\" textLength=\"35\" x=\"166.5\" y=\"323.5278\">new()</text><polygon fill=\"#A80036\" points=\"634.5,353.5938,644.5,357.5938,634.5,361.5938,638.5,357.5938\" style=\"stroke: #A80036; stroke-width: 1.0;\"/><line style=\"stroke: #A80036; stroke-width: 1.0;\" x1=\"51.5\" x2=\"640.5\" y1=\"357.5938\" y2=\"357.5938\"/><text fill=\"#000000\" font-family=\"sans-serif\" font-size=\"13\" lengthAdjust=\"spacingAndGlyphs\" textLength=\"129\" x=\"58.5\" y=\"352.6606\">orderPizza('cheese')</text><polygon fill=\"#A80036\" points=\"759,382.7266,769,386.7266,759,390.7266,763,386.7266\" style=\"stroke: #A80036; stroke-width: 1.0;\"/><line style=\"stroke: #A80036; stroke-width: 1.0;\" x1=\"646.5\" x2=\"765\" y1=\"386.7266\" y2=\"386.7266\"/><text fill=\"#000000\" font-family=\"sans-serif\" font-size=\"13\" lengthAdjust=\"spacingAndGlyphs\" textLength=\"68\" x=\"653.5\" y=\"381.7935\">ifac=new()</text><polygon fill=\"#A80036\" points=\"548,411.8594,538,415.8594,548,419.8594,544,415.8594\" style=\"stroke: #A80036; stroke-width: 1.0;\"/><line style=\"stroke: #A80036; stroke-width: 1.0;\" x1=\"542\" x2=\"770\" y1=\"415.8594\" y2=\"415.8594\"/><text fill=\"#000000\" font-family=\"sans-serif\" font-size=\"13\" lengthAdjust=\"spacingAndGlyphs\" textLength=\"57\" x=\"554\" y=\"410.9263\">new(ifac)</text><polygon fill=\"#A80036\" points=\"525,440.9922,535,444.9922,525,448.9922,529,444.9922\" style=\"stroke: #A80036; stroke-width: 1.0;\"/><line style=\"stroke: #A80036; stroke-width: 1.0;\" x1=\"51.5\" x2=\"531\" y1=\"444.9922\" y2=\"444.9922\"/><text fill=\"#000000\" font-family=\"sans-serif\" font-size=\"13\" lengthAdjust=\"spacingAndGlyphs\" textLength=\"70\" x=\"58.5\" y=\"440.0591\">getName()</text></g></svg>"
      ],
      "text/plain": [
       "<IPython.core.display.SVG object>"
      ]
     },
     "execution_count": 8,
     "metadata": {},
     "output_type": "execute_result"
    }
   ],
   "source": [
    "%%plantuml\n",
    "@startuml\n",
    "alt 'ny style cheese'\n",
    "Client -> PizzaStore:nyStore\n",
    "PizzaStore -> NYPizzaStore:new()\n",
    "Client -> NYPizzaStore:orderPizza('cheese')\n",
    "NYPizzaStore -> \"NYPizza\\nIngredientFactory\":ifac=new()\n",
    "\"NYPizza\\nIngredientFactory\"->CheesePizza:new(ifac)\n",
    "Client -> CheesePizza:getName()\n",
    "else 'chicago style cheese'\n",
    "Client -> PizzaStore:chicagoStore\n",
    "PizzaStore -> \"Chicago\\nPizzaStore\":new()\n",
    "Client -> \"Chicago\\nPizzaStore\":orderPizza('cheese')\n",
    "\"Chicago\\nPizzaStore\" -> \"ChicagoPizza\\nIngredientFactory\":ifac=new()\n",
    "\"ChicagoPizza\\nIngredientFactory\"->CheesePizza:new(ifac)\n",
    "Client -> CheesePizza:getName()\n",
    "end\n",
    "@enduml"
   ]
  },
  {
   "cell_type": "code",
   "execution_count": null,
   "metadata": {
    "collapsed": true,
    "slideshow": {
     "slide_type": "slide"
    }
   },
   "outputs": [],
   "source": [
    "# %load ./src/headfirst/factory/pizzaaf/small/PizzaTestDrive.java\n",
    "package headfirst.factory.pizzaaf.small;\n",
    "\n",
    "public class PizzaTestDrive {\n",
    "    public static void main(String[] args) {\n",
    "        PizzaStore nyStore = new NYPizzaStore();\n",
    "        PizzaStore chicagoStore = new ChicagoPizzaStore();\n",
    " \n",
    "        Pizza pizza = nyStore.orderPizza(\"cheese\");\n",
    "        System.out.println(\"Ethan ordered a \" + pizza + \"\\n\");\n",
    " \n",
    "        pizza = chicagoStore.orderPizza(\"cheese\");\n",
    "        System.out.println(\"Joel ordered a \" + pizza + \"\\n\");\n",
    "\t}\n",
    "}"
   ]
  },
  {
   "cell_type": "code",
   "execution_count": null,
   "metadata": {
    "collapsed": true,
    "slideshow": {
     "slide_type": "slide"
    }
   },
   "outputs": [],
   "source": [
    "# %load ./src/headfirst/factory/pizzaaf/small/PizzaStore.java\n",
    "package headfirst.factory.pizzaaf.small;\n",
    "\n",
    "public abstract class PizzaStore {\n",
    " \n",
    "    protected abstract Pizza createPizza(String item);\n",
    " \n",
    "    public Pizza orderPizza(String type) {\n",
    "        Pizza pizza = createPizza(type);\n",
    "        System.out.println(\"--- Making a \" + pizza.getName() + \" ---\");\n",
    "        pizza.prepare();\n",
    "        pizza.bake();\n",
    "        pizza.cut();\n",
    "        pizza.box();\n",
    "        return pizza;\n",
    "    }\n",
    "}\n"
   ]
  },
  {
   "cell_type": "code",
   "execution_count": null,
   "metadata": {
    "collapsed": true,
    "slideshow": {
     "slide_type": "slide"
    }
   },
   "outputs": [],
   "source": [
    "# %load ./src/headfirst/factory/pizzaaf/small/NYPizzaStore.java\n",
    "package headfirst.factory.pizzaaf.small;\n",
    "\n",
    "public class NYPizzaStore extends PizzaStore {\n",
    "    protected Pizza createPizza(String item) {\n",
    "        Pizza pizza = null;\n",
    "        PizzaIngredientFactory ingredientFactory=new NYPizzaIngredientFactory();\n",
    " \n",
    "        if (item.equals(\"cheese\")) {\n",
    "  \n",
    "            pizza = new CheesePizza(ingredientFactory);\n",
    "            pizza.setName(\"New York Style Cheese Pizza\");\n",
    "  \n",
    "        }\n",
    "        return pizza;\n",
    "    }\n",
    "}\n"
   ]
  },
  {
   "cell_type": "code",
   "execution_count": null,
   "metadata": {
    "collapsed": true,
    "slideshow": {
     "slide_type": "slide"
    }
   },
   "outputs": [],
   "source": [
    "# %load ./src/headfirst/factory/pizzaaf/small/ChicagoPizzaStore.java\n",
    "package headfirst.factory.pizzaaf.small;\n",
    "\n",
    "public class ChicagoPizzaStore extends PizzaStore {\n",
    "    protected Pizza createPizza(String item) {\n",
    "        Pizza pizza = null;\n",
    "        PizzaIngredientFactory ingredientFactory=new ChicagoPizzaIngredientFactory();\n",
    "        if (item.equals(\"cheese\")) {\n",
    "            pizza = new CheesePizza(ingredientFactory);\n",
    "            pizza.setName(\"Chicago Style Cheese Pizza\");\n",
    "        }\n",
    "        return pizza;\n",
    "    }\n",
    "}\n"
   ]
  },
  {
   "cell_type": "code",
   "execution_count": null,
   "metadata": {
    "collapsed": true,
    "slideshow": {
     "slide_type": "slide"
    }
   },
   "outputs": [],
   "source": [
    "# %load ./src/headfirst/factory/pizzaaf/small/Pizza.java\n",
    "package headfirst.factory.pizzaaf.small;\n",
    "\n",
    "public abstract class Pizza {\n",
    "    String name;\n",
    "    Dough dough;\n",
    "    Cheese cheese;\n",
    "\n",
    "    abstract void prepare();\n",
    "    void bake() {\n",
    "        System.out.println(\"Bake for 25 minutes at 350\");\n",
    "    }\n",
    "    void cut() {\n",
    "        System.out.println(\"Cutting the pizza into diagonal slices\");\n",
    "    }\n",
    "    void box() {\n",
    "        System.out.println(\"Place pizza in official PizzaStore box\");\n",
    "    }\n",
    "    void setName(String name) {\n",
    "        this.name = name;\n",
    "    }\n",
    "    String getName() {\n",
    "        return name;\n",
    "    }\n",
    "    public String toString() {\n",
    "        StringBuffer result = new StringBuffer();\n",
    "        result.append(\"---- \" + name + \" ----\\n\");\n",
    "        if (dough != null) {\n",
    "            result.append(dough);\n",
    "            result.append(\"\\n\");\n",
    "        }\n",
    "        if (cheese != null) {\n",
    "            result.append(cheese);\n",
    "            result.append(\"\\n\");\n",
    "        }\n",
    "        return result.toString();\n",
    "    }\n",
    "}\n"
   ]
  },
  {
   "cell_type": "code",
   "execution_count": null,
   "metadata": {
    "collapsed": true,
    "slideshow": {
     "slide_type": "slide"
    }
   },
   "outputs": [],
   "source": [
    "# %load ./src/headfirst/factory/pizzaaf/small/CheesePizza.java\n",
    "package headfirst.factory.pizzaaf.small;\n",
    "\n",
    "public class CheesePizza extends Pizza {\n",
    "    PizzaIngredientFactory ingredientFactory;\n",
    " \n",
    "    public CheesePizza(PizzaIngredientFactory ingredientFactory) {\n",
    "        this.ingredientFactory = ingredientFactory;\n",
    "    }\n",
    "    void prepare() {\n",
    "        System.out.println(\"Preparing \" + name);\n",
    "        dough = ingredientFactory.createDough();\n",
    "        cheese = ingredientFactory.createCheese();\n",
    "    }\n",
    "}\n"
   ]
  },
  {
   "cell_type": "code",
   "execution_count": null,
   "metadata": {
    "collapsed": true,
    "slideshow": {
     "slide_type": "slide"
    }
   },
   "outputs": [],
   "source": [
    "# %load ./src/headfirst/factory/pizzaaf/small/PizzaIngredientFactory.java\n",
    "package headfirst.factory.pizzaaf.small;\n",
    "\n",
    "public interface PizzaIngredientFactory {\n",
    "    public Dough createDough();\n",
    "    public Cheese createCheese();\n",
    "}\n"
   ]
  },
  {
   "cell_type": "code",
   "execution_count": null,
   "metadata": {
    "collapsed": true,
    "slideshow": {
     "slide_type": "slide"
    }
   },
   "outputs": [],
   "source": [
    "# %load ./src/headfirst/factory/pizzaaf/small/NYPizzaIngredientFactory.java\n",
    "package headfirst.factory.pizzaaf.small;\n",
    "\n",
    "public class NYPizzaIngredientFactory implements PizzaIngredientFactory {\n",
    "    public Dough createDough() {\n",
    "        return new ThinCrustDough();\n",
    "    }\n",
    "    public Cheese createCheese() {\n",
    "        return new ReggianoCheese();\n",
    "    }\n",
    "}\n"
   ]
  },
  {
   "cell_type": "code",
   "execution_count": null,
   "metadata": {
    "collapsed": true,
    "slideshow": {
     "slide_type": "slide"
    }
   },
   "outputs": [],
   "source": [
    "# %load ./src/headfirst/factory/pizzaaf/small/ChicagoPizzaIngredientFactory.java\n",
    "package headfirst.factory.pizzaaf.small;\n",
    "\n",
    "public class ChicagoPizzaIngredientFactory implements PizzaIngredientFactory {\n",
    "    public Dough createDough() {\n",
    "        return new ThickCrustDough();\n",
    "    }\n",
    "    public Cheese createCheese() {\n",
    "        return new MozzarellaCheese();\n",
    "    }\n",
    "}\n"
   ]
  },
  {
   "cell_type": "code",
   "execution_count": null,
   "metadata": {
    "collapsed": true,
    "slideshow": {
     "slide_type": "slide"
    }
   },
   "outputs": [],
   "source": [
    "# %load ./src/headfirst/factory/pizzaaf/small/Dough.java\n",
    "package headfirst.factory.pizzaaf.small;\n",
    "\n",
    "public interface Dough {\n",
    "    public String toString();\n",
    "}\n"
   ]
  },
  {
   "cell_type": "code",
   "execution_count": null,
   "metadata": {
    "collapsed": true,
    "slideshow": {
     "slide_type": "slide"
    }
   },
   "outputs": [],
   "source": [
    "# %load ./src/headfirst/factory/pizzaaf/small/Cheese.java\n",
    "package headfirst.factory.pizzaaf.small;\n",
    "\n",
    "public interface Cheese {\n",
    "    public String toString();\n",
    "}\n"
   ]
  },
  {
   "cell_type": "code",
   "execution_count": null,
   "metadata": {
    "collapsed": true,
    "slideshow": {
     "slide_type": "slide"
    }
   },
   "outputs": [],
   "source": [
    "# %load ./src/headfirst/factory/pizzaaf/small/ThinCrustDough.java\n",
    "package headfirst.factory.pizzaaf.small;\n",
    "\n",
    "public class ThinCrustDough implements Dough {\n",
    "    public String toString() {\n",
    "        return \"Thin Crust Dough\";\n",
    "    }\n",
    "}\n"
   ]
  },
  {
   "cell_type": "code",
   "execution_count": null,
   "metadata": {
    "collapsed": true,
    "slideshow": {
     "slide_type": "slide"
    }
   },
   "outputs": [],
   "source": [
    "# %load ./src/headfirst/factory/pizzaaf/small/ThickCrustDough.java\n",
    "package headfirst.factory.pizzaaf.small;\n",
    "\n",
    "public class ThickCrustDough implements Dough {\n",
    "    public String toString() {\n",
    "        return \"ThickCrust style extra thick crust dough\";\n",
    "    }\n",
    "}\n"
   ]
  },
  {
   "cell_type": "code",
   "execution_count": null,
   "metadata": {
    "collapsed": true,
    "slideshow": {
     "slide_type": "slide"
    }
   },
   "outputs": [],
   "source": [
    "# %load ./src/headfirst/factory/pizzaaf/small/MozzarellaCheese.java\n",
    "package headfirst.factory.pizzaaf.small;\n",
    "\n",
    "public class MozzarellaCheese implements Cheese {\n",
    "    public String toString() {\n",
    "        return \"Shredded Mozzarella\";\n",
    "    }\n",
    "}\n"
   ]
  },
  {
   "cell_type": "code",
   "execution_count": null,
   "metadata": {
    "collapsed": true,
    "slideshow": {
     "slide_type": "slide"
    }
   },
   "outputs": [],
   "source": [
    "# %load ./src/headfirst/factory/pizzaaf/small/ReggianoCheese.java\n",
    "package headfirst.factory.pizzaaf.small;\n",
    "\n",
    "public class ReggianoCheese implements Cheese {\n",
    "    public String toString() {\n",
    "        return \"Reggiano Cheese\";\n",
    "    }\n",
    "}\n"
   ]
  },
  {
   "cell_type": "code",
   "execution_count": 41,
   "metadata": {
    "collapsed": false,
    "slideshow": {
     "slide_type": "slide"
    }
   },
   "outputs": [
    {
     "name": "stdout",
     "output_type": "stream",
     "text": [
      "Picked up JAVA_TOOL_OPTIONS: -javaagent:/usr/share/java/jayatanaag.jar \n",
      "warning: Supported source version 'RELEASE_6' from annotation processor 'org.sonatype.guice.bean.scanners.index.SisuIndexAPT6' less than -source '1.7'\n",
      "1 warning\n"
     ]
    }
   ],
   "source": [
    "!javac -d classes/ -sourcepath src/ src/headfirst/factory/pizzaaf/small/*.java"
   ]
  },
  {
   "cell_type": "code",
   "execution_count": 42,
   "metadata": {
    "collapsed": false,
    "scrolled": false,
    "slideshow": {
     "slide_type": "slide"
    }
   },
   "outputs": [
    {
     "name": "stdout",
     "output_type": "stream",
     "text": [
      "Picked up JAVA_TOOL_OPTIONS: -javaagent:/usr/share/java/jayatanaag.jar \n",
      "--- Making a New York Style Cheese Pizza ---\n",
      "Preparing New York Style Cheese Pizza\n",
      "Bake for 25 minutes at 350\n",
      "Cutting the pizza into diagonal slices\n",
      "Place pizza in official PizzaStore box\n",
      "Ethan ordered a ---- New York Style Cheese Pizza ----\n",
      "Thin Crust Dough\n",
      "Reggiano Cheese\n",
      "\n",
      "\n",
      "--- Making a Chicago Style Cheese Pizza ---\n",
      "Preparing Chicago Style Cheese Pizza\n",
      "Bake for 25 minutes at 350\n",
      "Cutting the pizza into diagonal slices\n",
      "Place pizza in official PizzaStore box\n",
      "Joel ordered a ---- Chicago Style Cheese Pizza ----\n",
      "ThickCrust style extra thick crust dough\n",
      "Shredded Mozzarella\n",
      "\n",
      "\n"
     ]
    }
   ],
   "source": [
    "!java -cp classes/ headfirst.factory.pizzaaf.small.PizzaTestDrive"
   ]
  },
  {
   "cell_type": "markdown",
   "metadata": {
    "slideshow": {
     "slide_type": "slide"
    }
   },
   "source": [
    "### F.4.2 Shape\n",
    "\n",
    "* Shape abstract factory (6.2 Shape)\n",
    "    * creator\n",
    "        * abstract factory구조\n",
    "            * DrawingAbstractFactory <|-- ColorFactory, ShapeFactory\n",
    "    * product\n",
    "        * interface를 사용해 family of products를 제공함\n",
    "            * Color <|.. Red, Green, Blue\n",
    "            * Shape <|.. Rectangle, Square\n",
    "    * **Null Object Pattern**\n",
    "        * null 객체를 참조하면 발생할 수 있는 문제를 해결하기 위한 패턴, 보통 isNull()함수를 구현하지만, 여기서는 생략하지 않는다.\n",
    "        * ColorFactory에서 사용하는 getShape()함수는 NullShape 객체를 반환하도록 한다.\n",
    "        * ShapeFactory의 getColor()는 NullColor 객체를 반환한다."
   ]
  },
  {
   "cell_type": "code",
   "execution_count": 8,
   "metadata": {
    "collapsed": false,
    "slideshow": {
     "slide_type": "subslide"
    }
   },
   "outputs": [
    {
     "data": {
      "image/svg+xml": [
       "<svg height=\"428px\" style=\"width:670px;height:428px;\" version=\"1.1\" viewBox=\"0 0 670 428\" width=\"670px\" xmlns=\"http://www.w3.org/2000/svg\" xmlns:xlink=\"http://www.w3.org/1999/xlink\"><defs><filter height=\"300%\" id=\"f1\" width=\"300%\" x=\"-1\" y=\"-1\"><feGaussianBlur result=\"blurOut\" stdDeviation=\"2.0\"/><feColorMatrix in=\"blurOut\" result=\"blurOut2\" type=\"matrix\" values=\"0 0 0 0 0 0 0 0 0 0 0 0 0 0 0 0 0 0 .4 0\"/><feOffset dx=\"4.0\" dy=\"4.0\" in=\"blurOut2\" result=\"blurOut3\"/><feBlend in=\"SourceGraphic\" in2=\"blurOut3\" mode=\"normal\"/></filter></defs><g><rect fill=\"#FEFECE\" filter=\"url(#f1)\" height=\"73.6094\" style=\"stroke: #A80036; stroke-width: 1.5;\" width=\"238\" x=\"189\" y=\"8\"/><ellipse cx=\"229.2\" cy=\"24\" fill=\"#A9DCDF\" rx=\"11\" ry=\"11\" style=\"stroke: #A80036; stroke-width: 1.0;\"/><path d=\"M229.3094,19.3438 L228.1531,24.4219 L230.4813,24.4219 L229.3094,19.3438 Z M227.825,17.1094 L230.8094,17.1094 L234.1688,29.5 L231.7156,29.5 L230.95,26.4375 L227.6688,26.4375 L226.9188,29.5 L224.4813,29.5 L227.825,17.1094 Z \"/><text fill=\"#000000\" font-family=\"sans-serif\" font-size=\"12\" font-style=\"italic\" lengthAdjust=\"spacingAndGlyphs\" textLength=\"150\" x=\"248.8\" y=\"28.1543\">DrawingAbstractFactory</text><line style=\"stroke: #A80036; stroke-width: 1.5;\" x1=\"190\" x2=\"426\" y1=\"40\" y2=\"40\"/><line style=\"stroke: #A80036; stroke-width: 1.5;\" x1=\"190\" x2=\"426\" y1=\"48\" y2=\"48\"/><text fill=\"#000000\" font-family=\"sans-serif\" font-size=\"11\" lengthAdjust=\"spacingAndGlyphs\" textLength=\"207\" x=\"195\" y=\"62.2104\">abstract getColor(color:String):Color</text><text fill=\"#000000\" font-family=\"sans-serif\" font-size=\"11\" lengthAdjust=\"spacingAndGlyphs\" textLength=\"226\" x=\"195\" y=\"75.0151\">abstract getShape(shape:String):Shape</text><rect fill=\"#FEFECE\" filter=\"url(#f1)\" height=\"48\" style=\"stroke: #A80036; stroke-width: 1.5;\" width=\"110\" x=\"179\" y=\"142\"/><ellipse cx=\"194\" cy=\"158\" fill=\"#ADD1B2\" rx=\"11\" ry=\"11\" style=\"stroke: #A80036; stroke-width: 1.0;\"/><path d=\"M196.9688,163.6406 Q196.3906,163.9375 195.75,164.0859 Q195.1094,164.2344 194.4063,164.2344 Q191.9063,164.2344 190.5859,162.5859 Q189.2656,160.9375 189.2656,157.8125 Q189.2656,154.6875 190.5859,153.0313 Q191.9063,151.375 194.4063,151.375 Q195.1094,151.375 195.7578,151.5313 Q196.4063,151.6875 196.9688,151.9844 L196.9688,154.7031 Q196.3438,154.125 195.75,153.8516 Q195.1563,153.5781 194.5313,153.5781 Q193.1875,153.5781 192.5,154.6484 Q191.8125,155.7188 191.8125,157.8125 Q191.8125,159.9063 192.5,160.9766 Q193.1875,162.0469 194.5313,162.0469 Q195.1563,162.0469 195.75,161.7734 Q196.3438,161.5 196.9688,160.9219 L196.9688,163.6406 Z \"/><text fill=\"#000000\" font-family=\"sans-serif\" font-size=\"12\" lengthAdjust=\"spacingAndGlyphs\" textLength=\"78\" x=\"208\" y=\"162.1543\">ColorFactory</text><line style=\"stroke: #A80036; stroke-width: 1.5;\" x1=\"180\" x2=\"288\" y1=\"174\" y2=\"174\"/><line style=\"stroke: #A80036; stroke-width: 1.5;\" x1=\"180\" x2=\"288\" y1=\"182\" y2=\"182\"/><rect fill=\"#FEFECE\" filter=\"url(#f1)\" height=\"48\" style=\"stroke: #A80036; stroke-width: 1.5;\" width=\"64\" x=\"202\" y=\"256.5\"/><ellipse cx=\"217\" cy=\"272.5\" fill=\"#B4A7E5\" rx=\"11\" ry=\"11\" style=\"stroke: #A80036; stroke-width: 1.0;\"/><path d=\"M212.9219,268.2656 L212.9219,266.1094 L220.3125,266.1094 L220.3125,268.2656 L217.8438,268.2656 L217.8438,276.3438 L220.3125,276.3438 L220.3125,278.5 L212.9219,278.5 L212.9219,276.3438 L215.3906,276.3438 L215.3906,268.2656 L212.9219,268.2656 Z \"/><text fill=\"#000000\" font-family=\"sans-serif\" font-size=\"12\" font-style=\"italic\" lengthAdjust=\"spacingAndGlyphs\" textLength=\"32\" x=\"231\" y=\"276.6543\">Color</text><line style=\"stroke: #A80036; stroke-width: 1.5;\" x1=\"203\" x2=\"265\" y1=\"288.5\" y2=\"288.5\"/><line style=\"stroke: #A80036; stroke-width: 1.5;\" x1=\"203\" x2=\"265\" y1=\"296.5\" y2=\"296.5\"/><rect fill=\"#FEFECE\" filter=\"url(#f1)\" height=\"48\" style=\"stroke: #A80036; stroke-width: 1.5;\" width=\"70\" x=\"6\" y=\"371\"/><ellipse cx=\"21\" cy=\"387\" fill=\"#ADD1B2\" rx=\"11\" ry=\"11\" style=\"stroke: #A80036; stroke-width: 1.0;\"/><path d=\"M23.9688,392.6406 Q23.3906,392.9375 22.75,393.0859 Q22.1094,393.2344 21.4063,393.2344 Q18.9063,393.2344 17.5859,391.5859 Q16.2656,389.9375 16.2656,386.8125 Q16.2656,383.6875 17.5859,382.0313 Q18.9063,380.375 21.4063,380.375 Q22.1094,380.375 22.7578,380.5313 Q23.4063,380.6875 23.9688,380.9844 L23.9688,383.7031 Q23.3438,383.125 22.75,382.8516 Q22.1563,382.5781 21.5313,382.5781 Q20.1875,382.5781 19.5,383.6484 Q18.8125,384.7188 18.8125,386.8125 Q18.8125,388.9063 19.5,389.9766 Q20.1875,391.0469 21.5313,391.0469 Q22.1563,391.0469 22.75,390.7734 Q23.3438,390.5 23.9688,389.9219 L23.9688,392.6406 Z \"/><text fill=\"#000000\" font-family=\"sans-serif\" font-size=\"12\" lengthAdjust=\"spacingAndGlyphs\" textLength=\"38\" x=\"35\" y=\"391.1543\">Green</text><line style=\"stroke: #A80036; stroke-width: 1.5;\" x1=\"7\" x2=\"75\" y1=\"403\" y2=\"403\"/><line style=\"stroke: #A80036; stroke-width: 1.5;\" x1=\"7\" x2=\"75\" y1=\"411\" y2=\"411\"/><rect fill=\"#FEFECE\" filter=\"url(#f1)\" height=\"48\" style=\"stroke: #A80036; stroke-width: 1.5;\" width=\"56\" x=\"111\" y=\"371\"/><ellipse cx=\"126\" cy=\"387\" fill=\"#ADD1B2\" rx=\"11\" ry=\"11\" style=\"stroke: #A80036; stroke-width: 1.0;\"/><path d=\"M128.9688,392.6406 Q128.3906,392.9375 127.75,393.0859 Q127.1094,393.2344 126.4063,393.2344 Q123.9063,393.2344 122.5859,391.5859 Q121.2656,389.9375 121.2656,386.8125 Q121.2656,383.6875 122.5859,382.0313 Q123.9063,380.375 126.4063,380.375 Q127.1094,380.375 127.7578,380.5313 Q128.4063,380.6875 128.9688,380.9844 L128.9688,383.7031 Q128.3438,383.125 127.75,382.8516 Q127.1563,382.5781 126.5313,382.5781 Q125.1875,382.5781 124.5,383.6484 Q123.8125,384.7188 123.8125,386.8125 Q123.8125,388.9063 124.5,389.9766 Q125.1875,391.0469 126.5313,391.0469 Q127.1563,391.0469 127.75,390.7734 Q128.3438,390.5 128.9688,389.9219 L128.9688,392.6406 Z \"/><text fill=\"#000000\" font-family=\"sans-serif\" font-size=\"12\" lengthAdjust=\"spacingAndGlyphs\" textLength=\"24\" x=\"140\" y=\"391.1543\">Red</text><line style=\"stroke: #A80036; stroke-width: 1.5;\" x1=\"112\" x2=\"166\" y1=\"403\" y2=\"403\"/><line style=\"stroke: #A80036; stroke-width: 1.5;\" x1=\"112\" x2=\"166\" y1=\"411\" y2=\"411\"/><rect fill=\"#FEFECE\" filter=\"url(#f1)\" height=\"48\" style=\"stroke: #A80036; stroke-width: 1.5;\" width=\"87\" x=\"202.5\" y=\"371\"/><ellipse cx=\"217.5\" cy=\"387\" fill=\"#ADD1B2\" rx=\"11\" ry=\"11\" style=\"stroke: #A80036; stroke-width: 1.0;\"/><path d=\"M220.4688,392.6406 Q219.8906,392.9375 219.25,393.0859 Q218.6094,393.2344 217.9063,393.2344 Q215.4063,393.2344 214.0859,391.5859 Q212.7656,389.9375 212.7656,386.8125 Q212.7656,383.6875 214.0859,382.0313 Q215.4063,380.375 217.9063,380.375 Q218.6094,380.375 219.2578,380.5313 Q219.9063,380.6875 220.4688,380.9844 L220.4688,383.7031 Q219.8438,383.125 219.25,382.8516 Q218.6563,382.5781 218.0313,382.5781 Q216.6875,382.5781 216,383.6484 Q215.3125,384.7188 215.3125,386.8125 Q215.3125,388.9063 216,389.9766 Q216.6875,391.0469 218.0313,391.0469 Q218.6563,391.0469 219.25,390.7734 Q219.8438,390.5 220.4688,389.9219 L220.4688,392.6406 Z \"/><text fill=\"#000000\" font-family=\"sans-serif\" font-size=\"12\" lengthAdjust=\"spacingAndGlyphs\" textLength=\"55\" x=\"231.5\" y=\"391.1543\">NullColor</text><line style=\"stroke: #A80036; stroke-width: 1.5;\" x1=\"203.5\" x2=\"288.5\" y1=\"403\" y2=\"403\"/><line style=\"stroke: #A80036; stroke-width: 1.5;\" x1=\"203.5\" x2=\"288.5\" y1=\"411\" y2=\"411\"/><rect fill=\"#FEFECE\" filter=\"url(#f1)\" height=\"48\" style=\"stroke: #A80036; stroke-width: 1.5;\" width=\"118\" x=\"324\" y=\"142\"/><ellipse cx=\"339\" cy=\"158\" fill=\"#ADD1B2\" rx=\"11\" ry=\"11\" style=\"stroke: #A80036; stroke-width: 1.0;\"/><path d=\"M341.9688,163.6406 Q341.3906,163.9375 340.75,164.0859 Q340.1094,164.2344 339.4063,164.2344 Q336.9063,164.2344 335.5859,162.5859 Q334.2656,160.9375 334.2656,157.8125 Q334.2656,154.6875 335.5859,153.0313 Q336.9063,151.375 339.4063,151.375 Q340.1094,151.375 340.7578,151.5313 Q341.4063,151.6875 341.9688,151.9844 L341.9688,154.7031 Q341.3438,154.125 340.75,153.8516 Q340.1563,153.5781 339.5313,153.5781 Q338.1875,153.5781 337.5,154.6484 Q336.8125,155.7188 336.8125,157.8125 Q336.8125,159.9063 337.5,160.9766 Q338.1875,162.0469 339.5313,162.0469 Q340.1563,162.0469 340.75,161.7734 Q341.3438,161.5 341.9688,160.9219 L341.9688,163.6406 Z \"/><text fill=\"#000000\" font-family=\"sans-serif\" font-size=\"12\" lengthAdjust=\"spacingAndGlyphs\" textLength=\"86\" x=\"353\" y=\"162.1543\">ShapeFactory</text><line style=\"stroke: #A80036; stroke-width: 1.5;\" x1=\"325\" x2=\"441\" y1=\"174\" y2=\"174\"/><line style=\"stroke: #A80036; stroke-width: 1.5;\" x1=\"325\" x2=\"441\" y1=\"182\" y2=\"182\"/><rect fill=\"#FEFECE\" filter=\"url(#f1)\" height=\"60.8047\" style=\"stroke: #A80036; stroke-width: 1.5;\" width=\"72\" x=\"347\" y=\"250\"/><ellipse cx=\"362\" cy=\"266\" fill=\"#B4A7E5\" rx=\"11\" ry=\"11\" style=\"stroke: #A80036; stroke-width: 1.0;\"/><path d=\"M357.9219,261.7656 L357.9219,259.6094 L365.3125,259.6094 L365.3125,261.7656 L362.8438,261.7656 L362.8438,269.8438 L365.3125,269.8438 L365.3125,272 L357.9219,272 L357.9219,269.8438 L360.3906,269.8438 L360.3906,261.7656 L357.9219,261.7656 Z \"/><text fill=\"#000000\" font-family=\"sans-serif\" font-size=\"12\" font-style=\"italic\" lengthAdjust=\"spacingAndGlyphs\" textLength=\"40\" x=\"376\" y=\"270.1543\">Shape</text><line style=\"stroke: #A80036; stroke-width: 1.5;\" x1=\"348\" x2=\"418\" y1=\"282\" y2=\"282\"/><line style=\"stroke: #A80036; stroke-width: 1.5;\" x1=\"348\" x2=\"418\" y1=\"290\" y2=\"290\"/><text fill=\"#000000\" font-family=\"sans-serif\" font-size=\"11\" lengthAdjust=\"spacingAndGlyphs\" textLength=\"38\" x=\"353\" y=\"304.2104\">show()</text><rect fill=\"#FEFECE\" filter=\"url(#f1)\" height=\"48\" style=\"stroke: #A80036; stroke-width: 1.5;\" width=\"95\" x=\"324.5\" y=\"371\"/><ellipse cx=\"339.5\" cy=\"387\" fill=\"#ADD1B2\" rx=\"11\" ry=\"11\" style=\"stroke: #A80036; stroke-width: 1.0;\"/><path d=\"M342.4688,392.6406 Q341.8906,392.9375 341.25,393.0859 Q340.6094,393.2344 339.9063,393.2344 Q337.4063,393.2344 336.0859,391.5859 Q334.7656,389.9375 334.7656,386.8125 Q334.7656,383.6875 336.0859,382.0313 Q337.4063,380.375 339.9063,380.375 Q340.6094,380.375 341.2578,380.5313 Q341.9063,380.6875 342.4688,380.9844 L342.4688,383.7031 Q341.8438,383.125 341.25,382.8516 Q340.6563,382.5781 340.0313,382.5781 Q338.6875,382.5781 338,383.6484 Q337.3125,384.7188 337.3125,386.8125 Q337.3125,388.9063 338,389.9766 Q338.6875,391.0469 340.0313,391.0469 Q340.6563,391.0469 341.25,390.7734 Q341.8438,390.5 342.4688,389.9219 L342.4688,392.6406 Z \"/><text fill=\"#000000\" font-family=\"sans-serif\" font-size=\"12\" lengthAdjust=\"spacingAndGlyphs\" textLength=\"63\" x=\"353.5\" y=\"391.1543\">Rectangle</text><line style=\"stroke: #A80036; stroke-width: 1.5;\" x1=\"325.5\" x2=\"418.5\" y1=\"403\" y2=\"403\"/><line style=\"stroke: #A80036; stroke-width: 1.5;\" x1=\"325.5\" x2=\"418.5\" y1=\"411\" y2=\"411\"/><rect fill=\"#FEFECE\" filter=\"url(#f1)\" height=\"48\" style=\"stroke: #A80036; stroke-width: 1.5;\" width=\"77\" x=\"454.5\" y=\"371\"/><ellipse cx=\"469.5\" cy=\"387\" fill=\"#ADD1B2\" rx=\"11\" ry=\"11\" style=\"stroke: #A80036; stroke-width: 1.0;\"/><path d=\"M472.4688,392.6406 Q471.8906,392.9375 471.25,393.0859 Q470.6094,393.2344 469.9063,393.2344 Q467.4063,393.2344 466.0859,391.5859 Q464.7656,389.9375 464.7656,386.8125 Q464.7656,383.6875 466.0859,382.0313 Q467.4063,380.375 469.9063,380.375 Q470.6094,380.375 471.2578,380.5313 Q471.9063,380.6875 472.4688,380.9844 L472.4688,383.7031 Q471.8438,383.125 471.25,382.8516 Q470.6563,382.5781 470.0313,382.5781 Q468.6875,382.5781 468,383.6484 Q467.3125,384.7188 467.3125,386.8125 Q467.3125,388.9063 468,389.9766 Q468.6875,391.0469 470.0313,391.0469 Q470.6563,391.0469 471.25,390.7734 Q471.8438,390.5 472.4688,389.9219 L472.4688,392.6406 Z \"/><text fill=\"#000000\" font-family=\"sans-serif\" font-size=\"12\" lengthAdjust=\"spacingAndGlyphs\" textLength=\"45\" x=\"483.5\" y=\"391.1543\">Square</text><line style=\"stroke: #A80036; stroke-width: 1.5;\" x1=\"455.5\" x2=\"530.5\" y1=\"403\" y2=\"403\"/><line style=\"stroke: #A80036; stroke-width: 1.5;\" x1=\"455.5\" x2=\"530.5\" y1=\"411\" y2=\"411\"/><rect fill=\"#FEFECE\" filter=\"url(#f1)\" height=\"48\" style=\"stroke: #A80036; stroke-width: 1.5;\" width=\"95\" x=\"566.5\" y=\"371\"/><ellipse cx=\"581.5\" cy=\"387\" fill=\"#ADD1B2\" rx=\"11\" ry=\"11\" style=\"stroke: #A80036; stroke-width: 1.0;\"/><path d=\"M584.4688,392.6406 Q583.8906,392.9375 583.25,393.0859 Q582.6094,393.2344 581.9063,393.2344 Q579.4063,393.2344 578.0859,391.5859 Q576.7656,389.9375 576.7656,386.8125 Q576.7656,383.6875 578.0859,382.0313 Q579.4063,380.375 581.9063,380.375 Q582.6094,380.375 583.2578,380.5313 Q583.9063,380.6875 584.4688,380.9844 L584.4688,383.7031 Q583.8438,383.125 583.25,382.8516 Q582.6563,382.5781 582.0313,382.5781 Q580.6875,382.5781 580,383.6484 Q579.3125,384.7188 579.3125,386.8125 Q579.3125,388.9063 580,389.9766 Q580.6875,391.0469 582.0313,391.0469 Q582.6563,391.0469 583.25,390.7734 Q583.8438,390.5 584.4688,389.9219 L584.4688,392.6406 Z \"/><text fill=\"#000000\" font-family=\"sans-serif\" font-size=\"12\" lengthAdjust=\"spacingAndGlyphs\" textLength=\"63\" x=\"595.5\" y=\"391.1543\">NullShape</text><line style=\"stroke: #A80036; stroke-width: 1.5;\" x1=\"567.5\" x2=\"660.5\" y1=\"403\" y2=\"403\"/><line style=\"stroke: #A80036; stroke-width: 1.5;\" x1=\"567.5\" x2=\"660.5\" y1=\"411\" y2=\"411\"/><path d=\"M274.96,99.132 C265.644,114.112 255.99,129.638 248.396,141.85 \" fill=\"none\" style=\"stroke: #A80036; stroke-width: 1.0;\"/><polygon fill=\"none\" points=\"269.091,95.314,285.597,82.027,280.98,102.707,269.091,95.314\" style=\"stroke: #A80036; stroke-width: 1.0;\"/><path d=\"M184.06,310.61 C150.176,330.3611 106.22,355.983 76.0243,373.5843 \" fill=\"none\" style=\"stroke: #A80036; stroke-width: 1.0; stroke-dasharray: 7.0,7.0;\"/><polygon fill=\"none\" points=\"180.892,304.354,201.696,300.33,187.942,316.449,180.892,304.354\" style=\"stroke: #A80036; stroke-width: 1.0;\"/><path d=\"M201.61,319.8561 C187.256,336.8551 170.846,356.2879 158.428,370.9933 \" fill=\"none\" style=\"stroke: #A80036; stroke-width: 1.0; stroke-dasharray: 7.0,7.0;\"/><polygon fill=\"none\" points=\"196.294,315.302,214.546,304.538,206.991,324.3344,196.294,315.302\" style=\"stroke: #A80036; stroke-width: 1.0;\"/><path d=\"M238.602,324.6449 C240.285,340.4205 242.123,357.6523 243.546,370.9933 \" fill=\"none\" style=\"stroke: #A80036; stroke-width: 1.0; stroke-dasharray: 7.0,7.0;\"/><polygon fill=\"none\" points=\"231.618,325.1672,236.457,304.538,245.539,323.6822,231.618,325.1672\" style=\"stroke: #A80036; stroke-width: 1.0;\"/><path d=\"M341.486,99.132 C350.928,114.112 360.713,129.638 368.41,141.85 \" fill=\"none\" style=\"stroke: #A80036; stroke-width: 1.0;\"/><polygon fill=\"none\" points=\"335.448,102.679,330.706,82.027,347.292,95.214,335.448,102.679\" style=\"stroke: #A80036; stroke-width: 1.0;\"/><path d=\"M378.15,331.1067 C376.803,344.8764 375.404,359.1847 374.281,370.6686 \" fill=\"none\" style=\"stroke: #A80036; stroke-width: 1.0; stroke-dasharray: 7.0,7.0;\"/><polygon fill=\"none\" points=\"371.197,330.2819,380.11,311.058,385.13,331.6444,371.197,330.2819\" style=\"stroke: #A80036; stroke-width: 1.0;\"/><path d=\"M426.311,325.7952 C441.301,341.1258 457.505,357.6986 470.187,370.6686 \" fill=\"none\" style=\"stroke: #A80036; stroke-width: 1.0; stroke-dasharray: 7.0,7.0;\"/><polygon fill=\"none\" points=\"420.879,330.252,411.901,311.058,430.889,320.4644,420.879,330.252\" style=\"stroke: #A80036; stroke-width: 1.0;\"/><path d=\"M437.166,307.88 C476.41,326.9918 528.961,352.5847 566.557,370.8944 \" fill=\"none\" style=\"stroke: #A80036; stroke-width: 1.0; stroke-dasharray: 7.0,7.0;\"/><polygon fill=\"none\" points=\"434.01,314.128,419.094,299.078,440.14,301.542,434.01,314.128\" style=\"stroke: #A80036; stroke-width: 1.0;\"/><path d=\"M234,190.038 C234,207.783 234,232.399 234,251.318 \" fill=\"none\" style=\"stroke: #A80036; stroke-width: 1.0; stroke-dasharray: 7.0,7.0;\"/><polygon fill=\"#A80036\" points=\"234,256.493,238,247.493,234,251.493,230,247.493,234,256.493\" style=\"stroke: #A80036; stroke-width: 1.0;\"/><path d=\"M264.512,190.038 C287.048,207.053 317.949,230.385 342.545,248.955 \" fill=\"none\" style=\"stroke: #A80036; stroke-width: 1.0; stroke-dasharray: 7.0,7.0;\"/><polygon fill=\"#A80036\" points=\"346.747,252.128,341.9736,243.5132,342.7563,249.1157,337.1538,249.8984,346.747,252.128\" style=\"stroke: #A80036; stroke-width: 1.0;\"/><path d=\"M352.488,190.038 C328.081,208.465 293.861,234.303 268.468,253.476 \" fill=\"none\" style=\"stroke: #A80036; stroke-width: 1.0; stroke-dasharray: 7.0,7.0;\"/><polygon fill=\"#A80036\" points=\"264.471,256.493,274.0638,254.2617,268.4612,253.48,269.243,247.8774,264.471,256.493\" style=\"stroke: #A80036; stroke-width: 1.0;\"/><path d=\"M383,190.038 C383,205.65 383,226.582 383,244.273 \" fill=\"none\" style=\"stroke: #A80036; stroke-width: 1.0; stroke-dasharray: 7.0,7.0;\"/><polygon fill=\"#A80036\" points=\"383,249.65,387,240.65,383,244.65,379,240.65,383,249.65\" style=\"stroke: #A80036; stroke-width: 1.0;\"/></g></svg>"
      ],
      "text/plain": [
       "<IPython.core.display.SVG object>"
      ]
     },
     "execution_count": 8,
     "metadata": {},
     "output_type": "execute_result"
    }
   ],
   "source": [
    "%%plantuml\n",
    "@startuml\n",
    "abstract class DrawingAbstractFactory {\n",
    "    abstract getColor(color:String):Color\n",
    "    abstract getShape(shape:String):Shape\n",
    "}\n",
    "DrawingAbstractFactory <|-- ColorFactory\n",
    "\n",
    "interface Color\n",
    "Color <|.. Green\n",
    "Color <|.. Red\n",
    "Color <|.. NullColor\n",
    "\n",
    "DrawingAbstractFactory <|-- ShapeFactory\n",
    "interface Shape {\n",
    "    show()\n",
    "}\n",
    "Shape <|.. Rectangle\n",
    "Shape <|.. Square\n",
    "Shape <|.. NullShape\n",
    "\n",
    "ColorFactory ..> Color\n",
    "ColorFactory ..> Shape\n",
    "ShapeFactory ..> Color\n",
    "ShapeFactory ..> Shape\n",
    "\n",
    "@enduml"
   ]
  },
  {
   "cell_type": "code",
   "execution_count": 9,
   "metadata": {
    "collapsed": false,
    "slideshow": {
     "slide_type": "subslide"
    }
   },
   "outputs": [
    {
     "data": {
      "image/svg+xml": [
       "<svg height=\"227px\" style=\"width:633px;height:227px;\" version=\"1.1\" viewBox=\"0 0 633 227\" width=\"633px\" xmlns=\"http://www.w3.org/2000/svg\" xmlns:xlink=\"http://www.w3.org/1999/xlink\"><defs><filter height=\"300%\" id=\"f1\" width=\"300%\" x=\"-1\" y=\"-1\"><feGaussianBlur result=\"blurOut\" stdDeviation=\"2.0\"/><feColorMatrix in=\"blurOut\" result=\"blurOut2\" type=\"matrix\" values=\"0 0 0 0 0 0 0 0 0 0 0 0 0 0 0 0 0 0 .4 0\"/><feOffset dx=\"4.0\" dy=\"4.0\" in=\"blurOut2\" result=\"blurOut3\"/><feBlend in=\"SourceGraphic\" in2=\"blurOut3\" mode=\"normal\"/></filter></defs><g><line style=\"stroke: #A80036; stroke-width: 1.0; stroke-dasharray: 5.0,5.0;\" x1=\"36\" x2=\"36\" y1=\"38.2969\" y2=\"188.8281\"/><line style=\"stroke: #A80036; stroke-width: 1.0; stroke-dasharray: 5.0,5.0;\" x1=\"165\" x2=\"165\" y1=\"38.2969\" y2=\"188.8281\"/><line style=\"stroke: #A80036; stroke-width: 1.0; stroke-dasharray: 5.0,5.0;\" x1=\"322\" x2=\"322\" y1=\"38.2969\" y2=\"188.8281\"/><line style=\"stroke: #A80036; stroke-width: 1.0; stroke-dasharray: 5.0,5.0;\" x1=\"419\" x2=\"419\" y1=\"38.2969\" y2=\"188.8281\"/><line style=\"stroke: #A80036; stroke-width: 1.0; stroke-dasharray: 5.0,5.0;\" x1=\"512\" x2=\"512\" y1=\"38.2969\" y2=\"188.8281\"/><line style=\"stroke: #A80036; stroke-width: 1.0; stroke-dasharray: 5.0,5.0;\" x1=\"601\" x2=\"601\" y1=\"38.2969\" y2=\"188.8281\"/><rect fill=\"#FEFECE\" filter=\"url(#f1)\" height=\"30.2969\" style=\"stroke: #A80036; stroke-width: 1.5;\" width=\"53\" x=\"8\" y=\"3\"/><text fill=\"#000000\" font-family=\"sans-serif\" font-size=\"14\" lengthAdjust=\"spacingAndGlyphs\" textLength=\"39\" x=\"15\" y=\"22.9951\">Client</text><rect fill=\"#FEFECE\" filter=\"url(#f1)\" height=\"30.2969\" style=\"stroke: #A80036; stroke-width: 1.5;\" width=\"53\" x=\"8\" y=\"187.8281\"/><text fill=\"#000000\" font-family=\"sans-serif\" font-size=\"14\" lengthAdjust=\"spacingAndGlyphs\" textLength=\"39\" x=\"15\" y=\"207.8232\">Client</text><rect fill=\"#FEFECE\" filter=\"url(#f1)\" height=\"30.2969\" style=\"stroke: #A80036; stroke-width: 1.5;\" width=\"177\" x=\"75\" y=\"3\"/><text fill=\"#000000\" font-family=\"sans-serif\" font-size=\"14\" lengthAdjust=\"spacingAndGlyphs\" textLength=\"163\" x=\"82\" y=\"22.9951\">DrawingAbstractFactory</text><rect fill=\"#FEFECE\" filter=\"url(#f1)\" height=\"30.2969\" style=\"stroke: #A80036; stroke-width: 1.5;\" width=\"177\" x=\"75\" y=\"187.8281\"/><text fill=\"#000000\" font-family=\"sans-serif\" font-size=\"14\" lengthAdjust=\"spacingAndGlyphs\" textLength=\"163\" x=\"82\" y=\"207.8232\">DrawingAbstractFactory</text><rect fill=\"#FEFECE\" filter=\"url(#f1)\" height=\"30.2969\" style=\"stroke: #A80036; stroke-width: 1.5;\" width=\"108\" x=\"266\" y=\"3\"/><text fill=\"#000000\" font-family=\"sans-serif\" font-size=\"14\" lengthAdjust=\"spacingAndGlyphs\" textLength=\"94\" x=\"273\" y=\"22.9951\">ShapeFactory</text><rect fill=\"#FEFECE\" filter=\"url(#f1)\" height=\"30.2969\" style=\"stroke: #A80036; stroke-width: 1.5;\" width=\"108\" x=\"266\" y=\"187.8281\"/><text fill=\"#000000\" font-family=\"sans-serif\" font-size=\"14\" lengthAdjust=\"spacingAndGlyphs\" textLength=\"94\" x=\"273\" y=\"207.8232\">ShapeFactory</text><rect fill=\"#FEFECE\" filter=\"url(#f1)\" height=\"30.2969\" style=\"stroke: #A80036; stroke-width: 1.5;\" width=\"58\" x=\"388\" y=\"3\"/><text fill=\"#000000\" font-family=\"sans-serif\" font-size=\"14\" lengthAdjust=\"spacingAndGlyphs\" textLength=\"44\" x=\"395\" y=\"22.9951\">Shape</text><rect fill=\"#FEFECE\" filter=\"url(#f1)\" height=\"30.2969\" style=\"stroke: #A80036; stroke-width: 1.5;\" width=\"58\" x=\"388\" y=\"187.8281\"/><text fill=\"#000000\" font-family=\"sans-serif\" font-size=\"14\" lengthAdjust=\"spacingAndGlyphs\" textLength=\"44\" x=\"395\" y=\"207.8232\">Shape</text><rect fill=\"#FEFECE\" filter=\"url(#f1)\" height=\"30.2969\" style=\"stroke: #A80036; stroke-width: 1.5;\" width=\"100\" x=\"460\" y=\"3\"/><text fill=\"#000000\" font-family=\"sans-serif\" font-size=\"14\" lengthAdjust=\"spacingAndGlyphs\" textLength=\"86\" x=\"467\" y=\"22.9951\">ColorFactory</text><rect fill=\"#FEFECE\" filter=\"url(#f1)\" height=\"30.2969\" style=\"stroke: #A80036; stroke-width: 1.5;\" width=\"100\" x=\"460\" y=\"187.8281\"/><text fill=\"#000000\" font-family=\"sans-serif\" font-size=\"14\" lengthAdjust=\"spacingAndGlyphs\" textLength=\"86\" x=\"467\" y=\"207.8232\">ColorFactory</text><rect fill=\"#FEFECE\" filter=\"url(#f1)\" height=\"30.2969\" style=\"stroke: #A80036; stroke-width: 1.5;\" width=\"50\" x=\"574\" y=\"3\"/><text fill=\"#000000\" font-family=\"sans-serif\" font-size=\"14\" lengthAdjust=\"spacingAndGlyphs\" textLength=\"36\" x=\"581\" y=\"22.9951\">Color</text><rect fill=\"#FEFECE\" filter=\"url(#f1)\" height=\"30.2969\" style=\"stroke: #A80036; stroke-width: 1.5;\" width=\"50\" x=\"574\" y=\"187.8281\"/><text fill=\"#000000\" font-family=\"sans-serif\" font-size=\"14\" lengthAdjust=\"spacingAndGlyphs\" textLength=\"36\" x=\"581\" y=\"207.8232\">Color</text><polygon fill=\"#A80036\" points=\"153.5,50.2969,163.5,54.2969,153.5,58.2969,157.5,54.2969\" style=\"stroke: #A80036; stroke-width: 1.0;\"/><line style=\"stroke: #A80036; stroke-width: 1.0;\" x1=\"36.5\" x2=\"159.5\" y1=\"54.2969\" y2=\"54.2969\"/><polygon fill=\"#A80036\" points=\"310,79.2969,320,83.2969,310,87.2969,314,83.2969\" style=\"stroke: #A80036; stroke-width: 1.0;\"/><line style=\"stroke: #A80036; stroke-width: 1.0;\" x1=\"36.5\" x2=\"316\" y1=\"83.2969\" y2=\"83.2969\"/><text fill=\"#000000\" font-family=\"sans-serif\" font-size=\"13\" lengthAdjust=\"spacingAndGlyphs\" textLength=\"72\" x=\"43.5\" y=\"78.3638\">getShape()</text><polygon fill=\"#A80036\" points=\"407,108.4297,417,112.4297,407,116.4297,411,112.4297\" style=\"stroke: #A80036; stroke-width: 1.0;\"/><line style=\"stroke: #A80036; stroke-width: 1.0;\" x1=\"36.5\" x2=\"413\" y1=\"112.4297\" y2=\"112.4297\"/><text fill=\"#000000\" font-family=\"sans-serif\" font-size=\"13\" lengthAdjust=\"spacingAndGlyphs\" textLength=\"42\" x=\"43.5\" y=\"107.4966\">show()</text><polygon fill=\"#A80036\" points=\"500,137.5625,510,141.5625,500,145.5625,504,141.5625\" style=\"stroke: #A80036; stroke-width: 1.0;\"/><line style=\"stroke: #A80036; stroke-width: 1.0;\" x1=\"36.5\" x2=\"506\" y1=\"141.5625\" y2=\"141.5625\"/><text fill=\"#000000\" font-family=\"sans-serif\" font-size=\"13\" lengthAdjust=\"spacingAndGlyphs\" textLength=\"66\" x=\"43.5\" y=\"136.6294\">getCOlor()</text><polygon fill=\"#A80036\" points=\"589,166.6953,599,170.6953,589,174.6953,593,170.6953\" style=\"stroke: #A80036; stroke-width: 1.0;\"/><line style=\"stroke: #A80036; stroke-width: 1.0;\" x1=\"36.5\" x2=\"595\" y1=\"170.6953\" y2=\"170.6953\"/><text fill=\"#000000\" font-family=\"sans-serif\" font-size=\"13\" lengthAdjust=\"spacingAndGlyphs\" textLength=\"23\" x=\"43.5\" y=\"165.7622\">fill()</text></g></svg>"
      ],
      "text/plain": [
       "<IPython.core.display.SVG object>"
      ]
     },
     "execution_count": 9,
     "metadata": {},
     "output_type": "execute_result"
    }
   ],
   "source": [
    "%%plantuml\n",
    "@startuml\n",
    "Client -> DrawingAbstractFactory\n",
    "Client -> ShapeFactory:getShape()\n",
    "Client -> Shape:show()\n",
    "Client -> ColorFactory:getCOlor()\n",
    "Client -> Color:fill()\n",
    "@enduml"
   ]
  },
  {
   "cell_type": "code",
   "execution_count": null,
   "metadata": {
    "collapsed": true,
    "slideshow": {
     "slide_type": "subslide"
    }
   },
   "outputs": [],
   "source": [
    "# %load src/com/sd/shapeaf/DrawingTest.java\n",
    "/*\n",
    "    @author: tutorialspoint modified\n",
    "    @version:v20151014\n",
    "    javac -d classes/ -sourcepath src/ src/headfirst/factory/shapeaf/*.java\n",
    "    java -cp classes/ com.sd.shapeaf.DrawingTest\n",
    "*/\n",
    "package com.sd.shapeaf;\n",
    "\n",
    "public class DrawingTest {\n",
    "    public static void main(String[] args) {\n",
    "        DrawingAbstractFactory factory=new ShapeFactory();\n",
    "        Shape s=factory.getShape(\"CIRCLE\");\n",
    "        s.show();\n",
    "        System.out.println(\"---NULL COLOR\");\n",
    "        Color c=factory.getColor(\"red\"); //ShapeFactory can not have Color\n",
    "        c.fill();\n",
    "        factory=new ColorFactory();\n",
    "        c=factory.getColor(\"red\");\n",
    "        c.fill();\n",
    "        System.out.println(\"---NULL SHAPE\");\n",
    "        s=factory.getShape(\"CIRCLE\"); //ColorFactory can not have Shape\n",
    "        s.show();\n",
    "    }\n",
    "}\n",
    "\n"
   ]
  },
  {
   "cell_type": "code",
   "execution_count": null,
   "metadata": {
    "collapsed": true,
    "slideshow": {
     "slide_type": "subslide"
    }
   },
   "outputs": [],
   "source": [
    "# %load src/com/sd/shapeaf/DrawingAbstractFactory.java\n",
    "package com.sd.shapeaf;\n",
    "\n",
    "public abstract class DrawingAbstractFactory {\n",
    "    abstract Color getColor(String color);\n",
    "    abstract Shape getShape(String shape);\n",
    "}\n"
   ]
  },
  {
   "cell_type": "code",
   "execution_count": null,
   "metadata": {
    "collapsed": true,
    "slideshow": {
     "slide_type": "subslide"
    }
   },
   "outputs": [],
   "source": [
    "# %load src/com/sd/shapeaf/ColorFactory.java\n",
    "package com.sd.shapeaf;\n",
    "\n",
    "public class ColorFactory extends DrawingAbstractFactory {\n",
    "    public Shape getShape(String shape) { return new NullShape(); }\n",
    "    public Color getColor(String color) {\n",
    "        Color s=null;\n",
    "        String str=color.toLowerCase();\n",
    "        System.out.println(\"getColor()\"+str);\n",
    "        if(str.equals(\"red\"))\n",
    "            s=new Red();\n",
    "        else if(str.equals(\"green\"))\n",
    "            s=new Green();\n",
    "        else if(str.equals(\"blue\"))\n",
    "            s=new Blue();\n",
    "        return s;\n",
    "    }\n",
    "}\n"
   ]
  },
  {
   "cell_type": "code",
   "execution_count": null,
   "metadata": {
    "collapsed": true,
    "slideshow": {
     "slide_type": "subslide"
    }
   },
   "outputs": [],
   "source": [
    "# %load src/com/sd/shapeaf/Red.java\n",
    "package com.sd.shapeaf;\n",
    "\n",
    "public class Red implements Color {\n",
    "    public void fill() {\n",
    "        System.out.println(\"filling with red color...\");\n",
    "    }\n",
    "}\n"
   ]
  },
  {
   "cell_type": "code",
   "execution_count": null,
   "metadata": {
    "collapsed": true,
    "slideshow": {
     "slide_type": "subslide"
    }
   },
   "outputs": [],
   "source": [
    "# %load src/com/sd/shapeaf/NullShape.java\n",
    "package com.sd.shapeaf;\n",
    "\n",
    "public class NullShape implements Shape {\n",
    "    public void show() {\n",
    "        System.out.println(\"showing null...\");\n",
    "    }\n",
    "}\n"
   ]
  }
 ],
 "metadata": {
  "celltoolbar": "Slideshow",
  "kernelspec": {
   "display_name": "Python 2",
   "language": "python",
   "name": "python2"
  },
  "language_info": {
   "codemirror_mode": {
    "name": "ipython",
    "version": 2
   },
   "file_extension": ".py",
   "mimetype": "text/x-python",
   "name": "python",
   "nbconvert_exporter": "python",
   "pygments_lexer": "ipython2",
   "version": "2.7.12"
  }
 },
 "nbformat": 4,
 "nbformat_minor": 0
}
