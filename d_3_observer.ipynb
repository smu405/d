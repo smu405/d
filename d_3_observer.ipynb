{
 "cells": [
  {
   "cell_type": "markdown",
   "metadata": {
    "slideshow": {
     "slide_type": "slide"
    }
   },
   "source": [
    "# Observer 패턴\n",
    "\n",
    "## O.1 소개\n",
    "\n",
    "* Observer 패턴은 Behavioral Design Pattern\n",
    "* 뉴스의 경우:\n",
    "    * 뉴스 사이트를 방문해서, 새로운 뉴스가 있는지 매 번 확인해야 하는 경우는 매우 번거롭다.\n",
    "    * 반면 새로운 뉴스가 발생하면, 구독자에게 알려주는 경우는 편리하다.\n",
    "* 호텔의 wake-up 알람 서비스의 경우:\n",
    "    * 아침에 깨워야 할 시간이 오면, 투숙객에게 wake-up call\n",
    "    * 일어날 시간을 확인하기 위해 깼다 잤다를 반복하는 것은 힘들다.\n",
    "* 전화번호를 보기 위해 마우스로 화면의 버튼을 누르는 경우:\n",
    "    * 버튼이 클릭되었는지 계속 확인해야 하는 경우는 프로세서가 바쁘게 된다.\n",
    "    * 버튼이 클릭된 이벤트가 발생한 경우, 알려주고 처리하는 방식이 낭비가 적다.\n",
    "* 'poll'은 그 서비스가 필요한 사용자가 지속적으로 문의를 해야 하는 것이고, 그 반대를 push라고 한다.\n",
    "* Observer 패턴은 'push'를 사용하며 절차는:\n",
    "    * 미리 사용자를 등록한다.\n",
    "    * 등록된 사용자에게 알려준다."
   ]
  },
  {
   "cell_type": "markdown",
   "metadata": {
    "slideshow": {
     "slide_type": "subslide"
    }
   },
   "source": [
    "* 디자인패턴 요소\n",
    "\n",
    "요소 | 설명\n",
    "---|---\n",
    "name | Observer\n",
    "problem | 1:n관계에서의 정보 갱신\n",
    "solution | 정보사용자를 등록하고, 정보가 변동하는 경우 알려줌.\n",
    "consequence | loose coupling, 확장성"
   ]
  },
  {
   "cell_type": "markdown",
   "metadata": {
    "slideshow": {
     "slide_type": "subslide"
    }
   },
   "source": [
    "* 프로그래밍 예제\n",
    "    * 날씨 알려주기 ('Weather', HFDP Ch2)\n",
    "    * 과제\n",
    "        * 날씨를 알려주기\n",
    "        * Turtle - 아기거북이가 어디로 가면, 엄마거북이가 다른 곳에 있더라도 쫓아 간다."
   ]
  },
  {
   "cell_type": "markdown",
   "metadata": {
    "slideshow": {
     "slide_type": "slide"
    }
   },
   "source": [
    "## O.2 문제\n",
    "\n",
    "* 정보공급자에 대해(정보공급자) 알고 싶어하는 다수의 사용자가 존재. 1:n 관계.\n",
    "* 정보 사용자가 늘어날수록, 알려주는 문제.\n",
    "* polling - 데이터를 원하는 측 (정보사용자)이 계속 묻는 경우, 비효율적이다.\n",
    "* 확장성 문제\n",
    "    * 사용자를 추가하거나, 해제하는 문제\n",
    "    * 정보를 갱신하는 방법이 바뀌면, 사용자에게 알려주는 방법도 변경되어야 한다.\n"
   ]
  },
  {
   "cell_type": "markdown",
   "metadata": {
    "slideshow": {
     "slide_type": "slide"
    }
   },
   "source": [
    "## O.3 설계\n",
    "\n",
    "* 인터페이스 분리 (ISP Interface Segregation Principle)\n",
    "* 구체적인 클래스 상속\n",
    "* 클라이언트는 구체클래스 보다는 추상적 클래스 사용\n",
    "* Subject\n",
    "    * Observable, Publisher\n",
    "    * 상태가 변경이 되면 알림 기능 (notify)\n",
    "    * 알림 대상이 되는 Observer를 사전에 등록 (register)\n",
    "* Observers\n",
    "    * Subscriber\n",
    "    * Subject의 상태가 변경이 되면 그 내용을 받아서 반영함 (update)\n",
    "\n",
    "* 효과\n",
    "    * 데이터를 원하는 display는 등록하고 기다린다\n",
    "    * 통화중이면 전화를 또 걸지 않고 '전화 자동발신'하고 다른 작업을 함"
   ]
  },
  {
   "cell_type": "code",
   "execution_count": 1,
   "metadata": {
    "collapsed": false,
    "slideshow": {
     "slide_type": "subslide"
    }
   },
   "outputs": [],
   "source": [
    "import iplantuml"
   ]
  },
  {
   "cell_type": "code",
   "execution_count": 2,
   "metadata": {
    "collapsed": false,
    "slideshow": {
     "slide_type": "-"
    }
   },
   "outputs": [
    {
     "data": {
      "image/svg+xml": [
       "<svg height=\"211px\" style=\"width:477px;height:211px;\" version=\"1.1\" viewBox=\"0 0 477 211\" width=\"477px\" xmlns=\"http://www.w3.org/2000/svg\" xmlns:xlink=\"http://www.w3.org/1999/xlink\"><defs><filter height=\"300%\" id=\"f1\" width=\"300%\" x=\"-1\" y=\"-1\"><feGaussianBlur result=\"blurOut\" stdDeviation=\"2.0\"/><feColorMatrix in=\"blurOut\" result=\"blurOut2\" type=\"matrix\" values=\"0 0 0 0 0 0 0 0 0 0 0 0 0 0 0 0 0 0 .4 0\"/><feOffset dx=\"4.0\" dy=\"4.0\" in=\"blurOut2\" result=\"blurOut3\"/><feBlend in=\"SourceGraphic\" in2=\"blurOut3\" mode=\"normal\"/></filter></defs><g><rect fill=\"#FEFECE\" filter=\"url(#f1)\" height=\"86.4141\" style=\"stroke: #A80036; stroke-width: 1.5;\" width=\"211\" x=\"6\" y=\"8\"/><ellipse cx=\"72.25\" cy=\"24\" fill=\"#ADD1B2\" rx=\"11\" ry=\"11\" style=\"stroke: #A80036; stroke-width: 1.0;\"/><path d=\"M75.2188,29.6406 Q74.6406,29.9375 74,30.0859 Q73.3594,30.2344 72.6563,30.2344 Q70.1563,30.2344 68.8359,28.5859 Q67.5156,26.9375 67.5156,23.8125 Q67.5156,20.6875 68.8359,19.0313 Q70.1563,17.375 72.6563,17.375 Q73.3594,17.375 74.0078,17.5313 Q74.6563,17.6875 75.2188,17.9844 L75.2188,20.7031 Q74.5938,20.125 74,19.8516 Q73.4063,19.5781 72.7813,19.5781 Q71.4375,19.5781 70.75,20.6484 Q70.0625,21.7188 70.0625,23.8125 Q70.0625,25.9063 70.75,26.9766 Q71.4375,28.0469 72.7813,28.0469 Q73.4063,28.0469 74,27.7734 Q74.5938,27.5 75.2188,26.9219 L75.2188,29.6406 Z \"/><text fill=\"#000000\" font-family=\"sans-serif\" font-size=\"12\" lengthAdjust=\"spacingAndGlyphs\" textLength=\"70\" x=\"92.75\" y=\"28.1543\">Observable</text><line style=\"stroke: #A80036; stroke-width: 1.5;\" x1=\"7\" x2=\"216\" y1=\"40\" y2=\"40\"/><line style=\"stroke: #A80036; stroke-width: 1.5;\" x1=\"7\" x2=\"216\" y1=\"48\" y2=\"48\"/><ellipse cx=\"17\" cy=\"59.9023\" fill=\"#84BE84\" rx=\"3\" ry=\"3\" style=\"stroke: #038048; stroke-width: 1.0;\"/><text fill=\"#000000\" font-family=\"sans-serif\" font-size=\"11\" lengthAdjust=\"spacingAndGlyphs\" textLength=\"149\" x=\"26\" y=\"62.2104\">addObserver(o:IObserver)</text><ellipse cx=\"17\" cy=\"72.707\" fill=\"#84BE84\" rx=\"3\" ry=\"3\" style=\"stroke: #038048; stroke-width: 1.0;\"/><text fill=\"#000000\" font-family=\"sans-serif\" font-size=\"11\" lengthAdjust=\"spacingAndGlyphs\" textLength=\"185\" x=\"26\" y=\"75.0151\">removeObserver(obs:IObserver)</text><ellipse cx=\"17\" cy=\"85.5117\" fill=\"#84BE84\" rx=\"3\" ry=\"3\" style=\"stroke: #038048; stroke-width: 1.0;\"/><text fill=\"#000000\" font-family=\"sans-serif\" font-size=\"11\" lengthAdjust=\"spacingAndGlyphs\" textLength=\"158\" x=\"26\" y=\"87.8198\">notifyObservers(arg:Object)</text><rect fill=\"#FEFECE\" filter=\"url(#f1)\" height=\"60.8047\" style=\"stroke: #A80036; stroke-width: 1.5;\" width=\"216\" x=\"252.5\" y=\"20.5\"/><ellipse cx=\"327.25\" cy=\"36.5\" fill=\"#B4A7E5\" rx=\"11\" ry=\"11\" style=\"stroke: #A80036; stroke-width: 1.0;\"/><path d=\"M323.1719,32.2656 L323.1719,30.1094 L330.5625,30.1094 L330.5625,32.2656 L328.0938,32.2656 L328.0938,40.3438 L330.5625,40.3438 L330.5625,42.5 L323.1719,42.5 L323.1719,40.3438 L325.6406,40.3438 L325.6406,32.2656 L323.1719,32.2656 Z \"/><text fill=\"#000000\" font-family=\"sans-serif\" font-size=\"12\" font-style=\"italic\" lengthAdjust=\"spacingAndGlyphs\" textLength=\"58\" x=\"347.75\" y=\"40.6543\">IObserver</text><line style=\"stroke: #A80036; stroke-width: 1.5;\" x1=\"253.5\" x2=\"467.5\" y1=\"52.5\" y2=\"52.5\"/><line style=\"stroke: #A80036; stroke-width: 1.5;\" x1=\"253.5\" x2=\"467.5\" y1=\"60.5\" y2=\"60.5\"/><ellipse cx=\"263.5\" cy=\"72.4023\" fill=\"#84BE84\" rx=\"3\" ry=\"3\" style=\"stroke: #038048; stroke-width: 1.0;\"/><text fill=\"#000000\" font-family=\"sans-serif\" font-size=\"11\" lengthAdjust=\"spacingAndGlyphs\" textLength=\"190\" x=\"272.5\" y=\"74.7104\">update(o:Observable, arg:Object)</text><rect fill=\"#FEFECE\" filter=\"url(#f1)\" height=\"48\" style=\"stroke: #A80036; stroke-width: 1.5;\" width=\"115\" x=\"54\" y=\"154\"/><ellipse cx=\"69\" cy=\"170\" fill=\"#ADD1B2\" rx=\"11\" ry=\"11\" style=\"stroke: #A80036; stroke-width: 1.0;\"/><path d=\"M71.9688,175.6406 Q71.3906,175.9375 70.75,176.0859 Q70.1094,176.2344 69.4063,176.2344 Q66.9063,176.2344 65.5859,174.5859 Q64.2656,172.9375 64.2656,169.8125 Q64.2656,166.6875 65.5859,165.0313 Q66.9063,163.375 69.4063,163.375 Q70.1094,163.375 70.7578,163.5313 Q71.4063,163.6875 71.9688,163.9844 L71.9688,166.7031 Q71.3438,166.125 70.75,165.8516 Q70.1563,165.5781 69.5313,165.5781 Q68.1875,165.5781 67.5,166.6484 Q66.8125,167.7188 66.8125,169.8125 Q66.8125,171.9063 67.5,172.9766 Q68.1875,174.0469 69.5313,174.0469 Q70.1563,174.0469 70.75,173.7734 Q71.3438,173.5 71.9688,172.9219 L71.9688,175.6406 Z \"/><text fill=\"#000000\" font-family=\"sans-serif\" font-size=\"12\" lengthAdjust=\"spacingAndGlyphs\" textLength=\"83\" x=\"83\" y=\"174.1543\">WeatherData</text><line style=\"stroke: #A80036; stroke-width: 1.5;\" x1=\"55\" x2=\"168\" y1=\"186\" y2=\"186\"/><line style=\"stroke: #A80036; stroke-width: 1.5;\" x1=\"55\" x2=\"168\" y1=\"194\" y2=\"194\"/><rect fill=\"#FEFECE\" filter=\"url(#f1)\" height=\"48\" style=\"stroke: #A80036; stroke-width: 1.5;\" width=\"216\" x=\"252.5\" y=\"154\"/><ellipse cx=\"267.5\" cy=\"170\" fill=\"#ADD1B2\" rx=\"11\" ry=\"11\" style=\"stroke: #A80036; stroke-width: 1.0;\"/><path d=\"M270.4688,175.6406 Q269.8906,175.9375 269.25,176.0859 Q268.6094,176.2344 267.9063,176.2344 Q265.4063,176.2344 264.0859,174.5859 Q262.7656,172.9375 262.7656,169.8125 Q262.7656,166.6875 264.0859,165.0313 Q265.4063,163.375 267.9063,163.375 Q268.6094,163.375 269.2578,163.5313 Q269.9063,163.6875 270.4688,163.9844 L270.4688,166.7031 Q269.8438,166.125 269.25,165.8516 Q268.6563,165.5781 268.0313,165.5781 Q266.6875,165.5781 266,166.6484 Q265.3125,167.7188 265.3125,169.8125 Q265.3125,171.9063 266,172.9766 Q266.6875,174.0469 268.0313,174.0469 Q268.6563,174.0469 269.25,173.7734 Q269.8438,173.5 270.4688,172.9219 L270.4688,175.6406 Z \"/><text fill=\"#000000\" font-family=\"sans-serif\" font-size=\"12\" lengthAdjust=\"spacingAndGlyphs\" textLength=\"184\" x=\"281.5\" y=\"174.1543\">BroadcastingCompanyDisplay</text><line style=\"stroke: #A80036; stroke-width: 1.5;\" x1=\"253.5\" x2=\"467.5\" y1=\"186\" y2=\"186\"/><line style=\"stroke: #A80036; stroke-width: 1.5;\" x1=\"253.5\" x2=\"467.5\" y1=\"194\" y2=\"194\"/><path d=\"M217.033,51 C227.055,51 237.077,51 247.099,51 \" fill=\"none\" style=\"stroke: #A80036; stroke-width: 1.0;\"/><polygon fill=\"#A80036\" points=\"252.339,51,243.339,47,247.339,51,243.339,55,252.339,51\" style=\"stroke: #A80036; stroke-width: 1.0;\"/><path d=\"M111.5,114.495 C111.5,128.489 111.5,142.4833 111.5,153.6717 \" fill=\"none\" style=\"stroke: #A80036; stroke-width: 1.0; stroke-dasharray: 7.0,7.0;\"/><polygon fill=\"none\" points=\"104.5001,114.3193,111.5,94.319,118.5,114.3193,104.5001,114.3193\" style=\"stroke: #A80036; stroke-width: 1.0;\"/><path d=\"M360.5,101.702 C360.5,119.7087 360.5,139.1961 360.5,153.8339 \" fill=\"none\" style=\"stroke: #A80036; stroke-width: 1.0; stroke-dasharray: 7.0,7.0;\"/><polygon fill=\"none\" points=\"353.5,101.623,360.5,81.623,367.5,101.623,353.5,101.623\" style=\"stroke: #A80036; stroke-width: 1.0;\"/></g></svg>"
      ],
      "text/plain": [
       "<IPython.core.display.SVG object>"
      ]
     },
     "execution_count": 2,
     "metadata": {},
     "output_type": "execute_result"
    }
   ],
   "source": [
    "%%plantuml\n",
    "\n",
    "@startuml\n",
    "\n",
    "Observable -right-> IObserver\n",
    "Observable <|.. WeatherData\n",
    "IObserver <|.. BroadcastingCompanyDisplay\n",
    "\n",
    "class Observable {\n",
    "    +addObserver(o:IObserver)\n",
    "    +removeObserver(obs:IObserver)\n",
    "    +notifyObservers(arg:Object)\n",
    "}\n",
    "\n",
    "Interface IObserver {\n",
    "    +update(o:Observable, arg:Object)\n",
    "}\n",
    "@enduml"
   ]
  },
  {
   "cell_type": "code",
   "execution_count": 2,
   "metadata": {
    "collapsed": false,
    "slideshow": {
     "slide_type": "subslide"
    }
   },
   "outputs": [
    {
     "data": {
      "image/svg+xml": [
       "<svg height=\"339px\" style=\"width:896px;height:339px;\" version=\"1.1\" viewBox=\"0 0 896 339\" width=\"896px\" xmlns=\"http://www.w3.org/2000/svg\" xmlns:xlink=\"http://www.w3.org/1999/xlink\"><defs><filter height=\"300%\" id=\"f1\" width=\"300%\" x=\"-1\" y=\"-1\"><feGaussianBlur result=\"blurOut\" stdDeviation=\"2.0\"/><feColorMatrix in=\"blurOut\" result=\"blurOut2\" type=\"matrix\" values=\"0 0 0 0 0 0 0 0 0 0 0 0 0 0 0 0 0 0 .4 0\"/><feOffset dx=\"4.0\" dy=\"4.0\" in=\"blurOut2\" result=\"blurOut3\"/><feBlend in=\"SourceGraphic\" in2=\"blurOut3\" mode=\"normal\"/></filter></defs><g><line style=\"stroke: #A80036; stroke-width: 1.0; stroke-dasharray: 5.0,5.0;\" x1=\"36\" x2=\"36\" y1=\"38.2969\" y2=\"301.4922\"/><line style=\"stroke: #A80036; stroke-width: 1.0; stroke-dasharray: 5.0,5.0;\" x1=\"220\" x2=\"220\" y1=\"38.2969\" y2=\"301.4922\"/><line style=\"stroke: #A80036; stroke-width: 1.0; stroke-dasharray: 5.0,5.0;\" x1=\"357.5\" x2=\"357.5\" y1=\"38.2969\" y2=\"301.4922\"/><line style=\"stroke: #A80036; stroke-width: 1.0; stroke-dasharray: 5.0,5.0;\" x1=\"444.5\" x2=\"444.5\" y1=\"38.2969\" y2=\"301.4922\"/><line style=\"stroke: #A80036; stroke-width: 1.0; stroke-dasharray: 5.0,5.0;\" x1=\"536.5\" x2=\"536.5\" y1=\"38.2969\" y2=\"301.4922\"/><rect fill=\"#FEFECE\" filter=\"url(#f1)\" height=\"30.2969\" style=\"stroke: #A80036; stroke-width: 1.5;\" width=\"53\" x=\"8\" y=\"3\"/><text fill=\"#000000\" font-family=\"sans-serif\" font-size=\"14\" lengthAdjust=\"spacingAndGlyphs\" textLength=\"39\" x=\"15\" y=\"22.9951\">Client</text><rect fill=\"#FEFECE\" filter=\"url(#f1)\" height=\"30.2969\" style=\"stroke: #A80036; stroke-width: 1.5;\" width=\"53\" x=\"8\" y=\"300.4922\"/><text fill=\"#000000\" font-family=\"sans-serif\" font-size=\"14\" lengthAdjust=\"spacingAndGlyphs\" textLength=\"39\" x=\"15\" y=\"320.4873\">Client</text><rect fill=\"#FEFECE\" filter=\"url(#f1)\" height=\"30.2969\" style=\"stroke: #A80036; stroke-width: 1.5;\" width=\"95\" x=\"171\" y=\"3\"/><text fill=\"#000000\" font-family=\"sans-serif\" font-size=\"14\" lengthAdjust=\"spacingAndGlyphs\" textLength=\"81\" x=\"178\" y=\"22.9951\">IObservable</text><rect fill=\"#FEFECE\" filter=\"url(#f1)\" height=\"30.2969\" style=\"stroke: #A80036; stroke-width: 1.5;\" width=\"95\" x=\"171\" y=\"300.4922\"/><text fill=\"#000000\" font-family=\"sans-serif\" font-size=\"14\" lengthAdjust=\"spacingAndGlyphs\" textLength=\"81\" x=\"178\" y=\"320.4873\">IObservable</text><rect fill=\"#FEFECE\" filter=\"url(#f1)\" height=\"30.2969\" style=\"stroke: #A80036; stroke-width: 1.5;\" width=\"66\" x=\"322.5\" y=\"3\"/><text fill=\"#000000\" font-family=\"sans-serif\" font-size=\"14\" lengthAdjust=\"spacingAndGlyphs\" textLength=\"52\" x=\"329.5\" y=\"22.9951\">Subject</text><rect fill=\"#FEFECE\" filter=\"url(#f1)\" height=\"30.2969\" style=\"stroke: #A80036; stroke-width: 1.5;\" width=\"66\" x=\"322.5\" y=\"300.4922\"/><text fill=\"#000000\" font-family=\"sans-serif\" font-size=\"14\" lengthAdjust=\"spacingAndGlyphs\" textLength=\"52\" x=\"329.5\" y=\"320.4873\">Subject</text><rect fill=\"#FEFECE\" filter=\"url(#f1)\" height=\"30.2969\" style=\"stroke: #A80036; stroke-width: 1.5;\" width=\"80\" x=\"402.5\" y=\"3\"/><text fill=\"#000000\" font-family=\"sans-serif\" font-size=\"14\" lengthAdjust=\"spacingAndGlyphs\" textLength=\"66\" x=\"409.5\" y=\"22.9951\">IObserver</text><rect fill=\"#FEFECE\" filter=\"url(#f1)\" height=\"30.2969\" style=\"stroke: #A80036; stroke-width: 1.5;\" width=\"80\" x=\"402.5\" y=\"300.4922\"/><text fill=\"#000000\" font-family=\"sans-serif\" font-size=\"14\" lengthAdjust=\"spacingAndGlyphs\" textLength=\"66\" x=\"409.5\" y=\"320.4873\">IObserver</text><rect fill=\"#FEFECE\" filter=\"url(#f1)\" height=\"30.2969\" style=\"stroke: #A80036; stroke-width: 1.5;\" width=\"77\" x=\"496.5\" y=\"3\"/><text fill=\"#000000\" font-family=\"sans-serif\" font-size=\"14\" lengthAdjust=\"spacingAndGlyphs\" textLength=\"63\" x=\"503.5\" y=\"22.9951\">Observer</text><rect fill=\"#FEFECE\" filter=\"url(#f1)\" height=\"30.2969\" style=\"stroke: #A80036; stroke-width: 1.5;\" width=\"77\" x=\"496.5\" y=\"300.4922\"/><text fill=\"#000000\" font-family=\"sans-serif\" font-size=\"14\" lengthAdjust=\"spacingAndGlyphs\" textLength=\"63\" x=\"503.5\" y=\"320.4873\">Observer</text><polygon fill=\"#A80036\" points=\"432.5,65.2969,442.5,69.2969,432.5,73.2969,436.5,69.2969\" style=\"stroke: #A80036; stroke-width: 1.0;\"/><line style=\"stroke: #A80036; stroke-width: 1.0;\" x1=\"36.5\" x2=\"438.5\" y1=\"69.2969\" y2=\"69.2969\"/><text fill=\"#000000\" font-family=\"sans-serif\" font-size=\"13\" font-weight=\"bold\" lengthAdjust=\"spacingAndGlyphs\" textLength=\"9\" x=\"43.5\" y=\"64.3638\">1</text><text fill=\"#000000\" font-family=\"sans-serif\" font-size=\"13\" lengthAdjust=\"spacingAndGlyphs\" textLength=\"69\" x=\"56.5\" y=\"64.3638\">obs=new()</text><polygon fill=\"#A80036\" points=\"208.5,94.4297,218.5,98.4297,208.5,102.4297,212.5,98.4297\" style=\"stroke: #A80036; stroke-width: 1.0;\"/><line style=\"stroke: #A80036; stroke-width: 1.0;\" x1=\"36.5\" x2=\"214.5\" y1=\"98.4297\" y2=\"98.4297\"/><text fill=\"#000000\" font-family=\"sans-serif\" font-size=\"13\" font-weight=\"bold\" lengthAdjust=\"spacingAndGlyphs\" textLength=\"9\" x=\"43.5\" y=\"93.4966\">2</text><text fill=\"#000000\" font-family=\"sans-serif\" font-size=\"13\" lengthAdjust=\"spacingAndGlyphs\" textLength=\"147\" x=\"56.5\" y=\"93.4966\">registerObservers(obs)</text><polygon fill=\"#A80036\" points=\"208.5,123.5625,218.5,127.5625,208.5,131.5625,212.5,127.5625\" style=\"stroke: #A80036; stroke-width: 1.0;\"/><line style=\"stroke: #A80036; stroke-width: 1.0;\" x1=\"36.5\" x2=\"214.5\" y1=\"127.5625\" y2=\"127.5625\"/><text fill=\"#000000\" font-family=\"sans-serif\" font-size=\"13\" font-weight=\"bold\" lengthAdjust=\"spacingAndGlyphs\" textLength=\"9\" x=\"43.5\" y=\"122.6294\">3</text><text fill=\"#000000\" font-family=\"sans-serif\" font-size=\"13\" lengthAdjust=\"spacingAndGlyphs\" textLength=\"87\" x=\"56.5\" y=\"122.6294\">setChanged()</text><line style=\"stroke: #A80036; stroke-width: 1.0;\" x1=\"220.5\" x2=\"262.5\" y1=\"156.8281\" y2=\"156.8281\"/><line style=\"stroke: #A80036; stroke-width: 1.0;\" x1=\"262.5\" x2=\"262.5\" y1=\"156.8281\" y2=\"169.8281\"/><line style=\"stroke: #A80036; stroke-width: 1.0;\" x1=\"221.5\" x2=\"262.5\" y1=\"169.8281\" y2=\"169.8281\"/><polygon fill=\"#A80036\" points=\"231.5,165.8281,221.5,169.8281,231.5,173.8281,227.5,169.8281\" style=\"stroke: #A80036; stroke-width: 1.0;\"/><text fill=\"#000000\" font-family=\"sans-serif\" font-size=\"13\" font-weight=\"bold\" lengthAdjust=\"spacingAndGlyphs\" textLength=\"9\" x=\"227.5\" y=\"151.7622\">4</text><text fill=\"#000000\" font-family=\"sans-serif\" font-size=\"13\" lengthAdjust=\"spacingAndGlyphs\" textLength=\"110\" x=\"240.5\" y=\"151.7622\">notifyObservers()</text><polygon fill=\"#A80036\" points=\"432.5,194.8281,442.5,198.8281,432.5,202.8281,436.5,198.8281\" style=\"stroke: #A80036; stroke-width: 1.0;\"/><line style=\"stroke: #A80036; stroke-width: 1.0;\" x1=\"220.5\" x2=\"438.5\" y1=\"198.8281\" y2=\"198.8281\"/><text fill=\"#000000\" font-family=\"sans-serif\" font-size=\"13\" font-weight=\"bold\" lengthAdjust=\"spacingAndGlyphs\" textLength=\"9\" x=\"227.5\" y=\"193.895\">5</text><text fill=\"#000000\" font-family=\"sans-serif\" font-size=\"13\" lengthAdjust=\"spacingAndGlyphs\" textLength=\"55\" x=\"240.5\" y=\"193.895\">update()</text><polygon fill=\"#A80036\" points=\"368.5,251.6602,358.5,255.6602,368.5,259.6602,364.5,255.6602\" style=\"stroke: #A80036; stroke-width: 1.0;\"/><line style=\"stroke: #A80036; stroke-width: 1.0;\" x1=\"362.5\" x2=\"536\" y1=\"255.6602\" y2=\"255.6602\"/><text fill=\"#000000\" font-family=\"sans-serif\" font-size=\"13\" font-weight=\"bold\" lengthAdjust=\"spacingAndGlyphs\" textLength=\"9\" x=\"374.5\" y=\"250.7271\">6</text><text fill=\"#000000\" font-family=\"sans-serif\" font-size=\"13\" lengthAdjust=\"spacingAndGlyphs\" textLength=\"62\" x=\"387.5\" y=\"250.7271\">getData()</text><polygon fill=\"#FBFB77\" filter=\"url(#f1)\" points=\"542,211.9609,542,281.9609,887,281.9609,887,221.9609,877,211.9609,542,211.9609\" style=\"stroke: #A80036; stroke-width: 1.0;\"/><line style=\"stroke: #A80036; stroke-width: 1.0;\" x1=\"877\" x2=\"877\" y1=\"211.9609\" y2=\"221.9609\"/><line style=\"stroke: #A80036; stroke-width: 1.0;\" x1=\"887\" x2=\"877\" y1=\"221.9609\" y2=\"221.9609\"/><text fill=\"#000000\" font-family=\"sans-serif\" font-size=\"13\" lengthAdjust=\"spacingAndGlyphs\" textLength=\"324\" x=\"548\" y=\"229.0278\">Intefaces do not appear on the sequence diagram.</text><text fill=\"#000000\" font-family=\"sans-serif\" font-size=\"13\" lengthAdjust=\"spacingAndGlyphs\" textLength=\"272\" x=\"548\" y=\"244.1606\">For an eudcation purpose, they are shown.</text><text fill=\"#000000\" font-family=\"sans-serif\" font-size=\"13\" lengthAdjust=\"spacingAndGlyphs\" textLength=\"180\" x=\"548\" y=\"259.2935\">getData() may not be called</text><text fill=\"#000000\" font-family=\"sans-serif\" font-size=\"13\" lengthAdjust=\"spacingAndGlyphs\" textLength=\"295\" x=\"548\" y=\"274.4263\">in case parameters are passed onto update().</text></g></svg>"
      ],
      "text/plain": [
       "<IPython.core.display.SVG object>"
      ]
     },
     "execution_count": 2,
     "metadata": {},
     "output_type": "execute_result"
    }
   ],
   "source": [
    "%%plantuml\n",
    "\n",
    "@startuml\n",
    "participant Client\n",
    "participant IObservable\n",
    "participant Subject\n",
    "participant IObserver\n",
    "participant Observer\n",
    "\n",
    "autonumber\n",
    "Client -> IObserver:obs=new()\n",
    "Client -> IObservable:registerObservers(obs)\n",
    "Client -> IObservable:setChanged()\n",
    "IObservable -> IObservable:notifyObservers()\n",
    "IObservable -> IObserver:update()\n",
    "Observer -> Subject:getData()\n",
    "\n",
    "note right\n",
    "    Intefaces do not appear on the sequence diagram.\n",
    "    For an eudcation purpose, they are shown.\n",
    "    getData() may not be called\n",
    "    in case parameters are passed onto update().\n",
    "end note\n",
    "\n",
    "@enduml"
   ]
  },
  {
   "cell_type": "markdown",
   "metadata": {
    "slideshow": {
     "slide_type": "slide"
    }
   },
   "source": [
    "## O.4 사례\n",
    "\n",
    "### O.4.1 면적 계산\n",
    "\n",
    "\n",
    "* JButton은 Observable\n",
    "* JButton이 ActionListener를 Observer로 등록\n",
    "* JButton에 버튼 클릭 event가 발생하면, ActionEvent를 생성하고 ActionListener가 사용\n",
    "\n",
    "```\n",
    "public ActionEvent(Object source, int id, String command)\n",
    "```"
   ]
  },
  {
   "cell_type": "code",
   "execution_count": 4,
   "metadata": {
    "collapsed": false,
    "slideshow": {
     "slide_type": "subslide"
    }
   },
   "outputs": [
    {
     "data": {
      "image/svg+xml": [
       "<svg height=\"548px\" style=\"width:865px;height:548px;\" version=\"1.1\" viewBox=\"0 0 865 548\" width=\"865px\" xmlns=\"http://www.w3.org/2000/svg\" xmlns:xlink=\"http://www.w3.org/1999/xlink\"><defs><filter height=\"300%\" id=\"f1\" width=\"300%\" x=\"-1\" y=\"-1\"><feGaussianBlur result=\"blurOut\" stdDeviation=\"2.0\"/><feColorMatrix in=\"blurOut\" result=\"blurOut2\" type=\"matrix\" values=\"0 0 0 0 0 0 0 0 0 0 0 0 0 0 0 0 0 0 .4 0\"/><feOffset dx=\"4.0\" dy=\"4.0\" in=\"blurOut2\" result=\"blurOut3\"/><feBlend in=\"SourceGraphic\" in2=\"blurOut3\" mode=\"normal\"/></filter></defs><g><polygon fill=\"#FFFFFF\" filter=\"url(#f1)\" points=\"541,24,607,24,614,46.2969,858,46.2969,858,136,541,136,541,24\" style=\"stroke: #000000; stroke-width: 2.0;\"/><line style=\"stroke: #000000; stroke-width: 2.0;\" x1=\"541\" x2=\"614\" y1=\"46.2969\" y2=\"46.2969\"/><text fill=\"#000000\" font-family=\"sans-serif\" font-size=\"14\" font-weight=\"bold\" lengthAdjust=\"spacingAndGlyphs\" textLength=\"60\" x=\"545\" y=\"38.9951\">java.util</text><polygon fill=\"#FFFFFF\" filter=\"url(#f1)\" points=\"517,295.5,638,295.5,645,317.7969,767,317.7969,767,541,517,541,517,295.5\" style=\"stroke: #000000; stroke-width: 2.0;\"/><line style=\"stroke: #000000; stroke-width: 2.0;\" x1=\"517\" x2=\"645\" y1=\"317.7969\" y2=\"317.7969\"/><text fill=\"#000000\" font-family=\"sans-serif\" font-size=\"14\" font-weight=\"bold\" lengthAdjust=\"spacingAndGlyphs\" textLength=\"115\" x=\"521\" y=\"310.4951\">java.awt.event</text><polygon fill=\"#FFFFFF\" filter=\"url(#f1)\" points=\"563,160,634,160,641,182.2969,687,182.2969,687,259,563,259,563,160\" style=\"stroke: #000000; stroke-width: 2.0;\"/><line style=\"stroke: #000000; stroke-width: 2.0;\" x1=\"563\" x2=\"641\" y1=\"182.2969\" y2=\"182.2969\"/><text fill=\"#000000\" font-family=\"sans-serif\" font-size=\"14\" font-weight=\"bold\" lengthAdjust=\"spacingAndGlyphs\" textLength=\"65\" x=\"567\" y=\"174.9951\">java.awt</text><polygon fill=\"#FFFFFF\" filter=\"url(#f1)\" points=\"187,283,285,283,292,305.2969,493,305.2969,493,534.5,187,534.5,187,283\" style=\"stroke: #000000; stroke-width: 2.0;\"/><line style=\"stroke: #000000; stroke-width: 2.0;\" x1=\"187\" x2=\"292\" y1=\"305.2969\" y2=\"305.2969\"/><text fill=\"#000000\" font-family=\"sans-serif\" font-size=\"14\" font-weight=\"bold\" lengthAdjust=\"spacingAndGlyphs\" textLength=\"92\" x=\"191\" y=\"297.9951\">javax.swing</text><rect fill=\"#FEFECE\" filter=\"url(#f1)\" height=\"48\" style=\"stroke: #A80036; stroke-width: 1.5;\" width=\"117\" x=\"724.5\" y=\"65.5\"/><ellipse cx=\"739.5\" cy=\"81.5\" fill=\"#B4A7E5\" rx=\"11\" ry=\"11\" style=\"stroke: #A80036; stroke-width: 1.0;\"/><path d=\"M735.4219,77.2656 L735.4219,75.1094 L742.8125,75.1094 L742.8125,77.2656 L740.3438,77.2656 L740.3438,85.3438 L742.8125,85.3438 L742.8125,87.5 L735.4219,87.5 L735.4219,85.3438 L737.8906,85.3438 L737.8906,77.2656 L735.4219,77.2656 Z \"/><text fill=\"#000000\" font-family=\"sans-serif\" font-size=\"12\" font-style=\"italic\" lengthAdjust=\"spacingAndGlyphs\" textLength=\"85\" x=\"753.5\" y=\"85.6543\">EventListener</text><line style=\"stroke: #A80036; stroke-width: 1.5;\" x1=\"725.5\" x2=\"840.5\" y1=\"97.5\" y2=\"97.5\"/><line style=\"stroke: #A80036; stroke-width: 1.5;\" x1=\"725.5\" x2=\"840.5\" y1=\"105.5\" y2=\"105.5\"/><rect fill=\"#FEFECE\" filter=\"url(#f1)\" height=\"60.8047\" style=\"stroke: #A80036; stroke-width: 1.5;\" width=\"132\" x=\"557\" y=\"59\"/><ellipse cx=\"583.25\" cy=\"75\" fill=\"#ADD1B2\" rx=\"11\" ry=\"11\" style=\"stroke: #A80036; stroke-width: 1.0;\"/><path d=\"M586.2188,80.6406 Q585.6406,80.9375 585,81.0859 Q584.3594,81.2344 583.6563,81.2344 Q581.1563,81.2344 579.8359,79.5859 Q578.5156,77.9375 578.5156,74.8125 Q578.5156,71.6875 579.8359,70.0313 Q581.1563,68.375 583.6563,68.375 Q584.3594,68.375 585.0078,68.5313 Q585.6563,68.6875 586.2188,68.9844 L586.2188,71.7031 Q585.5938,71.125 585,70.8516 Q584.4063,70.5781 583.7813,70.5781 Q582.4375,70.5781 581.75,71.6484 Q581.0625,72.7188 581.0625,74.8125 Q581.0625,76.9063 581.75,77.9766 Q582.4375,79.0469 583.7813,79.0469 Q584.4063,79.0469 585,78.7734 Q585.5938,78.5 586.2188,77.9219 L586.2188,80.6406 Z \"/><text fill=\"#000000\" font-family=\"sans-serif\" font-size=\"12\" lengthAdjust=\"spacingAndGlyphs\" textLength=\"75\" x=\"599.75\" y=\"79.1543\">EventObject</text><line style=\"stroke: #A80036; stroke-width: 1.5;\" x1=\"558\" x2=\"688\" y1=\"91\" y2=\"91\"/><line style=\"stroke: #A80036; stroke-width: 1.5;\" x1=\"558\" x2=\"688\" y1=\"99\" y2=\"99\"/><ellipse cx=\"568\" cy=\"110.9023\" fill=\"#84BE84\" rx=\"3\" ry=\"3\" style=\"stroke: #038048; stroke-width: 1.0;\"/><text fill=\"#000000\" font-family=\"sans-serif\" font-size=\"11\" lengthAdjust=\"spacingAndGlyphs\" textLength=\"106\" x=\"577\" y=\"113.2104\">getSoruce():Object</text><rect fill=\"#FEFECE\" filter=\"url(#f1)\" height=\"60.8047\" style=\"stroke: #A80036; stroke-width: 1.5;\" width=\"217\" x=\"533.5\" y=\"464\"/><ellipse cx=\"593.25\" cy=\"480\" fill=\"#B4A7E5\" rx=\"11\" ry=\"11\" style=\"stroke: #A80036; stroke-width: 1.0;\"/><path d=\"M589.1719,475.7656 L589.1719,473.6094 L596.5625,473.6094 L596.5625,475.7656 L594.0938,475.7656 L594.0938,483.8438 L596.5625,483.8438 L596.5625,486 L589.1719,486 L589.1719,483.8438 L591.6406,483.8438 L591.6406,475.7656 L589.1719,475.7656 Z \"/><text fill=\"#000000\" font-family=\"sans-serif\" font-size=\"12\" font-style=\"italic\" lengthAdjust=\"spacingAndGlyphs\" textLength=\"89\" x=\"613.75\" y=\"484.1543\">ActionListener</text><line style=\"stroke: #A80036; stroke-width: 1.5;\" x1=\"534.5\" x2=\"749.5\" y1=\"496\" y2=\"496\"/><line style=\"stroke: #A80036; stroke-width: 1.5;\" x1=\"534.5\" x2=\"749.5\" y1=\"504\" y2=\"504\"/><text fill=\"#000000\" font-family=\"sans-serif\" font-size=\"11\" lengthAdjust=\"spacingAndGlyphs\" textLength=\"205\" x=\"539.5\" y=\"518.2104\">actionPerformed(e:ActionEvent):void</text><rect fill=\"#FEFECE\" filter=\"url(#f1)\" height=\"60.8047\" style=\"stroke: #A80036; stroke-width: 1.5;\" width=\"182\" x=\"542\" y=\"330.5\"/><ellipse cx=\"591.75\" cy=\"346.5\" fill=\"#ADD1B2\" rx=\"11\" ry=\"11\" style=\"stroke: #A80036; stroke-width: 1.0;\"/><path d=\"M594.7188,352.1406 Q594.1406,352.4375 593.5,352.5859 Q592.8594,352.7344 592.1563,352.7344 Q589.6563,352.7344 588.3359,351.0859 Q587.0156,349.4375 587.0156,346.3125 Q587.0156,343.1875 588.3359,341.5313 Q589.6563,339.875 592.1563,339.875 Q592.8594,339.875 593.5078,340.0313 Q594.1563,340.1875 594.7188,340.4844 L594.7188,343.2031 Q594.0938,342.625 593.5,342.3516 Q592.9063,342.0781 592.2813,342.0781 Q590.9375,342.0781 590.25,343.1484 Q589.5625,344.2188 589.5625,346.3125 Q589.5625,348.4063 590.25,349.4766 Q590.9375,350.5469 592.2813,350.5469 Q592.9063,350.5469 593.5,350.2734 Q594.0938,350 594.7188,349.4219 L594.7188,352.1406 Z \"/><text fill=\"#000000\" font-family=\"sans-serif\" font-size=\"12\" lengthAdjust=\"spacingAndGlyphs\" textLength=\"74\" x=\"612.25\" y=\"350.6543\">ActionEvent</text><line style=\"stroke: #A80036; stroke-width: 1.5;\" x1=\"543\" x2=\"723\" y1=\"362.5\" y2=\"362.5\"/><line style=\"stroke: #A80036; stroke-width: 1.5;\" x1=\"543\" x2=\"723\" y1=\"370.5\" y2=\"370.5\"/><ellipse cx=\"553\" cy=\"382.4023\" fill=\"#84BE84\" rx=\"3\" ry=\"3\" style=\"stroke: #038048; stroke-width: 1.0;\"/><text fill=\"#000000\" font-family=\"sans-serif\" font-size=\"11\" lengthAdjust=\"spacingAndGlyphs\" textLength=\"156\" x=\"562\" y=\"384.7104\">getActionCommand():String</text><rect fill=\"#FEFECE\" filter=\"url(#f1)\" height=\"48\" style=\"stroke: #A80036; stroke-width: 1.5;\" width=\"93\" x=\"578.5\" y=\"195\"/><ellipse cx=\"593.5\" cy=\"211\" fill=\"#ADD1B2\" rx=\"11\" ry=\"11\" style=\"stroke: #A80036; stroke-width: 1.0;\"/><path d=\"M596.4688,216.6406 Q595.8906,216.9375 595.25,217.0859 Q594.6094,217.2344 593.9063,217.2344 Q591.4063,217.2344 590.0859,215.5859 Q588.7656,213.9375 588.7656,210.8125 Q588.7656,207.6875 590.0859,206.0313 Q591.4063,204.375 593.9063,204.375 Q594.6094,204.375 595.2578,204.5313 Q595.9063,204.6875 596.4688,204.9844 L596.4688,207.7031 Q595.8438,207.125 595.25,206.8516 Q594.6563,206.5781 594.0313,206.5781 Q592.6875,206.5781 592,207.6484 Q591.3125,208.7188 591.3125,210.8125 Q591.3125,212.9063 592,213.9766 Q592.6875,215.0469 594.0313,215.0469 Q594.6563,215.0469 595.25,214.7734 Q595.8438,214.5 596.4688,213.9219 L596.4688,216.6406 Z \"/><text fill=\"#000000\" font-family=\"sans-serif\" font-size=\"12\" lengthAdjust=\"spacingAndGlyphs\" textLength=\"61\" x=\"607.5\" y=\"215.1543\">AWTEvent</text><line style=\"stroke: #A80036; stroke-width: 1.5;\" x1=\"579.5\" x2=\"670.5\" y1=\"227\" y2=\"227\"/><line style=\"stroke: #A80036; stroke-width: 1.5;\" x1=\"579.5\" x2=\"670.5\" y1=\"235\" y2=\"235\"/><rect fill=\"#FEFECE\" filter=\"url(#f1)\" height=\"86.4141\" style=\"stroke: #A80036; stroke-width: 1.5;\" width=\"274\" x=\"203\" y=\"318\"/><ellipse cx=\"288.25\" cy=\"334\" fill=\"#ADD1B2\" rx=\"11\" ry=\"11\" style=\"stroke: #A80036; stroke-width: 1.0;\"/><path d=\"M291.2188,339.6406 Q290.6406,339.9375 290,340.0859 Q289.3594,340.2344 288.6563,340.2344 Q286.1563,340.2344 284.8359,338.5859 Q283.5156,336.9375 283.5156,333.8125 Q283.5156,330.6875 284.8359,329.0313 Q286.1563,327.375 288.6563,327.375 Q289.3594,327.375 290.0078,327.5313 Q290.6563,327.6875 291.2188,327.9844 L291.2188,330.7031 Q290.5938,330.125 290,329.8516 Q289.4063,329.5781 288.7813,329.5781 Q287.4375,329.5781 286.75,330.6484 Q286.0625,331.7188 286.0625,333.8125 Q286.0625,335.9063 286.75,336.9766 Q287.4375,338.0469 288.7813,338.0469 Q289.4063,338.0469 290,337.7734 Q290.5938,337.5 291.2188,336.9219 L291.2188,339.6406 Z \"/><text fill=\"#000000\" font-family=\"sans-serif\" font-size=\"12\" lengthAdjust=\"spacingAndGlyphs\" textLength=\"95\" x=\"308.75\" y=\"338.1543\">AbstractButton</text><line style=\"stroke: #A80036; stroke-width: 1.5;\" x1=\"204\" x2=\"476\" y1=\"350\" y2=\"350\"/><line style=\"stroke: #A80036; stroke-width: 1.5;\" x1=\"204\" x2=\"476\" y1=\"358\" y2=\"358\"/><ellipse cx=\"214\" cy=\"369.9023\" fill=\"#84BE84\" rx=\"3\" ry=\"3\" style=\"stroke: #038048; stroke-width: 1.0;\"/><text fill=\"#000000\" font-family=\"sans-serif\" font-size=\"11\" lengthAdjust=\"spacingAndGlyphs\" textLength=\"223\" x=\"223\" y=\"372.2104\">addActionListener(l:ActionListener):void</text><ellipse cx=\"214\" cy=\"382.707\" fill=\"#84BE84\" rx=\"3\" ry=\"3\" style=\"stroke: #038048; stroke-width: 1.0;\"/><text fill=\"#000000\" font-family=\"sans-serif\" font-size=\"11\" lengthAdjust=\"spacingAndGlyphs\" textLength=\"75\" x=\"223\" y=\"385.0151\">doClick():void</text><polygon fill=\"#FFFF44\" points=\"214,390.5117,218,394.5117,214,398.5117,210,394.5117\" style=\"stroke: #B38D22; stroke-width: 1.0;\"/><text fill=\"#000000\" font-family=\"sans-serif\" font-size=\"11\" lengthAdjust=\"spacingAndGlyphs\" textLength=\"248\" x=\"223\" y=\"397.8198\">fireActionPerformed(event:ActionEvent):void</text><rect fill=\"#FEFECE\" filter=\"url(#f1)\" height=\"48\" style=\"stroke: #A80036; stroke-width: 1.5;\" width=\"77\" x=\"252.5\" y=\"470.5\"/><ellipse cx=\"267.5\" cy=\"486.5\" fill=\"#ADD1B2\" rx=\"11\" ry=\"11\" style=\"stroke: #A80036; stroke-width: 1.0;\"/><path d=\"M270.4688,492.1406 Q269.8906,492.4375 269.25,492.5859 Q268.6094,492.7344 267.9063,492.7344 Q265.4063,492.7344 264.0859,491.0859 Q262.7656,489.4375 262.7656,486.3125 Q262.7656,483.1875 264.0859,481.5313 Q265.4063,479.875 267.9063,479.875 Q268.6094,479.875 269.2578,480.0313 Q269.9063,480.1875 270.4688,480.4844 L270.4688,483.2031 Q269.8438,482.625 269.25,482.3516 Q268.6563,482.0781 268.0313,482.0781 Q266.6875,482.0781 266,483.1484 Q265.3125,484.2188 265.3125,486.3125 Q265.3125,488.4063 266,489.4766 Q266.6875,490.5469 268.0313,490.5469 Q268.6563,490.5469 269.25,490.2734 Q269.8438,490 270.4688,489.4219 L270.4688,492.1406 Z \"/><text fill=\"#000000\" font-family=\"sans-serif\" font-size=\"12\" lengthAdjust=\"spacingAndGlyphs\" textLength=\"45\" x=\"281.5\" y=\"490.6543\">JButton</text><line style=\"stroke: #A80036; stroke-width: 1.5;\" x1=\"253.5\" x2=\"328.5\" y1=\"502.5\" y2=\"502.5\"/><line style=\"stroke: #A80036; stroke-width: 1.5;\" x1=\"253.5\" x2=\"328.5\" y1=\"510.5\" y2=\"510.5\"/><polygon fill=\"#FBFB77\" filter=\"url(#f1)\" points=\"6,348.5,6,373.6328,168,373.6328,168,358.5,158,348.5,6,348.5\" style=\"stroke: #A80036; stroke-width: 1.0;\"/><polygon fill=\"#FBFB77\" points=\"6,348.5,6,373.6328,101.1036,373.6328,255.307,470.4922,109.1036,373.6328,168,373.6328,168,358.5,158,348.5,6,348.5\" style=\"stroke: #A80036; stroke-width: 1.0;\"/><line style=\"stroke: #A80036; stroke-width: 1.0;\" x1=\"158\" x2=\"158\" y1=\"348.5\" y2=\"358.5\"/><line style=\"stroke: #A80036; stroke-width: 1.0;\" x1=\"168\" x2=\"158\" y1=\"358.5\" y2=\"358.5\"/><text fill=\"#000000\" font-family=\"sans-serif\" font-size=\"13\" lengthAdjust=\"spacingAndGlyphs\" textLength=\"141\" x=\"12\" y=\"365.5669\">This is an 'Observable'</text><path d=\"M786.501,134.032 C789.638,197.316 788.06,316.68 742,404 C729.39,427.905 707.676,448.522 687.697,463.9234 \" fill=\"none\" style=\"stroke: #A80036; stroke-width: 1.0; stroke-dasharray: 7.0,7.0;\"/><polygon fill=\"none\" points=\"779.496,134.173,785.233,113.775,793.469,133.298,779.496,134.173\" style=\"stroke: #A80036; stroke-width: 1.0;\"/><path d=\"M623.781,140.261 C624.076,159.123 624.399,179.703 624.638,194.948 \" fill=\"none\" style=\"stroke: #A80036; stroke-width: 1.0;\"/><polygon fill=\"none\" points=\"616.779,140.179,623.464,120.072,630.777,139.959,616.779,140.179\" style=\"stroke: #A80036; stroke-width: 1.0;\"/><path d=\"M627.465,263.133 C628.708,284.894 630.185,310.74 631.301,330.259 \" fill=\"none\" style=\"stroke: #A80036; stroke-width: 1.0;\"/><polygon fill=\"none\" points=\"620.474,263.485,626.321,243.118,634.451,262.686,620.474,263.485\" style=\"stroke: #A80036; stroke-width: 1.0;\"/><path d=\"M635.374,396.682 C636.799,417.507 638.594,443.731 639.956,463.6324 \" fill=\"none\" style=\"stroke: #A80036; stroke-width: 1.0; stroke-dasharray: 7.0,7.0;\"/><polygon fill=\"#A80036\" points=\"635.02,391.511,631.6439,400.7631,635.3614,396.4993,639.6252,400.2169,635.02,391.511\" style=\"stroke: #A80036; stroke-width: 1.0;\"/><path d=\"M317.179,423.245 C310.92,440.041 304.515,457.2298 299.607,470.4016 \" fill=\"none\" style=\"stroke: #A80036; stroke-width: 1.0;\"/><polygon fill=\"none\" points=\"310.683,420.628,324.226,404.331,323.802,425.517,310.683,420.628\" style=\"stroke: #A80036; stroke-width: 1.0;\"/><path d=\"M436.801,404.15 C479.74,422.847 529.421,444.48 569.143,461.7757 \" fill=\"none\" style=\"stroke: #A80036; stroke-width: 1.0;\"/><polygon fill=\"#A80036\" points=\"573.936,463.863,567.2826,456.6013,569.3521,461.866,564.0874,463.9356,573.936,463.863\" style=\"stroke: #A80036; stroke-width: 1.0;\"/></g></svg>"
      ],
      "text/plain": [
       "<IPython.core.display.SVG object>"
      ]
     },
     "execution_count": 4,
     "metadata": {},
     "output_type": "execute_result"
    }
   ],
   "source": [
    "%%plantuml\n",
    "@startuml\n",
    "\n",
    "interface java.util.EventListener\n",
    "interface java.awt.event.ActionListener {\n",
    "    actionPerformed(e:ActionEvent):void\n",
    "}\n",
    "\n",
    "java.util.EventListener <|.. java.awt.event.ActionListener\n",
    "\n",
    "class java.util.EventObject {\n",
    "    +getSoruce():Object\n",
    "}\n",
    "class java.awt.AWTEvent\n",
    "class java.awt.event.ActionEvent {\n",
    "    +getActionCommand():String\n",
    "}\n",
    "java.util.EventObject <|-- java.awt.AWTEvent\n",
    "java.awt.AWTEvent <|-- java.awt.event.ActionEvent\n",
    "java.awt.event.ActionListener .up.> java.awt.event.ActionEvent\n",
    "class javax.swing.AbstractButton {\n",
    "    +addActionListener(l:ActionListener):void\n",
    "    +doClick():void\n",
    "}\n",
    "class javax.swing.JButton\n",
    "note left: This is an 'Observable'\n",
    "javax.swing.AbstractButton <|-- javax.swing.JButton\n",
    "javax.swing.AbstractButton -right-> java.awt.event.ActionListener\n",
    "\n",
    "@enduml"
   ]
  },
  {
   "cell_type": "code",
   "execution_count": null,
   "metadata": {
    "collapsed": true,
    "slideshow": {
     "slide_type": "subslide"
    }
   },
   "outputs": [],
   "source": [
    "# %load src/com/sd/gui/CalcAreaGUIMain.java\n",
    "/*\n",
    " * @author jsl\n",
    " * @version 20161208\n",
    " * Problems: can not access to JTextFields from CalcAreaListener\n",
    " */\n",
    "package com.sd.gui;\n",
    "import java.awt.*;\n",
    "import javax.swing.*;\n",
    "\n",
    "public class CalcAreaGUIMain {\n",
    "    public static void main(String[] args) {\n",
    "        JFrame f=new JFrame();\n",
    "        JPanel panel=new JPanel(new GridLayout(3,2));\n",
    "        f.getContentPane().add(panel);\n",
    "        JLabel label1=new JLabel(\"반지름\");\n",
    "        JLabel label2=new JLabel(\"면적\");\n",
    "        JTextField radiusTf1=new JTextField(20);\n",
    "        JTextField areaTf2=new JTextField(20);\n",
    "        JButton b1=new JButton(\"계산\");\n",
    "        JButton b2=new JButton(\"취소\");\n",
    "        //b1.setPreferredSize(new Dimension(40, 40));\n",
    "        b1.addActionListener(new CalcAreaListener());\n",
    "        b2.addActionListener(new CalcAreaListener());\n",
    "        panel.add(label1);\n",
    "        panel.add(radiusTf1);\n",
    "        panel.add(label2);\n",
    "        panel.add(areaTf2);\n",
    "        panel.add(b1);\n",
    "        panel.add(b2);\n",
    "        //f.setDefaultCloseOperation(EXIT_ON_CLOSE);\n",
    "        f.pack();\n",
    "        f.setVisible(true);\n",
    "    }   \n",
    "}\n",
    "\n"
   ]
  },
  {
   "cell_type": "code",
   "execution_count": null,
   "metadata": {
    "collapsed": true,
    "slideshow": {
     "slide_type": "subslide"
    }
   },
   "outputs": [],
   "source": [
    "# %load src/com/sd/gui/CalcAreaListener.java\n",
    "/*\n",
    " * @author jsl\n",
    " * @version 20161208\n",
    " */\n",
    "package com.sd.gui;\n",
    "import java.awt.event.*;\n",
    "import javax.swing.*;\n",
    "\n",
    "// CalcListener can not access to JTextFields\n",
    "class CalcAreaListener implements ActionListener {\n",
    "    public void actionPerformed(ActionEvent e) {\n",
    "        JButton b=(JButton)e.getSource();\n",
    "        String cmd=e.getActionCommand();\n",
    "        if (cmd.equals(\"계산\")) {\n",
    "            System.out.println(\"계산 버튼\");\n",
    "            b.setText(\"계산했습니다\");\n",
    "        } else if (cmd.equals(\"취소\")) {\n",
    "            System.out.println(\"취소 버튼\");\n",
    "            b.setText(\"취소했습니다\");\n",
    "        } else {\n",
    "            System.out.println(\"버튼을 '..했습니다'로 변경하면 cmd도 변경된다.\");\n",
    "        }\n",
    "    }\n",
    "}\n"
   ]
  },
  {
   "cell_type": "code",
   "execution_count": null,
   "metadata": {
    "collapsed": true,
    "slideshow": {
     "slide_type": "-"
    }
   },
   "outputs": [],
   "source": [
    "!javac -d classes/ -sourcepath src src/com/sd/gui/CalcAreaGUIMain.java\n",
    "!java -cp classes/ com.sd.gui.CalcAreaGUIMain"
   ]
  },
  {
   "cell_type": "markdown",
   "metadata": {
    "slideshow": {
     "slide_type": "slide"
    }
   },
   "source": [
    "### O.4.2 날씨\n",
    "\n",
    "* 객체에서 나누어지는 서로 다른 기능이 있는 경우, 인터페이스로 분리\n",
    "* 교재 HFDP Ch2 'Weather'\n",
    "* 정보공급자는 정기적으로 계속 온도, 습도, 기압을 측정, 수집\n",
    "* 온도 getTemperature(), 습도 getHummidity(), 기압 getPressure() 수집.\n",
    "* 방송국, 농사, 운동경기 관련 사이트에서 그 정보를 사용\n",
    "* 정된 날씨 데이터는 배포measurementsChanged()"
   ]
  },
  {
   "cell_type": "markdown",
   "metadata": {
    "slideshow": {
     "slide_type": "subslide"
    }
   },
   "source": [
    "* 패턴을 적용하기 전\n",
    "    * WeatherData를 polling, 날씨가 변동이 있는지 계속 묻는 방식"
   ]
  },
  {
   "cell_type": "code",
   "execution_count": 3,
   "metadata": {
    "collapsed": false,
    "slideshow": {
     "slide_type": "-"
    }
   },
   "outputs": [
    {
     "data": {
      "image/svg+xml": [
       "<svg height=\"141px\" style=\"width:608px;height:141px;\" version=\"1.1\" viewBox=\"0 0 608 141\" width=\"608px\" xmlns=\"http://www.w3.org/2000/svg\" xmlns:xlink=\"http://www.w3.org/1999/xlink\"><defs><filter height=\"300%\" id=\"f1\" width=\"300%\" x=\"-1\" y=\"-1\"><feGaussianBlur result=\"blurOut\" stdDeviation=\"2.0\"/><feColorMatrix in=\"blurOut\" result=\"blurOut2\" type=\"matrix\" values=\"0 0 0 0 0 0 0 0 0 0 0 0 0 0 0 0 0 0 .4 0\"/><feOffset dx=\"4.0\" dy=\"4.0\" in=\"blurOut2\" result=\"blurOut3\"/><feBlend in=\"SourceGraphic\" in2=\"blurOut3\" mode=\"normal\"/></filter></defs><g><rect fill=\"#FEFECE\" filter=\"url(#f1)\" height=\"99.2188\" style=\"stroke: #A80036; stroke-width: 1.5;\" width=\"157\" x=\"6\" y=\"21\"/><ellipse cx=\"39.9\" cy=\"37\" fill=\"#ADD1B2\" rx=\"11\" ry=\"11\" style=\"stroke: #A80036; stroke-width: 1.0;\"/><path d=\"M42.8688,42.6406 Q42.2906,42.9375 41.65,43.0859 Q41.0094,43.2344 40.3063,43.2344 Q37.8063,43.2344 36.4859,41.5859 Q35.1656,39.9375 35.1656,36.8125 Q35.1656,33.6875 36.4859,32.0313 Q37.8063,30.375 40.3063,30.375 Q41.0094,30.375 41.6578,30.5313 Q42.3063,30.6875 42.8688,30.9844 L42.8688,33.7031 Q42.2438,33.125 41.65,32.8516 Q41.0563,32.5781 40.4313,32.5781 Q39.0875,32.5781 38.4,33.6484 Q37.7125,34.7188 37.7125,36.8125 Q37.7125,38.9063 38.4,39.9766 Q39.0875,41.0469 40.4313,41.0469 Q41.0563,41.0469 41.65,40.7734 Q42.2438,40.5 42.8688,39.9219 L42.8688,42.6406 Z \"/><text fill=\"#000000\" font-family=\"sans-serif\" font-size=\"12\" lengthAdjust=\"spacingAndGlyphs\" textLength=\"83\" x=\"58.1\" y=\"41.1543\">WeatherData</text><line style=\"stroke: #A80036; stroke-width: 1.5;\" x1=\"7\" x2=\"162\" y1=\"53\" y2=\"53\"/><line style=\"stroke: #A80036; stroke-width: 1.5;\" x1=\"7\" x2=\"162\" y1=\"61\" y2=\"61\"/><text fill=\"#000000\" font-family=\"sans-serif\" font-size=\"11\" lengthAdjust=\"spacingAndGlyphs\" textLength=\"100\" x=\"12\" y=\"75.2104\">getTemperature()</text><text fill=\"#000000\" font-family=\"sans-serif\" font-size=\"11\" lengthAdjust=\"spacingAndGlyphs\" textLength=\"75\" x=\"12\" y=\"88.0151\">getHumidity()</text><text fill=\"#000000\" font-family=\"sans-serif\" font-size=\"11\" lengthAdjust=\"spacingAndGlyphs\" textLength=\"78\" x=\"12\" y=\"100.8198\">getPressure()</text><text fill=\"#000000\" font-family=\"sans-serif\" font-size=\"11\" lengthAdjust=\"spacingAndGlyphs\" textLength=\"145\" x=\"12\" y=\"113.6245\">measurementsChanged()</text><polygon fill=\"#FBFB77\" filter=\"url(#f1)\" points=\"198,8,198,132.5964,599,132.5964,599,18,589,8,198,8\" style=\"stroke: #A80036; stroke-width: 1.0;\"/><polygon fill=\"#FBFB77\" points=\"198,8,198,66.5,163.307,70.5,198,74.5,198,132.5964,599,132.5964,599,18,589,8,198,8\" style=\"stroke: #A80036; stroke-width: 1.0;\"/><line style=\"stroke: #A80036; stroke-width: 1.0;\" x1=\"589\" x2=\"589\" y1=\"8\" y2=\"18\"/><line style=\"stroke: #A80036; stroke-width: 1.0;\" x1=\"599\" x2=\"589\" y1=\"18\" y2=\"18\"/><path d=\"M209.0625,13 C207.574,13 206.1808,13.403 205,14.1516 L205.5753,15.0995 C206.5828,14.4603 207.7777,14.0833 209.0625,14.0833 C210.3625,14.0833 211.5791,14.4192 212.5833,15.0648 L213.1586,14.1841 C211.9745,13.4225 210.5575,12.9989 209.0625,12.9989 M209.0961,16.2489 C208.2348,16.2489 207.4375,16.4948 206.7604,16.926 L207.3357,17.8403 C207.8503,17.5132 208.4407,17.3323 209.0961,17.3323 C209.7385,17.3323 210.3203,17.524 210.8229,17.8403 L211.3982,16.926 C210.7308,16.5057 209.9487,16.2489 209.0961,16.2489 M209.0625,19.4989 C208.4645,19.4989 207.9792,19.9843 207.9792,20.5823 C207.9792,21.1803 208.4645,21.6656 209.0625,21.6656 C209.6605,21.6656 210.1458,21.1803 210.1458,20.5823 C210.1458,19.9843 209.6605,19.4989 209.0625,19.4989 \" fill=\"#000000\" style=\"stroke: ; stroke-width: 0.0; stroke-dasharray: ;\"/><text fill=\"#000000\" font-family=\"sans-serif\" font-size=\"13\" lengthAdjust=\"spacingAndGlyphs\" textLength=\"260\" x=\"204\" y=\"33.7336\">&quot;private void measurementsChanged() {</text><text fill=\"#000000\" font-family=\"sans-serif\" font-size=\"13\" lengthAdjust=\"spacingAndGlyphs\" textLength=\"190\" x=\"224\" y=\"48.8664\">float humidity=getHumidity();</text><text fill=\"#000000\" font-family=\"sans-serif\" font-size=\"13\" lengthAdjust=\"spacingAndGlyphs\" textLength=\"190\" x=\"224\" y=\"63.9992\">float pressure=getPressure();</text><text fill=\"#000000\" font-family=\"sans-serif\" font-size=\"13\" lengthAdjust=\"spacingAndGlyphs\" textLength=\"360\" x=\"224\" y=\"79.132\">broadcastingCompany.update(temp,humidity,pressure);</text><text fill=\"#000000\" font-family=\"sans-serif\" font-size=\"13\" lengthAdjust=\"spacingAndGlyphs\" textLength=\"331\" x=\"224\" y=\"94.2648\">agricultureAgency.update(temp,humidity,pressure);</text><text fill=\"#000000\" font-family=\"sans-serif\" font-size=\"13\" lengthAdjust=\"spacingAndGlyphs\" textLength=\"302\" x=\"224\" y=\"109.3976\">sportsDisplay.update(temp,humidity,pressure);</text><text fill=\"#000000\" font-family=\"sans-serif\" font-size=\"13\" lengthAdjust=\"spacingAndGlyphs\" textLength=\"13\" x=\"204\" y=\"124.5304\">}&quot;</text></g></svg>"
      ],
      "text/plain": [
       "<IPython.core.display.SVG object>"
      ]
     },
     "execution_count": 3,
     "metadata": {},
     "output_type": "execute_result"
    }
   ],
   "source": [
    "%%plantuml\n",
    "@startuml\n",
    "class WeatherData {\n",
    "    getTemperature()\n",
    "    getHumidity()\n",
    "    getPressure()\n",
    "    measurementsChanged()\n",
    "}\n",
    "note right\n",
    "   <&wifi>\n",
    "   \"private void measurementsChanged() {\n",
    "        float humidity=getHumidity();\n",
    "        float pressure=getPressure();\n",
    "        broadcastingCompany.update(temp,humidity,pressure);\n",
    "        agricultureAgency.update(temp,humidity,pressure);\n",
    "        sportsDisplay.update(temp,humidity,pressure);\n",
    "   }\"\n",
    "end note\n",
    "@enduml"
   ]
  },
  {
   "cell_type": "code",
   "execution_count": 6,
   "metadata": {
    "collapsed": false,
    "slideshow": {
     "slide_type": "slide"
    }
   },
   "outputs": [
    {
     "data": {
      "image/svg+xml": [
       "<svg height=\"325px\" style=\"width:743px;height:325px;\" version=\"1.1\" viewBox=\"0 0 743 325\" width=\"743px\" xmlns=\"http://www.w3.org/2000/svg\" xmlns:xlink=\"http://www.w3.org/1999/xlink\"><defs><filter height=\"300%\" id=\"f1\" width=\"300%\" x=\"-1\" y=\"-1\"><feGaussianBlur result=\"blurOut\" stdDeviation=\"2.0\"/><feColorMatrix in=\"blurOut\" result=\"blurOut2\" type=\"matrix\" values=\"0 0 0 0 0 0 0 0 0 0 0 0 0 0 0 0 0 0 .4 0\"/><feOffset dx=\"4.0\" dy=\"4.0\" in=\"blurOut2\" result=\"blurOut3\"/><feBlend in=\"SourceGraphic\" in2=\"blurOut3\" mode=\"normal\"/></filter></defs><g><rect fill=\"#ADD8E6\" height=\"320.8672\" style=\"stroke: #A80036; stroke-width: 1.0;\" width=\"264.5\" x=\"4\" y=\"4\"/><text fill=\"#000000\" font-family=\"sans-serif\" font-size=\"13\" font-weight=\"bold\" lengthAdjust=\"spacingAndGlyphs\" textLength=\"135\" x=\"68.75\" y=\"16.0669\">weather providers</text><line style=\"stroke: #A80036; stroke-width: 1.0;\" x1=\"64\" x2=\"64\" y1=\"58.4297\" y2=\"126.6953\"/><line style=\"stroke: #A80036; stroke-width: 1.0; stroke-dasharray: 1.0,4.0;\" x1=\"64\" x2=\"64\" y1=\"126.6953\" y2=\"167.5\"/><line style=\"stroke: #A80036; stroke-width: 1.0;\" x1=\"64\" x2=\"64\" y1=\"167.5\" y2=\"206.6328\"/><line style=\"stroke: #A80036; stroke-width: 1.0; stroke-dasharray: 1.0,4.0;\" x1=\"64\" x2=\"64\" y1=\"206.6328\" y2=\"247.4375\"/><line style=\"stroke: #A80036; stroke-width: 1.0;\" x1=\"64\" x2=\"64\" y1=\"247.4375\" y2=\"286.5703\"/><line style=\"stroke: #A80036; stroke-width: 1.0;\" x1=\"203.5\" x2=\"203.5\" y1=\"58.4297\" y2=\"126.6953\"/><line style=\"stroke: #A80036; stroke-width: 1.0; stroke-dasharray: 1.0,4.0;\" x1=\"203.5\" x2=\"203.5\" y1=\"126.6953\" y2=\"167.5\"/><line style=\"stroke: #A80036; stroke-width: 1.0;\" x1=\"203.5\" x2=\"203.5\" y1=\"167.5\" y2=\"206.6328\"/><line style=\"stroke: #A80036; stroke-width: 1.0; stroke-dasharray: 1.0,4.0;\" x1=\"203.5\" x2=\"203.5\" y1=\"206.6328\" y2=\"247.4375\"/><line style=\"stroke: #A80036; stroke-width: 1.0;\" x1=\"203.5\" x2=\"203.5\" y1=\"247.4375\" y2=\"286.5703\"/><line style=\"stroke: #A80036; stroke-width: 1.0;\" x1=\"349.5\" x2=\"349.5\" y1=\"58.4297\" y2=\"126.6953\"/><line style=\"stroke: #A80036; stroke-width: 1.0; stroke-dasharray: 1.0,4.0;\" x1=\"349.5\" x2=\"349.5\" y1=\"126.6953\" y2=\"167.5\"/><line style=\"stroke: #A80036; stroke-width: 1.0;\" x1=\"349.5\" x2=\"349.5\" y1=\"167.5\" y2=\"206.6328\"/><line style=\"stroke: #A80036; stroke-width: 1.0; stroke-dasharray: 1.0,4.0;\" x1=\"349.5\" x2=\"349.5\" y1=\"206.6328\" y2=\"247.4375\"/><line style=\"stroke: #A80036; stroke-width: 1.0;\" x1=\"349.5\" x2=\"349.5\" y1=\"247.4375\" y2=\"286.5703\"/><line style=\"stroke: #A80036; stroke-width: 1.0;\" x1=\"492.5\" x2=\"492.5\" y1=\"58.4297\" y2=\"126.6953\"/><line style=\"stroke: #A80036; stroke-width: 1.0; stroke-dasharray: 1.0,4.0;\" x1=\"492.5\" x2=\"492.5\" y1=\"126.6953\" y2=\"167.5\"/><line style=\"stroke: #A80036; stroke-width: 1.0;\" x1=\"492.5\" x2=\"492.5\" y1=\"167.5\" y2=\"206.6328\"/><line style=\"stroke: #A80036; stroke-width: 1.0; stroke-dasharray: 1.0,4.0;\" x1=\"492.5\" x2=\"492.5\" y1=\"206.6328\" y2=\"247.4375\"/><line style=\"stroke: #A80036; stroke-width: 1.0;\" x1=\"492.5\" x2=\"492.5\" y1=\"247.4375\" y2=\"286.5703\"/><rect fill=\"#FEFECE\" filter=\"url(#f1)\" height=\"30.2969\" style=\"stroke: #A80036; stroke-width: 1.5;\" width=\"109\" x=\"8\" y=\"23.1328\"/><text fill=\"#000000\" font-family=\"sans-serif\" font-size=\"14\" lengthAdjust=\"spacingAndGlyphs\" textLength=\"95\" x=\"15\" y=\"43.1279\">sensorDevice</text><rect fill=\"#FEFECE\" filter=\"url(#f1)\" height=\"30.2969\" style=\"stroke: #A80036; stroke-width: 1.5;\" width=\"109\" x=\"8\" y=\"285.5703\"/><text fill=\"#000000\" font-family=\"sans-serif\" font-size=\"14\" lengthAdjust=\"spacingAndGlyphs\" textLength=\"95\" x=\"15\" y=\"305.5654\">sensorDevice</text><rect fill=\"#FEFECE\" filter=\"url(#f1)\" height=\"30.2969\" style=\"stroke: #A80036; stroke-width: 1.5;\" width=\"118\" x=\"142.5\" y=\"23.1328\"/><text fill=\"#000000\" font-family=\"sans-serif\" font-size=\"14\" lengthAdjust=\"spacingAndGlyphs\" textLength=\"104\" x=\"149.5\" y=\"43.1279\">weatherStation</text><rect fill=\"#FEFECE\" filter=\"url(#f1)\" height=\"30.2969\" style=\"stroke: #A80036; stroke-width: 1.5;\" width=\"118\" x=\"142.5\" y=\"285.5703\"/><text fill=\"#000000\" font-family=\"sans-serif\" font-size=\"14\" lengthAdjust=\"spacingAndGlyphs\" textLength=\"104\" x=\"149.5\" y=\"305.5654\">weatherStation</text><rect fill=\"#FEFECE\" filter=\"url(#f1)\" height=\"30.2969\" style=\"stroke: #A80036; stroke-width: 1.5;\" width=\"147\" x=\"274.5\" y=\"23.1328\"/><text fill=\"#000000\" font-family=\"sans-serif\" font-size=\"14\" lengthAdjust=\"spacingAndGlyphs\" textLength=\"133\" x=\"281.5\" y=\"43.1279\">weatherDataObject</text><rect fill=\"#FEFECE\" filter=\"url(#f1)\" height=\"30.2969\" style=\"stroke: #A80036; stroke-width: 1.5;\" width=\"147\" x=\"274.5\" y=\"285.5703\"/><text fill=\"#000000\" font-family=\"sans-serif\" font-size=\"14\" lengthAdjust=\"spacingAndGlyphs\" textLength=\"133\" x=\"281.5\" y=\"305.5654\">weatherDataObject</text><rect fill=\"#FEFECE\" filter=\"url(#f1)\" height=\"30.2969\" style=\"stroke: #A80036; stroke-width: 1.5;\" width=\"110\" x=\"435.5\" y=\"23.1328\"/><text fill=\"#000000\" font-family=\"sans-serif\" font-size=\"14\" lengthAdjust=\"spacingAndGlyphs\" textLength=\"96\" x=\"442.5\" y=\"43.1279\">DisplayDevice</text><rect fill=\"#FEFECE\" filter=\"url(#f1)\" height=\"30.2969\" style=\"stroke: #A80036; stroke-width: 1.5;\" width=\"110\" x=\"435.5\" y=\"285.5703\"/><text fill=\"#000000\" font-family=\"sans-serif\" font-size=\"14\" lengthAdjust=\"spacingAndGlyphs\" textLength=\"96\" x=\"442.5\" y=\"305.5654\">DisplayDevice</text><polygon fill=\"#A80036\" points=\"75.5,85.4297,65.5,89.4297,75.5,93.4297,71.5,89.4297\" style=\"stroke: #A80036; stroke-width: 1.0;\"/><line style=\"stroke: #A80036; stroke-width: 1.0;\" x1=\"69.5\" x2=\"202.5\" y1=\"89.4297\" y2=\"89.4297\"/><text fill=\"#000000\" font-family=\"sans-serif\" font-size=\"13\" font-weight=\"bold\" lengthAdjust=\"spacingAndGlyphs\" textLength=\"9\" x=\"81.5\" y=\"84.4966\">1</text><text fill=\"#000000\" font-family=\"sans-serif\" font-size=\"13\" lengthAdjust=\"spacingAndGlyphs\" textLength=\"102\" x=\"94.5\" y=\"84.4966\">poll sensor data</text><polygon fill=\"#A80036\" points=\"214.5,114.5625,204.5,118.5625,214.5,122.5625,210.5,118.5625\" style=\"stroke: #A80036; stroke-width: 1.0;\"/><line style=\"stroke: #A80036; stroke-width: 1.0;\" x1=\"208.5\" x2=\"349\" y1=\"118.5625\" y2=\"118.5625\"/><text fill=\"#000000\" font-family=\"sans-serif\" font-size=\"13\" font-weight=\"bold\" lengthAdjust=\"spacingAndGlyphs\" textLength=\"9\" x=\"220.5\" y=\"113.6294\">2</text><text fill=\"#000000\" font-family=\"sans-serif\" font-size=\"13\" lengthAdjust=\"spacingAndGlyphs\" textLength=\"55\" x=\"233.5\" y=\"113.6294\">poll data</text><text fill=\"#000000\" font-family=\"sans-serif\" font-size=\"11\" lengthAdjust=\"spacingAndGlyphs\" textLength=\"26\" x=\"265.5\" y=\"150.9058\">later</text><polygon fill=\"#A80036\" points=\"214.5,189.5,204.5,193.5,214.5,197.5,210.5,193.5\" style=\"stroke: #A80036; stroke-width: 1.0;\"/><line style=\"stroke: #A80036; stroke-width: 1.0;\" x1=\"208.5\" x2=\"349\" y1=\"193.5\" y2=\"193.5\"/><text fill=\"#000000\" font-family=\"sans-serif\" font-size=\"13\" font-weight=\"bold\" lengthAdjust=\"spacingAndGlyphs\" textLength=\"9\" x=\"220.5\" y=\"188.5669\">3</text><text fill=\"#000000\" font-family=\"sans-serif\" font-size=\"13\" lengthAdjust=\"spacingAndGlyphs\" textLength=\"55\" x=\"233.5\" y=\"188.5669\">poll data</text><polygon fill=\"#00FFFF\" filter=\"url(#f1)\" points=\"355,172.5,355,197.5,734,197.5,734,182.5,724,172.5,355,172.5\" style=\"stroke: #A80036; stroke-width: 1.0;\"/><line style=\"stroke: #A80036; stroke-width: 1.0;\" x1=\"724\" x2=\"724\" y1=\"172.5\" y2=\"182.5\"/><line style=\"stroke: #A80036; stroke-width: 1.0;\" x1=\"734\" x2=\"724\" y1=\"182.5\" y2=\"182.5\"/><text fill=\"#000000\" font-family=\"sans-serif\" font-size=\"13\" lengthAdjust=\"spacingAndGlyphs\" textLength=\"139\" x=\"361\" y=\"189.5669\">keep asking if there is</text><text fill=\"#000000\" font-family=\"sans-serif\" font-size=\"13\" font-weight=\"bold\" lengthAdjust=\"spacingAndGlyphs\" textLength=\"85\" x=\"504\" y=\"189.5669\">any change</text><text fill=\"#000000\" font-family=\"sans-serif\" font-size=\"13\" lengthAdjust=\"spacingAndGlyphs\" textLength=\"126\" x=\"593\" y=\"189.5669\">in weather station\\n</text><text fill=\"#000000\" font-family=\"sans-serif\" font-size=\"11\" lengthAdjust=\"spacingAndGlyphs\" textLength=\"26\" x=\"265.5\" y=\"230.8433\">later</text><polygon fill=\"#A80036\" points=\"480.5,264.4375,490.5,268.4375,480.5,272.4375,484.5,268.4375\" style=\"stroke: #A80036; stroke-width: 1.0;\"/><line style=\"stroke: #A80036; stroke-width: 1.0;\" x1=\"350\" x2=\"486.5\" y1=\"268.4375\" y2=\"268.4375\"/><text fill=\"#000000\" font-family=\"sans-serif\" font-size=\"13\" font-weight=\"bold\" lengthAdjust=\"spacingAndGlyphs\" textLength=\"27\" x=\"357\" y=\"263.5044\">100</text><text fill=\"#000000\" font-family=\"sans-serif\" font-size=\"13\" lengthAdjust=\"spacingAndGlyphs\" textLength=\"51\" x=\"388\" y=\"263.5044\">displays</text></g></svg>"
      ],
      "text/plain": [
       "<IPython.core.display.SVG object>"
      ]
     },
     "execution_count": 6,
     "metadata": {},
     "output_type": "execute_result"
    }
   ],
   "source": [
    "%%plantuml\n",
    "\n",
    "@startuml\n",
    "\n",
    "box \"weather providers\" #LightBlue\n",
    "  participant sensorDevice\n",
    "  participant weatherStation\n",
    "end box\n",
    "\n",
    "autonumber\n",
    "sensorDevice <- weatherStation: poll sensor data\n",
    "weatherStation <- weatherDataObject: poll data\n",
    "... later ...\n",
    "weatherStation <- weatherDataObject: poll data\n",
    "\n",
    "... later ...\n",
    "autonumber 100\n",
    "note right #aqua\n",
    "  keep asking if there is **any change** in weather station\\n\n",
    "end note\n",
    "weatherDataObject -> DisplayDevice: displays\n",
    "\n",
    "@enduml"
   ]
  },
  {
   "cell_type": "markdown",
   "metadata": {
    "slideshow": {
     "slide_type": "subslide"
    }
   },
   "source": [
    "* 패턴의 적용"
   ]
  },
  {
   "cell_type": "code",
   "execution_count": 10,
   "metadata": {
    "collapsed": false,
    "slideshow": {
     "slide_type": "-"
    }
   },
   "outputs": [
    {
     "data": {
      "image/svg+xml": [
       "<svg height=\"211px\" style=\"width:768px;height:211px;\" version=\"1.1\" viewBox=\"0 0 768 211\" width=\"768px\" xmlns=\"http://www.w3.org/2000/svg\" xmlns:xlink=\"http://www.w3.org/1999/xlink\"><defs><filter height=\"300%\" id=\"f1\" width=\"300%\" x=\"-1\" y=\"-1\"><feGaussianBlur result=\"blurOut\" stdDeviation=\"2.0\"/><feColorMatrix in=\"blurOut\" result=\"blurOut2\" type=\"matrix\" values=\"0 0 0 0 0 0 0 0 0 0 0 0 0 0 0 0 0 0 .4 0\"/><feOffset dx=\"4.0\" dy=\"4.0\" in=\"blurOut2\" result=\"blurOut3\"/><feBlend in=\"SourceGraphic\" in2=\"blurOut3\" mode=\"normal\"/></filter></defs><g><rect fill=\"#FEFECE\" filter=\"url(#f1)\" height=\"86.4141\" style=\"stroke: #A80036; stroke-width: 1.5;\" width=\"223\" x=\"6\" y=\"8\"/><ellipse cx=\"89.75\" cy=\"24\" fill=\"#B4A7E5\" rx=\"11\" ry=\"11\" style=\"stroke: #A80036; stroke-width: 1.0;\"/><path d=\"M85.6719,19.7656 L85.6719,17.6094 L93.0625,17.6094 L93.0625,19.7656 L90.5938,19.7656 L90.5938,27.8438 L93.0625,27.8438 L93.0625,30 L85.6719,30 L85.6719,27.8438 L88.1406,27.8438 L88.1406,19.7656 L85.6719,19.7656 Z \"/><text fill=\"#000000\" font-family=\"sans-serif\" font-size=\"12\" font-style=\"italic\" lengthAdjust=\"spacingAndGlyphs\" textLength=\"47\" x=\"110.25\" y=\"28.1543\">Subject</text><line style=\"stroke: #A80036; stroke-width: 1.5;\" x1=\"7\" x2=\"228\" y1=\"40\" y2=\"40\"/><line style=\"stroke: #A80036; stroke-width: 1.5;\" x1=\"7\" x2=\"228\" y1=\"48\" y2=\"48\"/><ellipse cx=\"17\" cy=\"59.9023\" fill=\"#84BE84\" rx=\"3\" ry=\"3\" style=\"stroke: #038048; stroke-width: 1.0;\"/><text fill=\"#000000\" font-family=\"sans-serif\" font-size=\"11\" lengthAdjust=\"spacingAndGlyphs\" textLength=\"197\" x=\"26\" y=\"62.2104\">registerObserver(o:Observer):void</text><ellipse cx=\"17\" cy=\"72.707\" fill=\"#84BE84\" rx=\"3\" ry=\"3\" style=\"stroke: #038048; stroke-width: 1.0;\"/><text fill=\"#000000\" font-family=\"sans-serif\" font-size=\"11\" lengthAdjust=\"spacingAndGlyphs\" textLength=\"195\" x=\"26\" y=\"75.0151\">removeObserver(o:Observer):void</text><ellipse cx=\"17\" cy=\"85.5117\" fill=\"#84BE84\" rx=\"3\" ry=\"3\" style=\"stroke: #038048; stroke-width: 1.0;\"/><text fill=\"#000000\" font-family=\"sans-serif\" font-size=\"11\" lengthAdjust=\"spacingAndGlyphs\" textLength=\"126\" x=\"26\" y=\"87.8198\">notifyObservers():void</text><rect fill=\"#FEFECE\" filter=\"url(#f1)\" height=\"60.8047\" style=\"stroke: #A80036; stroke-width: 1.5;\" width=\"332\" x=\"264.5\" y=\"20.5\"/><ellipse cx=\"399.25\" cy=\"36.5\" fill=\"#B4A7E5\" rx=\"11\" ry=\"11\" style=\"stroke: #A80036; stroke-width: 1.0;\"/><path d=\"M395.1719,32.2656 L395.1719,30.1094 L402.5625,30.1094 L402.5625,32.2656 L400.0938,32.2656 L400.0938,40.3438 L402.5625,40.3438 L402.5625,42.5 L395.1719,42.5 L395.1719,40.3438 L397.6406,40.3438 L397.6406,32.2656 L395.1719,32.2656 Z \"/><text fill=\"#000000\" font-family=\"sans-serif\" font-size=\"12\" font-style=\"italic\" lengthAdjust=\"spacingAndGlyphs\" textLength=\"54\" x=\"419.75\" y=\"40.6543\">Observer</text><line style=\"stroke: #A80036; stroke-width: 1.5;\" x1=\"265.5\" x2=\"595.5\" y1=\"52.5\" y2=\"52.5\"/><line style=\"stroke: #A80036; stroke-width: 1.5;\" x1=\"265.5\" x2=\"595.5\" y1=\"60.5\" y2=\"60.5\"/><ellipse cx=\"275.5\" cy=\"72.4023\" fill=\"#84BE84\" rx=\"3\" ry=\"3\" style=\"stroke: #038048; stroke-width: 1.0;\"/><text fill=\"#000000\" font-family=\"sans-serif\" font-size=\"11\" lengthAdjust=\"spacingAndGlyphs\" textLength=\"306\" x=\"284.5\" y=\"74.7104\">update(temp:float, humidity:float, pressure:float):void</text><rect fill=\"#FEFECE\" filter=\"url(#f1)\" height=\"48\" style=\"stroke: #A80036; stroke-width: 1.5;\" width=\"115\" x=\"123\" y=\"154\"/><ellipse cx=\"138\" cy=\"170\" fill=\"#ADD1B2\" rx=\"11\" ry=\"11\" style=\"stroke: #A80036; stroke-width: 1.0;\"/><path d=\"M140.9688,175.6406 Q140.3906,175.9375 139.75,176.0859 Q139.1094,176.2344 138.4063,176.2344 Q135.9063,176.2344 134.5859,174.5859 Q133.2656,172.9375 133.2656,169.8125 Q133.2656,166.6875 134.5859,165.0313 Q135.9063,163.375 138.4063,163.375 Q139.1094,163.375 139.7578,163.5313 Q140.4063,163.6875 140.9688,163.9844 L140.9688,166.7031 Q140.3438,166.125 139.75,165.8516 Q139.1563,165.5781 138.5313,165.5781 Q137.1875,165.5781 136.5,166.6484 Q135.8125,167.7188 135.8125,169.8125 Q135.8125,171.9063 136.5,172.9766 Q137.1875,174.0469 138.5313,174.0469 Q139.1563,174.0469 139.75,173.7734 Q140.3438,173.5 140.9688,172.9219 L140.9688,175.6406 Z \"/><text fill=\"#000000\" font-family=\"sans-serif\" font-size=\"12\" lengthAdjust=\"spacingAndGlyphs\" textLength=\"83\" x=\"152\" y=\"174.1543\">WeatherData</text><line style=\"stroke: #A80036; stroke-width: 1.5;\" x1=\"124\" x2=\"237\" y1=\"186\" y2=\"186\"/><line style=\"stroke: #A80036; stroke-width: 1.5;\" x1=\"124\" x2=\"237\" y1=\"194\" y2=\"194\"/><rect fill=\"#FEFECE\" filter=\"url(#f1)\" height=\"48\" style=\"stroke: #A80036; stroke-width: 1.5;\" width=\"189\" x=\"336\" y=\"154\"/><ellipse cx=\"351\" cy=\"170\" fill=\"#ADD1B2\" rx=\"11\" ry=\"11\" style=\"stroke: #A80036; stroke-width: 1.0;\"/><path d=\"M353.9688,175.6406 Q353.3906,175.9375 352.75,176.0859 Q352.1094,176.2344 351.4063,176.2344 Q348.9063,176.2344 347.5859,174.5859 Q346.2656,172.9375 346.2656,169.8125 Q346.2656,166.6875 347.5859,165.0313 Q348.9063,163.375 351.4063,163.375 Q352.1094,163.375 352.7578,163.5313 Q353.4063,163.6875 353.9688,163.9844 L353.9688,166.7031 Q353.3438,166.125 352.75,165.8516 Q352.1563,165.5781 351.5313,165.5781 Q350.1875,165.5781 349.5,166.6484 Q348.8125,167.7188 348.8125,169.8125 Q348.8125,171.9063 349.5,172.9766 Q350.1875,174.0469 351.5313,174.0469 Q352.1563,174.0469 352.75,173.7734 Q353.3438,173.5 353.9688,172.9219 L353.9688,175.6406 Z \"/><text fill=\"#000000\" font-family=\"sans-serif\" font-size=\"12\" lengthAdjust=\"spacingAndGlyphs\" textLength=\"157\" x=\"365\" y=\"174.1543\">CurrentConditionsDisplay</text><line style=\"stroke: #A80036; stroke-width: 1.5;\" x1=\"337\" x2=\"524\" y1=\"186\" y2=\"186\"/><line style=\"stroke: #A80036; stroke-width: 1.5;\" x1=\"337\" x2=\"524\" y1=\"194\" y2=\"194\"/><rect fill=\"#FEFECE\" filter=\"url(#f1)\" height=\"60.8047\" style=\"stroke: #A80036; stroke-width: 1.5;\" width=\"127\" x=\"632\" y=\"20.5\"/><ellipse cx=\"647\" cy=\"36.5\" fill=\"#B4A7E5\" rx=\"11\" ry=\"11\" style=\"stroke: #A80036; stroke-width: 1.0;\"/><path d=\"M642.9219,32.2656 L642.9219,30.1094 L650.3125,30.1094 L650.3125,32.2656 L647.8438,32.2656 L647.8438,40.3438 L650.3125,40.3438 L650.3125,42.5 L642.9219,42.5 L642.9219,40.3438 L645.3906,40.3438 L645.3906,32.2656 L642.9219,32.2656 Z \"/><text fill=\"#000000\" font-family=\"sans-serif\" font-size=\"12\" font-style=\"italic\" lengthAdjust=\"spacingAndGlyphs\" textLength=\"95\" x=\"661\" y=\"40.6543\">DisplayElement</text><line style=\"stroke: #A80036; stroke-width: 1.5;\" x1=\"633\" x2=\"758\" y1=\"52.5\" y2=\"52.5\"/><line style=\"stroke: #A80036; stroke-width: 1.5;\" x1=\"633\" x2=\"758\" y1=\"60.5\" y2=\"60.5\"/><ellipse cx=\"643\" cy=\"72.4023\" fill=\"#84BE84\" rx=\"3\" ry=\"3\" style=\"stroke: #038048; stroke-width: 1.0;\"/><text fill=\"#000000\" font-family=\"sans-serif\" font-size=\"11\" lengthAdjust=\"spacingAndGlyphs\" textLength=\"69\" x=\"652\" y=\"74.7104\">displa():void</text><path d=\"M229.067,51 C239.118,51 249.169,51 259.22,51 \" fill=\"none\" style=\"stroke: #A80036; stroke-width: 1.0;\"/><polygon fill=\"#A80036\" points=\"264.475,51,255.475,47,259.475,51,255.475,55,264.475,51\" style=\"stroke: #A80036; stroke-width: 1.0;\"/><path d=\"M148.013,112.5426 C155.391,127.1811 162.841,141.9629 168.743,153.6717 \" fill=\"none\" style=\"stroke: #A80036; stroke-width: 1.0; stroke-dasharray: 7.0,7.0;\"/><polygon fill=\"none\" points=\"141.579,115.3297,138.829,94.319,154.081,109.0287,141.579,115.3297\" style=\"stroke: #A80036; stroke-width: 1.0;\"/><path d=\"M430.5,101.702 C430.5,119.7087 430.5,139.1961 430.5,153.8339 \" fill=\"none\" style=\"stroke: #A80036; stroke-width: 1.0; stroke-dasharray: 7.0,7.0;\"/><polygon fill=\"none\" points=\"423.5,101.623,430.5,81.623,437.5,101.623,423.5,101.623\" style=\"stroke: #A80036; stroke-width: 1.0;\"/><path d=\"M621.438,90.608 C619.102,91.76 616.785,92.893 614.5,94 C570.818,115.1576 520.545,137.7159 483.598,153.9666 \" fill=\"none\" style=\"stroke: #A80036; stroke-width: 1.0; stroke-dasharray: 7.0,7.0;\"/><polygon fill=\"none\" points=\"618.475,84.263,639.49,81.546,624.756,96.775,618.475,84.263\" style=\"stroke: #A80036; stroke-width: 1.0;\"/><path d=\"M243.46,178 C274.244,178 305.028,178 335.812,178 \" fill=\"none\" style=\"stroke: #A80036; stroke-width: 1.0;\"/><polygon fill=\"#A80036\" points=\"238.117,178,247.117,182,243.117,178,247.117,174,238.117,178\" style=\"stroke: #A80036; stroke-width: 1.0;\"/></g></svg>"
      ],
      "text/plain": [
       "<IPython.core.display.SVG object>"
      ]
     },
     "execution_count": 10,
     "metadata": {},
     "output_type": "execute_result"
    }
   ],
   "source": [
    "%%plantuml\n",
    "\n",
    "@startuml\n",
    "\n",
    "Subject .right.> Observer\n",
    "Subject <|.. WeatherData\n",
    "Observer <|.. CurrentConditionsDisplay\n",
    "DisplayElement <|.. CurrentConditionsDisplay\n",
    "CurrentConditionsDisplay -left-> WeatherData\n",
    "interface Subject {\n",
    "    +registerObserver(o:Observer):void\n",
    "    +removeObserver(o:Observer):void\n",
    "    +notifyObservers():void\n",
    "}\n",
    "interface Observer {\n",
    "    +update(temp:float, humidity:float, pressure:float):void\n",
    "}\n",
    "interface DisplayElement {\n",
    "    +display():void\n",
    "}\n",
    "@enduml"
   ]
  },
  {
   "cell_type": "code",
   "execution_count": 2,
   "metadata": {
    "collapsed": false,
    "slideshow": {
     "slide_type": "-"
    }
   },
   "outputs": [
    {
     "data": {
      "image/svg+xml": [
       "<svg height=\"355px\" style=\"width:684px;height:355px;\" version=\"1.1\" viewBox=\"0 0 684 355\" width=\"684px\" xmlns=\"http://www.w3.org/2000/svg\" xmlns:xlink=\"http://www.w3.org/1999/xlink\"><defs><filter height=\"300%\" id=\"f1\" width=\"300%\" x=\"-1\" y=\"-1\"><feGaussianBlur result=\"blurOut\" stdDeviation=\"2.0\"/><feColorMatrix in=\"blurOut\" result=\"blurOut2\" type=\"matrix\" values=\"0 0 0 0 0 0 0 0 0 0 0 0 0 0 0 0 0 0 .4 0\"/><feOffset dx=\"4.0\" dy=\"4.0\" in=\"blurOut2\" result=\"blurOut3\"/><feBlend in=\"SourceGraphic\" in2=\"blurOut3\" mode=\"normal\"/></filter></defs><g><line style=\"stroke: #A80036; stroke-width: 1.0; stroke-dasharray: 5.0,5.0;\" x1=\"70\" x2=\"70\" y1=\"38.2969\" y2=\"317.3594\"/><line style=\"stroke: #A80036; stroke-width: 1.0; stroke-dasharray: 5.0,5.0;\" x1=\"178\" x2=\"178\" y1=\"38.2969\" y2=\"317.3594\"/><line style=\"stroke: #A80036; stroke-width: 1.0; stroke-dasharray: 5.0,5.0;\" x1=\"316\" x2=\"316\" y1=\"38.2969\" y2=\"317.3594\"/><line style=\"stroke: #A80036; stroke-width: 1.0; stroke-dasharray: 5.0,5.0;\" x1=\"508\" x2=\"508\" y1=\"38.2969\" y2=\"317.3594\"/><line style=\"stroke: #A80036; stroke-width: 1.0; stroke-dasharray: 5.0,5.0;\" x1=\"619\" x2=\"619\" y1=\"38.2969\" y2=\"317.3594\"/><rect fill=\"#FEFECE\" filter=\"url(#f1)\" height=\"30.2969\" style=\"stroke: #A80036; stroke-width: 1.5;\" width=\"120\" x=\"8\" y=\"3\"/><text fill=\"#000000\" font-family=\"sans-serif\" font-size=\"14\" lengthAdjust=\"spacingAndGlyphs\" textLength=\"106\" x=\"15\" y=\"22.9951\">WeatherStation</text><rect fill=\"#FEFECE\" filter=\"url(#f1)\" height=\"30.2969\" style=\"stroke: #A80036; stroke-width: 1.5;\" width=\"120\" x=\"8\" y=\"316.3594\"/><text fill=\"#000000\" font-family=\"sans-serif\" font-size=\"14\" lengthAdjust=\"spacingAndGlyphs\" textLength=\"106\" x=\"15\" y=\"336.3545\">WeatherStation</text><rect fill=\"#FEFECE\" filter=\"url(#f1)\" height=\"30.2969\" style=\"stroke: #A80036; stroke-width: 1.5;\" width=\"69\" x=\"142\" y=\"3\"/><text fill=\"#000000\" font-family=\"sans-serif\" font-size=\"14\" lengthAdjust=\"spacingAndGlyphs\" textLength=\"55\" x=\"149\" y=\"22.9951\">ISubject</text><rect fill=\"#FEFECE\" filter=\"url(#f1)\" height=\"30.2969\" style=\"stroke: #A80036; stroke-width: 1.5;\" width=\"69\" x=\"142\" y=\"316.3594\"/><text fill=\"#000000\" font-family=\"sans-serif\" font-size=\"14\" lengthAdjust=\"spacingAndGlyphs\" textLength=\"55\" x=\"149\" y=\"336.3545\">ISubject</text><rect fill=\"#FEFECE\" filter=\"url(#f1)\" height=\"30.2969\" style=\"stroke: #A80036; stroke-width: 1.5;\" width=\"104\" x=\"262\" y=\"3\"/><text fill=\"#000000\" font-family=\"sans-serif\" font-size=\"14\" lengthAdjust=\"spacingAndGlyphs\" textLength=\"90\" x=\"269\" y=\"22.9951\">WeatherData</text><rect fill=\"#FEFECE\" filter=\"url(#f1)\" height=\"30.2969\" style=\"stroke: #A80036; stroke-width: 1.5;\" width=\"104\" x=\"262\" y=\"316.3594\"/><text fill=\"#000000\" font-family=\"sans-serif\" font-size=\"14\" lengthAdjust=\"spacingAndGlyphs\" textLength=\"90\" x=\"269\" y=\"336.3545\">WeatherData</text><rect fill=\"#FEFECE\" filter=\"url(#f1)\" height=\"30.2969\" style=\"stroke: #A80036; stroke-width: 1.5;\" width=\"80\" x=\"466\" y=\"3\"/><text fill=\"#000000\" font-family=\"sans-serif\" font-size=\"14\" lengthAdjust=\"spacingAndGlyphs\" textLength=\"66\" x=\"473\" y=\"22.9951\">IObserver</text><rect fill=\"#FEFECE\" filter=\"url(#f1)\" height=\"30.2969\" style=\"stroke: #A80036; stroke-width: 1.5;\" width=\"80\" x=\"466\" y=\"316.3594\"/><text fill=\"#000000\" font-family=\"sans-serif\" font-size=\"14\" lengthAdjust=\"spacingAndGlyphs\" textLength=\"66\" x=\"473\" y=\"336.3545\">IObserver</text><rect fill=\"#FEFECE\" filter=\"url(#f1)\" height=\"30.2969\" style=\"stroke: #A80036; stroke-width: 1.5;\" width=\"115\" x=\"560\" y=\"3\"/><text fill=\"#000000\" font-family=\"sans-serif\" font-size=\"14\" lengthAdjust=\"spacingAndGlyphs\" textLength=\"101\" x=\"567\" y=\"22.9951\">CurrentDisplay</text><rect fill=\"#FEFECE\" filter=\"url(#f1)\" height=\"30.2969\" style=\"stroke: #A80036; stroke-width: 1.5;\" width=\"115\" x=\"560\" y=\"316.3594\"/><text fill=\"#000000\" font-family=\"sans-serif\" font-size=\"14\" lengthAdjust=\"spacingAndGlyphs\" textLength=\"101\" x=\"567\" y=\"336.3545\">CurrentDisplay</text><polygon fill=\"#A80036\" points=\"304,65.2969,314,69.2969,304,73.2969,308,69.2969\" style=\"stroke: #A80036; stroke-width: 1.0;\"/><line style=\"stroke: #A80036; stroke-width: 1.0;\" x1=\"70\" x2=\"310\" y1=\"69.2969\" y2=\"69.2969\"/><text fill=\"#000000\" font-family=\"sans-serif\" font-size=\"13\" font-weight=\"bold\" lengthAdjust=\"spacingAndGlyphs\" textLength=\"9\" x=\"77\" y=\"64.3638\">1</text><text fill=\"#000000\" font-family=\"sans-serif\" font-size=\"13\" lengthAdjust=\"spacingAndGlyphs\" textLength=\"128\" x=\"90\" y=\"64.3638\">weatherData=new()</text><polygon fill=\"#A80036\" points=\"607.5,94.4297,617.5,98.4297,607.5,102.4297,611.5,98.4297\" style=\"stroke: #A80036; stroke-width: 1.0;\"/><line style=\"stroke: #A80036; stroke-width: 1.0;\" x1=\"70\" x2=\"613.5\" y1=\"98.4297\" y2=\"98.4297\"/><text fill=\"#000000\" font-family=\"sans-serif\" font-size=\"13\" font-weight=\"bold\" lengthAdjust=\"spacingAndGlyphs\" textLength=\"9\" x=\"77\" y=\"93.4966\">2</text><text fill=\"#000000\" font-family=\"sans-serif\" font-size=\"13\" lengthAdjust=\"spacingAndGlyphs\" textLength=\"220\" x=\"90\" y=\"93.4966\">currentDisplay=new(weatherData)</text><polygon fill=\"#A80036\" points=\"304,123.5625,314,127.5625,304,131.5625,308,127.5625\" style=\"stroke: #A80036; stroke-width: 1.0;\"/><line style=\"stroke: #A80036; stroke-width: 1.0;\" x1=\"70\" x2=\"310\" y1=\"127.5625\" y2=\"127.5625\"/><text fill=\"#000000\" font-family=\"sans-serif\" font-size=\"13\" font-weight=\"bold\" lengthAdjust=\"spacingAndGlyphs\" textLength=\"9\" x=\"77\" y=\"122.6294\">3</text><text fill=\"#000000\" font-family=\"sans-serif\" font-size=\"13\" lengthAdjust=\"spacingAndGlyphs\" textLength=\"209\" x=\"90\" y=\"122.6294\">registerObserver(currentDisplay)</text><polygon fill=\"#A80036\" points=\"304,152.6953,314,156.6953,304,160.6953,308,156.6953\" style=\"stroke: #A80036; stroke-width: 1.0;\"/><line style=\"stroke: #A80036; stroke-width: 1.0;\" x1=\"70\" x2=\"310\" y1=\"156.6953\" y2=\"156.6953\"/><text fill=\"#000000\" font-family=\"sans-serif\" font-size=\"13\" font-weight=\"bold\" lengthAdjust=\"spacingAndGlyphs\" textLength=\"9\" x=\"77\" y=\"151.7622\">4</text><text fill=\"#000000\" font-family=\"sans-serif\" font-size=\"13\" lengthAdjust=\"spacingAndGlyphs\" textLength=\"126\" x=\"90\" y=\"151.7622\">setMeasurements()</text><line style=\"stroke: #A80036; stroke-width: 1.0;\" x1=\"316\" x2=\"358\" y1=\"185.9609\" y2=\"185.9609\"/><line style=\"stroke: #A80036; stroke-width: 1.0;\" x1=\"358\" x2=\"358\" y1=\"185.9609\" y2=\"198.9609\"/><line style=\"stroke: #A80036; stroke-width: 1.0;\" x1=\"317\" x2=\"358\" y1=\"198.9609\" y2=\"198.9609\"/><polygon fill=\"#A80036\" points=\"327,194.9609,317,198.9609,327,202.9609,323,198.9609\" style=\"stroke: #A80036; stroke-width: 1.0;\"/><text fill=\"#000000\" font-family=\"sans-serif\" font-size=\"13\" font-weight=\"bold\" lengthAdjust=\"spacingAndGlyphs\" textLength=\"9\" x=\"323\" y=\"180.895\">5</text><text fill=\"#000000\" font-family=\"sans-serif\" font-size=\"13\" lengthAdjust=\"spacingAndGlyphs\" textLength=\"165\" x=\"336\" y=\"180.895\">measurementsChanged()</text><line style=\"stroke: #A80036; stroke-width: 1.0;\" x1=\"316\" x2=\"358\" y1=\"228.0938\" y2=\"228.0938\"/><line style=\"stroke: #A80036; stroke-width: 1.0;\" x1=\"358\" x2=\"358\" y1=\"228.0938\" y2=\"241.0938\"/><line style=\"stroke: #A80036; stroke-width: 1.0;\" x1=\"317\" x2=\"358\" y1=\"241.0938\" y2=\"241.0938\"/><polygon fill=\"#A80036\" points=\"327,237.0938,317,241.0938,327,245.0938,323,241.0938\" style=\"stroke: #A80036; stroke-width: 1.0;\"/><text fill=\"#000000\" font-family=\"sans-serif\" font-size=\"13\" font-weight=\"bold\" lengthAdjust=\"spacingAndGlyphs\" textLength=\"9\" x=\"323\" y=\"223.0278\">6</text><text fill=\"#000000\" font-family=\"sans-serif\" font-size=\"13\" lengthAdjust=\"spacingAndGlyphs\" textLength=\"110\" x=\"336\" y=\"223.0278\">notifyObservers()</text><polygon fill=\"#A80036\" points=\"607.5,266.0938,617.5,270.0938,607.5,274.0938,611.5,270.0938\" style=\"stroke: #A80036; stroke-width: 1.0;\"/><line style=\"stroke: #A80036; stroke-width: 1.0;\" x1=\"316\" x2=\"613.5\" y1=\"270.0938\" y2=\"270.0938\"/><text fill=\"#000000\" font-family=\"sans-serif\" font-size=\"13\" font-weight=\"bold\" lengthAdjust=\"spacingAndGlyphs\" textLength=\"9\" x=\"323\" y=\"265.1606\">7</text><text fill=\"#000000\" font-family=\"sans-serif\" font-size=\"13\" lengthAdjust=\"spacingAndGlyphs\" textLength=\"55\" x=\"336\" y=\"265.1606\">update()</text><polygon fill=\"#A80036\" points=\"327,295.2266,317,299.2266,327,303.2266,323,299.2266\" style=\"stroke: #A80036; stroke-width: 1.0;\"/><line style=\"stroke: #A80036; stroke-width: 1.0;\" x1=\"321\" x2=\"618.5\" y1=\"299.2266\" y2=\"299.2266\"/><text fill=\"#000000\" font-family=\"sans-serif\" font-size=\"13\" font-weight=\"bold\" lengthAdjust=\"spacingAndGlyphs\" textLength=\"9\" x=\"333\" y=\"294.2935\">8</text><text fill=\"#000000\" font-family=\"sans-serif\" font-size=\"13\" lengthAdjust=\"spacingAndGlyphs\" textLength=\"62\" x=\"346\" y=\"294.2935\">getData()</text></g></svg>"
      ],
      "text/plain": [
       "<IPython.core.display.SVG object>"
      ]
     },
     "execution_count": 2,
     "metadata": {},
     "output_type": "execute_result"
    }
   ],
   "source": [
    "%%plantuml\n",
    "\n",
    "@startuml\n",
    "participant WeatherStation\n",
    "participant ISubject\n",
    "participant WeatherData\n",
    "participant IObserver\n",
    "participant CurrentDisplay\n",
    "\n",
    "autonumber\n",
    "WeatherStation -> WeatherData:weatherData=new()\n",
    "WeatherStation -> CurrentDisplay:currentDisplay=new(weatherData)\n",
    "WeatherStation -> WeatherData:registerObserver(currentDisplay)\n",
    "WeatherStation -> WeatherData:setMeasurements()\n",
    "WeatherData -> WeatherData:measurementsChanged()\n",
    "WeatherData -> WeatherData:notifyObservers()\n",
    "WeatherData -> CurrentDisplay:update()\n",
    "CurrentDisplay -> WeatherData:getData()\n",
    "@enduml"
   ]
  },
  {
   "cell_type": "code",
   "execution_count": null,
   "metadata": {
    "collapsed": true,
    "slideshow": {
     "slide_type": "subslide"
    }
   },
   "outputs": [],
   "source": [
    "# %load /Users/media/Code/git/sd/src/headfirst/observer/weather/Subject.java\n",
    "package headfirst.observer.weather;\n",
    "\n",
    "public interface Subject {\n",
    "\tpublic void registerObserver(Observer o);\n",
    "\tpublic void removeObserver(Observer o);\n",
    "\tpublic void notifyObservers();\n",
    "}\n"
   ]
  },
  {
   "cell_type": "code",
   "execution_count": null,
   "metadata": {
    "collapsed": true,
    "slideshow": {
     "slide_type": "subslide"
    }
   },
   "outputs": [],
   "source": [
    "# %load /Users/media/Code/git/sd/src/headfirst/observer/weather/Observer.java\n",
    "package headfirst.observer.weather;\n",
    "\n",
    "public interface Observer {\n",
    "\tpublic void update(float temp, float humidity, float pressure);\n",
    "}\n"
   ]
  },
  {
   "cell_type": "code",
   "execution_count": null,
   "metadata": {
    "collapsed": true
   },
   "outputs": [],
   "source": [
    "* Generic을 정해서 사용할 수 있다.\n",
    "    * ArrayList<Observer> observers;\n",
    "* CurrentConditionsDisplay 생성자에서 Subject WeatherData를 사용하고 있다. 별도의 main함수에서 처리하는 것이 자연스럽다."
   ]
  },
  {
   "cell_type": "code",
   "execution_count": null,
   "metadata": {
    "collapsed": false,
    "slideshow": {
     "slide_type": "subslide"
    }
   },
   "outputs": [],
   "source": [
    "# %load /Users/media/Code/git/sd/src/headfirst/observer/weather/WeatherData.java\n",
    "package headfirst.observer.weather;\n",
    "\n",
    "import java.util.*;\n",
    "\n",
    "public class WeatherData implements Subject {\n",
    "\tprivate ArrayList observers;\n",
    "\tprivate float temperature;\n",
    "\tprivate float humidity;\n",
    "\tprivate float pressure;\n",
    "\t\n",
    "\tpublic WeatherData() {\n",
    "\t\tobservers = new ArrayList();\n",
    "\t}\n",
    "\t\n",
    "\tpublic void registerObserver(Observer o) {\n",
    "\t\tobservers.add(o);\n",
    "\t}\n",
    "\t\n",
    "\tpublic void removeObserver(Observer o) {\n",
    "\t\tint i = observers.indexOf(o);\n",
    "\t\tif (i >= 0) {\n",
    "\t\t\tobservers.remove(i);\n",
    "\t\t}\n",
    "\t}\n",
    "\t\n",
    "\tpublic void notifyObservers() {\n",
    "\t\tfor (int i = 0; i < observers.size(); i++) {\n",
    "\t\t\tObserver observer = (Observer)observers.get(i);\n",
    "\t\t\tobserver.update(temperature, humidity, pressure);\n",
    "\t\t}\n",
    "\t}\n",
    "\t\n",
    "\tpublic void measurementsChanged() {\n",
    "\t\tnotifyObservers();\n",
    "\t}\n",
    "\t\n",
    "\tpublic void setMeasurements(float temperature, float humidity, float pressure) {\n",
    "\t\tthis.temperature = temperature;\n",
    "\t\tthis.humidity = humidity;\n",
    "\t\tthis.pressure = pressure;\n",
    "\t\tmeasurementsChanged();\n",
    "\t}\n",
    "\t\n",
    "\tpublic float getTemperature() {\n",
    "\t\treturn temperature;\n",
    "\t}\n",
    "\t\n",
    "\tpublic float getHumidity() {\n",
    "\t\treturn humidity;\n",
    "\t}\n",
    "\t\n",
    "\tpublic float getPressure() {\n",
    "\t\treturn pressure;\n",
    "\t}\n",
    "}\n"
   ]
  },
  {
   "cell_type": "code",
   "execution_count": null,
   "metadata": {
    "collapsed": true,
    "slideshow": {
     "slide_type": "subslide"
    }
   },
   "outputs": [],
   "source": [
    "# %load /Users/media/Code/git/sd/src/headfirst/observer/weather/CurrentConditionsDisplay.java\n",
    "package headfirst.observer.weather;\n",
    "\t\n",
    "public class CurrentConditionsDisplay implements Observer, DisplayElement {\n",
    "\tprivate float temperature;\n",
    "\tprivate float humidity;\n",
    "\tprivate Subject weatherData;\n",
    "\t\n",
    "\tpublic CurrentConditionsDisplay(Subject weatherData) {\n",
    "\t\tthis.weatherData = weatherData;\n",
    "\t\tweatherData.registerObserver(this);\n",
    "\t}\n",
    "\t\n",
    "\tpublic void update(float temperature, float humidity, float pressure) {\n",
    "\t\tthis.temperature = temperature;\n",
    "\t\tthis.humidity = humidity;\n",
    "\t\tdisplay();\n",
    "\t}\n",
    "\t\n",
    "\tpublic void display() {\n",
    "\t\tSystem.out.println(\"Current conditions: \" + temperature \n",
    "\t\t\t+ \"F degrees and \" + humidity + \"% humidity\");\n",
    "\t}\n",
    "}\n"
   ]
  },
  {
   "cell_type": "code",
   "execution_count": null,
   "metadata": {
    "collapsed": true,
    "slideshow": {
     "slide_type": "subslide"
    }
   },
   "outputs": [],
   "source": [
    "# %load src/headfirst/observer/weather/DisplayElement.java\n",
    "package headfirst.observer.weather;\n",
    "\n",
    "public interface DisplayElement {\n",
    "\tpublic void display();\n",
    "}\n"
   ]
  },
  {
   "cell_type": "code",
   "execution_count": null,
   "metadata": {
    "collapsed": true,
    "slideshow": {
     "slide_type": "subslide"
    }
   },
   "outputs": [],
   "source": [
    "# %load /Users/media/Code/git/sd/src/headfirst/observer/weather/WeatherStation.java\n",
    "package headfirst.observer.weather;\n",
    "\n",
    "import java.util.*;\n",
    "\n",
    "public class WeatherStation {\n",
    "\n",
    "\tpublic static void main(String[] args) {\n",
    "\t\tWeatherData weatherData = new WeatherData();\n",
    "\t\n",
    "\t\tCurrentConditionsDisplay currentDisplay = \n",
    "\t\t\tnew CurrentConditionsDisplay(weatherData);\n",
    "\t\tStatisticsDisplay statisticsDisplay = new StatisticsDisplay(weatherData);\n",
    "\t\tForecastDisplay forecastDisplay = new ForecastDisplay(weatherData);\n",
    "\n",
    "\t\tweatherData.setMeasurements(80, 65, 30.4f);\n",
    "\t\tweatherData.setMeasurements(82, 70, 29.2f);\n",
    "\t\tweatherData.setMeasurements(78, 90, 29.2f);\n",
    "\t}\n",
    "}\n"
   ]
  },
  {
   "cell_type": "code",
   "execution_count": 5,
   "metadata": {
    "collapsed": false,
    "slideshow": {
     "slide_type": "subslide"
    }
   },
   "outputs": [
    {
     "data": {
      "text/plain": [
       "u'/home/jsl/Code/git/bb/sd'"
      ]
     },
     "execution_count": 5,
     "metadata": {},
     "output_type": "execute_result"
    }
   ],
   "source": [
    "%pwd"
   ]
  },
  {
   "cell_type": "code",
   "execution_count": 16,
   "metadata": {
    "collapsed": false,
    "slideshow": {
     "slide_type": "-"
    }
   },
   "outputs": [
    {
     "name": "stdout",
     "output_type": "stream",
     "text": [
      "/Users/media/Code/git/sd\n",
      "javac: file not found: src/headfirst/observer/weather/*.java\n",
      "Usage: javac <options> <source files>\n",
      "use -help for a list of possible options\n",
      "오류: 기본 클래스 headfirst.observer.weather.WeatherStation을(를) 찾거나 로드할 수 없습니다.\n"
     ]
    }
   ],
   "source": [
    "# change to the root directory\n",
    "!javac -d classes/ -sourcepath src src/headfirst/observer/weather/*.java\n",
    "!java -cp classes/ headfirst.observer.weather.WeatherStation"
   ]
  },
  {
   "cell_type": "markdown",
   "metadata": {
    "slideshow": {
     "slide_type": "slide"
    }
   },
   "source": [
    "### O.4.3 거북이\n",
    "\n",
    "#### O.4.3.1 아기 거북이 지켜보기\n",
    "\n",
    "* 내용\n",
    "    * 아기 거북이는 이 곳 저 곳 움직인다.\n",
    "    * 엄마 거북이는 아기 거북이가 어디로 움직이면 알아야 하고, 그 곳으로 가야 한다."
   ]
  },
  {
   "cell_type": "markdown",
   "metadata": {
    "slideshow": {
     "slide_type": "subslide"
    }
   },
   "source": [
    "* 구현 주의:\n",
    "    * java.util의 인터페이스 Observer, 클래스 Observable을 사용한다.\n",
    "    * BayTurtle은 Turtle을 상속받지 않고 구현한다. 다중상속을 사용할 수 없기 때문에 Turtle을 연관관계를 가지고 사용한다.\n",
    "        * 참고: MomTurtle은 Turtle을 상속받는다.\n",
    "    * 자바 java.util.Observable의 setChanged()는 protected로 패키지클래스 및 상속클래스 외에는 이 함수를 사용하지 못하도록 한다.\n",
    "    ```\n",
    "     69     protected void setChanged() {\n",
    "     70         myCurpos=baby.getPos();\n",
    "     71     }\n",
    "    ```\n",
    "\n",
    "    * Observer의 update를 호출할 때, argument에 메시지가 포함된다.\n",
    "        ```\n",
    "         65     public void notifyObservers() {\n",
    "         66         for(Observer o:obs)\n",
    "         67             o.update(this, 1);\n",
    "         68     }\n",
    "         ```"
   ]
  },
  {
   "cell_type": "code",
   "execution_count": 3,
   "metadata": {
    "collapsed": false,
    "slideshow": {
     "slide_type": "subslide"
    }
   },
   "outputs": [
    {
     "data": {
      "image/svg+xml": [
       "<svg height=\"301px\" style=\"width:845px;height:301px;\" version=\"1.1\" viewBox=\"0 0 845 301\" width=\"845px\" xmlns=\"http://www.w3.org/2000/svg\" xmlns:xlink=\"http://www.w3.org/1999/xlink\"><defs><filter height=\"300%\" id=\"f1\" width=\"300%\" x=\"-1\" y=\"-1\"><feGaussianBlur result=\"blurOut\" stdDeviation=\"2.0\"/><feColorMatrix in=\"blurOut\" result=\"blurOut2\" type=\"matrix\" values=\"0 0 0 0 0 0 0 0 0 0 0 0 0 0 0 0 0 0 .4 0\"/><feOffset dx=\"4.0\" dy=\"4.0\" in=\"blurOut2\" result=\"blurOut3\"/><feBlend in=\"SourceGraphic\" in2=\"blurOut3\" mode=\"normal\"/></filter></defs><g><polygon fill=\"#FFFFFF\" filter=\"url(#f1)\" points=\"329,24.5,395,24.5,402,46.7969,838,46.7969,838,174.5,329,174.5,329,24.5\" style=\"stroke: #000000; stroke-width: 2.0;\"/><line style=\"stroke: #000000; stroke-width: 2.0;\" x1=\"329\" x2=\"402\" y1=\"46.7969\" y2=\"46.7969\"/><text fill=\"#000000\" font-family=\"sans-serif\" font-size=\"14\" font-weight=\"bold\" lengthAdjust=\"spacingAndGlyphs\" textLength=\"60\" x=\"333\" y=\"39.4951\">java.util</text><rect fill=\"#FEFECE\" filter=\"url(#f1)\" height=\"60.8047\" style=\"stroke: #A80036; stroke-width: 1.5;\" width=\"229\" x=\"345.5\" y=\"78.5\"/><ellipse cx=\"428.75\" cy=\"94.5\" fill=\"#B4A7E5\" rx=\"11\" ry=\"11\" style=\"stroke: #A80036; stroke-width: 1.0;\"/><path d=\"M424.6719,90.2656 L424.6719,88.1094 L432.0625,88.1094 L432.0625,90.2656 L429.5938,90.2656 L429.5938,98.3438 L432.0625,98.3438 L432.0625,100.5 L424.6719,100.5 L424.6719,98.3438 L427.1406,98.3438 L427.1406,90.2656 L424.6719,90.2656 Z \"/><text fill=\"#000000\" font-family=\"sans-serif\" font-size=\"12\" font-style=\"italic\" lengthAdjust=\"spacingAndGlyphs\" textLength=\"54\" x=\"449.25\" y=\"98.6543\">Observer</text><line style=\"stroke: #A80036; stroke-width: 1.5;\" x1=\"346.5\" x2=\"573.5\" y1=\"110.5\" y2=\"110.5\"/><line style=\"stroke: #A80036; stroke-width: 1.5;\" x1=\"346.5\" x2=\"573.5\" y1=\"118.5\" y2=\"118.5\"/><text fill=\"#000000\" font-family=\"sans-serif\" font-size=\"11\" lengthAdjust=\"spacingAndGlyphs\" textLength=\"217\" x=\"351.5\" y=\"132.7104\">update(o:Observable, arg:Object):void</text><rect fill=\"#FEFECE\" filter=\"url(#f1)\" height=\"99.2188\" style=\"stroke: #A80036; stroke-width: 1.5;\" width=\"213\" x=\"609.5\" y=\"59.5\"/><ellipse cx=\"676.75\" cy=\"75.5\" fill=\"#ADD1B2\" rx=\"11\" ry=\"11\" style=\"stroke: #A80036; stroke-width: 1.0;\"/><path d=\"M679.7188,81.1406 Q679.1406,81.4375 678.5,81.5859 Q677.8594,81.7344 677.1563,81.7344 Q674.6563,81.7344 673.3359,80.0859 Q672.0156,78.4375 672.0156,75.3125 Q672.0156,72.1875 673.3359,70.5313 Q674.6563,68.875 677.1563,68.875 Q677.8594,68.875 678.5078,69.0313 Q679.1563,69.1875 679.7188,69.4844 L679.7188,72.2031 Q679.0938,71.625 678.5,71.3516 Q677.9063,71.0781 677.2813,71.0781 Q675.9375,71.0781 675.25,72.1484 Q674.5625,73.2188 674.5625,75.3125 Q674.5625,77.4063 675.25,78.4766 Q675.9375,79.5469 677.2813,79.5469 Q677.9063,79.5469 678.5,79.2734 Q679.0938,79 679.7188,78.4219 L679.7188,81.1406 Z \"/><text fill=\"#000000\" font-family=\"sans-serif\" font-size=\"12\" lengthAdjust=\"spacingAndGlyphs\" textLength=\"70\" x=\"697.25\" y=\"79.6543\">Observable</text><line style=\"stroke: #A80036; stroke-width: 1.5;\" x1=\"610.5\" x2=\"821.5\" y1=\"91.5\" y2=\"91.5\"/><line style=\"stroke: #A80036; stroke-width: 1.5;\" x1=\"610.5\" x2=\"821.5\" y1=\"99.5\" y2=\"99.5\"/><text fill=\"#000000\" font-family=\"sans-serif\" font-size=\"11\" lengthAdjust=\"spacingAndGlyphs\" textLength=\"173\" x=\"629.5\" y=\"113.7104\">addObserver(o:Observer):void</text><text fill=\"#000000\" font-family=\"sans-serif\" font-size=\"11\" lengthAdjust=\"spacingAndGlyphs\" textLength=\"187\" x=\"629.5\" y=\"126.5151\">deleteObserver(o:Observer):void</text><polygon fill=\"#FFFF44\" points=\"620.5,132.0117,624.5,136.0117,620.5,140.0117,616.5,136.0117\" style=\"stroke: #B38D22; stroke-width: 1.0;\"/><text fill=\"#000000\" font-family=\"sans-serif\" font-size=\"11\" lengthAdjust=\"spacingAndGlyphs\" textLength=\"103\" x=\"629.5\" y=\"139.3198\">setChanged():void</text><text fill=\"#000000\" font-family=\"sans-serif\" font-size=\"11\" lengthAdjust=\"spacingAndGlyphs\" textLength=\"126\" x=\"629.5\" y=\"152.1245\">notifyObservers():void</text><rect fill=\"#FEFECE\" filter=\"url(#f1)\" height=\"150.4375\" style=\"stroke: #A80036; stroke-width: 1.5;\" width=\"304\" x=\"6\" y=\"34\"/><ellipse cx=\"135.75\" cy=\"50\" fill=\"#ADD1B2\" rx=\"11\" ry=\"11\" style=\"stroke: #A80036; stroke-width: 1.0;\"/><path d=\"M138.7188,55.6406 Q138.1406,55.9375 137.5,56.0859 Q136.8594,56.2344 136.1563,56.2344 Q133.6563,56.2344 132.3359,54.5859 Q131.0156,52.9375 131.0156,49.8125 Q131.0156,46.6875 132.3359,45.0313 Q133.6563,43.375 136.1563,43.375 Q136.8594,43.375 137.5078,43.5313 Q138.1563,43.6875 138.7188,43.9844 L138.7188,46.7031 Q138.0938,46.125 137.5,45.8516 Q136.9063,45.5781 136.2813,45.5781 Q134.9375,45.5781 134.25,46.6484 Q133.5625,47.7188 133.5625,49.8125 Q133.5625,51.9063 134.25,52.9766 Q134.9375,54.0469 136.2813,54.0469 Q136.9063,54.0469 137.5,53.7734 Q138.0938,53.5 138.7188,52.9219 L138.7188,55.6406 Z \"/><text fill=\"#000000\" font-family=\"sans-serif\" font-size=\"12\" lengthAdjust=\"spacingAndGlyphs\" textLength=\"36\" x=\"156.25\" y=\"54.1543\">Turtle</text><line style=\"stroke: #A80036; stroke-width: 1.5;\" x1=\"7\" x2=\"309\" y1=\"66\" y2=\"66\"/><line style=\"stroke: #A80036; stroke-width: 1.5;\" x1=\"7\" x2=\"309\" y1=\"74\" y2=\"74\"/><ellipse cx=\"17\" cy=\"85.9023\" fill=\"#84BE84\" rx=\"3\" ry=\"3\" style=\"stroke: #038048; stroke-width: 1.0;\"/><text fill=\"#000000\" font-family=\"sans-serif\" font-size=\"11\" lengthAdjust=\"spacingAndGlyphs\" textLength=\"148\" x=\"26\" y=\"88.2104\">bk(distance:double):Turtle</text><ellipse cx=\"17\" cy=\"98.707\" fill=\"#84BE84\" rx=\"3\" ry=\"3\" style=\"stroke: #038048; stroke-width: 1.0;\"/><text fill=\"#000000\" font-family=\"sans-serif\" font-size=\"11\" lengthAdjust=\"spacingAndGlyphs\" textLength=\"146\" x=\"26\" y=\"101.0151\">fd(distance:double):Turtle</text><ellipse cx=\"17\" cy=\"111.5117\" fill=\"#84BE84\" rx=\"3\" ry=\"3\" style=\"stroke: #038048; stroke-width: 1.0;\"/><text fill=\"#000000\" font-family=\"sans-serif\" font-size=\"11\" lengthAdjust=\"spacingAndGlyphs\" textLength=\"152\" x=\"26\" y=\"113.8198\">left(degrees:double):Turtle</text><ellipse cx=\"17\" cy=\"124.3164\" fill=\"#84BE84\" rx=\"3\" ry=\"3\" style=\"stroke: #038048; stroke-width: 1.0;\"/><text fill=\"#000000\" font-family=\"sans-serif\" font-size=\"11\" lengthAdjust=\"spacingAndGlyphs\" textLength=\"160\" x=\"26\" y=\"126.6245\">right(degrees:double):Turtle</text><ellipse cx=\"17\" cy=\"137.1211\" fill=\"#84BE84\" rx=\"3\" ry=\"3\" style=\"stroke: #038048; stroke-width: 1.0;\"/><text fill=\"#000000\" font-family=\"sans-serif\" font-size=\"11\" lengthAdjust=\"spacingAndGlyphs\" textLength=\"81\" x=\"26\" y=\"139.4292\">penUp():Turtle</text><ellipse cx=\"17\" cy=\"149.9258\" fill=\"#84BE84\" rx=\"3\" ry=\"3\" style=\"stroke: #038048; stroke-width: 1.0;\"/><text fill=\"#000000\" font-family=\"sans-serif\" font-size=\"11\" lengthAdjust=\"spacingAndGlyphs\" textLength=\"97\" x=\"26\" y=\"152.2339\">penDown():Turtle</text><ellipse cx=\"17\" cy=\"162.7305\" fill=\"#84BE84\" rx=\"3\" ry=\"3\" style=\"stroke: #038048; stroke-width: 1.0;\"/><text fill=\"#000000\" font-family=\"sans-serif\" font-size=\"11\" lengthAdjust=\"spacingAndGlyphs\" textLength=\"190\" x=\"26\" y=\"165.0386\">moveTo(x:double,y:double):Turtle</text><ellipse cx=\"17\" cy=\"175.5352\" fill=\"#84BE84\" rx=\"3\" ry=\"3\" style=\"stroke: #038048; stroke-width: 1.0;\"/><text fill=\"#000000\" font-family=\"sans-serif\" font-size=\"11\" lengthAdjust=\"spacingAndGlyphs\" textLength=\"278\" x=\"26\" y=\"177.8433\">moveTo(pt:java.awt.geom.Point2D.Double):Turtle</text><rect fill=\"#FEFECE\" filter=\"url(#f1)\" height=\"48\" style=\"stroke: #A80036; stroke-width: 1.5;\" width=\"97\" x=\"260.5\" y=\"244\"/><ellipse cx=\"275.5\" cy=\"260\" fill=\"#ADD1B2\" rx=\"11\" ry=\"11\" style=\"stroke: #A80036; stroke-width: 1.0;\"/><path d=\"M278.4688,265.6406 Q277.8906,265.9375 277.25,266.0859 Q276.6094,266.2344 275.9063,266.2344 Q273.4063,266.2344 272.0859,264.5859 Q270.7656,262.9375 270.7656,259.8125 Q270.7656,256.6875 272.0859,255.0313 Q273.4063,253.375 275.9063,253.375 Q276.6094,253.375 277.2578,253.5313 Q277.9063,253.6875 278.4688,253.9844 L278.4688,256.7031 Q277.8438,256.125 277.25,255.8516 Q276.6563,255.5781 276.0313,255.5781 Q274.6875,255.5781 274,256.6484 Q273.3125,257.7188 273.3125,259.8125 Q273.3125,261.9063 274,262.9766 Q274.6875,264.0469 276.0313,264.0469 Q276.6563,264.0469 277.25,263.7734 Q277.8438,263.5 278.4688,262.9219 L278.4688,265.6406 Z \"/><text fill=\"#000000\" font-family=\"sans-serif\" font-size=\"12\" lengthAdjust=\"spacingAndGlyphs\" textLength=\"65\" x=\"289.5\" y=\"264.1543\">MomTurtle</text><line style=\"stroke: #A80036; stroke-width: 1.5;\" x1=\"261.5\" x2=\"356.5\" y1=\"276\" y2=\"276\"/><line style=\"stroke: #A80036; stroke-width: 1.5;\" x1=\"261.5\" x2=\"356.5\" y1=\"284\" y2=\"284\"/><rect fill=\"#FEFECE\" filter=\"url(#f1)\" height=\"48\" style=\"stroke: #A80036; stroke-width: 1.5;\" width=\"98\" x=\"667\" y=\"244\"/><ellipse cx=\"682\" cy=\"260\" fill=\"#ADD1B2\" rx=\"11\" ry=\"11\" style=\"stroke: #A80036; stroke-width: 1.0;\"/><path d=\"M684.9688,265.6406 Q684.3906,265.9375 683.75,266.0859 Q683.1094,266.2344 682.4063,266.2344 Q679.9063,266.2344 678.5859,264.5859 Q677.2656,262.9375 677.2656,259.8125 Q677.2656,256.6875 678.5859,255.0313 Q679.9063,253.375 682.4063,253.375 Q683.1094,253.375 683.7578,253.5313 Q684.4063,253.6875 684.9688,253.9844 L684.9688,256.7031 Q684.3438,256.125 683.75,255.8516 Q683.1563,255.5781 682.5313,255.5781 Q681.1875,255.5781 680.5,256.6484 Q679.8125,257.7188 679.8125,259.8125 Q679.8125,261.9063 680.5,262.9766 Q681.1875,264.0469 682.5313,264.0469 Q683.1563,264.0469 683.75,263.7734 Q684.3438,263.5 684.9688,262.9219 L684.9688,265.6406 Z \"/><text fill=\"#000000\" font-family=\"sans-serif\" font-size=\"12\" lengthAdjust=\"spacingAndGlyphs\" textLength=\"66\" x=\"696\" y=\"264.1543\">BaybTurtle</text><line style=\"stroke: #A80036; stroke-width: 1.5;\" x1=\"668\" x2=\"764\" y1=\"276\" y2=\"276\"/><line style=\"stroke: #A80036; stroke-width: 1.5;\" x1=\"668\" x2=\"764\" y1=\"284\" y2=\"284\"/><path d=\"M243.602,199.0031 C259.53,215.5639 274.847,231.4897 286.648,243.7602 \" fill=\"none\" style=\"stroke: #A80036; stroke-width: 1.0;\"/><polygon fill=\"none\" points=\"238.339,203.6294,229.52,184.362,248.429,193.9246,238.339,203.6294\" style=\"stroke: #A80036; stroke-width: 1.0;\"/><path d=\"M417.363,154.332 C389.398,183.407 353.96,220.2532 331.377,243.7338 \" fill=\"none\" style=\"stroke: #A80036; stroke-width: 1.0; stroke-dasharray: 7.0,7.0;\"/><polygon fill=\"none\" points=\"412.689,149.093,431.598,139.53,422.779,158.798,412.689,149.093\" style=\"stroke: #A80036; stroke-width: 1.0;\"/><path d=\"M716,179.097 C716,202.2465 716,226.5034 716,243.6571 \" fill=\"none\" style=\"stroke: #A80036; stroke-width: 1.0; stroke-dasharray: 7.0,7.0;\"/><polygon fill=\"none\" points=\"709,178.815,716,158.815,723,178.815,709,178.815\" style=\"stroke: #A80036; stroke-width: 1.0;\"/></g></svg>"
      ],
      "text/plain": [
       "<IPython.core.display.SVG object>"
      ]
     },
     "execution_count": 3,
     "metadata": {},
     "output_type": "execute_result"
    }
   ],
   "source": [
    "%%plantuml\n",
    "\n",
    "@startuml\n",
    "interface java.util.Observer {\n",
    "    update(o:Observable, arg:Object):void\n",
    "}\n",
    "class java.util.Observable {\n",
    "    addObserver(o:Observer):void\n",
    "    deleteObserver(o:Observer):void\n",
    "    #setChanged():void\n",
    "    notifyObservers():void\n",
    "}\n",
    "\n",
    "class Turtle {\n",
    "    +bk(distance:double):Turtle\n",
    "    +fd(distance:double):Turtle\n",
    "    +left(degrees:double):Turtle\n",
    "    +right(degrees:double):Turtle\n",
    "    +penUp():Turtle\n",
    "    +penDown():Turtle\n",
    "    +getPos():java.awt.geom.Point2D.Double\n",
    "    +moveTo(x:double,y:double):Turtle\n",
    "    +moveTo(pt:java.awt.geom.Point2D.Double):Turtle\n",
    "}\n",
    "Turtle <|-- MomTurtle\n",
    "java.util.Observer <|.. MomTurtle\n",
    "java.util.Observable <|.. BaybTurtle\n",
    "@enduml"
   ]
  },
  {
   "cell_type": "code",
   "execution_count": null,
   "metadata": {
    "collapsed": true,
    "slideshow": {
     "slide_type": "subslide"
    }
   },
   "outputs": [],
   "source": [
    "# %load /Users/media/Code/git/sd/src/com/sd/turtle/TurtleObserverMain.java\n",
    "/* \n",
    " * @author jsl\n",
    " * @since 20160310\n",
    " * Demonstrate the Observable class and the Observer interface. \n",
    " * The MomTurtle observes and moves to the position of the BabyTurtle.\n",
    " * 1) mom moves and baby also moves\n",
    " * 2) baby's notification is set on to let mom know\n",
    "*/ \n",
    "\n",
    "package com.sd.turtle;\n",
    "\n",
    "import java.util.Observer;\n",
    "import java.util.Observable;\n",
    "import java.util.ArrayList;\n",
    "import java.awt.geom.Point2D.Double;\n",
    "import java.awt.Color;\n",
    "import ch.aplu.turtle.*;\n",
    "\n",
    "public class TurtleObserverMain {\n",
    "    public static void main(String[] args) {\n",
    "        System.out.println(\"--Observer pattern demo\");\n",
    "        //turtle subject\n",
    "        BabyTurtle baby=new BabyTurtle();\n",
    "        //turtle observer\n",
    "        MomTurtle mom=new MomTurtle();\n",
    "        baby.addObserver(mom);\n",
    "        //mom goes to somewhere\n",
    "        mom.moveTo(100,100);\n",
    "        //baby moves and let mom know it\n",
    "        baby.move(100,-100);\n",
    "        //protected method -> others can not set any changes\n",
    "        baby.setChanged();\n",
    "        baby.notifyObservers();\n",
    "    }\n",
    "}\n",
    "\n",
    "class MomTurtle extends Turtle implements Observer {\n",
    "    Double babyCurpos;\n",
    "    public MomTurtle() {\n",
    "        setColor(Color.red);\n",
    "        label(\"mom turtle\");\n",
    "    }\n",
    "    public void update(Observable o, Object arg) {\n",
    "        System.out.println(\"update() called, count is \" + ((Integer)arg).intValue()); \n",
    "        babyCurpos=((BabyTurtle)o).myCurpos;\n",
    "        System.out.println(\"current pos\" + babyCurpos);\n",
    "        moveTo(babyCurpos);\n",
    "    }\n",
    "}\n",
    "\n",
    "//BayTurtle did not inherit Turtle\n",
    "//because multiple inheritance is not allowed in java\n",
    "class BabyTurtle extends Observable {\n",
    "    Turtle baby;\n",
    "    Double myCurpos;\n",
    "    ArrayList<Observer> obs;\n",
    "    public BabyTurtle() {\n",
    "        baby = new Turtle();\n",
    "        myCurpos=baby.getPos();\n",
    "        obs=new ArrayList<Observer>();\n",
    "    }\n",
    "    public void addObserver(Observer o) {\n",
    "        obs.add(o);\n",
    "    }\n",
    "    public void notifyObservers() {\n",
    "        for(Observer o:obs)\n",
    "            o.update(this, 1);\n",
    "    }\n",
    "    protected void setChanged() {\n",
    "        myCurpos=baby.getPos();\n",
    "    }\n",
    "    public void move(int x, int y) {\n",
    "        baby.moveTo(x,y);\n",
    "    }\n",
    "}\n"
   ]
  },
  {
   "cell_type": "code",
   "execution_count": null,
   "metadata": {
    "collapsed": true,
    "slideshow": {
     "slide_type": "subslide"
    }
   },
   "outputs": [],
   "source": [
    "!javac -d classes/ -cp lib/aplu5.jar:classes/ -sourcepath src/ src/com/sd/turtle/TurtleObserverMain.java \n",
    "!java -cp lib/aplu5.jar:classes/ com.sd.turtle.TurtleObserverMain"
   ]
  },
  {
   "cell_type": "markdown",
   "metadata": {
    "slideshow": {
     "slide_type": "slide"
    }
   },
   "source": [
    "#### O.4.3.2 거북이 키/마우스로 움직이기\n",
    "\n",
    "* 키보드/ 마우스에 이벤트가 발생하면 거북이를 움직인다.\n",
    "* Observer패턴을 사용한다.\n",
    "* KeyAdapter, MouseAdapter, MouseMotionAdapter를 사용한다.\n"
   ]
  }
 ],
 "metadata": {
  "celltoolbar": "Slideshow",
  "kernelspec": {
   "display_name": "Python 2",
   "language": "python",
   "name": "python2"
  },
  "language_info": {
   "codemirror_mode": {
    "name": "ipython",
    "version": 2
   },
   "file_extension": ".py",
   "mimetype": "text/x-python",
   "name": "python",
   "nbconvert_exporter": "python",
   "pygments_lexer": "ipython2",
   "version": "2.7.12"
  }
 },
 "nbformat": 4,
 "nbformat_minor": 0
}
